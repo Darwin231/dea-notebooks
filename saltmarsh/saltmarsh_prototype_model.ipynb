{
 "cells": [
  {
   "cell_type": "markdown",
   "id": "84cfbb28-a959-4d85-9bff-eb827542fe76",
   "metadata": {},
   "source": [
    "# Prototype Aus-wide saltmarsh"
   ]
  },
  {
   "cell_type": "code",
   "execution_count": 1,
   "id": "c9141795-c4bd-4a49-b53b-d53b3599f2e1",
   "metadata": {},
   "outputs": [
    {
     "name": "stdout",
     "output_type": "stream",
     "text": [
      "ncpus = 15\n"
     ]
    }
   ],
   "source": [
    "# load imports/set up\n",
    "%run 'saltmarsh_prototype_imports.ipynb'"
   ]
  },
  {
   "cell_type": "markdown",
   "id": "b08a3bbe-a9f5-4be8-a2e1-a0af15088530",
   "metadata": {},
   "source": [
    "## Model fitting\n",
    "\n",
    "- for the moment just fit the model to all the data\n",
    "- eventually this will be a more comprehensive evaluatiion + cross-val"
   ]
  },
  {
   "cell_type": "markdown",
   "id": "b7096e85-4e84-411d-8791-b5fce938ddb3",
   "metadata": {},
   "source": [
    "### Load the training data"
   ]
  },
  {
   "cell_type": "code",
   "execution_count": 2,
   "id": "5abf3280-759a-4a28-ac4c-fcb0a1a4f91c",
   "metadata": {},
   "outputs": [
    {
     "name": "stdout",
     "output_type": "stream",
     "text": [
      "['site', 'nbart_coastal_aerosol', 'nbart_blue', 'nbart_green', 'nbart_red', 'nbart_nir', 'nbart_swir_1', 'nbart_coastal_aerosol_std', 'nbart_blue_std', 'nbart_green_std', 'nbart_red_std', 'nbart_nir_std', 'nbart_swir_1_std', 'NDVI', 'NDWI', 'DateEnd', 'Class', 'DateSta', 'wetland']\n"
     ]
    }
   ],
   "source": [
    "# training data file path\n",
    "training_data = \"training_data/prelim_covariate_data.txt\"\n",
    "\n",
    "# load the data\n",
    "model_input = np.loadtxt(training_data)\n",
    "\n",
    "# load the column_names\n",
    "with open(training_data, 'r') as file:\n",
    "    header = file.readline()\n",
    "\n",
    "column_names = header.split()[1:]\n",
    "print(column_names)"
   ]
  },
  {
   "cell_type": "markdown",
   "id": "ff991663-c96e-491d-807c-99f84006da8c",
   "metadata": {},
   "source": [
    "### Create the model data, and the wetland/ecosystem type labels"
   ]
  },
  {
   "cell_type": "code",
   "execution_count": 3,
   "id": "3e338100-e48c-4f2c-82d8-8111e4c831fb",
   "metadata": {},
   "outputs": [
    {
     "name": "stdout",
     "output_type": "stream",
     "text": [
      "Using covariates:\n",
      "['nbart_coastal_aerosol', 'nbart_blue', 'nbart_green', 'nbart_red', 'nbart_nir', 'nbart_swir_1', 'nbart_coastal_aerosol_std', 'nbart_blue_std', 'nbart_green_std', 'nbart_red_std', 'nbart_nir_std', 'nbart_swir_1_std', 'NDVI', 'NDWI']\n",
      "Model covariates peak:\n",
      "[[ 5.72000000e+02  5.78000000e+02  7.10000000e+02  6.91000000e+02\n",
      "   2.40500000e+03  2.04900000e+03  1.92928852e+03  1.96933013e+03\n",
      "   1.92294453e+03  1.98098431e+03  1.54302014e+03  9.04068940e+02\n",
      "   5.53618000e-01 -5.44141000e-01]\n",
      " [ 7.34000000e+02  8.01000000e+02  9.63000000e+02  9.84000000e+02\n",
      "   2.82800000e+03  2.15000000e+03  1.59642596e+03  1.59729887e+03\n",
      "   1.54076170e+03  1.55026363e+03  1.06719962e+03  7.28462540e+02\n",
      "   4.83736000e-01 -4.91955000e-01]]\n",
      "Unique y values:\n",
      "[0. 1.]\n",
      "Unique y values:\n",
      "[ 0.  1.  5.  6.  9. 11.]\n"
     ]
    }
   ],
   "source": [
    "# Extract relevant indices from training data\n",
    "# Do this manually to allow for various other inputs in the trianing data/covariate data exports\n",
    "covars_to_use = ['nbart_coastal_aerosol', 'nbart_blue', 'nbart_green', 'nbart_red', 'nbart_nir', 'nbart_swir_1',\n",
    "                 'nbart_coastal_aerosol_std', 'nbart_blue_std', 'nbart_green_std', 'nbart_red_std', 'nbart_nir_std', 'nbart_swir_1_std', \n",
    "                 'NDVI', 'NDWI']\n",
    "print('Using covariates:')\n",
    "print(covars_to_use)\n",
    "\n",
    "model_col_indices = [\n",
    "    column_names.index(var_name) for var_name in covars_to_use\n",
    "]\n",
    "\n",
    "# convert variable names into sci-kit learn nomenclature\n",
    "X = model_input[:, model_col_indices]\n",
    "y_wetland = model_input[:, column_names.index('wetland')]\n",
    "y_ecosystem = model_input[:, column_names.index('Class')]\n",
    "\n",
    "print('Model covariates peak:')\n",
    "print(X[0:2,])\n",
    "print('Unique y values:')\n",
    "print(np.unique(y_wetland))\n",
    "print('Unique y values:')\n",
    "print(np.unique(y_ecosystem))"
   ]
  },
  {
   "cell_type": "markdown",
   "id": "fa575c69-2b36-4a7e-b4d9-c379e3cdbd1e",
   "metadata": {},
   "source": [
    "### Fit the models"
   ]
  },
  {
   "cell_type": "code",
   "execution_count": 4,
   "id": "e18efe68-bb80-47f0-8d4f-737e410bc2f9",
   "metadata": {},
   "outputs": [
    {
     "name": "stdout",
     "output_type": "stream",
     "text": [
      "0.9954389965792474\n",
      "[0. 0. 0. 0. 0. 0. 0. 0. 0. 0. 0. 0. 0. 0. 0. 0. 0. 0. 0. 0.]\n",
      "[[0.84299524 0.15700476]\n",
      " [0.64609048 0.35390952]\n",
      " [0.8508     0.1492    ]\n",
      " [0.62092619 0.37907381]\n",
      " [0.7904     0.2096    ]\n",
      " [0.92433333 0.07566667]\n",
      " [0.98223333 0.01776667]\n",
      " [0.84042381 0.15957619]\n",
      " [0.9612619  0.0387381 ]\n",
      " [0.91420952 0.08579048]\n",
      " [0.94076667 0.05923333]\n",
      " [0.70252857 0.29747143]\n",
      " [0.98616667 0.01383333]\n",
      " [0.93085238 0.06914762]\n",
      " [0.68838571 0.31161429]\n",
      " [0.90185238 0.09814762]\n",
      " [0.94903333 0.05096667]\n",
      " [0.91212857 0.08787143]\n",
      " [0.64089048 0.35910952]\n",
      " [0.9116     0.0884    ]]\n",
      "0.9897377423033067\n",
      "[ 0.  0.  0.  0.  0.  0.  0.  0.  0.  0.  0.  0.  0.  0.  0.  0.  0.  0.\n",
      "  0.  0.  0.  0.  0.  0.  0.  0.  0.  0.  0.  0.  0.  0.  0.  0. 11.  0.\n",
      "  0.  0.  0.  0.  0.  0.  0.  0.  0.  0.  0.  0.  0.  0.]\n",
      "[[8.35754762e-01 0.00000000e+00 1.64245238e-01 0.00000000e+00\n",
      "  0.00000000e+00 0.00000000e+00]\n",
      " [6.18109524e-01 1.33333333e-03 3.58790476e-01 0.00000000e+00\n",
      "  3.00000000e-03 1.87666667e-02]\n",
      " [7.94183333e-01 0.00000000e+00 2.04245238e-01 0.00000000e+00\n",
      "  0.00000000e+00 1.57142857e-03]\n",
      " [6.41716667e-01 7.66666667e-03 3.23783333e-01 0.00000000e+00\n",
      "  1.66666667e-03 2.51666667e-02]\n",
      " [8.18528571e-01 0.00000000e+00 1.77671429e-01 0.00000000e+00\n",
      "  0.00000000e+00 3.80000000e-03]\n",
      " [9.21790476e-01 0.00000000e+00 7.72095238e-02 0.00000000e+00\n",
      "  0.00000000e+00 1.00000000e-03]\n",
      " [9.74966667e-01 0.00000000e+00 2.50333333e-02 0.00000000e+00\n",
      "  0.00000000e+00 0.00000000e+00]\n",
      " [7.92544444e-01 0.00000000e+00 1.60933333e-01 1.38888889e-02\n",
      "  1.98000000e-02 1.28333333e-02]\n",
      " [9.51921429e-01 0.00000000e+00 4.50785714e-02 0.00000000e+00\n",
      "  0.00000000e+00 3.00000000e-03]\n",
      " [9.18966667e-01 0.00000000e+00 7.29000000e-02 0.00000000e+00\n",
      "  6.66666667e-04 7.46666667e-03]\n",
      " [9.59883333e-01 0.00000000e+00 3.94500000e-02 0.00000000e+00\n",
      "  0.00000000e+00 6.66666667e-04]\n",
      " [7.00314286e-01 1.40000000e-03 1.58671429e-01 0.00000000e+00\n",
      "  0.00000000e+00 1.39614286e-01]\n",
      " [9.83000000e-01 0.00000000e+00 1.70000000e-02 0.00000000e+00\n",
      "  0.00000000e+00 0.00000000e+00]\n",
      " [9.12642857e-01 0.00000000e+00 8.39238095e-02 0.00000000e+00\n",
      "  0.00000000e+00 3.43333333e-03]\n",
      " [6.36704762e-01 0.00000000e+00 3.36795238e-01 1.00000000e-03\n",
      "  0.00000000e+00 2.55000000e-02]\n",
      " [9.07738095e-01 0.00000000e+00 8.82952381e-02 0.00000000e+00\n",
      "  0.00000000e+00 3.96666667e-03]\n",
      " [9.45266667e-01 0.00000000e+00 5.02333333e-02 0.00000000e+00\n",
      "  0.00000000e+00 4.50000000e-03]\n",
      " [9.18333333e-01 0.00000000e+00 8.16666667e-02 0.00000000e+00\n",
      "  0.00000000e+00 0.00000000e+00]\n",
      " [7.36152381e-01 0.00000000e+00 2.63847619e-01 0.00000000e+00\n",
      "  0.00000000e+00 0.00000000e+00]\n",
      " [9.04823810e-01 0.00000000e+00 9.41761905e-02 0.00000000e+00\n",
      "  1.00000000e-03 0.00000000e+00]\n",
      " [6.65152381e-01 0.00000000e+00 3.17114286e-01 0.00000000e+00\n",
      "  6.66666667e-04 1.70666667e-02]\n",
      " [8.06926190e-01 0.00000000e+00 1.80990476e-01 7.50000000e-04\n",
      "  1.50000000e-03 9.83333333e-03]\n",
      " [9.19866667e-01 8.00000000e-04 7.27000000e-02 0.00000000e+00\n",
      "  5.23333333e-03 1.40000000e-03]\n",
      " [6.39952381e-01 0.00000000e+00 3.55714286e-01 0.00000000e+00\n",
      "  0.00000000e+00 4.33333333e-03]\n",
      " [6.29366667e-01 0.00000000e+00 3.62466667e-01 0.00000000e+00\n",
      "  0.00000000e+00 8.16666667e-03]\n",
      " [7.27485714e-01 0.00000000e+00 2.61880952e-01 0.00000000e+00\n",
      "  2.66666667e-03 7.96666667e-03]\n",
      " [9.54833333e-01 0.00000000e+00 3.55333333e-02 0.00000000e+00\n",
      "  0.00000000e+00 9.63333333e-03]\n",
      " [9.66466667e-01 0.00000000e+00 3.20333333e-02 0.00000000e+00\n",
      "  5.00000000e-04 1.00000000e-03]\n",
      " [9.82733333e-01 0.00000000e+00 1.62666667e-02 0.00000000e+00\n",
      "  0.00000000e+00 1.00000000e-03]\n",
      " [9.78966667e-01 0.00000000e+00 2.10333333e-02 0.00000000e+00\n",
      "  0.00000000e+00 0.00000000e+00]\n",
      " [9.74833333e-01 0.00000000e+00 2.08333333e-02 0.00000000e+00\n",
      "  0.00000000e+00 4.33333333e-03]\n",
      " [9.71000000e-01 0.00000000e+00 2.66666667e-02 0.00000000e+00\n",
      "  1.66666667e-03 6.66666667e-04]\n",
      " [6.04642857e-01 0.00000000e+00 7.10380952e-02 0.00000000e+00\n",
      "  0.00000000e+00 3.24319048e-01]\n",
      " [9.75100000e-01 0.00000000e+00 2.35666667e-02 0.00000000e+00\n",
      "  0.00000000e+00 1.33333333e-03]\n",
      " [3.73347619e-01 9.56333333e-02 2.78000000e-02 6.08666667e-02\n",
      "  6.60809524e-02 3.76271429e-01]\n",
      " [8.81980952e-01 0.00000000e+00 1.13085714e-01 0.00000000e+00\n",
      "  0.00000000e+00 4.93333333e-03]\n",
      " [6.83438095e-01 0.00000000e+00 3.06495238e-01 0.00000000e+00\n",
      "  5.00000000e-04 9.56666667e-03]\n",
      " [9.57400000e-01 0.00000000e+00 3.68000000e-02 0.00000000e+00\n",
      "  0.00000000e+00 5.80000000e-03]\n",
      " [9.59466667e-01 0.00000000e+00 3.79333333e-02 0.00000000e+00\n",
      "  0.00000000e+00 2.60000000e-03]\n",
      " [9.19400000e-01 0.00000000e+00 7.79333333e-02 0.00000000e+00\n",
      "  1.00000000e-03 1.66666667e-03]\n",
      " [7.28004762e-01 0.00000000e+00 1.85728571e-01 0.00000000e+00\n",
      "  0.00000000e+00 8.62666667e-02]\n",
      " [8.43626190e-01 0.00000000e+00 1.52207143e-01 0.00000000e+00\n",
      "  2.50000000e-03 1.66666667e-03]\n",
      " [9.11442857e-01 0.00000000e+00 8.58904762e-02 0.00000000e+00\n",
      "  1.50000000e-03 1.16666667e-03]\n",
      " [8.38500000e-01 8.57142857e-04 1.51976190e-01 0.00000000e+00\n",
      "  0.00000000e+00 8.66666667e-03]\n",
      " [8.45728571e-01 0.00000000e+00 1.44104762e-01 0.00000000e+00\n",
      "  1.00000000e-03 9.16666667e-03]\n",
      " [9.44233333e-01 5.00000000e-04 5.36666667e-02 0.00000000e+00\n",
      "  0.00000000e+00 1.60000000e-03]\n",
      " [9.43085714e-01 0.00000000e+00 1.10666667e-02 0.00000000e+00\n",
      "  0.00000000e+00 4.58476190e-02]\n",
      " [8.76852381e-01 0.00000000e+00 9.04476190e-02 0.00000000e+00\n",
      "  4.33333333e-03 2.83666667e-02]\n",
      " [9.15909524e-01 0.00000000e+00 7.56238095e-02 0.00000000e+00\n",
      "  0.00000000e+00 8.46666667e-03]\n",
      " [8.46253968e-01 0.00000000e+00 1.27957143e-01 2.55555556e-03\n",
      "  6.80000000e-03 1.64333333e-02]]\n"
     ]
    }
   ],
   "source": [
    "# wetland model\n",
    "wetland_rf = RandomForestClassifier(n_estimators=500, criterion='gini', min_samples_split=2, min_samples_leaf=2, max_features=\"sqrt\", n_jobs=ncpus)\n",
    "wetland_rf.fit(X, y_wetland)\n",
    "print(wetland_rf.score(X, y_wetland))\n",
    "print(wetland_rf.predict(X[0:20,]))\n",
    "print(wetland_rf.predict_proba(X[0:20,]))\n",
    "\n",
    "# ecosystem model\n",
    "ecosystem_rf = RandomForestClassifier(n_estimators=500, criterion='gini', min_samples_split=2, min_samples_leaf=2, max_features=\"sqrt\", n_jobs=ncpus)\n",
    "ecosystem_rf.fit(X, y_ecosystem)\n",
    "print(ecosystem_rf.score(X, y_ecosystem))\n",
    "print(ecosystem_rf.predict(X[0:50,]))\n",
    "print(ecosystem_rf.predict_proba(X[0:50,]))\n"
   ]
  },
  {
   "cell_type": "code",
   "execution_count": 5,
   "id": "64f59019-d3e2-481d-ba9b-a2ecc36a785f",
   "metadata": {},
   "outputs": [
    {
     "data": {
      "text/plain": [
       "['models/prelim_ecosystem_model.joblib']"
      ]
     },
     "execution_count": 5,
     "metadata": {},
     "output_type": "execute_result"
    }
   ],
   "source": [
    "# save the models\n",
    "joblib.dump(wetland_rf, 'models/prelim_wetland_model.joblib')\n",
    "joblib.dump(ecosystem_rf, 'models/prelim_ecosystem_model.joblib')"
   ]
  },
  {
   "cell_type": "code",
   "execution_count": null,
   "id": "569deec9-1900-4701-aff4-0567cb5726b2",
   "metadata": {},
   "outputs": [],
   "source": []
  }
 ],
 "metadata": {
  "kernelspec": {
   "display_name": "Python 3 (ipykernel)",
   "language": "python",
   "name": "python3"
  },
  "language_info": {
   "codemirror_mode": {
    "name": "ipython",
    "version": 3
   },
   "file_extension": ".py",
   "mimetype": "text/x-python",
   "name": "python",
   "nbconvert_exporter": "python",
   "pygments_lexer": "ipython3",
   "version": "3.8.10"
  }
 },
 "nbformat": 4,
 "nbformat_minor": 5
}
