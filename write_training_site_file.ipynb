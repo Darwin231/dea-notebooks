{
 "cells": [
  {
   "cell_type": "code",
   "execution_count": 11,
   "id": "648ddf35-48f2-4cd4-9d04-6f8fa9c26506",
   "metadata": {},
   "outputs": [],
   "source": [
    "import numpy as np\n",
    "import os\n",
    "import sys\n",
    "import xarray as xr\n",
    "# import tensorflow as tf\n",
    "import datacube\n",
    "import matplotlib.pyplot as plt\n",
    "import json\n",
    "import pandas as pd\n",
    "\n",
    "\n",
    "sys.path.insert(1, os.path.abspath(\"../Tools\"))\n",
    "\n",
    "from dea_tools.plotting import display_map, rgb"
   ]
  },
  {
   "cell_type": "code",
   "execution_count": 15,
   "id": "609e2fa7-0812-4153-9376-626a562c971d",
   "metadata": {},
   "outputs": [],
   "source": [
    "list_of_sites = [('sydney_CBD', -33.9026, 151.2021), ('newcastle', -32.8614, 151.8012), ('almota_park', -34.6540, 135.5107),\n",
    "                ('north_adeliade', -34.7032, 138.6008), ('lake_mungo', -33.7292, 143.0695), ('hobart', -42.8625, 147.3083),\n",
    "                 ('coral_bay', -23.1431, 113.7724), ('yara_yara', -29.6421, 115.8127), ('perth', -31.9743, 115.9147), \n",
    "                 ('darwin', 12.4124, 130.8659), ('cent_nt', -28.2067, 134.2258)]\n"
   ]
  },
  {
   "cell_type": "code",
   "execution_count": null,
   "id": "ee8c6db9-88b1-4f7c-aaa5-268cd0c2f8b9",
   "metadata": {},
   "outputs": [],
   "source": [
    "for n,x,y in list_of_sites:\n",
    "    print(n,y)"
   ]
  },
  {
   "cell_type": "markdown",
   "id": "58afe34d-b9ec-4e5f-abff-7139fcec132e",
   "metadata": {},
   "source": [
    "{site_1 : {loc_name : 'sydney_CBD', \n",
    "point_x : -33.9026, \n",
    "point_y :151.2021 },\n",
    "\n",
    "\n",
    "# loc_name = 'newcastle'\n",
    "\n",
    "# point_x, point_y = (-32.8614, 151.8012)\n",
    "}"
   ]
  },
  {
   "cell_type": "code",
   "execution_count": 16,
   "id": "8f110f71-acc6-47ec-9ee1-bb7565f5f57f",
   "metadata": {},
   "outputs": [],
   "source": [
    "training_site_container={}"
   ]
  },
  {
   "cell_type": "code",
   "execution_count": 17,
   "id": "365b175d-f6e2-49cd-b82f-3e6ed2373c3a",
   "metadata": {},
   "outputs": [],
   "source": [
    "for n,x,y in list_of_sites:\n",
    "\n",
    "    loc_name = n\n",
    "\n",
    "    year = '2015'\n",
    "\n",
    "    lat = (x-0.1, x+0.1)\n",
    "    lon = (y-0.1, y+0.1)\n",
    "\n",
    "    query = {\n",
    "    \"x\": lon,\n",
    "    \"y\": lat,\n",
    "    \"time\": year,\n",
    "        }\n",
    "\n",
    "    training_site_container[f'{loc_name}_{year}'] = query"
   ]
  },
  {
   "cell_type": "code",
   "execution_count": null,
   "id": "c1c4b15f-67ce-4287-ab83-c8850b239512",
   "metadata": {},
   "outputs": [],
   "source": [
    "query = {\n",
    "    \"x\": lon,\n",
    "    \"y\": lat,\n",
    "    \"time\": year,\n",
    "        }"
   ]
  },
  {
   "cell_type": "code",
   "execution_count": null,
   "id": "3ce579ca-6e11-4eac-8fd9-5c118ba5b307",
   "metadata": {},
   "outputs": [],
   "source": [
    "training_site_container[f'{loc_name}_{year}'] = query"
   ]
  },
  {
   "cell_type": "code",
   "execution_count": 18,
   "id": "4cbb5be2-56ac-4d0b-b8f5-e43523f47c1f",
   "metadata": {},
   "outputs": [
    {
     "data": {
      "text/plain": [
       "{'sydney_CBD_2015': {'x': (151.1021, 151.3021),\n",
       "  'y': (-34.0026, -33.8026),\n",
       "  'time': '2015'},\n",
       " 'newcastle_2015': {'x': (151.7012, 151.9012),\n",
       "  'y': (-32.961400000000005, -32.7614),\n",
       "  'time': '2015'},\n",
       " 'almota_park_2015': {'x': (135.41070000000002, 135.6107),\n",
       "  'y': (-34.754000000000005, -34.554),\n",
       "  'time': '2015'},\n",
       " 'north_adeliade_2015': {'x': (138.5008, 138.7008),\n",
       "  'y': (-34.803200000000004, -34.6032),\n",
       "  'time': '2015'},\n",
       " 'lake_mungo_2015': {'x': (142.9695, 143.1695),\n",
       "  'y': (-33.8292, -33.6292),\n",
       "  'time': '2015'},\n",
       " 'hobart_2015': {'x': (147.2083, 147.4083),\n",
       "  'y': (-42.9625, -42.762499999999996),\n",
       "  'time': '2015'},\n",
       " 'coral_bay_2015': {'x': (113.67240000000001, 113.8724),\n",
       "  'y': (-23.243100000000002, -23.0431),\n",
       "  'time': '2015'},\n",
       " 'yara_yara_2015': {'x': (115.71270000000001, 115.9127),\n",
       "  'y': (-29.7421, -29.542099999999998),\n",
       "  'time': '2015'},\n",
       " 'perth_2015': {'x': (115.8147, 116.01469999999999),\n",
       "  'y': (-32.0743, -31.874299999999998),\n",
       "  'time': '2015'},\n",
       " 'darwin_2015': {'x': (130.76590000000002, 130.9659),\n",
       "  'y': (12.3124, 12.5124),\n",
       "  'time': '2015'},\n",
       " 'cent_nt_2015': {'x': (134.1258, 134.3258),\n",
       "  'y': (-28.306700000000003, -28.1067),\n",
       "  'time': '2015'}}"
      ]
     },
     "execution_count": 18,
     "metadata": {},
     "output_type": "execute_result"
    }
   ],
   "source": [
    "training_site_container"
   ]
  },
  {
   "cell_type": "code",
   "execution_count": 19,
   "id": "d2b0aaad-899f-4331-9482-c6578bb957dd",
   "metadata": {},
   "outputs": [],
   "source": [
    "with open('small_training_areas.txt', 'w') as convert_file:\n",
    "     convert_file.write(json.dumps(training_site_container))"
   ]
  },
  {
   "cell_type": "code",
   "execution_count": null,
   "id": "14a72b37-6478-4c05-a0c5-829a775e8d9f",
   "metadata": {},
   "outputs": [],
   "source": []
  }
 ],
 "metadata": {
  "kernelspec": {
   "display_name": "Python 3 (ipykernel)",
   "language": "python",
   "name": "python3"
  },
  "language_info": {
   "codemirror_mode": {
    "name": "ipython",
    "version": 3
   },
   "file_extension": ".py",
   "mimetype": "text/x-python",
   "name": "python",
   "nbconvert_exporter": "python",
   "pygments_lexer": "ipython3",
   "version": "3.8.10"
  }
 },
 "nbformat": 4,
 "nbformat_minor": 5
}
