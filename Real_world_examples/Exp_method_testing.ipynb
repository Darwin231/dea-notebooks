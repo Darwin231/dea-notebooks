{
 "cells": [
  {
   "cell_type": "code",
   "execution_count": null,
   "id": "9a050bfc-3a88-4deb-a780-31d03daf24d3",
   "metadata": {},
   "outputs": [],
   "source": []
  },
  {
   "cell_type": "code",
   "execution_count": 1,
   "id": "957fb949-9452-4dba-9ce6-160ba259eadc",
   "metadata": {},
   "outputs": [],
   "source": [
    "import datacube \n",
    "import matplotlib.pyplot as plt\n",
    "import pandas as pd\n",
    "import pytz\n",
    "import numpy as np\n",
    "\n",
    "from scipy.stats import cumfreq\n",
    "from otps import TimePoint, predict_tide\n",
    "# from otps import predict_tide\n",
    "from dea_tools.dask import create_local_dask_cluster\n",
    "\n",
    "import sys\n",
    "sys.path.append(\"../Tools/dea_tools\")\n",
    "from coastal_temp import (select_aoi, \n",
    "                          exp_model, \n",
    "                          prep_aoi, \n",
    "                          plot_summary)\n"
   ]
  },
  {
   "cell_type": "code",
   "execution_count": 2,
   "id": "2f8a375c-b696-4b14-a917-96f467eb6f51",
   "metadata": {},
   "outputs": [
    {
     "name": "stderr",
     "output_type": "stream",
     "text": [
      "distributed.diskutils - INFO - Found stale lock file and directory '/home/jovyan/dev_intexp/dea-notebooks/Real_world_examples/dask-worker-space/worker-eigdjr4p', purging\n"
     ]
    },
    {
     "data": {
      "text/html": [
       "<div>\n",
       "    <div style=\"width: 24px; height: 24px; background-color: #e1e1e1; border: 3px solid #9D9D9D; border-radius: 5px; position: absolute;\"> </div>\n",
       "    <div style=\"margin-left: 48px;\">\n",
       "        <h3 style=\"margin-bottom: 0px;\">Client</h3>\n",
       "        <p style=\"color: #9D9D9D; margin-bottom: 0px;\">Client-1997fb2c-29af-11ed-8184-9e3ed162be6f</p>\n",
       "        <table style=\"width: 100%; text-align: left;\">\n",
       "\n",
       "        <tr>\n",
       "        \n",
       "            <td style=\"text-align: left;\"><strong>Connection method:</strong> Cluster object</td>\n",
       "            <td style=\"text-align: left;\"><strong>Cluster type:</strong> distributed.LocalCluster</td>\n",
       "        \n",
       "        </tr>\n",
       "\n",
       "        \n",
       "            <tr>\n",
       "                <td style=\"text-align: left;\">\n",
       "                    <strong>Dashboard: </strong> <a href=\"/user/claire.phillips@ga.gov.au/proxy/8787/status\" target=\"_blank\">/user/claire.phillips@ga.gov.au/proxy/8787/status</a>\n",
       "                </td>\n",
       "                <td style=\"text-align: left;\"></td>\n",
       "            </tr>\n",
       "        \n",
       "\n",
       "        </table>\n",
       "\n",
       "        \n",
       "            <details>\n",
       "            <summary style=\"margin-bottom: 20px;\"><h3 style=\"display: inline;\">Cluster Info</h3></summary>\n",
       "            <div class=\"jp-RenderedHTMLCommon jp-RenderedHTML jp-mod-trusted jp-OutputArea-output\">\n",
       "    <div style=\"width: 24px; height: 24px; background-color: #e1e1e1; border: 3px solid #9D9D9D; border-radius: 5px; position: absolute;\">\n",
       "    </div>\n",
       "    <div style=\"margin-left: 48px;\">\n",
       "        <h3 style=\"margin-bottom: 0px; margin-top: 0px;\">LocalCluster</h3>\n",
       "        <p style=\"color: #9D9D9D; margin-bottom: 0px;\">bce52780</p>\n",
       "        <table style=\"width: 100%; text-align: left;\">\n",
       "            <tr>\n",
       "                <td style=\"text-align: left;\">\n",
       "                    <strong>Dashboard:</strong> <a href=\"/user/claire.phillips@ga.gov.au/proxy/8787/status\" target=\"_blank\">/user/claire.phillips@ga.gov.au/proxy/8787/status</a>\n",
       "                </td>\n",
       "                <td style=\"text-align: left;\">\n",
       "                    <strong>Workers:</strong> 1\n",
       "                </td>\n",
       "            </tr>\n",
       "            <tr>\n",
       "                <td style=\"text-align: left;\">\n",
       "                    <strong>Total threads:</strong> 15\n",
       "                </td>\n",
       "                <td style=\"text-align: left;\">\n",
       "                    <strong>Total memory:</strong> 117.21 GiB\n",
       "                </td>\n",
       "            </tr>\n",
       "            \n",
       "            <tr>\n",
       "    <td style=\"text-align: left;\"><strong>Status:</strong> running</td>\n",
       "    <td style=\"text-align: left;\"><strong>Using processes:</strong> True</td>\n",
       "</tr>\n",
       "\n",
       "            \n",
       "        </table>\n",
       "\n",
       "        <details>\n",
       "            <summary style=\"margin-bottom: 20px;\">\n",
       "                <h3 style=\"display: inline;\">Scheduler Info</h3>\n",
       "            </summary>\n",
       "\n",
       "            <div style=\"\">\n",
       "    <div>\n",
       "        <div style=\"width: 24px; height: 24px; background-color: #FFF7E5; border: 3px solid #FF6132; border-radius: 5px; position: absolute;\"> </div>\n",
       "        <div style=\"margin-left: 48px;\">\n",
       "            <h3 style=\"margin-bottom: 0px;\">Scheduler</h3>\n",
       "            <p style=\"color: #9D9D9D; margin-bottom: 0px;\">Scheduler-a514645b-d175-46b0-aeb9-77585c01f42d</p>\n",
       "            <table style=\"width: 100%; text-align: left;\">\n",
       "                <tr>\n",
       "                    <td style=\"text-align: left;\">\n",
       "                        <strong>Comm:</strong> tcp://127.0.0.1:46857\n",
       "                    </td>\n",
       "                    <td style=\"text-align: left;\">\n",
       "                        <strong>Workers:</strong> 1\n",
       "                    </td>\n",
       "                </tr>\n",
       "                <tr>\n",
       "                    <td style=\"text-align: left;\">\n",
       "                        <strong>Dashboard:</strong> <a href=\"/user/claire.phillips@ga.gov.au/proxy/8787/status\" target=\"_blank\">/user/claire.phillips@ga.gov.au/proxy/8787/status</a>\n",
       "                    </td>\n",
       "                    <td style=\"text-align: left;\">\n",
       "                        <strong>Total threads:</strong> 15\n",
       "                    </td>\n",
       "                </tr>\n",
       "                <tr>\n",
       "                    <td style=\"text-align: left;\">\n",
       "                        <strong>Started:</strong> Just now\n",
       "                    </td>\n",
       "                    <td style=\"text-align: left;\">\n",
       "                        <strong>Total memory:</strong> 117.21 GiB\n",
       "                    </td>\n",
       "                </tr>\n",
       "            </table>\n",
       "        </div>\n",
       "    </div>\n",
       "\n",
       "    <details style=\"margin-left: 48px;\">\n",
       "        <summary style=\"margin-bottom: 20px;\">\n",
       "            <h3 style=\"display: inline;\">Workers</h3>\n",
       "        </summary>\n",
       "\n",
       "        \n",
       "        <div style=\"margin-bottom: 20px;\">\n",
       "            <div style=\"width: 24px; height: 24px; background-color: #DBF5FF; border: 3px solid #4CC9FF; border-radius: 5px; position: absolute;\"> </div>\n",
       "            <div style=\"margin-left: 48px;\">\n",
       "            <details>\n",
       "                <summary>\n",
       "                    <h4 style=\"margin-bottom: 0px; display: inline;\">Worker: 0</h4>\n",
       "                </summary>\n",
       "                <table style=\"width: 100%; text-align: left;\">\n",
       "                    <tr>\n",
       "                        <td style=\"text-align: left;\">\n",
       "                            <strong>Comm: </strong> tcp://127.0.0.1:34845\n",
       "                        </td>\n",
       "                        <td style=\"text-align: left;\">\n",
       "                            <strong>Total threads: </strong> 15\n",
       "                        </td>\n",
       "                    </tr>\n",
       "                    <tr>\n",
       "                        <td style=\"text-align: left;\">\n",
       "                            <strong>Dashboard: </strong> <a href=\"/user/claire.phillips@ga.gov.au/proxy/35679/status\" target=\"_blank\">/user/claire.phillips@ga.gov.au/proxy/35679/status</a>\n",
       "                        </td>\n",
       "                        <td style=\"text-align: left;\">\n",
       "                            <strong>Memory: </strong> 117.21 GiB\n",
       "                        </td>\n",
       "                    </tr>\n",
       "                    <tr>\n",
       "                        <td style=\"text-align: left;\">\n",
       "                            <strong>Nanny: </strong> tcp://127.0.0.1:37275\n",
       "                        </td>\n",
       "                        <td style=\"text-align: left;\"></td>\n",
       "                    </tr>\n",
       "                    <tr>\n",
       "                        <td colspan=\"2\" style=\"text-align: left;\">\n",
       "                            <strong>Local directory: </strong> /home/jovyan/dev_intexp/dea-notebooks/Real_world_examples/dask-worker-space/worker-avpg9uji\n",
       "                        </td>\n",
       "                    </tr>\n",
       "\n",
       "                    \n",
       "\n",
       "                    \n",
       "\n",
       "                </table>\n",
       "            </details>\n",
       "            </div>\n",
       "        </div>\n",
       "        \n",
       "\n",
       "    </details>\n",
       "</div>\n",
       "\n",
       "        </details>\n",
       "    </div>\n",
       "</div>\n",
       "            </details>\n",
       "        \n",
       "\n",
       "    </div>\n",
       "</div>"
      ],
      "text/plain": [
       "<Client: 'tcp://127.0.0.1:46857' processes=1 threads=15, memory=117.21 GiB>"
      ]
     },
     "metadata": {},
     "output_type": "display_data"
    }
   ],
   "source": [
    "dc = datacube.Datacube(app=\"intertidal_exposure\")\n",
    "create_local_dask_cluster()"
   ]
  },
  {
   "cell_type": "code",
   "execution_count": 3,
   "id": "4c2e0080-46a0-43c2-8c76-daff5b9ffccc",
   "metadata": {},
   "outputs": [
    {
     "data": {
      "application/vnd.jupyter.widget-view+json": {
       "model_id": "0e9a397f33dd469fa78d48b8031ae13b",
       "version_major": 2,
       "version_minor": 0
      },
      "text/plain": [
       "Map(center=[-32.13054578933222, 136.10234378608968], controls=(ZoomControl(options=['position', 'zoom_in_text'…"
      ]
     },
     "metadata": {},
     "output_type": "display_data"
    }
   ],
   "source": [
    "m, master_gdf, roi = select_aoi()\n",
    "display (m)"
   ]
  },
  {
   "cell_type": "code",
   "execution_count": 29,
   "id": "f9133ea3-15b6-48ec-be6f-42f03258e628",
   "metadata": {},
   "outputs": [],
   "source": [
    "## Following selection of your area of interest using the shape options in the map menu\n",
    "## and your tide-modelling position, using the `marker` option, run this cell to\n",
    "## prepare the selections for analysis. Note that this is a per-pixel analysis. Consequently,\n",
    "## a small area of interest is advised to minimise computation time.\n",
    "\n",
    "tp, working_gdf, geom = prep_aoi(roi, master_gdf)"
   ]
  },
  {
   "cell_type": "code",
   "execution_count": 30,
   "id": "2876684c-c715-45e0-be09-0b9b1cb877b6",
   "metadata": {},
   "outputs": [
    {
     "data": {
      "text/plain": [
       "[152.017404, -32.873802]"
      ]
     },
     "execution_count": 30,
     "metadata": {},
     "output_type": "execute_result"
    }
   ],
   "source": [
    "tp"
   ]
  },
  {
   "cell_type": "code",
   "execution_count": 31,
   "id": "e785905a-1fdf-4d82-8806-ad4de0bf2d2f",
   "metadata": {},
   "outputs": [],
   "source": [
    "## Set the user-defined variables \n",
    "\n",
    "## Define the tidal-modelling period start and end dates. This is the period over which intertidal\n",
    "## exposure will be calculated. Ideally, this period should be an 18.6 year window to account\n",
    "## for the full average range of astronomical forcings on the tide (e.g. Haigh et al., 2011).\n",
    "## However, a shorter window is advised in this application to minimise the computation time.\n",
    "## Note that if a filter is applied to the tide-model, e.g. restricted date or tide range, then\n",
    "## a wide tidal-modelling period may be achievable on this platform.\n",
    "\n",
    "## Tidal modelling period. Format: 'YYYY-MM-DD HH:MM:SS'\n",
    "time_start = '1985-12-01 00:00:00'\n",
    "time_end = '2023-01-01 00:00:00'\n",
    "\n",
    "## Set the frequency to run the tidal model e.g '30min' or '1h'\n",
    "modelled_freq='30min'\n",
    "\n",
    "# ## Set the filter to apply for the exposure modelling. Options:\n",
    "'''\n",
    "    'all_time',\n",
    "    'daynight',\n",
    "    'springneap',\n",
    "    'wet',\n",
    "    'dry',\n",
    "    'summer',\n",
    "    'autumn',\n",
    "    'winter',\n",
    "    'spring',\n",
    "    'Jan',\n",
    "    'Feb',\n",
    "    'Mar',\n",
    "    'Apr',\n",
    "    'May',\n",
    "    'Jun',\n",
    "    'Jul',\n",
    "    'Aug',\n",
    "    'Sep',\n",
    "    'Oct',\n",
    "    'Nov',\n",
    "    'Dec'\n",
    "'''\n",
    "time_filter = ['all_time']\n",
    "\n",
    "query = {\n",
    "    'product': ['nidem'],\n",
    "    \"dask_chunks\": {\"time\": 1, \"x\": 100000, \"y\": 100000},\n",
    "    \"geopolygon\": geom\n",
    "        }"
   ]
  },
  {
   "cell_type": "code",
   "execution_count": 32,
   "id": "74f347f1-ff64-4858-9f30-5f8167803e99",
   "metadata": {},
   "outputs": [],
   "source": [
    "ds = dc.load(**query)\n",
    "ds2 = ds.where(ds.nidem > ds.nidem.min())"
   ]
  },
  {
   "cell_type": "code",
   "execution_count": 33,
   "id": "3f7c0692-8cf8-43a0-b10e-7675e268e6d6",
   "metadata": {},
   "outputs": [],
   "source": [
    "ds2 = ds2.compute()"
   ]
  },
  {
   "cell_type": "code",
   "execution_count": null,
   "id": "2e110a9f-3dd1-4099-b328-b74b861c0894",
   "metadata": {},
   "outputs": [],
   "source": [
    "# ds.nidem.min()"
   ]
  },
  {
   "cell_type": "code",
   "execution_count": null,
   "id": "19a7988c-a65b-40a7-9099-9f27f71d41fe",
   "metadata": {},
   "outputs": [],
   "source": [
    "# ds.nidem.max()"
   ]
  },
  {
   "cell_type": "code",
   "execution_count": null,
   "id": "2b8a6f40-de27-49c5-b1ee-3ec5bbf8ca86",
   "metadata": {},
   "outputs": [],
   "source": [
    "ds2.nidem"
   ]
  },
  {
   "cell_type": "code",
   "execution_count": null,
   "id": "c2f68c18-b376-48fd-8312-42b56f636606",
   "metadata": {},
   "outputs": [],
   "source": [
    "# ds2 = ds.where(ds.nidem > ds.nidem.min())"
   ]
  },
  {
   "cell_type": "code",
   "execution_count": null,
   "id": "e39a1dd2-dffb-47ae-ab90-ef8bc4b15ef2",
   "metadata": {},
   "outputs": [],
   "source": [
    "# ds['nidem'].plot()\n",
    "ds3 = ds2.squeeze('time')\n",
    "ds3"
   ]
  },
  {
   "cell_type": "code",
   "execution_count": null,
   "id": "18db043f-d720-4cc0-84d7-bb05de8b2fa2",
   "metadata": {},
   "outputs": [],
   "source": [
    "ds2.nidem.plot()"
   ]
  },
  {
   "cell_type": "code",
   "execution_count": 15,
   "id": "1ff9d9dc-b98b-4fd8-b150-a6b34f43148f",
   "metadata": {},
   "outputs": [],
   "source": []
  },
  {
   "cell_type": "code",
   "execution_count": null,
   "id": "f4dd2e1c-4dd6-405b-9c3c-f173ad8e7fc1",
   "metadata": {},
   "outputs": [],
   "source": [
    "## Flatten tide-model to 1d\n",
    "ds4 = ds3.to_array().values.ravel()\n",
    "## Sort the flattened array (x-axis)\n",
    "\n",
    "## Calculate the cumulative frequency of the sorted-flattened-array\n",
    "\n",
    "\n",
    "# type(ds4)"
   ]
  },
  {
   "cell_type": "code",
   "execution_count": null,
   "id": "21e29f28-9e1e-47a7-905c-b9dbb277277d",
   "metadata": {},
   "outputs": [],
   "source": [
    "# # x=np.sort(ds3)\n",
    "# x=unstacked\n",
    "# y=unstacked.cumsum()\n",
    "# plt.plot(x,y)\n",
    "# # print (type(x))\n",
    "# # print(x.shape)\n",
    "# # print (type(y))\n",
    "# # print(y.shape)\n",
    "# # ds3=ds3.to_dataset()"
   ]
  },
  {
   "cell_type": "code",
   "execution_count": null,
   "id": "448f5d4b-823e-4223-bfdd-8397aa55ec59",
   "metadata": {},
   "outputs": [],
   "source": [
    "# ds3.nidem#.squeeze('time')"
   ]
  },
  {
   "cell_type": "code",
   "execution_count": null,
   "id": "0375de31-dbd4-4d81-b282-414051289630",
   "metadata": {},
   "outputs": [],
   "source": [
    "# stacked=ds3.nidem.stack(z=('y','x'))\n",
    "# # stacked.indexes['z']\n",
    "# unstacked=stacked.unstack()\n",
    "# unstacked\n",
    "# # # ds3.nidem.identical(unstacked)"
   ]
  },
  {
   "cell_type": "code",
   "execution_count": null,
   "id": "08c27fba-ec2d-4aaa-86e6-2f51b5023e04",
   "metadata": {},
   "outputs": [],
   "source": [
    "# # ds3\n",
    "# ds4=ds3.to_stacked_array(\"z\",['x'])\n",
    "\n",
    "# ds4.indexes['z']\n",
    "\n",
    "# # ds5=ds4.to_unstacked_dataset(dim='z')\n",
    "\n",
    "# # ds2.identical(ds5)\n",
    "# # ds4=ds2.to_unstacked_dataset(dim='time')"
   ]
  },
  {
   "cell_type": "code",
   "execution_count": null,
   "id": "12b31d50-652e-4d2e-b9f6-363499a2abc4",
   "metadata": {},
   "outputs": [],
   "source": [
    "## after https://stackoverflow.com/questions/3209362/how-to-plot-empirical-cdf-ecdf\n",
    "# x=np.sort(ds3)[::1000]\n",
    "# # print(x)\n",
    "# y=np.arange(len(x))/float(len(x))\n",
    "# plt.plot(x,y)\n"
   ]
  },
  {
   "cell_type": "code",
   "execution_count": null,
   "id": "ac4a29e6-a391-4134-8f01-ff3b90e37492",
   "metadata": {},
   "outputs": [],
   "source": [
    "# # ds2.nidem.plot.hist()\n",
    "# type(x)\n",
    "# x.shape\n",
    "# # xx = x.to_array()\n",
    "# # type(xx)"
   ]
  },
  {
   "cell_type": "code",
   "execution_count": null,
   "id": "300893ca-be4d-44fa-aa15-255c3876ddd2",
   "metadata": {},
   "outputs": [],
   "source": [
    "import xarray as xr"
   ]
  },
  {
   "cell_type": "code",
   "execution_count": null,
   "id": "5937f7f8-5a5d-47f4-a4e5-b293d4bdbaa2",
   "metadata": {},
   "outputs": [],
   "source": [
    "# pxpc_2001 = xr.open_dataset('2001-12-01 00:00:00_to_2013-01-01 00:00:00.nc')"
   ]
  },
  {
   "cell_type": "code",
   "execution_count": null,
   "id": "c3a06bf9-fb39-4490-bcff-f2f3926dce38",
   "metadata": {},
   "outputs": [],
   "source": [
    "# pxpc_2001.nidem.plot.hist()"
   ]
  },
  {
   "cell_type": "code",
   "execution_count": null,
   "id": "0e3c63a0-9283-4157-a275-62beaf1d2352",
   "metadata": {},
   "outputs": [],
   "source": [
    "# pxpc_2001.all_time.plot.hist()"
   ]
  },
  {
   "cell_type": "code",
   "execution_count": null,
   "id": "0863a516-c386-4fef-9025-942afe971b64",
   "metadata": {},
   "outputs": [],
   "source": [
    "# pxpc_1991 = xr.open_dataset('1991-12-01 00:00:00_to_2002-01-01 00:00:00.nc')"
   ]
  },
  {
   "cell_type": "code",
   "execution_count": null,
   "id": "c464810a-e8cb-4aab-b90e-bc728fcd07d1",
   "metadata": {},
   "outputs": [],
   "source": [
    "# pxpc_1991.nidem.plot.hist()"
   ]
  },
  {
   "cell_type": "code",
   "execution_count": null,
   "id": "09a2d752-92b1-4d7d-89e5-60fc681b706f",
   "metadata": {},
   "outputs": [],
   "source": [
    "# pxpc_2001.nidem.plot.hist()\n",
    "# pxpc_1991.all_time.plot.hist()"
   ]
  },
  {
   "cell_type": "code",
   "execution_count": null,
   "id": "5533b262-b0a6-46d8-8083-e2d55cc4ab1c",
   "metadata": {},
   "outputs": [],
   "source": [
    "# print(pxpc_1991.nidem.min())\n",
    "# print(pxpc_2001.nidem.max())"
   ]
  },
  {
   "cell_type": "code",
   "execution_count": null,
   "id": "a6fb5ac4-b0b5-4e9d-bbea-43b86f8f5f1e",
   "metadata": {},
   "outputs": [],
   "source": [
    "# %store -r modelledtides_all"
   ]
  },
  {
   "cell_type": "code",
   "execution_count": null,
   "id": "edffef7b-6c91-46a5-9aaa-5e6d03e1d415",
   "metadata": {},
   "outputs": [],
   "source": [
    "# modelledtides_all.plot(figsize=(10,4))"
   ]
  },
  {
   "cell_type": "code",
   "execution_count": null,
   "id": "1b786c00-d218-4006-bfd0-f5510e530c19",
   "metadata": {},
   "outputs": [],
   "source": [
    "# modelledtides_all.min()"
   ]
  },
  {
   "cell_type": "code",
   "execution_count": null,
   "id": "54730eff-6579-451f-89f2-c4aca49d3569",
   "metadata": {},
   "outputs": [],
   "source": []
  },
  {
   "cell_type": "code",
   "execution_count": 8,
   "id": "817bafdd-8b2f-4a2f-8ef2-4728d233b860",
   "metadata": {},
   "outputs": [],
   "source": []
  },
  {
   "cell_type": "code",
   "execution_count": 25,
   "id": "12d064bc-dbfa-4866-a7ef-f47f98d845ca",
   "metadata": {},
   "outputs": [],
   "source": [
    "def exp_model(time_start, \n",
    "              time_end, \n",
    "              time_filter, \n",
    "              modelled_freq, \n",
    "              tidepost_lat, \n",
    "              tidepost_lon, \n",
    "              ds):      \n",
    "    ## Run tidal modelling\n",
    "\n",
    "    # Generate range of times covering entire period of satellite record\n",
    "    all_timerange = pd.date_range(start=time_start,\n",
    "                                  end=time_end,\n",
    "                                  freq=modelled_freq)\n",
    "    all_datetimes = all_timerange.values.astype('M8[s]').astype('O').tolist()  \n",
    "\n",
    "    # Use the tidal model to compute tide heights for each observation:  \n",
    "    all_timepoints = [TimePoint(tidepost_lon, tidepost_lat, dt) \n",
    "                      for dt in all_datetimes]\n",
    "    all_predictedtides = predict_tide(all_timepoints)   \n",
    "    all_tideheights = [predictedtide.tide_m for predictedtide \n",
    "                        in all_predictedtides]\n",
    "        ## Save modelled tides as dataframe\n",
    "        ## Firstly convert the dates to series\n",
    "    all_timerange = all_timerange.to_series()\n",
    "        ## Save dates and tideheights to pd.DataFrame\n",
    "    modelledtides = pd.DataFrame(data={'timerange': all_timerange,\n",
    "                       'tideheights': all_tideheights})\n",
    "    \n",
    "    print ('Complete: Tidal modelling. Starting: Local timezone conversion')\n",
    "\n",
    "    '''---------------------------------------------------------'''\n",
    "    ## Automate timezone selection based on location of tidepost\n",
    "    ## State boundary coords from https://www.ga.gov.au/scientific-topics/national-location-information/dimensions/border-lengths\n",
    "    if tidepost_lon <= 129.0:\n",
    "        timezone = 'Australia/West'\n",
    "        local_tz = 8\n",
    "    elif (tidepost_lon > 129.0) & (tidepost_lon <= 138.0) & (tidepost_lat < 26.0):\n",
    "        timezone = 'Australia/North'\n",
    "        local_tz = 9.5\n",
    "    elif (tidepost_lon > 129.0) & (tidepost_lon <= 141.0) & (tidepost_lat > 26.0):\n",
    "        timezone = 'Australia/South'\n",
    "        local_tz = 9.5\n",
    "    elif (tidepost_lon > 138.0) & (tidepost_lat < 26.0):\n",
    "        timezone = 'Australia/Queensland'\n",
    "        local_tz = 10\n",
    "    elif (tidepost_lon > 141.0) & (tidepost_lat >= 26.0):\n",
    "        timezone = 'Australia/NSW'\n",
    "        local_tz = 10\n",
    "    else:\n",
    "        print('Unable to assign timezone from supplied tidepost coords (tidepost_lon and tidepost_lat)')\n",
    "    print('Timezone set to', timezone)\n",
    "    \n",
    "    ## Convert time_start and time_end to datetime objects in local timezone\n",
    "    time_start = pd.to_datetime(time_start, utc=True).tz_convert(timezone)\n",
    "    time_end = pd.to_datetime(time_end, utc=True).tz_convert(timezone)\n",
    "    \n",
    "    ## Convert tz-naive to tz-aware (set to UTC to match modelled timestamp input)\n",
    "    localtides = modelledtides.index.tz_localize(tz=pytz.UTC)\n",
    "\n",
    "    ## Convert tz-aware index to local timezone\n",
    "    localtides = localtides.tz_convert(timezone)\n",
    "    \n",
    "    ## Reset the index of modelledtides to reflect local times\n",
    "    modelledtides['local_timerange'] = localtides\n",
    "    modelledtides.set_index('local_timerange', inplace=True)\n",
    "    modelledtides.drop('timerange', axis=1, inplace=True)\n",
    "    \n",
    "    return modelledtides"
   ]
  },
  {
   "cell_type": "code",
   "execution_count": 34,
   "id": "1795709b-d05e-4a13-9214-e68666087f74",
   "metadata": {},
   "outputs": [
    {
     "name": "stdout",
     "output_type": "stream",
     "text": [
      "Complete: Tidal modelling. Starting: Local timezone conversion\n",
      "Timezone set to Australia/Queensland\n"
     ]
    }
   ],
   "source": [
    "modelledtides_neg_lat = exp_model(time_start,\n",
    "                                  time_end,\n",
    "                                  time_filter,\n",
    "                                  modelled_freq,\n",
    "                                  tidepost_lat = tp[1],# = -17.420604,\n",
    "                                  tidepost_lon = tp[0],# = 140.665169,\n",
    "                                  ds=ds2)"
   ]
  },
  {
   "cell_type": "code",
   "execution_count": 13,
   "id": "23171b3a-7514-45ed-add1-8a903e236c36",
   "metadata": {},
   "outputs": [],
   "source": [
    "## After https://docs.scipy.org/doc/scipy/reference/generated/scipy.stats.cumfreq.html\n",
    "\n"
   ]
  },
  {
   "cell_type": "code",
   "execution_count": 35,
   "id": "6481e29a-14c5-4685-a6a8-06c07ac41531",
   "metadata": {},
   "outputs": [],
   "source": [
    "## Extract modelled tideheights as np.array\n",
    "modelledtides = (np.array(modelledtides_neg_lat.tideheights))\n",
    "\n",
    "## Calculate cumulative frequencies\n",
    "res = cumfreq(modelledtides, numbins=100)\n",
    "\n",
    "# Calculate space of values for x\n",
    "x = res.lowerlimit + np.linspace(0, res.binsize*res.cumcount.size, res.cumcount.size)"
   ]
  },
  {
   "cell_type": "code",
   "execution_count": 64,
   "id": "2d282b7b-0420-4816-bec4-451f515ae53a",
   "metadata": {},
   "outputs": [
    {
     "data": {
      "text/plain": [
       "0.020545454545454533"
      ]
     },
     "execution_count": 64,
     "metadata": {},
     "output_type": "execute_result"
    }
   ],
   "source": [
    "res.binsize\n",
    "# res"
   ]
  },
  {
   "cell_type": "code",
   "execution_count": 75,
   "id": "5ca0f4f7-3b50-4075-ab9a-50c68d0df475",
   "metadata": {},
   "outputs": [
    {
     "data": {
      "text/plain": [
       "[<matplotlib.lines.Line2D at 0x7fd3fb7641f0>]"
      ]
     },
     "execution_count": 75,
     "metadata": {},
     "output_type": "execute_result"
    },
    {
     "data": {
      "image/png": "[encoded data removed]",
      "text/plain": [
       "<Figure size 432x288 with 1 Axes>"
      ]
     },
     "metadata": {
      "needs_background": "light"
     },
     "output_type": "display_data"
    }
   ],
   "source": [
    "# plt.axhline(y=0.0, linestyle='-', color='r')\n",
    "# plt.plot(modelledtides[:500], marker='o')"
   ]
  },
  {
   "cell_type": "code",
   "execution_count": 36,
   "id": "2403f430-2239-4089-8ea5-2e8c6db858b6",
   "metadata": {},
   "outputs": [
    {
     "data": {
      "image/png": "[encoded data removed]",
      "text/plain": [
       "<Figure size 720x288 with 2 Axes>"
      ]
     },
     "metadata": {
      "needs_background": "light"
     },
     "output_type": "display_data"
    }
   ],
   "source": [
    "## Newcastle, NSW\n",
    "\n",
    "fig = plt.figure(figsize=(10, 4))\n",
    "ax1 = fig.add_subplot(1, 2, 1)\n",
    "ax2 = fig.add_subplot(1, 2, 2)\n",
    "ax1.hist(modelledtides, bins=100)\n",
    "ax1.set_title('Histogram')\n",
    "ax2.bar(x, res.cumcount/len(modelledtides)*100, width=res.binsize)\n",
    "ax2.set_title('Relative cumulative frequency')\n",
    "ax2.set_ylabel('Cumulative model observations (%)\\naka Exposure (%)')\n",
    "ax2.set_xlabel('Modelled tide height (m)')\n",
    "ax2.set_xlim([x.min(), x.max()])\n",
    "fig.tight_layout()"
   ]
  },
  {
   "cell_type": "code",
   "execution_count": 76,
   "id": "6266fe0d-1156-4db1-b78c-4af0122fd5e3",
   "metadata": {},
   "outputs": [],
   "source": [
    "## Save the relative cumulative frequency dataset as an array to act as a lookup table for the NIDEM heights\n",
    "testdict={'tideheight': x, 'cumfreq': res.cumcount/len(modelledtides)*100}\n",
    "test = pd.DataFrame(data=testdict)\n"
   ]
  },
  {
   "cell_type": "code",
   "execution_count": 79,
   "id": "d57726e0-f8c0-432f-9371-b4311434ed54",
   "metadata": {},
   "outputs": [
    {
     "data": {
      "text/plain": [
       "<BarContainer object of 100 artists>"
      ]
     },
     "execution_count": 79,
     "metadata": {},
     "output_type": "execute_result"
    },
    {
     "data": {
      "image/png": "[encoded data removed]",
      "text/plain": [
       "<Figure size 432x288 with 1 Axes>"
      ]
     },
     "metadata": {
      "needs_background": "light"
     },
     "output_type": "display_data"
    }
   ],
   "source": [
    "fig=plt.figure()\n",
    "ax=fig.add_subplot(1,1,1)\n",
    "ax.bar(test.tideheight, test.cumfreq, width=res.binsize)"
   ]
  },
  {
   "cell_type": "code",
   "execution_count": 19,
   "id": "818e0317-f8ff-4364-8b61-a2be88df81b9",
   "metadata": {},
   "outputs": [
    {
     "data": {
      "text/plain": [
       "100"
      ]
     },
     "execution_count": 19,
     "metadata": {},
     "output_type": "execute_result"
    }
   ],
   "source": [
    "# res.cumcount.size\n",
    "# len(modelledtides)\n",
    "# res.lowerlimit==x[0] \n",
    "len(res.cumcount/len(modelledtides)*100)"
   ]
  },
  {
   "cell_type": "code",
   "execution_count": null,
   "id": "74f840b9-fd32-4500-897e-a6fb3689a164",
   "metadata": {},
   "outputs": [],
   "source": [
    "# fig = plt.figure(figsize=(10, 4))\n",
    "# ax1 = fig.add_subplot(1, 2, 1)\n",
    "# ax2 = fig.add_subplot(1, 2, 2)\n",
    "# ax1.hist(modelledtides, bins=100)\n",
    "# ax1.set_title('Histogram')\n",
    "# ax2.bar(x, res.cumcount, width=res.binsize)\n",
    "# ax2.set_title('Cumulative histogram')\n",
    "# ax2.set_xlim([x.min(), x.max()])"
   ]
  },
  {
   "cell_type": "code",
   "execution_count": null,
   "id": "8cddfdcb-70a6-4d98-a005-d903e5cc9d32",
   "metadata": {},
   "outputs": [],
   "source": [
    "# ## Plot cumulative frequency of the tides then apply a cdf model (maybe...)\n",
    "\n",
    "# ## Extract modelled tideheights as np.array\n",
    "# modelledtides = (np.array(modelledtides_neg_lat.tideheights))\n",
    "\n",
    "# ## sort \n",
    "# x=np.sort(modelledtides)\n",
    "\n",
    "# y=np.cumsum(x)\n",
    "\n",
    "# plt.plot(x,y)"
   ]
  },
  {
   "cell_type": "code",
   "execution_count": null,
   "id": "85033c41-9439-46fa-9c71-9994d05157a1",
   "metadata": {},
   "outputs": [],
   "source": [
    "# modelledtides_neg_lat.plot(figsize=(20,4))"
   ]
  },
  {
   "cell_type": "code",
   "execution_count": null,
   "id": "a77009b0-5f15-4fdc-b489-e0885e43a934",
   "metadata": {},
   "outputs": [],
   "source": [
    "# modelledtides_pos_lat = exp_model(time_start,\n",
    "#                                   time_end,\n",
    "#                                   time_filter,\n",
    "#                                   modelled_freq,\n",
    "#                                   tidepost_lat = 17.420604,\n",
    "#                                   tidepost_lon = 140.665169,\n",
    "#                                   ds=ds2)"
   ]
  },
  {
   "cell_type": "code",
   "execution_count": null,
   "id": "ffd5f20f-f4b2-4141-a5b0-676c60cf28ef",
   "metadata": {},
   "outputs": [],
   "source": [
    "# modelledtides_pos_lat.plot(figsize=(20,4))"
   ]
  },
  {
   "cell_type": "code",
   "execution_count": null,
   "id": "27421b48-9aca-4a24-a002-f651a9b7c60a",
   "metadata": {},
   "outputs": [],
   "source": []
  }
 ],
 "metadata": {
  "kernelspec": {
   "display_name": "Python 3 (ipykernel)",
   "language": "python",
   "name": "python3"
  },
  "language_info": {
   "codemirror_mode": {
    "name": "ipython",
    "version": 3
   },
   "file_extension": ".py",
   "mimetype": "text/x-python",
   "name": "python",
   "nbconvert_exporter": "python",
   "pygments_lexer": "ipython3",
   "version": "3.8.10"
  }
 },
 "nbformat": 4,
 "nbformat_minor": 5
}
