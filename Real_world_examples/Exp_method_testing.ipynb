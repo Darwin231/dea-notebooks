{
 "cells": [
  {
   "cell_type": "code",
   "execution_count": null,
   "id": "9a050bfc-3a88-4deb-a780-31d03daf24d3",
   "metadata": {},
   "outputs": [],
   "source": []
  },
  {
   "cell_type": "code",
   "execution_count": 1,
   "id": "957fb949-9452-4dba-9ce6-160ba259eadc",
   "metadata": {},
   "outputs": [],
   "source": [
    "import datacube \n",
    "import matplotlib.pyplot as plt\n",
    "import pandas as pd\n",
    "import pytz\n",
    "import numpy as np\n",
    "import xarray as xr\n",
    "\n",
    "from scipy.stats import cumfreq\n",
    "from otps import TimePoint, predict_tide\n",
    "# from otps import predict_tide\n",
    "from dea_tools.dask import create_local_dask_cluster\n",
    "\n",
    "import sys\n",
    "sys.path.append(\"../Tools/dea_tools\")\n",
    "from coastal_temp import (select_aoi, \n",
    "                          exp_model, \n",
    "                          prep_aoi, \n",
    "                          plot_summary)\n"
   ]
  },
  {
   "cell_type": "code",
   "execution_count": 2,
   "id": "2f8a375c-b696-4b14-a917-96f467eb6f51",
   "metadata": {},
   "outputs": [
    {
     "name": "stderr",
     "output_type": "stream",
     "text": [
      "/env/lib/python3.8/site-packages/distributed/node.py:180: UserWarning: Port 8787 is already in use.\n",
      "Perhaps you already have a cluster running?\n",
      "Hosting the HTTP server on port 38005 instead\n",
      "  warnings.warn(\n",
      "distributed.diskutils - INFO - Found stale lock file and directory '/home/jovyan/dev_intexp/dea-notebooks/Real_world_examples/dask-worker-space/worker-l0khkjj6', purging\n",
      "distributed.diskutils - INFO - Found stale lock file and directory '/home/jovyan/dev_intexp/dea-notebooks/Real_world_examples/dask-worker-space/worker-xd6ampyf', purging\n"
     ]
    },
    {
     "data": {
      "text/html": [
       "<div>\n",
       "    <div style=\"width: 24px; height: 24px; background-color: #e1e1e1; border: 3px solid #9D9D9D; border-radius: 5px; position: absolute;\"> </div>\n",
       "    <div style=\"margin-left: 48px;\">\n",
       "        <h3 style=\"margin-bottom: 0px;\">Client</h3>\n",
       "        <p style=\"color: #9D9D9D; margin-bottom: 0px;\">Client-8ac6ce4c-2ce7-11ed-b5a3-be3dcd76afd8</p>\n",
       "        <table style=\"width: 100%; text-align: left;\">\n",
       "\n",
       "        <tr>\n",
       "        \n",
       "            <td style=\"text-align: left;\"><strong>Connection method:</strong> Cluster object</td>\n",
       "            <td style=\"text-align: left;\"><strong>Cluster type:</strong> distributed.LocalCluster</td>\n",
       "        \n",
       "        </tr>\n",
       "\n",
       "        \n",
       "            <tr>\n",
       "                <td style=\"text-align: left;\">\n",
       "                    <strong>Dashboard: </strong> <a href=\"/user/claire.phillips@ga.gov.au/proxy/38005/status\" target=\"_blank\">/user/claire.phillips@ga.gov.au/proxy/38005/status</a>\n",
       "                </td>\n",
       "                <td style=\"text-align: left;\"></td>\n",
       "            </tr>\n",
       "        \n",
       "\n",
       "        </table>\n",
       "\n",
       "        \n",
       "            <details>\n",
       "            <summary style=\"margin-bottom: 20px;\"><h3 style=\"display: inline;\">Cluster Info</h3></summary>\n",
       "            <div class=\"jp-RenderedHTMLCommon jp-RenderedHTML jp-mod-trusted jp-OutputArea-output\">\n",
       "    <div style=\"width: 24px; height: 24px; background-color: #e1e1e1; border: 3px solid #9D9D9D; border-radius: 5px; position: absolute;\">\n",
       "    </div>\n",
       "    <div style=\"margin-left: 48px;\">\n",
       "        <h3 style=\"margin-bottom: 0px; margin-top: 0px;\">LocalCluster</h3>\n",
       "        <p style=\"color: #9D9D9D; margin-bottom: 0px;\">3fbc2b0b</p>\n",
       "        <table style=\"width: 100%; text-align: left;\">\n",
       "            <tr>\n",
       "                <td style=\"text-align: left;\">\n",
       "                    <strong>Dashboard:</strong> <a href=\"/user/claire.phillips@ga.gov.au/proxy/38005/status\" target=\"_blank\">/user/claire.phillips@ga.gov.au/proxy/38005/status</a>\n",
       "                </td>\n",
       "                <td style=\"text-align: left;\">\n",
       "                    <strong>Workers:</strong> 1\n",
       "                </td>\n",
       "            </tr>\n",
       "            <tr>\n",
       "                <td style=\"text-align: left;\">\n",
       "                    <strong>Total threads:</strong> 15\n",
       "                </td>\n",
       "                <td style=\"text-align: left;\">\n",
       "                    <strong>Total memory:</strong> 117.21 GiB\n",
       "                </td>\n",
       "            </tr>\n",
       "            \n",
       "            <tr>\n",
       "    <td style=\"text-align: left;\"><strong>Status:</strong> running</td>\n",
       "    <td style=\"text-align: left;\"><strong>Using processes:</strong> True</td>\n",
       "</tr>\n",
       "\n",
       "            \n",
       "        </table>\n",
       "\n",
       "        <details>\n",
       "            <summary style=\"margin-bottom: 20px;\">\n",
       "                <h3 style=\"display: inline;\">Scheduler Info</h3>\n",
       "            </summary>\n",
       "\n",
       "            <div style=\"\">\n",
       "    <div>\n",
       "        <div style=\"width: 24px; height: 24px; background-color: #FFF7E5; border: 3px solid #FF6132; border-radius: 5px; position: absolute;\"> </div>\n",
       "        <div style=\"margin-left: 48px;\">\n",
       "            <h3 style=\"margin-bottom: 0px;\">Scheduler</h3>\n",
       "            <p style=\"color: #9D9D9D; margin-bottom: 0px;\">Scheduler-d13be20a-3e8d-47c6-8c56-3b0bfc8b2fab</p>\n",
       "            <table style=\"width: 100%; text-align: left;\">\n",
       "                <tr>\n",
       "                    <td style=\"text-align: left;\">\n",
       "                        <strong>Comm:</strong> tcp://127.0.0.1:42683\n",
       "                    </td>\n",
       "                    <td style=\"text-align: left;\">\n",
       "                        <strong>Workers:</strong> 1\n",
       "                    </td>\n",
       "                </tr>\n",
       "                <tr>\n",
       "                    <td style=\"text-align: left;\">\n",
       "                        <strong>Dashboard:</strong> <a href=\"/user/claire.phillips@ga.gov.au/proxy/38005/status\" target=\"_blank\">/user/claire.phillips@ga.gov.au/proxy/38005/status</a>\n",
       "                    </td>\n",
       "                    <td style=\"text-align: left;\">\n",
       "                        <strong>Total threads:</strong> 15\n",
       "                    </td>\n",
       "                </tr>\n",
       "                <tr>\n",
       "                    <td style=\"text-align: left;\">\n",
       "                        <strong>Started:</strong> Just now\n",
       "                    </td>\n",
       "                    <td style=\"text-align: left;\">\n",
       "                        <strong>Total memory:</strong> 117.21 GiB\n",
       "                    </td>\n",
       "                </tr>\n",
       "            </table>\n",
       "        </div>\n",
       "    </div>\n",
       "\n",
       "    <details style=\"margin-left: 48px;\">\n",
       "        <summary style=\"margin-bottom: 20px;\">\n",
       "            <h3 style=\"display: inline;\">Workers</h3>\n",
       "        </summary>\n",
       "\n",
       "        \n",
       "        <div style=\"margin-bottom: 20px;\">\n",
       "            <div style=\"width: 24px; height: 24px; background-color: #DBF5FF; border: 3px solid #4CC9FF; border-radius: 5px; position: absolute;\"> </div>\n",
       "            <div style=\"margin-left: 48px;\">\n",
       "            <details>\n",
       "                <summary>\n",
       "                    <h4 style=\"margin-bottom: 0px; display: inline;\">Worker: 0</h4>\n",
       "                </summary>\n",
       "                <table style=\"width: 100%; text-align: left;\">\n",
       "                    <tr>\n",
       "                        <td style=\"text-align: left;\">\n",
       "                            <strong>Comm: </strong> tcp://127.0.0.1:34129\n",
       "                        </td>\n",
       "                        <td style=\"text-align: left;\">\n",
       "                            <strong>Total threads: </strong> 15\n",
       "                        </td>\n",
       "                    </tr>\n",
       "                    <tr>\n",
       "                        <td style=\"text-align: left;\">\n",
       "                            <strong>Dashboard: </strong> <a href=\"/user/claire.phillips@ga.gov.au/proxy/39705/status\" target=\"_blank\">/user/claire.phillips@ga.gov.au/proxy/39705/status</a>\n",
       "                        </td>\n",
       "                        <td style=\"text-align: left;\">\n",
       "                            <strong>Memory: </strong> 117.21 GiB\n",
       "                        </td>\n",
       "                    </tr>\n",
       "                    <tr>\n",
       "                        <td style=\"text-align: left;\">\n",
       "                            <strong>Nanny: </strong> tcp://127.0.0.1:41761\n",
       "                        </td>\n",
       "                        <td style=\"text-align: left;\"></td>\n",
       "                    </tr>\n",
       "                    <tr>\n",
       "                        <td colspan=\"2\" style=\"text-align: left;\">\n",
       "                            <strong>Local directory: </strong> /home/jovyan/dev_intexp/dea-notebooks/Real_world_examples/dask-worker-space/worker-q283zhzi\n",
       "                        </td>\n",
       "                    </tr>\n",
       "\n",
       "                    \n",
       "\n",
       "                    \n",
       "\n",
       "                </table>\n",
       "            </details>\n",
       "            </div>\n",
       "        </div>\n",
       "        \n",
       "\n",
       "    </details>\n",
       "</div>\n",
       "\n",
       "        </details>\n",
       "    </div>\n",
       "</div>\n",
       "            </details>\n",
       "        \n",
       "\n",
       "    </div>\n",
       "</div>"
      ],
      "text/plain": [
       "<Client: 'tcp://127.0.0.1:42683' processes=1 threads=15, memory=117.21 GiB>"
      ]
     },
     "metadata": {},
     "output_type": "display_data"
    }
   ],
   "source": [
    "dc = datacube.Datacube(app=\"intertidal_exposure\")\n",
    "create_local_dask_cluster()"
   ]
  },
  {
   "cell_type": "code",
   "execution_count": 3,
   "id": "4c2e0080-46a0-43c2-8c76-daff5b9ffccc",
   "metadata": {},
   "outputs": [
    {
     "data": {
      "application/vnd.jupyter.widget-view+json": {
       "model_id": "0003aba0f5534977b58c588670dac9d0",
       "version_major": 2,
       "version_minor": 0
      },
      "text/plain": [
       "Map(center=[-32.13054578933222, 136.10234378608968], controls=(ZoomControl(options=['position', 'zoom_in_text'…"
      ]
     },
     "metadata": {},
     "output_type": "display_data"
    }
   ],
   "source": [
    "m, master_gdf, roi = select_aoi()\n",
    "display (m)"
   ]
  },
  {
   "cell_type": "code",
   "execution_count": 4,
   "id": "f9133ea3-15b6-48ec-be6f-42f03258e628",
   "metadata": {},
   "outputs": [],
   "source": [
    "## Following selection of your area of interest using the shape options in the map menu\n",
    "## and your tide-modelling position, using the `marker` option, run this cell to\n",
    "## prepare the selections for analysis. Note that this is a per-pixel analysis. Consequently,\n",
    "## a small area of interest is advised to minimise computation time.\n",
    "\n",
    "tp, working_gdf, geom = prep_aoi(roi, master_gdf)"
   ]
  },
  {
   "cell_type": "code",
   "execution_count": 154,
   "id": "2876684c-c715-45e0-be09-0b9b1cb877b6",
   "metadata": {},
   "outputs": [
    {
     "data": {
      "text/plain": [
       "[122.177582, -18.036178]"
      ]
     },
     "execution_count": 154,
     "metadata": {},
     "output_type": "execute_result"
    }
   ],
   "source": [
    "tp"
   ]
  },
  {
   "cell_type": "code",
   "execution_count": 6,
   "id": "e785905a-1fdf-4d82-8806-ad4de0bf2d2f",
   "metadata": {},
   "outputs": [],
   "source": [
    "## Set the user-defined variables \n",
    "\n",
    "## Define the tidal-modelling period start and end dates. This is the period over which intertidal\n",
    "## exposure will be calculated. Ideally, this period should be an 18.6 year window to account\n",
    "## for the full average range of astronomical forcings on the tide (e.g. Haigh et al., 2011).\n",
    "## However, a shorter window is advised in this application to minimise the computation time.\n",
    "## Note that if a filter is applied to the tide-model, e.g. restricted date or tide range, then\n",
    "## a wide tidal-modelling period may be achievable on this platform.\n",
    "\n",
    "## Tidal modelling period. Format: 'YYYY-MM-DD HH:MM:SS'\n",
    "time_start = '1985-12-01 00:00:00'\n",
    "time_end = '2023-01-01 00:00:00'\n",
    "\n",
    "## Set the frequency to run the tidal model e.g '30min' or '1h'\n",
    "modelled_freq='30min'\n",
    "\n",
    "# ## Set the filter to apply for the exposure modelling. Options:\n",
    "'''\n",
    "    'all_time',\n",
    "    'daynight',\n",
    "    'springneap',\n",
    "    'wet',\n",
    "    'dry',\n",
    "    'summer',\n",
    "    'autumn',\n",
    "    'winter',\n",
    "    'spring',\n",
    "    'Jan',\n",
    "    'Feb',\n",
    "    'Mar',\n",
    "    'Apr',\n",
    "    'May',\n",
    "    'Jun',\n",
    "    'Jul',\n",
    "    'Aug',\n",
    "    'Sep',\n",
    "    'Oct',\n",
    "    'Nov',\n",
    "    'Dec'\n",
    "'''\n",
    "time_filter = ['all_time']\n",
    "\n",
    "query = {\n",
    "    'product': ['nidem'],\n",
    "    \"dask_chunks\": {\"time\": 1, \"x\": 100000, \"y\": 100000},\n",
    "    \"geopolygon\": geom\n",
    "        }"
   ]
  },
  {
   "cell_type": "code",
   "execution_count": 155,
   "id": "74f347f1-ff64-4858-9f30-5f8167803e99",
   "metadata": {},
   "outputs": [],
   "source": [
    "ds = dc.load(**query)\n",
    "ds2 = ds.where(ds.nidem > ds.nidem.min())\n",
    "ds2 = ds2.compute()"
   ]
  },
  {
   "cell_type": "code",
   "execution_count": 10,
   "id": "12d064bc-dbfa-4866-a7ef-f47f98d845ca",
   "metadata": {},
   "outputs": [],
   "source": [
    "def exp_model(time_start, \n",
    "              time_end, \n",
    "              time_filter, \n",
    "              modelled_freq, \n",
    "              tidepost_lat, \n",
    "              tidepost_lon, \n",
    "              ds):      \n",
    "    ## Run tidal modelling\n",
    "\n",
    "    # Generate range of times covering entire period of satellite record\n",
    "    all_timerange = pd.date_range(start=time_start,\n",
    "                                  end=time_end,\n",
    "                                  freq=modelled_freq)\n",
    "    all_datetimes = all_timerange.values.astype('M8[s]').astype('O').tolist()  \n",
    "\n",
    "    # Use the tidal model to compute tide heights for each observation:  \n",
    "    all_timepoints = [TimePoint(tidepost_lon, tidepost_lat, dt) \n",
    "                      for dt in all_datetimes]\n",
    "    all_predictedtides = predict_tide(all_timepoints)   \n",
    "    all_tideheights = [predictedtide.tide_m for predictedtide \n",
    "                        in all_predictedtides]\n",
    "        ## Save modelled tides as dataframe\n",
    "        ## Firstly convert the dates to series\n",
    "    all_timerange = all_timerange.to_series()\n",
    "        ## Save dates and tideheights to pd.DataFrame\n",
    "    modelledtides = pd.DataFrame(data={'timerange': all_timerange,\n",
    "                       'tideheights': all_tideheights})\n",
    "    \n",
    "    print ('Complete: Tidal modelling. Starting: Local timezone conversion')\n",
    "\n",
    "    '''---------------------------------------------------------'''\n",
    "    ## Automate timezone selection based on location of tidepost\n",
    "    ## State boundary coords from https://www.ga.gov.au/scientific-topics/national-location-information/dimensions/border-lengths\n",
    "    if tidepost_lon <= 129.0:\n",
    "        timezone = 'Australia/West'\n",
    "        local_tz = 8\n",
    "    elif (tidepost_lon > 129.0) & (tidepost_lon <= 138.0) & (tidepost_lat < 26.0):\n",
    "        timezone = 'Australia/North'\n",
    "        local_tz = 9.5\n",
    "    elif (tidepost_lon > 129.0) & (tidepost_lon <= 141.0) & (tidepost_lat > 26.0):\n",
    "        timezone = 'Australia/South'\n",
    "        local_tz = 9.5\n",
    "    elif (tidepost_lon > 138.0) & (tidepost_lat < 26.0):\n",
    "        timezone = 'Australia/Queensland'\n",
    "        local_tz = 10\n",
    "    elif (tidepost_lon > 141.0) & (tidepost_lat >= 26.0):\n",
    "        timezone = 'Australia/NSW'\n",
    "        local_tz = 10\n",
    "    else:\n",
    "        print('Unable to assign timezone from supplied tidepost coords (tidepost_lon and tidepost_lat)')\n",
    "    print('Timezone set to', timezone)\n",
    "    \n",
    "    ## Convert time_start and time_end to datetime objects in local timezone\n",
    "    time_start = pd.to_datetime(time_start, utc=True).tz_convert(timezone)\n",
    "    time_end = pd.to_datetime(time_end, utc=True).tz_convert(timezone)\n",
    "    \n",
    "    ## Convert tz-naive to tz-aware (set to UTC to match modelled timestamp input)\n",
    "    localtides = modelledtides.index.tz_localize(tz=pytz.UTC)\n",
    "\n",
    "    ## Convert tz-aware index to local timezone\n",
    "    localtides = localtides.tz_convert(timezone)\n",
    "    \n",
    "    ## Reset the index of modelledtides to reflect local times\n",
    "    modelledtides['local_timerange'] = localtides\n",
    "    modelledtides.set_index('local_timerange', inplace=True)\n",
    "    modelledtides.drop('timerange', axis=1, inplace=True)\n",
    "    \n",
    "#     '''\n",
    "#     Solar modelling section\n",
    "#     '''\n",
    "    \n",
    "#         ## Create all required time filters\n",
    "#     ## Create dict to store filtered times\n",
    "#     filters = {}\n",
    "    \n",
    "#     ## Create a filteredtides dataframe for the filters of interest\n",
    "#     for x in time_filter:\n",
    "        \n",
    "#         if x == 'all_time':\n",
    "#             filteredtides = modelledtides\n",
    "#             filters[str(x)] = filteredtides\n",
    "#     '''\n",
    "#     All the other filters go here\n",
    "#     '''\n",
    "#         else:\n",
    "#             print('''\n",
    "#             Please select one of the following `time_filter`s: \n",
    "#             all_time, day, night, springneap, wet, dry, summer, autumn, winter, \n",
    "#             spring, Jan, Feb, Mar, Apr, May, Jun, Jul, Aug, Sep, Oct, Nov, Dec, 'wet_springneap'\n",
    "#             ''')\n",
    "    \n",
    "#         print ('Complete: datetime filtering. Starting: wet/dry masking')\n",
    "    \n",
    "#     ## Create wet/dry boolean for each timestep per filter\n",
    "#     WetDry = {}\n",
    "#     for key in filters:\n",
    "                \n",
    "#         ## Boolean mask all modelled timesteps by tideheight relative to NIDEM:\n",
    "#         da_list = list(ds.nidem >= filters[str(key)]['tideheights'][timestep] \n",
    "#                        for timestep in filters[str(key)].loc[time_start:time_end].index) \n",
    "\n",
    "#         index_list = list(timestep for timestep in filters[str(key)][time_start:time_end].index)\n",
    "\n",
    "#         ## Store modelled datetimes as a pandas index\n",
    "#         index = pd.Index(index_list, name='datetime')\n",
    "\n",
    "#         ## Concatenate the arrays on the new dimension 'datetime'\n",
    "#         exp_ds = xr.concat(da_list, index)\n",
    "        \n",
    "#         WetDry[str(key)] = exp_ds\n",
    "        \n",
    "#     print ('Complete: wet/dry masking. Starting: exposure calculations')\n",
    "    \n",
    "#     '''--------------------------------------------'''\n",
    "#     ## Calculate the pc exposure per pixel for each filter\n",
    "#     ## Build empty xr.ds and append each new da during looping through WetDry\n",
    "    \n",
    "#     pxpc2 = ds#.squeeze().reset_coords() ## Copy of NIDEM ds to append exposure results into\n",
    "    \n",
    "#     for f in WetDry:\n",
    "    \n",
    "#             ## Calculate the mean of the boolean across the datetime axis (equiv. to % True)\n",
    "#         pxpc = WetDry[str(f)].mean('datetime')\n",
    "\n",
    "# #         # Compute the array from dask\n",
    "# #         pxpc = pxpc.compute() #%timeit\n",
    "\n",
    "#         ## Name the exposure time array\n",
    "#         pxpc = pxpc.rename('Exposure time (%)')\n",
    "\n",
    "#         ## Mask out non-intertidal areas\n",
    "#         pxpc = pxpc.where(pxpc > 0) ############################TEMP masked to capture 0% fraction 22/07/2022. Add back in for regular exposure modelling. CP\n",
    "        \n",
    "#         ## Append filter (f) exposure results into results dataset (pxpc2)\n",
    "#         pxpc2[str(f)] = pxpc#.drop('time')\n",
    "\n",
    "#     print('Complete: exposure calculations. Starting: ds.compute')\n",
    "#     pxpc2 = pxpc2.compute()    \n",
    "#     print ('Complete: ds.compute')\n",
    "\n",
    "    return modelledtides#, filters, pxpc2"
   ]
  },
  {
   "cell_type": "code",
   "execution_count": 11,
   "id": "1795709b-d05e-4a13-9214-e68666087f74",
   "metadata": {},
   "outputs": [
    {
     "name": "stdout",
     "output_type": "stream",
     "text": [
      "Complete: Tidal modelling. Starting: Local timezone conversion\n",
      "Timezone set to Australia/West\n"
     ]
    }
   ],
   "source": [
    "modelledtides_neg_lat = exp_model(time_start,\n",
    "                                  time_end,\n",
    "                                  time_filter,\n",
    "                                  modelled_freq,\n",
    "                                  tidepost_lat = tp[1],# = -17.420604,\n",
    "                                  tidepost_lon = tp[0],# = 140.665169,\n",
    "                                  ds=ds2)"
   ]
  },
  {
   "cell_type": "code",
   "execution_count": 163,
   "id": "6481e29a-14c5-4685-a6a8-06c07ac41531",
   "metadata": {},
   "outputs": [],
   "source": [
    "## After https://docs.scipy.org/doc/scipy/reference/generated/scipy.stats.cumfreq.html\n",
    "\n",
    "## Extract modelled tideheights as np.array\n",
    "modelledtides = (np.array(modelledtides_neg_lat.tideheights))\n",
    "\n",
    "## Calculate number of bins to use in cumulative frequency calculation, ensuring continentally consistent bin size of 0.05m (arbitrary bin size)\n",
    "binsize = 0.05\n",
    "bins = (modelledtides_neg_lat.tideheights.max() - modelledtides_neg_lat.tideheights.min())/binsize\n",
    "\n",
    "## Calculate cumulative frequencies\n",
    "res = cumfreq(modelledtides, numbins=int(bins)) #1000)\n",
    "\n",
    "# Calculate space of values for x\n",
    "x = res.lowerlimit + np.linspace(0, res.binsize*res.cumcount.size, res.cumcount.size)"
   ]
  },
  {
   "cell_type": "code",
   "execution_count": 164,
   "id": "2403f430-2239-4089-8ea5-2e8c6db858b6",
   "metadata": {},
   "outputs": [
    {
     "data": {
      "image/png": "[encoded data removed]",
      "text/plain": [
       "<Figure size 720x288 with 2 Axes>"
      ]
     },
     "metadata": {
      "needs_background": "light"
     },
     "output_type": "display_data"
    }
   ],
   "source": [
    "\n",
    "\n",
    "fig = plt.figure(figsize=(10, 4))\n",
    "ax1 = fig.add_subplot(1, 2, 1)\n",
    "ax2 = fig.add_subplot(1, 2, 2)\n",
    "ax1.hist(modelledtides, bins=100)\n",
    "ax1.set_title('Histogram')\n",
    "ax2.bar(x, res.cumcount/len(modelledtides)*100, width=res.binsize)\n",
    "ax2.set_title('Relative cumulative frequency')\n",
    "ax2.set_ylabel('Cumulative model observations (%)\\naka Exposure (%)')\n",
    "ax2.set_xlabel('Modelled tide height (m)')\n",
    "ax2.set_xlim([x.min(), x.max()])\n",
    "fig.tight_layout()"
   ]
  },
  {
   "cell_type": "code",
   "execution_count": 165,
   "id": "6266fe0d-1156-4db1-b78c-4af0122fd5e3",
   "metadata": {},
   "outputs": [
    {
     "name": "stdout",
     "output_type": "stream",
     "text": [
      "     tideheight_max     cumfreq  tideheight_min\n",
      "0         -5.016170    0.000308       -5.066170\n",
      "1         -4.965578    0.001692       -5.016170\n",
      "2         -4.914987    0.004768       -4.965578\n",
      "3         -4.864395    0.011689       -4.914987\n",
      "4         -4.813803    0.020456       -4.864395\n",
      "..              ...         ...             ...\n",
      "196        4.899803   99.985234        4.849212\n",
      "197        4.950395   99.991694        4.899803\n",
      "198        5.000987   99.996616        4.950395\n",
      "199        5.051578   99.999231        5.000987\n",
      "200        5.102170  100.000000        5.051578\n",
      "\n",
      "[201 rows x 3 columns]\n"
     ]
    }
   ],
   "source": [
    "## Save the relative cumulative frequency dataset as an array to act as a lookup table for the NIDEM heights\n",
    "testdict={'tideheight_max': x, 'cumfreq': res.cumcount/len(modelledtides)*100}\n",
    "test = pd.DataFrame(data=testdict)\n",
    "\n",
    "## tideheight_min and tideheight_max represent the binned range of tide heights modelled to the associated cumulative frequency (exposure %)\n",
    "shifted = test.tideheight_max.shift(periods=1)\n",
    "updatedvalue = test.tideheight_max[0] - binsize\n",
    "shifted.update(pd.Series([updatedvalue], index=[0]))\n",
    "\n",
    "test['tideheight_min']=shifted\n",
    "\n",
    "print(test)"
   ]
  },
  {
   "cell_type": "code",
   "execution_count": 17,
   "id": "8d1040da-c93d-4047-925d-dcef0318926a",
   "metadata": {},
   "outputs": [],
   "source": [
    "from tqdm import tqdm ## Show a smart progress meter for loops"
   ]
  },
  {
   "cell_type": "code",
   "execution_count": null,
   "id": "c7e76450-7052-4563-bbb2-971feea41922",
   "metadata": {},
   "outputs": [],
   "source": []
  },
  {
   "cell_type": "code",
   "execution_count": null,
   "id": "9ccdc211-0bad-4e85-b6a3-eb7706d58d5a",
   "metadata": {},
   "outputs": [],
   "source": [
    "# ## Slow loop through both dataframes assessing exposure values for every nidem pixel\n",
    "\n",
    "# ## Iterrows method (slow)\n",
    "# %time\n",
    "# nidem_df['Exposure'] = pd.Series(dtype='float64')\n",
    "\n",
    "# for i, d in tqdm(nidem_df[0:10].iterrows()):\n",
    "    \n",
    "#     for ii, dd in test.iterrows():\n",
    "        \n",
    "#         if (d.nidem >= dd.tideheight_min) & (d.nidem < dd.tideheight_max):\n",
    "            \n",
    "#             nidem_df.Exposure.update(pd.Series([dd.cumfreq], index=[i]))\n"
   ]
  },
  {
   "cell_type": "code",
   "execution_count": 166,
   "id": "b044f1d6-7016-41fb-8421-6aeeaad062d1",
   "metadata": {},
   "outputs": [
    {
     "name": "stdout",
     "output_type": "stream",
     "text": [
      "CPU times: user 3 µs, sys: 0 ns, total: 3 µs\n",
      "Wall time: 6.68 µs\n"
     ]
    },
    {
     "name": "stderr",
     "output_type": "stream",
     "text": [
      "100%|██████████| 1247/1247 [09:34<00:00,  2.17it/s]\n"
     ]
    }
   ],
   "source": [
    "## Duplicate the NIDEM DataArray to replace with Exposure values\n",
    "Exp = ds2.nidem.copy(deep=True)\n",
    "Exp = Exp.rename('Exposure')\n",
    "\n",
    "%time\n",
    "for x in tqdm(range(0,len(ds2.x))):\n",
    "    for y in range(0,len(ds2.y)):\n",
    "        d = ds2.isel(x=x, y=y)\n",
    "        v = d['nidem'].values[0]\n",
    "        if str(v) == 'nan':\n",
    "            continue\n",
    "        else:\n",
    "\n",
    "            ## the largest element of tideheight_min that is less than `v`\n",
    "            small = test.tideheight_min[test.tideheight_min <= v].max()\n",
    "\n",
    "            ## the smallest element of tideheight_max that is greater than `v`\n",
    "            large = test.tideheight_max[test.tideheight_max > v].min()\n",
    "\n",
    "            ## find the associated cumulative frequence (exposure) with `small` and `large`\n",
    "            cf = test.loc[(test.tideheight_min==small) & (test.tideheight_max==large)]\n",
    "\n",
    "#             ds2.isel(x=x, y=y)['Exposure'] = cf.cumfreq\n",
    "            Exp.isel(x=x, y=y).values[0] = cf.cumfreq\n",
    "    \n",
    "## Add the exposure array to the nidem DataSet\n",
    "ds2['Exposure'] = Exp\n",
    "\n",
    "######################## ToDo: Try and replicate this loop directly on the xr.DataSet using xr.apply_ufunc  #############################"
   ]
  },
  {
   "cell_type": "code",
   "execution_count": 167,
   "id": "40410e3b-9f53-4c93-9bd6-63034494457d",
   "metadata": {},
   "outputs": [
    {
     "data": {
      "text/plain": [
       "<bound method Figure.tight_layout of <Figure size 1440x576 with 4 Axes>>"
      ]
     },
     "execution_count": 167,
     "metadata": {},
     "output_type": "execute_result"
    },
    {
     "data": {
      "image/png": "[encoded data removed]",
      "text/plain": [
       "<Figure size 1440x576 with 4 Axes>"
      ]
     },
     "metadata": {
      "needs_background": "light"
     },
     "output_type": "display_data"
    }
   ],
   "source": [
    "plt.close()\n",
    "\n",
    "fig = plt.figure(figsize=(20, 8))\n",
    "ax1 = fig.add_subplot(1, 2, 1)\n",
    "ax2 = fig.add_subplot(1, 2, 2)\n",
    "ds2.nidem.plot(ax=ax1, cmap='viridis')\n",
    "ds2.Exposure.plot(ax=ax2, cmap='viridis')\n",
    "# ax1.plot(ds2.nidem.isel(time=0))\n",
    "# ax2.plot(ds2.Exposure.isel(time=0))\n",
    "fig.tight_layout\n",
    "\n",
    "\n",
    "# ax1.hist(modelledtides, bins=100)\n",
    "# ax1.set_title('Histogram')\n",
    "# ax2.bar(x, res.cumcount/len(modelledtides)*100, width=res.binsize)\n",
    "# ax2.set_title('Relative cumulative frequency')\n",
    "# ax2.set_ylabel('Cumulative model observations (%)\\naka Exposure (%)')\n",
    "# ax2.set_xlabel('Modelled tide height (m)')\n",
    "# ax2.set_xlim([x.min(), x.max()])\n",
    "# fig.tight_layout()"
   ]
  },
  {
   "cell_type": "code",
   "execution_count": 149,
   "id": "33513c0f-33fd-44b0-a4ed-78ab8f06d0f4",
   "metadata": {},
   "outputs": [],
   "source": [
    "from datacube.utils.cog import write_cog"
   ]
  },
  {
   "cell_type": "code",
   "execution_count": 168,
   "id": "c243cca1-981d-4de2-8cd5-118868c265f3",
   "metadata": {},
   "outputs": [
    {
     "data": {
      "text/plain": [
       "PosixPath('binsize_0.05_nidem_rgb.tif')"
      ]
     },
     "execution_count": 168,
     "metadata": {},
     "output_type": "execute_result"
    }
   ],
   "source": [
    "# Select a single time-slice\n",
    "rgb_da = ds2.nidem.isel(time=0)#.to_array()\n",
    "\n",
    "# Write multi-band GeoTIFF to a location\n",
    "write_cog(geo_im=rgb_da,\n",
    "          fname='binsize_'+str(binsize)+'_nidem_rgb.tif',\n",
    "          overwrite=True)"
   ]
  },
  {
   "cell_type": "code",
   "execution_count": 169,
   "id": "4ccf6aa3-eed0-4244-8ea5-114a57feb8fd",
   "metadata": {},
   "outputs": [
    {
     "data": {
      "text/plain": [
       "PosixPath('binsize_0.05_exposure_rgb.tif')"
      ]
     },
     "execution_count": 169,
     "metadata": {},
     "output_type": "execute_result"
    }
   ],
   "source": [
    "# Select a single time-slice\n",
    "rgb_da = ds2.Exposure.isel(time=0)#.to_array()\n",
    "\n",
    "# Write multi-band GeoTIFF to a location\n",
    "write_cog(geo_im=rgb_da,\n",
    "          fname='binsize_'+str(binsize)+'_exposure_rgb.tif',\n",
    "          overwrite=True)"
   ]
  },
  {
   "cell_type": "code",
   "execution_count": null,
   "id": "1a56dd37-b0a8-4ce2-8fff-868f55468884",
   "metadata": {},
   "outputs": [],
   "source": []
  },
  {
   "cell_type": "code",
   "execution_count": null,
   "id": "f3e7e7a4-d234-4f90-9f39-54d18e032817",
   "metadata": {},
   "outputs": [],
   "source": []
  },
  {
   "cell_type": "code",
   "execution_count": null,
   "id": "1d219229-085a-4df0-937b-9797daacbfde",
   "metadata": {},
   "outputs": [],
   "source": []
  },
  {
   "cell_type": "code",
   "execution_count": null,
   "id": "a66711bd-ae1c-43a8-b693-82a842a39706",
   "metadata": {},
   "outputs": [],
   "source": []
  },
  {
   "cell_type": "code",
   "execution_count": null,
   "id": "264b329b-3a22-4e4f-b178-be91ca2c9068",
   "metadata": {},
   "outputs": [],
   "source": []
  },
  {
   "cell_type": "code",
   "execution_count": null,
   "id": "a79a16c3-372a-4bc8-9598-4c34e152cd04",
   "metadata": {},
   "outputs": [],
   "source": []
  },
  {
   "cell_type": "code",
   "execution_count": 133,
   "id": "ecf90957-2d3d-40dd-af85-3e63355091ea",
   "metadata": {},
   "outputs": [],
   "source": [
    "# ## Attempt a solution using xr.apply_ufunc\n",
    "\n",
    "# def Exp_calc(ds2.isel(time=0), ds2.x, ds2.y, test):\n",
    "#     for y in ds2.nidem.x:\n",
    "#         d = ds2.isel(x=x, y=y)\n",
    "#         v = d['nidem'].values[0]\n",
    "#         if str(v) == 'nan':\n",
    "#             continue\n",
    "#         else:\n",
    "\n",
    "#             ## the largest element of tideheight_min that is less than `v`\n",
    "#             small = test.tideheight_min[test.tideheight_min <= v].max()\n",
    "\n",
    "#             ## the smallest element of tideheight_max that is greater than `v`\n",
    "#             large = test.tideheight_max[test.tideheight_max > v].min()\n",
    "\n",
    "#             ## find the associated cumulative frequence (exposure) with `small` and `large`\n",
    "#             cf = test.loc[(test.tideheight_min==small) & (test.tideheight_max==large)]\n",
    "\n",
    "# #             ds2.isel(x=x, y=y)['Exposure'] = cf.cumfreq\n",
    "# #             Exp.isel(x=x, y=y) = cf.cumfreq\n",
    "#             return cf.cumfreq\n",
    "\n",
    "\n"
   ]
  },
  {
   "cell_type": "code",
   "execution_count": null,
   "id": "7a5894fc-4f62-425d-bc1d-8e788d4e7dbd",
   "metadata": {},
   "outputs": [],
   "source": []
  },
  {
   "cell_type": "code",
   "execution_count": null,
   "id": "6acba552-ffef-41e9-8a2c-903225f4ac72",
   "metadata": {},
   "outputs": [],
   "source": []
  },
  {
   "cell_type": "code",
   "execution_count": null,
   "id": "c9e2ff7d-bd0e-4aa2-9e94-d2dbb6df538c",
   "metadata": {},
   "outputs": [],
   "source": []
  },
  {
   "cell_type": "code",
   "execution_count": null,
   "id": "fd1f5fe7-c0ba-43f8-8b5b-de86b0ee69a9",
   "metadata": {},
   "outputs": [],
   "source": []
  },
  {
   "cell_type": "code",
   "execution_count": null,
   "id": "f2c611bb-9e66-4af2-b1e9-133cf9e4e200",
   "metadata": {},
   "outputs": [],
   "source": []
  },
  {
   "cell_type": "code",
   "execution_count": null,
   "id": "db797fb1-6e78-42e2-a058-0b034d340248",
   "metadata": {},
   "outputs": [],
   "source": []
  }
 ],
 "metadata": {
  "kernelspec": {
   "display_name": "Python 3 (ipykernel)",
   "language": "python",
   "name": "python3"
  },
  "language_info": {
   "codemirror_mode": {
    "name": "ipython",
    "version": 3
   },
   "file_extension": ".py",
   "mimetype": "text/x-python",
   "name": "python",
   "nbconvert_exporter": "python",
   "pygments_lexer": "ipython3",
   "version": "3.8.10"
  }
 },
 "nbformat": 4,
 "nbformat_minor": 5
}
