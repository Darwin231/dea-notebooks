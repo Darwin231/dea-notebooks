{
 "cells": [
  {
   "cell_type": "markdown",
   "id": "d512fe5c-5001-4c36-8270-9ac034ba8a9d",
   "metadata": {},
   "source": [
    "# Intertidal Exposure calculation\n",
    "\n",
    "Calculate the percentage time that intertidal regions are exposed (emersed) from tide coverage (seawater) by comparing the intertidal elevation against long-term local tide modelling\n",
    "\n",
    "1. Select an area of interest from the interactive map by drawing a polygon around your area *and* using a marker to designate the location of the tide post for tidal modelling.\n",
    "2. Extract the all-time NIDEM C2 values for the area of interest\n",
    "3. Determine the input parameters for the tidal modelling including: \n",
    "    - modelling time period (ideally a full nodal cycle, 18.6 years, to incorporate the full range of tidal harmonics)\n",
    "    - any filters on the tide modelling (e.g. solar exposure, seasonality, spring/neap tidal cycles etc)\n",
    "4. Run the tidal model and create a relative cumulative frequency (CF) distribution of the results\n",
    "5. Using xarray dataarrays of both the intertidal elevation (NIDEM) and the CF of the tidal modelling, re-index NIDEM against the CF\n",
    "distribution to generate the relative percentage of time each elevation appears in the tidal modelling (aka the exposure/emersion)"
   ]
  },
  {
   "cell_type": "code",
   "execution_count": 33,
   "id": "957fb949-9452-4dba-9ce6-160ba259eadc",
   "metadata": {},
   "outputs": [],
   "source": [
    "## Import modules\n",
    "\n",
    "import datacube \n",
    "import matplotlib.pyplot as plt\n",
    "import pandas as pd\n",
    "import pytz\n",
    "import numpy as np\n",
    "import xarray as xr\n",
    "from tqdm import tqdm ## Show a smart progress meter for loops\n",
    "\n",
    "from scipy.stats import cumfreq\n",
    "from otps import TimePoint, predict_tide\n",
    "# from otps import predict_tide\n",
    "from dea_tools.dask import create_local_dask_cluster\n",
    "from datacube.utils.cog import write_cog\n",
    "\n",
    "import sys\n",
    "sys.path.append(\"../Tools/dea_tools\")\n",
    "from coastal_temp import (select_aoi, \n",
    "                          exp_model, \n",
    "                          prep_aoi, \n",
    "                          plot_summary)\n"
   ]
  },
  {
   "cell_type": "code",
   "execution_count": 3,
   "id": "2f8a375c-b696-4b14-a917-96f467eb6f51",
   "metadata": {},
   "outputs": [
    {
     "name": "stderr",
     "output_type": "stream",
     "text": [
      "distributed.diskutils - INFO - Found stale lock file and directory '/home/jovyan/dev_intexp/dea-notebooks/Real_world_examples/dask-worker-space/worker-3rwh3fbp', purging\n",
      "distributed.diskutils - INFO - Found stale lock file and directory '/home/jovyan/dev_intexp/dea-notebooks/Real_world_examples/dask-worker-space/worker-84uhvbyf', purging\n",
      "distributed.diskutils - INFO - Found stale lock file and directory '/home/jovyan/dev_intexp/dea-notebooks/Real_world_examples/dask-worker-space/worker-c6mvj507', purging\n"
     ]
    },
    {
     "data": {
      "text/html": [
       "<div>\n",
       "    <div style=\"width: 24px; height: 24px; background-color: #e1e1e1; border: 3px solid #9D9D9D; border-radius: 5px; position: absolute;\"> </div>\n",
       "    <div style=\"margin-left: 48px;\">\n",
       "        <h3 style=\"margin-bottom: 0px;\">Client</h3>\n",
       "        <p style=\"color: #9D9D9D; margin-bottom: 0px;\">Client-12b765db-2fd6-11ed-8076-127e94e5b060</p>\n",
       "        <table style=\"width: 100%; text-align: left;\">\n",
       "\n",
       "        <tr>\n",
       "        \n",
       "            <td style=\"text-align: left;\"><strong>Connection method:</strong> Cluster object</td>\n",
       "            <td style=\"text-align: left;\"><strong>Cluster type:</strong> distributed.LocalCluster</td>\n",
       "        \n",
       "        </tr>\n",
       "\n",
       "        \n",
       "            <tr>\n",
       "                <td style=\"text-align: left;\">\n",
       "                    <strong>Dashboard: </strong> <a href=\"/user/claire.phillips@ga.gov.au/proxy/8787/status\" target=\"_blank\">/user/claire.phillips@ga.gov.au/proxy/8787/status</a>\n",
       "                </td>\n",
       "                <td style=\"text-align: left;\"></td>\n",
       "            </tr>\n",
       "        \n",
       "\n",
       "        </table>\n",
       "\n",
       "        \n",
       "            <details>\n",
       "            <summary style=\"margin-bottom: 20px;\"><h3 style=\"display: inline;\">Cluster Info</h3></summary>\n",
       "            <div class=\"jp-RenderedHTMLCommon jp-RenderedHTML jp-mod-trusted jp-OutputArea-output\">\n",
       "    <div style=\"width: 24px; height: 24px; background-color: #e1e1e1; border: 3px solid #9D9D9D; border-radius: 5px; position: absolute;\">\n",
       "    </div>\n",
       "    <div style=\"margin-left: 48px;\">\n",
       "        <h3 style=\"margin-bottom: 0px; margin-top: 0px;\">LocalCluster</h3>\n",
       "        <p style=\"color: #9D9D9D; margin-bottom: 0px;\">a81d0766</p>\n",
       "        <table style=\"width: 100%; text-align: left;\">\n",
       "            <tr>\n",
       "                <td style=\"text-align: left;\">\n",
       "                    <strong>Dashboard:</strong> <a href=\"/user/claire.phillips@ga.gov.au/proxy/8787/status\" target=\"_blank\">/user/claire.phillips@ga.gov.au/proxy/8787/status</a>\n",
       "                </td>\n",
       "                <td style=\"text-align: left;\">\n",
       "                    <strong>Workers:</strong> 1\n",
       "                </td>\n",
       "            </tr>\n",
       "            <tr>\n",
       "                <td style=\"text-align: left;\">\n",
       "                    <strong>Total threads:</strong> 15\n",
       "                </td>\n",
       "                <td style=\"text-align: left;\">\n",
       "                    <strong>Total memory:</strong> 117.21 GiB\n",
       "                </td>\n",
       "            </tr>\n",
       "            \n",
       "            <tr>\n",
       "    <td style=\"text-align: left;\"><strong>Status:</strong> running</td>\n",
       "    <td style=\"text-align: left;\"><strong>Using processes:</strong> True</td>\n",
       "</tr>\n",
       "\n",
       "            \n",
       "        </table>\n",
       "\n",
       "        <details>\n",
       "            <summary style=\"margin-bottom: 20px;\">\n",
       "                <h3 style=\"display: inline;\">Scheduler Info</h3>\n",
       "            </summary>\n",
       "\n",
       "            <div style=\"\">\n",
       "    <div>\n",
       "        <div style=\"width: 24px; height: 24px; background-color: #FFF7E5; border: 3px solid #FF6132; border-radius: 5px; position: absolute;\"> </div>\n",
       "        <div style=\"margin-left: 48px;\">\n",
       "            <h3 style=\"margin-bottom: 0px;\">Scheduler</h3>\n",
       "            <p style=\"color: #9D9D9D; margin-bottom: 0px;\">Scheduler-b1c66ad7-0d54-48e2-a714-f2ef9612991b</p>\n",
       "            <table style=\"width: 100%; text-align: left;\">\n",
       "                <tr>\n",
       "                    <td style=\"text-align: left;\">\n",
       "                        <strong>Comm:</strong> tcp://127.0.0.1:35071\n",
       "                    </td>\n",
       "                    <td style=\"text-align: left;\">\n",
       "                        <strong>Workers:</strong> 1\n",
       "                    </td>\n",
       "                </tr>\n",
       "                <tr>\n",
       "                    <td style=\"text-align: left;\">\n",
       "                        <strong>Dashboard:</strong> <a href=\"/user/claire.phillips@ga.gov.au/proxy/8787/status\" target=\"_blank\">/user/claire.phillips@ga.gov.au/proxy/8787/status</a>\n",
       "                    </td>\n",
       "                    <td style=\"text-align: left;\">\n",
       "                        <strong>Total threads:</strong> 15\n",
       "                    </td>\n",
       "                </tr>\n",
       "                <tr>\n",
       "                    <td style=\"text-align: left;\">\n",
       "                        <strong>Started:</strong> Just now\n",
       "                    </td>\n",
       "                    <td style=\"text-align: left;\">\n",
       "                        <strong>Total memory:</strong> 117.21 GiB\n",
       "                    </td>\n",
       "                </tr>\n",
       "            </table>\n",
       "        </div>\n",
       "    </div>\n",
       "\n",
       "    <details style=\"margin-left: 48px;\">\n",
       "        <summary style=\"margin-bottom: 20px;\">\n",
       "            <h3 style=\"display: inline;\">Workers</h3>\n",
       "        </summary>\n",
       "\n",
       "        \n",
       "        <div style=\"margin-bottom: 20px;\">\n",
       "            <div style=\"width: 24px; height: 24px; background-color: #DBF5FF; border: 3px solid #4CC9FF; border-radius: 5px; position: absolute;\"> </div>\n",
       "            <div style=\"margin-left: 48px;\">\n",
       "            <details>\n",
       "                <summary>\n",
       "                    <h4 style=\"margin-bottom: 0px; display: inline;\">Worker: 0</h4>\n",
       "                </summary>\n",
       "                <table style=\"width: 100%; text-align: left;\">\n",
       "                    <tr>\n",
       "                        <td style=\"text-align: left;\">\n",
       "                            <strong>Comm: </strong> tcp://127.0.0.1:46039\n",
       "                        </td>\n",
       "                        <td style=\"text-align: left;\">\n",
       "                            <strong>Total threads: </strong> 15\n",
       "                        </td>\n",
       "                    </tr>\n",
       "                    <tr>\n",
       "                        <td style=\"text-align: left;\">\n",
       "                            <strong>Dashboard: </strong> <a href=\"/user/claire.phillips@ga.gov.au/proxy/41499/status\" target=\"_blank\">/user/claire.phillips@ga.gov.au/proxy/41499/status</a>\n",
       "                        </td>\n",
       "                        <td style=\"text-align: left;\">\n",
       "                            <strong>Memory: </strong> 117.21 GiB\n",
       "                        </td>\n",
       "                    </tr>\n",
       "                    <tr>\n",
       "                        <td style=\"text-align: left;\">\n",
       "                            <strong>Nanny: </strong> tcp://127.0.0.1:35601\n",
       "                        </td>\n",
       "                        <td style=\"text-align: left;\"></td>\n",
       "                    </tr>\n",
       "                    <tr>\n",
       "                        <td colspan=\"2\" style=\"text-align: left;\">\n",
       "                            <strong>Local directory: </strong> /home/jovyan/dev_intexp/dea-notebooks/Real_world_examples/dask-worker-space/worker-wa1nw_wn\n",
       "                        </td>\n",
       "                    </tr>\n",
       "\n",
       "                    \n",
       "\n",
       "                    \n",
       "\n",
       "                </table>\n",
       "            </details>\n",
       "            </div>\n",
       "        </div>\n",
       "        \n",
       "\n",
       "    </details>\n",
       "</div>\n",
       "\n",
       "        </details>\n",
       "    </div>\n",
       "</div>\n",
       "            </details>\n",
       "        \n",
       "\n",
       "    </div>\n",
       "</div>"
      ],
      "text/plain": [
       "<Client: 'tcp://127.0.0.1:35071' processes=1 threads=15, memory=117.21 GiB>"
      ]
     },
     "metadata": {},
     "output_type": "display_data"
    }
   ],
   "source": [
    "## Create datacube instance and local dask cluster\n",
    "\n",
    "dc = datacube.Datacube(app=\"intertidal_exposure\")\n",
    "create_local_dask_cluster()"
   ]
  },
  {
   "cell_type": "code",
   "execution_count": 4,
   "id": "4c2e0080-46a0-43c2-8c76-daff5b9ffccc",
   "metadata": {},
   "outputs": [
    {
     "data": {
      "application/vnd.jupyter.widget-view+json": {
       "model_id": "f8032d29fba5416ba478c5ad08fbf0b2",
       "version_major": 2,
       "version_minor": 0
      },
      "text/plain": [
       "Map(center=[-32.13054578933222, 136.10234378608968], controls=(ZoomControl(options=['position', 'zoom_in_text'…"
      ]
     },
     "metadata": {},
     "output_type": "display_data"
    }
   ],
   "source": [
    "## Draw a polygon around your (small) area of interest. Also use a marker to designate the location of your tide modelling\n",
    "\n",
    "m, master_gdf, roi = select_aoi()\n",
    "display (m)"
   ]
  },
  {
   "cell_type": "code",
   "execution_count": 5,
   "id": "f9133ea3-15b6-48ec-be6f-42f03258e628",
   "metadata": {},
   "outputs": [],
   "source": [
    "## Prepare your selections for analysis. Note that this is a per-pixel analysis. Consequently,\n",
    "## a small area of interest is advised to minimise computation time.\n",
    "\n",
    "tp, working_gdf, geom = prep_aoi(roi, master_gdf)"
   ]
  },
  {
   "cell_type": "code",
   "execution_count": 7,
   "id": "e785905a-1fdf-4d82-8806-ad4de0bf2d2f",
   "metadata": {},
   "outputs": [],
   "source": [
    "## Set the user-defined variables \n",
    "\n",
    "## Define the tidal-modelling period start and end dates. This is the period over which intertidal\n",
    "## exposure will be calculated. Ideally, this period should be an 18.6 year window to account\n",
    "## for the full average range of astronomical forcings on the tide (e.g. Haigh et al., 2011).\n",
    "## However, a shorter window is advised in this application to minimise the computation time.\n",
    "## Note that if a filter is applied to the tide-model, e.g. restricted date or tide range, then\n",
    "## a wide tidal-modelling period may be achievable on this platform.\n",
    "\n",
    "## Tidal modelling period. Format: 'YYYY-MM-DD HH:MM:SS'\n",
    "time_start = '1985-12-01 00:00:00'\n",
    "time_end = '2023-01-01 00:00:00'\n",
    "\n",
    "## Set the frequency to run the tidal model e.g '30min' or '1h'\n",
    "modelled_freq='30min'\n",
    "\n",
    "# ## Set the filter to apply for the exposure modelling. Options:\n",
    "'''\n",
    "    'all_time',\n",
    "    'daynight',\n",
    "    'springneap',\n",
    "    'wet',\n",
    "    'dry',\n",
    "    'summer',\n",
    "    'autumn',\n",
    "    'winter',\n",
    "    'spring',\n",
    "    'Jan',\n",
    "    'Feb',\n",
    "    'Mar',\n",
    "    'Apr',\n",
    "    'May',\n",
    "    'Jun',\n",
    "    'Jul',\n",
    "    'Aug',\n",
    "    'Sep',\n",
    "    'Oct',\n",
    "    'Nov',\n",
    "    'Dec'\n",
    "'''\n",
    "time_filter = ['all_time']\n",
    "\n",
    "query = {\n",
    "    'product': ['nidem'],\n",
    "    \"dask_chunks\": {\"time\": 1, \"x\": 100000, \"y\": 100000},\n",
    "    \"geopolygon\": geom\n",
    "        }"
   ]
  },
  {
   "cell_type": "code",
   "execution_count": 8,
   "id": "74f347f1-ff64-4858-9f30-5f8167803e99",
   "metadata": {},
   "outputs": [],
   "source": [
    "## Load NIDEM elevation data\n",
    "\n",
    "ds = dc.load(**query)\n",
    "ds2 = ds.where(ds.nidem > ds.nidem.min())\n",
    "ds2 = ds2.compute() ## Bury this in a later func"
   ]
  },
  {
   "cell_type": "code",
   "execution_count": 9,
   "id": "12d064bc-dbfa-4866-a7ef-f47f98d845ca",
   "metadata": {},
   "outputs": [],
   "source": [
    "## Define the tide-modelling function\n",
    "\n",
    "def exp_model(time_start, \n",
    "              time_end, \n",
    "              time_filter, \n",
    "              modelled_freq, \n",
    "              tidepost_lat, \n",
    "              tidepost_lon, \n",
    "              ds):      \n",
    "    ## Run tidal modelling\n",
    "\n",
    "    # Generate range of times covering entire period of satellite record\n",
    "    all_timerange = pd.date_range(start=time_start,\n",
    "                                  end=time_end,\n",
    "                                  freq=modelled_freq)\n",
    "    all_datetimes = all_timerange.values.astype('M8[s]').astype('O').tolist()  \n",
    "\n",
    "    # Use the tidal model to compute tide heights for each observation:  \n",
    "    all_timepoints = [TimePoint(tidepost_lon, tidepost_lat, dt) \n",
    "                      for dt in all_datetimes]\n",
    "    all_predictedtides = predict_tide(all_timepoints)   \n",
    "    all_tideheights = [predictedtide.tide_m for predictedtide \n",
    "                        in all_predictedtides]\n",
    "        ## Save modelled tides as dataframe\n",
    "        ## Firstly convert the dates to series\n",
    "    all_timerange = all_timerange.to_series()\n",
    "        ## Save dates and tideheights to pd.DataFrame\n",
    "    modelledtides = pd.DataFrame(data={'timerange': all_timerange,\n",
    "                       'tideheights': all_tideheights})\n",
    "    \n",
    "    print ('Complete: Tidal modelling. Starting: Local timezone conversion')\n",
    "\n",
    "    '''---------------------------------------------------------'''\n",
    "    ## Automate timezone selection based on location of tidepost\n",
    "    ## State boundary coords from https://www.ga.gov.au/scientific-topics/national-location-information/dimensions/border-lengths\n",
    "    if tidepost_lon <= 129.0:\n",
    "        timezone = 'Australia/West'\n",
    "        local_tz = 8\n",
    "    elif (tidepost_lon > 129.0) & (tidepost_lon <= 138.0) & (tidepost_lat < 26.0):\n",
    "        timezone = 'Australia/North'\n",
    "        local_tz = 9.5\n",
    "    elif (tidepost_lon > 129.0) & (tidepost_lon <= 141.0) & (tidepost_lat > 26.0):\n",
    "        timezone = 'Australia/South'\n",
    "        local_tz = 9.5\n",
    "    elif (tidepost_lon > 138.0) & (tidepost_lat < 26.0):\n",
    "        timezone = 'Australia/Queensland'\n",
    "        local_tz = 10\n",
    "    elif (tidepost_lon > 141.0) & (tidepost_lat >= 26.0):\n",
    "        timezone = 'Australia/NSW'\n",
    "        local_tz = 10\n",
    "    else:\n",
    "        print('Unable to assign timezone from supplied tidepost coords (tidepost_lon and tidepost_lat)')\n",
    "    print('Timezone set to', timezone)\n",
    "    \n",
    "    ## Convert time_start and time_end to datetime objects in local timezone\n",
    "    time_start = pd.to_datetime(time_start, utc=True).tz_convert(timezone)\n",
    "    time_end = pd.to_datetime(time_end, utc=True).tz_convert(timezone)\n",
    "    \n",
    "    ## Convert tz-naive to tz-aware (set to UTC to match modelled timestamp input)\n",
    "    localtides = modelledtides.index.tz_localize(tz=pytz.UTC)\n",
    "\n",
    "    ## Convert tz-aware index to local timezone\n",
    "    localtides = localtides.tz_convert(timezone)\n",
    "    \n",
    "    ## Reset the index of modelledtides to reflect local times\n",
    "    modelledtides['local_timerange'] = localtides\n",
    "    modelledtides.set_index('local_timerange', inplace=True)\n",
    "    modelledtides.drop('timerange', axis=1, inplace=True)\n",
    "    \n",
    "#     '''\n",
    "#     Solar modelling section\n",
    "#     '''\n",
    "    \n",
    "#         ## Create all required time filters\n",
    "#     ## Create dict to store filtered times\n",
    "#     filters = {}\n",
    "    \n",
    "#     ## Create a filteredtides dataframe for the filters of interest\n",
    "#     for x in time_filter:\n",
    "        \n",
    "#         if x == 'all_time':\n",
    "#             filteredtides = modelledtides\n",
    "#             filters[str(x)] = filteredtides\n",
    "#     '''\n",
    "#     All the other filters go here\n",
    "#     '''\n",
    "#         else:\n",
    "#             print('''\n",
    "#             Please select one of the following `time_filter`s: \n",
    "#             all_time, day, night, springneap, wet, dry, summer, autumn, winter, \n",
    "#             spring, Jan, Feb, Mar, Apr, May, Jun, Jul, Aug, Sep, Oct, Nov, Dec, 'wet_springneap'\n",
    "#             ''')\n",
    "    \n",
    "#         print ('Complete: datetime filtering. Starting: wet/dry masking')\n",
    "    \n",
    "\n",
    "#     print('Complete: exposure calculations. Starting: ds.compute')\n",
    "#     pxpc2 = pxpc2.compute()    \n",
    "#     print ('Complete: ds.compute')\n",
    "\n",
    "    return modelledtides#, filters, pxpc2"
   ]
  },
  {
   "cell_type": "code",
   "execution_count": 10,
   "id": "1795709b-d05e-4a13-9214-e68666087f74",
   "metadata": {},
   "outputs": [
    {
     "name": "stdout",
     "output_type": "stream",
     "text": [
      "Complete: Tidal modelling. Starting: Local timezone conversion\n",
      "Timezone set to Australia/Queensland\n"
     ]
    }
   ],
   "source": [
    "## Use the exp_model (needs renaming) function to generate the tidal model dataset\n",
    "\n",
    "modelledtides_neg_lat = exp_model(time_start,\n",
    "                                  time_end,\n",
    "                                  time_filter,\n",
    "                                  modelled_freq,\n",
    "                                  tidepost_lat = tp[1],# = -17.420604,\n",
    "                                  tidepost_lon = tp[0],# = 140.665169,\n",
    "                                  ds=ds2)"
   ]
  },
  {
   "cell_type": "code",
   "execution_count": 25,
   "id": "6481e29a-14c5-4685-a6a8-06c07ac41531",
   "metadata": {},
   "outputs": [],
   "source": [
    "## Calculate the cumulative frequency distribution of the modelled tides\n",
    "## After https://docs.scipy.org/doc/scipy/reference/generated/scipy.stats.cumfreq.html\n",
    "\n",
    "## Extract modelled tideheights as np.array\n",
    "modelledtides = (np.array(modelledtides_neg_lat.tideheights))\n",
    "\n",
    "## Calculate number of bins to use in cumulative frequency calculation, ensuring continentally \n",
    "## consistent bin size of 0.05m (arbitrary bin size)\n",
    "binsize = 0.01\n",
    "bins = (modelledtides_neg_lat.tideheights.max() - modelledtides_neg_lat.tideheights.min())/binsize\n",
    "\n",
    "## Calculate cumulative frequencies\n",
    "res = cumfreq(modelledtides, numbins=int(bins)) #1000)\n",
    "\n",
    "# Calculate space of values for x\n",
    "x = res.lowerlimit + np.linspace(0, res.binsize*res.cumcount.size, res.cumcount.size)"
   ]
  },
  {
   "cell_type": "code",
   "execution_count": 26,
   "id": "2403f430-2239-4089-8ea5-2e8c6db858b6",
   "metadata": {},
   "outputs": [
    {
     "data": {
      "image/png": "[encoded data removed]",
      "text/plain": [
       "<Figure size 720x288 with 2 Axes>"
      ]
     },
     "metadata": {
      "needs_background": "light"
     },
     "output_type": "display_data"
    }
   ],
   "source": [
    "## Visualise the distribution of observations in the tidal model dataset and the relative CF distribution\n",
    "\n",
    "fig = plt.figure(figsize=(10, 4))\n",
    "ax1 = fig.add_subplot(1, 2, 1)\n",
    "ax2 = fig.add_subplot(1, 2, 2)\n",
    "ax1.hist(modelledtides, bins=100)\n",
    "ax1.set_title('Histogram')\n",
    "ax2.bar(x, res.cumcount/len(modelledtides)*100, width=res.binsize)\n",
    "ax2.set_title('Relative cumulative frequency')\n",
    "ax2.set_ylabel('Cumulative model observations (%)\\naka Exposure (%)')\n",
    "ax2.set_xlabel('Modelled tide height (m)')\n",
    "ax2.set_xlim([x.min(), x.max()])\n",
    "fig.tight_layout()"
   ]
  },
  {
   "cell_type": "code",
   "execution_count": 27,
   "id": "6266fe0d-1156-4db1-b78c-4af0122fd5e3",
   "metadata": {},
   "outputs": [],
   "source": [
    "## Save the *relative* cumulative frequency dataset as an array to act as a lookup table for the NIDEM heights\n",
    "\n",
    "\n",
    "CFdict={'tideheight_max': x, 'cumfreq': res.cumcount/len(modelledtides)*100}\n",
    "CF_df = pd.DataFrame(data=CFdict)\n",
    "\n",
    "## tideheight_min and tideheight_max represent the binned range of tide heights modelled to the associated cumulative frequency (exposure %)\n",
    "shifted = CF_df.tideheight_max.shift(periods=1)\n",
    "updatedvalue = CF_df.tideheight_max[0] - binsize\n",
    "shifted.update(pd.Series([updatedvalue], index=[0]))\n",
    "\n",
    "CF_df['tideheight_min']=shifted\n",
    "\n",
    "CF_df['Elevation_midpoint'] = (CF_df.tideheight_max + CF_df.tideheight_min)/2\n",
    "CF_df = CF_df.set_index('Elevation_midpoint')\n",
    "\n",
    "## Create xarray object from cumulative frequency dataframe\n",
    "CF_ds = xr.Dataset.from_dataframe(CF_df)\n"
   ]
  },
  {
   "cell_type": "code",
   "execution_count": 29,
   "id": "ba1d3ad5-c4b7-40a4-9f30-27b7112687ed",
   "metadata": {},
   "outputs": [],
   "source": [
    "## Calculate the exposure dataset by indexing the NIDEM elevations against the \n",
    "## relative cumulative frequencies for those same elevations into a new dataset.\n",
    "## Also, replace nan values in NIDEM with -9999 values to enable later masking of\n",
    "## non-intertidal areas. This is a workaround for the .sel function failing to handle\n",
    "## nans in the original NIDEM dataset.\n",
    "\n",
    "Exposure= CF_ds.sel(Elevation_midpoint=ds2.nidem.fillna(-9999), method='nearest')"
   ]
  },
  {
   "cell_type": "code",
   "execution_count": 30,
   "id": "033666ca-96a4-42ad-b1fb-7c9848cb4076",
   "metadata": {},
   "outputs": [],
   "source": [
    "## Create a masked exposure dataset by removing tiny exposure values associated with\n",
    "## NIDEM nans (-9999). This is a workaround for the above .sel function failing to handle\n",
    "## nans in the original NIDEM dataset.\n",
    "\n",
    "Exp_cf = Exposure.cumfreq.where(Exposure.cumfreq > 0.01) "
   ]
  },
  {
   "cell_type": "code",
   "execution_count": 31,
   "id": "d5068bb0-791a-4c45-b557-ab8b90bb176e",
   "metadata": {},
   "outputs": [
    {
     "data": {
      "text/plain": [
       "<matplotlib.collections.QuadMesh at 0x7f5b8a9ed8b0>"
      ]
     },
     "execution_count": 31,
     "metadata": {},
     "output_type": "execute_result"
    },
    {
     "data": {
      "image/png": "[encoded data removed]",
      "text/plain": [
       "<Figure size 720x360 with 2 Axes>"
      ]
     },
     "metadata": {
      "needs_background": "light"
     },
     "output_type": "display_data"
    }
   ],
   "source": [
    "## Plot the results\n",
    "\n",
    "Exp_cf.plot(cmap='RdYlGn', figsize=(10,5))"
   ]
  },
  {
   "cell_type": "code",
   "execution_count": 32,
   "id": "de484268-7bd5-4ed7-82fa-ab48d74da824",
   "metadata": {},
   "outputs": [
    {
     "data": {
      "text/plain": [
       "PosixPath('binsize_0.01_exp_CFmethod.tif')"
      ]
     },
     "execution_count": 32,
     "metadata": {},
     "output_type": "execute_result"
    }
   ],
   "source": [
    "# Save a single time-slice as a cloud-optimised geotiff\n",
    "\n",
    "rgb_da = Exp_cf.isel(time=0)#.to_array()\n",
    "\n",
    "# Write multi-band GeoTIFF to a location\n",
    "write_cog(geo_im=rgb_da,\n",
    "          fname='binsize_'+str(binsize)+'_exp_CFmethod.tif',\n",
    "          overwrite=True)\n"
   ]
  }
 ],
 "metadata": {
  "kernelspec": {
   "display_name": "Python 3 (ipykernel)",
   "language": "python",
   "name": "python3"
  },
  "language_info": {
   "codemirror_mode": {
    "name": "ipython",
    "version": 3
   },
   "file_extension": ".py",
   "mimetype": "text/x-python",
   "name": "python",
   "nbconvert_exporter": "python",
   "pygments_lexer": "ipython3",
   "version": "3.8.10"
  }
 },
 "nbformat": 4,
 "nbformat_minor": 5
}
