{
 "cells": [
  {
   "cell_type": "code",
   "execution_count": null,
   "id": "9a050bfc-3a88-4deb-a780-31d03daf24d3",
   "metadata": {},
   "outputs": [],
   "source": []
  },
  {
   "cell_type": "code",
   "execution_count": 1,
   "id": "957fb949-9452-4dba-9ce6-160ba259eadc",
   "metadata": {},
   "outputs": [],
   "source": [
    "import datacube \n",
    "import matplotlib.pyplot as plt\n",
    "import pandas as pd\n",
    "import pytz\n",
    "import numpy as np\n",
    "\n",
    "from scipy.stats import cumfreq\n",
    "from otps import TimePoint, predict_tide\n",
    "# from otps import predict_tide\n",
    "from dea_tools.dask import create_local_dask_cluster\n",
    "\n",
    "import sys\n",
    "sys.path.append(\"../Tools/dea_tools\")\n",
    "from coastal_temp import (select_aoi, \n",
    "                          exp_model, \n",
    "                          prep_aoi, \n",
    "                          plot_summary)\n"
   ]
  },
  {
   "cell_type": "code",
   "execution_count": 2,
   "id": "2f8a375c-b696-4b14-a917-96f467eb6f51",
   "metadata": {},
   "outputs": [
    {
     "name": "stderr",
     "output_type": "stream",
     "text": [
      "/env/lib/python3.8/site-packages/distributed/node.py:180: UserWarning: Port 8787 is already in use.\n",
      "Perhaps you already have a cluster running?\n",
      "Hosting the HTTP server on port 38005 instead\n",
      "  warnings.warn(\n",
      "distributed.diskutils - INFO - Found stale lock file and directory '/home/jovyan/dev_intexp/dea-notebooks/Real_world_examples/dask-worker-space/worker-l0khkjj6', purging\n",
      "distributed.diskutils - INFO - Found stale lock file and directory '/home/jovyan/dev_intexp/dea-notebooks/Real_world_examples/dask-worker-space/worker-xd6ampyf', purging\n"
     ]
    },
    {
     "data": {
      "text/html": [
       "<div>\n",
       "    <div style=\"width: 24px; height: 24px; background-color: #e1e1e1; border: 3px solid #9D9D9D; border-radius: 5px; position: absolute;\"> </div>\n",
       "    <div style=\"margin-left: 48px;\">\n",
       "        <h3 style=\"margin-bottom: 0px;\">Client</h3>\n",
       "        <p style=\"color: #9D9D9D; margin-bottom: 0px;\">Client-8ac6ce4c-2ce7-11ed-b5a3-be3dcd76afd8</p>\n",
       "        <table style=\"width: 100%; text-align: left;\">\n",
       "\n",
       "        <tr>\n",
       "        \n",
       "            <td style=\"text-align: left;\"><strong>Connection method:</strong> Cluster object</td>\n",
       "            <td style=\"text-align: left;\"><strong>Cluster type:</strong> distributed.LocalCluster</td>\n",
       "        \n",
       "        </tr>\n",
       "\n",
       "        \n",
       "            <tr>\n",
       "                <td style=\"text-align: left;\">\n",
       "                    <strong>Dashboard: </strong> <a href=\"/user/claire.phillips@ga.gov.au/proxy/38005/status\" target=\"_blank\">/user/claire.phillips@ga.gov.au/proxy/38005/status</a>\n",
       "                </td>\n",
       "                <td style=\"text-align: left;\"></td>\n",
       "            </tr>\n",
       "        \n",
       "\n",
       "        </table>\n",
       "\n",
       "        \n",
       "            <details>\n",
       "            <summary style=\"margin-bottom: 20px;\"><h3 style=\"display: inline;\">Cluster Info</h3></summary>\n",
       "            <div class=\"jp-RenderedHTMLCommon jp-RenderedHTML jp-mod-trusted jp-OutputArea-output\">\n",
       "    <div style=\"width: 24px; height: 24px; background-color: #e1e1e1; border: 3px solid #9D9D9D; border-radius: 5px; position: absolute;\">\n",
       "    </div>\n",
       "    <div style=\"margin-left: 48px;\">\n",
       "        <h3 style=\"margin-bottom: 0px; margin-top: 0px;\">LocalCluster</h3>\n",
       "        <p style=\"color: #9D9D9D; margin-bottom: 0px;\">3fbc2b0b</p>\n",
       "        <table style=\"width: 100%; text-align: left;\">\n",
       "            <tr>\n",
       "                <td style=\"text-align: left;\">\n",
       "                    <strong>Dashboard:</strong> <a href=\"/user/claire.phillips@ga.gov.au/proxy/38005/status\" target=\"_blank\">/user/claire.phillips@ga.gov.au/proxy/38005/status</a>\n",
       "                </td>\n",
       "                <td style=\"text-align: left;\">\n",
       "                    <strong>Workers:</strong> 1\n",
       "                </td>\n",
       "            </tr>\n",
       "            <tr>\n",
       "                <td style=\"text-align: left;\">\n",
       "                    <strong>Total threads:</strong> 15\n",
       "                </td>\n",
       "                <td style=\"text-align: left;\">\n",
       "                    <strong>Total memory:</strong> 117.21 GiB\n",
       "                </td>\n",
       "            </tr>\n",
       "            \n",
       "            <tr>\n",
       "    <td style=\"text-align: left;\"><strong>Status:</strong> running</td>\n",
       "    <td style=\"text-align: left;\"><strong>Using processes:</strong> True</td>\n",
       "</tr>\n",
       "\n",
       "            \n",
       "        </table>\n",
       "\n",
       "        <details>\n",
       "            <summary style=\"margin-bottom: 20px;\">\n",
       "                <h3 style=\"display: inline;\">Scheduler Info</h3>\n",
       "            </summary>\n",
       "\n",
       "            <div style=\"\">\n",
       "    <div>\n",
       "        <div style=\"width: 24px; height: 24px; background-color: #FFF7E5; border: 3px solid #FF6132; border-radius: 5px; position: absolute;\"> </div>\n",
       "        <div style=\"margin-left: 48px;\">\n",
       "            <h3 style=\"margin-bottom: 0px;\">Scheduler</h3>\n",
       "            <p style=\"color: #9D9D9D; margin-bottom: 0px;\">Scheduler-d13be20a-3e8d-47c6-8c56-3b0bfc8b2fab</p>\n",
       "            <table style=\"width: 100%; text-align: left;\">\n",
       "                <tr>\n",
       "                    <td style=\"text-align: left;\">\n",
       "                        <strong>Comm:</strong> tcp://127.0.0.1:42683\n",
       "                    </td>\n",
       "                    <td style=\"text-align: left;\">\n",
       "                        <strong>Workers:</strong> 1\n",
       "                    </td>\n",
       "                </tr>\n",
       "                <tr>\n",
       "                    <td style=\"text-align: left;\">\n",
       "                        <strong>Dashboard:</strong> <a href=\"/user/claire.phillips@ga.gov.au/proxy/38005/status\" target=\"_blank\">/user/claire.phillips@ga.gov.au/proxy/38005/status</a>\n",
       "                    </td>\n",
       "                    <td style=\"text-align: left;\">\n",
       "                        <strong>Total threads:</strong> 15\n",
       "                    </td>\n",
       "                </tr>\n",
       "                <tr>\n",
       "                    <td style=\"text-align: left;\">\n",
       "                        <strong>Started:</strong> Just now\n",
       "                    </td>\n",
       "                    <td style=\"text-align: left;\">\n",
       "                        <strong>Total memory:</strong> 117.21 GiB\n",
       "                    </td>\n",
       "                </tr>\n",
       "            </table>\n",
       "        </div>\n",
       "    </div>\n",
       "\n",
       "    <details style=\"margin-left: 48px;\">\n",
       "        <summary style=\"margin-bottom: 20px;\">\n",
       "            <h3 style=\"display: inline;\">Workers</h3>\n",
       "        </summary>\n",
       "\n",
       "        \n",
       "        <div style=\"margin-bottom: 20px;\">\n",
       "            <div style=\"width: 24px; height: 24px; background-color: #DBF5FF; border: 3px solid #4CC9FF; border-radius: 5px; position: absolute;\"> </div>\n",
       "            <div style=\"margin-left: 48px;\">\n",
       "            <details>\n",
       "                <summary>\n",
       "                    <h4 style=\"margin-bottom: 0px; display: inline;\">Worker: 0</h4>\n",
       "                </summary>\n",
       "                <table style=\"width: 100%; text-align: left;\">\n",
       "                    <tr>\n",
       "                        <td style=\"text-align: left;\">\n",
       "                            <strong>Comm: </strong> tcp://127.0.0.1:34129\n",
       "                        </td>\n",
       "                        <td style=\"text-align: left;\">\n",
       "                            <strong>Total threads: </strong> 15\n",
       "                        </td>\n",
       "                    </tr>\n",
       "                    <tr>\n",
       "                        <td style=\"text-align: left;\">\n",
       "                            <strong>Dashboard: </strong> <a href=\"/user/claire.phillips@ga.gov.au/proxy/39705/status\" target=\"_blank\">/user/claire.phillips@ga.gov.au/proxy/39705/status</a>\n",
       "                        </td>\n",
       "                        <td style=\"text-align: left;\">\n",
       "                            <strong>Memory: </strong> 117.21 GiB\n",
       "                        </td>\n",
       "                    </tr>\n",
       "                    <tr>\n",
       "                        <td style=\"text-align: left;\">\n",
       "                            <strong>Nanny: </strong> tcp://127.0.0.1:41761\n",
       "                        </td>\n",
       "                        <td style=\"text-align: left;\"></td>\n",
       "                    </tr>\n",
       "                    <tr>\n",
       "                        <td colspan=\"2\" style=\"text-align: left;\">\n",
       "                            <strong>Local directory: </strong> /home/jovyan/dev_intexp/dea-notebooks/Real_world_examples/dask-worker-space/worker-q283zhzi\n",
       "                        </td>\n",
       "                    </tr>\n",
       "\n",
       "                    \n",
       "\n",
       "                    \n",
       "\n",
       "                </table>\n",
       "            </details>\n",
       "            </div>\n",
       "        </div>\n",
       "        \n",
       "\n",
       "    </details>\n",
       "</div>\n",
       "\n",
       "        </details>\n",
       "    </div>\n",
       "</div>\n",
       "            </details>\n",
       "        \n",
       "\n",
       "    </div>\n",
       "</div>"
      ],
      "text/plain": [
       "<Client: 'tcp://127.0.0.1:42683' processes=1 threads=15, memory=117.21 GiB>"
      ]
     },
     "metadata": {},
     "output_type": "display_data"
    }
   ],
   "source": [
    "dc = datacube.Datacube(app=\"intertidal_exposure\")\n",
    "create_local_dask_cluster()"
   ]
  },
  {
   "cell_type": "code",
   "execution_count": 3,
   "id": "4c2e0080-46a0-43c2-8c76-daff5b9ffccc",
   "metadata": {},
   "outputs": [
    {
     "data": {
      "application/vnd.jupyter.widget-view+json": {
       "model_id": "0003aba0f5534977b58c588670dac9d0",
       "version_major": 2,
       "version_minor": 0
      },
      "text/plain": [
       "Map(center=[-32.13054578933222, 136.10234378608968], controls=(ZoomControl(options=['position', 'zoom_in_text'…"
      ]
     },
     "metadata": {},
     "output_type": "display_data"
    }
   ],
   "source": [
    "m, master_gdf, roi = select_aoi()\n",
    "display (m)"
   ]
  },
  {
   "cell_type": "code",
   "execution_count": 4,
   "id": "f9133ea3-15b6-48ec-be6f-42f03258e628",
   "metadata": {},
   "outputs": [],
   "source": [
    "## Following selection of your area of interest using the shape options in the map menu\n",
    "## and your tide-modelling position, using the `marker` option, run this cell to\n",
    "## prepare the selections for analysis. Note that this is a per-pixel analysis. Consequently,\n",
    "## a small area of interest is advised to minimise computation time.\n",
    "\n",
    "tp, working_gdf, geom = prep_aoi(roi, master_gdf)"
   ]
  },
  {
   "cell_type": "code",
   "execution_count": 5,
   "id": "2876684c-c715-45e0-be09-0b9b1cb877b6",
   "metadata": {},
   "outputs": [
    {
     "data": {
      "text/plain": [
       "[122.177582, -18.036178]"
      ]
     },
     "execution_count": 5,
     "metadata": {},
     "output_type": "execute_result"
    }
   ],
   "source": [
    "tp"
   ]
  },
  {
   "cell_type": "code",
   "execution_count": 6,
   "id": "e785905a-1fdf-4d82-8806-ad4de0bf2d2f",
   "metadata": {},
   "outputs": [],
   "source": [
    "## Set the user-defined variables \n",
    "\n",
    "## Define the tidal-modelling period start and end dates. This is the period over which intertidal\n",
    "## exposure will be calculated. Ideally, this period should be an 18.6 year window to account\n",
    "## for the full average range of astronomical forcings on the tide (e.g. Haigh et al., 2011).\n",
    "## However, a shorter window is advised in this application to minimise the computation time.\n",
    "## Note that if a filter is applied to the tide-model, e.g. restricted date or tide range, then\n",
    "## a wide tidal-modelling period may be achievable on this platform.\n",
    "\n",
    "## Tidal modelling period. Format: 'YYYY-MM-DD HH:MM:SS'\n",
    "time_start = '1985-12-01 00:00:00'\n",
    "time_end = '2023-01-01 00:00:00'\n",
    "\n",
    "## Set the frequency to run the tidal model e.g '30min' or '1h'\n",
    "modelled_freq='30min'\n",
    "\n",
    "# ## Set the filter to apply for the exposure modelling. Options:\n",
    "'''\n",
    "    'all_time',\n",
    "    'daynight',\n",
    "    'springneap',\n",
    "    'wet',\n",
    "    'dry',\n",
    "    'summer',\n",
    "    'autumn',\n",
    "    'winter',\n",
    "    'spring',\n",
    "    'Jan',\n",
    "    'Feb',\n",
    "    'Mar',\n",
    "    'Apr',\n",
    "    'May',\n",
    "    'Jun',\n",
    "    'Jul',\n",
    "    'Aug',\n",
    "    'Sep',\n",
    "    'Oct',\n",
    "    'Nov',\n",
    "    'Dec'\n",
    "'''\n",
    "time_filter = ['all_time']\n",
    "\n",
    "query = {\n",
    "    'product': ['nidem'],\n",
    "    \"dask_chunks\": {\"time\": 1, \"x\": 100000, \"y\": 100000},\n",
    "    \"geopolygon\": geom\n",
    "        }"
   ]
  },
  {
   "cell_type": "code",
   "execution_count": 7,
   "id": "74f347f1-ff64-4858-9f30-5f8167803e99",
   "metadata": {},
   "outputs": [],
   "source": [
    "ds = dc.load(**query)\n",
    "ds2 = ds.where(ds.nidem > ds.nidem.min())"
   ]
  },
  {
   "cell_type": "code",
   "execution_count": 8,
   "id": "3f7c0692-8cf8-43a0-b10e-7675e268e6d6",
   "metadata": {},
   "outputs": [],
   "source": [
    "ds2 = ds2.compute()"
   ]
  },
  {
   "cell_type": "code",
   "execution_count": 9,
   "id": "300893ca-be4d-44fa-aa15-255c3876ddd2",
   "metadata": {},
   "outputs": [],
   "source": [
    "import xarray as xr"
   ]
  },
  {
   "cell_type": "code",
   "execution_count": null,
   "id": "54730eff-6579-451f-89f2-c4aca49d3569",
   "metadata": {},
   "outputs": [],
   "source": [
    "# nidem_dict['data']"
   ]
  },
  {
   "cell_type": "code",
   "execution_count": null,
   "id": "817bafdd-8b2f-4a2f-8ef2-4728d233b860",
   "metadata": {},
   "outputs": [],
   "source": []
  },
  {
   "cell_type": "code",
   "execution_count": 10,
   "id": "12d064bc-dbfa-4866-a7ef-f47f98d845ca",
   "metadata": {},
   "outputs": [],
   "source": [
    "def exp_model(time_start, \n",
    "              time_end, \n",
    "              time_filter, \n",
    "              modelled_freq, \n",
    "              tidepost_lat, \n",
    "              tidepost_lon, \n",
    "              ds):      \n",
    "    ## Run tidal modelling\n",
    "\n",
    "    # Generate range of times covering entire period of satellite record\n",
    "    all_timerange = pd.date_range(start=time_start,\n",
    "                                  end=time_end,\n",
    "                                  freq=modelled_freq)\n",
    "    all_datetimes = all_timerange.values.astype('M8[s]').astype('O').tolist()  \n",
    "\n",
    "    # Use the tidal model to compute tide heights for each observation:  \n",
    "    all_timepoints = [TimePoint(tidepost_lon, tidepost_lat, dt) \n",
    "                      for dt in all_datetimes]\n",
    "    all_predictedtides = predict_tide(all_timepoints)   \n",
    "    all_tideheights = [predictedtide.tide_m for predictedtide \n",
    "                        in all_predictedtides]\n",
    "        ## Save modelled tides as dataframe\n",
    "        ## Firstly convert the dates to series\n",
    "    all_timerange = all_timerange.to_series()\n",
    "        ## Save dates and tideheights to pd.DataFrame\n",
    "    modelledtides = pd.DataFrame(data={'timerange': all_timerange,\n",
    "                       'tideheights': all_tideheights})\n",
    "    \n",
    "    print ('Complete: Tidal modelling. Starting: Local timezone conversion')\n",
    "\n",
    "    '''---------------------------------------------------------'''\n",
    "    ## Automate timezone selection based on location of tidepost\n",
    "    ## State boundary coords from https://www.ga.gov.au/scientific-topics/national-location-information/dimensions/border-lengths\n",
    "    if tidepost_lon <= 129.0:\n",
    "        timezone = 'Australia/West'\n",
    "        local_tz = 8\n",
    "    elif (tidepost_lon > 129.0) & (tidepost_lon <= 138.0) & (tidepost_lat < 26.0):\n",
    "        timezone = 'Australia/North'\n",
    "        local_tz = 9.5\n",
    "    elif (tidepost_lon > 129.0) & (tidepost_lon <= 141.0) & (tidepost_lat > 26.0):\n",
    "        timezone = 'Australia/South'\n",
    "        local_tz = 9.5\n",
    "    elif (tidepost_lon > 138.0) & (tidepost_lat < 26.0):\n",
    "        timezone = 'Australia/Queensland'\n",
    "        local_tz = 10\n",
    "    elif (tidepost_lon > 141.0) & (tidepost_lat >= 26.0):\n",
    "        timezone = 'Australia/NSW'\n",
    "        local_tz = 10\n",
    "    else:\n",
    "        print('Unable to assign timezone from supplied tidepost coords (tidepost_lon and tidepost_lat)')\n",
    "    print('Timezone set to', timezone)\n",
    "    \n",
    "    ## Convert time_start and time_end to datetime objects in local timezone\n",
    "    time_start = pd.to_datetime(time_start, utc=True).tz_convert(timezone)\n",
    "    time_end = pd.to_datetime(time_end, utc=True).tz_convert(timezone)\n",
    "    \n",
    "    ## Convert tz-naive to tz-aware (set to UTC to match modelled timestamp input)\n",
    "    localtides = modelledtides.index.tz_localize(tz=pytz.UTC)\n",
    "\n",
    "    ## Convert tz-aware index to local timezone\n",
    "    localtides = localtides.tz_convert(timezone)\n",
    "    \n",
    "    ## Reset the index of modelledtides to reflect local times\n",
    "    modelledtides['local_timerange'] = localtides\n",
    "    modelledtides.set_index('local_timerange', inplace=True)\n",
    "    modelledtides.drop('timerange', axis=1, inplace=True)\n",
    "    \n",
    "#     '''\n",
    "#     Solar modelling section\n",
    "#     '''\n",
    "    \n",
    "#         ## Create all required time filters\n",
    "#     ## Create dict to store filtered times\n",
    "#     filters = {}\n",
    "    \n",
    "#     ## Create a filteredtides dataframe for the filters of interest\n",
    "#     for x in time_filter:\n",
    "        \n",
    "#         if x == 'all_time':\n",
    "#             filteredtides = modelledtides\n",
    "#             filters[str(x)] = filteredtides\n",
    "#     '''\n",
    "#     All the other filters go here\n",
    "#     '''\n",
    "#         else:\n",
    "#             print('''\n",
    "#             Please select one of the following `time_filter`s: \n",
    "#             all_time, day, night, springneap, wet, dry, summer, autumn, winter, \n",
    "#             spring, Jan, Feb, Mar, Apr, May, Jun, Jul, Aug, Sep, Oct, Nov, Dec, 'wet_springneap'\n",
    "#             ''')\n",
    "    \n",
    "#         print ('Complete: datetime filtering. Starting: wet/dry masking')\n",
    "    \n",
    "#     ## Create wet/dry boolean for each timestep per filter\n",
    "#     WetDry = {}\n",
    "#     for key in filters:\n",
    "                \n",
    "#         ## Boolean mask all modelled timesteps by tideheight relative to NIDEM:\n",
    "#         da_list = list(ds.nidem >= filters[str(key)]['tideheights'][timestep] \n",
    "#                        for timestep in filters[str(key)].loc[time_start:time_end].index) \n",
    "\n",
    "#         index_list = list(timestep for timestep in filters[str(key)][time_start:time_end].index)\n",
    "\n",
    "#         ## Store modelled datetimes as a pandas index\n",
    "#         index = pd.Index(index_list, name='datetime')\n",
    "\n",
    "#         ## Concatenate the arrays on the new dimension 'datetime'\n",
    "#         exp_ds = xr.concat(da_list, index)\n",
    "        \n",
    "#         WetDry[str(key)] = exp_ds\n",
    "        \n",
    "#     print ('Complete: wet/dry masking. Starting: exposure calculations')\n",
    "    \n",
    "#     '''--------------------------------------------'''\n",
    "#     ## Calculate the pc exposure per pixel for each filter\n",
    "#     ## Build empty xr.ds and append each new da during looping through WetDry\n",
    "    \n",
    "#     pxpc2 = ds#.squeeze().reset_coords() ## Copy of NIDEM ds to append exposure results into\n",
    "    \n",
    "#     for f in WetDry:\n",
    "    \n",
    "#             ## Calculate the mean of the boolean across the datetime axis (equiv. to % True)\n",
    "#         pxpc = WetDry[str(f)].mean('datetime')\n",
    "\n",
    "# #         # Compute the array from dask\n",
    "# #         pxpc = pxpc.compute() #%timeit\n",
    "\n",
    "#         ## Name the exposure time array\n",
    "#         pxpc = pxpc.rename('Exposure time (%)')\n",
    "\n",
    "#         ## Mask out non-intertidal areas\n",
    "#         pxpc = pxpc.where(pxpc > 0) ############################TEMP masked to capture 0% fraction 22/07/2022. Add back in for regular exposure modelling. CP\n",
    "        \n",
    "#         ## Append filter (f) exposure results into results dataset (pxpc2)\n",
    "#         pxpc2[str(f)] = pxpc#.drop('time')\n",
    "\n",
    "#     print('Complete: exposure calculations. Starting: ds.compute')\n",
    "#     pxpc2 = pxpc2.compute()    \n",
    "#     print ('Complete: ds.compute')\n",
    "\n",
    "    return modelledtides#, filters, pxpc2"
   ]
  },
  {
   "cell_type": "code",
   "execution_count": 11,
   "id": "1795709b-d05e-4a13-9214-e68666087f74",
   "metadata": {},
   "outputs": [
    {
     "name": "stdout",
     "output_type": "stream",
     "text": [
      "Complete: Tidal modelling. Starting: Local timezone conversion\n",
      "Timezone set to Australia/West\n"
     ]
    }
   ],
   "source": [
    "modelledtides_neg_lat = exp_model(time_start,\n",
    "                                  time_end,\n",
    "                                  time_filter,\n",
    "                                  modelled_freq,\n",
    "                                  tidepost_lat = tp[1],# = -17.420604,\n",
    "                                  tidepost_lon = tp[0],# = 140.665169,\n",
    "                                  ds=ds2)"
   ]
  },
  {
   "cell_type": "code",
   "execution_count": 12,
   "id": "23171b3a-7514-45ed-add1-8a903e236c36",
   "metadata": {},
   "outputs": [],
   "source": [
    "## After https://docs.scipy.org/doc/scipy/reference/generated/scipy.stats.cumfreq.html\n",
    "\n"
   ]
  },
  {
   "cell_type": "code",
   "execution_count": 13,
   "id": "6481e29a-14c5-4685-a6a8-06c07ac41531",
   "metadata": {},
   "outputs": [],
   "source": [
    "## Extract modelled tideheights as np.array\n",
    "modelledtides = (np.array(modelledtides_neg_lat.tideheights))\n",
    "\n",
    "## Calculate number of bins to use in cumulative frequency calculation, ensuring continentally consistent bin size of 0.1m (arbitrary bin size)\n",
    "binsize = 0.1\n",
    "bins = (modelledtides_neg_lat.tideheights.max() - modelledtides_neg_lat.tideheights.min())/binsize\n",
    "\n",
    "## Calculate cumulative frequencies\n",
    "res = cumfreq(modelledtides, numbins=int(bins)) #1000)\n",
    "\n",
    "# Calculate space of values for x\n",
    "x = res.lowerlimit + np.linspace(0, res.binsize*res.cumcount.size, res.cumcount.size)"
   ]
  },
  {
   "cell_type": "code",
   "execution_count": 14,
   "id": "5ca0f4f7-3b50-4075-ab9a-50c68d0df475",
   "metadata": {},
   "outputs": [],
   "source": [
    "# plt.axhline(y=0.0, linestyle='-', color='r')\n",
    "# plt.plot(modelledtides[:500], marker='o')"
   ]
  },
  {
   "cell_type": "code",
   "execution_count": 15,
   "id": "2403f430-2239-4089-8ea5-2e8c6db858b6",
   "metadata": {},
   "outputs": [
    {
     "data": {
      "image/png": "[encoded data removed]",
      "text/plain": [
       "<Figure size 720x288 with 2 Axes>"
      ]
     },
     "metadata": {
      "needs_background": "light"
     },
     "output_type": "display_data"
    }
   ],
   "source": [
    "\n",
    "\n",
    "fig = plt.figure(figsize=(10, 4))\n",
    "ax1 = fig.add_subplot(1, 2, 1)\n",
    "ax2 = fig.add_subplot(1, 2, 2)\n",
    "ax1.hist(modelledtides, bins=100)\n",
    "ax1.set_title('Histogram')\n",
    "ax2.bar(x, res.cumcount/len(modelledtides)*100, width=res.binsize)\n",
    "ax2.set_title('Relative cumulative frequency')\n",
    "ax2.set_ylabel('Cumulative model observations (%)\\naka Exposure (%)')\n",
    "ax2.set_xlabel('Modelled tide height (m)')\n",
    "ax2.set_xlim([x.min(), x.max()])\n",
    "fig.tight_layout()"
   ]
  },
  {
   "cell_type": "code",
   "execution_count": 16,
   "id": "6266fe0d-1156-4db1-b78c-4af0122fd5e3",
   "metadata": {},
   "outputs": [
    {
     "name": "stdout",
     "output_type": "stream",
     "text": [
      "    tideheight_max     cumfreq  tideheight_min\n",
      "0        -5.041848    0.000615       -5.141848\n",
      "1        -4.939124    0.007690       -5.041848\n",
      "2        -4.836400    0.026301       -4.939124\n",
      "3        -4.733676    0.063215       -4.836400\n",
      "4        -4.630952    0.124892       -4.733676\n",
      "..             ...         ...             ...\n",
      "95        4.716952   99.929864        4.614227\n",
      "96        4.819676   99.968623        4.716952\n",
      "97        4.922400   99.988311        4.819676\n",
      "98        5.025124   99.998308        4.922400\n",
      "99        5.127848  100.000000        5.025124\n",
      "\n",
      "[100 rows x 3 columns]\n"
     ]
    }
   ],
   "source": [
    "## Save the relative cumulative frequency dataset as an array to act as a lookup table for the NIDEM heights\n",
    "testdict={'tideheight_max': x, 'cumfreq': res.cumcount/len(modelledtides)*100}\n",
    "test = pd.DataFrame(data=testdict)\n",
    "\n",
    "## tideheight_min and tideheight_max represent the binned range of tide heights modelled to the associated cumulative frequency (exposure %)\n",
    "shifted = test.tideheight_max.shift(periods=1)\n",
    "updatedvalue = test.tideheight_max[0] - binsize\n",
    "shifted.update(pd.Series([updatedvalue], index=[0]))\n",
    "\n",
    "test['tideheight_min']=shifted\n",
    "\n",
    "print(test)"
   ]
  },
  {
   "cell_type": "code",
   "execution_count": null,
   "id": "a62e5b53-552b-4788-beb4-f71d7bf72d69",
   "metadata": {},
   "outputs": [],
   "source": [
    "# Nn = nidem_df.where(nidem_df.nidem.notna() == 'True')\n",
    "# Nn"
   ]
  },
  {
   "cell_type": "code",
   "execution_count": null,
   "id": "9ccdc211-0bad-4e85-b6a3-eb7706d58d5a",
   "metadata": {},
   "outputs": [],
   "source": [
    "## Slow loop through both dataframes assessing exposure values for every nidem pixel\n",
    "\n",
    "## Iterrows method (slow)\n",
    "%time\n",
    "nidem_df['Exposure'] = pd.Series(dtype='float64')\n",
    "\n",
    "for i, d in tqdm(nidem_df[0:10].iterrows()):\n",
    "    \n",
    "    for ii, dd in test.iterrows():\n",
    "        \n",
    "        if (d.nidem >= dd.tideheight_min) & (d.nidem < dd.tideheight_max):\n",
    "            \n",
    "            nidem_df.Exposure.update(pd.Series([dd.cumfreq], index=[i]))\n"
   ]
  },
  {
   "cell_type": "code",
   "execution_count": 17,
   "id": "8d1040da-c93d-4047-925d-dcef0318926a",
   "metadata": {},
   "outputs": [],
   "source": [
    "from tqdm import tqdm ## Show a smart progress meter for loops"
   ]
  },
  {
   "cell_type": "code",
   "execution_count": 46,
   "id": "7c4dfb85-44a5-4331-a593-357003527058",
   "metadata": {},
   "outputs": [],
   "source": [
    "# ## after https://towardsdatascience.com/heres-the-most-efficient-way-to-iterate-through-your-pandas-dataframe-4dad88ac92ee\n",
    "\n",
    "# ## Iterate through dict method setup\n",
    "\n",
    "# # test_dict = test.to_dict()\n",
    "# # nidem_df['Exposure'] = pd.Series(dtype='float64')\n",
    "# # nidem_dict = nidem_df.to_dict()\n",
    "\n",
    "# nidem_dict=ds2.nidem.to_dict()\n",
    "# # nidem_dict\n",
    "# # nidem_dict"
   ]
  },
  {
   "cell_type": "code",
   "execution_count": null,
   "id": "cc9aa8ba-fb47-47af-b354-e7e3ba1c930d",
   "metadata": {},
   "outputs": [
    {
     "data": {
      "text/plain": [
       "1882970"
      ]
     },
     "execution_count": 54,
     "metadata": {},
     "output_type": "execute_result"
    }
   ],
   "source": [
    "# # for x in ds2.nidem[0]:\n",
    "# #     for y in ds2.nidem.x:\n",
    "# #             print (x,y)\n",
    "# # #     print(x)ds\n",
    "# # ds2.nidem.x\n",
    "# 1247*1510"
   ]
  },
  {
   "cell_type": "code",
   "execution_count": 74,
   "id": "aaf5f43b-848c-48b2-901e-ae8ded6f9ad9",
   "metadata": {},
   "outputs": [],
   "source": []
  },
  {
   "cell_type": "code",
   "execution_count": 97,
   "id": "3ebe62cd-2944-41d2-9968-158b8cac18e5",
   "metadata": {},
   "outputs": [],
   "source": [
    "#"
   ]
  },
  {
   "cell_type": "code",
   "execution_count": 89,
   "id": "e586da99-48c4-4d15-99b3-1776961c48f4",
   "metadata": {},
   "outputs": [],
   "source": [
    "# d = ds2.isel(x=0, y=0)\n",
    "# v = d['nidem'].values[0]\n",
    "# # d"
   ]
  },
  {
   "cell_type": "code",
   "execution_count": 142,
   "id": "446200f6-17d4-4c21-bcdd-40c49ce34ce8",
   "metadata": {},
   "outputs": [],
   "source": [
    "# # type(v)\n",
    "# d"
   ]
  },
  {
   "cell_type": "code",
   "execution_count": 143,
   "id": "31384aae-1c1a-490e-bf55-996a712cd4d2",
   "metadata": {},
   "outputs": [],
   "source": [
    "# for k in nidem_dict['data']:\n",
    "#     for kk in nidem_dict['data'][k]:\n",
    "#         for kkk in nidem_dict['data'][k][kk]:\n",
    "#             print (kk,kkk)\n",
    "            "
   ]
  },
  {
   "cell_type": "code",
   "execution_count": null,
   "id": "6dfce402-7d0a-4dcc-8f7b-3f6dbc208004",
   "metadata": {},
   "outputs": [],
   "source": [
    "# ## after https://towardsdatascience.com/heres-the-most-efficient-way-to-iterate-through-your-pandas-dataframe-4dad88ac92ee\n",
    "\n",
    "# ## Iterate through dict method calculation\n",
    "\n",
    "# %time\n",
    "# for k in tqdm(nidem_dict['data']):\n",
    "#     v = nidem_dict['nidem'][tuple(k)]\n",
    "#     if v == np.nan:\n",
    "#         next\n",
    "#     else:\n",
    "#         for ii, dd in test.iterrows():\n",
    "#             if (v >= dd.tideheight_min) & (v < dd.tideheight_max):\n",
    "#                 u = {tuple(k):dd.cumfreq}\n",
    "#                 nidem_dict['Exposure'] = u\n",
    "        \n",
    "# #     print (type(k))\n",
    "# #     k=tuple(k)\n",
    "# #     for v in nidem_dict['nidem'][k]:\n",
    "# #         print (v)\n",
    "\n",
    "# # nidem_dict['nidem'][tuple(k)]"
   ]
  },
  {
   "cell_type": "code",
   "execution_count": 131,
   "id": "64c6c4dd-3294-4b20-bb6e-71446adb601e",
   "metadata": {},
   "outputs": [],
   "source": [
    "Exp = ds2.nidem\n",
    "Exp = Exp.rename('Exposure')"
   ]
  },
  {
   "cell_type": "code",
   "execution_count": null,
   "id": "aa410b6f-d4bb-4c5d-857f-f1d06f733352",
   "metadata": {},
   "outputs": [],
   "source": []
  },
  {
   "cell_type": "code",
   "execution_count": 136,
   "id": "b044f1d6-7016-41fb-8421-6aeeaad062d1",
   "metadata": {},
   "outputs": [
    {
     "name": "stdout",
     "output_type": "stream",
     "text": [
      "CPU times: user 2 µs, sys: 0 ns, total: 2 µs\n",
      "Wall time: 5.72 µs\n"
     ]
    },
    {
     "name": "stderr",
     "output_type": "stream",
     "text": [
      "100%|██████████| 1247/1247 [08:41<00:00,  2.39it/s]\n"
     ]
    }
   ],
   "source": [
    "%time\n",
    "for x in tqdm(range(0,len(ds2.x))):\n",
    "    for y in range(0,len(ds2.y)):\n",
    "        d = ds2.isel(x=x, y=y)\n",
    "        v = d['nidem'].values[0]\n",
    "        if str(v) == 'nan':\n",
    "            continue\n",
    "        else:\n",
    "\n",
    "            ## the largest element of tideheight_min that is less than `v`\n",
    "            small = test.tideheight_min[test.tideheight_min <= v].max()\n",
    "\n",
    "            ## the smallest element of tideheight_max that is greater than `v`\n",
    "            large = test.tideheight_max[test.tideheight_max > v].min()\n",
    "\n",
    "            ## find the associated cumulative frequence (exposure) with `small` and `large`\n",
    "            cf = test.loc[(test.tideheight_min==small) & (test.tideheight_max==large)]\n",
    "\n",
    "#             ds2.isel(x=x, y=y)['Exposure'] = cf.cumfreq\n",
    "            Exp.isel(x=x, y=y).values[0] = cf.cumfreq"
   ]
  },
  {
   "cell_type": "code",
   "execution_count": 140,
   "id": "6d2d03ca-149b-4eee-820a-eaa2f9eba400",
   "metadata": {},
   "outputs": [],
   "source": [
    "ds2['Exposure'] = Exp"
   ]
  },
  {
   "cell_type": "code",
   "execution_count": 138,
   "id": "810d41dd-3263-480b-b367-9b818fde026c",
   "metadata": {},
   "outputs": [
    {
     "data": {
      "text/plain": [
       "<matplotlib.collections.QuadMesh at 0x7f923cf5cd90>"
      ]
     },
     "execution_count": 138,
     "metadata": {},
     "output_type": "execute_result"
    },
    {
     "data": {
      "image/png": "[encoded data removed]",
      "text/plain": [
       "<Figure size 432x288 with 2 Axes>"
      ]
     },
     "metadata": {
      "needs_background": "light"
     },
     "output_type": "display_data"
    }
   ],
   "source": [
    "Exp.plot()"
   ]
  },
  {
   "cell_type": "code",
   "execution_count": 141,
   "id": "607987cb-840b-4345-9277-4382b3e572d0",
   "metadata": {},
   "outputs": [
    {
     "data": {
      "text/plain": [
       "<matplotlib.collections.QuadMesh at 0x7f923c5d77f0>"
      ]
     },
     "execution_count": 141,
     "metadata": {},
     "output_type": "execute_result"
    },
    {
     "data": {
      "image/png": "[encoded data removed]",
      "text/plain": [
       "<Figure size 432x288 with 2 Axes>"
      ]
     },
     "metadata": {
      "needs_background": "light"
     },
     "output_type": "display_data"
    }
   ],
   "source": [
    "ds2.nidem.plot()"
   ]
  },
  {
   "cell_type": "code",
   "execution_count": 148,
   "id": "40410e3b-9f53-4c93-9bd6-63034494457d",
   "metadata": {},
   "outputs": [
    {
     "data": {
      "text/plain": [
       "<bound method Figure.tight_layout of <Figure size 1440x576 with 4 Axes>>"
      ]
     },
     "execution_count": 148,
     "metadata": {},
     "output_type": "execute_result"
    },
    {
     "data": {
      "image/png": "[encoded data removed]",
      "text/plain": [
       "<Figure size 1440x576 with 4 Axes>"
      ]
     },
     "metadata": {
      "needs_background": "light"
     },
     "output_type": "display_data"
    }
   ],
   "source": [
    "plt.close()\n",
    "\n",
    "fig = plt.figure(figsize=(20, 8))\n",
    "ax1 = fig.add_subplot(1, 2, 1)\n",
    "ax2 = fig.add_subplot(1, 2, 2)\n",
    "ds2.nidem.plot(ax=ax1)\n",
    "ds2.Exposure.plot(ax=ax2)\n",
    "# ax1.plot(ds2.nidem.isel(time=0))\n",
    "# ax2.plot(ds2.Exposure.isel(time=0))\n",
    "fig.tight_layout\n",
    "\n",
    "\n",
    "# ax1.hist(modelledtides, bins=100)\n",
    "# ax1.set_title('Histogram')\n",
    "# ax2.bar(x, res.cumcount/len(modelledtides)*100, width=res.binsize)\n",
    "# ax2.set_title('Relative cumulative frequency')\n",
    "# ax2.set_ylabel('Cumulative model observations (%)\\naka Exposure (%)')\n",
    "# ax2.set_xlabel('Modelled tide height (m)')\n",
    "# ax2.set_xlim([x.min(), x.max()])\n",
    "# fig.tight_layout()"
   ]
  },
  {
   "cell_type": "code",
   "execution_count": 149,
   "id": "33513c0f-33fd-44b0-a4ed-78ab8f06d0f4",
   "metadata": {},
   "outputs": [],
   "source": [
    "from datacube.utils.cog import write_cog"
   ]
  },
  {
   "cell_type": "code",
   "execution_count": 153,
   "id": "c243cca1-981d-4de2-8cd5-118868c265f3",
   "metadata": {},
   "outputs": [
    {
     "data": {
      "text/plain": [
       "PosixPath('exposure_rgb.tif')"
      ]
     },
     "execution_count": 153,
     "metadata": {},
     "output_type": "execute_result"
    }
   ],
   "source": [
    "# Select a single time-slice\n",
    "rgb_da = ds2.Exposure.isel(time=0)#.to_array()\n",
    "\n",
    "# Write multi-band GeoTIFF to a location\n",
    "write_cog(geo_im=rgb_da,\n",
    "          fname='exposure_rgb.tif',\n",
    "          overwrite=True)"
   ]
  },
  {
   "cell_type": "code",
   "execution_count": 133,
   "id": "ecf90957-2d3d-40dd-af85-3e63355091ea",
   "metadata": {},
   "outputs": [],
   "source": [
    "# ## Attempt a solution using xr.apply_ufunc\n",
    "\n",
    "# def Exp_calc(ds2.isel(time=0), ds2.x, ds2.y, test):\n",
    "#     for y in ds2.nidem.x:\n",
    "#         d = ds2.isel(x=x, y=y)\n",
    "#         v = d['nidem'].values[0]\n",
    "#         if str(v) == 'nan':\n",
    "#             continue\n",
    "#         else:\n",
    "\n",
    "#             ## the largest element of tideheight_min that is less than `v`\n",
    "#             small = test.tideheight_min[test.tideheight_min <= v].max()\n",
    "\n",
    "#             ## the smallest element of tideheight_max that is greater than `v`\n",
    "#             large = test.tideheight_max[test.tideheight_max > v].min()\n",
    "\n",
    "#             ## find the associated cumulative frequence (exposure) with `small` and `large`\n",
    "#             cf = test.loc[(test.tideheight_min==small) & (test.tideheight_max==large)]\n",
    "\n",
    "# #             ds2.isel(x=x, y=y)['Exposure'] = cf.cumfreq\n",
    "# #             Exp.isel(x=x, y=y) = cf.cumfreq\n",
    "#             return cf.cumfreq\n",
    "\n",
    "\n"
   ]
  },
  {
   "cell_type": "code",
   "execution_count": 123,
   "id": "8ab55c68-db1a-4f20-a98d-934be9c77230",
   "metadata": {},
   "outputs": [],
   "source": [
    "Exp.plot()"
   ]
  },
  {
   "cell_type": "code",
   "execution_count": 118,
   "id": "5712a60e-c6b4-4909-be3f-3293170c26cf",
   "metadata": {},
   "outputs": [
    {
     "ename": "ValueError",
     "evalue": "Could not convert tuple of form (dims, data[, attrs, encoding]): ('time', 'y', 'x') to Variable.",
     "output_type": "error",
     "traceback": [
      "\u001b[0;31m---------------------------------------------------------------------------\u001b[0m",
      "\u001b[0;31mValueError\u001b[0m                                Traceback (most recent call last)",
      "\u001b[0;32m/env/lib/python3.8/site-packages/xarray/core/variable.py\u001b[0m in \u001b[0;36mas_variable\u001b[0;34m(obj, name)\u001b[0m\n\u001b[1;32m    114\u001b[0m         \u001b[0;32mtry\u001b[0m\u001b[0;34m:\u001b[0m\u001b[0;34m\u001b[0m\u001b[0;34m\u001b[0m\u001b[0m\n\u001b[0;32m--> 115\u001b[0;31m             \u001b[0mobj\u001b[0m \u001b[0;34m=\u001b[0m \u001b[0mVariable\u001b[0m\u001b[0;34m(\u001b[0m\u001b[0;34m*\u001b[0m\u001b[0mobj\u001b[0m\u001b[0;34m)\u001b[0m\u001b[0;34m\u001b[0m\u001b[0;34m\u001b[0m\u001b[0m\n\u001b[0m\u001b[1;32m    116\u001b[0m         \u001b[0;32mexcept\u001b[0m \u001b[0;34m(\u001b[0m\u001b[0mTypeError\u001b[0m\u001b[0;34m,\u001b[0m \u001b[0mValueError\u001b[0m\u001b[0;34m)\u001b[0m \u001b[0;32mas\u001b[0m \u001b[0merror\u001b[0m\u001b[0;34m:\u001b[0m\u001b[0;34m\u001b[0m\u001b[0;34m\u001b[0m\u001b[0m\n",
      "\u001b[0;32m/env/lib/python3.8/site-packages/xarray/core/variable.py\u001b[0m in \u001b[0;36m__init__\u001b[0;34m(self, dims, data, attrs, encoding, fastpath)\u001b[0m\n\u001b[1;32m    302\u001b[0m         \u001b[0mself\u001b[0m\u001b[0;34m.\u001b[0m\u001b[0m_data\u001b[0m \u001b[0;34m=\u001b[0m \u001b[0mas_compatible_data\u001b[0m\u001b[0;34m(\u001b[0m\u001b[0mdata\u001b[0m\u001b[0;34m,\u001b[0m \u001b[0mfastpath\u001b[0m\u001b[0;34m=\u001b[0m\u001b[0mfastpath\u001b[0m\u001b[0;34m)\u001b[0m\u001b[0;34m\u001b[0m\u001b[0;34m\u001b[0m\u001b[0m\n\u001b[0;32m--> 303\u001b[0;31m         \u001b[0mself\u001b[0m\u001b[0;34m.\u001b[0m\u001b[0m_dims\u001b[0m \u001b[0;34m=\u001b[0m \u001b[0mself\u001b[0m\u001b[0;34m.\u001b[0m\u001b[0m_parse_dimensions\u001b[0m\u001b[0;34m(\u001b[0m\u001b[0mdims\u001b[0m\u001b[0;34m)\u001b[0m\u001b[0;34m\u001b[0m\u001b[0;34m\u001b[0m\u001b[0m\n\u001b[0m\u001b[1;32m    304\u001b[0m         \u001b[0mself\u001b[0m\u001b[0;34m.\u001b[0m\u001b[0m_attrs\u001b[0m \u001b[0;34m=\u001b[0m \u001b[0;32mNone\u001b[0m\u001b[0;34m\u001b[0m\u001b[0;34m\u001b[0m\u001b[0m\n",
      "\u001b[0;32m/env/lib/python3.8/site-packages/xarray/core/variable.py\u001b[0m in \u001b[0;36m_parse_dimensions\u001b[0;34m(self, dims)\u001b[0m\n\u001b[1;32m    570\u001b[0m         \u001b[0;32mif\u001b[0m \u001b[0mlen\u001b[0m\u001b[0;34m(\u001b[0m\u001b[0mdims\u001b[0m\u001b[0;34m)\u001b[0m \u001b[0;34m!=\u001b[0m \u001b[0mself\u001b[0m\u001b[0;34m.\u001b[0m\u001b[0mndim\u001b[0m\u001b[0;34m:\u001b[0m\u001b[0;34m\u001b[0m\u001b[0;34m\u001b[0m\u001b[0m\n\u001b[0;32m--> 571\u001b[0;31m             raise ValueError(\n\u001b[0m\u001b[1;32m    572\u001b[0m                 \u001b[0;34mf\"dimensions {dims} must have the same length as the \"\u001b[0m\u001b[0;34m\u001b[0m\u001b[0;34m\u001b[0m\u001b[0m\n",
      "\u001b[0;31mValueError\u001b[0m: dimensions ('time',) must have the same length as the number of data dimensions, ndim=0",
      "\nDuring handling of the above exception, another exception occurred:\n",
      "\u001b[0;31mValueError\u001b[0m                                Traceback (most recent call last)",
      "\u001b[0;32m/tmp/ipykernel_13731/1689580398.py\u001b[0m in \u001b[0;36m<module>\u001b[0;34m\u001b[0m\n\u001b[1;32m      1\u001b[0m \u001b[0;31m# dsS = ds2.copy(deep=True)\u001b[0m\u001b[0;34m\u001b[0m\u001b[0;34m\u001b[0m\u001b[0;34m\u001b[0m\u001b[0m\n\u001b[1;32m      2\u001b[0m \u001b[0;31m# ds2.isel(x=x, y=y)['Exposure']\u001b[0m\u001b[0;34m\u001b[0m\u001b[0;34m\u001b[0m\u001b[0;34m\u001b[0m\u001b[0m\n\u001b[0;32m----> 3\u001b[0;31m \u001b[0mds2\u001b[0m\u001b[0;34m[\u001b[0m\u001b[0;34m'Exposure'\u001b[0m\u001b[0;34m]\u001b[0m \u001b[0;34m=\u001b[0m \u001b[0mxr\u001b[0m\u001b[0;34m.\u001b[0m\u001b[0mDataArray\u001b[0m\u001b[0;34m(\u001b[0m\u001b[0mcoords\u001b[0m\u001b[0;34m=\u001b[0m\u001b[0;34m[\u001b[0m\u001b[0;34m(\u001b[0m\u001b[0;34m'time'\u001b[0m\u001b[0;34m,\u001b[0m\u001b[0;34m'y'\u001b[0m\u001b[0;34m,\u001b[0m\u001b[0;34m'x'\u001b[0m\u001b[0;34m)\u001b[0m\u001b[0;34m]\u001b[0m\u001b[0;34m,\u001b[0m \u001b[0mdims\u001b[0m\u001b[0;34m=\u001b[0m\u001b[0mds2\u001b[0m\u001b[0;34m.\u001b[0m\u001b[0mdims\u001b[0m\u001b[0;34m)\u001b[0m\u001b[0;34m\u001b[0m\u001b[0;34m\u001b[0m\u001b[0m\n\u001b[0m\u001b[1;32m      4\u001b[0m \u001b[0;31m# ds2=ds2.drop_dims('Exposure')\u001b[0m\u001b[0;34m\u001b[0m\u001b[0;34m\u001b[0m\u001b[0;34m\u001b[0m\u001b[0m\n\u001b[1;32m      5\u001b[0m \u001b[0mds2\u001b[0m\u001b[0;34m\u001b[0m\u001b[0;34m\u001b[0m\u001b[0m\n",
      "\u001b[0;32m/env/lib/python3.8/site-packages/xarray/core/dataarray.py\u001b[0m in \u001b[0;36m__init__\u001b[0;34m(self, data, coords, dims, name, attrs, indexes, fastpath)\u001b[0m\n\u001b[1;32m    397\u001b[0m                 \u001b[0mattrs\u001b[0m \u001b[0;34m=\u001b[0m \u001b[0mgetattr\u001b[0m\u001b[0;34m(\u001b[0m\u001b[0mdata\u001b[0m\u001b[0;34m,\u001b[0m \u001b[0;34m\"attrs\"\u001b[0m\u001b[0;34m,\u001b[0m \u001b[0;32mNone\u001b[0m\u001b[0;34m)\u001b[0m\u001b[0;34m\u001b[0m\u001b[0;34m\u001b[0m\u001b[0m\n\u001b[1;32m    398\u001b[0m \u001b[0;34m\u001b[0m\u001b[0m\n\u001b[0;32m--> 399\u001b[0;31m             \u001b[0mdata\u001b[0m \u001b[0;34m=\u001b[0m \u001b[0m_check_data_shape\u001b[0m\u001b[0;34m(\u001b[0m\u001b[0mdata\u001b[0m\u001b[0;34m,\u001b[0m \u001b[0mcoords\u001b[0m\u001b[0;34m,\u001b[0m \u001b[0mdims\u001b[0m\u001b[0;34m)\u001b[0m\u001b[0;34m\u001b[0m\u001b[0;34m\u001b[0m\u001b[0m\n\u001b[0m\u001b[1;32m    400\u001b[0m             \u001b[0mdata\u001b[0m \u001b[0;34m=\u001b[0m \u001b[0mas_compatible_data\u001b[0m\u001b[0;34m(\u001b[0m\u001b[0mdata\u001b[0m\u001b[0;34m)\u001b[0m\u001b[0;34m\u001b[0m\u001b[0;34m\u001b[0m\u001b[0m\n\u001b[1;32m    401\u001b[0m             \u001b[0mcoords\u001b[0m\u001b[0;34m,\u001b[0m \u001b[0mdims\u001b[0m \u001b[0;34m=\u001b[0m \u001b[0m_infer_coords_and_dims\u001b[0m\u001b[0;34m(\u001b[0m\u001b[0mdata\u001b[0m\u001b[0;34m.\u001b[0m\u001b[0mshape\u001b[0m\u001b[0;34m,\u001b[0m \u001b[0mcoords\u001b[0m\u001b[0;34m,\u001b[0m \u001b[0mdims\u001b[0m\u001b[0;34m)\u001b[0m\u001b[0;34m\u001b[0m\u001b[0;34m\u001b[0m\u001b[0m\n",
      "\u001b[0;32m/env/lib/python3.8/site-packages/xarray/core/dataarray.py\u001b[0m in \u001b[0;36m_check_data_shape\u001b[0;34m(data, coords, dims)\u001b[0m\n\u001b[1;32m    180\u001b[0m                 )\n\u001b[1;32m    181\u001b[0m         \u001b[0;32melse\u001b[0m\u001b[0;34m:\u001b[0m\u001b[0;34m\u001b[0m\u001b[0;34m\u001b[0m\u001b[0m\n\u001b[0;32m--> 182\u001b[0;31m             \u001b[0mdata_shape\u001b[0m \u001b[0;34m=\u001b[0m \u001b[0mtuple\u001b[0m\u001b[0;34m(\u001b[0m\u001b[0mas_variable\u001b[0m\u001b[0;34m(\u001b[0m\u001b[0mcoord\u001b[0m\u001b[0;34m,\u001b[0m \u001b[0;34m\"foo\"\u001b[0m\u001b[0;34m)\u001b[0m\u001b[0;34m.\u001b[0m\u001b[0msize\u001b[0m \u001b[0;32mfor\u001b[0m \u001b[0mcoord\u001b[0m \u001b[0;32min\u001b[0m \u001b[0mcoords\u001b[0m\u001b[0;34m)\u001b[0m\u001b[0;34m\u001b[0m\u001b[0;34m\u001b[0m\u001b[0m\n\u001b[0m\u001b[1;32m    183\u001b[0m         \u001b[0mdata\u001b[0m \u001b[0;34m=\u001b[0m \u001b[0mnp\u001b[0m\u001b[0;34m.\u001b[0m\u001b[0mfull\u001b[0m\u001b[0;34m(\u001b[0m\u001b[0mdata_shape\u001b[0m\u001b[0;34m,\u001b[0m \u001b[0mdata\u001b[0m\u001b[0;34m)\u001b[0m\u001b[0;34m\u001b[0m\u001b[0;34m\u001b[0m\u001b[0m\n\u001b[1;32m    184\u001b[0m     \u001b[0;32mreturn\u001b[0m \u001b[0mdata\u001b[0m\u001b[0;34m\u001b[0m\u001b[0;34m\u001b[0m\u001b[0m\n",
      "\u001b[0;32m/env/lib/python3.8/site-packages/xarray/core/dataarray.py\u001b[0m in \u001b[0;36m<genexpr>\u001b[0;34m(.0)\u001b[0m\n\u001b[1;32m    180\u001b[0m                 )\n\u001b[1;32m    181\u001b[0m         \u001b[0;32melse\u001b[0m\u001b[0;34m:\u001b[0m\u001b[0;34m\u001b[0m\u001b[0;34m\u001b[0m\u001b[0m\n\u001b[0;32m--> 182\u001b[0;31m             \u001b[0mdata_shape\u001b[0m \u001b[0;34m=\u001b[0m \u001b[0mtuple\u001b[0m\u001b[0;34m(\u001b[0m\u001b[0mas_variable\u001b[0m\u001b[0;34m(\u001b[0m\u001b[0mcoord\u001b[0m\u001b[0;34m,\u001b[0m \u001b[0;34m\"foo\"\u001b[0m\u001b[0;34m)\u001b[0m\u001b[0;34m.\u001b[0m\u001b[0msize\u001b[0m \u001b[0;32mfor\u001b[0m \u001b[0mcoord\u001b[0m \u001b[0;32min\u001b[0m \u001b[0mcoords\u001b[0m\u001b[0;34m)\u001b[0m\u001b[0;34m\u001b[0m\u001b[0;34m\u001b[0m\u001b[0m\n\u001b[0m\u001b[1;32m    183\u001b[0m         \u001b[0mdata\u001b[0m \u001b[0;34m=\u001b[0m \u001b[0mnp\u001b[0m\u001b[0;34m.\u001b[0m\u001b[0mfull\u001b[0m\u001b[0;34m(\u001b[0m\u001b[0mdata_shape\u001b[0m\u001b[0;34m,\u001b[0m \u001b[0mdata\u001b[0m\u001b[0;34m)\u001b[0m\u001b[0;34m\u001b[0m\u001b[0;34m\u001b[0m\u001b[0m\n\u001b[1;32m    184\u001b[0m     \u001b[0;32mreturn\u001b[0m \u001b[0mdata\u001b[0m\u001b[0;34m\u001b[0m\u001b[0;34m\u001b[0m\u001b[0m\n",
      "\u001b[0;32m/env/lib/python3.8/site-packages/xarray/core/variable.py\u001b[0m in \u001b[0;36mas_variable\u001b[0;34m(obj, name)\u001b[0m\n\u001b[1;32m    116\u001b[0m         \u001b[0;32mexcept\u001b[0m \u001b[0;34m(\u001b[0m\u001b[0mTypeError\u001b[0m\u001b[0;34m,\u001b[0m \u001b[0mValueError\u001b[0m\u001b[0;34m)\u001b[0m \u001b[0;32mas\u001b[0m \u001b[0merror\u001b[0m\u001b[0;34m:\u001b[0m\u001b[0;34m\u001b[0m\u001b[0;34m\u001b[0m\u001b[0m\n\u001b[1;32m    117\u001b[0m             \u001b[0;31m# use .format() instead of % because it handles tuples consistently\u001b[0m\u001b[0;34m\u001b[0m\u001b[0;34m\u001b[0m\u001b[0;34m\u001b[0m\u001b[0m\n\u001b[0;32m--> 118\u001b[0;31m             raise error.__class__(\n\u001b[0m\u001b[1;32m    119\u001b[0m                 \u001b[0;34m\"Could not convert tuple of form \"\u001b[0m\u001b[0;34m\u001b[0m\u001b[0;34m\u001b[0m\u001b[0m\n\u001b[1;32m    120\u001b[0m                 \u001b[0;34m\"(dims, data[, attrs, encoding]): \"\u001b[0m\u001b[0;34m\u001b[0m\u001b[0;34m\u001b[0m\u001b[0m\n",
      "\u001b[0;31mValueError\u001b[0m: Could not convert tuple of form (dims, data[, attrs, encoding]): ('time', 'y', 'x') to Variable."
     ]
    }
   ],
   "source": [
    "# dsS = ds2.copy(deep=True)\n",
    "# ds2.isel(x=x, y=y)['Exposure']\n",
    "ds2['Exposure'] = xr.DataArray(coords=[('time','y','x')], dims=ds2.dims)\n",
    "# ds2=ds2.drop_dims('Exposure')\n",
    "ds2"
   ]
  },
  {
   "cell_type": "code",
   "execution_count": 112,
   "id": "31599801-8c68-4879-b771-d91390a6e7be",
   "metadata": {},
   "outputs": [],
   "source": [
    "# nidem_df"
   ]
  },
  {
   "cell_type": "code",
   "execution_count": null,
   "id": "7fd5eaad-291e-4a06-8749-c94b3d8f2cd1",
   "metadata": {},
   "outputs": [],
   "source": [
    "# v == np.nan\n",
    "# str(v) == 'nan'\n",
    "# nidem_dict['name']\n",
    "\n",
    "for k in nidem_dict['data'][0:10]:\n",
    "    print (k)\n",
    "#     v = nidem_dict['nidem'][tuple(k)]"
   ]
  },
  {
   "cell_type": "code",
   "execution_count": null,
   "id": "466dd240-ff6c-41c4-a108-0b804f44dbdb",
   "metadata": {},
   "outputs": [],
   "source": [
    "jupyter notebook --NotebookApp.iopub_data_rate_limit=1.0e10"
   ]
  },
  {
   "cell_type": "code",
   "execution_count": null,
   "id": "65d49d35-9d77-4d19-89fa-8da11045293f",
   "metadata": {},
   "outputs": [],
   "source": [
    "## after https://towardsdatascience.com/heres-the-most-efficient-way-to-iterate-through-your-pandas-dataframe-4dad88ac92ee\n",
    "\n",
    "## Iterate through dict method calculation\n",
    "\n",
    "%time\n",
    "for k in tqdm(nidem_dict['nidem']):\n",
    "    v = nidem_dict['nidem'][tuple(k)]\n",
    "    if str(v) == 'nan':#np.nan:\n",
    "        continue\n",
    "    else:\n",
    "\n",
    "        ## the largest element of tideheight_min that is less than `v`\n",
    "        small = test.tideheight_min[test.tideheight_min <= v].max()\n",
    "\n",
    "        ## the smallest element of tideheight_max that is greater than `v`\n",
    "        large = test.tideheight_max[test.tideheight_max > v].min()\n",
    "\n",
    "        ## find the associated cumulative frequence (exposure) with `small` and `large`\n",
    "        cf = test.loc[(test.tideheight_min==small) & (test.tideheight_max==large)]\n",
    "\n",
    "        u = {tuple(k):cf.cumfreq}\n",
    "        nidem_dict['Exposure'].update(u)\n",
    "#         print (small,v, large)\n",
    "        "
   ]
  },
  {
   "cell_type": "code",
   "execution_count": null,
   "id": "53dbd6a0-b390-4d29-9e20-ffe81fc8cfb9",
   "metadata": {},
   "outputs": [],
   "source": [
    "# # test_dict['tideheight_max']\n",
    "# # test.tideheight_max\n",
    "\n",
    "# ## the largest element of tideheight_min that is less than `v`\n",
    "# small = test.tideheight_min[test.tideheight_min <= v].max()\n",
    "\n",
    "# ## the smallest element of tideheight_max that is greater than `v`\n",
    "# large = test.tideheight_max[test.tideheight_max > v].min()\n",
    "\n",
    "# ## find the associated cumulative frequence (exposure) with `small` and `large`\n",
    "# cf1 = test.loc[(test.tideheight_min==small) & (test.tideheight_max==large)]\n",
    "\n",
    "# print (cf)\n",
    "# u = {tuple(k):cf.cumfreq}\n",
    "# nidem_dict['Exposure'].update(u)\n",
    "# print (v, small, large)"
   ]
  },
  {
   "cell_type": "code",
   "execution_count": null,
   "id": "b7aeade7-0af3-4002-b25c-e31a0cbff03f",
   "metadata": {},
   "outputs": [],
   "source": [
    "import xarray as xr"
   ]
  },
  {
   "cell_type": "code",
   "execution_count": null,
   "id": "7a5894fc-4f62-425d-bc1d-8e788d4e7dbd",
   "metadata": {},
   "outputs": [],
   "source": [
    "# ds3 = nidem_dict.to_xarray()\n",
    "ds3 = xr.Dataset.from_dict(nidem_dict)"
   ]
  },
  {
   "cell_type": "code",
   "execution_count": 113,
   "id": "6acba552-ffef-41e9-8a2c-903225f4ac72",
   "metadata": {},
   "outputs": [
    {
     "ename": "KeyError",
     "evalue": "'nidem'",
     "output_type": "error",
     "traceback": [
      "\u001b[0;31m---------------------------------------------------------------------------\u001b[0m",
      "\u001b[0;31mKeyError\u001b[0m                                  Traceback (most recent call last)",
      "\u001b[0;32m/tmp/ipykernel_13731/3171657985.py\u001b[0m in \u001b[0;36m<module>\u001b[0;34m\u001b[0m\n\u001b[1;32m      1\u001b[0m \u001b[0;31m# ds3\u001b[0m\u001b[0;34m\u001b[0m\u001b[0;34m\u001b[0m\u001b[0;34m\u001b[0m\u001b[0m\n\u001b[0;32m----> 2\u001b[0;31m \u001b[0mnidem_dict\u001b[0m\u001b[0;34m[\u001b[0m\u001b[0;34m'nidem'\u001b[0m\u001b[0;34m]\u001b[0m\u001b[0;34m\u001b[0m\u001b[0;34m\u001b[0m\u001b[0m\n\u001b[0m",
      "\u001b[0;31mKeyError\u001b[0m: 'nidem'"
     ]
    }
   ],
   "source": [
    "# ds3\n",
    "nidem_dict['nidem']"
   ]
  },
  {
   "cell_type": "code",
   "execution_count": null,
   "id": "c9e2ff7d-bd0e-4aa2-9e94-d2dbb6df538c",
   "metadata": {},
   "outputs": [],
   "source": [
    "ds3.Exposure.plot()"
   ]
  },
  {
   "cell_type": "code",
   "execution_count": null,
   "id": "fd1f5fe7-c0ba-43f8-8b5b-de86b0ee69a9",
   "metadata": {},
   "outputs": [],
   "source": [
    "ds2.nidem.plot()"
   ]
  },
  {
   "cell_type": "code",
   "execution_count": null,
   "id": "d04fdaac-1407-485f-8f57-c776647a4552",
   "metadata": {},
   "outputs": [],
   "source": [
    "## Next - convert nidem_df back to xarray and plot exposure\n",
    "\n",
    "## Option to speed process: increase bin size of tideheights used in cumfreq calculation \n",
    "## perhaps from 0.02 to 0.5 or 0.1 (10 cm tide height). This should reduce the size of the \n",
    "## 'test' df by reducing the number of rows to iterate through\n",
    "\n",
    "\n",
    "\n"
   ]
  },
  {
   "cell_type": "code",
   "execution_count": null,
   "id": "c96291d3-8101-4b11-9b3a-b4015570e14f",
   "metadata": {},
   "outputs": [],
   "source": [
    "## Calculate the pc exposure per pixel for each filter\n",
    "## Build empty xr.ds and append each new da during looping through WetDry\n",
    "\n",
    "pxpc2 = ds2#.squeeze().reset_coords() ## Copy of NIDEM ds to append exposure results into\n",
    "\n",
    "# for f in WetDry:"
   ]
  },
  {
   "cell_type": "code",
   "execution_count": null,
   "id": "1a8f5434-0ac9-4e0c-a064-bfae5632a07d",
   "metadata": {},
   "outputs": [],
   "source": [
    "pxpc2.nidem.values\n",
    "# for e in pxpc2.nidem.values:\n",
    "#     print (e)"
   ]
  },
  {
   "cell_type": "code",
   "execution_count": null,
   "id": "a1a15330-2d1c-44c5-9802-78dcb7d77baa",
   "metadata": {},
   "outputs": [],
   "source": [
    "for pxpc2.nidem.where(pxpc2.nidem >= "
   ]
  },
  {
   "cell_type": "code",
   "execution_count": null,
   "id": "589bc286-9448-47b7-abbe-e712a5ecceb3",
   "metadata": {},
   "outputs": [],
   "source": [
    "## nidem to dataframe\n",
    "nidem_df = ds2.nidem.to_dataframe()\n",
    "\n",
    "nidem_df"
   ]
  },
  {
   "cell_type": "code",
   "execution_count": null,
   "id": "f2c611bb-9e66-4af2-b1e9-133cf9e4e200",
   "metadata": {},
   "outputs": [],
   "source": []
  },
  {
   "cell_type": "code",
   "execution_count": null,
   "id": "db797fb1-6e78-42e2-a058-0b034d340248",
   "metadata": {},
   "outputs": [],
   "source": []
  }
 ],
 "metadata": {
  "kernelspec": {
   "display_name": "Python 3 (ipykernel)",
   "language": "python",
   "name": "python3"
  },
  "language_info": {
   "codemirror_mode": {
    "name": "ipython",
    "version": 3
   },
   "file_extension": ".py",
   "mimetype": "text/x-python",
   "name": "python",
   "nbconvert_exporter": "python",
   "pygments_lexer": "ipython3",
   "version": "3.8.10"
  }
 },
 "nbformat": 4,
 "nbformat_minor": 5
}
