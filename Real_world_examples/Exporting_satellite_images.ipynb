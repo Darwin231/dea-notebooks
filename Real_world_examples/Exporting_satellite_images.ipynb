{
 "cells": [
  {
   "cell_type": "markdown",
   "metadata": {},
   "source": [
    "# Exporting satellite images <img align=\"right\" src=\"../Supplementary_data/dea_logo.jpg\">\n",
    "\n",
    "* [**Sign up to the DEA Sandbox**](https://docs.dea.ga.gov.au/setup/sandbox.html) to run this notebook interactively from a browser\n",
    "* **Compatibility:** Notebook currently compatible with both the `DEA Sandbox` and `NCI` environments\n",
    "* **Products used:** \n",
    "[ga_ls5t_ard_3](https://explorer.sandbox.dea.ga.gov.au/ga_ls5t_ard_3),\n",
    "[ga_ls7e_ard_3](https://explorer.sandbox.dea.ga.gov.au/ga_ls7e_ard_3),\n",
    "[ga_ls8c_ard_3](https://explorer.sandbox.dea.ga.gov.au/ga_ls8c_ard_3)\n"
   ]
  },
  {
   "cell_type": "markdown",
   "metadata": {},
   "source": [
    "## Background\n",
    "\n",
    "\n",
    "\n",
    "### Digital Earth Australia use case\n",
    "\n",
    "\n"
   ]
  },
  {
   "cell_type": "markdown",
   "metadata": {},
   "source": [
    "## Description\n",
    "\n",
    "\n",
    "***"
   ]
  },
  {
   "cell_type": "markdown",
   "metadata": {},
   "source": [
    "## Getting started\n",
    "\n",
    "To run this analysis, run all the cells in the notebook, starting with the \"Load packages\" cell. "
   ]
  },
  {
   "cell_type": "markdown",
   "metadata": {},
   "source": [
    "### Load packages\n",
    "Import Python packages used for the analysis."
   ]
  },
  {
   "cell_type": "code",
   "execution_count": 1,
   "metadata": {},
   "outputs": [
    {
     "name": "stderr",
     "output_type": "stream",
     "text": [
      "/env/lib/python3.8/site-packages/datacube/storage/masking.py:7: DeprecationWarning: datacube.storage.masking has moved to datacube.utils.masking\n",
      "  warnings.warn(\"datacube.storage.masking has moved to datacube.utils.masking\",\n"
     ]
    }
   ],
   "source": [
    "# %matplotlib inline\n",
    "\n",
    "# from datacube.utils.cog import write_cog\n",
    "\n",
    "%load_ext autoreload\n",
    "%autoreload 2\n",
    "\n",
    "\n",
    "import sys\n",
    "sys.path.insert(1, '../Supplementary_data/')\n",
    "from notebookapp_imageexport import run_imageexport_app\n"
   ]
  },
  {
   "cell_type": "markdown",
   "metadata": {},
   "source": [
    "### Analysis parameters\n",
    "\n",
    "The following cell sets important required parameters for the analysis:\n",
    "\n",
    "* `output_name`: A name that will be used to name the output filmstrip plot file\n",
    "* `time_range`: The date range to analyse (e.g. `time_range = ('1988-01-01', '2017-12-31')`)\n",
    "* `time_step`: This parameter allows us to choose the length of the time periods we want to compare (e.g. `time_step = {'years': 5}` will generate one filmstrip plot for every five years of data in the dataset; `time_step = {'months': 18}` will generate one plot for each 18 month period etc.\n",
    "Time periods are counted from the first value given in `time_range`.\n",
    "\n",
    "Optional parameters:\n",
    "\n",
    "* `tide_range`: This parameter allows you to generate filmstrip plots based on specific ocean tide conditions.\n",
    "This can be valuable for analysing change consistently along the coast. \n",
    "For example, `tide_range = (0.0, 0.2)` will select only satellite images acquired at the lowest 20% of tides; `tide_range = (0.8, 1.0)` will select images from the highest 20% of tides. \n",
    "The default is `tide_range = (0.0, 1.0)` which will select all images regardless of tide.\n",
    "* `resolution`: The spatial resolution to load data. \n",
    "The default is `resolution = (-30, 30)`, which will load data at 30 m pixel resolution. \n",
    "Increasing this (e.g. to `resolution = (-100, 100)`) can be useful for loading large spatial extents.\n",
    "* `max_cloud`: This parameter allows you to exclude satellite images with excessive cloud. \n",
    "The default is `50`, which will keep all images with less than 50% cloud.\n",
    "* `ls7_slc_off`: Whether to include data from after the Landsat 7 SLC failure (i.e. SLC-off). \n",
    "Defaults to `False`, which removes all Landsat 7 observations after May 31 2003.\n",
    "Setting this to `True` will result in extra data, but can also introduce horizontal striping in the output filmstrip plots.\n",
    "\n",
    "\n",
    "\n",
    "**If running the notebook for the first time**, keep the default settings below. This will demonstrate how the analysis works and provide meaningful results. \n"
   ]
  },
  {
   "cell_type": "code",
   "execution_count": 72,
   "metadata": {},
   "outputs": [],
   "source": [
    "# Required parameters\n",
    "output_name = 'example'\n",
    "satellites = 'sentinel2_nrt'\n",
    "date = '2021-09-01'\n",
    "style = 'false colour'\n",
    "\n",
    "# Optional parameters\n",
    "resolution = (-30, 30)\n",
    "vmin, vmax = (0, 2000)\n",
    "percentile_stretch = (0.1, 99.9)"
   ]
  },
  {
   "cell_type": "markdown",
   "metadata": {},
   "source": [
    "## Select location and generate filmstrips\n",
    "Run the following cell to start the analysis. \n",
    "This will plot an interactive map that is used to select the area to load satellite data for.\n",
    "\n",
    "Select the `Draw a rectangle` or `Draw a polygon` tool on the left of the map, and draw a shape around the area you are interested in.\n",
    "\n",
    "For the first run, try **drawing a square around Sydney Airport and Port Botany** to see an example of change driven by urban and coastal development.\n",
    "\n",
    "When you are ready, press the green `done` button on the top right of the map. \n",
    "This will start loading the data, and then generate a filmstrips plot.\n",
    "\n",
    "> Depending on the size of the area you select, this step can take **several minutes to complete**.\n",
    "To keep load times reasonable, select an area **smaller than 200 square kilometers** in size (this limit can be overuled by supplying the `size_limit` parameter in the `run_filmstrip_app` function below).\n",
    "\n",
    "> Once the analysis reaches the `Generating geomedian composites` step, you can check the status of the data load by clicking the **Dashboard** link under **Client** below.\n"
   ]
  },
  {
   "cell_type": "code",
   "execution_count": null,
   "metadata": {},
   "outputs": [
    {
     "data": {
      "application/vnd.jupyter.widget-view+json": {
       "model_id": "d8ca50cb1405496093592f85a95e3022",
       "version_major": 2,
       "version_minor": 0
      },
      "text/plain": [
       "Map(center=[-13.345590499999998, 130.058899], controls=(ZoomControl(options=['position', 'zoom_in_text', 'zoom…"
      ]
     },
     "metadata": {},
     "output_type": "display_data"
    },
    {
     "name": "stdout",
     "output_type": "stream",
     "text": [
      "Starting analysis...\n"
     ]
    },
    {
     "name": "stderr",
     "output_type": "stream",
     "text": [
      "/env/lib/python3.8/site-packages/distributed/node.py:151: UserWarning: Port 8787 is already in use.\n",
      "Perhaps you already have a cluster running?\n",
      "Hosting the HTTP server on port 39831 instead\n",
      "  warnings.warn(\n"
     ]
    },
    {
     "data": {
      "text/html": [
       "<table style=\"border: 2px solid white;\">\n",
       "<tr>\n",
       "<td style=\"vertical-align: top; border: 0px solid white\">\n",
       "<h3 style=\"text-align: left;\">Client</h3>\n",
       "<ul style=\"text-align: left; list-style: none; margin: 0; padding: 0;\">\n",
       "  <li><b>Scheduler: </b>tcp://127.0.0.1:45233</li>\n",
       "  <li><b>Dashboard: </b><a href='/user/robbibt/proxy/39831/status' target='_blank'>/user/robbibt/proxy/39831/status</a></li>\n",
       "</ul>\n",
       "</td>\n",
       "<td style=\"vertical-align: top; border: 0px solid white\">\n",
       "<h3 style=\"text-align: left;\">Cluster</h3>\n",
       "<ul style=\"text-align: left; list-style:none; margin: 0; padding: 0;\">\n",
       "  <li><b>Workers: </b>1</li>\n",
       "  <li><b>Cores: </b>7</li>\n",
       "  <li><b>Memory: </b>63.57 GB</li>\n",
       "</ul>\n",
       "</td>\n",
       "</tr>\n",
       "</table>"
      ],
      "text/plain": [
       "<Client: 'tcp://127.0.0.1:45233' processes=1 threads=7, memory=63.57 GB>"
      ]
     },
     "metadata": {},
     "output_type": "display_data"
    },
    {
     "name": "stdout",
     "output_type": "stream",
     "text": [
      "Finding datasets\n",
      "    s2a_nrt_granule\n",
      "    s2b_nrt_granule\n",
      "Returning 7 time steps as a dask array\n",
      "Exporting image to file...\n"
     ]
    }
   ],
   "source": [
    "ds = run_imageexport_app(output_name, satellites, date, style, vmin, vmax,\n",
    "                         percentile_stretch)"
   ]
  },
  {
   "cell_type": "code",
   "execution_count": 33,
   "metadata": {},
   "outputs": [],
   "source": [
    "from ipyleaflet import basemaps"
   ]
  },
  {
   "cell_type": "code",
   "execution_count": null,
   "metadata": {},
   "outputs": [],
   "source": [
    "\n",
    "# # Keep nearest timestep only\n",
    "# nearest_time = np.argmin(abs(ds.time.values - np.datetime64(date)))\n",
    "# nearest_ds = ds.isel(time=nearest_time)\n",
    "\n",
    "# # Convert to numpy array\n",
    "# rgb_array = np.transpose(nearest_ds.to_array().values, \n",
    "#                          axes=[1, 2, 0])"
   ]
  },
  {
   "cell_type": "code",
   "execution_count": null,
   "metadata": {},
   "outputs": [],
   "source": [
    "# nearest_ds.time"
   ]
  },
  {
   "cell_type": "code",
   "execution_count": 37,
   "metadata": {},
   "outputs": [
    {
     "data": {
      "text/plain": [
       "2"
      ]
     },
     "execution_count": 37,
     "metadata": {},
     "output_type": "execute_result"
    }
   ],
   "source": [
    "import numpy as np\n"
   ]
  },
  {
   "cell_type": "markdown",
   "metadata": {},
   "source": [
    "## Using filmstrip plots to identify change\n",
    "\n",
    "The filmstrip plot above contains several colour imagery panels that summarise the median or 'typical' appearance of the landscape for the time periods defined using `time_range` and `time_step`. \n",
    "If you ran the analysis over the Sydney Airport and Port Botany area, inspect each of the imagery plots. \n",
    "Some key examples of change that appear include: \n",
    "\n",
    "* The 1994 construction of Sydney Airport's third runway in the second panel (covering the five year period between 1993 and 1998)\n",
    "* The 2011 expansion of Port Botany visible as construction in the fifth panel, and completed by the sixth panel\n",
    "* Increasing commercial and industrial development (e.g. large white roofs) in the suburb of Mascot north of Port Botany\n",
    "\n",
    "### Change heatmap\n",
    "\n",
    "To make it easier to identify areas that have changed between each filmstrip panel, the final panel provides a \"change heatmap\".\n",
    "This highlights pixels whose values vary greatly between the panels in the filmstrip plot. \n",
    "Bright colours indicate pixels that have changed; dark colours indicate pixels that have remained relatively similar across time.\n",
    "\n",
    "Compare the \"change heatmap\" panel against the colour imagery panels. \n",
    "You should be able to clearly see Sydney Airport's third runway and the Port Botany port expansion highlighted in bright colours.\n",
    "\n",
    "> **Technical info:** The \"change heatmap\" is calculated by first taking a log transform of the imagery data to emphasize dark pixels, then calculating standard deviation across all of the filmstrip panels to reveal pixels that changed over time."
   ]
  },
  {
   "cell_type": "markdown",
   "metadata": {},
   "source": [
    "## Downloading filmstrip plot\n",
    "The high resolution version of the filmstrip plot generated above will be saved to the same location you are running this notebook from (e.g. typically `Real_world_examples`). \n",
    "In JupyterLab, use the file browser to locate the image file with a name in the following format: \n",
    "\n",
    "`filmstrip_{output_name}_{date_string}_{time_step}.png`\n",
    "\n",
    "If you are using the **DEA Sandbox**, you can download the image to your PC by right clicking on the image file and selecting `Download`."
   ]
  },
  {
   "cell_type": "markdown",
   "metadata": {},
   "source": [
    "## Export GeoTIFF data\n",
    "It can be useful to export each of the filmstrip panels generated above as GeoTIFF raster files so that they can be loaded into a Geographic Information System (GIS) software for further analysis.\n",
    "Because the filmstrip panels were generated using the \"geomedian\" statistic that preserves relationships between spectral bands, the resulting data can be validly analysed in the same way as we would analyse an individual satellite image.\n",
    "\n",
    "To export the GeoTIFFs, run the following cell then right click on the files in the JupyterLab file browser and select `Download`."
   ]
  },
  {
   "cell_type": "code",
   "execution_count": null,
   "metadata": {},
   "outputs": [],
   "source": [
    "# Export filmstrip panels\n",
    "for i, ds in geomedians.groupby('timestep'):\n",
    "    print(f'Exporting {i} data')\n",
    "    write_cog(geo_im=ds.to_array(), \n",
    "              fname=f'geotiff_{output_name}_{i}.tif', \n",
    "              overwrite=True)\n",
    "\n",
    "# Export change heatmap\n",
    "print('Exporting change heatmap')\n",
    "write_cog(geo_im=heatmap, \n",
    "          fname=f'geotiff_{output_name}_heatmap.tif', \n",
    "          overwrite=True)"
   ]
  },
  {
   "cell_type": "markdown",
   "metadata": {},
   "source": [
    "## Next steps\n",
    "When you are done, return to the [Analysis parameters](#Analysis-parameters) section, modify some values and rerun the analysis. \n",
    "For example, you could try:\n",
    "\n",
    "* Modify `time_range` to look at a specific time period of interest (e.g. `time_range = ('1990-01-01', '2000-01-01')`.\n",
    "* Setting a shorter `time_step` (e.g. `time_step = {'years': 2}`) for a more detailed look at how the landscape has changed over shorter time periods.\n",
    "* Inspecting change along the coastline after controlling for tide using the `tide_range` parameter (e.g. `tide_range = (0.0, 0.3)` to look at the landscape during the lowest 30% of tides). \n",
    "For the best results, test this out in an area with high tides such as [Roebuck Bay in West Australia's Kimberley region](https://goo.gl/maps/ZkCcXUSbsVhRMsgM9).\n"
   ]
  },
  {
   "cell_type": "markdown",
   "metadata": {},
   "source": [
    "***\n",
    "\n",
    "## Additional information\n",
    "\n",
    "**License:** The code in this notebook is licensed under the [Apache License, Version 2.0](https://www.apache.org/licenses/LICENSE-2.0). \n",
    "Digital Earth Australia data is licensed under the [Creative Commons by Attribution 4.0](https://creativecommons.org/licenses/by/4.0/) license.\n",
    "\n",
    "**Contact:** If you need assistance, please post a question on the [Open Data Cube Slack channel](http://slack.opendatacube.org/) or on the [GIS Stack Exchange](https://gis.stackexchange.com/questions/ask?tags=open-data-cube) using the `open-data-cube` tag (you can view previously asked questions [here](https://gis.stackexchange.com/questions/tagged/open-data-cube)).\n",
    "If you would like to report an issue with this notebook, you can file one on [Github](https://github.com/GeoscienceAustralia/dea-notebooks).\n",
    "\n",
    "**Last modified:** June 2020\n",
    "\n",
    "**Compatible datacube version:** "
   ]
  },
  {
   "cell_type": "code",
   "execution_count": null,
   "metadata": {},
   "outputs": [],
   "source": [
    "import datacube\n",
    "print(datacube.__version__)"
   ]
  },
  {
   "cell_type": "markdown",
   "metadata": {},
   "source": [
    "## Tags\n",
    "Browse all available tags on the DEA User Guide's [Tags Index](https://docs.dea.ga.gov.au/genindex.html)"
   ]
  },
  {
   "cell_type": "raw",
   "metadata": {
    "raw_mimetype": "text/restructuredtext"
   },
   "source": [
    "**Tags**: :index:`NCI compatible`, :index:`sandbox compatible`, :index:`landsat 5`, :index:`landsat 7`, :index:`landsat 8`, :index:`dea_datahandling`, :index:`dea_coastaltools`, :index:`dea_plotting`, :index:`load_ard`, :index:`mostcommon_crs`, :index:`tidal_tag`, :index:`rgb`, :index:`image compositing`, :index:`geomedian`, :index:`filmstrip plot`, :index:`change monitoring`, :index:`real world`, :index:`widgets`, :index:`interactive`, :index:`no_testing`"
   ]
  }
 ],
 "metadata": {
  "kernelspec": {
   "display_name": "Python 3",
   "language": "python",
   "name": "python3"
  },
  "language_info": {
   "codemirror_mode": {
    "name": "ipython",
    "version": 3
   },
   "file_extension": ".py",
   "mimetype": "text/x-python",
   "name": "python",
   "nbconvert_exporter": "python",
   "pygments_lexer": "ipython3",
   "version": "3.8.10"
  },
  "widgets": {
   "application/vnd.jupyter.widget-state+json": {
    "state": {
     "005c0a4ce42f41549d54881511cf6403": {
      "model_module": "jupyter-leaflet",
      "model_module_version": "^0.13.0",
      "model_name": "LeafletDrawControlModel",
      "state": {
       "_model_module_version": "^0.13.0",
       "_view_module_version": "^0.13.0",
       "options": [
        "position"
       ],
       "polygon": {
        "shapeOptions": {
         "color": "#000000",
         "editing": {
          "color": "#000000",
          "fillColor": "#fca45d",
          "fillOpacity": 0.1
         },
         "fillColor": "#fca45d",
         "fillOpacity": 0.1,
         "original": {
          "color": "#000000",
          "fillColor": "#fca45d",
          "fillOpacity": 0.1
         }
        }
       },
       "polyline": {},
       "rectangle": {
        "metric": [
         "km",
         "m"
        ],
        "shapeOptions": {
         "color": "#000000",
         "fillColor": "#fca45d",
         "fillOpacity": 0.1
        }
       }
      }
     },
     "0084f1cbc2634fdca5969d02409fa772": {
      "model_module": "jupyter-leaflet",
      "model_module_version": "^0.13.0",
      "model_name": "LeafletMapStyleModel",
      "state": {
       "_model_module_version": "^0.13.0"
      }
     },
     "00b331768d6947cc811126469026682f": {
      "model_module": "@jupyter-widgets/base",
      "model_module_version": "1.2.0",
      "model_name": "LayoutModel",
      "state": {
       "flex": "1 0 20em",
       "height": "3em",
       "width": "20em"
      }
     },
     "00cc36c2622444ff9211e50ede0c0e35": {
      "model_module": "jupyter-leaflet",
      "model_module_version": "^0.13.0",
      "model_name": "LeafletTileLayerModel",
      "state": {
       "_model_module_version": "^0.13.0",
       "_view_module_version": "^0.13.0",
       "max_native_zoom": 18,
       "max_zoom": 19,
       "min_native_zoom": 0,
       "min_zoom": 1,
       "name": "OpenStreetMap.Mapnik",
       "options": [
        "attribution",
        "detect_retina",
        "max_native_zoom",
        "max_zoom",
        "min_native_zoom",
        "min_zoom",
        "no_wrap",
        "tile_size",
        "tms"
       ]
      }
     },
     "00f40990828d445da69597002cc2e027": {
      "model_module": "@jupyter-widgets/controls",
      "model_module_version": "1.5.0",
      "model_name": "ButtonStyleModel",
      "state": {
       "button_color": "green"
      }
     },
     "011ce5e81796482e9010edd4749a5bf0": {
      "model_module": "@jupyter-widgets/controls",
      "model_module_version": "1.5.0",
      "model_name": "DescriptionStyleModel",
      "state": {
       "description_width": ""
      }
     },
     "0120627f135244978b6f732891cb1195": {
      "model_module": "jupyter-leaflet",
      "model_module_version": "^0.13.0",
      "model_name": "LeafletMapStyleModel",
      "state": {
       "_model_module_version": "^0.13.0",
       "cursor": "move"
      }
     },
     "01532ef01f7e4eb5a0c03b9c3cf1f011": {
      "model_module": "jupyter-leaflet",
      "model_module_version": "^0.13.0",
      "model_name": "LeafletWidgetControlModel",
      "state": {
       "_model_module": "jupyter-leaflet",
       "_model_module_version": "^0.13.0",
       "_view_count": null,
       "_view_module": "jupyter-leaflet",
       "_view_module_version": "^0.13.0",
       "options": [
        "position"
       ],
       "position": "bottomleft",
       "widget": "IPY_MODEL_1c9b53f71a524febbbd4e015f7a195d4"
      }
     },
     "023e227842bd4ebfab4f039a584566a7": {
      "model_module": "@jupyter-widgets/controls",
      "model_module_version": "1.5.0",
      "model_name": "ButtonStyleModel",
      "state": {
       "button_color": "green"
      }
     },
     "029da536345b43aa8035cd173a3849b4": {
      "model_module": "jupyter-leaflet",
      "model_module_version": "^0.13.0",
      "model_name": "LeafletTileLayerModel",
      "state": {
       "_model_module_version": "^0.13.0",
       "_view_module_version": "^0.13.0",
       "attribution": "Tiles &copy; Esri &mdash; Source: Esri, i-cubed, USDA, USGS, AEX, GeoEye, Getmapping, Aerogrid, IGN, IGP, UPR-EGP, and the GIS User Community",
       "max_native_zoom": 18,
       "max_zoom": 20,
       "min_native_zoom": 0,
       "min_zoom": 1,
       "name": "Esri.WorldImagery",
       "options": [
        "attribution",
        "detect_retina",
        "max_native_zoom",
        "max_zoom",
        "min_native_zoom",
        "min_zoom",
        "no_wrap",
        "tile_size",
        "tms"
       ],
       "url": "http://server.arcgisonline.com/ArcGIS/rest/services/World_Imagery/MapServer/tile/{z}/{y}/{x}"
      }
     },
     "02a9bb9232994ae8bc7d6dcefc85b7f7": {
      "model_module": "jupyter-leaflet",
      "model_module_version": "^0.13.0",
      "model_name": "LeafletMapStyleModel",
      "state": {
       "_model_module_version": "^0.13.0"
      }
     },
     "038f28cdf9d644a7b06a5ffb3d5b3774": {
      "model_module": "jupyter-leaflet",
      "model_module_version": "^0.13.0",
      "model_name": "LeafletAttributionControlModel",
      "state": {
       "_model_module_version": "^0.13.0",
       "_view_module_version": "^0.13.0",
       "options": [
        "position",
        "prefix"
       ],
       "position": "bottomright",
       "prefix": "Leaflet"
      }
     },
     "048fb29ddc034420a008d9a5ac74e5f6": {
      "model_module": "jupyter-leaflet",
      "model_module_version": "^0.13.0",
      "model_name": "LeafletFullScreenControlModel",
      "state": {
       "_model_module_version": "^0.13.0",
       "_view_module_version": "^0.13.0",
       "options": [
        "position"
       ]
      }
     },
     "049f9db9a59a4ef0bf470e71e051bd4c": {
      "model_module": "@jupyter-widgets/controls",
      "model_module_version": "1.5.0",
      "model_name": "ButtonStyleModel",
      "state": {
       "button_color": "green"
      }
     },
     "0523cbf1fe4e4ea1a22f07dd2b0926c3": {
      "model_module": "jupyter-leaflet",
      "model_module_version": "^0.13.0",
      "model_name": "LeafletMapModel",
      "state": {
       "_model_module_version": "^0.13.0",
       "_view_module_version": "^0.13.0",
       "center": [
        -30.007273923504542,
        146.68670654296878
       ],
       "controls": [
        "IPY_MODEL_560834ea4e8b49aba9bc98f3d69affc6",
        "IPY_MODEL_9851eeb505724b11b74ecced28aa2297",
        "IPY_MODEL_587b6193390142319f608ca51db1bb0e"
       ],
       "default_style": "IPY_MODEL_b51a3e016ba74735aa08d9ed5473c69f",
       "dragging_style": "IPY_MODEL_862507bc2ffc44ac90885edc2f2dcfa3",
       "east": 148.33740234375003,
       "fullscreen": false,
       "interpolation": "bilinear",
       "layers": [
        "IPY_MODEL_be9592a68c8c4afcb9295f5b42648c28",
        "IPY_MODEL_5baf5e64da964e72979a16b25dabc119"
       ],
       "layout": "IPY_MODEL_7952ab08821b430baa8306669b2ace5d",
       "modisdate": "yesterday",
       "north": -29.291189838184863,
       "options": [
        "bounce_at_zoom_limits",
        "box_zoom",
        "center",
        "close_popup_on_click",
        "double_click_zoom",
        "dragging",
        "fullscreen",
        "inertia",
        "inertia_deceleration",
        "inertia_max_speed",
        "interpolation",
        "keyboard",
        "keyboard_pan_offset",
        "keyboard_zoom_offset",
        "max_zoom",
        "min_zoom",
        "scroll_wheel_zoom",
        "tap",
        "tap_tolerance",
        "touch_zoom",
        "world_copy_jump",
        "zoom",
        "zoom_animation_threshold",
        "zoom_start"
       ],
       "scroll_wheel_zoom": true,
       "south": -30.718226523201352,
       "style": "IPY_MODEL_b51a3e016ba74735aa08d9ed5473c69f",
       "west": 145.03601074218753,
       "window_url": "https://app.sandbox.dea.ga.gov.au/user/robbibt/lab?",
       "zoom": 9
      }
     },
     "0554cc7768314f67bb139ee899f249ea": {
      "model_module": "jupyter-leaflet",
      "model_module_version": "^0.13.0",
      "model_name": "LeafletMapStyleModel",
      "state": {
       "_model_module_version": "^0.13.0"
      }
     },
     "0603e854480c40338a698b7440354f60": {
      "model_module": "jupyter-leaflet",
      "model_module_version": "^0.13.0",
      "model_name": "LeafletMapStyleModel",
      "state": {
       "_model_module_version": "^0.13.0",
       "cursor": "move"
      }
     },
     "063ee6fb7c894298baa06296aa6a8ec0": {
      "model_module": "jupyter-leaflet",
      "model_module_version": "^0.13.0",
      "model_name": "LeafletZoomControlModel",
      "state": {
       "_model_module_version": "^0.13.0",
       "_view_module_version": "^0.13.0",
       "options": [
        "position",
        "zoom_in_text",
        "zoom_in_title",
        "zoom_out_text",
        "zoom_out_title"
       ]
      }
     },
     "06d0a54417cb4a70a8791fa8f7ac0b15": {
      "model_module": "jupyter-leaflet",
      "model_module_version": "^0.13.0",
      "model_name": "LeafletMapStyleModel",
      "state": {
       "_model_module_version": "^0.13.0",
       "cursor": "move"
      }
     },
     "06fb93defa5247e4ac9eb737de2a5622": {
      "model_module": "jupyter-leaflet",
      "model_module_version": "^0.13.0",
      "model_name": "LeafletAttributionControlModel",
      "state": {
       "_model_module_version": "^0.13.0",
       "_view_module_version": "^0.13.0",
       "options": [
        "position",
        "prefix"
       ],
       "position": "bottomright",
       "prefix": "Leaflet"
      }
     },
     "07f7382223ea4c78842fbf87aa1a25ac": {
      "model_module": "@jupyter-widgets/controls",
      "model_module_version": "1.5.0",
      "model_name": "ButtonStyleModel",
      "state": {
       "button_color": "green"
      }
     },
     "08bea2c966634bc3a58d27c262ab1957": {
      "model_module": "@jupyter-widgets/controls",
      "model_module_version": "1.5.0",
      "model_name": "HTMLModel",
      "state": {
       "layout": "IPY_MODEL_4cc1745413e6455d9b7ac40e1dbc7e86",
       "style": "IPY_MODEL_b4b7076102d94bc8af120067f5e69dfe",
       "value": "<pre style=\"color:grey\">lat: [-26.1332, -24.6445]\nlon: [122.9041, 126.2054]</pre>"
      }
     },
     "08ce25e783754fe1bf8451588cf2e5d2": {
      "model_module": "@jupyter-widgets/controls",
      "model_module_version": "1.5.0",
      "model_name": "ButtonModel",
      "state": {
       "description": "done",
       "disabled": true,
       "layout": "IPY_MODEL_e685df2b0491476683b656013e4ddb65",
       "style": "IPY_MODEL_ab041e78a5b04202b88277da9c4c91b3"
      }
     },
     "08f5df4854894db2bd8565fbea8b9771": {
      "model_module": "jupyter-leaflet",
      "model_module_version": "^0.13.0",
      "model_name": "LeafletDrawControlModel",
      "state": {
       "_model_module_version": "^0.13.0",
       "_view_module_version": "^0.13.0",
       "options": [
        "position"
       ],
       "polygon": {
        "shapeOptions": {
         "color": "#000000",
         "editing": {
          "color": "#000000",
          "fillColor": "#fca45d",
          "fillOpacity": 0.1
         },
         "fillColor": "#fca45d",
         "fillOpacity": 0.1,
         "original": {
          "color": "#000000",
          "fillColor": "#fca45d",
          "fillOpacity": 0.1
         }
        }
       },
       "polyline": {},
       "rectangle": {
        "metric": [
         "km",
         "m"
        ],
        "shapeOptions": {
         "color": "#000000",
         "fillColor": "#fca45d",
         "fillOpacity": 0.1
        }
       }
      }
     },
     "095b3a84d8794f6cb5a96699ee4068df": {
      "model_module": "@jupyter-widgets/base",
      "model_module_version": "1.2.0",
      "model_name": "LayoutModel",
      "state": {
       "width": "5em"
      }
     },
     "096527d3ae054516adc85f6dee1b2bbe": {
      "model_module": "jupyter-leaflet",
      "model_module_version": "^0.13.0",
      "model_name": "LeafletMapModel",
      "state": {
       "_model_module_version": "^0.13.0",
       "_view_module_version": "^0.13.0",
       "center": [
        -13.288023347754757,
        130.3569030761719
       ],
       "controls": [
        "IPY_MODEL_ff9b9b3bf3134b59bca272a9f38e2536",
        "IPY_MODEL_925237bccd3a42928c0a28c5cb2c9a32",
        "IPY_MODEL_ea03deed247d474ea75960bd2ca81211"
       ],
       "default_style": "IPY_MODEL_4c4d669bf2d54aeab27f7ad7ca8988a0",
       "dragging_style": "IPY_MODEL_5308e088f3ac4fa4bceed5abe24a32a7",
       "east": 131.18225097656253,
       "fullscreen": false,
       "interpolation": "bilinear",
       "layers": [
        "IPY_MODEL_bfc7a27bec5a4be4b8bc5095550def64",
        "IPY_MODEL_da547f46b0af431c995ba3f3635d8389"
       ],
       "layout": "IPY_MODEL_475feceda3d049db89a90ce5b9b8d32f",
       "modisdate": "yesterday",
       "north": -12.88677980084704,
       "options": [
        "bounce_at_zoom_limits",
        "box_zoom",
        "center",
        "close_popup_on_click",
        "double_click_zoom",
        "dragging",
        "fullscreen",
        "inertia",
        "inertia_deceleration",
        "inertia_max_speed",
        "interpolation",
        "keyboard",
        "keyboard_pan_offset",
        "keyboard_zoom_offset",
        "max_zoom",
        "min_zoom",
        "scroll_wheel_zoom",
        "tap",
        "tap_tolerance",
        "touch_zoom",
        "world_copy_jump",
        "zoom",
        "zoom_animation_threshold",
        "zoom_start"
       ],
       "scroll_wheel_zoom": true,
       "south": -13.688687769784968,
       "style": "IPY_MODEL_4c4d669bf2d54aeab27f7ad7ca8988a0",
       "west": 129.53155517578128,
       "window_url": "https://app.sandbox.dea.ga.gov.au/user/robbibt/lab?",
       "zoom": 10
      }
     },
     "09786308b56e4b6d8d5eb55cdf2b7663": {
      "model_module": "jupyter-leaflet",
      "model_module_version": "^0.13.0",
      "model_name": "LeafletMapStyleModel",
      "state": {
       "_model_module_version": "^0.13.0"
      }
     },
     "09de932f24964b939ae1f98f786deaae": {
      "model_module": "jupyter-leaflet",
      "model_module_version": "^0.13.0",
      "model_name": "LeafletMapStyleModel",
      "state": {
       "_model_module_version": "^0.13.0",
       "cursor": "move"
      }
     },
     "0bb04892f2e24e9fa2829f0704aef281": {
      "model_module": "jupyter-leaflet",
      "model_module_version": "^0.13.0",
      "model_name": "LeafletZoomControlModel",
      "state": {
       "_model_module_version": "^0.13.0",
       "_view_module_version": "^0.13.0",
       "options": [
        "position",
        "zoom_in_text",
        "zoom_in_title",
        "zoom_out_text",
        "zoom_out_title"
       ]
      }
     },
     "0c4b003a5ee14e7f9659bdabdf91857f": {
      "model_module": "jupyter-leaflet",
      "model_module_version": "^0.13.0",
      "model_name": "LeafletAttributionControlModel",
      "state": {
       "_model_module_version": "^0.13.0",
       "_view_module_version": "^0.13.0",
       "options": [
        "position",
        "prefix"
       ],
       "position": "bottomright",
       "prefix": "Leaflet"
      }
     },
     "0c60c334fb864265be63f45aca07f262": {
      "model_module": "@jupyter-widgets/controls",
      "model_module_version": "1.5.0",
      "model_name": "HTMLModel",
      "state": {
       "layout": "IPY_MODEL_55615ebcdfa148e788589adee0287dbe",
       "style": "IPY_MODEL_f135afecbf4b47e3afca8ef953d95509",
       "value": "<pre style=\"color:grey\">lat: [-33.2617, -31.8729]\nlon: [145.3436, 148.6450]</pre>"
      }
     },
     "0daefc431b114bacbcb2fcbf85468ae4": {
      "model_module": "jupyter-leaflet",
      "model_module_version": "^0.13.0",
      "model_name": "LeafletMapStyleModel",
      "state": {
       "_model_module_version": "^0.13.0",
       "cursor": "move"
      }
     },
     "0e149e5870f347a783935b837fc589ae": {
      "model_module": "@jupyter-widgets/base",
      "model_module_version": "1.2.0",
      "model_name": "LayoutModel",
      "state": {
       "flex": "1 0 20em",
       "height": "3em",
       "width": "20em"
      }
     },
     "0e29ea1c969d40edbb2f82d0470ef848": {
      "model_module": "jupyter-leaflet",
      "model_module_version": "^0.13.0",
      "model_name": "LeafletWidgetControlModel",
      "state": {
       "_model_module": "jupyter-leaflet",
       "_model_module_version": "^0.13.0",
       "_view_count": null,
       "_view_module": "jupyter-leaflet",
       "_view_module_version": "^0.13.0",
       "options": [
        "position"
       ],
       "position": "topright",
       "widget": "IPY_MODEL_719700ee59da44ca9e0cdc30403be306"
      }
     },
     "0e50951c9f7a4966819c65a02582b99f": {
      "model_module": "@jupyter-widgets/controls",
      "model_module_version": "1.5.0",
      "model_name": "ButtonModel",
      "state": {
       "description": "done",
       "disabled": true,
       "layout": "IPY_MODEL_f187087fd12d4a09ad355a89a1cd376a",
       "style": "IPY_MODEL_5c1702b7e8434c03ab3649b890df2ee7"
      }
     },
     "0eda0de67cd24b408ea94d8d11d7d191": {
      "model_module": "@jupyter-widgets/controls",
      "model_module_version": "1.5.0",
      "model_name": "ButtonModel",
      "state": {
       "description": "done",
       "disabled": true,
       "layout": "IPY_MODEL_5327cdaa6c584893bb0417d4d01f940f",
       "style": "IPY_MODEL_2f092187aa7646dda9f0d5cf0c9b2054"
      }
     },
     "0f3364d83bcf4bdd85adf356d92a64ee": {
      "model_module": "@jupyter-widgets/base",
      "model_module_version": "1.2.0",
      "model_name": "LayoutModel",
      "state": {
       "flex": "1 0 20em",
       "height": "3em",
       "width": "20em"
      }
     },
     "0f71d0b42a284beaa30e08b7e3bf071c": {
      "model_module": "jupyter-leaflet",
      "model_module_version": "^0.13.0",
      "model_name": "LeafletMapStyleModel",
      "state": {
       "_model_module_version": "^0.13.0"
      }
     },
     "0fcca6f02267421aa1a9efd419e215d0": {
      "model_module": "@jupyter-widgets/base",
      "model_module_version": "1.2.0",
      "model_name": "LayoutModel",
      "state": {
       "flex": "1 0 20em",
       "height": "3em",
       "width": "20em"
      }
     },
     "10536422c4844595b96a518059ae9965": {
      "model_module": "jupyter-leaflet",
      "model_module_version": "^0.13.0",
      "model_name": "LeafletZoomControlModel",
      "state": {
       "_model_module_version": "^0.13.0",
       "_view_module_version": "^0.13.0",
       "options": [
        "position",
        "zoom_in_text",
        "zoom_in_title",
        "zoom_out_text",
        "zoom_out_title"
       ]
      }
     },
     "105564a8ec9845a5bf2dd8ddce95d94f": {
      "model_module": "@jupyter-widgets/base",
      "model_module_version": "1.2.0",
      "model_name": "LayoutModel",
      "state": {
       "width": "5em"
      }
     },
     "105fdcc3cc5d4843ab942c13ddf851fc": {
      "model_module": "@jupyter-widgets/controls",
      "model_module_version": "1.5.0",
      "model_name": "ButtonModel",
      "state": {
       "description": "done",
       "disabled": true,
       "layout": "IPY_MODEL_48d1efbf232f43bca0690b438a036b03",
       "style": "IPY_MODEL_55df25f5f81546769e40932039b4aa25"
      }
     },
     "10659647ddbf40ad8a66ab5bce213b52": {
      "model_module": "jupyter-leaflet",
      "model_module_version": "^0.13.0",
      "model_name": "LeafletWMSLayerModel",
      "state": {
       "_model_module_version": "^0.13.0",
       "_view_module_version": "^0.13.0",
       "attribution": "Digital Earth Australia",
       "crs": {
        "custom": false,
        "name": "EPSG3857"
       },
       "format": "image/png",
       "layers": "ga_ls_ard_3",
       "max_native_zoom": 18,
       "min_native_zoom": 0,
       "options": [
        "attribution",
        "detect_retina",
        "format",
        "layers",
        "max_native_zoom",
        "max_zoom",
        "min_native_zoom",
        "min_zoom",
        "no_wrap",
        "styles",
        "tile_size",
        "time",
        "tms",
        "transparent",
        "uppercase"
       ],
       "time": "2019-01-01",
       "transparent": true,
       "url": "https://ows.dea.ga.gov.au/"
      }
     },
     "118d580bfe2348d2b75ed0a1c447e884": {
      "model_module": "jupyter-leaflet",
      "model_module_version": "^0.13.0",
      "model_name": "LeafletDrawControlModel",
      "state": {
       "_model_module_version": "^0.13.0",
       "_view_module_version": "^0.13.0",
       "options": [
        "position"
       ],
       "polygon": {
        "shapeOptions": {
         "color": "#000000",
         "editing": {
          "color": "#000000",
          "fillColor": "#fca45d",
          "fillOpacity": 0.1
         },
         "fillColor": "#fca45d",
         "fillOpacity": 0.1,
         "original": {
          "color": "#000000",
          "fillColor": "#fca45d",
          "fillOpacity": 0.1
         }
        }
       },
       "polyline": {},
       "rectangle": {
        "metric": [
         "km",
         "m"
        ],
        "shapeOptions": {
         "color": "#000000",
         "fillColor": "#fca45d",
         "fillOpacity": 0.1
        }
       }
      }
     },
     "1213a563578d4141afe84143c833aa0b": {
      "model_module": "jupyter-leaflet",
      "model_module_version": "^0.13.0",
      "model_name": "LeafletDrawControlModel",
      "state": {
       "_model_module_version": "^0.13.0",
       "_view_module_version": "^0.13.0",
       "options": [
        "position"
       ],
       "polygon": {
        "shapeOptions": {
         "color": "#000000",
         "editing": {
          "color": "#000000",
          "fillColor": "#fca45d",
          "fillOpacity": 0.1
         },
         "fillColor": "#fca45d",
         "fillOpacity": 0.1,
         "original": {
          "color": "#000000",
          "fillColor": "#fca45d",
          "fillOpacity": 0.1
         }
        }
       },
       "polyline": {},
       "rectangle": {
        "metric": [
         "km",
         "m"
        ],
        "shapeOptions": {
         "color": "#000000",
         "fillColor": "#fca45d",
         "fillOpacity": 0.1
        }
       }
      }
     },
     "139f6617a3594b4c895d0b3938e06969": {
      "model_module": "@jupyter-widgets/controls",
      "model_module_version": "1.5.0",
      "model_name": "ButtonModel",
      "state": {
       "description": "done",
       "disabled": true,
       "layout": "IPY_MODEL_d391a3eff9d243cdadf9e8b07679b904",
       "style": "IPY_MODEL_472f35acb89341478005b77cd1d94646"
      }
     },
     "14b8cbe7f70a4d8d94183c7d6343e302": {
      "model_module": "jupyter-leaflet",
      "model_module_version": "^0.13.0",
      "model_name": "LeafletMapModel",
      "state": {
       "_model_module_version": "^0.13.0",
       "_view_module_version": "^0.13.0",
       "center": [
        -30.845647420182598,
        139.82986450195315
       ],
       "controls": [
        "IPY_MODEL_a50cd76b33d64fb4aff48c745c4f209e",
        "IPY_MODEL_c67e1d56215442849b5f9f61edc4eef0",
        "IPY_MODEL_d3fa410a198441c783d7411df401d44a"
       ],
       "default_style": "IPY_MODEL_964faf8fe7f64bfd818cb158ea24c3f4",
       "dragging_style": "IPY_MODEL_debbb71be0784f0a9fc86a8db5ce0dab",
       "east": 140.65521240234378,
       "fullscreen": false,
       "interpolation": "bilinear",
       "layers": [
        "IPY_MODEL_4b452b25b2e54425ab2dbba85c76e727",
        "IPY_MODEL_8c51e3bf18654c6fb9e2da06f657431c"
       ],
       "layout": "IPY_MODEL_bf3528e612724d679013b33befce4c4a",
       "modisdate": "yesterday",
       "north": -30.491284452100185,
       "options": [
        "bounce_at_zoom_limits",
        "box_zoom",
        "center",
        "close_popup_on_click",
        "double_click_zoom",
        "dragging",
        "fullscreen",
        "inertia",
        "inertia_deceleration",
        "inertia_max_speed",
        "interpolation",
        "keyboard",
        "keyboard_pan_offset",
        "keyboard_zoom_offset",
        "max_zoom",
        "min_zoom",
        "scroll_wheel_zoom",
        "tap",
        "tap_tolerance",
        "touch_zoom",
        "world_copy_jump",
        "zoom",
        "zoom_animation_threshold",
        "zoom_start"
       ],
       "scroll_wheel_zoom": true,
       "south": -31.198706347135246,
       "style": "IPY_MODEL_964faf8fe7f64bfd818cb158ea24c3f4",
       "west": 139.00451660156253,
       "window_url": "https://app.sandbox.dea.ga.gov.au/user/robbibt/lab?",
       "zoom": 10
      }
     },
     "1595defd5d5743bbb1bc0f951d14dd36": {
      "model_module": "jupyter-leaflet",
      "model_module_version": "^0.13.0",
      "model_name": "LeafletMapStyleModel",
      "state": {
       "_model_module_version": "^0.13.0"
      }
     },
     "165201a2705a45cf82ff09bab9e75d86": {
      "model_module": "jupyter-leaflet",
      "model_module_version": "^0.13.0",
      "model_name": "LeafletDrawControlModel",
      "state": {
       "_model_module_version": "^0.13.0",
       "_view_module_version": "^0.13.0",
       "options": [
        "position"
       ],
       "polygon": {
        "shapeOptions": {
         "color": "#000000",
         "editing": {
          "color": "#000000",
          "fillColor": "#fca45d",
          "fillOpacity": 0.1
         },
         "fillColor": "#fca45d",
         "fillOpacity": 0.1,
         "original": {
          "color": "#000000",
          "fillColor": "#fca45d",
          "fillOpacity": 0.1
         }
        }
       },
       "polyline": {},
       "rectangle": {
        "metric": [
         "km",
         "m"
        ],
        "shapeOptions": {
         "color": "#000000",
         "fillColor": "#fca45d",
         "fillOpacity": 0.1
        }
       }
      }
     },
     "16558ac99f4e40e591b6321b052d8330": {
      "model_module": "jupyter-leaflet",
      "model_module_version": "^0.13.0",
      "model_name": "LeafletAttributionControlModel",
      "state": {
       "_model_module_version": "^0.13.0",
       "_view_module_version": "^0.13.0",
       "options": [
        "position",
        "prefix"
       ],
       "position": "bottomright",
       "prefix": "Leaflet"
      }
     },
     "174b05b700054551a506805387699841": {
      "model_module": "jupyter-leaflet",
      "model_module_version": "^0.13.0",
      "model_name": "LeafletFullScreenControlModel",
      "state": {
       "_model_module_version": "^0.13.0",
       "_view_module_version": "^0.13.0",
       "options": [
        "position"
       ]
      }
     },
     "182f0b9bdeb6440ab1b5d5bef24ad8ee": {
      "model_module": "jupyter-leaflet",
      "model_module_version": "^0.13.0",
      "model_name": "LeafletMapStyleModel",
      "state": {
       "_model_module_version": "^0.13.0"
      }
     },
     "18f713c6bc0b45e3835c15e3161dc2c0": {
      "model_module": "@jupyter-widgets/base",
      "model_module_version": "1.2.0",
      "model_name": "LayoutModel",
      "state": {
       "height": "600px"
      }
     },
     "19bc82d625a94f2ea37a5ebbbc69d935": {
      "model_module": "jupyter-leaflet",
      "model_module_version": "^0.13.0",
      "model_name": "LeafletAttributionControlModel",
      "state": {
       "_model_module_version": "^0.13.0",
       "_view_module_version": "^0.13.0",
       "options": [
        "position",
        "prefix"
       ],
       "position": "bottomright",
       "prefix": "Leaflet"
      }
     },
     "19cd56091ca54929a9f2acf2e3e41d6f": {
      "model_module": "jupyter-leaflet",
      "model_module_version": "^0.13.0",
      "model_name": "LeafletMapStyleModel",
      "state": {
       "_model_module_version": "^0.13.0"
      }
     },
     "1a21bbeeaebc419bab2b07c9b8b94bed": {
      "model_module": "jupyter-leaflet",
      "model_module_version": "^0.13.0",
      "model_name": "LeafletWidgetControlModel",
      "state": {
       "_model_module": "jupyter-leaflet",
       "_model_module_version": "^0.13.0",
       "_view_count": null,
       "_view_module": "jupyter-leaflet",
       "_view_module_version": "^0.13.0",
       "options": [
        "position"
       ],
       "position": "topright",
       "widget": "IPY_MODEL_37a048cb1e65412aa6b772c4f5859211"
      }
     },
     "1ae4cb965ce642d1902425aab634cfe5": {
      "model_module": "jupyter-leaflet",
      "model_module_version": "^0.13.0",
      "model_name": "LeafletTileLayerModel",
      "state": {
       "_model_module_version": "^0.13.0",
       "_view_module_version": "^0.13.0",
       "max_native_zoom": 18,
       "max_zoom": 19,
       "min_native_zoom": 0,
       "min_zoom": 1,
       "name": "OpenStreetMap.Mapnik",
       "options": [
        "attribution",
        "detect_retina",
        "max_native_zoom",
        "max_zoom",
        "min_native_zoom",
        "min_zoom",
        "no_wrap",
        "tile_size",
        "tms"
       ]
      }
     },
     "1b25c266653c44feb3f9aa88b6f103d9": {
      "model_module": "@jupyter-widgets/controls",
      "model_module_version": "1.5.0",
      "model_name": "ButtonModel",
      "state": {
       "description": "done",
       "disabled": true,
       "layout": "IPY_MODEL_48dd6a7b93f34c89be25b7b55ba1f60a",
       "style": "IPY_MODEL_07f7382223ea4c78842fbf87aa1a25ac"
      }
     },
     "1b337b292e734e499f68da49b121116f": {
      "model_module": "jupyter-leaflet",
      "model_module_version": "^0.13.0",
      "model_name": "LeafletFullScreenControlModel",
      "state": {
       "_model_module_version": "^0.13.0",
       "_view_module_version": "^0.13.0",
       "options": [
        "position"
       ]
      }
     },
     "1c1d3379cd944e3c946a62c69664cb28": {
      "model_module": "jupyter-leaflet",
      "model_module_version": "^0.13.0",
      "model_name": "LeafletWMSLayerModel",
      "state": {
       "_model_module_version": "^0.13.0",
       "_view_module_version": "^0.13.0",
       "attribution": "DEA CoastLines © 2020 Geoscience Australia",
       "crs": {
        "custom": false,
        "name": "EPSG3857"
       },
       "format": "image/png",
       "layers": "ga_ls_ard_3",
       "max_native_zoom": 18,
       "min_native_zoom": 0,
       "options": [
        "attribution",
        "detect_retina",
        "format",
        "layers",
        "max_native_zoom",
        "max_zoom",
        "min_native_zoom",
        "min_zoom",
        "no_wrap",
        "styles",
        "tile_size",
        "tms",
        "transparent",
        "uppercase"
       ],
       "transparent": true,
       "url": "https://ows.dea.ga.gov.au/"
      }
     },
     "1c9535b4fda7409f88495ad448bdc06e": {
      "model_module": "@jupyter-widgets/base",
      "model_module_version": "1.2.0",
      "model_name": "LayoutModel",
      "state": {
       "flex": "1 0 20em",
       "height": "3em",
       "width": "20em"
      }
     },
     "1c9b53f71a524febbbd4e015f7a195d4": {
      "model_module": "@jupyter-widgets/controls",
      "model_module_version": "1.5.0",
      "model_name": "HTMLModel",
      "state": {
       "layout": "IPY_MODEL_0f3364d83bcf4bdd85adf356d92a64ee",
       "style": "IPY_MODEL_9970808649ef43d0832a180166c99e4e",
       "value": "<pre style=\"color:grey\">lat: [-19.5184, -6.7083]\nlon: [84.5508, 110.9619]</pre>"
      }
     },
     "1d6d2803d6484635a7ed50e085719ca1": {
      "model_module": "jupyter-leaflet",
      "model_module_version": "^0.13.0",
      "model_name": "LeafletMapModel",
      "state": {
       "_model_module_version": "^0.13.0",
       "_view_module_version": "^0.13.0",
       "center": [
        -30.012625258927432,
        130.6370544433594
       ],
       "controls": [
        "IPY_MODEL_afd5e286e2214d4b807f1c17bcfbaec3",
        "IPY_MODEL_16558ac99f4e40e591b6321b052d8330",
        "IPY_MODEL_45f1cfdff6f94f24a7f1525c89bce5e0"
       ],
       "default_style": "IPY_MODEL_863a7fc5c3974c0f8c5890bfad5c49b7",
       "dragging_style": "IPY_MODEL_be84736c8ca640ec843e7b5338666055",
       "east": 133.93981933593753,
       "fullscreen": false,
       "interpolation": "bilinear",
       "layers": [
        "IPY_MODEL_dcfa8bac49ad4f8e9f4acf0bbc70050b",
        "IPY_MODEL_6c39b583502b42a9a08f3abbecb764f5"
       ],
       "layout": "IPY_MODEL_21f656a49c444fd6a08419c4bbc0dbbf",
       "modisdate": "yesterday",
       "north": -28.57487404744697,
       "options": [
        "bounce_at_zoom_limits",
        "box_zoom",
        "center",
        "close_popup_on_click",
        "double_click_zoom",
        "dragging",
        "fullscreen",
        "inertia",
        "inertia_deceleration",
        "inertia_max_speed",
        "interpolation",
        "keyboard",
        "keyboard_pan_offset",
        "keyboard_zoom_offset",
        "max_zoom",
        "min_zoom",
        "scroll_wheel_zoom",
        "tap",
        "tap_tolerance",
        "touch_zoom",
        "world_copy_jump",
        "zoom",
        "zoom_animation_threshold",
        "zoom_start"
       ],
       "scroll_wheel_zoom": true,
       "south": -31.42866311735861,
       "style": "IPY_MODEL_863a7fc5c3974c0f8c5890bfad5c49b7",
       "west": 127.33703613281251,
       "window_url": "https://app.sandbox.dea.ga.gov.au/user/robbibt/lab?",
       "zoom": 8
      }
     },
     "1e3e48989e9e416fa2ba0653e456c1c5": {
      "model_module": "jupyter-leaflet",
      "model_module_version": "^0.13.0",
      "model_name": "LeafletFullScreenControlModel",
      "state": {
       "_model_module_version": "^0.13.0",
       "_view_module_version": "^0.13.0",
       "options": [
        "position"
       ]
      }
     },
     "1f124a088e594bee9a3428471f6b9f1c": {
      "model_module": "@jupyter-widgets/controls",
      "model_module_version": "1.5.0",
      "model_name": "DescriptionStyleModel",
      "state": {
       "description_width": ""
      }
     },
     "205291cce95c42df93fc93a1e0f91efe": {
      "model_module": "jupyter-leaflet",
      "model_module_version": "^0.13.0",
      "model_name": "LeafletTileLayerModel",
      "state": {
       "_model_module_version": "^0.13.0",
       "_view_module_version": "^0.13.0",
       "max_native_zoom": 18,
       "max_zoom": 19,
       "min_native_zoom": 0,
       "min_zoom": 1,
       "name": "OpenStreetMap.Mapnik",
       "options": [
        "attribution",
        "detect_retina",
        "max_native_zoom",
        "max_zoom",
        "min_native_zoom",
        "min_zoom",
        "no_wrap",
        "tile_size",
        "tms"
       ]
      }
     },
     "20b8e7f8791e41778b2e65c3ce2c3170": {
      "model_module": "jupyter-leaflet",
      "model_module_version": "^0.13.0",
      "model_name": "LeafletMapStyleModel",
      "state": {
       "_model_module_version": "^0.13.0"
      }
     },
     "21f656a49c444fd6a08419c4bbc0dbbf": {
      "model_module": "@jupyter-widgets/base",
      "model_module_version": "1.2.0",
      "model_name": "LayoutModel",
      "state": {
       "height": "600px"
      }
     },
     "2231defaca3f4d38b63164a6ca625943": {
      "model_module": "@jupyter-widgets/controls",
      "model_module_version": "1.5.0",
      "model_name": "HTMLModel",
      "state": {
       "layout": "IPY_MODEL_1c9535b4fda7409f88495ad448bdc06e",
       "style": "IPY_MODEL_4bbf7103a3144809a383344dbb03adc2",
       "value": "<pre style=\"color:grey\">lat: [-13.8501, -13.0487]\nlon: [129.4135, 131.0641]</pre>"
      }
     },
     "22447d56d47d44418805315b344765f6": {
      "model_module": "jupyter-leaflet",
      "model_module_version": "^0.13.0",
      "model_name": "LeafletMapStyleModel",
      "state": {
       "_model_module_version": "^0.13.0"
      }
     },
     "22c49466000b4c4ab0bf86af1911a1ae": {
      "model_module": "@jupyter-widgets/base",
      "model_module_version": "1.2.0",
      "model_name": "LayoutModel",
      "state": {
       "flex": "1 0 20em",
       "height": "3em",
       "width": "20em"
      }
     },
     "22f5646b45ef40d58ae53938f789a842": {
      "model_module": "@jupyter-widgets/controls",
      "model_module_version": "1.5.0",
      "model_name": "ButtonStyleModel",
      "state": {
       "button_color": "green"
      }
     },
     "22f78fc35fe840f3992f5a34c18aba15": {
      "model_module": "jupyter-leaflet",
      "model_module_version": "^0.13.0",
      "model_name": "LeafletMapModel",
      "state": {
       "_model_module_version": "^0.13.0",
       "_view_module_version": "^0.13.0",
       "center": [
        -28.928843133114825,
        138.02124023437503
       ],
       "controls": [
        "IPY_MODEL_4816453dd99849ccb78641ca7d713737",
        "IPY_MODEL_4a474fd26ebb4cb5a3b394188171f950",
        "IPY_MODEL_cbfecb1248cc453fac5dc111dfc0c8e7"
       ],
       "default_style": "IPY_MODEL_22447d56d47d44418805315b344765f6",
       "dragging_style": "IPY_MODEL_d8195f4316174b27864d8d6cd4ee2a02",
       "east": 139.67193603515628,
       "fullscreen": false,
       "interpolation": "bilinear",
       "layers": [
        "IPY_MODEL_f417ca0281f04a5a89f42748095016ca",
        "IPY_MODEL_54c0ca36ee8348d7b8f3653c7c49a6ed"
       ],
       "layout": "IPY_MODEL_2f3963a86a124c1088be37e184ee0141",
       "modisdate": "yesterday",
       "north": -28.205188168057337,
       "options": [
        "bounce_at_zoom_limits",
        "box_zoom",
        "center",
        "close_popup_on_click",
        "double_click_zoom",
        "dragging",
        "fullscreen",
        "inertia",
        "inertia_deceleration",
        "inertia_max_speed",
        "interpolation",
        "keyboard",
        "keyboard_pan_offset",
        "keyboard_zoom_offset",
        "max_zoom",
        "min_zoom",
        "scroll_wheel_zoom",
        "tap",
        "tap_tolerance",
        "touch_zoom",
        "world_copy_jump",
        "zoom",
        "zoom_animation_threshold",
        "zoom_start"
       ],
       "scroll_wheel_zoom": true,
       "south": -29.64748169221764,
       "style": "IPY_MODEL_22447d56d47d44418805315b344765f6",
       "west": 136.37054443359378,
       "window_url": "https://app.sandbox.dea.ga.gov.au/user/robbibt/lab?",
       "zoom": 9
      }
     },
     "2300499e13904bb89c203a5357356337": {
      "model_module": "@jupyter-widgets/controls",
      "model_module_version": "1.5.0",
      "model_name": "ButtonStyleModel",
      "state": {
       "button_color": "green"
      }
     },
     "23bdfd0ffebb410e9e4ae816eca60b5f": {
      "model_module": "jupyter-leaflet",
      "model_module_version": "^0.13.0",
      "model_name": "LeafletWidgetControlModel",
      "state": {
       "_model_module": "jupyter-leaflet",
       "_model_module_version": "^0.13.0",
       "_view_count": null,
       "_view_module": "jupyter-leaflet",
       "_view_module_version": "^0.13.0",
       "options": [
        "position"
       ],
       "position": "bottomleft",
       "widget": "IPY_MODEL_81618083b8174bf890a7a5150457dbcd"
      }
     },
     "23d31fffb1c2483dad8dd682df0a076e": {
      "model_module": "@jupyter-widgets/base",
      "model_module_version": "1.2.0",
      "model_name": "LayoutModel",
      "state": {
       "flex": "1 0 20em",
       "height": "3em",
       "width": "20em"
      }
     },
     "2418f1d0ad634bd8802bf6dfd088494a": {
      "model_module": "jupyter-leaflet",
      "model_module_version": "^0.13.0",
      "model_name": "LeafletMapModel",
      "state": {
       "_model_module_version": "^0.13.0",
       "_view_module_version": "^0.13.0",
       "center": [
        -22.151795575397756,
        114.82086181640626
       ],
       "controls": [
        "IPY_MODEL_5e3ebfe038e24ad6925227a398056276",
        "IPY_MODEL_7f41d6eb4088487983ce96960924ba77",
        "IPY_MODEL_9d8ca3b73b0d4656bbb21900ec552a36"
       ],
       "default_style": "IPY_MODEL_f363c6421f48439fafd31b40ad93120e",
       "dragging_style": "IPY_MODEL_09de932f24964b939ae1f98f786deaae",
       "east": 116.4715576171875,
       "fullscreen": false,
       "interpolation": "bilinear",
       "layers": [
        "IPY_MODEL_437b675b2cb84290893cc2ddfb9a2e69",
        "IPY_MODEL_f2f743defe9b49b9ab7a20a3a19d6664"
       ],
       "layout": "IPY_MODEL_5fa5f7bce8e444fc9a155146898f2e5c",
       "modisdate": "yesterday",
       "north": -21.386589909132883,
       "options": [
        "bounce_at_zoom_limits",
        "box_zoom",
        "center",
        "close_popup_on_click",
        "double_click_zoom",
        "dragging",
        "fullscreen",
        "inertia",
        "inertia_deceleration",
        "inertia_max_speed",
        "interpolation",
        "keyboard",
        "keyboard_pan_offset",
        "keyboard_zoom_offset",
        "max_zoom",
        "min_zoom",
        "scroll_wheel_zoom",
        "tap",
        "tap_tolerance",
        "touch_zoom",
        "world_copy_jump",
        "zoom",
        "zoom_animation_threshold",
        "zoom_start"
       ],
       "scroll_wheel_zoom": true,
       "south": -22.91286328803375,
       "style": "IPY_MODEL_f363c6421f48439fafd31b40ad93120e",
       "west": 113.17016601562501,
       "window_url": "https://app.sandbox.dea.ga.gov.au/user/robbibt/lab?",
       "zoom": 9
      }
     },
     "2450c8af29d04dc384e0e0a77a499278": {
      "model_module": "@jupyter-widgets/base",
      "model_module_version": "1.2.0",
      "model_name": "LayoutModel",
      "state": {
       "width": "5em"
      }
     },
     "24560a41748d461382f9d2f5bef0be06": {
      "model_module": "@jupyter-widgets/controls",
      "model_module_version": "1.5.0",
      "model_name": "DescriptionStyleModel",
      "state": {
       "description_width": ""
      }
     },
     "25991ce3dc14462bae370269714cbc4b": {
      "model_module": "@jupyter-widgets/controls",
      "model_module_version": "1.5.0",
      "model_name": "HTMLModel",
      "state": {
       "layout": "IPY_MODEL_7649b27c028842d8b394cbbc673cf4cd",
       "style": "IPY_MODEL_fcbe0b0c2e864a02b941c1db6f135bfb",
       "value": "<pre style=\"color:grey\">lat: [-31.2339, -30.5268]\nlon: [139.0938, 140.7445]</pre>"
      }
     },
     "25b3751ddf9748d9bc060f3666a03820": {
      "model_module": "jupyter-leaflet",
      "model_module_version": "^0.13.0",
      "model_name": "LeafletTileLayerModel",
      "state": {
       "_model_module_version": "^0.13.0",
       "_view_module_version": "^0.13.0",
       "max_native_zoom": 18,
       "max_zoom": 19,
       "min_native_zoom": 0,
       "min_zoom": 1,
       "name": "OpenStreetMap.Mapnik",
       "options": [
        "attribution",
        "detect_retina",
        "max_native_zoom",
        "max_zoom",
        "min_native_zoom",
        "min_zoom",
        "no_wrap",
        "tile_size",
        "tms"
       ]
      }
     },
     "25dd065fb6094292aec1aa2d4d75eba3": {
      "model_module": "jupyter-leaflet",
      "model_module_version": "^0.13.0",
      "model_name": "LeafletDrawControlModel",
      "state": {
       "_model_module_version": "^0.13.0",
       "_view_module_version": "^0.13.0",
       "options": [
        "position"
       ],
       "polygon": {
        "shapeOptions": {
         "color": "#000000",
         "editing": {
          "color": "#000000",
          "fillColor": "#fca45d",
          "fillOpacity": 0.1
         },
         "fillColor": "#fca45d",
         "fillOpacity": 0.1,
         "original": {
          "color": "#000000",
          "fillColor": "#fca45d",
          "fillOpacity": 0.1
         }
        }
       },
       "polyline": {},
       "rectangle": {
        "metric": [
         "km",
         "m"
        ],
        "shapeOptions": {
         "color": "#000000",
         "fillColor": "#fca45d",
         "fillOpacity": 0.1
        }
       }
      }
     },
     "262d49b09efb47b08efaa4c884cd8d59": {
      "model_module": "@jupyter-widgets/base",
      "model_module_version": "1.2.0",
      "model_name": "LayoutModel",
      "state": {
       "height": "600px"
      }
     },
     "2677ddd259764b0a97c2c0f381ee08ec": {
      "model_module": "jupyter-leaflet",
      "model_module_version": "^0.13.0",
      "model_name": "LeafletFullScreenControlModel",
      "state": {
       "_model_module_version": "^0.13.0",
       "_view_module_version": "^0.13.0",
       "options": [
        "position"
       ]
      }
     },
     "2679d72f6dc9451b805580e165a2939b": {
      "model_module": "jupyter-leaflet",
      "model_module_version": "^0.13.0",
      "model_name": "LeafletMapStyleModel",
      "state": {
       "_model_module_version": "^0.13.0"
      }
     },
     "2723003ac3e34a6bb9a3c5d84a5a87e5": {
      "model_module": "jupyter-leaflet",
      "model_module_version": "^0.13.0",
      "model_name": "LeafletMapModel",
      "state": {
       "_model_module_version": "^0.13.0",
       "_view_module_version": "^0.13.0",
       "center": [
        -13.186468107797188,
        97.75634765625001
       ],
       "controls": [
        "IPY_MODEL_a2347fbcd61e4fcda613130fd7bb3477",
        "IPY_MODEL_6714bfaf5bbb4076a54130cd4bf2881a",
        "IPY_MODEL_93d9770ac53c414293d2de18c6b22673",
        "IPY_MODEL_01532ef01f7e4eb5a0c03b9c3cf1f011",
        "IPY_MODEL_165201a2705a45cf82ff09bab9e75d86",
        "IPY_MODEL_a1ff3a22527f4b6abdeebeff07683004"
       ],
       "default_style": "IPY_MODEL_9707f0dd10534b9d9ed5f271ba696385",
       "dragging_style": "IPY_MODEL_416f0abc836d432f90730880abb7df45",
       "east": 110.96191406250001,
       "fullscreen": false,
       "interpolation": "bilinear",
       "layers": [
        "IPY_MODEL_6166365acd434859ba216ff701fa11c5",
        "IPY_MODEL_f82ad2b438cb4a7fbbcf3d0f479062c8"
       ],
       "layout": "IPY_MODEL_18f713c6bc0b45e3835c15e3161dc2c0",
       "modisdate": "yesterday",
       "north": -6.708253968671543,
       "options": [
        "bounce_at_zoom_limits",
        "box_zoom",
        "center",
        "close_popup_on_click",
        "double_click_zoom",
        "dragging",
        "fullscreen",
        "inertia",
        "inertia_deceleration",
        "inertia_max_speed",
        "interpolation",
        "keyboard",
        "keyboard_pan_offset",
        "keyboard_zoom_offset",
        "max_zoom",
        "min_zoom",
        "scroll_wheel_zoom",
        "tap",
        "tap_tolerance",
        "touch_zoom",
        "world_copy_jump",
        "zoom",
        "zoom_animation_threshold",
        "zoom_start"
       ],
       "scroll_wheel_zoom": true,
       "south": -19.518375478601556,
       "style": "IPY_MODEL_9707f0dd10534b9d9ed5f271ba696385",
       "west": 84.55078125,
       "window_url": "https://app.sandbox.dea.ga.gov.au/user/robbibt/lab?",
       "zoom": 6
      }
     },
     "2744a2af32154c418b0db980c4a1c85b": {
      "model_module": "@jupyter-widgets/controls",
      "model_module_version": "1.5.0",
      "model_name": "ButtonStyleModel",
      "state": {
       "button_color": "green"
      }
     },
     "28132408a846450481ed2ed435b4aca0": {
      "model_module": "jupyter-leaflet",
      "model_module_version": "^0.13.0",
      "model_name": "LeafletMapModel",
      "state": {
       "_model_module_version": "^0.13.0",
       "_view_module_version": "^0.13.0",
       "center": [
        -14.997851873680595,
        129.51782226562503
       ],
       "controls": [
        "IPY_MODEL_d45e44b1dfe34baea7a507dd634c5a07",
        "IPY_MODEL_19bc82d625a94f2ea37a5ebbbc69d935",
        "IPY_MODEL_a5acc1042dd6440da189b26e9e1e45a1"
       ],
       "default_style": "IPY_MODEL_62182c7f15b8411e80980f591143ed4c",
       "dragging_style": "IPY_MODEL_d8f9b127f8874f54abe738ba6d4c54da",
       "east": 130.34317016601565,
       "fullscreen": false,
       "interpolation": "bilinear",
       "layers": [
        "IPY_MODEL_1ae4cb965ce642d1902425aab634cfe5",
        "IPY_MODEL_e87ee3a1a8a34740be18dc32c8442e61"
       ],
       "layout": "IPY_MODEL_2db818a0112f49bcb2a31a1103c16c45",
       "modisdate": "yesterday",
       "north": -14.599531422729912,
       "options": [
        "bounce_at_zoom_limits",
        "box_zoom",
        "center",
        "close_popup_on_click",
        "double_click_zoom",
        "dragging",
        "fullscreen",
        "inertia",
        "inertia_deceleration",
        "inertia_max_speed",
        "interpolation",
        "keyboard",
        "keyboard_pan_offset",
        "keyboard_zoom_offset",
        "max_zoom",
        "min_zoom",
        "scroll_wheel_zoom",
        "tap",
        "tap_tolerance",
        "touch_zoom",
        "world_copy_jump",
        "zoom",
        "zoom_animation_threshold",
        "zoom_start"
       ],
       "scroll_wheel_zoom": true,
       "south": -15.39543183321259,
       "style": "IPY_MODEL_62182c7f15b8411e80980f591143ed4c",
       "west": 128.6924743652344,
       "window_url": "https://app.sandbox.dea.ga.gov.au/user/robbibt/lab?",
       "zoom": 10
      }
     },
     "28f6309118014b46934282e58b8a0753": {
      "model_module": "jupyter-leaflet",
      "model_module_version": "^0.13.0",
      "model_name": "LeafletTileLayerModel",
      "state": {
       "_model_module_version": "^0.13.0",
       "_view_module_version": "^0.13.0",
       "max_native_zoom": 18,
       "max_zoom": 19,
       "min_native_zoom": 0,
       "min_zoom": 1,
       "name": "OpenStreetMap.Mapnik",
       "options": [
        "attribution",
        "detect_retina",
        "max_native_zoom",
        "max_zoom",
        "min_native_zoom",
        "min_zoom",
        "no_wrap",
        "tile_size",
        "tms"
       ]
      }
     },
     "29889c4c32bb4812a5b6d200ab8357e2": {
      "model_module": "@jupyter-widgets/base",
      "model_module_version": "1.2.0",
      "model_name": "LayoutModel",
      "state": {
       "height": "600px"
      }
     },
     "2a7abdd543c14cf79afd8fdd4c1b3716": {
      "model_module": "@jupyter-widgets/controls",
      "model_module_version": "1.5.0",
      "model_name": "HTMLModel",
      "state": {
       "layout": "IPY_MODEL_0e149e5870f347a783935b837fc589ae",
       "style": "IPY_MODEL_f0f22474f0f44b8a98297f62e34c2089",
       "value": "<pre style=\"color:grey\">lat: [-48.5748, -2.9869]\nlon: [60.6445, 214.2773]</pre>"
      }
     },
     "2a7c240ce16e43b7b371310fbdee9bae": {
      "model_module": "jupyter-leaflet",
      "model_module_version": "^0.13.0",
      "model_name": "LeafletDrawControlModel",
      "state": {
       "_model_module_version": "^0.13.0",
       "_view_module_version": "^0.13.0",
       "options": [
        "position"
       ],
       "polygon": {
        "shapeOptions": {
         "color": "#000000",
         "editing": {
          "color": "#000000",
          "fillColor": "#fca45d",
          "fillOpacity": 0.1
         },
         "fillColor": "#fca45d",
         "fillOpacity": 0.1,
         "original": {
          "color": "#000000",
          "fillColor": "#fca45d",
          "fillOpacity": 0.1
         }
        }
       },
       "polyline": {},
       "rectangle": {
        "metric": [
         "km",
         "m"
        ],
        "shapeOptions": {
         "color": "#000000",
         "fillColor": "#fca45d",
         "fillOpacity": 0.1
        }
       }
      }
     },
     "2a993b758c8a4f3e820235b4ec0e9556": {
      "model_module": "jupyter-leaflet",
      "model_module_version": "^0.13.0",
      "model_name": "LeafletWMSLayerModel",
      "state": {
       "_model_module_version": "^0.13.0",
       "_view_module_version": "^0.13.0",
       "attribution": "Digital Earth Australia",
       "crs": {
        "custom": false,
        "name": "EPSG3857"
       },
       "format": "image/png",
       "layers": "s2_nrt_granule_nbar_t",
       "max_native_zoom": 18,
       "min_native_zoom": 0,
       "options": [
        "attribution",
        "detect_retina",
        "format",
        "layers",
        "max_native_zoom",
        "max_zoom",
        "min_native_zoom",
        "min_zoom",
        "no_wrap",
        "styles",
        "tile_size",
        "time",
        "tms",
        "transparent",
        "uppercase"
       ],
       "time": "2021-09-01",
       "transparent": true,
       "url": "https://ows.dea.ga.gov.au/"
      }
     },
     "2b3f4c89e8c74825a646611ba720e79e": {
      "model_module": "jupyter-leaflet",
      "model_module_version": "^0.13.0",
      "model_name": "LeafletWidgetControlModel",
      "state": {
       "_model_module": "jupyter-leaflet",
       "_model_module_version": "^0.13.0",
       "_view_count": null,
       "_view_module": "jupyter-leaflet",
       "_view_module_version": "^0.13.0",
       "options": [
        "position"
       ],
       "position": "topright",
       "widget": "IPY_MODEL_105fdcc3cc5d4843ab942c13ddf851fc"
      }
     },
     "2b49bf5332704c2f949fe577e7fd56a1": {
      "model_module": "jupyter-leaflet",
      "model_module_version": "^0.13.0",
      "model_name": "LeafletFullScreenControlModel",
      "state": {
       "_model_module_version": "^0.13.0",
       "_view_module_version": "^0.13.0",
       "options": [
        "position"
       ]
      }
     },
     "2bce8fdcd7ec4bd4ae0ab06e70857243": {
      "model_module": "jupyter-leaflet",
      "model_module_version": "^0.13.0",
      "model_name": "LeafletWMSLayerModel",
      "state": {
       "_model_module_version": "^0.13.0",
       "_view_module_version": "^0.13.0",
       "attribution": "Digital Earth Australia",
       "crs": {
        "custom": false,
        "name": "EPSG3857"
       },
       "format": "image/png",
       "layers": "s2_nrt_granule_nbar_t",
       "max_native_zoom": 18,
       "min_native_zoom": 0,
       "options": [
        "attribution",
        "detect_retina",
        "format",
        "layers",
        "max_native_zoom",
        "max_zoom",
        "min_native_zoom",
        "min_zoom",
        "no_wrap",
        "styles",
        "tile_size",
        "time",
        "tms",
        "transparent",
        "uppercase"
       ],
       "time": "2021-09-01",
       "transparent": true,
       "url": "https://ows.dea.ga.gov.au/"
      }
     },
     "2c00a166c08248e7a99a63f43e705f39": {
      "model_module": "@jupyter-widgets/base",
      "model_module_version": "1.2.0",
      "model_name": "LayoutModel",
      "state": {
       "flex": "1 0 20em",
       "height": "3em",
       "width": "20em"
      }
     },
     "2ca99ac39ed145e3811b00653333dad3": {
      "model_module": "@jupyter-widgets/base",
      "model_module_version": "1.2.0",
      "model_name": "LayoutModel",
      "state": {
       "height": "600px"
      }
     },
     "2d995b9f7fe349079cb427e90dc8824c": {
      "model_module": "jupyter-leaflet",
      "model_module_version": "^0.13.0",
      "model_name": "LeafletMapStyleModel",
      "state": {
       "_model_module_version": "^0.13.0"
      }
     },
     "2db818a0112f49bcb2a31a1103c16c45": {
      "model_module": "@jupyter-widgets/base",
      "model_module_version": "1.2.0",
      "model_name": "LayoutModel",
      "state": {
       "height": "600px"
      }
     },
     "2ede17c2e5a1482f84bdf67006210a0b": {
      "model_module": "jupyter-leaflet",
      "model_module_version": "^0.13.0",
      "model_name": "LeafletMapStyleModel",
      "state": {
       "_model_module_version": "^0.13.0"
      }
     },
     "2ef66a06c2694c21bcfdc4a24a7fdac8": {
      "model_module": "@jupyter-widgets/base",
      "model_module_version": "1.2.0",
      "model_name": "LayoutModel",
      "state": {
       "width": "5em"
      }
     },
     "2f092187aa7646dda9f0d5cf0c9b2054": {
      "model_module": "@jupyter-widgets/controls",
      "model_module_version": "1.5.0",
      "model_name": "ButtonStyleModel",
      "state": {
       "button_color": "green"
      }
     },
     "2f10403acb224b809cdb037841a40cdf": {
      "model_module": "jupyter-leaflet",
      "model_module_version": "^0.13.0",
      "model_name": "LeafletFullScreenControlModel",
      "state": {
       "_model_module_version": "^0.13.0",
       "_view_module_version": "^0.13.0",
       "options": [
        "position"
       ]
      }
     },
     "2f3963a86a124c1088be37e184ee0141": {
      "model_module": "@jupyter-widgets/base",
      "model_module_version": "1.2.0",
      "model_name": "LayoutModel",
      "state": {
       "height": "600px"
      }
     },
     "2f5d70fe0a5a40ccb55286cecac04a97": {
      "model_module": "jupyter-leaflet",
      "model_module_version": "^0.13.0",
      "model_name": "LeafletMapStyleModel",
      "state": {
       "_model_module_version": "^0.13.0"
      }
     },
     "31413623fb174918921126016b9ee6a6": {
      "model_module": "jupyter-leaflet",
      "model_module_version": "^0.13.0",
      "model_name": "LeafletWidgetControlModel",
      "state": {
       "_model_module": "jupyter-leaflet",
       "_model_module_version": "^0.13.0",
       "_view_count": null,
       "_view_module": "jupyter-leaflet",
       "_view_module_version": "^0.13.0",
       "options": [
        "position"
       ],
       "position": "topright",
       "widget": "IPY_MODEL_640fe88c883d4ac9a4fa4e52020dab20"
      }
     },
     "318b2a3a409e4900bf236ad22dc48afb": {
      "model_module": "jupyter-leaflet",
      "model_module_version": "^0.13.0",
      "model_name": "LeafletMapStyleModel",
      "state": {
       "_model_module_version": "^0.13.0"
      }
     },
     "31f3a79ccf794023a7f8f937d5c23cbe": {
      "model_module": "jupyter-leaflet",
      "model_module_version": "^0.13.0",
      "model_name": "LeafletZoomControlModel",
      "state": {
       "_model_module_version": "^0.13.0",
       "_view_module_version": "^0.13.0",
       "options": [
        "position",
        "zoom_in_text",
        "zoom_in_title",
        "zoom_out_text",
        "zoom_out_title"
       ]
      }
     },
     "3431dd1a29504dd88bcc20c042ac655e": {
      "model_module": "jupyter-leaflet",
      "model_module_version": "^0.13.0",
      "model_name": "LeafletZoomControlModel",
      "state": {
       "_model_module_version": "^0.13.0",
       "_view_module_version": "^0.13.0",
       "options": [
        "position",
        "zoom_in_text",
        "zoom_in_title",
        "zoom_out_text",
        "zoom_out_title"
       ]
      }
     },
     "34cf514f962e487b96a2e695e84a7d31": {
      "model_module": "jupyter-leaflet",
      "model_module_version": "^0.13.0",
      "model_name": "LeafletWidgetControlModel",
      "state": {
       "_model_module": "jupyter-leaflet",
       "_model_module_version": "^0.13.0",
       "_view_count": null,
       "_view_module": "jupyter-leaflet",
       "_view_module_version": "^0.13.0",
       "options": [
        "position"
       ],
       "position": "bottomleft",
       "widget": "IPY_MODEL_3bfaa6fe5a5e4cbe9f2da86c06df9689"
      }
     },
     "3501408ab58f4020b17311576c832efe": {
      "model_module": "jupyter-leaflet",
      "model_module_version": "^0.13.0",
      "model_name": "LeafletDrawControlModel",
      "state": {
       "_model_module_version": "^0.13.0",
       "_view_module_version": "^0.13.0",
       "options": [
        "position"
       ],
       "polygon": {
        "shapeOptions": {
         "color": "#000000",
         "editing": {
          "color": "#000000",
          "fillColor": "#fca45d",
          "fillOpacity": 0.1
         },
         "fillColor": "#fca45d",
         "fillOpacity": 0.1,
         "original": {
          "color": "#000000",
          "fillColor": "#fca45d",
          "fillOpacity": 0.1
         }
        }
       },
       "polyline": {},
       "rectangle": {
        "metric": [
         "km",
         "m"
        ],
        "shapeOptions": {
         "color": "#000000",
         "fillColor": "#fca45d",
         "fillOpacity": 0.1
        }
       }
      }
     },
     "350cffa6abb04b31955175b903fd51ac": {
      "model_module": "@jupyter-widgets/base",
      "model_module_version": "1.2.0",
      "model_name": "LayoutModel",
      "state": {
       "width": "5em"
      }
     },
     "355dafe701aa49debd8c797a7171481d": {
      "model_module": "jupyter-leaflet",
      "model_module_version": "^0.13.0",
      "model_name": "LeafletDrawControlModel",
      "state": {
       "_model_module_version": "^0.13.0",
       "_view_module_version": "^0.13.0",
       "options": [
        "position"
       ],
       "polygon": {
        "shapeOptions": {
         "color": "#000000",
         "editing": {
          "color": "#000000",
          "fillColor": "#fca45d",
          "fillOpacity": 0.1
         },
         "fillColor": "#fca45d",
         "fillOpacity": 0.1,
         "original": {
          "color": "#000000",
          "fillColor": "#fca45d",
          "fillOpacity": 0.1
         }
        }
       },
       "polyline": {},
       "rectangle": {
        "metric": [
         "km",
         "m"
        ],
        "shapeOptions": {
         "color": "#000000",
         "fillColor": "#fca45d",
         "fillOpacity": 0.1
        }
       }
      }
     },
     "356a7e11fb6642cabe38435cef808c6b": {
      "model_module": "jupyter-leaflet",
      "model_module_version": "^0.13.0",
      "model_name": "LeafletZoomControlModel",
      "state": {
       "_model_module_version": "^0.13.0",
       "_view_module_version": "^0.13.0",
       "options": [
        "position",
        "zoom_in_text",
        "zoom_in_title",
        "zoom_out_text",
        "zoom_out_title"
       ]
      }
     },
     "35b2abe5f3e5473ba608fc90072dcdec": {
      "model_module": "jupyter-leaflet",
      "model_module_version": "^0.13.0",
      "model_name": "LeafletWidgetControlModel",
      "state": {
       "_model_module": "jupyter-leaflet",
       "_model_module_version": "^0.13.0",
       "_view_count": null,
       "_view_module": "jupyter-leaflet",
       "_view_module_version": "^0.13.0",
       "options": [
        "position"
       ],
       "position": "topright",
       "widget": "IPY_MODEL_c7ca6660afd04ecf83302f9090164f4e"
      }
     },
     "35de6fee3e2f4f1886b920e05134f222": {
      "model_module": "jupyter-leaflet",
      "model_module_version": "^0.13.0",
      "model_name": "LeafletFullScreenControlModel",
      "state": {
       "_model_module_version": "^0.13.0",
       "_view_module_version": "^0.13.0",
       "options": [
        "position"
       ]
      }
     },
     "35f4b9e866ff47e887b746c89c5077d9": {
      "model_module": "jupyter-leaflet",
      "model_module_version": "^0.13.0",
      "model_name": "LeafletFullScreenControlModel",
      "state": {
       "_model_module_version": "^0.13.0",
       "_view_module_version": "^0.13.0",
       "options": [
        "position"
       ]
      }
     },
     "36081a90d61b4ba7b7d2f8d9e8dd7b30": {
      "model_module": "@jupyter-widgets/controls",
      "model_module_version": "1.5.0",
      "model_name": "DescriptionStyleModel",
      "state": {
       "description_width": ""
      }
     },
     "369dc4ce911149e08a7d8898cdabb3f9": {
      "model_module": "jupyter-leaflet",
      "model_module_version": "^0.13.0",
      "model_name": "LeafletWidgetControlModel",
      "state": {
       "_model_module": "jupyter-leaflet",
       "_model_module_version": "^0.13.0",
       "_view_count": null,
       "_view_module": "jupyter-leaflet",
       "_view_module_version": "^0.13.0",
       "options": [
        "position"
       ],
       "position": "topright",
       "widget": "IPY_MODEL_9e337225a1644aa7b0b00762bdb76086"
      }
     },
     "375df60c62a648668a50c5a8dbe5771b": {
      "model_module": "jupyter-leaflet",
      "model_module_version": "^0.13.0",
      "model_name": "LeafletTileLayerModel",
      "state": {
       "_model_module_version": "^0.13.0",
       "_view_module_version": "^0.13.0",
       "max_native_zoom": 18,
       "max_zoom": 19,
       "min_native_zoom": 0,
       "min_zoom": 1,
       "name": "OpenStreetMap.Mapnik",
       "options": [
        "attribution",
        "detect_retina",
        "max_native_zoom",
        "max_zoom",
        "min_native_zoom",
        "min_zoom",
        "no_wrap",
        "tile_size",
        "tms"
       ]
      }
     },
     "37a048cb1e65412aa6b772c4f5859211": {
      "model_module": "@jupyter-widgets/controls",
      "model_module_version": "1.5.0",
      "model_name": "ButtonModel",
      "state": {
       "description": "done",
       "disabled": true,
       "layout": "IPY_MODEL_5911a61aeee44201aa43a96c6aabdb4c",
       "style": "IPY_MODEL_bb1154d5b7cc4e5bb8b0ec14ce3b44d1"
      }
     },
     "37cc9e8d39174d798c2f3966a5d7c1a0": {
      "model_module": "jupyter-leaflet",
      "model_module_version": "^0.13.0",
      "model_name": "LeafletWidgetControlModel",
      "state": {
       "_model_module": "jupyter-leaflet",
       "_model_module_version": "^0.13.0",
       "_view_count": null,
       "_view_module": "jupyter-leaflet",
       "_view_module_version": "^0.13.0",
       "options": [
        "position"
       ],
       "position": "bottomleft",
       "widget": "IPY_MODEL_2231defaca3f4d38b63164a6ca625943"
      }
     },
     "37d3a548248b444092f82353e0974ae7": {
      "model_module": "jupyter-leaflet",
      "model_module_version": "^0.13.0",
      "model_name": "LeafletWidgetControlModel",
      "state": {
       "_model_module": "jupyter-leaflet",
       "_model_module_version": "^0.13.0",
       "_view_count": null,
       "_view_module": "jupyter-leaflet",
       "_view_module_version": "^0.13.0",
       "options": [
        "position"
       ],
       "position": "topright",
       "widget": "IPY_MODEL_69597ebded5348128f001275adc0fed8"
      }
     },
     "37e01327c94a42deaba7c5b8a47a7dfa": {
      "model_module": "jupyter-leaflet",
      "model_module_version": "^0.13.0",
      "model_name": "LeafletDrawControlModel",
      "state": {
       "_model_module_version": "^0.13.0",
       "_view_module_version": "^0.13.0",
       "options": [
        "position"
       ],
       "polygon": {
        "shapeOptions": {
         "color": "#000000",
         "editing": {
          "color": "#000000",
          "fillColor": "#fca45d",
          "fillOpacity": 0.1
         },
         "fillColor": "#fca45d",
         "fillOpacity": 0.1,
         "original": {
          "color": "#000000",
          "fillColor": "#fca45d",
          "fillOpacity": 0.1
         }
        }
       },
       "polyline": {},
       "rectangle": {
        "metric": [
         "km",
         "m"
        ],
        "shapeOptions": {
         "color": "#000000",
         "fillColor": "#fca45d",
         "fillOpacity": 0.1
        }
       }
      }
     },
     "38c5a4d107294c6d97a71b27c8745567": {
      "model_module": "@jupyter-widgets/controls",
      "model_module_version": "1.5.0",
      "model_name": "ButtonModel",
      "state": {
       "description": "done",
       "disabled": true,
       "layout": "IPY_MODEL_350cffa6abb04b31955175b903fd51ac",
       "style": "IPY_MODEL_6efa720808f646c881302d9e03938bc8"
      }
     },
     "39cbe9ed284544fab8d08f4e93eab1d4": {
      "model_module": "jupyter-leaflet",
      "model_module_version": "^0.13.0",
      "model_name": "LeafletWidgetControlModel",
      "state": {
       "_model_module": "jupyter-leaflet",
       "_model_module_version": "^0.13.0",
       "_view_count": null,
       "_view_module": "jupyter-leaflet",
       "_view_module_version": "^0.13.0",
       "options": [
        "position"
       ],
       "position": "bottomleft",
       "widget": "IPY_MODEL_a05e763f2c154d6891a5c6e9c8eb6a3d"
      }
     },
     "3a2cba1c9a014c81984f93b184f3e112": {
      "model_module": "@jupyter-widgets/controls",
      "model_module_version": "1.5.0",
      "model_name": "ButtonStyleModel",
      "state": {
       "button_color": "green"
      }
     },
     "3a6ca8817b784eb28209f364681b5119": {
      "model_module": "jupyter-leaflet",
      "model_module_version": "^0.13.0",
      "model_name": "LeafletTileLayerModel",
      "state": {
       "_model_module_version": "^0.13.0",
       "_view_module_version": "^0.13.0",
       "attribution": "Tiles &copy; Esri &mdash; Source: Esri, i-cubed, USDA, USGS, AEX, GeoEye, Getmapping, Aerogrid, IGN, IGP, UPR-EGP, and the GIS User Community",
       "max_native_zoom": 18,
       "max_zoom": 20,
       "min_native_zoom": 0,
       "min_zoom": 1,
       "name": "Esri.WorldImagery",
       "options": [
        "attribution",
        "detect_retina",
        "max_native_zoom",
        "max_zoom",
        "min_native_zoom",
        "min_zoom",
        "no_wrap",
        "tile_size",
        "tms"
       ],
       "url": "http://server.arcgisonline.com/ArcGIS/rest/services/World_Imagery/MapServer/tile/{z}/{y}/{x}"
      }
     },
     "3a7336d18fd640d1a68b4b77336ce875": {
      "model_module": "jupyter-leaflet",
      "model_module_version": "^0.13.0",
      "model_name": "LeafletWMSLayerModel",
      "state": {
       "_model_module_version": "^0.13.0",
       "_view_module_version": "^0.13.0",
       "attribution": "Digital Earth Australia",
       "crs": {
        "custom": false,
        "name": "EPSG3857"
       },
       "format": "image/png",
       "layers": "ga_ls_ard_3",
       "max_native_zoom": 18,
       "min_native_zoom": 0,
       "options": [
        "attribution",
        "detect_retina",
        "format",
        "layers",
        "max_native_zoom",
        "max_zoom",
        "min_native_zoom",
        "min_zoom",
        "no_wrap",
        "styles",
        "tile_size",
        "time",
        "tms",
        "transparent",
        "uppercase"
       ],
       "time": "2018-01-01",
       "transparent": true,
       "url": "https://ows.dea.ga.gov.au/"
      }
     },
     "3b846355237b407e9b20326fea6671d4": {
      "model_module": "jupyter-leaflet",
      "model_module_version": "^0.13.0",
      "model_name": "LeafletZoomControlModel",
      "state": {
       "_model_module_version": "^0.13.0",
       "_view_module_version": "^0.13.0",
       "options": [
        "position",
        "zoom_in_text",
        "zoom_in_title",
        "zoom_out_text",
        "zoom_out_title"
       ]
      }
     },
     "3bfaa6fe5a5e4cbe9f2da86c06df9689": {
      "model_module": "@jupyter-widgets/controls",
      "model_module_version": "1.5.0",
      "model_name": "HTMLModel",
      "state": {
       "layout": "IPY_MODEL_23d31fffb1c2483dad8dd682df0a076e",
       "style": "IPY_MODEL_5c17bba477bc4a3c8b528deb81b339dd",
       "value": "<pre style=\"color:grey\">lat: [-46.9803, -0.6152]\nlon: [82.1777, 187.8223]</pre>"
      }
     },
     "3c20040de4564e5c9b8c60e81e367203": {
      "model_module": "jupyter-leaflet",
      "model_module_version": "^0.13.0",
      "model_name": "LeafletMapStyleModel",
      "state": {
       "_model_module_version": "^0.13.0"
      }
     },
     "3c6f6e920d2c412aa74c0ab4a3d1e747": {
      "model_module": "jupyter-leaflet",
      "model_module_version": "^0.13.0",
      "model_name": "LeafletMapStyleModel",
      "state": {
       "_model_module_version": "^0.13.0"
      }
     },
     "3ca517f8af7a40aa86aa1966cccb9835": {
      "model_module": "jupyter-leaflet",
      "model_module_version": "^0.13.0",
      "model_name": "LeafletWidgetControlModel",
      "state": {
       "_model_module": "jupyter-leaflet",
       "_model_module_version": "^0.13.0",
       "_view_count": null,
       "_view_module": "jupyter-leaflet",
       "_view_module_version": "^0.13.0",
       "options": [
        "position"
       ],
       "position": "topright",
       "widget": "IPY_MODEL_5e4d5835901f436ba517116b3b90fdd2"
      }
     },
     "3d324b230dcb434aa01747f093e306ad": {
      "model_module": "jupyter-leaflet",
      "model_module_version": "^0.13.0",
      "model_name": "LeafletMapStyleModel",
      "state": {
       "_model_module_version": "^0.13.0",
       "cursor": "move"
      }
     },
     "3d573d553e5244f1b401c08e5e583080": {
      "model_module": "jupyter-leaflet",
      "model_module_version": "^0.13.0",
      "model_name": "LeafletMapStyleModel",
      "state": {
       "_model_module_version": "^0.13.0"
      }
     },
     "3d5ba5fc9424493d89a32b708a1c090e": {
      "model_module": "@jupyter-widgets/base",
      "model_module_version": "1.2.0",
      "model_name": "LayoutModel",
      "state": {
       "height": "600px"
      }
     },
     "3e9fd67d798c47c9972677b8e086dc8e": {
      "model_module": "jupyter-leaflet",
      "model_module_version": "^0.13.0",
      "model_name": "LeafletWidgetControlModel",
      "state": {
       "_model_module": "jupyter-leaflet",
       "_model_module_version": "^0.13.0",
       "_view_count": null,
       "_view_module": "jupyter-leaflet",
       "_view_module_version": "^0.13.0",
       "options": [
        "position"
       ],
       "position": "topright",
       "widget": "IPY_MODEL_1b25c266653c44feb3f9aa88b6f103d9"
      }
     },
     "3eed7824d50e41e4a07c82b249eb3d34": {
      "model_module": "@jupyter-widgets/base",
      "model_module_version": "1.2.0",
      "model_name": "LayoutModel",
      "state": {
       "width": "5em"
      }
     },
     "3efe98a06a6243ee8cc0e0803f8595b1": {
      "model_module": "@jupyter-widgets/controls",
      "model_module_version": "1.5.0",
      "model_name": "ButtonModel",
      "state": {
       "description": "done",
       "disabled": true,
       "layout": "IPY_MODEL_a57e173d7fa04e44968207722470fb8b",
       "style": "IPY_MODEL_aeef7c5446f94887ad376cd580a9160e"
      }
     },
     "3f6629e01623409e874bb321076e5859": {
      "model_module": "jupyter-leaflet",
      "model_module_version": "^0.13.0",
      "model_name": "LeafletDrawControlModel",
      "state": {
       "_model_module_version": "^0.13.0",
       "_view_module_version": "^0.13.0",
       "options": [
        "position"
       ],
       "polygon": {
        "shapeOptions": {
         "color": "#000000",
         "editing": {
          "color": "#000000",
          "fillColor": "#fca45d",
          "fillOpacity": 0.1
         },
         "fillColor": "#fca45d",
         "fillOpacity": 0.1,
         "original": {
          "color": "#000000",
          "fillColor": "#fca45d",
          "fillOpacity": 0.1
         }
        }
       },
       "polyline": {},
       "rectangle": {
        "metric": [
         "km",
         "m"
        ],
        "shapeOptions": {
         "color": "#000000",
         "fillColor": "#fca45d",
         "fillOpacity": 0.1
        }
       }
      }
     },
     "4000ffc4b9124f20b5142b748116e5ed": {
      "model_module": "jupyter-leaflet",
      "model_module_version": "^0.13.0",
      "model_name": "LeafletMapStyleModel",
      "state": {
       "_model_module_version": "^0.13.0",
       "cursor": "move"
      }
     },
     "4010ed2dae984e1f89a673e74959298c": {
      "model_module": "@jupyter-widgets/base",
      "model_module_version": "1.2.0",
      "model_name": "LayoutModel",
      "state": {
       "flex": "1 0 20em",
       "height": "3em",
       "width": "20em"
      }
     },
     "408221b1de1245c0b6c72611833142e2": {
      "model_module": "jupyter-leaflet",
      "model_module_version": "^0.13.0",
      "model_name": "LeafletWMSLayerModel",
      "state": {
       "_model_module_version": "^0.13.0",
       "_view_module_version": "^0.13.0",
       "attribution": "Digital Earth Australia",
       "crs": {
        "custom": false,
        "name": "EPSG3857"
       },
       "format": "image/png",
       "layers": "s2_ard_granule_nbar_t",
       "max_native_zoom": 18,
       "min_native_zoom": 0,
       "options": [
        "attribution",
        "detect_retina",
        "format",
        "layers",
        "max_native_zoom",
        "max_zoom",
        "min_native_zoom",
        "min_zoom",
        "no_wrap",
        "styles",
        "tile_size",
        "time",
        "tms",
        "transparent",
        "uppercase"
       ],
       "time": "2019-01-01",
       "transparent": true,
       "url": "https://ows.dea.ga.gov.au/"
      }
     },
     "40e0209abb9f4089bd8cf4f1270aa1cc": {
      "model_module": "jupyter-leaflet",
      "model_module_version": "^0.13.0",
      "model_name": "LeafletMapModel",
      "state": {
       "_model_module_version": "^0.13.0",
       "_view_module_version": "^0.13.0",
       "center": [
        -16.762467717941604,
        138.42773437500003
       ],
       "controls": [
        "IPY_MODEL_e54824e7c68d45d0bdb4873550cb3d89",
        "IPY_MODEL_b694e0e46d51434581a0a19f2df133c7",
        "IPY_MODEL_4170e60474df412585df3b59778b2b41"
       ],
       "default_style": "IPY_MODEL_19cd56091ca54929a9f2acf2e3e41d6f",
       "dragging_style": "IPY_MODEL_fdcbc4598cc74e478f6cb42c280db602",
       "east": 164.83886718750003,
       "fullscreen": false,
       "interpolation": "bilinear",
       "layers": [
        "IPY_MODEL_dc5a2b9d6acd401f9232ac7fb4387cbc",
        "IPY_MODEL_a5ac9e6351ed492b907d8af41ba3ef95"
       ],
       "layout": "IPY_MODEL_53710f58f17948709fa816cb7c0e8d68",
       "modisdate": "yesterday",
       "north": -3.8204080831949407,
       "options": [
        "bounce_at_zoom_limits",
        "box_zoom",
        "center",
        "close_popup_on_click",
        "double_click_zoom",
        "dragging",
        "fullscreen",
        "inertia",
        "inertia_deceleration",
        "inertia_max_speed",
        "interpolation",
        "keyboard",
        "keyboard_pan_offset",
        "keyboard_zoom_offset",
        "max_zoom",
        "min_zoom",
        "scroll_wheel_zoom",
        "tap",
        "tap_tolerance",
        "touch_zoom",
        "world_copy_jump",
        "zoom",
        "zoom_animation_threshold",
        "zoom_start"
       ],
       "scroll_wheel_zoom": true,
       "south": -28.8831596093235,
       "style": "IPY_MODEL_19cd56091ca54929a9f2acf2e3e41d6f",
       "west": 112.0166015625,
       "window_url": "https://app.sandbox.dea.ga.gov.au/user/robbibt/lab?",
       "zoom": 5
      }
     },
     "415d2eaeea1f43b698f01ab6fd11da3e": {
      "model_module": "jupyter-leaflet",
      "model_module_version": "^0.13.0",
      "model_name": "LeafletTileLayerModel",
      "state": {
       "_model_module_version": "^0.13.0",
       "_view_module_version": "^0.13.0",
       "attribution": "Tiles &copy; Esri &mdash; Source: Esri, i-cubed, USDA, USGS, AEX, GeoEye, Getmapping, Aerogrid, IGN, IGP, UPR-EGP, and the GIS User Community",
       "max_native_zoom": 18,
       "max_zoom": 20,
       "min_native_zoom": 0,
       "min_zoom": 1,
       "name": "Esri.WorldImagery",
       "options": [
        "attribution",
        "detect_retina",
        "max_native_zoom",
        "max_zoom",
        "min_native_zoom",
        "min_zoom",
        "no_wrap",
        "tile_size",
        "tms"
       ],
       "url": "http://server.arcgisonline.com/ArcGIS/rest/services/World_Imagery/MapServer/tile/{z}/{y}/{x}"
      }
     },
     "416f0abc836d432f90730880abb7df45": {
      "model_module": "jupyter-leaflet",
      "model_module_version": "^0.13.0",
      "model_name": "LeafletMapStyleModel",
      "state": {
       "_model_module_version": "^0.13.0",
       "cursor": "move"
      }
     },
     "4170e60474df412585df3b59778b2b41": {
      "model_module": "jupyter-leaflet",
      "model_module_version": "^0.13.0",
      "model_name": "LeafletFullScreenControlModel",
      "state": {
       "_model_module_version": "^0.13.0",
       "_view_module_version": "^0.13.0",
       "options": [
        "position"
       ]
      }
     },
     "41d1aeb992064173b6fc78bf0b169d48": {
      "model_module": "jupyter-leaflet",
      "model_module_version": "^0.13.0",
      "model_name": "LeafletMapStyleModel",
      "state": {
       "_model_module_version": "^0.13.0"
      }
     },
     "41e3c292e56f491bbee4af28aa6ca8e4": {
      "model_module": "jupyter-leaflet",
      "model_module_version": "^0.13.0",
      "model_name": "LeafletZoomControlModel",
      "state": {
       "_model_module_version": "^0.13.0",
       "_view_module_version": "^0.13.0",
       "options": [
        "position",
        "zoom_in_text",
        "zoom_in_title",
        "zoom_out_text",
        "zoom_out_title"
       ]
      }
     },
     "41fb8ca7eef94aef988865f28e2661c5": {
      "model_module": "@jupyter-widgets/controls",
      "model_module_version": "1.5.0",
      "model_name": "DescriptionStyleModel",
      "state": {
       "description_width": ""
      }
     },
     "4274774634d2469e959be4bb2f090f2f": {
      "model_module": "jupyter-leaflet",
      "model_module_version": "^0.13.0",
      "model_name": "LeafletMapStyleModel",
      "state": {
       "_model_module_version": "^0.13.0",
       "cursor": "move"
      }
     },
     "4285cfe4d15f467ea29a03837d6a0291": {
      "model_module": "jupyter-leaflet",
      "model_module_version": "^0.13.0",
      "model_name": "LeafletWidgetControlModel",
      "state": {
       "_model_module": "jupyter-leaflet",
       "_model_module_version": "^0.13.0",
       "_view_count": null,
       "_view_module": "jupyter-leaflet",
       "_view_module_version": "^0.13.0",
       "options": [
        "position"
       ],
       "position": "bottomleft",
       "widget": "IPY_MODEL_0c60c334fb864265be63f45aca07f262"
      }
     },
     "42a68362e18b456598e8a5e2fa3902be": {
      "model_module": "jupyter-leaflet",
      "model_module_version": "^0.13.0",
      "model_name": "LeafletZoomControlModel",
      "state": {
       "_model_module_version": "^0.13.0",
       "_view_module_version": "^0.13.0",
       "options": [
        "position",
        "zoom_in_text",
        "zoom_in_title",
        "zoom_out_text",
        "zoom_out_title"
       ]
      }
     },
     "4322a0aee7f94397a623566fb85c8345": {
      "model_module": "jupyter-leaflet",
      "model_module_version": "^0.13.0",
      "model_name": "LeafletWidgetControlModel",
      "state": {
       "_model_module": "jupyter-leaflet",
       "_model_module_version": "^0.13.0",
       "_view_count": null,
       "_view_module": "jupyter-leaflet",
       "_view_module_version": "^0.13.0",
       "options": [
        "position"
       ],
       "position": "bottomleft",
       "widget": "IPY_MODEL_56bd9de1f56948a2ac7c52f0f2ca5faf"
      }
     },
     "437b675b2cb84290893cc2ddfb9a2e69": {
      "model_module": "jupyter-leaflet",
      "model_module_version": "^0.13.0",
      "model_name": "LeafletTileLayerModel",
      "state": {
       "_model_module_version": "^0.13.0",
       "_view_module_version": "^0.13.0",
       "attribution": "Tiles &copy; Esri &mdash; Source: Esri, i-cubed, USDA, USGS, AEX, GeoEye, Getmapping, Aerogrid, IGN, IGP, UPR-EGP, and the GIS User Community",
       "max_native_zoom": 18,
       "max_zoom": 20,
       "min_native_zoom": 0,
       "min_zoom": 1,
       "name": "Esri.WorldImagery",
       "options": [
        "attribution",
        "detect_retina",
        "max_native_zoom",
        "max_zoom",
        "min_native_zoom",
        "min_zoom",
        "no_wrap",
        "tile_size",
        "tms"
       ],
       "url": "http://server.arcgisonline.com/ArcGIS/rest/services/World_Imagery/MapServer/tile/{z}/{y}/{x}"
      }
     },
     "43a68210da304e5db673883c3f87cccb": {
      "model_module": "@jupyter-widgets/base",
      "model_module_version": "1.2.0",
      "model_name": "LayoutModel",
      "state": {
       "height": "600px"
      }
     },
     "45f1cfdff6f94f24a7f1525c89bce5e0": {
      "model_module": "jupyter-leaflet",
      "model_module_version": "^0.13.0",
      "model_name": "LeafletFullScreenControlModel",
      "state": {
       "_model_module_version": "^0.13.0",
       "_view_module_version": "^0.13.0",
       "options": [
        "position"
       ]
      }
     },
     "46c8bdd3d5c14b95ae998f3d933ec3d2": {
      "model_module": "jupyter-leaflet",
      "model_module_version": "^0.13.0",
      "model_name": "LeafletWMSLayerModel",
      "state": {
       "_model_module_version": "^0.13.0",
       "_view_module_version": "^0.13.0",
       "attribution": "DEA CoastLines © 2020 Geoscience Australia",
       "crs": {
        "custom": false,
        "name": "EPSG3857"
       },
       "format": "image/png",
       "layers": "ga_ls_ard_3",
       "max_native_zoom": 18,
       "min_native_zoom": 0,
       "options": [
        "attribution",
        "detect_retina",
        "format",
        "layers",
        "max_native_zoom",
        "max_zoom",
        "min_native_zoom",
        "min_zoom",
        "no_wrap",
        "styles",
        "tile_size",
        "tms",
        "transparent",
        "uppercase"
       ],
       "transparent": true,
       "url": "https://ows.dea.ga.gov.au/"
      }
     },
     "471da867ddd649708900dc8eef1e0843": {
      "model_module": "jupyter-leaflet",
      "model_module_version": "^0.13.0",
      "model_name": "LeafletMapModel",
      "state": {
       "_model_module_version": "^0.13.0",
       "_view_module_version": "^0.13.0",
       "center": [
        -13.397593482892109,
        129.97100830078128
       ],
       "controls": [
        "IPY_MODEL_10536422c4844595b96a518059ae9965",
        "IPY_MODEL_882c8411c3f846c48b5d85f66a2be24b",
        "IPY_MODEL_35f4b9e866ff47e887b746c89c5077d9"
       ],
       "default_style": "IPY_MODEL_4af3aa7babdd4d4ea11a98c052baabe4",
       "dragging_style": "IPY_MODEL_06d0a54417cb4a70a8791fa8f7ac0b15",
       "east": 130.7963562011719,
       "fullscreen": false,
       "interpolation": "bilinear",
       "layers": [
        "IPY_MODEL_cbe370e9d63f452b9ada5e3b711f212d",
        "IPY_MODEL_9eb7ee490e264d70b277ecdd543053c5"
       ],
       "layout": "IPY_MODEL_633246137c3c4adab74f9a86fe9e3e63",
       "modisdate": "yesterday",
       "north": -12.996529200993775,
       "options": [
        "bounce_at_zoom_limits",
        "box_zoom",
        "center",
        "close_popup_on_click",
        "double_click_zoom",
        "dragging",
        "fullscreen",
        "inertia",
        "inertia_deceleration",
        "inertia_max_speed",
        "interpolation",
        "keyboard",
        "keyboard_pan_offset",
        "keyboard_zoom_offset",
        "max_zoom",
        "min_zoom",
        "scroll_wheel_zoom",
        "tap",
        "tap_tolerance",
        "touch_zoom",
        "world_copy_jump",
        "zoom",
        "zoom_animation_threshold",
        "zoom_start"
       ],
       "scroll_wheel_zoom": true,
       "south": -13.79807354036948,
       "style": "IPY_MODEL_4af3aa7babdd4d4ea11a98c052baabe4",
       "west": 129.14566040039065,
       "window_url": "https://app.sandbox.dea.ga.gov.au/user/robbibt/lab?",
       "zoom": 10
      }
     },
     "472f35acb89341478005b77cd1d94646": {
      "model_module": "@jupyter-widgets/controls",
      "model_module_version": "1.5.0",
      "model_name": "ButtonStyleModel",
      "state": {
       "button_color": "green"
      }
     },
     "473934f3f4d646c0a02dd719770b0af2": {
      "model_module": "jupyter-leaflet",
      "model_module_version": "^0.13.0",
      "model_name": "LeafletWidgetControlModel",
      "state": {
       "_model_module": "jupyter-leaflet",
       "_model_module_version": "^0.13.0",
       "_view_count": null,
       "_view_module": "jupyter-leaflet",
       "_view_module_version": "^0.13.0",
       "options": [
        "position"
       ],
       "position": "topright",
       "widget": "IPY_MODEL_a6229319d70f4d198eb83f18e9d49eb3"
      }
     },
     "474a03ce92b14266bb00f160e31dcc4f": {
      "model_module": "jupyter-leaflet",
      "model_module_version": "^0.13.0",
      "model_name": "LeafletWidgetControlModel",
      "state": {
       "_model_module": "jupyter-leaflet",
       "_model_module_version": "^0.13.0",
       "_view_count": null,
       "_view_module": "jupyter-leaflet",
       "_view_module_version": "^0.13.0",
       "options": [
        "position"
       ],
       "position": "bottomleft",
       "widget": "IPY_MODEL_08bea2c966634bc3a58d27c262ab1957"
      }
     },
     "475feceda3d049db89a90ce5b9b8d32f": {
      "model_module": "@jupyter-widgets/base",
      "model_module_version": "1.2.0",
      "model_name": "LayoutModel",
      "state": {
       "height": "600px"
      }
     },
     "47de05789d234f1eb44c2e222139fa00": {
      "model_module": "jupyter-leaflet",
      "model_module_version": "^0.13.0",
      "model_name": "LeafletAttributionControlModel",
      "state": {
       "_model_module_version": "^0.13.0",
       "_view_module_version": "^0.13.0",
       "options": [
        "position",
        "prefix"
       ],
       "position": "bottomright",
       "prefix": "Leaflet"
      }
     },
     "4816453dd99849ccb78641ca7d713737": {
      "model_module": "jupyter-leaflet",
      "model_module_version": "^0.13.0",
      "model_name": "LeafletZoomControlModel",
      "state": {
       "_model_module_version": "^0.13.0",
       "_view_module_version": "^0.13.0",
       "options": [
        "position",
        "zoom_in_text",
        "zoom_in_title",
        "zoom_out_text",
        "zoom_out_title"
       ]
      }
     },
     "48c59eea4fda433aaaa772c5bf2c5e42": {
      "model_module": "jupyter-leaflet",
      "model_module_version": "^0.13.0",
      "model_name": "LeafletWidgetControlModel",
      "state": {
       "_model_module": "jupyter-leaflet",
       "_model_module_version": "^0.13.0",
       "_view_count": null,
       "_view_module": "jupyter-leaflet",
       "_view_module_version": "^0.13.0",
       "options": [
        "position"
       ],
       "position": "topright",
       "widget": "IPY_MODEL_c1a9bfec3af1429ba39caf77d60ebb9b"
      }
     },
     "48d1efbf232f43bca0690b438a036b03": {
      "model_module": "@jupyter-widgets/base",
      "model_module_version": "1.2.0",
      "model_name": "LayoutModel",
      "state": {
       "width": "5em"
      }
     },
     "48dd6a7b93f34c89be25b7b55ba1f60a": {
      "model_module": "@jupyter-widgets/base",
      "model_module_version": "1.2.0",
      "model_name": "LayoutModel",
      "state": {
       "width": "5em"
      }
     },
     "497dc4d6fd394750b6d9bc0066612ebb": {
      "model_module": "jupyter-leaflet",
      "model_module_version": "^0.13.0",
      "model_name": "LeafletFullScreenControlModel",
      "state": {
       "_model_module_version": "^0.13.0",
       "_view_module_version": "^0.13.0",
       "options": [
        "position"
       ]
      }
     },
     "49b0a93ae8ec4f448eccf0a55a0d0b29": {
      "model_module": "jupyter-leaflet",
      "model_module_version": "^0.13.0",
      "model_name": "LeafletAttributionControlModel",
      "state": {
       "_model_module_version": "^0.13.0",
       "_view_module_version": "^0.13.0",
       "options": [
        "position",
        "prefix"
       ],
       "position": "bottomright",
       "prefix": "Leaflet"
      }
     },
     "4a3185ba23814b8db25083973b1a62d7": {
      "model_module": "jupyter-leaflet",
      "model_module_version": "^0.13.0",
      "model_name": "LeafletWidgetControlModel",
      "state": {
       "_model_module": "jupyter-leaflet",
       "_model_module_version": "^0.13.0",
       "_view_count": null,
       "_view_module": "jupyter-leaflet",
       "_view_module_version": "^0.13.0",
       "options": [
        "position"
       ],
       "position": "bottomleft",
       "widget": "IPY_MODEL_6131edec583f46c791c8cfae57183804"
      }
     },
     "4a474fd26ebb4cb5a3b394188171f950": {
      "model_module": "jupyter-leaflet",
      "model_module_version": "^0.13.0",
      "model_name": "LeafletAttributionControlModel",
      "state": {
       "_model_module_version": "^0.13.0",
       "_view_module_version": "^0.13.0",
       "options": [
        "position",
        "prefix"
       ],
       "position": "bottomright",
       "prefix": "Leaflet"
      }
     },
     "4ab339760eab49c2bfffafec0c51f9f4": {
      "model_module": "jupyter-leaflet",
      "model_module_version": "^0.13.0",
      "model_name": "LeafletTileLayerModel",
      "state": {
       "_model_module_version": "^0.13.0",
       "_view_module_version": "^0.13.0",
       "max_native_zoom": 18,
       "max_zoom": 19,
       "min_native_zoom": 0,
       "min_zoom": 1,
       "name": "OpenStreetMap.Mapnik",
       "options": [
        "attribution",
        "detect_retina",
        "max_native_zoom",
        "max_zoom",
        "min_native_zoom",
        "min_zoom",
        "no_wrap",
        "tile_size",
        "tms"
       ]
      }
     },
     "4ae821e0392948538f1187304af9d2a3": {
      "model_module": "jupyter-leaflet",
      "model_module_version": "^0.13.0",
      "model_name": "LeafletMapStyleModel",
      "state": {
       "_model_module_version": "^0.13.0"
      }
     },
     "4af3aa7babdd4d4ea11a98c052baabe4": {
      "model_module": "jupyter-leaflet",
      "model_module_version": "^0.13.0",
      "model_name": "LeafletMapStyleModel",
      "state": {
       "_model_module_version": "^0.13.0"
      }
     },
     "4b452b25b2e54425ab2dbba85c76e727": {
      "model_module": "jupyter-leaflet",
      "model_module_version": "^0.13.0",
      "model_name": "LeafletTileLayerModel",
      "state": {
       "_model_module_version": "^0.13.0",
       "_view_module_version": "^0.13.0",
       "max_native_zoom": 18,
       "max_zoom": 19,
       "min_native_zoom": 0,
       "min_zoom": 1,
       "name": "OpenStreetMap.Mapnik",
       "options": [
        "attribution",
        "detect_retina",
        "max_native_zoom",
        "max_zoom",
        "min_native_zoom",
        "min_zoom",
        "no_wrap",
        "tile_size",
        "tms"
       ]
      }
     },
     "4b65dbf6a8e14327a0c1f044ac220d5f": {
      "model_module": "jupyter-leaflet",
      "model_module_version": "^0.13.0",
      "model_name": "LeafletFullScreenControlModel",
      "state": {
       "_model_module_version": "^0.13.0",
       "_view_module_version": "^0.13.0",
       "options": [
        "position"
       ]
      }
     },
     "4bbf7103a3144809a383344dbb03adc2": {
      "model_module": "@jupyter-widgets/controls",
      "model_module_version": "1.5.0",
      "model_name": "DescriptionStyleModel",
      "state": {
       "description_width": ""
      }
     },
     "4c4d669bf2d54aeab27f7ad7ca8988a0": {
      "model_module": "jupyter-leaflet",
      "model_module_version": "^0.13.0",
      "model_name": "LeafletMapStyleModel",
      "state": {
       "_model_module_version": "^0.13.0"
      }
     },
     "4c582dae295a4aa0bce44f18c105abe3": {
      "model_module": "jupyter-leaflet",
      "model_module_version": "^0.13.0",
      "model_name": "LeafletDrawControlModel",
      "state": {
       "_model_module_version": "^0.13.0",
       "_view_module_version": "^0.13.0",
       "options": [
        "position"
       ],
       "polygon": {
        "shapeOptions": {
         "color": "#000000",
         "editing": {
          "color": "#000000",
          "fillColor": "#fca45d",
          "fillOpacity": 0.1
         },
         "fillColor": "#fca45d",
         "fillOpacity": 0.1,
         "original": {
          "color": "#000000",
          "fillColor": "#fca45d",
          "fillOpacity": 0.1
         }
        }
       },
       "polyline": {},
       "rectangle": {
        "metric": [
         "km",
         "m"
        ],
        "shapeOptions": {
         "color": "#000000",
         "fillColor": "#fca45d",
         "fillOpacity": 0.1
        }
       }
      }
     },
     "4cbf5f9f80524f84a1e95cac228963a4": {
      "model_module": "@jupyter-widgets/controls",
      "model_module_version": "1.5.0",
      "model_name": "ButtonStyleModel",
      "state": {
       "button_color": "green"
      }
     },
     "4cc1745413e6455d9b7ac40e1dbc7e86": {
      "model_module": "@jupyter-widgets/base",
      "model_module_version": "1.2.0",
      "model_name": "LayoutModel",
      "state": {
       "flex": "1 0 20em",
       "height": "3em",
       "width": "20em"
      }
     },
     "4cea1f2acac54acca8fb53d625eb65b7": {
      "model_module": "jupyter-leaflet",
      "model_module_version": "^0.13.0",
      "model_name": "LeafletFullScreenControlModel",
      "state": {
       "_model_module_version": "^0.13.0",
       "_view_module_version": "^0.13.0",
       "options": [
        "position"
       ]
      }
     },
     "4d44c6a8b4654692b1bd85571ab75183": {
      "model_module": "jupyter-leaflet",
      "model_module_version": "^0.13.0",
      "model_name": "LeafletAttributionControlModel",
      "state": {
       "_model_module_version": "^0.13.0",
       "_view_module_version": "^0.13.0",
       "options": [
        "position",
        "prefix"
       ],
       "position": "bottomright",
       "prefix": "Leaflet"
      }
     },
     "4dd570e9135447dc9fa5a8917535f1b2": {
      "model_module": "@jupyter-widgets/controls",
      "model_module_version": "1.5.0",
      "model_name": "ButtonStyleModel",
      "state": {
       "button_color": "green"
      }
     },
     "4ec56fb8e83d48c0a84e5c764bbeb601": {
      "model_module": "jupyter-leaflet",
      "model_module_version": "^0.13.0",
      "model_name": "LeafletWidgetControlModel",
      "state": {
       "_model_module": "jupyter-leaflet",
       "_model_module_version": "^0.13.0",
       "_view_count": null,
       "_view_module": "jupyter-leaflet",
       "_view_module_version": "^0.13.0",
       "options": [
        "position"
       ],
       "position": "bottomleft",
       "widget": "IPY_MODEL_7cfb498acf1f4bf3b2c5ca1771b52668"
      }
     },
     "4ee9584af21c4c35a719f13210675953": {
      "model_module": "jupyter-leaflet",
      "model_module_version": "^0.13.0",
      "model_name": "LeafletDrawControlModel",
      "state": {
       "_model_module_version": "^0.13.0",
       "_view_module_version": "^0.13.0",
       "options": [
        "position"
       ],
       "polygon": {
        "shapeOptions": {
         "color": "#000000",
         "editing": {
          "color": "#000000",
          "fillColor": "#fca45d",
          "fillOpacity": 0.1
         },
         "fillColor": "#fca45d",
         "fillOpacity": 0.1,
         "original": {
          "color": "#000000",
          "fillColor": "#fca45d",
          "fillOpacity": 0.1
         }
        }
       },
       "polyline": {},
       "rectangle": {
        "metric": [
         "km",
         "m"
        ],
        "shapeOptions": {
         "color": "#000000",
         "fillColor": "#fca45d",
         "fillOpacity": 0.1
        }
       }
      }
     },
     "4f29c1016c174e8b9c7351d6ccadf61c": {
      "model_module": "@jupyter-widgets/controls",
      "model_module_version": "1.5.0",
      "model_name": "DescriptionStyleModel",
      "state": {
       "description_width": ""
      }
     },
     "4fd31fca8b97486495801242e80f7284": {
      "model_module": "@jupyter-widgets/base",
      "model_module_version": "1.2.0",
      "model_name": "LayoutModel",
      "state": {
       "height": "600px"
      }
     },
     "500a54447f554ca6b207eae31a543a75": {
      "model_module": "jupyter-leaflet",
      "model_module_version": "^0.13.0",
      "model_name": "LeafletZoomControlModel",
      "state": {
       "_model_module_version": "^0.13.0",
       "_view_module_version": "^0.13.0",
       "options": [
        "position",
        "zoom_in_text",
        "zoom_in_title",
        "zoom_out_text",
        "zoom_out_title"
       ]
      }
     },
     "509d8b688dfd488b8c5540d3f1d091e1": {
      "model_module": "@jupyter-widgets/controls",
      "model_module_version": "1.5.0",
      "model_name": "ButtonModel",
      "state": {
       "description": "done",
       "disabled": true,
       "layout": "IPY_MODEL_89835726e10f4ceca5bd1dd7dd8f1788",
       "style": "IPY_MODEL_049f9db9a59a4ef0bf470e71e051bd4c"
      }
     },
     "5102c62826f740fe9ec0bcb4c24b0c58": {
      "model_module": "jupyter-leaflet",
      "model_module_version": "^0.13.0",
      "model_name": "LeafletAttributionControlModel",
      "state": {
       "_model_module_version": "^0.13.0",
       "_view_module_version": "^0.13.0",
       "options": [
        "position",
        "prefix"
       ],
       "position": "bottomright",
       "prefix": "Leaflet"
      }
     },
     "5186e36567564a14809df097da7ebfb1": {
      "model_module": "jupyter-leaflet",
      "model_module_version": "^0.13.0",
      "model_name": "LeafletDrawControlModel",
      "state": {
       "_model_module_version": "^0.13.0",
       "_view_module_version": "^0.13.0",
       "options": [
        "position"
       ],
       "polygon": {
        "shapeOptions": {
         "color": "#000000",
         "editing": {
          "color": "#000000",
          "fillColor": "#fca45d",
          "fillOpacity": 0.1
         },
         "fillColor": "#fca45d",
         "fillOpacity": 0.1,
         "original": {
          "color": "#000000",
          "fillColor": "#fca45d",
          "fillOpacity": 0.1
         }
        }
       },
       "polyline": {},
       "rectangle": {
        "metric": [
         "km",
         "m"
        ],
        "shapeOptions": {
         "color": "#000000",
         "fillColor": "#fca45d",
         "fillOpacity": 0.1
        }
       }
      }
     },
     "524fd470b2044fdf93bac16b7e3809b1": {
      "model_module": "jupyter-leaflet",
      "model_module_version": "^0.13.0",
      "model_name": "LeafletMapStyleModel",
      "state": {
       "_model_module_version": "^0.13.0",
       "cursor": "move"
      }
     },
     "5308e088f3ac4fa4bceed5abe24a32a7": {
      "model_module": "jupyter-leaflet",
      "model_module_version": "^0.13.0",
      "model_name": "LeafletMapStyleModel",
      "state": {
       "_model_module_version": "^0.13.0",
       "cursor": "move"
      }
     },
     "5327134cffc24d96b8323a79e78aca1f": {
      "model_module": "@jupyter-widgets/controls",
      "model_module_version": "1.5.0",
      "model_name": "ButtonStyleModel",
      "state": {
       "button_color": "green"
      }
     },
     "5327cdaa6c584893bb0417d4d01f940f": {
      "model_module": "@jupyter-widgets/base",
      "model_module_version": "1.2.0",
      "model_name": "LayoutModel",
      "state": {
       "width": "5em"
      }
     },
     "535378440ddb4cf99a600c50d9423f68": {
      "model_module": "jupyter-leaflet",
      "model_module_version": "^0.13.0",
      "model_name": "LeafletMapStyleModel",
      "state": {
       "_model_module_version": "^0.13.0"
      }
     },
     "536f6480d0964704b703bc670ac0c420": {
      "model_module": "jupyter-leaflet",
      "model_module_version": "^0.13.0",
      "model_name": "LeafletMapStyleModel",
      "state": {
       "_model_module_version": "^0.13.0",
       "cursor": "move"
      }
     },
     "53710f58f17948709fa816cb7c0e8d68": {
      "model_module": "@jupyter-widgets/base",
      "model_module_version": "1.2.0",
      "model_name": "LayoutModel",
      "state": {
       "height": "600px"
      }
     },
     "5378c3067fc44fa0b63a47a83035c284": {
      "model_module": "@jupyter-widgets/controls",
      "model_module_version": "1.5.0",
      "model_name": "DescriptionStyleModel",
      "state": {
       "description_width": ""
      }
     },
     "544acb2a5c064079a1c0cd7a0448448a": {
      "model_module": "@jupyter-widgets/controls",
      "model_module_version": "1.5.0",
      "model_name": "HTMLModel",
      "state": {
       "layout": "IPY_MODEL_e04015700e394ecf90d637684a3e72db",
       "style": "IPY_MODEL_36081a90d61b4ba7b7d2f8d9e8dd7b30",
       "value": "<pre style=\"color:grey\">lat: [-28.8832, -3.8204]\nlon: [112.0166, 164.8389]</pre>"
      }
     },
     "54c0ca36ee8348d7b8f3653c7c49a6ed": {
      "model_module": "jupyter-leaflet",
      "model_module_version": "^0.13.0",
      "model_name": "LeafletWMSLayerModel",
      "state": {
       "_model_module_version": "^0.13.0",
       "_view_module_version": "^0.13.0",
       "attribution": "Digital Earth Australia",
       "crs": {
        "custom": false,
        "name": "EPSG3857"
       },
       "format": "image/png",
       "layers": "ga_ls_ard_3",
       "max_native_zoom": 18,
       "min_native_zoom": 0,
       "options": [
        "attribution",
        "detect_retina",
        "format",
        "layers",
        "max_native_zoom",
        "max_zoom",
        "min_native_zoom",
        "min_zoom",
        "no_wrap",
        "styles",
        "tile_size",
        "time",
        "tms",
        "transparent",
        "uppercase"
       ],
       "time": "2000-01-01",
       "transparent": true,
       "url": "https://ows.dea.ga.gov.au/"
      }
     },
     "54f27e8c0b754c2da3d189a143284827": {
      "model_module": "jupyter-leaflet",
      "model_module_version": "^0.13.0",
      "model_name": "LeafletMapStyleModel",
      "state": {
       "_model_module_version": "^0.13.0"
      }
     },
     "55428e268172477eb57a2735292ee863": {
      "model_module": "jupyter-leaflet",
      "model_module_version": "^0.13.0",
      "model_name": "LeafletWidgetControlModel",
      "state": {
       "_model_module": "jupyter-leaflet",
       "_model_module_version": "^0.13.0",
       "_view_count": null,
       "_view_module": "jupyter-leaflet",
       "_view_module_version": "^0.13.0",
       "options": [
        "position"
       ],
       "position": "topright",
       "widget": "IPY_MODEL_f8cf2a1f91924156953496762241585a"
      }
     },
     "5554c63838894cc780af30e424ca5d98": {
      "model_module": "@jupyter-widgets/controls",
      "model_module_version": "1.5.0",
      "model_name": "HTMLModel",
      "state": {
       "layout": "IPY_MODEL_8a4e9656fa134224844ce2f987e7ce96",
       "style": "IPY_MODEL_899c120a6e1f4b4cac3fac279736983e",
       "value": "<pre style=\"color:grey\">lat: [-31.4287, -28.5749]\nlon: [127.3370, 133.9398]</pre>"
      }
     },
     "55565d545aed4985bb4078d11076ee9f": {
      "model_module": "@jupyter-widgets/controls",
      "model_module_version": "1.5.0",
      "model_name": "HTMLModel",
      "state": {
       "layout": "IPY_MODEL_82391777c6c44ef7876840c136e0777f",
       "style": "IPY_MODEL_83e53878403949f4810ced8a690dbb8d",
       "value": "<pre style=\"color:grey\">lat: [-23.4935, -20.4373]\nlon: [146.2720, 152.8748]</pre>"
      }
     },
     "55615ebcdfa148e788589adee0287dbe": {
      "model_module": "@jupyter-widgets/base",
      "model_module_version": "1.2.0",
      "model_name": "LayoutModel",
      "state": {
       "flex": "1 0 20em",
       "height": "3em",
       "width": "20em"
      }
     },
     "559c4970d3b6441dad16751a3c3d1a68": {
      "model_module": "jupyter-leaflet",
      "model_module_version": "^0.13.0",
      "model_name": "LeafletFullScreenControlModel",
      "state": {
       "_model_module_version": "^0.13.0",
       "_view_module_version": "^0.13.0",
       "options": [
        "position"
       ]
      }
     },
     "55cd86d7b0c44a4596e6fdf439aa7d1b": {
      "model_module": "jupyter-leaflet",
      "model_module_version": "^0.13.0",
      "model_name": "LeafletMapModel",
      "state": {
       "_model_module_version": "^0.13.0",
       "_view_module_version": "^0.13.0",
       "center": [
        -13.241240509416437,
        130.32119750976565
       ],
       "controls": [
        "IPY_MODEL_d80d3fe2c7114f3c867685813c204403",
        "IPY_MODEL_762d7914c2294ef6bea89384b2726ad2",
        "IPY_MODEL_2677ddd259764b0a97c2c0f381ee08ec"
       ],
       "default_style": "IPY_MODEL_60f09045cc9a4b41877b13306e71c5fb",
       "dragging_style": "IPY_MODEL_0603e854480c40338a698b7440354f60",
       "east": 131.14654541015628,
       "fullscreen": false,
       "interpolation": "bilinear",
       "layers": [
        "IPY_MODEL_d2710ff713ad4935830c01038c3fd25e",
        "IPY_MODEL_e2686eb5efa34006a1df41efd78406a5"
       ],
       "layout": "IPY_MODEL_3d5ba5fc9424493d89a32b708a1c090e",
       "modisdate": "yesterday",
       "north": -12.83992087033191,
       "options": [
        "bounce_at_zoom_limits",
        "box_zoom",
        "center",
        "close_popup_on_click",
        "double_click_zoom",
        "dragging",
        "fullscreen",
        "inertia",
        "inertia_deceleration",
        "inertia_max_speed",
        "interpolation",
        "keyboard",
        "keyboard_pan_offset",
        "keyboard_zoom_offset",
        "max_zoom",
        "min_zoom",
        "scroll_wheel_zoom",
        "tap",
        "tap_tolerance",
        "touch_zoom",
        "world_copy_jump",
        "zoom",
        "zoom_animation_threshold",
        "zoom_start"
       ],
       "scroll_wheel_zoom": true,
       "south": -13.641983203824697,
       "style": "IPY_MODEL_60f09045cc9a4b41877b13306e71c5fb",
       "west": 129.49584960937503,
       "window_url": "https://app.sandbox.dea.ga.gov.au/user/robbibt/lab?",
       "zoom": 10
      }
     },
     "55df25f5f81546769e40932039b4aa25": {
      "model_module": "@jupyter-widgets/controls",
      "model_module_version": "1.5.0",
      "model_name": "ButtonStyleModel",
      "state": {
       "button_color": "green"
      }
     },
     "560834ea4e8b49aba9bc98f3d69affc6": {
      "model_module": "jupyter-leaflet",
      "model_module_version": "^0.13.0",
      "model_name": "LeafletZoomControlModel",
      "state": {
       "_model_module_version": "^0.13.0",
       "_view_module_version": "^0.13.0",
       "options": [
        "position",
        "zoom_in_text",
        "zoom_in_title",
        "zoom_out_text",
        "zoom_out_title"
       ]
      }
     },
     "5654fca6c9c84f4c971dfd42583f4f7f": {
      "model_module": "jupyter-leaflet",
      "model_module_version": "^0.13.0",
      "model_name": "LeafletDrawControlModel",
      "state": {
       "_model_module_version": "^0.13.0",
       "_view_module_version": "^0.13.0",
       "options": [
        "position"
       ],
       "polygon": {
        "shapeOptions": {
         "color": "#000000",
         "editing": {
          "color": "#000000",
          "fillColor": "#fca45d",
          "fillOpacity": 0.1
         },
         "fillColor": "#fca45d",
         "fillOpacity": 0.1,
         "original": {
          "color": "#000000",
          "fillColor": "#fca45d",
          "fillOpacity": 0.1
         }
        }
       },
       "polyline": {},
       "rectangle": {
        "metric": [
         "km",
         "m"
        ],
        "shapeOptions": {
         "color": "#000000",
         "fillColor": "#fca45d",
         "fillOpacity": 0.1
        }
       }
      }
     },
     "56588a6f16d44dbf9022bc0a7dd0ed58": {
      "model_module": "jupyter-leaflet",
      "model_module_version": "^0.13.0",
      "model_name": "LeafletDrawControlModel",
      "state": {
       "_model_module_version": "^0.13.0",
       "_view_module_version": "^0.13.0",
       "options": [
        "position"
       ],
       "polygon": {
        "shapeOptions": {
         "color": "#000000",
         "editing": {
          "color": "#000000",
          "fillColor": "#fca45d",
          "fillOpacity": 0.1
         },
         "fillColor": "#fca45d",
         "fillOpacity": 0.1,
         "original": {
          "color": "#000000",
          "fillColor": "#fca45d",
          "fillOpacity": 0.1
         }
        }
       },
       "polyline": {},
       "rectangle": {
        "metric": [
         "km",
         "m"
        ],
        "shapeOptions": {
         "color": "#000000",
         "fillColor": "#fca45d",
         "fillOpacity": 0.1
        }
       }
      }
     },
     "56bd9de1f56948a2ac7c52f0f2ca5faf": {
      "model_module": "@jupyter-widgets/controls",
      "model_module_version": "1.5.0",
      "model_name": "HTMLModel",
      "state": {
       "layout": "IPY_MODEL_4010ed2dae984e1f89a673e74959298c",
       "style": "IPY_MODEL_ca980d8821cb487bb27fe2a2c9221476",
       "value": "<pre style=\"color:grey\">lat: [-13.8967, -13.0955]\nlon: [129.6469, 131.2976]</pre>"
      }
     },
     "578dadd77c654171bb811e721a821298": {
      "model_module": "@jupyter-widgets/controls",
      "model_module_version": "1.5.0",
      "model_name": "ButtonStyleModel",
      "state": {
       "button_color": "green"
      }
     },
     "579909cbd1db421ebf2447c1f8d8a2be": {
      "model_module": "jupyter-leaflet",
      "model_module_version": "^0.13.0",
      "model_name": "LeafletFullScreenControlModel",
      "state": {
       "_model_module_version": "^0.13.0",
       "_view_module_version": "^0.13.0",
       "options": [
        "position"
       ]
      }
     },
     "581d49abea38406cb4294dc262eeadb2": {
      "model_module": "@jupyter-widgets/controls",
      "model_module_version": "1.5.0",
      "model_name": "DescriptionStyleModel",
      "state": {
       "description_width": ""
      }
     },
     "587b6193390142319f608ca51db1bb0e": {
      "model_module": "jupyter-leaflet",
      "model_module_version": "^0.13.0",
      "model_name": "LeafletFullScreenControlModel",
      "state": {
       "_model_module_version": "^0.13.0",
       "_view_module_version": "^0.13.0",
       "options": [
        "position"
       ]
      }
     },
     "588fc33dd2574ade95851208d238ae5e": {
      "model_module": "jupyter-leaflet",
      "model_module_version": "^0.13.0",
      "model_name": "LeafletMapModel",
      "state": {
       "_model_module_version": "^0.13.0",
       "_view_module_version": "^0.13.0",
       "center": [
        -18.310203344724183,
        122.2386932373047
       ],
       "controls": [
        "IPY_MODEL_31f3a79ccf794023a7f8f937d5c23cbe",
        "IPY_MODEL_fb22238fbbdf4cdb86bffb643e3de8e7",
        "IPY_MODEL_a64c8524241a4feeb23152921daaa0a1"
       ],
       "default_style": "IPY_MODEL_f0308d6d410b4d529a6053da4b66e5dc",
       "dragging_style": "IPY_MODEL_0daefc431b114bacbcb2fcbf85468ae4",
       "east": 122.65136718750001,
       "fullscreen": false,
       "interpolation": "bilinear",
       "layers": [
        "IPY_MODEL_415d2eaeea1f43b698f01ab6fd11da3e",
        "IPY_MODEL_10659647ddbf40ad8a66ab5bce213b52"
       ],
       "layout": "IPY_MODEL_43a68210da304e5db673883c3f87cccb",
       "modisdate": "yesterday",
       "north": -18.114529138838503,
       "options": [
        "bounce_at_zoom_limits",
        "box_zoom",
        "center",
        "close_popup_on_click",
        "double_click_zoom",
        "dragging",
        "fullscreen",
        "inertia",
        "inertia_deceleration",
        "inertia_max_speed",
        "interpolation",
        "keyboard",
        "keyboard_pan_offset",
        "keyboard_zoom_offset",
        "max_zoom",
        "min_zoom",
        "scroll_wheel_zoom",
        "tap",
        "tap_tolerance",
        "touch_zoom",
        "world_copy_jump",
        "zoom",
        "zoom_animation_threshold",
        "zoom_start"
       ],
       "scroll_wheel_zoom": true,
       "south": -18.505656663040533,
       "style": "IPY_MODEL_f0308d6d410b4d529a6053da4b66e5dc",
       "west": 121.82601928710939,
       "window_url": "https://app.sandbox.dea.ga.gov.au/user/robbibt/lab?",
       "zoom": 11
      }
     },
     "5911a61aeee44201aa43a96c6aabdb4c": {
      "model_module": "@jupyter-widgets/base",
      "model_module_version": "1.2.0",
      "model_name": "LayoutModel",
      "state": {
       "width": "5em"
      }
     },
     "59d0c05307254da89c7dc4719ae4c650": {
      "model_module": "@jupyter-widgets/controls",
      "model_module_version": "1.5.0",
      "model_name": "DescriptionStyleModel",
      "state": {
       "description_width": ""
      }
     },
     "5aefcb18369b48b4bb04719d303f24b2": {
      "model_module": "@jupyter-widgets/controls",
      "model_module_version": "1.5.0",
      "model_name": "ButtonStyleModel",
      "state": {
       "button_color": "green"
      }
     },
     "5affcc98f5d144a8bb2927fdd72bfd6b": {
      "model_module": "@jupyter-widgets/controls",
      "model_module_version": "1.5.0",
      "model_name": "DescriptionStyleModel",
      "state": {
       "description_width": ""
      }
     },
     "5b1a332b685844e6950d2e6b2deef55a": {
      "model_module": "@jupyter-widgets/base",
      "model_module_version": "1.2.0",
      "model_name": "LayoutModel",
      "state": {
       "height": "600px"
      }
     },
     "5baf5e64da964e72979a16b25dabc119": {
      "model_module": "jupyter-leaflet",
      "model_module_version": "^0.13.0",
      "model_name": "LeafletWMSLayerModel",
      "state": {
       "_model_module_version": "^0.13.0",
       "_view_module_version": "^0.13.0",
       "attribution": "Digital Earth Australia",
       "crs": {
        "custom": false,
        "name": "EPSG3857"
       },
       "format": "image/png",
       "layers": "s2_ard_granule_nbar_t",
       "max_native_zoom": 18,
       "min_native_zoom": 0,
       "options": [
        "attribution",
        "detect_retina",
        "format",
        "layers",
        "max_native_zoom",
        "max_zoom",
        "min_native_zoom",
        "min_zoom",
        "no_wrap",
        "styles",
        "tile_size",
        "time",
        "tms",
        "transparent",
        "uppercase"
       ],
       "time": "2019-01-01",
       "transparent": true,
       "url": "https://ows.dea.ga.gov.au/"
      }
     },
     "5c1702b7e8434c03ab3649b890df2ee7": {
      "model_module": "@jupyter-widgets/controls",
      "model_module_version": "1.5.0",
      "model_name": "ButtonStyleModel",
      "state": {
       "button_color": "green"
      }
     },
     "5c17bba477bc4a3c8b528deb81b339dd": {
      "model_module": "@jupyter-widgets/controls",
      "model_module_version": "1.5.0",
      "model_name": "DescriptionStyleModel",
      "state": {
       "description_width": ""
      }
     },
     "5c181422cda94b75b001863cd5c80aa5": {
      "model_module": "jupyter-leaflet",
      "model_module_version": "^0.13.0",
      "model_name": "LeafletZoomControlModel",
      "state": {
       "_model_module_version": "^0.13.0",
       "_view_module_version": "^0.13.0",
       "options": [
        "position",
        "zoom_in_text",
        "zoom_in_title",
        "zoom_out_text",
        "zoom_out_title"
       ]
      }
     },
     "5c9e2be1bfc94f668a71bfa4d0b4219f": {
      "model_module": "jupyter-leaflet",
      "model_module_version": "^0.13.0",
      "model_name": "LeafletMapStyleModel",
      "state": {
       "_model_module_version": "^0.13.0"
      }
     },
     "5ceebce54d194a51bfad545a4fe83342": {
      "model_module": "jupyter-leaflet",
      "model_module_version": "^0.13.0",
      "model_name": "LeafletFullScreenControlModel",
      "state": {
       "_model_module_version": "^0.13.0",
       "_view_module_version": "^0.13.0",
       "options": [
        "position"
       ]
      }
     },
     "5d24f32669cc4d428287e1b59eb6eb3d": {
      "model_module": "jupyter-leaflet",
      "model_module_version": "^0.13.0",
      "model_name": "LeafletWMSLayerModel",
      "state": {
       "_model_module_version": "^0.13.0",
       "_view_module_version": "^0.13.0",
       "attribution": "Digital Earth Australia",
       "crs": {
        "custom": false,
        "name": "EPSG3857"
       },
       "format": "image/png",
       "layers": "s2_ard_granule_nbar_t",
       "max_native_zoom": 18,
       "min_native_zoom": 0,
       "options": [
        "attribution",
        "detect_retina",
        "format",
        "layers",
        "max_native_zoom",
        "max_zoom",
        "min_native_zoom",
        "min_zoom",
        "no_wrap",
        "styles",
        "tile_size",
        "time",
        "tms",
        "transparent",
        "uppercase"
       ],
       "time": "2019-01-01",
       "transparent": true,
       "url": "https://ows.dea.ga.gov.au/"
      }
     },
     "5e3ebfe038e24ad6925227a398056276": {
      "model_module": "jupyter-leaflet",
      "model_module_version": "^0.13.0",
      "model_name": "LeafletZoomControlModel",
      "state": {
       "_model_module_version": "^0.13.0",
       "_view_module_version": "^0.13.0",
       "options": [
        "position",
        "zoom_in_text",
        "zoom_in_title",
        "zoom_out_text",
        "zoom_out_title"
       ]
      }
     },
     "5e4d5835901f436ba517116b3b90fdd2": {
      "model_module": "@jupyter-widgets/controls",
      "model_module_version": "1.5.0",
      "model_name": "ButtonModel",
      "state": {
       "description": "done",
       "disabled": true,
       "layout": "IPY_MODEL_2ef66a06c2694c21bcfdc4a24a7fdac8",
       "style": "IPY_MODEL_3a2cba1c9a014c81984f93b184f3e112"
      }
     },
     "5e68474589d3476e891121dbeaf94756": {
      "model_module": "jupyter-leaflet",
      "model_module_version": "^0.13.0",
      "model_name": "LeafletMapStyleModel",
      "state": {
       "_model_module_version": "^0.13.0"
      }
     },
     "5e8a3ce9ea80449bbef60fed6d9e7035": {
      "model_module": "@jupyter-widgets/controls",
      "model_module_version": "1.5.0",
      "model_name": "HTMLModel",
      "state": {
       "layout": "IPY_MODEL_8b1ffdf5d9d44c18badbe93e14202881",
       "style": "IPY_MODEL_59d0c05307254da89c7dc4719ae4c650",
       "value": "<pre style=\"color:grey\">lat: [-18.5057, -18.1145]\nlon: [121.8260, 122.6514]</pre>"
      }
     },
     "5f131f8c64ed4faea0f6cdad868fdce5": {
      "model_module": "@jupyter-widgets/base",
      "model_module_version": "1.2.0",
      "model_name": "LayoutModel",
      "state": {
       "flex": "1 0 20em",
       "height": "3em",
       "width": "20em"
      }
     },
     "5f1492c86e874217ab8e8ce8fabd0d0e": {
      "model_module": "@jupyter-widgets/base",
      "model_module_version": "1.2.0",
      "model_name": "LayoutModel",
      "state": {
       "width": "5em"
      }
     },
     "5fa5f7bce8e444fc9a155146898f2e5c": {
      "model_module": "@jupyter-widgets/base",
      "model_module_version": "1.2.0",
      "model_name": "LayoutModel",
      "state": {
       "height": "600px"
      }
     },
     "6007fa289b74437f94fc924e3e3e6a2e": {
      "model_module": "@jupyter-widgets/controls",
      "model_module_version": "1.5.0",
      "model_name": "HTMLModel",
      "state": {
       "layout": "IPY_MODEL_2c00a166c08248e7a99a63f43e705f39",
       "style": "IPY_MODEL_c4c12d6ca0534070804b0ad0ef9401b7",
       "value": "<pre style=\"color:grey\">lat: [-15.3954, -14.5995]\nlon: [128.6925, 130.3432]</pre>"
      }
     },
     "6069b79dc6324522a0e047d7f6ad6167": {
      "model_module": "jupyter-leaflet",
      "model_module_version": "^0.13.0",
      "model_name": "LeafletDrawControlModel",
      "state": {
       "_model_module_version": "^0.13.0",
       "_view_module_version": "^0.13.0",
       "options": [
        "position"
       ],
       "polygon": {
        "shapeOptions": {
         "color": "#000000",
         "editing": {
          "color": "#000000",
          "fillColor": "#fca45d",
          "fillOpacity": 0.1
         },
         "fillColor": "#fca45d",
         "fillOpacity": 0.1,
         "original": {
          "color": "#000000",
          "fillColor": "#fca45d",
          "fillOpacity": 0.1
         }
        }
       },
       "polyline": {},
       "rectangle": {
        "metric": [
         "km",
         "m"
        ],
        "shapeOptions": {
         "color": "#000000",
         "fillColor": "#fca45d",
         "fillOpacity": 0.1
        }
       }
      }
     },
     "60f09045cc9a4b41877b13306e71c5fb": {
      "model_module": "jupyter-leaflet",
      "model_module_version": "^0.13.0",
      "model_name": "LeafletMapStyleModel",
      "state": {
       "_model_module_version": "^0.13.0"
      }
     },
     "6102a909c8754b0f87a7de34f84062a3": {
      "model_module": "jupyter-leaflet",
      "model_module_version": "^0.13.0",
      "model_name": "LeafletAttributionControlModel",
      "state": {
       "_model_module_version": "^0.13.0",
       "_view_module_version": "^0.13.0",
       "options": [
        "position",
        "prefix"
       ],
       "position": "bottomright",
       "prefix": "Leaflet"
      }
     },
     "6131edec583f46c791c8cfae57183804": {
      "model_module": "@jupyter-widgets/controls",
      "model_module_version": "1.5.0",
      "model_name": "HTMLModel",
      "state": {
       "layout": "IPY_MODEL_0fcca6f02267421aa1a9efd419e215d0",
       "style": "IPY_MODEL_7a92f2cb64af47278c5e9c621f3fbd1d",
       "value": "<pre style=\"color:grey\">lat: [-46.3166, 0.3516]\nlon: [81.3867, 187.0313]</pre>"
      }
     },
     "615a9f97b69141faa666bbe5c62604f9": {
      "model_module": "@jupyter-widgets/base",
      "model_module_version": "1.2.0",
      "model_name": "LayoutModel",
      "state": {
       "flex": "1 0 20em",
       "height": "3em",
       "width": "20em"
      }
     },
     "6166365acd434859ba216ff701fa11c5": {
      "model_module": "jupyter-leaflet",
      "model_module_version": "^0.13.0",
      "model_name": "LeafletTileLayerModel",
      "state": {
       "_model_module_version": "^0.13.0",
       "_view_module_version": "^0.13.0",
       "attribution": "Tiles &copy; Esri &mdash; Source: Esri, i-cubed, USDA, USGS, AEX, GeoEye, Getmapping, Aerogrid, IGN, IGP, UPR-EGP, and the GIS User Community",
       "max_native_zoom": 18,
       "max_zoom": 20,
       "min_native_zoom": 0,
       "min_zoom": 1,
       "name": "Esri.WorldImagery",
       "options": [
        "attribution",
        "detect_retina",
        "max_native_zoom",
        "max_zoom",
        "min_native_zoom",
        "min_zoom",
        "no_wrap",
        "tile_size",
        "tms"
       ],
       "url": "http://server.arcgisonline.com/ArcGIS/rest/services/World_Imagery/MapServer/tile/{z}/{y}/{x}"
      }
     },
     "619a512ff494432da08e7e3f50733f32": {
      "model_module": "@jupyter-widgets/controls",
      "model_module_version": "1.5.0",
      "model_name": "ButtonStyleModel",
      "state": {
       "button_color": "green"
      }
     },
     "62182c7f15b8411e80980f591143ed4c": {
      "model_module": "jupyter-leaflet",
      "model_module_version": "^0.13.0",
      "model_name": "LeafletMapStyleModel",
      "state": {
       "_model_module_version": "^0.13.0"
      }
     },
     "63303524936949d49e49d21094774d6e": {
      "model_module": "@jupyter-widgets/base",
      "model_module_version": "1.2.0",
      "model_name": "LayoutModel",
      "state": {
       "width": "5em"
      }
     },
     "633246137c3c4adab74f9a86fe9e3e63": {
      "model_module": "@jupyter-widgets/base",
      "model_module_version": "1.2.0",
      "model_name": "LayoutModel",
      "state": {
       "height": "600px"
      }
     },
     "63890ce924014b2b9b465ed6bd31ff92": {
      "model_module": "@jupyter-widgets/controls",
      "model_module_version": "1.5.0",
      "model_name": "ButtonStyleModel",
      "state": {
       "button_color": "green"
      }
     },
     "640fe88c883d4ac9a4fa4e52020dab20": {
      "model_module": "@jupyter-widgets/controls",
      "model_module_version": "1.5.0",
      "model_name": "ButtonModel",
      "state": {
       "description": "done",
       "disabled": true,
       "layout": "IPY_MODEL_bb8969fdda434ff9911454150562515c",
       "style": "IPY_MODEL_578dadd77c654171bb811e721a821298"
      }
     },
     "645bff3eefea4717abb839437aa5ff69": {
      "model_module": "@jupyter-widgets/base",
      "model_module_version": "1.2.0",
      "model_name": "LayoutModel",
      "state": {
       "flex": "1 0 20em",
       "height": "3em",
       "width": "20em"
      }
     },
     "64605920809d43fc95a3290922cf8a69": {
      "model_module": "@jupyter-widgets/base",
      "model_module_version": "1.2.0",
      "model_name": "LayoutModel",
      "state": {
       "width": "5em"
      }
     },
     "6714bfaf5bbb4076a54130cd4bf2881a": {
      "model_module": "jupyter-leaflet",
      "model_module_version": "^0.13.0",
      "model_name": "LeafletAttributionControlModel",
      "state": {
       "_model_module_version": "^0.13.0",
       "_view_module_version": "^0.13.0",
       "options": [
        "position",
        "prefix"
       ],
       "position": "bottomright",
       "prefix": "Leaflet"
      }
     },
     "67bd3021e8694a9098d94387133cb3f1": {
      "model_module": "jupyter-leaflet",
      "model_module_version": "^0.13.0",
      "model_name": "LeafletWidgetControlModel",
      "state": {
       "_model_module": "jupyter-leaflet",
       "_model_module_version": "^0.13.0",
       "_view_count": null,
       "_view_module": "jupyter-leaflet",
       "_view_module_version": "^0.13.0",
       "options": [
        "position"
       ],
       "position": "bottomleft",
       "widget": "IPY_MODEL_826504b3af0c49d6a7463d1ed4487129"
      }
     },
     "67c4d40bb55c421eb18be33e127f371b": {
      "model_module": "jupyter-leaflet",
      "model_module_version": "^0.13.0",
      "model_name": "LeafletMapModel",
      "state": {
       "_model_module_version": "^0.13.0",
       "_view_module_version": "^0.13.0",
       "center": [
        -13.309406785813326,
        130.35415649414065
       ],
       "controls": [
        "IPY_MODEL_063ee6fb7c894298baa06296aa6a8ec0",
        "IPY_MODEL_47de05789d234f1eb44c2e222139fa00",
        "IPY_MODEL_174b05b700054551a506805387699841"
       ],
       "default_style": "IPY_MODEL_2f5d70fe0a5a40ccb55286cecac04a97",
       "dragging_style": "IPY_MODEL_4000ffc4b9124f20b5142b748116e5ed",
       "east": 131.17950439453128,
       "fullscreen": false,
       "interpolation": "bilinear",
       "layers": [
        "IPY_MODEL_f422419c62b140e99f76fb99c3a5ecc6",
        "IPY_MODEL_ac3b7bf41048455fb3049178e757a355"
       ],
       "layout": "IPY_MODEL_4fd31fca8b97486495801242e80f7284",
       "modisdate": "yesterday",
       "north": -12.90819810831852,
       "options": [
        "bounce_at_zoom_limits",
        "box_zoom",
        "center",
        "close_popup_on_click",
        "double_click_zoom",
        "dragging",
        "fullscreen",
        "inertia",
        "inertia_deceleration",
        "inertia_max_speed",
        "interpolation",
        "keyboard",
        "keyboard_pan_offset",
        "keyboard_zoom_offset",
        "max_zoom",
        "min_zoom",
        "scroll_wheel_zoom",
        "tap",
        "tap_tolerance",
        "touch_zoom",
        "world_copy_jump",
        "zoom",
        "zoom_animation_threshold",
        "zoom_start"
       ],
       "scroll_wheel_zoom": true,
       "south": -13.710035342476669,
       "style": "IPY_MODEL_2f5d70fe0a5a40ccb55286cecac04a97",
       "west": 129.52880859375003,
       "window_url": "https://app.sandbox.dea.ga.gov.au/user/robbibt/lab?",
       "zoom": 10
      }
     },
     "682a638a2e1b4613bee8c5716f250d68": {
      "model_module": "jupyter-leaflet",
      "model_module_version": "^0.13.0",
      "model_name": "LeafletFullScreenControlModel",
      "state": {
       "_model_module_version": "^0.13.0",
       "_view_module_version": "^0.13.0",
       "options": [
        "position"
       ]
      }
     },
     "685d4043e1fb4768892d4bc910a2e104": {
      "model_module": "@jupyter-widgets/base",
      "model_module_version": "1.2.0",
      "model_name": "LayoutModel",
      "state": {
       "height": "600px"
      }
     },
     "69597ebded5348128f001275adc0fed8": {
      "model_module": "@jupyter-widgets/controls",
      "model_module_version": "1.5.0",
      "model_name": "ButtonModel",
      "state": {
       "description": "done",
       "disabled": true,
       "layout": "IPY_MODEL_7396b45274ba4722b9a98892e3edec9a",
       "style": "IPY_MODEL_5327134cffc24d96b8323a79e78aca1f"
      }
     },
     "6a98841bc1e148eb80089eef48949aa0": {
      "model_module": "jupyter-leaflet",
      "model_module_version": "^0.13.0",
      "model_name": "LeafletWidgetControlModel",
      "state": {
       "_model_module": "jupyter-leaflet",
       "_model_module_version": "^0.13.0",
       "_view_count": null,
       "_view_module": "jupyter-leaflet",
       "_view_module_version": "^0.13.0",
       "options": [
        "position"
       ],
       "position": "topright",
       "widget": "IPY_MODEL_b25ddf010cfc45cfb0301cdfdc171b1b"
      }
     },
     "6aba478af6c94509ac2569cc8214f311": {
      "model_module": "jupyter-leaflet",
      "model_module_version": "^0.13.0",
      "model_name": "LeafletTileLayerModel",
      "state": {
       "_model_module_version": "^0.13.0",
       "_view_module_version": "^0.13.0",
       "max_native_zoom": 18,
       "max_zoom": 19,
       "min_native_zoom": 0,
       "min_zoom": 1,
       "name": "OpenStreetMap.Mapnik",
       "options": [
        "attribution",
        "detect_retina",
        "max_native_zoom",
        "max_zoom",
        "min_native_zoom",
        "min_zoom",
        "no_wrap",
        "tile_size",
        "tms"
       ]
      }
     },
     "6b5cbe509caa493aa86adb422aaf6413": {
      "model_module": "jupyter-leaflet",
      "model_module_version": "^0.13.0",
      "model_name": "LeafletMapModel",
      "state": {
       "_model_module_version": "^0.13.0",
       "_view_module_version": "^0.13.0",
       "center": [
        -13.262669837828147,
        130.3349304199219
       ],
       "controls": [
        "IPY_MODEL_ebd4d2c15eba4e3b8f92c2747a60220c",
        "IPY_MODEL_c0645b3c2cc1497795303c68a2a62cf1",
        "IPY_MODEL_e5911f2510cd464e9159a471737f40c9"
       ],
       "default_style": "IPY_MODEL_d0856546c88f4cc2ac299c0f21ad7192",
       "dragging_style": "IPY_MODEL_78c1abf2c086413893cb043b4131495f",
       "east": 131.16027832031253,
       "fullscreen": false,
       "interpolation": "bilinear",
       "layers": [
        "IPY_MODEL_28f6309118014b46934282e58b8a0753",
        "IPY_MODEL_aea9336ae3e1426aacb4a14a2b9d2903"
       ],
       "layout": "IPY_MODEL_8f195a268892483085f87d834613e2ac",
       "modisdate": "yesterday",
       "north": -12.86134318154514,
       "options": [
        "bounce_at_zoom_limits",
        "box_zoom",
        "center",
        "close_popup_on_click",
        "double_click_zoom",
        "dragging",
        "fullscreen",
        "inertia",
        "inertia_deceleration",
        "inertia_max_speed",
        "interpolation",
        "keyboard",
        "keyboard_pan_offset",
        "keyboard_zoom_offset",
        "max_zoom",
        "min_zoom",
        "scroll_wheel_zoom",
        "tap",
        "tap_tolerance",
        "touch_zoom",
        "world_copy_jump",
        "zoom",
        "zoom_animation_threshold",
        "zoom_start"
       ],
       "scroll_wheel_zoom": true,
       "south": -13.663335011040541,
       "style": "IPY_MODEL_d0856546c88f4cc2ac299c0f21ad7192",
       "west": 129.50958251953128,
       "window_url": "https://app.sandbox.dea.ga.gov.au/user/robbibt/lab?",
       "zoom": 10
      }
     },
     "6b73309c3d184801b84dbf21ff208e38": {
      "model_module": "jupyter-leaflet",
      "model_module_version": "^0.13.0",
      "model_name": "LeafletMapStyleModel",
      "state": {
       "_model_module_version": "^0.13.0"
      }
     },
     "6bf53ec75695459a915f2f4ec9ea11aa": {
      "model_module": "jupyter-leaflet",
      "model_module_version": "^0.13.0",
      "model_name": "LeafletFullScreenControlModel",
      "state": {
       "_model_module_version": "^0.13.0",
       "_view_module_version": "^0.13.0",
       "options": [
        "position"
       ]
      }
     },
     "6c39b583502b42a9a08f3abbecb764f5": {
      "model_module": "jupyter-leaflet",
      "model_module_version": "^0.13.0",
      "model_name": "LeafletWMSLayerModel",
      "state": {
       "_model_module_version": "^0.13.0",
       "_view_module_version": "^0.13.0",
       "attribution": "Weather data © 2012 IEM Nexrad",
       "crs": {
        "custom": false,
        "name": "EPSG3857"
       },
       "format": "image/png",
       "layers": "ga_ls_ard_3",
       "max_native_zoom": 18,
       "min_native_zoom": 0,
       "options": [
        "attribution",
        "detect_retina",
        "format",
        "layers",
        "max_native_zoom",
        "max_zoom",
        "min_native_zoom",
        "min_zoom",
        "no_wrap",
        "styles",
        "tile_size",
        "time",
        "tms",
        "transparent",
        "uppercase"
       ],
       "time": "2005-08-29",
       "transparent": true,
       "url": "https://ows.dea.ga.gov.au/"
      }
     },
     "6cefffc90ccf4bc5853c6902f17ff627": {
      "model_module": "jupyter-leaflet",
      "model_module_version": "^0.13.0",
      "model_name": "LeafletDrawControlModel",
      "state": {
       "_model_module_version": "^0.13.0",
       "_view_module_version": "^0.13.0",
       "options": [
        "position"
       ],
       "polygon": {
        "shapeOptions": {
         "color": "#000000",
         "editing": {
          "color": "#000000",
          "fillColor": "#fca45d",
          "fillOpacity": 0.1
         },
         "fillColor": "#fca45d",
         "fillOpacity": 0.1,
         "original": {
          "color": "#000000",
          "fillColor": "#fca45d",
          "fillOpacity": 0.1
         }
        }
       },
       "polyline": {},
       "rectangle": {
        "metric": [
         "km",
         "m"
        ],
        "shapeOptions": {
         "color": "#000000",
         "fillColor": "#fca45d",
         "fillOpacity": 0.1
        }
       }
      }
     },
     "6d4d73e88e8b440db737e196b90d4ec3": {
      "model_module": "@jupyter-widgets/base",
      "model_module_version": "1.2.0",
      "model_name": "LayoutModel",
      "state": {
       "width": "5em"
      }
     },
     "6e46617e868e40b9b74eb6b73ab307d5": {
      "model_module": "jupyter-leaflet",
      "model_module_version": "^0.13.0",
      "model_name": "LeafletDrawControlModel",
      "state": {
       "_model_module_version": "^0.13.0",
       "_view_module_version": "^0.13.0",
       "options": [
        "position"
       ],
       "polygon": {
        "shapeOptions": {
         "color": "#000000",
         "editing": {
          "color": "#000000",
          "fillColor": "#fca45d",
          "fillOpacity": 0.1
         },
         "fillColor": "#fca45d",
         "fillOpacity": 0.1,
         "original": {
          "color": "#000000",
          "fillColor": "#fca45d",
          "fillOpacity": 0.1
         }
        }
       },
       "polyline": {},
       "rectangle": {
        "metric": [
         "km",
         "m"
        ],
        "shapeOptions": {
         "color": "#000000",
         "fillColor": "#fca45d",
         "fillOpacity": 0.1
        }
       }
      }
     },
     "6efa720808f646c881302d9e03938bc8": {
      "model_module": "@jupyter-widgets/controls",
      "model_module_version": "1.5.0",
      "model_name": "ButtonStyleModel",
      "state": {
       "button_color": "green"
      }
     },
     "6f251c1ad8944697b01317192e5b5fcf": {
      "model_module": "@jupyter-widgets/base",
      "model_module_version": "1.2.0",
      "model_name": "LayoutModel",
      "state": {
       "height": "600px"
      }
     },
     "6f557b166aec45f687b1f46a535f0cbf": {
      "model_module": "@jupyter-widgets/base",
      "model_module_version": "1.2.0",
      "model_name": "LayoutModel",
      "state": {
       "flex": "1 0 20em",
       "height": "3em",
       "width": "20em"
      }
     },
     "6f828d061bd54017bb7e2cf61fdc9e21": {
      "model_module": "@jupyter-widgets/base",
      "model_module_version": "1.2.0",
      "model_name": "LayoutModel",
      "state": {
       "height": "600px"
      }
     },
     "6f9deb0b06a7402dacb1192928d5710f": {
      "model_module": "jupyter-leaflet",
      "model_module_version": "^0.13.0",
      "model_name": "LeafletZoomControlModel",
      "state": {
       "_model_module_version": "^0.13.0",
       "_view_module_version": "^0.13.0",
       "options": [
        "position",
        "zoom_in_text",
        "zoom_in_title",
        "zoom_out_text",
        "zoom_out_title"
       ]
      }
     },
     "7042363c33624f02b0131fbb508cccd9": {
      "model_module": "jupyter-leaflet",
      "model_module_version": "^0.13.0",
      "model_name": "LeafletMapStyleModel",
      "state": {
       "_model_module_version": "^0.13.0"
      }
     },
     "719700ee59da44ca9e0cdc30403be306": {
      "model_module": "@jupyter-widgets/controls",
      "model_module_version": "1.5.0",
      "model_name": "ButtonModel",
      "state": {
       "description": "done",
       "disabled": true,
       "layout": "IPY_MODEL_6d4d73e88e8b440db737e196b90d4ec3",
       "style": "IPY_MODEL_e2a0e541c0794f6fb3c6dcbe2dfc46c9"
      }
     },
     "71dc786b431642868478e3aecd326891": {
      "model_module": "jupyter-leaflet",
      "model_module_version": "^0.13.0",
      "model_name": "LeafletMapStyleModel",
      "state": {
       "_model_module_version": "^0.13.0",
       "cursor": "move"
      }
     },
     "7215fd4f7ea04f56950e6db7101307ef": {
      "model_module": "jupyter-leaflet",
      "model_module_version": "^0.13.0",
      "model_name": "LeafletWMSLayerModel",
      "state": {
       "_model_module_version": "^0.13.0",
       "_view_module_version": "^0.13.0",
       "attribution": "Weather data © 2012 IEM Nexrad",
       "crs": {
        "custom": false,
        "name": "EPSG3857"
       },
       "format": "image/png",
       "layers": "ga_ls_ard_3",
       "max_native_zoom": 18,
       "min_native_zoom": 0,
       "options": [
        "attribution",
        "detect_retina",
        "format",
        "layers",
        "max_native_zoom",
        "max_zoom",
        "min_native_zoom",
        "min_zoom",
        "no_wrap",
        "styles",
        "tile_size",
        "time",
        "tms",
        "transparent",
        "uppercase"
       ],
       "time": "2005-08-30",
       "transparent": true,
       "url": "https://ows.dea.ga.gov.au/"
      }
     },
     "724ba25f189d4f3eb7f03a77feef5865": {
      "model_module": "jupyter-leaflet",
      "model_module_version": "^0.13.0",
      "model_name": "LeafletTileLayerModel",
      "state": {
       "_model_module_version": "^0.13.0",
       "_view_module_version": "^0.13.0",
       "attribution": "Tiles &copy; Esri &mdash; Source: Esri, i-cubed, USDA, USGS, AEX, GeoEye, Getmapping, Aerogrid, IGN, IGP, UPR-EGP, and the GIS User Community",
       "max_native_zoom": 18,
       "max_zoom": 20,
       "min_native_zoom": 0,
       "min_zoom": 1,
       "name": "Esri.WorldImagery",
       "options": [
        "attribution",
        "detect_retina",
        "max_native_zoom",
        "max_zoom",
        "min_native_zoom",
        "min_zoom",
        "no_wrap",
        "tile_size",
        "tms"
       ],
       "url": "http://server.arcgisonline.com/ArcGIS/rest/services/World_Imagery/MapServer/tile/{z}/{y}/{x}"
      }
     },
     "72c7edd7f72e49e1bd5a888b71e501ec": {
      "model_module": "jupyter-leaflet",
      "model_module_version": "^0.13.0",
      "model_name": "LeafletWidgetControlModel",
      "state": {
       "_model_module": "jupyter-leaflet",
       "_model_module_version": "^0.13.0",
       "_view_count": null,
       "_view_module": "jupyter-leaflet",
       "_view_module_version": "^0.13.0",
       "options": [
        "position"
       ],
       "position": "topright",
       "widget": "IPY_MODEL_d82fd4bbb0f34766bd782114ab491390"
      }
     },
     "72d41bd4d6e74d18901a4f5503614d5d": {
      "model_module": "@jupyter-widgets/base",
      "model_module_version": "1.2.0",
      "model_name": "LayoutModel",
      "state": {
       "height": "600px"
      }
     },
     "7396b45274ba4722b9a98892e3edec9a": {
      "model_module": "@jupyter-widgets/base",
      "model_module_version": "1.2.0",
      "model_name": "LayoutModel",
      "state": {
       "width": "5em"
      }
     },
     "73b174a5d1144885a19f3e4eb60e6b95": {
      "model_module": "@jupyter-widgets/base",
      "model_module_version": "1.2.0",
      "model_name": "LayoutModel",
      "state": {
       "height": "600px"
      }
     },
     "74d46223ca1f4cdba4b0e3590f652417": {
      "model_module": "jupyter-leaflet",
      "model_module_version": "^0.13.0",
      "model_name": "LeafletAttributionControlModel",
      "state": {
       "_model_module_version": "^0.13.0",
       "_view_module_version": "^0.13.0",
       "options": [
        "position",
        "prefix"
       ],
       "position": "bottomright",
       "prefix": "Leaflet"
      }
     },
     "74e787352b434808a4ed469ffad6c7a6": {
      "model_module": "@jupyter-widgets/base",
      "model_module_version": "1.2.0",
      "model_name": "LayoutModel",
      "state": {
       "flex": "1 0 20em",
       "height": "3em",
       "width": "20em"
      }
     },
     "7572a9477c5f4b60903bcc270a8fc387": {
      "model_module": "jupyter-leaflet",
      "model_module_version": "^0.13.0",
      "model_name": "LeafletAttributionControlModel",
      "state": {
       "_model_module_version": "^0.13.0",
       "_view_module_version": "^0.13.0",
       "options": [
        "position",
        "prefix"
       ],
       "position": "bottomright",
       "prefix": "Leaflet"
      }
     },
     "7629b436f98d430ebda999ef441da956": {
      "model_module": "jupyter-leaflet",
      "model_module_version": "^0.13.0",
      "model_name": "LeafletWMSLayerModel",
      "state": {
       "_model_module_version": "^0.13.0",
       "_view_module_version": "^0.13.0",
       "attribution": "Digital Earth Australia",
       "crs": {
        "custom": false,
        "name": "EPSG3857"
       },
       "format": "image/png",
       "layers": "ga_ls_ard_3",
       "max_native_zoom": 18,
       "min_native_zoom": 0,
       "options": [
        "attribution",
        "detect_retina",
        "format",
        "layers",
        "max_native_zoom",
        "max_zoom",
        "min_native_zoom",
        "min_zoom",
        "no_wrap",
        "styles",
        "tile_size",
        "time",
        "tms",
        "transparent",
        "uppercase"
       ],
       "time": "2019-01-01",
       "transparent": true,
       "url": "https://ows.dea.ga.gov.au/"
      }
     },
     "762d7914c2294ef6bea89384b2726ad2": {
      "model_module": "jupyter-leaflet",
      "model_module_version": "^0.13.0",
      "model_name": "LeafletAttributionControlModel",
      "state": {
       "_model_module_version": "^0.13.0",
       "_view_module_version": "^0.13.0",
       "options": [
        "position",
        "prefix"
       ],
       "position": "bottomright",
       "prefix": "Leaflet"
      }
     },
     "7641411eceae4a88bae667c369a6bf14": {
      "model_module": "jupyter-leaflet",
      "model_module_version": "^0.13.0",
      "model_name": "LeafletMapModel",
      "state": {
       "_model_module_version": "^0.13.0",
       "_view_module_version": "^0.13.0",
       "center": [
        -13.496431035548778,
        130.4722595214844
       ],
       "controls": [
        "IPY_MODEL_500a54447f554ca6b207eae31a543a75",
        "IPY_MODEL_fff7b24553f747d4975bc94be65d23f1",
        "IPY_MODEL_1b337b292e734e499f68da49b121116f"
       ],
       "default_style": "IPY_MODEL_2679d72f6dc9451b805580e165a2939b",
       "dragging_style": "IPY_MODEL_c6e62fcfc8a44016bacc5eaf3dffc2d9",
       "east": 131.29760742187503,
       "fullscreen": false,
       "interpolation": "bilinear",
       "layers": [
        "IPY_MODEL_7f4f09670490452b8c7ad7168f7af0bd",
        "IPY_MODEL_2bce8fdcd7ec4bd4ae0ab06e70857243"
       ],
       "layout": "IPY_MODEL_9b7360b2b54c42c086d517210e8be776",
       "modisdate": "yesterday",
       "north": -13.095529720741482,
       "options": [
        "bounce_at_zoom_limits",
        "box_zoom",
        "center",
        "close_popup_on_click",
        "double_click_zoom",
        "dragging",
        "fullscreen",
        "inertia",
        "inertia_deceleration",
        "inertia_max_speed",
        "interpolation",
        "keyboard",
        "keyboard_pan_offset",
        "keyboard_zoom_offset",
        "max_zoom",
        "min_zoom",
        "scroll_wheel_zoom",
        "tap",
        "tap_tolerance",
        "touch_zoom",
        "world_copy_jump",
        "zoom",
        "zoom_animation_threshold",
        "zoom_start"
       ],
       "scroll_wheel_zoom": true,
       "south": -13.896743534015751,
       "style": "IPY_MODEL_2679d72f6dc9451b805580e165a2939b",
       "west": 129.64691162109378,
       "window_url": "https://app.sandbox.dea.ga.gov.au/user/robbibt/lab?",
       "zoom": 10
      }
     },
     "7649b27c028842d8b394cbbc673cf4cd": {
      "model_module": "@jupyter-widgets/base",
      "model_module_version": "1.2.0",
      "model_name": "LayoutModel",
      "state": {
       "flex": "1 0 20em",
       "height": "3em",
       "width": "20em"
      }
     },
     "766a0c18346642fd8758fa41beee56f6": {
      "model_module": "jupyter-leaflet",
      "model_module_version": "^0.13.0",
      "model_name": "LeafletMapStyleModel",
      "state": {
       "_model_module_version": "^0.13.0"
      }
     },
     "76c8baee03584e26bf6b2fa44c5cb154": {
      "model_module": "jupyter-leaflet",
      "model_module_version": "^0.13.0",
      "model_name": "LeafletMapStyleModel",
      "state": {
       "_model_module_version": "^0.13.0"
      }
     },
     "77c1c88ebc974c9b9556db5c0607a7de": {
      "model_module": "jupyter-leaflet",
      "model_module_version": "^0.13.0",
      "model_name": "LeafletDrawControlModel",
      "state": {
       "_model_module_version": "^0.13.0",
       "_view_module_version": "^0.13.0",
       "options": [
        "position"
       ],
       "polygon": {
        "shapeOptions": {
         "color": "#000000",
         "editing": {
          "color": "#000000",
          "fillColor": "#fca45d",
          "fillOpacity": 0.1
         },
         "fillColor": "#fca45d",
         "fillOpacity": 0.1,
         "original": {
          "color": "#000000",
          "fillColor": "#fca45d",
          "fillOpacity": 0.1
         }
        }
       },
       "polyline": {},
       "rectangle": {
        "metric": [
         "km",
         "m"
        ],
        "shapeOptions": {
         "color": "#000000",
         "fillColor": "#fca45d",
         "fillOpacity": 0.1
        }
       }
      }
     },
     "77d6cf37b2e545af921f68cdb3b5ed99": {
      "model_module": "jupyter-leaflet",
      "model_module_version": "^0.13.0",
      "model_name": "LeafletWidgetControlModel",
      "state": {
       "_model_module": "jupyter-leaflet",
       "_model_module_version": "^0.13.0",
       "_view_count": null,
       "_view_module": "jupyter-leaflet",
       "_view_module_version": "^0.13.0",
       "options": [
        "position"
       ],
       "position": "bottomleft",
       "widget": "IPY_MODEL_25991ce3dc14462bae370269714cbc4b"
      }
     },
     "785546b18d99469789ff35fa95f08d07": {
      "model_module": "@jupyter-widgets/base",
      "model_module_version": "1.2.0",
      "model_name": "LayoutModel",
      "state": {
       "width": "5em"
      }
     },
     "7856c029d1054147a651766ab9f9db42": {
      "model_module": "jupyter-leaflet",
      "model_module_version": "^0.13.0",
      "model_name": "LeafletTileLayerModel",
      "state": {
       "_model_module_version": "^0.13.0",
       "_view_module_version": "^0.13.0",
       "max_native_zoom": 18,
       "max_zoom": 19,
       "min_native_zoom": 0,
       "min_zoom": 1,
       "name": "OpenStreetMap.Mapnik",
       "options": [
        "attribution",
        "detect_retina",
        "max_native_zoom",
        "max_zoom",
        "min_native_zoom",
        "min_zoom",
        "no_wrap",
        "tile_size",
        "tms"
       ]
      }
     },
     "7871a9219fbb4c1292727a0d249e2066": {
      "model_module": "@jupyter-widgets/controls",
      "model_module_version": "1.5.0",
      "model_name": "HTMLModel",
      "state": {
       "layout": "IPY_MODEL_6f557b166aec45f687b1f46a535f0cbf",
       "style": "IPY_MODEL_ce18aa55cf1c445aa9e7eb16af82c775",
       "value": "<pre style=\"color:grey\">lat: [-32.7832, -32.4362]\nlon: [134.8867, 135.7121]</pre>"
      }
     },
     "78ae220d32934751b4bdd04f2950bfa5": {
      "model_module": "@jupyter-widgets/controls",
      "model_module_version": "1.5.0",
      "model_name": "ButtonModel",
      "state": {
       "description": "done",
       "disabled": true,
       "layout": "IPY_MODEL_64605920809d43fc95a3290922cf8a69",
       "style": "IPY_MODEL_bf76d423eb5942de819f8e41931adc9b"
      }
     },
     "78c1abf2c086413893cb043b4131495f": {
      "model_module": "jupyter-leaflet",
      "model_module_version": "^0.13.0",
      "model_name": "LeafletMapStyleModel",
      "state": {
       "_model_module_version": "^0.13.0",
       "cursor": "move"
      }
     },
     "78dfeec4ecc546e89ddd9c7b70b131e0": {
      "model_module": "@jupyter-widgets/controls",
      "model_module_version": "1.5.0",
      "model_name": "HTMLModel",
      "state": {
       "layout": "IPY_MODEL_b0b6152c058c4253930109628ccb6fdf",
       "style": "IPY_MODEL_b65fad244f6c464988a8a488b66a15b1",
       "value": "<pre style=\"color:grey\">lat: [-13.6420, -12.8399]\nlon: [129.4958, 131.1465]</pre>"
      }
     },
     "78e062f1677d4713a3ecc53c96a7ca5f": {
      "model_module": "jupyter-leaflet",
      "model_module_version": "^0.13.0",
      "model_name": "LeafletWidgetControlModel",
      "state": {
       "_model_module": "jupyter-leaflet",
       "_model_module_version": "^0.13.0",
       "_view_count": null,
       "_view_module": "jupyter-leaflet",
       "_view_module_version": "^0.13.0",
       "options": [
        "position"
       ],
       "position": "bottomleft",
       "widget": "IPY_MODEL_7871a9219fbb4c1292727a0d249e2066"
      }
     },
     "790aa8133cfd4e998ff83bb4373004ce": {
      "model_module": "@jupyter-widgets/base",
      "model_module_version": "1.2.0",
      "model_name": "LayoutModel",
      "state": {
       "flex": "1 0 20em",
       "height": "3em",
       "width": "20em"
      }
     },
     "7952ab08821b430baa8306669b2ace5d": {
      "model_module": "@jupyter-widgets/base",
      "model_module_version": "1.2.0",
      "model_name": "LayoutModel",
      "state": {
       "height": "600px"
      }
     },
     "7a92f2cb64af47278c5e9c621f3fbd1d": {
      "model_module": "@jupyter-widgets/controls",
      "model_module_version": "1.5.0",
      "model_name": "DescriptionStyleModel",
      "state": {
       "description_width": ""
      }
     },
     "7bce19f2c3724ae293054a699b26154c": {
      "model_module": "@jupyter-widgets/controls",
      "model_module_version": "1.5.0",
      "model_name": "DescriptionStyleModel",
      "state": {
       "description_width": ""
      }
     },
     "7c6430eb6d6340d1bf26abd7bbbc10f1": {
      "model_module": "@jupyter-widgets/base",
      "model_module_version": "1.2.0",
      "model_name": "LayoutModel",
      "state": {
       "width": "5em"
      }
     },
     "7cfb498acf1f4bf3b2c5ca1771b52668": {
      "model_module": "@jupyter-widgets/controls",
      "model_module_version": "1.5.0",
      "model_name": "HTMLModel",
      "state": {
       "layout": "IPY_MODEL_ba9af3f8e4754052b8888fe50a7e7e4c",
       "style": "IPY_MODEL_7bce19f2c3724ae293054a699b26154c",
       "value": "<pre style=\"color:grey\">lat: [-29.4013, -27.9556]\nlon: [142.7646, 146.0660]</pre>"
      }
     },
     "7d3bcc8fe5cc4f4599ed10776bffc312": {
      "model_module": "jupyter-leaflet",
      "model_module_version": "^0.13.0",
      "model_name": "LeafletMapStyleModel",
      "state": {
       "_model_module_version": "^0.13.0",
       "cursor": "move"
      }
     },
     "7e8638ef458a49e597b8cfcf95e6aca6": {
      "model_module": "@jupyter-widgets/base",
      "model_module_version": "1.2.0",
      "model_name": "LayoutModel",
      "state": {
       "height": "600px"
      }
     },
     "7f41d6eb4088487983ce96960924ba77": {
      "model_module": "jupyter-leaflet",
      "model_module_version": "^0.13.0",
      "model_name": "LeafletAttributionControlModel",
      "state": {
       "_model_module_version": "^0.13.0",
       "_view_module_version": "^0.13.0",
       "options": [
        "position",
        "prefix"
       ],
       "position": "bottomright",
       "prefix": "Leaflet"
      }
     },
     "7f4f09670490452b8c7ad7168f7af0bd": {
      "model_module": "jupyter-leaflet",
      "model_module_version": "^0.13.0",
      "model_name": "LeafletTileLayerModel",
      "state": {
       "_model_module_version": "^0.13.0",
       "_view_module_version": "^0.13.0",
       "max_native_zoom": 18,
       "max_zoom": 19,
       "min_native_zoom": 0,
       "min_zoom": 1,
       "name": "OpenStreetMap.Mapnik",
       "options": [
        "attribution",
        "detect_retina",
        "max_native_zoom",
        "max_zoom",
        "min_native_zoom",
        "min_zoom",
        "no_wrap",
        "tile_size",
        "tms"
       ]
      }
     },
     "7f97244a465d46318cf4b16b49926d59": {
      "model_module": "jupyter-leaflet",
      "model_module_version": "^0.13.0",
      "model_name": "LeafletWidgetControlModel",
      "state": {
       "_model_module": "jupyter-leaflet",
       "_model_module_version": "^0.13.0",
       "_view_count": null,
       "_view_module": "jupyter-leaflet",
       "_view_module_version": "^0.13.0",
       "options": [
        "position"
       ],
       "position": "topright",
       "widget": "IPY_MODEL_3efe98a06a6243ee8cc0e0803f8595b1"
      }
     },
     "80cee79afe7f438392f7619d9320732e": {
      "model_module": "jupyter-leaflet",
      "model_module_version": "^0.13.0",
      "model_name": "LeafletMapStyleModel",
      "state": {
       "_model_module_version": "^0.13.0"
      }
     },
     "81618083b8174bf890a7a5150457dbcd": {
      "model_module": "@jupyter-widgets/controls",
      "model_module_version": "1.5.0",
      "model_name": "HTMLModel",
      "state": {
       "layout": "IPY_MODEL_c7ff4aac46314ac59a04ccbe9b9cfcd9",
       "style": "IPY_MODEL_41fb8ca7eef94aef988865f28e2661c5",
       "value": "<pre style=\"color:grey\">lat: [-13.7100, -12.9082]\nlon: [129.5288, 131.1795]</pre>"
      }
     },
     "81a3b306b2db4b4fa74781ed1407050b": {
      "model_module": "@jupyter-widgets/base",
      "model_module_version": "1.2.0",
      "model_name": "LayoutModel",
      "state": {
       "height": "600px"
      }
     },
     "82391777c6c44ef7876840c136e0777f": {
      "model_module": "@jupyter-widgets/base",
      "model_module_version": "1.2.0",
      "model_name": "LayoutModel",
      "state": {
       "flex": "1 0 20em",
       "height": "3em",
       "width": "20em"
      }
     },
     "826504b3af0c49d6a7463d1ed4487129": {
      "model_module": "@jupyter-widgets/controls",
      "model_module_version": "1.5.0",
      "model_name": "HTMLModel",
      "state": {
       "layout": "IPY_MODEL_74e787352b434808a4ed469ffad6c7a6",
       "style": "IPY_MODEL_5affcc98f5d144a8bb2927fdd72bfd6b",
       "value": "<pre style=\"color:grey\">lat: [-13.6887, -12.8868]\nlon: [129.5316, 131.1823]</pre>"
      }
     },
     "827d82397c9240d69693aacd0358ef5f": {
      "model_module": "jupyter-leaflet",
      "model_module_version": "^0.13.0",
      "model_name": "LeafletMapStyleModel",
      "state": {
       "_model_module_version": "^0.13.0",
       "cursor": "move"
      }
     },
     "83156d4d3ccf496d81016af6f8ef710d": {
      "model_module": "jupyter-leaflet",
      "model_module_version": "^0.13.0",
      "model_name": "LeafletMapStyleModel",
      "state": {
       "_model_module_version": "^0.13.0"
      }
     },
     "83796f47b3ef4149af7dc84ea603435a": {
      "model_module": "@jupyter-widgets/controls",
      "model_module_version": "1.5.0",
      "model_name": "HTMLModel",
      "state": {
       "layout": "IPY_MODEL_9d9530173cf4468eba97d74727036ac1",
       "style": "IPY_MODEL_99904ce82e154b2c903933077bdad452",
       "value": "<pre style=\"color:grey\">lat: [-13.6633, -12.8613]\nlon: [129.5096, 131.1603]</pre>"
      }
     },
     "83e53878403949f4810ced8a690dbb8d": {
      "model_module": "@jupyter-widgets/controls",
      "model_module_version": "1.5.0",
      "model_name": "DescriptionStyleModel",
      "state": {
       "description_width": ""
      }
     },
     "847c0557738e41aca20bc53a09fa5325": {
      "model_module": "@jupyter-widgets/controls",
      "model_module_version": "1.5.0",
      "model_name": "ButtonStyleModel",
      "state": {
       "button_color": "green"
      }
     },
     "84d8903b81eb4d06a02a0001a6d744be": {
      "model_module": "jupyter-leaflet",
      "model_module_version": "^0.13.0",
      "model_name": "LeafletMapStyleModel",
      "state": {
       "_model_module_version": "^0.13.0"
      }
     },
     "852831efc8d349faaf07b10debaa8237": {
      "model_module": "@jupyter-widgets/base",
      "model_module_version": "1.2.0",
      "model_name": "LayoutModel",
      "state": {
       "width": "5em"
      }
     },
     "85360f1b6c2b4fefabdced11f3f087b8": {
      "model_module": "@jupyter-widgets/base",
      "model_module_version": "1.2.0",
      "model_name": "LayoutModel",
      "state": {
       "width": "5em"
      }
     },
     "858bc88646664b28828a4ebb0b69af20": {
      "model_module": "jupyter-leaflet",
      "model_module_version": "^0.13.0",
      "model_name": "LeafletWidgetControlModel",
      "state": {
       "_model_module": "jupyter-leaflet",
       "_model_module_version": "^0.13.0",
       "_view_count": null,
       "_view_module": "jupyter-leaflet",
       "_view_module_version": "^0.13.0",
       "options": [
        "position"
       ],
       "position": "bottomleft",
       "widget": "IPY_MODEL_aa06d8161be04751b11de55a9e1f0f9a"
      }
     },
     "862507bc2ffc44ac90885edc2f2dcfa3": {
      "model_module": "jupyter-leaflet",
      "model_module_version": "^0.13.0",
      "model_name": "LeafletMapStyleModel",
      "state": {
       "_model_module_version": "^0.13.0",
       "cursor": "move"
      }
     },
     "863a7fc5c3974c0f8c5890bfad5c49b7": {
      "model_module": "jupyter-leaflet",
      "model_module_version": "^0.13.0",
      "model_name": "LeafletMapStyleModel",
      "state": {
       "_model_module_version": "^0.13.0"
      }
     },
     "8680424cedee4e1fb13af37edbaf6185": {
      "model_module": "@jupyter-widgets/controls",
      "model_module_version": "1.5.0",
      "model_name": "HTMLModel",
      "state": {
       "layout": "IPY_MODEL_f307295d7a8d43269a705d77f5ad9917",
       "style": "IPY_MODEL_c138314a3fd34e51a72cd8e932d39ff5",
       "value": "<pre style=\"color:grey\">lat: [-33.8453, -32.4657]\nlon: [145.1898, 148.4912]</pre>"
      }
     },
     "869ed8cd13e249dfadb3e8a440af2eca": {
      "model_module": "@jupyter-widgets/controls",
      "model_module_version": "1.5.0",
      "model_name": "HTMLModel",
      "state": {
       "layout": "IPY_MODEL_790aa8133cfd4e998ff83bb4373004ce",
       "style": "IPY_MODEL_1f124a088e594bee9a3428471f6b9f1c",
       "value": "<pre style=\"color:grey\">lat: [-30.7182, -29.2912]\nlon: [145.0360, 148.3374]</pre>"
      }
     },
     "87bb4718c63f4cb8baa86c2462cc67ca": {
      "model_module": "jupyter-leaflet",
      "model_module_version": "^0.13.0",
      "model_name": "LeafletWidgetControlModel",
      "state": {
       "_model_module": "jupyter-leaflet",
       "_model_module_version": "^0.13.0",
       "_view_count": null,
       "_view_module": "jupyter-leaflet",
       "_view_module_version": "^0.13.0",
       "options": [
        "position"
       ],
       "position": "topright",
       "widget": "IPY_MODEL_dccd7824b2694f089a1d7bdd160ae7ce"
      }
     },
     "882c8411c3f846c48b5d85f66a2be24b": {
      "model_module": "jupyter-leaflet",
      "model_module_version": "^0.13.0",
      "model_name": "LeafletAttributionControlModel",
      "state": {
       "_model_module_version": "^0.13.0",
       "_view_module_version": "^0.13.0",
       "options": [
        "position",
        "prefix"
       ],
       "position": "bottomright",
       "prefix": "Leaflet"
      }
     },
     "895d29ba64424108a18013febc3ba505": {
      "model_module": "jupyter-leaflet",
      "model_module_version": "^0.13.0",
      "model_name": "LeafletWidgetControlModel",
      "state": {
       "_model_module": "jupyter-leaflet",
       "_model_module_version": "^0.13.0",
       "_view_count": null,
       "_view_module": "jupyter-leaflet",
       "_view_module_version": "^0.13.0",
       "options": [
        "position"
       ],
       "position": "bottomleft",
       "widget": "IPY_MODEL_5e8a3ce9ea80449bbef60fed6d9e7035"
      }
     },
     "8977e3fb41d543e3a6eb5eba107fa01a": {
      "model_module": "jupyter-leaflet",
      "model_module_version": "^0.13.0",
      "model_name": "LeafletMapModel",
      "state": {
       "_model_module_version": "^0.13.0",
       "_view_module_version": "^0.13.0",
       "center": [
        -30.881012137733634,
        139.91912841796878
       ],
       "controls": [
        "IPY_MODEL_3b846355237b407e9b20326fea6671d4",
        "IPY_MODEL_6102a909c8754b0f87a7de34f84062a3",
        "IPY_MODEL_6bf53ec75695459a915f2f4ec9ea11aa"
       ],
       "default_style": "IPY_MODEL_3c20040de4564e5c9b8c60e81e367203",
       "dragging_style": "IPY_MODEL_3d324b230dcb434aa01747f093e306ad",
       "east": 140.7444763183594,
       "fullscreen": false,
       "interpolation": "bilinear",
       "layers": [
        "IPY_MODEL_25b3751ddf9748d9bc060f3666a03820",
        "IPY_MODEL_2a993b758c8a4f3e820235b4ec0e9556"
       ],
       "layout": "IPY_MODEL_2ca99ac39ed145e3811b00653333dad3",
       "modisdate": "yesterday",
       "north": -30.526779182105784,
       "options": [
        "bounce_at_zoom_limits",
        "box_zoom",
        "center",
        "close_popup_on_click",
        "double_click_zoom",
        "dragging",
        "fullscreen",
        "inertia",
        "inertia_deceleration",
        "inertia_max_speed",
        "interpolation",
        "keyboard",
        "keyboard_pan_offset",
        "keyboard_zoom_offset",
        "max_zoom",
        "min_zoom",
        "scroll_wheel_zoom",
        "tap",
        "tap_tolerance",
        "touch_zoom",
        "world_copy_jump",
        "zoom",
        "zoom_animation_threshold",
        "zoom_start"
       ],
       "scroll_wheel_zoom": true,
       "south": -31.233940186109823,
       "style": "IPY_MODEL_3c20040de4564e5c9b8c60e81e367203",
       "west": 139.09378051757815,
       "window_url": "https://app.sandbox.dea.ga.gov.au/user/robbibt/lab?",
       "zoom": 10
      }
     },
     "89835726e10f4ceca5bd1dd7dd8f1788": {
      "model_module": "@jupyter-widgets/base",
      "model_module_version": "1.2.0",
      "model_name": "LayoutModel",
      "state": {
       "width": "5em"
      }
     },
     "899c120a6e1f4b4cac3fac279736983e": {
      "model_module": "@jupyter-widgets/controls",
      "model_module_version": "1.5.0",
      "model_name": "DescriptionStyleModel",
      "state": {
       "description_width": ""
      }
     },
     "89bce8502d9d4488b92837e0bb142a0c": {
      "model_module": "@jupyter-widgets/controls",
      "model_module_version": "1.5.0",
      "model_name": "ButtonStyleModel",
      "state": {
       "button_color": "green"
      }
     },
     "8a4e9656fa134224844ce2f987e7ce96": {
      "model_module": "@jupyter-widgets/base",
      "model_module_version": "1.2.0",
      "model_name": "LayoutModel",
      "state": {
       "flex": "1 0 20em",
       "height": "3em",
       "width": "20em"
      }
     },
     "8b1ffdf5d9d44c18badbe93e14202881": {
      "model_module": "@jupyter-widgets/base",
      "model_module_version": "1.2.0",
      "model_name": "LayoutModel",
      "state": {
       "flex": "1 0 20em",
       "height": "3em",
       "width": "20em"
      }
     },
     "8c0ff5f1d0c1422ebbdeeaaa0e234906": {
      "model_module": "@jupyter-widgets/controls",
      "model_module_version": "1.5.0",
      "model_name": "DescriptionStyleModel",
      "state": {
       "description_width": ""
      }
     },
     "8c17ed90cfca4e27b4ffb0b9943a52c0": {
      "model_module": "jupyter-leaflet",
      "model_module_version": "^0.13.0",
      "model_name": "LeafletDrawControlModel",
      "state": {
       "_model_module_version": "^0.13.0",
       "_view_module_version": "^0.13.0",
       "options": [
        "position"
       ],
       "polygon": {
        "shapeOptions": {
         "color": "#000000",
         "editing": {
          "color": "#000000",
          "fillColor": "#fca45d",
          "fillOpacity": 0.1
         },
         "fillColor": "#fca45d",
         "fillOpacity": 0.1,
         "original": {
          "color": "#000000",
          "fillColor": "#fca45d",
          "fillOpacity": 0.1
         }
        }
       },
       "polyline": {},
       "rectangle": {
        "metric": [
         "km",
         "m"
        ],
        "shapeOptions": {
         "color": "#000000",
         "fillColor": "#fca45d",
         "fillOpacity": 0.1
        }
       }
      }
     },
     "8c51e3bf18654c6fb9e2da06f657431c": {
      "model_module": "jupyter-leaflet",
      "model_module_version": "^0.13.0",
      "model_name": "LeafletWMSLayerModel",
      "state": {
       "_model_module_version": "^0.13.0",
       "_view_module_version": "^0.13.0",
       "attribution": "Digital Earth Australia",
       "crs": {
        "custom": false,
        "name": "EPSG3857"
       },
       "format": "image/png",
       "layers": "s2_nrt_granule_nbar_t",
       "max_native_zoom": 18,
       "min_native_zoom": 0,
       "options": [
        "attribution",
        "detect_retina",
        "format",
        "layers",
        "max_native_zoom",
        "max_zoom",
        "min_native_zoom",
        "min_zoom",
        "no_wrap",
        "styles",
        "tile_size",
        "time",
        "tms",
        "transparent",
        "uppercase"
       ],
       "time": "2021-09-01",
       "transparent": true,
       "url": "https://ows.dea.ga.gov.au/"
      }
     },
     "8c58309a62dc4fcda3d7df74f9b3265f": {
      "model_module": "jupyter-leaflet",
      "model_module_version": "^0.13.0",
      "model_name": "LeafletMapStyleModel",
      "state": {
       "_model_module_version": "^0.13.0",
       "cursor": "move"
      }
     },
     "8cb54ebfb23f4ebfb559719c1755371d": {
      "model_module": "jupyter-leaflet",
      "model_module_version": "^0.13.0",
      "model_name": "LeafletMapModel",
      "state": {
       "_model_module_version": "^0.13.0",
       "_view_module_version": "^0.13.0",
       "center": [
        -26,
        135
       ],
       "controls": [
        "IPY_MODEL_d4e88fb77c454e249919bc8ea6160ca7",
        "IPY_MODEL_f897dc73d8214c6abeb2821b11c7c37e",
        "IPY_MODEL_31413623fb174918921126016b9ee6a6",
        "IPY_MODEL_34cf514f962e487b96a2e695e84a7d31",
        "IPY_MODEL_984c409e2bfd4316a5fa9910212875b2",
        "IPY_MODEL_1e3e48989e9e416fa2ba0653e456c1c5"
       ],
       "default_style": "IPY_MODEL_02a9bb9232994ae8bc7d6dcefc85b7f7",
       "dragging_style": "IPY_MODEL_4274774634d2469e959be4bb2f090f2f",
       "east": 187.82226562500003,
       "fullscreen": false,
       "interpolation": "bilinear",
       "layers": [
        "IPY_MODEL_f4f150a84f244c769587df146b42e1b3",
        "IPY_MODEL_f00fd6491a1149bb8a74601d08fc1a41"
       ],
       "layout": "IPY_MODEL_6f251c1ad8944697b01317192e5b5fcf",
       "modisdate": "yesterday",
       "north": -0.615222552406841,
       "options": [
        "bounce_at_zoom_limits",
        "box_zoom",
        "center",
        "close_popup_on_click",
        "double_click_zoom",
        "dragging",
        "fullscreen",
        "inertia",
        "inertia_deceleration",
        "inertia_max_speed",
        "interpolation",
        "keyboard",
        "keyboard_pan_offset",
        "keyboard_zoom_offset",
        "max_zoom",
        "min_zoom",
        "scroll_wheel_zoom",
        "tap",
        "tap_tolerance",
        "touch_zoom",
        "world_copy_jump",
        "zoom",
        "zoom_animation_threshold",
        "zoom_start"
       ],
       "scroll_wheel_zoom": true,
       "south": -46.98025235521883,
       "style": "IPY_MODEL_acad4e06fa6e4b3eb10da84666e4cad4",
       "west": 82.17773437500001,
       "window_url": "https://app.sandbox.dea.ga.gov.au/user/robbibt/lab?",
       "zoom": 4
      }
     },
     "8ee54b51a41644cba079671430734965": {
      "model_module": "@jupyter-widgets/controls",
      "model_module_version": "1.5.0",
      "model_name": "ButtonStyleModel",
      "state": {
       "button_color": "green"
      }
     },
     "8f0326cd27f1494b81e4678381d564a5": {
      "model_module": "jupyter-leaflet",
      "model_module_version": "^0.13.0",
      "model_name": "LeafletMapStyleModel",
      "state": {
       "_model_module_version": "^0.13.0"
      }
     },
     "8f195a268892483085f87d834613e2ac": {
      "model_module": "@jupyter-widgets/base",
      "model_module_version": "1.2.0",
      "model_name": "LayoutModel",
      "state": {
       "height": "600px"
      }
     },
     "8f36bfc4833f413389113d6d12316cba": {
      "model_module": "jupyter-leaflet",
      "model_module_version": "^0.13.0",
      "model_name": "LeafletTileLayerModel",
      "state": {
       "_model_module_version": "^0.13.0",
       "_view_module_version": "^0.13.0",
       "max_native_zoom": 18,
       "max_zoom": 19,
       "min_native_zoom": 0,
       "min_zoom": 1,
       "name": "OpenStreetMap.Mapnik",
       "options": [
        "attribution",
        "detect_retina",
        "max_native_zoom",
        "max_zoom",
        "min_native_zoom",
        "min_zoom",
        "no_wrap",
        "tile_size",
        "tms"
       ]
      }
     },
     "8f3d87f661a04365a37f1b838f275cf6": {
      "model_module": "@jupyter-widgets/controls",
      "model_module_version": "1.5.0",
      "model_name": "ButtonModel",
      "state": {
       "description": "done",
       "disabled": true,
       "layout": "IPY_MODEL_095b3a84d8794f6cb5a96699ee4068df",
       "style": "IPY_MODEL_5aefcb18369b48b4bb04719d303f24b2"
      }
     },
     "90fea434b15a4b3c8d33ddafe02f23b9": {
      "model_module": "jupyter-leaflet",
      "model_module_version": "^0.13.0",
      "model_name": "LeafletDrawControlModel",
      "state": {
       "_model_module_version": "^0.13.0",
       "_view_module_version": "^0.13.0",
       "options": [
        "position"
       ],
       "polygon": {
        "shapeOptions": {
         "color": "#000000",
         "editing": {
          "color": "#000000",
          "fillColor": "#fca45d",
          "fillOpacity": 0.1
         },
         "fillColor": "#fca45d",
         "fillOpacity": 0.1,
         "original": {
          "color": "#000000",
          "fillColor": "#fca45d",
          "fillOpacity": 0.1
         }
        }
       },
       "polyline": {},
       "rectangle": {
        "metric": [
         "km",
         "m"
        ],
        "shapeOptions": {
         "color": "#000000",
         "fillColor": "#fca45d",
         "fillOpacity": 0.1
        }
       }
      }
     },
     "91f6822d0ffd4ffb9a67d8893175f9b3": {
      "model_module": "jupyter-leaflet",
      "model_module_version": "^0.13.0",
      "model_name": "LeafletWidgetControlModel",
      "state": {
       "_model_module": "jupyter-leaflet",
       "_model_module_version": "^0.13.0",
       "_view_count": null,
       "_view_module": "jupyter-leaflet",
       "_view_module_version": "^0.13.0",
       "options": [
        "position"
       ],
       "position": "topright",
       "widget": "IPY_MODEL_e766a9beb00c43738b3dd34cea68d422"
      }
     },
     "924a4f12a352493d8f75880c023c7381": {
      "model_module": "jupyter-leaflet",
      "model_module_version": "^0.13.0",
      "model_name": "LeafletWMSLayerModel",
      "state": {
       "_model_module_version": "^0.13.0",
       "_view_module_version": "^0.13.0",
       "attribution": "DEA CoastLines © 2020 Geoscience Australia",
       "crs": {
        "custom": false,
        "name": "EPSG3857"
       },
       "format": "image/png",
       "layers": "ga_ls_ard_3",
       "max_native_zoom": 18,
       "min_native_zoom": 0,
       "options": [
        "attribution",
        "detect_retina",
        "format",
        "layers",
        "max_native_zoom",
        "max_zoom",
        "min_native_zoom",
        "min_zoom",
        "no_wrap",
        "styles",
        "tile_size",
        "tms",
        "transparent",
        "uppercase"
       ],
       "transparent": true,
       "url": "https://ows.dea.ga.gov.au/"
      }
     },
     "925237bccd3a42928c0a28c5cb2c9a32": {
      "model_module": "jupyter-leaflet",
      "model_module_version": "^0.13.0",
      "model_name": "LeafletAttributionControlModel",
      "state": {
       "_model_module_version": "^0.13.0",
       "_view_module_version": "^0.13.0",
       "options": [
        "position",
        "prefix"
       ],
       "position": "bottomright",
       "prefix": "Leaflet"
      }
     },
     "9393c266b49d4183ba96a4ff3ca24495": {
      "model_module": "jupyter-leaflet",
      "model_module_version": "^0.13.0",
      "model_name": "LeafletTileLayerModel",
      "state": {
       "_model_module_version": "^0.13.0",
       "_view_module_version": "^0.13.0",
       "attribution": "Tiles &copy; Esri &mdash; Source: Esri, i-cubed, USDA, USGS, AEX, GeoEye, Getmapping, Aerogrid, IGN, IGP, UPR-EGP, and the GIS User Community",
       "max_native_zoom": 18,
       "max_zoom": 20,
       "min_native_zoom": 0,
       "min_zoom": 1,
       "name": "Esri.WorldImagery",
       "options": [
        "attribution",
        "detect_retina",
        "max_native_zoom",
        "max_zoom",
        "min_native_zoom",
        "min_zoom",
        "no_wrap",
        "tile_size",
        "tms"
       ],
       "url": "http://server.arcgisonline.com/ArcGIS/rest/services/World_Imagery/MapServer/tile/{z}/{y}/{x}"
      }
     },
     "93d9770ac53c414293d2de18c6b22673": {
      "model_module": "jupyter-leaflet",
      "model_module_version": "^0.13.0",
      "model_name": "LeafletWidgetControlModel",
      "state": {
       "_model_module": "jupyter-leaflet",
       "_model_module_version": "^0.13.0",
       "_view_count": null,
       "_view_module": "jupyter-leaflet",
       "_view_module_version": "^0.13.0",
       "options": [
        "position"
       ],
       "position": "topright",
       "widget": "IPY_MODEL_e89883fc95a645eb9fe91c28ba8df4d7"
      }
     },
     "93df4406755f4b0ca17f9ce743d51851": {
      "model_module": "jupyter-leaflet",
      "model_module_version": "^0.13.0",
      "model_name": "LeafletWMSLayerModel",
      "state": {
       "_model_module_version": "^0.13.0",
       "_view_module_version": "^0.13.0",
       "attribution": "DEA CoastLines © 2020 Geoscience Australia",
       "crs": {
        "custom": false,
        "name": "EPSG3857"
       },
       "format": "image/png",
       "layers": "ga_ls_ard_3",
       "max_native_zoom": 18,
       "min_native_zoom": 0,
       "options": [
        "attribution",
        "detect_retina",
        "format",
        "layers",
        "max_native_zoom",
        "max_zoom",
        "min_native_zoom",
        "min_zoom",
        "no_wrap",
        "styles",
        "tile_size",
        "tms",
        "transparent",
        "uppercase"
       ],
       "transparent": true,
       "url": "https://ows.dea.ga.gov.au/"
      }
     },
     "95c6f0e4537b4ce38dd560beb698de7e": {
      "model_module": "@jupyter-widgets/base",
      "model_module_version": "1.2.0",
      "model_name": "LayoutModel",
      "state": {
       "width": "5em"
      }
     },
     "964faf8fe7f64bfd818cb158ea24c3f4": {
      "model_module": "jupyter-leaflet",
      "model_module_version": "^0.13.0",
      "model_name": "LeafletMapStyleModel",
      "state": {
       "_model_module_version": "^0.13.0"
      }
     },
     "96c6b1e85f2342caaf6e9f75e0e81703": {
      "model_module": "jupyter-leaflet",
      "model_module_version": "^0.13.0",
      "model_name": "LeafletDrawControlModel",
      "state": {
       "_model_module_version": "^0.13.0",
       "_view_module_version": "^0.13.0",
       "options": [
        "position"
       ],
       "polygon": {
        "shapeOptions": {
         "color": "#000000",
         "editing": {
          "color": "#000000",
          "fillColor": "#fca45d",
          "fillOpacity": 0.1
         },
         "fillColor": "#fca45d",
         "fillOpacity": 0.1,
         "original": {
          "color": "#000000",
          "fillColor": "#fca45d",
          "fillOpacity": 0.1
         }
        }
       },
       "polyline": {},
       "rectangle": {
        "metric": [
         "km",
         "m"
        ],
        "shapeOptions": {
         "color": "#000000",
         "fillColor": "#fca45d",
         "fillOpacity": 0.1
        }
       }
      }
     },
     "9707f0dd10534b9d9ed5f271ba696385": {
      "model_module": "jupyter-leaflet",
      "model_module_version": "^0.13.0",
      "model_name": "LeafletMapStyleModel",
      "state": {
       "_model_module_version": "^0.13.0"
      }
     },
     "97f0a0ae355645b39f05a921ce2cb9d3": {
      "model_module": "jupyter-leaflet",
      "model_module_version": "^0.13.0",
      "model_name": "LeafletMapStyleModel",
      "state": {
       "_model_module_version": "^0.13.0"
      }
     },
     "980b2f667c3e4147bafd72dbda578c0c": {
      "model_module": "jupyter-leaflet",
      "model_module_version": "^0.13.0",
      "model_name": "LeafletMapModel",
      "state": {
       "_model_module_version": "^0.13.0",
       "_view_module_version": "^0.13.0",
       "center": [
        -25.391179281675818,
        124.55474853515626
       ],
       "controls": [
        "IPY_MODEL_d25d942fc7174c02bc8b6082cbac8271",
        "IPY_MODEL_4d44c6a8b4654692b1bd85571ab75183",
        "IPY_MODEL_ba720f5c77ff4c6c8574f430edd57515",
        "IPY_MODEL_474a03ce92b14266bb00f160e31dcc4f",
        "IPY_MODEL_cf3e3005714b488094763ea58d7d270b",
        "IPY_MODEL_b6b1978e9ae2447a824684766617e6e5"
       ],
       "default_style": "IPY_MODEL_2ede17c2e5a1482f84bdf67006210a0b",
       "dragging_style": "IPY_MODEL_a254eb8e4d734b47ba4510efe9a4f3d5",
       "east": 126.20544433593751,
       "fullscreen": false,
       "interpolation": "bilinear",
       "layers": [
        "IPY_MODEL_cdd4eb534113480e9ac33a68ac194fd9",
        "IPY_MODEL_1c1d3379cd944e3c946a62c69664cb28"
       ],
       "layout": "IPY_MODEL_f2c56c30176440e0b59d472018577046",
       "modisdate": "yesterday",
       "north": -24.644520785197557,
       "options": [
        "bounce_at_zoom_limits",
        "box_zoom",
        "center",
        "close_popup_on_click",
        "double_click_zoom",
        "dragging",
        "fullscreen",
        "inertia",
        "inertia_deceleration",
        "inertia_max_speed",
        "interpolation",
        "keyboard",
        "keyboard_pan_offset",
        "keyboard_zoom_offset",
        "max_zoom",
        "min_zoom",
        "scroll_wheel_zoom",
        "tap",
        "tap_tolerance",
        "touch_zoom",
        "world_copy_jump",
        "zoom",
        "zoom_animation_threshold",
        "zoom_start"
       ],
       "scroll_wheel_zoom": true,
       "south": -26.133247834392662,
       "style": "IPY_MODEL_2ede17c2e5a1482f84bdf67006210a0b",
       "west": 122.90405273437501,
       "window_url": "https://app.sandbox.dea.ga.gov.au/user/robbibt/lab?",
       "zoom": 9
      }
     },
     "9843700818af4bbdb564930b0dfb6a91": {
      "model_module": "jupyter-leaflet",
      "model_module_version": "^0.13.0",
      "model_name": "LeafletMapStyleModel",
      "state": {
       "_model_module_version": "^0.13.0"
      }
     },
     "984c409e2bfd4316a5fa9910212875b2": {
      "model_module": "jupyter-leaflet",
      "model_module_version": "^0.13.0",
      "model_name": "LeafletDrawControlModel",
      "state": {
       "_model_module_version": "^0.13.0",
       "_view_module_version": "^0.13.0",
       "options": [
        "position"
       ],
       "polygon": {
        "shapeOptions": {
         "color": "#000000",
         "editing": {
          "color": "#000000",
          "fillColor": "#fca45d",
          "fillOpacity": 0.1
         },
         "fillColor": "#fca45d",
         "fillOpacity": 0.1,
         "original": {
          "color": "#000000",
          "fillColor": "#fca45d",
          "fillOpacity": 0.1
         }
        }
       },
       "polyline": {},
       "rectangle": {
        "metric": [
         "km",
         "m"
        ],
        "shapeOptions": {
         "color": "#000000",
         "fillColor": "#fca45d",
         "fillOpacity": 0.1
        }
       }
      }
     },
     "9851eeb505724b11b74ecced28aa2297": {
      "model_module": "jupyter-leaflet",
      "model_module_version": "^0.13.0",
      "model_name": "LeafletAttributionControlModel",
      "state": {
       "_model_module_version": "^0.13.0",
       "_view_module_version": "^0.13.0",
       "options": [
        "position",
        "prefix"
       ],
       "position": "bottomright",
       "prefix": "Leaflet"
      }
     },
     "98f3fdbba8bd4bc7a476e15ed9b2aa95": {
      "model_module": "jupyter-leaflet",
      "model_module_version": "^0.13.0",
      "model_name": "LeafletDrawControlModel",
      "state": {
       "_model_module_version": "^0.13.0",
       "_view_module_version": "^0.13.0",
       "options": [
        "position"
       ],
       "polygon": {
        "shapeOptions": {
         "color": "#000000",
         "editing": {
          "color": "#000000",
          "fillColor": "#fca45d",
          "fillOpacity": 0.1
         },
         "fillColor": "#fca45d",
         "fillOpacity": 0.1,
         "original": {
          "color": "#000000",
          "fillColor": "#fca45d",
          "fillOpacity": 0.1
         }
        }
       },
       "polyline": {},
       "rectangle": {
        "metric": [
         "km",
         "m"
        ],
        "shapeOptions": {
         "color": "#000000",
         "fillColor": "#fca45d",
         "fillOpacity": 0.1
        }
       }
      }
     },
     "99167e340658461f8020f51e4e7f1019": {
      "model_module": "jupyter-leaflet",
      "model_module_version": "^0.13.0",
      "model_name": "LeafletMapModel",
      "state": {
       "_model_module_version": "^0.13.0",
       "_view_module_version": "^0.13.0",
       "center": [
        -25.18,
        134.18
       ],
       "controls": [
        "IPY_MODEL_ea241fa3b4a34f5bbc789a1b09c0e466",
        "IPY_MODEL_d4676fb262364c28b00ee3fc087617d6",
        "IPY_MODEL_5ceebce54d194a51bfad545a4fe83342"
       ],
       "default_style": "IPY_MODEL_6b73309c3d184801b84dbf21ff208e38",
       "dragging_style": "IPY_MODEL_a506275c4261429886040f24de78f089",
       "east": 187.03125000000003,
       "fullscreen": false,
       "interpolation": "bilinear",
       "layers": [
        "IPY_MODEL_205291cce95c42df93fc93a1e0f91efe",
        "IPY_MODEL_ea344e46a4964dcf96b3d2021d863a92"
       ],
       "layout": "IPY_MODEL_b648c693d7e44aa6b499ee691d21de24",
       "modisdate": "yesterday",
       "north": 0.3515602939922709,
       "options": [
        "bounce_at_zoom_limits",
        "box_zoom",
        "center",
        "close_popup_on_click",
        "double_click_zoom",
        "dragging",
        "fullscreen",
        "inertia",
        "inertia_deceleration",
        "inertia_max_speed",
        "interpolation",
        "keyboard",
        "keyboard_pan_offset",
        "keyboard_zoom_offset",
        "max_zoom",
        "min_zoom",
        "scroll_wheel_zoom",
        "tap",
        "tap_tolerance",
        "touch_zoom",
        "world_copy_jump",
        "zoom",
        "zoom_animation_threshold",
        "zoom_start"
       ],
       "scroll_wheel_zoom": true,
       "south": -46.31658418182218,
       "style": "IPY_MODEL_4ae821e0392948538f1187304af9d2a3",
       "west": 81.38671875000001,
       "window_url": "https://app.sandbox.dea.ga.gov.au/user/robbibt/lab?",
       "zoom": 4
      }
     },
     "9960fb406c28417db40d4c19dbd95099": {
      "model_module": "@jupyter-widgets/base",
      "model_module_version": "1.2.0",
      "model_name": "LayoutModel",
      "state": {
       "width": "5em"
      }
     },
     "9970808649ef43d0832a180166c99e4e": {
      "model_module": "@jupyter-widgets/controls",
      "model_module_version": "1.5.0",
      "model_name": "DescriptionStyleModel",
      "state": {
       "description_width": ""
      }
     },
     "99904ce82e154b2c903933077bdad452": {
      "model_module": "@jupyter-widgets/controls",
      "model_module_version": "1.5.0",
      "model_name": "DescriptionStyleModel",
      "state": {
       "description_width": ""
      }
     },
     "9a2cad9694d04aa0899cb8728eb98474": {
      "model_module": "jupyter-leaflet",
      "model_module_version": "^0.13.0",
      "model_name": "LeafletWMSLayerModel",
      "state": {
       "_model_module_version": "^0.13.0",
       "_view_module_version": "^0.13.0",
       "attribution": "Digital Earth Australia",
       "crs": {
        "custom": false,
        "name": "EPSG3857"
       },
       "format": "image/png",
       "layers": "s2_ard_granule_nbar_t",
       "max_native_zoom": 18,
       "min_native_zoom": 0,
       "options": [
        "attribution",
        "detect_retina",
        "format",
        "layers",
        "max_native_zoom",
        "max_zoom",
        "min_native_zoom",
        "min_zoom",
        "no_wrap",
        "styles",
        "tile_size",
        "time",
        "tms",
        "transparent",
        "uppercase"
       ],
       "time": "2019-01-01",
       "transparent": true,
       "url": "https://ows.dea.ga.gov.au/"
      }
     },
     "9aee43dee87e48c589bccf2f5c962a7e": {
      "model_module": "jupyter-leaflet",
      "model_module_version": "^0.13.0",
      "model_name": "LeafletWidgetControlModel",
      "state": {
       "_model_module": "jupyter-leaflet",
       "_model_module_version": "^0.13.0",
       "_view_count": null,
       "_view_module": "jupyter-leaflet",
       "_view_module_version": "^0.13.0",
       "options": [
        "position"
       ],
       "position": "topright",
       "widget": "IPY_MODEL_38c5a4d107294c6d97a71b27c8745567"
      }
     },
     "9b7360b2b54c42c086d517210e8be776": {
      "model_module": "@jupyter-widgets/base",
      "model_module_version": "1.2.0",
      "model_name": "LayoutModel",
      "state": {
       "height": "600px"
      }
     },
     "9bb64f0cd77449be8d6ed0fb84b191a8": {
      "model_module": "@jupyter-widgets/base",
      "model_module_version": "1.2.0",
      "model_name": "LayoutModel",
      "state": {
       "height": "600px"
      }
     },
     "9d83a619f07e49e6bcd944b4caf349b1": {
      "model_module": "jupyter-leaflet",
      "model_module_version": "^0.13.0",
      "model_name": "LeafletMapStyleModel",
      "state": {
       "_model_module_version": "^0.13.0"
      }
     },
     "9d8ca3b73b0d4656bbb21900ec552a36": {
      "model_module": "jupyter-leaflet",
      "model_module_version": "^0.13.0",
      "model_name": "LeafletFullScreenControlModel",
      "state": {
       "_model_module_version": "^0.13.0",
       "_view_module_version": "^0.13.0",
       "options": [
        "position"
       ]
      }
     },
     "9d9530173cf4468eba97d74727036ac1": {
      "model_module": "@jupyter-widgets/base",
      "model_module_version": "1.2.0",
      "model_name": "LayoutModel",
      "state": {
       "flex": "1 0 20em",
       "height": "3em",
       "width": "20em"
      }
     },
     "9e337225a1644aa7b0b00762bdb76086": {
      "model_module": "@jupyter-widgets/controls",
      "model_module_version": "1.5.0",
      "model_name": "ButtonModel",
      "state": {
       "description": "done",
       "disabled": true,
       "layout": "IPY_MODEL_105564a8ec9845a5bf2dd8ddce95d94f",
       "style": "IPY_MODEL_8ee54b51a41644cba079671430734965"
      }
     },
     "9e3b324840da448aaeb6f59163e3f1c8": {
      "model_module": "@jupyter-widgets/controls",
      "model_module_version": "1.5.0",
      "model_name": "ButtonModel",
      "state": {
       "description": "done",
       "disabled": true,
       "layout": "IPY_MODEL_a108b940d40e4971b95aaeacf4ac0246",
       "style": "IPY_MODEL_847c0557738e41aca20bc53a09fa5325"
      }
     },
     "9eb7ee490e264d70b277ecdd543053c5": {
      "model_module": "jupyter-leaflet",
      "model_module_version": "^0.13.0",
      "model_name": "LeafletWMSLayerModel",
      "state": {
       "_model_module_version": "^0.13.0",
       "_view_module_version": "^0.13.0",
       "attribution": "Digital Earth Australia",
       "crs": {
        "custom": false,
        "name": "EPSG3857"
       },
       "format": "image/png",
       "layers": "s2_nrt_granule_nbar_t",
       "max_native_zoom": 18,
       "min_native_zoom": 0,
       "options": [
        "attribution",
        "detect_retina",
        "format",
        "layers",
        "max_native_zoom",
        "max_zoom",
        "min_native_zoom",
        "min_zoom",
        "no_wrap",
        "styles",
        "tile_size",
        "time",
        "tms",
        "transparent",
        "uppercase"
       ],
       "time": "2021-09-01",
       "transparent": true,
       "url": "https://ows.dea.ga.gov.au/"
      }
     },
     "9f8c946f44bd4e41ab5556254ee823a2": {
      "model_module": "jupyter-leaflet",
      "model_module_version": "^0.13.0",
      "model_name": "LeafletMapStyleModel",
      "state": {
       "_model_module_version": "^0.13.0"
      }
     },
     "9fafd52772ba4a6bbd616d1bedb36d8c": {
      "model_module": "jupyter-leaflet",
      "model_module_version": "^0.13.0",
      "model_name": "LeafletWidgetControlModel",
      "state": {
       "_model_module": "jupyter-leaflet",
       "_model_module_version": "^0.13.0",
       "_view_count": null,
       "_view_module": "jupyter-leaflet",
       "_view_module_version": "^0.13.0",
       "options": [
        "position"
       ],
       "position": "bottomleft",
       "widget": "IPY_MODEL_55565d545aed4985bb4078d11076ee9f"
      }
     },
     "a05e763f2c154d6891a5c6e9c8eb6a3d": {
      "model_module": "@jupyter-widgets/controls",
      "model_module_version": "1.5.0",
      "model_name": "HTMLModel",
      "state": {
       "layout": "IPY_MODEL_00b331768d6947cc811126469026682f",
       "style": "IPY_MODEL_a30727a0b2ed44d4aa5634e094c377c8",
       "value": "<pre style=\"color:grey\">lat: [-29.8907, -28.4518]\nlon: [142.4817, 145.7831]</pre>"
      }
     },
     "a0915c5c0a0d4925a6c7721225efc119": {
      "model_module": "jupyter-leaflet",
      "model_module_version": "^0.13.0",
      "model_name": "LeafletZoomControlModel",
      "state": {
       "_model_module_version": "^0.13.0",
       "_view_module_version": "^0.13.0",
       "options": [
        "position",
        "zoom_in_text",
        "zoom_in_title",
        "zoom_out_text",
        "zoom_out_title"
       ]
      }
     },
     "a108b940d40e4971b95aaeacf4ac0246": {
      "model_module": "@jupyter-widgets/base",
      "model_module_version": "1.2.0",
      "model_name": "LayoutModel",
      "state": {
       "width": "5em"
      }
     },
     "a13918f1136e488990067bb44b0ae92f": {
      "model_module": "jupyter-leaflet",
      "model_module_version": "^0.13.0",
      "model_name": "LeafletDrawControlModel",
      "state": {
       "_model_module_version": "^0.13.0",
       "_view_module_version": "^0.13.0",
       "options": [
        "position"
       ],
       "polygon": {
        "shapeOptions": {
         "color": "#000000",
         "editing": {
          "color": "#000000",
          "fillColor": "#fca45d",
          "fillOpacity": 0.1
         },
         "fillColor": "#fca45d",
         "fillOpacity": 0.1,
         "original": {
          "color": "#000000",
          "fillColor": "#fca45d",
          "fillOpacity": 0.1
         }
        }
       },
       "polyline": {},
       "rectangle": {
        "metric": [
         "km",
         "m"
        ],
        "shapeOptions": {
         "color": "#000000",
         "fillColor": "#fca45d",
         "fillOpacity": 0.1
        }
       }
      }
     },
     "a1ff3a22527f4b6abdeebeff07683004": {
      "model_module": "jupyter-leaflet",
      "model_module_version": "^0.13.0",
      "model_name": "LeafletFullScreenControlModel",
      "state": {
       "_model_module_version": "^0.13.0",
       "_view_module_version": "^0.13.0",
       "options": [
        "position"
       ]
      }
     },
     "a2347fbcd61e4fcda613130fd7bb3477": {
      "model_module": "jupyter-leaflet",
      "model_module_version": "^0.13.0",
      "model_name": "LeafletZoomControlModel",
      "state": {
       "_model_module_version": "^0.13.0",
       "_view_module_version": "^0.13.0",
       "options": [
        "position",
        "zoom_in_text",
        "zoom_in_title",
        "zoom_out_text",
        "zoom_out_title"
       ]
      }
     },
     "a254eb8e4d734b47ba4510efe9a4f3d5": {
      "model_module": "jupyter-leaflet",
      "model_module_version": "^0.13.0",
      "model_name": "LeafletMapStyleModel",
      "state": {
       "_model_module_version": "^0.13.0",
       "cursor": "move"
      }
     },
     "a25e3bfb304e4db080070b98c1891dd9": {
      "model_module": "jupyter-leaflet",
      "model_module_version": "^0.13.0",
      "model_name": "LeafletFullScreenControlModel",
      "state": {
       "_model_module_version": "^0.13.0",
       "_view_module_version": "^0.13.0",
       "options": [
        "position"
       ]
      }
     },
     "a2643b326d5e49a99a261314b8ac2533": {
      "model_module": "jupyter-leaflet",
      "model_module_version": "^0.13.0",
      "model_name": "LeafletAttributionControlModel",
      "state": {
       "_model_module_version": "^0.13.0",
       "_view_module_version": "^0.13.0",
       "options": [
        "position",
        "prefix"
       ],
       "position": "bottomright",
       "prefix": "Leaflet"
      }
     },
     "a2d133cd2f6a4f5f8a43936ff25d8e21": {
      "model_module": "jupyter-leaflet",
      "model_module_version": "^0.13.0",
      "model_name": "LeafletWidgetControlModel",
      "state": {
       "_model_module": "jupyter-leaflet",
       "_model_module_version": "^0.13.0",
       "_view_count": null,
       "_view_module": "jupyter-leaflet",
       "_view_module_version": "^0.13.0",
       "options": [
        "position"
       ],
       "position": "topright",
       "widget": "IPY_MODEL_b4409b5ddd504cbda0f80f3429988450"
      }
     },
     "a30727a0b2ed44d4aa5634e094c377c8": {
      "model_module": "@jupyter-widgets/controls",
      "model_module_version": "1.5.0",
      "model_name": "DescriptionStyleModel",
      "state": {
       "description_width": ""
      }
     },
     "a342370cc2d04da5b1b72635eeecca64": {
      "model_module": "jupyter-leaflet",
      "model_module_version": "^0.13.0",
      "model_name": "LeafletDrawControlModel",
      "state": {
       "_model_module_version": "^0.13.0",
       "_view_module_version": "^0.13.0",
       "options": [
        "position"
       ],
       "polygon": {
        "shapeOptions": {
         "color": "#000000",
         "editing": {
          "color": "#000000",
          "fillColor": "#fca45d",
          "fillOpacity": 0.1
         },
         "fillColor": "#fca45d",
         "fillOpacity": 0.1,
         "original": {
          "color": "#000000",
          "fillColor": "#fca45d",
          "fillOpacity": 0.1
         }
        }
       },
       "polyline": {},
       "rectangle": {
        "metric": [
         "km",
         "m"
        ],
        "shapeOptions": {
         "color": "#000000",
         "fillColor": "#fca45d",
         "fillOpacity": 0.1
        }
       }
      }
     },
     "a3f3fbf8847348a082ac172dc8178d45": {
      "model_module": "jupyter-leaflet",
      "model_module_version": "^0.13.0",
      "model_name": "LeafletAttributionControlModel",
      "state": {
       "_model_module_version": "^0.13.0",
       "_view_module_version": "^0.13.0",
       "options": [
        "position",
        "prefix"
       ],
       "position": "bottomright",
       "prefix": "Leaflet"
      }
     },
     "a506275c4261429886040f24de78f089": {
      "model_module": "jupyter-leaflet",
      "model_module_version": "^0.13.0",
      "model_name": "LeafletMapStyleModel",
      "state": {
       "_model_module_version": "^0.13.0",
       "cursor": "move"
      }
     },
     "a50cd76b33d64fb4aff48c745c4f209e": {
      "model_module": "jupyter-leaflet",
      "model_module_version": "^0.13.0",
      "model_name": "LeafletZoomControlModel",
      "state": {
       "_model_module_version": "^0.13.0",
       "_view_module_version": "^0.13.0",
       "options": [
        "position",
        "zoom_in_text",
        "zoom_in_title",
        "zoom_out_text",
        "zoom_out_title"
       ]
      }
     },
     "a5113eaad6134904b83ea01997b218af": {
      "model_module": "@jupyter-widgets/controls",
      "model_module_version": "1.5.0",
      "model_name": "HTMLModel",
      "state": {
       "layout": "IPY_MODEL_e732d90107184c0c8bdcec0ab6d8fa62",
       "style": "IPY_MODEL_581d49abea38406cb4294dc262eeadb2",
       "value": "<pre style=\"color:grey\">lat: [-32.1710, -29.3391]\nlon: [150.5402, 157.1429]</pre>"
      }
     },
     "a57e173d7fa04e44968207722470fb8b": {
      "model_module": "@jupyter-widgets/base",
      "model_module_version": "1.2.0",
      "model_name": "LayoutModel",
      "state": {
       "width": "5em"
      }
     },
     "a5ac9e6351ed492b907d8af41ba3ef95": {
      "model_module": "jupyter-leaflet",
      "model_module_version": "^0.13.0",
      "model_name": "LeafletWMSLayerModel",
      "state": {
       "_model_module_version": "^0.13.0",
       "_view_module_version": "^0.13.0",
       "attribution": "Digital Earth Australia",
       "crs": {
        "custom": false,
        "name": "EPSG3857"
       },
       "format": "image/png",
       "layers": "ga_ls_ard_3",
       "max_native_zoom": 18,
       "min_native_zoom": 0,
       "options": [
        "attribution",
        "detect_retina",
        "format",
        "layers",
        "max_native_zoom",
        "max_zoom",
        "min_native_zoom",
        "min_zoom",
        "no_wrap",
        "styles",
        "tile_size",
        "time",
        "tms",
        "transparent",
        "uppercase"
       ],
       "time": "2018-01-01",
       "transparent": true,
       "url": "https://ows.dea.ga.gov.au/"
      }
     },
     "a5acc1042dd6440da189b26e9e1e45a1": {
      "model_module": "jupyter-leaflet",
      "model_module_version": "^0.13.0",
      "model_name": "LeafletFullScreenControlModel",
      "state": {
       "_model_module_version": "^0.13.0",
       "_view_module_version": "^0.13.0",
       "options": [
        "position"
       ]
      }
     },
     "a5bb33699679463597fbcd16dd2b481c": {
      "model_module": "jupyter-leaflet",
      "model_module_version": "^0.13.0",
      "model_name": "LeafletMapModel",
      "state": {
       "_model_module_version": "^0.13.0",
       "_view_module_version": "^0.13.0",
       "center": [
        -26,
        135
       ],
       "controls": [
        "IPY_MODEL_e219a193b81f4b3dbed2c2ec7136043e",
        "IPY_MODEL_5102c62826f740fe9ec0bcb4c24b0c58",
        "IPY_MODEL_473934f3f4d646c0a02dd719770b0af2",
        "IPY_MODEL_fa2ae733bd284d778d276f2022e0c253",
        "IPY_MODEL_2a7c240ce16e43b7b371310fbdee9bae",
        "IPY_MODEL_4cea1f2acac54acca8fb53d625eb65b7"
       ],
       "default_style": "IPY_MODEL_182f0b9bdeb6440ab1b5d5bef24ad8ee",
       "dragging_style": "IPY_MODEL_f5c742be1e5144c68df3c0ef1e9afe02",
       "east": 187.82226562500003,
       "fullscreen": false,
       "interpolation": "bilinear",
       "layers": [
        "IPY_MODEL_9393c266b49d4183ba96a4ff3ca24495",
        "IPY_MODEL_7215fd4f7ea04f56950e6db7101307ef"
       ],
       "layout": "IPY_MODEL_aa7c4c5e702d4eada03e0ed8d7bf6253",
       "modisdate": "yesterday",
       "north": -0.615222552406841,
       "options": [
        "bounce_at_zoom_limits",
        "box_zoom",
        "center",
        "close_popup_on_click",
        "double_click_zoom",
        "dragging",
        "fullscreen",
        "inertia",
        "inertia_deceleration",
        "inertia_max_speed",
        "interpolation",
        "keyboard",
        "keyboard_pan_offset",
        "keyboard_zoom_offset",
        "max_zoom",
        "min_zoom",
        "scroll_wheel_zoom",
        "tap",
        "tap_tolerance",
        "touch_zoom",
        "world_copy_jump",
        "zoom",
        "zoom_animation_threshold",
        "zoom_start"
       ],
       "scroll_wheel_zoom": true,
       "south": -46.98025235521883,
       "style": "IPY_MODEL_ae8e3be193124d5db1025a9738d4974d",
       "west": 82.17773437500001,
       "window_url": "https://app.sandbox.dea.ga.gov.au/user/robbibt/lab?",
       "zoom": 4
      }
     },
     "a6229319d70f4d198eb83f18e9d49eb3": {
      "model_module": "@jupyter-widgets/controls",
      "model_module_version": "1.5.0",
      "model_name": "ButtonModel",
      "state": {
       "description": "done",
       "disabled": true,
       "layout": "IPY_MODEL_bdbd1a76fcfd41728032bd7bb24a80a3",
       "style": "IPY_MODEL_2300499e13904bb89c203a5357356337"
      }
     },
     "a64c8524241a4feeb23152921daaa0a1": {
      "model_module": "jupyter-leaflet",
      "model_module_version": "^0.13.0",
      "model_name": "LeafletFullScreenControlModel",
      "state": {
       "_model_module_version": "^0.13.0",
       "_view_module_version": "^0.13.0",
       "options": [
        "position"
       ]
      }
     },
     "a6899584a9fd41599a68e0cf7a5be8f2": {
      "model_module": "jupyter-leaflet",
      "model_module_version": "^0.13.0",
      "model_name": "LeafletWMSLayerModel",
      "state": {
       "_model_module_version": "^0.13.0",
       "_view_module_version": "^0.13.0",
       "attribution": "Digital Earth Australia",
       "crs": {
        "custom": false,
        "name": "EPSG3857"
       },
       "format": "image/png",
       "layers": "ga_ls_ard_3",
       "max_native_zoom": 18,
       "min_native_zoom": 0,
       "options": [
        "attribution",
        "detect_retina",
        "format",
        "layers",
        "max_native_zoom",
        "max_zoom",
        "min_native_zoom",
        "min_zoom",
        "no_wrap",
        "styles",
        "tile_size",
        "time",
        "tms",
        "transparent",
        "uppercase"
       ],
       "time": "1990-01-01",
       "transparent": true,
       "url": "https://ows.dea.ga.gov.au/"
      }
     },
     "a6b612e8c18c4af196c7a5861ce1cdda": {
      "model_module": "jupyter-leaflet",
      "model_module_version": "^0.13.0",
      "model_name": "LeafletWidgetControlModel",
      "state": {
       "_model_module": "jupyter-leaflet",
       "_model_module_version": "^0.13.0",
       "_view_count": null,
       "_view_module": "jupyter-leaflet",
       "_view_module_version": "^0.13.0",
       "options": [
        "position"
       ],
       "position": "bottomleft",
       "widget": "IPY_MODEL_b837a473482a466bb2c6d1654e823274"
      }
     },
     "a7b4cf918f9345fe9ec7420f876d4086": {
      "model_module": "jupyter-leaflet",
      "model_module_version": "^0.13.0",
      "model_name": "LeafletWidgetControlModel",
      "state": {
       "_model_module": "jupyter-leaflet",
       "_model_module_version": "^0.13.0",
       "_view_count": null,
       "_view_module": "jupyter-leaflet",
       "_view_module_version": "^0.13.0",
       "options": [
        "position"
       ],
       "position": "bottomleft",
       "widget": "IPY_MODEL_5554c63838894cc780af30e424ca5d98"
      }
     },
     "a854d8bb13384661a944fb9386ed43c9": {
      "model_module": "jupyter-leaflet",
      "model_module_version": "^0.13.0",
      "model_name": "LeafletWidgetControlModel",
      "state": {
       "_model_module": "jupyter-leaflet",
       "_model_module_version": "^0.13.0",
       "_view_count": null,
       "_view_module": "jupyter-leaflet",
       "_view_module_version": "^0.13.0",
       "options": [
        "position"
       ],
       "position": "topright",
       "widget": "IPY_MODEL_509d8b688dfd488b8c5540d3f1d091e1"
      }
     },
     "aa03d616454549538d78756fef236429": {
      "model_module": "@jupyter-widgets/controls",
      "model_module_version": "1.5.0",
      "model_name": "HTMLModel",
      "state": {
       "layout": "IPY_MODEL_615a9f97b69141faa666bbe5c62604f9",
       "style": "IPY_MODEL_b21593a0e3c44c72b8c151c20ccd94fc",
       "value": "<pre style=\"color:grey\">lat: [-31.1987, -30.4913]\nlon: [139.0045, 140.6552]</pre>"
      }
     },
     "aa06d8161be04751b11de55a9e1f0f9a": {
      "model_module": "@jupyter-widgets/controls",
      "model_module_version": "1.5.0",
      "model_name": "HTMLModel",
      "state": {
       "layout": "IPY_MODEL_22c49466000b4c4ab0bf86af1911a1ae",
       "style": "IPY_MODEL_cca235a380ac4d40a4d4cf6d074cdf1c",
       "value": "<pre style=\"color:grey\">lat: [-13.7981, -12.9965]\nlon: [129.1457, 130.7964]</pre>"
      }
     },
     "aa7c4c5e702d4eada03e0ed8d7bf6253": {
      "model_module": "@jupyter-widgets/base",
      "model_module_version": "1.2.0",
      "model_name": "LayoutModel",
      "state": {
       "height": "600px"
      }
     },
     "aade6f75405e439abee126e28a8ebcde": {
      "model_module": "@jupyter-widgets/base",
      "model_module_version": "1.2.0",
      "model_name": "LayoutModel",
      "state": {
       "flex": "1 0 20em",
       "height": "3em",
       "width": "20em"
      }
     },
     "ab041e78a5b04202b88277da9c4c91b3": {
      "model_module": "@jupyter-widgets/controls",
      "model_module_version": "1.5.0",
      "model_name": "ButtonStyleModel",
      "state": {
       "button_color": "green"
      }
     },
     "ab2025f82c7b4970b99843b619a17340": {
      "model_module": "jupyter-leaflet",
      "model_module_version": "^0.13.0",
      "model_name": "LeafletWidgetControlModel",
      "state": {
       "_model_module": "jupyter-leaflet",
       "_model_module_version": "^0.13.0",
       "_view_count": null,
       "_view_module": "jupyter-leaflet",
       "_view_module_version": "^0.13.0",
       "options": [
        "position"
       ],
       "position": "bottomleft",
       "widget": "IPY_MODEL_a5113eaad6134904b83ea01997b218af"
      }
     },
     "ab700df953124528b12ebdad40b42152": {
      "model_module": "jupyter-leaflet",
      "model_module_version": "^0.13.0",
      "model_name": "LeafletWidgetControlModel",
      "state": {
       "_model_module": "jupyter-leaflet",
       "_model_module_version": "^0.13.0",
       "_view_count": null,
       "_view_module": "jupyter-leaflet",
       "_view_module_version": "^0.13.0",
       "options": [
        "position"
       ],
       "position": "bottomleft",
       "widget": "IPY_MODEL_d87eddaf82004edda316a4f5e938be81"
      }
     },
     "abfd2f98a91540d99b3e352ccea12bbf": {
      "model_module": "jupyter-leaflet",
      "model_module_version": "^0.13.0",
      "model_name": "LeafletMapModel",
      "state": {
       "_model_module_version": "^0.13.0",
       "_view_module_version": "^0.13.0",
       "center": [
        -28.14950321154457,
        137.46093750000003
       ],
       "controls": [
        "IPY_MODEL_cd980badd895400495771bd605d4980d",
        "IPY_MODEL_49b0a93ae8ec4f448eccf0a55a0d0b29",
        "IPY_MODEL_e39712c537364ad38a2fdd0101f596f0",
        "IPY_MODEL_cd2dcac0985a4c928692cb7b614d9dea",
        "IPY_MODEL_77c1c88ebc974c9b9556db5c0607a7de",
        "IPY_MODEL_35de6fee3e2f4f1886b920e05134f222"
       ],
       "default_style": "IPY_MODEL_97f0a0ae355645b39f05a921ce2cb9d3",
       "dragging_style": "IPY_MODEL_7d3bcc8fe5cc4f4599ed10776bffc312",
       "east": 214.27734375,
       "fullscreen": false,
       "interpolation": "bilinear",
       "layers": [
        "IPY_MODEL_f5baa15244ab4e4094dd2361f5d57d5d",
        "IPY_MODEL_e9b2214675fd4e2db22c43bf372f3ac2"
       ],
       "layout": "IPY_MODEL_262d49b09efb47b08efaa4c884cd8d59",
       "modisdate": "yesterday",
       "north": -2.986927393334863,
       "options": [
        "bounce_at_zoom_limits",
        "box_zoom",
        "center",
        "close_popup_on_click",
        "double_click_zoom",
        "dragging",
        "fullscreen",
        "inertia",
        "inertia_deceleration",
        "inertia_max_speed",
        "interpolation",
        "keyboard",
        "keyboard_pan_offset",
        "keyboard_zoom_offset",
        "max_zoom",
        "min_zoom",
        "scroll_wheel_zoom",
        "tap",
        "tap_tolerance",
        "touch_zoom",
        "world_copy_jump",
        "zoom",
        "zoom_animation_threshold",
        "zoom_start"
       ],
       "scroll_wheel_zoom": true,
       "south": -48.57478991092885,
       "style": "IPY_MODEL_97f0a0ae355645b39f05a921ce2cb9d3",
       "west": 60.64453125000001,
       "window_url": "https://app.sandbox.dea.ga.gov.au/user/robbibt/lab?",
       "zoom": 4
      }
     },
     "ac3b7bf41048455fb3049178e757a355": {
      "model_module": "jupyter-leaflet",
      "model_module_version": "^0.13.0",
      "model_name": "LeafletWMSLayerModel",
      "state": {
       "_model_module_version": "^0.13.0",
       "_view_module_version": "^0.13.0",
       "attribution": "Digital Earth Australia",
       "crs": {
        "custom": false,
        "name": "EPSG3857"
       },
       "format": "image/png",
       "layers": "s2_nrt_granule_nbar_t",
       "max_native_zoom": 18,
       "min_native_zoom": 0,
       "options": [
        "attribution",
        "detect_retina",
        "format",
        "layers",
        "max_native_zoom",
        "max_zoom",
        "min_native_zoom",
        "min_zoom",
        "no_wrap",
        "styles",
        "tile_size",
        "time",
        "tms",
        "transparent",
        "uppercase"
       ],
       "time": "2021-09-01",
       "transparent": true,
       "url": "https://ows.dea.ga.gov.au/"
      }
     },
     "acad4e06fa6e4b3eb10da84666e4cad4": {
      "model_module": "jupyter-leaflet",
      "model_module_version": "^0.13.0",
      "model_name": "LeafletMapStyleModel",
      "state": {
       "_model_module_version": "^0.13.0"
      }
     },
     "acba1883db7c4972943d4f2cbbb851d8": {
      "model_module": "jupyter-leaflet",
      "model_module_version": "^0.13.0",
      "model_name": "LeafletWidgetControlModel",
      "state": {
       "_model_module": "jupyter-leaflet",
       "_model_module_version": "^0.13.0",
       "_view_count": null,
       "_view_module": "jupyter-leaflet",
       "_view_module_version": "^0.13.0",
       "options": [
        "position"
       ],
       "position": "topright",
       "widget": "IPY_MODEL_78ae220d32934751b4bdd04f2950bfa5"
      }
     },
     "accd140d0f5c4c1ab419eab7aab030a8": {
      "model_module": "@jupyter-widgets/base",
      "model_module_version": "1.2.0",
      "model_name": "LayoutModel",
      "state": {
       "width": "5em"
      }
     },
     "ad2a762637b9481b86881028ec18f267": {
      "model_module": "jupyter-leaflet",
      "model_module_version": "^0.13.0",
      "model_name": "LeafletMapStyleModel",
      "state": {
       "_model_module_version": "^0.13.0"
      }
     },
     "ad83cd781766415796dcab40c0599b8f": {
      "model_module": "jupyter-leaflet",
      "model_module_version": "^0.13.0",
      "model_name": "LeafletMapStyleModel",
      "state": {
       "_model_module_version": "^0.13.0"
      }
     },
     "adb5d6bc0cc94660b01532f75a2b3441": {
      "model_module": "jupyter-leaflet",
      "model_module_version": "^0.13.0",
      "model_name": "LeafletWidgetControlModel",
      "state": {
       "_model_module": "jupyter-leaflet",
       "_model_module_version": "^0.13.0",
       "_view_count": null,
       "_view_module": "jupyter-leaflet",
       "_view_module_version": "^0.13.0",
       "options": [
        "position"
       ],
       "position": "topright",
       "widget": "IPY_MODEL_0e50951c9f7a4966819c65a02582b99f"
      }
     },
     "ae75b710d1d9460abb03f14bd496bc87": {
      "model_module": "jupyter-leaflet",
      "model_module_version": "^0.13.0",
      "model_name": "LeafletMapModel",
      "state": {
       "_model_module_version": "^0.13.0",
       "_view_module_version": "^0.13.0",
       "center": [
        -30.76543912810554,
        153.84155273437503
       ],
       "controls": [
        "IPY_MODEL_3431dd1a29504dd88bcc20c042ac655e",
        "IPY_MODEL_a3f3fbf8847348a082ac172dc8178d45",
        "IPY_MODEL_0e29ea1c969d40edbb2f82d0470ef848",
        "IPY_MODEL_ab2025f82c7b4970b99843b619a17340",
        "IPY_MODEL_4ee9584af21c4c35a719f13210675953",
        "IPY_MODEL_579909cbd1db421ebf2447c1f8d8a2be"
       ],
       "default_style": "IPY_MODEL_e20453305ea0449a8d1311d6efa89e69",
       "dragging_style": "IPY_MODEL_524fd470b2044fdf93bac16b7e3809b1",
       "east": 157.1429443359375,
       "fullscreen": false,
       "interpolation": "bilinear",
       "layers": [
        "IPY_MODEL_029da536345b43aa8035cd173a3849b4",
        "IPY_MODEL_924a4f12a352493d8f75880c023c7381"
       ],
       "layout": "IPY_MODEL_685d4043e1fb4768892d4bc910a2e104",
       "modisdate": "yesterday",
       "north": -29.339086927341064,
       "options": [
        "bounce_at_zoom_limits",
        "box_zoom",
        "center",
        "close_popup_on_click",
        "double_click_zoom",
        "dragging",
        "fullscreen",
        "inertia",
        "inertia_deceleration",
        "inertia_max_speed",
        "interpolation",
        "keyboard",
        "keyboard_pan_offset",
        "keyboard_zoom_offset",
        "max_zoom",
        "min_zoom",
        "scroll_wheel_zoom",
        "tap",
        "tap_tolerance",
        "touch_zoom",
        "world_copy_jump",
        "zoom",
        "zoom_animation_threshold",
        "zoom_start"
       ],
       "scroll_wheel_zoom": true,
       "south": -32.170962836413246,
       "style": "IPY_MODEL_e20453305ea0449a8d1311d6efa89e69",
       "west": 150.54016113281253,
       "window_url": "https://app.sandbox.dea.ga.gov.au/user/robbibt/lab?",
       "zoom": 8
      }
     },
     "ae8e3be193124d5db1025a9738d4974d": {
      "model_module": "jupyter-leaflet",
      "model_module_version": "^0.13.0",
      "model_name": "LeafletMapStyleModel",
      "state": {
       "_model_module_version": "^0.13.0"
      }
     },
     "aea57df89608433ea098230cb4432110": {
      "model_module": "jupyter-leaflet",
      "model_module_version": "^0.13.0",
      "model_name": "LeafletTileLayerModel",
      "state": {
       "_model_module_version": "^0.13.0",
       "_view_module_version": "^0.13.0",
       "max_native_zoom": 18,
       "max_zoom": 19,
       "min_native_zoom": 0,
       "min_zoom": 1,
       "name": "OpenStreetMap.Mapnik",
       "options": [
        "attribution",
        "detect_retina",
        "max_native_zoom",
        "max_zoom",
        "min_native_zoom",
        "min_zoom",
        "no_wrap",
        "tile_size",
        "tms"
       ]
      }
     },
     "aea9336ae3e1426aacb4a14a2b9d2903": {
      "model_module": "jupyter-leaflet",
      "model_module_version": "^0.13.0",
      "model_name": "LeafletWMSLayerModel",
      "state": {
       "_model_module_version": "^0.13.0",
       "_view_module_version": "^0.13.0",
       "attribution": "Digital Earth Australia",
       "crs": {
        "custom": false,
        "name": "EPSG3857"
       },
       "format": "image/png",
       "layers": "s2_nrt_granule_nbar_t",
       "max_native_zoom": 18,
       "min_native_zoom": 0,
       "options": [
        "attribution",
        "detect_retina",
        "format",
        "layers",
        "max_native_zoom",
        "max_zoom",
        "min_native_zoom",
        "min_zoom",
        "no_wrap",
        "styles",
        "tile_size",
        "time",
        "tms",
        "transparent",
        "uppercase"
       ],
       "time": "2021-09-01",
       "transparent": true,
       "url": "https://ows.dea.ga.gov.au/"
      }
     },
     "aebedffd8c29485a8bc6caf56d93fd35": {
      "model_module": "jupyter-leaflet",
      "model_module_version": "^0.13.0",
      "model_name": "LeafletMapModel",
      "state": {
       "_model_module_version": "^0.13.0",
       "_view_module_version": "^0.13.0",
       "center": [
        -33.15817581376693,
        146.84051513671878
       ],
       "controls": [
        "IPY_MODEL_c255e2a005a74efaa29e251f6d90e688",
        "IPY_MODEL_74d46223ca1f4cdba4b0e3590f652417",
        "IPY_MODEL_2b49bf5332704c2f949fe577e7fd56a1"
       ],
       "default_style": "IPY_MODEL_cfd6d317e61a4f189639fb1b4544d5c3",
       "dragging_style": "IPY_MODEL_71dc786b431642868478e3aecd326891",
       "east": 148.49121093750003,
       "fullscreen": false,
       "interpolation": "bilinear",
       "layers": [
        "IPY_MODEL_7856c029d1054147a651766ab9f9db42",
        "IPY_MODEL_408221b1de1245c0b6c72611833142e2"
       ],
       "layout": "IPY_MODEL_73b174a5d1144885a19f3e4eb60e6b95",
       "modisdate": "yesterday",
       "north": -32.46574331328358,
       "options": [
        "bounce_at_zoom_limits",
        "box_zoom",
        "center",
        "close_popup_on_click",
        "double_click_zoom",
        "dragging",
        "fullscreen",
        "inertia",
        "inertia_deceleration",
        "inertia_max_speed",
        "interpolation",
        "keyboard",
        "keyboard_pan_offset",
        "keyboard_zoom_offset",
        "max_zoom",
        "min_zoom",
        "scroll_wheel_zoom",
        "tap",
        "tap_tolerance",
        "touch_zoom",
        "world_copy_jump",
        "zoom",
        "zoom_animation_threshold",
        "zoom_start"
       ],
       "scroll_wheel_zoom": true,
       "south": -33.845326502767904,
       "style": "IPY_MODEL_cfd6d317e61a4f189639fb1b4544d5c3",
       "west": 145.18981933593753,
       "window_url": "https://app.sandbox.dea.ga.gov.au/user/robbibt/lab?",
       "zoom": 9
      }
     },
     "aeef7c5446f94887ad376cd580a9160e": {
      "model_module": "@jupyter-widgets/controls",
      "model_module_version": "1.5.0",
      "model_name": "ButtonStyleModel",
      "state": {
       "button_color": "green"
      }
     },
     "afd5e286e2214d4b807f1c17bcfbaec3": {
      "model_module": "jupyter-leaflet",
      "model_module_version": "^0.13.0",
      "model_name": "LeafletZoomControlModel",
      "state": {
       "_model_module_version": "^0.13.0",
       "_view_module_version": "^0.13.0",
       "options": [
        "position",
        "zoom_in_text",
        "zoom_in_title",
        "zoom_out_text",
        "zoom_out_title"
       ]
      }
     },
     "afefd1debeba4172acd889b8df01745b": {
      "model_module": "jupyter-leaflet",
      "model_module_version": "^0.13.0",
      "model_name": "LeafletWidgetControlModel",
      "state": {
       "_model_module": "jupyter-leaflet",
       "_model_module_version": "^0.13.0",
       "_view_count": null,
       "_view_module": "jupyter-leaflet",
       "_view_module_version": "^0.13.0",
       "options": [
        "position"
       ],
       "position": "topright",
       "widget": "IPY_MODEL_08ce25e783754fe1bf8451588cf2e5d2"
      }
     },
     "aff22fefafc64910bca2e5bf53cd1b1c": {
      "model_module": "@jupyter-widgets/base",
      "model_module_version": "1.2.0",
      "model_name": "LayoutModel",
      "state": {
       "flex": "1 0 20em",
       "height": "3em",
       "width": "20em"
      }
     },
     "b0827d0aaafe4d7496b30db8a69527e8": {
      "model_module": "jupyter-leaflet",
      "model_module_version": "^0.13.0",
      "model_name": "LeafletWMSLayerModel",
      "state": {
       "_model_module_version": "^0.13.0",
       "_view_module_version": "^0.13.0",
       "attribution": "Digital Earth Australia",
       "crs": {
        "custom": false,
        "name": "EPSG3857"
       },
       "format": "image/png",
       "layers": "s2_ard_granule_nbar_t",
       "max_native_zoom": 18,
       "min_native_zoom": 0,
       "options": [
        "attribution",
        "detect_retina",
        "format",
        "layers",
        "max_native_zoom",
        "max_zoom",
        "min_native_zoom",
        "min_zoom",
        "no_wrap",
        "styles",
        "tile_size",
        "time",
        "tms",
        "transparent",
        "uppercase"
       ],
       "time": "2019-01-01",
       "transparent": true,
       "url": "https://ows.dea.ga.gov.au/"
      }
     },
     "b0b6152c058c4253930109628ccb6fdf": {
      "model_module": "@jupyter-widgets/base",
      "model_module_version": "1.2.0",
      "model_name": "LayoutModel",
      "state": {
       "flex": "1 0 20em",
       "height": "3em",
       "width": "20em"
      }
     },
     "b1b51c189cfe48adacd0a85fd467226f": {
      "model_module": "jupyter-leaflet",
      "model_module_version": "^0.13.0",
      "model_name": "LeafletMapStyleModel",
      "state": {
       "_model_module_version": "^0.13.0",
       "cursor": "move"
      }
     },
     "b1ca7c8ba1684caba652d53282a500e4": {
      "model_module": "jupyter-leaflet",
      "model_module_version": "^0.13.0",
      "model_name": "LeafletWidgetControlModel",
      "state": {
       "_model_module": "jupyter-leaflet",
       "_model_module_version": "^0.13.0",
       "_view_count": null,
       "_view_module": "jupyter-leaflet",
       "_view_module_version": "^0.13.0",
       "options": [
        "position"
       ],
       "position": "bottomleft",
       "widget": "IPY_MODEL_fca1ffbe48d44e3a9478d8a5ab60d7f4"
      }
     },
     "b21593a0e3c44c72b8c151c20ccd94fc": {
      "model_module": "@jupyter-widgets/controls",
      "model_module_version": "1.5.0",
      "model_name": "DescriptionStyleModel",
      "state": {
       "description_width": ""
      }
     },
     "b25ddf010cfc45cfb0301cdfdc171b1b": {
      "model_module": "@jupyter-widgets/controls",
      "model_module_version": "1.5.0",
      "model_name": "ButtonModel",
      "state": {
       "description": "done",
       "disabled": true,
       "layout": "IPY_MODEL_7c6430eb6d6340d1bf26abd7bbbc10f1",
       "style": "IPY_MODEL_be497588fd4e42248e30a7522a72b0d2"
      }
     },
     "b4409b5ddd504cbda0f80f3429988450": {
      "model_module": "@jupyter-widgets/controls",
      "model_module_version": "1.5.0",
      "model_name": "ButtonModel",
      "state": {
       "description": "done",
       "disabled": true,
       "layout": "IPY_MODEL_2450c8af29d04dc384e0e0a77a499278",
       "style": "IPY_MODEL_4cbf5f9f80524f84a1e95cac228963a4"
      }
     },
     "b4b7076102d94bc8af120067f5e69dfe": {
      "model_module": "@jupyter-widgets/controls",
      "model_module_version": "1.5.0",
      "model_name": "DescriptionStyleModel",
      "state": {
       "description_width": ""
      }
     },
     "b4bd47f4c2f049d5b3824a509da87e41": {
      "model_module": "@jupyter-widgets/base",
      "model_module_version": "1.2.0",
      "model_name": "LayoutModel",
      "state": {
       "width": "5em"
      }
     },
     "b4c2260075404289ad90d0868217aa21": {
      "model_module": "jupyter-leaflet",
      "model_module_version": "^0.13.0",
      "model_name": "LeafletWidgetControlModel",
      "state": {
       "_model_module": "jupyter-leaflet",
       "_model_module_version": "^0.13.0",
       "_view_count": null,
       "_view_module": "jupyter-leaflet",
       "_view_module_version": "^0.13.0",
       "options": [
        "position"
       ],
       "position": "topright",
       "widget": "IPY_MODEL_dfa70029df59406cb6fdfb422108b6b6"
      }
     },
     "b51a3e016ba74735aa08d9ed5473c69f": {
      "model_module": "jupyter-leaflet",
      "model_module_version": "^0.13.0",
      "model_name": "LeafletMapStyleModel",
      "state": {
       "_model_module_version": "^0.13.0"
      }
     },
     "b5487ba44c694aa8b8d0c4432fc3012a": {
      "model_module": "jupyter-leaflet",
      "model_module_version": "^0.13.0",
      "model_name": "LeafletMapModel",
      "state": {
       "_model_module_version": "^0.13.0",
       "_view_module_version": "^0.13.0",
       "center": [
        -32.609881212946235,
        135.29937744140628
       ],
       "controls": [
        "IPY_MODEL_42a68362e18b456598e8a5e2fa3902be",
        "IPY_MODEL_06fb93defa5247e4ac9eb737de2a5622",
        "IPY_MODEL_682a638a2e1b4613bee8c5716f250d68"
       ],
       "default_style": "IPY_MODEL_54f27e8c0b754c2da3d189a143284827",
       "dragging_style": "IPY_MODEL_8c58309a62dc4fcda3d7df74f9b3265f",
       "east": 135.7120513916016,
       "fullscreen": false,
       "interpolation": "bilinear",
       "layers": [
        "IPY_MODEL_cf4da7df6a274bd799459a84bdfc3bcd",
        "IPY_MODEL_3a7336d18fd640d1a68b4b77336ce875"
       ],
       "layout": "IPY_MODEL_81a3b306b2db4b4fa74781ed1407050b",
       "modisdate": "yesterday",
       "north": -32.4361925644774,
       "options": [
        "bounce_at_zoom_limits",
        "box_zoom",
        "center",
        "close_popup_on_click",
        "double_click_zoom",
        "dragging",
        "fullscreen",
        "inertia",
        "inertia_deceleration",
        "inertia_max_speed",
        "interpolation",
        "keyboard",
        "keyboard_pan_offset",
        "keyboard_zoom_offset",
        "max_zoom",
        "min_zoom",
        "scroll_wheel_zoom",
        "tap",
        "tap_tolerance",
        "touch_zoom",
        "world_copy_jump",
        "zoom",
        "zoom_animation_threshold",
        "zoom_start"
       ],
       "scroll_wheel_zoom": true,
       "south": -32.783233658006516,
       "style": "IPY_MODEL_54f27e8c0b754c2da3d189a143284827",
       "west": 134.88670349121097,
       "window_url": "https://app.sandbox.dea.ga.gov.au/user/robbibt/lab?",
       "zoom": 11
      }
     },
     "b648c693d7e44aa6b499ee691d21de24": {
      "model_module": "@jupyter-widgets/base",
      "model_module_version": "1.2.0",
      "model_name": "LayoutModel",
      "state": {
       "height": "600px"
      }
     },
     "b65fad244f6c464988a8a488b66a15b1": {
      "model_module": "@jupyter-widgets/controls",
      "model_module_version": "1.5.0",
      "model_name": "DescriptionStyleModel",
      "state": {
       "description_width": ""
      }
     },
     "b694e0e46d51434581a0a19f2df133c7": {
      "model_module": "jupyter-leaflet",
      "model_module_version": "^0.13.0",
      "model_name": "LeafletAttributionControlModel",
      "state": {
       "_model_module_version": "^0.13.0",
       "_view_module_version": "^0.13.0",
       "options": [
        "position",
        "prefix"
       ],
       "position": "bottomright",
       "prefix": "Leaflet"
      }
     },
     "b6b1978e9ae2447a824684766617e6e5": {
      "model_module": "jupyter-leaflet",
      "model_module_version": "^0.13.0",
      "model_name": "LeafletFullScreenControlModel",
      "state": {
       "_model_module_version": "^0.13.0",
       "_view_module_version": "^0.13.0",
       "options": [
        "position"
       ]
      }
     },
     "b837a473482a466bb2c6d1654e823274": {
      "model_module": "@jupyter-widgets/controls",
      "model_module_version": "1.5.0",
      "model_name": "HTMLModel",
      "state": {
       "layout": "IPY_MODEL_aff22fefafc64910bca2e5bf53cd1b1c",
       "style": "IPY_MODEL_8c0ff5f1d0c1422ebbdeeaaa0e234906",
       "value": "<pre style=\"color:grey\">lat: [-29.6475, -28.2052]\nlon: [136.3705, 139.6719]</pre>"
      }
     },
     "b8fe997f81a744aeabdfabdc4429a057": {
      "model_module": "jupyter-leaflet",
      "model_module_version": "^0.13.0",
      "model_name": "LeafletMapModel",
      "state": {
       "_model_module_version": "^0.13.0",
       "_view_module_version": "^0.13.0",
       "center": [
        -26.03704188651583,
        136.58203125000003
       ],
       "controls": [
        "IPY_MODEL_5c181422cda94b75b001863cd5c80aa5",
        "IPY_MODEL_7572a9477c5f4b60903bcc270a8fc387",
        "IPY_MODEL_be636323e48c4e98ae3f125c4a0f5fcc"
       ],
       "default_style": "IPY_MODEL_8f0326cd27f1494b81e4678381d564a5",
       "dragging_style": "IPY_MODEL_d8659301d5e24dfa990029e97c1ba1a4",
       "east": 143.18481445312503,
       "fullscreen": false,
       "interpolation": "bilinear",
       "layers": [
        "IPY_MODEL_4ab339760eab49c2bfffafec0c51f9f4",
        "IPY_MODEL_f79e9fa748bf40b99671b1dc5ea11c32"
       ],
       "layout": "IPY_MODEL_5b1a332b685844e6950d2e6b2deef55a",
       "modisdate": "yesterday",
       "north": -23.039297747769726,
       "options": [
        "bounce_at_zoom_limits",
        "box_zoom",
        "center",
        "close_popup_on_click",
        "double_click_zoom",
        "dragging",
        "fullscreen",
        "inertia",
        "inertia_deceleration",
        "inertia_max_speed",
        "interpolation",
        "keyboard",
        "keyboard_pan_offset",
        "keyboard_zoom_offset",
        "max_zoom",
        "min_zoom",
        "scroll_wheel_zoom",
        "tap",
        "tap_tolerance",
        "touch_zoom",
        "world_copy_jump",
        "zoom",
        "zoom_animation_threshold",
        "zoom_start"
       ],
       "scroll_wheel_zoom": true,
       "south": -28.9600886880068,
       "style": "IPY_MODEL_8f0326cd27f1494b81e4678381d564a5",
       "west": 129.97924804687503,
       "window_url": "https://app.sandbox.dea.ga.gov.au/user/robbibt/lab?",
       "zoom": 7
      }
     },
     "ba720f5c77ff4c6c8574f430edd57515": {
      "model_module": "jupyter-leaflet",
      "model_module_version": "^0.13.0",
      "model_name": "LeafletWidgetControlModel",
      "state": {
       "_model_module": "jupyter-leaflet",
       "_model_module_version": "^0.13.0",
       "_view_count": null,
       "_view_module": "jupyter-leaflet",
       "_view_module_version": "^0.13.0",
       "options": [
        "position"
       ],
       "position": "topright",
       "widget": "IPY_MODEL_0eda0de67cd24b408ea94d8d11d7d191"
      }
     },
     "ba9af3f8e4754052b8888fe50a7e7e4c": {
      "model_module": "@jupyter-widgets/base",
      "model_module_version": "1.2.0",
      "model_name": "LayoutModel",
      "state": {
       "flex": "1 0 20em",
       "height": "3em",
       "width": "20em"
      }
     },
     "bb1154d5b7cc4e5bb8b0ec14ce3b44d1": {
      "model_module": "@jupyter-widgets/controls",
      "model_module_version": "1.5.0",
      "model_name": "ButtonStyleModel",
      "state": {
       "button_color": "green"
      }
     },
     "bb8969fdda434ff9911454150562515c": {
      "model_module": "@jupyter-widgets/base",
      "model_module_version": "1.2.0",
      "model_name": "LayoutModel",
      "state": {
       "width": "5em"
      }
     },
     "bb8ee8d465a04980aab5990ecf235bda": {
      "model_module": "jupyter-leaflet",
      "model_module_version": "^0.13.0",
      "model_name": "LeafletAttributionControlModel",
      "state": {
       "_model_module_version": "^0.13.0",
       "_view_module_version": "^0.13.0",
       "options": [
        "position",
        "prefix"
       ],
       "position": "bottomright",
       "prefix": "Leaflet"
      }
     },
     "bc47cdcb5e4e418c9d376ece1607ec14": {
      "model_module": "jupyter-leaflet",
      "model_module_version": "^0.13.0",
      "model_name": "LeafletAttributionControlModel",
      "state": {
       "_model_module_version": "^0.13.0",
       "_view_module_version": "^0.13.0",
       "options": [
        "position",
        "prefix"
       ],
       "position": "bottomright",
       "prefix": "Leaflet"
      }
     },
     "bdbd1a76fcfd41728032bd7bb24a80a3": {
      "model_module": "@jupyter-widgets/base",
      "model_module_version": "1.2.0",
      "model_name": "LayoutModel",
      "state": {
       "width": "5em"
      }
     },
     "bdcb423978fa4893aced2b5514ad91ee": {
      "model_module": "jupyter-leaflet",
      "model_module_version": "^0.13.0",
      "model_name": "LeafletMapStyleModel",
      "state": {
       "_model_module_version": "^0.13.0",
       "cursor": "move"
      }
     },
     "be497588fd4e42248e30a7522a72b0d2": {
      "model_module": "@jupyter-widgets/controls",
      "model_module_version": "1.5.0",
      "model_name": "ButtonStyleModel",
      "state": {
       "button_color": "green"
      }
     },
     "be636323e48c4e98ae3f125c4a0f5fcc": {
      "model_module": "jupyter-leaflet",
      "model_module_version": "^0.13.0",
      "model_name": "LeafletFullScreenControlModel",
      "state": {
       "_model_module_version": "^0.13.0",
       "_view_module_version": "^0.13.0",
       "options": [
        "position"
       ]
      }
     },
     "be6a22dcb7b444fba757a8b60e056e4f": {
      "model_module": "jupyter-leaflet",
      "model_module_version": "^0.13.0",
      "model_name": "LeafletMapModel",
      "state": {
       "_model_module_version": "^0.13.0",
       "_view_module_version": "^0.13.0",
       "center": [
        -21.97361354260756,
        149.57336425781253
       ],
       "controls": [
        "IPY_MODEL_a0915c5c0a0d4925a6c7721225efc119",
        "IPY_MODEL_bc47cdcb5e4e418c9d376ece1607ec14",
        "IPY_MODEL_2f10403acb224b809cdb037841a40cdf"
       ],
       "default_style": "IPY_MODEL_cd5ed79e0a5a46e49f68d89f22f23011",
       "dragging_style": "IPY_MODEL_827d82397c9240d69693aacd0358ef5f",
       "east": 152.87475585937503,
       "fullscreen": false,
       "interpolation": "bilinear",
       "layers": [
        "IPY_MODEL_d1c9aa74bb144f979eaae25bdadf2149",
        "IPY_MODEL_9a2cad9694d04aa0899cb8728eb98474"
       ],
       "layout": "IPY_MODEL_fa16e3d9163a48b6be340615d4ebf15d",
       "modisdate": "yesterday",
       "north": -20.437307950568957,
       "options": [
        "bounce_at_zoom_limits",
        "box_zoom",
        "center",
        "close_popup_on_click",
        "double_click_zoom",
        "dragging",
        "fullscreen",
        "inertia",
        "inertia_deceleration",
        "inertia_max_speed",
        "interpolation",
        "keyboard",
        "keyboard_pan_offset",
        "keyboard_zoom_offset",
        "max_zoom",
        "min_zoom",
        "scroll_wheel_zoom",
        "tap",
        "tap_tolerance",
        "touch_zoom",
        "world_copy_jump",
        "zoom",
        "zoom_animation_threshold",
        "zoom_start"
       ],
       "scroll_wheel_zoom": true,
       "south": -23.49347666096087,
       "style": "IPY_MODEL_cd5ed79e0a5a46e49f68d89f22f23011",
       "west": 146.27197265625003,
       "window_url": "https://app.sandbox.dea.ga.gov.au/user/robbibt/lab?",
       "zoom": 8
      }
     },
     "be84736c8ca640ec843e7b5338666055": {
      "model_module": "jupyter-leaflet",
      "model_module_version": "^0.13.0",
      "model_name": "LeafletMapStyleModel",
      "state": {
       "_model_module_version": "^0.13.0",
       "cursor": "move"
      }
     },
     "be9592a68c8c4afcb9295f5b42648c28": {
      "model_module": "jupyter-leaflet",
      "model_module_version": "^0.13.0",
      "model_name": "LeafletTileLayerModel",
      "state": {
       "_model_module_version": "^0.13.0",
       "_view_module_version": "^0.13.0",
       "max_native_zoom": 18,
       "max_zoom": 19,
       "min_native_zoom": 0,
       "min_zoom": 1,
       "name": "OpenStreetMap.Mapnik",
       "options": [
        "attribution",
        "detect_retina",
        "max_native_zoom",
        "max_zoom",
        "min_native_zoom",
        "min_zoom",
        "no_wrap",
        "tile_size",
        "tms"
       ]
      }
     },
     "bf3528e612724d679013b33befce4c4a": {
      "model_module": "@jupyter-widgets/base",
      "model_module_version": "1.2.0",
      "model_name": "LayoutModel",
      "state": {
       "height": "600px"
      }
     },
     "bf76d423eb5942de819f8e41931adc9b": {
      "model_module": "@jupyter-widgets/controls",
      "model_module_version": "1.5.0",
      "model_name": "ButtonStyleModel",
      "state": {
       "button_color": "green"
      }
     },
     "bfc7a27bec5a4be4b8bc5095550def64": {
      "model_module": "jupyter-leaflet",
      "model_module_version": "^0.13.0",
      "model_name": "LeafletTileLayerModel",
      "state": {
       "_model_module_version": "^0.13.0",
       "_view_module_version": "^0.13.0",
       "max_native_zoom": 18,
       "max_zoom": 19,
       "min_native_zoom": 0,
       "min_zoom": 1,
       "name": "OpenStreetMap.Mapnik",
       "options": [
        "attribution",
        "detect_retina",
        "max_native_zoom",
        "max_zoom",
        "min_native_zoom",
        "min_zoom",
        "no_wrap",
        "tile_size",
        "tms"
       ]
      }
     },
     "c0645b3c2cc1497795303c68a2a62cf1": {
      "model_module": "jupyter-leaflet",
      "model_module_version": "^0.13.0",
      "model_name": "LeafletAttributionControlModel",
      "state": {
       "_model_module_version": "^0.13.0",
       "_view_module_version": "^0.13.0",
       "options": [
        "position",
        "prefix"
       ],
       "position": "bottomright",
       "prefix": "Leaflet"
      }
     },
     "c09ddf371ec84b3bbff09e2fafb50989": {
      "model_module": "jupyter-leaflet",
      "model_module_version": "^0.13.0",
      "model_name": "LeafletMapStyleModel",
      "state": {
       "_model_module_version": "^0.13.0"
      }
     },
     "c138314a3fd34e51a72cd8e932d39ff5": {
      "model_module": "@jupyter-widgets/controls",
      "model_module_version": "1.5.0",
      "model_name": "DescriptionStyleModel",
      "state": {
       "description_width": ""
      }
     },
     "c1a9bfec3af1429ba39caf77d60ebb9b": {
      "model_module": "@jupyter-widgets/controls",
      "model_module_version": "1.5.0",
      "model_name": "ButtonModel",
      "state": {
       "description": "done",
       "disabled": true,
       "layout": "IPY_MODEL_3eed7824d50e41e4a07c82b249eb3d34",
       "style": "IPY_MODEL_4dd570e9135447dc9fa5a8917535f1b2"
      }
     },
     "c1fec1f1f5284ee0b378c66abc607481": {
      "model_module": "jupyter-leaflet",
      "model_module_version": "^0.13.0",
      "model_name": "LeafletWidgetControlModel",
      "state": {
       "_model_module": "jupyter-leaflet",
       "_model_module_version": "^0.13.0",
       "_view_count": null,
       "_view_module": "jupyter-leaflet",
       "_view_module_version": "^0.13.0",
       "options": [
        "position"
       ],
       "position": "topright",
       "widget": "IPY_MODEL_f6c23b2cde754248b55f97e1502c6616"
      }
     },
     "c255e2a005a74efaa29e251f6d90e688": {
      "model_module": "jupyter-leaflet",
      "model_module_version": "^0.13.0",
      "model_name": "LeafletZoomControlModel",
      "state": {
       "_model_module_version": "^0.13.0",
       "_view_module_version": "^0.13.0",
       "options": [
        "position",
        "zoom_in_text",
        "zoom_in_title",
        "zoom_out_text",
        "zoom_out_title"
       ]
      }
     },
     "c2f7b766f3544ba18c830882fa92adf0": {
      "model_module": "jupyter-leaflet",
      "model_module_version": "^0.13.0",
      "model_name": "LeafletMapModel",
      "state": {
       "_model_module_version": "^0.13.0",
       "_view_module_version": "^0.13.0",
       "center": [
        -29.17367210206621,
        144.13238525390628
       ],
       "controls": [
        "IPY_MODEL_41e3c292e56f491bbee4af28aa6ca8e4",
        "IPY_MODEL_e3f8e0f6512d4dacbc1b557fc5e40cc3",
        "IPY_MODEL_a25e3bfb304e4db080070b98c1891dd9"
       ],
       "default_style": "IPY_MODEL_ee047ee72aa04865b212e02b34791801",
       "dragging_style": "IPY_MODEL_0120627f135244978b6f732891cb1195",
       "east": 145.78308105468753,
       "fullscreen": false,
       "interpolation": "bilinear",
       "layers": [
        "IPY_MODEL_00cc36c2622444ff9211e50ede0c0e35",
        "IPY_MODEL_7629b436f98d430ebda999ef441da956"
       ],
       "layout": "IPY_MODEL_72d41bd4d6e74d18901a4f5503614d5d",
       "modisdate": "yesterday",
       "north": -28.45178873232809,
       "options": [
        "bounce_at_zoom_limits",
        "box_zoom",
        "center",
        "close_popup_on_click",
        "double_click_zoom",
        "dragging",
        "fullscreen",
        "inertia",
        "inertia_deceleration",
        "inertia_max_speed",
        "interpolation",
        "keyboard",
        "keyboard_pan_offset",
        "keyboard_zoom_offset",
        "max_zoom",
        "min_zoom",
        "scroll_wheel_zoom",
        "tap",
        "tap_tolerance",
        "touch_zoom",
        "world_copy_jump",
        "zoom",
        "zoom_animation_threshold",
        "zoom_start"
       ],
       "scroll_wheel_zoom": true,
       "south": -29.8906621877395,
       "style": "IPY_MODEL_ee047ee72aa04865b212e02b34791801",
       "west": 142.48168945312503,
       "window_url": "https://app.sandbox.dea.ga.gov.au/user/robbibt/lab?",
       "zoom": 9
      }
     },
     "c34f62f6db14489eb78891ded5296658": {
      "model_module": "jupyter-leaflet",
      "model_module_version": "^0.13.0",
      "model_name": "LeafletDrawControlModel",
      "state": {
       "_model_module_version": "^0.13.0",
       "_view_module_version": "^0.13.0",
       "options": [
        "position"
       ],
       "polygon": {
        "shapeOptions": {
         "color": "#000000",
         "editing": {
          "color": "#000000",
          "fillColor": "#fca45d",
          "fillOpacity": 0.1
         },
         "fillColor": "#fca45d",
         "fillOpacity": 0.1,
         "original": {
          "color": "#000000",
          "fillColor": "#fca45d",
          "fillOpacity": 0.1
         }
        }
       },
       "polyline": {},
       "rectangle": {
        "metric": [
         "km",
         "m"
        ],
        "shapeOptions": {
         "color": "#000000",
         "fillColor": "#fca45d",
         "fillOpacity": 0.1
        }
       }
      }
     },
     "c3f79f0e409847b7be258db3ced29691": {
      "model_module": "jupyter-leaflet",
      "model_module_version": "^0.13.0",
      "model_name": "LeafletWidgetControlModel",
      "state": {
       "_model_module": "jupyter-leaflet",
       "_model_module_version": "^0.13.0",
       "_view_count": null,
       "_view_module": "jupyter-leaflet",
       "_view_module_version": "^0.13.0",
       "options": [
        "position"
       ],
       "position": "bottomleft",
       "widget": "IPY_MODEL_544acb2a5c064079a1c0cd7a0448448a"
      }
     },
     "c48a34d338254757a38f8f00926e5b25": {
      "model_module": "@jupyter-widgets/base",
      "model_module_version": "1.2.0",
      "model_name": "LayoutModel",
      "state": {
       "flex": "1 0 20em",
       "height": "3em",
       "width": "20em"
      }
     },
     "c4c12d6ca0534070804b0ad0ef9401b7": {
      "model_module": "@jupyter-widgets/controls",
      "model_module_version": "1.5.0",
      "model_name": "DescriptionStyleModel",
      "state": {
       "description_width": ""
      }
     },
     "c551ff871ae945a3809f2b2cbef3f88e": {
      "model_module": "@jupyter-widgets/base",
      "model_module_version": "1.2.0",
      "model_name": "LayoutModel",
      "state": {
       "width": "5em"
      }
     },
     "c5b331f3739f4ecca226eb7b2b38ecc3": {
      "model_module": "jupyter-leaflet",
      "model_module_version": "^0.13.0",
      "model_name": "LeafletWidgetControlModel",
      "state": {
       "_model_module": "jupyter-leaflet",
       "_model_module_version": "^0.13.0",
       "_view_count": null,
       "_view_module": "jupyter-leaflet",
       "_view_module_version": "^0.13.0",
       "options": [
        "position"
       ],
       "position": "bottomleft",
       "widget": "IPY_MODEL_6007fa289b74437f94fc924e3e3e6a2e"
      }
     },
     "c67e1d56215442849b5f9f61edc4eef0": {
      "model_module": "jupyter-leaflet",
      "model_module_version": "^0.13.0",
      "model_name": "LeafletAttributionControlModel",
      "state": {
       "_model_module_version": "^0.13.0",
       "_view_module_version": "^0.13.0",
       "options": [
        "position",
        "prefix"
       ],
       "position": "bottomright",
       "prefix": "Leaflet"
      }
     },
     "c6e62fcfc8a44016bacc5eaf3dffc2d9": {
      "model_module": "jupyter-leaflet",
      "model_module_version": "^0.13.0",
      "model_name": "LeafletMapStyleModel",
      "state": {
       "_model_module_version": "^0.13.0",
       "cursor": "move"
      }
     },
     "c790b48c0a5547898f00015603cd64c6": {
      "model_module": "jupyter-leaflet",
      "model_module_version": "^0.13.0",
      "model_name": "LeafletDrawControlModel",
      "state": {
       "_model_module_version": "^0.13.0",
       "_view_module_version": "^0.13.0",
       "options": [
        "position"
       ],
       "polygon": {
        "shapeOptions": {
         "color": "#000000",
         "editing": {
          "color": "#000000",
          "fillColor": "#fca45d",
          "fillOpacity": 0.1
         },
         "fillColor": "#fca45d",
         "fillOpacity": 0.1,
         "original": {
          "color": "#000000",
          "fillColor": "#fca45d",
          "fillOpacity": 0.1
         }
        }
       },
       "polyline": {},
       "rectangle": {
        "metric": [
         "km",
         "m"
        ],
        "shapeOptions": {
         "color": "#000000",
         "fillColor": "#fca45d",
         "fillOpacity": 0.1
        }
       }
      }
     },
     "c797e36727d4496aa991edac495d4803": {
      "model_module": "jupyter-leaflet",
      "model_module_version": "^0.13.0",
      "model_name": "LeafletMapStyleModel",
      "state": {
       "_model_module_version": "^0.13.0"
      }
     },
     "c7ca6660afd04ecf83302f9090164f4e": {
      "model_module": "@jupyter-widgets/controls",
      "model_module_version": "1.5.0",
      "model_name": "ButtonModel",
      "state": {
       "description": "done",
       "disabled": true,
       "layout": "IPY_MODEL_5f1492c86e874217ab8e8ce8fabd0d0e",
       "style": "IPY_MODEL_2744a2af32154c418b0db980c4a1c85b"
      }
     },
     "c7ff4aac46314ac59a04ccbe9b9cfcd9": {
      "model_module": "@jupyter-widgets/base",
      "model_module_version": "1.2.0",
      "model_name": "LayoutModel",
      "state": {
       "flex": "1 0 20em",
       "height": "3em",
       "width": "20em"
      }
     },
     "c8a846ebea3d42988239754dea763f8e": {
      "model_module": "@jupyter-widgets/controls",
      "model_module_version": "1.5.0",
      "model_name": "HTMLModel",
      "state": {
       "layout": "IPY_MODEL_5f131f8c64ed4faea0f6cdad868fdce5",
       "style": "IPY_MODEL_5378c3067fc44fa0b63a47a83035c284",
       "value": "<pre style=\"color:grey\">lat: [-28.9601, -23.0393]\nlon: [129.9792, 143.1848]</pre>"
      }
     },
     "c91d27f6f5b74296923a27298170b721": {
      "model_module": "jupyter-leaflet",
      "model_module_version": "^0.13.0",
      "model_name": "LeafletWidgetControlModel",
      "state": {
       "_model_module": "jupyter-leaflet",
       "_model_module_version": "^0.13.0",
       "_view_count": null,
       "_view_module": "jupyter-leaflet",
       "_view_module_version": "^0.13.0",
       "options": [
        "position"
       ],
       "position": "bottomleft",
       "widget": "IPY_MODEL_83796f47b3ef4149af7dc84ea603435a"
      }
     },
     "ca980d8821cb487bb27fe2a2c9221476": {
      "model_module": "@jupyter-widgets/controls",
      "model_module_version": "1.5.0",
      "model_name": "DescriptionStyleModel",
      "state": {
       "description_width": ""
      }
     },
     "caa2be8a5703483196f6f44e70777eda": {
      "model_module": "jupyter-leaflet",
      "model_module_version": "^0.13.0",
      "model_name": "LeafletMapModel",
      "state": {
       "_model_module_version": "^0.13.0",
       "_view_module_version": "^0.13.0",
       "center": [
        -31.36910133963654,
        145.72814941406253
       ],
       "controls": [
        "IPY_MODEL_0bb04892f2e24e9fa2829f0704aef281",
        "IPY_MODEL_e2a2d262bdf94833a9f7957d0219151f",
        "IPY_MODEL_91f6822d0ffd4ffb9a67d8893175f9b3",
        "IPY_MODEL_ab700df953124528b12ebdad40b42152",
        "IPY_MODEL_a342370cc2d04da5b1b72635eeecca64",
        "IPY_MODEL_4b65dbf6a8e14327a0c1f044ac220d5f"
       ],
       "default_style": "IPY_MODEL_5e68474589d3476e891121dbeaf94756",
       "dragging_style": "IPY_MODEL_b1b51c189cfe48adacd0a85fd467226f",
       "east": 147.37884521484378,
       "fullscreen": false,
       "interpolation": "bilinear",
       "layers": [
        "IPY_MODEL_375df60c62a648668a50c5a8dbe5771b",
        "IPY_MODEL_b0827d0aaafe4d7496b30db8a69527e8"
       ],
       "layout": "IPY_MODEL_7e8638ef458a49e597b8cfcf95e6aca6",
       "modisdate": "yesterday",
       "north": -30.66390343745161,
       "options": [
        "bounce_at_zoom_limits",
        "box_zoom",
        "center",
        "close_popup_on_click",
        "double_click_zoom",
        "dragging",
        "fullscreen",
        "inertia",
        "inertia_deceleration",
        "inertia_max_speed",
        "interpolation",
        "keyboard",
        "keyboard_pan_offset",
        "keyboard_zoom_offset",
        "max_zoom",
        "min_zoom",
        "scroll_wheel_zoom",
        "tap",
        "tap_tolerance",
        "touch_zoom",
        "world_copy_jump",
        "zoom",
        "zoom_animation_threshold",
        "zoom_start"
       ],
       "scroll_wheel_zoom": true,
       "south": -32.07093815080466,
       "style": "IPY_MODEL_5e68474589d3476e891121dbeaf94756",
       "west": 144.07745361328128,
       "window_url": "https://app.sandbox.dea.ga.gov.au/user/robbibt/lab?",
       "zoom": 9
      }
     },
     "caba22addd9048ec98fc2c69c3acc75f": {
      "model_module": "jupyter-leaflet",
      "model_module_version": "^0.13.0",
      "model_name": "LeafletWidgetControlModel",
      "state": {
       "_model_module": "jupyter-leaflet",
       "_model_module_version": "^0.13.0",
       "_view_count": null,
       "_view_module": "jupyter-leaflet",
       "_view_module_version": "^0.13.0",
       "options": [
        "position"
       ],
       "position": "topright",
       "widget": "IPY_MODEL_eee4fa5a8de34fbf957b50dbe40d416c"
      }
     },
     "cbbde419cee444ca8f9bb565e7a8cece": {
      "model_module": "jupyter-leaflet",
      "model_module_version": "^0.13.0",
      "model_name": "LeafletZoomControlModel",
      "state": {
       "_model_module_version": "^0.13.0",
       "_view_module_version": "^0.13.0",
       "options": [
        "position",
        "zoom_in_text",
        "zoom_in_title",
        "zoom_out_text",
        "zoom_out_title"
       ]
      }
     },
     "cbe370e9d63f452b9ada5e3b711f212d": {
      "model_module": "jupyter-leaflet",
      "model_module_version": "^0.13.0",
      "model_name": "LeafletTileLayerModel",
      "state": {
       "_model_module_version": "^0.13.0",
       "_view_module_version": "^0.13.0",
       "max_native_zoom": 18,
       "max_zoom": 19,
       "min_native_zoom": 0,
       "min_zoom": 1,
       "name": "OpenStreetMap.Mapnik",
       "options": [
        "attribution",
        "detect_retina",
        "max_native_zoom",
        "max_zoom",
        "min_native_zoom",
        "min_zoom",
        "no_wrap",
        "tile_size",
        "tms"
       ]
      }
     },
     "cbfecb1248cc453fac5dc111dfc0c8e7": {
      "model_module": "jupyter-leaflet",
      "model_module_version": "^0.13.0",
      "model_name": "LeafletFullScreenControlModel",
      "state": {
       "_model_module_version": "^0.13.0",
       "_view_module_version": "^0.13.0",
       "options": [
        "position"
       ]
      }
     },
     "cc99b082f7cd4214ad0b5f7d53ad10ca": {
      "model_module": "jupyter-leaflet",
      "model_module_version": "^0.13.0",
      "model_name": "LeafletWidgetControlModel",
      "state": {
       "_model_module": "jupyter-leaflet",
       "_model_module_version": "^0.13.0",
       "_view_count": null,
       "_view_module": "jupyter-leaflet",
       "_view_module_version": "^0.13.0",
       "options": [
        "position"
       ],
       "position": "topright",
       "widget": "IPY_MODEL_8f3d87f661a04365a37f1b838f275cf6"
      }
     },
     "cca235a380ac4d40a4d4cf6d074cdf1c": {
      "model_module": "@jupyter-widgets/controls",
      "model_module_version": "1.5.0",
      "model_name": "DescriptionStyleModel",
      "state": {
       "description_width": ""
      }
     },
     "cd2dcac0985a4c928692cb7b614d9dea": {
      "model_module": "jupyter-leaflet",
      "model_module_version": "^0.13.0",
      "model_name": "LeafletWidgetControlModel",
      "state": {
       "_model_module": "jupyter-leaflet",
       "_model_module_version": "^0.13.0",
       "_view_count": null,
       "_view_module": "jupyter-leaflet",
       "_view_module_version": "^0.13.0",
       "options": [
        "position"
       ],
       "position": "bottomleft",
       "widget": "IPY_MODEL_2a7abdd543c14cf79afd8fdd4c1b3716"
      }
     },
     "cd5ed79e0a5a46e49f68d89f22f23011": {
      "model_module": "jupyter-leaflet",
      "model_module_version": "^0.13.0",
      "model_name": "LeafletMapStyleModel",
      "state": {
       "_model_module_version": "^0.13.0"
      }
     },
     "cd980badd895400495771bd605d4980d": {
      "model_module": "jupyter-leaflet",
      "model_module_version": "^0.13.0",
      "model_name": "LeafletZoomControlModel",
      "state": {
       "_model_module_version": "^0.13.0",
       "_view_module_version": "^0.13.0",
       "options": [
        "position",
        "zoom_in_text",
        "zoom_in_title",
        "zoom_out_text",
        "zoom_out_title"
       ]
      }
     },
     "cdd4eb534113480e9ac33a68ac194fd9": {
      "model_module": "jupyter-leaflet",
      "model_module_version": "^0.13.0",
      "model_name": "LeafletTileLayerModel",
      "state": {
       "_model_module_version": "^0.13.0",
       "_view_module_version": "^0.13.0",
       "attribution": "Tiles &copy; Esri &mdash; Source: Esri, i-cubed, USDA, USGS, AEX, GeoEye, Getmapping, Aerogrid, IGN, IGP, UPR-EGP, and the GIS User Community",
       "max_native_zoom": 18,
       "max_zoom": 20,
       "min_native_zoom": 0,
       "min_zoom": 1,
       "name": "Esri.WorldImagery",
       "options": [
        "attribution",
        "detect_retina",
        "max_native_zoom",
        "max_zoom",
        "min_native_zoom",
        "min_zoom",
        "no_wrap",
        "tile_size",
        "tms"
       ],
       "url": "http://server.arcgisonline.com/ArcGIS/rest/services/World_Imagery/MapServer/tile/{z}/{y}/{x}"
      }
     },
     "ce18aa55cf1c445aa9e7eb16af82c775": {
      "model_module": "@jupyter-widgets/controls",
      "model_module_version": "1.5.0",
      "model_name": "DescriptionStyleModel",
      "state": {
       "description_width": ""
      }
     },
     "ce1989b162094ea0979baab7df3b0b5e": {
      "model_module": "jupyter-leaflet",
      "model_module_version": "^0.13.0",
      "model_name": "LeafletMapStyleModel",
      "state": {
       "_model_module_version": "^0.13.0",
       "cursor": "move"
      }
     },
     "cf3e3005714b488094763ea58d7d270b": {
      "model_module": "jupyter-leaflet",
      "model_module_version": "^0.13.0",
      "model_name": "LeafletDrawControlModel",
      "state": {
       "_model_module_version": "^0.13.0",
       "_view_module_version": "^0.13.0",
       "options": [
        "position"
       ],
       "polygon": {
        "shapeOptions": {
         "color": "#000000",
         "editing": {
          "color": "#000000",
          "fillColor": "#fca45d",
          "fillOpacity": 0.1
         },
         "fillColor": "#fca45d",
         "fillOpacity": 0.1,
         "original": {
          "color": "#000000",
          "fillColor": "#fca45d",
          "fillOpacity": 0.1
         }
        }
       },
       "polyline": {},
       "rectangle": {
        "metric": [
         "km",
         "m"
        ],
        "shapeOptions": {
         "color": "#000000",
         "fillColor": "#fca45d",
         "fillOpacity": 0.1
        }
       }
      }
     },
     "cf4da7df6a274bd799459a84bdfc3bcd": {
      "model_module": "jupyter-leaflet",
      "model_module_version": "^0.13.0",
      "model_name": "LeafletTileLayerModel",
      "state": {
       "_model_module_version": "^0.13.0",
       "_view_module_version": "^0.13.0",
       "attribution": "Tiles &copy; Esri &mdash; Source: Esri, i-cubed, USDA, USGS, AEX, GeoEye, Getmapping, Aerogrid, IGN, IGP, UPR-EGP, and the GIS User Community",
       "max_native_zoom": 18,
       "max_zoom": 20,
       "min_native_zoom": 0,
       "min_zoom": 1,
       "name": "Esri.WorldImagery",
       "options": [
        "attribution",
        "detect_retina",
        "max_native_zoom",
        "max_zoom",
        "min_native_zoom",
        "min_zoom",
        "no_wrap",
        "tile_size",
        "tms"
       ],
       "url": "http://server.arcgisonline.com/ArcGIS/rest/services/World_Imagery/MapServer/tile/{z}/{y}/{x}"
      }
     },
     "cfd6d317e61a4f189639fb1b4544d5c3": {
      "model_module": "jupyter-leaflet",
      "model_module_version": "^0.13.0",
      "model_name": "LeafletMapStyleModel",
      "state": {
       "_model_module_version": "^0.13.0"
      }
     },
     "d0856546c88f4cc2ac299c0f21ad7192": {
      "model_module": "jupyter-leaflet",
      "model_module_version": "^0.13.0",
      "model_name": "LeafletMapStyleModel",
      "state": {
       "_model_module_version": "^0.13.0"
      }
     },
     "d0e04a6a733c4631a3e2fe6336b9e3ce": {
      "model_module": "jupyter-leaflet",
      "model_module_version": "^0.13.0",
      "model_name": "LeafletMapStyleModel",
      "state": {
       "_model_module_version": "^0.13.0"
      }
     },
     "d0fb76a169c04c218183ef0a184a2c4d": {
      "model_module": "jupyter-leaflet",
      "model_module_version": "^0.13.0",
      "model_name": "LeafletMapStyleModel",
      "state": {
       "_model_module_version": "^0.13.0"
      }
     },
     "d1c9aa74bb144f979eaae25bdadf2149": {
      "model_module": "jupyter-leaflet",
      "model_module_version": "^0.13.0",
      "model_name": "LeafletTileLayerModel",
      "state": {
       "_model_module_version": "^0.13.0",
       "_view_module_version": "^0.13.0",
       "attribution": "Tiles &copy; Esri &mdash; Source: Esri, i-cubed, USDA, USGS, AEX, GeoEye, Getmapping, Aerogrid, IGN, IGP, UPR-EGP, and the GIS User Community",
       "max_native_zoom": 18,
       "max_zoom": 20,
       "min_native_zoom": 0,
       "min_zoom": 1,
       "name": "Esri.WorldImagery",
       "options": [
        "attribution",
        "detect_retina",
        "max_native_zoom",
        "max_zoom",
        "min_native_zoom",
        "min_zoom",
        "no_wrap",
        "tile_size",
        "tms"
       ],
       "url": "http://server.arcgisonline.com/ArcGIS/rest/services/World_Imagery/MapServer/tile/{z}/{y}/{x}"
      }
     },
     "d25d942fc7174c02bc8b6082cbac8271": {
      "model_module": "jupyter-leaflet",
      "model_module_version": "^0.13.0",
      "model_name": "LeafletZoomControlModel",
      "state": {
       "_model_module_version": "^0.13.0",
       "_view_module_version": "^0.13.0",
       "options": [
        "position",
        "zoom_in_text",
        "zoom_in_title",
        "zoom_out_text",
        "zoom_out_title"
       ]
      }
     },
     "d2710ff713ad4935830c01038c3fd25e": {
      "model_module": "jupyter-leaflet",
      "model_module_version": "^0.13.0",
      "model_name": "LeafletTileLayerModel",
      "state": {
       "_model_module_version": "^0.13.0",
       "_view_module_version": "^0.13.0",
       "max_native_zoom": 18,
       "max_zoom": 19,
       "min_native_zoom": 0,
       "min_zoom": 1,
       "name": "OpenStreetMap.Mapnik",
       "options": [
        "attribution",
        "detect_retina",
        "max_native_zoom",
        "max_zoom",
        "min_native_zoom",
        "min_zoom",
        "no_wrap",
        "tile_size",
        "tms"
       ]
      }
     },
     "d2d94ba2cc7f4c34b143f9a0b2d29cf9": {
      "model_module": "jupyter-leaflet",
      "model_module_version": "^0.13.0",
      "model_name": "LeafletMapStyleModel",
      "state": {
       "_model_module_version": "^0.13.0"
      }
     },
     "d391a3eff9d243cdadf9e8b07679b904": {
      "model_module": "@jupyter-widgets/base",
      "model_module_version": "1.2.0",
      "model_name": "LayoutModel",
      "state": {
       "width": "5em"
      }
     },
     "d3fa410a198441c783d7411df401d44a": {
      "model_module": "jupyter-leaflet",
      "model_module_version": "^0.13.0",
      "model_name": "LeafletFullScreenControlModel",
      "state": {
       "_model_module_version": "^0.13.0",
       "_view_module_version": "^0.13.0",
       "options": [
        "position"
       ]
      }
     },
     "d45e44b1dfe34baea7a507dd634c5a07": {
      "model_module": "jupyter-leaflet",
      "model_module_version": "^0.13.0",
      "model_name": "LeafletZoomControlModel",
      "state": {
       "_model_module_version": "^0.13.0",
       "_view_module_version": "^0.13.0",
       "options": [
        "position",
        "zoom_in_text",
        "zoom_in_title",
        "zoom_out_text",
        "zoom_out_title"
       ]
      }
     },
     "d4676fb262364c28b00ee3fc087617d6": {
      "model_module": "jupyter-leaflet",
      "model_module_version": "^0.13.0",
      "model_name": "LeafletAttributionControlModel",
      "state": {
       "_model_module_version": "^0.13.0",
       "_view_module_version": "^0.13.0",
       "options": [
        "position",
        "prefix"
       ],
       "position": "bottomright",
       "prefix": "Leaflet"
      }
     },
     "d4e88fb77c454e249919bc8ea6160ca7": {
      "model_module": "jupyter-leaflet",
      "model_module_version": "^0.13.0",
      "model_name": "LeafletZoomControlModel",
      "state": {
       "_model_module_version": "^0.13.0",
       "_view_module_version": "^0.13.0",
       "options": [
        "position",
        "zoom_in_text",
        "zoom_in_title",
        "zoom_out_text",
        "zoom_out_title"
       ]
      }
     },
     "d5de809821a44db4b9c00fc1387e78b4": {
      "model_module": "jupyter-leaflet",
      "model_module_version": "^0.13.0",
      "model_name": "LeafletDrawControlModel",
      "state": {
       "_model_module_version": "^0.13.0",
       "_view_module_version": "^0.13.0",
       "options": [
        "position"
       ],
       "polygon": {
        "shapeOptions": {
         "color": "#000000",
         "editing": {
          "color": "#000000",
          "fillColor": "#fca45d",
          "fillOpacity": 0.1
         },
         "fillColor": "#fca45d",
         "fillOpacity": 0.1,
         "original": {
          "color": "#000000",
          "fillColor": "#fca45d",
          "fillOpacity": 0.1
         }
        }
       },
       "polyline": {},
       "rectangle": {
        "metric": [
         "km",
         "m"
        ],
        "shapeOptions": {
         "color": "#000000",
         "fillColor": "#fca45d",
         "fillOpacity": 0.1
        }
       }
      }
     },
     "d80d3fe2c7114f3c867685813c204403": {
      "model_module": "jupyter-leaflet",
      "model_module_version": "^0.13.0",
      "model_name": "LeafletZoomControlModel",
      "state": {
       "_model_module_version": "^0.13.0",
       "_view_module_version": "^0.13.0",
       "options": [
        "position",
        "zoom_in_text",
        "zoom_in_title",
        "zoom_out_text",
        "zoom_out_title"
       ]
      }
     },
     "d8195f4316174b27864d8d6cd4ee2a02": {
      "model_module": "jupyter-leaflet",
      "model_module_version": "^0.13.0",
      "model_name": "LeafletMapStyleModel",
      "state": {
       "_model_module_version": "^0.13.0",
       "cursor": "move"
      }
     },
     "d82fd4bbb0f34766bd782114ab491390": {
      "model_module": "@jupyter-widgets/controls",
      "model_module_version": "1.5.0",
      "model_name": "ButtonModel",
      "state": {
       "description": "done",
       "disabled": true,
       "layout": "IPY_MODEL_b4bd47f4c2f049d5b3824a509da87e41",
       "style": "IPY_MODEL_22f5646b45ef40d58ae53938f789a842"
      }
     },
     "d8659301d5e24dfa990029e97c1ba1a4": {
      "model_module": "jupyter-leaflet",
      "model_module_version": "^0.13.0",
      "model_name": "LeafletMapStyleModel",
      "state": {
       "_model_module_version": "^0.13.0",
       "cursor": "move"
      }
     },
     "d87eddaf82004edda316a4f5e938be81": {
      "model_module": "@jupyter-widgets/controls",
      "model_module_version": "1.5.0",
      "model_name": "HTMLModel",
      "state": {
       "layout": "IPY_MODEL_f03980ec0b9942609bc6d286ecd2162b",
       "style": "IPY_MODEL_011ce5e81796482e9010edd4749a5bf0",
       "value": "<pre style=\"color:grey\">lat: [-32.0709, -30.6639]\nlon: [144.0775, 147.3788]</pre>"
      }
     },
     "d8ca50cb1405496093592f85a95e3022": {
      "model_module": "jupyter-leaflet",
      "model_module_version": "^0.13.0",
      "model_name": "LeafletMapModel",
      "state": {
       "_model_module_version": "^0.13.0",
       "_view_module_version": "^0.13.0",
       "center": [
        -13.449688625652577,
        130.23880004882815
       ],
       "controls": [
        "IPY_MODEL_356a7e11fb6642cabe38435cef808c6b",
        "IPY_MODEL_bb8ee8d465a04980aab5990ecf235bda",
        "IPY_MODEL_497dc4d6fd394750b6d9bc0066612ebb"
       ],
       "default_style": "IPY_MODEL_f094d7f4ebbc48319be2b66acc1f80c5",
       "dragging_style": "IPY_MODEL_bdcb423978fa4893aced2b5514ad91ee",
       "east": 131.06414794921878,
       "fullscreen": false,
       "interpolation": "bilinear",
       "layers": [
        "IPY_MODEL_8f36bfc4833f413389113d6d12316cba",
        "IPY_MODEL_efd28a60a7984c15b62366554a003436"
       ],
       "layout": "IPY_MODEL_9bb64f0cd77449be8d6ed0fb84b191a8",
       "modisdate": "yesterday",
       "north": -13.04871009110932,
       "options": [
        "bounce_at_zoom_limits",
        "box_zoom",
        "center",
        "close_popup_on_click",
        "double_click_zoom",
        "dragging",
        "fullscreen",
        "inertia",
        "inertia_deceleration",
        "inertia_max_speed",
        "interpolation",
        "keyboard",
        "keyboard_pan_offset",
        "keyboard_zoom_offset",
        "max_zoom",
        "min_zoom",
        "scroll_wheel_zoom",
        "tap",
        "tap_tolerance",
        "touch_zoom",
        "world_copy_jump",
        "zoom",
        "zoom_animation_threshold",
        "zoom_start"
       ],
       "scroll_wheel_zoom": true,
       "south": -13.850080514510164,
       "style": "IPY_MODEL_f094d7f4ebbc48319be2b66acc1f80c5",
       "west": 129.41345214843753,
       "window_url": "https://app.sandbox.dea.ga.gov.au/user/robbibt/lab?",
       "zoom": 10
      }
     },
     "d8f9b127f8874f54abe738ba6d4c54da": {
      "model_module": "jupyter-leaflet",
      "model_module_version": "^0.13.0",
      "model_name": "LeafletMapStyleModel",
      "state": {
       "_model_module_version": "^0.13.0",
       "cursor": "move"
      }
     },
     "d94743b2ce55497080958ce3ea22dcea": {
      "model_module": "@jupyter-widgets/controls",
      "model_module_version": "1.5.0",
      "model_name": "ButtonStyleModel",
      "state": {
       "button_color": "green"
      }
     },
     "da547f46b0af431c995ba3f3635d8389": {
      "model_module": "jupyter-leaflet",
      "model_module_version": "^0.13.0",
      "model_name": "LeafletWMSLayerModel",
      "state": {
       "_model_module_version": "^0.13.0",
       "_view_module_version": "^0.13.0",
       "attribution": "Digital Earth Australia",
       "crs": {
        "custom": false,
        "name": "EPSG3857"
       },
       "format": "image/png",
       "layers": "s2_nrt_granule_nbar_t",
       "max_native_zoom": 18,
       "min_native_zoom": 0,
       "options": [
        "attribution",
        "detect_retina",
        "format",
        "layers",
        "max_native_zoom",
        "max_zoom",
        "min_native_zoom",
        "min_zoom",
        "no_wrap",
        "styles",
        "tile_size",
        "time",
        "tms",
        "transparent",
        "uppercase"
       ],
       "time": "2021-09-01",
       "transparent": true,
       "url": "https://ows.dea.ga.gov.au/"
      }
     },
     "dc5a2b9d6acd401f9232ac7fb4387cbc": {
      "model_module": "jupyter-leaflet",
      "model_module_version": "^0.13.0",
      "model_name": "LeafletTileLayerModel",
      "state": {
       "_model_module_version": "^0.13.0",
       "_view_module_version": "^0.13.0",
       "attribution": "Tiles &copy; Esri &mdash; Source: Esri, i-cubed, USDA, USGS, AEX, GeoEye, Getmapping, Aerogrid, IGN, IGP, UPR-EGP, and the GIS User Community",
       "max_native_zoom": 18,
       "max_zoom": 20,
       "min_native_zoom": 0,
       "min_zoom": 1,
       "name": "Esri.WorldImagery",
       "options": [
        "attribution",
        "detect_retina",
        "max_native_zoom",
        "max_zoom",
        "min_native_zoom",
        "min_zoom",
        "no_wrap",
        "tile_size",
        "tms"
       ],
       "url": "http://server.arcgisonline.com/ArcGIS/rest/services/World_Imagery/MapServer/tile/{z}/{y}/{x}"
      }
     },
     "dccd7824b2694f089a1d7bdd160ae7ce": {
      "model_module": "@jupyter-widgets/controls",
      "model_module_version": "1.5.0",
      "model_name": "ButtonModel",
      "state": {
       "description": "done",
       "disabled": true,
       "layout": "IPY_MODEL_9960fb406c28417db40d4c19dbd95099",
       "style": "IPY_MODEL_eaea9ce2f31943fc99b4fa0cadbf81d4"
      }
     },
     "dcfa8bac49ad4f8e9f4acf0bbc70050b": {
      "model_module": "jupyter-leaflet",
      "model_module_version": "^0.13.0",
      "model_name": "LeafletTileLayerModel",
      "state": {
       "_model_module_version": "^0.13.0",
       "_view_module_version": "^0.13.0",
       "attribution": "Tiles &copy; Esri &mdash; Source: Esri, i-cubed, USDA, USGS, AEX, GeoEye, Getmapping, Aerogrid, IGN, IGP, UPR-EGP, and the GIS User Community",
       "max_native_zoom": 18,
       "max_zoom": 20,
       "min_native_zoom": 0,
       "min_zoom": 1,
       "name": "Esri.WorldImagery",
       "options": [
        "attribution",
        "detect_retina",
        "max_native_zoom",
        "max_zoom",
        "min_native_zoom",
        "min_zoom",
        "no_wrap",
        "tile_size",
        "tms"
       ],
       "url": "http://server.arcgisonline.com/ArcGIS/rest/services/World_Imagery/MapServer/tile/{z}/{y}/{x}"
      }
     },
     "dd35192f9f58401ca9d65c82b1b62f0b": {
      "model_module": "jupyter-leaflet",
      "model_module_version": "^0.13.0",
      "model_name": "LeafletWidgetControlModel",
      "state": {
       "_model_module": "jupyter-leaflet",
       "_model_module_version": "^0.13.0",
       "_view_count": null,
       "_view_module": "jupyter-leaflet",
       "_view_module_version": "^0.13.0",
       "options": [
        "position"
       ],
       "position": "bottomleft",
       "widget": "IPY_MODEL_c8a846ebea3d42988239754dea763f8e"
      }
     },
     "de9da4c9facd4078a06fd681cff4eb7e": {
      "model_module": "jupyter-leaflet",
      "model_module_version": "^0.13.0",
      "model_name": "LeafletMapModel",
      "state": {
       "_model_module_version": "^0.13.0",
       "_view_module_version": "^0.13.0",
       "center": [
        -29.305561325527698,
        140.40527343750003
       ],
       "controls": [
        "IPY_MODEL_cbbde419cee444ca8f9bb565e7a8cece",
        "IPY_MODEL_038f28cdf9d644a7b06a5ffb3d5b3774",
        "IPY_MODEL_9aee43dee87e48c589bccf2f5c962a7e",
        "IPY_MODEL_f3c4baaca6ed49ed9cd6dd2555cbb0b6",
        "IPY_MODEL_96c6b1e85f2342caaf6e9f75e0e81703",
        "IPY_MODEL_559c4970d3b6441dad16751a3c3d1a68"
       ],
       "default_style": "IPY_MODEL_3c6f6e920d2c412aa74c0ab4a3d1e747",
       "dragging_style": "IPY_MODEL_536f6480d0964704b703bc670ac0c420",
       "east": 178.8134765625,
       "fullscreen": false,
       "interpolation": "bilinear",
       "layers": [
        "IPY_MODEL_724ba25f189d4f3eb7f03a77feef5865",
        "IPY_MODEL_a6899584a9fd41599a68e0cf7a5be8f2"
       ],
       "layout": "IPY_MODEL_6f828d061bd54017bb7e2cf61fdc9e21",
       "modisdate": "yesterday",
       "north": -17.224758206624628,
       "options": [
        "bounce_at_zoom_limits",
        "box_zoom",
        "center",
        "close_popup_on_click",
        "double_click_zoom",
        "dragging",
        "fullscreen",
        "inertia",
        "inertia_deceleration",
        "inertia_max_speed",
        "interpolation",
        "keyboard",
        "keyboard_pan_offset",
        "keyboard_zoom_offset",
        "max_zoom",
        "min_zoom",
        "scroll_wheel_zoom",
        "tap",
        "tap_tolerance",
        "touch_zoom",
        "world_copy_jump",
        "zoom",
        "zoom_animation_threshold",
        "zoom_start"
       ],
       "scroll_wheel_zoom": true,
       "south": -40.11168866559596,
       "style": "IPY_MODEL_3c6f6e920d2c412aa74c0ab4a3d1e747",
       "west": 101.99707031250001,
       "window_url": "https://app.sandbox.dea.ga.gov.au/user/robbibt/lab?",
       "zoom": 5
      }
     },
     "debbb71be0784f0a9fc86a8db5ce0dab": {
      "model_module": "jupyter-leaflet",
      "model_module_version": "^0.13.0",
      "model_name": "LeafletMapStyleModel",
      "state": {
       "_model_module_version": "^0.13.0",
       "cursor": "move"
      }
     },
     "dfa70029df59406cb6fdfb422108b6b6": {
      "model_module": "@jupyter-widgets/controls",
      "model_module_version": "1.5.0",
      "model_name": "ButtonModel",
      "state": {
       "description": "done",
       "disabled": true,
       "layout": "IPY_MODEL_c551ff871ae945a3809f2b2cbef3f88e",
       "style": "IPY_MODEL_89bce8502d9d4488b92837e0bb142a0c"
      }
     },
     "e04015700e394ecf90d637684a3e72db": {
      "model_module": "@jupyter-widgets/base",
      "model_module_version": "1.2.0",
      "model_name": "LayoutModel",
      "state": {
       "flex": "1 0 20em",
       "height": "3em",
       "width": "20em"
      }
     },
     "e060c9f5b7454ffd81fec9597db7794b": {
      "model_module": "@jupyter-widgets/base",
      "model_module_version": "1.2.0",
      "model_name": "LayoutModel",
      "state": {
       "height": "600px"
      }
     },
     "e0b63e8b496345839bc6a69acfafa211": {
      "model_module": "jupyter-leaflet",
      "model_module_version": "^0.13.0",
      "model_name": "LeafletWidgetControlModel",
      "state": {
       "_model_module": "jupyter-leaflet",
       "_model_module_version": "^0.13.0",
       "_view_count": null,
       "_view_module": "jupyter-leaflet",
       "_view_module_version": "^0.13.0",
       "options": [
        "position"
       ],
       "position": "bottomleft",
       "widget": "IPY_MODEL_8680424cedee4e1fb13af37edbaf6185"
      }
     },
     "e20453305ea0449a8d1311d6efa89e69": {
      "model_module": "jupyter-leaflet",
      "model_module_version": "^0.13.0",
      "model_name": "LeafletMapStyleModel",
      "state": {
       "_model_module_version": "^0.13.0"
      }
     },
     "e219a193b81f4b3dbed2c2ec7136043e": {
      "model_module": "jupyter-leaflet",
      "model_module_version": "^0.13.0",
      "model_name": "LeafletZoomControlModel",
      "state": {
       "_model_module_version": "^0.13.0",
       "_view_module_version": "^0.13.0",
       "options": [
        "position",
        "zoom_in_text",
        "zoom_in_title",
        "zoom_out_text",
        "zoom_out_title"
       ]
      }
     },
     "e2686eb5efa34006a1df41efd78406a5": {
      "model_module": "jupyter-leaflet",
      "model_module_version": "^0.13.0",
      "model_name": "LeafletWMSLayerModel",
      "state": {
       "_model_module_version": "^0.13.0",
       "_view_module_version": "^0.13.0",
       "attribution": "Digital Earth Australia",
       "crs": {
        "custom": false,
        "name": "EPSG3857"
       },
       "format": "image/png",
       "layers": "s2_nrt_granule_nbar_t",
       "max_native_zoom": 18,
       "min_native_zoom": 0,
       "options": [
        "attribution",
        "detect_retina",
        "format",
        "layers",
        "max_native_zoom",
        "max_zoom",
        "min_native_zoom",
        "min_zoom",
        "no_wrap",
        "styles",
        "tile_size",
        "time",
        "tms",
        "transparent",
        "uppercase"
       ],
       "time": "2021-09-01",
       "transparent": true,
       "url": "https://ows.dea.ga.gov.au/"
      }
     },
     "e2a0e541c0794f6fb3c6dcbe2dfc46c9": {
      "model_module": "@jupyter-widgets/controls",
      "model_module_version": "1.5.0",
      "model_name": "ButtonStyleModel",
      "state": {
       "button_color": "green"
      }
     },
     "e2a2d262bdf94833a9f7957d0219151f": {
      "model_module": "jupyter-leaflet",
      "model_module_version": "^0.13.0",
      "model_name": "LeafletAttributionControlModel",
      "state": {
       "_model_module_version": "^0.13.0",
       "_view_module_version": "^0.13.0",
       "options": [
        "position",
        "prefix"
       ],
       "position": "bottomright",
       "prefix": "Leaflet"
      }
     },
     "e2c3fb492d5f4d78b08e94b425e535f0": {
      "model_module": "jupyter-leaflet",
      "model_module_version": "^0.13.0",
      "model_name": "LeafletFullScreenControlModel",
      "state": {
       "_model_module_version": "^0.13.0",
       "_view_module_version": "^0.13.0",
       "options": [
        "position"
       ]
      }
     },
     "e39712c537364ad38a2fdd0101f596f0": {
      "model_module": "jupyter-leaflet",
      "model_module_version": "^0.13.0",
      "model_name": "LeafletWidgetControlModel",
      "state": {
       "_model_module": "jupyter-leaflet",
       "_model_module_version": "^0.13.0",
       "_view_count": null,
       "_view_module": "jupyter-leaflet",
       "_view_module_version": "^0.13.0",
       "options": [
        "position"
       ],
       "position": "topright",
       "widget": "IPY_MODEL_139f6617a3594b4c895d0b3938e06969"
      }
     },
     "e3f8e0f6512d4dacbc1b557fc5e40cc3": {
      "model_module": "jupyter-leaflet",
      "model_module_version": "^0.13.0",
      "model_name": "LeafletAttributionControlModel",
      "state": {
       "_model_module_version": "^0.13.0",
       "_view_module_version": "^0.13.0",
       "options": [
        "position",
        "prefix"
       ],
       "position": "bottomright",
       "prefix": "Leaflet"
      }
     },
     "e54824e7c68d45d0bdb4873550cb3d89": {
      "model_module": "jupyter-leaflet",
      "model_module_version": "^0.13.0",
      "model_name": "LeafletZoomControlModel",
      "state": {
       "_model_module_version": "^0.13.0",
       "_view_module_version": "^0.13.0",
       "options": [
        "position",
        "zoom_in_text",
        "zoom_in_title",
        "zoom_out_text",
        "zoom_out_title"
       ]
      }
     },
     "e5911f2510cd464e9159a471737f40c9": {
      "model_module": "jupyter-leaflet",
      "model_module_version": "^0.13.0",
      "model_name": "LeafletFullScreenControlModel",
      "state": {
       "_model_module_version": "^0.13.0",
       "_view_module_version": "^0.13.0",
       "options": [
        "position"
       ]
      }
     },
     "e685df2b0491476683b656013e4ddb65": {
      "model_module": "@jupyter-widgets/base",
      "model_module_version": "1.2.0",
      "model_name": "LayoutModel",
      "state": {
       "width": "5em"
      }
     },
     "e732d90107184c0c8bdcec0ab6d8fa62": {
      "model_module": "@jupyter-widgets/base",
      "model_module_version": "1.2.0",
      "model_name": "LayoutModel",
      "state": {
       "flex": "1 0 20em",
       "height": "3em",
       "width": "20em"
      }
     },
     "e766a9beb00c43738b3dd34cea68d422": {
      "model_module": "@jupyter-widgets/controls",
      "model_module_version": "1.5.0",
      "model_name": "ButtonModel",
      "state": {
       "description": "done",
       "disabled": true,
       "layout": "IPY_MODEL_85360f1b6c2b4fefabdced11f3f087b8",
       "style": "IPY_MODEL_fc4d1ac58cc947eebf558d14823deb66"
      }
     },
     "e8140285ae59452299453a4cca31a0a0": {
      "model_module": "@jupyter-widgets/controls",
      "model_module_version": "1.5.0",
      "model_name": "HTMLModel",
      "state": {
       "layout": "IPY_MODEL_c48a34d338254757a38f8f00926e5b25",
       "style": "IPY_MODEL_24560a41748d461382f9d2f5bef0be06",
       "value": "<pre style=\"color:grey\">lat: [-40.1117, -17.2248]\nlon: [101.9971, 178.8135]</pre>"
      }
     },
     "e87ee3a1a8a34740be18dc32c8442e61": {
      "model_module": "jupyter-leaflet",
      "model_module_version": "^0.13.0",
      "model_name": "LeafletWMSLayerModel",
      "state": {
       "_model_module_version": "^0.13.0",
       "_view_module_version": "^0.13.0",
       "attribution": "Digital Earth Australia",
       "crs": {
        "custom": false,
        "name": "EPSG3857"
       },
       "format": "image/png",
       "layers": "s2_nrt_granule_nbar_t",
       "max_native_zoom": 18,
       "min_native_zoom": 0,
       "options": [
        "attribution",
        "detect_retina",
        "format",
        "layers",
        "max_native_zoom",
        "max_zoom",
        "min_native_zoom",
        "min_zoom",
        "no_wrap",
        "styles",
        "tile_size",
        "time",
        "tms",
        "transparent",
        "uppercase"
       ],
       "time": "2021-09-01",
       "transparent": true,
       "url": "https://ows.dea.ga.gov.au/"
      }
     },
     "e89883fc95a645eb9fe91c28ba8df4d7": {
      "model_module": "@jupyter-widgets/controls",
      "model_module_version": "1.5.0",
      "model_name": "ButtonModel",
      "state": {
       "description": "done",
       "disabled": true,
       "layout": "IPY_MODEL_63303524936949d49e49d21094774d6e",
       "style": "IPY_MODEL_00f40990828d445da69597002cc2e027"
      }
     },
     "e903e85275784aa0a8bcb0aa08d285e7": {
      "model_module": "jupyter-leaflet",
      "model_module_version": "^0.13.0",
      "model_name": "LeafletMapModel",
      "state": {
       "_model_module_version": "^0.13.0",
       "_view_module_version": "^0.13.0",
       "center": [
        -32.56989022791849,
        146.99432373046878
       ],
       "controls": [
        "IPY_MODEL_6f9deb0b06a7402dacb1192928d5710f",
        "IPY_MODEL_0c4b003a5ee14e7f9659bdabdf91857f",
        "IPY_MODEL_048fb29ddc034420a008d9a5ac74e5f6"
       ],
       "default_style": "IPY_MODEL_76c8baee03584e26bf6b2fa44c5cb154",
       "dragging_style": "IPY_MODEL_f136e3bf9ab444589093803f6e14c58d",
       "east": 148.64501953125003,
       "fullscreen": false,
       "interpolation": "bilinear",
       "layers": [
        "IPY_MODEL_aea57df89608433ea098230cb4432110",
        "IPY_MODEL_5d24f32669cc4d428287e1b59eb6eb3d"
       ],
       "layout": "IPY_MODEL_29889c4c32bb4812a5b6d200ab8357e2",
       "modisdate": "yesterday",
       "north": -31.872892847840692,
       "options": [
        "bounce_at_zoom_limits",
        "box_zoom",
        "center",
        "close_popup_on_click",
        "double_click_zoom",
        "dragging",
        "fullscreen",
        "inertia",
        "inertia_deceleration",
        "inertia_max_speed",
        "interpolation",
        "keyboard",
        "keyboard_pan_offset",
        "keyboard_zoom_offset",
        "max_zoom",
        "min_zoom",
        "scroll_wheel_zoom",
        "tap",
        "tap_tolerance",
        "touch_zoom",
        "world_copy_jump",
        "zoom",
        "zoom_animation_threshold",
        "zoom_start"
       ],
       "scroll_wheel_zoom": true,
       "south": -33.26165676732799,
       "style": "IPY_MODEL_76c8baee03584e26bf6b2fa44c5cb154",
       "west": 145.34362792968753,
       "window_url": "https://app.sandbox.dea.ga.gov.au/user/robbibt/lab?",
       "zoom": 9
      }
     },
     "e94083a5e0bb4c74a00382f8190c9572": {
      "model_module": "@jupyter-widgets/controls",
      "model_module_version": "1.5.0",
      "model_name": "HTMLModel",
      "state": {
       "layout": "IPY_MODEL_aade6f75405e439abee126e28a8ebcde",
       "style": "IPY_MODEL_4f29c1016c174e8b9c7351d6ccadf61c",
       "value": "<pre style=\"color:grey\">lat: [-46.9803, -0.6152]\nlon: [82.1777, 187.8223]</pre>"
      }
     },
     "e9b2214675fd4e2db22c43bf372f3ac2": {
      "model_module": "jupyter-leaflet",
      "model_module_version": "^0.13.0",
      "model_name": "LeafletWMSLayerModel",
      "state": {
       "_model_module_version": "^0.13.0",
       "_view_module_version": "^0.13.0",
       "attribution": "Digital Earth Australia",
       "crs": {
        "custom": false,
        "name": "EPSG3857"
       },
       "format": "image/png",
       "layers": "ga_ls_ard_3",
       "max_native_zoom": 18,
       "min_native_zoom": 0,
       "options": [
        "attribution",
        "detect_retina",
        "format",
        "layers",
        "max_native_zoom",
        "max_zoom",
        "min_native_zoom",
        "min_zoom",
        "no_wrap",
        "styles",
        "tile_size",
        "time",
        "tms",
        "transparent",
        "uppercase"
       ],
       "time": "1990-01-01",
       "transparent": true,
       "url": "https://ows.dea.ga.gov.au/"
      }
     },
     "ea03deed247d474ea75960bd2ca81211": {
      "model_module": "jupyter-leaflet",
      "model_module_version": "^0.13.0",
      "model_name": "LeafletFullScreenControlModel",
      "state": {
       "_model_module_version": "^0.13.0",
       "_view_module_version": "^0.13.0",
       "options": [
        "position"
       ]
      }
     },
     "ea241fa3b4a34f5bbc789a1b09c0e466": {
      "model_module": "jupyter-leaflet",
      "model_module_version": "^0.13.0",
      "model_name": "LeafletZoomControlModel",
      "state": {
       "_model_module_version": "^0.13.0",
       "_view_module_version": "^0.13.0",
       "options": [
        "position",
        "zoom_in_text",
        "zoom_in_title",
        "zoom_out_text",
        "zoom_out_title"
       ]
      }
     },
     "ea344e46a4964dcf96b3d2021d863a92": {
      "model_module": "jupyter-leaflet",
      "model_module_version": "^0.13.0",
      "model_name": "LeafletWMSLayerModel",
      "state": {
       "_model_module_version": "^0.13.0",
       "_view_module_version": "^0.13.0",
       "attribution": "Digital Earth Australia",
       "crs": {
        "custom": false,
        "name": "EPSG3857"
       },
       "format": "image/png",
       "layers": "s2_nrt_granule_nbar_t",
       "max_native_zoom": 18,
       "min_native_zoom": 0,
       "options": [
        "attribution",
        "detect_retina",
        "format",
        "layers",
        "max_native_zoom",
        "max_zoom",
        "min_native_zoom",
        "min_zoom",
        "no_wrap",
        "styles",
        "tile_size",
        "time",
        "tms",
        "transparent",
        "uppercase"
       ],
       "time": "2021-09-01",
       "transparent": true,
       "url": "https://ows.dea.ga.gov.au/"
      }
     },
     "eaea9ce2f31943fc99b4fa0cadbf81d4": {
      "model_module": "@jupyter-widgets/controls",
      "model_module_version": "1.5.0",
      "model_name": "ButtonStyleModel",
      "state": {
       "button_color": "green"
      }
     },
     "ebd4d2c15eba4e3b8f92c2747a60220c": {
      "model_module": "jupyter-leaflet",
      "model_module_version": "^0.13.0",
      "model_name": "LeafletZoomControlModel",
      "state": {
       "_model_module_version": "^0.13.0",
       "_view_module_version": "^0.13.0",
       "options": [
        "position",
        "zoom_in_text",
        "zoom_in_title",
        "zoom_out_text",
        "zoom_out_title"
       ]
      }
     },
     "ecddb81af9d94ddb800965013899e564": {
      "model_module": "jupyter-leaflet",
      "model_module_version": "^0.13.0",
      "model_name": "LeafletMapStyleModel",
      "state": {
       "_model_module_version": "^0.13.0"
      }
     },
     "ed1bfe09ea034b6ab4be4a4b1aa3c75e": {
      "model_module": "jupyter-leaflet",
      "model_module_version": "^0.13.0",
      "model_name": "LeafletZoomControlModel",
      "state": {
       "_model_module_version": "^0.13.0",
       "_view_module_version": "^0.13.0",
       "options": [
        "position",
        "zoom_in_text",
        "zoom_in_title",
        "zoom_out_text",
        "zoom_out_title"
       ]
      }
     },
     "ed776cc006464a239a65ad90312c878b": {
      "model_module": "jupyter-leaflet",
      "model_module_version": "^0.13.0",
      "model_name": "LeafletDrawControlModel",
      "state": {
       "_model_module_version": "^0.13.0",
       "_view_module_version": "^0.13.0",
       "options": [
        "position"
       ],
       "polygon": {
        "shapeOptions": {
         "color": "#000000",
         "editing": {
          "color": "#000000",
          "fillColor": "#fca45d",
          "fillOpacity": 0.1
         },
         "fillColor": "#fca45d",
         "fillOpacity": 0.1,
         "original": {
          "color": "#000000",
          "fillColor": "#fca45d",
          "fillOpacity": 0.1
         }
        }
       },
       "polyline": {},
       "rectangle": {
        "metric": [
         "km",
         "m"
        ],
        "shapeOptions": {
         "color": "#000000",
         "fillColor": "#fca45d",
         "fillOpacity": 0.1
        }
       }
      }
     },
     "eda770553ea84f1e9b88a1860ae95b35": {
      "model_module": "jupyter-leaflet",
      "model_module_version": "^0.13.0",
      "model_name": "LeafletWidgetControlModel",
      "state": {
       "_model_module": "jupyter-leaflet",
       "_model_module_version": "^0.13.0",
       "_view_count": null,
       "_view_module": "jupyter-leaflet",
       "_view_module_version": "^0.13.0",
       "options": [
        "position"
       ],
       "position": "bottomleft",
       "widget": "IPY_MODEL_869ed8cd13e249dfadb3e8a440af2eca"
      }
     },
     "ee047ee72aa04865b212e02b34791801": {
      "model_module": "jupyter-leaflet",
      "model_module_version": "^0.13.0",
      "model_name": "LeafletMapStyleModel",
      "state": {
       "_model_module_version": "^0.13.0"
      }
     },
     "eeccbeb932ca4722891feb56a7dcf150": {
      "model_module": "jupyter-leaflet",
      "model_module_version": "^0.13.0",
      "model_name": "LeafletTileLayerModel",
      "state": {
       "_model_module_version": "^0.13.0",
       "_view_module_version": "^0.13.0",
       "attribution": "Tiles &copy; Esri &mdash; Source: Esri, i-cubed, USDA, USGS, AEX, GeoEye, Getmapping, Aerogrid, IGN, IGP, UPR-EGP, and the GIS User Community",
       "max_native_zoom": 18,
       "max_zoom": 20,
       "min_native_zoom": 0,
       "min_zoom": 1,
       "name": "Esri.WorldImagery",
       "options": [
        "attribution",
        "detect_retina",
        "max_native_zoom",
        "max_zoom",
        "min_native_zoom",
        "min_zoom",
        "no_wrap",
        "tile_size",
        "tms"
       ],
       "url": "http://server.arcgisonline.com/ArcGIS/rest/services/World_Imagery/MapServer/tile/{z}/{y}/{x}"
      }
     },
     "eee4fa5a8de34fbf957b50dbe40d416c": {
      "model_module": "@jupyter-widgets/controls",
      "model_module_version": "1.5.0",
      "model_name": "ButtonModel",
      "state": {
       "description": "done",
       "disabled": true,
       "layout": "IPY_MODEL_95c6f0e4537b4ce38dd560beb698de7e",
       "style": "IPY_MODEL_023e227842bd4ebfab4f039a584566a7"
      }
     },
     "ef1d66913cf246ad95fe5906e8530d3e": {
      "model_module": "@jupyter-widgets/controls",
      "model_module_version": "1.5.0",
      "model_name": "DescriptionStyleModel",
      "state": {
       "description_width": ""
      }
     },
     "efd28a60a7984c15b62366554a003436": {
      "model_module": "jupyter-leaflet",
      "model_module_version": "^0.13.0",
      "model_name": "LeafletWMSLayerModel",
      "state": {
       "_model_module_version": "^0.13.0",
       "_view_module_version": "^0.13.0",
       "attribution": "Digital Earth Australia",
       "crs": {
        "custom": false,
        "name": "EPSG3857"
       },
       "format": "image/png",
       "layers": "s2_nrt_granule_nbar_t",
       "max_native_zoom": 18,
       "min_native_zoom": 0,
       "options": [
        "attribution",
        "detect_retina",
        "format",
        "layers",
        "max_native_zoom",
        "max_zoom",
        "min_native_zoom",
        "min_zoom",
        "no_wrap",
        "styles",
        "tile_size",
        "time",
        "tms",
        "transparent",
        "uppercase"
       ],
       "time": "2021-09-01",
       "transparent": true,
       "url": "https://ows.dea.ga.gov.au/"
      }
     },
     "eff83201a86249a787cacee5260ac68c": {
      "model_module": "jupyter-leaflet",
      "model_module_version": "^0.13.0",
      "model_name": "LeafletMapStyleModel",
      "state": {
       "_model_module_version": "^0.13.0"
      }
     },
     "f00fd6491a1149bb8a74601d08fc1a41": {
      "model_module": "jupyter-leaflet",
      "model_module_version": "^0.13.0",
      "model_name": "LeafletWMSLayerModel",
      "state": {
       "_model_module_version": "^0.13.0",
       "_view_module_version": "^0.13.0",
       "attribution": "Weather data © 2012 IEM Nexrad",
       "crs": {
        "custom": false,
        "name": "EPSG3857"
       },
       "format": "image/png",
       "layers": "ga_ls_ard_3",
       "max_native_zoom": 18,
       "min_native_zoom": 0,
       "options": [
        "attribution",
        "detect_retina",
        "format",
        "layers",
        "max_native_zoom",
        "max_zoom",
        "min_native_zoom",
        "min_zoom",
        "no_wrap",
        "styles",
        "tile_size",
        "time",
        "tms",
        "transparent",
        "uppercase"
       ],
       "time": "2005-08-31",
       "transparent": true,
       "url": "https://ows.dea.ga.gov.au/"
      }
     },
     "f0308d6d410b4d529a6053da4b66e5dc": {
      "model_module": "jupyter-leaflet",
      "model_module_version": "^0.13.0",
      "model_name": "LeafletMapStyleModel",
      "state": {
       "_model_module_version": "^0.13.0"
      }
     },
     "f03980ec0b9942609bc6d286ecd2162b": {
      "model_module": "@jupyter-widgets/base",
      "model_module_version": "1.2.0",
      "model_name": "LayoutModel",
      "state": {
       "flex": "1 0 20em",
       "height": "3em",
       "width": "20em"
      }
     },
     "f092a0863a624ce5b6c61be419ccd5a4": {
      "model_module": "@jupyter-widgets/controls",
      "model_module_version": "1.5.0",
      "model_name": "ButtonModel",
      "state": {
       "description": "done",
       "disabled": true,
       "layout": "IPY_MODEL_852831efc8d349faaf07b10debaa8237",
       "style": "IPY_MODEL_619a512ff494432da08e7e3f50733f32"
      }
     },
     "f094d7f4ebbc48319be2b66acc1f80c5": {
      "model_module": "jupyter-leaflet",
      "model_module_version": "^0.13.0",
      "model_name": "LeafletMapStyleModel",
      "state": {
       "_model_module_version": "^0.13.0"
      }
     },
     "f0f22474f0f44b8a98297f62e34c2089": {
      "model_module": "@jupyter-widgets/controls",
      "model_module_version": "1.5.0",
      "model_name": "DescriptionStyleModel",
      "state": {
       "description_width": ""
      }
     },
     "f135afecbf4b47e3afca8ef953d95509": {
      "model_module": "@jupyter-widgets/controls",
      "model_module_version": "1.5.0",
      "model_name": "DescriptionStyleModel",
      "state": {
       "description_width": ""
      }
     },
     "f136e3bf9ab444589093803f6e14c58d": {
      "model_module": "jupyter-leaflet",
      "model_module_version": "^0.13.0",
      "model_name": "LeafletMapStyleModel",
      "state": {
       "_model_module_version": "^0.13.0",
       "cursor": "move"
      }
     },
     "f187087fd12d4a09ad355a89a1cd376a": {
      "model_module": "@jupyter-widgets/base",
      "model_module_version": "1.2.0",
      "model_name": "LayoutModel",
      "state": {
       "width": "5em"
      }
     },
     "f196089d47294c258beb2cc580a19a7f": {
      "model_module": "jupyter-leaflet",
      "model_module_version": "^0.13.0",
      "model_name": "LeafletMapModel",
      "state": {
       "_model_module_version": "^0.13.0",
       "_view_module_version": "^0.13.0",
       "center": [
        -28.680874428768394,
        144.41528320312503
       ],
       "controls": [
        "IPY_MODEL_ed1bfe09ea034b6ab4be4a4b1aa3c75e",
        "IPY_MODEL_a2643b326d5e49a99a261314b8ac2533",
        "IPY_MODEL_e2c3fb492d5f4d78b08e94b425e535f0"
       ],
       "default_style": "IPY_MODEL_83156d4d3ccf496d81016af6f8ef710d",
       "dragging_style": "IPY_MODEL_ce1989b162094ea0979baab7df3b0b5e",
       "east": 146.06597900390628,
       "fullscreen": false,
       "interpolation": "bilinear",
       "layers": [
        "IPY_MODEL_6aba478af6c94509ac2569cc8214f311",
        "IPY_MODEL_fa641fa33fdb401da3d9a6f86212b508"
       ],
       "layout": "IPY_MODEL_e060c9f5b7454ffd81fec9597db7794b",
       "modisdate": "yesterday",
       "north": -27.955591004642542,
       "options": [
        "bounce_at_zoom_limits",
        "box_zoom",
        "center",
        "close_popup_on_click",
        "double_click_zoom",
        "dragging",
        "fullscreen",
        "inertia",
        "inertia_deceleration",
        "inertia_max_speed",
        "interpolation",
        "keyboard",
        "keyboard_pan_offset",
        "keyboard_zoom_offset",
        "max_zoom",
        "min_zoom",
        "scroll_wheel_zoom",
        "tap",
        "tap_tolerance",
        "touch_zoom",
        "world_copy_jump",
        "zoom",
        "zoom_animation_threshold",
        "zoom_start"
       ],
       "scroll_wheel_zoom": true,
       "south": -29.401319510041485,
       "style": "IPY_MODEL_83156d4d3ccf496d81016af6f8ef710d",
       "west": 142.76458740234378,
       "window_url": "https://app.sandbox.dea.ga.gov.au/user/robbibt/lab?",
       "zoom": 9
      }
     },
     "f29e5bb20fee468d92ce41022c623d9b": {
      "model_module": "jupyter-leaflet",
      "model_module_version": "^0.13.0",
      "model_name": "LeafletWidgetControlModel",
      "state": {
       "_model_module": "jupyter-leaflet",
       "_model_module_version": "^0.13.0",
       "_view_count": null,
       "_view_module": "jupyter-leaflet",
       "_view_module_version": "^0.13.0",
       "options": [
        "position"
       ],
       "position": "bottomleft",
       "widget": "IPY_MODEL_78dfeec4ecc546e89ddd9c7b70b131e0"
      }
     },
     "f2c56c30176440e0b59d472018577046": {
      "model_module": "@jupyter-widgets/base",
      "model_module_version": "1.2.0",
      "model_name": "LayoutModel",
      "state": {
       "height": "600px"
      }
     },
     "f2eb1665d68f45f1a0a8a887efe13228": {
      "model_module": "jupyter-leaflet",
      "model_module_version": "^0.13.0",
      "model_name": "LeafletWidgetControlModel",
      "state": {
       "_model_module": "jupyter-leaflet",
       "_model_module_version": "^0.13.0",
       "_view_count": null,
       "_view_module": "jupyter-leaflet",
       "_view_module_version": "^0.13.0",
       "options": [
        "position"
       ],
       "position": "topright",
       "widget": "IPY_MODEL_9e3b324840da448aaeb6f59163e3f1c8"
      }
     },
     "f2f743defe9b49b9ab7a20a3a19d6664": {
      "model_module": "jupyter-leaflet",
      "model_module_version": "^0.13.0",
      "model_name": "LeafletWMSLayerModel",
      "state": {
       "_model_module_version": "^0.13.0",
       "_view_module_version": "^0.13.0",
       "attribution": "Digital Earth Australia",
       "crs": {
        "custom": false,
        "name": "EPSG3857"
       },
       "format": "image/png",
       "layers": "ga_ls_ard_3",
       "max_native_zoom": 18,
       "min_native_zoom": 0,
       "options": [
        "attribution",
        "detect_retina",
        "format",
        "layers",
        "max_native_zoom",
        "max_zoom",
        "min_native_zoom",
        "min_zoom",
        "no_wrap",
        "styles",
        "tile_size",
        "time",
        "tms",
        "transparent",
        "uppercase"
       ],
       "time": "2000-01-01",
       "transparent": true,
       "url": "https://ows.dea.ga.gov.au/"
      }
     },
     "f307295d7a8d43269a705d77f5ad9917": {
      "model_module": "@jupyter-widgets/base",
      "model_module_version": "1.2.0",
      "model_name": "LayoutModel",
      "state": {
       "flex": "1 0 20em",
       "height": "3em",
       "width": "20em"
      }
     },
     "f363c6421f48439fafd31b40ad93120e": {
      "model_module": "jupyter-leaflet",
      "model_module_version": "^0.13.0",
      "model_name": "LeafletMapStyleModel",
      "state": {
       "_model_module_version": "^0.13.0"
      }
     },
     "f3c4baaca6ed49ed9cd6dd2555cbb0b6": {
      "model_module": "jupyter-leaflet",
      "model_module_version": "^0.13.0",
      "model_name": "LeafletWidgetControlModel",
      "state": {
       "_model_module": "jupyter-leaflet",
       "_model_module_version": "^0.13.0",
       "_view_count": null,
       "_view_module": "jupyter-leaflet",
       "_view_module_version": "^0.13.0",
       "options": [
        "position"
       ],
       "position": "bottomleft",
       "widget": "IPY_MODEL_e8140285ae59452299453a4cca31a0a0"
      }
     },
     "f417ca0281f04a5a89f42748095016ca": {
      "model_module": "jupyter-leaflet",
      "model_module_version": "^0.13.0",
      "model_name": "LeafletTileLayerModel",
      "state": {
       "_model_module_version": "^0.13.0",
       "_view_module_version": "^0.13.0",
       "attribution": "Tiles &copy; Esri &mdash; Source: Esri, i-cubed, USDA, USGS, AEX, GeoEye, Getmapping, Aerogrid, IGN, IGP, UPR-EGP, and the GIS User Community",
       "max_native_zoom": 18,
       "max_zoom": 20,
       "min_native_zoom": 0,
       "min_zoom": 1,
       "name": "Esri.WorldImagery",
       "options": [
        "attribution",
        "detect_retina",
        "max_native_zoom",
        "max_zoom",
        "min_native_zoom",
        "min_zoom",
        "no_wrap",
        "tile_size",
        "tms"
       ],
       "url": "http://server.arcgisonline.com/ArcGIS/rest/services/World_Imagery/MapServer/tile/{z}/{y}/{x}"
      }
     },
     "f422419c62b140e99f76fb99c3a5ecc6": {
      "model_module": "jupyter-leaflet",
      "model_module_version": "^0.13.0",
      "model_name": "LeafletTileLayerModel",
      "state": {
       "_model_module_version": "^0.13.0",
       "_view_module_version": "^0.13.0",
       "max_native_zoom": 18,
       "max_zoom": 19,
       "min_native_zoom": 0,
       "min_zoom": 1,
       "name": "OpenStreetMap.Mapnik",
       "options": [
        "attribution",
        "detect_retina",
        "max_native_zoom",
        "max_zoom",
        "min_native_zoom",
        "min_zoom",
        "no_wrap",
        "tile_size",
        "tms"
       ]
      }
     },
     "f4f150a84f244c769587df146b42e1b3": {
      "model_module": "jupyter-leaflet",
      "model_module_version": "^0.13.0",
      "model_name": "LeafletTileLayerModel",
      "state": {
       "_model_module_version": "^0.13.0",
       "_view_module_version": "^0.13.0",
       "attribution": "Tiles &copy; Esri &mdash; Source: Esri, i-cubed, USDA, USGS, AEX, GeoEye, Getmapping, Aerogrid, IGN, IGP, UPR-EGP, and the GIS User Community",
       "max_native_zoom": 18,
       "max_zoom": 20,
       "min_native_zoom": 0,
       "min_zoom": 1,
       "name": "Esri.WorldImagery",
       "options": [
        "attribution",
        "detect_retina",
        "max_native_zoom",
        "max_zoom",
        "min_native_zoom",
        "min_zoom",
        "no_wrap",
        "tile_size",
        "tms"
       ],
       "url": "http://server.arcgisonline.com/ArcGIS/rest/services/World_Imagery/MapServer/tile/{z}/{y}/{x}"
      }
     },
     "f5baa15244ab4e4094dd2361f5d57d5d": {
      "model_module": "jupyter-leaflet",
      "model_module_version": "^0.13.0",
      "model_name": "LeafletTileLayerModel",
      "state": {
       "_model_module_version": "^0.13.0",
       "_view_module_version": "^0.13.0",
       "attribution": "Tiles &copy; Esri &mdash; Source: Esri, i-cubed, USDA, USGS, AEX, GeoEye, Getmapping, Aerogrid, IGN, IGP, UPR-EGP, and the GIS User Community",
       "max_native_zoom": 18,
       "max_zoom": 20,
       "min_native_zoom": 0,
       "min_zoom": 1,
       "name": "Esri.WorldImagery",
       "options": [
        "attribution",
        "detect_retina",
        "max_native_zoom",
        "max_zoom",
        "min_native_zoom",
        "min_zoom",
        "no_wrap",
        "tile_size",
        "tms"
       ],
       "url": "http://server.arcgisonline.com/ArcGIS/rest/services/World_Imagery/MapServer/tile/{z}/{y}/{x}"
      }
     },
     "f5c742be1e5144c68df3c0ef1e9afe02": {
      "model_module": "jupyter-leaflet",
      "model_module_version": "^0.13.0",
      "model_name": "LeafletMapStyleModel",
      "state": {
       "_model_module_version": "^0.13.0",
       "cursor": "move"
      }
     },
     "f6c23b2cde754248b55f97e1502c6616": {
      "model_module": "@jupyter-widgets/controls",
      "model_module_version": "1.5.0",
      "model_name": "ButtonModel",
      "state": {
       "description": "done",
       "disabled": true,
       "layout": "IPY_MODEL_785546b18d99469789ff35fa95f08d07",
       "style": "IPY_MODEL_63890ce924014b2b9b465ed6bd31ff92"
      }
     },
     "f6f312e27dd84049a4ad7aefe698d7fd": {
      "model_module": "jupyter-leaflet",
      "model_module_version": "^0.13.0",
      "model_name": "LeafletWidgetControlModel",
      "state": {
       "_model_module": "jupyter-leaflet",
       "_model_module_version": "^0.13.0",
       "_view_count": null,
       "_view_module": "jupyter-leaflet",
       "_view_module_version": "^0.13.0",
       "options": [
        "position"
       ],
       "position": "bottomleft",
       "widget": "IPY_MODEL_aa03d616454549538d78756fef236429"
      }
     },
     "f79e9fa748bf40b99671b1dc5ea11c32": {
      "model_module": "jupyter-leaflet",
      "model_module_version": "^0.13.0",
      "model_name": "LeafletWMSLayerModel",
      "state": {
       "_model_module_version": "^0.13.0",
       "_view_module_version": "^0.13.0",
       "attribution": "Digital Earth Australia",
       "crs": {
        "custom": false,
        "name": "EPSG3857"
       },
       "format": "image/png",
       "layers": "s2_ard_granule_nbar_t",
       "max_native_zoom": 18,
       "min_native_zoom": 0,
       "options": [
        "attribution",
        "detect_retina",
        "format",
        "layers",
        "max_native_zoom",
        "max_zoom",
        "min_native_zoom",
        "min_zoom",
        "no_wrap",
        "styles",
        "tile_size",
        "time",
        "tms",
        "transparent",
        "uppercase"
       ],
       "time": "2019-01-01",
       "transparent": true,
       "url": "https://ows.dea.ga.gov.au/"
      }
     },
     "f82ad2b438cb4a7fbbcf3d0f479062c8": {
      "model_module": "jupyter-leaflet",
      "model_module_version": "^0.13.0",
      "model_name": "LeafletWMSLayerModel",
      "state": {
       "_model_module_version": "^0.13.0",
       "_view_module_version": "^0.13.0",
       "attribution": "Weather data © 2012 IEM Nexrad",
       "crs": {
        "custom": false,
        "name": "EPSG3857"
       },
       "format": "image/png",
       "layers": "ga_ls_ard_3",
       "max_native_zoom": 18,
       "min_native_zoom": 0,
       "options": [
        "attribution",
        "detect_retina",
        "format",
        "layers",
        "max_native_zoom",
        "max_zoom",
        "min_native_zoom",
        "min_zoom",
        "no_wrap",
        "styles",
        "tile_size",
        "time",
        "tms",
        "transparent",
        "uppercase"
       ],
       "time": "2005-09-01",
       "transparent": true,
       "url": "https://ows.dea.ga.gov.au/"
      }
     },
     "f897dc73d8214c6abeb2821b11c7c37e": {
      "model_module": "jupyter-leaflet",
      "model_module_version": "^0.13.0",
      "model_name": "LeafletAttributionControlModel",
      "state": {
       "_model_module_version": "^0.13.0",
       "_view_module_version": "^0.13.0",
       "options": [
        "position",
        "prefix"
       ],
       "position": "bottomright",
       "prefix": "Leaflet"
      }
     },
     "f8cf2a1f91924156953496762241585a": {
      "model_module": "@jupyter-widgets/controls",
      "model_module_version": "1.5.0",
      "model_name": "ButtonModel",
      "state": {
       "description": "done",
       "disabled": true,
       "layout": "IPY_MODEL_accd140d0f5c4c1ab419eab7aab030a8",
       "style": "IPY_MODEL_d94743b2ce55497080958ce3ea22dcea"
      }
     },
     "f935525ace774f999645bf3b17800baa": {
      "model_module": "jupyter-leaflet",
      "model_module_version": "^0.13.0",
      "model_name": "LeafletWidgetControlModel",
      "state": {
       "_model_module": "jupyter-leaflet",
       "_model_module_version": "^0.13.0",
       "_view_count": null,
       "_view_module": "jupyter-leaflet",
       "_view_module_version": "^0.13.0",
       "options": [
        "position"
       ],
       "position": "topright",
       "widget": "IPY_MODEL_f092a0863a624ce5b6c61be419ccd5a4"
      }
     },
     "fa16e3d9163a48b6be340615d4ebf15d": {
      "model_module": "@jupyter-widgets/base",
      "model_module_version": "1.2.0",
      "model_name": "LayoutModel",
      "state": {
       "height": "600px"
      }
     },
     "fa2ae733bd284d778d276f2022e0c253": {
      "model_module": "jupyter-leaflet",
      "model_module_version": "^0.13.0",
      "model_name": "LeafletWidgetControlModel",
      "state": {
       "_model_module": "jupyter-leaflet",
       "_model_module_version": "^0.13.0",
       "_view_count": null,
       "_view_module": "jupyter-leaflet",
       "_view_module_version": "^0.13.0",
       "options": [
        "position"
       ],
       "position": "bottomleft",
       "widget": "IPY_MODEL_e94083a5e0bb4c74a00382f8190c9572"
      }
     },
     "fa641fa33fdb401da3d9a6f86212b508": {
      "model_module": "jupyter-leaflet",
      "model_module_version": "^0.13.0",
      "model_name": "LeafletWMSLayerModel",
      "state": {
       "_model_module_version": "^0.13.0",
       "_view_module_version": "^0.13.0",
       "attribution": "Digital Earth Australia",
       "crs": {
        "custom": false,
        "name": "EPSG3857"
       },
       "format": "image/png",
       "layers": "ga_ls_ard_3",
       "max_native_zoom": 18,
       "min_native_zoom": 0,
       "options": [
        "attribution",
        "detect_retina",
        "format",
        "layers",
        "max_native_zoom",
        "max_zoom",
        "min_native_zoom",
        "min_zoom",
        "no_wrap",
        "styles",
        "tile_size",
        "time",
        "tms",
        "transparent",
        "uppercase"
       ],
       "time": "2019-01-01",
       "transparent": true,
       "url": "https://ows.dea.ga.gov.au/"
      }
     },
     "fb22238fbbdf4cdb86bffb643e3de8e7": {
      "model_module": "jupyter-leaflet",
      "model_module_version": "^0.13.0",
      "model_name": "LeafletAttributionControlModel",
      "state": {
       "_model_module_version": "^0.13.0",
       "_view_module_version": "^0.13.0",
       "options": [
        "position",
        "prefix"
       ],
       "position": "bottomright",
       "prefix": "Leaflet"
      }
     },
     "fc4d1ac58cc947eebf558d14823deb66": {
      "model_module": "@jupyter-widgets/controls",
      "model_module_version": "1.5.0",
      "model_name": "ButtonStyleModel",
      "state": {
       "button_color": "green"
      }
     },
     "fca1ffbe48d44e3a9478d8a5ab60d7f4": {
      "model_module": "@jupyter-widgets/controls",
      "model_module_version": "1.5.0",
      "model_name": "HTMLModel",
      "state": {
       "layout": "IPY_MODEL_645bff3eefea4717abb839437aa5ff69",
       "style": "IPY_MODEL_ef1d66913cf246ad95fe5906e8530d3e",
       "value": "<pre style=\"color:grey\">lat: [-22.9129, -21.3866]\nlon: [113.1702, 116.4716]</pre>"
      }
     },
     "fcbe0b0c2e864a02b941c1db6f135bfb": {
      "model_module": "@jupyter-widgets/controls",
      "model_module_version": "1.5.0",
      "model_name": "DescriptionStyleModel",
      "state": {
       "description_width": ""
      }
     },
     "fd2d6e6fcd814ea3a31824a655b00298": {
      "model_module": "jupyter-leaflet",
      "model_module_version": "^0.13.0",
      "model_name": "LeafletMapStyleModel",
      "state": {
       "_model_module_version": "^0.13.0"
      }
     },
     "fdcbc4598cc74e478f6cb42c280db602": {
      "model_module": "jupyter-leaflet",
      "model_module_version": "^0.13.0",
      "model_name": "LeafletMapStyleModel",
      "state": {
       "_model_module_version": "^0.13.0",
       "cursor": "move"
      }
     },
     "ff9b9b3bf3134b59bca272a9f38e2536": {
      "model_module": "jupyter-leaflet",
      "model_module_version": "^0.13.0",
      "model_name": "LeafletZoomControlModel",
      "state": {
       "_model_module_version": "^0.13.0",
       "_view_module_version": "^0.13.0",
       "options": [
        "position",
        "zoom_in_text",
        "zoom_in_title",
        "zoom_out_text",
        "zoom_out_title"
       ]
      }
     },
     "fff7b24553f747d4975bc94be65d23f1": {
      "model_module": "jupyter-leaflet",
      "model_module_version": "^0.13.0",
      "model_name": "LeafletAttributionControlModel",
      "state": {
       "_model_module_version": "^0.13.0",
       "_view_module_version": "^0.13.0",
       "options": [
        "position",
        "prefix"
       ],
       "position": "bottomright",
       "prefix": "Leaflet"
      }
     }
    },
    "version_major": 2,
    "version_minor": 0
   }
  }
 },
 "nbformat": 4,
 "nbformat_minor": 4
}
