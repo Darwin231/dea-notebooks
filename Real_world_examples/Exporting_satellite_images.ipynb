{
 "cells": [
  {
   "cell_type": "markdown",
   "metadata": {},
   "source": [
    "# Exporting high quality satellite images <img align=\"right\" src=\"../Supplementary_data/dea_logo.jpg\">\n",
    "\n",
    "* [**Sign up to the DEA Sandbox**](https://docs.dea.ga.gov.au/setup/sandbox.html) to run this notebook interactively from a browser\n",
    "* **Compatibility:** Notebook currently compatible with both the `DEA Sandbox` and `NCI` environments\n",
    "* **Products used:** \n",
    "[ga_ls5t_ard_3](https://explorer.sandbox.dea.ga.gov.au/ga_ls5t_ard_3),\n",
    "[ga_ls7e_ard_3](https://explorer.sandbox.dea.ga.gov.au/ga_ls7e_ard_3),\n",
    "[ga_ls8c_ard_3](https://explorer.sandbox.dea.ga.gov.au/ga_ls8c_ard_3),\n",
    "[s2a_ard_granule](https://explorer.sandbox.dea.ga.gov.au/s2a_ard_granule),\n",
    "[s2b_ard_granule](https://explorer.sandbox.dea.ga.gov.au/s2b_ard_granule),\n",
    "[s2a_nrt_granule](https://explorer.sandbox.dea.ga.gov.au/s2a_nrt_granule),\n",
    "[s2b_nrt_granule](https://explorer.sandbox.dea.ga.gov.au/s2b_nrt_granule)\n"
   ]
  },
  {
   "cell_type": "markdown",
   "metadata": {},
   "source": [
    "## Background\n",
    "Most of the case studies in this repository focus on quantitatively analysing satellite data to obtain insights into Australia's changing environment. \n",
    "However, satellite imagery also represents a powerful tool for visualisation.\n",
    "Images taken by satellites can help explain physical processes, highlight change over time, or provide valuable context to better understand the impacts of recent environmental events such as flooding or fire. \n",
    "Satellite data can also be processed to create images of the landscape based on invisible wavelengths of light (e.g. false colour images), allowing us to obtain richer insights into features and processes that would otherwise be invisible to the human eye.\n",
    "\n",
    "### Digital Earth Australia use case\n",
    "\n",
    "**Digital Earth Australia** provides over three decades of satellite imagery across the entire continent of Australia. Satellite data from the [NASA/USGS Landsat program](https://www.usgs.gov/land-resources/nli/landsat) allow us to produce fortnightly images of Australia's diverse natural and artificial landscapes at any time since 1986. More recently, the [Copernicus Sentinel-2 mission](https://sentinel.esa.int/web/sentinel/missions/sentinel-2) has provided even higher resolution imagery as frequently as every 5 days since 2015. \n",
    "\n",
    "\n",
    "\n"
   ]
  },
  {
   "cell_type": "markdown",
   "metadata": {},
   "source": [
    "## Description\n",
    "This notebook provides an interactive tool for selecting, loading, processing and exporting satellite imagery as a high quality image file. \n",
    "This can be used in combination with the interactive [Digital Earth Australia Maps](maps.dea.ga.gov.au) platform to identify an image of interest, then download it using this notebook for use in other applications.\n",
    "\n",
    "\n",
    "***"
   ]
  },
  {
   "cell_type": "markdown",
   "metadata": {},
   "source": [
    "## Getting started\n",
    "\n",
    "To run this analysis, run all the cells in the notebook, starting with the \"Load packages\" cell. "
   ]
  },
  {
   "cell_type": "markdown",
   "metadata": {},
   "source": [
    "### Load packages\n",
    "Import Python packages used for the analysis."
   ]
  },
  {
   "cell_type": "code",
   "execution_count": 3,
   "metadata": {},
   "outputs": [
    {
     "name": "stdout",
     "output_type": "stream",
     "text": [
      "The autoreload extension is already loaded. To reload it, use:\n",
      "  %reload_ext autoreload\n"
     ]
    },
    {
     "name": "stderr",
     "output_type": "stream",
     "text": [
      "/env/lib/python3.8/site-packages/geopandas/_compat.py:106: UserWarning: The Shapely GEOS version (3.8.0-CAPI-1.13.1 ) is incompatible with the GEOS version PyGEOS was compiled with (3.9.1-CAPI-1.14.2). Conversions between both will be slow.\n",
      "  warnings.warn(\n"
     ]
    }
   ],
   "source": [
    "%matplotlib inline\n",
    "%load_ext autoreload\n",
    "%autoreload 2\n",
    "\n",
    "import sys\n",
    "sys.path.insert(1, '../Supplementary_data/')\n",
    "from notebookapp_imageexport import run_imageexport_app\n"
   ]
  },
  {
   "cell_type": "markdown",
   "metadata": {},
   "source": [
    "### Analysis parameters\n",
    "\n",
    "The following cell sets important required parameters for the analysis:\n",
    "\n",
    "* `date`: The exact date used to extract imagery (e.g. `date='1988-01-01'`).\n",
    "* `satellites`: The satellite data to be used to extract the image. \n",
    "Three options are currently supported:\n",
    " \n",
    "|                    |                                                                                                                          | \n",
    "|--------------------|--------------------------------------------------------------------------------------------------------------------------|\n",
    "| **\"Landsat\"**        | Data from the Landsat 5, 7 and 8 satellites                                                                              |\n",
    "| **\"Sentinel-2\"**     | Data from the Sentinel-2A and 2B satellites                                                                              |\n",
    "| **\"Sentinel-2 NRT\"** | Most recent 'near real time' data from Sentinel-2A and 2B. Use this to obtain imagery acquired in the past three months. |\n",
    "    \n",
    "* `style`: The style used to produce the image. \n",
    "Two options are currently supported:\n",
    "\n",
    "|                    |                                                                                                                          | \n",
    "|--------------------|--------------------------------------------------------------------------------------------------------------------------|\n",
    "| **\"True colour\"**    | Creates a true colour image using the red, green and blue satellite bands                                                |\n",
    "| **\"False colour\"**   | Creates a false colour image using short-wave infrared, infrared and green satellite bands.                              |\n",
    "\n",
    "Optional parameters:\n",
    "\n",
    "* `pansharpen`: Whether to apply pansharpening (using the Brovey Transform) to increase the resolution of Landsat 7 and 8 imagery from 30 m to 15 m pixels. This will only be applied if all the following are true: data comes from Landsat 7 or 8, style is set to \"True colour\", and no custom resolution is provided (see below).\n",
    "* `resolution`: The spatial resolution to load data. By default, the tool will automatically set the best possible resolution depending on the satellites selected (i.e. 30 m for Landsat, 10 m for Sentinel-2).\n",
    "Increasing this (e.g. to `resolution = (-100, 100)`) can be useful for loading large spatial extents.\n",
    "* `vmin, vmax`: The minimum and maximum surface reflectance values used to clip the resulting imagery to enhance contrast. \n",
    "* `percentile_stretch`: A tuple of two percentiles (i.e. between 0.00 and 1.00) that can be used to clip the imagery to optimise the brightness and contrast of the image. \n",
    "If this parameter is used, `vmin` and `vmax` will have no effect.\n",
    "* `power`: Raises imagery by a power to reduce bright features and enhance dark features. \n",
    "This can add extra definition over areas with extremely bright features like snow, beaches or salt pans.\n",
    "\n",
    "\n",
    "> **If running the notebook for the first time**, keep the default settings below. This will demonstrate how the analysis works and provide meaningful results. \n"
   ]
  },
  {
   "cell_type": "code",
   "execution_count": 48,
   "metadata": {},
   "outputs": [],
   "source": [
    "# Required parameters\n",
    "satellites = 'Sentinel-2'\n",
    "date = '2020-01-30'\n",
    "style = 'True colour'\n",
    "\n",
    "# Optional parameters\n",
    "pansharpen = True\n",
    "resolution = None\n",
    "vmin, vmax = (0, 2000)\n",
    "percentile_stretch = None\n",
    "power = None"
   ]
  },
  {
   "cell_type": "markdown",
   "metadata": {},
   "source": [
    "## Select location and export image\n",
    "Run the following cell to start the analysis. \n",
    "This will plot an interactive map that is used to select the area to load and export satellite imagery.\n",
    "\n",
    "Select the `Draw a rectangle` or `Draw a polygon` tool on the left of the map, and draw a shape around the area you are interested in. \n",
    "When you are ready, press the green `done` button on the top right of the map. \n",
    "This will start loading the data, and then export an image file.\n",
    "\n",
    "> Depending on the size of the area you select, this step can take **several minutes to complete**.\n",
    "To keep load times reasonable, select an area **smaller than 30000 square kilometers** in size (this limit can be overuled by supplying the `size_limit` parameter in the `run_exportimage_app` function below).\n"
   ]
  },
  {
   "cell_type": "code",
   "execution_count": 49,
   "metadata": {},
   "outputs": [
    {
     "data": {
      "application/vnd.jupyter.widget-view+json": {
       "model_id": "17c1b116d53d41309799a87df2744fd1",
       "version_major": 2,
       "version_minor": 0
      },
      "text/plain": [
       "Map(center=[-25.18, 134.18], controls=(ZoomControl(options=['position', 'zoom_in_text', 'zoom_in_title', 'zoom…"
      ]
     },
     "metadata": {},
     "output_type": "display_data"
    },
    {
     "name": "stderr",
     "output_type": "stream",
     "text": [
      "/env/lib/python3.8/site-packages/distributed/node.py:151: UserWarning: Port 8787 is already in use.\n",
      "Perhaps you already have a cluster running?\n",
      "Hosting the HTTP server on port 36163 instead\n",
      "  warnings.warn(\n"
     ]
    },
    {
     "data": {
      "text/html": [
       "<table style=\"border: 2px solid white;\">\n",
       "<tr>\n",
       "<td style=\"vertical-align: top; border: 0px solid white\">\n",
       "<h3 style=\"text-align: left;\">Client</h3>\n",
       "<ul style=\"text-align: left; list-style: none; margin: 0; padding: 0;\">\n",
       "  <li><b>Scheduler: </b>tcp://127.0.0.1:34595</li>\n",
       "  <li><b>Dashboard: </b><a href='/user/robbibt/proxy/36163/status' target='_blank'>/user/robbibt/proxy/36163/status</a></li>\n",
       "</ul>\n",
       "</td>\n",
       "<td style=\"vertical-align: top; border: 0px solid white\">\n",
       "<h3 style=\"text-align: left;\">Cluster</h3>\n",
       "<ul style=\"text-align: left; list-style:none; margin: 0; padding: 0;\">\n",
       "  <li><b>Workers: </b>1</li>\n",
       "  <li><b>Cores: </b>7</li>\n",
       "  <li><b>Memory: </b>63.57 GB</li>\n",
       "</ul>\n",
       "</td>\n",
       "</tr>\n",
       "</table>"
      ],
      "text/plain": [
       "<Client: 'tcp://127.0.0.1:34595' processes=1 threads=7, memory=63.57 GB>"
      ]
     },
     "metadata": {},
     "output_type": "display_data"
    },
    {
     "name": "stdout",
     "output_type": "stream",
     "text": [
      "\n",
      "Exporting image to Sentinel-2B - 2020-01-30 - Dampier Archipelago, Western Australia - True colour, 10 m resolution.png.\n",
      "This may take several minutes to complete...\n",
      "Finished exporting image.\n"
     ]
    },
    {
     "data": {
      "image/png": "[encoded data removed]",
      "text/plain": [
       "<Figure size 432x288 with 1 Axes>"
      ]
     },
     "metadata": {
      "needs_background": "light"
     },
     "output_type": "display_data"
    }
   ],
   "source": [
    "run_imageexport_app(date, satellites, style, pansharpen, resolution, \n",
    "                    vmin, vmax, percentile_stretch, power)"
   ]
  },
  {
   "cell_type": "markdown",
   "metadata": {},
   "source": [
    "## Downloading exported image\n",
    "\n",
    "The image export will be completed when `Finished exporting image` appears above, and a preview of your image is shown below the map.\n",
    "\n",
    "The high resolution image file generated above will be saved to the same location you are running this notebook from (e.g. typically `Real_world_examples`). \n",
    "In JupyterLab, use the file browser to locate the image file with a name in the following format: \n",
    "\n",
    "`Landsat - 2021-03-31 - Canberra, Australian Capital Territory - True colour.png`\n",
    "\n",
    "If you are using the **DEA Sandbox**, you can download the image to your PC by right clicking on the image file and selecting `Download`."
   ]
  },
  {
   "cell_type": "markdown",
   "metadata": {},
   "source": [
    "## Next steps\n",
    "When you are done, return to the [Analysis parameters](#Analysis-parameters) section, modify some values and rerun the analysis. \n",
    "For example, you could try:\n",
    "\n",
    "* Change `satellites` to `\"Sentinel-2\"` or `\"Sentinel-2 NRT\"` to export a Sentinel-2 image instead of Landsat.\n",
    "* Modify `style` to `\"False colour\"` to export a false colour view of the landscape that highlights growing vegetation and water.\n",
    "* Specify a custom resolution, e.g. `resolution = (-1000, 1000)`.\n",
    "* Experiment with the `vmin`, `vmax`, `percentile_stretch` and `power` parameters to alter the appearance of the resulting image.\n"
   ]
  },
  {
   "cell_type": "markdown",
   "metadata": {},
   "source": [
    "***\n",
    "\n",
    "## Additional information\n",
    "\n",
    "**License:** The code in this notebook is licensed under the [Apache License, Version 2.0](https://www.apache.org/licenses/LICENSE-2.0). \n",
    "Digital Earth Australia data is licensed under the [Creative Commons by Attribution 4.0](https://creativecommons.org/licenses/by/4.0/) license.\n",
    "\n",
    "**Contact:** If you need assistance, please post a question on the [Open Data Cube Slack channel](http://slack.opendatacube.org/) or on the [GIS Stack Exchange](https://gis.stackexchange.com/questions/ask?tags=open-data-cube) using the `open-data-cube` tag (you can view previously asked questions [here](https://gis.stackexchange.com/questions/tagged/open-data-cube)).\n",
    "If you would like to report an issue with this notebook, you can file one on [Github](https://github.com/GeoscienceAustralia/dea-notebooks).\n",
    "\n",
    "**Last modified:** September 2021\n",
    "\n",
    "**Compatible datacube version:** "
   ]
  },
  {
   "cell_type": "code",
   "execution_count": null,
   "metadata": {},
   "outputs": [],
   "source": [
    "import datacube\n",
    "print(datacube.__version__)"
   ]
  },
  {
   "cell_type": "markdown",
   "metadata": {},
   "source": [
    "## Tags\n",
    "Browse all available tags on the DEA User Guide's [Tags Index](https://docs.dea.ga.gov.au/genindex.html)"
   ]
  },
  {
   "cell_type": "raw",
   "metadata": {
    "raw_mimetype": "text/restructuredtext"
   },
   "source": [
    "**Tags**: :index:`NCI compatible`, :index:`sandbox compatible`, :index:`landsat 5`, :index:`landsat 7`, :index:`landsat 8`, :index:`load_ard`, :index:`mostcommon_crs`, :index:`rgb`, :index:`real world`, :index:`widgets`, :index:`interactive`, :index:`no_testing`"
   ]
  }
 ],
 "metadata": {
  "kernelspec": {
   "display_name": "Python 3",
   "language": "python",
   "name": "python3"
  },
  "language_info": {
   "codemirror_mode": {
    "name": "ipython",
    "version": 3
   },
   "file_extension": ".py",
   "mimetype": "text/x-python",
   "name": "python",
   "nbconvert_exporter": "python",
   "pygments_lexer": "ipython3",
   "version": "3.8.10"
  },
  "widgets": {
   "application/vnd.jupyter.widget-state+json": {
    "state": {
     "0091ba4c678b4149a6f38807a5bd82c2": {
      "model_module": "jupyter-leaflet",
      "model_module_version": "^0.13.0",
      "model_name": "LeafletWMSLayerModel",
      "state": {
       "_model_module_version": "^0.13.0",
       "_view_module_version": "^0.13.0",
       "attribution": "Digital Earth Australia",
       "crs": {
        "custom": false,
        "name": "EPSG3857"
       },
       "format": "image/png",
       "layers": "ga_ls_ard_3",
       "max_native_zoom": 18,
       "min_native_zoom": 0,
       "options": [
        "attribution",
        "detect_retina",
        "format",
        "layers",
        "max_native_zoom",
        "max_zoom",
        "min_native_zoom",
        "min_zoom",
        "no_wrap",
        "styles",
        "tile_size",
        "time",
        "tms",
        "transparent",
        "uppercase"
       ],
       "time": "2018-04-01",
       "transparent": true,
       "url": "https://ows.dea.ga.gov.au/"
      }
     },
     "01bbb24b658b414fa111e7b1c1e72848": {
      "model_module": "@jupyter-widgets/controls",
      "model_module_version": "1.5.0",
      "model_name": "ButtonStyleModel",
      "state": {
       "button_color": "green"
      }
     },
     "02cb5b0ccf8946b4ae86d99f394ef717": {
      "model_module": "jupyter-leaflet",
      "model_module_version": "^0.13.0",
      "model_name": "LeafletWMSLayerModel",
      "state": {
       "_model_module_version": "^0.13.0",
       "_view_module_version": "^0.13.0",
       "attribution": "Digital Earth Australia",
       "crs": {
        "custom": false,
        "name": "EPSG3857"
       },
       "format": "image/png",
       "layers": "ga_ls_ard_3",
       "max_native_zoom": 18,
       "min_native_zoom": 0,
       "options": [
        "attribution",
        "detect_retina",
        "format",
        "layers",
        "max_native_zoom",
        "max_zoom",
        "min_native_zoom",
        "min_zoom",
        "no_wrap",
        "styles",
        "tile_size",
        "time",
        "tms",
        "transparent",
        "uppercase"
       ],
       "time": "2021-06-01",
       "transparent": true,
       "url": "https://ows.dea.ga.gov.au/"
      }
     },
     "02ee11058f7844eb9b81ae5e8c7ec58e": {
      "model_module": "jupyter-leaflet",
      "model_module_version": "^0.13.0",
      "model_name": "LeafletTileLayerModel",
      "state": {
       "_model_module_version": "^0.13.0",
       "_view_module_version": "^0.13.0",
       "max_native_zoom": 18,
       "max_zoom": 19,
       "min_native_zoom": 0,
       "min_zoom": 1,
       "name": "OpenStreetMap.Mapnik",
       "options": [
        "attribution",
        "detect_retina",
        "max_native_zoom",
        "max_zoom",
        "min_native_zoom",
        "min_zoom",
        "no_wrap",
        "tile_size",
        "tms"
       ]
      }
     },
     "0314d20baeb94bb3bf39d1ebe66337b3": {
      "model_module": "jupyter-leaflet",
      "model_module_version": "^0.13.0",
      "model_name": "LeafletMapStyleModel",
      "state": {
       "_model_module_version": "^0.13.0"
      }
     },
     "032199c31f0546fab696f06e21edecba": {
      "model_module": "jupyter-leaflet",
      "model_module_version": "^0.13.0",
      "model_name": "LeafletMapStyleModel",
      "state": {
       "_model_module_version": "^0.13.0",
       "cursor": "move"
      }
     },
     "0505a3436f724825ab994bf43b039ab3": {
      "model_module": "jupyter-leaflet",
      "model_module_version": "^0.13.0",
      "model_name": "LeafletFullScreenControlModel",
      "state": {
       "_model_module_version": "^0.13.0",
       "_view_module_version": "^0.13.0",
       "options": [
        "position"
       ]
      }
     },
     "051ec1c286fa41ed9e0236211837eb88": {
      "model_module": "jupyter-leaflet",
      "model_module_version": "^0.13.0",
      "model_name": "LeafletZoomControlModel",
      "state": {
       "_model_module_version": "^0.13.0",
       "_view_module_version": "^0.13.0",
       "options": [
        "position",
        "zoom_in_text",
        "zoom_in_title",
        "zoom_out_text",
        "zoom_out_title"
       ]
      }
     },
     "0698327805dd45a99758dcda0dbc7a10": {
      "model_module": "jupyter-leaflet",
      "model_module_version": "^0.13.0",
      "model_name": "LeafletWidgetControlModel",
      "state": {
       "_model_module": "jupyter-leaflet",
       "_model_module_version": "^0.13.0",
       "_view_count": null,
       "_view_module": "jupyter-leaflet",
       "_view_module_version": "^0.13.0",
       "options": [
        "position"
       ],
       "position": "bottomleft",
       "widget": "IPY_MODEL_8c1c487089d94d60a397db9b1b8230d5"
      }
     },
     "071165a2b5574bd5969f331dd768a3bf": {
      "model_module": "jupyter-leaflet",
      "model_module_version": "^0.13.0",
      "model_name": "LeafletMapStyleModel",
      "state": {
       "_model_module_version": "^0.13.0"
      }
     },
     "08025f83225a471696c754e4bb906b41": {
      "model_module": "@jupyter-widgets/controls",
      "model_module_version": "1.5.0",
      "model_name": "ButtonStyleModel",
      "state": {
       "button_color": "green"
      }
     },
     "08e9bed6e6a24d8a855cfe5e65df6f7c": {
      "model_module": "jupyter-leaflet",
      "model_module_version": "^0.13.0",
      "model_name": "LeafletDrawControlModel",
      "state": {
       "_model_module_version": "^0.13.0",
       "_view_module_version": "^0.13.0",
       "options": [
        "position"
       ],
       "polygon": {
        "shapeOptions": {
         "color": "#000000",
         "editing": {
          "color": "#000000",
          "fillColor": "#fca45d",
          "fillOpacity": 0.1
         },
         "fillColor": "#fca45d",
         "fillOpacity": 0.1,
         "original": {
          "color": "#000000",
          "fillColor": "#fca45d",
          "fillOpacity": 0.1
         }
        }
       },
       "polyline": {},
       "rectangle": {
        "metric": [
         "km",
         "m"
        ],
        "shapeOptions": {
         "color": "#000000",
         "fillColor": "#fca45d",
         "fillOpacity": 0.1
        }
       }
      }
     },
     "09348c274cdd4d3da0cd493446cc198d": {
      "model_module": "jupyter-leaflet",
      "model_module_version": "^0.13.0",
      "model_name": "LeafletWMSLayerModel",
      "state": {
       "_model_module_version": "^0.13.0",
       "_view_module_version": "^0.13.0",
       "attribution": "Digital Earth Australia",
       "crs": {
        "custom": false,
        "name": "EPSG3857"
       },
       "format": "image/png",
       "layers": "ga_ls_ard_3",
       "max_native_zoom": 18,
       "min_native_zoom": 0,
       "options": [
        "attribution",
        "detect_retina",
        "format",
        "layers",
        "max_native_zoom",
        "max_zoom",
        "min_native_zoom",
        "min_zoom",
        "no_wrap",
        "styles",
        "tile_size",
        "time",
        "tms",
        "transparent",
        "uppercase"
       ],
       "time": "2020-01-01",
       "transparent": true,
       "url": "https://ows.dea.ga.gov.au/"
      }
     },
     "094ce7516d564f14bb077dbc56d91b4a": {
      "model_module": "jupyter-leaflet",
      "model_module_version": "^0.13.0",
      "model_name": "LeafletDrawControlModel",
      "state": {
       "_model_module_version": "^0.13.0",
       "_view_module_version": "^0.13.0",
       "options": [
        "position"
       ],
       "polygon": {
        "shapeOptions": {
         "color": "#000000",
         "editing": {
          "color": "#000000",
          "fillColor": "#fca45d",
          "fillOpacity": 0.1
         },
         "fillColor": "#fca45d",
         "fillOpacity": 0.1,
         "original": {
          "color": "#000000",
          "fillColor": "#fca45d",
          "fillOpacity": 0.1
         }
        }
       },
       "polyline": {},
       "rectangle": {
        "metric": [
         "km",
         "m"
        ],
        "shapeOptions": {
         "color": "#000000",
         "fillColor": "#fca45d",
         "fillOpacity": 0.1
        }
       }
      }
     },
     "09ad651a5f134ef79b05c5cd5a09e2cd": {
      "model_module": "@jupyter-widgets/base",
      "model_module_version": "1.2.0",
      "model_name": "LayoutModel",
      "state": {
       "height": "600px"
      }
     },
     "09eb5c6123a24db9902ee91b77e248c7": {
      "model_module": "jupyter-leaflet",
      "model_module_version": "^0.13.0",
      "model_name": "LeafletMapStyleModel",
      "state": {
       "_model_module_version": "^0.13.0"
      }
     },
     "09f1b19dd2694793b108876bc70905d6": {
      "model_module": "jupyter-leaflet",
      "model_module_version": "^0.13.0",
      "model_name": "LeafletWMSLayerModel",
      "state": {
       "_model_module_version": "^0.13.0",
       "_view_module_version": "^0.13.0",
       "attribution": "Digital Earth Australia",
       "crs": {
        "custom": false,
        "name": "EPSG3857"
       },
       "format": "image/png",
       "layers": "s2_ard_granule_nbar_t",
       "max_native_zoom": 18,
       "min_native_zoom": 0,
       "options": [
        "attribution",
        "detect_retina",
        "format",
        "layers",
        "max_native_zoom",
        "max_zoom",
        "min_native_zoom",
        "min_zoom",
        "no_wrap",
        "styles",
        "tile_size",
        "time",
        "tms",
        "transparent",
        "uppercase"
       ],
       "time": "2020-01-30",
       "transparent": true,
       "url": "https://ows.dea.ga.gov.au/"
      }
     },
     "0a4a1f7b303e44b2bd5145bdf62a355a": {
      "model_module": "jupyter-leaflet",
      "model_module_version": "^0.13.0",
      "model_name": "LeafletWidgetControlModel",
      "state": {
       "_model_module": "jupyter-leaflet",
       "_model_module_version": "^0.13.0",
       "_view_count": null,
       "_view_module": "jupyter-leaflet",
       "_view_module_version": "^0.13.0",
       "options": [
        "position"
       ],
       "position": "bottomleft",
       "widget": "IPY_MODEL_0f97ca0dd6394421a6eddcf276aa2e8b"
      }
     },
     "0ace5cedd23149f09410a6c5644c8c23": {
      "model_module": "@jupyter-widgets/controls",
      "model_module_version": "1.5.0",
      "model_name": "DescriptionStyleModel",
      "state": {
       "description_width": ""
      }
     },
     "0b73e708640f45b19d2c586dfbec8c21": {
      "model_module": "jupyter-leaflet",
      "model_module_version": "^0.13.0",
      "model_name": "LeafletMapStyleModel",
      "state": {
       "_model_module_version": "^0.13.0"
      }
     },
     "0b8c5757177743789b911d8f45ed8995": {
      "model_module": "@jupyter-widgets/base",
      "model_module_version": "1.2.0",
      "model_name": "LayoutModel",
      "state": {
       "height": "600px"
      }
     },
     "0c834e99dbff4135a5141528c6842e4f": {
      "model_module": "@jupyter-widgets/controls",
      "model_module_version": "1.5.0",
      "model_name": "DescriptionStyleModel",
      "state": {
       "description_width": ""
      }
     },
     "0cd9ae5808d144838f30a1c9c64ed8b6": {
      "model_module": "@jupyter-widgets/controls",
      "model_module_version": "1.5.0",
      "model_name": "ButtonModel",
      "state": {
       "description": "done",
       "disabled": true,
       "layout": "IPY_MODEL_645592073c6c44d9a0baf7496332c690",
       "style": "IPY_MODEL_d1ce9305a8ae4ac98f49d1dac27f6521"
      }
     },
     "0d3c3c65b93244b0aaf7a10056b27dc9": {
      "model_module": "@jupyter-widgets/controls",
      "model_module_version": "1.5.0",
      "model_name": "ButtonStyleModel",
      "state": {
       "button_color": "green"
      }
     },
     "0d40b661ea6e4fa89b1a471f2a6f67e4": {
      "model_module": "jupyter-leaflet",
      "model_module_version": "^0.13.0",
      "model_name": "LeafletMapStyleModel",
      "state": {
       "_model_module_version": "^0.13.0"
      }
     },
     "0dfa4061d6434737bcde0175819ce2b8": {
      "model_module": "@jupyter-widgets/controls",
      "model_module_version": "1.5.0",
      "model_name": "HTMLModel",
      "state": {
       "layout": "IPY_MODEL_e13a7949d13c45b8ac75d862aaf05afd",
       "style": "IPY_MODEL_54c705511c0d4b00a786b5b815a1a9f8",
       "value": "<pre style=\"color:grey\">lat: [90.0000, -90.0000]\nlon: [180.0000, -180.0000]</pre>"
      }
     },
     "0f97ca0dd6394421a6eddcf276aa2e8b": {
      "model_module": "@jupyter-widgets/controls",
      "model_module_version": "1.5.0",
      "model_name": "HTMLModel",
      "state": {
       "layout": "IPY_MODEL_5bb51cb50a324d4a9bebc05ac3a718cc",
       "style": "IPY_MODEL_2181673f203f4185a5614b56e8decf21",
       "value": "<pre style=\"color:grey\">lat: [-18.5616, -17.7788]\nlon: [121.7697, 122.5319]</pre>"
      }
     },
     "106dc39f3f5244f19d34ccfc733d22f2": {
      "model_module": "jupyter-leaflet",
      "model_module_version": "^0.13.0",
      "model_name": "LeafletMapModel",
      "state": {
       "_model_module_version": "^0.13.0",
       "_view_module_version": "^0.13.0",
       "center": [
        -15.172879337054226,
        125.21186828613281
       ],
       "controls": [
        "IPY_MODEL_b8f842b9e8334ed09920a0cbd9e40ff2",
        "IPY_MODEL_ad96bb39798a4729aecf458fedef97b7",
        "IPY_MODEL_3a2afe32dfef4570bdd82ea8b5e7b3ad",
        "IPY_MODEL_9cec6c3aac4740c5a4b9c2dd056dcac5",
        "IPY_MODEL_474af76f5cca44aa8fdc19c4539714e6",
        "IPY_MODEL_85123e8ad5354b86844b8bf79ded4f1b"
       ],
       "default_style": "IPY_MODEL_bfac76dd654745bf829942e78bc36834",
       "dragging_style": "IPY_MODEL_8c1a0154824841e8b41f27dcdedfabf1",
       "east": 125.59295654296876,
       "fullscreen": false,
       "interpolation": "bilinear",
       "layers": [
        "IPY_MODEL_5cd4c5209fba479a83c62af0bc9542b0",
        "IPY_MODEL_02cb5b0ccf8946b4ae86d99f394ef717"
       ],
       "layout": "IPY_MODEL_44548463baaf4c8aa400081045f5f343",
       "modisdate": "yesterday",
       "north": -14.774882506516272,
       "options": [
        "bounce_at_zoom_limits",
        "box_zoom",
        "center",
        "close_popup_on_click",
        "double_click_zoom",
        "dragging",
        "fullscreen",
        "inertia",
        "inertia_deceleration",
        "inertia_max_speed",
        "interpolation",
        "keyboard",
        "keyboard_pan_offset",
        "keyboard_zoom_offset",
        "max_zoom",
        "min_zoom",
        "scroll_wheel_zoom",
        "tap",
        "tap_tolerance",
        "touch_zoom",
        "world_copy_jump",
        "zoom",
        "zoom_animation_threshold",
        "zoom_start"
       ],
       "scroll_wheel_zoom": true,
       "south": -15.570127852659413,
       "style": "IPY_MODEL_bfac76dd654745bf829942e78bc36834",
       "west": 124.83078002929689,
       "window_url": "https://app.sandbox.dea.ga.gov.au/user/robbibt/lab?#Analysis-parameters",
       "zoom": 10
      }
     },
     "10815563daa24f98bbfeb84908f8031b": {
      "model_module": "jupyter-leaflet",
      "model_module_version": "^0.13.0",
      "model_name": "LeafletWidgetControlModel",
      "state": {
       "_model_module": "jupyter-leaflet",
       "_model_module_version": "^0.13.0",
       "_view_count": null,
       "_view_module": "jupyter-leaflet",
       "_view_module_version": "^0.13.0",
       "options": [
        "position"
       ],
       "position": "topright",
       "widget": "IPY_MODEL_380dc0ae5750486f98702c1a257e97aa"
      }
     },
     "1118b85af38541509628a575e28721cc": {
      "model_module": "@jupyter-widgets/base",
      "model_module_version": "1.2.0",
      "model_name": "LayoutModel",
      "state": {
       "height": "600px"
      }
     },
     "1155cb242f1b4595ace1bf851b46b87a": {
      "model_module": "jupyter-leaflet",
      "model_module_version": "^0.13.0",
      "model_name": "LeafletFullScreenControlModel",
      "state": {
       "_model_module_version": "^0.13.0",
       "_view_module_version": "^0.13.0",
       "options": [
        "position"
       ]
      }
     },
     "11bcd556c1b544a8acdb9b17a5db1662": {
      "model_module": "@jupyter-widgets/base",
      "model_module_version": "1.2.0",
      "model_name": "LayoutModel",
      "state": {
       "width": "5em"
      }
     },
     "1214c0339ff2478786df97293800a4fa": {
      "model_module": "@jupyter-widgets/base",
      "model_module_version": "1.2.0",
      "model_name": "LayoutModel",
      "state": {
       "height": "600px"
      }
     },
     "12de027e9b7549ecbe9953a39bf90aa9": {
      "model_module": "jupyter-leaflet",
      "model_module_version": "^0.13.0",
      "model_name": "LeafletWidgetControlModel",
      "state": {
       "_model_module": "jupyter-leaflet",
       "_model_module_version": "^0.13.0",
       "_view_count": null,
       "_view_module": "jupyter-leaflet",
       "_view_module_version": "^0.13.0",
       "options": [
        "position"
       ],
       "position": "topright",
       "widget": "IPY_MODEL_c273e19d580f4b8d876c7a3b1b33ac92"
      }
     },
     "133ccce35d59495f97df625677a31cef": {
      "model_module": "@jupyter-widgets/base",
      "model_module_version": "1.2.0",
      "model_name": "LayoutModel",
      "state": {
       "width": "5em"
      }
     },
     "139500efb6dd43fb80d45879ed8da7aa": {
      "model_module": "@jupyter-widgets/base",
      "model_module_version": "1.2.0",
      "model_name": "LayoutModel",
      "state": {
       "width": "5em"
      }
     },
     "13c8be2cad7c4cf88a8ea7542162ccba": {
      "model_module": "jupyter-leaflet",
      "model_module_version": "^0.13.0",
      "model_name": "LeafletWidgetControlModel",
      "state": {
       "_model_module": "jupyter-leaflet",
       "_model_module_version": "^0.13.0",
       "_view_count": null,
       "_view_module": "jupyter-leaflet",
       "_view_module_version": "^0.13.0",
       "options": [
        "position"
       ],
       "position": "topright",
       "widget": "IPY_MODEL_18df3044f70142daacecc5e50200e46e"
      }
     },
     "14294c0756894336859dc1440b765ef1": {
      "model_module": "jupyter-leaflet",
      "model_module_version": "^0.13.0",
      "model_name": "LeafletDrawControlModel",
      "state": {
       "_model_module_version": "^0.13.0",
       "_view_module_version": "^0.13.0",
       "options": [
        "position"
       ],
       "polygon": {
        "shapeOptions": {
         "color": "#000000",
         "editing": {
          "color": "#000000",
          "fillColor": "#fca45d",
          "fillOpacity": 0.1
         },
         "fillColor": "#fca45d",
         "fillOpacity": 0.1,
         "original": {
          "color": "#000000",
          "fillColor": "#fca45d",
          "fillOpacity": 0.1
         }
        }
       },
       "polyline": {},
       "rectangle": {
        "metric": [
         "km",
         "m"
        ],
        "shapeOptions": {
         "color": "#000000",
         "fillColor": "#fca45d",
         "fillOpacity": 0.1
        }
       }
      }
     },
     "14325fe26443405e916bd9b6cdf83666": {
      "model_module": "jupyter-leaflet",
      "model_module_version": "^0.13.0",
      "model_name": "LeafletTileLayerModel",
      "state": {
       "_model_module_version": "^0.13.0",
       "_view_module_version": "^0.13.0",
       "max_native_zoom": 18,
       "max_zoom": 19,
       "min_native_zoom": 0,
       "min_zoom": 1,
       "name": "OpenStreetMap.Mapnik",
       "options": [
        "attribution",
        "detect_retina",
        "max_native_zoom",
        "max_zoom",
        "min_native_zoom",
        "min_zoom",
        "no_wrap",
        "tile_size",
        "tms"
       ]
      }
     },
     "14774dc487df412682e558471c5fe127": {
      "model_module": "jupyter-leaflet",
      "model_module_version": "^0.13.0",
      "model_name": "LeafletTileLayerModel",
      "state": {
       "_model_module_version": "^0.13.0",
       "_view_module_version": "^0.13.0",
       "max_native_zoom": 18,
       "max_zoom": 19,
       "min_native_zoom": 0,
       "min_zoom": 1,
       "name": "OpenStreetMap.Mapnik",
       "options": [
        "attribution",
        "detect_retina",
        "max_native_zoom",
        "max_zoom",
        "min_native_zoom",
        "min_zoom",
        "no_wrap",
        "tile_size",
        "tms"
       ]
      }
     },
     "14d5fcb9d5e84145b9f2bba5087553de": {
      "model_module": "jupyter-leaflet",
      "model_module_version": "^0.13.0",
      "model_name": "LeafletTileLayerModel",
      "state": {
       "_model_module_version": "^0.13.0",
       "_view_module_version": "^0.13.0",
       "max_native_zoom": 18,
       "max_zoom": 19,
       "min_native_zoom": 0,
       "min_zoom": 1,
       "name": "OpenStreetMap.Mapnik",
       "options": [
        "attribution",
        "detect_retina",
        "max_native_zoom",
        "max_zoom",
        "min_native_zoom",
        "min_zoom",
        "no_wrap",
        "tile_size",
        "tms"
       ]
      }
     },
     "1584087e94d94231a2732c7b7cfcc21e": {
      "model_module": "jupyter-leaflet",
      "model_module_version": "^0.13.0",
      "model_name": "LeafletFullScreenControlModel",
      "state": {
       "_model_module_version": "^0.13.0",
       "_view_module_version": "^0.13.0",
       "options": [
        "position"
       ]
      }
     },
     "1653ebc3f7d1425b9e3291acb76b2929": {
      "model_module": "jupyter-leaflet",
      "model_module_version": "^0.13.0",
      "model_name": "LeafletZoomControlModel",
      "state": {
       "_model_module_version": "^0.13.0",
       "_view_module_version": "^0.13.0",
       "options": [
        "position",
        "zoom_in_text",
        "zoom_in_title",
        "zoom_out_text",
        "zoom_out_title"
       ]
      }
     },
     "17c1b116d53d41309799a87df2744fd1": {
      "model_module": "jupyter-leaflet",
      "model_module_version": "^0.13.0",
      "model_name": "LeafletMapModel",
      "state": {
       "_model_module_version": "^0.13.0",
       "_view_module_version": "^0.13.0",
       "center": [
        -20.613504947530423,
        116.70227050781251
       ],
       "controls": [
        "IPY_MODEL_b4baff327c134e828f44f53951ddd121",
        "IPY_MODEL_2e39d1b889cb4d8ab27420a6ba2f4a3d",
        "IPY_MODEL_95fecab0a7e1496c9636da28d121d48d"
       ],
       "default_style": "IPY_MODEL_41a245e71aa14a78a9db1a19ac9a7b40",
       "dragging_style": "IPY_MODEL_40d044b64698429480776b1525fcfa99",
       "east": 117.22137451171876,
       "fullscreen": false,
       "interpolation": "bilinear",
       "layers": [
        "IPY_MODEL_7667bf5090d54d878df17d4df715ab26",
        "IPY_MODEL_7172db7a4db843ce8254e6bdb7b52723"
       ],
       "layout": "IPY_MODEL_f864746215bd43afa64aeb20d1bee352",
       "modisdate": "yesterday",
       "north": -20.227408898221892,
       "options": [
        "bounce_at_zoom_limits",
        "box_zoom",
        "center",
        "close_popup_on_click",
        "double_click_zoom",
        "dragging",
        "fullscreen",
        "inertia",
        "inertia_deceleration",
        "inertia_max_speed",
        "interpolation",
        "keyboard",
        "keyboard_pan_offset",
        "keyboard_zoom_offset",
        "max_zoom",
        "min_zoom",
        "scroll_wheel_zoom",
        "tap",
        "tap_tolerance",
        "touch_zoom",
        "world_copy_jump",
        "zoom",
        "zoom_animation_threshold",
        "zoom_start"
       ],
       "scroll_wheel_zoom": true,
       "south": -20.998624835641376,
       "style": "IPY_MODEL_41a245e71aa14a78a9db1a19ac9a7b40",
       "west": 116.18179321289064,
       "window_url": "https://app.sandbox.dea.ga.gov.au/user/robbibt/lab?#Analysis-parameters",
       "zoom": 10
      }
     },
     "1801bf05e05f4c50b7c12a67f2852fa4": {
      "model_module": "@jupyter-widgets/base",
      "model_module_version": "1.2.0",
      "model_name": "LayoutModel",
      "state": {
       "flex": "1 0 20em",
       "height": "3em",
       "width": "20em"
      }
     },
     "1831867855dc457da1ebcedaff1595d2": {
      "model_module": "jupyter-leaflet",
      "model_module_version": "^0.13.0",
      "model_name": "LeafletWMSLayerModel",
      "state": {
       "_model_module_version": "^0.13.0",
       "_view_module_version": "^0.13.0",
       "attribution": "Digital Earth Australia",
       "crs": {
        "custom": false,
        "name": "EPSG3857"
       },
       "format": "image/png",
       "layers": "ga_ls_ard_3",
       "max_native_zoom": 18,
       "min_native_zoom": 0,
       "options": [
        "attribution",
        "detect_retina",
        "format",
        "layers",
        "max_native_zoom",
        "max_zoom",
        "min_native_zoom",
        "min_zoom",
        "no_wrap",
        "styles",
        "tile_size",
        "time",
        "tms",
        "transparent",
        "uppercase"
       ],
       "time": "2018-04-01",
       "transparent": true,
       "url": "https://ows.dea.ga.gov.au/"
      }
     },
     "187dcb4200d444e18de50a745b51b393": {
      "model_module": "@jupyter-widgets/controls",
      "model_module_version": "1.5.0",
      "model_name": "DescriptionStyleModel",
      "state": {
       "description_width": ""
      }
     },
     "18822ac00ad44fd29674ec76e58c8ea2": {
      "model_module": "jupyter-leaflet",
      "model_module_version": "^0.13.0",
      "model_name": "LeafletMapStyleModel",
      "state": {
       "_model_module_version": "^0.13.0"
      }
     },
     "18df3044f70142daacecc5e50200e46e": {
      "model_module": "@jupyter-widgets/controls",
      "model_module_version": "1.5.0",
      "model_name": "ButtonModel",
      "state": {
       "description": "done",
       "disabled": true,
       "layout": "IPY_MODEL_48d0be1fb5af4ca4987d3530f9a4e0b9",
       "style": "IPY_MODEL_ac7a914102e3455388c1260ac0b162ef"
      }
     },
     "1ae4901cc43340fb96fe4a64a05cbc44": {
      "model_module": "jupyter-leaflet",
      "model_module_version": "^0.13.0",
      "model_name": "LeafletDrawControlModel",
      "state": {
       "_model_module_version": "^0.13.0",
       "_view_module_version": "^0.13.0",
       "options": [
        "position"
       ],
       "polygon": {
        "shapeOptions": {
         "color": "#000000",
         "editing": {
          "color": "#000000",
          "fillColor": "#fca45d",
          "fillOpacity": 0.1
         },
         "fillColor": "#fca45d",
         "fillOpacity": 0.1,
         "original": {
          "color": "#000000",
          "fillColor": "#fca45d",
          "fillOpacity": 0.1
         }
        }
       },
       "polyline": {},
       "rectangle": {
        "metric": [
         "km",
         "m"
        ],
        "shapeOptions": {
         "color": "#000000",
         "fillColor": "#fca45d",
         "fillOpacity": 0.1
        }
       }
      }
     },
     "1b94a0f7a53b459780786ece957a7053": {
      "model_module": "jupyter-leaflet",
      "model_module_version": "^0.13.0",
      "model_name": "LeafletMapStyleModel",
      "state": {
       "_model_module_version": "^0.13.0"
      }
     },
     "1bb5a9095de34f548754da4042165b8d": {
      "model_module": "jupyter-leaflet",
      "model_module_version": "^0.13.0",
      "model_name": "LeafletAttributionControlModel",
      "state": {
       "_model_module_version": "^0.13.0",
       "_view_module_version": "^0.13.0",
       "options": [
        "position",
        "prefix"
       ],
       "position": "bottomright",
       "prefix": "Leaflet"
      }
     },
     "1ebe271700e641f09935995c08fb372c": {
      "model_module": "jupyter-leaflet",
      "model_module_version": "^0.13.0",
      "model_name": "LeafletMapModel",
      "state": {
       "_model_module_version": "^0.13.0",
       "_view_module_version": "^0.13.0",
       "center": [
        -13.76606348238286,
        130.15502929687503
       ],
       "controls": [
        "IPY_MODEL_736ae0a35ccb4b2ea57853f27fdc2f7a",
        "IPY_MODEL_b2fb66ffbf0a465a86f57a364abc0b94",
        "IPY_MODEL_ca8f65f26e2a415eaf80f18ab552ee81"
       ],
       "default_style": "IPY_MODEL_b2d62d7b4caa403ab4ac6f20580fdd96",
       "dragging_style": "IPY_MODEL_800430b69c694d9786b42fbe1560aebb",
       "east": -180,
       "fullscreen": false,
       "interpolation": "bilinear",
       "layers": [
        "IPY_MODEL_fc12bbd7652c4c9c81c41b664bea63b8",
        "IPY_MODEL_8d097d2e32ed4da58544d714e3dc8d57"
       ],
       "layout": "IPY_MODEL_395f71869051476e9077237addecc43c",
       "modisdate": "yesterday",
       "north": -90,
       "options": [
        "bounce_at_zoom_limits",
        "box_zoom",
        "center",
        "close_popup_on_click",
        "double_click_zoom",
        "dragging",
        "fullscreen",
        "inertia",
        "inertia_deceleration",
        "inertia_max_speed",
        "interpolation",
        "keyboard",
        "keyboard_pan_offset",
        "keyboard_zoom_offset",
        "max_zoom",
        "min_zoom",
        "scroll_wheel_zoom",
        "tap",
        "tap_tolerance",
        "touch_zoom",
        "world_copy_jump",
        "zoom",
        "zoom_animation_threshold",
        "zoom_start"
       ],
       "scroll_wheel_zoom": true,
       "south": 90,
       "style": "IPY_MODEL_b2d62d7b4caa403ab4ac6f20580fdd96",
       "west": 180,
       "window_url": "https://app.sandbox.dea.ga.gov.au/user/robbibt/lab?#Analysis-parameters",
       "zoom": 9
      }
     },
     "1f4936251ceb41198de6b00e66498c88": {
      "model_module": "jupyter-leaflet",
      "model_module_version": "^0.13.0",
      "model_name": "LeafletWMSLayerModel",
      "state": {
       "_model_module_version": "^0.13.0",
       "_view_module_version": "^0.13.0",
       "attribution": "Digital Earth Australia",
       "crs": {
        "custom": false,
        "name": "EPSG3857"
       },
       "format": "image/png",
       "layers": "s2_ard_granule_nbar_t",
       "max_native_zoom": 18,
       "min_native_zoom": 0,
       "options": [
        "attribution",
        "detect_retina",
        "format",
        "layers",
        "max_native_zoom",
        "max_zoom",
        "min_native_zoom",
        "min_zoom",
        "no_wrap",
        "styles",
        "tile_size",
        "time",
        "tms",
        "transparent",
        "uppercase"
       ],
       "time": "2020-01-30",
       "transparent": true,
       "url": "https://ows.dea.ga.gov.au/"
      }
     },
     "1ff242f596d4480c836047f61b82fd62": {
      "model_module": "@jupyter-widgets/base",
      "model_module_version": "1.2.0",
      "model_name": "LayoutModel",
      "state": {
       "width": "5em"
      }
     },
     "2079e0b7af1041309098a5131f6feae7": {
      "model_module": "jupyter-leaflet",
      "model_module_version": "^0.13.0",
      "model_name": "LeafletWidgetControlModel",
      "state": {
       "_model_module": "jupyter-leaflet",
       "_model_module_version": "^0.13.0",
       "_view_count": null,
       "_view_module": "jupyter-leaflet",
       "_view_module_version": "^0.13.0",
       "options": [
        "position"
       ],
       "position": "topright",
       "widget": "IPY_MODEL_575ed0c864a34b76818757a562fd01e1"
      }
     },
     "2181673f203f4185a5614b56e8decf21": {
      "model_module": "@jupyter-widgets/controls",
      "model_module_version": "1.5.0",
      "model_name": "DescriptionStyleModel",
      "state": {
       "description_width": ""
      }
     },
     "22a5fe5036494f8e86ebd3950f19a4ed": {
      "model_module": "@jupyter-widgets/base",
      "model_module_version": "1.2.0",
      "model_name": "LayoutModel",
      "state": {
       "height": "600px"
      }
     },
     "23505259a77b4cf7aba525e55e9157b6": {
      "model_module": "jupyter-leaflet",
      "model_module_version": "^0.13.0",
      "model_name": "LeafletMapStyleModel",
      "state": {
       "_model_module_version": "^0.13.0"
      }
     },
     "235b7acc13c243158f608454f98abdb2": {
      "model_module": "jupyter-leaflet",
      "model_module_version": "^0.13.0",
      "model_name": "LeafletMapStyleModel",
      "state": {
       "_model_module_version": "^0.13.0"
      }
     },
     "2411647538ab44af9bff91e7bfc8e566": {
      "model_module": "jupyter-leaflet",
      "model_module_version": "^0.13.0",
      "model_name": "LeafletMapStyleModel",
      "state": {
       "_model_module_version": "^0.13.0"
      }
     },
     "242075f3a8ce4b3c97b56caf2c929e44": {
      "model_module": "jupyter-leaflet",
      "model_module_version": "^0.13.0",
      "model_name": "LeafletWidgetControlModel",
      "state": {
       "_model_module": "jupyter-leaflet",
       "_model_module_version": "^0.13.0",
       "_view_count": null,
       "_view_module": "jupyter-leaflet",
       "_view_module_version": "^0.13.0",
       "options": [
        "position"
       ],
       "position": "bottomleft",
       "widget": "IPY_MODEL_4aede999643749fea266137bdd9fc0bc"
      }
     },
     "25c3e85961af4eaca04c96f2d7ba37af": {
      "model_module": "@jupyter-widgets/controls",
      "model_module_version": "1.5.0",
      "model_name": "ButtonStyleModel",
      "state": {
       "button_color": "green"
      }
     },
     "276c6981cb0c4dccb33a3bd4cd2d5d4e": {
      "model_module": "@jupyter-widgets/base",
      "model_module_version": "1.2.0",
      "model_name": "LayoutModel",
      "state": {
       "height": "600px"
      }
     },
     "28e93ac5d71c482dafe786bca01056c2": {
      "model_module": "jupyter-leaflet",
      "model_module_version": "^0.13.0",
      "model_name": "LeafletZoomControlModel",
      "state": {
       "_model_module_version": "^0.13.0",
       "_view_module_version": "^0.13.0",
       "options": [
        "position",
        "zoom_in_text",
        "zoom_in_title",
        "zoom_out_text",
        "zoom_out_title"
       ]
      }
     },
     "29920a9c1ce642a7a0a8ec7dde03ee56": {
      "model_module": "jupyter-leaflet",
      "model_module_version": "^0.13.0",
      "model_name": "LeafletWMSLayerModel",
      "state": {
       "_model_module_version": "^0.13.0",
       "_view_module_version": "^0.13.0",
       "attribution": "Digital Earth Australia",
       "crs": {
        "custom": false,
        "name": "EPSG3857"
       },
       "format": "image/png",
       "layers": "ga_ls_ard_3",
       "max_native_zoom": 18,
       "min_native_zoom": 0,
       "options": [
        "attribution",
        "detect_retina",
        "format",
        "layers",
        "max_native_zoom",
        "max_zoom",
        "min_native_zoom",
        "min_zoom",
        "no_wrap",
        "styles",
        "tile_size",
        "time",
        "tms",
        "transparent",
        "uppercase"
       ],
       "time": "2021-08-01",
       "transparent": true,
       "url": "https://ows.dea.ga.gov.au/"
      }
     },
     "29dfc1fa6641427790d8e4e259e2d4d5": {
      "model_module": "jupyter-leaflet",
      "model_module_version": "^0.13.0",
      "model_name": "LeafletFullScreenControlModel",
      "state": {
       "_model_module_version": "^0.13.0",
       "_view_module_version": "^0.13.0",
       "options": [
        "position"
       ]
      }
     },
     "2a204f17170f49f2aec8458fe8f399c2": {
      "model_module": "jupyter-leaflet",
      "model_module_version": "^0.13.0",
      "model_name": "LeafletFullScreenControlModel",
      "state": {
       "_model_module_version": "^0.13.0",
       "_view_module_version": "^0.13.0",
       "options": [
        "position"
       ]
      }
     },
     "2bda69107751472eaa29c55d00ae233d": {
      "model_module": "jupyter-leaflet",
      "model_module_version": "^0.13.0",
      "model_name": "LeafletMapStyleModel",
      "state": {
       "_model_module_version": "^0.13.0",
       "cursor": "move"
      }
     },
     "2c2185951fc34f30acecc01749e775a8": {
      "model_module": "@jupyter-widgets/controls",
      "model_module_version": "1.5.0",
      "model_name": "HTMLModel",
      "state": {
       "layout": "IPY_MODEL_b953f969fc494edeb02afceb485cb255",
       "style": "IPY_MODEL_0ace5cedd23149f09410a6c5644c8c23",
       "value": "<pre style=\"color:grey\">lat: [90.0000, -90.0000]\nlon: [180.0000, -180.0000]</pre>"
      }
     },
     "2c89395b4d4a49b9bfff82b99887c0a0": {
      "model_module": "jupyter-leaflet",
      "model_module_version": "^0.13.0",
      "model_name": "LeafletZoomControlModel",
      "state": {
       "_model_module_version": "^0.13.0",
       "_view_module_version": "^0.13.0",
       "options": [
        "position",
        "zoom_in_text",
        "zoom_in_title",
        "zoom_out_text",
        "zoom_out_title"
       ]
      }
     },
     "2da8ca5d1cec4b00acb6aab0226ad9fd": {
      "model_module": "jupyter-leaflet",
      "model_module_version": "^0.13.0",
      "model_name": "LeafletMapModel",
      "state": {
       "_model_module_version": "^0.13.0",
       "_view_module_version": "^0.13.0",
       "center": [
        -14.633749199379185,
        129.6760940551758
       ],
       "controls": [
        "IPY_MODEL_4dfec3fa790148d39420dce2525fc942",
        "IPY_MODEL_8472c2f3df464bdc84c38c3becf4104f",
        "IPY_MODEL_f6e3cbab50834ee4b21b7d47d35524a1"
       ],
       "default_style": "IPY_MODEL_fe9d931728ab416aa170f027626701b5",
       "dragging_style": "IPY_MODEL_b44d644a232f4814bf95efff556d2661",
       "east": -180,
       "fullscreen": false,
       "interpolation": "bilinear",
       "layers": [
        "IPY_MODEL_9c8d26f04ff647a18bc640683c33af59",
        "IPY_MODEL_7ea9565b31264254aea3ad378ba2b4b9"
       ],
       "layout": "IPY_MODEL_1118b85af38541509628a575e28721cc",
       "modisdate": "yesterday",
       "north": -90,
       "options": [
        "bounce_at_zoom_limits",
        "box_zoom",
        "center",
        "close_popup_on_click",
        "double_click_zoom",
        "dragging",
        "fullscreen",
        "inertia",
        "inertia_deceleration",
        "inertia_max_speed",
        "interpolation",
        "keyboard",
        "keyboard_pan_offset",
        "keyboard_zoom_offset",
        "max_zoom",
        "min_zoom",
        "scroll_wheel_zoom",
        "tap",
        "tap_tolerance",
        "touch_zoom",
        "world_copy_jump",
        "zoom",
        "zoom_animation_threshold",
        "zoom_start"
       ],
       "scroll_wheel_zoom": true,
       "south": 90,
       "style": "IPY_MODEL_fe9d931728ab416aa170f027626701b5",
       "west": 180,
       "window_url": "https://app.sandbox.dea.ga.gov.au/user/robbibt/lab?#Analysis-parameters"
      }
     },
     "2e39d1b889cb4d8ab27420a6ba2f4a3d": {
      "model_module": "jupyter-leaflet",
      "model_module_version": "^0.13.0",
      "model_name": "LeafletAttributionControlModel",
      "state": {
       "_model_module_version": "^0.13.0",
       "_view_module_version": "^0.13.0",
       "options": [
        "position",
        "prefix"
       ],
       "position": "bottomright",
       "prefix": "Leaflet"
      }
     },
     "2ee93ca38d79401b9f5c68b6c49f0d95": {
      "model_module": "@jupyter-widgets/controls",
      "model_module_version": "1.5.0",
      "model_name": "DescriptionStyleModel",
      "state": {
       "description_width": ""
      }
     },
     "2f00b3bae1894a06bad51686f94c0a26": {
      "model_module": "@jupyter-widgets/controls",
      "model_module_version": "1.5.0",
      "model_name": "ButtonStyleModel",
      "state": {
       "button_color": "green"
      }
     },
     "2f33f7b9dd3743f384ee69bc0ca802de": {
      "model_module": "jupyter-leaflet",
      "model_module_version": "^0.13.0",
      "model_name": "LeafletWidgetControlModel",
      "state": {
       "_model_module": "jupyter-leaflet",
       "_model_module_version": "^0.13.0",
       "_view_count": null,
       "_view_module": "jupyter-leaflet",
       "_view_module_version": "^0.13.0",
       "options": [
        "position"
       ],
       "position": "bottomleft",
       "widget": "IPY_MODEL_2fb552cb812149268c93aeb5c9567649"
      }
     },
     "2f664e5929c841908782066c3dcef90f": {
      "model_module": "@jupyter-widgets/base",
      "model_module_version": "1.2.0",
      "model_name": "LayoutModel",
      "state": {
       "width": "5em"
      }
     },
     "2f7e6631112e401dafe9147b48cedb0a": {
      "model_module": "jupyter-leaflet",
      "model_module_version": "^0.13.0",
      "model_name": "LeafletWidgetControlModel",
      "state": {
       "_model_module": "jupyter-leaflet",
       "_model_module_version": "^0.13.0",
       "_view_count": null,
       "_view_module": "jupyter-leaflet",
       "_view_module_version": "^0.13.0",
       "options": [
        "position"
       ],
       "position": "bottomleft",
       "widget": "IPY_MODEL_edfd4b23539740778448952e3c7b7e38"
      }
     },
     "2fb552cb812149268c93aeb5c9567649": {
      "model_module": "@jupyter-widgets/controls",
      "model_module_version": "1.5.0",
      "model_name": "HTMLModel",
      "state": {
       "layout": "IPY_MODEL_8018d1b82619467dae57157dcc460ba0",
       "style": "IPY_MODEL_187dcb4200d444e18de50a745b51b393",
       "value": "<pre style=\"color:grey\">lat: [-20.9986, -20.2274]\nlon: [116.1818, 117.2214]</pre>"
      }
     },
     "2fce1aecb532449abe0f988b41fe8ff6": {
      "model_module": "jupyter-leaflet",
      "model_module_version": "^0.13.0",
      "model_name": "LeafletAttributionControlModel",
      "state": {
       "_model_module_version": "^0.13.0",
       "_view_module_version": "^0.13.0",
       "options": [
        "position",
        "prefix"
       ],
       "position": "bottomright",
       "prefix": "Leaflet"
      }
     },
     "3039111104624131adde8748b46bfc03": {
      "model_module": "@jupyter-widgets/base",
      "model_module_version": "1.2.0",
      "model_name": "LayoutModel",
      "state": {
       "width": "5em"
      }
     },
     "30c0e261dfce46d3ac5a8377c7883b9b": {
      "model_module": "@jupyter-widgets/controls",
      "model_module_version": "1.5.0",
      "model_name": "HTMLModel",
      "state": {
       "layout": "IPY_MODEL_970bf149fc834673923a44dcd7ef86ff",
       "style": "IPY_MODEL_45d013a4b94d4a9482e6cc40e62bdf50",
       "value": "<pre style=\"color:grey\">lat: [-31.4287, -6.7519]\nlon: [108.0615, 132.4512]</pre>"
      }
     },
     "30e38c835a8e40908226ed178e87f750": {
      "model_module": "@jupyter-widgets/base",
      "model_module_version": "1.2.0",
      "model_name": "LayoutModel",
      "state": {
       "width": "5em"
      }
     },
     "315c6a8013ed4d988ea5943b53c56ae6": {
      "model_module": "jupyter-leaflet",
      "model_module_version": "^0.13.0",
      "model_name": "LeafletFullScreenControlModel",
      "state": {
       "_model_module_version": "^0.13.0",
       "_view_module_version": "^0.13.0",
       "options": [
        "position"
       ]
      }
     },
     "31855d1714a64186946f2198db714d70": {
      "model_module": "jupyter-leaflet",
      "model_module_version": "^0.13.0",
      "model_name": "LeafletDrawControlModel",
      "state": {
       "_model_module_version": "^0.13.0",
       "_view_module_version": "^0.13.0",
       "options": [
        "position"
       ],
       "polygon": {
        "shapeOptions": {
         "color": "#000000",
         "editing": {
          "color": "#000000",
          "fillColor": "#fca45d",
          "fillOpacity": 0.1
         },
         "fillColor": "#fca45d",
         "fillOpacity": 0.1,
         "original": {
          "color": "#000000",
          "fillColor": "#fca45d",
          "fillOpacity": 0.1
         }
        }
       },
       "polyline": {},
       "rectangle": {
        "metric": [
         "km",
         "m"
        ],
        "shapeOptions": {
         "color": "#000000",
         "fillColor": "#fca45d",
         "fillOpacity": 0.1
        }
       }
      }
     },
     "318d1d71b41641f1b93322ce0b84ea47": {
      "model_module": "@jupyter-widgets/base",
      "model_module_version": "1.2.0",
      "model_name": "LayoutModel",
      "state": {
       "height": "600px"
      }
     },
     "31c09323f7124d32a13f08035374495c": {
      "model_module": "@jupyter-widgets/base",
      "model_module_version": "1.2.0",
      "model_name": "LayoutModel",
      "state": {
       "width": "5em"
      }
     },
     "31c47534e45a43679fa3d18c1683c4c3": {
      "model_module": "@jupyter-widgets/controls",
      "model_module_version": "1.5.0",
      "model_name": "ButtonModel",
      "state": {
       "description": "done",
       "disabled": true,
       "layout": "IPY_MODEL_b09c0b9573f54b94827ce15338989db0",
       "style": "IPY_MODEL_74f5b0493c1a4946b3b7a3ef447ca449"
      }
     },
     "31e74e6b32bd4637a38bb459327ed480": {
      "model_module": "@jupyter-widgets/controls",
      "model_module_version": "1.5.0",
      "model_name": "HTMLModel",
      "state": {
       "layout": "IPY_MODEL_967029afa74149c3abad4df5cde6e1f3",
       "style": "IPY_MODEL_9f382a2484a34b3086e148a78525b509",
       "value": "<pre style=\"color:grey\">lat: [90.0000, -90.0000]\nlon: [180.0000, -180.0000]</pre>"
      }
     },
     "31ef350f1e7640f0863988a244020e5d": {
      "model_module": "@jupyter-widgets/controls",
      "model_module_version": "1.5.0",
      "model_name": "DescriptionStyleModel",
      "state": {
       "description_width": ""
      }
     },
     "3235265b90314666ad38960af00fa360": {
      "model_module": "jupyter-leaflet",
      "model_module_version": "^0.13.0",
      "model_name": "LeafletDrawControlModel",
      "state": {
       "_model_module_version": "^0.13.0",
       "_view_module_version": "^0.13.0",
       "options": [
        "position"
       ],
       "polygon": {
        "shapeOptions": {
         "color": "#000000",
         "editing": {
          "color": "#000000",
          "fillColor": "#fca45d",
          "fillOpacity": 0.1
         },
         "fillColor": "#fca45d",
         "fillOpacity": 0.1,
         "original": {
          "color": "#000000",
          "fillColor": "#fca45d",
          "fillOpacity": 0.1
         }
        }
       },
       "polyline": {},
       "rectangle": {
        "metric": [
         "km",
         "m"
        ],
        "shapeOptions": {
         "color": "#000000",
         "fillColor": "#fca45d",
         "fillOpacity": 0.1
        }
       }
      }
     },
     "326896ca86804a25a6bb76dbde66a67c": {
      "model_module": "@jupyter-widgets/controls",
      "model_module_version": "1.5.0",
      "model_name": "ButtonStyleModel",
      "state": {
       "button_color": "green"
      }
     },
     "33e9afd31a1d40279be57342bf4b5024": {
      "model_module": "@jupyter-widgets/controls",
      "model_module_version": "1.5.0",
      "model_name": "DescriptionStyleModel",
      "state": {
       "description_width": ""
      }
     },
     "353cbd7db898427cbfef7daa4c1e7352": {
      "model_module": "jupyter-leaflet",
      "model_module_version": "^0.13.0",
      "model_name": "LeafletMapStyleModel",
      "state": {
       "_model_module_version": "^0.13.0",
       "cursor": "move"
      }
     },
     "3572980e72b1498ca5f2d210bbb2a0ad": {
      "model_module": "@jupyter-widgets/base",
      "model_module_version": "1.2.0",
      "model_name": "LayoutModel",
      "state": {
       "flex": "1 0 20em",
       "height": "3em",
       "width": "20em"
      }
     },
     "358db82fcbc4444a835d7f869c40a9ed": {
      "model_module": "jupyter-leaflet",
      "model_module_version": "^0.13.0",
      "model_name": "LeafletAttributionControlModel",
      "state": {
       "_model_module_version": "^0.13.0",
       "_view_module_version": "^0.13.0",
       "options": [
        "position",
        "prefix"
       ],
       "position": "bottomright",
       "prefix": "Leaflet"
      }
     },
     "3630882a75774886afeb03cd3758d1f5": {
      "model_module": "jupyter-leaflet",
      "model_module_version": "^0.13.0",
      "model_name": "LeafletDrawControlModel",
      "state": {
       "_model_module_version": "^0.13.0",
       "_view_module_version": "^0.13.0",
       "options": [
        "position"
       ],
       "polygon": {
        "shapeOptions": {
         "color": "#000000",
         "editing": {
          "color": "#000000",
          "fillColor": "#fca45d",
          "fillOpacity": 0.1
         },
         "fillColor": "#fca45d",
         "fillOpacity": 0.1,
         "original": {
          "color": "#000000",
          "fillColor": "#fca45d",
          "fillOpacity": 0.1
         }
        }
       },
       "polyline": {},
       "rectangle": {
        "metric": [
         "km",
         "m"
        ],
        "shapeOptions": {
         "color": "#000000",
         "fillColor": "#fca45d",
         "fillOpacity": 0.1
        }
       }
      }
     },
     "37c916173da64614966a9096f2148006": {
      "model_module": "@jupyter-widgets/base",
      "model_module_version": "1.2.0",
      "model_name": "LayoutModel",
      "state": {
       "width": "5em"
      }
     },
     "37f153442dcb4bd694471ad51560688c": {
      "model_module": "@jupyter-widgets/controls",
      "model_module_version": "1.5.0",
      "model_name": "HTMLModel",
      "state": {
       "layout": "IPY_MODEL_f5ff78a245864ecbac9357a73e48f18a",
       "style": "IPY_MODEL_2ee93ca38d79401b9f5c68b6c49f0d95",
       "value": "<pre style=\"color:grey\">lat: [-40.0066, -37.4356]\nlon: [147.5739, 150.6226]</pre>"
      }
     },
     "380dc0ae5750486f98702c1a257e97aa": {
      "model_module": "@jupyter-widgets/controls",
      "model_module_version": "1.5.0",
      "model_name": "ButtonModel",
      "state": {
       "description": "done",
       "disabled": true,
       "layout": "IPY_MODEL_37c916173da64614966a9096f2148006",
       "style": "IPY_MODEL_8fcf91ccf9f2408ebf76d2ce5ae67969"
      }
     },
     "38d66df2403046c894648290226a0111": {
      "model_module": "jupyter-leaflet",
      "model_module_version": "^0.13.0",
      "model_name": "LeafletFullScreenControlModel",
      "state": {
       "_model_module_version": "^0.13.0",
       "_view_module_version": "^0.13.0",
       "options": [
        "position"
       ]
      }
     },
     "395f71869051476e9077237addecc43c": {
      "model_module": "@jupyter-widgets/base",
      "model_module_version": "1.2.0",
      "model_name": "LayoutModel",
      "state": {
       "height": "600px"
      }
     },
     "39f545d6a8d842a1baf79b9e0d19d253": {
      "model_module": "@jupyter-widgets/base",
      "model_module_version": "1.2.0",
      "model_name": "LayoutModel",
      "state": {
       "height": "600px"
      }
     },
     "3a2afe32dfef4570bdd82ea8b5e7b3ad": {
      "model_module": "jupyter-leaflet",
      "model_module_version": "^0.13.0",
      "model_name": "LeafletWidgetControlModel",
      "state": {
       "_model_module": "jupyter-leaflet",
       "_model_module_version": "^0.13.0",
       "_view_count": null,
       "_view_module": "jupyter-leaflet",
       "_view_module_version": "^0.13.0",
       "options": [
        "position"
       ],
       "position": "topright",
       "widget": "IPY_MODEL_aee07d453fde4714af0c83f6f2413bbc"
      }
     },
     "3a714837ffb14219b4e180aa0f666a7c": {
      "model_module": "@jupyter-widgets/base",
      "model_module_version": "1.2.0",
      "model_name": "LayoutModel",
      "state": {
       "height": "600px"
      }
     },
     "3b886d4e910e4c46a9cc0cd5437fbec4": {
      "model_module": "@jupyter-widgets/controls",
      "model_module_version": "1.5.0",
      "model_name": "DescriptionStyleModel",
      "state": {
       "description_width": ""
      }
     },
     "3ba95e6afb5b44cb9ea4b3abb635c721": {
      "model_module": "jupyter-leaflet",
      "model_module_version": "^0.13.0",
      "model_name": "LeafletMapStyleModel",
      "state": {
       "_model_module_version": "^0.13.0"
      }
     },
     "3d06631d413c4d7db4bea7f6e49d318b": {
      "model_module": "jupyter-leaflet",
      "model_module_version": "^0.13.0",
      "model_name": "LeafletFullScreenControlModel",
      "state": {
       "_model_module_version": "^0.13.0",
       "_view_module_version": "^0.13.0",
       "options": [
        "position"
       ]
      }
     },
     "3d4fea0de9394549aa3c0be168102f5a": {
      "model_module": "jupyter-leaflet",
      "model_module_version": "^0.13.0",
      "model_name": "LeafletWidgetControlModel",
      "state": {
       "_model_module": "jupyter-leaflet",
       "_model_module_version": "^0.13.0",
       "_view_count": null,
       "_view_module": "jupyter-leaflet",
       "_view_module_version": "^0.13.0",
       "options": [
        "position"
       ],
       "position": "bottomleft",
       "widget": "IPY_MODEL_31e74e6b32bd4637a38bb459327ed480"
      }
     },
     "3dd00c087e5f43e98629daecb313f74e": {
      "model_module": "jupyter-leaflet",
      "model_module_version": "^0.13.0",
      "model_name": "LeafletFullScreenControlModel",
      "state": {
       "_model_module_version": "^0.13.0",
       "_view_module_version": "^0.13.0",
       "options": [
        "position"
       ]
      }
     },
     "3e11680080c648c2be883e2649e7f70e": {
      "model_module": "@jupyter-widgets/base",
      "model_module_version": "1.2.0",
      "model_name": "LayoutModel",
      "state": {
       "flex": "1 0 20em",
       "height": "3em",
       "width": "20em"
      }
     },
     "3eb3ff49b88e4372bcb0d8f1262a8cf8": {
      "model_module": "jupyter-leaflet",
      "model_module_version": "^0.13.0",
      "model_name": "LeafletFullScreenControlModel",
      "state": {
       "_model_module_version": "^0.13.0",
       "_view_module_version": "^0.13.0",
       "options": [
        "position"
       ]
      }
     },
     "3fe2ad9c0f1f4b529dc1b2ba0e083cd9": {
      "model_module": "@jupyter-widgets/controls",
      "model_module_version": "1.5.0",
      "model_name": "ButtonModel",
      "state": {
       "description": "done",
       "disabled": true,
       "layout": "IPY_MODEL_819a7f06580840a588cc5a061d1e786e",
       "style": "IPY_MODEL_777d8142ce854689b392b2ea21e3bcb9"
      }
     },
     "401639224b4b4cc4a8e03e5931e51dab": {
      "model_module": "jupyter-leaflet",
      "model_module_version": "^0.13.0",
      "model_name": "LeafletZoomControlModel",
      "state": {
       "_model_module_version": "^0.13.0",
       "_view_module_version": "^0.13.0",
       "options": [
        "position",
        "zoom_in_text",
        "zoom_in_title",
        "zoom_out_text",
        "zoom_out_title"
       ]
      }
     },
     "40290264026843479900d91a8ed5d11a": {
      "model_module": "jupyter-leaflet",
      "model_module_version": "^0.13.0",
      "model_name": "LeafletAttributionControlModel",
      "state": {
       "_model_module_version": "^0.13.0",
       "_view_module_version": "^0.13.0",
       "options": [
        "position",
        "prefix"
       ],
       "position": "bottomright",
       "prefix": "Leaflet"
      }
     },
     "402b73e6104f47a3a0513e578154e7a1": {
      "model_module": "jupyter-leaflet",
      "model_module_version": "^0.13.0",
      "model_name": "LeafletWidgetControlModel",
      "state": {
       "_model_module": "jupyter-leaflet",
       "_model_module_version": "^0.13.0",
       "_view_count": null,
       "_view_module": "jupyter-leaflet",
       "_view_module_version": "^0.13.0",
       "options": [
        "position"
       ],
       "position": "bottomleft",
       "widget": "IPY_MODEL_f24090ecba5d4565b8064fa352af1e91"
      }
     },
     "40d044b64698429480776b1525fcfa99": {
      "model_module": "jupyter-leaflet",
      "model_module_version": "^0.13.0",
      "model_name": "LeafletMapStyleModel",
      "state": {
       "_model_module_version": "^0.13.0",
       "cursor": "move"
      }
     },
     "410866af4129427ba71beca847f10f63": {
      "model_module": "jupyter-leaflet",
      "model_module_version": "^0.13.0",
      "model_name": "LeafletTileLayerModel",
      "state": {
       "_model_module_version": "^0.13.0",
       "_view_module_version": "^0.13.0",
       "max_native_zoom": 18,
       "max_zoom": 19,
       "min_native_zoom": 0,
       "min_zoom": 1,
       "name": "OpenStreetMap.Mapnik",
       "options": [
        "attribution",
        "detect_retina",
        "max_native_zoom",
        "max_zoom",
        "min_native_zoom",
        "min_zoom",
        "no_wrap",
        "tile_size",
        "tms"
       ]
      }
     },
     "416142938e7f4eb4ab7f72a2fc4f613b": {
      "model_module": "jupyter-leaflet",
      "model_module_version": "^0.13.0",
      "model_name": "LeafletWMSLayerModel",
      "state": {
       "_model_module_version": "^0.13.0",
       "_view_module_version": "^0.13.0",
       "attribution": "Digital Earth Australia",
       "crs": {
        "custom": false,
        "name": "EPSG3857"
       },
       "format": "image/png",
       "layers": "ga_ls_ard_3",
       "max_native_zoom": 18,
       "min_native_zoom": 0,
       "options": [
        "attribution",
        "detect_retina",
        "format",
        "layers",
        "max_native_zoom",
        "max_zoom",
        "min_native_zoom",
        "min_zoom",
        "no_wrap",
        "styles",
        "tile_size",
        "time",
        "tms",
        "transparent",
        "uppercase"
       ],
       "time": "2018-04-01",
       "transparent": true,
       "url": "https://ows.dea.ga.gov.au/"
      }
     },
     "41a245e71aa14a78a9db1a19ac9a7b40": {
      "model_module": "jupyter-leaflet",
      "model_module_version": "^0.13.0",
      "model_name": "LeafletMapStyleModel",
      "state": {
       "_model_module_version": "^0.13.0"
      }
     },
     "41df0d26f6494b869bf599ec17629ccf": {
      "model_module": "@jupyter-widgets/base",
      "model_module_version": "1.2.0",
      "model_name": "LayoutModel",
      "state": {
       "flex": "1 0 20em",
       "height": "3em",
       "width": "20em"
      }
     },
     "43284b45a6bc4d2db1a7171f7ae2d5c4": {
      "model_module": "@jupyter-widgets/controls",
      "model_module_version": "1.5.0",
      "model_name": "HTMLModel",
      "state": {
       "layout": "IPY_MODEL_41df0d26f6494b869bf599ec17629ccf",
       "style": "IPY_MODEL_0c834e99dbff4135a5141528c6842e4f",
       "value": "<pre style=\"color:grey\">lat: [-38.4751, -35.8490]\nlon: [147.9584, 151.0730]</pre>"
      }
     },
     "44548463baaf4c8aa400081045f5f343": {
      "model_module": "@jupyter-widgets/base",
      "model_module_version": "1.2.0",
      "model_name": "LayoutModel",
      "state": {
       "height": "600px"
      }
     },
     "44c1588c2685498ba6ea4378680d81f8": {
      "model_module": "jupyter-leaflet",
      "model_module_version": "^0.13.0",
      "model_name": "LeafletWidgetControlModel",
      "state": {
       "_model_module": "jupyter-leaflet",
       "_model_module_version": "^0.13.0",
       "_view_count": null,
       "_view_module": "jupyter-leaflet",
       "_view_module_version": "^0.13.0",
       "options": [
        "position"
       ],
       "position": "topright",
       "widget": "IPY_MODEL_6013a1df2e56497096c8ba4ea65f84ed"
      }
     },
     "44f869e760f4401da26e8d82fc04fd02": {
      "model_module": "jupyter-leaflet",
      "model_module_version": "^0.13.0",
      "model_name": "LeafletTileLayerModel",
      "state": {
       "_model_module_version": "^0.13.0",
       "_view_module_version": "^0.13.0",
       "max_native_zoom": 18,
       "max_zoom": 19,
       "min_native_zoom": 0,
       "min_zoom": 1,
       "name": "OpenStreetMap.Mapnik",
       "options": [
        "attribution",
        "detect_retina",
        "max_native_zoom",
        "max_zoom",
        "min_native_zoom",
        "min_zoom",
        "no_wrap",
        "tile_size",
        "tms"
       ]
      }
     },
     "45a4836d9ffa434197dad5bde943225d": {
      "model_module": "jupyter-leaflet",
      "model_module_version": "^0.13.0",
      "model_name": "LeafletZoomControlModel",
      "state": {
       "_model_module_version": "^0.13.0",
       "_view_module_version": "^0.13.0",
       "options": [
        "position",
        "zoom_in_text",
        "zoom_in_title",
        "zoom_out_text",
        "zoom_out_title"
       ]
      }
     },
     "45d013a4b94d4a9482e6cc40e62bdf50": {
      "model_module": "@jupyter-widgets/controls",
      "model_module_version": "1.5.0",
      "model_name": "DescriptionStyleModel",
      "state": {
       "description_width": ""
      }
     },
     "46e63a7bb35f4615ba9cb4150e4119b9": {
      "model_module": "jupyter-leaflet",
      "model_module_version": "^0.13.0",
      "model_name": "LeafletMapStyleModel",
      "state": {
       "_model_module_version": "^0.13.0"
      }
     },
     "474af76f5cca44aa8fdc19c4539714e6": {
      "model_module": "jupyter-leaflet",
      "model_module_version": "^0.13.0",
      "model_name": "LeafletDrawControlModel",
      "state": {
       "_model_module_version": "^0.13.0",
       "_view_module_version": "^0.13.0",
       "options": [
        "position"
       ],
       "polygon": {
        "shapeOptions": {
         "color": "#000000",
         "editing": {
          "color": "#000000",
          "fillColor": "#fca45d",
          "fillOpacity": 0.1
         },
         "fillColor": "#fca45d",
         "fillOpacity": 0.1,
         "original": {
          "color": "#000000",
          "fillColor": "#fca45d",
          "fillOpacity": 0.1
         }
        }
       },
       "polyline": {},
       "rectangle": {
        "metric": [
         "km",
         "m"
        ],
        "shapeOptions": {
         "color": "#000000",
         "fillColor": "#fca45d",
         "fillOpacity": 0.1
        }
       }
      }
     },
     "48aae98e8cdb43e1bad022fd9c77028f": {
      "model_module": "jupyter-leaflet",
      "model_module_version": "^0.13.0",
      "model_name": "LeafletWidgetControlModel",
      "state": {
       "_model_module": "jupyter-leaflet",
       "_model_module_version": "^0.13.0",
       "_view_count": null,
       "_view_module": "jupyter-leaflet",
       "_view_module_version": "^0.13.0",
       "options": [
        "position"
       ],
       "position": "topright",
       "widget": "IPY_MODEL_31c47534e45a43679fa3d18c1683c4c3"
      }
     },
     "48d0be1fb5af4ca4987d3530f9a4e0b9": {
      "model_module": "@jupyter-widgets/base",
      "model_module_version": "1.2.0",
      "model_name": "LayoutModel",
      "state": {
       "width": "5em"
      }
     },
     "48e9df91c3da4e8cbe57e9fc87fd1516": {
      "model_module": "jupyter-leaflet",
      "model_module_version": "^0.13.0",
      "model_name": "LeafletAttributionControlModel",
      "state": {
       "_model_module_version": "^0.13.0",
       "_view_module_version": "^0.13.0",
       "options": [
        "position",
        "prefix"
       ],
       "position": "bottomright",
       "prefix": "Leaflet"
      }
     },
     "48fa71131381485293479330507c5912": {
      "model_module": "jupyter-leaflet",
      "model_module_version": "^0.13.0",
      "model_name": "LeafletMapStyleModel",
      "state": {
       "_model_module_version": "^0.13.0"
      }
     },
     "49b18b71236144cc9d9448bd7148a8c6": {
      "model_module": "jupyter-leaflet",
      "model_module_version": "^0.13.0",
      "model_name": "LeafletMapStyleModel",
      "state": {
       "_model_module_version": "^0.13.0",
       "cursor": "move"
      }
     },
     "4a804d277cb24e0591962a070b6cdc49": {
      "model_module": "jupyter-leaflet",
      "model_module_version": "^0.13.0",
      "model_name": "LeafletTileLayerModel",
      "state": {
       "_model_module_version": "^0.13.0",
       "_view_module_version": "^0.13.0",
       "max_native_zoom": 18,
       "max_zoom": 19,
       "min_native_zoom": 0,
       "min_zoom": 1,
       "name": "OpenStreetMap.Mapnik",
       "options": [
        "attribution",
        "detect_retina",
        "max_native_zoom",
        "max_zoom",
        "min_native_zoom",
        "min_zoom",
        "no_wrap",
        "tile_size",
        "tms"
       ]
      }
     },
     "4aede999643749fea266137bdd9fc0bc": {
      "model_module": "@jupyter-widgets/controls",
      "model_module_version": "1.5.0",
      "model_name": "HTMLModel",
      "state": {
       "layout": "IPY_MODEL_3572980e72b1498ca5f2d210bbb2a0ad",
       "style": "IPY_MODEL_3b886d4e910e4c46a9cc0cd5437fbec4",
       "value": "<pre style=\"color:grey\">lat: [90.0000, -90.0000]\nlon: [180.0000, -180.0000]</pre>"
      }
     },
     "4b2698a158e54cd1b6f188c058d3fc5e": {
      "model_module": "jupyter-leaflet",
      "model_module_version": "^0.13.0",
      "model_name": "LeafletWidgetControlModel",
      "state": {
       "_model_module": "jupyter-leaflet",
       "_model_module_version": "^0.13.0",
       "_view_count": null,
       "_view_module": "jupyter-leaflet",
       "_view_module_version": "^0.13.0",
       "options": [
        "position"
       ],
       "position": "topright",
       "widget": "IPY_MODEL_725781aeb6a54c3880966d06b367b673"
      }
     },
     "4bba20cc96f1412580f4091b378fbf4d": {
      "model_module": "jupyter-leaflet",
      "model_module_version": "^0.13.0",
      "model_name": "LeafletMapStyleModel",
      "state": {
       "_model_module_version": "^0.13.0"
      }
     },
     "4c8fd3aebaaa45c0b44b0ad9da5bc695": {
      "model_module": "jupyter-leaflet",
      "model_module_version": "^0.13.0",
      "model_name": "LeafletWidgetControlModel",
      "state": {
       "_model_module": "jupyter-leaflet",
       "_model_module_version": "^0.13.0",
       "_view_count": null,
       "_view_module": "jupyter-leaflet",
       "_view_module_version": "^0.13.0",
       "options": [
        "position"
       ],
       "position": "topright",
       "widget": "IPY_MODEL_ab368af998684c5e86eec785daf7318a"
      }
     },
     "4cf9ba86f4a1498b8d039db6465340f0": {
      "model_module": "jupyter-leaflet",
      "model_module_version": "^0.13.0",
      "model_name": "LeafletAttributionControlModel",
      "state": {
       "_model_module_version": "^0.13.0",
       "_view_module_version": "^0.13.0",
       "options": [
        "position",
        "prefix"
       ],
       "position": "bottomright",
       "prefix": "Leaflet"
      }
     },
     "4de513b5a08f40f7a4a761975aaff0a5": {
      "model_module": "@jupyter-widgets/base",
      "model_module_version": "1.2.0",
      "model_name": "LayoutModel",
      "state": {
       "width": "5em"
      }
     },
     "4dfec3fa790148d39420dce2525fc942": {
      "model_module": "jupyter-leaflet",
      "model_module_version": "^0.13.0",
      "model_name": "LeafletZoomControlModel",
      "state": {
       "_model_module_version": "^0.13.0",
       "_view_module_version": "^0.13.0",
       "options": [
        "position",
        "zoom_in_text",
        "zoom_in_title",
        "zoom_out_text",
        "zoom_out_title"
       ]
      }
     },
     "4f7f413c7ca94364b713b9b327b0526d": {
      "model_module": "@jupyter-widgets/controls",
      "model_module_version": "1.5.0",
      "model_name": "HTMLModel",
      "state": {
       "layout": "IPY_MODEL_b1fe53ff09ac4caf9885b260f385e1fb",
       "style": "IPY_MODEL_33e9afd31a1d40279be57342bf4b5024",
       "value": "<pre style=\"color:grey\">lat: [90.0000, -90.0000]\nlon: [180.0000, -180.0000]</pre>"
      }
     },
     "4fb2904d12554a97b73c693b9df9b1c5": {
      "model_module": "jupyter-leaflet",
      "model_module_version": "^0.13.0",
      "model_name": "LeafletFullScreenControlModel",
      "state": {
       "_model_module_version": "^0.13.0",
       "_view_module_version": "^0.13.0",
       "options": [
        "position"
       ]
      }
     },
     "500bb2ddf5d34f9cbe24a2e4228fa65a": {
      "model_module": "@jupyter-widgets/controls",
      "model_module_version": "1.5.0",
      "model_name": "HTMLModel",
      "state": {
       "layout": "IPY_MODEL_d8e7cc0b76da4188ab8d95a2747e2072",
       "style": "IPY_MODEL_e50050fd4f984471b55b0efd803cef7b",
       "value": "<pre style=\"color:grey\">lat: [-46.3166, 0.3516]\nlon: [109.7754, 158.5547]</pre>"
      }
     },
     "50a3ab208df1467d84beeb0dcc3ddec9": {
      "model_module": "jupyter-leaflet",
      "model_module_version": "^0.13.0",
      "model_name": "LeafletMapStyleModel",
      "state": {
       "_model_module_version": "^0.13.0"
      }
     },
     "51030d76ad764deda7f40dbc9c098b81": {
      "model_module": "@jupyter-widgets/base",
      "model_module_version": "1.2.0",
      "model_name": "LayoutModel",
      "state": {
       "width": "5em"
      }
     },
     "513a10a5617e4d64b3033291c41de307": {
      "model_module": "@jupyter-widgets/controls",
      "model_module_version": "1.5.0",
      "model_name": "DescriptionStyleModel",
      "state": {
       "description_width": ""
      }
     },
     "519742e963e04952bd8882af68d062a4": {
      "model_module": "jupyter-leaflet",
      "model_module_version": "^0.13.0",
      "model_name": "LeafletZoomControlModel",
      "state": {
       "_model_module_version": "^0.13.0",
       "_view_module_version": "^0.13.0",
       "options": [
        "position",
        "zoom_in_text",
        "zoom_in_title",
        "zoom_out_text",
        "zoom_out_title"
       ]
      }
     },
     "5197d7b59eda47a682b9d1c991459c92": {
      "model_module": "jupyter-leaflet",
      "model_module_version": "^0.13.0",
      "model_name": "LeafletMapStyleModel",
      "state": {
       "_model_module_version": "^0.13.0"
      }
     },
     "51a1a5eaba1341598a28c2a4fcd29164": {
      "model_module": "@jupyter-widgets/controls",
      "model_module_version": "1.5.0",
      "model_name": "ButtonModel",
      "state": {
       "description": "done",
       "disabled": true,
       "layout": "IPY_MODEL_3039111104624131adde8748b46bfc03",
       "style": "IPY_MODEL_edec75cf9a5b4822a836be95662e4674"
      }
     },
     "52904e406dab43fbaeb59847f02a6fd9": {
      "model_module": "@jupyter-widgets/controls",
      "model_module_version": "1.5.0",
      "model_name": "ButtonStyleModel",
      "state": {
       "button_color": "green"
      }
     },
     "53998def046043dabc50b64ce03ff628": {
      "model_module": "jupyter-leaflet",
      "model_module_version": "^0.13.0",
      "model_name": "LeafletAttributionControlModel",
      "state": {
       "_model_module_version": "^0.13.0",
       "_view_module_version": "^0.13.0",
       "options": [
        "position",
        "prefix"
       ],
       "position": "bottomright",
       "prefix": "Leaflet"
      }
     },
     "53a77d49478d4fae93832940fbca4ac9": {
      "model_module": "jupyter-leaflet",
      "model_module_version": "^0.13.0",
      "model_name": "LeafletAttributionControlModel",
      "state": {
       "_model_module_version": "^0.13.0",
       "_view_module_version": "^0.13.0",
       "options": [
        "position",
        "prefix"
       ],
       "position": "bottomright",
       "prefix": "Leaflet"
      }
     },
     "53b98f7617084abd88eec839e579a66d": {
      "model_module": "jupyter-leaflet",
      "model_module_version": "^0.13.0",
      "model_name": "LeafletWidgetControlModel",
      "state": {
       "_model_module": "jupyter-leaflet",
       "_model_module_version": "^0.13.0",
       "_view_count": null,
       "_view_module": "jupyter-leaflet",
       "_view_module_version": "^0.13.0",
       "options": [
        "position"
       ],
       "position": "topright",
       "widget": "IPY_MODEL_6cc98b1fa5b74c2cb6be35518fcb4be2"
      }
     },
     "54a667b424c54e999f8ea635e4328ef2": {
      "model_module": "jupyter-leaflet",
      "model_module_version": "^0.13.0",
      "model_name": "LeafletFullScreenControlModel",
      "state": {
       "_model_module_version": "^0.13.0",
       "_view_module_version": "^0.13.0",
       "options": [
        "position"
       ]
      }
     },
     "54c705511c0d4b00a786b5b815a1a9f8": {
      "model_module": "@jupyter-widgets/controls",
      "model_module_version": "1.5.0",
      "model_name": "DescriptionStyleModel",
      "state": {
       "description_width": ""
      }
     },
     "54d491f0b89e488da7166fa61bd9a0c7": {
      "model_module": "@jupyter-widgets/base",
      "model_module_version": "1.2.0",
      "model_name": "LayoutModel",
      "state": {
       "width": "5em"
      }
     },
     "575ed0c864a34b76818757a562fd01e1": {
      "model_module": "@jupyter-widgets/controls",
      "model_module_version": "1.5.0",
      "model_name": "ButtonModel",
      "state": {
       "description": "done",
       "disabled": true,
       "layout": "IPY_MODEL_713c2aec69174331bd5934d34dc37d54",
       "style": "IPY_MODEL_f1c0c3f5902f4b55a42cb115c595ad37"
      }
     },
     "577a901358fe4322ae7df2437bd5226c": {
      "model_module": "@jupyter-widgets/base",
      "model_module_version": "1.2.0",
      "model_name": "LayoutModel",
      "state": {
       "height": "600px"
      }
     },
     "58c2c02daf604f6fb59c5744f9b9d0be": {
      "model_module": "@jupyter-widgets/controls",
      "model_module_version": "1.5.0",
      "model_name": "HTMLModel",
      "state": {
       "layout": "IPY_MODEL_fd3b1e3800de461db800f2c4c2d3bd31",
       "style": "IPY_MODEL_89084a30d3ab418586c3f49eadbe0f29",
       "value": "<pre style=\"color:grey\">lat: [-22.7053, -19.6322]\nlon: [114.7742, 118.7073]</pre>"
      }
     },
     "597d982d5dc0498b887e4ce48aef02f5": {
      "model_module": "jupyter-leaflet",
      "model_module_version": "^0.13.0",
      "model_name": "LeafletDrawControlModel",
      "state": {
       "_model_module_version": "^0.13.0",
       "_view_module_version": "^0.13.0",
       "options": [
        "position"
       ],
       "polygon": {
        "shapeOptions": {
         "color": "#000000",
         "editing": {
          "color": "#000000",
          "fillColor": "#fca45d",
          "fillOpacity": 0.1
         },
         "fillColor": "#fca45d",
         "fillOpacity": 0.1,
         "original": {
          "color": "#000000",
          "fillColor": "#fca45d",
          "fillOpacity": 0.1
         }
        }
       },
       "polyline": {},
       "rectangle": {
        "metric": [
         "km",
         "m"
        ],
        "shapeOptions": {
         "color": "#000000",
         "fillColor": "#fca45d",
         "fillOpacity": 0.1
        }
       }
      }
     },
     "5a3f4ab7170f46feb44ffcaaf9f212c0": {
      "model_module": "@jupyter-widgets/base",
      "model_module_version": "1.2.0",
      "model_name": "LayoutModel",
      "state": {
       "flex": "1 0 20em",
       "height": "3em",
       "width": "20em"
      }
     },
     "5a7d9fca08c748538554376d89c6ef0c": {
      "model_module": "jupyter-leaflet",
      "model_module_version": "^0.13.0",
      "model_name": "LeafletWidgetControlModel",
      "state": {
       "_model_module": "jupyter-leaflet",
       "_model_module_version": "^0.13.0",
       "_view_count": null,
       "_view_module": "jupyter-leaflet",
       "_view_module_version": "^0.13.0",
       "options": [
        "position"
       ],
       "position": "topright",
       "widget": "IPY_MODEL_60ae0599ac6841aaadfc7453758e71f5"
      }
     },
     "5aaad3d3bbf14c659b2312d086673d7e": {
      "model_module": "jupyter-leaflet",
      "model_module_version": "^0.13.0",
      "model_name": "LeafletMapStyleModel",
      "state": {
       "_model_module_version": "^0.13.0",
       "cursor": "move"
      }
     },
     "5ae19967bd894da285f5399168b99ae1": {
      "model_module": "jupyter-leaflet",
      "model_module_version": "^0.13.0",
      "model_name": "LeafletDrawControlModel",
      "state": {
       "_model_module_version": "^0.13.0",
       "_view_module_version": "^0.13.0",
       "options": [
        "position"
       ],
       "polygon": {
        "shapeOptions": {
         "color": "#000000",
         "editing": {
          "color": "#000000",
          "fillColor": "#fca45d",
          "fillOpacity": 0.1
         },
         "fillColor": "#fca45d",
         "fillOpacity": 0.1,
         "original": {
          "color": "#000000",
          "fillColor": "#fca45d",
          "fillOpacity": 0.1
         }
        }
       },
       "polyline": {},
       "rectangle": {
        "metric": [
         "km",
         "m"
        ],
        "shapeOptions": {
         "color": "#000000",
         "fillColor": "#fca45d",
         "fillOpacity": 0.1
        }
       }
      }
     },
     "5af2ac94aa2d4a8e8c339de97364c254": {
      "model_module": "jupyter-leaflet",
      "model_module_version": "^0.13.0",
      "model_name": "LeafletMapStyleModel",
      "state": {
       "_model_module_version": "^0.13.0"
      }
     },
     "5bb51cb50a324d4a9bebc05ac3a718cc": {
      "model_module": "@jupyter-widgets/base",
      "model_module_version": "1.2.0",
      "model_name": "LayoutModel",
      "state": {
       "flex": "1 0 20em",
       "height": "3em",
       "width": "20em"
      }
     },
     "5bceb7e7d0a54437940cad2343917483": {
      "model_module": "jupyter-leaflet",
      "model_module_version": "^0.13.0",
      "model_name": "LeafletZoomControlModel",
      "state": {
       "_model_module_version": "^0.13.0",
       "_view_module_version": "^0.13.0",
       "options": [
        "position",
        "zoom_in_text",
        "zoom_in_title",
        "zoom_out_text",
        "zoom_out_title"
       ]
      }
     },
     "5cd4c5209fba479a83c62af0bc9542b0": {
      "model_module": "jupyter-leaflet",
      "model_module_version": "^0.13.0",
      "model_name": "LeafletTileLayerModel",
      "state": {
       "_model_module_version": "^0.13.0",
       "_view_module_version": "^0.13.0",
       "max_native_zoom": 18,
       "max_zoom": 19,
       "min_native_zoom": 0,
       "min_zoom": 1,
       "name": "OpenStreetMap.Mapnik",
       "options": [
        "attribution",
        "detect_retina",
        "max_native_zoom",
        "max_zoom",
        "min_native_zoom",
        "min_zoom",
        "no_wrap",
        "tile_size",
        "tms"
       ]
      }
     },
     "5eaeca22e5cd4c3d9e8908b0a17a9ba3": {
      "model_module": "jupyter-leaflet",
      "model_module_version": "^0.13.0",
      "model_name": "LeafletWidgetControlModel",
      "state": {
       "_model_module": "jupyter-leaflet",
       "_model_module_version": "^0.13.0",
       "_view_count": null,
       "_view_module": "jupyter-leaflet",
       "_view_module_version": "^0.13.0",
       "options": [
        "position"
       ],
       "position": "bottomleft",
       "widget": "IPY_MODEL_0dfa4061d6434737bcde0175819ce2b8"
      }
     },
     "5f22899fe63d4efb85ce8c0df4d29f9f": {
      "model_module": "jupyter-leaflet",
      "model_module_version": "^0.13.0",
      "model_name": "LeafletWidgetControlModel",
      "state": {
       "_model_module": "jupyter-leaflet",
       "_model_module_version": "^0.13.0",
       "_view_count": null,
       "_view_module": "jupyter-leaflet",
       "_view_module_version": "^0.13.0",
       "options": [
        "position"
       ],
       "position": "bottomleft",
       "widget": "IPY_MODEL_43284b45a6bc4d2db1a7171f7ae2d5c4"
      }
     },
     "5f7911f2c1054afebd6841da6bac081c": {
      "model_module": "jupyter-leaflet",
      "model_module_version": "^0.13.0",
      "model_name": "LeafletWidgetControlModel",
      "state": {
       "_model_module": "jupyter-leaflet",
       "_model_module_version": "^0.13.0",
       "_view_count": null,
       "_view_module": "jupyter-leaflet",
       "_view_module_version": "^0.13.0",
       "options": [
        "position"
       ],
       "position": "bottomleft",
       "widget": "IPY_MODEL_e23a37c65cd644c89f9282ca60154aac"
      }
     },
     "6013a1df2e56497096c8ba4ea65f84ed": {
      "model_module": "@jupyter-widgets/controls",
      "model_module_version": "1.5.0",
      "model_name": "ButtonModel",
      "state": {
       "description": "done",
       "disabled": true,
       "layout": "IPY_MODEL_4de513b5a08f40f7a4a761975aaff0a5",
       "style": "IPY_MODEL_730433e2a1d944f4a1b5e0a33eab7a1c"
      }
     },
     "60ae0599ac6841aaadfc7453758e71f5": {
      "model_module": "@jupyter-widgets/controls",
      "model_module_version": "1.5.0",
      "model_name": "ButtonModel",
      "state": {
       "description": "done",
       "disabled": true,
       "layout": "IPY_MODEL_e64a776f67314975acb03c260ea45458",
       "style": "IPY_MODEL_08025f83225a471696c754e4bb906b41"
      }
     },
     "60eaf6dfe22544aeab1c5b2c1bcadfcb": {
      "model_module": "jupyter-leaflet",
      "model_module_version": "^0.13.0",
      "model_name": "LeafletMapStyleModel",
      "state": {
       "_model_module_version": "^0.13.0"
      }
     },
     "62706f737fa64844b69ce18a3c171f50": {
      "model_module": "@jupyter-widgets/controls",
      "model_module_version": "1.5.0",
      "model_name": "DescriptionStyleModel",
      "state": {
       "description_width": ""
      }
     },
     "6291a14671ed48db8bf07386b3e91a1d": {
      "model_module": "jupyter-leaflet",
      "model_module_version": "^0.13.0",
      "model_name": "LeafletMapModel",
      "state": {
       "_model_module_version": "^0.13.0",
       "_view_module_version": "^0.13.0",
       "center": [
        -21.175448081926454,
        116.74072265625001
       ],
       "controls": [
        "IPY_MODEL_5bceb7e7d0a54437940cad2343917483",
        "IPY_MODEL_9aa9e7dc7498423884c626e36eab4993",
        "IPY_MODEL_ed8ee64685b64c2981286f0051e8c9ac"
       ],
       "default_style": "IPY_MODEL_235b7acc13c243158f608454f98abdb2",
       "dragging_style": "IPY_MODEL_353cbd7db898427cbfef7daa4c1e7352",
       "east": 118.70727539062501,
       "fullscreen": false,
       "interpolation": "bilinear",
       "layers": [
        "IPY_MODEL_44f869e760f4401da26e8d82fc04fd02",
        "IPY_MODEL_09f1b19dd2694793b108876bc70905d6"
       ],
       "layout": "IPY_MODEL_a823be72e3e7469693c15b421b96d35a",
       "modisdate": "yesterday",
       "north": -19.63224019048383,
       "options": [
        "bounce_at_zoom_limits",
        "box_zoom",
        "center",
        "close_popup_on_click",
        "double_click_zoom",
        "dragging",
        "fullscreen",
        "inertia",
        "inertia_deceleration",
        "inertia_max_speed",
        "interpolation",
        "keyboard",
        "keyboard_pan_offset",
        "keyboard_zoom_offset",
        "max_zoom",
        "min_zoom",
        "scroll_wheel_zoom",
        "tap",
        "tap_tolerance",
        "touch_zoom",
        "world_copy_jump",
        "zoom",
        "zoom_animation_threshold",
        "zoom_start"
       ],
       "scroll_wheel_zoom": true,
       "south": -22.705255477207526,
       "style": "IPY_MODEL_235b7acc13c243158f608454f98abdb2",
       "west": 114.774169921875,
       "window_url": "https://app.sandbox.dea.ga.gov.au/user/robbibt/lab?#Analysis-parameters",
       "zoom": 8
      }
     },
     "62b3ade57ead4125a7e5a0b715ea42c0": {
      "model_module": "@jupyter-widgets/controls",
      "model_module_version": "1.5.0",
      "model_name": "ButtonModel",
      "state": {
       "description": "done",
       "disabled": true,
       "layout": "IPY_MODEL_139500efb6dd43fb80d45879ed8da7aa",
       "style": "IPY_MODEL_0d3c3c65b93244b0aaf7a10056b27dc9"
      }
     },
     "62fcca40a5d14de9bc12c6e72651f3b8": {
      "model_module": "@jupyter-widgets/controls",
      "model_module_version": "1.5.0",
      "model_name": "ButtonModel",
      "state": {
       "description": "done",
       "disabled": true,
       "layout": "IPY_MODEL_a1b02344566a40c2b84ae4fa301f5615",
       "style": "IPY_MODEL_d55034cfcb7b4703851836056ba2b09a"
      }
     },
     "63b1a0f97c2c49f2b9b74bd9ac95a13f": {
      "model_module": "@jupyter-widgets/controls",
      "model_module_version": "1.5.0",
      "model_name": "HTMLModel",
      "state": {
       "layout": "IPY_MODEL_f3416739efd54b4596d681ca1cab5246",
       "style": "IPY_MODEL_a57bc510be77455981e66e9fefd75585",
       "value": "<pre style=\"color:grey\">lat: [90.0000, -90.0000]\nlon: [180.0000, -180.0000]</pre>"
      }
     },
     "645592073c6c44d9a0baf7496332c690": {
      "model_module": "@jupyter-widgets/base",
      "model_module_version": "1.2.0",
      "model_name": "LayoutModel",
      "state": {
       "width": "5em"
      }
     },
     "64d0d3afab714833a689337f6e5a6739": {
      "model_module": "jupyter-leaflet",
      "model_module_version": "^0.13.0",
      "model_name": "LeafletMapModel",
      "state": {
       "_model_module_version": "^0.13.0",
       "_view_module_version": "^0.13.0",
       "center": [
        -18.170644877117038,
        122.1508026123047
       ],
       "controls": [
        "IPY_MODEL_af89fb7a48434148a0936ddba1267603",
        "IPY_MODEL_40290264026843479900d91a8ed5d11a",
        "IPY_MODEL_e36f0e76fc2748fdbc9c082d886f9ff0"
       ],
       "default_style": "IPY_MODEL_0b73e708640f45b19d2c586dfbec8c21",
       "dragging_style": "IPY_MODEL_6c8712851dae422a8c28943802226778",
       "east": 122.53189086914064,
       "fullscreen": false,
       "interpolation": "bilinear",
       "layers": [
        "IPY_MODEL_ce44945a0d6f42d48177e2e9d7dfb0c0",
        "IPY_MODEL_e33928d4844741c1a7eb9eca7c4ba4d2"
       ],
       "layout": "IPY_MODEL_3a714837ffb14219b4e180aa0f666a7c",
       "modisdate": "yesterday",
       "north": -17.778766425198338,
       "options": [
        "bounce_at_zoom_limits",
        "box_zoom",
        "center",
        "close_popup_on_click",
        "double_click_zoom",
        "dragging",
        "fullscreen",
        "inertia",
        "inertia_deceleration",
        "inertia_max_speed",
        "interpolation",
        "keyboard",
        "keyboard_pan_offset",
        "keyboard_zoom_offset",
        "max_zoom",
        "min_zoom",
        "scroll_wheel_zoom",
        "tap",
        "tap_tolerance",
        "touch_zoom",
        "world_copy_jump",
        "zoom",
        "zoom_animation_threshold",
        "zoom_start"
       ],
       "scroll_wheel_zoom": true,
       "south": -18.561645593086194,
       "style": "IPY_MODEL_0b73e708640f45b19d2c586dfbec8c21",
       "west": 121.76971435546876,
       "window_url": "https://app.sandbox.dea.ga.gov.au/user/robbibt/lab?#Analysis-parameters",
       "zoom": 10
      }
     },
     "65c94a4a703e43c793b1357d9bf42bc6": {
      "model_module": "jupyter-leaflet",
      "model_module_version": "^0.13.0",
      "model_name": "LeafletAttributionControlModel",
      "state": {
       "_model_module_version": "^0.13.0",
       "_view_module_version": "^0.13.0",
       "options": [
        "position",
        "prefix"
       ],
       "position": "bottomright",
       "prefix": "Leaflet"
      }
     },
     "65f15d53c13d4f81a3134fc890eeecd6": {
      "model_module": "jupyter-leaflet",
      "model_module_version": "^0.13.0",
      "model_name": "LeafletMapStyleModel",
      "state": {
       "_model_module_version": "^0.13.0"
      }
     },
     "65fdf6ee22f04d13ac6c0a25677c1809": {
      "model_module": "jupyter-leaflet",
      "model_module_version": "^0.13.0",
      "model_name": "LeafletFullScreenControlModel",
      "state": {
       "_model_module_version": "^0.13.0",
       "_view_module_version": "^0.13.0",
       "options": [
        "position"
       ]
      }
     },
     "68160d72c7074658ad85d05979a46d7a": {
      "model_module": "@jupyter-widgets/controls",
      "model_module_version": "1.5.0",
      "model_name": "ButtonStyleModel",
      "state": {
       "button_color": "green"
      }
     },
     "6b39214793a048f88bf2b229c6f0e6d8": {
      "model_module": "jupyter-leaflet",
      "model_module_version": "^0.13.0",
      "model_name": "LeafletZoomControlModel",
      "state": {
       "_model_module_version": "^0.13.0",
       "_view_module_version": "^0.13.0",
       "options": [
        "position",
        "zoom_in_text",
        "zoom_in_title",
        "zoom_out_text",
        "zoom_out_title"
       ]
      }
     },
     "6b9d138f227f4fcfb5035000360af634": {
      "model_module": "jupyter-leaflet",
      "model_module_version": "^0.13.0",
      "model_name": "LeafletMapModel",
      "state": {
       "_model_module_version": "^0.13.0",
       "_view_module_version": "^0.13.0",
       "center": [
        -28.783156845357798,
        114.60362434387208
       ],
       "controls": [
        "IPY_MODEL_6b39214793a048f88bf2b229c6f0e6d8",
        "IPY_MODEL_defc00580cf5479ba51e4f37da222983",
        "IPY_MODEL_1584087e94d94231a2732c7b7cfcc21e"
       ],
       "default_style": "IPY_MODEL_0d40b661ea6e4fa89b1a471f2a6f67e4",
       "dragging_style": "IPY_MODEL_5aaad3d3bbf14c659b2312d086673d7e",
       "east": -180,
       "fullscreen": false,
       "interpolation": "bilinear",
       "layers": [
        "IPY_MODEL_14d5fcb9d5e84145b9f2bba5087553de",
        "IPY_MODEL_ba6029fed5df401da59aa676ca668107"
       ],
       "layout": "IPY_MODEL_39f545d6a8d842a1baf79b9e0d19d253",
       "modisdate": "yesterday",
       "north": -90,
       "options": [
        "bounce_at_zoom_limits",
        "box_zoom",
        "center",
        "close_popup_on_click",
        "double_click_zoom",
        "dragging",
        "fullscreen",
        "inertia",
        "inertia_deceleration",
        "inertia_max_speed",
        "interpolation",
        "keyboard",
        "keyboard_pan_offset",
        "keyboard_zoom_offset",
        "max_zoom",
        "min_zoom",
        "scroll_wheel_zoom",
        "tap",
        "tap_tolerance",
        "touch_zoom",
        "world_copy_jump",
        "zoom",
        "zoom_animation_threshold",
        "zoom_start"
       ],
       "scroll_wheel_zoom": true,
       "south": 90,
       "style": "IPY_MODEL_0d40b661ea6e4fa89b1a471f2a6f67e4",
       "west": 180,
       "window_url": "https://app.sandbox.dea.ga.gov.au/user/robbibt/lab?#Analysis-parameters",
       "zoom": 14
      }
     },
     "6c18668437ca4395bd0b3bc010bbdd94": {
      "model_module": "jupyter-leaflet",
      "model_module_version": "^0.13.0",
      "model_name": "LeafletAttributionControlModel",
      "state": {
       "_model_module_version": "^0.13.0",
       "_view_module_version": "^0.13.0",
       "options": [
        "position",
        "prefix"
       ],
       "position": "bottomright",
       "prefix": "Leaflet"
      }
     },
     "6c266cde8ff94256adf6031794cd5ea3": {
      "model_module": "jupyter-leaflet",
      "model_module_version": "^0.13.0",
      "model_name": "LeafletWidgetControlModel",
      "state": {
       "_model_module": "jupyter-leaflet",
       "_model_module_version": "^0.13.0",
       "_view_count": null,
       "_view_module": "jupyter-leaflet",
       "_view_module_version": "^0.13.0",
       "options": [
        "position"
       ],
       "position": "bottomleft",
       "widget": "IPY_MODEL_7da17c972c9743a294d08782cf54be9a"
      }
     },
     "6c3b75bb9c1045e9bf7460945b8dc00d": {
      "model_module": "jupyter-leaflet",
      "model_module_version": "^0.13.0",
      "model_name": "LeafletDrawControlModel",
      "state": {
       "_model_module_version": "^0.13.0",
       "_view_module_version": "^0.13.0",
       "options": [
        "position"
       ],
       "polygon": {
        "shapeOptions": {
         "color": "#000000",
         "editing": {
          "color": "#000000",
          "fillColor": "#fca45d",
          "fillOpacity": 0.1
         },
         "fillColor": "#fca45d",
         "fillOpacity": 0.1,
         "original": {
          "color": "#000000",
          "fillColor": "#fca45d",
          "fillOpacity": 0.1
         }
        }
       },
       "polyline": {},
       "rectangle": {
        "metric": [
         "km",
         "m"
        ],
        "shapeOptions": {
         "color": "#000000",
         "fillColor": "#fca45d",
         "fillOpacity": 0.1
        }
       }
      }
     },
     "6c74d772adf144db8917f298218741b5": {
      "model_module": "jupyter-leaflet",
      "model_module_version": "^0.13.0",
      "model_name": "LeafletWidgetControlModel",
      "state": {
       "_model_module": "jupyter-leaflet",
       "_model_module_version": "^0.13.0",
       "_view_count": null,
       "_view_module": "jupyter-leaflet",
       "_view_module_version": "^0.13.0",
       "options": [
        "position"
       ],
       "position": "bottomleft",
       "widget": "IPY_MODEL_79952833b6224e22bdc21b790baa9cdf"
      }
     },
     "6c8712851dae422a8c28943802226778": {
      "model_module": "jupyter-leaflet",
      "model_module_version": "^0.13.0",
      "model_name": "LeafletMapStyleModel",
      "state": {
       "_model_module_version": "^0.13.0",
       "cursor": "move"
      }
     },
     "6caa5448af3b434a83408b5eea273bf4": {
      "model_module": "jupyter-leaflet",
      "model_module_version": "^0.13.0",
      "model_name": "LeafletDrawControlModel",
      "state": {
       "_model_module_version": "^0.13.0",
       "_view_module_version": "^0.13.0",
       "options": [
        "position"
       ],
       "polygon": {
        "shapeOptions": {
         "color": "#000000",
         "editing": {
          "color": "#000000",
          "fillColor": "#fca45d",
          "fillOpacity": 0.1
         },
         "fillColor": "#fca45d",
         "fillOpacity": 0.1,
         "original": {
          "color": "#000000",
          "fillColor": "#fca45d",
          "fillOpacity": 0.1
         }
        }
       },
       "polyline": {},
       "rectangle": {
        "metric": [
         "km",
         "m"
        ],
        "shapeOptions": {
         "color": "#000000",
         "fillColor": "#fca45d",
         "fillOpacity": 0.1
        }
       }
      }
     },
     "6cc98b1fa5b74c2cb6be35518fcb4be2": {
      "model_module": "@jupyter-widgets/controls",
      "model_module_version": "1.5.0",
      "model_name": "ButtonModel",
      "state": {
       "description": "done",
       "disabled": true,
       "layout": "IPY_MODEL_11bcd556c1b544a8acdb9b17a5db1662",
       "style": "IPY_MODEL_c0d262fed60b4166b692371787a09759"
      }
     },
     "6d42a25fe8f546c9999ab5a657eba7d2": {
      "model_module": "@jupyter-widgets/controls",
      "model_module_version": "1.5.0",
      "model_name": "ButtonStyleModel",
      "state": {
       "button_color": "green"
      }
     },
     "6d463ed9356e45a5947675cc58d09081": {
      "model_module": "jupyter-leaflet",
      "model_module_version": "^0.13.0",
      "model_name": "LeafletMapModel",
      "state": {
       "_model_module_version": "^0.13.0",
       "_view_module_version": "^0.13.0",
       "center": [
        -28.81640150555238,
        114.58568572998047
       ],
       "controls": [
        "IPY_MODEL_95e4de32a57246419610e88ca4b5d407",
        "IPY_MODEL_4cf9ba86f4a1498b8d039db6465340f0",
        "IPY_MODEL_65fdf6ee22f04d13ac6c0a25677c1809"
       ],
       "default_style": "IPY_MODEL_1b94a0f7a53b459780786ece957a7053",
       "dragging_style": "IPY_MODEL_b9450649aceb43d3b189de0cd6cca4fa",
       "east": -180,
       "fullscreen": false,
       "interpolation": "bilinear",
       "layers": [
        "IPY_MODEL_c850a1726e0d4383873c940c49da5c51",
        "IPY_MODEL_0091ba4c678b4149a6f38807a5bd82c2"
       ],
       "layout": "IPY_MODEL_d2b592aa1a6d4ed6903512fc50814ec8",
       "modisdate": "yesterday",
       "north": -90,
       "options": [
        "bounce_at_zoom_limits",
        "box_zoom",
        "center",
        "close_popup_on_click",
        "double_click_zoom",
        "dragging",
        "fullscreen",
        "inertia",
        "inertia_deceleration",
        "inertia_max_speed",
        "interpolation",
        "keyboard",
        "keyboard_pan_offset",
        "keyboard_zoom_offset",
        "max_zoom",
        "min_zoom",
        "scroll_wheel_zoom",
        "tap",
        "tap_tolerance",
        "touch_zoom",
        "world_copy_jump",
        "zoom",
        "zoom_animation_threshold",
        "zoom_start"
       ],
       "scroll_wheel_zoom": true,
       "south": 90,
       "style": "IPY_MODEL_1b94a0f7a53b459780786ece957a7053",
       "west": 180,
       "window_url": "https://app.sandbox.dea.ga.gov.au/user/robbibt/lab?#Analysis-parameters"
      }
     },
     "6ebbc150b91149e483cb914a3936622e": {
      "model_module": "jupyter-leaflet",
      "model_module_version": "^0.13.0",
      "model_name": "LeafletMapStyleModel",
      "state": {
       "_model_module_version": "^0.13.0"
      }
     },
     "6f50d288bbf04b3f8dfa1131c9f76fba": {
      "model_module": "jupyter-leaflet",
      "model_module_version": "^0.13.0",
      "model_name": "LeafletFullScreenControlModel",
      "state": {
       "_model_module_version": "^0.13.0",
       "_view_module_version": "^0.13.0",
       "options": [
        "position"
       ]
      }
     },
     "6f9076405c39433c908c03c49c8f7202": {
      "model_module": "jupyter-leaflet",
      "model_module_version": "^0.13.0",
      "model_name": "LeafletMapModel",
      "state": {
       "_model_module_version": "^0.13.0",
       "_view_module_version": "^0.13.0",
       "center": [
        -21.161361200807214,
        115.72723388671876
       ],
       "controls": [
        "IPY_MODEL_519742e963e04952bd8882af68d062a4",
        "IPY_MODEL_358db82fcbc4444a835d7f869c40a9ed",
        "IPY_MODEL_2a204f17170f49f2aec8458fe8f399c2"
       ],
       "default_style": "IPY_MODEL_dc01ec743f3d410e9d72884b96db1b28",
       "dragging_style": "IPY_MODEL_970bfb4ad8ac4451b7bf353961d3d832",
       "east": 117.69653320312501,
       "fullscreen": false,
       "interpolation": "bilinear",
       "layers": [
        "IPY_MODEL_02ee11058f7844eb9b81ae5e8c7ec58e",
        "IPY_MODEL_c1787a1d11c742ab857999f37fa861bb"
       ],
       "layout": "IPY_MODEL_22a5fe5036494f8e86ebd3950f19a4ed",
       "modisdate": "yesterday",
       "north": -19.616717925340957,
       "options": [
        "bounce_at_zoom_limits",
        "box_zoom",
        "center",
        "close_popup_on_click",
        "double_click_zoom",
        "dragging",
        "fullscreen",
        "inertia",
        "inertia_deceleration",
        "inertia_max_speed",
        "interpolation",
        "keyboard",
        "keyboard_pan_offset",
        "keyboard_zoom_offset",
        "max_zoom",
        "min_zoom",
        "scroll_wheel_zoom",
        "tap",
        "tap_tolerance",
        "touch_zoom",
        "world_copy_jump",
        "zoom",
        "zoom_animation_threshold",
        "zoom_start"
       ],
       "scroll_wheel_zoom": true,
       "south": -22.690052257634015,
       "style": "IPY_MODEL_dc01ec743f3d410e9d72884b96db1b28",
       "west": 113.76342773437501,
       "window_url": "https://app.sandbox.dea.ga.gov.au/user/robbibt/lab?#Analysis-parameters",
       "zoom": 8
      }
     },
     "6fa6af89b0f74385bdeeccbc84c40833": {
      "model_module": "jupyter-leaflet",
      "model_module_version": "^0.13.0",
      "model_name": "LeafletTileLayerModel",
      "state": {
       "_model_module_version": "^0.13.0",
       "_view_module_version": "^0.13.0",
       "max_native_zoom": 18,
       "max_zoom": 19,
       "min_native_zoom": 0,
       "min_zoom": 1,
       "name": "OpenStreetMap.Mapnik",
       "options": [
        "attribution",
        "detect_retina",
        "max_native_zoom",
        "max_zoom",
        "min_native_zoom",
        "min_zoom",
        "no_wrap",
        "tile_size",
        "tms"
       ]
      }
     },
     "704f77fae247490c83047391ae1628b8": {
      "model_module": "jupyter-leaflet",
      "model_module_version": "^0.13.0",
      "model_name": "LeafletWMSLayerModel",
      "state": {
       "_model_module_version": "^0.13.0",
       "_view_module_version": "^0.13.0",
       "attribution": "Digital Earth Australia",
       "crs": {
        "custom": false,
        "name": "EPSG3857"
       },
       "format": "image/png",
       "layers": "ga_ls_ard_3",
       "max_native_zoom": 18,
       "min_native_zoom": 0,
       "options": [
        "attribution",
        "detect_retina",
        "format",
        "layers",
        "max_native_zoom",
        "max_zoom",
        "min_native_zoom",
        "min_zoom",
        "no_wrap",
        "styles",
        "tile_size",
        "time",
        "tms",
        "transparent",
        "uppercase"
       ],
       "time": "2018-04-01",
       "transparent": true,
       "url": "https://ows.dea.ga.gov.au/"
      }
     },
     "707334c530ae4f87952e0e6e75f240fd": {
      "model_module": "jupyter-leaflet",
      "model_module_version": "^0.13.0",
      "model_name": "LeafletWidgetControlModel",
      "state": {
       "_model_module": "jupyter-leaflet",
       "_model_module_version": "^0.13.0",
       "_view_count": null,
       "_view_module": "jupyter-leaflet",
       "_view_module_version": "^0.13.0",
       "options": [
        "position"
       ],
       "position": "topright",
       "widget": "IPY_MODEL_bd58fd1e3c34431087dd4889567b516a"
      }
     },
     "70855f2f1281468fa83da8cffb96db07": {
      "model_module": "jupyter-leaflet",
      "model_module_version": "^0.13.0",
      "model_name": "LeafletWMSLayerModel",
      "state": {
       "_model_module_version": "^0.13.0",
       "_view_module_version": "^0.13.0",
       "attribution": "Digital Earth Australia",
       "crs": {
        "custom": false,
        "name": "EPSG3857"
       },
       "format": "image/png",
       "layers": "ga_ls_ard_3",
       "max_native_zoom": 18,
       "min_native_zoom": 0,
       "options": [
        "attribution",
        "detect_retina",
        "format",
        "layers",
        "max_native_zoom",
        "max_zoom",
        "min_native_zoom",
        "min_zoom",
        "no_wrap",
        "styles",
        "tile_size",
        "time",
        "tms",
        "transparent",
        "uppercase"
       ],
       "time": "2018-04-01",
       "transparent": true,
       "url": "https://ows.dea.ga.gov.au/"
      }
     },
     "713c2aec69174331bd5934d34dc37d54": {
      "model_module": "@jupyter-widgets/base",
      "model_module_version": "1.2.0",
      "model_name": "LayoutModel",
      "state": {
       "width": "5em"
      }
     },
     "7172db7a4db843ce8254e6bdb7b52723": {
      "model_module": "jupyter-leaflet",
      "model_module_version": "^0.13.0",
      "model_name": "LeafletWMSLayerModel",
      "state": {
       "_model_module_version": "^0.13.0",
       "_view_module_version": "^0.13.0",
       "attribution": "Digital Earth Australia",
       "crs": {
        "custom": false,
        "name": "EPSG3857"
       },
       "format": "image/png",
       "layers": "s2_ard_granule_nbar_t",
       "max_native_zoom": 18,
       "min_native_zoom": 0,
       "options": [
        "attribution",
        "detect_retina",
        "format",
        "layers",
        "max_native_zoom",
        "max_zoom",
        "min_native_zoom",
        "min_zoom",
        "no_wrap",
        "styles",
        "tile_size",
        "time",
        "tms",
        "transparent",
        "uppercase"
       ],
       "time": "2020-01-30",
       "transparent": true,
       "url": "https://ows.dea.ga.gov.au/"
      }
     },
     "7234b219eea74dac9a644b20ff3351da": {
      "model_module": "jupyter-leaflet",
      "model_module_version": "^0.13.0",
      "model_name": "LeafletDrawControlModel",
      "state": {
       "_model_module_version": "^0.13.0",
       "_view_module_version": "^0.13.0",
       "options": [
        "position"
       ],
       "polygon": {
        "shapeOptions": {
         "color": "#000000",
         "editing": {
          "color": "#000000",
          "fillColor": "#fca45d",
          "fillOpacity": 0.1
         },
         "fillColor": "#fca45d",
         "fillOpacity": 0.1,
         "original": {
          "color": "#000000",
          "fillColor": "#fca45d",
          "fillOpacity": 0.1
         }
        }
       },
       "polyline": {},
       "rectangle": {
        "metric": [
         "km",
         "m"
        ],
        "shapeOptions": {
         "color": "#000000",
         "fillColor": "#fca45d",
         "fillOpacity": 0.1
        }
       }
      }
     },
     "7248f5a29a2549c4b28ce74a6eb77129": {
      "model_module": "jupyter-leaflet",
      "model_module_version": "^0.13.0",
      "model_name": "LeafletMapStyleModel",
      "state": {
       "_model_module_version": "^0.13.0"
      }
     },
     "725781aeb6a54c3880966d06b367b673": {
      "model_module": "@jupyter-widgets/controls",
      "model_module_version": "1.5.0",
      "model_name": "ButtonModel",
      "state": {
       "description": "done",
       "disabled": true,
       "layout": "IPY_MODEL_31c09323f7124d32a13f08035374495c",
       "style": "IPY_MODEL_25c3e85961af4eaca04c96f2d7ba37af"
      }
     },
     "72df1d5e2a724c908c431c9965cc99fc": {
      "model_module": "@jupyter-widgets/controls",
      "model_module_version": "1.5.0",
      "model_name": "ButtonModel",
      "state": {
       "description": "done",
       "disabled": true,
       "layout": "IPY_MODEL_baa2593581884c968a752a1bae980cf0",
       "style": "IPY_MODEL_c29c32912d88419ea2b0eb55493aecc0"
      }
     },
     "730433e2a1d944f4a1b5e0a33eab7a1c": {
      "model_module": "@jupyter-widgets/controls",
      "model_module_version": "1.5.0",
      "model_name": "ButtonStyleModel",
      "state": {
       "button_color": "green"
      }
     },
     "736ae0a35ccb4b2ea57853f27fdc2f7a": {
      "model_module": "jupyter-leaflet",
      "model_module_version": "^0.13.0",
      "model_name": "LeafletZoomControlModel",
      "state": {
       "_model_module_version": "^0.13.0",
       "_view_module_version": "^0.13.0",
       "options": [
        "position",
        "zoom_in_text",
        "zoom_in_title",
        "zoom_out_text",
        "zoom_out_title"
       ]
      }
     },
     "74f5b0493c1a4946b3b7a3ef447ca449": {
      "model_module": "@jupyter-widgets/controls",
      "model_module_version": "1.5.0",
      "model_name": "ButtonStyleModel",
      "state": {
       "button_color": "green"
      }
     },
     "7523fd886bf6420ebecdfcd3e3a7b73f": {
      "model_module": "jupyter-leaflet",
      "model_module_version": "^0.13.0",
      "model_name": "LeafletWidgetControlModel",
      "state": {
       "_model_module": "jupyter-leaflet",
       "_model_module_version": "^0.13.0",
       "_view_count": null,
       "_view_module": "jupyter-leaflet",
       "_view_module_version": "^0.13.0",
       "options": [
        "position"
       ],
       "position": "topright",
       "widget": "IPY_MODEL_62fcca40a5d14de9bc12c6e72651f3b8"
      }
     },
     "759644bf2af44d80a030bbb01a993fa3": {
      "model_module": "jupyter-leaflet",
      "model_module_version": "^0.13.0",
      "model_name": "LeafletTileLayerModel",
      "state": {
       "_model_module_version": "^0.13.0",
       "_view_module_version": "^0.13.0",
       "max_native_zoom": 18,
       "max_zoom": 19,
       "min_native_zoom": 0,
       "min_zoom": 1,
       "name": "OpenStreetMap.Mapnik",
       "options": [
        "attribution",
        "detect_retina",
        "max_native_zoom",
        "max_zoom",
        "min_native_zoom",
        "min_zoom",
        "no_wrap",
        "tile_size",
        "tms"
       ]
      }
     },
     "7667bf5090d54d878df17d4df715ab26": {
      "model_module": "jupyter-leaflet",
      "model_module_version": "^0.13.0",
      "model_name": "LeafletTileLayerModel",
      "state": {
       "_model_module_version": "^0.13.0",
       "_view_module_version": "^0.13.0",
       "max_native_zoom": 18,
       "max_zoom": 19,
       "min_native_zoom": 0,
       "min_zoom": 1,
       "name": "OpenStreetMap.Mapnik",
       "options": [
        "attribution",
        "detect_retina",
        "max_native_zoom",
        "max_zoom",
        "min_native_zoom",
        "min_zoom",
        "no_wrap",
        "tile_size",
        "tms"
       ]
      }
     },
     "777d8142ce854689b392b2ea21e3bcb9": {
      "model_module": "@jupyter-widgets/controls",
      "model_module_version": "1.5.0",
      "model_name": "ButtonStyleModel",
      "state": {
       "button_color": "green"
      }
     },
     "78fc12b86386495ca16652966b401dd9": {
      "model_module": "jupyter-leaflet",
      "model_module_version": "^0.13.0",
      "model_name": "LeafletWidgetControlModel",
      "state": {
       "_model_module": "jupyter-leaflet",
       "_model_module_version": "^0.13.0",
       "_view_count": null,
       "_view_module": "jupyter-leaflet",
       "_view_module_version": "^0.13.0",
       "options": [
        "position"
       ],
       "position": "topright",
       "widget": "IPY_MODEL_3fe2ad9c0f1f4b529dc1b2ba0e083cd9"
      }
     },
     "79952833b6224e22bdc21b790baa9cdf": {
      "model_module": "@jupyter-widgets/controls",
      "model_module_version": "1.5.0",
      "model_name": "HTMLModel",
      "state": {
       "layout": "IPY_MODEL_add91f2e9994436daee3b28ccd8e08a9",
       "style": "IPY_MODEL_31ef350f1e7640f0863988a244020e5d",
       "value": "<pre style=\"color:grey\">lat: [-28.8814, -28.7008]\nlon: [114.5009, 114.6914]</pre>"
      }
     },
     "7a38243fe97c4b55873209c425fa195a": {
      "model_module": "@jupyter-widgets/controls",
      "model_module_version": "1.5.0",
      "model_name": "ButtonModel",
      "state": {
       "description": "done",
       "disabled": true,
       "layout": "IPY_MODEL_133ccce35d59495f97df625677a31cef",
       "style": "IPY_MODEL_6d42a25fe8f546c9999ab5a657eba7d2"
      }
     },
     "7a41d6c83b3c4dcd9ed08e0826d90738": {
      "model_module": "jupyter-leaflet",
      "model_module_version": "^0.13.0",
      "model_name": "LeafletWidgetControlModel",
      "state": {
       "_model_module": "jupyter-leaflet",
       "_model_module_version": "^0.13.0",
       "_view_count": null,
       "_view_module": "jupyter-leaflet",
       "_view_module_version": "^0.13.0",
       "options": [
        "position"
       ],
       "position": "bottomleft",
       "widget": "IPY_MODEL_58c2c02daf604f6fb59c5744f9b9d0be"
      }
     },
     "7a631c31317a47cd98af02e5b98de218": {
      "model_module": "jupyter-leaflet",
      "model_module_version": "^0.13.0",
      "model_name": "LeafletTileLayerModel",
      "state": {
       "_model_module_version": "^0.13.0",
       "_view_module_version": "^0.13.0",
       "max_native_zoom": 18,
       "max_zoom": 19,
       "min_native_zoom": 0,
       "min_zoom": 1,
       "name": "OpenStreetMap.Mapnik",
       "options": [
        "attribution",
        "detect_retina",
        "max_native_zoom",
        "max_zoom",
        "min_native_zoom",
        "min_zoom",
        "no_wrap",
        "tile_size",
        "tms"
       ]
      }
     },
     "7c30fa6e79f845fd85d0043982fe33c4": {
      "model_module": "jupyter-leaflet",
      "model_module_version": "^0.13.0",
      "model_name": "LeafletWidgetControlModel",
      "state": {
       "_model_module": "jupyter-leaflet",
       "_model_module_version": "^0.13.0",
       "_view_count": null,
       "_view_module": "jupyter-leaflet",
       "_view_module_version": "^0.13.0",
       "options": [
        "position"
       ],
       "position": "topright",
       "widget": "IPY_MODEL_83d1d55e06654149add148b3738ddd5f"
      }
     },
     "7c5e9db453ac46a4b46f98868cf055d2": {
      "model_module": "jupyter-leaflet",
      "model_module_version": "^0.13.0",
      "model_name": "LeafletMapModel",
      "state": {
       "_model_module_version": "^0.13.0",
       "_view_module_version": "^0.13.0",
       "center": [
        -12.951029216018357,
        130.21270751953128
       ],
       "controls": [
        "IPY_MODEL_fab24853d53944f49702c4291a469462",
        "IPY_MODEL_53998def046043dabc50b64ce03ff628",
        "IPY_MODEL_3d06631d413c4d7db4bea7f6e49d318b"
       ],
       "default_style": "IPY_MODEL_a574eaa661624fdda3fee5e9f607f9df",
       "dragging_style": "IPY_MODEL_a54e4e37f4ed4d82a439d3acb62bfbda",
       "east": -180,
       "fullscreen": false,
       "interpolation": "bilinear",
       "layers": [
        "IPY_MODEL_14774dc487df412682e558471c5fe127",
        "IPY_MODEL_b3a5c74e49ae496bab59dc8ca44e72b2"
       ],
       "layout": "IPY_MODEL_f866d505401e4d89a83733c609457323",
       "modisdate": "yesterday",
       "north": -90,
       "options": [
        "bounce_at_zoom_limits",
        "box_zoom",
        "center",
        "close_popup_on_click",
        "double_click_zoom",
        "dragging",
        "fullscreen",
        "inertia",
        "inertia_deceleration",
        "inertia_max_speed",
        "interpolation",
        "keyboard",
        "keyboard_pan_offset",
        "keyboard_zoom_offset",
        "max_zoom",
        "min_zoom",
        "scroll_wheel_zoom",
        "tap",
        "tap_tolerance",
        "touch_zoom",
        "world_copy_jump",
        "zoom",
        "zoom_animation_threshold",
        "zoom_start"
       ],
       "scroll_wheel_zoom": true,
       "south": 90,
       "style": "IPY_MODEL_a574eaa661624fdda3fee5e9f607f9df",
       "west": 180,
       "window_url": "https://app.sandbox.dea.ga.gov.au/user/robbibt/lab?#Analysis-parameters",
       "zoom": 9
      }
     },
     "7da17c972c9743a294d08782cf54be9a": {
      "model_module": "@jupyter-widgets/controls",
      "model_module_version": "1.5.0",
      "model_name": "HTMLModel",
      "state": {
       "layout": "IPY_MODEL_95ac93897f29496fa70d6949e9e1fe56",
       "style": "IPY_MODEL_f5b14088d5ea4d688c56c9b9150addf5",
       "value": "<pre style=\"color:grey\">lat: [-32.8334, -30.0215]\nlon: [151.0455, 154.0942]</pre>"
      }
     },
     "7ea9565b31264254aea3ad378ba2b4b9": {
      "model_module": "jupyter-leaflet",
      "model_module_version": "^0.13.0",
      "model_name": "LeafletWMSLayerModel",
      "state": {
       "_model_module_version": "^0.13.0",
       "_view_module_version": "^0.13.0",
       "attribution": "Digital Earth Australia",
       "crs": {
        "custom": false,
        "name": "EPSG3857"
       },
       "format": "image/png",
       "layers": "ga_ls_ard_3",
       "max_native_zoom": 18,
       "min_native_zoom": 0,
       "options": [
        "attribution",
        "detect_retina",
        "format",
        "layers",
        "max_native_zoom",
        "max_zoom",
        "min_native_zoom",
        "min_zoom",
        "no_wrap",
        "styles",
        "tile_size",
        "time",
        "tms",
        "transparent",
        "uppercase"
       ],
       "time": "2018-04-01",
       "transparent": true,
       "url": "https://ows.dea.ga.gov.au/"
      }
     },
     "7f6a03a90d424e7cad3b13e7b1c95722": {
      "model_module": "jupyter-leaflet",
      "model_module_version": "^0.13.0",
      "model_name": "LeafletFullScreenControlModel",
      "state": {
       "_model_module_version": "^0.13.0",
       "_view_module_version": "^0.13.0",
       "options": [
        "position"
       ]
      }
     },
     "800430b69c694d9786b42fbe1560aebb": {
      "model_module": "jupyter-leaflet",
      "model_module_version": "^0.13.0",
      "model_name": "LeafletMapStyleModel",
      "state": {
       "_model_module_version": "^0.13.0",
       "cursor": "move"
      }
     },
     "8018d1b82619467dae57157dcc460ba0": {
      "model_module": "@jupyter-widgets/base",
      "model_module_version": "1.2.0",
      "model_name": "LayoutModel",
      "state": {
       "flex": "1 0 20em",
       "height": "3em",
       "width": "20em"
      }
     },
     "805e498dc86644eaa5a7386c0e0394d0": {
      "model_module": "jupyter-leaflet",
      "model_module_version": "^0.13.0",
      "model_name": "LeafletWMSLayerModel",
      "state": {
       "_model_module_version": "^0.13.0",
       "_view_module_version": "^0.13.0",
       "attribution": "Digital Earth Australia",
       "crs": {
        "custom": false,
        "name": "EPSG3857"
       },
       "format": "image/png",
       "layers": "ga_ls_ard_3",
       "max_native_zoom": 18,
       "min_native_zoom": 0,
       "options": [
        "attribution",
        "detect_retina",
        "format",
        "layers",
        "max_native_zoom",
        "max_zoom",
        "min_native_zoom",
        "min_zoom",
        "no_wrap",
        "styles",
        "tile_size",
        "time",
        "tms",
        "transparent",
        "uppercase"
       ],
       "time": "2021-08-15",
       "transparent": true,
       "url": "https://ows.dea.ga.gov.au/"
      }
     },
     "80cf6bc2e8b840f7a8b8542f10178556": {
      "model_module": "jupyter-leaflet",
      "model_module_version": "^0.13.0",
      "model_name": "LeafletWidgetControlModel",
      "state": {
       "_model_module": "jupyter-leaflet",
       "_model_module_version": "^0.13.0",
       "_view_count": null,
       "_view_module": "jupyter-leaflet",
       "_view_module_version": "^0.13.0",
       "options": [
        "position"
       ],
       "position": "bottomleft",
       "widget": "IPY_MODEL_4f7f413c7ca94364b713b9b327b0526d"
      }
     },
     "819a7f06580840a588cc5a061d1e786e": {
      "model_module": "@jupyter-widgets/base",
      "model_module_version": "1.2.0",
      "model_name": "LayoutModel",
      "state": {
       "width": "5em"
      }
     },
     "81b6196f318a4629a6238f9cb661f915": {
      "model_module": "jupyter-leaflet",
      "model_module_version": "^0.13.0",
      "model_name": "LeafletMapModel",
      "state": {
       "_model_module_version": "^0.13.0",
       "_view_module_version": "^0.13.0",
       "center": [
        -19.559790136497412,
        120.25634765625001
       ],
       "controls": [
        "IPY_MODEL_e2575c16e4a74de1b0f2678a4b7e8b8d",
        "IPY_MODEL_a7393cea50774a67a6f888cb746c3c7e",
        "IPY_MODEL_b29f4793ec634ea0a5a26897af93993c",
        "IPY_MODEL_8ae2ab2a7ac2423f8bbaef7fef2815ee",
        "IPY_MODEL_6caa5448af3b434a83408b5eea273bf4",
        "IPY_MODEL_3eb3ff49b88e4372bcb0d8f1262a8cf8"
       ],
       "default_style": "IPY_MODEL_e8a638633c074738bcfe040a56f08c76",
       "dragging_style": "IPY_MODEL_8ef3b17bccaf4033871c6ad4f0c230a7",
       "east": 132.45117187500003,
       "fullscreen": false,
       "interpolation": "bilinear",
       "layers": [
        "IPY_MODEL_f6af81a5b04141ff97854a2f39ed0359",
        "IPY_MODEL_b5bc3ffeac214683974d6008e157aba7"
       ],
       "layout": "IPY_MODEL_0b8c5757177743789b911d8f45ed8995",
       "modisdate": "yesterday",
       "north": -6.751896464843375,
       "options": [
        "bounce_at_zoom_limits",
        "box_zoom",
        "center",
        "close_popup_on_click",
        "double_click_zoom",
        "dragging",
        "fullscreen",
        "inertia",
        "inertia_deceleration",
        "inertia_max_speed",
        "interpolation",
        "keyboard",
        "keyboard_pan_offset",
        "keyboard_zoom_offset",
        "max_zoom",
        "min_zoom",
        "scroll_wheel_zoom",
        "tap",
        "tap_tolerance",
        "touch_zoom",
        "world_copy_jump",
        "zoom",
        "zoom_animation_threshold",
        "zoom_start"
       ],
       "scroll_wheel_zoom": true,
       "south": -31.42866311735861,
       "style": "IPY_MODEL_e8a638633c074738bcfe040a56f08c76",
       "west": 108.06152343750001,
       "window_url": "https://app.sandbox.dea.ga.gov.au/user/robbibt/lab?#Analysis-parameters",
       "zoom": 5
      }
     },
     "81dc8039fe35415ca78ceb9fd8745f15": {
      "model_module": "@jupyter-widgets/controls",
      "model_module_version": "1.5.0",
      "model_name": "HTMLModel",
      "state": {
       "layout": "IPY_MODEL_3e11680080c648c2be883e2649e7f70e",
       "style": "IPY_MODEL_d70071125cbb4b5a8e3dda97deef6620",
       "value": "<pre style=\"color:grey\">lat: [90.0000, -90.0000]\nlon: [180.0000, -180.0000]</pre>"
      }
     },
     "8297b4359f934905ac87cdd8e5d48a8f": {
      "model_module": "jupyter-leaflet",
      "model_module_version": "^0.13.0",
      "model_name": "LeafletWidgetControlModel",
      "state": {
       "_model_module": "jupyter-leaflet",
       "_model_module_version": "^0.13.0",
       "_view_count": null,
       "_view_module": "jupyter-leaflet",
       "_view_module_version": "^0.13.0",
       "options": [
        "position"
       ],
       "position": "bottomleft",
       "widget": "IPY_MODEL_37f153442dcb4bd694471ad51560688c"
      }
     },
     "82dc8d3cc8504dc4b12b549e538de316": {
      "model_module": "jupyter-leaflet",
      "model_module_version": "^0.13.0",
      "model_name": "LeafletMapStyleModel",
      "state": {
       "_model_module_version": "^0.13.0",
       "cursor": "move"
      }
     },
     "82f7d17819f8424bb048c04e82f0458c": {
      "model_module": "@jupyter-widgets/controls",
      "model_module_version": "1.5.0",
      "model_name": "ButtonStyleModel",
      "state": {
       "button_color": "green"
      }
     },
     "83410c16a8d44b96aa35ba0682426d76": {
      "model_module": "jupyter-leaflet",
      "model_module_version": "^0.13.0",
      "model_name": "LeafletWMSLayerModel",
      "state": {
       "_model_module_version": "^0.13.0",
       "_view_module_version": "^0.13.0",
       "attribution": "Digital Earth Australia",
       "crs": {
        "custom": false,
        "name": "EPSG3857"
       },
       "format": "image/png",
       "layers": "ga_ls_ard_3",
       "max_native_zoom": 18,
       "min_native_zoom": 0,
       "options": [
        "attribution",
        "detect_retina",
        "format",
        "layers",
        "max_native_zoom",
        "max_zoom",
        "min_native_zoom",
        "min_zoom",
        "no_wrap",
        "styles",
        "tile_size",
        "time",
        "tms",
        "transparent",
        "uppercase"
       ],
       "time": "2018-04-01",
       "transparent": true,
       "url": "https://ows.dea.ga.gov.au/"
      }
     },
     "83d1d55e06654149add148b3738ddd5f": {
      "model_module": "@jupyter-widgets/controls",
      "model_module_version": "1.5.0",
      "model_name": "ButtonModel",
      "state": {
       "description": "done",
       "disabled": true,
       "layout": "IPY_MODEL_2f664e5929c841908782066c3dcef90f",
       "style": "IPY_MODEL_b36ed3a8873546fd941aba2d25582a0f"
      }
     },
     "845e42244c604909b8e6e785dc6ef128": {
      "model_module": "jupyter-leaflet",
      "model_module_version": "^0.13.0",
      "model_name": "LeafletWidgetControlModel",
      "state": {
       "_model_module": "jupyter-leaflet",
       "_model_module_version": "^0.13.0",
       "_view_count": null,
       "_view_module": "jupyter-leaflet",
       "_view_module_version": "^0.13.0",
       "options": [
        "position"
       ],
       "position": "bottomleft",
       "widget": "IPY_MODEL_db680f3e0d1f4dcfa64da2adf09430b9"
      }
     },
     "8472c2f3df464bdc84c38c3becf4104f": {
      "model_module": "jupyter-leaflet",
      "model_module_version": "^0.13.0",
      "model_name": "LeafletAttributionControlModel",
      "state": {
       "_model_module_version": "^0.13.0",
       "_view_module_version": "^0.13.0",
       "options": [
        "position",
        "prefix"
       ],
       "position": "bottomright",
       "prefix": "Leaflet"
      }
     },
     "8477acadbbe545d3bcabf51e152d55b2": {
      "model_module": "jupyter-leaflet",
      "model_module_version": "^0.13.0",
      "model_name": "LeafletMapStyleModel",
      "state": {
       "_model_module_version": "^0.13.0",
       "cursor": "move"
      }
     },
     "85123e8ad5354b86844b8bf79ded4f1b": {
      "model_module": "jupyter-leaflet",
      "model_module_version": "^0.13.0",
      "model_name": "LeafletFullScreenControlModel",
      "state": {
       "_model_module_version": "^0.13.0",
       "_view_module_version": "^0.13.0",
       "options": [
        "position"
       ]
      }
     },
     "86cb574e4b674dd6bb087f4ed271f526": {
      "model_module": "jupyter-leaflet",
      "model_module_version": "^0.13.0",
      "model_name": "LeafletMapStyleModel",
      "state": {
       "_model_module_version": "^0.13.0",
       "cursor": "move"
      }
     },
     "873ee949bb0f48cd830237112af4ef9a": {
      "model_module": "jupyter-leaflet",
      "model_module_version": "^0.13.0",
      "model_name": "LeafletTileLayerModel",
      "state": {
       "_model_module_version": "^0.13.0",
       "_view_module_version": "^0.13.0",
       "max_native_zoom": 18,
       "max_zoom": 19,
       "min_native_zoom": 0,
       "min_zoom": 1,
       "name": "OpenStreetMap.Mapnik",
       "options": [
        "attribution",
        "detect_retina",
        "max_native_zoom",
        "max_zoom",
        "min_native_zoom",
        "min_zoom",
        "no_wrap",
        "tile_size",
        "tms"
       ]
      }
     },
     "89084a30d3ab418586c3f49eadbe0f29": {
      "model_module": "@jupyter-widgets/controls",
      "model_module_version": "1.5.0",
      "model_name": "DescriptionStyleModel",
      "state": {
       "description_width": ""
      }
     },
     "89934baf796d44f8b9b827c5f7b9da1d": {
      "model_module": "@jupyter-widgets/base",
      "model_module_version": "1.2.0",
      "model_name": "LayoutModel",
      "state": {
       "height": "600px"
      }
     },
     "89bfe993e1a346738096ba4661e59c55": {
      "model_module": "jupyter-leaflet",
      "model_module_version": "^0.13.0",
      "model_name": "LeafletAttributionControlModel",
      "state": {
       "_model_module_version": "^0.13.0",
       "_view_module_version": "^0.13.0",
       "options": [
        "position",
        "prefix"
       ],
       "position": "bottomright",
       "prefix": "Leaflet"
      }
     },
     "8add83cb8cc0433fb68f681620948847": {
      "model_module": "@jupyter-widgets/controls",
      "model_module_version": "1.5.0",
      "model_name": "DescriptionStyleModel",
      "state": {
       "description_width": ""
      }
     },
     "8ae2ab2a7ac2423f8bbaef7fef2815ee": {
      "model_module": "jupyter-leaflet",
      "model_module_version": "^0.13.0",
      "model_name": "LeafletWidgetControlModel",
      "state": {
       "_model_module": "jupyter-leaflet",
       "_model_module_version": "^0.13.0",
       "_view_count": null,
       "_view_module": "jupyter-leaflet",
       "_view_module_version": "^0.13.0",
       "options": [
        "position"
       ],
       "position": "bottomleft",
       "widget": "IPY_MODEL_30c0e261dfce46d3ac5a8377c7883b9b"
      }
     },
     "8c1a0154824841e8b41f27dcdedfabf1": {
      "model_module": "jupyter-leaflet",
      "model_module_version": "^0.13.0",
      "model_name": "LeafletMapStyleModel",
      "state": {
       "_model_module_version": "^0.13.0",
       "cursor": "move"
      }
     },
     "8c1c487089d94d60a397db9b1b8230d5": {
      "model_module": "@jupyter-widgets/controls",
      "model_module_version": "1.5.0",
      "model_name": "HTMLModel",
      "state": {
       "layout": "IPY_MODEL_1801bf05e05f4c50b7c12a67f2852fa4",
       "style": "IPY_MODEL_9cfdf1a657a64f0ca03e5cb1143f1d72",
       "value": "<pre style=\"color:grey\">lat: [-46.3166, 0.3516]\nlon: [109.7754, 158.5547]</pre>"
      }
     },
     "8d097d2e32ed4da58544d714e3dc8d57": {
      "model_module": "jupyter-leaflet",
      "model_module_version": "^0.13.0",
      "model_name": "LeafletWMSLayerModel",
      "state": {
       "_model_module_version": "^0.13.0",
       "_view_module_version": "^0.13.0",
       "attribution": "Digital Earth Australia",
       "crs": {
        "custom": false,
        "name": "EPSG3857"
       },
       "format": "image/png",
       "layers": "ga_ls_ard_3",
       "max_native_zoom": 18,
       "min_native_zoom": 0,
       "options": [
        "attribution",
        "detect_retina",
        "format",
        "layers",
        "max_native_zoom",
        "max_zoom",
        "min_native_zoom",
        "min_zoom",
        "no_wrap",
        "styles",
        "tile_size",
        "time",
        "tms",
        "transparent",
        "uppercase"
       ],
       "time": "2018-04-01",
       "transparent": true,
       "url": "https://ows.dea.ga.gov.au/"
      }
     },
     "8d09fb6faf5d4817ac760975ff4fdc28": {
      "model_module": "@jupyter-widgets/controls",
      "model_module_version": "1.5.0",
      "model_name": "ButtonModel",
      "state": {
       "description": "done",
       "disabled": true,
       "layout": "IPY_MODEL_ed013b5243ac4710acf81fa1990c91cb",
       "style": "IPY_MODEL_c3af6b521b164df98bb7a95add41f873"
      }
     },
     "8de492b0c7d149d38f5d5d7e7a219cc7": {
      "model_module": "@jupyter-widgets/controls",
      "model_module_version": "1.5.0",
      "model_name": "DescriptionStyleModel",
      "state": {
       "description_width": ""
      }
     },
     "8ef3b17bccaf4033871c6ad4f0c230a7": {
      "model_module": "jupyter-leaflet",
      "model_module_version": "^0.13.0",
      "model_name": "LeafletMapStyleModel",
      "state": {
       "_model_module_version": "^0.13.0",
       "cursor": "move"
      }
     },
     "8ef66515e0314bb2a145edccf8fa4610": {
      "model_module": "jupyter-leaflet",
      "model_module_version": "^0.13.0",
      "model_name": "LeafletMapModel",
      "state": {
       "_model_module_version": "^0.13.0",
       "_view_module_version": "^0.13.0",
       "center": [
        -13.678013256725476,
        129.84741210937503
       ],
       "controls": [
        "IPY_MODEL_28e93ac5d71c482dafe786bca01056c2",
        "IPY_MODEL_48e9df91c3da4e8cbe57e9fc87fd1516",
        "IPY_MODEL_29dfc1fa6641427790d8e4e259e2d4d5"
       ],
       "default_style": "IPY_MODEL_c56e0a229ca546308bacb5af3381900e",
       "dragging_style": "IPY_MODEL_c2498ec899934f819432dc4079c6615c",
       "east": -180,
       "fullscreen": false,
       "interpolation": "bilinear",
       "layers": [
        "IPY_MODEL_d77cf8fce86640ddae3de6e7c02ad2da",
        "IPY_MODEL_704f77fae247490c83047391ae1628b8"
       ],
       "layout": "IPY_MODEL_1214c0339ff2478786df97293800a4fa",
       "modisdate": "yesterday",
       "north": -90,
       "options": [
        "bounce_at_zoom_limits",
        "box_zoom",
        "center",
        "close_popup_on_click",
        "double_click_zoom",
        "dragging",
        "fullscreen",
        "inertia",
        "inertia_deceleration",
        "inertia_max_speed",
        "interpolation",
        "keyboard",
        "keyboard_pan_offset",
        "keyboard_zoom_offset",
        "max_zoom",
        "min_zoom",
        "scroll_wheel_zoom",
        "tap",
        "tap_tolerance",
        "touch_zoom",
        "world_copy_jump",
        "zoom",
        "zoom_animation_threshold",
        "zoom_start"
       ],
       "scroll_wheel_zoom": true,
       "south": 90,
       "style": "IPY_MODEL_c56e0a229ca546308bacb5af3381900e",
       "west": 180,
       "window_url": "https://app.sandbox.dea.ga.gov.au/user/robbibt/lab?#Analysis-parameters",
       "zoom": 9
      }
     },
     "8fcf91ccf9f2408ebf76d2ce5ae67969": {
      "model_module": "@jupyter-widgets/controls",
      "model_module_version": "1.5.0",
      "model_name": "ButtonStyleModel",
      "state": {
       "button_color": "green"
      }
     },
     "906c1769210c42ef92413f736562cfe4": {
      "model_module": "jupyter-leaflet",
      "model_module_version": "^0.13.0",
      "model_name": "LeafletWMSLayerModel",
      "state": {
       "_model_module_version": "^0.13.0",
       "_view_module_version": "^0.13.0",
       "attribution": "Digital Earth Australia",
       "crs": {
        "custom": false,
        "name": "EPSG3857"
       },
       "format": "image/png",
       "layers": "ga_ls_ard_3",
       "max_native_zoom": 18,
       "min_native_zoom": 0,
       "options": [
        "attribution",
        "detect_retina",
        "format",
        "layers",
        "max_native_zoom",
        "max_zoom",
        "min_native_zoom",
        "min_zoom",
        "no_wrap",
        "styles",
        "tile_size",
        "time",
        "tms",
        "transparent",
        "uppercase"
       ],
       "time": "2019-11-15",
       "transparent": true,
       "url": "https://ows.dea.ga.gov.au/"
      }
     },
     "907183bb3da04c36b91bc24d84df9f30": {
      "model_module": "@jupyter-widgets/controls",
      "model_module_version": "1.5.0",
      "model_name": "HTMLModel",
      "state": {
       "layout": "IPY_MODEL_be7f91ad6b0841de8cc11e7107be460e",
       "style": "IPY_MODEL_62706f737fa64844b69ce18a3c171f50",
       "value": "<pre style=\"color:grey\">lat: [-33.7974, -9.5357]\nlon: [113.8623, 138.2520]</pre>"
      }
     },
     "913d04d286334b7fb1bb0e344ad13ccd": {
      "model_module": "jupyter-leaflet",
      "model_module_version": "^0.13.0",
      "model_name": "LeafletZoomControlModel",
      "state": {
       "_model_module_version": "^0.13.0",
       "_view_module_version": "^0.13.0",
       "options": [
        "position",
        "zoom_in_text",
        "zoom_in_title",
        "zoom_out_text",
        "zoom_out_title"
       ]
      }
     },
     "926e33c009e649fdab49d26f19ade82c": {
      "model_module": "jupyter-leaflet",
      "model_module_version": "^0.13.0",
      "model_name": "LeafletAttributionControlModel",
      "state": {
       "_model_module_version": "^0.13.0",
       "_view_module_version": "^0.13.0",
       "options": [
        "position",
        "prefix"
       ],
       "position": "bottomright",
       "prefix": "Leaflet"
      }
     },
     "947340d46ba44090847650425bf996c5": {
      "model_module": "jupyter-leaflet",
      "model_module_version": "^0.13.0",
      "model_name": "LeafletMapStyleModel",
      "state": {
       "_model_module_version": "^0.13.0"
      }
     },
     "95ac93897f29496fa70d6949e9e1fe56": {
      "model_module": "@jupyter-widgets/base",
      "model_module_version": "1.2.0",
      "model_name": "LayoutModel",
      "state": {
       "flex": "1 0 20em",
       "height": "3em",
       "width": "20em"
      }
     },
     "95bbbb99628344e5b41281900e9f2b62": {
      "model_module": "jupyter-leaflet",
      "model_module_version": "^0.13.0",
      "model_name": "LeafletMapStyleModel",
      "state": {
       "_model_module_version": "^0.13.0"
      }
     },
     "95e4de32a57246419610e88ca4b5d407": {
      "model_module": "jupyter-leaflet",
      "model_module_version": "^0.13.0",
      "model_name": "LeafletZoomControlModel",
      "state": {
       "_model_module_version": "^0.13.0",
       "_view_module_version": "^0.13.0",
       "options": [
        "position",
        "zoom_in_text",
        "zoom_in_title",
        "zoom_out_text",
        "zoom_out_title"
       ]
      }
     },
     "95fecab0a7e1496c9636da28d121d48d": {
      "model_module": "jupyter-leaflet",
      "model_module_version": "^0.13.0",
      "model_name": "LeafletFullScreenControlModel",
      "state": {
       "_model_module_version": "^0.13.0",
       "_view_module_version": "^0.13.0",
       "options": [
        "position"
       ]
      }
     },
     "967029afa74149c3abad4df5cde6e1f3": {
      "model_module": "@jupyter-widgets/base",
      "model_module_version": "1.2.0",
      "model_name": "LayoutModel",
      "state": {
       "flex": "1 0 20em",
       "height": "3em",
       "width": "20em"
      }
     },
     "970bf149fc834673923a44dcd7ef86ff": {
      "model_module": "@jupyter-widgets/base",
      "model_module_version": "1.2.0",
      "model_name": "LayoutModel",
      "state": {
       "flex": "1 0 20em",
       "height": "3em",
       "width": "20em"
      }
     },
     "970bfb4ad8ac4451b7bf353961d3d832": {
      "model_module": "jupyter-leaflet",
      "model_module_version": "^0.13.0",
      "model_name": "LeafletMapStyleModel",
      "state": {
       "_model_module_version": "^0.13.0",
       "cursor": "move"
      }
     },
     "972d99a280854180a580931a8b32b2ba": {
      "model_module": "jupyter-leaflet",
      "model_module_version": "^0.13.0",
      "model_name": "LeafletTileLayerModel",
      "state": {
       "_model_module_version": "^0.13.0",
       "_view_module_version": "^0.13.0",
       "max_native_zoom": 18,
       "max_zoom": 19,
       "min_native_zoom": 0,
       "min_zoom": 1,
       "name": "OpenStreetMap.Mapnik",
       "options": [
        "attribution",
        "detect_retina",
        "max_native_zoom",
        "max_zoom",
        "min_native_zoom",
        "min_zoom",
        "no_wrap",
        "tile_size",
        "tms"
       ]
      }
     },
     "9769c58c01614da9961f9243cfddb1be": {
      "model_module": "@jupyter-widgets/base",
      "model_module_version": "1.2.0",
      "model_name": "LayoutModel",
      "state": {
       "width": "5em"
      }
     },
     "98260cc2987a4b8d8c36c1edf8d42193": {
      "model_module": "jupyter-leaflet",
      "model_module_version": "^0.13.0",
      "model_name": "LeafletMapModel",
      "state": {
       "_model_module_version": "^0.13.0",
       "_view_module_version": "^0.13.0",
       "center": [
        -25.18,
        134.18
       ],
       "controls": [
        "IPY_MODEL_a08297ee4108438badc25a3b3efbbeb5",
        "IPY_MODEL_2fce1aecb532449abe0f988b41fe8ff6",
        "IPY_MODEL_44c1588c2685498ba6ea4378680d81f8",
        "IPY_MODEL_0698327805dd45a99758dcda0dbc7a10",
        "IPY_MODEL_f28d22251b904743a1c0adb2c1ec6c3c",
        "IPY_MODEL_7f6a03a90d424e7cad3b13e7b1c95722"
       ],
       "default_style": "IPY_MODEL_3ba95e6afb5b44cb9ea4b3abb635c721",
       "dragging_style": "IPY_MODEL_032199c31f0546fab696f06e21edecba",
       "east": 158.55468750000003,
       "fullscreen": false,
       "interpolation": "bilinear",
       "layers": [
        "IPY_MODEL_410866af4129427ba71beca847f10f63",
        "IPY_MODEL_805e498dc86644eaa5a7386c0e0394d0"
       ],
       "layout": "IPY_MODEL_be8ac2637b8a40c79e2d5eab1d73ee76",
       "modisdate": "yesterday",
       "north": 0.3515602939922709,
       "options": [
        "bounce_at_zoom_limits",
        "box_zoom",
        "center",
        "close_popup_on_click",
        "double_click_zoom",
        "dragging",
        "fullscreen",
        "inertia",
        "inertia_deceleration",
        "inertia_max_speed",
        "interpolation",
        "keyboard",
        "keyboard_pan_offset",
        "keyboard_zoom_offset",
        "max_zoom",
        "min_zoom",
        "scroll_wheel_zoom",
        "tap",
        "tap_tolerance",
        "touch_zoom",
        "world_copy_jump",
        "zoom",
        "zoom_animation_threshold",
        "zoom_start"
       ],
       "scroll_wheel_zoom": true,
       "south": -46.31658418182218,
       "style": "IPY_MODEL_071165a2b5574bd5969f331dd768a3bf",
       "west": 109.77539062500001,
       "window_url": "https://app.sandbox.dea.ga.gov.au/user/robbibt/lab?#Analysis-parameters",
       "zoom": 4
      }
     },
     "9a5ba60255e3413fac07137d7178189f": {
      "model_module": "jupyter-leaflet",
      "model_module_version": "^0.13.0",
      "model_name": "LeafletWidgetControlModel",
      "state": {
       "_model_module": "jupyter-leaflet",
       "_model_module_version": "^0.13.0",
       "_view_count": null,
       "_view_module": "jupyter-leaflet",
       "_view_module_version": "^0.13.0",
       "options": [
        "position"
       ],
       "position": "bottomleft",
       "widget": "IPY_MODEL_2c2185951fc34f30acecc01749e775a8"
      }
     },
     "9aa9e7dc7498423884c626e36eab4993": {
      "model_module": "jupyter-leaflet",
      "model_module_version": "^0.13.0",
      "model_name": "LeafletAttributionControlModel",
      "state": {
       "_model_module_version": "^0.13.0",
       "_view_module_version": "^0.13.0",
       "options": [
        "position",
        "prefix"
       ],
       "position": "bottomright",
       "prefix": "Leaflet"
      }
     },
     "9adf6b340c1d45d0a041b17199e48bee": {
      "model_module": "@jupyter-widgets/base",
      "model_module_version": "1.2.0",
      "model_name": "LayoutModel",
      "state": {
       "flex": "1 0 20em",
       "height": "3em",
       "width": "20em"
      }
     },
     "9ae84acd20c44191bd76232fb1dd67f2": {
      "model_module": "@jupyter-widgets/base",
      "model_module_version": "1.2.0",
      "model_name": "LayoutModel",
      "state": {
       "flex": "1 0 20em",
       "height": "3em",
       "width": "20em"
      }
     },
     "9c5d62c65b1145e6921a49586d47ea29": {
      "model_module": "jupyter-leaflet",
      "model_module_version": "^0.13.0",
      "model_name": "LeafletZoomControlModel",
      "state": {
       "_model_module_version": "^0.13.0",
       "_view_module_version": "^0.13.0",
       "options": [
        "position",
        "zoom_in_text",
        "zoom_in_title",
        "zoom_out_text",
        "zoom_out_title"
       ]
      }
     },
     "9c8d26f04ff647a18bc640683c33af59": {
      "model_module": "jupyter-leaflet",
      "model_module_version": "^0.13.0",
      "model_name": "LeafletTileLayerModel",
      "state": {
       "_model_module_version": "^0.13.0",
       "_view_module_version": "^0.13.0",
       "max_native_zoom": 18,
       "max_zoom": 19,
       "min_native_zoom": 0,
       "min_zoom": 1,
       "name": "OpenStreetMap.Mapnik",
       "options": [
        "attribution",
        "detect_retina",
        "max_native_zoom",
        "max_zoom",
        "min_native_zoom",
        "min_zoom",
        "no_wrap",
        "tile_size",
        "tms"
       ]
      }
     },
     "9cec6c3aac4740c5a4b9c2dd056dcac5": {
      "model_module": "jupyter-leaflet",
      "model_module_version": "^0.13.0",
      "model_name": "LeafletWidgetControlModel",
      "state": {
       "_model_module": "jupyter-leaflet",
       "_model_module_version": "^0.13.0",
       "_view_count": null,
       "_view_module": "jupyter-leaflet",
       "_view_module_version": "^0.13.0",
       "options": [
        "position"
       ],
       "position": "bottomleft",
       "widget": "IPY_MODEL_aaab0a39d0a64a019410414a3af87b62"
      }
     },
     "9cfdf1a657a64f0ca03e5cb1143f1d72": {
      "model_module": "@jupyter-widgets/controls",
      "model_module_version": "1.5.0",
      "model_name": "DescriptionStyleModel",
      "state": {
       "description_width": ""
      }
     },
     "9ddf127ebe134095bc908f2d94203b7d": {
      "model_module": "jupyter-leaflet",
      "model_module_version": "^0.13.0",
      "model_name": "LeafletWidgetControlModel",
      "state": {
       "_model_module": "jupyter-leaflet",
       "_model_module_version": "^0.13.0",
       "_view_count": null,
       "_view_module": "jupyter-leaflet",
       "_view_module_version": "^0.13.0",
       "options": [
        "position"
       ],
       "position": "topright",
       "widget": "IPY_MODEL_7a38243fe97c4b55873209c425fa195a"
      }
     },
     "9e27d9f67cad49d99686ea08f61f8be3": {
      "model_module": "@jupyter-widgets/base",
      "model_module_version": "1.2.0",
      "model_name": "LayoutModel",
      "state": {
       "height": "600px"
      }
     },
     "9f382a2484a34b3086e148a78525b509": {
      "model_module": "@jupyter-widgets/controls",
      "model_module_version": "1.5.0",
      "model_name": "DescriptionStyleModel",
      "state": {
       "description_width": ""
      }
     },
     "a08297ee4108438badc25a3b3efbbeb5": {
      "model_module": "jupyter-leaflet",
      "model_module_version": "^0.13.0",
      "model_name": "LeafletZoomControlModel",
      "state": {
       "_model_module_version": "^0.13.0",
       "_view_module_version": "^0.13.0",
       "options": [
        "position",
        "zoom_in_text",
        "zoom_in_title",
        "zoom_out_text",
        "zoom_out_title"
       ]
      }
     },
     "a0dbd3dbfa8a423895c811236d4e747a": {
      "model_module": "jupyter-leaflet",
      "model_module_version": "^0.13.0",
      "model_name": "LeafletMapStyleModel",
      "state": {
       "_model_module_version": "^0.13.0"
      }
     },
     "a172cd2cb4b94e80a0618217052dab21": {
      "model_module": "jupyter-leaflet",
      "model_module_version": "^0.13.0",
      "model_name": "LeafletWidgetControlModel",
      "state": {
       "_model_module": "jupyter-leaflet",
       "_model_module_version": "^0.13.0",
       "_view_count": null,
       "_view_module": "jupyter-leaflet",
       "_view_module_version": "^0.13.0",
       "options": [
        "position"
       ],
       "position": "bottomleft",
       "widget": "IPY_MODEL_907183bb3da04c36b91bc24d84df9f30"
      }
     },
     "a1b02344566a40c2b84ae4fa301f5615": {
      "model_module": "@jupyter-widgets/base",
      "model_module_version": "1.2.0",
      "model_name": "LayoutModel",
      "state": {
       "width": "5em"
      }
     },
     "a1b2c4a76f3347a39b9e48cc2b88fd24": {
      "model_module": "jupyter-leaflet",
      "model_module_version": "^0.13.0",
      "model_name": "LeafletMapStyleModel",
      "state": {
       "_model_module_version": "^0.13.0"
      }
     },
     "a22494c01b774d2ca2ae0e21d8764dc2": {
      "model_module": "jupyter-leaflet",
      "model_module_version": "^0.13.0",
      "model_name": "LeafletMapModel",
      "state": {
       "_model_module_version": "^0.13.0",
       "_view_module_version": "^0.13.0",
       "center": [
        -21.207458730482642,
        115.67779541015626
       ],
       "controls": [
        "IPY_MODEL_051ec1c286fa41ed9e0236211837eb88",
        "IPY_MODEL_bad39287393d41f5bedb29e9c097e16a",
        "IPY_MODEL_1155cb242f1b4595ace1bf851b46b87a"
       ],
       "default_style": "IPY_MODEL_50a3ab208df1467d84beeb0dcc3ddec9",
       "dragging_style": "IPY_MODEL_86cb574e4b674dd6bb087f4ed271f526",
       "east": 117.235107421875,
       "fullscreen": false,
       "interpolation": "bilinear",
       "layers": [
        "IPY_MODEL_759644bf2af44d80a030bbb01a993fa3",
        "IPY_MODEL_1f4936251ceb41198de6b00e66498c88"
       ],
       "layout": "IPY_MODEL_276c6981cb0c4dccb33a3bd4cd2d5d4e",
       "modisdate": "yesterday",
       "north": -19.663280219987648,
       "options": [
        "bounce_at_zoom_limits",
        "box_zoom",
        "center",
        "close_popup_on_click",
        "double_click_zoom",
        "dragging",
        "fullscreen",
        "inertia",
        "inertia_deceleration",
        "inertia_max_speed",
        "interpolation",
        "keyboard",
        "keyboard_pan_offset",
        "keyboard_zoom_offset",
        "max_zoom",
        "min_zoom",
        "scroll_wheel_zoom",
        "tap",
        "tap_tolerance",
        "touch_zoom",
        "world_copy_jump",
        "zoom",
        "zoom_animation_threshold",
        "zoom_start"
       ],
       "scroll_wheel_zoom": true,
       "south": -22.735656852206496,
       "style": "IPY_MODEL_50a3ab208df1467d84beeb0dcc3ddec9",
       "west": 114.12048339843751,
       "window_url": "https://app.sandbox.dea.ga.gov.au/user/robbibt/lab?#Analysis-parameters",
       "zoom": 8
      }
     },
     "a280708ba11c4af0b3c2f300fe8641d7": {
      "model_module": "@jupyter-widgets/base",
      "model_module_version": "1.2.0",
      "model_name": "LayoutModel",
      "state": {
       "height": "600px"
      }
     },
     "a2a24c1f9bb44e64b7a1377e4112fba8": {
      "model_module": "jupyter-leaflet",
      "model_module_version": "^0.13.0",
      "model_name": "LeafletTileLayerModel",
      "state": {
       "_model_module_version": "^0.13.0",
       "_view_module_version": "^0.13.0",
       "max_native_zoom": 18,
       "max_zoom": 19,
       "min_native_zoom": 0,
       "min_zoom": 1,
       "name": "OpenStreetMap.Mapnik",
       "options": [
        "attribution",
        "detect_retina",
        "max_native_zoom",
        "max_zoom",
        "min_native_zoom",
        "min_zoom",
        "no_wrap",
        "tile_size",
        "tms"
       ]
      }
     },
     "a2bf70914d894b4a90dd0767d43e072d": {
      "model_module": "jupyter-leaflet",
      "model_module_version": "^0.13.0",
      "model_name": "LeafletAttributionControlModel",
      "state": {
       "_model_module_version": "^0.13.0",
       "_view_module_version": "^0.13.0",
       "options": [
        "position",
        "prefix"
       ],
       "position": "bottomright",
       "prefix": "Leaflet"
      }
     },
     "a2ea1fdc0f5141b684a1c7318a6a9716": {
      "model_module": "jupyter-leaflet",
      "model_module_version": "^0.13.0",
      "model_name": "LeafletDrawControlModel",
      "state": {
       "_model_module_version": "^0.13.0",
       "_view_module_version": "^0.13.0",
       "options": [
        "position"
       ],
       "polygon": {
        "shapeOptions": {
         "color": "#000000",
         "editing": {
          "color": "#000000",
          "fillColor": "#fca45d",
          "fillOpacity": 0.1
         },
         "fillColor": "#fca45d",
         "fillOpacity": 0.1,
         "original": {
          "color": "#000000",
          "fillColor": "#fca45d",
          "fillOpacity": 0.1
         }
        }
       },
       "polyline": {},
       "rectangle": {
        "metric": [
         "km",
         "m"
        ],
        "shapeOptions": {
         "color": "#000000",
         "fillColor": "#fca45d",
         "fillOpacity": 0.1
        }
       }
      }
     },
     "a429e79f5aaa4975aedc3405be27dc89": {
      "model_module": "@jupyter-widgets/base",
      "model_module_version": "1.2.0",
      "model_name": "LayoutModel",
      "state": {
       "height": "600px"
      }
     },
     "a492c95ee0af42f894ded712ffe5a2e8": {
      "model_module": "@jupyter-widgets/base",
      "model_module_version": "1.2.0",
      "model_name": "LayoutModel",
      "state": {
       "height": "600px"
      }
     },
     "a54e4e37f4ed4d82a439d3acb62bfbda": {
      "model_module": "jupyter-leaflet",
      "model_module_version": "^0.13.0",
      "model_name": "LeafletMapStyleModel",
      "state": {
       "_model_module_version": "^0.13.0",
       "cursor": "move"
      }
     },
     "a574eaa661624fdda3fee5e9f607f9df": {
      "model_module": "jupyter-leaflet",
      "model_module_version": "^0.13.0",
      "model_name": "LeafletMapStyleModel",
      "state": {
       "_model_module_version": "^0.13.0"
      }
     },
     "a57bc510be77455981e66e9fefd75585": {
      "model_module": "@jupyter-widgets/controls",
      "model_module_version": "1.5.0",
      "model_name": "DescriptionStyleModel",
      "state": {
       "description_width": ""
      }
     },
     "a635ea3d801746e1bef46005cdffef5f": {
      "model_module": "jupyter-leaflet",
      "model_module_version": "^0.13.0",
      "model_name": "LeafletMapModel",
      "state": {
       "_model_module_version": "^0.13.0",
       "_view_module_version": "^0.13.0",
       "center": [
        -12.665462192089418,
        130.57868957519534
       ],
       "controls": [
        "IPY_MODEL_401639224b4b4cc4a8e03e5931e51dab",
        "IPY_MODEL_a2bf70914d894b4a90dd0767d43e072d",
        "IPY_MODEL_c82c0d4a38b7484d828ce67c048f1349"
       ],
       "default_style": "IPY_MODEL_c624d3f37ac24a2f8923c035e8fe2b79",
       "dragging_style": "IPY_MODEL_2bda69107751472eaa29c55d00ae233d",
       "east": -180,
       "fullscreen": false,
       "interpolation": "bilinear",
       "layers": [
        "IPY_MODEL_972d99a280854180a580931a8b32b2ba",
        "IPY_MODEL_70855f2f1281468fa83da8cffb96db07"
       ],
       "layout": "IPY_MODEL_a8da4d2c0fd247a9954ea6cc663bdfd6",
       "modisdate": "yesterday",
       "north": -90,
       "options": [
        "bounce_at_zoom_limits",
        "box_zoom",
        "center",
        "close_popup_on_click",
        "double_click_zoom",
        "dragging",
        "fullscreen",
        "inertia",
        "inertia_deceleration",
        "inertia_max_speed",
        "interpolation",
        "keyboard",
        "keyboard_pan_offset",
        "keyboard_zoom_offset",
        "max_zoom",
        "min_zoom",
        "scroll_wheel_zoom",
        "tap",
        "tap_tolerance",
        "touch_zoom",
        "world_copy_jump",
        "zoom",
        "zoom_animation_threshold",
        "zoom_start"
       ],
       "scroll_wheel_zoom": true,
       "south": 90,
       "style": "IPY_MODEL_c624d3f37ac24a2f8923c035e8fe2b79",
       "west": 180,
       "window_url": "https://app.sandbox.dea.ga.gov.au/user/robbibt/lab?#Analysis-parameters"
      }
     },
     "a6715b7ae693497fb8d040caa2fbda4f": {
      "model_module": "jupyter-leaflet",
      "model_module_version": "^0.13.0",
      "model_name": "LeafletWMSLayerModel",
      "state": {
       "_model_module_version": "^0.13.0",
       "_view_module_version": "^0.13.0",
       "attribution": "Digital Earth Australia",
       "crs": {
        "custom": false,
        "name": "EPSG3857"
       },
       "format": "image/png",
       "layers": "s2_ard_granule_nbar_t",
       "max_native_zoom": 18,
       "min_native_zoom": 0,
       "options": [
        "attribution",
        "detect_retina",
        "format",
        "layers",
        "max_native_zoom",
        "max_zoom",
        "min_native_zoom",
        "min_zoom",
        "no_wrap",
        "styles",
        "tile_size",
        "time",
        "tms",
        "transparent",
        "uppercase"
       ],
       "time": "2020-01-30",
       "transparent": true,
       "url": "https://ows.dea.ga.gov.au/"
      }
     },
     "a674981c8b7041df9d2d94701545e63e": {
      "model_module": "@jupyter-widgets/controls",
      "model_module_version": "1.5.0",
      "model_name": "DescriptionStyleModel",
      "state": {
       "description_width": ""
      }
     },
     "a7393cea50774a67a6f888cb746c3c7e": {
      "model_module": "jupyter-leaflet",
      "model_module_version": "^0.13.0",
      "model_name": "LeafletAttributionControlModel",
      "state": {
       "_model_module_version": "^0.13.0",
       "_view_module_version": "^0.13.0",
       "options": [
        "position",
        "prefix"
       ],
       "position": "bottomright",
       "prefix": "Leaflet"
      }
     },
     "a823be72e3e7469693c15b421b96d35a": {
      "model_module": "@jupyter-widgets/base",
      "model_module_version": "1.2.0",
      "model_name": "LayoutModel",
      "state": {
       "height": "600px"
      }
     },
     "a84f76505a4d4488a8c3a7f9ec8ded2a": {
      "model_module": "jupyter-leaflet",
      "model_module_version": "^0.13.0",
      "model_name": "LeafletTileLayerModel",
      "state": {
       "_model_module_version": "^0.13.0",
       "_view_module_version": "^0.13.0",
       "max_native_zoom": 18,
       "max_zoom": 19,
       "min_native_zoom": 0,
       "min_zoom": 1,
       "name": "OpenStreetMap.Mapnik",
       "options": [
        "attribution",
        "detect_retina",
        "max_native_zoom",
        "max_zoom",
        "min_native_zoom",
        "min_zoom",
        "no_wrap",
        "tile_size",
        "tms"
       ]
      }
     },
     "a86a567a1f604405944bac632ed17e9f": {
      "model_module": "jupyter-leaflet",
      "model_module_version": "^0.13.0",
      "model_name": "LeafletWidgetControlModel",
      "state": {
       "_model_module": "jupyter-leaflet",
       "_model_module_version": "^0.13.0",
       "_view_count": null,
       "_view_module": "jupyter-leaflet",
       "_view_module_version": "^0.13.0",
       "options": [
        "position"
       ],
       "position": "bottomleft",
       "widget": "IPY_MODEL_e2406f8c5d5041e59f9bc1d76d91c4db"
      }
     },
     "a8da4d2c0fd247a9954ea6cc663bdfd6": {
      "model_module": "@jupyter-widgets/base",
      "model_module_version": "1.2.0",
      "model_name": "LayoutModel",
      "state": {
       "height": "600px"
      }
     },
     "aa76424cf3c04a44a9228375f1c2d624": {
      "model_module": "jupyter-leaflet",
      "model_module_version": "^0.13.0",
      "model_name": "LeafletTileLayerModel",
      "state": {
       "_model_module_version": "^0.13.0",
       "_view_module_version": "^0.13.0",
       "max_native_zoom": 18,
       "max_zoom": 19,
       "min_native_zoom": 0,
       "min_zoom": 1,
       "name": "OpenStreetMap.Mapnik",
       "options": [
        "attribution",
        "detect_retina",
        "max_native_zoom",
        "max_zoom",
        "min_native_zoom",
        "min_zoom",
        "no_wrap",
        "tile_size",
        "tms"
       ]
      }
     },
     "aaab0a39d0a64a019410414a3af87b62": {
      "model_module": "@jupyter-widgets/controls",
      "model_module_version": "1.5.0",
      "model_name": "HTMLModel",
      "state": {
       "layout": "IPY_MODEL_5a3f4ab7170f46feb44ffcaaf9f212c0",
       "style": "IPY_MODEL_d4d9b046dbff47fbbaa59b7deed6e78b",
       "value": "<pre style=\"color:grey\">lat: [-15.5701, -14.7749]\nlon: [124.8308, 125.5930]</pre>"
      }
     },
     "aaf0fa470d4d4b899eb23055896dab61": {
      "model_module": "jupyter-leaflet",
      "model_module_version": "^0.13.0",
      "model_name": "LeafletMapStyleModel",
      "state": {
       "_model_module_version": "^0.13.0",
       "cursor": "move"
      }
     },
     "ab368af998684c5e86eec785daf7318a": {
      "model_module": "@jupyter-widgets/controls",
      "model_module_version": "1.5.0",
      "model_name": "ButtonModel",
      "state": {
       "description": "done",
       "disabled": true,
       "layout": "IPY_MODEL_9769c58c01614da9961f9243cfddb1be",
       "style": "IPY_MODEL_b97d2aec8ed341daa6ebcb93096bcf85"
      }
     },
     "ac7a914102e3455388c1260ac0b162ef": {
      "model_module": "@jupyter-widgets/controls",
      "model_module_version": "1.5.0",
      "model_name": "ButtonStyleModel",
      "state": {
       "button_color": "green"
      }
     },
     "ad40e3e7be684364b3f0c631f32781cd": {
      "model_module": "jupyter-leaflet",
      "model_module_version": "^0.13.0",
      "model_name": "LeafletDrawControlModel",
      "state": {
       "_model_module_version": "^0.13.0",
       "_view_module_version": "^0.13.0",
       "options": [
        "position"
       ],
       "polygon": {
        "shapeOptions": {
         "color": "#000000",
         "editing": {
          "color": "#000000",
          "fillColor": "#fca45d",
          "fillOpacity": 0.1
         },
         "fillColor": "#fca45d",
         "fillOpacity": 0.1,
         "original": {
          "color": "#000000",
          "fillColor": "#fca45d",
          "fillOpacity": 0.1
         }
        }
       },
       "polyline": {},
       "rectangle": {
        "metric": [
         "km",
         "m"
        ],
        "shapeOptions": {
         "color": "#000000",
         "fillColor": "#fca45d",
         "fillOpacity": 0.1
        }
       }
      }
     },
     "ad6c21195f4747cf9dca37aa56ab0fce": {
      "model_module": "jupyter-leaflet",
      "model_module_version": "^0.13.0",
      "model_name": "LeafletMapStyleModel",
      "state": {
       "_model_module_version": "^0.13.0",
       "cursor": "move"
      }
     },
     "ad96bb39798a4729aecf458fedef97b7": {
      "model_module": "jupyter-leaflet",
      "model_module_version": "^0.13.0",
      "model_name": "LeafletAttributionControlModel",
      "state": {
       "_model_module_version": "^0.13.0",
       "_view_module_version": "^0.13.0",
       "options": [
        "position",
        "prefix"
       ],
       "position": "bottomright",
       "prefix": "Leaflet"
      }
     },
     "add8ac586b5544778db33d8152a3edbf": {
      "model_module": "@jupyter-widgets/controls",
      "model_module_version": "1.5.0",
      "model_name": "ButtonModel",
      "state": {
       "description": "done",
       "disabled": true,
       "layout": "IPY_MODEL_30e38c835a8e40908226ed178e87f750",
       "style": "IPY_MODEL_52904e406dab43fbaeb59847f02a6fd9"
      }
     },
     "add91f2e9994436daee3b28ccd8e08a9": {
      "model_module": "@jupyter-widgets/base",
      "model_module_version": "1.2.0",
      "model_name": "LayoutModel",
      "state": {
       "flex": "1 0 20em",
       "height": "3em",
       "width": "20em"
      }
     },
     "aee07d453fde4714af0c83f6f2413bbc": {
      "model_module": "@jupyter-widgets/controls",
      "model_module_version": "1.5.0",
      "model_name": "ButtonModel",
      "state": {
       "description": "done",
       "disabled": true,
       "layout": "IPY_MODEL_51030d76ad764deda7f40dbc9c098b81",
       "style": "IPY_MODEL_68160d72c7074658ad85d05979a46d7a"
      }
     },
     "af323d7e083c48fc889e0355b545df77": {
      "model_module": "jupyter-leaflet",
      "model_module_version": "^0.13.0",
      "model_name": "LeafletMapModel",
      "state": {
       "_model_module_version": "^0.13.0",
       "_view_module_version": "^0.13.0",
       "center": [
        -25.16517336866393,
        134.20898437500003
       ],
       "controls": [
        "IPY_MODEL_1653ebc3f7d1425b9e3291acb76b2929",
        "IPY_MODEL_53a77d49478d4fae93832940fbca4ac9",
        "IPY_MODEL_7523fd886bf6420ebecdfcd3e3a7b73f",
        "IPY_MODEL_a86a567a1f604405944bac632ed17e9f",
        "IPY_MODEL_094ce7516d564f14bb077dbc56d91b4a",
        "IPY_MODEL_fba5f3a7c4334f12a6cdae0f1fdce1d8"
       ],
       "default_style": "IPY_MODEL_2411647538ab44af9bff91e7bfc8e566",
       "dragging_style": "IPY_MODEL_ad6c21195f4747cf9dca37aa56ab0fce",
       "east": -180,
       "fullscreen": false,
       "interpolation": "bilinear",
       "layers": [
        "IPY_MODEL_14325fe26443405e916bd9b6cdf83666",
        "IPY_MODEL_83410c16a8d44b96aa35ba0682426d76"
       ],
       "layout": "IPY_MODEL_577a901358fe4322ae7df2437bd5226c",
       "modisdate": "yesterday",
       "north": -90,
       "options": [
        "bounce_at_zoom_limits",
        "box_zoom",
        "center",
        "close_popup_on_click",
        "double_click_zoom",
        "dragging",
        "fullscreen",
        "inertia",
        "inertia_deceleration",
        "inertia_max_speed",
        "interpolation",
        "keyboard",
        "keyboard_pan_offset",
        "keyboard_zoom_offset",
        "max_zoom",
        "min_zoom",
        "scroll_wheel_zoom",
        "tap",
        "tap_tolerance",
        "touch_zoom",
        "world_copy_jump",
        "zoom",
        "zoom_animation_threshold",
        "zoom_start"
       ],
       "scroll_wheel_zoom": true,
       "south": 90,
       "style": "IPY_MODEL_2411647538ab44af9bff91e7bfc8e566",
       "west": 180,
       "window_url": "https://app.sandbox.dea.ga.gov.au/user/robbibt/lab?#Analysis-parameters",
       "zoom": 4
      }
     },
     "af89fb7a48434148a0936ddba1267603": {
      "model_module": "jupyter-leaflet",
      "model_module_version": "^0.13.0",
      "model_name": "LeafletZoomControlModel",
      "state": {
       "_model_module_version": "^0.13.0",
       "_view_module_version": "^0.13.0",
       "options": [
        "position",
        "zoom_in_text",
        "zoom_in_title",
        "zoom_out_text",
        "zoom_out_title"
       ]
      }
     },
     "b05e053c35eb4257bef4fcf276ff61a9": {
      "model_module": "jupyter-leaflet",
      "model_module_version": "^0.13.0",
      "model_name": "LeafletDrawControlModel",
      "state": {
       "_model_module_version": "^0.13.0",
       "_view_module_version": "^0.13.0",
       "options": [
        "position"
       ],
       "polygon": {
        "shapeOptions": {
         "color": "#000000",
         "editing": {
          "color": "#000000",
          "fillColor": "#fca45d",
          "fillOpacity": 0.1
         },
         "fillColor": "#fca45d",
         "fillOpacity": 0.1,
         "original": {
          "color": "#000000",
          "fillColor": "#fca45d",
          "fillOpacity": 0.1
         }
        }
       },
       "polyline": {},
       "rectangle": {
        "metric": [
         "km",
         "m"
        ],
        "shapeOptions": {
         "color": "#000000",
         "fillColor": "#fca45d",
         "fillOpacity": 0.1
        }
       }
      }
     },
     "b09c0b9573f54b94827ce15338989db0": {
      "model_module": "@jupyter-widgets/base",
      "model_module_version": "1.2.0",
      "model_name": "LayoutModel",
      "state": {
       "width": "5em"
      }
     },
     "b1fe53ff09ac4caf9885b260f385e1fb": {
      "model_module": "@jupyter-widgets/base",
      "model_module_version": "1.2.0",
      "model_name": "LayoutModel",
      "state": {
       "flex": "1 0 20em",
       "height": "3em",
       "width": "20em"
      }
     },
     "b29f4793ec634ea0a5a26897af93993c": {
      "model_module": "jupyter-leaflet",
      "model_module_version": "^0.13.0",
      "model_name": "LeafletWidgetControlModel",
      "state": {
       "_model_module": "jupyter-leaflet",
       "_model_module_version": "^0.13.0",
       "_view_count": null,
       "_view_module": "jupyter-leaflet",
       "_view_module_version": "^0.13.0",
       "options": [
        "position"
       ],
       "position": "topright",
       "widget": "IPY_MODEL_d6150d034965403c9831311abed5163e"
      }
     },
     "b2d62d7b4caa403ab4ac6f20580fdd96": {
      "model_module": "jupyter-leaflet",
      "model_module_version": "^0.13.0",
      "model_name": "LeafletMapStyleModel",
      "state": {
       "_model_module_version": "^0.13.0"
      }
     },
     "b2fb66ffbf0a465a86f57a364abc0b94": {
      "model_module": "jupyter-leaflet",
      "model_module_version": "^0.13.0",
      "model_name": "LeafletAttributionControlModel",
      "state": {
       "_model_module_version": "^0.13.0",
       "_view_module_version": "^0.13.0",
       "options": [
        "position",
        "prefix"
       ],
       "position": "bottomright",
       "prefix": "Leaflet"
      }
     },
     "b3684679b35e46b2afb26ce20a73d5f2": {
      "model_module": "jupyter-leaflet",
      "model_module_version": "^0.13.0",
      "model_name": "LeafletFullScreenControlModel",
      "state": {
       "_model_module_version": "^0.13.0",
       "_view_module_version": "^0.13.0",
       "options": [
        "position"
       ]
      }
     },
     "b36ed3a8873546fd941aba2d25582a0f": {
      "model_module": "@jupyter-widgets/controls",
      "model_module_version": "1.5.0",
      "model_name": "ButtonStyleModel",
      "state": {
       "button_color": "green"
      }
     },
     "b3a5c74e49ae496bab59dc8ca44e72b2": {
      "model_module": "jupyter-leaflet",
      "model_module_version": "^0.13.0",
      "model_name": "LeafletWMSLayerModel",
      "state": {
       "_model_module_version": "^0.13.0",
       "_view_module_version": "^0.13.0",
       "attribution": "Digital Earth Australia",
       "crs": {
        "custom": false,
        "name": "EPSG3857"
       },
       "format": "image/png",
       "layers": "ga_ls_ard_3",
       "max_native_zoom": 18,
       "min_native_zoom": 0,
       "options": [
        "attribution",
        "detect_retina",
        "format",
        "layers",
        "max_native_zoom",
        "max_zoom",
        "min_native_zoom",
        "min_zoom",
        "no_wrap",
        "styles",
        "tile_size",
        "time",
        "tms",
        "transparent",
        "uppercase"
       ],
       "time": "2018-04-01",
       "transparent": true,
       "url": "https://ows.dea.ga.gov.au/"
      }
     },
     "b3ebd22bf808421b92e165db28b9b030": {
      "model_module": "jupyter-leaflet",
      "model_module_version": "^0.13.0",
      "model_name": "LeafletAttributionControlModel",
      "state": {
       "_model_module_version": "^0.13.0",
       "_view_module_version": "^0.13.0",
       "options": [
        "position",
        "prefix"
       ],
       "position": "bottomright",
       "prefix": "Leaflet"
      }
     },
     "b44d644a232f4814bf95efff556d2661": {
      "model_module": "jupyter-leaflet",
      "model_module_version": "^0.13.0",
      "model_name": "LeafletMapStyleModel",
      "state": {
       "_model_module_version": "^0.13.0",
       "cursor": "move"
      }
     },
     "b4baff327c134e828f44f53951ddd121": {
      "model_module": "jupyter-leaflet",
      "model_module_version": "^0.13.0",
      "model_name": "LeafletZoomControlModel",
      "state": {
       "_model_module_version": "^0.13.0",
       "_view_module_version": "^0.13.0",
       "options": [
        "position",
        "zoom_in_text",
        "zoom_in_title",
        "zoom_out_text",
        "zoom_out_title"
       ]
      }
     },
     "b54ea5a47d5842deb80ed85c27fb5685": {
      "model_module": "jupyter-leaflet",
      "model_module_version": "^0.13.0",
      "model_name": "LeafletMapModel",
      "state": {
       "_model_module_version": "^0.13.0",
       "_view_module_version": "^0.13.0",
       "center": [
        -31.438037173124464,
        152.56988525390628
       ],
       "controls": [
        "IPY_MODEL_f9c163e9361c4a618e07a0988125bc95",
        "IPY_MODEL_f315b01eade447d386541787e0132f3b",
        "IPY_MODEL_38d66df2403046c894648290226a0111"
       ],
       "default_style": "IPY_MODEL_5af2ac94aa2d4a8e8c339de97364c254",
       "dragging_style": "IPY_MODEL_e31ef384f5274a3980ddac529e87b1e9",
       "east": 154.09423828125003,
       "fullscreen": false,
       "interpolation": "bilinear",
       "layers": [
        "IPY_MODEL_fa572d21c4ba4bc4a33d684e83242f11",
        "IPY_MODEL_906c1769210c42ef92413f736562cfe4"
       ],
       "layout": "IPY_MODEL_9e27d9f67cad49d99686ea08f61f8be3",
       "modisdate": "yesterday",
       "north": -30.021543509740027,
       "options": [
        "bounce_at_zoom_limits",
        "box_zoom",
        "center",
        "close_popup_on_click",
        "double_click_zoom",
        "dragging",
        "fullscreen",
        "inertia",
        "inertia_deceleration",
        "inertia_max_speed",
        "interpolation",
        "keyboard",
        "keyboard_pan_offset",
        "keyboard_zoom_offset",
        "max_zoom",
        "min_zoom",
        "scroll_wheel_zoom",
        "tap",
        "tap_tolerance",
        "touch_zoom",
        "world_copy_jump",
        "zoom",
        "zoom_animation_threshold",
        "zoom_start"
       ],
       "scroll_wheel_zoom": true,
       "south": -32.83344284664949,
       "style": "IPY_MODEL_5af2ac94aa2d4a8e8c339de97364c254",
       "west": 151.04553222656253,
       "window_url": "https://app.sandbox.dea.ga.gov.au/user/robbibt/lab?#Analysis-parameters",
       "zoom": 8
      }
     },
     "b5bc3ffeac214683974d6008e157aba7": {
      "model_module": "jupyter-leaflet",
      "model_module_version": "^0.13.0",
      "model_name": "LeafletWMSLayerModel",
      "state": {
       "_model_module_version": "^0.13.0",
       "_view_module_version": "^0.13.0",
       "attribution": "Digital Earth Australia",
       "crs": {
        "custom": false,
        "name": "EPSG3857"
       },
       "format": "image/png",
       "layers": "ga_ls_ard_3",
       "max_native_zoom": 18,
       "min_native_zoom": 0,
       "options": [
        "attribution",
        "detect_retina",
        "format",
        "layers",
        "max_native_zoom",
        "max_zoom",
        "min_native_zoom",
        "min_zoom",
        "no_wrap",
        "styles",
        "tile_size",
        "time",
        "tms",
        "transparent",
        "uppercase"
       ],
       "time": "2019-12-15",
       "transparent": true,
       "url": "https://ows.dea.ga.gov.au/"
      }
     },
     "b609214f3eda4ec78640767cbef1830e": {
      "model_module": "jupyter-leaflet",
      "model_module_version": "^0.13.0",
      "model_name": "LeafletMapStyleModel",
      "state": {
       "_model_module_version": "^0.13.0"
      }
     },
     "b6649a5d7a234a03abf51ae202b980b7": {
      "model_module": "jupyter-leaflet",
      "model_module_version": "^0.13.0",
      "model_name": "LeafletMapStyleModel",
      "state": {
       "_model_module_version": "^0.13.0",
       "cursor": "move"
      }
     },
     "b7ce81e9c73342c284fc9f59b6040094": {
      "model_module": "jupyter-leaflet",
      "model_module_version": "^0.13.0",
      "model_name": "LeafletZoomControlModel",
      "state": {
       "_model_module_version": "^0.13.0",
       "_view_module_version": "^0.13.0",
       "options": [
        "position",
        "zoom_in_text",
        "zoom_in_title",
        "zoom_out_text",
        "zoom_out_title"
       ]
      }
     },
     "b845189a1fd3409f9a7cde0e543b44b2": {
      "model_module": "jupyter-leaflet",
      "model_module_version": "^0.13.0",
      "model_name": "LeafletDrawControlModel",
      "state": {
       "_model_module_version": "^0.13.0",
       "_view_module_version": "^0.13.0",
       "options": [
        "position"
       ],
       "polygon": {
        "shapeOptions": {
         "color": "#000000",
         "editing": {
          "color": "#000000",
          "fillColor": "#fca45d",
          "fillOpacity": 0.1
         },
         "fillColor": "#fca45d",
         "fillOpacity": 0.1,
         "original": {
          "color": "#000000",
          "fillColor": "#fca45d",
          "fillOpacity": 0.1
         }
        }
       },
       "polyline": {},
       "rectangle": {
        "metric": [
         "km",
         "m"
        ],
        "shapeOptions": {
         "color": "#000000",
         "fillColor": "#fca45d",
         "fillOpacity": 0.1
        }
       }
      }
     },
     "b8f842b9e8334ed09920a0cbd9e40ff2": {
      "model_module": "jupyter-leaflet",
      "model_module_version": "^0.13.0",
      "model_name": "LeafletZoomControlModel",
      "state": {
       "_model_module_version": "^0.13.0",
       "_view_module_version": "^0.13.0",
       "options": [
        "position",
        "zoom_in_text",
        "zoom_in_title",
        "zoom_out_text",
        "zoom_out_title"
       ]
      }
     },
     "b935b1ccc48245c5b930e95ca8ed0287": {
      "model_module": "jupyter-leaflet",
      "model_module_version": "^0.13.0",
      "model_name": "LeafletMapModel",
      "state": {
       "_model_module_version": "^0.13.0",
       "_view_module_version": "^0.13.0",
       "center": [
        -22.187404991398775,
        126.05712890625001
       ],
       "controls": [
        "IPY_MODEL_b7ce81e9c73342c284fc9f59b6040094",
        "IPY_MODEL_b3ebd22bf808421b92e165db28b9b030",
        "IPY_MODEL_d3698a58097c4cfa9b368ee1bbfdf34c",
        "IPY_MODEL_a172cd2cb4b94e80a0618217052dab21",
        "IPY_MODEL_cc26984ac142415681262dd74558f1da",
        "IPY_MODEL_3dd00c087e5f43e98629daecb313f74e"
       ],
       "default_style": "IPY_MODEL_65f15d53c13d4f81a3134fc890eeecd6",
       "dragging_style": "IPY_MODEL_49b18b71236144cc9d9448bd7148a8c6",
       "east": 138.25195312500003,
       "fullscreen": false,
       "interpolation": "bilinear",
       "layers": [
        "IPY_MODEL_4a804d277cb24e0591962a070b6cdc49",
        "IPY_MODEL_dfd8d07e28da4bc49a8ae0216c2ae166"
       ],
       "layout": "IPY_MODEL_318d1d71b41641f1b93322ce0b84ea47",
       "modisdate": "yesterday",
       "north": -9.535748998133615,
       "options": [
        "bounce_at_zoom_limits",
        "box_zoom",
        "center",
        "close_popup_on_click",
        "double_click_zoom",
        "dragging",
        "fullscreen",
        "inertia",
        "inertia_deceleration",
        "inertia_max_speed",
        "interpolation",
        "keyboard",
        "keyboard_pan_offset",
        "keyboard_zoom_offset",
        "max_zoom",
        "min_zoom",
        "scroll_wheel_zoom",
        "tap",
        "tap_tolerance",
        "touch_zoom",
        "world_copy_jump",
        "zoom",
        "zoom_animation_threshold",
        "zoom_start"
       ],
       "scroll_wheel_zoom": true,
       "south": -33.797408767572485,
       "style": "IPY_MODEL_65f15d53c13d4f81a3134fc890eeecd6",
       "west": 113.8623046875,
       "window_url": "https://app.sandbox.dea.ga.gov.au/user/robbibt/lab?#Analysis-parameters",
       "zoom": 5
      }
     },
     "b9450649aceb43d3b189de0cd6cca4fa": {
      "model_module": "jupyter-leaflet",
      "model_module_version": "^0.13.0",
      "model_name": "LeafletMapStyleModel",
      "state": {
       "_model_module_version": "^0.13.0",
       "cursor": "move"
      }
     },
     "b953f969fc494edeb02afceb485cb255": {
      "model_module": "@jupyter-widgets/base",
      "model_module_version": "1.2.0",
      "model_name": "LayoutModel",
      "state": {
       "flex": "1 0 20em",
       "height": "3em",
       "width": "20em"
      }
     },
     "b97d2aec8ed341daa6ebcb93096bcf85": {
      "model_module": "@jupyter-widgets/controls",
      "model_module_version": "1.5.0",
      "model_name": "ButtonStyleModel",
      "state": {
       "button_color": "green"
      }
     },
     "ba6029fed5df401da59aa676ca668107": {
      "model_module": "jupyter-leaflet",
      "model_module_version": "^0.13.0",
      "model_name": "LeafletWMSLayerModel",
      "state": {
       "_model_module_version": "^0.13.0",
       "_view_module_version": "^0.13.0",
       "attribution": "Digital Earth Australia",
       "crs": {
        "custom": false,
        "name": "EPSG3857"
       },
       "format": "image/png",
       "layers": "ga_ls_ard_3",
       "max_native_zoom": 18,
       "min_native_zoom": 0,
       "options": [
        "attribution",
        "detect_retina",
        "format",
        "layers",
        "max_native_zoom",
        "max_zoom",
        "min_native_zoom",
        "min_zoom",
        "no_wrap",
        "styles",
        "tile_size",
        "time",
        "tms",
        "transparent",
        "uppercase"
       ],
       "time": "2018-04-01",
       "transparent": true,
       "url": "https://ows.dea.ga.gov.au/"
      }
     },
     "baa2593581884c968a752a1bae980cf0": {
      "model_module": "@jupyter-widgets/base",
      "model_module_version": "1.2.0",
      "model_name": "LayoutModel",
      "state": {
       "width": "5em"
      }
     },
     "bad39287393d41f5bedb29e9c097e16a": {
      "model_module": "jupyter-leaflet",
      "model_module_version": "^0.13.0",
      "model_name": "LeafletAttributionControlModel",
      "state": {
       "_model_module_version": "^0.13.0",
       "_view_module_version": "^0.13.0",
       "options": [
        "position",
        "prefix"
       ],
       "position": "bottomright",
       "prefix": "Leaflet"
      }
     },
     "bc104906d96f47ca925f8ed4157e3c51": {
      "model_module": "jupyter-leaflet",
      "model_module_version": "^0.13.0",
      "model_name": "LeafletMapStyleModel",
      "state": {
       "_model_module_version": "^0.13.0"
      }
     },
     "bd58fd1e3c34431087dd4889567b516a": {
      "model_module": "@jupyter-widgets/controls",
      "model_module_version": "1.5.0",
      "model_name": "ButtonModel",
      "state": {
       "description": "done",
       "disabled": true,
       "layout": "IPY_MODEL_dd2f41d9d7674819ba67654c8d185fba",
       "style": "IPY_MODEL_01bbb24b658b414fa111e7b1c1e72848"
      }
     },
     "bd87719c5cdc4743b0d9c6d9e9cbb899": {
      "model_module": "jupyter-leaflet",
      "model_module_version": "^0.13.0",
      "model_name": "LeafletMapModel",
      "state": {
       "_model_module_version": "^0.13.0",
       "_view_module_version": "^0.13.0",
       "center": [
        -13.576581291896957,
        130.32531738281253
       ],
       "controls": [
        "IPY_MODEL_913d04d286334b7fb1bb0e344ad13ccd",
        "IPY_MODEL_6c18668437ca4395bd0b3bc010bbdd94",
        "IPY_MODEL_54a667b424c54e999f8ea635e4328ef2"
       ],
       "default_style": "IPY_MODEL_46e63a7bb35f4615ba9cb4150e4119b9",
       "dragging_style": "IPY_MODEL_b6649a5d7a234a03abf51ae202b980b7",
       "east": -180,
       "fullscreen": false,
       "interpolation": "bilinear",
       "layers": [
        "IPY_MODEL_a2a24c1f9bb44e64b7a1377e4112fba8",
        "IPY_MODEL_bf57a29ef134483a8d3fcc15d27886bf"
       ],
       "layout": "IPY_MODEL_a280708ba11c4af0b3c2f300fe8641d7",
       "modisdate": "yesterday",
       "north": -90,
       "options": [
        "bounce_at_zoom_limits",
        "box_zoom",
        "center",
        "close_popup_on_click",
        "double_click_zoom",
        "dragging",
        "fullscreen",
        "inertia",
        "inertia_deceleration",
        "inertia_max_speed",
        "interpolation",
        "keyboard",
        "keyboard_pan_offset",
        "keyboard_zoom_offset",
        "max_zoom",
        "min_zoom",
        "scroll_wheel_zoom",
        "tap",
        "tap_tolerance",
        "touch_zoom",
        "world_copy_jump",
        "zoom",
        "zoom_animation_threshold",
        "zoom_start"
       ],
       "scroll_wheel_zoom": true,
       "south": 90,
       "style": "IPY_MODEL_46e63a7bb35f4615ba9cb4150e4119b9",
       "west": 180,
       "window_url": "https://app.sandbox.dea.ga.gov.au/user/robbibt/lab?#Analysis-parameters",
       "zoom": 9
      }
     },
     "be7f91ad6b0841de8cc11e7107be460e": {
      "model_module": "@jupyter-widgets/base",
      "model_module_version": "1.2.0",
      "model_name": "LayoutModel",
      "state": {
       "flex": "1 0 20em",
       "height": "3em",
       "width": "20em"
      }
     },
     "be8ac2637b8a40c79e2d5eab1d73ee76": {
      "model_module": "@jupyter-widgets/base",
      "model_module_version": "1.2.0",
      "model_name": "LayoutModel",
      "state": {
       "height": "600px"
      }
     },
     "bf57a29ef134483a8d3fcc15d27886bf": {
      "model_module": "jupyter-leaflet",
      "model_module_version": "^0.13.0",
      "model_name": "LeafletWMSLayerModel",
      "state": {
       "_model_module_version": "^0.13.0",
       "_view_module_version": "^0.13.0",
       "attribution": "Digital Earth Australia",
       "crs": {
        "custom": false,
        "name": "EPSG3857"
       },
       "format": "image/png",
       "layers": "ga_ls_ard_3",
       "max_native_zoom": 18,
       "min_native_zoom": 0,
       "options": [
        "attribution",
        "detect_retina",
        "format",
        "layers",
        "max_native_zoom",
        "max_zoom",
        "min_native_zoom",
        "min_zoom",
        "no_wrap",
        "styles",
        "tile_size",
        "time",
        "tms",
        "transparent",
        "uppercase"
       ],
       "time": "2018-04-01",
       "transparent": true,
       "url": "https://ows.dea.ga.gov.au/"
      }
     },
     "bfac76dd654745bf829942e78bc36834": {
      "model_module": "jupyter-leaflet",
      "model_module_version": "^0.13.0",
      "model_name": "LeafletMapStyleModel",
      "state": {
       "_model_module_version": "^0.13.0"
      }
     },
     "c0d262fed60b4166b692371787a09759": {
      "model_module": "@jupyter-widgets/controls",
      "model_module_version": "1.5.0",
      "model_name": "ButtonStyleModel",
      "state": {
       "button_color": "green"
      }
     },
     "c130d4eff7ce4c77a5a773458fff5182": {
      "model_module": "jupyter-leaflet",
      "model_module_version": "^0.13.0",
      "model_name": "LeafletMapModel",
      "state": {
       "_model_module_version": "^0.13.0",
       "_view_module_version": "^0.13.0",
       "center": [
        -28.791130513231828,
        114.59615707397461
       ],
       "controls": [
        "IPY_MODEL_ceafe5e21bcf45529883948aeaa11b7f",
        "IPY_MODEL_f80087ecd564406291c8621c80680088",
        "IPY_MODEL_b3684679b35e46b2afb26ce20a73d5f2"
       ],
       "default_style": "IPY_MODEL_4bba20cc96f1412580f4091b378fbf4d",
       "dragging_style": "IPY_MODEL_82dc8d3cc8504dc4b12b549e538de316",
       "east": 114.6914291381836,
       "fullscreen": false,
       "interpolation": "bilinear",
       "layers": [
        "IPY_MODEL_aa76424cf3c04a44a9228375f1c2d624",
        "IPY_MODEL_1831867855dc457da1ebcedaff1595d2"
       ],
       "layout": "IPY_MODEL_f3f57d826c644bb1b03de60cf23567f1",
       "modisdate": "yesterday",
       "north": -28.700826978223716,
       "options": [
        "bounce_at_zoom_limits",
        "box_zoom",
        "center",
        "close_popup_on_click",
        "double_click_zoom",
        "dragging",
        "fullscreen",
        "inertia",
        "inertia_deceleration",
        "inertia_max_speed",
        "interpolation",
        "keyboard",
        "keyboard_pan_offset",
        "keyboard_zoom_offset",
        "max_zoom",
        "min_zoom",
        "scroll_wheel_zoom",
        "tap",
        "tap_tolerance",
        "touch_zoom",
        "world_copy_jump",
        "zoom",
        "zoom_animation_threshold",
        "zoom_start"
       ],
       "scroll_wheel_zoom": true,
       "south": -28.881355899779198,
       "style": "IPY_MODEL_4bba20cc96f1412580f4091b378fbf4d",
       "west": 114.50088500976562,
       "window_url": "https://app.sandbox.dea.ga.gov.au/user/robbibt/lab?#Analysis-parameters"
      }
     },
     "c1787a1d11c742ab857999f37fa861bb": {
      "model_module": "jupyter-leaflet",
      "model_module_version": "^0.13.0",
      "model_name": "LeafletWMSLayerModel",
      "state": {
       "_model_module_version": "^0.13.0",
       "_view_module_version": "^0.13.0",
       "attribution": "Digital Earth Australia",
       "crs": {
        "custom": false,
        "name": "EPSG3857"
       },
       "format": "image/png",
       "layers": "s2_ard_granule_nbar_t",
       "max_native_zoom": 18,
       "min_native_zoom": 0,
       "options": [
        "attribution",
        "detect_retina",
        "format",
        "layers",
        "max_native_zoom",
        "max_zoom",
        "min_native_zoom",
        "min_zoom",
        "no_wrap",
        "styles",
        "tile_size",
        "time",
        "tms",
        "transparent",
        "uppercase"
       ],
       "time": "2020-01-30",
       "transparent": true,
       "url": "https://ows.dea.ga.gov.au/"
      }
     },
     "c2498ec899934f819432dc4079c6615c": {
      "model_module": "jupyter-leaflet",
      "model_module_version": "^0.13.0",
      "model_name": "LeafletMapStyleModel",
      "state": {
       "_model_module_version": "^0.13.0",
       "cursor": "move"
      }
     },
     "c273e19d580f4b8d876c7a3b1b33ac92": {
      "model_module": "@jupyter-widgets/controls",
      "model_module_version": "1.5.0",
      "model_name": "ButtonModel",
      "state": {
       "description": "done",
       "disabled": true,
       "layout": "IPY_MODEL_fe9eb1434a124a5f918fb8ff71acd891",
       "style": "IPY_MODEL_82f7d17819f8424bb048c04e82f0458c"
      }
     },
     "c29c32912d88419ea2b0eb55493aecc0": {
      "model_module": "@jupyter-widgets/controls",
      "model_module_version": "1.5.0",
      "model_name": "ButtonStyleModel",
      "state": {
       "button_color": "green"
      }
     },
     "c35094e39cd74dafbb14f6c1bd56f41a": {
      "model_module": "jupyter-leaflet",
      "model_module_version": "^0.13.0",
      "model_name": "LeafletMapModel",
      "state": {
       "_model_module_version": "^0.13.0",
       "_view_module_version": "^0.13.0",
       "center": [
        -13.344860707843656,
        130.29047012329104
       ],
       "controls": [
        "IPY_MODEL_45a4836d9ffa434197dad5bde943225d",
        "IPY_MODEL_65c94a4a703e43c793b1357d9bf42bc6",
        "IPY_MODEL_315c6a8013ed4d988ea5943b53c56ae6"
       ],
       "default_style": "IPY_MODEL_23505259a77b4cf7aba525e55e9157b6",
       "dragging_style": "IPY_MODEL_d4778f661d454d89840330f1272b24a1",
       "east": -180,
       "fullscreen": false,
       "interpolation": "bilinear",
       "layers": [
        "IPY_MODEL_6fa6af89b0f74385bdeeccbc84c40833",
        "IPY_MODEL_416142938e7f4eb4ab7f72a2fc4f613b"
       ],
       "layout": "IPY_MODEL_a429e79f5aaa4975aedc3405be27dc89",
       "modisdate": "yesterday",
       "north": -90,
       "options": [
        "bounce_at_zoom_limits",
        "box_zoom",
        "center",
        "close_popup_on_click",
        "double_click_zoom",
        "dragging",
        "fullscreen",
        "inertia",
        "inertia_deceleration",
        "inertia_max_speed",
        "interpolation",
        "keyboard",
        "keyboard_pan_offset",
        "keyboard_zoom_offset",
        "max_zoom",
        "min_zoom",
        "scroll_wheel_zoom",
        "tap",
        "tap_tolerance",
        "touch_zoom",
        "world_copy_jump",
        "zoom",
        "zoom_animation_threshold",
        "zoom_start"
       ],
       "scroll_wheel_zoom": true,
       "south": 90,
       "style": "IPY_MODEL_23505259a77b4cf7aba525e55e9157b6",
       "west": 180,
       "window_url": "https://app.sandbox.dea.ga.gov.au/user/robbibt/lab?#Analysis-parameters",
       "zoom": 13
      }
     },
     "c38ad62b7d36410e82896ef7ac4c8e70": {
      "model_module": "jupyter-leaflet",
      "model_module_version": "^0.13.0",
      "model_name": "LeafletMapModel",
      "state": {
       "_model_module_version": "^0.13.0",
       "_view_module_version": "^0.13.0",
       "center": [
        -37.173448712009574,
        149.51568603515628
       ],
       "controls": [
        "IPY_MODEL_2c89395b4d4a49b9bfff82b99887c0a0",
        "IPY_MODEL_89bfe993e1a346738096ba4661e59c55",
        "IPY_MODEL_6f50d288bbf04b3f8dfa1131c9f76fba"
       ],
       "default_style": "IPY_MODEL_db14bf28acd44db4aaa0d07bd06b24e9",
       "dragging_style": "IPY_MODEL_8477acadbbe545d3bcabf51e152d55b2",
       "east": 151.072998046875,
       "fullscreen": false,
       "interpolation": "bilinear",
       "layers": [
        "IPY_MODEL_7a631c31317a47cd98af02e5b98de218",
        "IPY_MODEL_a6715b7ae693497fb8d040caa2fbda4f"
       ],
       "layout": "IPY_MODEL_89934baf796d44f8b9b827c5f7b9da1d",
       "modisdate": "yesterday",
       "north": -35.848987186906584,
       "options": [
        "bounce_at_zoom_limits",
        "box_zoom",
        "center",
        "close_popup_on_click",
        "double_click_zoom",
        "dragging",
        "fullscreen",
        "inertia",
        "inertia_deceleration",
        "inertia_max_speed",
        "interpolation",
        "keyboard",
        "keyboard_pan_offset",
        "keyboard_zoom_offset",
        "max_zoom",
        "min_zoom",
        "scroll_wheel_zoom",
        "tap",
        "tap_tolerance",
        "touch_zoom",
        "world_copy_jump",
        "zoom",
        "zoom_animation_threshold",
        "zoom_start"
       ],
       "scroll_wheel_zoom": true,
       "south": -38.47509432050244,
       "style": "IPY_MODEL_db14bf28acd44db4aaa0d07bd06b24e9",
       "west": 147.95837402343753,
       "window_url": "https://app.sandbox.dea.ga.gov.au/user/robbibt/lab?#Analysis-parameters",
       "zoom": 8
      }
     },
     "c3af6b521b164df98bb7a95add41f873": {
      "model_module": "@jupyter-widgets/controls",
      "model_module_version": "1.5.0",
      "model_name": "ButtonStyleModel",
      "state": {
       "button_color": "green"
      }
     },
     "c56e0a229ca546308bacb5af3381900e": {
      "model_module": "jupyter-leaflet",
      "model_module_version": "^0.13.0",
      "model_name": "LeafletMapStyleModel",
      "state": {
       "_model_module_version": "^0.13.0"
      }
     },
     "c624d3f37ac24a2f8923c035e8fe2b79": {
      "model_module": "jupyter-leaflet",
      "model_module_version": "^0.13.0",
      "model_name": "LeafletMapStyleModel",
      "state": {
       "_model_module_version": "^0.13.0"
      }
     },
     "c82c0d4a38b7484d828ce67c048f1349": {
      "model_module": "jupyter-leaflet",
      "model_module_version": "^0.13.0",
      "model_name": "LeafletFullScreenControlModel",
      "state": {
       "_model_module_version": "^0.13.0",
       "_view_module_version": "^0.13.0",
       "options": [
        "position"
       ]
      }
     },
     "c850a1726e0d4383873c940c49da5c51": {
      "model_module": "jupyter-leaflet",
      "model_module_version": "^0.13.0",
      "model_name": "LeafletTileLayerModel",
      "state": {
       "_model_module_version": "^0.13.0",
       "_view_module_version": "^0.13.0",
       "max_native_zoom": 18,
       "max_zoom": 19,
       "min_native_zoom": 0,
       "min_zoom": 1,
       "name": "OpenStreetMap.Mapnik",
       "options": [
        "attribution",
        "detect_retina",
        "max_native_zoom",
        "max_zoom",
        "min_native_zoom",
        "min_zoom",
        "no_wrap",
        "tile_size",
        "tms"
       ]
      }
     },
     "c8dcf145968246feb80b2d5c252e24a5": {
      "model_module": "jupyter-leaflet",
      "model_module_version": "^0.13.0",
      "model_name": "LeafletDrawControlModel",
      "state": {
       "_model_module_version": "^0.13.0",
       "_view_module_version": "^0.13.0",
       "options": [
        "position"
       ],
       "polygon": {
        "shapeOptions": {
         "color": "#000000",
         "editing": {
          "color": "#000000",
          "fillColor": "#fca45d",
          "fillOpacity": 0.1
         },
         "fillColor": "#fca45d",
         "fillOpacity": 0.1,
         "original": {
          "color": "#000000",
          "fillColor": "#fca45d",
          "fillOpacity": 0.1
         }
        }
       },
       "polyline": {},
       "rectangle": {
        "metric": [
         "km",
         "m"
        ],
        "shapeOptions": {
         "color": "#000000",
         "fillColor": "#fca45d",
         "fillOpacity": 0.1
        }
       }
      }
     },
     "ca8f65f26e2a415eaf80f18ab552ee81": {
      "model_module": "jupyter-leaflet",
      "model_module_version": "^0.13.0",
      "model_name": "LeafletFullScreenControlModel",
      "state": {
       "_model_module_version": "^0.13.0",
       "_view_module_version": "^0.13.0",
       "options": [
        "position"
       ]
      }
     },
     "cbaae1ef2cc1405a8d827586ce197bc7": {
      "model_module": "jupyter-leaflet",
      "model_module_version": "^0.13.0",
      "model_name": "LeafletMapModel",
      "state": {
       "_model_module_version": "^0.13.0",
       "_view_module_version": "^0.13.0",
       "center": [
        -25.18,
        134.18
       ],
       "controls": [
        "IPY_MODEL_9c5d62c65b1145e6921a49586d47ea29",
        "IPY_MODEL_1bb5a9095de34f548754da4042165b8d",
        "IPY_MODEL_f38e5854f30b46f283a7b93e07b5d34d",
        "IPY_MODEL_f37ca7c44d334de2a3706d1ca6153295",
        "IPY_MODEL_b845189a1fd3409f9a7cde0e543b44b2",
        "IPY_MODEL_4fb2904d12554a97b73c693b9df9b1c5"
       ],
       "default_style": "IPY_MODEL_d46c97c161a5459f94c6c6643b7777d1",
       "dragging_style": "IPY_MODEL_d722f0238cca47788e47b2bbfc2a1328",
       "east": 158.55468750000003,
       "fullscreen": false,
       "interpolation": "bilinear",
       "layers": [
        "IPY_MODEL_a84f76505a4d4488a8c3a7f9ec8ded2a",
        "IPY_MODEL_29920a9c1ce642a7a0a8ec7dde03ee56"
       ],
       "layout": "IPY_MODEL_a492c95ee0af42f894ded712ffe5a2e8",
       "modisdate": "yesterday",
       "north": 0.3515602939922709,
       "options": [
        "bounce_at_zoom_limits",
        "box_zoom",
        "center",
        "close_popup_on_click",
        "double_click_zoom",
        "dragging",
        "fullscreen",
        "inertia",
        "inertia_deceleration",
        "inertia_max_speed",
        "interpolation",
        "keyboard",
        "keyboard_pan_offset",
        "keyboard_zoom_offset",
        "max_zoom",
        "min_zoom",
        "scroll_wheel_zoom",
        "tap",
        "tap_tolerance",
        "touch_zoom",
        "world_copy_jump",
        "zoom",
        "zoom_animation_threshold",
        "zoom_start"
       ],
       "scroll_wheel_zoom": true,
       "south": -46.31658418182218,
       "style": "IPY_MODEL_a1b2c4a76f3347a39b9e48cc2b88fd24",
       "west": 109.77539062500001,
       "window_url": "https://app.sandbox.dea.ga.gov.au/user/robbibt/lab?#Analysis-parameters",
       "zoom": 4
      }
     },
     "cc26984ac142415681262dd74558f1da": {
      "model_module": "jupyter-leaflet",
      "model_module_version": "^0.13.0",
      "model_name": "LeafletDrawControlModel",
      "state": {
       "_model_module_version": "^0.13.0",
       "_view_module_version": "^0.13.0",
       "options": [
        "position"
       ],
       "polygon": {
        "shapeOptions": {
         "color": "#000000",
         "editing": {
          "color": "#000000",
          "fillColor": "#fca45d",
          "fillOpacity": 0.1
         },
         "fillColor": "#fca45d",
         "fillOpacity": 0.1,
         "original": {
          "color": "#000000",
          "fillColor": "#fca45d",
          "fillOpacity": 0.1
         }
        }
       },
       "polyline": {},
       "rectangle": {
        "metric": [
         "km",
         "m"
        ],
        "shapeOptions": {
         "color": "#000000",
         "fillColor": "#fca45d",
         "fillOpacity": 0.1
        }
       }
      }
     },
     "ce44945a0d6f42d48177e2e9d7dfb0c0": {
      "model_module": "jupyter-leaflet",
      "model_module_version": "^0.13.0",
      "model_name": "LeafletTileLayerModel",
      "state": {
       "_model_module_version": "^0.13.0",
       "_view_module_version": "^0.13.0",
       "max_native_zoom": 18,
       "max_zoom": 19,
       "min_native_zoom": 0,
       "min_zoom": 1,
       "name": "OpenStreetMap.Mapnik",
       "options": [
        "attribution",
        "detect_retina",
        "max_native_zoom",
        "max_zoom",
        "min_native_zoom",
        "min_zoom",
        "no_wrap",
        "tile_size",
        "tms"
       ]
      }
     },
     "ceafe5e21bcf45529883948aeaa11b7f": {
      "model_module": "jupyter-leaflet",
      "model_module_version": "^0.13.0",
      "model_name": "LeafletZoomControlModel",
      "state": {
       "_model_module_version": "^0.13.0",
       "_view_module_version": "^0.13.0",
       "options": [
        "position",
        "zoom_in_text",
        "zoom_in_title",
        "zoom_out_text",
        "zoom_out_title"
       ]
      }
     },
     "d12cb38a711846b2b2b313c2721d2cde": {
      "model_module": "@jupyter-widgets/controls",
      "model_module_version": "1.5.0",
      "model_name": "DescriptionStyleModel",
      "state": {
       "description_width": ""
      }
     },
     "d1418be1e34c4212b7d36d7a82b20708": {
      "model_module": "jupyter-leaflet",
      "model_module_version": "^0.13.0",
      "model_name": "LeafletDrawControlModel",
      "state": {
       "_model_module_version": "^0.13.0",
       "_view_module_version": "^0.13.0",
       "options": [
        "position"
       ],
       "polygon": {
        "shapeOptions": {
         "color": "#000000",
         "editing": {
          "color": "#000000",
          "fillColor": "#fca45d",
          "fillOpacity": 0.1
         },
         "fillColor": "#fca45d",
         "fillOpacity": 0.1,
         "original": {
          "color": "#000000",
          "fillColor": "#fca45d",
          "fillOpacity": 0.1
         }
        }
       },
       "polyline": {},
       "rectangle": {
        "metric": [
         "km",
         "m"
        ],
        "shapeOptions": {
         "color": "#000000",
         "fillColor": "#fca45d",
         "fillOpacity": 0.1
        }
       }
      }
     },
     "d1ce9305a8ae4ac98f49d1dac27f6521": {
      "model_module": "@jupyter-widgets/controls",
      "model_module_version": "1.5.0",
      "model_name": "ButtonStyleModel",
      "state": {
       "button_color": "green"
      }
     },
     "d2b592aa1a6d4ed6903512fc50814ec8": {
      "model_module": "@jupyter-widgets/base",
      "model_module_version": "1.2.0",
      "model_name": "LayoutModel",
      "state": {
       "height": "600px"
      }
     },
     "d3698a58097c4cfa9b368ee1bbfdf34c": {
      "model_module": "jupyter-leaflet",
      "model_module_version": "^0.13.0",
      "model_name": "LeafletWidgetControlModel",
      "state": {
       "_model_module": "jupyter-leaflet",
       "_model_module_version": "^0.13.0",
       "_view_count": null,
       "_view_module": "jupyter-leaflet",
       "_view_module_version": "^0.13.0",
       "options": [
        "position"
       ],
       "position": "topright",
       "widget": "IPY_MODEL_8d09fb6faf5d4817ac760975ff4fdc28"
      }
     },
     "d4106a36c09748ba858c956fdc067878": {
      "model_module": "jupyter-leaflet",
      "model_module_version": "^0.13.0",
      "model_name": "LeafletMapStyleModel",
      "state": {
       "_model_module_version": "^0.13.0"
      }
     },
     "d46c97c161a5459f94c6c6643b7777d1": {
      "model_module": "jupyter-leaflet",
      "model_module_version": "^0.13.0",
      "model_name": "LeafletMapStyleModel",
      "state": {
       "_model_module_version": "^0.13.0"
      }
     },
     "d4778f661d454d89840330f1272b24a1": {
      "model_module": "jupyter-leaflet",
      "model_module_version": "^0.13.0",
      "model_name": "LeafletMapStyleModel",
      "state": {
       "_model_module_version": "^0.13.0",
       "cursor": "move"
      }
     },
     "d4d9b046dbff47fbbaa59b7deed6e78b": {
      "model_module": "@jupyter-widgets/controls",
      "model_module_version": "1.5.0",
      "model_name": "DescriptionStyleModel",
      "state": {
       "description_width": ""
      }
     },
     "d55034cfcb7b4703851836056ba2b09a": {
      "model_module": "@jupyter-widgets/controls",
      "model_module_version": "1.5.0",
      "model_name": "ButtonStyleModel",
      "state": {
       "button_color": "green"
      }
     },
     "d6150d034965403c9831311abed5163e": {
      "model_module": "@jupyter-widgets/controls",
      "model_module_version": "1.5.0",
      "model_name": "ButtonModel",
      "state": {
       "description": "done",
       "disabled": true,
       "layout": "IPY_MODEL_1ff242f596d4480c836047f61b82fd62",
       "style": "IPY_MODEL_326896ca86804a25a6bb76dbde66a67c"
      }
     },
     "d6a4c84c88ad455694bb3cb4497e5db7": {
      "model_module": "jupyter-leaflet",
      "model_module_version": "^0.13.0",
      "model_name": "LeafletZoomControlModel",
      "state": {
       "_model_module_version": "^0.13.0",
       "_view_module_version": "^0.13.0",
       "options": [
        "position",
        "zoom_in_text",
        "zoom_in_title",
        "zoom_out_text",
        "zoom_out_title"
       ]
      }
     },
     "d70071125cbb4b5a8e3dda97deef6620": {
      "model_module": "@jupyter-widgets/controls",
      "model_module_version": "1.5.0",
      "model_name": "DescriptionStyleModel",
      "state": {
       "description_width": ""
      }
     },
     "d722f0238cca47788e47b2bbfc2a1328": {
      "model_module": "jupyter-leaflet",
      "model_module_version": "^0.13.0",
      "model_name": "LeafletMapStyleModel",
      "state": {
       "_model_module_version": "^0.13.0",
       "cursor": "move"
      }
     },
     "d77cf8fce86640ddae3de6e7c02ad2da": {
      "model_module": "jupyter-leaflet",
      "model_module_version": "^0.13.0",
      "model_name": "LeafletTileLayerModel",
      "state": {
       "_model_module_version": "^0.13.0",
       "_view_module_version": "^0.13.0",
       "max_native_zoom": 18,
       "max_zoom": 19,
       "min_native_zoom": 0,
       "min_zoom": 1,
       "name": "OpenStreetMap.Mapnik",
       "options": [
        "attribution",
        "detect_retina",
        "max_native_zoom",
        "max_zoom",
        "min_native_zoom",
        "min_zoom",
        "no_wrap",
        "tile_size",
        "tms"
       ]
      }
     },
     "d8e7cc0b76da4188ab8d95a2747e2072": {
      "model_module": "@jupyter-widgets/base",
      "model_module_version": "1.2.0",
      "model_name": "LayoutModel",
      "state": {
       "flex": "1 0 20em",
       "height": "3em",
       "width": "20em"
      }
     },
     "d91cfb3cfe6d4da1bd82612556a33efa": {
      "model_module": "jupyter-leaflet",
      "model_module_version": "^0.13.0",
      "model_name": "LeafletMapStyleModel",
      "state": {
       "_model_module_version": "^0.13.0"
      }
     },
     "db14bf28acd44db4aaa0d07bd06b24e9": {
      "model_module": "jupyter-leaflet",
      "model_module_version": "^0.13.0",
      "model_name": "LeafletMapStyleModel",
      "state": {
       "_model_module_version": "^0.13.0"
      }
     },
     "db3ea517fbc640c996bff25317d9cb72": {
      "model_module": "jupyter-leaflet",
      "model_module_version": "^0.13.0",
      "model_name": "LeafletWidgetControlModel",
      "state": {
       "_model_module": "jupyter-leaflet",
       "_model_module_version": "^0.13.0",
       "_view_count": null,
       "_view_module": "jupyter-leaflet",
       "_view_module_version": "^0.13.0",
       "options": [
        "position"
       ],
       "position": "topright",
       "widget": "IPY_MODEL_0cd9ae5808d144838f30a1c9c64ed8b6"
      }
     },
     "db680f3e0d1f4dcfa64da2adf09430b9": {
      "model_module": "@jupyter-widgets/controls",
      "model_module_version": "1.5.0",
      "model_name": "HTMLModel",
      "state": {
       "layout": "IPY_MODEL_9adf6b340c1d45d0a041b17199e48bee",
       "style": "IPY_MODEL_513a10a5617e4d64b3033291c41de307",
       "value": "<pre style=\"color:grey\">lat: [-22.7357, -19.6633]\nlon: [114.1205, 117.2351]</pre>"
      }
     },
     "dc01ec743f3d410e9d72884b96db1b28": {
      "model_module": "jupyter-leaflet",
      "model_module_version": "^0.13.0",
      "model_name": "LeafletMapStyleModel",
      "state": {
       "_model_module_version": "^0.13.0"
      }
     },
     "dc2cd4c3803447599e997d72c25d79a9": {
      "model_module": "@jupyter-widgets/base",
      "model_module_version": "1.2.0",
      "model_name": "LayoutModel",
      "state": {
       "flex": "1 0 20em",
       "height": "3em",
       "width": "20em"
      }
     },
     "dc9de0aad79e4bc09db7b1294afd531e": {
      "model_module": "jupyter-leaflet",
      "model_module_version": "^0.13.0",
      "model_name": "LeafletMapStyleModel",
      "state": {
       "_model_module_version": "^0.13.0"
      }
     },
     "dccb4b5a0df940989d486b880939e7c3": {
      "model_module": "jupyter-leaflet",
      "model_module_version": "^0.13.0",
      "model_name": "LeafletWidgetControlModel",
      "state": {
       "_model_module": "jupyter-leaflet",
       "_model_module_version": "^0.13.0",
       "_view_count": null,
       "_view_module": "jupyter-leaflet",
       "_view_module_version": "^0.13.0",
       "options": [
        "position"
       ],
       "position": "topright",
       "widget": "IPY_MODEL_72df1d5e2a724c908c431c9965cc99fc"
      }
     },
     "dd2f41d9d7674819ba67654c8d185fba": {
      "model_module": "@jupyter-widgets/base",
      "model_module_version": "1.2.0",
      "model_name": "LayoutModel",
      "state": {
       "width": "5em"
      }
     },
     "de324d53ec02433c9aef5feb7811b3ee": {
      "model_module": "jupyter-leaflet",
      "model_module_version": "^0.13.0",
      "model_name": "LeafletMapStyleModel",
      "state": {
       "_model_module_version": "^0.13.0"
      }
     },
     "defc00580cf5479ba51e4f37da222983": {
      "model_module": "jupyter-leaflet",
      "model_module_version": "^0.13.0",
      "model_name": "LeafletAttributionControlModel",
      "state": {
       "_model_module_version": "^0.13.0",
       "_view_module_version": "^0.13.0",
       "options": [
        "position",
        "prefix"
       ],
       "position": "bottomright",
       "prefix": "Leaflet"
      }
     },
     "dfd8d07e28da4bc49a8ae0216c2ae166": {
      "model_module": "jupyter-leaflet",
      "model_module_version": "^0.13.0",
      "model_name": "LeafletWMSLayerModel",
      "state": {
       "_model_module_version": "^0.13.0",
       "_view_module_version": "^0.13.0",
       "attribution": "Digital Earth Australia",
       "crs": {
        "custom": false,
        "name": "EPSG3857"
       },
       "format": "image/png",
       "layers": "ga_ls_ard_3",
       "max_native_zoom": 18,
       "min_native_zoom": 0,
       "options": [
        "attribution",
        "detect_retina",
        "format",
        "layers",
        "max_native_zoom",
        "max_zoom",
        "min_native_zoom",
        "min_zoom",
        "no_wrap",
        "styles",
        "tile_size",
        "time",
        "tms",
        "transparent",
        "uppercase"
       ],
       "time": "2021-01-01",
       "transparent": true,
       "url": "https://ows.dea.ga.gov.au/"
      }
     },
     "e114153f09114a0aaded799e6c501f0b": {
      "model_module": "jupyter-leaflet",
      "model_module_version": "^0.13.0",
      "model_name": "LeafletDrawControlModel",
      "state": {
       "_model_module_version": "^0.13.0",
       "_view_module_version": "^0.13.0",
       "options": [
        "position"
       ],
       "polygon": {
        "shapeOptions": {
         "color": "#000000",
         "editing": {
          "color": "#000000",
          "fillColor": "#fca45d",
          "fillOpacity": 0.1
         },
         "fillColor": "#fca45d",
         "fillOpacity": 0.1,
         "original": {
          "color": "#000000",
          "fillColor": "#fca45d",
          "fillOpacity": 0.1
         }
        }
       },
       "polyline": {},
       "rectangle": {
        "metric": [
         "km",
         "m"
        ],
        "shapeOptions": {
         "color": "#000000",
         "fillColor": "#fca45d",
         "fillOpacity": 0.1
        }
       }
      }
     },
     "e13a7949d13c45b8ac75d862aaf05afd": {
      "model_module": "@jupyter-widgets/base",
      "model_module_version": "1.2.0",
      "model_name": "LayoutModel",
      "state": {
       "flex": "1 0 20em",
       "height": "3em",
       "width": "20em"
      }
     },
     "e23a37c65cd644c89f9282ca60154aac": {
      "model_module": "@jupyter-widgets/controls",
      "model_module_version": "1.5.0",
      "model_name": "HTMLModel",
      "state": {
       "layout": "IPY_MODEL_9ae84acd20c44191bd76232fb1dd67f2",
       "style": "IPY_MODEL_d12cb38a711846b2b2b313c2721d2cde",
       "value": "<pre style=\"color:grey\">lat: [90.0000, -90.0000]\nlon: [180.0000, -180.0000]</pre>"
      }
     },
     "e2406f8c5d5041e59f9bc1d76d91c4db": {
      "model_module": "@jupyter-widgets/controls",
      "model_module_version": "1.5.0",
      "model_name": "HTMLModel",
      "state": {
       "layout": "IPY_MODEL_dc2cd4c3803447599e997d72c25d79a9",
       "style": "IPY_MODEL_8de492b0c7d149d38f5d5d7e7a219cc7",
       "value": "<pre style=\"color:grey\">lat: [90.0000, -90.0000]\nlon: [180.0000, -180.0000]</pre>"
      }
     },
     "e2575c16e4a74de1b0f2678a4b7e8b8d": {
      "model_module": "jupyter-leaflet",
      "model_module_version": "^0.13.0",
      "model_name": "LeafletZoomControlModel",
      "state": {
       "_model_module_version": "^0.13.0",
       "_view_module_version": "^0.13.0",
       "options": [
        "position",
        "zoom_in_text",
        "zoom_in_title",
        "zoom_out_text",
        "zoom_out_title"
       ]
      }
     },
     "e3113d51f4144217a09ccb38bf074456": {
      "model_module": "jupyter-leaflet",
      "model_module_version": "^0.13.0",
      "model_name": "LeafletMapStyleModel",
      "state": {
       "_model_module_version": "^0.13.0"
      }
     },
     "e31ef384f5274a3980ddac529e87b1e9": {
      "model_module": "jupyter-leaflet",
      "model_module_version": "^0.13.0",
      "model_name": "LeafletMapStyleModel",
      "state": {
       "_model_module_version": "^0.13.0",
       "cursor": "move"
      }
     },
     "e33928d4844741c1a7eb9eca7c4ba4d2": {
      "model_module": "jupyter-leaflet",
      "model_module_version": "^0.13.0",
      "model_name": "LeafletWMSLayerModel",
      "state": {
       "_model_module_version": "^0.13.0",
       "_view_module_version": "^0.13.0",
       "attribution": "Digital Earth Australia",
       "crs": {
        "custom": false,
        "name": "EPSG3857"
       },
       "format": "image/png",
       "layers": "ga_ls_ard_3",
       "max_native_zoom": 18,
       "min_native_zoom": 0,
       "options": [
        "attribution",
        "detect_retina",
        "format",
        "layers",
        "max_native_zoom",
        "max_zoom",
        "min_native_zoom",
        "min_zoom",
        "no_wrap",
        "styles",
        "tile_size",
        "time",
        "tms",
        "transparent",
        "uppercase"
       ],
       "time": "2021-07-01",
       "transparent": true,
       "url": "https://ows.dea.ga.gov.au/"
      }
     },
     "e36f0e76fc2748fdbc9c082d886f9ff0": {
      "model_module": "jupyter-leaflet",
      "model_module_version": "^0.13.0",
      "model_name": "LeafletFullScreenControlModel",
      "state": {
       "_model_module_version": "^0.13.0",
       "_view_module_version": "^0.13.0",
       "options": [
        "position"
       ]
      }
     },
     "e50050fd4f984471b55b0efd803cef7b": {
      "model_module": "@jupyter-widgets/controls",
      "model_module_version": "1.5.0",
      "model_name": "DescriptionStyleModel",
      "state": {
       "description_width": ""
      }
     },
     "e64a776f67314975acb03c260ea45458": {
      "model_module": "@jupyter-widgets/base",
      "model_module_version": "1.2.0",
      "model_name": "LayoutModel",
      "state": {
       "width": "5em"
      }
     },
     "e7a313aa24f84562b8234ddd2130cb5c": {
      "model_module": "@jupyter-widgets/controls",
      "model_module_version": "1.5.0",
      "model_name": "ButtonModel",
      "state": {
       "description": "done",
       "disabled": true,
       "layout": "IPY_MODEL_54d491f0b89e488da7166fa61bd9a0c7",
       "style": "IPY_MODEL_2f00b3bae1894a06bad51686f94c0a26"
      }
     },
     "e8a638633c074738bcfe040a56f08c76": {
      "model_module": "jupyter-leaflet",
      "model_module_version": "^0.13.0",
      "model_name": "LeafletMapStyleModel",
      "state": {
       "_model_module_version": "^0.13.0"
      }
     },
     "ed013b5243ac4710acf81fa1990c91cb": {
      "model_module": "@jupyter-widgets/base",
      "model_module_version": "1.2.0",
      "model_name": "LayoutModel",
      "state": {
       "width": "5em"
      }
     },
     "ed8ee64685b64c2981286f0051e8c9ac": {
      "model_module": "jupyter-leaflet",
      "model_module_version": "^0.13.0",
      "model_name": "LeafletFullScreenControlModel",
      "state": {
       "_model_module_version": "^0.13.0",
       "_view_module_version": "^0.13.0",
       "options": [
        "position"
       ]
      }
     },
     "edec75cf9a5b4822a836be95662e4674": {
      "model_module": "@jupyter-widgets/controls",
      "model_module_version": "1.5.0",
      "model_name": "ButtonStyleModel",
      "state": {
       "button_color": "green"
      }
     },
     "edfd4b23539740778448952e3c7b7e38": {
      "model_module": "@jupyter-widgets/controls",
      "model_module_version": "1.5.0",
      "model_name": "HTMLModel",
      "state": {
       "layout": "IPY_MODEL_ff13292944f346e5ae3c5509101f40e7",
       "style": "IPY_MODEL_8add83cb8cc0433fb68f681620948847",
       "value": "<pre style=\"color:grey\">lat: [90.0000, -90.0000]\nlon: [180.0000, -180.0000]</pre>"
      }
     },
     "ee0fb0e311b841deb7c1bbd9b8d2c278": {
      "model_module": "@jupyter-widgets/base",
      "model_module_version": "1.2.0",
      "model_name": "LayoutModel",
      "state": {
       "flex": "1 0 20em",
       "height": "3em",
       "width": "20em"
      }
     },
     "ee1ef43050f2468aba81b4ac2f32db64": {
      "model_module": "jupyter-leaflet",
      "model_module_version": "^0.13.0",
      "model_name": "LeafletMapStyleModel",
      "state": {
       "_model_module_version": "^0.13.0"
      }
     },
     "ef0c8eb38bcc4a239efafa5cb904d0ff": {
      "model_module": "jupyter-leaflet",
      "model_module_version": "^0.13.0",
      "model_name": "LeafletDrawControlModel",
      "state": {
       "_model_module_version": "^0.13.0",
       "_view_module_version": "^0.13.0",
       "options": [
        "position"
       ],
       "polygon": {
        "shapeOptions": {
         "color": "#000000",
         "editing": {
          "color": "#000000",
          "fillColor": "#fca45d",
          "fillOpacity": 0.1
         },
         "fillColor": "#fca45d",
         "fillOpacity": 0.1,
         "original": {
          "color": "#000000",
          "fillColor": "#fca45d",
          "fillOpacity": 0.1
         }
        }
       },
       "polyline": {},
       "rectangle": {
        "metric": [
         "km",
         "m"
        ],
        "shapeOptions": {
         "color": "#000000",
         "fillColor": "#fca45d",
         "fillOpacity": 0.1
        }
       }
      }
     },
     "f18b55b211af489b873b9b870e50fb67": {
      "model_module": "jupyter-leaflet",
      "model_module_version": "^0.13.0",
      "model_name": "LeafletWidgetControlModel",
      "state": {
       "_model_module": "jupyter-leaflet",
       "_model_module_version": "^0.13.0",
       "_view_count": null,
       "_view_module": "jupyter-leaflet",
       "_view_module_version": "^0.13.0",
       "options": [
        "position"
       ],
       "position": "bottomleft",
       "widget": "IPY_MODEL_81dc8039fe35415ca78ceb9fd8745f15"
      }
     },
     "f1c0c3f5902f4b55a42cb115c595ad37": {
      "model_module": "@jupyter-widgets/controls",
      "model_module_version": "1.5.0",
      "model_name": "ButtonStyleModel",
      "state": {
       "button_color": "green"
      }
     },
     "f24090ecba5d4565b8064fa352af1e91": {
      "model_module": "@jupyter-widgets/controls",
      "model_module_version": "1.5.0",
      "model_name": "HTMLModel",
      "state": {
       "layout": "IPY_MODEL_ee0fb0e311b841deb7c1bbd9b8d2c278",
       "style": "IPY_MODEL_a674981c8b7041df9d2d94701545e63e",
       "value": "<pre style=\"color:grey\">lat: [-22.6901, -19.6167]\nlon: [113.7634, 117.6965]</pre>"
      }
     },
     "f28d22251b904743a1c0adb2c1ec6c3c": {
      "model_module": "jupyter-leaflet",
      "model_module_version": "^0.13.0",
      "model_name": "LeafletDrawControlModel",
      "state": {
       "_model_module_version": "^0.13.0",
       "_view_module_version": "^0.13.0",
       "options": [
        "position"
       ],
       "polygon": {
        "shapeOptions": {
         "color": "#000000",
         "editing": {
          "color": "#000000",
          "fillColor": "#fca45d",
          "fillOpacity": 0.1
         },
         "fillColor": "#fca45d",
         "fillOpacity": 0.1,
         "original": {
          "color": "#000000",
          "fillColor": "#fca45d",
          "fillOpacity": 0.1
         }
        }
       },
       "polyline": {},
       "rectangle": {
        "metric": [
         "km",
         "m"
        ],
        "shapeOptions": {
         "color": "#000000",
         "fillColor": "#fca45d",
         "fillOpacity": 0.1
        }
       }
      }
     },
     "f315b01eade447d386541787e0132f3b": {
      "model_module": "jupyter-leaflet",
      "model_module_version": "^0.13.0",
      "model_name": "LeafletAttributionControlModel",
      "state": {
       "_model_module_version": "^0.13.0",
       "_view_module_version": "^0.13.0",
       "options": [
        "position",
        "prefix"
       ],
       "position": "bottomright",
       "prefix": "Leaflet"
      }
     },
     "f3416739efd54b4596d681ca1cab5246": {
      "model_module": "@jupyter-widgets/base",
      "model_module_version": "1.2.0",
      "model_name": "LayoutModel",
      "state": {
       "flex": "1 0 20em",
       "height": "3em",
       "width": "20em"
      }
     },
     "f37ca7c44d334de2a3706d1ca6153295": {
      "model_module": "jupyter-leaflet",
      "model_module_version": "^0.13.0",
      "model_name": "LeafletWidgetControlModel",
      "state": {
       "_model_module": "jupyter-leaflet",
       "_model_module_version": "^0.13.0",
       "_view_count": null,
       "_view_module": "jupyter-leaflet",
       "_view_module_version": "^0.13.0",
       "options": [
        "position"
       ],
       "position": "bottomleft",
       "widget": "IPY_MODEL_500bb2ddf5d34f9cbe24a2e4228fa65a"
      }
     },
     "f38e5854f30b46f283a7b93e07b5d34d": {
      "model_module": "jupyter-leaflet",
      "model_module_version": "^0.13.0",
      "model_name": "LeafletWidgetControlModel",
      "state": {
       "_model_module": "jupyter-leaflet",
       "_model_module_version": "^0.13.0",
       "_view_count": null,
       "_view_module": "jupyter-leaflet",
       "_view_module_version": "^0.13.0",
       "options": [
        "position"
       ],
       "position": "topright",
       "widget": "IPY_MODEL_add8ac586b5544778db33d8152a3edbf"
      }
     },
     "f3f57d826c644bb1b03de60cf23567f1": {
      "model_module": "@jupyter-widgets/base",
      "model_module_version": "1.2.0",
      "model_name": "LayoutModel",
      "state": {
       "height": "600px"
      }
     },
     "f54a45900002452da0d3556080e7e219": {
      "model_module": "jupyter-leaflet",
      "model_module_version": "^0.13.0",
      "model_name": "LeafletMapStyleModel",
      "state": {
       "_model_module_version": "^0.13.0"
      }
     },
     "f5b14088d5ea4d688c56c9b9150addf5": {
      "model_module": "@jupyter-widgets/controls",
      "model_module_version": "1.5.0",
      "model_name": "DescriptionStyleModel",
      "state": {
       "description_width": ""
      }
     },
     "f5ff78a245864ecbac9357a73e48f18a": {
      "model_module": "@jupyter-widgets/base",
      "model_module_version": "1.2.0",
      "model_name": "LayoutModel",
      "state": {
       "flex": "1 0 20em",
       "height": "3em",
       "width": "20em"
      }
     },
     "f6af81a5b04141ff97854a2f39ed0359": {
      "model_module": "jupyter-leaflet",
      "model_module_version": "^0.13.0",
      "model_name": "LeafletTileLayerModel",
      "state": {
       "_model_module_version": "^0.13.0",
       "_view_module_version": "^0.13.0",
       "max_native_zoom": 18,
       "max_zoom": 19,
       "min_native_zoom": 0,
       "min_zoom": 1,
       "name": "OpenStreetMap.Mapnik",
       "options": [
        "attribution",
        "detect_retina",
        "max_native_zoom",
        "max_zoom",
        "min_native_zoom",
        "min_zoom",
        "no_wrap",
        "tile_size",
        "tms"
       ]
      }
     },
     "f6e3cbab50834ee4b21b7d47d35524a1": {
      "model_module": "jupyter-leaflet",
      "model_module_version": "^0.13.0",
      "model_name": "LeafletFullScreenControlModel",
      "state": {
       "_model_module_version": "^0.13.0",
       "_view_module_version": "^0.13.0",
       "options": [
        "position"
       ]
      }
     },
     "f75c2d8d8b384ae2b80f147fb25f0cf8": {
      "model_module": "jupyter-leaflet",
      "model_module_version": "^0.13.0",
      "model_name": "LeafletMapStyleModel",
      "state": {
       "_model_module_version": "^0.13.0"
      }
     },
     "f80087ecd564406291c8621c80680088": {
      "model_module": "jupyter-leaflet",
      "model_module_version": "^0.13.0",
      "model_name": "LeafletAttributionControlModel",
      "state": {
       "_model_module_version": "^0.13.0",
       "_view_module_version": "^0.13.0",
       "options": [
        "position",
        "prefix"
       ],
       "position": "bottomright",
       "prefix": "Leaflet"
      }
     },
     "f8405cb7171e4bb08467ba45f65c38ff": {
      "model_module": "jupyter-leaflet",
      "model_module_version": "^0.13.0",
      "model_name": "LeafletMapStyleModel",
      "state": {
       "_model_module_version": "^0.13.0"
      }
     },
     "f864746215bd43afa64aeb20d1bee352": {
      "model_module": "@jupyter-widgets/base",
      "model_module_version": "1.2.0",
      "model_name": "LayoutModel",
      "state": {
       "height": "600px"
      }
     },
     "f866d505401e4d89a83733c609457323": {
      "model_module": "@jupyter-widgets/base",
      "model_module_version": "1.2.0",
      "model_name": "LayoutModel",
      "state": {
       "height": "600px"
      }
     },
     "f9be4c3eaa064bd7b784046739c72a63": {
      "model_module": "jupyter-leaflet",
      "model_module_version": "^0.13.0",
      "model_name": "LeafletMapStyleModel",
      "state": {
       "_model_module_version": "^0.13.0"
      }
     },
     "f9c163e9361c4a618e07a0988125bc95": {
      "model_module": "jupyter-leaflet",
      "model_module_version": "^0.13.0",
      "model_name": "LeafletZoomControlModel",
      "state": {
       "_model_module_version": "^0.13.0",
       "_view_module_version": "^0.13.0",
       "options": [
        "position",
        "zoom_in_text",
        "zoom_in_title",
        "zoom_out_text",
        "zoom_out_title"
       ]
      }
     },
     "fa572d21c4ba4bc4a33d684e83242f11": {
      "model_module": "jupyter-leaflet",
      "model_module_version": "^0.13.0",
      "model_name": "LeafletTileLayerModel",
      "state": {
       "_model_module_version": "^0.13.0",
       "_view_module_version": "^0.13.0",
       "max_native_zoom": 18,
       "max_zoom": 19,
       "min_native_zoom": 0,
       "min_zoom": 1,
       "name": "OpenStreetMap.Mapnik",
       "options": [
        "attribution",
        "detect_retina",
        "max_native_zoom",
        "max_zoom",
        "min_native_zoom",
        "min_zoom",
        "no_wrap",
        "tile_size",
        "tms"
       ]
      }
     },
     "fab24853d53944f49702c4291a469462": {
      "model_module": "jupyter-leaflet",
      "model_module_version": "^0.13.0",
      "model_name": "LeafletZoomControlModel",
      "state": {
       "_model_module_version": "^0.13.0",
       "_view_module_version": "^0.13.0",
       "options": [
        "position",
        "zoom_in_text",
        "zoom_in_title",
        "zoom_out_text",
        "zoom_out_title"
       ]
      }
     },
     "fba5f3a7c4334f12a6cdae0f1fdce1d8": {
      "model_module": "jupyter-leaflet",
      "model_module_version": "^0.13.0",
      "model_name": "LeafletFullScreenControlModel",
      "state": {
       "_model_module_version": "^0.13.0",
       "_view_module_version": "^0.13.0",
       "options": [
        "position"
       ]
      }
     },
     "fc12bbd7652c4c9c81c41b664bea63b8": {
      "model_module": "jupyter-leaflet",
      "model_module_version": "^0.13.0",
      "model_name": "LeafletTileLayerModel",
      "state": {
       "_model_module_version": "^0.13.0",
       "_view_module_version": "^0.13.0",
       "max_native_zoom": 18,
       "max_zoom": 19,
       "min_native_zoom": 0,
       "min_zoom": 1,
       "name": "OpenStreetMap.Mapnik",
       "options": [
        "attribution",
        "detect_retina",
        "max_native_zoom",
        "max_zoom",
        "min_native_zoom",
        "min_zoom",
        "no_wrap",
        "tile_size",
        "tms"
       ]
      }
     },
     "fc62d31c23554d679e51bc2cbb76b2b5": {
      "model_module": "jupyter-leaflet",
      "model_module_version": "^0.13.0",
      "model_name": "LeafletMapModel",
      "state": {
       "_model_module_version": "^0.13.0",
       "_view_module_version": "^0.13.0",
       "center": [
        -38.73266112048232,
        149.09820556640628
       ],
       "controls": [
        "IPY_MODEL_d6a4c84c88ad455694bb3cb4497e5db7",
        "IPY_MODEL_926e33c009e649fdab49d26f19ade82c",
        "IPY_MODEL_0505a3436f724825ab994bf43b039ab3"
       ],
       "default_style": "IPY_MODEL_09eb5c6123a24db9902ee91b77e248c7",
       "dragging_style": "IPY_MODEL_aaf0fa470d4d4b899eb23055896dab61",
       "east": 150.62255859375003,
       "fullscreen": false,
       "interpolation": "bilinear",
       "layers": [
        "IPY_MODEL_873ee949bb0f48cd830237112af4ef9a",
        "IPY_MODEL_09348c274cdd4d3da0cd493446cc198d"
       ],
       "layout": "IPY_MODEL_09ad651a5f134ef79b05c5cd5a09e2cd",
       "modisdate": "yesterday",
       "north": -37.4356124041315,
       "options": [
        "bounce_at_zoom_limits",
        "box_zoom",
        "center",
        "close_popup_on_click",
        "double_click_zoom",
        "dragging",
        "fullscreen",
        "inertia",
        "inertia_deceleration",
        "inertia_max_speed",
        "interpolation",
        "keyboard",
        "keyboard_pan_offset",
        "keyboard_zoom_offset",
        "max_zoom",
        "min_zoom",
        "scroll_wheel_zoom",
        "tap",
        "tap_tolerance",
        "touch_zoom",
        "world_copy_jump",
        "zoom",
        "zoom_animation_threshold",
        "zoom_start"
       ],
       "scroll_wheel_zoom": true,
       "south": -40.00657966783862,
       "style": "IPY_MODEL_09eb5c6123a24db9902ee91b77e248c7",
       "west": 147.57385253906253,
       "window_url": "https://app.sandbox.dea.ga.gov.au/user/robbibt/lab?#Analysis-parameters",
       "zoom": 8
      }
     },
     "fcadd98b5fed4180a0bb151f7412ca1a": {
      "model_module": "jupyter-leaflet",
      "model_module_version": "^0.13.0",
      "model_name": "LeafletDrawControlModel",
      "state": {
       "_model_module_version": "^0.13.0",
       "_view_module_version": "^0.13.0",
       "options": [
        "position"
       ],
       "polygon": {
        "shapeOptions": {
         "color": "#000000",
         "editing": {
          "color": "#000000",
          "fillColor": "#fca45d",
          "fillOpacity": 0.1
         },
         "fillColor": "#fca45d",
         "fillOpacity": 0.1,
         "original": {
          "color": "#000000",
          "fillColor": "#fca45d",
          "fillOpacity": 0.1
         }
        }
       },
       "polyline": {},
       "rectangle": {
        "metric": [
         "km",
         "m"
        ],
        "shapeOptions": {
         "color": "#000000",
         "fillColor": "#fca45d",
         "fillOpacity": 0.1
        }
       }
      }
     },
     "fd3b1e3800de461db800f2c4c2d3bd31": {
      "model_module": "@jupyter-widgets/base",
      "model_module_version": "1.2.0",
      "model_name": "LayoutModel",
      "state": {
       "flex": "1 0 20em",
       "height": "3em",
       "width": "20em"
      }
     },
     "fd5e7d16b95e4167b1fd0e956b55ce13": {
      "model_module": "jupyter-leaflet",
      "model_module_version": "^0.13.0",
      "model_name": "LeafletWidgetControlModel",
      "state": {
       "_model_module": "jupyter-leaflet",
       "_model_module_version": "^0.13.0",
       "_view_count": null,
       "_view_module": "jupyter-leaflet",
       "_view_module_version": "^0.13.0",
       "options": [
        "position"
       ],
       "position": "topright",
       "widget": "IPY_MODEL_62b3ade57ead4125a7e5a0b715ea42c0"
      }
     },
     "fe744727d2bc4b19acd6e8d69bc1e656": {
      "model_module": "jupyter-leaflet",
      "model_module_version": "^0.13.0",
      "model_name": "LeafletWidgetControlModel",
      "state": {
       "_model_module": "jupyter-leaflet",
       "_model_module_version": "^0.13.0",
       "_view_count": null,
       "_view_module": "jupyter-leaflet",
       "_view_module_version": "^0.13.0",
       "options": [
        "position"
       ],
       "position": "topright",
       "widget": "IPY_MODEL_e7a313aa24f84562b8234ddd2130cb5c"
      }
     },
     "fe7ddac83ede43d7bff652c00c21977f": {
      "model_module": "jupyter-leaflet",
      "model_module_version": "^0.13.0",
      "model_name": "LeafletWidgetControlModel",
      "state": {
       "_model_module": "jupyter-leaflet",
       "_model_module_version": "^0.13.0",
       "_view_count": null,
       "_view_module": "jupyter-leaflet",
       "_view_module_version": "^0.13.0",
       "options": [
        "position"
       ],
       "position": "bottomleft",
       "widget": "IPY_MODEL_63b1a0f97c2c49f2b9b74bd9ac95a13f"
      }
     },
     "fe97347a4c6344dc87aa02999e8b0781": {
      "model_module": "jupyter-leaflet",
      "model_module_version": "^0.13.0",
      "model_name": "LeafletWidgetControlModel",
      "state": {
       "_model_module": "jupyter-leaflet",
       "_model_module_version": "^0.13.0",
       "_view_count": null,
       "_view_module": "jupyter-leaflet",
       "_view_module_version": "^0.13.0",
       "options": [
        "position"
       ],
       "position": "topright",
       "widget": "IPY_MODEL_51a1a5eaba1341598a28c2a4fcd29164"
      }
     },
     "fe9d931728ab416aa170f027626701b5": {
      "model_module": "jupyter-leaflet",
      "model_module_version": "^0.13.0",
      "model_name": "LeafletMapStyleModel",
      "state": {
       "_model_module_version": "^0.13.0"
      }
     },
     "fe9eb1434a124a5f918fb8ff71acd891": {
      "model_module": "@jupyter-widgets/base",
      "model_module_version": "1.2.0",
      "model_name": "LayoutModel",
      "state": {
       "width": "5em"
      }
     },
     "ff13292944f346e5ae3c5509101f40e7": {
      "model_module": "@jupyter-widgets/base",
      "model_module_version": "1.2.0",
      "model_name": "LayoutModel",
      "state": {
       "flex": "1 0 20em",
       "height": "3em",
       "width": "20em"
      }
     }
    },
    "version_major": 2,
    "version_minor": 0
   }
  }
 },
 "nbformat": 4,
 "nbformat_minor": 4
}
