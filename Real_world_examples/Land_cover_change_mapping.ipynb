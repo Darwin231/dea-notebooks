{
 "cells": [
  {
   "cell_type": "markdown",
   "metadata": {},
   "source": [
    "### General advice (delete this cell before submitting for review)\n",
    "\n",
    "> * Remove the \"**Sign up to the DEA Sandbox** to run this notebook interactively from a browser\" header text if the notebook is not DEA Sandbox-compatible or if it is not synced to the DEA Sandbox (e.g. `Scientific_workflows` notebooks)\n",
    "> * Update the **Compatibility** line depending on whether the notebook is compatible with the `NCI` and `DEA Sandbox` environments (e.g. \"Notebook currently compatible with the `DEA Sandbox` environment only\" or \"Notebook currently compatible with the `NCI` environment only\")\n",
    "> * When adding **Products used**, embed the hyperlink to that specific product on the DEA Explorer using the `[product_name](product url)` syntax.\n",
    "> * When writing in Markdown cells, start each sentence on a **new line**.\n",
    "This makes it easy to see changes through git commits.\n",
    "> * Use Australian English in markdown cells and code comments.\n",
    "> * Check the [known issues](https://github.com/GeoscienceAustralia/dea-docs/wiki/Known-issues) for formatting regarding the conversion of notebooks to DEA docs using Sphinx.\n",
    "Things to be aware of:\n",
    "    * Sphinx is highly sensitive to bulleted lists:\n",
    "        * Ensure that there is an empty line between any preceding text and the list\n",
    "        * Only use the `*` bullet (`-` is not recognised)\n",
    "        * Sublists must be indented by 4 spaces\n",
    "    * Two kinds of formatting cannot be used simultaneously:\n",
    "        * Hyperlinked code: \\[\\`code_format\\`](hyperlink) fails\n",
    "        * Bolded code: \\*\\*\\`code_format\\`\\*\\* fails\n",
    "    * Headers must appear in heirachical order (`#`, `##`, `###`, `####`) and there can only be one title (`#`).\n",
    "> * Use the [PEP8 standard](https://www.python.org/dev/peps/pep-0008/) for code. To make sure all code in the notebook is consistent, you can use the `jupyterlab_code_formatter` tool: select each code cell, then click `Edit` and then one of the `Apply X Formatter` options (`YAPF` or `Black` are recommended). This will reformat the code in the cell to a consistent style.\n",
    "> * For additional guidance, refer to the style conventions and layouts in approved `develop` branch notebooks. \n",
    "Examples include\n",
    "    * [Frequently_used_code/Using_load_ard.ipynb](./Frequently_used_code/Using_load_ard.ipynb)\n",
    "    * [Real_world_examples/Coastal_erosion.ipynb](./Real_world_examples/Coastal_erosion.ipynb)\n",
    "    * [Scripts/dea_datahandling.py](./Scripts/dea_datahandling.py)\n",
    "> * In the final notebook cell, include a set of relevant tags which are used to build the DEA User Guide's [Tag Index](https://docs.dea.ga.gov.au/genindex.html). \n",
    "Use all lower-case (unless the tag is an acronym), separate words with spaces (unless it is the name of an imported module), and [re-use existing tags](https://github.com/GeoscienceAustralia/dea-notebooks/wiki/List-of-tags).\n",
    "Ensure the tags cell below is in `Raw` format, rather than `Markdown` or `Code`.\n"
   ]
  },
  {
   "cell_type": "markdown",
   "metadata": {},
   "source": [
    "# Introduction to DEA Land Cover <img align=\"right\" src=\"../Supplementary_data/dea_logo.jpg\">\n",
    "\n",
    "* [**Sign up to the DEA Sandbox**](https://docs.dea.ga.gov.au/setup/sandbox.html) to run this notebook interactively from a browser\n",
    "* **Compatibility:** Notebook currently compatible with both the `NCI` and `DEA Sandbox` environments\n",
    "* **Products used:** \n",
    "[ga_ls_landcover_class_cyear_2](https://explorer.sandbox.dea.ga.gov.au/ga_ls_landcover_class_cyear_2)\n"
   ]
  },
  {
   "cell_type": "markdown",
   "metadata": {},
   "source": [
    "## Background\n",
    "An *optional* overview of the scientific, economic or environmental management issue or challenge being addressed by Digital Earth Australia. \n",
    "For `Beginners_Guide` or `Frequently_Used_Code` notebooks, this may include information about why the particular technique or approach is useful or required. \n",
    "If you need to cite a scientific paper or link to a website, use a persistent DOI link if possible and link in-text (e.g. [Dhu et al. 2017](https://doi.org/10.1080/20964471.2017.1402490))."
   ]
  },
  {
   "cell_type": "markdown",
   "metadata": {},
   "source": [
    "## Applications\n"
   ]
  },
  {
   "cell_type": "markdown",
   "metadata": {},
   "source": [
    "## Description"
   ]
  },
  {
   "cell_type": "markdown",
   "metadata": {},
   "source": [
    "## Getting started"
   ]
  },
  {
   "cell_type": "markdown",
   "metadata": {},
   "source": [
    "### Load packages\n",
    "Import Python packages that are used for the analysis.\n"
   ]
  },
  {
   "cell_type": "code",
   "execution_count": 1,
   "metadata": {},
   "outputs": [],
   "source": [
    "%matplotlib inline\n",
    "\n",
    "import datacube\n",
    "import matplotlib.pyplot as plt\n",
    "import numpy as np\n",
    "import pandas as pd\n",
    "import xarray as xr\n",
    "\n",
    "import sys\n",
    "sys.path.insert(1, '../Tools/')\n",
    "from dea_tools.plotting import rgb\n",
    "from matplotlib import colors as mcolours\n"
   ]
  },
  {
   "cell_type": "markdown",
   "metadata": {},
   "source": [
    "### Connect to the datacube\n",
    "\n",
    "Connect to the datacube so we can access DEA data."
   ]
  },
  {
   "cell_type": "code",
   "execution_count": 2,
   "metadata": {},
   "outputs": [],
   "source": [
    "dc = datacube.Datacube(app='DEA_Land_Cover')"
   ]
  },
  {
   "cell_type": "code",
   "execution_count": 3,
   "metadata": {},
   "outputs": [
    {
     "data": {
      "text/html": [
       "<div>\n",
       "<style scoped>\n",
       "    .dataframe tbody tr th:only-of-type {\n",
       "        vertical-align: middle;\n",
       "    }\n",
       "\n",
       "    .dataframe tbody tr th {\n",
       "        vertical-align: top;\n",
       "    }\n",
       "\n",
       "    .dataframe thead th {\n",
       "        text-align: right;\n",
       "    }\n",
       "</style>\n",
       "<table border=\"1\" class=\"dataframe\">\n",
       "  <thead>\n",
       "    <tr style=\"text-align: right;\">\n",
       "      <th></th>\n",
       "      <th></th>\n",
       "      <th>name</th>\n",
       "      <th>dtype</th>\n",
       "      <th>units</th>\n",
       "      <th>nodata</th>\n",
       "      <th>aliases</th>\n",
       "      <th>flags_definition</th>\n",
       "      <th>spectral_definition</th>\n",
       "    </tr>\n",
       "    <tr>\n",
       "      <th>product</th>\n",
       "      <th>measurement</th>\n",
       "      <th></th>\n",
       "      <th></th>\n",
       "      <th></th>\n",
       "      <th></th>\n",
       "      <th></th>\n",
       "      <th></th>\n",
       "      <th></th>\n",
       "    </tr>\n",
       "  </thead>\n",
       "  <tbody>\n",
       "    <tr>\n",
       "      <th rowspan=\"9\" valign=\"top\">ga_ls_landcover_class_cyear_2</th>\n",
       "      <th>level3</th>\n",
       "      <td>level3</td>\n",
       "      <td>uint8</td>\n",
       "      <td>1</td>\n",
       "      <td>0</td>\n",
       "      <td>NaN</td>\n",
       "      <td>NaN</td>\n",
       "      <td>NaN</td>\n",
       "    </tr>\n",
       "    <tr>\n",
       "      <th>lifeform_veg_cat_l4a</th>\n",
       "      <td>lifeform_veg_cat_l4a</td>\n",
       "      <td>int8</td>\n",
       "      <td>1</td>\n",
       "      <td>0</td>\n",
       "      <td>[lifeform]</td>\n",
       "      <td>NaN</td>\n",
       "      <td>NaN</td>\n",
       "    </tr>\n",
       "    <tr>\n",
       "      <th>canopyco_veg_cat_l4d</th>\n",
       "      <td>canopyco_veg_cat_l4d</td>\n",
       "      <td>int8</td>\n",
       "      <td>1</td>\n",
       "      <td>0</td>\n",
       "      <td>[vegetation_cover]</td>\n",
       "      <td>NaN</td>\n",
       "      <td>NaN</td>\n",
       "    </tr>\n",
       "    <tr>\n",
       "      <th>watersea_veg_cat_l4a_au</th>\n",
       "      <td>watersea_veg_cat_l4a_au</td>\n",
       "      <td>int8</td>\n",
       "      <td>1</td>\n",
       "      <td>0</td>\n",
       "      <td>[water_seasonality]</td>\n",
       "      <td>NaN</td>\n",
       "      <td>NaN</td>\n",
       "    </tr>\n",
       "    <tr>\n",
       "      <th>waterstt_wat_cat_l4a</th>\n",
       "      <td>waterstt_wat_cat_l4a</td>\n",
       "      <td>int8</td>\n",
       "      <td>1</td>\n",
       "      <td>0</td>\n",
       "      <td>[water_state]</td>\n",
       "      <td>NaN</td>\n",
       "      <td>NaN</td>\n",
       "    </tr>\n",
       "    <tr>\n",
       "      <th>inttidal_wat_cat_l4a</th>\n",
       "      <td>inttidal_wat_cat_l4a</td>\n",
       "      <td>int8</td>\n",
       "      <td>1</td>\n",
       "      <td>0</td>\n",
       "      <td>[intertidal]</td>\n",
       "      <td>NaN</td>\n",
       "      <td>NaN</td>\n",
       "    </tr>\n",
       "    <tr>\n",
       "      <th>waterper_wat_cat_l4d_au</th>\n",
       "      <td>waterper_wat_cat_l4d_au</td>\n",
       "      <td>int8</td>\n",
       "      <td>1</td>\n",
       "      <td>0</td>\n",
       "      <td>[water_persistence]</td>\n",
       "      <td>NaN</td>\n",
       "      <td>NaN</td>\n",
       "    </tr>\n",
       "    <tr>\n",
       "      <th>baregrad_phy_cat_l4d_au</th>\n",
       "      <td>baregrad_phy_cat_l4d_au</td>\n",
       "      <td>int8</td>\n",
       "      <td>1</td>\n",
       "      <td>0</td>\n",
       "      <td>[bare_gradation]</td>\n",
       "      <td>NaN</td>\n",
       "      <td>NaN</td>\n",
       "    </tr>\n",
       "    <tr>\n",
       "      <th>level4</th>\n",
       "      <td>level4</td>\n",
       "      <td>int8</td>\n",
       "      <td>1</td>\n",
       "      <td>0</td>\n",
       "      <td>[full_classification]</td>\n",
       "      <td>NaN</td>\n",
       "      <td>NaN</td>\n",
       "    </tr>\n",
       "  </tbody>\n",
       "</table>\n",
       "</div>"
      ],
      "text/plain": [
       "                                                                          name  \\\n",
       "product                       measurement                                        \n",
       "ga_ls_landcover_class_cyear_2 level3                                    level3   \n",
       "                              lifeform_veg_cat_l4a        lifeform_veg_cat_l4a   \n",
       "                              canopyco_veg_cat_l4d        canopyco_veg_cat_l4d   \n",
       "                              watersea_veg_cat_l4a_au  watersea_veg_cat_l4a_au   \n",
       "                              waterstt_wat_cat_l4a        waterstt_wat_cat_l4a   \n",
       "                              inttidal_wat_cat_l4a        inttidal_wat_cat_l4a   \n",
       "                              waterper_wat_cat_l4d_au  waterper_wat_cat_l4d_au   \n",
       "                              baregrad_phy_cat_l4d_au  baregrad_phy_cat_l4d_au   \n",
       "                              level4                                    level4   \n",
       "\n",
       "                                                       dtype units nodata  \\\n",
       "product                       measurement                                   \n",
       "ga_ls_landcover_class_cyear_2 level3                   uint8     1      0   \n",
       "                              lifeform_veg_cat_l4a      int8     1      0   \n",
       "                              canopyco_veg_cat_l4d      int8     1      0   \n",
       "                              watersea_veg_cat_l4a_au   int8     1      0   \n",
       "                              waterstt_wat_cat_l4a      int8     1      0   \n",
       "                              inttidal_wat_cat_l4a      int8     1      0   \n",
       "                              waterper_wat_cat_l4d_au   int8     1      0   \n",
       "                              baregrad_phy_cat_l4d_au   int8     1      0   \n",
       "                              level4                    int8     1      0   \n",
       "\n",
       "                                                                     aliases  \\\n",
       "product                       measurement                                      \n",
       "ga_ls_landcover_class_cyear_2 level3                                     NaN   \n",
       "                              lifeform_veg_cat_l4a                [lifeform]   \n",
       "                              canopyco_veg_cat_l4d        [vegetation_cover]   \n",
       "                              watersea_veg_cat_l4a_au    [water_seasonality]   \n",
       "                              waterstt_wat_cat_l4a             [water_state]   \n",
       "                              inttidal_wat_cat_l4a              [intertidal]   \n",
       "                              waterper_wat_cat_l4d_au    [water_persistence]   \n",
       "                              baregrad_phy_cat_l4d_au       [bare_gradation]   \n",
       "                              level4                   [full_classification]   \n",
       "\n",
       "                                                      flags_definition  \\\n",
       "product                       measurement                                \n",
       "ga_ls_landcover_class_cyear_2 level3                               NaN   \n",
       "                              lifeform_veg_cat_l4a                 NaN   \n",
       "                              canopyco_veg_cat_l4d                 NaN   \n",
       "                              watersea_veg_cat_l4a_au              NaN   \n",
       "                              waterstt_wat_cat_l4a                 NaN   \n",
       "                              inttidal_wat_cat_l4a                 NaN   \n",
       "                              waterper_wat_cat_l4d_au              NaN   \n",
       "                              baregrad_phy_cat_l4d_au              NaN   \n",
       "                              level4                               NaN   \n",
       "\n",
       "                                                      spectral_definition  \n",
       "product                       measurement                                  \n",
       "ga_ls_landcover_class_cyear_2 level3                                  NaN  \n",
       "                              lifeform_veg_cat_l4a                    NaN  \n",
       "                              canopyco_veg_cat_l4d                    NaN  \n",
       "                              watersea_veg_cat_l4a_au                 NaN  \n",
       "                              waterstt_wat_cat_l4a                    NaN  \n",
       "                              inttidal_wat_cat_l4a                    NaN  \n",
       "                              waterper_wat_cat_l4d_au                 NaN  \n",
       "                              baregrad_phy_cat_l4d_au                 NaN  \n",
       "                              level4                                  NaN  "
      ]
     },
     "execution_count": 3,
     "metadata": {},
     "output_type": "execute_result"
    }
   ],
   "source": [
    "dc.list_measurements().loc[['ga_ls_landcover_class_cyear_2']]"
   ]
  },
  {
   "cell_type": "markdown",
   "metadata": {
    "tags": []
   },
   "source": [
    "## Loading data"
   ]
  },
  {
   "cell_type": "code",
   "execution_count": 108,
   "metadata": {},
   "outputs": [],
   "source": [
    "# Set up a region to load data\n",
    "\n",
    "# port lincoln\n",
    "x = (-122500, -117500)\n",
    "y = (-1325000, -1320000)\n",
    "\n",
    "query = {\n",
    "    'y': y,\n",
    "    'x': x,\n",
    "    'time': ('2011', '2013'),\n",
    "}\n",
    "\n",
    "# Load DEA Land Cover data from the datacube\n",
    "lc = dc.load(product='ga_ls_landcover_class_cyear_2',\n",
    "             crs = \"EPSG:3577\",\n",
    "             output_crs='EPSG:3577',\n",
    "             measurements=['level3', 'lifeform_veg_cat_l4a', 'canopyco_veg_cat_l4d'],\n",
    "             resolution=(25, -25),\n",
    "             **query)"
   ]
  },
  {
   "cell_type": "markdown",
   "metadata": {},
   "source": [
    "We can now view the data that we loaded.\n",
    "The measurements listed under `Data variables` should match the measurements listed in the query above. "
   ]
  },
  {
   "cell_type": "code",
   "execution_count": 109,
   "metadata": {},
   "outputs": [
    {
     "data": {
      "text/html": [
       "<div><svg style=\"position: absolute; width: 0; height: 0; overflow: hidden\">\n",
       "<defs>\n",
       "<symbol id=\"icon-database\" viewBox=\"0 0 32 32\">\n",
       "<path d=\"M16 0c-8.837 0-16 2.239-16 5v4c0 2.761 7.163 5 16 5s16-2.239 16-5v-4c0-2.761-7.163-5-16-5z\"></path>\n",
       "<path d=\"M16 17c-8.837 0-16-2.239-16-5v6c0 2.761 7.163 5 16 5s16-2.239 16-5v-6c0 2.761-7.163 5-16 5z\"></path>\n",
       "<path d=\"M16 26c-8.837 0-16-2.239-16-5v6c0 2.761 7.163 5 16 5s16-2.239 16-5v-6c0 2.761-7.163 5-16 5z\"></path>\n",
       "</symbol>\n",
       "<symbol id=\"icon-file-text2\" viewBox=\"0 0 32 32\">\n",
       "<path d=\"M28.681 7.159c-0.694-0.947-1.662-2.053-2.724-3.116s-2.169-2.030-3.116-2.724c-1.612-1.182-2.393-1.319-2.841-1.319h-15.5c-1.378 0-2.5 1.121-2.5 2.5v27c0 1.378 1.122 2.5 2.5 2.5h23c1.378 0 2.5-1.122 2.5-2.5v-19.5c0-0.448-0.137-1.23-1.319-2.841zM24.543 5.457c0.959 0.959 1.712 1.825 2.268 2.543h-4.811v-4.811c0.718 0.556 1.584 1.309 2.543 2.268zM28 29.5c0 0.271-0.229 0.5-0.5 0.5h-23c-0.271 0-0.5-0.229-0.5-0.5v-27c0-0.271 0.229-0.5 0.5-0.5 0 0 15.499-0 15.5 0v7c0 0.552 0.448 1 1 1h7v19.5z\"></path>\n",
       "<path d=\"M23 26h-14c-0.552 0-1-0.448-1-1s0.448-1 1-1h14c0.552 0 1 0.448 1 1s-0.448 1-1 1z\"></path>\n",
       "<path d=\"M23 22h-14c-0.552 0-1-0.448-1-1s0.448-1 1-1h14c0.552 0 1 0.448 1 1s-0.448 1-1 1z\"></path>\n",
       "<path d=\"M23 18h-14c-0.552 0-1-0.448-1-1s0.448-1 1-1h14c0.552 0 1 0.448 1 1s-0.448 1-1 1z\"></path>\n",
       "</symbol>\n",
       "</defs>\n",
       "</svg>\n",
       "<style>/* CSS stylesheet for displaying xarray objects in jupyterlab.\n",
       " *\n",
       " */\n",
       "\n",
       ":root {\n",
       "  --xr-font-color0: var(--jp-content-font-color0, rgba(0, 0, 0, 1));\n",
       "  --xr-font-color2: var(--jp-content-font-color2, rgba(0, 0, 0, 0.54));\n",
       "  --xr-font-color3: var(--jp-content-font-color3, rgba(0, 0, 0, 0.38));\n",
       "  --xr-border-color: var(--jp-border-color2, #e0e0e0);\n",
       "  --xr-disabled-color: var(--jp-layout-color3, #bdbdbd);\n",
       "  --xr-background-color: var(--jp-layout-color0, white);\n",
       "  --xr-background-color-row-even: var(--jp-layout-color1, white);\n",
       "  --xr-background-color-row-odd: var(--jp-layout-color2, #eeeeee);\n",
       "}\n",
       "\n",
       "html[theme=dark],\n",
       "body.vscode-dark {\n",
       "  --xr-font-color0: rgba(255, 255, 255, 1);\n",
       "  --xr-font-color2: rgba(255, 255, 255, 0.54);\n",
       "  --xr-font-color3: rgba(255, 255, 255, 0.38);\n",
       "  --xr-border-color: #1F1F1F;\n",
       "  --xr-disabled-color: #515151;\n",
       "  --xr-background-color: #111111;\n",
       "  --xr-background-color-row-even: #111111;\n",
       "  --xr-background-color-row-odd: #313131;\n",
       "}\n",
       "\n",
       ".xr-wrap {\n",
       "  display: block;\n",
       "  min-width: 300px;\n",
       "  max-width: 700px;\n",
       "}\n",
       "\n",
       ".xr-text-repr-fallback {\n",
       "  /* fallback to plain text repr when CSS is not injected (untrusted notebook) */\n",
       "  display: none;\n",
       "}\n",
       "\n",
       ".xr-header {\n",
       "  padding-top: 6px;\n",
       "  padding-bottom: 6px;\n",
       "  margin-bottom: 4px;\n",
       "  border-bottom: solid 1px var(--xr-border-color);\n",
       "}\n",
       "\n",
       ".xr-header > div,\n",
       ".xr-header > ul {\n",
       "  display: inline;\n",
       "  margin-top: 0;\n",
       "  margin-bottom: 0;\n",
       "}\n",
       "\n",
       ".xr-obj-type,\n",
       ".xr-array-name {\n",
       "  margin-left: 2px;\n",
       "  margin-right: 10px;\n",
       "}\n",
       "\n",
       ".xr-obj-type {\n",
       "  color: var(--xr-font-color2);\n",
       "}\n",
       "\n",
       ".xr-sections {\n",
       "  padding-left: 0 !important;\n",
       "  display: grid;\n",
       "  grid-template-columns: 150px auto auto 1fr 20px 20px;\n",
       "}\n",
       "\n",
       ".xr-section-item {\n",
       "  display: contents;\n",
       "}\n",
       "\n",
       ".xr-section-item input {\n",
       "  display: none;\n",
       "}\n",
       "\n",
       ".xr-section-item input + label {\n",
       "  color: var(--xr-disabled-color);\n",
       "}\n",
       "\n",
       ".xr-section-item input:enabled + label {\n",
       "  cursor: pointer;\n",
       "  color: var(--xr-font-color2);\n",
       "}\n",
       "\n",
       ".xr-section-item input:enabled + label:hover {\n",
       "  color: var(--xr-font-color0);\n",
       "}\n",
       "\n",
       ".xr-section-summary {\n",
       "  grid-column: 1;\n",
       "  color: var(--xr-font-color2);\n",
       "  font-weight: 500;\n",
       "}\n",
       "\n",
       ".xr-section-summary > span {\n",
       "  display: inline-block;\n",
       "  padding-left: 0.5em;\n",
       "}\n",
       "\n",
       ".xr-section-summary-in:disabled + label {\n",
       "  color: var(--xr-font-color2);\n",
       "}\n",
       "\n",
       ".xr-section-summary-in + label:before {\n",
       "  display: inline-block;\n",
       "  content: '►';\n",
       "  font-size: 11px;\n",
       "  width: 15px;\n",
       "  text-align: center;\n",
       "}\n",
       "\n",
       ".xr-section-summary-in:disabled + label:before {\n",
       "  color: var(--xr-disabled-color);\n",
       "}\n",
       "\n",
       ".xr-section-summary-in:checked + label:before {\n",
       "  content: '▼';\n",
       "}\n",
       "\n",
       ".xr-section-summary-in:checked + label > span {\n",
       "  display: none;\n",
       "}\n",
       "\n",
       ".xr-section-summary,\n",
       ".xr-section-inline-details {\n",
       "  padding-top: 4px;\n",
       "  padding-bottom: 4px;\n",
       "}\n",
       "\n",
       ".xr-section-inline-details {\n",
       "  grid-column: 2 / -1;\n",
       "}\n",
       "\n",
       ".xr-section-details {\n",
       "  display: none;\n",
       "  grid-column: 1 / -1;\n",
       "  margin-bottom: 5px;\n",
       "}\n",
       "\n",
       ".xr-section-summary-in:checked ~ .xr-section-details {\n",
       "  display: contents;\n",
       "}\n",
       "\n",
       ".xr-array-wrap {\n",
       "  grid-column: 1 / -1;\n",
       "  display: grid;\n",
       "  grid-template-columns: 20px auto;\n",
       "}\n",
       "\n",
       ".xr-array-wrap > label {\n",
       "  grid-column: 1;\n",
       "  vertical-align: top;\n",
       "}\n",
       "\n",
       ".xr-preview {\n",
       "  color: var(--xr-font-color3);\n",
       "}\n",
       "\n",
       ".xr-array-preview,\n",
       ".xr-array-data {\n",
       "  padding: 0 5px !important;\n",
       "  grid-column: 2;\n",
       "}\n",
       "\n",
       ".xr-array-data,\n",
       ".xr-array-in:checked ~ .xr-array-preview {\n",
       "  display: none;\n",
       "}\n",
       "\n",
       ".xr-array-in:checked ~ .xr-array-data,\n",
       ".xr-array-preview {\n",
       "  display: inline-block;\n",
       "}\n",
       "\n",
       ".xr-dim-list {\n",
       "  display: inline-block !important;\n",
       "  list-style: none;\n",
       "  padding: 0 !important;\n",
       "  margin: 0;\n",
       "}\n",
       "\n",
       ".xr-dim-list li {\n",
       "  display: inline-block;\n",
       "  padding: 0;\n",
       "  margin: 0;\n",
       "}\n",
       "\n",
       ".xr-dim-list:before {\n",
       "  content: '(';\n",
       "}\n",
       "\n",
       ".xr-dim-list:after {\n",
       "  content: ')';\n",
       "}\n",
       "\n",
       ".xr-dim-list li:not(:last-child):after {\n",
       "  content: ',';\n",
       "  padding-right: 5px;\n",
       "}\n",
       "\n",
       ".xr-has-index {\n",
       "  font-weight: bold;\n",
       "}\n",
       "\n",
       ".xr-var-list,\n",
       ".xr-var-item {\n",
       "  display: contents;\n",
       "}\n",
       "\n",
       ".xr-var-item > div,\n",
       ".xr-var-item label,\n",
       ".xr-var-item > .xr-var-name span {\n",
       "  background-color: var(--xr-background-color-row-even);\n",
       "  margin-bottom: 0;\n",
       "}\n",
       "\n",
       ".xr-var-item > .xr-var-name:hover span {\n",
       "  padding-right: 5px;\n",
       "}\n",
       "\n",
       ".xr-var-list > li:nth-child(odd) > div,\n",
       ".xr-var-list > li:nth-child(odd) > label,\n",
       ".xr-var-list > li:nth-child(odd) > .xr-var-name span {\n",
       "  background-color: var(--xr-background-color-row-odd);\n",
       "}\n",
       "\n",
       ".xr-var-name {\n",
       "  grid-column: 1;\n",
       "}\n",
       "\n",
       ".xr-var-dims {\n",
       "  grid-column: 2;\n",
       "}\n",
       "\n",
       ".xr-var-dtype {\n",
       "  grid-column: 3;\n",
       "  text-align: right;\n",
       "  color: var(--xr-font-color2);\n",
       "}\n",
       "\n",
       ".xr-var-preview {\n",
       "  grid-column: 4;\n",
       "}\n",
       "\n",
       ".xr-var-name,\n",
       ".xr-var-dims,\n",
       ".xr-var-dtype,\n",
       ".xr-preview,\n",
       ".xr-attrs dt {\n",
       "  white-space: nowrap;\n",
       "  overflow: hidden;\n",
       "  text-overflow: ellipsis;\n",
       "  padding-right: 10px;\n",
       "}\n",
       "\n",
       ".xr-var-name:hover,\n",
       ".xr-var-dims:hover,\n",
       ".xr-var-dtype:hover,\n",
       ".xr-attrs dt:hover {\n",
       "  overflow: visible;\n",
       "  width: auto;\n",
       "  z-index: 1;\n",
       "}\n",
       "\n",
       ".xr-var-attrs,\n",
       ".xr-var-data {\n",
       "  display: none;\n",
       "  background-color: var(--xr-background-color) !important;\n",
       "  padding-bottom: 5px !important;\n",
       "}\n",
       "\n",
       ".xr-var-attrs-in:checked ~ .xr-var-attrs,\n",
       ".xr-var-data-in:checked ~ .xr-var-data {\n",
       "  display: block;\n",
       "}\n",
       "\n",
       ".xr-var-data > table {\n",
       "  float: right;\n",
       "}\n",
       "\n",
       ".xr-var-name span,\n",
       ".xr-var-data,\n",
       ".xr-attrs {\n",
       "  padding-left: 25px !important;\n",
       "}\n",
       "\n",
       ".xr-attrs,\n",
       ".xr-var-attrs,\n",
       ".xr-var-data {\n",
       "  grid-column: 1 / -1;\n",
       "}\n",
       "\n",
       "dl.xr-attrs {\n",
       "  padding: 0;\n",
       "  margin: 0;\n",
       "  display: grid;\n",
       "  grid-template-columns: 125px auto;\n",
       "}\n",
       "\n",
       ".xr-attrs dt,\n",
       ".xr-attrs dd {\n",
       "  padding: 0;\n",
       "  margin: 0;\n",
       "  float: left;\n",
       "  padding-right: 10px;\n",
       "  width: auto;\n",
       "}\n",
       "\n",
       ".xr-attrs dt {\n",
       "  font-weight: normal;\n",
       "  grid-column: 1;\n",
       "}\n",
       "\n",
       ".xr-attrs dt:hover span {\n",
       "  display: inline-block;\n",
       "  background: var(--xr-background-color);\n",
       "  padding-right: 10px;\n",
       "}\n",
       "\n",
       ".xr-attrs dd {\n",
       "  grid-column: 2;\n",
       "  white-space: pre-wrap;\n",
       "  word-break: break-all;\n",
       "}\n",
       "\n",
       ".xr-icon-database,\n",
       ".xr-icon-file-text2 {\n",
       "  display: inline-block;\n",
       "  vertical-align: middle;\n",
       "  width: 1em;\n",
       "  height: 1.5em !important;\n",
       "  stroke-width: 0;\n",
       "  stroke: currentColor;\n",
       "  fill: currentColor;\n",
       "}\n",
       "</style><pre class='xr-text-repr-fallback'>&lt;xarray.Dataset&gt;\n",
       "Dimensions:               (time: 3, y: 200, x: 200)\n",
       "Coordinates:\n",
       "  * time                  (time) datetime64[ns] 2011-01-01 2012-01-01 2013-01-01\n",
       "  * y                     (y) float64 -1.325e+06 -1.325e+06 ... -1.32e+06\n",
       "  * x                     (x) float64 -1.175e+05 -1.175e+05 ... -1.225e+05\n",
       "    spatial_ref           int32 3577\n",
       "Data variables:\n",
       "    level3                (time, y, x) uint8 124 124 124 124 ... 220 220 220 220\n",
       "    lifeform_veg_cat_l4a  (time, y, x) int8 1 1 1 1 1 1 1 1 ... 0 0 0 0 0 0 0 0\n",
       "    canopyco_veg_cat_l4d  (time, y, x) int8 10 10 10 10 10 10 10 ... 0 0 0 0 0 0\n",
       "Attributes:\n",
       "    crs:           EPSG:3577\n",
       "    grid_mapping:  spatial_ref</pre><div class='xr-wrap' hidden><div class='xr-header'><div class='xr-obj-type'>xarray.Dataset</div></div><ul class='xr-sections'><li class='xr-section-item'><input id='section-5e66e815-2da1-4bb6-a3c2-19a9bfc2becb' class='xr-section-summary-in' type='checkbox' disabled ><label for='section-5e66e815-2da1-4bb6-a3c2-19a9bfc2becb' class='xr-section-summary'  title='Expand/collapse section'>Dimensions:</label><div class='xr-section-inline-details'><ul class='xr-dim-list'><li><span class='xr-has-index'>time</span>: 3</li><li><span class='xr-has-index'>y</span>: 200</li><li><span class='xr-has-index'>x</span>: 200</li></ul></div><div class='xr-section-details'></div></li><li class='xr-section-item'><input id='section-4f901357-7924-4205-acfd-777c12763038' class='xr-section-summary-in' type='checkbox'  checked><label for='section-4f901357-7924-4205-acfd-777c12763038' class='xr-section-summary' >Coordinates: <span>(4)</span></label><div class='xr-section-inline-details'></div><div class='xr-section-details'><ul class='xr-var-list'><li class='xr-var-item'><div class='xr-var-name'><span class='xr-has-index'>time</span></div><div class='xr-var-dims'>(time)</div><div class='xr-var-dtype'>datetime64[ns]</div><div class='xr-var-preview xr-preview'>2011-01-01 2012-01-01 2013-01-01</div><input id='attrs-61f4254a-e0fc-41f3-9c16-1a703f11f9f5' class='xr-var-attrs-in' type='checkbox' ><label for='attrs-61f4254a-e0fc-41f3-9c16-1a703f11f9f5' title='Show/Hide attributes'><svg class='icon xr-icon-file-text2'><use xlink:href='#icon-file-text2'></use></svg></label><input id='data-e15ee8ef-bedf-472e-9fd3-3cdf77515537' class='xr-var-data-in' type='checkbox'><label for='data-e15ee8ef-bedf-472e-9fd3-3cdf77515537' title='Show/Hide data repr'><svg class='icon xr-icon-database'><use xlink:href='#icon-database'></use></svg></label><div class='xr-var-attrs'><dl class='xr-attrs'><dt><span>units :</span></dt><dd>seconds since 1970-01-01 00:00:00</dd></dl></div><div class='xr-var-data'><pre>array([&#x27;2011-01-01T00:00:00.000000000&#x27;, &#x27;2012-01-01T00:00:00.000000000&#x27;,\n",
       "       &#x27;2013-01-01T00:00:00.000000000&#x27;], dtype=&#x27;datetime64[ns]&#x27;)</pre></div></li><li class='xr-var-item'><div class='xr-var-name'><span class='xr-has-index'>y</span></div><div class='xr-var-dims'>(y)</div><div class='xr-var-dtype'>float64</div><div class='xr-var-preview xr-preview'>-1.325e+06 -1.325e+06 ... -1.32e+06</div><input id='attrs-23f60c3b-d675-4b9e-b94d-95141f54c739' class='xr-var-attrs-in' type='checkbox' ><label for='attrs-23f60c3b-d675-4b9e-b94d-95141f54c739' title='Show/Hide attributes'><svg class='icon xr-icon-file-text2'><use xlink:href='#icon-file-text2'></use></svg></label><input id='data-b6588c2b-fe2f-45df-b32c-3104d2586b61' class='xr-var-data-in' type='checkbox'><label for='data-b6588c2b-fe2f-45df-b32c-3104d2586b61' title='Show/Hide data repr'><svg class='icon xr-icon-database'><use xlink:href='#icon-database'></use></svg></label><div class='xr-var-attrs'><dl class='xr-attrs'><dt><span>units :</span></dt><dd>metre</dd><dt><span>resolution :</span></dt><dd>25.0</dd><dt><span>crs :</span></dt><dd>EPSG:3577</dd></dl></div><div class='xr-var-data'><pre>array([-1324987.5, -1324962.5, -1324937.5, -1324912.5, -1324887.5, -1324862.5,\n",
       "       -1324837.5, -1324812.5, -1324787.5, -1324762.5, -1324737.5, -1324712.5,\n",
       "       -1324687.5, -1324662.5, -1324637.5, -1324612.5, -1324587.5, -1324562.5,\n",
       "       -1324537.5, -1324512.5, -1324487.5, -1324462.5, -1324437.5, -1324412.5,\n",
       "       -1324387.5, -1324362.5, -1324337.5, -1324312.5, -1324287.5, -1324262.5,\n",
       "       -1324237.5, -1324212.5, -1324187.5, -1324162.5, -1324137.5, -1324112.5,\n",
       "       -1324087.5, -1324062.5, -1324037.5, -1324012.5, -1323987.5, -1323962.5,\n",
       "       -1323937.5, -1323912.5, -1323887.5, -1323862.5, -1323837.5, -1323812.5,\n",
       "       -1323787.5, -1323762.5, -1323737.5, -1323712.5, -1323687.5, -1323662.5,\n",
       "       -1323637.5, -1323612.5, -1323587.5, -1323562.5, -1323537.5, -1323512.5,\n",
       "       -1323487.5, -1323462.5, -1323437.5, -1323412.5, -1323387.5, -1323362.5,\n",
       "       -1323337.5, -1323312.5, -1323287.5, -1323262.5, -1323237.5, -1323212.5,\n",
       "       -1323187.5, -1323162.5, -1323137.5, -1323112.5, -1323087.5, -1323062.5,\n",
       "       -1323037.5, -1323012.5, -1322987.5, -1322962.5, -1322937.5, -1322912.5,\n",
       "       -1322887.5, -1322862.5, -1322837.5, -1322812.5, -1322787.5, -1322762.5,\n",
       "       -1322737.5, -1322712.5, -1322687.5, -1322662.5, -1322637.5, -1322612.5,\n",
       "       -1322587.5, -1322562.5, -1322537.5, -1322512.5, -1322487.5, -1322462.5,\n",
       "       -1322437.5, -1322412.5, -1322387.5, -1322362.5, -1322337.5, -1322312.5,\n",
       "       -1322287.5, -1322262.5, -1322237.5, -1322212.5, -1322187.5, -1322162.5,\n",
       "       -1322137.5, -1322112.5, -1322087.5, -1322062.5, -1322037.5, -1322012.5,\n",
       "       -1321987.5, -1321962.5, -1321937.5, -1321912.5, -1321887.5, -1321862.5,\n",
       "       -1321837.5, -1321812.5, -1321787.5, -1321762.5, -1321737.5, -1321712.5,\n",
       "       -1321687.5, -1321662.5, -1321637.5, -1321612.5, -1321587.5, -1321562.5,\n",
       "       -1321537.5, -1321512.5, -1321487.5, -1321462.5, -1321437.5, -1321412.5,\n",
       "       -1321387.5, -1321362.5, -1321337.5, -1321312.5, -1321287.5, -1321262.5,\n",
       "       -1321237.5, -1321212.5, -1321187.5, -1321162.5, -1321137.5, -1321112.5,\n",
       "       -1321087.5, -1321062.5, -1321037.5, -1321012.5, -1320987.5, -1320962.5,\n",
       "       -1320937.5, -1320912.5, -1320887.5, -1320862.5, -1320837.5, -1320812.5,\n",
       "       -1320787.5, -1320762.5, -1320737.5, -1320712.5, -1320687.5, -1320662.5,\n",
       "       -1320637.5, -1320612.5, -1320587.5, -1320562.5, -1320537.5, -1320512.5,\n",
       "       -1320487.5, -1320462.5, -1320437.5, -1320412.5, -1320387.5, -1320362.5,\n",
       "       -1320337.5, -1320312.5, -1320287.5, -1320262.5, -1320237.5, -1320212.5,\n",
       "       -1320187.5, -1320162.5, -1320137.5, -1320112.5, -1320087.5, -1320062.5,\n",
       "       -1320037.5, -1320012.5])</pre></div></li><li class='xr-var-item'><div class='xr-var-name'><span class='xr-has-index'>x</span></div><div class='xr-var-dims'>(x)</div><div class='xr-var-dtype'>float64</div><div class='xr-var-preview xr-preview'>-1.175e+05 ... -1.225e+05</div><input id='attrs-a26d5808-35bb-4c23-b8d1-a73a37ade7fc' class='xr-var-attrs-in' type='checkbox' ><label for='attrs-a26d5808-35bb-4c23-b8d1-a73a37ade7fc' title='Show/Hide attributes'><svg class='icon xr-icon-file-text2'><use xlink:href='#icon-file-text2'></use></svg></label><input id='data-d05f07b6-ef52-4505-a5ce-cba170aaefe1' class='xr-var-data-in' type='checkbox'><label for='data-d05f07b6-ef52-4505-a5ce-cba170aaefe1' title='Show/Hide data repr'><svg class='icon xr-icon-database'><use xlink:href='#icon-database'></use></svg></label><div class='xr-var-attrs'><dl class='xr-attrs'><dt><span>units :</span></dt><dd>metre</dd><dt><span>resolution :</span></dt><dd>-25.0</dd><dt><span>crs :</span></dt><dd>EPSG:3577</dd></dl></div><div class='xr-var-data'><pre>array([-117512.5, -117537.5, -117562.5, -117587.5, -117612.5, -117637.5,\n",
       "       -117662.5, -117687.5, -117712.5, -117737.5, -117762.5, -117787.5,\n",
       "       -117812.5, -117837.5, -117862.5, -117887.5, -117912.5, -117937.5,\n",
       "       -117962.5, -117987.5, -118012.5, -118037.5, -118062.5, -118087.5,\n",
       "       -118112.5, -118137.5, -118162.5, -118187.5, -118212.5, -118237.5,\n",
       "       -118262.5, -118287.5, -118312.5, -118337.5, -118362.5, -118387.5,\n",
       "       -118412.5, -118437.5, -118462.5, -118487.5, -118512.5, -118537.5,\n",
       "       -118562.5, -118587.5, -118612.5, -118637.5, -118662.5, -118687.5,\n",
       "       -118712.5, -118737.5, -118762.5, -118787.5, -118812.5, -118837.5,\n",
       "       -118862.5, -118887.5, -118912.5, -118937.5, -118962.5, -118987.5,\n",
       "       -119012.5, -119037.5, -119062.5, -119087.5, -119112.5, -119137.5,\n",
       "       -119162.5, -119187.5, -119212.5, -119237.5, -119262.5, -119287.5,\n",
       "       -119312.5, -119337.5, -119362.5, -119387.5, -119412.5, -119437.5,\n",
       "       -119462.5, -119487.5, -119512.5, -119537.5, -119562.5, -119587.5,\n",
       "       -119612.5, -119637.5, -119662.5, -119687.5, -119712.5, -119737.5,\n",
       "       -119762.5, -119787.5, -119812.5, -119837.5, -119862.5, -119887.5,\n",
       "       -119912.5, -119937.5, -119962.5, -119987.5, -120012.5, -120037.5,\n",
       "       -120062.5, -120087.5, -120112.5, -120137.5, -120162.5, -120187.5,\n",
       "       -120212.5, -120237.5, -120262.5, -120287.5, -120312.5, -120337.5,\n",
       "       -120362.5, -120387.5, -120412.5, -120437.5, -120462.5, -120487.5,\n",
       "       -120512.5, -120537.5, -120562.5, -120587.5, -120612.5, -120637.5,\n",
       "       -120662.5, -120687.5, -120712.5, -120737.5, -120762.5, -120787.5,\n",
       "       -120812.5, -120837.5, -120862.5, -120887.5, -120912.5, -120937.5,\n",
       "       -120962.5, -120987.5, -121012.5, -121037.5, -121062.5, -121087.5,\n",
       "       -121112.5, -121137.5, -121162.5, -121187.5, -121212.5, -121237.5,\n",
       "       -121262.5, -121287.5, -121312.5, -121337.5, -121362.5, -121387.5,\n",
       "       -121412.5, -121437.5, -121462.5, -121487.5, -121512.5, -121537.5,\n",
       "       -121562.5, -121587.5, -121612.5, -121637.5, -121662.5, -121687.5,\n",
       "       -121712.5, -121737.5, -121762.5, -121787.5, -121812.5, -121837.5,\n",
       "       -121862.5, -121887.5, -121912.5, -121937.5, -121962.5, -121987.5,\n",
       "       -122012.5, -122037.5, -122062.5, -122087.5, -122112.5, -122137.5,\n",
       "       -122162.5, -122187.5, -122212.5, -122237.5, -122262.5, -122287.5,\n",
       "       -122312.5, -122337.5, -122362.5, -122387.5, -122412.5, -122437.5,\n",
       "       -122462.5, -122487.5])</pre></div></li><li class='xr-var-item'><div class='xr-var-name'><span>spatial_ref</span></div><div class='xr-var-dims'>()</div><div class='xr-var-dtype'>int32</div><div class='xr-var-preview xr-preview'>3577</div><input id='attrs-7f2b441c-6362-4a76-8dab-828c4cb3f551' class='xr-var-attrs-in' type='checkbox' ><label for='attrs-7f2b441c-6362-4a76-8dab-828c4cb3f551' title='Show/Hide attributes'><svg class='icon xr-icon-file-text2'><use xlink:href='#icon-file-text2'></use></svg></label><input id='data-c65334b7-a1e3-4bae-85c9-15b87de9e4fd' class='xr-var-data-in' type='checkbox'><label for='data-c65334b7-a1e3-4bae-85c9-15b87de9e4fd' title='Show/Hide data repr'><svg class='icon xr-icon-database'><use xlink:href='#icon-database'></use></svg></label><div class='xr-var-attrs'><dl class='xr-attrs'><dt><span>spatial_ref :</span></dt><dd>PROJCS[&quot;GDA94 / Australian Albers&quot;,GEOGCS[&quot;GDA94&quot;,DATUM[&quot;Geocentric_Datum_of_Australia_1994&quot;,SPHEROID[&quot;GRS 1980&quot;,6378137,298.257222101,AUTHORITY[&quot;EPSG&quot;,&quot;7019&quot;]],AUTHORITY[&quot;EPSG&quot;,&quot;6283&quot;]],PRIMEM[&quot;Greenwich&quot;,0,AUTHORITY[&quot;EPSG&quot;,&quot;8901&quot;]],UNIT[&quot;degree&quot;,0.0174532925199433,AUTHORITY[&quot;EPSG&quot;,&quot;9122&quot;]],AUTHORITY[&quot;EPSG&quot;,&quot;4283&quot;]],PROJECTION[&quot;Albers_Conic_Equal_Area&quot;],PARAMETER[&quot;latitude_of_center&quot;,0],PARAMETER[&quot;longitude_of_center&quot;,132],PARAMETER[&quot;standard_parallel_1&quot;,-18],PARAMETER[&quot;standard_parallel_2&quot;,-36],PARAMETER[&quot;false_easting&quot;,0],PARAMETER[&quot;false_northing&quot;,0],UNIT[&quot;metre&quot;,1,AUTHORITY[&quot;EPSG&quot;,&quot;9001&quot;]],AXIS[&quot;Easting&quot;,EAST],AXIS[&quot;Northing&quot;,NORTH],AUTHORITY[&quot;EPSG&quot;,&quot;3577&quot;]]</dd><dt><span>grid_mapping_name :</span></dt><dd>albers_conical_equal_area</dd></dl></div><div class='xr-var-data'><pre>array(3577, dtype=int32)</pre></div></li></ul></div></li><li class='xr-section-item'><input id='section-e3d740f4-9edd-4d66-b62f-e2f461f708c6' class='xr-section-summary-in' type='checkbox'  checked><label for='section-e3d740f4-9edd-4d66-b62f-e2f461f708c6' class='xr-section-summary' >Data variables: <span>(3)</span></label><div class='xr-section-inline-details'></div><div class='xr-section-details'><ul class='xr-var-list'><li class='xr-var-item'><div class='xr-var-name'><span>level3</span></div><div class='xr-var-dims'>(time, y, x)</div><div class='xr-var-dtype'>uint8</div><div class='xr-var-preview xr-preview'>124 124 124 124 ... 220 220 220 220</div><input id='attrs-9f012021-e1f7-415f-8bcb-b60c688a8ba5' class='xr-var-attrs-in' type='checkbox' ><label for='attrs-9f012021-e1f7-415f-8bcb-b60c688a8ba5' title='Show/Hide attributes'><svg class='icon xr-icon-file-text2'><use xlink:href='#icon-file-text2'></use></svg></label><input id='data-1720a91e-3ccd-451e-bf68-b901f197c764' class='xr-var-data-in' type='checkbox'><label for='data-1720a91e-3ccd-451e-bf68-b901f197c764' title='Show/Hide data repr'><svg class='icon xr-icon-database'><use xlink:href='#icon-database'></use></svg></label><div class='xr-var-attrs'><dl class='xr-attrs'><dt><span>units :</span></dt><dd>1</dd><dt><span>nodata :</span></dt><dd>0</dd><dt><span>crs :</span></dt><dd>EPSG:3577</dd><dt><span>grid_mapping :</span></dt><dd>spatial_ref</dd></dl></div><div class='xr-var-data'><pre>array([[[124, 124, 124, ..., 124, 124, 124],\n",
       "        [124, 124, 124, ..., 124, 124, 124],\n",
       "        [124, 124, 124, ..., 124, 124, 124],\n",
       "        ...,\n",
       "        [220, 220, 220, ..., 220, 220, 220],\n",
       "        [220, 220, 220, ..., 220, 220, 220],\n",
       "        [220, 220, 220, ..., 220, 220, 220]],\n",
       "\n",
       "       [[124, 124, 124, ..., 124, 124, 124],\n",
       "        [124, 124, 124, ..., 124, 124, 124],\n",
       "        [124, 124, 124, ..., 124, 124, 124],\n",
       "        ...,\n",
       "        [220, 220, 220, ..., 220, 220, 220],\n",
       "        [220, 220, 220, ..., 220, 220, 220],\n",
       "        [220, 220, 220, ..., 220, 220, 220]],\n",
       "\n",
       "       [[124, 124, 124, ..., 124, 124, 220],\n",
       "        [124, 124, 124, ..., 124, 124, 124],\n",
       "        [124, 124, 124, ..., 124, 124, 124],\n",
       "        ...,\n",
       "        [220, 220, 220, ..., 220, 220, 220],\n",
       "        [220, 220, 220, ..., 220, 220, 220],\n",
       "        [220, 220, 220, ..., 220, 220, 220]]], dtype=uint8)</pre></div></li><li class='xr-var-item'><div class='xr-var-name'><span>lifeform_veg_cat_l4a</span></div><div class='xr-var-dims'>(time, y, x)</div><div class='xr-var-dtype'>int8</div><div class='xr-var-preview xr-preview'>1 1 1 1 1 1 1 1 ... 0 0 0 0 0 0 0 0</div><input id='attrs-f3cc0dc2-55e8-4eed-ad97-2e5c681096f1' class='xr-var-attrs-in' type='checkbox' ><label for='attrs-f3cc0dc2-55e8-4eed-ad97-2e5c681096f1' title='Show/Hide attributes'><svg class='icon xr-icon-file-text2'><use xlink:href='#icon-file-text2'></use></svg></label><input id='data-c9e67595-ab0b-4640-abc7-fe3cd154c63c' class='xr-var-data-in' type='checkbox'><label for='data-c9e67595-ab0b-4640-abc7-fe3cd154c63c' title='Show/Hide data repr'><svg class='icon xr-icon-database'><use xlink:href='#icon-database'></use></svg></label><div class='xr-var-attrs'><dl class='xr-attrs'><dt><span>units :</span></dt><dd>1</dd><dt><span>nodata :</span></dt><dd>0</dd><dt><span>crs :</span></dt><dd>EPSG:3577</dd><dt><span>grid_mapping :</span></dt><dd>spatial_ref</dd></dl></div><div class='xr-var-data'><pre>array([[[1, 1, 1, ..., 1, 1, 1],\n",
       "        [1, 1, 1, ..., 1, 1, 1],\n",
       "        [1, 1, 1, ..., 1, 1, 1],\n",
       "        ...,\n",
       "        [0, 0, 0, ..., 0, 0, 0],\n",
       "        [0, 0, 0, ..., 0, 0, 0],\n",
       "        [0, 0, 0, ..., 0, 0, 0]],\n",
       "\n",
       "       [[1, 1, 1, ..., 1, 1, 1],\n",
       "        [1, 1, 1, ..., 1, 1, 1],\n",
       "        [1, 1, 1, ..., 1, 1, 1],\n",
       "        ...,\n",
       "        [0, 0, 0, ..., 0, 0, 0],\n",
       "        [0, 0, 0, ..., 0, 0, 0],\n",
       "        [0, 0, 0, ..., 0, 0, 0]],\n",
       "\n",
       "       [[1, 1, 1, ..., 1, 1, 0],\n",
       "        [1, 1, 1, ..., 1, 1, 1],\n",
       "        [1, 1, 1, ..., 1, 1, 1],\n",
       "        ...,\n",
       "        [0, 0, 0, ..., 0, 0, 0],\n",
       "        [0, 0, 0, ..., 0, 0, 0],\n",
       "        [0, 0, 0, ..., 0, 0, 0]]], dtype=int8)</pre></div></li><li class='xr-var-item'><div class='xr-var-name'><span>canopyco_veg_cat_l4d</span></div><div class='xr-var-dims'>(time, y, x)</div><div class='xr-var-dtype'>int8</div><div class='xr-var-preview xr-preview'>10 10 10 10 10 10 ... 0 0 0 0 0 0</div><input id='attrs-52264754-78ab-430a-9248-312d1c909064' class='xr-var-attrs-in' type='checkbox' ><label for='attrs-52264754-78ab-430a-9248-312d1c909064' title='Show/Hide attributes'><svg class='icon xr-icon-file-text2'><use xlink:href='#icon-file-text2'></use></svg></label><input id='data-1d8fe985-17d8-4116-a58c-9d45ef70e6b0' class='xr-var-data-in' type='checkbox'><label for='data-1d8fe985-17d8-4116-a58c-9d45ef70e6b0' title='Show/Hide data repr'><svg class='icon xr-icon-database'><use xlink:href='#icon-database'></use></svg></label><div class='xr-var-attrs'><dl class='xr-attrs'><dt><span>units :</span></dt><dd>1</dd><dt><span>nodata :</span></dt><dd>0</dd><dt><span>crs :</span></dt><dd>EPSG:3577</dd><dt><span>grid_mapping :</span></dt><dd>spatial_ref</dd></dl></div><div class='xr-var-data'><pre>array([[[10, 10, 10, ..., 10, 10, 10],\n",
       "        [10, 10, 10, ..., 10, 10, 10],\n",
       "        [10, 10, 10, ..., 10, 10, 10],\n",
       "        ...,\n",
       "        [ 0,  0,  0, ...,  0,  0,  0],\n",
       "        [ 0,  0,  0, ...,  0,  0,  0],\n",
       "        [ 0,  0,  0, ...,  0,  0,  0]],\n",
       "\n",
       "       [[10, 12, 12, ..., 10, 10, 12],\n",
       "        [10, 12, 10, ..., 12, 10, 10],\n",
       "        [10, 10, 10, ..., 10, 10, 10],\n",
       "        ...,\n",
       "        [ 0,  0,  0, ...,  0,  0,  0],\n",
       "        [ 0,  0,  0, ...,  0,  0,  0],\n",
       "        [ 0,  0,  0, ...,  0,  0,  0]],\n",
       "\n",
       "       [[10, 12, 10, ..., 10, 10,  0],\n",
       "        [10, 10, 10, ..., 12, 10, 10],\n",
       "        [10, 10, 10, ..., 10, 10, 10],\n",
       "        ...,\n",
       "        [ 0,  0,  0, ...,  0,  0,  0],\n",
       "        [ 0,  0,  0, ...,  0,  0,  0],\n",
       "        [ 0,  0,  0, ...,  0,  0,  0]]], dtype=int8)</pre></div></li></ul></div></li><li class='xr-section-item'><input id='section-f5076a68-b67c-4cc6-a3e9-82f413bc1501' class='xr-section-summary-in' type='checkbox'  checked><label for='section-f5076a68-b67c-4cc6-a3e9-82f413bc1501' class='xr-section-summary' >Attributes: <span>(2)</span></label><div class='xr-section-inline-details'></div><div class='xr-section-details'><dl class='xr-attrs'><dt><span>crs :</span></dt><dd>EPSG:3577</dd><dt><span>grid_mapping :</span></dt><dd>spatial_ref</dd></dl></div></li></ul></div></div>"
      ],
      "text/plain": [
       "<xarray.Dataset>\n",
       "Dimensions:               (time: 3, y: 200, x: 200)\n",
       "Coordinates:\n",
       "  * time                  (time) datetime64[ns] 2011-01-01 2012-01-01 2013-01-01\n",
       "  * y                     (y) float64 -1.325e+06 -1.325e+06 ... -1.32e+06\n",
       "  * x                     (x) float64 -1.175e+05 -1.175e+05 ... -1.225e+05\n",
       "    spatial_ref           int32 3577\n",
       "Data variables:\n",
       "    level3                (time, y, x) uint8 124 124 124 124 ... 220 220 220 220\n",
       "    lifeform_veg_cat_l4a  (time, y, x) int8 1 1 1 1 1 1 1 1 ... 0 0 0 0 0 0 0 0\n",
       "    canopyco_veg_cat_l4d  (time, y, x) int8 10 10 10 10 10 10 10 ... 0 0 0 0 0 0\n",
       "Attributes:\n",
       "    crs:           EPSG:3577\n",
       "    grid_mapping:  spatial_ref"
      ]
     },
     "execution_count": 109,
     "metadata": {},
     "output_type": "execute_result"
    }
   ],
   "source": [
    "lc"
   ]
  },
  {
   "cell_type": "markdown",
   "metadata": {
    "tags": []
   },
   "source": [
    "### Plotting data"
   ]
  },
  {
   "cell_type": "markdown",
   "metadata": {},
   "source": [
    "Being categorical data, each of the variables is best visualised with custom colour schemes.\n",
    "\n",
    "The below function `plot layer` will create a categorical colour map for the provided dictionary and use it to "
   ]
  },
  {
   "cell_type": "code",
   "execution_count": 136,
   "metadata": {},
   "outputs": [],
   "source": [
    "# plot layer from colour map\n",
    "def plot_layers(colours, data):\n",
    "    colour_arr = []\n",
    "    cblabels = []\n",
    "    for key, value in colours.items():\n",
    "        colour_arr.append(np.array(value[:-2])/255)\n",
    "        cblabels.append(value[-1])\n",
    "\n",
    "    cmap = mcolours.ListedColormap(colour_arr)\n",
    "    bounds = list(colours)\n",
    "    bounds.append(255)\n",
    "    norm = mcolours.BoundaryNorm(np.array(bounds) - 0.1, cmap.N)\n",
    "\n",
    "    # plot the provided layer\n",
    "    im = data.plot(cmap=cmap, norm=norm, add_colorbar=True, col='time', col_wrap=4, size=5)\n",
    "\n",
    "    cb = im.cbar\n",
    "    ticks = cb.get_ticks()\n",
    "    cb.set_ticks(ticks + np.diff(ticks, append=256) / 2)\n",
    "    cb.set_ticklabels(cblabels)    \n",
    "    \n",
    "    return im\n",
    "\n",
    "# plot layer from colour map\n",
    "def plot_layer(colours, data):\n",
    "    colour_arr = []\n",
    "    cblabels = []\n",
    "    for key, value in colours.items():\n",
    "        colour_arr.append(np.array(value[:-2])/255)\n",
    "        cblabels.append(value[-1])\n",
    "\n",
    "    cmap = mcolours.ListedColormap(colour_arr)\n",
    "    bounds = list(colours)\n",
    "    bounds.append(255)\n",
    "    norm = mcolours.BoundaryNorm(np.array(bounds) - 0.1, cmap.N)\n",
    "\n",
    "    # plot the provided layer\n",
    "    im = data.plot(cmap=cmap, norm=norm, add_colorbar=True, size=5)\n",
    "\n",
    "    cb = im.colorbar\n",
    "    ticks = cb.get_ticks()\n",
    "    cb.set_ticks(ticks + np.diff(ticks, append=256) / 2)\n",
    "    cb.set_ticklabels(cblabels)    \n",
    "    \n",
    "    return im"
   ]
  },
  {
   "cell_type": "markdown",
   "metadata": {
    "tags": []
   },
   "source": [
    "#### Level 3 visualisation\n",
    "\n",
    "First we define a colour scheme for the variable we're wanting to visualise. \n",
    "The key's in the below dictionary are the classification values for the level 3 layer, and the following value consists of colour specifications (red, green, blue, alpha) for each class as well as a description to be used in the legend"
   ]
  },
  {
   "cell_type": "code",
   "execution_count": 137,
   "metadata": {},
   "outputs": [],
   "source": [
    "LEVEL3_COLOUR_SCHEME = { 0   : (255, 255, 255, 255, \"No Data\"),\n",
    "                         111 : (172, 188, 45, 255, \"Cultivated Terrestrial Vegetation\"),\n",
    "                         112 : (14, 121, 18, 255, \"Natural Terrestrial Vegetation\"),\n",
    "                         124 : (30, 191, 121, 255, \"Natural Aquatic Vegetation\"),\n",
    "                         215 : (218, 92, 105, 255, \"Artificial Surface\"),\n",
    "                         216 : (243, 171, 105, 255, \"Natural Bare Surface\"),\n",
    "                         220 : (77, 159, 220, 255, \"Water\")}"
   ]
  },
  {
   "cell_type": "markdown",
   "metadata": {},
   "source": [
    "Now we can plot the level 3 layers which were loaded"
   ]
  },
  {
   "cell_type": "code",
   "execution_count": 138,
   "metadata": {},
   "outputs": [
    {
     "data": {
      "text/plain": [
       "<xarray.plot.facetgrid.FacetGrid at 0x7ffb14cd5e50>"
      ]
     },
     "execution_count": 138,
     "metadata": {},
     "output_type": "execute_result"
    },
    {
     "data": {
      "image/png": "[encoded data removed]",
      "text/plain": [
       "<Figure size 1512x360 with 5 Axes>"
      ]
     },
     "metadata": {
      "needs_background": "light"
     },
     "output_type": "display_data"
    }
   ],
   "source": [
    "plot_layers(LEVEL3_COLOUR_SCHEME, lc.level3)"
   ]
  },
  {
   "cell_type": "code",
   "execution_count": 113,
   "metadata": {},
   "outputs": [
    {
     "data": {
      "text/plain": [
       "<xarray.plot.facetgrid.FacetGrid at 0x7ffb15689fa0>"
      ]
     },
     "execution_count": 113,
     "metadata": {},
     "output_type": "execute_result"
    },
    {
     "data": {
      "image/png": "[encoded data removed]",
      "text/plain": [
       "<Figure size 1512x360 with 5 Axes>"
      ]
     },
     "metadata": {
      "needs_background": "light"
     },
     "output_type": "display_data"
    }
   ],
   "source": [
    "# plot the layer with its provided colour scheme\n",
    "plot_layer(LIFEFORM_COLOUR_SCHEME, lc.lifeform_veg_cat_l4a)"
   ]
  },
  {
   "cell_type": "markdown",
   "metadata": {},
   "source": [
    "## Change mapping\n",
    "\n"
   ]
  },
  {
   "cell_type": "code",
   "execution_count": 114,
   "metadata": {},
   "outputs": [],
   "source": [
    "ts1 = lc.level3[0]\n",
    "ts2 = lc.level3[2]"
   ]
  },
  {
   "cell_type": "code",
   "execution_count": 120,
   "metadata": {},
   "outputs": [],
   "source": [
    "changed = (ts1 != ts2)"
   ]
  },
  {
   "cell_type": "code",
   "execution_count": 132,
   "metadata": {},
   "outputs": [
    {
     "data": {
      "text/plain": [
       "<matplotlib.image.AxesImage at 0x7ffb14e2af40>"
      ]
     },
     "execution_count": 132,
     "metadata": {},
     "output_type": "execute_result"
    },
    {
     "data": {
      "image/png": "[encoded data removed]",
      "text/plain": [
       "<Figure size 432x288 with 2 Axes>"
      ]
     },
     "metadata": {
      "needs_background": "light"
     },
     "output_type": "display_data"
    }
   ],
   "source": [
    "# Where has it changed? This is all the changes.. I just want to look at changes to/from natural vegetation (112)\n",
    "changed.plot.imshow()"
   ]
  },
  {
   "cell_type": "code",
   "execution_count": 133,
   "metadata": {},
   "outputs": [],
   "source": [
    "# note where it was nat veg in both time steps\n",
    "veg1 = np.where(ts1 == 112, 1, 0)\n",
    "veg2 = np.where(ts2 == 112, 1, 0)"
   ]
  },
  {
   "cell_type": "code",
   "execution_count": 139,
   "metadata": {},
   "outputs": [
    {
     "data": {
      "text/plain": [
       "<matplotlib.collections.QuadMesh at 0x7ffb14a76430>"
      ]
     },
     "execution_count": 139,
     "metadata": {},
     "output_type": "execute_result"
    },
    {
     "data": {
      "image/png": "[encoded data removed]",
      "text/plain": [
       "<Figure size 540x360 with 2 Axes>"
      ]
     },
     "metadata": {
      "needs_background": "light"
     },
     "output_type": "display_data"
    }
   ],
   "source": [
    "# look at timestep 2 where it was previously natural veg\n",
    "plot_layer(LEVEL3_COLOUR_SCHEME, ts2.where(veg1))"
   ]
  },
  {
   "cell_type": "code",
   "execution_count": 142,
   "metadata": {},
   "outputs": [
    {
     "data": {
      "text/plain": [
       "<matplotlib.image.AxesImage at 0x7ffb1480bbb0>"
      ]
     },
     "execution_count": 142,
     "metadata": {},
     "output_type": "execute_result"
    },
    {
     "data": {
      "image/png": "[encoded data removed]",
      "text/plain": [
       "<Figure size 432x288 with 2 Axes>"
      ]
     },
     "metadata": {
      "needs_background": "light"
     },
     "output_type": "display_data"
    }
   ],
   "source": [
    "# difference the veg1 and veg2 datasets to see where vegetation has increased / decreased\n",
    "vegchange = changed.copy(deep = True)\n",
    "vegchange.data = (veg1 - veg2)\n",
    "\n",
    "# only show -1 and 1, not the stable veg\n",
    "vegchange.where(vegchange != 0).plot.imshow(cmap=\"RdYlGn_r\")"
   ]
  },
  {
   "cell_type": "code",
   "execution_count": null,
   "metadata": {},
   "outputs": [],
   "source": []
  },
  {
   "cell_type": "code",
   "execution_count": null,
   "metadata": {},
   "outputs": [],
   "source": []
  },
  {
   "cell_type": "code",
   "execution_count": null,
   "metadata": {},
   "outputs": [],
   "source": []
  },
  {
   "cell_type": "code",
   "execution_count": null,
   "metadata": {},
   "outputs": [],
   "source": []
  },
  {
   "cell_type": "code",
   "execution_count": null,
   "metadata": {},
   "outputs": [],
   "source": []
  },
  {
   "cell_type": "markdown",
   "metadata": {},
   "source": [
    "***\n",
    "\n",
    "## Additional information\n",
    "\n",
    "**License:** The code in this notebook is licensed under the [Apache License, Version 2.0](https://www.apache.org/licenses/LICENSE-2.0). \n",
    "Digital Earth Australia data is licensed under the [Creative Commons by Attribution 4.0](https://creativecommons.org/licenses/by/4.0/) license.\n",
    "\n",
    "**Contact:** If you need assistance, please post a question on the [Open Data Cube Slack channel](http://slack.opendatacube.org/) or on the [GIS Stack Exchange](https://gis.stackexchange.com/questions/ask?tags=open-data-cube) using the `open-data-cube` tag (you can view previously asked questions [here](https://gis.stackexchange.com/questions/tagged/open-data-cube)).\n",
    "If you would like to report an issue with this notebook, you can file one on [Github](https://github.com/GeoscienceAustralia/dea-notebooks).\n",
    "\n",
    "**Last modified:** September 2021\n",
    "\n",
    "**Compatible datacube version:** "
   ]
  },
  {
   "cell_type": "code",
   "execution_count": 28,
   "metadata": {},
   "outputs": [
    {
     "name": "stdout",
     "output_type": "stream",
     "text": [
      "1.8.6\n"
     ]
    }
   ],
   "source": [
    "print(datacube.__version__)"
   ]
  },
  {
   "cell_type": "markdown",
   "metadata": {},
   "source": [
    "## Tags\n",
    "Browse all available tags on the DEA User Guide's [Tags Index](https://docs.dea.ga.gov.au/genindex.html)"
   ]
  },
  {
   "cell_type": "raw",
   "metadata": {
    "raw_mimetype": "text/restructuredtext"
   },
   "source": [
    "**Tags**: :index:`NCI compatible`, :index:`sandbox compatible`, :index:`sentinel 2`, :index:`landsat 8`, :index:`rgb`, :index:`NDVI`, :index:`time series`"
   ]
  }
 ],
 "metadata": {
  "kernelspec": {
   "display_name": "Python 3 (ipykernel)",
   "language": "python",
   "name": "python3"
  },
  "language_info": {
   "codemirror_mode": {
    "name": "ipython",
    "version": 3
   },
   "file_extension": ".py",
   "mimetype": "text/x-python",
   "name": "python",
   "nbconvert_exporter": "python",
   "pygments_lexer": "ipython3",
   "version": "3.8.10"
  },
  "widgets": {
   "application/vnd.jupyter.widget-state+json": {
    "state": {},
    "version_major": 2,
    "version_minor": 0
   }
  }
 },
 "nbformat": 4,
 "nbformat_minor": 4
}
