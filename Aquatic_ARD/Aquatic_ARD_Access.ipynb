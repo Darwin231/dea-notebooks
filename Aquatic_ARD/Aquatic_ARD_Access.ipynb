{
 "cells": [
  {
   "cell_type": "markdown",
   "metadata": {},
   "source": [
    "# Accessing the GA Aquatic ARD database\n",
    "\n",
    "This notebook provides access to the test database of Aquatic ARD data produced for a selection of Landsat 8 OLI and Sentinel 2 MSI scenes for inland water bodies in Australia\n",
    "\n",
    "See the accompanying README.rst for details of how to connect to the database  and database coverage.\n"
   ]
  },
  {
   "cell_type": "markdown",
   "metadata": {},
   "source": [
    "## Setting up the modules and tools"
   ]
  },
  {
   "cell_type": "code",
   "execution_count": null,
   "metadata": {},
   "outputs": [],
   "source": [
    "import numpy\n",
    "import sys\n",
    "import matplotlib.pyplot as plt\n",
    "import datacube\n",
    "#sys.path.append('../Scripts')\n",
    "sys.path.insert(1, '../Tools/')\n",
    "from sungc import deglint, visualise\n",
    "from sungc import rasterio_funcs as rf\n",
    "#from dea_bandindices import calculate_indices\n",
    "import dea_tools.plotting  # or some other submodule\n",
    "import dea_tools.datahandling"
   ]
  },
  {
   "cell_type": "markdown",
   "metadata": {},
   "source": [
    "## Selection a study region\n",
    "\n",
    "Specify the study region and check the extent on the map display\n",
    "\n",
    "A region code can also be used for Sentinel 2 granules (eg. 55HFB) or Landsat Path/Row (eg. 091084), which can be specified in the query below in place of lat/lon."
   ]
  },
  {
   "cell_type": "code",
   "execution_count": null,
   "metadata": {},
   "outputs": [],
   "source": [
    "lat_range = (-35.003, -35.031)\n",
    "lon_range = (148.627, 148.655)"
   ]
  },
  {
   "cell_type": "code",
   "execution_count": null,
   "metadata": {},
   "outputs": [],
   "source": [
    "dea_tools.plotting.display_map(x=lon_range, y=lat_range)"
   ]
  },
  {
   "cell_type": "markdown",
   "metadata": {},
   "source": [
    "## Connect to the Aquatic ARD datacube"
   ]
  },
  {
   "cell_type": "code",
   "execution_count": null,
   "metadata": {},
   "outputs": [],
   "source": [
    "dc = datacube.Datacube(env=\"water-atcor\", config=\"/g/data/r78/dea-atmospheric-correction-over-water/datacube.conf\")"
   ]
  },
  {
   "cell_type": "markdown",
   "metadata": {},
   "source": [
    "Using Sentinel-2a as an example, you can view the product and measurements available"
   ]
  },
  {
   "cell_type": "code",
   "execution_count": null,
   "metadata": {},
   "outputs": [],
   "source": [
    "product = \"ga_s2am_aard_2\"\n",
    "\n",
    "measurements = dc.list_measurements()\n",
    "measurements.loc[product]"
   ]
  },
  {
   "cell_type": "markdown",
   "metadata": {},
   "source": [
    "The `ga_s2am_aard_2` product is comprised of the following sub-products:\n",
    "\n",
    "* lmbskyg `lambertian sky glint corrected`\n",
    "* oa `observation attributes`"
   ]
  },
  {
   "cell_type": "markdown",
   "metadata": {},
   "source": [
    "## Set up a data query and load the data"
   ]
  },
  {
   "cell_type": "code",
   "execution_count": null,
   "metadata": {},
   "outputs": [],
   "source": [
    "query = {\n",
    "    'product': 'ga_s2am_aard_2',\n",
    "    #'product': 'ga_s2bm_aard_2', #option to search Sentinel 2b\n",
    "    #'product': 'ga_ls8c_aard_3', #option to search Landsat 8 \n",
    "    #'region_code':'55HBT', #option to use Sentinel 2 granule ID ot LS path/row\n",
    "    'x':lon_range,\n",
    "    'y':lat_range,\n",
    "    'time': ('2017-04-17', '2017-04-19'),\n",
    "    'output_crs': 'epsg:3577',\n",
    "    'resolution': (-20, 20)\n",
    "}"
   ]
  },
  {
   "cell_type": "code",
   "execution_count": null,
   "metadata": {},
   "outputs": [],
   "source": [
    "ds = dc.load(**query)\n",
    "ds = ds.where(ds.oa_fmask.isin([1, 5])) #retain only valid water pixels using fmask, masking clouds"
   ]
  },
  {
   "cell_type": "markdown",
   "metadata": {},
   "source": [
    "### View what the data looks like as an xarray"
   ]
  },
  {
   "cell_type": "code",
   "execution_count": null,
   "metadata": {},
   "outputs": [],
   "source": [
    "print(ds)"
   ]
  },
  {
   "cell_type": "markdown",
   "metadata": {},
   "source": [
    "### Plot as an RGB image using DEA tools"
   ]
  },
  {
   "cell_type": "code",
   "execution_count": null,
   "metadata": {},
   "outputs": [],
   "source": [
    "dea_tools.plotting.rgb(ds,\n",
    "                       index=0,\n",
    "                      bands=['lmbskyg_red','lmbskyg_green','lmbskyg_blue'],\n",
    "                      percentile_stretch=['0.6', '0.98'])"
   ]
  },
  {
   "cell_type": "markdown",
   "metadata": {},
   "source": [
    "### *******Another way of loading data with enhanced functionality using DEA tools DOES NOT yet work with Deglinting code*******"
   ]
  },
  {
   "cell_type": "code",
   "execution_count": null,
   "metadata": {},
   "outputs": [],
   "source": [
    "ds = dea_tools.datahandling.load_ard(dc=dc,\n",
    "              products=['ga_s2am_aard_2'],\n",
    "              x=lon_range,\n",
    "              y=lat_range,\n",
    "              time=('2017-04-17', '2017-04-19'),\n",
    "              fmask_categories=['water'],\n",
    "              measurements=['lmbskyg_coastal_aerosol', 'lmbskyg_blue', 'lmbskyg_green', 'lmbskyg_red', 'lmbskyg_red_edge_1', 'lmbskyg_red_edge_2','lmbskyg_nir_2'],\n",
    "              output_crs='EPSG:3577',\n",
    "              resolution=(-20, 20),\n",
    "              group_by='solar_day')"
   ]
  },
  {
   "cell_type": "markdown",
   "metadata": {},
   "source": [
    "# Deglinting Modules\n",
    "\n",
    "This section demonstrates the different deglinting methods available witin the sungc module:\n",
    "\n",
    "* Hedley et al., 2005 (correlation approach)\n",
    "* Cox and Munk 1954 (statistical/geometry approach)\n",
    "* NIR/SWIR subtraction (e.g. Dierssen et al., 2015)\n",
    "\n",
    "The sunglint module can be installed by cloning repository from *https://github.com/GeoscienceAustralia/sun-glint-correction* and following the installation instructions located in the README.md file"
   ]
  },
  {
   "cell_type": "code",
   "execution_count": null,
   "metadata": {},
   "outputs": [],
   "source": [
    "g = deglint.GlintCorrX(ds)"
   ]
  },
  {
   "cell_type": "markdown",
   "metadata": {},
   "source": [
    "Specify the bands to be used in creating a quicklook RGB"
   ]
  },
  {
   "cell_type": "code",
   "execution_count": null,
   "metadata": {},
   "outputs": [],
   "source": [
    "rgb_bands = ['lmbskyg_red', 'lmbskyg_green', 'lmbskyg_blue']\n",
    "\n",
    "vis_bands=['lmbskyg_coastal_aerosol', 'lmbskyg_blue', 'lmbskyg_green', 'lmbskyg_red', 'lmbskyg_red_edge_1', 'lmbskyg_red_edge_2']\n"
   ]
  },
  {
   "cell_type": "markdown",
   "metadata": {},
   "source": [
    "## Hedley 2005\n",
    "The Hedley method requires a Region Of Interest to be selected (or provided) that contains both deep water and sun glint affected pixels."
   ]
  },
  {
   "cell_type": "code",
   "execution_count": null,
   "metadata": {},
   "outputs": [],
   "source": [
    "%matplotlib\n",
    "hedley_xarr = g.hedley_2005(\n",
    "    rgb_varlist=rgb_bands,\n",
    "    vis_bands=vis_bands,\n",
    "    corr_band='lmbskyg_nir_2',\n",
    ")"
   ]
  },
  {
   "cell_type": "markdown",
   "metadata": {},
   "source": [
    "## Cox and Munk 1954"
   ]
  },
  {
   "cell_type": "code",
   "execution_count": null,
   "metadata": {},
   "outputs": [],
   "source": [
    "cm_xarr = g.cox_munk(\n",
    "    vis_bands=vis_bands,\n",
    "    wind_speed=5,\n",
    "    vzen_band=\"oa_satellite_view\",\n",
    "    szen_band=\"oa_solar_zenith\",\n",
    "    razi_band=\"oa_relative_azimuth\",\n",
    ")"
   ]
  },
  {
   "cell_type": "markdown",
   "metadata": {},
   "source": [
    "## Glint subtraction"
   ]
  },
  {
   "cell_type": "code",
   "execution_count": null,
   "metadata": {},
   "outputs": [],
   "source": [
    "subtract_xarr = g.glint_subtraction(\n",
    "    vis_bands=vis_bands,\n",
    "    corr_band=\"lmbskyg_nir_2\",\n",
    ")"
   ]
  },
  {
   "cell_type": "markdown",
   "metadata": {},
   "source": [
    "## Comparison"
   ]
  },
  {
   "cell_type": "code",
   "execution_count": null,
   "metadata": {},
   "outputs": [],
   "source": [
    "%matplotlib inline\n",
    "annotate_list = [\n",
    "        \"Initial\",\n",
    "        \"Cox & Munk (1954)\",\n",
    "        \"Hedley (2005)\",\n",
    "        \"NIR subtraction\",\n",
    "    ]\n",
    "\n",
    "fig, axes = plt.subplots(nrows=2, ncols=2, figsize=(14, 13))\n",
    "for t in range(ds.dims[\"time\"]):\n",
    "    master_ds = [\n",
    "        ds.isel(time=t),\n",
    "        cm_xarr.isel(time=t),\n",
    "        hedley_xarr.isel(time=t),\n",
    "        subtract_xarr.isel(time=t),\n",
    "    ]\n",
    "\n",
    "    for i, ds_i in enumerate(master_ds):\n",
    "        rix, cix = numpy.unravel_index(i, (2, 2))\n",
    "\n",
    "        refl_im = numpy.array(\n",
    "            [\n",
    "                ds_i.variables[rgb_bands[0]].values,  # R\n",
    "                ds_i.variables[rgb_bands[1]].values,  # G\n",
    "                ds_i.variables[rgb_bands[2]].values,  # B\n",
    "            ],\n",
    "            order=\"C\"\n",
    "        )\n",
    "\n",
    "        rgb_im = visualise.seadas_style_rgb(refl_im, [0, 1, 2], 10000.0, True)\n",
    "        \n",
    "        axes[rix, cix].imshow(rgb_im, interpolation=\"None\")\n",
    "        axes[rix, cix].axis(\"off\")\n",
    "        axes[rix, cix].annotate(\n",
    "            annotate_list[i],\n",
    "            xy=(0.05, 0.94),\n",
    "            xycoords=\"axes fraction\",\n",
    "            fontsize=10,\n",
    "            color=\"w\",\n",
    "        )\n",
    "\n",
    "    fig.subplots_adjust(\n",
    "        left=0.01, right=0.99, bottom=0.01, top=0.99, wspace=0.01\n",
    "    )"
   ]
  },
  {
   "cell_type": "code",
   "execution_count": null,
   "metadata": {},
   "outputs": [],
   "source": []
  }
 ],
 "metadata": {
  "kernelspec": {
   "display_name": "Python 3",
   "language": "python",
   "name": "python3"
  },
  "language_info": {
   "codemirror_mode": {
    "name": "ipython",
    "version": 3
   },
   "file_extension": ".py",
   "mimetype": "text/x-python",
   "name": "python",
   "nbconvert_exporter": "python",
   "pygments_lexer": "ipython3",
   "version": "3.6.10"
  }
 },
 "nbformat": 4,
 "nbformat_minor": 4
}
