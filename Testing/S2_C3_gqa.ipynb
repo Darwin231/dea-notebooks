{
 "cells": [
  {
   "cell_type": "code",
   "execution_count": 54,
   "id": "59541d21-9cc2-44a8-9bff-36c4c57bc339",
   "metadata": {},
   "outputs": [],
   "source": [
    "import datacube\n",
    "import numpy as np\n",
    "import pandas as pd\n",
    "import geopandas as gpd\n",
    "import matplotlib.pyplot as plt\n",
    "\n",
    "dc = datacube.Datacube()\n",
    "\n",
    "dss = dc.find_datasets_lazy(product=\"ga_s2am_ard_3\")"
   ]
  },
  {
   "cell_type": "code",
   "execution_count": 91,
   "id": "81462c4b-5d71-4b7c-a73c-35186811a799",
   "metadata": {},
   "outputs": [
    {
     "data": {
      "text/plain": [
       "['cloud_cover',\n",
       " 'creation_dt',\n",
       " 'creation_time',\n",
       " 'crs_raw',\n",
       " 'dataset_maturity',\n",
       " 'eo_gsd',\n",
       " 'eo_sun_azimuth',\n",
       " 'eo_sun_elevation',\n",
       " 'fmask_clear',\n",
       " 'fmask_cloud_shadow',\n",
       " 'fmask_snow',\n",
       " 'fmask_water',\n",
       " 'format',\n",
       " 'gqa_abs_iterative_mean_x',\n",
       " 'gqa_abs_iterative_mean_xy',\n",
       " 'gqa_abs_iterative_mean_y',\n",
       " 'gqa_abs_x',\n",
       " 'gqa_abs_xy',\n",
       " 'gqa_abs_y',\n",
       " 'gqa_cep90',\n",
       " 'gqa_iterative_mean_x',\n",
       " 'gqa_iterative_mean_xy',\n",
       " 'gqa_iterative_mean_y',\n",
       " 'gqa_iterative_stddev_x',\n",
       " 'gqa_iterative_stddev_xy',\n",
       " 'gqa_iterative_stddev_y',\n",
       " 'gqa_mean_x',\n",
       " 'gqa_mean_xy',\n",
       " 'gqa_mean_y',\n",
       " 'gqa_stddev_x',\n",
       " 'gqa_stddev_xy',\n",
       " 'gqa_stddev_y',\n",
       " 'grid_spatial',\n",
       " 'id',\n",
       " 'instrument',\n",
       " 'label',\n",
       " 'lat',\n",
       " 'lon',\n",
       " 'measurements',\n",
       " 'platform',\n",
       " 'product_family',\n",
       " 'region_code',\n",
       " 's2cloudless_clear',\n",
       " 's2cloudless_cloud',\n",
       " 'sentinel_datastrip_id',\n",
       " 'sentinel_product_name',\n",
       " 'sentinel_tile_id',\n",
       " 'sources',\n",
       " 'time']"
      ]
     },
     "execution_count": 91,
     "metadata": {},
     "output_type": "execute_result"
    }
   ],
   "source": [
    "dir(dss[0].metadata)"
   ]
  },
  {
   "cell_type": "code",
   "execution_count": 130,
   "id": "6b3c713f-2c4b-4571-8b4a-d516d032a4bc",
   "metadata": {},
   "outputs": [
    {
     "data": {
      "text/html": [
       "<div>\n",
       "<style scoped>\n",
       "    .dataframe tbody tr th:only-of-type {\n",
       "        vertical-align: middle;\n",
       "    }\n",
       "\n",
       "    .dataframe tbody tr th {\n",
       "        vertical-align: top;\n",
       "    }\n",
       "\n",
       "    .dataframe thead th {\n",
       "        text-align: right;\n",
       "    }\n",
       "</style>\n",
       "<table border=\"1\" class=\"dataframe\">\n",
       "  <thead>\n",
       "    <tr style=\"text-align: right;\">\n",
       "      <th></th>\n",
       "      <th>region_code</th>\n",
       "      <th>s2cloudless_cloud</th>\n",
       "      <th>gqa_mean_xy</th>\n",
       "    </tr>\n",
       "  </thead>\n",
       "  <tbody>\n",
       "    <tr>\n",
       "      <th>0</th>\n",
       "      <td>49JFM</td>\n",
       "      <td>2.713082</td>\n",
       "      <td>0.24</td>\n",
       "    </tr>\n",
       "    <tr>\n",
       "      <th>1</th>\n",
       "      <td>49JFM</td>\n",
       "      <td>0.523513</td>\n",
       "      <td>0.25</td>\n",
       "    </tr>\n",
       "    <tr>\n",
       "      <th>2</th>\n",
       "      <td>49JFM</td>\n",
       "      <td>0.759414</td>\n",
       "      <td>0.36</td>\n",
       "    </tr>\n",
       "    <tr>\n",
       "      <th>3</th>\n",
       "      <td>49JFM</td>\n",
       "      <td>76.479262</td>\n",
       "      <td>NaN</td>\n",
       "    </tr>\n",
       "    <tr>\n",
       "      <th>4</th>\n",
       "      <td>49JFM</td>\n",
       "      <td>0.662456</td>\n",
       "      <td>67.36</td>\n",
       "    </tr>\n",
       "    <tr>\n",
       "      <th>...</th>\n",
       "      <td>...</td>\n",
       "      <td>...</td>\n",
       "      <td>...</td>\n",
       "    </tr>\n",
       "    <tr>\n",
       "      <th>383127</th>\n",
       "      <td>56KPC</td>\n",
       "      <td>0.000000</td>\n",
       "      <td>NaN</td>\n",
       "    </tr>\n",
       "    <tr>\n",
       "      <th>383128</th>\n",
       "      <td>56KPC</td>\n",
       "      <td>44.120842</td>\n",
       "      <td>NaN</td>\n",
       "    </tr>\n",
       "    <tr>\n",
       "      <th>383129</th>\n",
       "      <td>56KPC</td>\n",
       "      <td>97.620657</td>\n",
       "      <td>NaN</td>\n",
       "    </tr>\n",
       "    <tr>\n",
       "      <th>383130</th>\n",
       "      <td>56KPC</td>\n",
       "      <td>71.813482</td>\n",
       "      <td>NaN</td>\n",
       "    </tr>\n",
       "    <tr>\n",
       "      <th>383131</th>\n",
       "      <td>56KPC</td>\n",
       "      <td>90.709048</td>\n",
       "      <td>NaN</td>\n",
       "    </tr>\n",
       "  </tbody>\n",
       "</table>\n",
       "<p>383132 rows × 3 columns</p>\n",
       "</div>"
      ],
      "text/plain": [
       "       region_code  s2cloudless_cloud  gqa_mean_xy\n",
       "0            49JFM           2.713082         0.24\n",
       "1            49JFM           0.523513         0.25\n",
       "2            49JFM           0.759414         0.36\n",
       "3            49JFM          76.479262          NaN\n",
       "4            49JFM           0.662456        67.36\n",
       "...            ...                ...          ...\n",
       "383127       56KPC           0.000000          NaN\n",
       "383128       56KPC          44.120842          NaN\n",
       "383129       56KPC          97.620657          NaN\n",
       "383130       56KPC          71.813482          NaN\n",
       "383131       56KPC          90.709048          NaN\n",
       "\n",
       "[383132 rows x 3 columns]"
      ]
     },
     "execution_count": 130,
     "metadata": {},
     "output_type": "execute_result"
    }
   ],
   "source": [
    "fields = (\"region_code\", \"s2cloudless_cloud\", \"gqa_mean_xy\")\n",
    "\n",
    "metadata_df = pd.DataFrame({k: i.metadata.fields[k] for k in fields} for i in dss)\n",
    "\n",
    "metadata_df"
   ]
  },
  {
   "cell_type": "code",
   "execution_count": 133,
   "id": "76e4ba5a-5b5a-48d4-9543-492ab5b90e9c",
   "metadata": {},
   "outputs": [],
   "source": [
    "metadata_df = metadata_df.set_index(\"region_code\")"
   ]
  },
  {
   "cell_type": "code",
   "execution_count": 113,
   "id": "6167a07a-0922-45ba-97a2-f06065fe6ece",
   "metadata": {},
   "outputs": [],
   "source": [
    "# metadata_df = pd.concat([pd.DataFrame(data={'Name': [i.metadata.region_code], \n",
    "#                                             'gqa_mean_xy': [i.metadata.gqa_mean_xy],\n",
    "#                                             's2cloudless_cloud': [i.metadata.s2cloudless_cloud]}) for i in dss]).set_index('Name')"
   ]
  },
  {
   "cell_type": "code",
   "execution_count": 134,
   "id": "7426b52c-0096-495d-b1e3-cc2fdd0f164a",
   "metadata": {},
   "outputs": [],
   "source": [
    "metadata_df['gqa_invalid'] = metadata_df.gqa_mean_xy.isna()"
   ]
  },
  {
   "cell_type": "code",
   "execution_count": 137,
   "id": "41227413-55a2-4fda-a714-1b58afc50382",
   "metadata": {},
   "outputs": [],
   "source": [
    "metadata_df_summary = metadata_df[[\"gqa_invalid\"]].groupby('region_code').mean()\n",
    "metadata_df_summary[\"gqa_mean_xy\"] = metadata_df.query(\"s2cloudless_cloud < 50\")[[\"gqa_mean_xy\"]].groupby('region_code').median()"
   ]
  },
  {
   "cell_type": "code",
   "execution_count": 138,
   "id": "db3833b8-baa0-4cb4-9535-55658e2facef",
   "metadata": {},
   "outputs": [
    {
     "data": {
      "text/html": [
       "<div>\n",
       "<style scoped>\n",
       "    .dataframe tbody tr th:only-of-type {\n",
       "        vertical-align: middle;\n",
       "    }\n",
       "\n",
       "    .dataframe tbody tr th {\n",
       "        vertical-align: top;\n",
       "    }\n",
       "\n",
       "    .dataframe thead th {\n",
       "        text-align: right;\n",
       "    }\n",
       "</style>\n",
       "<table border=\"1\" class=\"dataframe\">\n",
       "  <thead>\n",
       "    <tr style=\"text-align: right;\">\n",
       "      <th></th>\n",
       "      <th>gqa_invalid</th>\n",
       "      <th>gqa_mean_xy</th>\n",
       "    </tr>\n",
       "    <tr>\n",
       "      <th>region_code</th>\n",
       "      <th></th>\n",
       "      <th></th>\n",
       "    </tr>\n",
       "  </thead>\n",
       "  <tbody>\n",
       "    <tr>\n",
       "      <th>49JFM</th>\n",
       "      <td>0.220859</td>\n",
       "      <td>31.395</td>\n",
       "    </tr>\n",
       "    <tr>\n",
       "      <th>49JFN</th>\n",
       "      <td>0.732218</td>\n",
       "      <td>45.965</td>\n",
       "    </tr>\n",
       "    <tr>\n",
       "      <th>49JGH</th>\n",
       "      <td>0.990698</td>\n",
       "      <td>0.585</td>\n",
       "    </tr>\n",
       "    <tr>\n",
       "      <th>49JGJ</th>\n",
       "      <td>0.057018</td>\n",
       "      <td>0.590</td>\n",
       "    </tr>\n",
       "    <tr>\n",
       "      <th>49JGK</th>\n",
       "      <td>0.170259</td>\n",
       "      <td>51.010</td>\n",
       "    </tr>\n",
       "    <tr>\n",
       "      <th>...</th>\n",
       "      <td>...</td>\n",
       "      <td>...</td>\n",
       "    </tr>\n",
       "    <tr>\n",
       "      <th>56KMU</th>\n",
       "      <td>0.108696</td>\n",
       "      <td>0.610</td>\n",
       "    </tr>\n",
       "    <tr>\n",
       "      <th>56KNA</th>\n",
       "      <td>1.000000</td>\n",
       "      <td>NaN</td>\n",
       "    </tr>\n",
       "    <tr>\n",
       "      <th>56KNB</th>\n",
       "      <td>1.000000</td>\n",
       "      <td>NaN</td>\n",
       "    </tr>\n",
       "    <tr>\n",
       "      <th>56KPB</th>\n",
       "      <td>1.000000</td>\n",
       "      <td>NaN</td>\n",
       "    </tr>\n",
       "    <tr>\n",
       "      <th>56KPC</th>\n",
       "      <td>1.000000</td>\n",
       "      <td>NaN</td>\n",
       "    </tr>\n",
       "  </tbody>\n",
       "</table>\n",
       "<p>1053 rows × 2 columns</p>\n",
       "</div>"
      ],
      "text/plain": [
       "             gqa_invalid  gqa_mean_xy\n",
       "region_code                          \n",
       "49JFM           0.220859       31.395\n",
       "49JFN           0.732218       45.965\n",
       "49JGH           0.990698        0.585\n",
       "49JGJ           0.057018        0.590\n",
       "49JGK           0.170259       51.010\n",
       "...                  ...          ...\n",
       "56KMU           0.108696        0.610\n",
       "56KNA           1.000000          NaN\n",
       "56KNB           1.000000          NaN\n",
       "56KPB           1.000000          NaN\n",
       "56KPC           1.000000          NaN\n",
       "\n",
       "[1053 rows x 2 columns]"
      ]
     },
     "execution_count": 138,
     "metadata": {},
     "output_type": "execute_result"
    }
   ],
   "source": [
    "metadata_df_summary"
   ]
  },
  {
   "cell_type": "code",
   "execution_count": 46,
   "id": "596fc3b7-df5d-45c4-adc0-457773fbf71d",
   "metadata": {},
   "outputs": [],
   "source": [
    "s2_mgrs = gpd.read_file('https://data.dea.ga.gov.au/derivative/ga_s2_mgrs_tile_grid.geojson').set_index('Name')"
   ]
  },
  {
   "cell_type": "code",
   "execution_count": 47,
   "id": "062b4124-45a2-4a92-a401-cd22010429db",
   "metadata": {},
   "outputs": [
    {
     "data": {
      "text/html": [
       "<div>\n",
       "<style scoped>\n",
       "    .dataframe tbody tr th:only-of-type {\n",
       "        vertical-align: middle;\n",
       "    }\n",
       "\n",
       "    .dataframe tbody tr th {\n",
       "        vertical-align: top;\n",
       "    }\n",
       "\n",
       "    .dataframe thead th {\n",
       "        text-align: right;\n",
       "    }\n",
       "</style>\n",
       "<table border=\"1\" class=\"dataframe\">\n",
       "  <thead>\n",
       "    <tr style=\"text-align: right;\">\n",
       "      <th></th>\n",
       "      <th>geometry</th>\n",
       "    </tr>\n",
       "    <tr>\n",
       "      <th>Name</th>\n",
       "      <th></th>\n",
       "    </tr>\n",
       "  </thead>\n",
       "  <tbody>\n",
       "    <tr>\n",
       "      <th>49GCJ</th>\n",
       "      <td>MULTIPOLYGON Z (((108.41593 -46.02435 0.00000,...</td>\n",
       "    </tr>\n",
       "    <tr>\n",
       "      <th>49GCK</th>\n",
       "      <td>MULTIPOLYGON Z (((108.45688 -45.12497 0.00000,...</td>\n",
       "    </tr>\n",
       "    <tr>\n",
       "      <th>49GCL</th>\n",
       "      <td>MULTIPOLYGON Z (((108.49595 -44.22542 0.00000,...</td>\n",
       "    </tr>\n",
       "    <tr>\n",
       "      <th>49GCM</th>\n",
       "      <td>MULTIPOLYGON Z (((108.53322 -43.32625 0.00000,...</td>\n",
       "    </tr>\n",
       "    <tr>\n",
       "      <th>49GCN</th>\n",
       "      <td>MULTIPOLYGON Z (((108.56882 -42.42636 0.00000,...</td>\n",
       "    </tr>\n",
       "    <tr>\n",
       "      <th>...</th>\n",
       "      <td>...</td>\n",
       "    </tr>\n",
       "    <tr>\n",
       "      <th>57LTJ</th>\n",
       "      <td>MULTIPOLYGON Z (((156.26397 -9.93968 0.00000, ...</td>\n",
       "    </tr>\n",
       "    <tr>\n",
       "      <th>57LTK</th>\n",
       "      <td>MULTIPOLYGON Z (((156.27113 -9.03605 0.00000, ...</td>\n",
       "    </tr>\n",
       "    <tr>\n",
       "      <th>57LTL</th>\n",
       "      <td>MULTIPOLYGON Z (((156.27758 -8.13291 0.00000, ...</td>\n",
       "    </tr>\n",
       "    <tr>\n",
       "      <th>57MTM</th>\n",
       "      <td>MULTIPOLYGON Z (((156.28333 -7.22918 0.00000, ...</td>\n",
       "    </tr>\n",
       "    <tr>\n",
       "      <th>57MTN</th>\n",
       "      <td>MULTIPOLYGON Z (((156.28839 -6.32542 0.00000, ...</td>\n",
       "    </tr>\n",
       "  </tbody>\n",
       "</table>\n",
       "<p>2323 rows × 1 columns</p>\n",
       "</div>"
      ],
      "text/plain": [
       "                                                geometry\n",
       "Name                                                    \n",
       "49GCJ  MULTIPOLYGON Z (((108.41593 -46.02435 0.00000,...\n",
       "49GCK  MULTIPOLYGON Z (((108.45688 -45.12497 0.00000,...\n",
       "49GCL  MULTIPOLYGON Z (((108.49595 -44.22542 0.00000,...\n",
       "49GCM  MULTIPOLYGON Z (((108.53322 -43.32625 0.00000,...\n",
       "49GCN  MULTIPOLYGON Z (((108.56882 -42.42636 0.00000,...\n",
       "...                                                  ...\n",
       "57LTJ  MULTIPOLYGON Z (((156.26397 -9.93968 0.00000, ...\n",
       "57LTK  MULTIPOLYGON Z (((156.27113 -9.03605 0.00000, ...\n",
       "57LTL  MULTIPOLYGON Z (((156.27758 -8.13291 0.00000, ...\n",
       "57MTM  MULTIPOLYGON Z (((156.28333 -7.22918 0.00000, ...\n",
       "57MTN  MULTIPOLYGON Z (((156.28839 -6.32542 0.00000, ...\n",
       "\n",
       "[2323 rows x 1 columns]"
      ]
     },
     "execution_count": 47,
     "metadata": {},
     "output_type": "execute_result"
    }
   ],
   "source": [
    "s2_mgrs"
   ]
  },
  {
   "cell_type": "code",
   "execution_count": 139,
   "id": "077e2649-7621-4386-a433-2d9e7c712dab",
   "metadata": {},
   "outputs": [],
   "source": [
    "s2_mgrs.join(metadata_df_summary).to_file('s2_mgrs_gqa.geojson')"
   ]
  },
  {
   "cell_type": "markdown",
   "id": "e37d8251-fc9b-4f70-84c4-308c7b780b25",
   "metadata": {},
   "source": [
    "## Load GCPs"
   ]
  },
  {
   "cell_type": "code",
   "execution_count": null,
   "id": "60615e29-0989-4a81-87f1-dd27bd24637a",
   "metadata": {},
   "outputs": [],
   "source": [
    "# !unzip Fix_QA_points.zip -d GCP_points"
   ]
  },
  {
   "cell_type": "code",
   "execution_count": 33,
   "id": "4485ae77-d41f-4fac-bcdd-730a4050a6cf",
   "metadata": {},
   "outputs": [],
   "source": [
    "import pandas as pd\n",
    "import geopandas as gpd\n",
    "import glob\n"
   ]
  },
  {
   "cell_type": "code",
   "execution_count": 15,
   "id": "1c0f8c7c-98cf-4c63-beff-9a0fa4834cfe",
   "metadata": {},
   "outputs": [],
   "source": [
    "all_files = glob.glob('GCP_points/Fix_QA_points/*/*/*.txt')\n",
    "all_files_clean = [i for i in all_files if 'old' not in i]"
   ]
  },
  {
   "cell_type": "code",
   "execution_count": 29,
   "id": "2f14fece-e676-4521-8aa5-65d148846296",
   "metadata": {},
   "outputs": [],
   "source": [
    "dfs = [pd.read_csv(file, header=None) for file in all_files_clean]\n",
    "df = pd.concat(dfs)\n",
    "df.columns = ['x', 'y']"
   ]
  },
  {
   "cell_type": "code",
   "execution_count": 40,
   "id": "de3fe596-b794-428b-bb91-39452164350a",
   "metadata": {},
   "outputs": [],
   "source": [
    "gpd.GeoDataFrame(geometry=gpd.points_from_xy(x=df.x, y=df.y), crs='EPSG:4326').to_file('gcp_points.geojson')"
   ]
  },
  {
   "cell_type": "code",
   "execution_count": null,
   "id": "237ebc72-8038-42c8-836e-425d076ff660",
   "metadata": {},
   "outputs": [],
   "source": []
  }
 ],
 "metadata": {
  "kernelspec": {
   "display_name": "Python 3 (ipykernel)",
   "language": "python",
   "name": "python3"
  },
  "language_info": {
   "codemirror_mode": {
    "name": "ipython",
    "version": 3
   },
   "file_extension": ".py",
   "mimetype": "text/x-python",
   "name": "python",
   "nbconvert_exporter": "python",
   "pygments_lexer": "ipython3",
   "version": "3.8.10"
  },
  "widgets": {
   "application/vnd.jupyter.widget-state+json": {
    "state": {},
    "version_major": 2,
    "version_minor": 0
   }
  }
 },
 "nbformat": 4,
 "nbformat_minor": 5
}
