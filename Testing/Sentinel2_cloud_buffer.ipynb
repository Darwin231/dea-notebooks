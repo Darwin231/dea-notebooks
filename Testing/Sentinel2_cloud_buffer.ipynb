{
 "cells": [
  {
   "cell_type": "markdown",
   "metadata": {},
   "source": [
    "# Issue with contiguity masking Sentinel-2 at 10m resolution\n",
    "\n",
    "## Sample query"
   ]
  },
  {
   "cell_type": "code",
   "execution_count": null,
   "metadata": {},
   "outputs": [],
   "source": [
    "import datacube\n",
    "dc = datacube.Datacube(app='S2-Landsat-Comparison')"
   ]
  },
  {
   "cell_type": "code",
   "execution_count": null,
   "metadata": {},
   "outputs": [],
   "source": [
    "# This works correctly\n",
    "ls7_wo_noinit = dc.load(product='ga_ls_wo_3', id='5ebee006-33d8-5841-8c5f-23721b0506a5', output_crs='epsg:32752', resolution=(-10, 10), resampling='nearest')"
   ]
  },
  {
   "cell_type": "code",
   "execution_count": null,
   "metadata": {},
   "outputs": [],
   "source": [
    "ls7_wo_init = dc.load(product='ga_ls_wo_3', id='5ebee006-33d8-5841-8c5f-23721b0506a5', output_crs='+init=epsg:32752', resolution=(-10, 10), resampling='nearest')"
   ]
  },
  {
   "cell_type": "code",
   "execution_count": null,
   "metadata": {},
   "outputs": [],
   "source": [
    "# rasterio.warp.calculate_default_transform('EPSG:32752', 'EPSG:3577', 10980, 10980, 699960.0, 6790240.0, 809760.0, 6900040.0)\n",
    "ls7_wo = dc.load(product='ga_ls_wo_3', id='5ebee006-33d8-5841-8c5f-23721b0506a5', output_crs='+init=epsg:32752', resolution=(-10, 10), resampling='nearest')"
   ]
  },
  {
   "cell_type": "code",
   "execution_count": null,
   "metadata": {},
   "outputs": [],
   "source": [
    "ls7_wo = dc.load(product='ga_ls_wo_3', id='5ebee006-33d8-5841-8c5f-23721b0506a5', output_crs='epsg:32752', resolution=(-10, 10), resampling='nearest')"
   ]
  },
  {
   "cell_type": "code",
   "execution_count": null,
   "metadata": {},
   "outputs": [],
   "source": [
    "import odc.algo\n",
    "import datacube \n",
    "import xarray as xr\n",
    "import matplotlib.pyplot as plt\n",
    "\n",
    "import sys\n",
    "sys.path.append('../Scripts')\n",
    "from dea_dask import create_local_dask_cluster\n",
    "\n",
    "dc = datacube.Datacube()\n",
    "\n",
    "\n",
    "\n",
    "# Jervis Bay\n",
    "ymax, xmin = -35.075, 150.687\n",
    "ymin, xmax = -35.135, 150.712\n",
    "\n",
    "# Jervis Bay\n",
    "ymax, xmin = -35.00, 150.60\n",
    "ymin, xmax = -35.20, 150.80\n",
    "\n",
    "# # # Gold Coast\n",
    "# ymax, xmin = -28.086443, 153.445244\n",
    "# ymin, xmax = -28.274374, 153.598194\n",
    "\n",
    "\n",
    "# # Sydney\n",
    "# ymax, xmin = -33.825292, 151.192090\n",
    "# ymin, xmax = -34.014403, 151.309498\n",
    "\n",
    "# # Perth\n",
    "# ymax, xmin = -31.658507, 115.657332\n",
    "# ymin, xmax = -31.951340, 115.955074\n",
    "\n",
    "query = {\n",
    "    'x': (xmin, xmax),\n",
    "    'y': (ymax, ymin),\n",
    "    'time': ('2018-01', '2018-01'),\n",
    "    'measurements': ['nbart_red', 'nbart_green', 'nbart_blue', 'fmask', 'nbart_contiguity'],\n",
    "    'output_crs': 'EPSG:32756',\n",
    "    'group_by': 'solar_day',\n",
    "    'resolution': (-30, 30),\n",
    "}\n",
    "\n",
    "\n",
    "create_local_dask_cluster()\n"
   ]
  },
  {
   "cell_type": "code",
   "execution_count": null,
   "metadata": {},
   "outputs": [],
   "source": [
    "import odc.algo\n",
    "import datacube \n",
    "import xarray as xr\n",
    "import matplotlib.pyplot as plt\n",
    "\n",
    "import sys\n",
    "sys.path.append('../Scripts')\n",
    "from dea_dask import create_local_dask_cluster\n",
    "\n",
    "dc = datacube.Datacube()\n",
    "\n",
    "\n",
    "# Flowchart example\n",
    "ymax, xmin = -35.84, 150.135\n",
    "ymin, xmax = -35.92, 150.205\n",
    "\n",
    "\n",
    "query = {\n",
    "    'x': (xmin, xmax),\n",
    "    'y': (ymax, ymin),\n",
    "    'time': ('2018-01', '2018-12'),\n",
    "    'measurements': ['nbart_swir_1', 'nbart_green'],\n",
    "    'output_crs': 'EPSG:32755',\n",
    "    'group_by': 'solar_day',\n",
    "#     'resampling': 'average',\n",
    "    'resolution': (-30, 30),\n",
    "}\n",
    "\n",
    "\n",
    "ds = dc.load(product=['ga_ls8c_ard_3'],\n",
    "             dask_chunks={'x': 3000, 'y': 3000, 'time': 1},\n",
    "             **query)\n",
    "ds"
   ]
  },
  {
   "cell_type": "code",
   "execution_count": null,
   "metadata": {},
   "outputs": [],
   "source": [
    "mndwi = (ds.nbart_green - ds.nbart_swir_1) / (ds.nbart_green + ds.nbart_swir_1)\n",
    "# mndwi.plot(robust=True, col='time', col_wrap=3)"
   ]
  },
  {
   "cell_type": "code",
   "execution_count": null,
   "metadata": {},
   "outputs": [],
   "source": [
    "mndwi.isel(time=19).plot(robust=True, aspect=0.9, size=15, cmap='RdBu')\n",
    "plt.gcf().savefig('out.png', dpi=95)"
   ]
  },
  {
   "cell_type": "code",
   "execution_count": null,
   "metadata": {},
   "outputs": [],
   "source": [
    "import datacube \n",
    "# from skimage.morphology import binary_opening, disk\n",
    "import xarray as xr\n",
    "import numpy as np\n",
    "\n",
    "ds = dc.load(product=['ga_ls7e_ard_3'],  #['ga_ls7e_ard_3'],\n",
    "             dask_chunks={'x': 3000, 'y': 750, 'time': 1},\n",
    "             **query)\n",
    "ds\n"
   ]
  },
  {
   "cell_type": "code",
   "execution_count": null,
   "metadata": {},
   "outputs": [],
   "source": [
    "import odc.algo"
   ]
  },
  {
   "cell_type": "code",
   "execution_count": null,
   "metadata": {},
   "outputs": [],
   "source": [
    "import dask\n",
    "dask.__version__"
   ]
  },
  {
   "cell_type": "code",
   "execution_count": null,
   "metadata": {},
   "outputs": [],
   "source": [
    "pip install --upgrade dask"
   ]
  },
  {
   "cell_type": "code",
   "execution_count": null,
   "metadata": {},
   "outputs": [],
   "source": [
    "known_cloud =  (ds.fmask == 2) | (ds.fmask == 3) | (ds.fmask == 4)\n",
    "odc.algo.binary_closing(known_cloud, 10)"
   ]
  },
  {
   "cell_type": "code",
   "execution_count": null,
   "metadata": {},
   "outputs": [],
   "source": [
    "# ds.fmask.plot(col='time')"
   ]
  },
  {
   "cell_type": "code",
   "execution_count": null,
   "metadata": {},
   "outputs": [],
   "source": [
    "known_cloud.plot(col='time', size=7)"
   ]
  },
  {
   "cell_type": "code",
   "execution_count": null,
   "metadata": {},
   "outputs": [],
   "source": [
    "known_cloud =  (ds.fmask == 2) | (ds.fmask == 3) | (ds.fmask == 4)\n",
    "known_clear = ds.fmask != 0\n",
    "known_cloud.plot(col='time', size=5)"
   ]
  },
  {
   "cell_type": "code",
   "execution_count": null,
   "metadata": {},
   "outputs": [],
   "source": [
    "cloud_dilated = odc.algo.binary_closing(known_cloud, 10)\n",
    "cloud_gapfilled = known_cloud.where(known_clear, cloud_dilated)\n",
    "cloud_gapfilled.plot(col='time', size=5)"
   ]
  },
  {
   "cell_type": "code",
   "execution_count": null,
   "metadata": {},
   "outputs": [],
   "source": [
    "odc.algo.binary_opening(cloud_gapfilled, 10).plot(col='time', size=5)"
   ]
  },
  {
   "cell_type": "code",
   "execution_count": null,
   "metadata": {},
   "outputs": [],
   "source": [
    "mask.where(~mask_nodata, odc.algo.binary_closing(mask, 10)).plot(col='time', size=7)"
   ]
  },
  {
   "cell_type": "code",
   "execution_count": null,
   "metadata": {},
   "outputs": [],
   "source": [
    "mask =  (ds.fmask == 0) | (ds.fmask == 2) | (ds.fmask == 3) | (ds.fmask == 4)\n",
    "mask.mean(dim='time').plot(size=10, vmin=0, vmax=1.0)"
   ]
  },
  {
   "cell_type": "code",
   "execution_count": null,
   "metadata": {},
   "outputs": [],
   "source": [
    "import odc.algo\n",
    "\n",
    "mask = odc.algo.enum_to_bool(ds.fmask, categories=['nodata', 'cloud', 'shadow', 'snow'])\n",
    "mask = odc.algo.binary_closing(mask, 2)\n",
    "mask_cleaned = odc.algo.mask_cleanup(mask, r=(10, 5))\n",
    "ds_masked = odc.algo.erase_bad(ds, mask_cleaned)"
   ]
  },
  {
   "cell_type": "code",
   "execution_count": null,
   "metadata": {},
   "outputs": [],
   "source": [
    "(ds_masked.nbart_red == -999).plot(col='time')  #.mean(dim='time').plot(size=10, vmin=0, vmax=1.0)"
   ]
  },
  {
   "cell_type": "code",
   "execution_count": null,
   "metadata": {},
   "outputs": [],
   "source": []
  },
  {
   "cell_type": "code",
   "execution_count": null,
   "metadata": {},
   "outputs": [],
   "source": [
    "erase_bad(ds, ((ds.fmask == 0) | (ds.fmask == 2) | (ds.fmask == 3) | (ds.fmask == 4))).nbart_red.plot(col='time', size=10)"
   ]
  },
  {
   "cell_type": "code",
   "execution_count": null,
   "metadata": {},
   "outputs": [],
   "source": [
    "from odc.algo import erase_bad"
   ]
  },
  {
   "cell_type": "code",
   "execution_count": null,
   "metadata": {},
   "outputs": [],
   "source": [
    ".isel(time=0).nbart_red.plot()"
   ]
  },
  {
   "cell_type": "code",
   "execution_count": null,
   "metadata": {},
   "outputs": [],
   "source": [
    "\n",
    "mask_closed.plot(col='time')"
   ]
  },
  {
   "cell_type": "code",
   "execution_count": null,
   "metadata": {},
   "outputs": [],
   "source": [
    "  #"
   ]
  },
  {
   "cell_type": "code",
   "execution_count": null,
   "metadata": {},
   "outputs": [],
   "source": [
    "mask_closed.plot(col='time')"
   ]
  },
  {
   "cell_type": "code",
   "execution_count": null,
   "metadata": {},
   "outputs": [],
   "source": []
  },
  {
   "cell_type": "code",
   "execution_count": null,
   "metadata": {},
   "outputs": [],
   "source": [
    "mask_cleaned.where(ds.fmask != 0, 1).plot(col='time')"
   ]
  },
  {
   "cell_type": "code",
   "execution_count": null,
   "metadata": {},
   "outputs": [],
   "source": [
    "(ds.fmask == 0).plot(col='time')"
   ]
  },
  {
   "cell_type": "code",
   "execution_count": null,
   "metadata": {},
   "outputs": [],
   "source": [
    "from odc.algo import binary_dilation"
   ]
  },
  {
   "cell_type": "code",
   "execution_count": null,
   "metadata": {},
   "outputs": [],
   "source": [
    "from skimage.morphology import binary_opening, disk\n",
    "import xarray as xr\n",
    "import numpy as np\n",
    "\n",
    "mask = (ds.fmask == 0).load()\n",
    "\n",
    "kernel = disk(5)\n",
    "mask = xr.apply_ufunc(binary_opening,\n",
    "                      mask,\n",
    "                      kernel.reshape((1,) + kernel.shape),\n",
    "                      output_dtypes=[np.bool],\n",
    "                      dask='parallelized',\n",
    "                      keep_attrs=True)"
   ]
  },
  {
   "cell_type": "markdown",
   "metadata": {},
   "source": [
    "## Load and preview data at 20m resolution"
   ]
  },
  {
   "cell_type": "code",
   "execution_count": null,
   "metadata": {},
   "outputs": [],
   "source": [
    "# Load data\n",
    "ds = dc.load(product='s2b_ard_granule', \n",
    "#              resolution=(-20, 20),\n",
    "             **query)"
   ]
  },
  {
   "cell_type": "markdown",
   "metadata": {},
   "source": [
    "## Create basic fmask mask"
   ]
  },
  {
   "cell_type": "code",
   "execution_count": null,
   "metadata": {},
   "outputs": [],
   "source": [
    "# ds.fmask.plot(col='time', col_wrap=4)"
   ]
  },
  {
   "cell_type": "code",
   "execution_count": null,
   "metadata": {},
   "outputs": [],
   "source": [
    "mask = odc.algo.fmask_to_bool(ds.fmask, categories=['valid', 'snow', 'water'])"
   ]
  },
  {
   "cell_type": "code",
   "execution_count": null,
   "metadata": {},
   "outputs": [],
   "source": [
    "# mask.plot(col='time', col_wrap=4)"
   ]
  },
  {
   "cell_type": "markdown",
   "metadata": {},
   "source": [
    "## Create cleaned and buffered mask"
   ]
  },
  {
   "cell_type": "code",
   "execution_count": null,
   "metadata": {},
   "outputs": [],
   "source": [
    "from skimage.morphology import binary_erosion, binary_dilation, binary_closing, disk\n",
    "\n",
    "# def cloud_buffer(da, radius=0, base_radius=10):\n",
    "\n",
    "#     # First remove small or narrow features using morphological closing\n",
    "#     mask_closing = binary_closing(da, disk(base_radius))\n",
    "    \n",
    "#     # Then buffer remaining pixels by a radius to mask cloud edges\n",
    "#     mask_buffer = binary_erosion(mask_closing, disk(radius))\n",
    "    \n",
    "#     return mask_buffer\n",
    "\n",
    "def cloud_buffer(da, dilate_radius=15, erode_radius=5):\n",
    "\n",
    "    # First remove small or narrow features using morphological closing\n",
    "    mask_dilated = binary_dilation(da, disk(dilate_radius))\n",
    "    \n",
    "    # Then buffer remaining pixels by a radius to mask cloud edges\n",
    "    mask_eroded = binary_erosion(mask_dilated, disk(erode_radius))\n",
    "    \n",
    "    return mask_eroded\n",
    "\n"
   ]
  },
  {
   "cell_type": "code",
   "execution_count": null,
   "metadata": {},
   "outputs": [],
   "source": [
    "new_mask = mask.groupby('time').apply(cloud_buffer)\n",
    "cloudy_scenes = ds.where(new_mask).nbart_blue.mean(dim=['x', 'y']) < 3000\n",
    "\n",
    "# Compute median RGB and sum of good data through time\n",
    "rgb_mask = ds.where(mask).sel(time=cloudy_scenes)[['nbart_red', 'nbart_green', 'nbart_blue']].median(dim='time')\n",
    "rgb_new_mask = ds.where(new_mask).sel(time=cloudy_scenes)[['nbart_red', 'nbart_green', 'nbart_blue']].median(dim='time')\n",
    "sum_mask = mask.sel(time=cloudy_scenes).sum(dim='time')\n",
    "sum_new_mask = new_mask.sel(time=cloudy_scenes).sum(dim='time')\n",
    "\n",
    "\n",
    "# Create four panel figure\n",
    "fig, axes = plt.subplots(2, 2, figsize=(12, 15))\n",
    "\n",
    "# Plot median RGB composites into left column\n",
    "rgb_mask.to_array().plot.imshow(robust=True, ax=axes[0, 0])\n",
    "rgb_new_mask.to_array().plot.imshow(robust=True, ax=axes[1, 0])\n",
    "\n",
    "# Calculate count stats and plot count arrays into right column\n",
    "vmax = xr.concat([sum_mask.max(), sum_new_mask.max()], dim='time').max().item()\n",
    "sum_mask.plot(vmin=0, vmax=vmax, ax=axes[0, 1], cmap='YlOrRd_r')\n",
    "sum_new_mask.plot(vmin=0, vmax=vmax, ax=axes[1, 1], cmap='YlOrRd_r')\n",
    "\n",
    "# Set titles\n",
    "axes[0, 0].set_title(\"RGB; fmask\")\n",
    "axes[0, 1].set_title(\"Good data count; fmask\")\n",
    "axes[1, 0].set_title(\"RGB; fmask with filtering\")\n",
    "axes[1, 1].set_title(\"Good data count; fmask with filtering\");"
   ]
  },
  {
   "cell_type": "code",
   "execution_count": null,
   "metadata": {},
   "outputs": [],
   "source": [
    "from datacube.utils.cog import write_cog\n",
    "write_cog(rgb_mask.to_array(), fname='test_old_mask_syd.tif')\n",
    "write_cog(rgb_new_mask.to_array(), fname='test_new_mask_syd.tif')"
   ]
  },
  {
   "cell_type": "code",
   "execution_count": null,
   "metadata": {},
   "outputs": [],
   "source": [
    "# raster = xr.open_rasterio('test2.tif')\n",
    "# write_cog(raster.isel(band=0), fname='raster.tif')\n"
   ]
  },
  {
   "cell_type": "code",
   "execution_count": null,
   "metadata": {},
   "outputs": [],
   "source": []
  },
  {
   "cell_type": "code",
   "execution_count": null,
   "metadata": {},
   "outputs": [],
   "source": [
    "import xarray as xr\n",
    "import datacube\n",
    "\n",
    "# Connect to datacube\n",
    "dc = datacube.Datacube()\n",
    "\n",
    "# Load raster\n",
    "raster = xr.open_rasterio(\"raster.tif\").squeeze(\"band\")\n",
    "\n",
    "# Load data from datacube. `like=raster.geobox` step will load data\n",
    "# from the datacube using the same resolution and CRS of `raster`\n",
    "ds = dc.load(\n",
    "    product=\"s2b_ard_granule\",\n",
    "    measurements=[\"nbart_red\"],\n",
    "    time=(\"2018-01\", \"2018-02\"),\n",
    "    like=raster.geobox,\n",
    "    resampling=\"nearest\",\n",
    "    group_by=\"solar_day\",\n",
    ")\n",
    "\n",
    "# Use raster data as a mask\n",
    "ds.where(raster > 500)"
   ]
  },
  {
   "cell_type": "code",
   "execution_count": null,
   "metadata": {},
   "outputs": [],
   "source": []
  },
  {
   "cell_type": "code",
   "execution_count": null,
   "metadata": {},
   "outputs": [],
   "source": [
    "ds"
   ]
  },
  {
   "cell_type": "code",
   "execution_count": null,
   "metadata": {},
   "outputs": [],
   "source": []
  }
 ],
 "metadata": {
  "kernelspec": {
   "display_name": "Python 3",
   "language": "python",
   "name": "python3"
  },
  "language_info": {
   "codemirror_mode": {
    "name": "ipython",
    "version": 3
   },
   "file_extension": ".py",
   "mimetype": "text/x-python",
   "name": "python",
   "nbconvert_exporter": "python",
   "pygments_lexer": "ipython3",
   "version": "3.6.9"
  },
  "widgets": {
   "application/vnd.jupyter.widget-state+json": {
    "state": {},
    "version_major": 2,
    "version_minor": 0
   }
  }
 },
 "nbformat": 4,
 "nbformat_minor": 4
}
