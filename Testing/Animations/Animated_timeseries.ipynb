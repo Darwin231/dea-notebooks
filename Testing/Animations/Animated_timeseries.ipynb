{
 "cells": [
  {
   "cell_type": "code",
   "execution_count": null,
   "metadata": {},
   "outputs": [],
   "source": [
    "import sys\n",
    "import datacube\n",
    "import numpy as np\n",
    "from odc.ui import select_on_a_map\n",
    "from ipyleaflet import basemaps, basemap_to_tiles\n",
    "\n",
    "sys.path.append('../../Tools')\n",
    "from dea_tools.datahandling import load_ard\n",
    "from dea_tools.datahandling import mostcommon_crs\n",
    "\n",
    "from dea_tools.plotting import xr_animation\n",
    "from dea_tools.coastal import tidal_tag\n",
    "from skimage.color import rgb2hsv, hsv2rgb\n",
    "\n",
    "def hue_sat_val(rgb_array,\n",
    "                hue_mult=1, \n",
    "                sat_mult=0.8, \n",
    "                val_mult=1):   \n",
    "    \n",
    "    # Convert to HSV and multiply bands\n",
    "    hsv_array = rgb2hsv(rgb_array)\n",
    "    hsv_array[:, :, 0] = hsv_array[:, :, 0] * hue_mult\n",
    "    hsv_array[:, :, 1] = hsv_array[:, :, 1] * sat_mult\n",
    "    hsv_array[:, :, 2] = hsv_array[:, :, 2] * val_mult\n",
    "    \n",
    "    # Convert back to RGB\n",
    "    return hsv2rgb(hsv_array.clip(0, 1))\n",
    "\n",
    "\n",
    "dc = datacube.Datacube(app='Animated timeseries' )\n",
    "\n",
    "%load_ext autoreload\n",
    "%autoreload 2"
   ]
  },
  {
   "cell_type": "code",
   "execution_count": null,
   "metadata": {},
   "outputs": [],
   "source": [
    "pip install sparse --no-cache-dir"
   ]
  },
  {
   "cell_type": "code",
   "execution_count": 1,
   "metadata": {},
   "outputs": [
    {
     "ename": "ModuleNotFoundError",
     "evalue": "No module named 'sparse'",
     "output_type": "error",
     "traceback": [
      "\u001b[0;31m---------------------------------------------------------------------------\u001b[0m",
      "\u001b[0;31mModuleNotFoundError\u001b[0m                       Traceback (most recent call last)",
      "\u001b[0;32m/tmp/ipykernel_261/2362044636.py\u001b[0m in \u001b[0;36m<module>\u001b[0;34m\u001b[0m\n\u001b[0;32m----> 1\u001b[0;31m \u001b[0;32mimport\u001b[0m \u001b[0msparse\u001b[0m\u001b[0;34m\u001b[0m\u001b[0;34m\u001b[0m\u001b[0m\n\u001b[0m",
      "\u001b[0;31mModuleNotFoundError\u001b[0m: No module named 'sparse'"
     ]
    }
   ],
   "source": [
    "import sparse"
   ]
  },
  {
   "cell_type": "code",
   "execution_count": null,
   "metadata": {},
   "outputs": [],
   "source": [
    "import pandas as pd\n",
    "import xarray as xr\n",
    "\n",
    "# Dummy x/y data\n",
    "df = pd.DataFrame({'x': [1, 2, 3], \n",
    "                   'y': [5, 6, 7], \n",
    "                   'z': [100, 200, 300]})\n",
    "\n",
    "# Set coordinates as index\n",
    "df = df.set_index(['x', 'y'])\n",
    "\n",
    "# Convert to sparse xarray\n",
    "xr.Dataset.from_dataframe(df, sparse=True)"
   ]
  },
  {
   "cell_type": "code",
   "execution_count": null,
   "metadata": {},
   "outputs": [],
   "source": [
    "# Configure local dask cluster\n",
    "from dea_tools.dask import create_local_dask_cluster\n",
    "create_local_dask_cluster()\n",
    "\n",
    "# # Create dask gateway cluser\n",
    "# from dea_tools.dask import create_dask_gateway_cluster\n",
    "# cluster = create_dask_gateway_cluster()"
   ]
  },
  {
   "cell_type": "code",
   "execution_count": null,
   "metadata": {},
   "outputs": [],
   "source": [
    "from odc.ui import select_on_a_map\n",
    "from ipyleaflet import basemaps, basemap_to_tiles\n",
    "\n",
    "# Plot interactive map to select area\n",
    "basemap = basemap_to_tiles(basemaps.Esri.WorldImagery)\n",
    "geopolygon = select_on_a_map(height='600px',\n",
    "                             layers=(basemap,),\n",
    "                             center=(-26, 135), \n",
    "                             zoom=4) "
   ]
  },
  {
   "cell_type": "code",
   "execution_count": null,
   "metadata": {},
   "outputs": [],
   "source": [
    "# Input params\n",
    "bands=['nbart_red', 'nbart_green', 'nbart_blue']\n",
    "# bands=['nbart_swir_1', 'nbart_nir', 'nbart_green', 'nbart_red']\n",
    "time = ('1987-09', '2021')\n",
    "\n",
    "# Landsat, native res\n",
    "crs = mostcommon_crs(dc=dc, \n",
    "                     product='ga_ls5t_ard_3', \n",
    "                     query={'time': '1990', \n",
    "                            'geopolygon': geopolygon})\n",
    "\n",
    "query = {\n",
    "    'geopolygon': geopolygon,\n",
    "    'time': time,\n",
    "    'measurements': bands,\n",
    "    'resampling': {'fmask': 'nearest', \n",
    "                   'oa_fmask': 'nearest', \n",
    "                   '*': 'cubic'},\n",
    "    'output_crs': crs,\n",
    "    'resolution': (-15, 15),\n",
    "    'group_by': 'solar_day',\n",
    "    'dask_chunks': {'time': 1, 'x': 3000, 'y': 3000}\n",
    "}\n",
    "\n",
    "# # Landsat upscaled res\n",
    "# crs = mostcommon_crs(dc=dc, \n",
    "#                      product='ga_ls5t_ard_3', \n",
    "#                      query={'time': '1990', \n",
    "#                             'geopolygon': geopolygon})\n",
    "\n",
    "# query = {\n",
    "#     'geopolygon': geopolygon,\n",
    "#     'time': time,\n",
    "#     'measurements': bands,\n",
    "#     'resampling': {'fmask': 'nearest', \n",
    "#                    'oa_fmask': 'nearest', \n",
    "#                    '*': 'cubic'},\n",
    "#     'output_crs': crs,\n",
    "#     'resolution': (-10, 10),\n",
    "#     'group_by': 'solar_day',\n",
    "#     'dask_chunks': {'time': 1, 'x': 3000, 'y': 3000}\n",
    "# }\n",
    "\n",
    "# # Sentinel-2 10m res\n",
    "# crs = mostcommon_crs(dc=dc, \n",
    "#                      product='s2a_ard_granule', \n",
    "#                      query={'time': '2018', \n",
    "#                             'geopolygon': geopolygon})\n",
    "\n",
    "# query = {\n",
    "#     'geopolygon': geopolygon,\n",
    "#     'time': time,\n",
    "#     'measurements': bands,\n",
    "#     'resampling': {'fmask': 'nearest', \n",
    "#                    'oa_fmask': 'nearest', \n",
    "#                    '*': 'cubic'},\n",
    "#     'output_crs': crs,\n",
    "#     'resolution': (-10, 10),\n",
    "#     'group_by': 'solar_day',\n",
    "#     'dask_chunks': {'time': 1, 'x': 3000, 'y': 3000}\n",
    "# }"
   ]
  },
  {
   "cell_type": "code",
   "execution_count": null,
   "metadata": {},
   "outputs": [],
   "source": [
    "# Load data\n",
    "ds = load_ard(\n",
    "    dc=dc,\n",
    "    products=[\n",
    "        \"ga_ls5t_ard_3\",\n",
    "        \"ga_ls7e_ard_3\",\n",
    "        \"ga_ls8c_ard_3\",\n",
    "#         \"s2a_ard_granule\",\n",
    "#         \"s2b_ard_granule\",\n",
    "#         \"s2a_nrt_granule\",\n",
    "#         \"s2b_nrt_granule\",\n",
    "    ],\n",
    "    min_gooddata=0.6,\n",
    "    ls7_slc_off=False,\n",
    "    mask_pixel_quality=False,\n",
    "    **query\n",
    ")\n",
    "\n",
    "# Optionally apply tide filtering\n",
    "ds = tidal_tag(ds)\n",
    "ds = ds.sel(time = ds.tide_height < ds.tide_height.median())\n",
    "\n",
    "# Load using dask\n",
    "ds = ds.compute()\n",
    "ds"
   ]
  },
  {
   "cell_type": "markdown",
   "metadata": {},
   "source": [
    "## Pansharpening experiment"
   ]
  },
  {
   "cell_type": "code",
   "execution_count": null,
   "metadata": {},
   "outputs": [],
   "source": [
    "# # Load data\n",
    "# ds_ls57 = load_ard(\n",
    "#     dc=dc,\n",
    "#     products=[\n",
    "#         \"ga_ls5t_ard_3\",\n",
    "#         \"ga_ls7e_ard_3\",\n",
    "#     ],\n",
    "#     min_gooddata=0.6,\n",
    "#     ls7_slc_off=False,\n",
    "#     mask_pixel_quality=False,\n",
    "#     **query\n",
    "# )\n",
    "\n",
    "# ds_ls57 = ds_ls57.compute()"
   ]
  },
  {
   "cell_type": "code",
   "execution_count": null,
   "metadata": {},
   "outputs": [],
   "source": [
    "# query = {\n",
    "#     'geopolygon': geopolygon,\n",
    "#     'time': time,\n",
    "#     'measurements': ['nbar_red', 'nbar_green', 'nbar_blue', 'nbar_panchromatic'],\n",
    "#     'resampling': {'fmask': 'nearest', \n",
    "#                    'oa_fmask': 'nearest', \n",
    "#                    '*': 'cubic'},\n",
    "#     'output_crs': crs,\n",
    "#     'resolution': (-15, 15),\n",
    "#     'group_by': 'solar_day',\n",
    "#     'dask_chunks': {'time': 1, 'x': 3000, 'y': 3000}\n",
    "# }\n",
    "\n",
    "# # Load data\n",
    "# ds_ls8 = load_ard(\n",
    "#     dc=dc,\n",
    "#     products=[\n",
    "#         \"ga_ls8c_ard_3\",\n",
    "#     ],\n",
    "#     min_gooddata=0.6,\n",
    "#     ls7_slc_off=False,\n",
    "#     mask_pixel_quality=False,\n",
    "# #     mask_contiguity='nbart_contiguity',\n",
    "#     **query\n",
    "# )\n",
    "\n",
    "# ds_ls8 = ds_ls8.compute()"
   ]
  },
  {
   "cell_type": "code",
   "execution_count": null,
   "metadata": {},
   "outputs": [],
   "source": [
    "# ds_ls57_pan = ds_ls57.copy()"
   ]
  },
  {
   "cell_type": "code",
   "execution_count": null,
   "metadata": {},
   "outputs": [],
   "source": [
    "# from dea_tools.datahandling import pan_sharpen_brovey\n",
    "# red_sharpen, green_sharpen, blue_sharpen = pan_sharpen_brovey(\n",
    "#             band_1=ds_ls57_pan.nbart_red,\n",
    "#             band_2=ds_ls57_pan.nbart_green,\n",
    "#             band_3=ds_ls57_pan.nbart_blue,\n",
    "#             pan_band=ds_ls8.nbart_panchromatic.median(dim='time'))\n",
    "\n",
    "# ds_ls57_pan['nbart_red'].values = red_sharpen\n",
    "# ds_ls57_pan['nbart_green'].values = green_sharpen\n",
    "# ds_ls57_pan['nbart_blue'].values = blue_sharpen"
   ]
  },
  {
   "cell_type": "code",
   "execution_count": null,
   "metadata": {},
   "outputs": [],
   "source": [
    "# ds_ls57_pan[['nbart_red', 'nbart_green','nbart_blue']].isel(time=5).to_array().plot.imshow(robust=True, size=10)"
   ]
  },
  {
   "cell_type": "code",
   "execution_count": null,
   "metadata": {},
   "outputs": [],
   "source": [
    "# ds_ls57[['nbart_red', 'nbart_green','nbart_blue']].isel(time=5).to_array().plot.imshow(robust=True, size=10)"
   ]
  },
  {
   "cell_type": "code",
   "execution_count": null,
   "metadata": {},
   "outputs": [],
   "source": [
    "# brightness = ds_ls57.to_array().sum(dim='variable')\n",
    "# is_bright = brightness > 2500"
   ]
  },
  {
   "cell_type": "code",
   "execution_count": null,
   "metadata": {},
   "outputs": [],
   "source": [
    "# test = ds_ls57.where(is_bright, ds_ls57_pan)"
   ]
  },
  {
   "cell_type": "code",
   "execution_count": null,
   "metadata": {},
   "outputs": [],
   "source": [
    "# test[['nbart_red', 'nbart_green','nbart_blue']].isel(time=-5).to_array().plot.imshow(robust=True, size=10)"
   ]
  },
  {
   "cell_type": "code",
   "execution_count": null,
   "metadata": {},
   "outputs": [],
   "source": [
    "# ds_ls57.to_array().plot(bins=50)"
   ]
  },
  {
   "cell_type": "code",
   "execution_count": null,
   "metadata": {},
   "outputs": [],
   "source": [
    "# ds_ls57_pan.to_array().plot(bins=50)"
   ]
  },
  {
   "cell_type": "code",
   "execution_count": null,
   "metadata": {},
   "outputs": [],
   "source": [
    "# from dea_tools.datahandling import pan_sharpen_brovey\n",
    "# red_sharpen, green_sharpen, blue_sharpen = pan_sharpen_brovey(\n",
    "#             band_1=ds_ls8.nbar_red,\n",
    "#             band_2=ds_ls8.nbar_green,\n",
    "#             band_3=ds_ls8.nbar_blue,\n",
    "#             pan_band=ds_ls8.nbar_panchromatic)"
   ]
  },
  {
   "cell_type": "code",
   "execution_count": null,
   "metadata": {},
   "outputs": [],
   "source": [
    "# ds_ls8['nbar_red'].values = red_sharpen\n",
    "# ds_ls8['nbar_green'].values = green_sharpen\n",
    "# ds_ls8['nbar_blue'].values = blue_sharpen"
   ]
  },
  {
   "cell_type": "code",
   "execution_count": null,
   "metadata": {},
   "outputs": [],
   "source": [
    "# import xarray as xr\n",
    "# ds = xr.concat([ds_ls57, ds_ls8], dim='time').sortby('time')"
   ]
  },
  {
   "cell_type": "markdown",
   "metadata": {},
   "source": [
    "### Apply rolling median to smooth out noise and focus on change\n",
    "Also calculates median surface reflectance over entire time series as an input to `match_histograms` which will reduce scene-to-scene variability"
   ]
  },
  {
   "cell_type": "code",
   "execution_count": null,
   "metadata": {},
   "outputs": [],
   "source": [
    "# Apply rolling median (or optionally, annual resampling)\n",
    "ds_rolling = ds.rolling(time=30, center=True, min_periods=1).median()\n",
    "# ds_rolling = ds.resample(time='Y').median(dim='time').rolling(time=3, center=True, min_periods=1).median()\n",
    "\n",
    "# Calculate all of time median\n",
    "median_array = np.transpose(ds_rolling[bands]\n",
    "                            .median(dim='time')\n",
    "                            .to_array().values, \n",
    "                            axes=(1, 2, 0))\n",
    "print(ds_rolling)"
   ]
  },
  {
   "cell_type": "markdown",
   "metadata": {},
   "source": [
    "## Run animation\n",
    "`funcs_list` provides a series of image processing functions that are applied to each satellite frame. \n",
    "The default values are only examples - each animation will probably require fine tuning (or may not require all techniques at all)."
   ]
  },
  {
   "cell_type": "code",
   "execution_count": null,
   "metadata": {},
   "outputs": [],
   "source": [
    "import numpy as np\n",
    "from skimage.filters import unsharp_mask\n",
    "from skimage.exposure import match_histograms, rescale_intensity, adjust_sigmoid\n",
    "\n",
    "funcs_list = [\n",
    "              # Apply `match_histograms` to reduce scene-to-scene variability\n",
    "              lambda x: match_histograms(image=x, reference=median_array, multichannel=True),\n",
    "#     \n",
    "              # Apply power transform to reduce bright highlights  \n",
    "              lambda x: x**0.8,\n",
    "    \n",
    "              # Rescale values to range accepted by `xr_animation`\n",
    "              rescale_intensity,\n",
    "    \n",
    "              # Apply different levels of unsharp masking to enhance\n",
    "              # overall dynamic range, and improve fine scale detail\n",
    "#               lambda x: unsharp_mask(x, radius=20, amount=0.1),\n",
    "#               lambda x: unsharp_mask(x, radius=5, amount=0.1),\n",
    "              \n",
    "              # # Contrast enhancement using sigmoid transform\n",
    "              # lambda x: adjust_sigmoid(image=x, cutoff=0.7, gain=3)\n",
    "             ]\n",
    "# funcs_list = None\n",
    "\n",
    "xr_animation(output_path='animation_timeseries.mp4',\n",
    "             ds=ds_rolling,\n",
    "             show_text='',\n",
    "             bands=bands[0:3],\n",
    "             interval=50,\n",
    "             width_pixels=900,\n",
    "             percentile_stretch=(0.01, 0.99),\n",
    "             image_proc_funcs=funcs_list,\n",
    "             show_date='%Y',\n",
    "             annotation_kwargs={'fontsize': 45},\n",
    "#              imshow_kwargs={'vmin': 0, 'vmax': 0.5},\n",
    "#              limit=10,\n",
    "            ) "
   ]
  },
  {
   "cell_type": "markdown",
   "metadata": {},
   "source": [
    "## Specialised animations"
   ]
  },
  {
   "cell_type": "markdown",
   "metadata": {},
   "source": [
    "### DEA CoastLines animations"
   ]
  },
  {
   "cell_type": "code",
   "execution_count": null,
   "metadata": {},
   "outputs": [],
   "source": [
    "import geopandas as gpd\n",
    "import pandas as pd\n",
    "import matplotlib\n",
    "from shapely.geometry import box, Point\n",
    "\n",
    "# Get bounding box of data\n",
    "xmin, ymin, xmax, ymax = ds.geobox.geographic_extent.boundingbox\n",
    "\n",
    "bounds = [xmin, ymin, xmax, ymax]\n",
    "bbox = gpd.GeoDataFrame(geometry=[box(*bounds)], \n",
    "                        crs='EPSG:4326')\n",
    "\n",
    "# Set up WFS requests for annual coastlines & rates of change statistics\n",
    "# deacl_coastlines_wfs = 'https://geoserver.dea.ga.gov.au/geoserver/wfs?' \\\n",
    "#                        'service=WFS&version=1.1.0&request=GetFeature&' \\\n",
    "#                        'typeName=dea:coastlines&maxFeatures=1000&' \\\n",
    "#                       f'bbox={ymin},{xmin},{ymax},{xmax},urn:ogc:def:crs:EPSG:4326'\n",
    "\n",
    "# Load data from WFS and set CRS\n",
    "# deacl_gdf = gpd.read_file(deacl_coastlines_wfs)\n",
    "deacl_gdf = gpd.read_file('/g/data/r78/DEACoastlines/DEACoastlines_annualcoastlines_v1.1.4.shp', bbox=bbox)\n",
    "deacl_gdf.crs = 'EPSG:3577'\n",
    "\n",
    "# Clip to extent of satellite data\n",
    "bbox = gpd.GeoDataFrame(geometry=[ds.geobox.extent.geom],\n",
    "                        crs=ds.geobox.crs)  \n",
    "deacl_gdf = gpd.overlay(deacl_gdf, bbox.to_crs(deacl_gdf.crs))\n",
    "deacl_gdf = deacl_gdf.dissolve('year')\n",
    "\n",
    "# Apply colours\n",
    "norm = matplotlib.colors.Normalize(vmin=0, vmax=len(deacl_gdf.index))\n",
    "cmap = matplotlib.cm.get_cmap('inferno')\n",
    "rgba = cmap(norm(deacl_gdf.reset_index().index))\n",
    "deacl_gdf['color'] = list(rgba)\n",
    "deacl_gdf['start_time'] = (pd.to_datetime(deacl_gdf.index) + \n",
    "                           pd.DateOffset(months=0))\n",
    "\n",
    "# Remove a year\n",
    "# deacl_gdf = deacl_gdf.drop('1993')\n",
    "\n",
    "deacl_gdf.plot()"
   ]
  },
  {
   "cell_type": "code",
   "execution_count": null,
   "metadata": {},
   "outputs": [],
   "source": [
    "# minx, miny, maxx, maxy = deacl_gdf.unary_union.bounds\n",
    "# from shapely.geometry import box\n",
    "# import geopandas as gpd\n",
    "# test = box(minx, -3570200, maxx, maxy)\n",
    "# deacl_gdf = gpd.clip(deacl_gdf, gpd.GeoSeries(test, crs='EPSG:3577')) \n",
    "# deacl_gdf.plot()"
   ]
  },
  {
   "cell_type": "code",
   "execution_count": null,
   "metadata": {},
   "outputs": [],
   "source": [
    "import numpy as np\n",
    "from skimage.filters import unsharp_mask\n",
    "from skimage.exposure import match_histograms, rescale_intensity, adjust_sigmoid\n",
    "\n",
    "funcs_list = [lambda x: match_histograms(image=x, reference=median_array, multichannel=True),\n",
    "              rescale_intensity,\n",
    "#               hue_sat_val,\n",
    "              lambda x: unsharp_mask(x, radius=20, amount=0.2),\n",
    "              lambda x: unsharp_mask(x, radius=5, amount=0.2),\n",
    "              lambda x: x**0.8,\n",
    "#               lambda x: adjust_sigmoid(image=x, cutoff=0.7, gain=3)\n",
    "             ]\n",
    "# funcs_list = None\n",
    "\n",
    "xr_animation(output_path='deacoastlines_satellite_portstephens.mp4',\n",
    "             ds=ds_rolling,  #.isel(time=slice(10, -1)),\n",
    "             show_text=\"\",\n",
    "             bands=bands,\n",
    "             interval=60,\n",
    "             width_pixels=900,\n",
    "             percentile_stretch=(0.01, 0.99),\n",
    "             image_proc_funcs=funcs_list,\n",
    "             show_date='%Y',\n",
    "             annotation_kwargs={'fontsize': 45},\n",
    "             show_gdf=deacl_gdf,\n",
    "             gdf_kwargs = {'linewidth': 2.5},\n",
    "#              imshow_kwargs={'vmin': -0.5, 'vmax': 0.7},   # Stuart Point, Twilight Bay\n",
    "             imshow_kwargs={'vmin': -0.1, 'vmax': 0.6},\n",
    "#              limit=3,\n",
    "            ) "
   ]
  },
  {
   "cell_type": "code",
   "execution_count": null,
   "metadata": {},
   "outputs": [],
   "source": [
    "import numpy as np\n",
    "from skimage.filters import unsharp_mask\n",
    "from skimage.exposure import match_histograms, rescale_intensity, adjust_sigmoid\n",
    "\n",
    "funcs_list = [\n",
    "              lambda x: match_histograms(image=x, reference=median_array, multichannel=True),\n",
    "              lambda x: x**0.8,\n",
    "              rescale_intensity,\n",
    "#               hue_sat_val,\n",
    "              lambda x: unsharp_mask(x, radius=20, amount=0.2),\n",
    "              lambda x: unsharp_mask(x, radius=5, amount=0.1),\n",
    "#               lambda x: adjust_sigmoid(image=x, cutoff=0.7, gain=3)\n",
    "             ]\n",
    "# funcs_list = None\n",
    "\n",
    "xr_animation(output_path='animation_sydney.mp4',\n",
    "             ds=ds_rolling,  #.isel(time=slice(1, -1)),\n",
    "             show_text='',\n",
    "             bands=bands,\n",
    "             interval=50,\n",
    "             width_pixels=900,\n",
    "             percentile_stretch=(0.01, 0.99),\n",
    "             image_proc_funcs=funcs_list,\n",
    "             show_date='%Y',\n",
    "             annotation_kwargs={'fontsize': 60},\n",
    "             show_gdf=deacl_gdf,\n",
    "             gdf_kwargs = {'linewidth': 2.5},\n",
    "#              imshow_kwargs={'vmin': -0.5, 'vmax': 0.7},   # Stuart Point, Twilight Bay\n",
    "#              imshow_kwargs={'vmin': -0.2, 'vmax': 0.6},\n",
    "#              limit=10,\n",
    "            ) "
   ]
  },
  {
   "cell_type": "code",
   "execution_count": null,
   "metadata": {},
   "outputs": [],
   "source": [
    "site='spoilbank'\n",
    "!ffmpeg -y -i deacoastlines_annual_{site}.mp4 -i deacoastlines_inset_{site}.png \\\n",
    "-filter_complex \"[0:v][1:v] overlay=0:0:enable='between(t,0,20)'\" \\\n",
    "-pix_fmt yuv420p -c:a copy \\\n",
    "deacoastlines_annualwithinset_{site}.mp4"
   ]
  },
  {
   "cell_type": "code",
   "execution_count": null,
   "metadata": {},
   "outputs": [],
   "source": [
    "!ffmpeg -y -i 'Landsat 5 7 8 - 1987-2019 - Corner Inlet - True colour animation.mp4' -i seminar_title.png \\\n",
    "-filter_complex \"[0:v][1:v] overlay=0:0:enable='between(t,0,20)'\" \\\n",
    "-pix_fmt yuv420p -c:a copy \\\n",
    "seminar_with_title.mp4"
   ]
  },
  {
   "cell_type": "markdown",
   "metadata": {},
   "source": [
    "### Animated fade"
   ]
  },
  {
   "cell_type": "code",
   "execution_count": null,
   "metadata": {},
   "outputs": [],
   "source": [
    "import imageio\n",
    "import numpy as np\n",
    "\n",
    "from_array = imageio.imread('tides_fade/tides_low.png')\n",
    "to_array = imageio.imread('tides_fade/tides_high.png')\n",
    "\n",
    "framerate = 30\n",
    "pause = 3500\n",
    "frames = 20\n",
    "\n",
    "stacked_from_to = np.stack([to_array, from_array], axis=3)\n",
    "\n",
    "intervals = np.linspace(0, 1.0, frames + 1).tolist()\n",
    "weights = intervals + intervals[::-1][1:-1]\n",
    "milliseconds = [pause] + [framerate] * (len(intervals) - 2) + [pause] + [framerate] * (len(intervals) - 2)\n",
    "# weights = [0.1, 0.2, 0.3, 0.4, 0.5, 0.6, 0.7, 0.8, 0.9, 1.0, 0.9, 0.8, 0.7, 0.6, 0.5, 0.4, 0.3, 0.2, 0.1, 0.0]\n",
    "# milliseconds = [50, 50, 50, 50, 50, 50, 50, 50, 50, 3500, 50, 50, 50, 50, 50, 50, 50, 50, 50, 3500]\n",
    "\n",
    "for i, weight in enumerate(weights):\n",
    "\n",
    "    ave_from_to = np.average(stacked_from_to, axis=3, weights=np.array([weight, 1.0 - weight]))\n",
    "    imageio.imwrite(f'tides_fade/output_{i}_({milliseconds[i]}ms).png', ave_from_to.astype(np.uint8))\n"
   ]
  },
  {
   "cell_type": "markdown",
   "metadata": {},
   "source": [
    "### Mangrove animation"
   ]
  },
  {
   "cell_type": "code",
   "execution_count": null,
   "metadata": {},
   "outputs": [],
   "source": [
    "import numpy as np\n",
    "from skimage.filters import unsharp_mask\n",
    "from skimage.exposure import match_histograms, rescale_intensity, adjust_sigmoid\n",
    "\n",
    "ndvi = (d\n",
    "        \n",
    "        \n",
    "        \n",
    "        s_rolling[\"nbart_nir\"] - ds_rolling[\"nbart_red\"])/(ds_rolling[\"nbart_nir\"] + ds_rolling[\"nbart_red\"])\n",
    "ds_rolling2 = ds_rolling * rescale_intensity(image=ndvi, in_range=(0, 0.8), out_range=(0, 1.0))\n",
    "\n"
   ]
  },
  {
   "cell_type": "code",
   "execution_count": null,
   "metadata": {},
   "outputs": [],
   "source": [
    "\n",
    "funcs_list = [\n",
    "#               lambda x: match_histograms(image=x, reference=median_array, multichannel=True),\n",
    "#               lambda x: x**0.8,\n",
    "#               ndvi_mult,\n",
    "              rescale_intensity,\n",
    "#               hue_sat_val,\n",
    "#               lambda x: unsharp_mask(x, radius=20, amount=0.2),\n",
    "#               lambda x: unsharp_mask(x, radius=5, amount=0.1),\n",
    "#               lambda x: adjust_sigmoid(image=x, cutoff=0.7, gain=3)\n",
    "             ]\n",
    "funcs_list = None\n",
    "\n",
    "xr_animation(output_path='animation_bowling.mp4',\n",
    "             ds=ds_rolling2.isel(time=slice(20, -10)),\n",
    "             show_text='',\n",
    "             bands=bands[0:3],\n",
    "             interval=50,\n",
    "             width_pixels=900,\n",
    "             percentile_stretch=(0.001, 0.999),\n",
    "             image_proc_funcs=funcs_list,\n",
    "             show_date='%Y',\n",
    "             annotation_kwargs={'fontsize': 60},\n",
    "#              show_gdf=deacl_gdf,\n",
    "#              gdf_kwargs = {'linewidth': 2.5},\n",
    "#              imshow_kwargs={'vmin': -0.5, 'vmax': 0.7},   # Stuart Point, Twilight Bay\n",
    "#              imshow_kwargs={'vmin': -0.2, 'vmax': 0.6},\n",
    "#              limit=20,\n",
    "            ) "
   ]
  },
  {
   "cell_type": "code",
   "execution_count": null,
   "metadata": {},
   "outputs": [],
   "source": []
  }
 ],
 "metadata": {
  "kernelspec": {
   "display_name": "Python 3 (ipykernel)",
   "language": "python",
   "name": "python3"
  },
  "language_info": {
   "codemirror_mode": {
    "name": "ipython",
    "version": 3
   },
   "file_extension": ".py",
   "mimetype": "text/x-python",
   "name": "python",
   "nbconvert_exporter": "python",
   "pygments_lexer": "ipython3",
   "version": "3.8.10"
  },
  "widgets": {
   "application/vnd.jupyter.widget-state+json": {
    "state": {},
    "version_major": 2,
    "version_minor": 0
   }
  }
 },
 "nbformat": 4,
 "nbformat_minor": 4
}
