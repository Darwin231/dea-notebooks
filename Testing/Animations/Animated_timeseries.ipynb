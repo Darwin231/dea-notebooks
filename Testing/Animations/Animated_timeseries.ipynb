{
 "cells": [
  {
   "cell_type": "code",
   "execution_count": 1,
   "metadata": {},
   "outputs": [
    {
     "name": "stderr",
     "output_type": "stream",
     "text": [
      "/env/lib/python3.6/site-packages/geopandas/_compat.py:110: UserWarning: The Shapely GEOS version (3.7.2-CAPI-1.11.0 ) is incompatible with the GEOS version PyGEOS was compiled with (3.9.1-CAPI-1.14.2). Conversions between both will be slow.\n",
      "  shapely_geos_version, geos_capi_version_string\n",
      "/env/lib/python3.6/site-packages/datacube/drivers/postgres/_connections.py:87: SADeprecationWarning: Calling URL() directly is deprecated and will be disabled in a future release.  The public constructor for URL is now the URL.create() method.\n",
      "  username=username, password=password,\n"
     ]
    }
   ],
   "source": [
    "import sys\n",
    "import datacube\n",
    "import numpy as np\n",
    "from odc.ui import select_on_a_map\n",
    "from ipyleaflet import basemaps, basemap_to_tiles\n",
    "\n",
    "sys.path.append('../../Scripts')\n",
    "from dea_datahandling import load_ard\n",
    "from dea_datahandling import mostcommon_crs\n",
    "\n",
    "from dea_plotting import xr_animation\n",
    "from dea_coastaltools import tidal_tag\n",
    "from skimage.color import rgb2hsv, hsv2rgb\n",
    "\n",
    "def hue_sat_val(rgb_array,\n",
    "                hue_mult=1, \n",
    "                sat_mult=0.8, \n",
    "                val_mult=1):   \n",
    "    \n",
    "    # Convert to HSV and multiply bands\n",
    "    hsv_array = rgb2hsv(rgb_array)\n",
    "    hsv_array[:, :, 0] = hsv_array[:, :, 0] * hue_mult\n",
    "    hsv_array[:, :, 1] = hsv_array[:, :, 1] * sat_mult\n",
    "    hsv_array[:, :, 2] = hsv_array[:, :, 2] * val_mult\n",
    "    \n",
    "    # Convert back to RGB\n",
    "    return hsv2rgb(hsv_array.clip(0, 1))\n",
    "\n",
    "\n",
    "dc = datacube.Datacube(app='Animated timeseries' )\n",
    "\n",
    "%load_ext autoreload\n",
    "%autoreload 2"
   ]
  },
  {
   "cell_type": "code",
   "execution_count": 2,
   "metadata": {},
   "outputs": [
    {
     "data": {
      "text/html": [
       "<table style=\"border: 2px solid white;\">\n",
       "<tr>\n",
       "<td style=\"vertical-align: top; border: 0px solid white\">\n",
       "<h3 style=\"text-align: left;\">Client</h3>\n",
       "<ul style=\"text-align: left; list-style: none; margin: 0; padding: 0;\">\n",
       "  <li><b>Scheduler: </b>tcp://127.0.0.1:46241</li>\n",
       "  <li><b>Dashboard: </b><a href='/user/robbibt/proxy/8787/status' target='_blank'>/user/robbibt/proxy/8787/status</a></li>\n",
       "</ul>\n",
       "</td>\n",
       "<td style=\"vertical-align: top; border: 0px solid white\">\n",
       "<h3 style=\"text-align: left;\">Cluster</h3>\n",
       "<ul style=\"text-align: left; list-style:none; margin: 0; padding: 0;\">\n",
       "  <li><b>Workers: </b>1</li>\n",
       "  <li><b>Cores: </b>2</li>\n",
       "  <li><b>Memory: </b>13.11 GB</li>\n",
       "</ul>\n",
       "</td>\n",
       "</tr>\n",
       "</table>"
      ],
      "text/plain": [
       "<Client: 'tcp://127.0.0.1:46241' processes=1 threads=2, memory=13.11 GB>"
      ]
     },
     "metadata": {},
     "output_type": "display_data"
    }
   ],
   "source": [
    "# Configure local dask cluster\n",
    "from dea_dask import create_local_dask_cluster\n",
    "create_local_dask_cluster()\n",
    "\n",
    "# # Create dask gateway cluser\n",
    "# from dea_tools.dask import create_dask_gateway_cluster\n",
    "# cluster = create_dask_gateway_cluster()"
   ]
  },
  {
   "cell_type": "code",
   "execution_count": 3,
   "metadata": {},
   "outputs": [
    {
     "data": {
      "application/vnd.jupyter.widget-view+json": {
       "model_id": "8951c3603c2445c8b0928c723ecc63a3",
       "version_major": 2,
       "version_minor": 0
      },
      "text/plain": [
       "Map(center=[-26, 135], controls=(ZoomControl(options=['position', 'zoom_in_text', 'zoom_in_title', 'zoom_out_t…"
      ]
     },
     "metadata": {},
     "output_type": "display_data"
    }
   ],
   "source": [
    "from odc.ui import select_on_a_map\n",
    "from ipyleaflet import basemaps, basemap_to_tiles\n",
    "\n",
    "# Plot interactive map to select area\n",
    "basemap = basemap_to_tiles(basemaps.Esri.WorldImagery)\n",
    "geopolygon = select_on_a_map(height='600px',\n",
    "                             layers=(basemap,),\n",
    "                             center=(-26, 135), \n",
    "                             zoom=4) "
   ]
  },
  {
   "cell_type": "code",
   "execution_count": 4,
   "metadata": {},
   "outputs": [
    {
     "name": "stderr",
     "output_type": "stream",
     "text": [
      "/home/jovyan/Robbi/dea-notebooks/Testing/Animations/../../Tools/dea_tools/datahandling.py:543: UserWarning: Multiple UTM zones ['epsg:32655', 'epsg:32656'] were returned for this query. Defaulting to the most common zone: epsg:32656\n",
      "  UserWarning)\n"
     ]
    }
   ],
   "source": [
    "# Input params\n",
    "bands=['nbart_red', 'nbart_green', 'nbart_blue']\n",
    "# bands=['nbart_swir_1', 'nbart_nir', 'nbart_green', 'nbart_red']\n",
    "time = ('1986', '2021')\n",
    "\n",
    "# Landsat, native res\n",
    "crs = mostcommon_crs(dc=dc, \n",
    "                     product='ga_ls5t_ard_3', \n",
    "                     query={'time': '1990', \n",
    "                            'geopolygon': geopolygon})\n",
    "\n",
    "query = {\n",
    "    'geopolygon': geopolygon,\n",
    "    'time': time,\n",
    "    'measurements': bands,\n",
    "    'resampling': {'fmask': 'nearest', \n",
    "                   'oa_fmask': 'nearest', \n",
    "                   '*': 'nearest'},\n",
    "    'output_crs': crs,\n",
    "    'resolution': (-30, 30),\n",
    "    'group_by': 'solar_day',\n",
    "    'dask_chunks': {'time': 1, 'x': 3000, 'y': 3000}\n",
    "}\n",
    "\n",
    "# # Landsat upscaled res\n",
    "# crs = mostcommon_crs(dc=dc, \n",
    "#                      product='ga_ls5t_ard_3', \n",
    "#                      query={'time': '1990', \n",
    "#                             'geopolygon': geopolygon})\n",
    "\n",
    "# query = {\n",
    "#     'geopolygon': geopolygon,\n",
    "#     'time': time,\n",
    "#     'measurements': bands,\n",
    "#     'resampling': {'fmask': 'nearest', \n",
    "#                    'oa_fmask': 'nearest', \n",
    "#                    '*': 'cubic'},\n",
    "#     'output_crs': crs,\n",
    "#     'resolution': (-10, 10),\n",
    "#     'group_by': 'solar_day',\n",
    "#     'dask_chunks': {'time': 1, 'x': 3000, 'y': 3000}\n",
    "# }\n",
    "\n",
    "# # Sentinel-2 10m res\n",
    "# crs = mostcommon_crs(dc=dc, \n",
    "#                      product='s2a_ard_granule', \n",
    "#                      query={'time': '2018', \n",
    "#                             'geopolygon': geopolygon})\n",
    "\n",
    "# query = {\n",
    "#     'products': \n",
    "#     'geopolygon': geopolygon,\n",
    "#     'time': time,\n",
    "#     'measurements': bands,\n",
    "#     'resampling': {'fmask': 'nearest', \n",
    "#                    'oa_fmask': 'nearest', \n",
    "#                    '*': 'cubic'},\n",
    "#     'output_crs': crs,\n",
    "#     'resolution': (-20, 20),\n",
    "#     'group_by': 'solar_day',\n",
    "#     'dask_chunks': {'time': 1, 'x': 3000, 'y': 3000}\n",
    "# }"
   ]
  },
  {
   "cell_type": "code",
   "execution_count": 5,
   "metadata": {},
   "outputs": [
    {
     "name": "stderr",
     "output_type": "stream",
     "text": [
      "/home/jovyan/Robbi/dea-notebooks/Testing/Animations/../../Tools/dea_tools/datahandling.py:237: UserWarning: Setting 'min_gooddata' percentage to > 0.0 will cause dask arrays to compute when loading pixel-quality data to calculate 'good pixel' percentage. This can slow the return of your dataset.\n",
      "  warnings.warn(\"Setting 'min_gooddata' percentage to > 0.0 \"\n"
     ]
    },
    {
     "name": "stdout",
     "output_type": "stream",
     "text": [
      "Finding datasets\n",
      "    ga_ls5t_ard_3\n",
      "    ga_ls7e_ard_3 (ignoring SLC-off observations)\n",
      "    ga_ls8c_ard_3\n",
      "Counting good quality pixels for each time step\n",
      "Filtering to 613 out of 1175 time steps with at least 99.0% good quality pixels\n",
      "Returning 613 time steps as a dask array\n"
     ]
    },
    {
     "data": {
      "text/html": [
       "<div><svg style=\"position: absolute; width: 0; height: 0; overflow: hidden\">\n",
       "<defs>\n",
       "<symbol id=\"icon-database\" viewBox=\"0 0 32 32\">\n",
       "<path d=\"M16 0c-8.837 0-16 2.239-16 5v4c0 2.761 7.163 5 16 5s16-2.239 16-5v-4c0-2.761-7.163-5-16-5z\"></path>\n",
       "<path d=\"M16 17c-8.837 0-16-2.239-16-5v6c0 2.761 7.163 5 16 5s16-2.239 16-5v-6c0 2.761-7.163 5-16 5z\"></path>\n",
       "<path d=\"M16 26c-8.837 0-16-2.239-16-5v6c0 2.761 7.163 5 16 5s16-2.239 16-5v-6c0 2.761-7.163 5-16 5z\"></path>\n",
       "</symbol>\n",
       "<symbol id=\"icon-file-text2\" viewBox=\"0 0 32 32\">\n",
       "<path d=\"M28.681 7.159c-0.694-0.947-1.662-2.053-2.724-3.116s-2.169-2.030-3.116-2.724c-1.612-1.182-2.393-1.319-2.841-1.319h-15.5c-1.378 0-2.5 1.121-2.5 2.5v27c0 1.378 1.122 2.5 2.5 2.5h23c1.378 0 2.5-1.122 2.5-2.5v-19.5c0-0.448-0.137-1.23-1.319-2.841zM24.543 5.457c0.959 0.959 1.712 1.825 2.268 2.543h-4.811v-4.811c0.718 0.556 1.584 1.309 2.543 2.268zM28 29.5c0 0.271-0.229 0.5-0.5 0.5h-23c-0.271 0-0.5-0.229-0.5-0.5v-27c0-0.271 0.229-0.5 0.5-0.5 0 0 15.499-0 15.5 0v7c0 0.552 0.448 1 1 1h7v19.5z\"></path>\n",
       "<path d=\"M23 26h-14c-0.552 0-1-0.448-1-1s0.448-1 1-1h14c0.552 0 1 0.448 1 1s-0.448 1-1 1z\"></path>\n",
       "<path d=\"M23 22h-14c-0.552 0-1-0.448-1-1s0.448-1 1-1h14c0.552 0 1 0.448 1 1s-0.448 1-1 1z\"></path>\n",
       "<path d=\"M23 18h-14c-0.552 0-1-0.448-1-1s0.448-1 1-1h14c0.552 0 1 0.448 1 1s-0.448 1-1 1z\"></path>\n",
       "</symbol>\n",
       "</defs>\n",
       "</svg>\n",
       "<style>/* CSS stylesheet for displaying xarray objects in jupyterlab.\n",
       " *\n",
       " */\n",
       "\n",
       ":root {\n",
       "  --xr-font-color0: var(--jp-content-font-color0, rgba(0, 0, 0, 1));\n",
       "  --xr-font-color2: var(--jp-content-font-color2, rgba(0, 0, 0, 0.54));\n",
       "  --xr-font-color3: var(--jp-content-font-color3, rgba(0, 0, 0, 0.38));\n",
       "  --xr-border-color: var(--jp-border-color2, #e0e0e0);\n",
       "  --xr-disabled-color: var(--jp-layout-color3, #bdbdbd);\n",
       "  --xr-background-color: var(--jp-layout-color0, white);\n",
       "  --xr-background-color-row-even: var(--jp-layout-color1, white);\n",
       "  --xr-background-color-row-odd: var(--jp-layout-color2, #eeeeee);\n",
       "}\n",
       "\n",
       "html[theme=dark],\n",
       "body.vscode-dark {\n",
       "  --xr-font-color0: rgba(255, 255, 255, 1);\n",
       "  --xr-font-color2: rgba(255, 255, 255, 0.54);\n",
       "  --xr-font-color3: rgba(255, 255, 255, 0.38);\n",
       "  --xr-border-color: #1F1F1F;\n",
       "  --xr-disabled-color: #515151;\n",
       "  --xr-background-color: #111111;\n",
       "  --xr-background-color-row-even: #111111;\n",
       "  --xr-background-color-row-odd: #313131;\n",
       "}\n",
       "\n",
       ".xr-wrap {\n",
       "  display: block;\n",
       "  min-width: 300px;\n",
       "  max-width: 700px;\n",
       "}\n",
       "\n",
       ".xr-text-repr-fallback {\n",
       "  /* fallback to plain text repr when CSS is not injected (untrusted notebook) */\n",
       "  display: none;\n",
       "}\n",
       "\n",
       ".xr-header {\n",
       "  padding-top: 6px;\n",
       "  padding-bottom: 6px;\n",
       "  margin-bottom: 4px;\n",
       "  border-bottom: solid 1px var(--xr-border-color);\n",
       "}\n",
       "\n",
       ".xr-header > div,\n",
       ".xr-header > ul {\n",
       "  display: inline;\n",
       "  margin-top: 0;\n",
       "  margin-bottom: 0;\n",
       "}\n",
       "\n",
       ".xr-obj-type,\n",
       ".xr-array-name {\n",
       "  margin-left: 2px;\n",
       "  margin-right: 10px;\n",
       "}\n",
       "\n",
       ".xr-obj-type {\n",
       "  color: var(--xr-font-color2);\n",
       "}\n",
       "\n",
       ".xr-sections {\n",
       "  padding-left: 0 !important;\n",
       "  display: grid;\n",
       "  grid-template-columns: 150px auto auto 1fr 20px 20px;\n",
       "}\n",
       "\n",
       ".xr-section-item {\n",
       "  display: contents;\n",
       "}\n",
       "\n",
       ".xr-section-item input {\n",
       "  display: none;\n",
       "}\n",
       "\n",
       ".xr-section-item input + label {\n",
       "  color: var(--xr-disabled-color);\n",
       "}\n",
       "\n",
       ".xr-section-item input:enabled + label {\n",
       "  cursor: pointer;\n",
       "  color: var(--xr-font-color2);\n",
       "}\n",
       "\n",
       ".xr-section-item input:enabled + label:hover {\n",
       "  color: var(--xr-font-color0);\n",
       "}\n",
       "\n",
       ".xr-section-summary {\n",
       "  grid-column: 1;\n",
       "  color: var(--xr-font-color2);\n",
       "  font-weight: 500;\n",
       "}\n",
       "\n",
       ".xr-section-summary > span {\n",
       "  display: inline-block;\n",
       "  padding-left: 0.5em;\n",
       "}\n",
       "\n",
       ".xr-section-summary-in:disabled + label {\n",
       "  color: var(--xr-font-color2);\n",
       "}\n",
       "\n",
       ".xr-section-summary-in + label:before {\n",
       "  display: inline-block;\n",
       "  content: '►';\n",
       "  font-size: 11px;\n",
       "  width: 15px;\n",
       "  text-align: center;\n",
       "}\n",
       "\n",
       ".xr-section-summary-in:disabled + label:before {\n",
       "  color: var(--xr-disabled-color);\n",
       "}\n",
       "\n",
       ".xr-section-summary-in:checked + label:before {\n",
       "  content: '▼';\n",
       "}\n",
       "\n",
       ".xr-section-summary-in:checked + label > span {\n",
       "  display: none;\n",
       "}\n",
       "\n",
       ".xr-section-summary,\n",
       ".xr-section-inline-details {\n",
       "  padding-top: 4px;\n",
       "  padding-bottom: 4px;\n",
       "}\n",
       "\n",
       ".xr-section-inline-details {\n",
       "  grid-column: 2 / -1;\n",
       "}\n",
       "\n",
       ".xr-section-details {\n",
       "  display: none;\n",
       "  grid-column: 1 / -1;\n",
       "  margin-bottom: 5px;\n",
       "}\n",
       "\n",
       ".xr-section-summary-in:checked ~ .xr-section-details {\n",
       "  display: contents;\n",
       "}\n",
       "\n",
       ".xr-array-wrap {\n",
       "  grid-column: 1 / -1;\n",
       "  display: grid;\n",
       "  grid-template-columns: 20px auto;\n",
       "}\n",
       "\n",
       ".xr-array-wrap > label {\n",
       "  grid-column: 1;\n",
       "  vertical-align: top;\n",
       "}\n",
       "\n",
       ".xr-preview {\n",
       "  color: var(--xr-font-color3);\n",
       "}\n",
       "\n",
       ".xr-array-preview,\n",
       ".xr-array-data {\n",
       "  padding: 0 5px !important;\n",
       "  grid-column: 2;\n",
       "}\n",
       "\n",
       ".xr-array-data,\n",
       ".xr-array-in:checked ~ .xr-array-preview {\n",
       "  display: none;\n",
       "}\n",
       "\n",
       ".xr-array-in:checked ~ .xr-array-data,\n",
       ".xr-array-preview {\n",
       "  display: inline-block;\n",
       "}\n",
       "\n",
       ".xr-dim-list {\n",
       "  display: inline-block !important;\n",
       "  list-style: none;\n",
       "  padding: 0 !important;\n",
       "  margin: 0;\n",
       "}\n",
       "\n",
       ".xr-dim-list li {\n",
       "  display: inline-block;\n",
       "  padding: 0;\n",
       "  margin: 0;\n",
       "}\n",
       "\n",
       ".xr-dim-list:before {\n",
       "  content: '(';\n",
       "}\n",
       "\n",
       ".xr-dim-list:after {\n",
       "  content: ')';\n",
       "}\n",
       "\n",
       ".xr-dim-list li:not(:last-child):after {\n",
       "  content: ',';\n",
       "  padding-right: 5px;\n",
       "}\n",
       "\n",
       ".xr-has-index {\n",
       "  font-weight: bold;\n",
       "}\n",
       "\n",
       ".xr-var-list,\n",
       ".xr-var-item {\n",
       "  display: contents;\n",
       "}\n",
       "\n",
       ".xr-var-item > div,\n",
       ".xr-var-item label,\n",
       ".xr-var-item > .xr-var-name span {\n",
       "  background-color: var(--xr-background-color-row-even);\n",
       "  margin-bottom: 0;\n",
       "}\n",
       "\n",
       ".xr-var-item > .xr-var-name:hover span {\n",
       "  padding-right: 5px;\n",
       "}\n",
       "\n",
       ".xr-var-list > li:nth-child(odd) > div,\n",
       ".xr-var-list > li:nth-child(odd) > label,\n",
       ".xr-var-list > li:nth-child(odd) > .xr-var-name span {\n",
       "  background-color: var(--xr-background-color-row-odd);\n",
       "}\n",
       "\n",
       ".xr-var-name {\n",
       "  grid-column: 1;\n",
       "}\n",
       "\n",
       ".xr-var-dims {\n",
       "  grid-column: 2;\n",
       "}\n",
       "\n",
       ".xr-var-dtype {\n",
       "  grid-column: 3;\n",
       "  text-align: right;\n",
       "  color: var(--xr-font-color2);\n",
       "}\n",
       "\n",
       ".xr-var-preview {\n",
       "  grid-column: 4;\n",
       "}\n",
       "\n",
       ".xr-var-name,\n",
       ".xr-var-dims,\n",
       ".xr-var-dtype,\n",
       ".xr-preview,\n",
       ".xr-attrs dt {\n",
       "  white-space: nowrap;\n",
       "  overflow: hidden;\n",
       "  text-overflow: ellipsis;\n",
       "  padding-right: 10px;\n",
       "}\n",
       "\n",
       ".xr-var-name:hover,\n",
       ".xr-var-dims:hover,\n",
       ".xr-var-dtype:hover,\n",
       ".xr-attrs dt:hover {\n",
       "  overflow: visible;\n",
       "  width: auto;\n",
       "  z-index: 1;\n",
       "}\n",
       "\n",
       ".xr-var-attrs,\n",
       ".xr-var-data {\n",
       "  display: none;\n",
       "  background-color: var(--xr-background-color) !important;\n",
       "  padding-bottom: 5px !important;\n",
       "}\n",
       "\n",
       ".xr-var-attrs-in:checked ~ .xr-var-attrs,\n",
       ".xr-var-data-in:checked ~ .xr-var-data {\n",
       "  display: block;\n",
       "}\n",
       "\n",
       ".xr-var-data > table {\n",
       "  float: right;\n",
       "}\n",
       "\n",
       ".xr-var-name span,\n",
       ".xr-var-data,\n",
       ".xr-attrs {\n",
       "  padding-left: 25px !important;\n",
       "}\n",
       "\n",
       ".xr-attrs,\n",
       ".xr-var-attrs,\n",
       ".xr-var-data {\n",
       "  grid-column: 1 / -1;\n",
       "}\n",
       "\n",
       "dl.xr-attrs {\n",
       "  padding: 0;\n",
       "  margin: 0;\n",
       "  display: grid;\n",
       "  grid-template-columns: 125px auto;\n",
       "}\n",
       "\n",
       ".xr-attrs dt, dd {\n",
       "  padding: 0;\n",
       "  margin: 0;\n",
       "  float: left;\n",
       "  padding-right: 10px;\n",
       "  width: auto;\n",
       "}\n",
       "\n",
       ".xr-attrs dt {\n",
       "  font-weight: normal;\n",
       "  grid-column: 1;\n",
       "}\n",
       "\n",
       ".xr-attrs dt:hover span {\n",
       "  display: inline-block;\n",
       "  background: var(--xr-background-color);\n",
       "  padding-right: 10px;\n",
       "}\n",
       "\n",
       ".xr-attrs dd {\n",
       "  grid-column: 2;\n",
       "  white-space: pre-wrap;\n",
       "  word-break: break-all;\n",
       "}\n",
       "\n",
       ".xr-icon-database,\n",
       ".xr-icon-file-text2 {\n",
       "  display: inline-block;\n",
       "  vertical-align: middle;\n",
       "  width: 1em;\n",
       "  height: 1.5em !important;\n",
       "  stroke-width: 0;\n",
       "  stroke: currentColor;\n",
       "  fill: currentColor;\n",
       "}\n",
       "</style><pre class='xr-text-repr-fallback'>&lt;xarray.Dataset&gt;\n",
       "Dimensions:      (time: 613, x: 46, y: 41)\n",
       "Coordinates:\n",
       "  * time         (time) datetime64[ns] 1987-05-22T23:08:32.101946 ... 2021-06...\n",
       "  * y            (y) float64 -3.911e+06 -3.911e+06 ... -3.912e+06 -3.912e+06\n",
       "  * x            (x) float64 2.707e+05 2.707e+05 ... 2.72e+05 2.721e+05\n",
       "    spatial_ref  int32 32656\n",
       "Data variables:\n",
       "    nbart_red    (time, y, x) int16 132 133 52 134 135 135 ... 66 77 74 88 61 80\n",
       "    nbart_green  (time, y, x) int16 240 149 150 244 151 ... 184 176 191 177 177\n",
       "    nbart_blue   (time, y, x) int16 238 240 195 196 196 ... 296 292 298 293 288\n",
       "Attributes:\n",
       "    crs:           epsg:32656\n",
       "    grid_mapping:  spatial_ref</pre><div class='xr-wrap' hidden><div class='xr-header'><div class='xr-obj-type'>xarray.Dataset</div></div><ul class='xr-sections'><li class='xr-section-item'><input id='section-49fd4ae9-1f4a-49bb-9f0d-ee1e749eb8f8' class='xr-section-summary-in' type='checkbox' disabled ><label for='section-49fd4ae9-1f4a-49bb-9f0d-ee1e749eb8f8' class='xr-section-summary'  title='Expand/collapse section'>Dimensions:</label><div class='xr-section-inline-details'><ul class='xr-dim-list'><li><span class='xr-has-index'>time</span>: 613</li><li><span class='xr-has-index'>x</span>: 46</li><li><span class='xr-has-index'>y</span>: 41</li></ul></div><div class='xr-section-details'></div></li><li class='xr-section-item'><input id='section-2aea5bbc-6b14-4f32-9a2f-cd1cc098c51b' class='xr-section-summary-in' type='checkbox'  checked><label for='section-2aea5bbc-6b14-4f32-9a2f-cd1cc098c51b' class='xr-section-summary' >Coordinates: <span>(4)</span></label><div class='xr-section-inline-details'></div><div class='xr-section-details'><ul class='xr-var-list'><li class='xr-var-item'><div class='xr-var-name'><span class='xr-has-index'>time</span></div><div class='xr-var-dims'>(time)</div><div class='xr-var-dtype'>datetime64[ns]</div><div class='xr-var-preview xr-preview'>1987-05-22T23:08:32.101946 ... 2...</div><input id='attrs-bfbfaade-f6ec-4921-884a-8a075b165e78' class='xr-var-attrs-in' type='checkbox' ><label for='attrs-bfbfaade-f6ec-4921-884a-8a075b165e78' title='Show/Hide attributes'><svg class='icon xr-icon-file-text2'><use xlink:href='#icon-file-text2'></use></svg></label><input id='data-06151c7a-7e72-4182-b63f-a616bb4311ff' class='xr-var-data-in' type='checkbox'><label for='data-06151c7a-7e72-4182-b63f-a616bb4311ff' title='Show/Hide data repr'><svg class='icon xr-icon-database'><use xlink:href='#icon-database'></use></svg></label><div class='xr-var-attrs'><dl class='xr-attrs'><dt><span>units :</span></dt><dd>seconds since 1970-01-01 00:00:00</dd></dl></div><div class='xr-var-data'><pre>array([&#x27;1987-05-22T23:08:32.101946000&#x27;, &#x27;1987-09-02T23:16:50.595216000&#x27;,\n",
       "       &#x27;1987-09-18T23:17:14.231273000&#x27;, ..., &#x27;2021-04-24T23:49:54.257314000&#x27;,\n",
       "       &#x27;2021-05-26T23:49:59.997460000&#x27;, &#x27;2021-06-04T23:43:53.458716000&#x27;],\n",
       "      dtype=&#x27;datetime64[ns]&#x27;)</pre></div></li><li class='xr-var-item'><div class='xr-var-name'><span class='xr-has-index'>y</span></div><div class='xr-var-dims'>(y)</div><div class='xr-var-dtype'>float64</div><div class='xr-var-preview xr-preview'>-3.911e+06 ... -3.912e+06</div><input id='attrs-f7b54e5b-0867-438a-a763-1c4d44732af7' class='xr-var-attrs-in' type='checkbox' ><label for='attrs-f7b54e5b-0867-438a-a763-1c4d44732af7' title='Show/Hide attributes'><svg class='icon xr-icon-file-text2'><use xlink:href='#icon-file-text2'></use></svg></label><input id='data-a270fd89-fd53-472c-9251-b6849020f191' class='xr-var-data-in' type='checkbox'><label for='data-a270fd89-fd53-472c-9251-b6849020f191' title='Show/Hide data repr'><svg class='icon xr-icon-database'><use xlink:href='#icon-database'></use></svg></label><div class='xr-var-attrs'><dl class='xr-attrs'><dt><span>units :</span></dt><dd>metre</dd><dt><span>resolution :</span></dt><dd>-30.0</dd><dt><span>crs :</span></dt><dd>epsg:32656</dd></dl></div><div class='xr-var-data'><pre>array([-3911295., -3911325., -3911355., -3911385., -3911415., -3911445.,\n",
       "       -3911475., -3911505., -3911535., -3911565., -3911595., -3911625.,\n",
       "       -3911655., -3911685., -3911715., -3911745., -3911775., -3911805.,\n",
       "       -3911835., -3911865., -3911895., -3911925., -3911955., -3911985.,\n",
       "       -3912015., -3912045., -3912075., -3912105., -3912135., -3912165.,\n",
       "       -3912195., -3912225., -3912255., -3912285., -3912315., -3912345.,\n",
       "       -3912375., -3912405., -3912435., -3912465., -3912495.])</pre></div></li><li class='xr-var-item'><div class='xr-var-name'><span class='xr-has-index'>x</span></div><div class='xr-var-dims'>(x)</div><div class='xr-var-dtype'>float64</div><div class='xr-var-preview xr-preview'>2.707e+05 2.707e+05 ... 2.721e+05</div><input id='attrs-4bc63ba4-9cf4-47ae-acb3-b2dfa9ebd7ac' class='xr-var-attrs-in' type='checkbox' ><label for='attrs-4bc63ba4-9cf4-47ae-acb3-b2dfa9ebd7ac' title='Show/Hide attributes'><svg class='icon xr-icon-file-text2'><use xlink:href='#icon-file-text2'></use></svg></label><input id='data-5d3a67da-7aa0-4734-a92e-949f368aaca5' class='xr-var-data-in' type='checkbox'><label for='data-5d3a67da-7aa0-4734-a92e-949f368aaca5' title='Show/Hide data repr'><svg class='icon xr-icon-database'><use xlink:href='#icon-database'></use></svg></label><div class='xr-var-attrs'><dl class='xr-attrs'><dt><span>units :</span></dt><dd>metre</dd><dt><span>resolution :</span></dt><dd>30.0</dd><dt><span>crs :</span></dt><dd>epsg:32656</dd></dl></div><div class='xr-var-data'><pre>array([270705., 270735., 270765., 270795., 270825., 270855., 270885., 270915.,\n",
       "       270945., 270975., 271005., 271035., 271065., 271095., 271125., 271155.,\n",
       "       271185., 271215., 271245., 271275., 271305., 271335., 271365., 271395.,\n",
       "       271425., 271455., 271485., 271515., 271545., 271575., 271605., 271635.,\n",
       "       271665., 271695., 271725., 271755., 271785., 271815., 271845., 271875.,\n",
       "       271905., 271935., 271965., 271995., 272025., 272055.])</pre></div></li><li class='xr-var-item'><div class='xr-var-name'><span>spatial_ref</span></div><div class='xr-var-dims'>()</div><div class='xr-var-dtype'>int32</div><div class='xr-var-preview xr-preview'>32656</div><input id='attrs-7fd6bb45-dafb-4979-8475-b5dbda9551ad' class='xr-var-attrs-in' type='checkbox' ><label for='attrs-7fd6bb45-dafb-4979-8475-b5dbda9551ad' title='Show/Hide attributes'><svg class='icon xr-icon-file-text2'><use xlink:href='#icon-file-text2'></use></svg></label><input id='data-3be83a03-b250-4e5c-b647-9c8c407a9fdb' class='xr-var-data-in' type='checkbox'><label for='data-3be83a03-b250-4e5c-b647-9c8c407a9fdb' title='Show/Hide data repr'><svg class='icon xr-icon-database'><use xlink:href='#icon-database'></use></svg></label><div class='xr-var-attrs'><dl class='xr-attrs'><dt><span>spatial_ref :</span></dt><dd>PROJCS[&quot;WGS 84 / UTM zone 56N&quot;,GEOGCS[&quot;WGS 84&quot;,DATUM[&quot;WGS_1984&quot;,SPHEROID[&quot;WGS 84&quot;,6378137,298.257223563,AUTHORITY[&quot;EPSG&quot;,&quot;7030&quot;]],AUTHORITY[&quot;EPSG&quot;,&quot;6326&quot;]],PRIMEM[&quot;Greenwich&quot;,0,AUTHORITY[&quot;EPSG&quot;,&quot;8901&quot;]],UNIT[&quot;degree&quot;,0.0174532925199433,AUTHORITY[&quot;EPSG&quot;,&quot;9122&quot;]],AUTHORITY[&quot;EPSG&quot;,&quot;4326&quot;]],PROJECTION[&quot;Transverse_Mercator&quot;],PARAMETER[&quot;latitude_of_origin&quot;,0],PARAMETER[&quot;central_meridian&quot;,153],PARAMETER[&quot;scale_factor&quot;,0.9996],PARAMETER[&quot;false_easting&quot;,500000],PARAMETER[&quot;false_northing&quot;,0],UNIT[&quot;metre&quot;,1,AUTHORITY[&quot;EPSG&quot;,&quot;9001&quot;]],AXIS[&quot;Easting&quot;,EAST],AXIS[&quot;Northing&quot;,NORTH],AUTHORITY[&quot;EPSG&quot;,&quot;32656&quot;]]</dd><dt><span>grid_mapping_name :</span></dt><dd>transverse_mercator</dd></dl></div><div class='xr-var-data'><pre>array(32656, dtype=int32)</pre></div></li></ul></div></li><li class='xr-section-item'><input id='section-030a5e03-70ae-4c56-9d08-218bd520e377' class='xr-section-summary-in' type='checkbox'  checked><label for='section-030a5e03-70ae-4c56-9d08-218bd520e377' class='xr-section-summary' >Data variables: <span>(3)</span></label><div class='xr-section-inline-details'></div><div class='xr-section-details'><ul class='xr-var-list'><li class='xr-var-item'><div class='xr-var-name'><span>nbart_red</span></div><div class='xr-var-dims'>(time, y, x)</div><div class='xr-var-dtype'>int16</div><div class='xr-var-preview xr-preview'>132 133 52 134 135 ... 74 88 61 80</div><input id='attrs-094d5e4a-e71a-4500-ac9f-89f65db138fd' class='xr-var-attrs-in' type='checkbox' ><label for='attrs-094d5e4a-e71a-4500-ac9f-89f65db138fd' title='Show/Hide attributes'><svg class='icon xr-icon-file-text2'><use xlink:href='#icon-file-text2'></use></svg></label><input id='data-15db7b68-db1f-41dd-97aa-3cdfc0fc2ccb' class='xr-var-data-in' type='checkbox'><label for='data-15db7b68-db1f-41dd-97aa-3cdfc0fc2ccb' title='Show/Hide data repr'><svg class='icon xr-icon-database'><use xlink:href='#icon-database'></use></svg></label><div class='xr-var-attrs'><dl class='xr-attrs'><dt><span>units :</span></dt><dd>1</dd><dt><span>nodata :</span></dt><dd>-999</dd><dt><span>crs :</span></dt><dd>epsg:32656</dd><dt><span>grid_mapping :</span></dt><dd>spatial_ref</dd></dl></div><div class='xr-var-data'><pre>array([[[ 132,  133,   52, ...,  135,  135,  135],\n",
       "        [ 120,  124,   50, ...,  135,  135,  135],\n",
       "        [ 100,  105,  109, ...,  135,  135,  135],\n",
       "        ...,\n",
       "        [ 937,  788,  545, ...,   53,  136,  136],\n",
       "        [ 622,  627,  382, ...,  136,  136,   53],\n",
       "        [ 462,  464,  218, ...,  136,  218,  136]],\n",
       "\n",
       "       [[ 163,  164,  112, ...,  112,  164,  164],\n",
       "        [ 159,  213,  162, ...,  112,  112,  112],\n",
       "        [ 194,  200,  205, ...,  164,  216,  164],\n",
       "        ...,\n",
       "        [2274, 2022, 1599, ...,  216,  216,  216],\n",
       "        [2058, 2646, 2113, ...,  216,  216,  216],\n",
       "        [2131, 2961, 1861, ...,  164,  216,  164]],\n",
       "\n",
       "       [[ 123,  123,  123, ...,   80,   80,   80],\n",
       "        [ 121,   79,  122, ...,   80,   80,   80],\n",
       "        [ 114,  117,  160, ...,   80,   80,   36],\n",
       "        ...,\n",
       "...\n",
       "        ...,\n",
       "        [2576, 1948, 1027, ...,  122,  121,  122],\n",
       "        [1897, 1043,  454, ...,  124,  125,  120],\n",
       "        [1261,  597,  323, ...,  125,  124,  119]],\n",
       "\n",
       "       [[  85,   82,   88, ...,   65,   64,   77],\n",
       "        [  89,   82,   88, ...,   70,   80,   85],\n",
       "        [  74,   78,   83, ...,   74,  106,   89],\n",
       "        ...,\n",
       "        [1802, 1774, 1201, ...,   83,   89,   84],\n",
       "        [ 974,  861,  494, ...,   72,   78,   74],\n",
       "        [ 702,  409,  301, ...,   77,   83,   77]],\n",
       "\n",
       "       [[  88,   98,   97, ...,   73,   67,   57],\n",
       "        [  71,   84,   96, ...,   70,   73,   72],\n",
       "        [ 130,  128,  114, ...,   70,   62,   73],\n",
       "        ...,\n",
       "        [2031, 5381, 3828, ...,   73,   74,   78],\n",
       "        [3046, 5509, 1917, ...,   73,   75,   78],\n",
       "        [3562, 4847, 1166, ...,   88,   61,   80]]], dtype=int16)</pre></div></li><li class='xr-var-item'><div class='xr-var-name'><span>nbart_green</span></div><div class='xr-var-dims'>(time, y, x)</div><div class='xr-var-dtype'>int16</div><div class='xr-var-preview xr-preview'>240 149 150 244 ... 176 191 177 177</div><input id='attrs-d2842c56-1c52-4ed6-b90f-54d176d97eff' class='xr-var-attrs-in' type='checkbox' ><label for='attrs-d2842c56-1c52-4ed6-b90f-54d176d97eff' title='Show/Hide attributes'><svg class='icon xr-icon-file-text2'><use xlink:href='#icon-file-text2'></use></svg></label><input id='data-0626475d-29d9-4541-9080-c9886378e456' class='xr-var-data-in' type='checkbox'><label for='data-0626475d-29d9-4541-9080-c9886378e456' title='Show/Hide data repr'><svg class='icon xr-icon-database'><use xlink:href='#icon-database'></use></svg></label><div class='xr-var-attrs'><dl class='xr-attrs'><dt><span>units :</span></dt><dd>1</dd><dt><span>nodata :</span></dt><dd>-999</dd><dt><span>crs :</span></dt><dd>epsg:32656</dd><dt><span>grid_mapping :</span></dt><dd>spatial_ref</dd></dl></div><div class='xr-var-data'><pre>array([[[ 240,  149,  150, ...,  152,  152,  152],\n",
       "        [ 221,  140,  231, ...,  246,   57,  246],\n",
       "        [ 186,  194,  201, ...,  246,   57,  152],\n",
       "        ...,\n",
       "        [1613, 1451, 1179, ...,  152,  152,  152],\n",
       "        [1262, 1178,  901, ...,  152,  152,  152],\n",
       "        [1175, 1086,  901, ...,  246,  152,   57]],\n",
       "\n",
       "       [[ 464,  406,  348, ...,  290,  348,  348],\n",
       "        [ 397,  402,  345, ...,  231,  290,  348],\n",
       "        [ 369,  325,  332, ...,  290,  231,  231],\n",
       "        ...,\n",
       "        [2325, 2534, 2236, ...,  407,  407,  348],\n",
       "        [2409, 3167, 2858, ...,  407,  407,  348],\n",
       "        [2599, 3621, 2526, ...,  407,  348,  348]],\n",
       "\n",
       "       [[ 310,  311,  262, ...,  164,  164,  164],\n",
       "        [ 257,  260,  309, ...,  164,  164,  164],\n",
       "        [ 244,  296,  300, ...,  164,  164,  164],\n",
       "        ...,\n",
       "...\n",
       "        ...,\n",
       "        [2515, 2412, 1821, ...,  241,  237,  239],\n",
       "        [2254, 1677, 1211, ...,  238,  240,  240],\n",
       "        [1956, 1295, 1042, ...,  237,  241,  235]],\n",
       "\n",
       "       [[ 242,  226,  224, ...,  186,  177,  181],\n",
       "        [ 228,  231,  224, ...,  179,  185,  195],\n",
       "        [ 225,  201,  206, ...,  182,  203,  199],\n",
       "        ...,\n",
       "        [2346, 2488, 1898, ...,  169,  176,  178],\n",
       "        [1638, 1544, 1273, ...,  175,  175,  177],\n",
       "        [1397, 1121, 1051, ...,  186,  180,  174]],\n",
       "\n",
       "       [[ 232,  234,  243, ...,  182,  182,  177],\n",
       "        [ 219,  200,  236, ...,  176,  167,  178],\n",
       "        [ 242,  205,  208, ...,  177,  170,  168],\n",
       "        ...,\n",
       "        [2955, 5928, 4346, ...,  177,  182,  180],\n",
       "        [3840, 5972, 2560, ...,  188,  183,  190],\n",
       "        [4120, 5460, 1845, ...,  191,  177,  177]]], dtype=int16)</pre></div></li><li class='xr-var-item'><div class='xr-var-name'><span>nbart_blue</span></div><div class='xr-var-dims'>(time, y, x)</div><div class='xr-var-dtype'>int16</div><div class='xr-var-preview xr-preview'>238 240 195 196 ... 292 298 293 288</div><input id='attrs-2ce3bb14-3cd0-4ac1-974e-2300119ef5af' class='xr-var-attrs-in' type='checkbox' ><label for='attrs-2ce3bb14-3cd0-4ac1-974e-2300119ef5af' title='Show/Hide attributes'><svg class='icon xr-icon-file-text2'><use xlink:href='#icon-file-text2'></use></svg></label><input id='data-341aff89-27c2-4a05-9edb-84c181593ce4' class='xr-var-data-in' type='checkbox'><label for='data-341aff89-27c2-4a05-9edb-84c181593ce4' title='Show/Hide data repr'><svg class='icon xr-icon-database'><use xlink:href='#icon-database'></use></svg></label><div class='xr-var-attrs'><dl class='xr-attrs'><dt><span>units :</span></dt><dd>1</dd><dt><span>nodata :</span></dt><dd>-999</dd><dt><span>crs :</span></dt><dd>epsg:32656</dd><dt><span>grid_mapping :</span></dt><dd>spatial_ref</dd></dl></div><div class='xr-var-data'><pre>array([[[ 238,  240,  195, ...,  197,  291,  150],\n",
       "        [ 219,  138,  229, ...,  291,  150,  197],\n",
       "        [ 183,  155,  199, ...,  244,  103,  197],\n",
       "        ...,\n",
       "        [1105, 1210,  894, ...,  198,  245,  198],\n",
       "        [ 978, 1030,  894, ...,  198,  198,  151],\n",
       "        [ 937,  894,  802, ...,  198,  151,  198]],\n",
       "\n",
       "       [[ 403,  403,  292, ...,  321,  265,  293],\n",
       "        [ 340,  344,  290, ...,  376,  293,  293],\n",
       "        [ 315,  247,  358, ...,  349,  321,  265],\n",
       "        ...,\n",
       "        [1802, 2172, 2021, ...,  349,  377,  432],\n",
       "        [2056, 2814, 2602, ...,  404,  377,  377],\n",
       "        [2310, 3186, 2319, ...,  377,  349,  377]],\n",
       "\n",
       "       [[ 346,  278,  231, ...,  255,  301,  255],\n",
       "        [ 204,  275,  276, ...,  255,  255,  209],\n",
       "        [ 257,  263,  290, ...,  232,  232,  278],\n",
       "        ...,\n",
       "...\n",
       "        ...,\n",
       "        [1913, 2088, 1384, ...,  384,  379,  381],\n",
       "        [1731, 1288,  953, ...,  378,  378,  373],\n",
       "        [1536, 1028,  848, ...,  385,  389,  373]],\n",
       "\n",
       "       [[ 301,  285,  295, ...,  294,  305,  305],\n",
       "        [ 298,  280,  285, ...,  307,  310,  309],\n",
       "        [ 260,  253,  266, ...,  304,  325,  317],\n",
       "        ...,\n",
       "        [1843, 2243, 1516, ...,  306,  306,  306],\n",
       "        [1308, 1317,  989, ...,  306,  309,  316],\n",
       "        [1096,  932,  853, ...,  314,  305,  302]],\n",
       "\n",
       "       [[ 286,  275,  284, ...,  303,  297,  304],\n",
       "        [ 252,  245,  249, ...,  294,  299,  297],\n",
       "        [ 277,  237,  230, ...,  294,  302,  298],\n",
       "        ...,\n",
       "        [2749, 5223, 3990, ...,  297,  309,  305],\n",
       "        [3601, 5278, 2145, ...,  310,  308,  306],\n",
       "        [3983, 4966, 1674, ...,  298,  293,  288]]], dtype=int16)</pre></div></li></ul></div></li><li class='xr-section-item'><input id='section-387e0bb5-51d1-493a-ba30-3418bf9cc5ec' class='xr-section-summary-in' type='checkbox'  checked><label for='section-387e0bb5-51d1-493a-ba30-3418bf9cc5ec' class='xr-section-summary' >Attributes: <span>(2)</span></label><div class='xr-section-inline-details'></div><div class='xr-section-details'><dl class='xr-attrs'><dt><span>crs :</span></dt><dd>epsg:32656</dd><dt><span>grid_mapping :</span></dt><dd>spatial_ref</dd></dl></div></li></ul></div></div>"
      ],
      "text/plain": [
       "<xarray.Dataset>\n",
       "Dimensions:      (time: 613, x: 46, y: 41)\n",
       "Coordinates:\n",
       "  * time         (time) datetime64[ns] 1987-05-22T23:08:32.101946 ... 2021-06...\n",
       "  * y            (y) float64 -3.911e+06 -3.911e+06 ... -3.912e+06 -3.912e+06\n",
       "  * x            (x) float64 2.707e+05 2.707e+05 ... 2.72e+05 2.721e+05\n",
       "    spatial_ref  int32 32656\n",
       "Data variables:\n",
       "    nbart_red    (time, y, x) int16 132 133 52 134 135 135 ... 66 77 74 88 61 80\n",
       "    nbart_green  (time, y, x) int16 240 149 150 244 151 ... 184 176 191 177 177\n",
       "    nbart_blue   (time, y, x) int16 238 240 195 196 196 ... 296 292 298 293 288\n",
       "Attributes:\n",
       "    crs:           epsg:32656\n",
       "    grid_mapping:  spatial_ref"
      ]
     },
     "execution_count": 5,
     "metadata": {},
     "output_type": "execute_result"
    }
   ],
   "source": [
    "# Load data\n",
    "ds = load_ard(\n",
    "    dc=dc,\n",
    "    products=[\n",
    "        \"ga_ls5t_ard_3\",\n",
    "        \"ga_ls7e_ard_3\",\n",
    "        \"ga_ls8c_ard_3\",\n",
    "#         \"s2a_ard_granule\",\n",
    "#         \"s2b_ard_granule\",\n",
    "#         \"s2a_nrt_granule\",\n",
    "#         \"s2b_nrt_granule\",\n",
    "    ],\n",
    "    min_gooddata=0.99,\n",
    "    ls7_slc_off=False,\n",
    "    mask_pixel_quality=False,\n",
    "    **query\n",
    ")\n",
    "\n",
    "# # Optionally apply tide filtering\n",
    "# ds_ls = tidal_tag(ds_ls)\n",
    "# ds_ls = ds_ls.sel(time = ds_ls.tide_height < ds_ls.tide_height.median())\n",
    "\n",
    "# Load using dask\n",
    "ds = ds.compute()\n",
    "ds"
   ]
  },
  {
   "cell_type": "markdown",
   "metadata": {},
   "source": [
    "### Apply rolling median to smooth out noise and focus on change\n",
    "Also calculates median surface reflectance over entire time series as an input to `match_histograms` which will reduce scene-to-scene variability"
   ]
  },
  {
   "cell_type": "code",
   "execution_count": 6,
   "metadata": {},
   "outputs": [
    {
     "name": "stdout",
     "output_type": "stream",
     "text": [
      "<xarray.Dataset>\n",
      "Dimensions:      (time: 613, x: 46, y: 41)\n",
      "Coordinates:\n",
      "  * time         (time) datetime64[ns] 1987-05-22T23:08:32.101946 ... 2021-06...\n",
      "  * y            (y) float64 -3.911e+06 -3.911e+06 ... -3.912e+06 -3.912e+06\n",
      "  * x            (x) float64 2.707e+05 2.707e+05 ... 2.72e+05 2.721e+05\n",
      "    spatial_ref  int32 32656\n",
      "Data variables:\n",
      "    nbart_red    (time, y, x) float32 180.0 166.0 170.5 ... 114.0 98.0 99.0\n",
      "    nbart_green  (time, y, x) float32 376.0 311.5 312.0 ... 211.0 202.0 207.0\n",
      "    nbart_blue   (time, y, x) float32 345.0 312.0 303.5 ... 314.0 305.0 302.0\n"
     ]
    }
   ],
   "source": [
    "# Apply rolling median (or optionally, annual resampling)\n",
    "ds_rolling = ds.rolling(time=40, center=True, min_periods=1).median()\n",
    "# ds_rolling = ds.resample(time='Y').median(dim='time').rolling(time=3, center=True, min_periods=1).median()\n",
    "\n",
    "# Calculate all of time median\n",
    "median_array = np.transpose(ds_rolling[bands]\n",
    "                            .median(dim='time')\n",
    "                            .to_array().values, \n",
    "                            axes=(1, 2, 0))\n",
    "print(ds_rolling)"
   ]
  },
  {
   "cell_type": "markdown",
   "metadata": {},
   "source": [
    "## Run animation\n",
    "`funcs_list` provides a series of image processing functions that are applied to each satellite frame. \n",
    "The default values are only examples - each animation will probably require fine tuning (or may not require all techniques at all)."
   ]
  },
  {
   "cell_type": "code",
   "execution_count": 7,
   "metadata": {},
   "outputs": [
    {
     "name": "stdout",
     "output_type": "stream",
     "text": [
      "Exporting animation to animation_bowling.mp4\n"
     ]
    },
    {
     "data": {
      "application/vnd.jupyter.widget-view+json": {
       "model_id": "9c769bac661d4396abf6795d0e5ac08f",
       "version_major": 2,
       "version_minor": 0
      },
      "text/plain": [
       "  0%|          | 0/613 (0.0 seconds remaining at ? frames/s)"
      ]
     },
     "metadata": {},
     "output_type": "display_data"
    },
    {
     "data": {
      "image/png": "[encoded data removed]",
      "text/plain": [
       "<Figure size 900x802 with 1 Axes>"
      ]
     },
     "metadata": {
      "needs_background": "light"
     },
     "output_type": "display_data"
    }
   ],
   "source": [
    "import numpy as np\n",
    "from skimage.filters import unsharp_mask\n",
    "from skimage.exposure import match_histograms, rescale_intensity, adjust_sigmoid\n",
    "\n",
    "funcs_list = [\n",
    "              # Apply `match_histograms` to reduce scene-to-scene variability\n",
    "              lambda x: match_histograms(image=x, reference=median_array, multichannel=True),\n",
    "    \n",
    "              # Apply power transform to reduce bright highlights  \n",
    "              lambda x: x**0.8,\n",
    "    \n",
    "              # Rescale values to range accepted by `xr_animation`\n",
    "              rescale_intensity,\n",
    "    \n",
    "              # Apply different levels of unsharp masking to enhance\n",
    "              # overall dynamic range, and improve fine scale detail\n",
    "              lambda x: unsharp_mask(x, radius=20, amount=0.2),\n",
    "              lambda x: unsharp_mask(x, radius=5, amount=0.1),\n",
    "              \n",
    "              # # Contrast enhancement using sigmoid transform\n",
    "              # lambda x: adjust_sigmoid(image=x, cutoff=0.7, gain=3)\n",
    "             ]\n",
    "# funcs_list = None\n",
    "\n",
    "xr_animation(output_path='animation_timeseries.mp4',\n",
    "             ds=ds_rolling,\n",
    "             show_text='',\n",
    "             bands=bands[0:3],\n",
    "             interval=50,\n",
    "             width_pixels=900,\n",
    "             percentile_stretch=(0.01, 0.99),\n",
    "             image_proc_funcs=funcs_list,\n",
    "             show_date='%Y',\n",
    "             annotation_kwargs={'fontsize': 60},\n",
    "            ) "
   ]
  },
  {
   "cell_type": "markdown",
   "metadata": {},
   "source": [
    "## Specialised animations"
   ]
  },
  {
   "cell_type": "markdown",
   "metadata": {},
   "source": [
    "### DEA CoastLines animations"
   ]
  },
  {
   "cell_type": "code",
   "execution_count": null,
   "metadata": {},
   "outputs": [],
   "source": [
    "import geopandas as gpd\n",
    "import pandas as pd\n",
    "import matplotlib\n",
    "\n",
    "# Get bounding box of data\n",
    "xmin, ymin, xmax, ymax = ds_ls.geobox.geographic_extent.boundingbox\n",
    "\n",
    "# Set up WFS requests for annual coastlines & rates of change statistics\n",
    "deacl_coastlines_wfs = 'https://geoserver.dea.ga.gov.au/geoserver/wfs?' \\\n",
    "                       'service=WFS&version=1.1.0&request=GetFeature&' \\\n",
    "                       'typeName=dea:coastlines&maxFeatures=1000&' \\\n",
    "                      f'bbox={ymin},{xmin},{ymax},{xmax},urn:ogc:def:crs:EPSG:4326'\n",
    "\n",
    "# Load data from WFS and set CRS\n",
    "deacl_gdf = gpd.read_file(deacl_coastlines_wfs)\n",
    "deacl_gdf.crs = 'EPSG:3577'\n",
    "\n",
    "# Clip to extent of satellite data\n",
    "bbox = gpd.GeoDataFrame(geometry=[ds_ls.geobox.extent.geom],\n",
    "                        crs=ds_ls.geobox.crs)  \n",
    "deacl_gdf = gpd.overlay(deacl_gdf, bbox.to_crs(deacl_gdf.crs))\n",
    "deacl_gdf = deacl_gdf.dissolve('year')\n",
    "\n",
    "# Apply colours\n",
    "norm = matplotlib.colors.Normalize(vmin=0, vmax=len(deacl_gdf.index))\n",
    "cmap = matplotlib.cm.get_cmap('inferno')\n",
    "rgba = cmap(norm(deacl_gdf.reset_index().index))\n",
    "deacl_gdf['color'] = list(rgba)\n",
    "deacl_gdf['start_time'] = (pd.to_datetime(deacl_gdf.index) + \n",
    "                           pd.DateOffset(months=5))\n",
    "\n",
    "# Remove a year\n",
    "# deacl_gdf = deacl_gdf.drop('1993')\n",
    "\n",
    "deacl_gdf.plot()"
   ]
  },
  {
   "cell_type": "code",
   "execution_count": null,
   "metadata": {},
   "outputs": [],
   "source": [
    "# minx, miny, maxx, maxy = deacl_gdf.unary_union.bounds\n",
    "# from shapely.geometry import box\n",
    "# import geopandas as gpd\n",
    "# test = box(minx, -3570200, maxx, maxy)\n",
    "# deacl_gdf = gpd.clip(deacl_gdf, gpd.GeoSeries(test, crs='EPSG:3577')) \n",
    "# deacl_gdf.plot()"
   ]
  },
  {
   "cell_type": "code",
   "execution_count": null,
   "metadata": {},
   "outputs": [],
   "source": [
    "import numpy as np\n",
    "from skimage.filters import unsharp_mask\n",
    "from skimage.exposure import match_histograms, rescale_intensity, adjust_sigmoid\n",
    "\n",
    "funcs_list = [lambda x: match_histograms(image=x, reference=median_array, multichannel=True),\n",
    "#               lambda x: x**0.5,\n",
    "              rescale_intensity,\n",
    "#               hue_sat_val,\n",
    "              lambda x: unsharp_mask(x, radius=20, amount=0.3),\n",
    "              lambda x: unsharp_mask(x, radius=5, amount=0.2),\n",
    "#               lambda x: adjust_sigmoid(image=x, cutoff=0.7, gain=3)\n",
    "             ]\n",
    "# funcs_list = None\n",
    "\n",
    "xr_animation(output_path='deacoastlines_annual_pelicanpoint.mp4',\n",
    "             ds=ds_rolling,  #.isel(time=slice(10, -1)),\n",
    "             show_text='',\n",
    "             bands=bands,\n",
    "             interval=80,\n",
    "             width_pixels=900,\n",
    "             percentile_stretch=(0.01, 0.99),\n",
    "             image_proc_funcs=funcs_list,\n",
    "             show_date='%Y',\n",
    "             annotation_kwargs={'fontsize': 55},\n",
    "             show_gdf=deacl_gdf,\n",
    "             gdf_kwargs = {'linewidth': 2.5},\n",
    "             imshow_kwargs={'vmin': -0.5, 'vmax': 0.7},   # Stuart Point, Twilight Bay\n",
    "#              imshow_kwargs={'vmin': -0.2, 'vmax': 0.6},\n",
    "#              limit=30,\n",
    "            ) "
   ]
  },
  {
   "cell_type": "code",
   "execution_count": null,
   "metadata": {},
   "outputs": [],
   "source": [
    "import numpy as np\n",
    "from skimage.filters import unsharp_mask\n",
    "from skimage.exposure import match_histograms, rescale_intensity, adjust_sigmoid\n",
    "\n",
    "funcs_list = [\n",
    "              lambda x: match_histograms(image=x, reference=median_array, multichannel=True),\n",
    "              lambda x: x**0.8,\n",
    "              rescale_intensity,\n",
    "#               hue_sat_val,\n",
    "              lambda x: unsharp_mask(x, radius=20, amount=0.2),\n",
    "              lambda x: unsharp_mask(x, radius=5, amount=0.1),\n",
    "#               lambda x: adjust_sigmoid(image=x, cutoff=0.7, gain=3)\n",
    "             ]\n",
    "# funcs_list = None\n",
    "\n",
    "xr_animation(output_path='animation_sydney.mp4',\n",
    "             ds=ds_rolling,  #.isel(time=slice(1, -1)),\n",
    "             show_text='',\n",
    "             bands=bands,\n",
    "             interval=50,\n",
    "             width_pixels=900,\n",
    "             percentile_stretch=(0.01, 0.99),\n",
    "             image_proc_funcs=funcs_list,\n",
    "             show_date='%Y',\n",
    "             annotation_kwargs={'fontsize': 60},\n",
    "             show_gdf=deacl_gdf,\n",
    "             gdf_kwargs = {'linewidth': 2.5},\n",
    "#              imshow_kwargs={'vmin': -0.5, 'vmax': 0.7},   # Stuart Point, Twilight Bay\n",
    "#              imshow_kwargs={'vmin': -0.2, 'vmax': 0.6},\n",
    "#              limit=10,\n",
    "            ) "
   ]
  },
  {
   "cell_type": "code",
   "execution_count": null,
   "metadata": {},
   "outputs": [],
   "source": [
    "site='spoilbank'\n",
    "!ffmpeg -y -i deacoastlines_annual_{site}.mp4 -i deacoastlines_inset_{site}.png \\\n",
    "-filter_complex \"[0:v][1:v] overlay=0:0:enable='between(t,0,20)'\" \\\n",
    "-pix_fmt yuv420p -c:a copy \\\n",
    "deacoastlines_annualwithinset_{site}.mp4"
   ]
  },
  {
   "cell_type": "code",
   "execution_count": null,
   "metadata": {},
   "outputs": [],
   "source": [
    "!ffmpeg -y -i 'Landsat 5 7 8 - 1987-2019 - Corner Inlet - True colour animation.mp4' -i seminar_title.png \\\n",
    "-filter_complex \"[0:v][1:v] overlay=0:0:enable='between(t,0,20)'\" \\\n",
    "-pix_fmt yuv420p -c:a copy \\\n",
    "seminar_with_title.mp4"
   ]
  },
  {
   "cell_type": "markdown",
   "metadata": {},
   "source": [
    "### Animated fade"
   ]
  },
  {
   "cell_type": "code",
   "execution_count": null,
   "metadata": {},
   "outputs": [],
   "source": [
    "import imageio\n",
    "import numpy as np\n",
    "\n",
    "from_array = imageio.imread('tides_fade/tides_low.png')\n",
    "to_array = imageio.imread('tides_fade/tides_high.png')\n",
    "\n",
    "framerate = 30\n",
    "pause = 3500\n",
    "frames = 20\n",
    "\n",
    "stacked_from_to = np.stack([to_array, from_array], axis=3)\n",
    "\n",
    "intervals = np.linspace(0, 1.0, frames + 1).tolist()\n",
    "weights = intervals + intervals[::-1][1:-1]\n",
    "milliseconds = [pause] + [framerate] * (len(intervals) - 2) + [pause] + [framerate] * (len(intervals) - 2)\n",
    "# weights = [0.1, 0.2, 0.3, 0.4, 0.5, 0.6, 0.7, 0.8, 0.9, 1.0, 0.9, 0.8, 0.7, 0.6, 0.5, 0.4, 0.3, 0.2, 0.1, 0.0]\n",
    "# milliseconds = [50, 50, 50, 50, 50, 50, 50, 50, 50, 3500, 50, 50, 50, 50, 50, 50, 50, 50, 50, 3500]\n",
    "\n",
    "for i, weight in enumerate(weights):\n",
    "\n",
    "    ave_from_to = np.average(stacked_from_to, axis=3, weights=np.array([weight, 1.0 - weight]))\n",
    "    imageio.imwrite(f'tides_fade/output_{i}_({milliseconds[i]}ms).png', ave_from_to.astype(np.uint8))\n"
   ]
  },
  {
   "cell_type": "markdown",
   "metadata": {},
   "source": [
    "### Mangrove animation"
   ]
  },
  {
   "cell_type": "code",
   "execution_count": null,
   "metadata": {},
   "outputs": [],
   "source": [
    "import numpy as np\n",
    "from skimage.filters import unsharp_mask\n",
    "from skimage.exposure import match_histograms, rescale_intensity, adjust_sigmoid\n",
    "\n",
    "ndvi = (d\n",
    "        \n",
    "        \n",
    "        \n",
    "        s_rolling[\"nbart_nir\"] - ds_rolling[\"nbart_red\"])/(ds_rolling[\"nbart_nir\"] + ds_rolling[\"nbart_red\"])\n",
    "ds_rolling2 = ds_rolling * rescale_intensity(image=ndvi, in_range=(0, 0.8), out_range=(0, 1.0))\n",
    "\n"
   ]
  },
  {
   "cell_type": "code",
   "execution_count": null,
   "metadata": {},
   "outputs": [],
   "source": [
    "\n",
    "funcs_list = [\n",
    "#               lambda x: match_histograms(image=x, reference=median_array, multichannel=True),\n",
    "#               lambda x: x**0.8,\n",
    "#               ndvi_mult,\n",
    "              rescale_intensity,\n",
    "#               hue_sat_val,\n",
    "#               lambda x: unsharp_mask(x, radius=20, amount=0.2),\n",
    "#               lambda x: unsharp_mask(x, radius=5, amount=0.1),\n",
    "#               lambda x: adjust_sigmoid(image=x, cutoff=0.7, gain=3)\n",
    "             ]\n",
    "funcs_list = None\n",
    "\n",
    "xr_animation(output_path='animation_bowling.mp4',\n",
    "             ds=ds_rolling2.isel(time=slice(20, -10)),\n",
    "             show_text='',\n",
    "             bands=bands[0:3],\n",
    "             interval=50,\n",
    "             width_pixels=900,\n",
    "             percentile_stretch=(0.001, 0.999),\n",
    "             image_proc_funcs=funcs_list,\n",
    "             show_date='%Y',\n",
    "             annotation_kwargs={'fontsize': 60},\n",
    "#              show_gdf=deacl_gdf,\n",
    "#              gdf_kwargs = {'linewidth': 2.5},\n",
    "#              imshow_kwargs={'vmin': -0.5, 'vmax': 0.7},   # Stuart Point, Twilight Bay\n",
    "#              imshow_kwargs={'vmin': -0.2, 'vmax': 0.6},\n",
    "#              limit=20,\n",
    "            ) "
   ]
  },
  {
   "cell_type": "code",
   "execution_count": null,
   "metadata": {},
   "outputs": [],
   "source": []
  }
 ],
 "metadata": {
  "kernelspec": {
   "display_name": "Python 3",
   "language": "python",
   "name": "python3"
  },
  "language_info": {
   "codemirror_mode": {
    "name": "ipython",
    "version": 3
   },
   "file_extension": ".py",
   "mimetype": "text/x-python",
   "name": "python",
   "nbconvert_exporter": "python",
   "pygments_lexer": "ipython3",
   "version": "3.6.9"
  },
  "widgets": {
   "application/vnd.jupyter.widget-state+json": {
    "state": {
     "02c9c3db0ddc43ed8ae8f1ac7542adba": {
      "model_module": "@jupyter-widgets/controls",
      "model_module_version": "1.5.0",
      "model_name": "DescriptionStyleModel",
      "state": {
       "description_width": ""
      }
     },
     "2593c4b4343e4ea2b8b8eecdcba55f76": {
      "model_module": "jupyter-leaflet",
      "model_module_version": "^0.13.0",
      "model_name": "LeafletMapStyleModel",
      "state": {
       "_model_module_version": "^0.13.0"
      }
     },
     "25b7f748f542438e80225482444891c0": {
      "model_module": "@jupyter-widgets/base",
      "model_module_version": "1.2.0",
      "model_name": "LayoutModel",
      "state": {}
     },
     "2a39cd86e55343f4a6951955fed46b0e": {
      "model_module": "@jupyter-widgets/controls",
      "model_module_version": "1.5.0",
      "model_name": "ButtonModel",
      "state": {
       "description": "done",
       "disabled": true,
       "layout": "IPY_MODEL_8e169f8da04847ad97a83d962f17f5e5",
       "style": "IPY_MODEL_366991167fb1402c992ca152e9bedb55"
      }
     },
     "2d1f465a56db4eb1afda822ccc297d9b": {
      "model_module": "@jupyter-widgets/base",
      "model_module_version": "1.2.0",
      "model_name": "LayoutModel",
      "state": {}
     },
     "2fc03f5a39be4203826c60851e775769": {
      "model_module": "jupyter-leaflet",
      "model_module_version": "^0.13.0",
      "model_name": "LeafletAttributionControlModel",
      "state": {
       "_model_module_version": "^0.13.0",
       "_view_module_version": "^0.13.0",
       "options": [
        "position",
        "prefix"
       ],
       "position": "bottomright",
       "prefix": "Leaflet"
      }
     },
     "311c29da06824d41aa3c3c054ee9a048": {
      "model_module": "@jupyter-widgets/base",
      "model_module_version": "1.2.0",
      "model_name": "LayoutModel",
      "state": {
       "flex": "1 0 20em",
       "height": "3em",
       "width": "20em"
      }
     },
     "366991167fb1402c992ca152e9bedb55": {
      "model_module": "@jupyter-widgets/controls",
      "model_module_version": "1.5.0",
      "model_name": "ButtonStyleModel",
      "state": {
       "button_color": "green"
      }
     },
     "3d48f57ab6f044d0bf14868062494dd1": {
      "model_module": "jupyter-leaflet",
      "model_module_version": "^0.13.0",
      "model_name": "LeafletMapStyleModel",
      "state": {
       "_model_module_version": "^0.13.0",
       "cursor": "move"
      }
     },
     "484950539b87453b8eb41bead54e6be6": {
      "model_module": "jupyter-leaflet",
      "model_module_version": "^0.13.0",
      "model_name": "LeafletTileLayerModel",
      "state": {
       "_model_module_version": "^0.13.0",
       "_view_module_version": "^0.13.0",
       "attribution": "Tiles &copy; Esri &mdash; Source: Esri, i-cubed, USDA, USGS, AEX, GeoEye, Getmapping, Aerogrid, IGN, IGP, UPR-EGP, and the GIS User Community",
       "max_native_zoom": 18,
       "max_zoom": 20,
       "min_native_zoom": 0,
       "min_zoom": 1,
       "name": "Esri.WorldImagery",
       "options": [
        "attribution",
        "detect_retina",
        "max_native_zoom",
        "max_zoom",
        "min_native_zoom",
        "min_zoom",
        "no_wrap",
        "tile_size",
        "tms"
       ],
       "url": "http://server.arcgisonline.com/ArcGIS/rest/services/World_Imagery/MapServer/tile/{z}/{y}/{x}"
      }
     },
     "5bcaa75e26cd479ba13223e05965da1d": {
      "model_module": "@jupyter-widgets/base",
      "model_module_version": "1.2.0",
      "model_name": "LayoutModel",
      "state": {
       "height": "600px"
      }
     },
     "60d4fcc51d3848d8950085b8fc7f72a3": {
      "model_module": "@jupyter-widgets/controls",
      "model_module_version": "1.5.0",
      "model_name": "HTMLModel",
      "state": {
       "layout": "IPY_MODEL_fb841cb6d1a846da999b9adc47a29a2e",
       "style": "IPY_MODEL_6bb03dc3add04b8db2a2ab4b34845fb9",
       "value": " 614/? (0.0 seconds remaining at  6.75 frames/s)"
      }
     },
     "6bb03dc3add04b8db2a2ab4b34845fb9": {
      "model_module": "@jupyter-widgets/controls",
      "model_module_version": "1.5.0",
      "model_name": "DescriptionStyleModel",
      "state": {
       "description_width": ""
      }
     },
     "6e58d2a676154897a74d59238411daf9": {
      "model_module": "@jupyter-widgets/controls",
      "model_module_version": "1.5.0",
      "model_name": "HTMLModel",
      "state": {
       "layout": "IPY_MODEL_25b7f748f542438e80225482444891c0",
       "style": "IPY_MODEL_02c9c3db0ddc43ed8ae8f1ac7542adba"
      }
     },
     "84020e47876d44afa8138fca3534130d": {
      "model_module": "@jupyter-widgets/controls",
      "model_module_version": "1.5.0",
      "model_name": "FloatProgressModel",
      "state": {
       "layout": "IPY_MODEL_2d1f465a56db4eb1afda822ccc297d9b",
       "max": 613,
       "style": "IPY_MODEL_db7dda1f515147969218baadc92fb38c",
       "value": 613
      }
     },
     "858ce12a5af341be8551b8f63476c929": {
      "model_module": "jupyter-leaflet",
      "model_module_version": "^0.13.0",
      "model_name": "LeafletWidgetControlModel",
      "state": {
       "_model_module": "jupyter-leaflet",
       "_model_module_version": "^0.13.0",
       "_view_count": null,
       "_view_module": "jupyter-leaflet",
       "_view_module_version": "^0.13.0",
       "options": [
        "position"
       ],
       "position": "topright",
       "widget": "IPY_MODEL_2a39cd86e55343f4a6951955fed46b0e"
      }
     },
     "872bbfe056cf4782a7d05f654236ba31": {
      "model_module": "jupyter-leaflet",
      "model_module_version": "^0.13.0",
      "model_name": "LeafletZoomControlModel",
      "state": {
       "_model_module_version": "^0.13.0",
       "_view_module_version": "^0.13.0",
       "options": [
        "position",
        "zoom_in_text",
        "zoom_in_title",
        "zoom_out_text",
        "zoom_out_title"
       ]
      }
     },
     "8951c3603c2445c8b0928c723ecc63a3": {
      "model_module": "jupyter-leaflet",
      "model_module_version": "^0.13.0",
      "model_name": "LeafletMapModel",
      "state": {
       "_model_module_version": "^0.13.0",
       "_view_module_version": "^0.13.0",
       "center": [
        -35.312991960627656,
        150.5104568466202
       ],
       "controls": [
        "IPY_MODEL_872bbfe056cf4782a7d05f654236ba31",
        "IPY_MODEL_2fc03f5a39be4203826c60851e775769",
        "IPY_MODEL_db202b05f939479c9e69886f6b2a88f1"
       ],
       "default_style": "IPY_MODEL_f5c1c4d1ffa545188f58c9dba742f596",
       "dragging_style": "IPY_MODEL_3d48f57ab6f044d0bf14868062494dd1",
       "east": 150.63783645629886,
       "fullscreen": false,
       "interpolation": "bilinear",
       "layers": [
        "IPY_MODEL_484950539b87453b8eb41bead54e6be6"
       ],
       "layout": "IPY_MODEL_5bcaa75e26cd479ba13223e05965da1d",
       "modisdate": "yesterday",
       "north": -35.27099012667099,
       "options": [
        "bounce_at_zoom_limits",
        "box_zoom",
        "center",
        "close_popup_on_click",
        "double_click_zoom",
        "dragging",
        "fullscreen",
        "inertia",
        "inertia_deceleration",
        "inertia_max_speed",
        "interpolation",
        "keyboard",
        "keyboard_pan_offset",
        "keyboard_zoom_offset",
        "max_zoom",
        "min_zoom",
        "scroll_wheel_zoom",
        "tap",
        "tap_tolerance",
        "touch_zoom",
        "world_copy_jump",
        "zoom",
        "zoom_animation_threshold",
        "zoom_start"
       ],
       "scroll_wheel_zoom": true,
       "south": -35.35503617315074,
       "style": "IPY_MODEL_f5c1c4d1ffa545188f58c9dba742f596",
       "west": 150.38309097290042,
       "window_url": "https://app.sandbox.dea.ga.gov.au/user/robbibt/lab?",
       "zoom": 13
      }
     },
     "8d051eba5ee94a1d92096cd532e4574d": {
      "model_module": "jupyter-leaflet",
      "model_module_version": "^0.13.0",
      "model_name": "LeafletWidgetControlModel",
      "state": {
       "_model_module": "jupyter-leaflet",
       "_model_module_version": "^0.13.0",
       "_view_count": null,
       "_view_module": "jupyter-leaflet",
       "_view_module_version": "^0.13.0",
       "options": [
        "position"
       ],
       "position": "bottomleft",
       "widget": "IPY_MODEL_8fdcc2e6c17d4520a2e719b7fc26a1ed"
      }
     },
     "8e169f8da04847ad97a83d962f17f5e5": {
      "model_module": "@jupyter-widgets/base",
      "model_module_version": "1.2.0",
      "model_name": "LayoutModel",
      "state": {
       "width": "5em"
      }
     },
     "8fdcc2e6c17d4520a2e719b7fc26a1ed": {
      "model_module": "@jupyter-widgets/controls",
      "model_module_version": "1.5.0",
      "model_name": "HTMLModel",
      "state": {
       "layout": "IPY_MODEL_311c29da06824d41aa3c3c054ee9a048",
       "style": "IPY_MODEL_f579a451c0674805b2ffa97c4c065f13",
       "value": "<pre style=\"color:grey\">lat: [-35.3550, -35.2710]\nlon: [150.3831, 150.6378]</pre>"
      }
     },
     "9c769bac661d4396abf6795d0e5ac08f": {
      "model_module": "@jupyter-widgets/controls",
      "model_module_version": "1.5.0",
      "model_name": "HBoxModel",
      "state": {
       "children": [
        "IPY_MODEL_6e58d2a676154897a74d59238411daf9",
        "IPY_MODEL_84020e47876d44afa8138fca3534130d",
        "IPY_MODEL_60d4fcc51d3848d8950085b8fc7f72a3"
       ],
       "layout": "IPY_MODEL_e0a919d32bb940e2ac0d69f8219b3caf"
      }
     },
     "db202b05f939479c9e69886f6b2a88f1": {
      "model_module": "jupyter-leaflet",
      "model_module_version": "^0.13.0",
      "model_name": "LeafletFullScreenControlModel",
      "state": {
       "_model_module_version": "^0.13.0",
       "_view_module_version": "^0.13.0",
       "options": [
        "position"
       ]
      }
     },
     "db7dda1f515147969218baadc92fb38c": {
      "model_module": "@jupyter-widgets/controls",
      "model_module_version": "1.5.0",
      "model_name": "ProgressStyleModel",
      "state": {
       "description_width": ""
      }
     },
     "e0a919d32bb940e2ac0d69f8219b3caf": {
      "model_module": "@jupyter-widgets/base",
      "model_module_version": "1.2.0",
      "model_name": "LayoutModel",
      "state": {}
     },
     "f579a451c0674805b2ffa97c4c065f13": {
      "model_module": "@jupyter-widgets/controls",
      "model_module_version": "1.5.0",
      "model_name": "DescriptionStyleModel",
      "state": {
       "description_width": ""
      }
     },
     "f5c1c4d1ffa545188f58c9dba742f596": {
      "model_module": "jupyter-leaflet",
      "model_module_version": "^0.13.0",
      "model_name": "LeafletMapStyleModel",
      "state": {
       "_model_module_version": "^0.13.0"
      }
     },
     "fb841cb6d1a846da999b9adc47a29a2e": {
      "model_module": "@jupyter-widgets/base",
      "model_module_version": "1.2.0",
      "model_name": "LayoutModel",
      "state": {}
     },
     "ff61ea1f3a3d4ca58f0f098cedd17c7c": {
      "model_module": "jupyter-leaflet",
      "model_module_version": "^0.13.0",
      "model_name": "LeafletDrawControlModel",
      "state": {
       "_model_module_version": "^0.13.0",
       "_view_module_version": "^0.13.0",
       "options": [
        "position"
       ],
       "polygon": {
        "shapeOptions": {
         "color": "#000000",
         "editing": {
          "color": "#000000",
          "fillColor": "#fca45d",
          "fillOpacity": 0.1
         },
         "fillColor": "#fca45d",
         "fillOpacity": 0.1,
         "original": {
          "color": "#000000",
          "fillColor": "#fca45d",
          "fillOpacity": 0.1
         }
        }
       },
       "polyline": {},
       "rectangle": {
        "metric": [
         "km",
         "m"
        ],
        "shapeOptions": {
         "color": "#000000",
         "fillColor": "#fca45d",
         "fillOpacity": 0.1
        }
       }
      }
     }
    },
    "version_major": 2,
    "version_minor": 0
   }
  }
 },
 "nbformat": 4,
 "nbformat_minor": 4
}
