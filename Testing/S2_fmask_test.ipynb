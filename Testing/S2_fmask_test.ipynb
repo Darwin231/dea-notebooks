{
 "cells": [
  {
   "cell_type": "markdown",
   "metadata": {},
   "source": [
    "# Sentinel-2 <img align=\"right\" src=\"../Supplementary_data/dea_logo.jpg\">\n",
    "\n",
    "* **Compatibility:** Notebook currently compatible with both the `NCI` and `DEA Sandbox` environments\n",
    "    * One step of the analysis ('Sentinel-2 Near Real Time') is currently only compatible with the DEA Sandbox\n",
    "* **Products used:** \n",
    "[s2a_ard_granule](https://explorer.sandbox.dea.ga.gov.au/s2a_ard_granule), \n",
    "[s2b_ard_granule](https://explorer.sandbox.dea.ga.gov.au/s2b_ard_granule),\n",
    "[s2a_nrt_granule](https://explorer.sandbox.dea.ga.gov.au/s2a_nrt_granule), \n",
    "[s2b_nrt_granule](https://explorer.sandbox.dea.ga.gov.au/s2b_nrt_granule)\n"
   ]
  },
  {
   "cell_type": "markdown",
   "metadata": {},
   "source": [
    "## Background\n",
    "\n",
    "Sentinel-2 is an Earth observation mission from the EU Copernicus Programme that systematically acquires optical imagery at high spatial resolution (up to 10 m for some bands).\n",
    "The mission is based on a constellation of two identical satellites in the same orbit, 180° apart for optimal coverage and data delivery.\n",
    "Together, they cover all Earth's land surfaces, large islands, inland and coastal waters every 3-5 days."
   ]
  },
  {
   "cell_type": "markdown",
   "metadata": {},
   "source": [
    "## Getting started\n",
    "\n",
    "To run this analysis, run all the cells in the notebook, starting with the \"Load packages\" cell."
   ]
  },
  {
   "cell_type": "markdown",
   "metadata": {},
   "source": [
    "### Load packages"
   ]
  },
  {
   "cell_type": "code",
   "execution_count": 1,
   "metadata": {},
   "outputs": [
    {
     "name": "stderr",
     "output_type": "stream",
     "text": [
      "/env/lib/python3.8/site-packages/geopandas/_compat.py:106: UserWarning: The Shapely GEOS version (3.8.0-CAPI-1.13.1 ) is incompatible with the GEOS version PyGEOS was compiled with (3.9.1-CAPI-1.14.2). Conversions between both will be slow.\n",
      "  warnings.warn(\n"
     ]
    }
   ],
   "source": [
    "import sys\n",
    "import datacube\n",
    "import urllib.request, json\n",
    "import geopandas as gpd\n",
    "import datetime\n",
    "from pprint import pprint\n",
    "\n",
    "def stac_search(product,\n",
    "                start_time,\n",
    "                end_time,\n",
    "                bbox,\n",
    "                limit=100,\n",
    "                root_url='https://explorer-aws.dea.ga.gov.au/stac'):\n",
    "\n",
    "    # Create STAC URL\n",
    "    bbox = f'&bbox={str(bbox).replace(\" \", \"\")}' if bbox else ''\n",
    "    stac_url = f'{root_url}/search?collection={product}&time={start_time}/{end_time}{bbox}&limit={limit}'\n",
    "\n",
    "    # Load data\n",
    "    with urllib.request.urlopen(stac_url) as url:\n",
    "        data = json.loads(url.read().decode())\n",
    "\n",
    "    return data\n",
    "\n",
    "\n",
    "def s2_metadata_provisional(start_time, end_time, bbox, product='ga_s2am_ard_provisional_3'):\n",
    "\n",
    "    # Load metadata from STAC\n",
    "    s2a_provisional = stac_search(product='ga_s2am_ard_provisional_3', start_time=start_time, end_time=end_time, bbox=bbox)\n",
    "    s2b_provisional = stac_search(product='ga_s2bm_ard_provisional_3', start_time=start_time, end_time=end_time, bbox=bbox)\n",
    "    s2_provisional = s2a_provisional['features'] + s2b_provisional['features']\n",
    "\n",
    "    s2_provisional_stats = [[\n",
    "        'fmask_0.5.5', site_name, i['properties']['odc:region_code'],\n",
    "        i['properties']['fmask:cloud'], i['properties']['fmask:cloud_shadow'],\n",
    "        i['properties']['fmask:snow'], i['properties']['fmask:water'],\n",
    "        i['properties']['fmask:clear']\n",
    "    ] for i in s2_provisional]\n",
    "    s2_provisional_stats_df = pd.DataFrame(s2_provisional_stats,\n",
    "                                           columns=[\n",
    "                                               'fmask', 'site', 'region_code', 'cloud_perc',\n",
    "                                               'shadow_perc', 'snow_perc',\n",
    "                                               'water_perc', 'clear_perc'\n",
    "                                           ]).groupby('region_code').max()\n",
    "    return s2_provisional_stats_df\n",
    "\n",
    "\n",
    "def s2_metadata_current(region_codes, start_time):\n",
    "\n",
    "    out_list = []\n",
    "\n",
    "    for region_code in region_codes:\n",
    "\n",
    "        def filter_region_code(i, region_code=region_code):\n",
    "            return True if region_code in i.metadata_doc['tile_id'] else False\n",
    "\n",
    "        dss1 = dc.find_datasets(product='s2a_nrt_granule', time=start_time, dataset_predicate=filter_region_code)\n",
    "        dss2 = dc.find_datasets(product='s2a_nrt_granule', time=start_time, dataset_predicate=filter_region_code)\n",
    "        dss = dss1 + dss2\n",
    "        ds = dc.load(datasets=dss, output_crs=dss[0].crs, resolution=(-10, 10), resampling='nearest', measurements='fmask')\n",
    "\n",
    "#             return ds\n",
    "\n",
    "        nodata = (ds.fmask == 0).sum().item()\n",
    "        valid = (ds.fmask == 1).sum().item()\n",
    "        cloud = (ds.fmask == 2).sum().item()\n",
    "        shadow = (ds.fmask == 3).sum().item()\n",
    "        snow = (ds.fmask == 4).sum().item()\n",
    "        water = (ds.fmask == 5).sum().item()\n",
    "        total_good = valid + cloud + shadow + snow + water\n",
    "\n",
    "        s2_current_dict = {\n",
    "            'fmask': 'fmask_0.3.3',\n",
    "            'site': site_name,\n",
    "            'region_code': region_code,\n",
    "            'cloud_perc': (cloud / total_good) * 100,\n",
    "            'shadow_perc': (shadow / total_good) * 100,\n",
    "            'snow_perc': (snow / total_good) * 100,\n",
    "            'water_perc': (water / total_good) * 100,\n",
    "            'clear_perc': (valid / total_good) * 100,\n",
    "        }\n",
    "\n",
    "        out_list.append(s2_current_dict)\n",
    "\n",
    "    s2_current_stats_df = pd.DataFrame(out_list).set_index('region_code')\n",
    "    return s2_current_stats_df\n",
    "\n",
    "# sys.path.append(\"../Scripts\")\n",
    "# from dea_datahandling import mostcommon\n",
    "# from dea_plotting import rgb\n",
    "\n",
    "\n",
    "dc = datacube.Datacube(app=\"Sentinel_2\")"
   ]
  },
  {
   "cell_type": "markdown",
   "metadata": {},
   "source": [
    "## Load Sentinel-2 data from STAC\n",
    "\n",
    "### Load sites from CSV\n"
   ]
  },
  {
   "cell_type": "code",
   "execution_count": 2,
   "metadata": {},
   "outputs": [
    {
     "data": {
      "text/html": [
       "<div>\n",
       "<style scoped>\n",
       "    .dataframe tbody tr th:only-of-type {\n",
       "        vertical-align: middle;\n",
       "    }\n",
       "\n",
       "    .dataframe tbody tr th {\n",
       "        vertical-align: top;\n",
       "    }\n",
       "\n",
       "    .dataframe thead th {\n",
       "        text-align: right;\n",
       "    }\n",
       "</style>\n",
       "<table border=\"1\" class=\"dataframe\">\n",
       "  <thead>\n",
       "    <tr style=\"text-align: right;\">\n",
       "      <th></th>\n",
       "      <th>Date</th>\n",
       "      <th>UL</th>\n",
       "      <th>BR</th>\n",
       "      <th>Comment</th>\n",
       "    </tr>\n",
       "  </thead>\n",
       "  <tbody>\n",
       "    <tr>\n",
       "      <th>0</th>\n",
       "      <td>2021-08-18 02:02:17+00:00</td>\n",
       "      <td>-16.66997, 123.01972</td>\n",
       "      <td>-17.61996, 124.23684</td>\n",
       "      <td>King Sound</td>\n",
       "    </tr>\n",
       "    <tr>\n",
       "      <th>1</th>\n",
       "      <td>2021-08-18 02:03:33+00:00</td>\n",
       "      <td>-21.77799, 122.57957</td>\n",
       "      <td>-22.85390, 124.25057</td>\n",
       "      <td>Karlamilyi Salt Lakes</td>\n",
       "    </tr>\n",
       "    <tr>\n",
       "      <th>2</th>\n",
       "      <td>2021-08-19 02:23:17+00:00</td>\n",
       "      <td>-19.89611, 119.19076</td>\n",
       "      <td>-20.18436, 119.98609</td>\n",
       "      <td>Pilbara Coast</td>\n",
       "    </tr>\n",
       "    <tr>\n",
       "      <th>3</th>\n",
       "      <td>2021-08-19 01:30:51+00:00</td>\n",
       "      <td>-12.14540, 131.61984</td>\n",
       "      <td>-12.47608, 132.20792</td>\n",
       "      <td>Pt Stuart NT</td>\n",
       "    </tr>\n",
       "    <tr>\n",
       "      <th>4</th>\n",
       "      <td>2021-08-20 00:15:18+00:00</td>\n",
       "      <td>-30.56420, 147.07361</td>\n",
       "      <td>-31.15822, 147.88672</td>\n",
       "      <td>Agricultural</td>\n",
       "    </tr>\n",
       "    <tr>\n",
       "      <th>5</th>\n",
       "      <td>2021-08-27 00:56:46+00:00</td>\n",
       "      <td>-34.42231, 138.18237</td>\n",
       "      <td>-35.06213, 138.74568</td>\n",
       "      <td>Adelaide</td>\n",
       "    </tr>\n",
       "    <tr>\n",
       "      <th>6</th>\n",
       "      <td>2021-08-27 00:52:03+00:00</td>\n",
       "      <td>-17.48136, 140.42238</td>\n",
       "      <td>-17.77186, 140.80320</td>\n",
       "      <td>Flinders Salt/Mud flats</td>\n",
       "    </tr>\n",
       "    <tr>\n",
       "      <th>7</th>\n",
       "      <td>2021-08-27 00:04:21+00:00</td>\n",
       "      <td>-27.35368, 152.72335</td>\n",
       "      <td>-27.95523, 153.38068</td>\n",
       "      <td>Brisbane</td>\n",
       "    </tr>\n",
       "    <tr>\n",
       "      <th>8</th>\n",
       "      <td>2021-08-28 00:27:23+00:00</td>\n",
       "      <td>-37.55199, 144.66642</td>\n",
       "      <td>-38.09319, 145.39087</td>\n",
       "      <td>Melbourne</td>\n",
       "    </tr>\n",
       "    <tr>\n",
       "      <th>9</th>\n",
       "      <td>2021-09-01 00:05:43+00:00</td>\n",
       "      <td>-32.23132, 150.63014</td>\n",
       "      <td>-32.72308, 151.12582</td>\n",
       "      <td>Hunter Coal Mines</td>\n",
       "    </tr>\n",
       "    <tr>\n",
       "      <th>10</th>\n",
       "      <td>2021-09-01 00:06:33+00:00</td>\n",
       "      <td>-35.15189, 148.98471</td>\n",
       "      <td>-35.44951, 149.24989</td>\n",
       "      <td>Canberra</td>\n",
       "    </tr>\n",
       "    <tr>\n",
       "      <th>11</th>\n",
       "      <td>2021-09-02 23:56:08+00:00</td>\n",
       "      <td>-33.83579, 151.08810</td>\n",
       "      <td>-34.10113, 151.31393</td>\n",
       "      <td>Sydney</td>\n",
       "    </tr>\n",
       "  </tbody>\n",
       "</table>\n",
       "</div>"
      ],
      "text/plain": [
       "                        Date                    UL                    BR  \\\n",
       "0  2021-08-18 02:02:17+00:00  -16.66997, 123.01972  -17.61996, 124.23684   \n",
       "1  2021-08-18 02:03:33+00:00  -21.77799, 122.57957  -22.85390, 124.25057   \n",
       "2  2021-08-19 02:23:17+00:00  -19.89611, 119.19076  -20.18436, 119.98609   \n",
       "3  2021-08-19 01:30:51+00:00  -12.14540, 131.61984  -12.47608, 132.20792   \n",
       "4  2021-08-20 00:15:18+00:00  -30.56420, 147.07361  -31.15822, 147.88672   \n",
       "5  2021-08-27 00:56:46+00:00  -34.42231, 138.18237  -35.06213, 138.74568   \n",
       "6  2021-08-27 00:52:03+00:00  -17.48136, 140.42238  -17.77186, 140.80320   \n",
       "7  2021-08-27 00:04:21+00:00  -27.35368, 152.72335  -27.95523, 153.38068   \n",
       "8  2021-08-28 00:27:23+00:00  -37.55199, 144.66642  -38.09319, 145.39087   \n",
       "9  2021-09-01 00:05:43+00:00  -32.23132, 150.63014  -32.72308, 151.12582   \n",
       "10 2021-09-01 00:06:33+00:00  -35.15189, 148.98471  -35.44951, 149.24989   \n",
       "11 2021-09-02 23:56:08+00:00  -33.83579, 151.08810  -34.10113, 151.31393   \n",
       "\n",
       "                    Comment  \n",
       "0                King Sound  \n",
       "1     Karlamilyi Salt Lakes  \n",
       "2             Pilbara Coast  \n",
       "3              Pt Stuart NT  \n",
       "4              Agricultural  \n",
       "5                  Adelaide  \n",
       "6   Flinders Salt/Mud flats  \n",
       "7                  Brisbane  \n",
       "8                 Melbourne  \n",
       "9         Hunter Coal Mines  \n",
       "10                 Canberra  \n",
       "11                   Sydney  "
      ]
     },
     "execution_count": 2,
     "metadata": {},
     "output_type": "execute_result"
    }
   ],
   "source": [
    "import pandas as pd\n",
    "sites_df = pd.read_csv('Sentinel2_cloud_free_test_locations.csv', parse_dates=['Date'])\n",
    "sites_df"
   ]
  },
  {
   "cell_type": "code",
   "execution_count": 65,
   "metadata": {},
   "outputs": [
    {
     "name": "stdout",
     "output_type": "stream",
     "text": [
      "King Sound\n",
      "Karlamilyi Salt Lakes\n",
      "Pilbara Coast\n",
      "Pt Stuart NT\n",
      "Agricultural\n",
      "Adelaide\n",
      "Flinders Salt/Mud flats\n",
      "Brisbane\n",
      "Melbourne\n",
      "Hunter Coal Mines\n",
      "Canberra\n",
      "Sydney\n"
     ]
    }
   ],
   "source": [
    "all_list = []\n",
    "\n",
    "for i, site in sites_df.iterrows():\n",
    "    \n",
    "    site_name = site.Comment\n",
    "    print(site_name)\n",
    "\n",
    "    # Extract bounds and time\n",
    "    ymax, xmin = [float(i) for i in site.UL.split(', ')]\n",
    "    ymin, xmax = [float(i) for i in site.BR.split(', ')]\n",
    "    start_time = site.Date.strftime(\"%Y-%m-%d\")\n",
    "    end_time = (site.Date + datetime.timedelta(days=1)).strftime(\"%Y-%m-%d\")\n",
    "    bbox = [xmin, ymin, xmax, ymax]\n",
    "\n",
    "    s2_provisional_stats_df = s2_metadata_provisional(\n",
    "        start_time=start_time,\n",
    "        end_time=end_time,\n",
    "        bbox=bbox,\n",
    "        product='ga_s2am_ard_provisional_3')\n",
    "\n",
    "    try:\n",
    "        s2_current_stats_df = s2_metadata_current(region_codes=s2_provisional_stats_df.index, \n",
    "                                                  start_time=start_time)\n",
    "        all_list.append(s2_current_stats_df)\n",
    "        all_list.append(s2_provisional_stats_df)\n",
    "    except:\n",
    "        pass\n"
   ]
  },
  {
   "cell_type": "code",
   "execution_count": 67,
   "metadata": {},
   "outputs": [],
   "source": [
    "all_df = pd.concat(all_list).reset_index()\n",
    "all_df = all_df.groupby(['site', 'fmask']).mean().reset_index()\n",
    "all_melted_df = pd.melt(all_df, id_vars=[\"site\", 'fmask'], var_name=\"class\", value_name=\"perc\")\n",
    "all_melted_df = all_melted_df[(all_melted_df['class'] != 'clear_perc') & (all_melted_df['class'] != 'water_perc')]"
   ]
  },
  {
   "cell_type": "code",
   "execution_count": 76,
   "metadata": {},
   "outputs": [
    {
     "data": {
      "image/png": "[encoded data removed]",
      "text/plain": [
       "<Figure size 745.2x1324.8 with 24 Axes>"
      ]
     },
     "metadata": {
      "needs_background": "light"
     },
     "output_type": "display_data"
    }
   ],
   "source": [
    "import seaborn as sns\n",
    "sns_plot = sns.catplot(x='fmask', y='perc', \n",
    "            data=all_melted_df, \n",
    "            kind='bar', \n",
    "            col='class', \n",
    "            row='site', \n",
    "            height=2.3, \n",
    "            aspect=1.5, \n",
    "            margin_titles=True, \n",
    "            sharey=\"row\",\n",
    "           )\n",
    "\n",
    "sns_plot.savefig(\"output.png\")\n"
   ]
  },
  {
   "cell_type": "code",
   "execution_count": null,
   "metadata": {},
   "outputs": [],
   "source": [
    "# from datacube.utils.cog import write_cog\n",
    "# write_cog(s2_current_stats_df.fmask, 'test3.tif')"
   ]
  },
  {
   "cell_type": "code",
   "execution_count": 1,
   "metadata": {},
   "outputs": [
    {
     "name": "stdout",
     "output_type": "stream",
     "text": [
      "\n",
      "An error occurred (InvalidAccessKeyId) when calling the ListObjectsV2 operation: The AWS Access Key Id you provided does not exist in our records.\n"
     ]
    }
   ],
   "source": [
    "!aws s3 ls --recursive s3://dea-public-data/baseline/ga_s2am_ard_provisional_3/ | grep '2021/09/07' | grep 'fmask.tif$'\n",
    "# aws s3 ls --recursive s3://dea-public-data-dev/baseline/ga_s2am_ard_provisional_3/ | grep '2021/09/07' | grep 'fmask.tif$'"
   ]
  },
  {
   "cell_type": "code",
   "execution_count": 58,
   "metadata": {},
   "outputs": [],
   "source": [
    "out = stac_search(product='ga_s2bm_ard_provisional_3', \n",
    "            start_time='2021-09-07', \n",
    "            end_time='2021-09-08', \n",
    "            bbox=None, \n",
    "            root_url='https://explorer-aws.dea.ga.gov.au/stac')"
   ]
  },
  {
   "cell_type": "code",
   "execution_count": 64,
   "metadata": {},
   "outputs": [
    {
     "data": {
      "text/plain": [
       "'https://dea-public-data.s3.ap-southeast-2.amazonaws.com/baseline/ga_s2am_ard_provisional_3/50/HNG/2021/09/07_nrt/20210907T052538/ga_s2am_oa_provisional_3-2-1_50HNG_2021-09-07_nrt_fmask.tif'"
      ]
     },
     "execution_count": 64,
     "metadata": {},
     "output_type": "execute_result"
    }
   ],
   "source": [
    "url = 's3://dea-public-data-dev/baseline/ga_s2am_ard_provisional_3/50/HNG/2021/09/07_nrt/20210907T052538/ga_s2am_oa_provisional_3-2-1_50HNG_2021-09-07_nrt_fmask.tif'\n",
    "\n",
    "# Get https URL\n",
    "bucket, key = odc.aws.s3_url_parse(url)\n",
    "#         https_url = f'https://dea-public-data-dev.s3.ap-southeast-2.amazonaws.com/{key}'\n",
    "https_url = f'https://dea-public-data.s3.ap-southeast-2.amazonaws.com/{key}'\n",
    "https_url"
   ]
  },
  {
   "cell_type": "code",
   "execution_count": 59,
   "metadata": {},
   "outputs": [
    {
     "name": "stdout",
     "output_type": "stream",
     "text": [
      "Failed ga_s2bm_oa_provisional_3-2-1_53KQT_2021-09-07_nrt_fmask.tif\n",
      "Failed ga_s2bm_oa_provisional_3-2-1_53KPT_2021-09-07_nrt_fmask.tif\n",
      "Failed ga_s2bm_oa_provisional_3-2-1_53KNT_2021-09-07_nrt_fmask.tif\n",
      "Failed ga_s2bm_oa_provisional_3-2-1_53KMT_2021-09-07_nrt_fmask.tif\n",
      "Failed ga_s2bm_oa_provisional_3-2-1_53KQS_2021-09-07_nrt_fmask.tif\n",
      "Failed ga_s2bm_oa_provisional_3-2-1_53KPS_2021-09-07_nrt_fmask.tif\n",
      "Failed ga_s2bm_oa_provisional_3-2-1_53KNS_2021-09-07_nrt_fmask.tif\n",
      "Failed ga_s2bm_oa_provisional_3-2-1_53KMS_2021-09-07_nrt_fmask.tif\n",
      "Failed ga_s2bm_oa_provisional_3-2-1_53KQR_2021-09-07_nrt_fmask.tif\n",
      "Failed ga_s2bm_oa_provisional_3-2-1_53KPR_2021-09-07_nrt_fmask.tif\n",
      "Failed ga_s2bm_oa_provisional_3-2-1_53KNR_2021-09-07_nrt_fmask.tif\n",
      "Failed ga_s2bm_oa_provisional_3-2-1_53KQQ_2021-09-07_nrt_fmask.tif\n",
      "Failed ga_s2bm_oa_provisional_3-2-1_53KMR_2021-09-07_nrt_fmask.tif\n",
      "Failed ga_s2bm_oa_provisional_3-2-1_53KPQ_2021-09-07_nrt_fmask.tif\n",
      "Failed ga_s2bm_oa_provisional_3-2-1_53KNQ_2021-09-07_nrt_fmask.tif\n",
      "Failed ga_s2bm_oa_provisional_3-2-1_53KMQ_2021-09-07_nrt_fmask.tif\n",
      "Failed ga_s2bm_oa_provisional_3-2-1_53KLQ_2021-09-07_nrt_fmask.tif\n",
      "Failed ga_s2bm_oa_provisional_3-2-1_53KPP_2021-09-07_nrt_fmask.tif\n",
      "Failed ga_s2bm_oa_provisional_3-2-1_53KNP_2021-09-07_nrt_fmask.tif\n",
      "Failed ga_s2bm_oa_provisional_3-2-1_53KMP_2021-09-07_nrt_fmask.tif\n",
      "Failed ga_s2bm_oa_provisional_3-2-1_53KLP_2021-09-07_nrt_fmask.tif\n",
      "Failed ga_s2bm_oa_provisional_3-2-1_53JPN_2021-09-07_nrt_fmask.tif\n",
      "Failed ga_s2bm_oa_provisional_3-2-1_53JNN_2021-09-07_nrt_fmask.tif\n",
      "Failed ga_s2bm_oa_provisional_3-2-1_53JMN_2021-09-07_nrt_fmask.tif\n",
      "Failed ga_s2bm_oa_provisional_3-2-1_53JLN_2021-09-07_nrt_fmask.tif\n",
      "Failed ga_s2bm_oa_provisional_3-2-1_53JPM_2021-09-07_nrt_fmask.tif\n",
      "Failed ga_s2bm_oa_provisional_3-2-1_53JNM_2021-09-07_nrt_fmask.tif\n",
      "Failed ga_s2bm_oa_provisional_3-2-1_53JMM_2021-09-07_nrt_fmask.tif\n",
      "Failed ga_s2bm_oa_provisional_3-2-1_53JLM_2021-09-07_nrt_fmask.tif\n",
      "Failed ga_s2bm_oa_provisional_3-2-1_53JPL_2021-09-07_nrt_fmask.tif\n",
      "Failed ga_s2bm_oa_provisional_3-2-1_53JNL_2021-09-07_nrt_fmask.tif\n",
      "Failed ga_s2bm_oa_provisional_3-2-1_53JML_2021-09-07_nrt_fmask.tif\n",
      "Failed ga_s2bm_oa_provisional_3-2-1_53JLL_2021-09-07_nrt_fmask.tif\n",
      "Failed ga_s2bm_oa_provisional_3-2-1_53JKL_2021-09-07_nrt_fmask.tif\n",
      "Failed ga_s2bm_oa_provisional_3-2-1_53JNK_2021-09-07_nrt_fmask.tif\n",
      "Failed ga_s2bm_oa_provisional_3-2-1_53JMK_2021-09-07_nrt_fmask.tif\n",
      "Failed ga_s2bm_oa_provisional_3-2-1_53JLK_2021-09-07_nrt_fmask.tif\n",
      "Failed ga_s2bm_oa_provisional_3-2-1_53JKK_2021-09-07_nrt_fmask.tif\n",
      "Failed ga_s2bm_oa_provisional_3-2-1_53JNJ_2021-09-07_nrt_fmask.tif\n",
      "Failed ga_s2bm_oa_provisional_3-2-1_53JMJ_2021-09-07_nrt_fmask.tif\n",
      "Failed ga_s2bm_oa_provisional_3-2-1_53JLJ_2021-09-07_nrt_fmask.tif\n",
      "Failed ga_s2bm_oa_provisional_3-2-1_53JKJ_2021-09-07_nrt_fmask.tif\n",
      "Failed ga_s2bm_oa_provisional_3-2-1_53JNH_2021-09-07_nrt_fmask.tif\n",
      "Failed ga_s2bm_oa_provisional_3-2-1_53JMH_2021-09-07_nrt_fmask.tif\n",
      "Failed ga_s2bm_oa_provisional_3-2-1_53JLH_2021-09-07_nrt_fmask.tif\n",
      "Failed ga_s2bm_oa_provisional_3-2-1_53JKH_2021-09-07_nrt_fmask.tif\n",
      "Failed ga_s2bm_oa_provisional_3-2-1_53JNG_2021-09-07_nrt_fmask.tif\n",
      "Failed ga_s2bm_oa_provisional_3-2-1_53JMG_2021-09-07_nrt_fmask.tif\n",
      "Failed ga_s2bm_oa_provisional_3-2-1_53JLG_2021-09-07_nrt_fmask.tif\n",
      "Failed ga_s2bm_oa_provisional_3-2-1_53JNF_2021-09-07_nrt_fmask.tif\n",
      "Failed ga_s2bm_oa_provisional_3-2-1_53JKG_2021-09-07_nrt_fmask.tif\n",
      "Failed ga_s2bm_oa_provisional_3-2-1_52JGM_2021-09-07_nrt_fmask.tif\n",
      "Failed ga_s2bm_oa_provisional_3-2-1_53JMF_2021-09-07_nrt_fmask.tif\n",
      "Failed ga_s2bm_oa_provisional_3-2-1_53JLF_2021-09-07_nrt_fmask.tif\n",
      "Failed ga_s2bm_oa_provisional_3-2-1_53JKF_2021-09-07_nrt_fmask.tif\n",
      "Failed ga_s2bm_oa_provisional_3-2-1_52JGL_2021-09-07_nrt_fmask.tif\n",
      "Failed ga_s2bm_oa_provisional_3-2-1_53HME_2021-09-07_nrt_fmask.tif\n",
      "Failed ga_s2bm_oa_provisional_3-2-1_53HLE_2021-09-07_nrt_fmask.tif\n",
      "Failed ga_s2bm_oa_provisional_3-2-1_53HKE_2021-09-07_nrt_fmask.tif\n",
      "Failed ga_s2bm_oa_provisional_3-2-1_52HGK_2021-09-07_nrt_fmask.tif\n",
      "Failed ga_s2bm_oa_provisional_3-2-1_53HMD_2021-09-07_nrt_fmask.tif\n",
      "Failed ga_s2bm_oa_provisional_3-2-1_53HLD_2021-09-07_nrt_fmask.tif\n",
      "Failed ga_s2bm_oa_provisional_3-2-1_53HKD_2021-09-07_nrt_fmask.tif\n",
      "Failed ga_s2bm_oa_provisional_3-2-1_52HGJ_2021-09-07_nrt_fmask.tif\n",
      "Failed ga_s2bm_oa_provisional_3-2-1_53HMC_2021-09-07_nrt_fmask.tif\n",
      "Failed ga_s2bm_oa_provisional_3-2-1_53HLC_2021-09-07_nrt_fmask.tif\n",
      "Failed ga_s2bm_oa_provisional_3-2-1_52HFJ_2021-09-07_nrt_fmask.tif\n",
      "Failed ga_s2bm_oa_provisional_3-2-1_53HKC_2021-09-07_nrt_fmask.tif\n",
      "Failed ga_s2bm_oa_provisional_3-2-1_52HGH_2021-09-07_nrt_fmask.tif\n"
     ]
    }
   ],
   "source": [
    "import odc.aws\n",
    "\n",
    "for i in out['features']:\n",
    "    \n",
    "    try:\n",
    "\n",
    "        url = i['assets']['oa_fmask']['href']\n",
    "\n",
    "        # Get https URL\n",
    "        bucket, key = odc.aws.s3_url_parse(url)\n",
    "        https_url = f'https://dea-public-data-dev.s3.ap-southeast-2.amazonaws.com/{key}'\n",
    "#         https_url = f'https://dea-public-data.s3.ap-southeast-2.amazonaws.com/{key}'\n",
    "        https_url\n",
    "\n",
    "        import urllib.request\n",
    "\n",
    "        # Download the file from `url` and save it locally under `file_name`:\n",
    "        urllib.request.urlretrieve(https_url, https_url.split('/')[-1])\n",
    "    except:\n",
    "        print(f\"Failed {https_url.split('/')[-1]}\")\n"
   ]
  },
  {
   "cell_type": "code",
   "execution_count": 2,
   "metadata": {},
   "outputs": [],
   "source": [
    "out = !aws s3 --no-sign-request ls --recursive s3://dea-public-data-dev/baseline/ga_s2am_ard_provisional_3/ | grep '2021/09/09' | grep 'fmask.tif$'"
   ]
  },
  {
   "cell_type": "code",
   "execution_count": 3,
   "metadata": {},
   "outputs": [],
   "source": [
    "# sites = ['50HLK', '50KNC', '50KQC', '51KVV', '52LGM', '53JNF', '54HTG', '55GEN', '55HBT', '55HBU', '55HCT', '55HCU', '56JMQ', '56JNQ']\n",
    "sites = ['55GDQ', '55HBD', '55HDT', '55HFA', '55KCB', '55KDV', '55KEU', '55KGS', '56HLJ', '56JMT', '56JNN', '56JNP', '56KKU']"
   ]
  },
  {
   "cell_type": "code",
   "execution_count": 4,
   "metadata": {},
   "outputs": [
    {
     "data": {
      "text/plain": [
       "[]"
      ]
     },
     "execution_count": 4,
     "metadata": {},
     "output_type": "execute_result"
    }
   ],
   "source": [
    "keys = [i.split(' ')[-1] for i in out]\n",
    "[string for string in keys if any(substring in string for substring in sites)]"
   ]
  },
  {
   "cell_type": "code",
   "execution_count": 61,
   "metadata": {},
   "outputs": [
    {
     "data": {
      "text/plain": [
       "'https://dea-public-data-dev.s3.ap-southeast-2.amazonaws.com/baseline/ga_s2am_ard_provisional_3/54/LXP/2021/09/09_nrt/20210909T022347/ga_s2am_oa_provisional_3-2-1_54LXP_2021-09-09_nrt_fmask.tif'"
      ]
     },
     "execution_count": 61,
     "metadata": {},
     "output_type": "execute_result"
    }
   ],
   "source": [
    "key = keys[-1]\n",
    "f'https://dea-public-data-dev.s3.ap-southeast-2.amazonaws.com/{key}'"
   ]
  },
  {
   "cell_type": "code",
   "execution_count": 62,
   "metadata": {},
   "outputs": [
    {
     "data": {
      "text/plain": [
       "'https://dea-public-data.s3.ap-southeast-2.amazonaws.com/baseline/ga_s2am_ard_provisional_3/54/LXP/2021/09/09_nrt/20210909T022347/ga_s2am_oa_provisional_3-2-1_54LXP_2021-09-09_nrt_fmask.tif'"
      ]
     },
     "execution_count": 62,
     "metadata": {},
     "output_type": "execute_result"
    }
   ],
   "source": [
    "f'https://dea-public-data.s3.ap-southeast-2.amazonaws.com/{key}'"
   ]
  },
  {
   "cell_type": "code",
   "execution_count": 63,
   "metadata": {},
   "outputs": [
    {
     "data": {
      "text/plain": [
       "'https://dea-public-data.s3.ap-southeast-2.amazonaws.com/baseline/ga_s2am_ard_provisional_3/54/LXP/2021/09/09_nrt/20210909T022347/ga_s2am_nbart_provisional_3-2-1_54LXP_2021-09-09_nrt_band02.tif'"
      ]
     },
     "execution_count": 63,
     "metadata": {},
     "output_type": "execute_result"
    }
   ],
   "source": [
    "key = key.replace('fmask', 'band02').replace('oa', 'nbart')\n",
    "f'https://dea-public-data.s3.ap-southeast-2.amazonaws.com/{key}'\n"
   ]
  },
  {
   "cell_type": "markdown",
   "metadata": {},
   "source": [
    "---\n",
    "\n",
    "## Additional information\n",
    "\n",
    "**License:** The code in this notebook is licensed under the [Apache License, Version 2.0](https://www.apache.org/licenses/LICENSE-2.0). \n",
    "Digital Earth Australia data is licensed under the [Creative Commons by Attribution 4.0](https://creativecommons.org/licenses/by/4.0/) license.\n",
    "\n",
    "**Contact:** If you need assistance, please post a question on the [Open Data Cube Slack channel](http://slack.opendatacube.org/) or on the [GIS Stack Exchange](https://gis.stackexchange.com/questions/ask?tags=open-data-cube) using the `open-data-cube` tag (you can view previously asked questions [here](https://gis.stackexchange.com/questions/tagged/open-data-cube)).\n",
    "If you would like to report an issue with this notebook, you can file one on [Github](https://github.com/GeoscienceAustralia/dea-notebooks).\n",
    "\n",
    "**Last modified:** December 2019\n",
    "\n",
    "**Compatible datacube version:** "
   ]
  },
  {
   "cell_type": "code",
   "execution_count": 28,
   "metadata": {},
   "outputs": [
    {
     "name": "stdout",
     "output_type": "stream",
     "text": [
      "1.8.4.dev81+g80d466a2\n"
     ]
    }
   ],
   "source": [
    "print(datacube.__version__)"
   ]
  },
  {
   "cell_type": "markdown",
   "metadata": {},
   "source": [
    "## Tags\n",
    "Browse all available tags on the DEA User Guide's [Tags Index](https://docs.dea.ga.gov.au/genindex.html)"
   ]
  },
  {
   "cell_type": "raw",
   "metadata": {
    "raw_mimetype": "text/restructuredtext"
   },
   "source": [
    "**Tags**: :index:`NCI compatible`, :index:`sandbox compatible`, :index:`sentinel 2`, :index:`dea_datahandling`, :index:`dea_plotting`, :index:`load_ard`, :index:`rgb`, :index:`near real time`, :index:`dea datasets`"
   ]
  }
 ],
 "metadata": {
  "kernelspec": {
   "display_name": "Python 3",
   "language": "python",
   "name": "python3"
  },
  "language_info": {
   "codemirror_mode": {
    "name": "ipython",
    "version": 3
   },
   "file_extension": ".py",
   "mimetype": "text/x-python",
   "name": "python",
   "nbconvert_exporter": "python",
   "pygments_lexer": "ipython3",
   "version": "3.8.10"
  },
  "widgets": {
   "application/vnd.jupyter.widget-state+json": {
    "state": {},
    "version_major": 2,
    "version_minor": 0
   }
  }
 },
 "nbformat": 4,
 "nbformat_minor": 4
}
