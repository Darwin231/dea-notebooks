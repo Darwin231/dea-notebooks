{
 "cells": [
  {
   "cell_type": "markdown",
   "metadata": {},
   "source": [
    "# Combining satellite data with tidal modelling using OTPS <img align=\"right\" src=\"../Supplementary_data/dea_logo.jpg\">\n",
    "\n",
    "* [**Sign up to the DEA Sandbox**](https://docs.dea.ga.gov.au/setup/sandbox.html) to run this notebook interactively from a browser\n",
    "* **Compatibility:** Notebook currently compatible with both the `NCI` and `DEA Sandbox` environments\n",
    "* **Products used:** \n",
    "[ga_ls5t_ard_3](https://explorer.sandbox.dea.ga.gov.au/ga_ls5t_ard_3),\n",
    "[ga_ls7e_ard_3](https://explorer.sandbox.dea.ga.gov.au/ga_ls7e_ard_3),\n",
    "[ga_ls8c_ard_3](https://explorer.sandbox.dea.ga.gov.au/ga_ls8c_ard_3)"
   ]
  },
  {
   "cell_type": "markdown",
   "metadata": {},
   "source": [
    "## Background\n",
    "\n",
    "Ocean tides are the periodic rise and fall of the ocean caused by the gravitational pull of the moon and sun and the earth's rotation. \n",
    "Tides in coastal areas can greatly influence how these environments appear in satellite imagery as water levels vary by up to 12 metres (e.g. in northern Australia).\n",
    "To be able to study environmental processes along Australia's coastline, it is vital to obtain data on tidal conditions at the exact moment each satellite image was acquired.\n",
    "\n",
    "## Description\n",
    "This notebooks demonstrates how to tidally tag remotely sensed imagery using functions from the [dea_coastaltools script](../Scripts/dea_coastaltools.py) so that images can be extracted or analysed by tidal stage (e.g. low, high, ebb, flow). \n",
    "These functions use the [OTPS TPXO8 tidal model](http://volkov.oce.orst.edu/tides/global.html) to calculate the height (relative to mean sea level, i.e. approximately equivalent to the Australian Height Datum or AHD) and stage of the tide at the exact moment each satellite image was acquired. \n",
    "This tidal model was previously used to produce DEA datasets including the [Intertidal Extents Model (ITEM)](http://dx.doi.org/10.4225/25/5a602cc9eb358), [High-Low Tide Composites (HLTC)](http://dx.doi.org/10.4225/25/5a615705d20f7), and the [National Intertidal Digital Elevation Model (NIDEM)](http://dx.doi.org/10.26186/5c4fc06a79f76).\n",
    "\n",
    "The notebook demonstrates how to:\n",
    "\n",
    "1. Load an example time series of satellite data\n",
    "2. Use the `tidal_tag` function from `dea_coastaltools` to model tide heights for each satellite observation\n",
    "3. Use tide height data to produce median composites of the coast at low and high tide\n",
    "4. Swap a dataset's dimensions to compute a rolling median along the `tide_height` dimension\n",
    "5. Compute ebb or flow tide phase data to determine whether water levels were rising or falling in each satellite observation\n",
    "6. Use the `tidal_stats` function to evaluate any biases in the tidal conditions observed by a satellite\n",
    "\n",
    "***"
   ]
  },
  {
   "cell_type": "markdown",
   "metadata": {},
   "source": [
    "## Getting started\n",
    "To run this analysis, run all the cells in the notebook, starting with the \"Load packages\" cell. "
   ]
  },
  {
   "cell_type": "markdown",
   "metadata": {},
   "source": [
    "### Load packages\n"
   ]
  },
  {
   "cell_type": "code",
   "execution_count": 1,
   "metadata": {},
   "outputs": [],
   "source": [
    "%matplotlib inline\n",
    "\n",
    "import datacube\n",
    "import xarray as xr\n",
    "import matplotlib.pyplot as plt\n",
    "import geopandas as gpd\n",
    "\n",
    "import sys\n",
    "sys.path.insert(1, '../Tools/')\n",
    "from dea_tools.datahandling import load_ard\n",
    "from dea_tools.plotting import rgb, display_map\n",
    "from dea_tools.coastal import tidal_tag, tidal_stats\n"
   ]
  },
  {
   "cell_type": "code",
   "execution_count": 87,
   "metadata": {},
   "outputs": [],
   "source": [
    "smartline = gpd.read_file('/g/data/r78/DEACoastlines/input_data/Smartline.gdb')"
   ]
  },
  {
   "cell_type": "code",
   "execution_count": 88,
   "metadata": {},
   "outputs": [],
   "source": [
    "smartline_filtered = smartline.loc[smartline.ABSAMP_ID != ' ']"
   ]
  },
  {
   "cell_type": "code",
   "execution_count": 98,
   "metadata": {},
   "outputs": [],
   "source": [
    "smartline_dissolved = smartline_filtered.dissolve(by='ABSAMP_ID', \n",
    "                                                  aggfunc=lambda x: pd.Series.mode(x)[0])"
   ]
  },
  {
   "cell_type": "code",
   "execution_count": 99,
   "metadata": {},
   "outputs": [],
   "source": [
    "smartline_dissolved['geometry'] = smartline_dissolved.representative_point()"
   ]
  },
  {
   "cell_type": "code",
   "execution_count": 117,
   "metadata": {},
   "outputs": [
    {
     "data": {
      "text/html": [
       "<div>\n",
       "<style scoped>\n",
       "    .dataframe tbody tr th:only-of-type {\n",
       "        vertical-align: middle;\n",
       "    }\n",
       "\n",
       "    .dataframe tbody tr th {\n",
       "        vertical-align: top;\n",
       "    }\n",
       "\n",
       "    .dataframe thead th {\n",
       "        text-align: right;\n",
       "    }\n",
       "</style>\n",
       "<table border=\"1\" class=\"dataframe\">\n",
       "  <thead>\n",
       "    <tr style=\"text-align: right;\">\n",
       "      <th></th>\n",
       "      <th>BEACH_KEY</th>\n",
       "      <th>BEACH_NAME</th>\n",
       "      <th>LENGTH</th>\n",
       "      <th>ORIENTATION</th>\n",
       "      <th>EMBAYMENTISATION</th>\n",
       "      <th>MEAN_BARS</th>\n",
       "      <th>MODAL_WAVE_HEIGHT</th>\n",
       "      <th>MEAN_WAVE_PERIOD</th>\n",
       "      <th>RDID</th>\n",
       "      <th>TIID</th>\n",
       "      <th>STATE</th>\n",
       "      <th>IMCRA</th>\n",
       "      <th>MARINEREGION</th>\n",
       "      <th>NRMZONE</th>\n",
       "      <th>LGA</th>\n",
       "      <th>CMA</th>\n",
       "      <th>LATITUDE</th>\n",
       "      <th>LONGITUDE</th>\n",
       "    </tr>\n",
       "  </thead>\n",
       "  <tbody>\n",
       "    <tr>\n",
       "      <th>0</th>\n",
       "      <td>wa1498</td>\n",
       "      <td>Fourteen Mile Camp (S 1)</td>\n",
       "      <td>0.30</td>\n",
       "      <td>275.0</td>\n",
       "      <td>1.0</td>\n",
       "      <td>NaN</td>\n",
       "      <td>1.0</td>\n",
       "      <td>12</td>\n",
       "      <td>403.0</td>\n",
       "      <td>9704</td>\n",
       "      <td>WA</td>\n",
       "      <td>Ningaloo</td>\n",
       "      <td>NaN</td>\n",
       "      <td>NaN</td>\n",
       "      <td>Carnarvon</td>\n",
       "      <td>GASCOYNE-NORTH WEST CAPE</td>\n",
       "      <td>-23.30076</td>\n",
       "      <td>113.79521</td>\n",
       "    </tr>\n",
       "    <tr>\n",
       "      <th>1</th>\n",
       "      <td>sa0187</td>\n",
       "      <td>Cape Jervis harbour</td>\n",
       "      <td>0.04</td>\n",
       "      <td>180.0</td>\n",
       "      <td>0.1</td>\n",
       "      <td>NaN</td>\n",
       "      <td>0.3</td>\n",
       "      <td>12</td>\n",
       "      <td>378.0</td>\n",
       "      <td>4230</td>\n",
       "      <td>SA</td>\n",
       "      <td>NaN</td>\n",
       "      <td>NaN</td>\n",
       "      <td>Adelaide and Mount Lofty Ranges</td>\n",
       "      <td>Yankalilla</td>\n",
       "      <td>ADELAIDE HILLS</td>\n",
       "      <td>-35.60513</td>\n",
       "      <td>138.09483</td>\n",
       "    </tr>\n",
       "    <tr>\n",
       "      <th>2</th>\n",
       "      <td>wa0887</td>\n",
       "      <td>Mindarie Keys (N 3)</td>\n",
       "      <td>0.10</td>\n",
       "      <td>260.0</td>\n",
       "      <td>0.9</td>\n",
       "      <td>NaN</td>\n",
       "      <td>0.9</td>\n",
       "      <td>12</td>\n",
       "      <td>403.0</td>\n",
       "      <td>9093</td>\n",
       "      <td>WA</td>\n",
       "      <td>NaN</td>\n",
       "      <td>NaN</td>\n",
       "      <td>Swan</td>\n",
       "      <td>Wanneroo</td>\n",
       "      <td>PERTH-MANDURAH</td>\n",
       "      <td>-31.68483</td>\n",
       "      <td>115.69871</td>\n",
       "    </tr>\n",
       "    <tr>\n",
       "      <th>3</th>\n",
       "      <td>sa0545</td>\n",
       "      <td>Port Broughton (north)</td>\n",
       "      <td>1.00</td>\n",
       "      <td>275.0</td>\n",
       "      <td>0.3</td>\n",
       "      <td>NaN</td>\n",
       "      <td>0.1</td>\n",
       "      <td>4</td>\n",
       "      <td>397.0</td>\n",
       "      <td>4604</td>\n",
       "      <td>SA</td>\n",
       "      <td>NaN</td>\n",
       "      <td>NaN</td>\n",
       "      <td>Northern and Yorke</td>\n",
       "      <td>Barunga West</td>\n",
       "      <td>NORTH ST VINCENT-SPENCER GULF</td>\n",
       "      <td>-33.58919</td>\n",
       "      <td>137.93181</td>\n",
       "    </tr>\n",
       "    <tr>\n",
       "      <th>4</th>\n",
       "      <td>sa0620</td>\n",
       "      <td>Windmill Beach</td>\n",
       "      <td>12.80</td>\n",
       "      <td>155.0</td>\n",
       "      <td>1.0</td>\n",
       "      <td>NaN</td>\n",
       "      <td>0.4</td>\n",
       "      <td>6</td>\n",
       "      <td>397.0</td>\n",
       "      <td>4679</td>\n",
       "      <td>SA</td>\n",
       "      <td>Spencer Gulf</td>\n",
       "      <td>NaN</td>\n",
       "      <td>Eyre Peninsula</td>\n",
       "      <td>Franklin Harbour</td>\n",
       "      <td>NORTH ST VINCENT-SPENCER GULF</td>\n",
       "      <td>-33.77326</td>\n",
       "      <td>136.91296</td>\n",
       "    </tr>\n",
       "  </tbody>\n",
       "</table>\n",
       "</div>"
      ],
      "text/plain": [
       "  BEACH_KEY                BEACH_NAME  LENGTH  ORIENTATION  EMBAYMENTISATION  \\\n",
       "0    wa1498  Fourteen Mile Camp (S 1)    0.30        275.0               1.0   \n",
       "1    sa0187       Cape Jervis harbour    0.04        180.0               0.1   \n",
       "2    wa0887       Mindarie Keys (N 3)    0.10        260.0               0.9   \n",
       "3    sa0545    Port Broughton (north)    1.00        275.0               0.3   \n",
       "4    sa0620            Windmill Beach   12.80        155.0               1.0   \n",
       "\n",
       "   MEAN_BARS  MODAL_WAVE_HEIGHT  MEAN_WAVE_PERIOD   RDID  TIID STATE  \\\n",
       "0        NaN                1.0                12  403.0  9704    WA   \n",
       "1        NaN                0.3                12  378.0  4230    SA   \n",
       "2        NaN                0.9                12  403.0  9093    WA   \n",
       "3        NaN                0.1                 4  397.0  4604    SA   \n",
       "4        NaN                0.4                 6  397.0  4679    SA   \n",
       "\n",
       "          IMCRA MARINEREGION                          NRMZONE  \\\n",
       "0      Ningaloo          NaN                              NaN   \n",
       "1           NaN          NaN  Adelaide and Mount Lofty Ranges   \n",
       "2           NaN          NaN                             Swan   \n",
       "3           NaN          NaN               Northern and Yorke   \n",
       "4  Spencer Gulf          NaN                   Eyre Peninsula   \n",
       "\n",
       "                LGA                            CMA  LATITUDE  LONGITUDE  \n",
       "0         Carnarvon       GASCOYNE-NORTH WEST CAPE -23.30076  113.79521  \n",
       "1        Yankalilla                 ADELAIDE HILLS -35.60513  138.09483  \n",
       "2          Wanneroo                 PERTH-MANDURAH -31.68483  115.69871  \n",
       "3      Barunga West  NORTH ST VINCENT-SPENCER GULF -33.58919  137.93181  \n",
       "4  Franklin Harbour  NORTH ST VINCENT-SPENCER GULF -33.77326  136.91296  "
      ]
     },
     "execution_count": 117,
     "metadata": {},
     "output_type": "execute_result"
    }
   ],
   "source": [
    "absamp_database_df = pd.read_csv('absamp_database.csv').drop(['BEACHID', 'GEOM', 'BEACHID.1'], axis=1)\n",
    "absamp_database_df.head()"
   ]
  },
  {
   "cell_type": "code",
   "execution_count": 146,
   "metadata": {},
   "outputs": [],
   "source": [
    "smartline_merged = smartline_dissolved.drop(['Shape_Length'], axis=1).join(absamp_database_df.set_index('BEACH_KEY'))\n",
    "smartline_merged.index.name = 'ABSAMP_ID'"
   ]
  },
  {
   "cell_type": "code",
   "execution_count": 147,
   "metadata": {},
   "outputs": [],
   "source": [
    "smartline_merged.to_crs('EPSG:4326').to_file('ABSAMP.geojson', driver='GeoJSON')"
   ]
  },
  {
   "cell_type": "code",
   "execution_count": 148,
   "metadata": {},
   "outputs": [],
   "source": [
    "smartline_merged = gpd.read_file('ABSAMP.geojson').set_index('ABSAMP_ID')"
   ]
  },
  {
   "cell_type": "code",
   "execution_count": 150,
   "metadata": {},
   "outputs": [
    {
     "data": {
      "text/plain": [
       "Index(['BASELINE', 'BASESCALE', 'BASEFEAT', 'AUSCSTFID', 'UPDATED',\n",
       "       'BACKPROX_N', 'BACKPROX_V', 'BACKPROX_R', 'BACKPROX_S', 'BACKDIST_N',\n",
       "       'BACKDIST_V', 'BACKDIST_R', 'BACKDIST_S', 'BACKPROF_N', 'BACKPROF_V',\n",
       "       'BACKPROF_R', 'BACKPROF_S', 'INTERTD1_N', 'INTERTD1_V', 'INTERTD1_R',\n",
       "       'INTERTD1_S', 'INTERTD2_N', 'INTERTD2_V', 'INTERTD2_R', 'INTERTD2_S',\n",
       "       'INTSLOPE_N', 'INTSLOPE_V', 'INTSLOPE_R', 'INTSLOPE_S', 'SUBTID1_N',\n",
       "       'SUBTID1_V', 'SUBTID1_R', 'SUBTID1_S', 'SUBTID2_N', 'SUBTID2_V',\n",
       "       'SUBTID2_R', 'SUBTID2_S', 'EXPOSURE_N', 'EXPOSURE_V', 'EXPOSURE_R',\n",
       "       'EXPOSURE_S', 'GEOLOGY1_N', 'GEOLOGY1_V', 'GEOLOGY1_R', 'GEOLOGY1_S',\n",
       "       'GEOLOGY2_N', 'GEOLOGY2_V', 'GEOLOGY2_R', 'GEOLOGY2_S', 'MUDDY_N',\n",
       "       'MUDDY_V', 'MUDDY_L', 'SANDY_N', 'SANDY_V', 'SANDY_L', 'DUNES_N',\n",
       "       'DUNES_V', 'DUNES_L', 'COARSED_N', 'COARSED_V', 'COARSED_L',\n",
       "       'UNDIFSED_N', 'UNDIFSED_V', 'UNDIFSED_L', 'SOFTROCK_N', 'SOFTROCK_V',\n",
       "       'SOFTROCK_L', 'HARDROCK_N', 'HARDROCK_V', 'HARDROCK_L', 'UNDFROCK_N',\n",
       "       'UNDFROCK_V', 'UNDFROCK_L', 'CORAL_N', 'CORAL_V', 'CORAL_L',\n",
       "       'UNCLASS_N', 'UNCLASS_V', 'UNCLASS_L', 'COMMENTS', 'BEACH_NAME',\n",
       "       'LENGTH', 'ORIENTATION', 'EMBAYMENTISATION', 'MEAN_BARS',\n",
       "       'MODAL_WAVE_HEIGHT', 'MEAN_WAVE_PERIOD', 'RDID', 'TIID', 'STATE',\n",
       "       'IMCRA', 'MARINEREGION', 'NRMZONE', 'LGA', 'CMA', 'LATITUDE',\n",
       "       'LONGITUDE', 'geometry'],\n",
       "      dtype='object')"
      ]
     },
     "execution_count": 150,
     "metadata": {},
     "output_type": "execute_result"
    }
   ],
   "source": [
    "smartline_merged.columns"
   ]
  },
  {
   "cell_type": "code",
   "execution_count": 157,
   "metadata": {},
   "outputs": [],
   "source": [
    "# ymax, xmin = -15.25732005, 122.42411987\n",
    "# ymin, xmax = -17.26544608, 125.06864248\n",
    "\n",
    "\n",
    "# ymax, xmin = -10.36988882, 116.03228071\n",
    "# ymin, xmax = -22.05040764, 133.32353552\n",
    "\n",
    "beaches_nw = smartline_merged  #.cx[xmin:xmax, ymin:ymax]\n",
    "beaches_nw['x'] = beaches_nw.geometry.x\n",
    "beaches_nw['y'] = beaches_nw.geometry.y\n",
    "# beaches_nw.plot()\n",
    "beaches_nw = beaches_nw.drop('geometry', axis=1).copy()"
   ]
  },
  {
   "cell_type": "code",
   "execution_count": 159,
   "metadata": {},
   "outputs": [],
   "source": [
    "# beaches_nw "
   ]
  },
  {
   "cell_type": "code",
   "execution_count": 8,
   "metadata": {},
   "outputs": [],
   "source": [
    "import pandas as pd\n",
    "import numpy as np\n",
    "from otps import TimePoint\n",
    "from otps import predict_tide\n",
    "\n",
    "\n",
    "def astronomical_tide_range(tidepost_lon=155, \n",
    "                            tidepost_lat=-32, \n",
    "                            time_start='2000', \n",
    "                            time_end='2001', \n",
    "                            modelled_freq='12h',\n",
    "                            return_obs=False):\n",
    "\n",
    "    # Generate range of times covering entire period of satellite record\n",
    "    all_timerange = pd.date_range(start=time_start,\n",
    "                                  end=time_end,\n",
    "                                  freq=modelled_freq)\n",
    "    all_datetimes = all_timerange.values.astype('M8[s]').astype('O').tolist()  \n",
    "\n",
    "    # Use the tidal model to compute tide heights for each observation:  \n",
    "    all_timepoints = [TimePoint(tidepost_lon, tidepost_lat, dt) \n",
    "                      for dt in all_datetimes]\n",
    "    all_predictedtides = predict_tide(all_timepoints)   \n",
    "    all_tideheights = [predictedtide.tide_m for predictedtide \n",
    "                        in all_predictedtides]\n",
    "\n",
    "    # Get coarse statistics on all and observed tidal ranges\n",
    "    all_mean = np.mean(all_tideheights)\n",
    "    all_min, all_max = np.quantile(all_tideheights, [0.0, 1.0])\n",
    "\n",
    "    # Calculate tidal range\n",
    "    all_range = (all_max - all_min)\n",
    "    \n",
    "    if return_obs:\n",
    "        obs_df = pd.DataFrame({'tide_m': all_tideheights}, index=all_datetimes) \n",
    "        \n",
    "        return {'tide_range': all_range, 'tide_min': all_min, 'tide_max': all_max}, obs_df  \n",
    "    \n",
    "    else:\n",
    "        return {'tide_range': all_range, 'tide_min': all_min, 'tide_max': all_max}\n",
    "\n",
    "\n"
   ]
  },
  {
   "cell_type": "code",
   "execution_count": 96,
   "metadata": {},
   "outputs": [],
   "source": [
    "\n",
    "y, x = -17.291903, 123.601882\n",
    "out = astronomical_tide_range(tidepost_lon=x, \n",
    "                                        tidepost_lat=y,\n",
    "                                        time_start='1990', \n",
    "                                        time_end='2020', \n",
    "                                        modelled_freq='2h',\n",
    "                       return_obs=True)"
   ]
  },
  {
   "cell_type": "code",
   "execution_count": 97,
   "metadata": {},
   "outputs": [
    {
     "data": {
      "text/plain": [
       "tide_m    11.916\n",
       "dtype: float64"
      ]
     },
     "execution_count": 97,
     "metadata": {},
     "output_type": "execute_result"
    }
   ],
   "source": [
    "out[1].max() - out[1].min()"
   ]
  },
  {
   "cell_type": "code",
   "execution_count": 11,
   "metadata": {},
   "outputs": [
    {
     "data": {
      "text/plain": [
       "<matplotlib.axes._subplots.AxesSubplot at 0x7f28c2ac8f60>"
      ]
     },
     "execution_count": 11,
     "metadata": {},
     "output_type": "execute_result"
    },
    {
     "data": {
      "image/png": "[encoded data removed]",
      "text/plain": [
       "<Figure size 432x288 with 1 Axes>"
      ]
     },
     "metadata": {
      "needs_background": "light"
     },
     "output_type": "display_data"
    }
   ],
   "source": [
    "out[1].plot()"
   ]
  },
  {
   "cell_type": "code",
   "execution_count": 66,
   "metadata": {},
   "outputs": [
    {
     "data": {
      "text/plain": [
       "131485"
      ]
     },
     "execution_count": 66,
     "metadata": {},
     "output_type": "execute_result"
    }
   ],
   "source": []
  },
  {
   "cell_type": "code",
   "execution_count": 67,
   "metadata": {},
   "outputs": [],
   "source": [
    "import numpy as np\n",
    "from scipy.signal import argrelextrema\n",
    "\n",
    "n = out[1].shape[0]\n",
    "time = out[1].head(n).index.values\n",
    "tides = out[1].head(n).tide_m.values\n",
    "\n",
    "# for local maxima\n",
    "maxima = argrelextrema(tides, np.greater)[0]\n",
    "maxima_time = [time[i] for i in maxima]\n",
    "maxima_tides = [tides[i] for i in maxima]\n",
    "\n",
    "# for local minima\n",
    "minima = argrelextrema(tides, np.less)[0]\n",
    "minima_time = [time[i] for i in minima]\n",
    "minima_tides = [tides[i] for i in minima]"
   ]
  },
  {
   "cell_type": "code",
   "execution_count": 89,
   "metadata": {},
   "outputs": [
    {
     "data": {
      "text/plain": [
       "<matplotlib.collections.PathCollection at 0x7f28cf8ec7f0>"
      ]
     },
     "execution_count": 89,
     "metadata": {},
     "output_type": "execute_result"
    },
    {
     "data": {
      "image/png": "[encoded data removed]",
      "text/plain": [
       "<Figure size 864x360 with 1 Axes>"
      ]
     },
     "metadata": {
      "needs_background": "light"
     },
     "output_type": "display_data"
    }
   ],
   "source": [
    "fig, ax = plt.subplots(1, 1, figsize=(12, 5))\n",
    "plot_data = out[1].loc[slice(np.datetime64('2008-03-01T06:00:00.000000000'), np.datetime64('2008-03-30T06:00:00.000000000'))]\n",
    "plot_data.plot(ax=ax, linewidth=0.1)\n",
    "ax.scatter(maxima_time, maxima_tides, s=0.2)\n",
    "ax.scatter(minima_time, minima_tides, s=0.2)\n"
   ]
  },
  {
   "cell_type": "code",
   "execution_count": 79,
   "metadata": {},
   "outputs": [],
   "source": [
    "diff = np.array(maxima_tides[:len(minima_tides)]) - np.array(minima_tides)"
   ]
  },
  {
   "cell_type": "code",
   "execution_count": 91,
   "metadata": {},
   "outputs": [
    {
     "data": {
      "text/plain": [
       "array([ 6.282,  8.289,  8.786, 10.282, 10.605, 11.178, 11.192, 11.134,\n",
       "       12.523, 12.377, 13.387, 12.079, 12.543, 10.273, 10.203,  7.675,\n",
       "        8.581,  6.192,  6.366,  3.65 ])"
      ]
     },
     "execution_count": 91,
     "metadata": {},
     "output_type": "execute_result"
    }
   ],
   "source": [
    "diff[slice(np.argmax(diff)-10, np.argmax(diff)+10)]"
   ]
  },
  {
   "cell_type": "code",
   "execution_count": 82,
   "metadata": {},
   "outputs": [
    {
     "data": {
      "text/plain": [
       "numpy.datetime64('2008-03-11T06:00:00.000000000')"
      ]
     },
     "execution_count": 82,
     "metadata": {},
     "output_type": "execute_result"
    }
   ],
   "source": [
    "maxima_time[13007]"
   ]
  },
  {
   "cell_type": "code",
   "execution_count": 182,
   "metadata": {},
   "outputs": [],
   "source": [
    "def tide_apply(i):\n",
    "    try:\n",
    "        tides = astronomical_tide_range(tidepost_lon=i.x, \n",
    "                                        tidepost_lat=i.y,\n",
    "                                        time_start='1990', \n",
    "                                        time_end='2020', \n",
    "                                        modelled_freq='2h')        \n",
    "    except:\n",
    "        tides = {'tide_range': np.nan, 'tide_min': np.nan, 'tide_max': np.nan}\n",
    "    \n",
    "    return pd.Series(tides)"
   ]
  },
  {
   "cell_type": "code",
   "execution_count": 183,
   "metadata": {},
   "outputs": [],
   "source": [
    "import dask.dataframe as dd\n",
    "\n",
    "# Convert pandas dataframe to dask dataframe\n",
    "data_dd = dd.from_pandas(beaches_nw, npartitions=15)"
   ]
  },
  {
   "cell_type": "code",
   "execution_count": 184,
   "metadata": {},
   "outputs": [],
   "source": [
    "# Apply custom function to each partition, parallelising across cores\n",
    "out_df = (data_dd\n",
    "          .map_partitions(lambda df: df.apply(tide_apply, axis=1))\n",
    "          .compute(scheduler='processes'))"
   ]
  },
  {
   "cell_type": "code",
   "execution_count": 185,
   "metadata": {},
   "outputs": [],
   "source": [
    "out_df.dropna().to_csv('ABSAMP_tides.csv')"
   ]
  },
  {
   "cell_type": "code",
   "execution_count": 186,
   "metadata": {},
   "outputs": [],
   "source": [
    "smartline_tides = smartline_merged.join(out_df).drop(['x', 'y'], axis=1)\n",
    "\n",
    "smartline_tides.to_file('ABSAMP_tides_2hr.geojson', driver='GeoJSON')"
   ]
  },
  {
   "cell_type": "code",
   "execution_count": 181,
   "metadata": {},
   "outputs": [
    {
     "data": {
      "text/plain": [
       "ABSAMP_ID\n",
       "nsw001    2.107\n",
       "nsw006    2.095\n",
       "nsw007    2.095\n",
       "nsw008    2.095\n",
       "nsw009    2.094\n",
       "          ...  \n",
       "waR59     0.872\n",
       "waR60     0.873\n",
       "waR61     0.873\n",
       "waR62     0.873\n",
       "waR63     0.873\n",
       "Name: tide_range, Length: 12102, dtype: float64"
      ]
     },
     "execution_count": 181,
     "metadata": {},
     "output_type": "execute_result"
    }
   ],
   "source": [
    "smartline_tides.tide_range"
   ]
  },
  {
   "cell_type": "code",
   "execution_count": null,
   "metadata": {},
   "outputs": [],
   "source": [
    "outputs = []\n",
    "fails = []\n",
    "\n",
    "for i, row in beaches_nw.iterrows():\n",
    "    \n",
    "    try: \n",
    "        x, y = list(row.geometry.coords)[0]\n",
    "        tides = astronomical_tide_range(tidepost_lon=x, \n",
    "                                        tidepost_lat=y,\n",
    "                                        time_start='2000', \n",
    "                                        time_end='2020', \n",
    "                                        modelled_freq='5h')\n",
    "        tides['id'] = i\n",
    "        print(tides)\n",
    "        outputs.append(tides['id'])\n",
    "        \n",
    "    except:\n",
    "        print(f'Failed: {i}')\n",
    "        fails.append(i)\n",
    "        "
   ]
  },
  {
   "cell_type": "markdown",
   "metadata": {},
   "source": [
    "### Connect to the datacube\n"
   ]
  },
  {
   "cell_type": "code",
   "execution_count": null,
   "metadata": {},
   "outputs": [],
   "source": [
    "dc = datacube.Datacube(app='Tidal_modelling')\n"
   ]
  },
  {
   "cell_type": "markdown",
   "metadata": {},
   "source": [
    "### Set up data query\n",
    "\n",
    "First we set up a query to define the area, time period and other parameters required for loading data.\n",
    "In this example, we will load 30 years of Landsat 5, 7 and 8 data for an intertidal beach near West Hill Island south of Mackay in Queensland.\n",
    "We load the `'nbart_red', 'nbart_green', 'nbart_blue'` bands so that we can plot the data as true colour imagery.\n",
    "\n",
    "> The `dask_chunks` parameter allows us to [use Dask](https://examples.dask.org/xarray.html) to lazily load data rather than load data directly into memory, which can take a long time and large amounts of memory.\n",
    "Lazy loading can be a very useful approach for when you need to load large amounts of data without crashing your analysis.\n",
    "In coastal applications, it allows us to load (using either `.compute()` or by plotting our data) only a small subset of observations from our entire time series (e.g. only low or high tide observations) without having to load the entire dataset into memory first, which can greatly decrease processing times.\n",
    "\n",
    "> For more information about using Dask, refer to the [Parallel processing with Dask](07_Parallel_processing_with_Dask.ipynb) notebook."
   ]
  },
  {
   "cell_type": "code",
   "execution_count": null,
   "metadata": {},
   "outputs": [],
   "source": [
    "# Set up data load query\n",
    "query = {'x': (149.4, 149.53),\n",
    "         'y': (-21.71, -21.85),\n",
    "         'time': ('1988', '2018'),\n",
    "         'measurements': ['nbart_red', 'nbart_green', 'nbart_blue'],\n",
    "         'output_crs': 'EPSG:32755',\n",
    "         'resolution': (-30, 30),\n",
    "         'group_by': 'solar_day',\n",
    "         'dask_chunks': {}}"
   ]
  },
  {
   "cell_type": "markdown",
   "metadata": {},
   "source": [
    "We can preview the area that we will load data for:"
   ]
  },
  {
   "cell_type": "code",
   "execution_count": null,
   "metadata": {},
   "outputs": [],
   "source": [
    "display_map(x=query['x'], y=query['y'])"
   ]
  },
  {
   "cell_type": "markdown",
   "metadata": {},
   "source": [
    "## Load satellite time-series\n",
    "\n",
    "To obtain some satellite data to analyse, we use the `load_ard` import a time series of Landsat 5, 7 and 8 observations as an `xarray.Dataset`.\n",
    "The input data does not need to be from Landsat: any remotely-sensed imagery with timestamps and spatial coordinates provide enough data to run the tidal model. "
   ]
  },
  {
   "cell_type": "code",
   "execution_count": null,
   "metadata": {},
   "outputs": [],
   "source": [
    "# Load available data from all three Landsat satellites\n",
    "ds = load_ard(dc=dc,\n",
    "              products=['ga_ls5t_ard_3', 'ga_ls7e_ard_3', 'ga_ls8c_ard_3'],\n",
    "              ls7_slc_off=False,\n",
    "              **query)\n",
    "\n",
    "# Print output data\n",
    "ds"
   ]
  },
  {
   "cell_type": "markdown",
   "metadata": {},
   "source": [
    "## Model tide heights for each observation\n",
    "\n",
    "We use the `tidal_tag` function from `dea_coastaltools` to associate each satellite observation in our timeseries with a tide height relative to mean sea level (i.e. approximately equivalent to the Australian Height Datum or AHD).\n",
    "This function uses the time and date of acquisition and the geographic location of each satellite observation as inputs to the OSU Tidal Prediction Software (OTPS) tidal model.\n",
    "From [Sagar et al. 2015](https://www.sciencedirect.com/science/article/pii/S0034425717301591):\n",
    "\n",
    "> The **OTPS TPX08** tidal model consists of a multi-resolution bathymetric grid solution, with a 1/6° solution in the global open ocean, and a 1/30° local resolution solution to improve modelling in complex shallow water environments. The OTPS model is based on a system of linear partial differential equations, called Laplace's tidal equations, parametrised with nine harmonic tidal constituents. The model is fitted to track-averaged TOPEX/Poseidon altimeter data collected from 1992 to 2016 and Jason-1 (Poseidon 2) altimeter data from 2002 to 2013, enabling estimation of the tidal height and harmonic constituents at discrete temporal epochs and spatial locations."
   ]
  },
  {
   "cell_type": "code",
   "execution_count": null,
   "metadata": {},
   "outputs": [],
   "source": [
    "# Model tide heights\n",
    "ds_tidal = tidal_tag(ds)\n",
    "\n",
    "# Print output data\n",
    "ds_tidal\n"
   ]
  },
  {
   "cell_type": "markdown",
   "metadata": {},
   "source": [
    "The function will automatically select a tide modelling location based on the dataset centroid.\n",
    "It will then output modelled tide heights as a new `tide_height` variable in the `xarray.Dataset` (the variable should appear under `Data variables` above).\n",
    "\n",
    "We can easily plot this new variable to inspect the range of tide heights observed by the satellites in our timeseries.\n",
    "In this example, our observed tide heights range from approximately -3.0 to 4.0 m relative to Mean Sea Level:"
   ]
  },
  {
   "cell_type": "code",
   "execution_count": null,
   "metadata": {},
   "outputs": [],
   "source": [
    "ds_tidal.tide_height.plot(linewidth=0.5)"
   ]
  },
  {
   "cell_type": "markdown",
   "metadata": {},
   "source": [
    "### Example tide height analysis\n",
    "To demonstrate how tidally tagged images can be used to produce composites of high and low tide \n",
    "imagery, we can compute the lowest 5% and highest 5% percent of tide heights, and use these to filter our observations. \n",
    "We can then combine and plot these filtered observations to visualise what the landscape looks like at low and high tide:"
   ]
  },
  {
   "cell_type": "code",
   "execution_count": null,
   "metadata": {},
   "outputs": [],
   "source": [
    "# Calculate the lowest and highest 5% of tides\n",
    "lowest_5, highest_5 = ds_tidal.tide_height.quantile([0.05, 0.95]).values\n",
    "\n",
    "# Filter our data to low and high tide observations\n",
    "filtered_low = ds_tidal.where(ds_tidal.tide_height <= lowest_5, drop=True)\n",
    "filtered_high = ds_tidal.where(ds_tidal.tide_height >= highest_5, drop=True)\n",
    "\n",
    "# Take the simple median of each set of low and high tide observations to \n",
    "# produce a composite (alternatively, observations could be combined \n",
    "# using a geomedian to keep band relationships consistent)\n",
    "median_low = filtered_low.median(dim='time', keep_attrs=True)\n",
    "median_high = filtered_high.median(dim='time', keep_attrs=True)\n",
    "\n",
    "# Combine low and high tide medians into a single dataset and give \n",
    "# each layer a meaningful name\n",
    "ds_highlow = xr.concat([median_low, median_high], dim='tide_height')\n",
    "ds_highlow['tide_height'] = ['Low tide', 'High tide']\n",
    "\n",
    "# Plot low and high tide medians side-by-side\n",
    "rgb(ds_highlow, col='tide_height')"
   ]
  },
  {
   "cell_type": "markdown",
   "metadata": {},
   "source": [
    "### Swapping dimensions\n",
    "\n",
    "The `tidal_tag` function allows you to use tide heights as the primary dimension in the dataset, rather than time.\n",
    "Setting `swap_dims=True` will swap the `time` dimension in the original `xarray.Dataset` to the new `tide_height` variable."
   ]
  },
  {
   "cell_type": "code",
   "execution_count": null,
   "metadata": {},
   "outputs": [],
   "source": [
    "# Model tide heights\n",
    "ds_tidal = tidal_tag(ds, swap_dims=True)\n",
    "\n",
    "# Print output data\n",
    "ds_tidal"
   ]
  },
  {
   "cell_type": "markdown",
   "metadata": {},
   "source": [
    "The dataset now contains three dimensions: `tide_height`, `x` and `y`.\n",
    "This can make it easier to analyse the data with respect to tide, e.g. computing a rolling median by tide height (e.g. along the `tide_height` dimension):"
   ]
  },
  {
   "cell_type": "code",
   "execution_count": null,
   "metadata": {},
   "outputs": [],
   "source": [
    "# First we need to update the chunks used by Dask to allow us to do a \n",
    "# rolling median without having to load all our data into memory first\n",
    "ds_rechunked = ds_tidal.chunk(chunks={'tide_height': 15})\n",
    "\n",
    "# Compute a rolling median that will go through every satellite \n",
    "# observation, and take the median of that timestep and its 15 neighbours\n",
    "ds_rolling = ds_rechunked.rolling(tide_height=15, \n",
    "                                  center=True, \n",
    "                                  min_periods=1).median()\n",
    "\n",
    "# Plot the lowest, 500th and highest tide rolling median image\n",
    "rgb(ds_rolling, index_dim='tide_height', index=[0, 500, -1])"
   ]
  },
  {
   "cell_type": "markdown",
   "metadata": {},
   "source": [
    "## Modelling ebb and flow tidal phases\n",
    "\n",
    "The `tidal_tag` function also allows us to determine whether each satellite observation was taken while the tide was rising/incoming (flow tide) or falling/outgoing (ebb tide) by setting `ebb_flow=True`.\n",
    "This is achieved by comparing tide heights 15 minutes before the before and after the observed satellite observation.\n",
    "\n",
    "Ebb and flow data can provide valuable contextual information for interpreting satellite imagery, particularly in tidal flat or mangrove forest environments where water may remain in the landscape for considerable time after the tidal peak."
   ]
  },
  {
   "cell_type": "code",
   "execution_count": null,
   "metadata": {},
   "outputs": [],
   "source": [
    "# Model tide heights\n",
    "ds_tidal = tidal_tag(ds, ebb_flow=True)\n",
    "\n",
    "# Print output data\n",
    "ds_tidal"
   ]
  },
  {
   "cell_type": "markdown",
   "metadata": {},
   "source": [
    "We now have data giving us the both the tide height and tidal phase ('ebb' or 'flow') for every satellite image:"
   ]
  },
  {
   "cell_type": "code",
   "execution_count": null,
   "metadata": {},
   "outputs": [],
   "source": [
    "ds_tidal[['time', 'tide_height', 'ebb_flow']].to_dataframe()"
   ]
  },
  {
   "cell_type": "markdown",
   "metadata": {},
   "source": [
    "We could for example use this data to filter our observations to keep ebbing phase observations only:"
   ]
  },
  {
   "cell_type": "code",
   "execution_count": null,
   "metadata": {},
   "outputs": [],
   "source": [
    "ds_tidal.where(ds_tidal.ebb_flow == 'Ebb', drop=True)"
   ]
  },
  {
   "cell_type": "markdown",
   "metadata": {},
   "source": [
    "## Evaluating observed vs. all modelled tide heights\n",
    "\n",
    "The complex behaviour of tides mean that a sun synchronous sensor like Landsat [does not observe the full range of the tidal cycle at all locations](https://www.sciencedirect.com/science/article/pii/S0272771418308783#sec3).\n",
    "Biases in the proportion of the tidal range observed by satellites can prevent us from obtaining data on areas of the coastline exposed or inundated at the extremes of the\n",
    "tidal range. \n",
    "This can risk gaining misleading insights into the true extent of the area of the coastline affected by tides, and make it difficult to compare high or low tide images fairly in different locations.\n",
    "\n",
    "The `tidal_stats` function can assist in evaluating how the range of tides observed by satellites compare to the full tidal range.\n",
    "It works by using the OTPS tidal model to model tide heights at a regular interval (every two hours by default) across the entire time period covered by the input satelliter timeseries dataset.\n",
    "This is then compared against the tide heights in observed by the satellite and used to calculate a range of statistics and a plot that summarises potential biases in the data.\n",
    "\n",
    "> For a more detailed discussion of the issue of tidal bias in sun-synchronous satellite observations of the coastline, refer to the ['Limitations and future work' section in Bishop-Taylor et al. 2018](https://www.sciencedirect.com/science/article/pii/S0272771418308783#sec3).\n"
   ]
  },
  {
   "cell_type": "code",
   "execution_count": null,
   "metadata": {},
   "outputs": [],
   "source": [
    "out_stats = tidal_stats(ds)"
   ]
  },
  {
   "cell_type": "markdown",
   "metadata": {},
   "source": [
    "The function also outputs a `pandas.Series` object containing a set of statistics that compare the observed vs. full modelled tidal ranges.\n",
    "These statistics include: \n",
    "\n",
    "* **tidepost_lat:** latitude used for modelling tide heights\n",
    "* **tidepost_lon:** longitude used for modelling tide heights\n",
    "* **observed_min_m:** minimum tide height observed by the satellite (in metre units)\n",
    "* **all_min_m:** minimum tide height from full modelled tidal range (in metre units)\n",
    "* **observed_max_m:** maximum tide height observed by the satellite (in metre units)\n",
    "* **all_max_m:** maximum tide height from full modelled tidal range (in metre units)\n",
    "* **observed_range_m:** tidal range observed by the satellite (in metre units)\n",
    "* **all_range_m:** full modelled tidal range (in metre units)\n",
    "* **spread_m:** proportion of the full modelled tidal range observed by the satellite (see [Bishop-Taylor et al. 2018](https://www.sciencedirect.com/science/article/pii/S0272771418308783#sec3))\n",
    "* **low_tide_offset:** proportion of the lowest tides never observed by the satellite (see [Bishop-Taylor et al. 2018](https://www.sciencedirect.com/science/article/pii/S0272771418308783#sec3))\n",
    "* **high_tide_offset:** proportion of the highest tides never observed by the satellite (see [Bishop-Taylor et al. 2018](https://www.sciencedirect.com/science/article/pii/S0272771418308783#sec3))\n",
    "* **observed_slope:** slope of any relationship between observed tide heights and time\n",
    "* **all_slope:** slope of any relationship between all modelled tide heights and time\n",
    "* **observed_pval:** significance/p-value of any relationship between observed tide heights and time\n",
    "* **all_pval:** significance/p-value of any relationship between all modelled tide heights and time"
   ]
  },
  {
   "cell_type": "code",
   "execution_count": null,
   "metadata": {},
   "outputs": [],
   "source": [
    "out_stats"
   ]
  },
  {
   "cell_type": "markdown",
   "metadata": {},
   "source": [
    "---\n",
    "\n",
    "## Additional information\n",
    "\n",
    "**License:** The code in this notebook is licensed under the [Apache License, Version 2.0](https://www.apache.org/licenses/LICENSE-2.0). \n",
    "Digital Earth Australia data is licensed under the [Creative Commons by Attribution 4.0](https://creativecommons.org/licenses/by/4.0/) license.\n",
    "\n",
    "**Contact:** If you need assistance, please post a question on the [Open Data Cube Slack channel](http://slack.opendatacube.org/) or on the [GIS Stack Exchange](https://gis.stackexchange.com/questions/ask?tags=open-data-cube) using the `open-data-cube` tag (you can view previously asked questions [here](https://gis.stackexchange.com/questions/tagged/open-data-cube)).\n",
    "If you would like to report an issue with this notebook, you can file one on [Github](https://github.com/GeoscienceAustralia/dea-notebooks).\n",
    "\n",
    "**Last modified:** September 2021\n",
    "\n",
    "**Compatible datacube version:** "
   ]
  },
  {
   "cell_type": "code",
   "execution_count": null,
   "metadata": {},
   "outputs": [],
   "source": [
    "print(datacube.__version__)"
   ]
  },
  {
   "cell_type": "markdown",
   "metadata": {},
   "source": [
    "## Tags\n",
    "Browse all available tags on the DEA User Guide's [Tags Index](https://docs.dea.ga.gov.au/genindex.html)"
   ]
  },
  {
   "cell_type": "raw",
   "metadata": {
    "raw_mimetype": "text/restructuredtext"
   },
   "source": [
    "**Tags**: :index:`sandbox compatible`, :index:`NCI compatible`, :index:`landsat 5`, :index:`landsat 7`, :index:`landsat 8`, :index:`display_map`, :index:`load_ard`, :index:`rgb`, :index:`tidal_tag`, :index:`tidal_stats`, :index:`tide modelling`, :index:`intertidal`, :index:`Dask`, :index:`lazy loading`, :index:`rolling window`"
   ]
  }
 ],
 "metadata": {
  "kernelspec": {
   "display_name": "Python 3",
   "language": "python",
   "name": "python3"
  },
  "language_info": {
   "codemirror_mode": {
    "name": "ipython",
    "version": 3
   },
   "file_extension": ".py",
   "mimetype": "text/x-python",
   "name": "python",
   "nbconvert_exporter": "python",
   "pygments_lexer": "ipython3",
   "version": "3.6.10"
  },
  "widgets": {
   "application/vnd.jupyter.widget-state+json": {
    "state": {},
    "version_major": 2,
    "version_minor": 0
   }
  }
 },
 "nbformat": 4,
 "nbformat_minor": 4
}
