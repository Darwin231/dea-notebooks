{
 "cells": [
  {
   "cell_type": "markdown",
   "id": "651af4f4-460c-4ed0-ad6d-487c3629f7db",
   "metadata": {},
   "source": [
    "## Setup"
   ]
  },
  {
   "cell_type": "code",
   "execution_count": 1,
   "id": "34eacd41-5e24-4094-9597-4791d2fbaeb0",
   "metadata": {},
   "outputs": [
    {
     "name": "stdout",
     "output_type": "stream",
     "text": [
      "Found existing installation: dea-tools 0.1.dev1\n",
      "Uninstalling dea-tools-0.1.dev1:\n",
      "  Successfully uninstalled dea-tools-0.1.dev1\n",
      "Note: you may need to restart the kernel to use updated packages.\n"
     ]
    }
   ],
   "source": [
    "pip uninstall dea_tools --yes"
   ]
  },
  {
   "cell_type": "code",
   "execution_count": 2,
   "id": "fa3ad304-cfa8-40ed-98c1-320f1f4778ba",
   "metadata": {},
   "outputs": [
    {
     "data": {
      "text/html": [
       "<table style=\"border: 2px solid white;\">\n",
       "<tr>\n",
       "<td style=\"vertical-align: top; border: 0px solid white\">\n",
       "<h3 style=\"text-align: left;\">Client</h3>\n",
       "<ul style=\"text-align: left; list-style: none; margin: 0; padding: 0;\">\n",
       "  <li><b>Scheduler: </b>tcp://127.0.0.1:37435</li>\n",
       "  <li><b>Dashboard: </b><a href='/user/robbibt/proxy/8787/status' target='_blank'>/user/robbibt/proxy/8787/status</a></li>\n",
       "</ul>\n",
       "</td>\n",
       "<td style=\"vertical-align: top; border: 0px solid white\">\n",
       "<h3 style=\"text-align: left;\">Cluster</h3>\n",
       "<ul style=\"text-align: left; list-style:none; margin: 0; padding: 0;\">\n",
       "  <li><b>Workers: </b>1</li>\n",
       "  <li><b>Cores: </b>15</li>\n",
       "  <li><b>Memory: </b>125.85 GB</li>\n",
       "</ul>\n",
       "</td>\n",
       "</tr>\n",
       "</table>"
      ],
      "text/plain": [
       "<Client: 'tcp://127.0.0.1:37435' processes=1 threads=15, memory=125.85 GB>"
      ]
     },
     "metadata": {},
     "output_type": "display_data"
    }
   ],
   "source": [
    "%load_ext autoreload\n",
    "%autoreload 2\n",
    "\n",
    "import datacube\n",
    "import xarray as xr\n",
    "import pandas as pd\n",
    "import numpy as np\n",
    "import geopandas as gpd\n",
    "import matplotlib.pyplot as plt\n",
    "from datacube.utils.cog import write_cog\n",
    "from datacube.utils.masking import mask_invalid_data\n",
    "from datacube.utils.geometry import GeoBox, Geometry\n",
    "from odc.algo import mask_cleanup\n",
    "\n",
    "import sys\n",
    "sys.path.insert(1, '../../Tools/')\n",
    "from dea_tools.datahandling import mostcommon_crs\n",
    "from dea_tools.bandindices import calculate_indices\n",
    "from dea_tools.spatial import subpixel_contours, interpolate_2d, contours_to_arrays\n",
    "from dea_tools.coastal import tidal_tag\n",
    "from dea_tools.dask import create_local_dask_cluster\n",
    "\n",
    "# Create local dask cluster to improve data load time\n",
    "client = create_local_dask_cluster(return_client=True)\n",
    "\n",
    "# Connect to datacube\n",
    "dc = datacube.Datacube(app='Intertidal_elevation')"
   ]
  },
  {
   "cell_type": "markdown",
   "id": "73ffd1fe-381e-44e7-a242-b4b0a0786cb2",
   "metadata": {},
   "source": [
    "### Study area"
   ]
  },
  {
   "cell_type": "code",
   "execution_count": 3,
   "id": "7ae6503a-310a-4551-bbad-79a14d072ae3",
   "metadata": {},
   "outputs": [
    {
     "data": {
      "image/svg+xml": [
       "<svg xmlns=\"http://www.w3.org/2000/svg\" xmlns:xlink=\"http://www.w3.org/1999/xlink\" width=\"300\" height=\"300\" viewBox=\"478582.3167043429 -1725245.8823011916 92371.02675339539 41184.149489512434\" preserveAspectRatio=\"xMinYMin meet\"><g transform=\"matrix(1,0,0,-1,0,-3409307.615112871)\"><path fill-rule=\"evenodd\" fill=\"#66cc99\" stroke=\"#555555\" stroke-width=\"615.8068450226359\" opacity=\"0.6\" d=\"M 567532.1943187236,-1715303.9940810273 L 556165.00379194,-1708193.6251604161 L 547312.3524345347,-1704410.6216607394 L 535879.5341057165,-1693417.3712936721 L 528383.4565693768,-1699720.4678818414 L 525067.2460674795,-1696234.360534599 L 513273.39886030013,-1698099.0401867395 L 511423.4608630375,-1693709.6322060847 L 508751.5086731719,-1687482.8819506937 L 495929.7101271846,-1695449.761390879 L 491992.0345820226,-1700266.1148564743 L 488236.66911956866,-1700291.5406675094 L 482003.46584335755,-1703392.8537591277 L 482438.95122093323,-1705724.0316411448 L 487523.98988998675,-1709776.5190758735 L 492480.7479214561,-1703455.4421455308 L 492824.2854254501,-1701326.7061486354 L 496105.9042087465,-1702225.4313671773 L 494813.95396045904,-1710828.649576464 L 494911.8555319064,-1712803.2000159707 L 498114.1393815571,-1713440.9745812635 L 499949.64849650604,-1715568.392338486 L 500806.5376762725,-1713716.5463127042 L 502058.2224927438,-1710680.8937970386 L 505804.394598219,-1708513.7963808028 L 510055.8454570675,-1715704.125556784 L 514125.75640612753,-1714149.9408226334 L 517305.4760967128,-1713075.41748047 L 525619.5650177414,-1714431.2688708068 L 533624.3449900167,-1717062.8661334617 L 538510.0325408945,-1714858.419283762 L 543783.5740167856,-1718327.4916417936 L 548251.1298275266,-1717993.449019584 L 553384.2574134982,-1716400.3836822514 L 558065.9444932385,-1721824.733162177 L 564347.3082024459,-1719949.8639879941 L 564347.6068306125,-1719942.5162561452 L 567532.1943187236,-1715303.9940810273 z\" /></g></svg>"
      ],
      "text/plain": [
       "Geometry(POLYGON ((567532.1943187236 -1715303.994081027, 556165.00379194 -1708193.625160416, 547312.3524345347 -1704410.621660739, 535879.5341057165 -1693417.371293672, 528383.4565693768 -1699720.467881841, 525067.2460674795 -1696234.360534599, 513273.3988603001 -1698099.04018674, 511423.4608630375 -1693709.632206085, 508751.5086731719 -1687482.881950694, 495929.7101271846 -1695449.761390879, 491992.0345820226 -1700266.114856474, 488236.6691195687 -1700291.540667509, 482003.4658433576 -1703392.853759128, 482438.9512209332 -1705724.031641145, 487523.9898899868 -1709776.519075874, 492480.7479214561 -1703455.442145531, 492824.2854254501 -1701326.706148635, 496105.9042087465 -1702225.431367177, 494813.953960459 -1710828.649576464, 494911.8555319064 -1712803.200015971, 498114.1393815571 -1713440.974581263, 499949.648496506 -1715568.392338486, 500806.5376762725 -1713716.546312704, 502058.2224927438 -1710680.893797039, 505804.394598219 -1708513.796380803, 510055.8454570675 -1715704.125556784, 514125.7564061275 -1714149.940822633, 517305.4760967128 -1713075.41748047, 525619.5650177414 -1714431.268870807, 533624.3449900167 -1717062.866133462, 538510.0325408945 -1714858.419283762, 543783.5740167856 -1718327.491641794, 548251.1298275266 -1717993.449019584, 553384.2574134982 -1716400.383682251, 558065.9444932385 -1721824.733162177, 564347.3082024459 -1719949.863987994, 564347.6068306125 -1719942.516256145, 567532.1943187236 -1715303.994081027)), EPSG:3577)"
      ]
     },
     "execution_count": 3,
     "metadata": {},
     "output_type": "execute_result"
    }
   ],
   "source": [
    "aoi = 'Wollogorang'\n",
    "aoi = 'McCarthur River'\n",
    "aoi = 'Greenbank'\n",
    "# aoi = 'Seven Emu'\n",
    "time_range = ('2017', '2021')\n",
    "resolution = 10\n",
    "\n",
    "# Import regions of interest\n",
    "aoi_gdf = gpd.read_file('data/Phase_1_NT_Gov.geojson').set_index('Name').to_crs('EPSG:3577')\n",
    "aoi_gdf.head()\n",
    "\n",
    "# Select AOI\n",
    "geom = Geometry(geom=aoi_gdf.loc[aoi].geometry, crs='EPSG:3577')\n",
    "geom"
   ]
  },
  {
   "cell_type": "code",
   "execution_count": 4,
   "id": "cef9ca10-53db-45b6-8bd0-91b009a7b1b8",
   "metadata": {},
   "outputs": [
    {
     "data": {
      "image/svg+xml": [
       "<svg xmlns=\"http://www.w3.org/2000/svg\" xmlns:xlink=\"http://www.w3.org/1999/xlink\" width=\"300\" height=\"300\" viewBox=\"611954.3761244523 -1746433.0913965416 7223.991035625688 7566.275559127331\" preserveAspectRatio=\"xMinYMin meet\"><g transform=\"matrix(1,0,0,-1,0,-3485299.907233956)\"><path fill-rule=\"evenodd\" fill=\"#66cc99\" stroke=\"#555555\" stroke-width=\"50.44183706084887\" opacity=\"0.6\" d=\"M 618594.8362466524,-1746152.8589684258 L 618898.1347319622,-1739432.7662628433 L 612534.7886025934,-1739147.04826553 L 612234.6085525681,-1745867.2809907754 L 618594.8362466524,-1746152.8589684258 z\" /></g></svg>"
      ],
      "text/plain": [
       "Geometry(POLYGON ((618594.8362466524 -1746152.858968426, 618898.1347319622 -1739432.766262843, 612534.7886025934 -1739147.04826553, 612234.6085525681 -1745867.280990775, 618594.8362466524 -1746152.858968426)), EPSG:3577)"
      ]
     },
     "execution_count": 4,
     "metadata": {},
     "output_type": "execute_result"
    }
   ],
   "source": [
    "xmin, ymax = 136.69496195483225, -15.818692484010818\n",
    "xmax, ymin = 136.73092570526103, -15.862001767243331\n",
    "\n",
    "xmin, ymax = 137.74440730133688, -16.250688880149955\n",
    "\n",
    "\n",
    "xmin, ymax = 137.70283024335083, -16.21825433795211\n",
    "xmax, ymin = 137.76211426864734, -16.279337121561642\n",
    "\n",
    "from shapely.geometry import box\n",
    "geom = Geometry(geom=box(xmin, ymin, xmax, ymax),\n",
    "                crs='EPSG:4326').to_crs('EPSG:3577')\n",
    "geom\n"
   ]
  },
  {
   "cell_type": "markdown",
   "id": "f44f7f36-a08a-4cbd-8e24-bb99753521ef",
   "metadata": {},
   "source": [
    "### Load data"
   ]
  },
  {
   "cell_type": "code",
   "execution_count": null,
   "id": "2050cda4-6261-4aae-bde2-4759c18d41e9",
   "metadata": {},
   "outputs": [],
   "source": [
    "# Create the 'query' dictionary object\n",
    "query_params = {\n",
    "    'geopolygon': geom,\n",
    "    'time': time_range}\n",
    "    \n",
    "load_params = {\n",
    "    'group_by': 'solar_day',\n",
    "    'resampling': {'*': 'average', 'fmask': 'nearest'},\n",
    "    'dask_chunks': {'time': 1, 'x': 2048, 'y': 2048}\n",
    "}\n",
    "\n",
    "# Identify the most common projection system in the input query \n",
    "output_crs = mostcommon_crs(dc=dc, product='s2a_ard_granule', \n",
    "                            query=query_params)"
   ]
  },
  {
   "cell_type": "code",
   "execution_count": null,
   "id": "f0721a5e-65b6-4b6b-8a6b-412cffef3959",
   "metadata": {},
   "outputs": [],
   "source": [
    "# Load Sentinel-2 data\n",
    "s2_ds = dc.load(product=['s2a_ard_granule', 's2b_ard_granule'],\n",
    "                measurements=['nbart_coastal_aerosol', 'nbart_blue', 'nbart_green', 'nbart_red', 'nbart_green', 'nbart_nir_1'],\n",
    "                output_crs=output_crs,\n",
    "                resolution=(-resolution, resolution),\n",
    "                **query_params,\n",
    "                **load_params).rename({'nbart_nir_1': 'nbart_nir'})\n",
    "\n",
    "# Load Landsat-8 data\n",
    "ls_ds = dc.load(product=['ga_ls8c_ard_3'],\n",
    "                measurements=['nbart_coastal_aerosol', 'nbart_blue', 'nbart_green', 'nbart_red', 'nbart_green', 'nbart_nir'],\n",
    "                time=query_params['time'],\n",
    "                like=s2_ds.geobox,\n",
    "                **load_params)   \n",
    "\n",
    "# Combine into a single ds\n",
    "ds = xr.concat([s2_ds, ls_ds], dim='time').sortby('time')\n",
    "\n",
    "# Apply nodata masking\n",
    "ds = mask_invalid_data(ds)"
   ]
  },
  {
   "cell_type": "markdown",
   "id": "92757a23-9533-411d-b3b6-aad6f89c6b38",
   "metadata": {},
   "source": [
    "### Cloud masking"
   ]
  },
  {
   "cell_type": "code",
   "execution_count": null,
   "id": "b9e6a627-5754-476a-8ad2-a24e161f834d",
   "metadata": {},
   "outputs": [],
   "source": [
    "# Set cloud mask band\n",
    "cloud_bands = ds['nbart_coastal_aerosol']\n",
    "\n",
    "# Compute median\n",
    "aerosol_median = (cloud_bands.median(dim='time').chunk(\n",
    "    ds.nbart_coastal_aerosol.isel(time=0).chunks))\n",
    "# aerosol_median = ds.nbart_coastal_aerosol.rolling(time=50, center=True, min_periods=1).median()\n",
    "\n",
    "# Calculate difference from median as ratio\n",
    "ds['aerosol_diff'] = cloud_bands / aerosol_median\n",
    "\n",
    "# Identify clouds (high diffs) or shadows (low diffs)\n",
    "ds['cloud_mask'] = (ds['aerosol_diff'] > 1.8) | (ds['aerosol_diff'] < 0.35)\n",
    "\n",
    "# CLean using morphology and add to dataset\n",
    "ds['cloud_mask_clean'] = mask_cleanup(mask=ds['cloud_mask'],\n",
    "                                      mask_filters=[('opening', 5),\n",
    "                                                    ('dilation', 10)])\n"
   ]
  },
  {
   "cell_type": "code",
   "execution_count": null,
   "id": "7b50a6f6-a983-4ddf-b881-a866d600808c",
   "metadata": {},
   "outputs": [],
   "source": [
    "# Identify poor quality scenes\n",
    "to_keep = ~((ds['aerosol_diff'].std(dim=['x','y']) > 0.5) & \n",
    "            (ds['aerosol_diff'].mean(dim=['x','y']) > 2))\n",
    "\n",
    "# Keep good scenes only and apply cloud mask\n",
    "# ds_clear = ds.where(~ds.cloud_mask_clean)\n",
    "ds_clear = ds.sel(time=to_keep).where(~ds.cloud_mask_clean)\n",
    "ds_clear"
   ]
  },
  {
   "cell_type": "code",
   "execution_count": null,
   "id": "cd3f3af4-ea75-44bd-a380-f344407d512e",
   "metadata": {},
   "outputs": [],
   "source": [
    "# ds[['nbart_red', 'nbart_green', 'nbart_blue', 'aerosol_diff', 'cloud_mask', 'cloud_mask_clean']].load()"
   ]
  },
  {
   "cell_type": "code",
   "execution_count": null,
   "id": "920ae71a-4ff3-48d1-94b1-440c25054a08",
   "metadata": {},
   "outputs": [],
   "source": [
    "# for i in range(0, len(ds.time)):\n",
    "    \n",
    "#     fig, axes = plt.subplots(1, 4, figsize=(20, 5))\n",
    "\n",
    "#     ds_i = ds.isel(time=i).drop('spatial_ref')\n",
    "#     ds_i[['nbart_red', 'nbart_green', 'nbart_blue']].to_array().plot.imshow(vmin=50, vmax=3000, ax=axes[0])\n",
    "#     ds_i['aerosol_diff'].plot.imshow(vmin=0, vmax=2, cmap='RdBu_r', ax=axes[1])\n",
    "#     ds_i['cloud_mask'].plot.imshow(ax=axes[2], vmin=0, vmax=1)\n",
    "#     ds_i['cloud_mask_clean'].plot.imshow(ax=axes[3], vmin=0, vmax=1)\n",
    "\n",
    "#     for ax in axes:\n",
    "#         ax.set_title('')\n",
    "\n",
    "#     plt.suptitle('To keep' if to_keep.isel(time=i).item() else 'To drop');\n",
    "#     fig.savefig(f'cloud_mask_test/{i}.jpg')"
   ]
  },
  {
   "cell_type": "code",
   "execution_count": null,
   "id": "f487371c-9280-4158-a15d-487d5f111cc6",
   "metadata": {},
   "outputs": [],
   "source": [
    "# ds['cloud_mask'].mean(dim='time').plot.imshow()"
   ]
  },
  {
   "cell_type": "code",
   "execution_count": null,
   "id": "9b842931-f890-4598-896f-e06b83a3ac60",
   "metadata": {},
   "outputs": [],
   "source": [
    "# ds['cloud_mask'].sel(time=to_keep).mean(dim='time').plot.imshow()"
   ]
  },
  {
   "cell_type": "markdown",
   "id": "ae05f489-e624-49f1-b189-eb299bb1e25c",
   "metadata": {},
   "source": [
    "## Intertidal elevation"
   ]
  },
  {
   "cell_type": "code",
   "execution_count": null,
   "id": "ccf01e96-3f1c-4f23-88d5-d4cfe201ed4b",
   "metadata": {},
   "outputs": [],
   "source": [
    "# Calculate the water index\n",
    "calculate_indices(ds_clear,\n",
    "                  index='NDWI',\n",
    "                  collection='ga_ls_3', \n",
    "                  drop=True,\n",
    "                  inplace=True)\n"
   ]
  },
  {
   "cell_type": "code",
   "execution_count": null,
   "id": "be41eb06-d841-4457-95ae-690f7b0a02d5",
   "metadata": {},
   "outputs": [],
   "source": [
    "# Calculate tides for each timestep in the satellite dataset\n",
    "tidal_tag(ds=ds_clear, tidepost_lat=None, tidepost_lon=None)"
   ]
  },
  {
   "cell_type": "code",
   "execution_count": 3,
   "id": "cf1e421f-78a7-4dab-9939-d7337a84e9f7",
   "metadata": {},
   "outputs": [
    {
     "data": {
      "text/plain": [
       "[<matplotlib.lines.Line2D at 0x7fd092e71e50>]"
      ]
     },
     "execution_count": 3,
     "metadata": {},
     "output_type": "execute_result"
    },
    {
     "data": {
      "image/png": "[encoded data removed]",
      "text/plain": [
       "<Figure size 432x288 with 1 Axes>"
      ]
     },
     "metadata": {
      "needs_background": "light"
     },
     "output_type": "display_data"
    }
   ],
   "source": [
    "# Plot the resulting tide heights for each Landsat image:\n",
    "ds_clear.tide_height.plot()"
   ]
  },
  {
   "cell_type": "code",
   "execution_count": 7,
   "id": "1c72d7dd-7e54-4d9a-8800-26caf85c7173",
   "metadata": {},
   "outputs": [
    {
     "data": {
      "image/png": "[encoded data removed]",
      "text/plain": [
       "<Figure size 432x288 with 1 Axes>"
      ]
     },
     "metadata": {
      "needs_background": "light"
     },
     "output_type": "display_data"
    }
   ],
   "source": [
    "# classes\n",
    "n = 9\n",
    "\n",
    "# Sort every image by tide height\n",
    "ds_clear = ds_clear.sortby('tide_height')\n",
    "\n",
    "# Bin tide heights into 9 tidal intervals from low (1) to high tide (9)\n",
    "binInterval = np.linspace(ds_clear.tide_height.min(),\n",
    "                          ds_clear.tide_height.max(),\n",
    "                          num=n+1)\n",
    "tide_intervals = pd.cut(ds_clear.tide_height,\n",
    "                        bins=binInterval,\n",
    "                        labels=range(1, n+1),\n",
    "                        include_lowest=True)\n",
    "\n",
    "# Add interval to dataset\n",
    "ds_clear['tide_interval'] = xr.DataArray(tide_intervals, coords=[ds_clear.time])\n",
    "ds_clear.sortby('time').tide_height.plot()\n",
    "for i in binInterval: plt.axhline(i, c='black', alpha=0.5)"
   ]
  },
  {
   "cell_type": "code",
   "execution_count": null,
   "id": "f12a5e2a-cd9e-451c-a45a-f96ccd47d852",
   "metadata": {},
   "outputs": [],
   "source": [
    "# For each interval, compute the median water index and tide height value\n",
    "landsat_intervals = (ds_clear[['tide_interval', 'NDWI', 'tide_height']]\n",
    "                     .groupby('tide_interval')\n",
    "                     .median(dim='time')\n",
    "                     .compute())\n",
    "\n",
    "# Plot the resulting set of tidal intervals\n",
    "item = ((landsat_intervals.NDWI < 0) * landsat_intervals.tide_interval).max(dim='tide_interval')\n",
    "item.plot.imshow(cmap='RdYlBu_r')"
   ]
  },
  {
   "cell_type": "code",
   "execution_count": null,
   "id": "1f57ba74-d116-4b94-a704-2900e63a6b29",
   "metadata": {},
   "outputs": [],
   "source": [
    "# Set up attributes to assign to each waterline\n",
    "attribute_df = pd.DataFrame({'tide_m': landsat_intervals.tide_height.values})\n",
    "\n",
    "# Extract waterlines\n",
    "contours_gdf = subpixel_contours(da=item,\n",
    "                                 z_values=[i - 0.5 for i in range(1, n)],\n",
    "                                 crs=ds_clear.crs,\n",
    "                                 affine=ds_clear.geobox.transform,\n",
    "                                 attribute_df=attribute_df,\n",
    "                                 min_vertices=2,  #20,\n",
    "                                 output_path='tide_intervals.geojson',\n",
    "                                 dim='tide_interval')\n",
    "contours_gdf.explore(column='tide_m')"
   ]
  },
  {
   "cell_type": "code",
   "execution_count": null,
   "id": "b2a75ee7-928a-447b-8fde-bc6befebdac1",
   "metadata": {},
   "outputs": [],
   "source": [
    "# First convert our contours shapefile into an array of XYZ points\n",
    "xyz_array = contours_to_arrays(contours_gdf, 'tide_m')\n",
    "\n",
    "# Interpolate these XYZ points over the spatial extent of the Landsat dataset\n",
    "intertidal_dem = interpolate_2d(ds=landsat_intervals,\n",
    "                                x_coords=xyz_array[:, 0],\n",
    "                                y_coords=xyz_array[:, 1],\n",
    "                                z_coords=xyz_array[:, 2])\n",
    "\n",
    "# Identify areas that are always wet (e.g. below low tide), or always dry\n",
    "above_lowest = landsat_intervals.isel(tide_interval=0).NDWI < 0\n",
    "below_highest = landsat_intervals.isel(tide_interval=-1).NDWI > 0\n",
    "\n",
    "# Keep only pixels between high and low tide\n",
    "intertidal_dem_clean = intertidal_dem.where(above_lowest & below_highest)\n",
    "\n",
    "# Plot the cleaned dataset\n",
    "intertidal_dem_clean.plot(cmap='viridis', size=8)\n",
    "plt.show()"
   ]
  },
  {
   "cell_type": "code",
   "execution_count": null,
   "id": "4ac0b275-b39e-4cc7-a4b3-fb2cd288d79f",
   "metadata": {},
   "outputs": [],
   "source": [
    "# Export as a GeoTIFF\n",
    "write_cog(geo_im=intertidal_dem_clean, \n",
    "          fname=f'intertidal_dem_{aoi}3.tif', \n",
    "          overwrite=True)"
   ]
  },
  {
   "cell_type": "markdown",
   "id": "cb3b14f5-1b1c-41ec-bf1b-f707c5c140e4",
   "metadata": {},
   "source": [
    "## Rolling experiments"
   ]
  },
  {
   "cell_type": "code",
   "execution_count": null,
   "id": "58914d46-ec97-49ef-80bf-d21ae5cad570",
   "metadata": {},
   "outputs": [],
   "source": [
    "# ds_clear.NDWI.load()"
   ]
  },
  {
   "cell_type": "code",
   "execution_count": 5,
   "id": "31646bc9-71c1-4d21-8bbd-f17004a40177",
   "metadata": {},
   "outputs": [],
   "source": [
    "import pickle\n",
    "with open('ds_clear.pickle', 'rb') as handle:\n",
    "    ds_clear = pickle.load(handle)"
   ]
  },
  {
   "cell_type": "code",
   "execution_count": 6,
   "id": "5b512a4f-bd05-4e49-abc3-5490711a8608",
   "metadata": {},
   "outputs": [
    {
     "data": {
      "text/html": [
       "<div><svg style=\"position: absolute; width: 0; height: 0; overflow: hidden\">\n",
       "<defs>\n",
       "<symbol id=\"icon-database\" viewBox=\"0 0 32 32\">\n",
       "<path d=\"M16 0c-8.837 0-16 2.239-16 5v4c0 2.761 7.163 5 16 5s16-2.239 16-5v-4c0-2.761-7.163-5-16-5z\"></path>\n",
       "<path d=\"M16 17c-8.837 0-16-2.239-16-5v6c0 2.761 7.163 5 16 5s16-2.239 16-5v-6c0 2.761-7.163 5-16 5z\"></path>\n",
       "<path d=\"M16 26c-8.837 0-16-2.239-16-5v6c0 2.761 7.163 5 16 5s16-2.239 16-5v-6c0 2.761-7.163 5-16 5z\"></path>\n",
       "</symbol>\n",
       "<symbol id=\"icon-file-text2\" viewBox=\"0 0 32 32\">\n",
       "<path d=\"M28.681 7.159c-0.694-0.947-1.662-2.053-2.724-3.116s-2.169-2.030-3.116-2.724c-1.612-1.182-2.393-1.319-2.841-1.319h-15.5c-1.378 0-2.5 1.121-2.5 2.5v27c0 1.378 1.122 2.5 2.5 2.5h23c1.378 0 2.5-1.122 2.5-2.5v-19.5c0-0.448-0.137-1.23-1.319-2.841zM24.543 5.457c0.959 0.959 1.712 1.825 2.268 2.543h-4.811v-4.811c0.718 0.556 1.584 1.309 2.543 2.268zM28 29.5c0 0.271-0.229 0.5-0.5 0.5h-23c-0.271 0-0.5-0.229-0.5-0.5v-27c0-0.271 0.229-0.5 0.5-0.5 0 0 15.499-0 15.5 0v7c0 0.552 0.448 1 1 1h7v19.5z\"></path>\n",
       "<path d=\"M23 26h-14c-0.552 0-1-0.448-1-1s0.448-1 1-1h14c0.552 0 1 0.448 1 1s-0.448 1-1 1z\"></path>\n",
       "<path d=\"M23 22h-14c-0.552 0-1-0.448-1-1s0.448-1 1-1h14c0.552 0 1 0.448 1 1s-0.448 1-1 1z\"></path>\n",
       "<path d=\"M23 18h-14c-0.552 0-1-0.448-1-1s0.448-1 1-1h14c0.552 0 1 0.448 1 1s-0.448 1-1 1z\"></path>\n",
       "</symbol>\n",
       "</defs>\n",
       "</svg>\n",
       "<style>/* CSS stylesheet for displaying xarray objects in jupyterlab.\n",
       " *\n",
       " */\n",
       "\n",
       ":root {\n",
       "  --xr-font-color0: var(--jp-content-font-color0, rgba(0, 0, 0, 1));\n",
       "  --xr-font-color2: var(--jp-content-font-color2, rgba(0, 0, 0, 0.54));\n",
       "  --xr-font-color3: var(--jp-content-font-color3, rgba(0, 0, 0, 0.38));\n",
       "  --xr-border-color: var(--jp-border-color2, #e0e0e0);\n",
       "  --xr-disabled-color: var(--jp-layout-color3, #bdbdbd);\n",
       "  --xr-background-color: var(--jp-layout-color0, white);\n",
       "  --xr-background-color-row-even: var(--jp-layout-color1, white);\n",
       "  --xr-background-color-row-odd: var(--jp-layout-color2, #eeeeee);\n",
       "}\n",
       "\n",
       "html[theme=dark],\n",
       "body.vscode-dark {\n",
       "  --xr-font-color0: rgba(255, 255, 255, 1);\n",
       "  --xr-font-color2: rgba(255, 255, 255, 0.54);\n",
       "  --xr-font-color3: rgba(255, 255, 255, 0.38);\n",
       "  --xr-border-color: #1F1F1F;\n",
       "  --xr-disabled-color: #515151;\n",
       "  --xr-background-color: #111111;\n",
       "  --xr-background-color-row-even: #111111;\n",
       "  --xr-background-color-row-odd: #313131;\n",
       "}\n",
       "\n",
       ".xr-wrap {\n",
       "  display: block !important;\n",
       "  min-width: 300px;\n",
       "  max-width: 700px;\n",
       "}\n",
       "\n",
       ".xr-text-repr-fallback {\n",
       "  /* fallback to plain text repr when CSS is not injected (untrusted notebook) */\n",
       "  display: none;\n",
       "}\n",
       "\n",
       ".xr-header {\n",
       "  padding-top: 6px;\n",
       "  padding-bottom: 6px;\n",
       "  margin-bottom: 4px;\n",
       "  border-bottom: solid 1px var(--xr-border-color);\n",
       "}\n",
       "\n",
       ".xr-header > div,\n",
       ".xr-header > ul {\n",
       "  display: inline;\n",
       "  margin-top: 0;\n",
       "  margin-bottom: 0;\n",
       "}\n",
       "\n",
       ".xr-obj-type,\n",
       ".xr-array-name {\n",
       "  margin-left: 2px;\n",
       "  margin-right: 10px;\n",
       "}\n",
       "\n",
       ".xr-obj-type {\n",
       "  color: var(--xr-font-color2);\n",
       "}\n",
       "\n",
       ".xr-sections {\n",
       "  padding-left: 0 !important;\n",
       "  display: grid;\n",
       "  grid-template-columns: 150px auto auto 1fr 20px 20px;\n",
       "}\n",
       "\n",
       ".xr-section-item {\n",
       "  display: contents;\n",
       "}\n",
       "\n",
       ".xr-section-item input {\n",
       "  display: none;\n",
       "}\n",
       "\n",
       ".xr-section-item input + label {\n",
       "  color: var(--xr-disabled-color);\n",
       "}\n",
       "\n",
       ".xr-section-item input:enabled + label {\n",
       "  cursor: pointer;\n",
       "  color: var(--xr-font-color2);\n",
       "}\n",
       "\n",
       ".xr-section-item input:enabled + label:hover {\n",
       "  color: var(--xr-font-color0);\n",
       "}\n",
       "\n",
       ".xr-section-summary {\n",
       "  grid-column: 1;\n",
       "  color: var(--xr-font-color2);\n",
       "  font-weight: 500;\n",
       "}\n",
       "\n",
       ".xr-section-summary > span {\n",
       "  display: inline-block;\n",
       "  padding-left: 0.5em;\n",
       "}\n",
       "\n",
       ".xr-section-summary-in:disabled + label {\n",
       "  color: var(--xr-font-color2);\n",
       "}\n",
       "\n",
       ".xr-section-summary-in + label:before {\n",
       "  display: inline-block;\n",
       "  content: '►';\n",
       "  font-size: 11px;\n",
       "  width: 15px;\n",
       "  text-align: center;\n",
       "}\n",
       "\n",
       ".xr-section-summary-in:disabled + label:before {\n",
       "  color: var(--xr-disabled-color);\n",
       "}\n",
       "\n",
       ".xr-section-summary-in:checked + label:before {\n",
       "  content: '▼';\n",
       "}\n",
       "\n",
       ".xr-section-summary-in:checked + label > span {\n",
       "  display: none;\n",
       "}\n",
       "\n",
       ".xr-section-summary,\n",
       ".xr-section-inline-details {\n",
       "  padding-top: 4px;\n",
       "  padding-bottom: 4px;\n",
       "}\n",
       "\n",
       ".xr-section-inline-details {\n",
       "  grid-column: 2 / -1;\n",
       "}\n",
       "\n",
       ".xr-section-details {\n",
       "  display: none;\n",
       "  grid-column: 1 / -1;\n",
       "  margin-bottom: 5px;\n",
       "}\n",
       "\n",
       ".xr-section-summary-in:checked ~ .xr-section-details {\n",
       "  display: contents;\n",
       "}\n",
       "\n",
       ".xr-array-wrap {\n",
       "  grid-column: 1 / -1;\n",
       "  display: grid;\n",
       "  grid-template-columns: 20px auto;\n",
       "}\n",
       "\n",
       ".xr-array-wrap > label {\n",
       "  grid-column: 1;\n",
       "  vertical-align: top;\n",
       "}\n",
       "\n",
       ".xr-preview {\n",
       "  color: var(--xr-font-color3);\n",
       "}\n",
       "\n",
       ".xr-array-preview,\n",
       ".xr-array-data {\n",
       "  padding: 0 5px !important;\n",
       "  grid-column: 2;\n",
       "}\n",
       "\n",
       ".xr-array-data,\n",
       ".xr-array-in:checked ~ .xr-array-preview {\n",
       "  display: none;\n",
       "}\n",
       "\n",
       ".xr-array-in:checked ~ .xr-array-data,\n",
       ".xr-array-preview {\n",
       "  display: inline-block;\n",
       "}\n",
       "\n",
       ".xr-dim-list {\n",
       "  display: inline-block !important;\n",
       "  list-style: none;\n",
       "  padding: 0 !important;\n",
       "  margin: 0;\n",
       "}\n",
       "\n",
       ".xr-dim-list li {\n",
       "  display: inline-block;\n",
       "  padding: 0;\n",
       "  margin: 0;\n",
       "}\n",
       "\n",
       ".xr-dim-list:before {\n",
       "  content: '(';\n",
       "}\n",
       "\n",
       ".xr-dim-list:after {\n",
       "  content: ')';\n",
       "}\n",
       "\n",
       ".xr-dim-list li:not(:last-child):after {\n",
       "  content: ',';\n",
       "  padding-right: 5px;\n",
       "}\n",
       "\n",
       ".xr-has-index {\n",
       "  font-weight: bold;\n",
       "}\n",
       "\n",
       ".xr-var-list,\n",
       ".xr-var-item {\n",
       "  display: contents;\n",
       "}\n",
       "\n",
       ".xr-var-item > div,\n",
       ".xr-var-item label,\n",
       ".xr-var-item > .xr-var-name span {\n",
       "  background-color: var(--xr-background-color-row-even);\n",
       "  margin-bottom: 0;\n",
       "}\n",
       "\n",
       ".xr-var-item > .xr-var-name:hover span {\n",
       "  padding-right: 5px;\n",
       "}\n",
       "\n",
       ".xr-var-list > li:nth-child(odd) > div,\n",
       ".xr-var-list > li:nth-child(odd) > label,\n",
       ".xr-var-list > li:nth-child(odd) > .xr-var-name span {\n",
       "  background-color: var(--xr-background-color-row-odd);\n",
       "}\n",
       "\n",
       ".xr-var-name {\n",
       "  grid-column: 1;\n",
       "}\n",
       "\n",
       ".xr-var-dims {\n",
       "  grid-column: 2;\n",
       "}\n",
       "\n",
       ".xr-var-dtype {\n",
       "  grid-column: 3;\n",
       "  text-align: right;\n",
       "  color: var(--xr-font-color2);\n",
       "}\n",
       "\n",
       ".xr-var-preview {\n",
       "  grid-column: 4;\n",
       "}\n",
       "\n",
       ".xr-var-name,\n",
       ".xr-var-dims,\n",
       ".xr-var-dtype,\n",
       ".xr-preview,\n",
       ".xr-attrs dt {\n",
       "  white-space: nowrap;\n",
       "  overflow: hidden;\n",
       "  text-overflow: ellipsis;\n",
       "  padding-right: 10px;\n",
       "}\n",
       "\n",
       ".xr-var-name:hover,\n",
       ".xr-var-dims:hover,\n",
       ".xr-var-dtype:hover,\n",
       ".xr-attrs dt:hover {\n",
       "  overflow: visible;\n",
       "  width: auto;\n",
       "  z-index: 1;\n",
       "}\n",
       "\n",
       ".xr-var-attrs,\n",
       ".xr-var-data {\n",
       "  display: none;\n",
       "  background-color: var(--xr-background-color) !important;\n",
       "  padding-bottom: 5px !important;\n",
       "}\n",
       "\n",
       ".xr-var-attrs-in:checked ~ .xr-var-attrs,\n",
       ".xr-var-data-in:checked ~ .xr-var-data {\n",
       "  display: block;\n",
       "}\n",
       "\n",
       ".xr-var-data > table {\n",
       "  float: right;\n",
       "}\n",
       "\n",
       ".xr-var-name span,\n",
       ".xr-var-data,\n",
       ".xr-attrs {\n",
       "  padding-left: 25px !important;\n",
       "}\n",
       "\n",
       ".xr-attrs,\n",
       ".xr-var-attrs,\n",
       ".xr-var-data {\n",
       "  grid-column: 1 / -1;\n",
       "}\n",
       "\n",
       "dl.xr-attrs {\n",
       "  padding: 0;\n",
       "  margin: 0;\n",
       "  display: grid;\n",
       "  grid-template-columns: 125px auto;\n",
       "}\n",
       "\n",
       ".xr-attrs dt,\n",
       ".xr-attrs dd {\n",
       "  padding: 0;\n",
       "  margin: 0;\n",
       "  float: left;\n",
       "  padding-right: 10px;\n",
       "  width: auto;\n",
       "}\n",
       "\n",
       ".xr-attrs dt {\n",
       "  font-weight: normal;\n",
       "  grid-column: 1;\n",
       "}\n",
       "\n",
       ".xr-attrs dt:hover span {\n",
       "  display: inline-block;\n",
       "  background: var(--xr-background-color);\n",
       "  padding-right: 10px;\n",
       "}\n",
       "\n",
       ".xr-attrs dd {\n",
       "  grid-column: 2;\n",
       "  white-space: pre-wrap;\n",
       "  word-break: break-all;\n",
       "}\n",
       "\n",
       ".xr-icon-database,\n",
       ".xr-icon-file-text2 {\n",
       "  display: inline-block;\n",
       "  vertical-align: middle;\n",
       "  width: 1em;\n",
       "  height: 1.5em !important;\n",
       "  stroke-width: 0;\n",
       "  stroke: currentColor;\n",
       "  fill: currentColor;\n",
       "}\n",
       "</style><pre class='xr-text-repr-fallback'>&lt;xarray.Dataset&gt;\n",
       "Dimensions:      (time: 337, y: 685, x: 644)\n",
       "Coordinates:\n",
       "  * time         (time) datetime64[ns] 2017-01-21T00:53:13.103994 ... 2021-12...\n",
       "  * y            (y) float64 8.205e+06 8.205e+06 ... 8.198e+06 8.198e+06\n",
       "  * x            (x) float64 7.889e+05 7.889e+05 ... 7.953e+05 7.953e+05\n",
       "    spatial_ref  int32 32753\n",
       "Data variables:\n",
       "    NDWI         (time, y, x) float64 0.897 0.897 0.897 ... 0.08621 0.2228\n",
       "    tide_height  (time) float64 -0.155 -0.31 0.153 ... -0.371 -0.888 -0.056\n",
       "Attributes:\n",
       "    crs:           epsg:32753\n",
       "    grid_mapping:  spatial_ref</pre><div class='xr-wrap' style='display:none'><div class='xr-header'><div class='xr-obj-type'>xarray.Dataset</div></div><ul class='xr-sections'><li class='xr-section-item'><input id='section-a5a9c1f6-c6b0-4218-915f-d68b3aeea752' class='xr-section-summary-in' type='checkbox' disabled ><label for='section-a5a9c1f6-c6b0-4218-915f-d68b3aeea752' class='xr-section-summary'  title='Expand/collapse section'>Dimensions:</label><div class='xr-section-inline-details'><ul class='xr-dim-list'><li><span class='xr-has-index'>time</span>: 337</li><li><span class='xr-has-index'>y</span>: 685</li><li><span class='xr-has-index'>x</span>: 644</li></ul></div><div class='xr-section-details'></div></li><li class='xr-section-item'><input id='section-83f7bf68-57a4-4679-b24d-f2c1e2ec7b95' class='xr-section-summary-in' type='checkbox'  checked><label for='section-83f7bf68-57a4-4679-b24d-f2c1e2ec7b95' class='xr-section-summary' >Coordinates: <span>(4)</span></label><div class='xr-section-inline-details'></div><div class='xr-section-details'><ul class='xr-var-list'><li class='xr-var-item'><div class='xr-var-name'><span class='xr-has-index'>time</span></div><div class='xr-var-dims'>(time)</div><div class='xr-var-dtype'>datetime64[ns]</div><div class='xr-var-preview xr-preview'>2017-01-21T00:53:13.103994 ... 2...</div><input id='attrs-6900d9f3-e799-4be3-98b4-195a3d4d72dd' class='xr-var-attrs-in' type='checkbox' ><label for='attrs-6900d9f3-e799-4be3-98b4-195a3d4d72dd' title='Show/Hide attributes'><svg class='icon xr-icon-file-text2'><use xlink:href='#icon-file-text2'></use></svg></label><input id='data-1478085d-6fa1-4560-a8a5-a4b06421acb0' class='xr-var-data-in' type='checkbox'><label for='data-1478085d-6fa1-4560-a8a5-a4b06421acb0' title='Show/Hide data repr'><svg class='icon xr-icon-database'><use xlink:href='#icon-database'></use></svg></label><div class='xr-var-attrs'><dl class='xr-attrs'><dt><span>units :</span></dt><dd>seconds since 1970-01-01 00:00:00</dd></dl></div><div class='xr-var-data'><pre>array([&#x27;2017-01-21T00:53:13.103994000&#x27;, &#x27;2017-01-26T01:07:20.460000000&#x27;,\n",
       "       &#x27;2017-03-07T01:07:20.456000000&#x27;, ..., &#x27;2021-12-18T00:53:25.656476000&#x27;,\n",
       "       &#x27;2021-12-21T01:11:35.812382000&#x27;, &#x27;2021-12-31T01:11:36.544992000&#x27;],\n",
       "      dtype=&#x27;datetime64[ns]&#x27;)</pre></div></li><li class='xr-var-item'><div class='xr-var-name'><span class='xr-has-index'>y</span></div><div class='xr-var-dims'>(y)</div><div class='xr-var-dtype'>float64</div><div class='xr-var-preview xr-preview'>8.205e+06 8.205e+06 ... 8.198e+06</div><input id='attrs-8727a21e-36a5-4e5f-8cee-d10ff796a0cc' class='xr-var-attrs-in' type='checkbox' ><label for='attrs-8727a21e-36a5-4e5f-8cee-d10ff796a0cc' title='Show/Hide attributes'><svg class='icon xr-icon-file-text2'><use xlink:href='#icon-file-text2'></use></svg></label><input id='data-3e872026-41be-4744-bed1-eb2da6c1ab53' class='xr-var-data-in' type='checkbox'><label for='data-3e872026-41be-4744-bed1-eb2da6c1ab53' title='Show/Hide data repr'><svg class='icon xr-icon-database'><use xlink:href='#icon-database'></use></svg></label><div class='xr-var-attrs'><dl class='xr-attrs'><dt><span>units :</span></dt><dd>metre</dd><dt><span>resolution :</span></dt><dd>-10.0</dd><dt><span>crs :</span></dt><dd>epsg:32753</dd></dl></div><div class='xr-var-data'><pre>array([8205015., 8205005., 8204995., ..., 8198195., 8198185., 8198175.])</pre></div></li><li class='xr-var-item'><div class='xr-var-name'><span class='xr-has-index'>x</span></div><div class='xr-var-dims'>(x)</div><div class='xr-var-dtype'>float64</div><div class='xr-var-preview xr-preview'>7.889e+05 7.889e+05 ... 7.953e+05</div><input id='attrs-fbbfe506-c602-4d0b-88ee-d4c5d810e5fc' class='xr-var-attrs-in' type='checkbox' ><label for='attrs-fbbfe506-c602-4d0b-88ee-d4c5d810e5fc' title='Show/Hide attributes'><svg class='icon xr-icon-file-text2'><use xlink:href='#icon-file-text2'></use></svg></label><input id='data-bfd235ad-3953-4a5d-8b3b-ae52a80bdd50' class='xr-var-data-in' type='checkbox'><label for='data-bfd235ad-3953-4a5d-8b3b-ae52a80bdd50' title='Show/Hide data repr'><svg class='icon xr-icon-database'><use xlink:href='#icon-database'></use></svg></label><div class='xr-var-attrs'><dl class='xr-attrs'><dt><span>units :</span></dt><dd>metre</dd><dt><span>resolution :</span></dt><dd>10.0</dd><dt><span>crs :</span></dt><dd>epsg:32753</dd></dl></div><div class='xr-var-data'><pre>array([788865., 788875., 788885., ..., 795275., 795285., 795295.])</pre></div></li><li class='xr-var-item'><div class='xr-var-name'><span>spatial_ref</span></div><div class='xr-var-dims'>()</div><div class='xr-var-dtype'>int32</div><div class='xr-var-preview xr-preview'>32753</div><input id='attrs-b1806ea2-6845-4813-b742-0f9d33b1897e' class='xr-var-attrs-in' type='checkbox' ><label for='attrs-b1806ea2-6845-4813-b742-0f9d33b1897e' title='Show/Hide attributes'><svg class='icon xr-icon-file-text2'><use xlink:href='#icon-file-text2'></use></svg></label><input id='data-aa63c2f2-be2e-4f42-9315-97ef83b06910' class='xr-var-data-in' type='checkbox'><label for='data-aa63c2f2-be2e-4f42-9315-97ef83b06910' title='Show/Hide data repr'><svg class='icon xr-icon-database'><use xlink:href='#icon-database'></use></svg></label><div class='xr-var-attrs'><dl class='xr-attrs'><dt><span>spatial_ref :</span></dt><dd>PROJCS[&quot;WGS 84 / UTM zone 53S&quot;,GEOGCS[&quot;WGS 84&quot;,DATUM[&quot;WGS_1984&quot;,SPHEROID[&quot;WGS 84&quot;,6378137,298.257223563,AUTHORITY[&quot;EPSG&quot;,&quot;7030&quot;]],AUTHORITY[&quot;EPSG&quot;,&quot;6326&quot;]],PRIMEM[&quot;Greenwich&quot;,0,AUTHORITY[&quot;EPSG&quot;,&quot;8901&quot;]],UNIT[&quot;degree&quot;,0.0174532925199433,AUTHORITY[&quot;EPSG&quot;,&quot;9122&quot;]],AUTHORITY[&quot;EPSG&quot;,&quot;4326&quot;]],PROJECTION[&quot;Transverse_Mercator&quot;],PARAMETER[&quot;latitude_of_origin&quot;,0],PARAMETER[&quot;central_meridian&quot;,135],PARAMETER[&quot;scale_factor&quot;,0.9996],PARAMETER[&quot;false_easting&quot;,500000],PARAMETER[&quot;false_northing&quot;,10000000],UNIT[&quot;metre&quot;,1,AUTHORITY[&quot;EPSG&quot;,&quot;9001&quot;]],AXIS[&quot;Easting&quot;,EAST],AXIS[&quot;Northing&quot;,NORTH],AUTHORITY[&quot;EPSG&quot;,&quot;32753&quot;]]</dd><dt><span>grid_mapping_name :</span></dt><dd>transverse_mercator</dd></dl></div><div class='xr-var-data'><pre>array(32753, dtype=int32)</pre></div></li></ul></div></li><li class='xr-section-item'><input id='section-e1acb7f1-22c1-415e-96a3-13810cc38088' class='xr-section-summary-in' type='checkbox'  checked><label for='section-e1acb7f1-22c1-415e-96a3-13810cc38088' class='xr-section-summary' >Data variables: <span>(2)</span></label><div class='xr-section-inline-details'></div><div class='xr-section-details'><ul class='xr-var-list'><li class='xr-var-item'><div class='xr-var-name'><span>NDWI</span></div><div class='xr-var-dims'>(time, y, x)</div><div class='xr-var-dtype'>float64</div><div class='xr-var-preview xr-preview'>0.897 0.897 ... 0.08621 0.2228</div><input id='attrs-81ad4f33-c0ef-4152-834b-03db9ca262ea' class='xr-var-attrs-in' type='checkbox' disabled><label for='attrs-81ad4f33-c0ef-4152-834b-03db9ca262ea' title='Show/Hide attributes'><svg class='icon xr-icon-file-text2'><use xlink:href='#icon-file-text2'></use></svg></label><input id='data-74561b47-3f77-4dd6-844b-2b94e1345700' class='xr-var-data-in' type='checkbox'><label for='data-74561b47-3f77-4dd6-844b-2b94e1345700' title='Show/Hide data repr'><svg class='icon xr-icon-database'><use xlink:href='#icon-database'></use></svg></label><div class='xr-var-attrs'><dl class='xr-attrs'></dl></div><div class='xr-var-data'><pre>array([[[ 0.89704272,  0.89704272,  0.89704272, ...,  0.92030361,\n",
       "          0.92424242,  0.9280303 ],\n",
       "        [ 0.8992333 ,  0.89704272,  0.89704272, ...,  0.92030361,\n",
       "          0.92409867,  0.9280303 ],\n",
       "        [ 0.89901207,  0.89901207,  0.89901207, ...,  0.92045455,\n",
       "          0.92060491,  0.92424242],\n",
       "        ...,\n",
       "        [-0.46575342, -0.45472015, -0.45472015, ...,  0.84186047,\n",
       "          0.84741784,  0.85088757],\n",
       "        [-0.42576157, -0.41063929, -0.41063929, ...,  0.83427923,\n",
       "          0.84101382,  0.84777518],\n",
       "        [-0.38714992, -0.3685643 , -0.3685643 , ...,  0.82522124,\n",
       "          0.83484163,  0.84490741]],\n",
       "\n",
       "       [[ 0.35809524,  0.36098021,  0.35502122, ...,  0.3640416 ,\n",
       "          0.36945071,  0.38030303],\n",
       "        [ 0.3460076 ,  0.35721108,  0.35058824, ...,  0.37463127,\n",
       "          0.38206481,  0.36716418],\n",
       "        [ 0.35333333,  0.34890372,  0.35208626, ...,  0.37895511,\n",
       "          0.38662791,  0.36336336],\n",
       "...\n",
       "        [        nan,         nan,         nan, ..., -0.01835443,\n",
       "         -0.01851852, -0.01190093],\n",
       "        [        nan,         nan,         nan, ..., -0.02272727,\n",
       "         -0.02257552, -0.0178117 ],\n",
       "        [        nan,         nan,         nan, ..., -0.01315789,\n",
       "         -0.00473634, -0.01625757]],\n",
       "\n",
       "       [[ 0.30554398,  0.31543624,  0.29529363, ...,  0.38506876,\n",
       "          0.41566555,  0.35203095],\n",
       "        [ 0.29598662,  0.30673317,  0.30682294, ...,  0.40151515,\n",
       "          0.3655761 ,  0.35858102],\n",
       "        [ 0.30993658,  0.32659081,  0.30004161, ...,  0.40520446,\n",
       "          0.36211454,  0.35707763],\n",
       "        ...,\n",
       "        [-0.58069775, -0.56048765, -0.56981132, ...,  0.01231923,\n",
       "          0.06044905,  0.18169209],\n",
       "        [-0.56122779, -0.5483871 , -0.54946826, ..., -0.00550661,\n",
       "          0.12      ,  0.21178121],\n",
       "        [-0.55274262, -0.54612665, -0.54800396, ..., -0.0151753 ,\n",
       "          0.0862069 ,  0.22277228]]])</pre></div></li><li class='xr-var-item'><div class='xr-var-name'><span>tide_height</span></div><div class='xr-var-dims'>(time)</div><div class='xr-var-dtype'>float64</div><div class='xr-var-preview xr-preview'>-0.155 -0.31 ... -0.888 -0.056</div><input id='attrs-f912d146-6c33-4bc6-b137-45b357573b9c' class='xr-var-attrs-in' type='checkbox' disabled><label for='attrs-f912d146-6c33-4bc6-b137-45b357573b9c' title='Show/Hide attributes'><svg class='icon xr-icon-file-text2'><use xlink:href='#icon-file-text2'></use></svg></label><input id='data-e6236d39-722f-497a-abdc-74c0be9bfc8f' class='xr-var-data-in' type='checkbox'><label for='data-e6236d39-722f-497a-abdc-74c0be9bfc8f' title='Show/Hide data repr'><svg class='icon xr-icon-database'><use xlink:href='#icon-database'></use></svg></label><div class='xr-var-attrs'><dl class='xr-attrs'></dl></div><div class='xr-var-data'><pre>array([-0.155, -0.31 ,  0.153, -0.127, -0.197, -0.098,  0.164,  0.09 ,\n",
       "        0.318,  0.291,  0.454,  0.545,  0.412,  0.39 ,  0.341,  0.334,\n",
       "        0.394,  0.236,  0.382,  0.707,  0.147,  0.52 , -0.043,  0.148,\n",
       "        0.302,  0.391,  0.496,  0.469, -0.123, -0.255,  0.015, -0.474,\n",
       "        0.16 , -0.301, -0.806, -1.192, -1.175, -0.281, -0.263, -0.941,\n",
       "       -0.378, -0.283, -0.746, -0.431, -0.027,  0.018, -0.504,  0.016,\n",
       "       -0.389,  0.217, -0.261,  0.156,  0.19 , -0.054, -0.069,  0.31 ,\n",
       "        0.273,  0.101,  0.169,  0.365,  0.284,  0.292,  0.319,  0.512,\n",
       "        0.36 ,  0.458,  0.451,  0.394,  0.373,  0.636,  0.632,  0.423,\n",
       "        0.454,  0.559,  0.399,  0.303,  0.422,  0.75 ,  0.247,  0.171,\n",
       "        0.489,  0.507,  0.106,  0.077,  0.492,  0.503, -0.091,  0.061,\n",
       "        0.496,  0.249, -0.229,  0.051,  0.558, -0.064, -0.253,  0.289,\n",
       "        0.425, -0.208, -0.434,  0.417,  0.428, -0.296,  0.22 , -0.716,\n",
       "        0.062, -0.2  , -0.923, -0.056, -0.522, -0.252, -0.324, -0.942,\n",
       "       -0.256, -1.244, -1.219, -0.564, -0.901, -0.917, -0.143, -0.931,\n",
       "       -0.287,  0.023, -0.732,  0.113,  0.049, -0.55 , -0.204,  0.16 ,\n",
       "        0.162,  0.045, -0.213,  0.227,  0.206,  0.048,  0.051,  0.397,\n",
       "        0.19 ,  0.207,  0.479,  0.315,  0.337,  0.415,  0.483,  0.471,\n",
       "        0.585,  0.602,  0.33 ,  0.721,  0.652,  0.277,  0.58 ,  0.529,\n",
       "        0.32 ,  0.151,  0.529,  0.587,  0.072,  0.599,  0.264, -0.078,\n",
       "...\n",
       "       -0.084, -0.729, -0.083, -0.969, -0.02 , -0.878, -0.411, -0.434,\n",
       "       -0.199, -0.045,  0.025, -0.681,  0.144,  0.24 , -0.051, -0.338,\n",
       "        0.185,  0.221,  0.082,  0.42 ,  0.091,  0.066,  0.127,  0.415,\n",
       "        0.179,  0.226,  0.458,  0.431,  0.273,  0.467,  0.485,  0.444,\n",
       "        0.445,  0.598,  0.645,  0.366,  0.64 ,  0.666,  0.582,  0.214,\n",
       "        0.578,  0.595,  0.126,  0.723,  0.281,  0.139,  0.027,  0.662,\n",
       "        0.149, -0.189, -0.006,  0.611, -0.179, -0.277, -0.092,  0.591,\n",
       "       -0.548, -0.137,  0.041,  0.278, -0.619, -0.055, -0.125,  0.207,\n",
       "       -1.017,  0.221, -0.152, -0.88 , -0.121, -0.375, -1.053,  0.009,\n",
       "       -0.52 , -0.995, -0.635, -0.87 , -0.852, -0.914, -0.034, -0.97 ,\n",
       "       -1.077, -0.493, -0.813, -0.114,  0.082, -0.199, -0.448, -0.092,\n",
       "       -0.248,  0.408,  0.326, -0.078,  0.088,  0.358,  0.254,  0.094,\n",
       "        0.431,  0.19 ,  0.213,  0.436,  0.432,  0.322,  0.726,  0.374,\n",
       "        0.445,  0.451,  0.579,  0.402,  0.659,  0.284,  0.594,  0.668,\n",
       "        0.551,  0.219,  0.828,  0.658,  0.315,  0.147,  0.688,  0.383,\n",
       "        0.214,  0.078, -0.162, -0.177,  0.08 ,  0.605, -0.41 , -0.482,\n",
       "        0.148,  0.329, -0.605,  0.087,  0.212, -0.925, -0.202,  0.222,\n",
       "       -0.224, -0.803, -0.059,  0.04 , -0.381, -1.021,  0.121,  0.105,\n",
       "       -0.634, -0.845, -0.027, -0.003, -0.803, -0.059, -0.371, -0.888,\n",
       "       -0.056])</pre></div></li></ul></div></li><li class='xr-section-item'><input id='section-4a524a89-b9d4-4c02-b9ba-f17fa1c4b333' class='xr-section-summary-in' type='checkbox'  checked><label for='section-4a524a89-b9d4-4c02-b9ba-f17fa1c4b333' class='xr-section-summary' >Attributes: <span>(2)</span></label><div class='xr-section-inline-details'></div><div class='xr-section-details'><dl class='xr-attrs'><dt><span>crs :</span></dt><dd>epsg:32753</dd><dt><span>grid_mapping :</span></dt><dd>spatial_ref</dd></dl></div></li></ul></div></div>"
      ],
      "text/plain": [
       "<xarray.Dataset>\n",
       "Dimensions:      (time: 337, y: 685, x: 644)\n",
       "Coordinates:\n",
       "  * time         (time) datetime64[ns] 2017-01-21T00:53:13.103994 ... 2021-12...\n",
       "  * y            (y) float64 8.205e+06 8.205e+06 ... 8.198e+06 8.198e+06\n",
       "  * x            (x) float64 7.889e+05 7.889e+05 ... 7.953e+05 7.953e+05\n",
       "    spatial_ref  int32 32753\n",
       "Data variables:\n",
       "    NDWI         (time, y, x) float64 0.897 0.897 0.897 ... 0.08621 0.2228\n",
       "    tide_height  (time) float64 -0.155 -0.31 0.153 ... -0.371 -0.888 -0.056\n",
       "Attributes:\n",
       "    crs:           epsg:32753\n",
       "    grid_mapping:  spatial_ref"
      ]
     },
     "execution_count": 6,
     "metadata": {},
     "output_type": "execute_result"
    }
   ],
   "source": [
    "ds_clear"
   ]
  },
  {
   "cell_type": "code",
   "execution_count": null,
   "id": "a582a7fe-c317-449d-a0b6-f201d31e5a0c",
   "metadata": {},
   "outputs": [],
   "source": [
    "# Swap dimensions and sort by tide height\n",
    "ds_tides = ds_clear.swap_dims({'time': 'tide_height'}).sortby('tide_height')          \n"
   ]
  },
  {
   "cell_type": "code",
   "execution_count": null,
   "id": "774ad434-01bf-471f-b7a6-4b560aa6da0d",
   "metadata": {},
   "outputs": [],
   "source": [
    "testing = ds_tides.rolling(tide_height=33, min_periods=15, center=True).median()"
   ]
  },
  {
   "cell_type": "code",
   "execution_count": null,
   "id": "6dc03da1-a280-43af-95b1-558ebc36c42b",
   "metadata": {},
   "outputs": [],
   "source": [
    "# Extract waterlines\n",
    "contours_gdf = subpixel_contours(da=testing.NDWI,\n",
    "                                 z_values=[0],\n",
    "                                 crs=ds_clear.crs,\n",
    "                                 affine=ds_clear.geobox.transform,\n",
    "                                 min_vertices=2,  \n",
    "                                 output_path='test_rolling.geojson',\n",
    "                                 dim='tide_height')"
   ]
  },
  {
   "cell_type": "code",
   "execution_count": null,
   "id": "c5fc1c51-7e35-4aa0-a630-a96de1adbe96",
   "metadata": {},
   "outputs": [],
   "source": [
    "contours_gdf.explore(column='tide_height', cmap='viridis')"
   ]
  },
  {
   "cell_type": "code",
   "execution_count": null,
   "id": "dff8cf96-4ba4-4ce0-9120-b46708176845",
   "metadata": {},
   "outputs": [],
   "source": [
    "# First convert our contours shapefile into an array of XYZ points\n",
    "xyz_array = contours_to_arrays(contours_gdf, 'tide_height')\n",
    "\n",
    "# Interpolate these XYZ points over the spatial extent of the Landsat dataset\n",
    "intertidal_dem = interpolate_2d(ds=ds_clear,\n",
    "                                x_coords=xyz_array[:, 0],\n",
    "                                y_coords=xyz_array[:, 1],\n",
    "                                z_coords=xyz_array[:, 2],\n",
    "                                method='rbf')\n",
    "\n",
    "# Identify areas that are always wet (e.g. below low tide), or always dry\n",
    "# above_lowest = landsat_intervals.isel(tide_interval=0).NDWI < 0\n",
    "# below_highest = landsat_intervals.isel(tide_interval=-1).NDWI > 0\n",
    "\n",
    "# Keep only pixels between high and low tide\n",
    "# intertidal_dem_clean = intertidal_dem.where(above_lowest & below_highest)"
   ]
  },
  {
   "cell_type": "code",
   "execution_count": null,
   "id": "022100bc-03b5-446c-a81e-1a0395e9e3d7",
   "metadata": {},
   "outputs": [],
   "source": [
    "intertidal_dem.isel(x=slice(0, 150), y=slice(60, 130)).plot()"
   ]
  },
  {
   "cell_type": "code",
   "execution_count": null,
   "id": "8ada6226-dbed-4338-b0a8-af6cac7d212f",
   "metadata": {},
   "outputs": [],
   "source": [
    "import numpy\n",
    "import scipy.interpolate\n",
    "\n",
    "data = numpy.random.randint(0, 10, size=(10, 10))\n",
    "\n",
    "# Create the knots (10 knots in each direction, making 100 total\n",
    "xcoord = numpy.linspace(5, data.shape[0]-5, 10)\n",
    "ycoord = numpy.linspace(5, data.shape[1]-5, 10)\n",
    "\n",
    "# Create all weights, and set them to 0 when the data is NaN\n",
    "weights = numpy.ones(data.shape)\n",
    "weights[numpy.isnan(data)] = 1e-15  # weights must be >0\n",
    "\n",
    "# LSQBivariateSpline needs x and y coordinates as 1-D arrays\n",
    "x, y = numpy.indices(data.shape)\n",
    "spline_fit = scipy.interpolate.LSQBivariateSpline(x.ravel(), y.ravel(), data.ravel(), \n",
    "                                               xcoord, ycoord, \n",
    "                                               w=weights.ravel(),\n",
    "                                               bbox=[None, None, None, None], \n",
    "                                               kx=2, ky=2)"
   ]
  },
  {
   "cell_type": "code",
   "execution_count": null,
   "id": "954fb27a-29cb-4714-a897-e5d9d9f38e7b",
   "metadata": {},
   "outputs": [],
   "source": [
    "import numpy as np\n",
    "from scipy.interpolate import RectBivariateSpline\n",
    "import matplotlib.pyplot as plt\n",
    "from mpl_toolkits.mplot3d import Axes3D\n",
    "\n",
    "# Regularly-spaced, coarse grid\n",
    "dx, dy = 0.4, 0.4\n",
    "xmax, ymax = 2, 4\n",
    "x = np.arange(-xmax, xmax, dx)\n",
    "y = np.arange(-ymax, ymax, dy)\n",
    "X, Y = np.meshgrid(x, y)\n",
    "Z = np.exp(-(2*X)**2 - (Y/2)**2)\n",
    "\n",
    "interp_spline = RectBivariateSpline(y, x, Z)\n",
    "\n",
    "# Regularly-spaced, fine grid\n",
    "dx2, dy2 = 0.16, 0.16\n",
    "x2 = np.arange(-xmax, xmax, dx2)\n",
    "y2 = np.arange(-ymax, ymax, dy2)\n",
    "X2, Y2 = np.meshgrid(x2,y2)\n",
    "Z2 = interp_spline(y2, x2)\n",
    "\n",
    "fig, ax = plt.subplots(nrows=1, ncols=2, subplot_kw={'projection': '3d'})\n",
    "ax[0].plot_wireframe(X, Y, Z, color='k')\n",
    "\n",
    "ax[1].plot_wireframe(X2, Y2, Z2, color='k')\n",
    "for axes in ax:\n",
    "    axes.set_zlim(-0.2,1)\n",
    "    axes.set_axis_off()\n",
    "\n",
    "fig.tight_layout()\n",
    "plt.show()"
   ]
  },
  {
   "cell_type": "code",
   "execution_count": null,
   "id": "fdff6b2f-88a3-4c49-beeb-edd745e8f0bb",
   "metadata": {},
   "outputs": [],
   "source": [
    "plt.imshow(Z)"
   ]
  },
  {
   "cell_type": "code",
   "execution_count": null,
   "id": "3ac8cc18-e807-40c6-9120-a5dc50abcb5a",
   "metadata": {},
   "outputs": [],
   "source": [
    "import matplotlib.pyplot as plt\n",
    "from scipy.interpolate import RBFInterpolator\n",
    "from scipy.stats.qmc import Halton\n",
    "rng = np.random.default_rng()\n",
    "xobs = 2*Halton(2, seed=rng).random(100) - 1\n",
    "yobs = np.sum(xobs, axis=1)*np.exp(-6*np.sum(xobs**2, axis=1))\n",
    "xgrid = np.mgrid[-1:1:50j, -1:1:50j]\n",
    "xflat = xgrid.reshape(2, -1).T\n",
    "yflat = RBFInterpolator(xobs, yobs)(xflat)\n",
    "ygrid = yflat.reshape(50, 50)\n",
    "fig, ax = plt.subplots()\n",
    "ax.pcolormesh(*xgrid, ygrid, vmin=-0.25, vmax=0.25, shading='gouraud')\n",
    "p = ax.scatter(*xobs.T, c=yobs, s=50, ec='k', vmin=-0.25, vmax=0.25)\n",
    "fig.colorbar(p)\n",
    "plt.show()"
   ]
  },
  {
   "cell_type": "code",
   "execution_count": null,
   "id": "b95f1e27-59ce-4831-a297-397147fb6e05",
   "metadata": {},
   "outputs": [],
   "source": [
    "interpolate_2d"
   ]
  },
  {
   "cell_type": "code",
   "execution_count": 92,
   "id": "862d4d92-5a38-46d9-bdb4-7c17783c489e",
   "metadata": {},
   "outputs": [],
   "source": [
    "shoreline_dict = {}\n",
    "\n",
    "for n in [3, 6, 12]:\n",
    "\n",
    "#     # classes\n",
    "#     n = 3\n",
    "\n",
    "    # Sort every image by tide height\n",
    "    ds_clear = ds_clear.sortby('tide_height')\n",
    "\n",
    "    # Bin tide heights into 9 tidal intervals from low (1) to high tide (9)\n",
    "    binInterval = np.linspace(ds_clear.tide_height.min(),\n",
    "                              ds_clear.tide_height.max(),\n",
    "                              num=n+1)\n",
    "    tide_intervals = pd.cut(ds_clear.tide_height,\n",
    "                            bins=binInterval,\n",
    "                            labels=range(1, n+1),\n",
    "                            include_lowest=True)\n",
    "\n",
    "    # Add interval to dataset\n",
    "    ds_clear['tide_interval'] = xr.DataArray(tide_intervals, coords=[ds_clear.time])\n",
    "#     ds_clear.sortby('time').tide_height.plot()\n",
    "#     for i in binInterval: plt.axhline(i, c='black', alpha=0.5)\n",
    "\n",
    "    # For each interval, compute the median water index and tide height value\n",
    "    landsat_intervals = (ds_clear[['tide_interval', 'NDWI', 'tide_height']]\n",
    "                         .groupby('tide_interval')\n",
    "                         .median(dim='time')\n",
    "                         .compute()\n",
    "                        )\n",
    "\n",
    "    # Set up attributes to assign to each waterline\n",
    "    attribute_df = pd.DataFrame({'tide_m': landsat_intervals.tide_height.values})\n",
    "\n",
    "    # Extract waterlines\n",
    "    contours_gdf = subpixel_contours(da=landsat_intervals.NDWI,\n",
    "                                     z_values=[0],\n",
    "                                     crs=ds_clear.crs,\n",
    "                                     affine=ds_clear.geobox.transform,\n",
    "                                     attribute_df=attribute_df,\n",
    "                                     min_vertices=2,  #20,\n",
    "                                     output_path='tide_intervals.geojson',\n",
    "                                     dim='tide_interval')\n",
    "    \n",
    "    shoreline_dict[n] = contours_gdf\n",
    "#     contours_gdf.explore(column='tide_m')"
   ]
  },
  {
   "cell_type": "code",
   "execution_count": 27,
   "id": "cb65b0b8-f206-4330-9050-4dac0787c20b",
   "metadata": {},
   "outputs": [],
   "source": [
    "# shoreline_dict[3].to_crs('EPSG:4326').to_file('test_3.geojson')"
   ]
  },
  {
   "cell_type": "code",
   "execution_count": 28,
   "id": "bb86d3ee-c558-4cb5-8ea9-d7db6c007a43",
   "metadata": {},
   "outputs": [],
   "source": [
    "# shoreline_dict[6].to_crs('EPSG:4326').to_file('test_6.geojson')"
   ]
  },
  {
   "cell_type": "code",
   "execution_count": 29,
   "id": "7ac66613-269f-4c59-bf7c-432ad28f3868",
   "metadata": {},
   "outputs": [],
   "source": [
    "# shoreline_dict[12].to_crs('EPSG:4326').to_file('test_12.geojson')"
   ]
  },
  {
   "cell_type": "code",
   "execution_count": 75,
   "id": "eeca35ba-1f51-45b5-8ce7-c89f63d994e8",
   "metadata": {},
   "outputs": [],
   "source": [
    "# shoreline_dict[6].explode().reset_index().intersects(shoreline_dict[3].unary_union)"
   ]
  },
  {
   "cell_type": "code",
   "execution_count": 25,
   "id": "da5d16f8-ac88-4830-993c-228d2e574956",
   "metadata": {},
   "outputs": [],
   "source": [
    "# import geopandas as gpd"
   ]
  },
  {
   "cell_type": "code",
   "execution_count": 34,
   "id": "a7b71100-858c-4ddf-9dae-5fb0f232d857",
   "metadata": {},
   "outputs": [],
   "source": [
    "# line = shoreline_dict[6].iloc[0].geometry"
   ]
  },
  {
   "cell_type": "code",
   "execution_count": 198,
   "id": "a7a4438e-88d1-473b-a4a7-a239f1a4a498",
   "metadata": {},
   "outputs": [],
   "source": [
    "from shapely.geometry import LineString, MultiPoint\n",
    "from shapely.ops import split\n",
    "from shapely.geometry import MultiLineString\n",
    "\n",
    "from shapely.ops import split,snap\n",
    "def split_line_by_point(line, point, tolerance: float=1.0e-8):\n",
    "    return split(snap(line, point, tolerance), point)\n",
    "\n",
    "# result = split_line_by_point(line,points)\n",
    "\n",
    "\n",
    "def test(line, val):\n",
    "    splitter = MultiPoint([line.interpolate(i) for i in range(0, int(line.length), 100)])\n",
    "#     print(len(splitter))\n",
    "    out = split_line_by_point(line, splitter)\n",
    "\n",
    "    return gpd.GeoDataFrame(data={'tide_m': [val]*len(out)}, geometry=[i for i in out], crs='EPSG:32753')"
   ]
  },
  {
   "cell_type": "code",
   "execution_count": 197,
   "id": "6fa965a4-27d5-4971-921a-78a04e1b7291",
   "metadata": {},
   "outputs": [
    {
     "name": "stderr",
     "output_type": "stream",
     "text": [
      "/tmp/ipykernel_133/3823154924.py:17: ShapelyDeprecationWarning: __len__ for multi-part geometries is deprecated and will be removed in Shapely 2.0. Check the length of the `geoms` property instead to get the  number of parts of a multi-part geometry.\n",
      "  print(len(out))\n",
      "/tmp/ipykernel_133/3823154924.py:19: ShapelyDeprecationWarning: __len__ for multi-part geometries is deprecated and will be removed in Shapely 2.0. Check the length of the `geoms` property instead to get the  number of parts of a multi-part geometry.\n",
      "  return gpd.GeoDataFrame(data={'tide_m': [val]*len(out)}, geometry=[i for i in out], crs='EPSG:32753')\n",
      "/tmp/ipykernel_133/3823154924.py:19: ShapelyDeprecationWarning: Iteration over multi-part geometries is deprecated and will be removed in Shapely 2.0. Use the `geoms` property to access the constituent parts of a multi-part geometry.\n",
      "  return gpd.GeoDataFrame(data={'tide_m': [val]*len(out)}, geometry=[i for i in out], crs='EPSG:32753')\n"
     ]
    },
    {
     "name": "stdout",
     "output_type": "stream",
     "text": [
      "611\n"
     ]
    },
    {
     "name": "stderr",
     "output_type": "stream",
     "text": [
      "/tmp/ipykernel_133/3823154924.py:17: ShapelyDeprecationWarning: __len__ for multi-part geometries is deprecated and will be removed in Shapely 2.0. Check the length of the `geoms` property instead to get the  number of parts of a multi-part geometry.\n",
      "  print(len(out))\n",
      "/tmp/ipykernel_133/3823154924.py:19: ShapelyDeprecationWarning: __len__ for multi-part geometries is deprecated and will be removed in Shapely 2.0. Check the length of the `geoms` property instead to get the  number of parts of a multi-part geometry.\n",
      "  return gpd.GeoDataFrame(data={'tide_m': [val]*len(out)}, geometry=[i for i in out], crs='EPSG:32753')\n",
      "/tmp/ipykernel_133/3823154924.py:19: ShapelyDeprecationWarning: Iteration over multi-part geometries is deprecated and will be removed in Shapely 2.0. Use the `geoms` property to access the constituent parts of a multi-part geometry.\n",
      "  return gpd.GeoDataFrame(data={'tide_m': [val]*len(out)}, geometry=[i for i in out], crs='EPSG:32753')\n"
     ]
    },
    {
     "name": "stdout",
     "output_type": "stream",
     "text": [
      "461\n"
     ]
    },
    {
     "name": "stderr",
     "output_type": "stream",
     "text": [
      "/tmp/ipykernel_133/3823154924.py:17: ShapelyDeprecationWarning: __len__ for multi-part geometries is deprecated and will be removed in Shapely 2.0. Check the length of the `geoms` property instead to get the  number of parts of a multi-part geometry.\n",
      "  print(len(out))\n",
      "/tmp/ipykernel_133/3823154924.py:19: ShapelyDeprecationWarning: __len__ for multi-part geometries is deprecated and will be removed in Shapely 2.0. Check the length of the `geoms` property instead to get the  number of parts of a multi-part geometry.\n",
      "  return gpd.GeoDataFrame(data={'tide_m': [val]*len(out)}, geometry=[i for i in out], crs='EPSG:32753')\n",
      "/tmp/ipykernel_133/3823154924.py:19: ShapelyDeprecationWarning: Iteration over multi-part geometries is deprecated and will be removed in Shapely 2.0. Use the `geoms` property to access the constituent parts of a multi-part geometry.\n",
      "  return gpd.GeoDataFrame(data={'tide_m': [val]*len(out)}, geometry=[i for i in out], crs='EPSG:32753')\n"
     ]
    },
    {
     "name": "stdout",
     "output_type": "stream",
     "text": [
      "284\n"
     ]
    },
    {
     "name": "stderr",
     "output_type": "stream",
     "text": [
      "/tmp/ipykernel_133/3823154924.py:17: ShapelyDeprecationWarning: __len__ for multi-part geometries is deprecated and will be removed in Shapely 2.0. Check the length of the `geoms` property instead to get the  number of parts of a multi-part geometry.\n",
      "  print(len(out))\n",
      "/tmp/ipykernel_133/3823154924.py:19: ShapelyDeprecationWarning: __len__ for multi-part geometries is deprecated and will be removed in Shapely 2.0. Check the length of the `geoms` property instead to get the  number of parts of a multi-part geometry.\n",
      "  return gpd.GeoDataFrame(data={'tide_m': [val]*len(out)}, geometry=[i for i in out], crs='EPSG:32753')\n",
      "/tmp/ipykernel_133/3823154924.py:19: ShapelyDeprecationWarning: Iteration over multi-part geometries is deprecated and will be removed in Shapely 2.0. Use the `geoms` property to access the constituent parts of a multi-part geometry.\n",
      "  return gpd.GeoDataFrame(data={'tide_m': [val]*len(out)}, geometry=[i for i in out], crs='EPSG:32753')\n"
     ]
    },
    {
     "name": "stdout",
     "output_type": "stream",
     "text": [
      "211\n"
     ]
    },
    {
     "name": "stderr",
     "output_type": "stream",
     "text": [
      "/tmp/ipykernel_133/3823154924.py:17: ShapelyDeprecationWarning: __len__ for multi-part geometries is deprecated and will be removed in Shapely 2.0. Check the length of the `geoms` property instead to get the  number of parts of a multi-part geometry.\n",
      "  print(len(out))\n",
      "/tmp/ipykernel_133/3823154924.py:19: ShapelyDeprecationWarning: __len__ for multi-part geometries is deprecated and will be removed in Shapely 2.0. Check the length of the `geoms` property instead to get the  number of parts of a multi-part geometry.\n",
      "  return gpd.GeoDataFrame(data={'tide_m': [val]*len(out)}, geometry=[i for i in out], crs='EPSG:32753')\n",
      "/tmp/ipykernel_133/3823154924.py:19: ShapelyDeprecationWarning: Iteration over multi-part geometries is deprecated and will be removed in Shapely 2.0. Use the `geoms` property to access the constituent parts of a multi-part geometry.\n",
      "  return gpd.GeoDataFrame(data={'tide_m': [val]*len(out)}, geometry=[i for i in out], crs='EPSG:32753')\n"
     ]
    },
    {
     "name": "stdout",
     "output_type": "stream",
     "text": [
      "212\n",
      "226\n"
     ]
    },
    {
     "name": "stderr",
     "output_type": "stream",
     "text": [
      "/tmp/ipykernel_133/3823154924.py:17: ShapelyDeprecationWarning: __len__ for multi-part geometries is deprecated and will be removed in Shapely 2.0. Check the length of the `geoms` property instead to get the  number of parts of a multi-part geometry.\n",
      "  print(len(out))\n",
      "/tmp/ipykernel_133/3823154924.py:19: ShapelyDeprecationWarning: __len__ for multi-part geometries is deprecated and will be removed in Shapely 2.0. Check the length of the `geoms` property instead to get the  number of parts of a multi-part geometry.\n",
      "  return gpd.GeoDataFrame(data={'tide_m': [val]*len(out)}, geometry=[i for i in out], crs='EPSG:32753')\n",
      "/tmp/ipykernel_133/3823154924.py:19: ShapelyDeprecationWarning: Iteration over multi-part geometries is deprecated and will be removed in Shapely 2.0. Use the `geoms` property to access the constituent parts of a multi-part geometry.\n",
      "  return gpd.GeoDataFrame(data={'tide_m': [val]*len(out)}, geometry=[i for i in out], crs='EPSG:32753')\n"
     ]
    }
   ],
   "source": [
    "lines_6 = shoreline_dict[6]\n",
    "\n",
    "lines_6 = pd.concat([test(i.geometry, i.tide_m) for (x, i) in lines_6.iterrows()])\n",
    "# testing.to_crs('EPSG:4326').to_file('test_6_broken.geojson')\n",
    "\n",
    "# lines_6['geometry'] = lines_6.apply(lambda line: test(line.geometry), axis=1)\n",
    "# lines_6 = lines_6.explode().reset_index(drop=True)"
   ]
  },
  {
   "cell_type": "code",
   "execution_count": 166,
   "id": "9aad18c9-b280-4c45-992a-dd7d39722456",
   "metadata": {},
   "outputs": [
    {
     "data": {
      "text/plain": [
       "<generator object DataFrame.iterrows at 0x7fbef0d915f0>"
      ]
     },
     "execution_count": 166,
     "metadata": {},
     "output_type": "execute_result"
    }
   ],
   "source": [
    "lines_6"
   ]
  },
  {
   "cell_type": "code",
   "execution_count": 161,
   "id": "dc2376fb-a2cf-4fa4-99c0-1c5d4c9719c8",
   "metadata": {},
   "outputs": [
    {
     "name": "stderr",
     "output_type": "stream",
     "text": [
      "/tmp/ipykernel_133/2645657613.py:13: ShapelyDeprecationWarning: __len__ for multi-part geometries is deprecated and will be removed in Shapely 2.0. Check the length of the `geoms` property instead to get the  number of parts of a multi-part geometry.\n",
      "  return gpd.GeoDataFrame(data=[val]*len(out), geometry=[i for i in out])\n",
      "/tmp/ipykernel_133/2645657613.py:13: ShapelyDeprecationWarning: Iteration over multi-part geometries is deprecated and will be removed in Shapely 2.0. Use the `geoms` property to access the constituent parts of a multi-part geometry.\n",
      "  return gpd.GeoDataFrame(data=[val]*len(out), geometry=[i for i in out])\n",
      "/tmp/ipykernel_133/2645657613.py:13: ShapelyDeprecationWarning: __len__ for multi-part geometries is deprecated and will be removed in Shapely 2.0. Check the length of the `geoms` property instead to get the  number of parts of a multi-part geometry.\n",
      "  return gpd.GeoDataFrame(data=[val]*len(out), geometry=[i for i in out])\n",
      "/tmp/ipykernel_133/2645657613.py:13: ShapelyDeprecationWarning: Iteration over multi-part geometries is deprecated and will be removed in Shapely 2.0. Use the `geoms` property to access the constituent parts of a multi-part geometry.\n",
      "  return gpd.GeoDataFrame(data=[val]*len(out), geometry=[i for i in out])\n",
      "/tmp/ipykernel_133/2645657613.py:13: ShapelyDeprecationWarning: __len__ for multi-part geometries is deprecated and will be removed in Shapely 2.0. Check the length of the `geoms` property instead to get the  number of parts of a multi-part geometry.\n",
      "  return gpd.GeoDataFrame(data=[val]*len(out), geometry=[i for i in out])\n",
      "/tmp/ipykernel_133/2645657613.py:13: ShapelyDeprecationWarning: Iteration over multi-part geometries is deprecated and will be removed in Shapely 2.0. Use the `geoms` property to access the constituent parts of a multi-part geometry.\n",
      "  return gpd.GeoDataFrame(data=[val]*len(out), geometry=[i for i in out])\n",
      "/tmp/ipykernel_133/2645657613.py:13: ShapelyDeprecationWarning: __len__ for multi-part geometries is deprecated and will be removed in Shapely 2.0. Check the length of the `geoms` property instead to get the  number of parts of a multi-part geometry.\n",
      "  return gpd.GeoDataFrame(data=[val]*len(out), geometry=[i for i in out])\n",
      "/tmp/ipykernel_133/2645657613.py:13: ShapelyDeprecationWarning: Iteration over multi-part geometries is deprecated and will be removed in Shapely 2.0. Use the `geoms` property to access the constituent parts of a multi-part geometry.\n",
      "  return gpd.GeoDataFrame(data=[val]*len(out), geometry=[i for i in out])\n",
      "/tmp/ipykernel_133/2645657613.py:13: ShapelyDeprecationWarning: __len__ for multi-part geometries is deprecated and will be removed in Shapely 2.0. Check the length of the `geoms` property instead to get the  number of parts of a multi-part geometry.\n",
      "  return gpd.GeoDataFrame(data=[val]*len(out), geometry=[i for i in out])\n",
      "/tmp/ipykernel_133/2645657613.py:13: ShapelyDeprecationWarning: Iteration over multi-part geometries is deprecated and will be removed in Shapely 2.0. Use the `geoms` property to access the constituent parts of a multi-part geometry.\n",
      "  return gpd.GeoDataFrame(data=[val]*len(out), geometry=[i for i in out])\n",
      "/tmp/ipykernel_133/2645657613.py:13: ShapelyDeprecationWarning: __len__ for multi-part geometries is deprecated and will be removed in Shapely 2.0. Check the length of the `geoms` property instead to get the  number of parts of a multi-part geometry.\n",
      "  return gpd.GeoDataFrame(data=[val]*len(out), geometry=[i for i in out])\n",
      "/tmp/ipykernel_133/2645657613.py:13: ShapelyDeprecationWarning: Iteration over multi-part geometries is deprecated and will be removed in Shapely 2.0. Use the `geoms` property to access the constituent parts of a multi-part geometry.\n",
      "  return gpd.GeoDataFrame(data=[val]*len(out), geometry=[i for i in out])\n"
     ]
    },
    {
     "data": {
      "text/plain": [
       "(6,)"
      ]
     },
     "execution_count": 161,
     "metadata": {},
     "output_type": "execute_result"
    }
   ],
   "source": [
    "lines_6.apply(lambda line: test(line.geometry, line.tide_m), axis=1).shape"
   ]
  },
  {
   "cell_type": "code",
   "execution_count": 147,
   "id": "7d93b924-6795-4593-8e3d-0e600b416fdf",
   "metadata": {},
   "outputs": [
    {
     "name": "stderr",
     "output_type": "stream",
     "text": [
      "/env/lib/python3.8/site-packages/pandas/core/dtypes/inference.py:383: ShapelyDeprecationWarning: Iteration over multi-part geometries is deprecated and will be removed in Shapely 2.0. Use the `geoms` property to access the constituent parts of a multi-part geometry.\n",
      "  iter(obj)  # Can iterate over it.\n",
      "/env/lib/python3.8/site-packages/pandas/core/dtypes/inference.py:384: ShapelyDeprecationWarning: __len__ for multi-part geometries is deprecated and will be removed in Shapely 2.0. Check the length of the `geoms` property instead to get the  number of parts of a multi-part geometry.\n",
      "  len(obj)  # Has a length associated with it.\n",
      "/env/lib/python3.8/site-packages/pandas/core/dtypes/cast.py:1990: ShapelyDeprecationWarning: __len__ for multi-part geometries is deprecated and will be removed in Shapely 2.0. Check the length of the `geoms` property instead to get the  number of parts of a multi-part geometry.\n",
      "  result[:] = values\n",
      "/env/lib/python3.8/site-packages/pandas/core/series.py:4032: ShapelyDeprecationWarning: __len__ for multi-part geometries is deprecated and will be removed in Shapely 2.0. Check the length of the `geoms` property instead to get the  number of parts of a multi-part geometry.\n",
      "  values, counts = reshape.explode(np.asarray(self._values))\n",
      "/env/lib/python3.8/site-packages/pandas/core/series.py:4032: ShapelyDeprecationWarning: Iteration over multi-part geometries is deprecated and will be removed in Shapely 2.0. Use the `geoms` property to access the constituent parts of a multi-part geometry.\n",
      "  values, counts = reshape.explode(np.asarray(self._values))\n"
     ]
    },
    {
     "data": {
      "text/plain": [
       "133"
      ]
     },
     "execution_count": 147,
     "metadata": {},
     "output_type": "execute_result"
    }
   ],
   "source": [
    "out = lines_6.apply(lambda line: test(line.geometry, line.tide_m), axis=1)\n",
    "len(out.iloc[[0]].explode(ignore_index=False))"
   ]
  },
  {
   "cell_type": "code",
   "execution_count": 136,
   "id": "586985f2-9f80-4a9f-bda7-2934ba57b39f",
   "metadata": {},
   "outputs": [
    {
     "name": "stderr",
     "output_type": "stream",
     "text": [
      "/tmp/ipykernel_133/1535953391.py:1: ShapelyDeprecationWarning: __len__ for multi-part geometries is deprecated and will be removed in Shapely 2.0. Check the length of the `geoms` property instead to get the  number of parts of a multi-part geometry.\n",
      "  len(out.iloc[0])\n"
     ]
    },
    {
     "data": {
      "text/plain": [
       "133"
      ]
     },
     "execution_count": 136,
     "metadata": {},
     "output_type": "execute_result"
    }
   ],
   "source": []
  },
  {
   "cell_type": "code",
   "execution_count": 87,
   "id": "34287095-6c41-450b-8a03-334dfad4787d",
   "metadata": {},
   "outputs": [],
   "source": [
    "lines_6.to_crs('EPSG:4326').to_file('test_6_broken.geojson')"
   ]
  },
  {
   "cell_type": "code",
   "execution_count": 199,
   "id": "dfde9514-49a5-4f17-b14d-4b218cdab25f",
   "metadata": {},
   "outputs": [],
   "source": [
    "lines_6.loc[~lines_6.intersects(shoreline_dict[3].unary_union)].to_crs('EPSG:4326').to_file('test_6_nointersect.geojson')"
   ]
  },
  {
   "cell_type": "code",
   "execution_count": 85,
   "id": "21914300-71fd-4357-aa33-f4b51070e288",
   "metadata": {},
   "outputs": [
    {
     "data": {
      "text/plain": [
       "<AxesSubplot:>"
      ]
     },
     "execution_count": 85,
     "metadata": {},
     "output_type": "execute_result"
    },
    {
     "data": {
      "image/png": "[encoded data removed]",
      "text/plain": [
       "<Figure size 432x288 with 1 Axes>"
      ]
     },
     "metadata": {
      "needs_background": "light"
     },
     "output_type": "display_data"
    }
   ],
   "source": [
    "lines_6.loc[~lines_6.intersects(shoreline_dict[3].unary_union)].plot(column='tide_m')"
   ]
  },
  {
   "cell_type": "code",
   "execution_count": null,
   "id": "962a4834-d304-48e7-beeb-f6cc490fe52b",
   "metadata": {},
   "outputs": [],
   "source": []
  }
 ],
 "metadata": {
  "kernelspec": {
   "display_name": "Python 3 (ipykernel)",
   "language": "python",
   "name": "python3"
  },
  "language_info": {
   "codemirror_mode": {
    "name": "ipython",
    "version": 3
   },
   "file_extension": ".py",
   "mimetype": "text/x-python",
   "name": "python",
   "nbconvert_exporter": "python",
   "pygments_lexer": "ipython3",
   "version": "3.8.10"
  },
  "widgets": {
   "application/vnd.jupyter.widget-state+json": {
    "state": {},
    "version_major": 2,
    "version_minor": 0
   }
  }
 },
 "nbformat": 4,
 "nbformat_minor": 5
}
