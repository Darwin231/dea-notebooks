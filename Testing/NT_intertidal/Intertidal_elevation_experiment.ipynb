{
 "cells": [
  {
   "cell_type": "markdown",
   "metadata": {},
   "source": [
    "# Modelling intertidal elevation using tidal data <img align=\"right\" src=\"../Supplementary_data/dea_logo.jpg\">\n",
    "\n",
    "* [**Sign up to the DEA Sandbox**](https://docs.dea.ga.gov.au/setup/sandbox.html) to run this notebook interactively from a browser\n",
    "* **Compatibility:** Notebook currently compatible with both the `NCI` and `DEA Sandbox` environments\n",
    "* **Products used:** \n",
    "[ga_ls5t_ard_3](https://explorer.sandbox.dea.ga.gov.au/ga_ls5t_ard_3),\n",
    "[ga_ls7e_ard_3](https://explorer.sandbox.dea.ga.gov.au/ga_ls7e_ard_3),\n",
    "[ga_ls8c_ard_3](https://explorer.sandbox.dea.ga.gov.au/ga_ls8c_ard_3)\n",
    "* **Prerequisites:** For more information about the tidal modelling step of this analysis, refer to the [Tidal modelling notebook](../Frequently_used_code/Tidal_modelling.ipynb)"
   ]
  },
  {
   "cell_type": "markdown",
   "metadata": {},
   "source": [
    "## Background\n",
    "Intertidal environments support important ecological habitats (e.g. sandy beaches and shores, tidal flats and rocky shores and reefs), and provide many valuable benefits such as storm surge protection, carbon storage and natural resources for recreational and commercial use. \n",
    "However, intertidal zones are faced with increasing threats from coastal erosion, land reclamation (e.g. port construction), and sea level rise. \n",
    "Accurate elevation data describing the height and shape of the coastline is needed to help predict when and where these threats will have the greatest impact. \n",
    "However, this data is expensive and challenging to map across the entire intertidal zone of a continent the size of Australia.\n",
    "\n",
    "### Digital Earth Australia use case\n",
    "The rise and fall of the tide can be used to reveal the three-dimensional shape of the coastline by mapping the boundary betweeen water and land across a range of known tides (e.g. from low tide to high tide). \n",
    "Assuming that the land-water boundary is a line of constant height relative to mean sea level (MSL), elevations can be modelled for the area of coastline located between the lowest and highest observed tide. \n",
    "\n",
    "Imagery from satellites such as the NASA/USGS Landsat program is available for free for the entire planet, making satellite imagery a powerful and cost-effective tool for modelling the 3D shape and structure of the intertidal zone at regional or national scale. \n",
    "Recently, Geoscience Australia combined 30 years of Landsat data from the Digital Earth Australia archive with tidal modelling to produce the first 3D model of Australia's entire coastline: the **National Intertidal Digital Elevation Model** or NIDEM (for more information, see [Bishop-Taylor et al. 2019](https://doi.org/10.1016/j.ecss.2019.03.006) or [access the dataset here](http://pid.geoscience.gov.au/dataset/ga/123678)). \n",
    "\n",
    "## Description\n",
    "\n",
    "In this example, we demonstrate a simplified version of the NIDEM method that combines data from the Landsat 5, 7 and 8 satellites with tidal modelling, image compositing and spatial interpolation techniques. \n",
    "We first map the boundary between land and water from low to high tide, and use this information to generate smooth, continuous 3D elevation maps of the intertidal zone. \n",
    "The resulting data may assist in mapping the habitats of threatened coastal species, identifying areas of coastal erosion, planning for extreme events such as storm surges and flooding, and improving models of how sea level rise will affect the Australian coastline. \n",
    "This worked example takes users through the code required to:\n",
    "\n",
    "1.  Load in a cloud-free Landsat time series\n",
    "2.  Compute a water index (NDWI)\n",
    "3.  Tag and sort satellite images by tide height\n",
    "4.  Create \"summary\" or composite images that show the distribution of land and water at discrete intervals of the tidal range (e.g. at low tide, high tide)\n",
    "5.  Extract and visualise the topography of the intertidal zone as depth contours\n",
    "6.  Interpolate depth contours into a smooth, continuous Digital Elevation Model (DEM) of the intertidal zone\n",
    "\n",
    "***\n"
   ]
  },
  {
   "cell_type": "markdown",
   "metadata": {},
   "source": [
    "## Getting started\n",
    "**To run this analysis**, run all the cells in the notebook, starting with the \"Load packages\" cell.\n",
    "\n",
    "**After finishing the analysis**, return to the \"Analysis parameters\" cell, modify some values (e.g. choose a different location or time period to analyse) and re-run the analysis.\n",
    "There are additional instructions on modifying the notebook at the end."
   ]
  },
  {
   "cell_type": "markdown",
   "metadata": {},
   "source": [
    "### Load packages\n",
    "Load key Python packages and supporting functions for the analysis."
   ]
  },
  {
   "cell_type": "code",
   "execution_count": null,
   "metadata": {},
   "outputs": [],
   "source": [
    "%matplotlib inline\n",
    "\n",
    "import datacube\n",
    "import sys\n",
    "import xarray as xr\n",
    "import pandas as pd\n",
    "import numpy as np\n",
    "import matplotlib.pyplot as plt\n",
    "from datacube.utils.cog import write_cog\n",
    "\n",
    "import sys\n",
    "sys.path.insert(1, '../Tools/')\n",
    "from dea_tools.datahandling import load_ard, mostcommon_crs\n",
    "from dea_tools.plotting import rgb, map_shapefile, display_map\n",
    "from dea_tools.bandindices import calculate_indices\n",
    "from dea_tools.spatial import subpixel_contours, interpolate_2d, contours_to_arrays\n",
    "from dea_tools.coastal import tidal_tag\n",
    "from dea_tools.dask import create_local_dask_cluster\n",
    "\n",
    "# Create local dask cluster to improve data load time\n",
    "create_local_dask_cluster()\n"
   ]
  },
  {
   "cell_type": "markdown",
   "metadata": {},
   "source": [
    "### Connect to the datacube\n",
    "Activate the datacube database, which provides functionality for loading and displaying stored Earth observation data."
   ]
  },
  {
   "cell_type": "code",
   "execution_count": null,
   "metadata": {},
   "outputs": [],
   "source": [
    "dc = datacube.Datacube(app='Intertidal_elevation')"
   ]
  },
  {
   "cell_type": "markdown",
   "metadata": {},
   "source": [
    "### Analysis parameters\n",
    "\n",
    "The following cell set important parameters for the analysis:\n",
    "\n",
    "* `lat_range`: The latitude range to analyse (e.g. `(-27.60, -27.665)`). \n",
    "For reasonable load times, keep this to a range of ~0.1 degrees or less.\n",
    "* `lon_range`: The longitude range to analyse (e.g. `(153.33, 153.425)`). \n",
    "For reasonable load times, keep this to a range of ~0.1 degrees or less.\n",
    "* `time_range`: The date range to analyse (e.g. `('2000', '2019') `)\n",
    "\n",
    "**If running the notebook for the first time**, keep the default settings below.\n",
    "This will demonstrate how the analysis works and provide meaningful results.\n",
    "The example generates an intertidal elevation model for intertidal flats in Moreton Bay south of Brisbane, Australia.\n",
    "\n",
    "To ensure that the tidal modelling part of this analysis works correctly, please make sure the **centre of the study area is located over water** when setting `lat_range` and `lon_range`.\n"
   ]
  },
  {
   "cell_type": "code",
   "execution_count": null,
   "metadata": {},
   "outputs": [],
   "source": [
    "lat_range = (-17.5, -17.6)\n",
    "lon_range = (139.70, 139.86)\n",
    "\n",
    "# lat_range = -16.8511, -16.9165\n",
    "# lon_range = 138.8710, 139.0400\n",
    "\n",
    "# lat_range = -15.7582, -15.94627\n",
    "# lon_range = 136.63593, 136.9977\n",
    "\n",
    "time_range = ('2016', '2021')\n",
    "\n"
   ]
  },
  {
   "cell_type": "markdown",
   "metadata": {},
   "source": [
    "## View the selected location\n",
    "The next cell will display the selected area on an interactive map.\n",
    "Feel free to zoom in and out to get a better understanding of the area you'll be analysing.\n",
    "Clicking on any point of the map will reveal the latitude and longitude coordinates of that point."
   ]
  },
  {
   "cell_type": "code",
   "execution_count": null,
   "metadata": {},
   "outputs": [],
   "source": [
    "display_map(x=lon_range, y=lat_range)\n"
   ]
  },
  {
   "cell_type": "markdown",
   "metadata": {},
   "source": [
    "## Load cloud-masked Landsat data\n",
    "The first step in this analysis is to load in Landsat data for the `lat_range`, `lon_range` and `time_range` we provided above. \n",
    "The code below first connects to the datacube database, and then uses the `load_ard` function to load in data from the Landsat 5, 7 and 8 satellites for the area and time included in `lat_range`, `lon_range` and `time_range`. \n",
    "We set `min_gooddata=0.9` to load only satellite images containing less than 10% cloud, allowing us to focus on satellite images that contain useful data. "
   ]
  },
  {
   "cell_type": "code",
   "execution_count": null,
   "metadata": {},
   "outputs": [],
   "source": [
    "# Create the 'query' dictionary object, which contains the longitudes, \n",
    "# latitudes and time provided above\n",
    "query = {\n",
    "    'y': lat_range,\n",
    "    'x': lon_range,\n",
    "    'time': time_range,\n",
    "    'measurements': ['nbart_green', 'nbart_nir_1', 'fmask'],\n",
    "    'resolution': (-10, 10),\n",
    "}\n",
    "\n",
    "# # Identify the most common projection system in the input query \n",
    "# output_crs = mostcommon_crs(dc=dc, product='ga_ls8c_ard_3', query=query)\n",
    "\n",
    "# # Load available data from all three Landsat satellites\n",
    "# landsat_ds = load_ard(dc=dc, \n",
    "#                       products=['ga_ls5t_ard_3', \n",
    "#                                 'ga_ls7e_ard_3', \n",
    "#                                 'ga_ls8c_ard_3'],\n",
    "#                       output_crs=output_crs,\n",
    "#                       align=(15, 15),\n",
    "#                       group_by='solar_day',\n",
    "#                       min_gooddata=0.9,\n",
    "#                       dask_chunks={'time': 1, 'x': 2000, 'y': 2000},\n",
    "#                       **query)\n",
    "\n",
    "# Identify the most common projection system in the input query \n",
    "output_crs = mostcommon_crs(dc=dc, product='s2a_ard_granule', query=query)\n",
    "\n",
    "landsat_ds = load_ard(dc=dc, \n",
    "#                       products=['ga_ls5t_ard_3', \n",
    "#                                 'ga_ls7e_ard_3', \n",
    "#                                 'ga_ls8c_ard_3'],\n",
    "                      products=['s2a_ard_granule', \n",
    "                                's2b_ard_granule'], \n",
    "                      output_crs=output_crs,\n",
    "                      mask_pixel_quality=False,\n",
    "#                       align=(15, 15),\n",
    "                      group_by='solar_day',\n",
    "                      min_gooddata=0.0,\n",
    "                      resampling={'*': 'cubic', 'fmask': 'nearest'},\n",
    "                      dask_chunks={'time': 1, 'x': 2048, 'y': 2048},\n",
    "                      **query)\n",
    "\n",
    "landsat_ds.load()\n"
   ]
  },
  {
   "cell_type": "code",
   "execution_count": null,
   "metadata": {},
   "outputs": [],
   "source": [
    "import odc.algo\n",
    "from skimage.filters import threshold_local, threshold_otsu\n",
    "\n",
    "# Extract boolean mask\n",
    "mask_clouds = odc.algo.enum_to_bool(\n",
    "    landsat_ds.fmask, categories=['cloud', 'shadow'])\n",
    "\n",
    "# Nodata\n",
    "mask_nodata = odc.algo.enum_to_bool(\n",
    "    landsat_ds.fmask, categories=['nodata'])\n",
    "\n",
    "# Calculate mean cloudiness\n",
    "mask_clouds_mean = mask_clouds.mean(dim='time')\n",
    "\n",
    "# Calculate OTSU threshold and create mask\n",
    "thresh_otsu = threshold_otsu(mask_clouds_mean.values)\n",
    "mask_clouds_persistent = (mask_clouds_mean > thresh_otsu)\n",
    "mask_clouds_persistent.plot()\n",
    "\n",
    "# # Close mask to remove small holes in cloud, open mask to\n",
    "# # remove narrow false positive cloud, then dilate\n",
    "# mask_cleaned = odc.algo.mask_cleanup(mask=mask,\n",
    "#                                      mask_filters=[('erosion', 5)])\n",
    "\n",
    "\n"
   ]
  },
  {
   "cell_type": "code",
   "execution_count": null,
   "metadata": {},
   "outputs": [],
   "source": [
    "i = 159\n",
    "mask_clouds.isel(time=i).plot()"
   ]
  },
  {
   "cell_type": "code",
   "execution_count": null,
   "metadata": {},
   "outputs": [],
   "source": [
    "from skimage.segmentation import watershed\n",
    "from skimage.feature import peak_local_max\n",
    "from scipy import ndimage as nd\n",
    "from skimage.measure import regionprops"
   ]
  },
  {
   "cell_type": "code",
   "execution_count": null,
   "metadata": {},
   "outputs": [],
   "source": [
    "import numpy as np\n",
    "import scipy.ndimage as ndimage\n",
    "import matplotlib.pyplot as plt\n",
    "\n",
    "# Sample study area array\n",
    "false_positives = np.array([[0, 0, 0, 0, 1, 0, 0, 0, 0, 0, 0, 0],\n",
    "                            [0, 0, 0, 1, 1, 1, 0, 0, 0, 1, 1, 1],\n",
    "                            [0, 0, 0, 0, 1, 1, 0, 0, 0, 1, 1, 1],\n",
    "                            [0, 0, 0, 0, 0, 0, 0, 0, 1, 0, 1, 0],\n",
    "                            [1, 1, 1, 0, 0, 0, 0, 0, 0, 0, 1, 1],\n",
    "                            [1, 1, 0, 1, 0, 0, 0, 0, 1, 1, 1, 1],\n",
    "                            [1, 1, 1, 1, 0, 0, 1, 1, 1, 0, 0, 1],\n",
    "                            [1, 1, 1, 1, 1, 1, 1, 1, 1, 0, 0, 0],\n",
    "                            [1, 1, 1, 1, 0, 0, 1, 1, 1, 0, 0, 0],\n",
    "                            [1, 0, 1, 1, 0, 0, 0, 0, 0, 0, 0, 0],\n",
    "                            [1, 0, 1, 1, 0, 0, 0, 0, 0, 0, 0, 0],\n",
    "                            [0, 0, 0, 0, 0, 0, 0, 0, 0, 0, 0, 0]])\n",
    "\n",
    "# Plot example array\n",
    "plt.imshow(false_positives, cmap=\"jet\", interpolation='nearest')\n",
    "\n",
    "clouds = np.array([[1, 1, 1, 1, 1, 0, 0, 0, 0, 0, 0, 0],\n",
    "                   [1, 1, 1, 1, 1, 1, 0, 0, 0, 1, 1, 1],\n",
    "                   [1, 1, 1, 1, 1, 1, 0, 0, 0, 1, 1, 1],\n",
    "                   [1, 1, 1, 1, 1, 0, 0, 0, 1, 0, 1, 0],\n",
    "                   [1, 1, 1, 1, 1, 0, 0, 0, 0, 0, 1, 1],\n",
    "                   [1, 1, 1, 1, 1, 0, 0, 0, 1, 1, 1, 1],\n",
    "                   [1, 1, 1, 1, 1, 0, 1, 1, 1, 0, 0, 1],\n",
    "                   [1, 1, 1, 1, 1, 1, 1, 1, 1, 0, 0, 0],\n",
    "                   [1, 1, 1, 1, 1, 0, 1, 1, 1, 0, 0, 0],\n",
    "                   [1, 1, 1, 1, 1, 0, 0, 0, 0, 0, 0, 0],\n",
    "                   [1, 1, 1, 1, 1, 0, 0, 0, 0, 0, 0, 0],\n",
    "                   [1, 1, 1, 1, 1, 0, 0, 0, 0, 0, 0, 0]])\n",
    "\n",
    "# Plot seeds\n",
    "plt.imshow(clouds, cmap=\"jet\", interpolation='nearest')"
   ]
  },
  {
   "cell_type": "code",
   "execution_count": null,
   "metadata": {},
   "outputs": [],
   "source": [
    "false_positives = mask_clouds_persistent\n",
    "clouds = mask_clouds.isel(time=i)"
   ]
  },
  {
   "cell_type": "code",
   "execution_count": null,
   "metadata": {},
   "outputs": [],
   "source": [
    "clouds_tofill = np.where(false_positives, 0, clouds + 1)"
   ]
  },
  {
   "cell_type": "code",
   "execution_count": null,
   "metadata": {},
   "outputs": [],
   "source": [
    "plt.imshow(clouds_tofill)\n",
    "# plt.colorbar()"
   ]
  },
  {
   "cell_type": "code",
   "execution_count": null,
   "metadata": {},
   "outputs": [],
   "source": [
    "dilation"
   ]
  },
  {
   "cell_type": "code",
   "execution_count": null,
   "metadata": {},
   "outputs": [],
   "source": [
    "from scipy import ndimage as nd\n",
    "from skimage.morphology import watershed, square\n",
    "from skimage.morphology import dilation, opening\n",
    "\n",
    "distance = nd.distance_transform_edt(false_positives)\n",
    "result = watershed(-distance, dilation(clouds_tofill, square(3)), mask=false_positives, \\\n",
    "                   connectivity=square(3))"
   ]
  },
  {
   "cell_type": "code",
   "execution_count": null,
   "metadata": {},
   "outputs": [],
   "source": [
    "plt.imshow(np.where(false_positives, dilation(clouds_tofill, square(50)), 0), interpolation='nearest')"
   ]
  },
  {
   "cell_type": "code",
   "execution_count": null,
   "metadata": {},
   "outputs": [],
   "source": [
    "plt.imsave(\"result.png\",np.where(false_positives, dilation(clouds_tofill, square(10)), 0) * 255)"
   ]
  },
  {
   "cell_type": "code",
   "execution_count": null,
   "metadata": {},
   "outputs": [],
   "source": [
    "plt.imsave(\"result.png\",result)"
   ]
  },
  {
   "cell_type": "code",
   "execution_count": null,
   "metadata": {},
   "outputs": [],
   "source": [
    "plt.imshow(distance)"
   ]
  },
  {
   "cell_type": "code",
   "execution_count": null,
   "metadata": {},
   "outputs": [],
   "source": [
    "plt.imshow(result)"
   ]
  },
  {
   "cell_type": "code",
   "execution_count": null,
   "metadata": {},
   "outputs": [],
   "source": [
    "clouds.plot()"
   ]
  },
  {
   "cell_type": "code",
   "execution_count": null,
   "metadata": {},
   "outputs": [],
   "source": [
    "xr.where(false_positives, result - 1, clouds).plot()"
   ]
  },
  {
   "cell_type": "code",
   "execution_count": null,
   "metadata": {},
   "outputs": [],
   "source": [
    "clouds"
   ]
  },
  {
   "cell_type": "code",
   "execution_count": null,
   "metadata": {},
   "outputs": [],
   "source": [
    "plt.imshow(result)"
   ]
  },
  {
   "cell_type": "code",
   "execution_count": null,
   "metadata": {},
   "outputs": [],
   "source": [
    "# Using these peaks, label image using watershed segmentation\n",
    "# mask = np.zeros(distance.shape, dtype=bool)\n",
    "# mask[tuple(coords.T)] = True\n",
    "\n",
    "labels = watershed(-distance, markers) #, mask=valid_data)\n",
    "\n",
    "# # Reproject MNDWI surface into same resolution as distance array\n",
    "# mndwi_highres = xr_reproject(mndwi_i,\n",
    "#                              geobox=distance_da.geobox)\n",
    "\n",
    "# # For each labelled region, calculate MNDWI zonal statistics \n",
    "# mndwi_regions = regionprops(label_image=labels,"
   ]
  },
  {
   "cell_type": "code",
   "execution_count": null,
   "metadata": {},
   "outputs": [],
   "source": [
    "plt.imshow(markers)"
   ]
  },
  {
   "cell_type": "code",
   "execution_count": null,
   "metadata": {},
   "outputs": [],
   "source": [
    "mask_clouds_mean.plot(robust=True)"
   ]
  },
  {
   "cell_type": "code",
   "execution_count": null,
   "metadata": {},
   "outputs": [],
   "source": [
    "good_times = landsat_ds.where(~(mask_nodata | mask_clouds_persistent)\n",
    "                             ).nbart_green.mean(dim=['x', 'y']) < 2500"
   ]
  },
  {
   "cell_type": "code",
   "execution_count": null,
   "metadata": {},
   "outputs": [],
   "source": [
    "landsat_ds = landsat_ds.sel(time=good_times)\n",
    "landsat_ds"
   ]
  },
  {
   "cell_type": "code",
   "execution_count": null,
   "metadata": {},
   "outputs": [],
   "source": [
    "\n",
    "# local_thresh = threshold_local(mask_clouds_mean, block_size=333, method='gaussian', offset=-0.03, param=100)\n",
    "# (mask_clouds_mean > local_thresh).plot()"
   ]
  },
  {
   "cell_type": "markdown",
   "metadata": {},
   "source": [
    "**Once the load is complete**, examine the data by printing it in the next cell.\n",
    "The `Dimensions` argument revels the number of time steps in the data set, as well as the number of pixels in the `x` (longitude) and `y` (latitude) dimensions."
   ]
  },
  {
   "cell_type": "code",
   "execution_count": null,
   "metadata": {},
   "outputs": [],
   "source": [
    "# import odc.algo\n",
    "    \n",
    "# # Extract boolean mask\n",
    "# mask = odc.algo.enum_to_bool(landsat_ds.fmask, \n",
    "#                              categories=['nodata', 'cloud', 'shadow'])\n",
    "\n",
    "# # Close mask to remove small holes in cloud, open mask to \n",
    "# # remove narrow false positive cloud, then dilate\n",
    "# mask_cleaned = odc.algo.mask_cleanup(mask, mask_filters=[('opening', 30)])\n",
    "\n",
    "# # # Add new mask as nodata pixels\n",
    "# landsat_ds = odc.algo.erase_bad(landsat_ds, mask_cleaned)\n",
    "# landsat_ds = odc.algo.to_float(landsat_ds)\n",
    "# landsat_ds"
   ]
  },
  {
   "cell_type": "markdown",
   "metadata": {},
   "source": [
    "### Plot example timestep in true colour\n",
    "To visualise the data, use the pre-loaded `rgb` utility function to plot a true colour image for a given time-step. \n",
    "White areas indicate where clouds or other invalid pixels in the image have been masked.\n",
    "\n",
    "Change the value for `timestep` and re-run the cell to plot a different timestep (timesteps are numbered from `0` to `n_time - 1` where `n_time` is the total number of timesteps; see the `time` listing under the `Dimensions` category in the dataset print-out above).\n"
   ]
  },
  {
   "cell_type": "code",
   "execution_count": null,
   "metadata": {},
   "outputs": [],
   "source": [
    "# mask.isel(time=15).plot()"
   ]
  },
  {
   "cell_type": "code",
   "execution_count": null,
   "metadata": {},
   "outputs": [],
   "source": [
    "# # Set the timesteps to visualise\n",
    "# timestep = 25\n",
    "\n",
    "# # Generate RGB plots at each timestep\n",
    "# rgb(landsat_ds, index=timestep)\n"
   ]
  },
  {
   "cell_type": "markdown",
   "metadata": {},
   "source": [
    "## Compute Normalised Difference Water Index\n",
    "To extract intertidal depth contours, we need to be able to seperate water from land in our study area. \n",
    "To do this, we can use our Landsat data to calculate a water index called the `Normalised Difference Water Index`, or NDWI. \n",
    "This index uses the ratio of green and near-infrared radiation to identify the presence of water. \n",
    "The formula is:\n",
    "\n",
    "$$\n",
    "\\begin{aligned}\n",
    "\\text{NDWI} &= \\frac{(\\text{Green} - \\text{NIR})}{(\\text{Green} + \\text{NIR})}\n",
    "\\end{aligned}\n",
    "$$\n",
    "\n",
    "where `Green` is the green band and `NIR` is the near-infrared band. \n",
    "\n",
    "When it comes to interpreting the index, **High values (greater than 0, blue colours) typically represent water pixels**, while **low values (less than 0, red colours) represent land**. \n",
    "You can use the cell below to calculate and plot one of the images after calculating the index."
   ]
  },
  {
   "cell_type": "code",
   "execution_count": null,
   "metadata": {},
   "outputs": [],
   "source": [
    "# Set the timesteps to visualise\n",
    "timestep = 45\n",
    "\n",
    "# Calculate the water index\n",
    "landsat_ds = calculate_indices(landsat_ds,\n",
    "                               index='NDWI',\n",
    "                               collection='ga_s2_1')\n",
    "\n",
    "# Plot the resulting image for the same timestep selected above\n",
    "landsat_ds.NDWI.isel(time=timestep).plot(cmap='RdBu',\n",
    "                                         size=6,\n",
    "                                         vmin=-0.8,\n",
    "                                         vmax=0.8)\n",
    "plt.show()\n"
   ]
  },
  {
   "cell_type": "markdown",
   "metadata": {},
   "source": [
    "How does the plot of the index compare to the optical image from earlier? Was there water or land anywhere you weren't expecting?"
   ]
  },
  {
   "cell_type": "markdown",
   "metadata": {},
   "source": [
    "## Model tide heights\n",
    "The location of the shoreline can vary greatly from low to high tide. In the code below, we aim to calculate the height of the tide at the exact moment each Landsat image was acquired. \n",
    "This will allow us to built a sorted time series of images taken at low tide to high tide, which we will use to generate the intertidal elevation model.\n",
    "\n",
    "The `tidal_tag` function below uses the [OTPS TPXO8 tidal model](http://volkov.oce.orst.edu/tides/global.html) to calculate the height of the tide at the exact moment each satellite image in our dataset was taken, and adds this as a new `tide_height` attribute in our dataset (for more information about this function, refer to the [Tidal modelling notebook](../Frequently_used_code/Tidal_modelling.ipynb)). \n",
    "\n",
    "> **Note:** this function can only model tides correctly if the centre of your study area is located over water. \n",
    "If this isn't the case, you can specify a custom tide modelling location by passing a coordinate to `tidepost_lat` and `tidepost_lon` (e.g. `tidepost_lat=-27.73, tidepost_lon=153.46`)."
   ]
  },
  {
   "cell_type": "code",
   "execution_count": null,
   "metadata": {},
   "outputs": [],
   "source": [
    "# Calculate tides for each timestep in the satellite dataset\n",
    "landsat_ds = tidal_tag(ds=landsat_ds, tidepost_lat=None, tidepost_lon=None)\n",
    "\n",
    "# Print the output dataset with new `tide_height` variable\n",
    "landsat_ds\n"
   ]
  },
  {
   "cell_type": "markdown",
   "metadata": {},
   "source": [
    "Now that we have modelled tide heights, we can plot them to visualise the range of tide that was captured by Landsat across our time series: "
   ]
  },
  {
   "cell_type": "code",
   "execution_count": null,
   "metadata": {},
   "outputs": [],
   "source": [
    "# Plot the resulting tide heights for each Landsat image:\n",
    "landsat_ds.tide_height.plot()\n",
    "plt.show()"
   ]
  },
  {
   "cell_type": "markdown",
   "metadata": {},
   "source": [
    "## Create water index summary images from low to high tide\n",
    "\n",
    "Using these tide heights, we can sort our Landsat dataset by tide height to reveal which parts of the landscape are inundated or exposed from low to high tide. \n",
    "\n",
    "Individual remote sensing images can be affected by noise, including clouds, sunglint and poor water quality conditions (e.g. sediment). \n",
    "To produce cleaner images that can be compared more easily between tidal stages, we can create 'summary' images or composites that combine multiple images into one image to reveal the 'typical' or median appearance of the landscape at different tidal stages. \n",
    "In this case, we use the median as the summary statistic because it prevents strong outliers (like stray clouds) from skewing the data, which would not be the case if we were to use the mean.\n",
    "\n",
    "In the code below, we take the time series of images, sort by tide and categorise each image into 9 discrete tidal intervals, ranging from the lowest (tidal interval 1) to the highest tides observed by Landsat (tidal interval 9). \n",
    "For more information on this method, refer to [Sagar et al. 2018](https://www.sciencedirect.com/science/article/pii/S0034425717301591)."
   ]
  },
  {
   "cell_type": "code",
   "execution_count": null,
   "metadata": {},
   "outputs": [],
   "source": [
    "# classes\n",
    "n = 10\n",
    "\n",
    "# Sort every image by tide height\n",
    "landsat_ds = landsat_ds.sortby('tide_height')\n",
    "\n",
    "# Bin tide heights into 9 tidal intervals from low (1) to high tide (9)\n",
    "binInterval = np.linspace(landsat_ds.tide_height.min(),\n",
    "                          landsat_ds.tide_height.max(),\n",
    "                          num=n)\n",
    "tide_intervals = pd.cut(landsat_ds.tide_height,\n",
    "                        bins=binInterval,\n",
    "                        labels=range(1, n),\n",
    "                        include_lowest=True)\n",
    "\n",
    "# Add interval to dataset\n",
    "landsat_ds['tide_interval'] = xr.DataArray(tide_intervals, coords=[landsat_ds.time])\n",
    "landsat_ds.sortby('time').tide_height.plot()\n",
    "for i in binInterval: plt.axhline(i, c='black', alpha=0.5)\n",
    "    \n"
   ]
  },
  {
   "cell_type": "markdown",
   "metadata": {},
   "source": [
    "We can plot the boundaries between the nine tidal intervals on the same plot we generated earlier:"
   ]
  },
  {
   "cell_type": "markdown",
   "metadata": {},
   "source": [
    "Now that we have a dataset where each image is classified into a discrete range of the tide, we can combine our images into a set of nine individual images that show where land and water is located from low to high tide. \n",
    "**This step can take several minutes to process.**"
   ]
  },
  {
   "cell_type": "code",
   "execution_count": null,
   "metadata": {},
   "outputs": [],
   "source": [
    "# For each interval, compute the median water index and tide height value\n",
    "landsat_intervals = (landsat_ds[['tide_interval', 'NDWI', 'tide_height']]\n",
    "                     .compute()\n",
    "                     .groupby('tide_interval')\n",
    "                     .median(dim='time'))\n",
    "\n",
    "# Plot the resulting set of tidal intervals\n",
    "landsat_intervals.NDWI.plot(col='tide_interval', col_wrap=5, cmap='RdBu')\n",
    "plt.show()\n"
   ]
  },
  {
   "cell_type": "code",
   "execution_count": null,
   "metadata": {},
   "outputs": [],
   "source": [
    "item = ((landsat_intervals.NDWI < 0) * landsat_intervals.tide_interval).max(dim='tide_interval')\n",
    "item.plot(cmap='RdYlBu_r')"
   ]
  },
  {
   "cell_type": "markdown",
   "metadata": {},
   "source": [
    "The plot above should make it clear how the shape and structure of the coastline changes significantly from low to high tide as low-lying tidal flats are quickly inundated by increasing water levels."
   ]
  },
  {
   "cell_type": "markdown",
   "metadata": {},
   "source": [
    "## Extract depth contours from imagery\n",
    "We now want to extract an accurate boundary between land and water for each of the tidal intervals above. \n",
    "The code below identifies the depth contours based on the boundary between land and water by tracing a line along pixels with a water index value of `0` (the boundary between land and water water index values). \n",
    "It returns a `geopandas.GeoDataFrame` with one depth contour for each tidal interval that is labelled with tide heights in metres relative to Mean Sea Level.\n"
   ]
  },
  {
   "cell_type": "code",
   "execution_count": null,
   "metadata": {},
   "outputs": [],
   "source": [
    "# Set up attributes to assign to each waterline\n",
    "attribute_df = pd.DataFrame({'tide_m': landsat_intervals.tide_height.values})\n",
    "\n",
    "# Extract waterlines\n",
    "contours_gdf = subpixel_contours(da=item,\n",
    "                                 z_values=[i - 0.5 for i in range(1, n)],\n",
    "                                 crs=landsat_ds.crs,\n",
    "                                 affine=landsat_ds.geobox.transform,\n",
    "                                 attribute_df=attribute_df,\n",
    "                                 min_vertices=20,\n",
    "                                 dim='tide_interval')\n",
    "\n",
    "# Plot output shapefile over the top of the first tidal interval water index\n",
    "fig, ax = plt.subplots(1, 1, figsize=(15, 10))\n",
    "landsat_intervals.NDWI.sel(tide_interval=1).plot(ax=ax, \n",
    "                                                 cmap='Greys', \n",
    "                                                 add_colorbar=False)\n",
    "contours_gdf.plot(ax=ax, column='tide_m', cmap='YlOrRd', legend=True)\n",
    "plt.show()"
   ]
  },
  {
   "cell_type": "code",
   "execution_count": null,
   "metadata": {},
   "outputs": [],
   "source": [
    "# # Set up attributes to assign to each waterline\n",
    "# attribute_df = pd.DataFrame({'tide_m': landsat_intervals.tide_height.values})\n",
    "\n",
    "# # Extract waterlines\n",
    "# contours_gdf = subpixel_contours(da=landsat_intervals.NDWI,\n",
    "#                                  z_values=0,\n",
    "#                                  crs=landsat_ds.crs,\n",
    "#                                  affine=landsat_ds.geobox.transform,\n",
    "#                                  attribute_df=attribute_df,\n",
    "#                                  min_vertices=20,\n",
    "#                                  dim='tide_interval')\n",
    "\n",
    "# # Plot output shapefile over the top of the first tidal interval water index\n",
    "# fig, ax = plt.subplots(1, 1, figsize=(15, 10))\n",
    "# landsat_intervals.NDWI.sel(tide_interval=1).plot(ax=ax, \n",
    "#                                                  cmap='Greys', \n",
    "#                                                  add_colorbar=False)\n",
    "# contours_gdf.plot(ax=ax, column='tide_m', cmap='YlOrRd', legend=True)\n",
    "# plt.show()\n"
   ]
  },
  {
   "cell_type": "markdown",
   "metadata": {},
   "source": [
    "The above plot is a basic visualisation of the depth contours returned by the `subpixel_contours` function. \n",
    "**Deeper contours (in m relative to Mean Sea Level) are coloured in yellow; more shallow contours are coloured in red.**\n",
    "Now have the shapefile, we can use a more complex function to make an interactive plot for viewing the topography of the intertidal zone."
   ]
  },
  {
   "cell_type": "markdown",
   "metadata": {},
   "source": [
    "### Plot interactive map of depth contours coloured by time\n",
    "The next cell provides an interactive map with an overlay of the depth contours identified in the previous cell. \n",
    "Run it to view the map.\n",
    "\n",
    "Zoom in to the map below to explore the resulting set of depth contours. \n",
    "Using this data, we can easily identify areas of the coastline which are only exposed in the lowest of tides, or other areas that are only covered by water during high tides."
   ]
  },
  {
   "cell_type": "code",
   "execution_count": null,
   "metadata": {},
   "outputs": [],
   "source": [
    "contours_gdf.explore(column='tide_m')"
   ]
  },
  {
   "cell_type": "markdown",
   "metadata": {},
   "source": [
    "## Interpolate contours into a Digital Elevation Model (DEM)"
   ]
  },
  {
   "cell_type": "markdown",
   "metadata": {},
   "source": [
    "While the contours above provide valuable information about the topography of the intertidal zone, we can extract additional information about the 3D structure of the coastline by converting them into an elevation raster (i.e. a Digital Elevation Model or DEM).\n",
    "\n",
    "In the cell below, we convert the shapefile above into an array of points with X, Y and Z coordinates, where the Z coordinate is the point's elevation relative to Mean Sea Level. \n",
    "We then use these XYZ points to interpolate smooth, continuous elevations across the intertidal zone using linear interpolation."
   ]
  },
  {
   "cell_type": "code",
   "execution_count": null,
   "metadata": {},
   "outputs": [],
   "source": [
    "# First convert our contours shapefile into an array of XYZ points\n",
    "xyz_array = contours_to_arrays(contours_gdf, 'tide_m')\n",
    "\n",
    "# Interpolate these XYZ points over the spatial extent of the Landsat dataset\n",
    "intertidal_dem = interpolate_2d(ds=landsat_intervals,\n",
    "                                x_coords=xyz_array[:, 0],\n",
    "                                y_coords=xyz_array[:, 1],\n",
    "                                z_coords=xyz_array[:, 2])\n",
    "\n",
    "# Plot the output\n",
    "intertidal_dem.plot(cmap='viridis', size=8)\n",
    "plt.show()\n"
   ]
  },
  {
   "cell_type": "markdown",
   "metadata": {},
   "source": [
    "You can see in the output above that our interpolation includes areas of ocean and land that are outside of the area affected by tides.\n",
    "To clean up the data, we can restrict the DEM to only the area between the lowest and highest observed tides:"
   ]
  },
  {
   "cell_type": "code",
   "execution_count": null,
   "metadata": {},
   "outputs": [],
   "source": [
    "# Identify areas that are always wet (e.g. below low tide), or always dry\n",
    "above_lowest = landsat_intervals.isel(tide_interval=0).NDWI < 0\n",
    "below_highest = landsat_intervals.isel(tide_interval=-1).NDWI > 0\n",
    "\n",
    "# Keep only pixels between high and low tide\n",
    "intertidal_dem_clean = intertidal_dem.where(above_lowest & below_highest)\n",
    "\n",
    "# Plot the cleaned dataset\n",
    "intertidal_dem_clean.plot(cmap='viridis', size=8)\n",
    "plt.show()\n"
   ]
  },
  {
   "cell_type": "code",
   "execution_count": null,
   "metadata": {},
   "outputs": [],
   "source": [
    "(dc.load(product='nidem', \n",
    "        like=landsat_ds.geobox).nidem-intertidal_dem_clean).plot(robust=True, vmin=-0.5, vmax=0.5, cmap='RdBu', size=10)"
   ]
  },
  {
   "cell_type": "markdown",
   "metadata": {},
   "source": [
    "## Export intertidal DEM as a GeoTIFF\n",
    "As a final step, we can take the intertidal DEM we created and export it as a GeoTIFF that can be loaded in GIS software like QGIS or ArcMap (to download the dataset from the DEA Sandbox, locate it in the file browser to the left, right click on the file, and select \"Download\")."
   ]
  },
  {
   "cell_type": "code",
   "execution_count": null,
   "metadata": {},
   "outputs": [],
   "source": [
    "# Export as a GeoTIFF\n",
    "write_cog(geo_im=intertidal_dem_clean, \n",
    "          fname='intertidal_dem.tif', \n",
    "          overwrite=True)\n"
   ]
  },
  {
   "cell_type": "code",
   "execution_count": null,
   "metadata": {},
   "outputs": [],
   "source": [
    "contours_gdf.to_crs('EPSG:4326').to_file('intertidal_contours.geojson')"
   ]
  },
  {
   "cell_type": "markdown",
   "metadata": {},
   "source": [
    "## Next steps\n",
    "When you are done, return to the \"Set up analysis\" cell, modify some values (e.g. `time_range`, `lat_range`, `lon_range`) and rerun the analysis. \n",
    "\n",
    "If you're going to change the location, you'll need to make sure Landsat 5, 7 and 8 data is available for the new location, which you can check at the [DEA Explorer](https://explorer.sandbox.dea.ga.gov.au/ga_ls5t_ard_3/1990) (use the drop-down menu to view all Landsat products). \n",
    "\n",
    "### National Intertidal Digital Elevation Model\n",
    "For more information about the science behind this notebook, please refer to the scientific article outlining the application of this approach to the entire Australian coastline: [Bishop-Taylor et al. 2019 Between the tides: Modelling the elevation of Australia's exposed intertidal zone at continental scale](https://doi.org/10.1016/j.ecss.2019.03.006)."
   ]
  },
  {
   "cell_type": "markdown",
   "metadata": {},
   "source": [
    "***\n",
    "## Additional information\n",
    "\n",
    "**License:** The code in this notebook is licensed under the [Apache License, Version 2.0](https://www.apache.org/licenses/LICENSE-2.0). \n",
    "Digital Earth Australia data is licensed under the [Creative Commons by Attribution 4.0](https://creativecommons.org/licenses/by/4.0/) license.\n",
    "\n",
    "**Contact:** If you need assistance, please post a question on the [Open Data Cube Slack channel](http://slack.opendatacube.org/) or on the [GIS Stack Exchange](https://gis.stackexchange.com/questions/ask?tags=open-data-cube) using the `open-data-cube` tag (you can view previously asked questions [here](https://gis.stackexchange.com/questions/tagged/open-data-cube)).\n",
    "If you would like to report an issue with this notebook, you can file one on [Github](https://github.com/GeoscienceAustralia/dea-notebooks).\n",
    "\n",
    "**Last modified:** September 2021\n",
    "\n",
    "**Compatible datacube version:** "
   ]
  },
  {
   "cell_type": "code",
   "execution_count": null,
   "metadata": {},
   "outputs": [],
   "source": [
    "print(datacube.__version__)"
   ]
  },
  {
   "cell_type": "markdown",
   "metadata": {},
   "source": [
    "## Tags\n",
    "Browse all available tags on the DEA User Guide's [Tags Index](https://docs.dea.ga.gov.au/genindex.html)"
   ]
  },
  {
   "cell_type": "raw",
   "metadata": {
    "raw_mimetype": "text/restructuredtext"
   },
   "source": [
    "**Tags**: :index:`NCI compatible`, :index:`sandbox compatible`, :index:`landsat 5`, :index:`landsat 7`, :index:`landsat 8`, :index:`load_ard`, :index:`mostcommon_crs`, :index:`calculate_indices`, :index:`tidal_tag`, :index:`subpixel_contours`, :index:`map_shapefile`, :index:`display_map`, :index:`rgb`, :index:`interpolate_2d`, :index:`contours_to_arrays`, :index:`NDWI`, :index:`tide modelling`, :index:`image compositing`, :index:`waterline extraction`, :index:`spatial interpolation`, :index:`intertidal`, :index:`real world`, :index:`GeoTIFF`, :index:`exporting data`"
   ]
  },
  {
   "cell_type": "code",
   "execution_count": null,
   "metadata": {},
   "outputs": [],
   "source": [
    "def convolve_average(array, size_m=500, resolution=10):\n",
    "    \n",
    "    from scipy import signal\n",
    "    \n",
    "    # Set window size\n",
    "    window = int(size_m / resolution)\n",
    "    pad_window = (window + 1)//2\n",
    "    \n",
    "    # Pad with edge values\n",
    "    padded = np.pad(array, pad_width=pad_window, mode='edge')\n",
    "    \n",
    "    # Convolve\n",
    "    smoothed = signal.fftconvolve(padded, \n",
    "                                  np.ones((window, window)), \n",
    "                                  mode='same') / (window * window)\n",
    "    \n",
    "    # Remove padding\n",
    "    return smoothed[pad_window:-pad_window, pad_window:-pad_window]\n",
    "    \n",
    "    \n",
    "    "
   ]
  },
  {
   "cell_type": "code",
   "execution_count": null,
   "metadata": {},
   "outputs": [],
   "source": [
    "from datacube.utils.geometry import GeoBox, Geometry\n",
    "from shapely.geometry import box\n",
    "\n",
    "maxy, miny = -15.7582, -15.94627\n",
    "minx, maxx = 136.63593, 136.9977\n",
    "\n",
    "maxy, miny = (-17.5, -17.6)\n",
    "minx, maxx = (139.70, 139.86)\n",
    "\n",
    "\n",
    "time_range = ('2016', '2021')"
   ]
  },
  {
   "cell_type": "code",
   "execution_count": null,
   "metadata": {},
   "outputs": [],
   "source": [
    "geom = Geometry(geom=box(minx, miny, maxx, maxy),\n",
    "                crs='EPSG:4326').to_crs('EPSG:3577')"
   ]
  },
  {
   "cell_type": "code",
   "execution_count": null,
   "metadata": {},
   "outputs": [],
   "source": [
    "# Create the 'query' dictionary object\n",
    "query = {\n",
    "    'geopolygon': geom.buffer(1000),\n",
    "    'time': time_range,\n",
    "    'measurements': ['nbart_coastal_aerosol', 'nbart_blue', 'nbart_green', 'nbart_red', 'nbart_green', 'nbart_nir_1'],\n",
    "    'resolution': (-10, 10),\n",
    "}\n",
    "\n",
    "# Identify the most common projection system in the input query \n",
    "output_crs = mostcommon_crs(dc=dc, product='s2a_ard_granule', query=query)\n",
    "\n",
    "ds = load_ard(dc=dc, \n",
    "                      products=['s2a_ard_granule', \n",
    "                                's2b_ard_granule'], \n",
    "                      output_crs=output_crs,\n",
    "                      mask_pixel_quality=False,\n",
    "                      group_by='solar_day',\n",
    "                      min_gooddata=0.0,\n",
    "                      resampling={'*': 'average', 'fmask': 'nearest'},\n",
    "                      dask_chunks={'time': 1, 'x': 2048, 'y': 2048},\n",
    "                      **query)\n",
    "\n",
    "# ds.load()\n"
   ]
  },
  {
   "cell_type": "code",
   "execution_count": null,
   "metadata": {},
   "outputs": [],
   "source": [
    "ds = ds.where(ds > 0)"
   ]
  },
  {
   "cell_type": "code",
   "execution_count": null,
   "metadata": {},
   "outputs": [],
   "source": [
    "ds['nbart_coastal_aerosol'].load()"
   ]
  },
  {
   "cell_type": "code",
   "execution_count": null,
   "metadata": {},
   "outputs": [],
   "source": [
    "band_ave = ds['nbart_coastal_aerosol'].groupby('time').apply(convolve_average)"
   ]
  },
  {
   "cell_type": "code",
   "execution_count": null,
   "metadata": {},
   "outputs": [],
   "source": [
    "# band_ave_median = band_ave.rolling(time=75, center=True, min_periods=1).median()\n",
    "band_ave_median = band_ave.median(dim=['time'])"
   ]
  },
  {
   "cell_type": "code",
   "execution_count": null,
   "metadata": {},
   "outputs": [],
   "source": [
    "band_ave_std = band_ave.std(dim=['time'])"
   ]
  },
  {
   "cell_type": "code",
   "execution_count": null,
   "metadata": {},
   "outputs": [],
   "source": [
    "threshold = (band_ave_std / band_ave_median)"
   ]
  },
  {
   "cell_type": "code",
   "execution_count": null,
   "metadata": {},
   "outputs": [],
   "source": [
    "band_ave_diff = band_ave / band_ave_median"
   ]
  },
  {
   "cell_type": "code",
   "execution_count": null,
   "metadata": {},
   "outputs": [],
   "source": [
    "(band_ave_diff.isel(time=9) > threshold).plot.imshow()"
   ]
  },
  {
   "cell_type": "code",
   "execution_count": null,
   "metadata": {},
   "outputs": [],
   "source": [
    "# band_ave_diff = band_ave / band_ave_median"
   ]
  },
  {
   "cell_type": "code",
   "execution_count": null,
   "metadata": {},
   "outputs": [],
   "source": [
    "# band_ave_diff.isel(time=9).plot()"
   ]
  },
  {
   "cell_type": "code",
   "execution_count": null,
   "metadata": {},
   "outputs": [],
   "source": [
    "to_keep = (band_ave_diff.std(dim=['x','y']) > 0.5) & (band_ave_diff.mean(dim=['x','y']) > 2)"
   ]
  },
  {
   "cell_type": "code",
   "execution_count": null,
   "metadata": {},
   "outputs": [],
   "source": [
    "ds['cloud_mask'] = band_ave_diff"
   ]
  },
  {
   "cell_type": "code",
   "execution_count": null,
   "metadata": {},
   "outputs": [],
   "source": [
    "ds_noclouds = ds.sel(time=~to_keep)"
   ]
  },
  {
   "cell_type": "code",
   "execution_count": null,
   "metadata": {},
   "outputs": [],
   "source": [
    "landsat_ds = ds.where(ds_noclouds['cloud_mask'] < (1 + (threshold * 0.25)))"
   ]
  },
  {
   "cell_type": "code",
   "execution_count": null,
   "metadata": {},
   "outputs": [],
   "source": [
    "landsat_ds.nbart_red.isel(time=45).plot()"
   ]
  },
  {
   "cell_type": "code",
   "execution_count": null,
   "metadata": {},
   "outputs": [],
   "source": [
    "landsat_ds"
   ]
  },
  {
   "cell_type": "code",
   "execution_count": null,
   "metadata": {},
   "outputs": [],
   "source": [
    "import matplotlib.pyplot as plt\n",
    "\n",
    "fig, axes = plt.subplots(1, 3, figsize=(20, 5))\n",
    "time = 45\n",
    "ds_noclouds[['nbart_red', 'nbart_green', 'nbart_blue']].to_array().isel(time=time).plot.imshow(ax=axes[0], robust=True, vmin=0, vmax=2000)\n",
    "# (ds_noclouds['cloud_mask'] > 1.5).isel(time=time).plot.imshow(ax=axes[1], vmin=0, vmax=1)\n",
    "# (ds_noclouds['cloud_mask'] < 0.6).isel(time=time).plot.imshow(ax=axes[2], vmin=0, vmax=1)\n",
    "\n",
    "\n",
    "# (np.abs(ds_noclouds['cloud_mask']) > (band_ave_std * 0.25)).isel(time=time).plot.imshow(ax=axes[1], vmin=0, vmax=1)\n",
    "# (ds_noclouds['cloud_mask'] > (band_ave_std * 0.25)).isel(time=time).plot.imshow(ax=axes[2], vmin=0, vmax=1)\n",
    "\n",
    "(ds_noclouds['cloud_mask'] > (1 + (threshold * 0.25))).isel(time=time).plot.imshow(ax=axes[1], vmin=0, vmax=1)\n",
    "(ds_noclouds['cloud_mask'] < (1 - (threshold * 0.125))).isel(time=time).plot.imshow(ax=axes[2], vmin=0, vmax=1)\n"
   ]
  },
  {
   "cell_type": "code",
   "execution_count": null,
   "metadata": {},
   "outputs": [],
   "source": [
    "(1 - (threshold * 0.125)).plot()"
   ]
  },
  {
   "cell_type": "code",
   "execution_count": null,
   "metadata": {},
   "outputs": [],
   "source": [
    "(1 + (threshold * 0.25)).plot()"
   ]
  },
  {
   "cell_type": "code",
   "execution_count": null,
   "metadata": {},
   "outputs": [],
   "source": [
    "(ds_noclouds['cloud_mask'] > (1 + (threshold * 0.25))).mean(dim='time').plot()"
   ]
  },
  {
   "cell_type": "code",
   "execution_count": null,
   "metadata": {},
   "outputs": [],
   "source": [
    "(ds_noclouds['cloud_mask'] < (1 - (threshold * 0.125))).mean(dim='time').plot()"
   ]
  },
  {
   "cell_type": "code",
   "execution_count": null,
   "metadata": {},
   "outputs": [],
   "source": [
    "(np.abs(ds_noclouds['cloud_mask']) > 500).mean(dim='time').plot()"
   ]
  },
  {
   "cell_type": "code",
   "execution_count": null,
   "metadata": {},
   "outputs": [],
   "source": [
    "(band_ave_std * 0.25).plot()"
   ]
  },
  {
   "cell_type": "code",
   "execution_count": null,
   "metadata": {},
   "outputs": [],
   "source": [
    "(ds_large['cloud_mask'] > 1.5).mean(dim='time').plot()"
   ]
  },
  {
   "cell_type": "code",
   "execution_count": null,
   "metadata": {},
   "outputs": [],
   "source": [
    "# ds[['nbart_red', 'nbart_green', 'nbart_blue']].to_array().isel(time=slice(0, 24)).plot.imshow(col='time', col_wrap=4, robust=True)"
   ]
  },
  {
   "cell_type": "code",
   "execution_count": null,
   "metadata": {},
   "outputs": [],
   "source": [
    "cloud_mask = (np.abs(test_diff) < 600)"
   ]
  },
  {
   "cell_type": "code",
   "execution_count": null,
   "metadata": {},
   "outputs": [],
   "source": [
    "testing = cloud_mask.astype(float).interp_like(ds_large.isel(time=0))"
   ]
  },
  {
   "cell_type": "code",
   "execution_count": null,
   "metadata": {},
   "outputs": [],
   "source": [
    "(testing.isel(time=0) > 0.5).plot.imshow()"
   ]
  },
  {
   "cell_type": "code",
   "execution_count": null,
   "metadata": {},
   "outputs": [],
   "source": [
    "ds.where(np.abs(test_diff) < 600)[['nbart_red', 'nbart_green', 'nbart_blue']].to_array().isel(time=slice(0, 24)).plot.imshow(col='time', col_wrap=4, robust=True)"
   ]
  },
  {
   "cell_type": "code",
   "execution_count": null,
   "metadata": {},
   "outputs": [],
   "source": [
    "ds.where(np.abs(test_diff) < 750)[['nbart_red', 'nbart_green', 'nbart_blue']].to_array().isel(time=slice(0, 24)).plot.imshow(col='time', col_wrap=4, robust=True)"
   ]
  },
  {
   "cell_type": "code",
   "execution_count": null,
   "metadata": {},
   "outputs": [],
   "source": [
    "ds.where(np.abs(test_diff) < 500)[['nbart_red', 'nbart_green', 'nbart_blue']].to_array().isel(time=slice(0, 24)).plot.imshow(col='time', col_wrap=4, robust=True)"
   ]
  },
  {
   "cell_type": "code",
   "execution_count": null,
   "metadata": {},
   "outputs": [],
   "source": []
  }
 ],
 "metadata": {
  "kernelspec": {
   "display_name": "Python 3 (ipykernel)",
   "language": "python",
   "name": "python3"
  },
  "language_info": {
   "codemirror_mode": {
    "name": "ipython",
    "version": 3
   },
   "file_extension": ".py",
   "mimetype": "text/x-python",
   "name": "python",
   "nbconvert_exporter": "python",
   "pygments_lexer": "ipython3",
   "version": "3.8.10"
  },
  "widgets": {
   "application/vnd.jupyter.widget-state+json": {
    "state": {},
    "version_major": 2,
    "version_minor": 0
   }
  }
 },
 "nbformat": 4,
 "nbformat_minor": 4
}
