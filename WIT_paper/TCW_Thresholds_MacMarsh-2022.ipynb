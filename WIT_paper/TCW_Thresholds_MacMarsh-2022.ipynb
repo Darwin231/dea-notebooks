{
 "cells": [
  {
   "cell_type": "markdown",
   "metadata": {},
   "source": [
    "2022 calculate size of mac marsh threshold areas\n"
   ]
  },
  {
   "cell_type": "markdown",
   "metadata": {},
   "source": [
    "\n",
    "**Date** August 2022"
   ]
  },
  {
   "cell_type": "markdown",
   "metadata": {},
   "source": [
    "Import some useful modules"
   ]
  },
  {
   "cell_type": "code",
   "execution_count": 3,
   "metadata": {
    "ExecuteTime": {
     "end_time": "2018-07-27T05:51:32.914569Z",
     "start_time": "2018-07-27T05:51:23.509224Z"
    }
   },
   "outputs": [],
   "source": [
    "%matplotlib inline\n",
    "import xarray as xr\n",
    "import matplotlib.pyplot as plt\n",
    "#from datacube.storage import masking\n",
    "import os\n",
    "#sys.path.append('../Scripts/')\n",
    "#import dea_spatialtools\n",
    "import pandas as pd\n",
    "import numpy as np\n"
   ]
  },
  {
   "cell_type": "code",
   "execution_count": 4,
   "metadata": {},
   "outputs": [],
   "source": [
    "import sys\n",
    "sys.path.insert(1, '../Tools/')\n",
    "import dea_tools.datahandling\n",
    "from datacube.utils import masking\n",
    "import dea_tools.spatial #hopefully this replaces dea_spatialtools"
   ]
  },
  {
   "cell_type": "code",
   "execution_count": 5,
   "metadata": {},
   "outputs": [],
   "source": [
    "from datacube.utils.cog import write_cog"
   ]
  },
  {
   "cell_type": "markdown",
   "metadata": {},
   "source": [
    "## Load in the repaired cewo file"
   ]
  },
  {
   "cell_type": "code",
   "execution_count": 6,
   "metadata": {
    "ExecuteTime": {
     "end_time": "2018-07-27T05:51:32.923181Z",
     "start_time": "2018-07-27T05:51:32.919144Z"
    }
   },
   "outputs": [],
   "source": [
    "# Open the GeoTIFFs using rasterio"
   ]
  },
  {
   "cell_type": "code",
   "execution_count": 7,
   "metadata": {
    "ExecuteTime": {
     "end_time": "2018-07-27T05:51:32.935289Z",
     "start_time": "2018-07-27T05:51:32.928465Z"
    }
   },
   "outputs": [],
   "source": [
    "test_fix = '/g/data/r78/rjd547/CEWO_Project/Macquarie_Marsh/bexnessresults/thresholded_wetness/clipped/cewo_20160628_extents_again.tif'"
   ]
  },
  {
   "cell_type": "code",
   "execution_count": 8,
   "metadata": {
    "ExecuteTime": {
     "end_time": "2018-07-27T05:51:33.290314Z",
     "start_time": "2018-07-27T05:51:32.940119Z"
    }
   },
   "outputs": [],
   "source": [
    "cewo_fix = xr.open_rasterio(test_fix)"
   ]
  },
  {
   "cell_type": "code",
   "execution_count": 9,
   "metadata": {},
   "outputs": [
    {
     "data": {
      "image/png": "[encoded data removed]",
      "text/plain": [
       "<Figure size 432x288 with 2 Axes>"
      ]
     },
     "metadata": {
      "needs_background": "light"
     },
     "output_type": "display_data"
    }
   ],
   "source": [
    "cewo_fix.plot()\n",
    "plt.show()"
   ]
  },
  {
   "cell_type": "markdown",
   "metadata": {},
   "source": [
    "Notes: 0 is the nodata value, 1 is the wet value, and 2 is the storage value."
   ]
  },
  {
   "cell_type": "code",
   "execution_count": 10,
   "metadata": {
    "ExecuteTime": {
     "end_time": "2018-07-27T05:51:33.312379Z",
     "start_time": "2018-07-27T05:51:33.294996Z"
    }
   },
   "outputs": [],
   "source": [
    "cewo_fix = cewo_fix.squeeze()"
   ]
  },
  {
   "cell_type": "markdown",
   "metadata": {},
   "source": [
    "build our comparison raster"
   ]
  },
  {
   "cell_type": "code",
   "execution_count": 13,
   "metadata": {
    "ExecuteTime": {
     "end_time": "2018-07-27T05:51:34.174497Z",
     "start_time": "2018-07-27T05:51:33.315983Z"
    }
   },
   "outputs": [],
   "source": [
    "# #nodata values\n",
    "# cewo_fix2 =cewo_fix.where(cewo_fix!=65535.)\n",
    "# cewo_fix2=cewo_fix2.where(cewo_fix2!=-3.4028234663852886e+38)\n",
    "# cewo_fix2=cewo_fix2.where(cewo_fix2!=0)\n",
    "# cewo_fix2=cewo_fix2.where(cewo_fix2!=2)"
   ]
  },
  {
   "cell_type": "code",
   "execution_count": 11,
   "metadata": {},
   "outputs": [],
   "source": [
    "#remove the nodata values\n",
    "study_area = cewo_fix.where(cewo_fix!=65535.)\n",
    "study_area = study_area.where(study_area!=-3.4028234663852886e+38)"
   ]
  },
  {
   "cell_type": "markdown",
   "metadata": {},
   "source": [
    "calculate the mapped area"
   ]
  },
  {
   "cell_type": "code",
   "execution_count": 12,
   "metadata": {},
   "outputs": [
    {
     "name": "stdout",
     "output_type": "stream",
     "text": [
      "8795.76 km^2\n"
     ]
    }
   ],
   "source": [
    "#calculate the total area\n",
    "total_area=np.round((study_area.count()*25*25)/(1000*1000),2)\n",
    "print(total_area.values,'km^2')"
   ]
  },
  {
   "cell_type": "code",
   "execution_count": 14,
   "metadata": {
    "ExecuteTime": {
     "end_time": "2018-07-27T05:51:34.174497Z",
     "start_time": "2018-07-27T05:51:33.315983Z"
    }
   },
   "outputs": [
    {
     "name": "stdout",
     "output_type": "stream",
     "text": [
      "99.27 km^2\n"
     ]
    }
   ],
   "source": [
    "cewoCount = cewo_fix2.count()\n",
    "#cewoarea=numpy.round((cewoCount*25*25)/(1000*1000),2)\n",
    "cewoarea=np.round((cewoCount*25*25)/(1000*1000),2)\n",
    "print(cewoarea.values,'km^2')"
   ]
  },
  {
   "cell_type": "code",
   "execution_count": 60,
   "metadata": {},
   "outputs": [
    {
     "name": "stdout",
     "output_type": "stream",
     "text": [
      "8696.49 km^2\n"
     ]
    }
   ],
   "source": [
    "nonwet_area_c = total_area-cewoarea\n",
    "print(nonwet_area_c .values,'km^2')"
   ]
  },
  {
   "cell_type": "code",
   "execution_count": 61,
   "metadata": {
    "ExecuteTime": {
     "end_time": "2018-07-27T05:51:34.222425Z",
     "start_time": "2018-07-27T05:51:34.185440Z"
    }
   },
   "outputs": [
    {
     "data": {
      "text/html": [
       "<div><svg style=\"position: absolute; width: 0; height: 0; overflow: hidden\">\n",
       "<defs>\n",
       "<symbol id=\"icon-database\" viewBox=\"0 0 32 32\">\n",
       "<path d=\"M16 0c-8.837 0-16 2.239-16 5v4c0 2.761 7.163 5 16 5s16-2.239 16-5v-4c0-2.761-7.163-5-16-5z\"></path>\n",
       "<path d=\"M16 17c-8.837 0-16-2.239-16-5v6c0 2.761 7.163 5 16 5s16-2.239 16-5v-6c0 2.761-7.163 5-16 5z\"></path>\n",
       "<path d=\"M16 26c-8.837 0-16-2.239-16-5v6c0 2.761 7.163 5 16 5s16-2.239 16-5v-6c0 2.761-7.163 5-16 5z\"></path>\n",
       "</symbol>\n",
       "<symbol id=\"icon-file-text2\" viewBox=\"0 0 32 32\">\n",
       "<path d=\"M28.681 7.159c-0.694-0.947-1.662-2.053-2.724-3.116s-2.169-2.030-3.116-2.724c-1.612-1.182-2.393-1.319-2.841-1.319h-15.5c-1.378 0-2.5 1.121-2.5 2.5v27c0 1.378 1.122 2.5 2.5 2.5h23c1.378 0 2.5-1.122 2.5-2.5v-19.5c0-0.448-0.137-1.23-1.319-2.841zM24.543 5.457c0.959 0.959 1.712 1.825 2.268 2.543h-4.811v-4.811c0.718 0.556 1.584 1.309 2.543 2.268zM28 29.5c0 0.271-0.229 0.5-0.5 0.5h-23c-0.271 0-0.5-0.229-0.5-0.5v-27c0-0.271 0.229-0.5 0.5-0.5 0 0 15.499-0 15.5 0v7c0 0.552 0.448 1 1 1h7v19.5z\"></path>\n",
       "<path d=\"M23 26h-14c-0.552 0-1-0.448-1-1s0.448-1 1-1h14c0.552 0 1 0.448 1 1s-0.448 1-1 1z\"></path>\n",
       "<path d=\"M23 22h-14c-0.552 0-1-0.448-1-1s0.448-1 1-1h14c0.552 0 1 0.448 1 1s-0.448 1-1 1z\"></path>\n",
       "<path d=\"M23 18h-14c-0.552 0-1-0.448-1-1s0.448-1 1-1h14c0.552 0 1 0.448 1 1s-0.448 1-1 1z\"></path>\n",
       "</symbol>\n",
       "</defs>\n",
       "</svg>\n",
       "<style>/* CSS stylesheet for displaying xarray objects in jupyterlab.\n",
       " *\n",
       " */\n",
       "\n",
       ":root {\n",
       "  --xr-font-color0: var(--jp-content-font-color0, rgba(0, 0, 0, 1));\n",
       "  --xr-font-color2: var(--jp-content-font-color2, rgba(0, 0, 0, 0.54));\n",
       "  --xr-font-color3: var(--jp-content-font-color3, rgba(0, 0, 0, 0.38));\n",
       "  --xr-border-color: var(--jp-border-color2, #e0e0e0);\n",
       "  --xr-disabled-color: var(--jp-layout-color3, #bdbdbd);\n",
       "  --xr-background-color: var(--jp-layout-color0, white);\n",
       "  --xr-background-color-row-even: var(--jp-layout-color1, white);\n",
       "  --xr-background-color-row-odd: var(--jp-layout-color2, #eeeeee);\n",
       "}\n",
       "\n",
       "html[theme=dark],\n",
       "body.vscode-dark {\n",
       "  --xr-font-color0: rgba(255, 255, 255, 1);\n",
       "  --xr-font-color2: rgba(255, 255, 255, 0.54);\n",
       "  --xr-font-color3: rgba(255, 255, 255, 0.38);\n",
       "  --xr-border-color: #1F1F1F;\n",
       "  --xr-disabled-color: #515151;\n",
       "  --xr-background-color: #111111;\n",
       "  --xr-background-color-row-even: #111111;\n",
       "  --xr-background-color-row-odd: #313131;\n",
       "}\n",
       "\n",
       ".xr-wrap {\n",
       "  display: block;\n",
       "  min-width: 300px;\n",
       "  max-width: 700px;\n",
       "}\n",
       "\n",
       ".xr-text-repr-fallback {\n",
       "  /* fallback to plain text repr when CSS is not injected (untrusted notebook) */\n",
       "  display: none;\n",
       "}\n",
       "\n",
       ".xr-header {\n",
       "  padding-top: 6px;\n",
       "  padding-bottom: 6px;\n",
       "  margin-bottom: 4px;\n",
       "  border-bottom: solid 1px var(--xr-border-color);\n",
       "}\n",
       "\n",
       ".xr-header > div,\n",
       ".xr-header > ul {\n",
       "  display: inline;\n",
       "  margin-top: 0;\n",
       "  margin-bottom: 0;\n",
       "}\n",
       "\n",
       ".xr-obj-type,\n",
       ".xr-array-name {\n",
       "  margin-left: 2px;\n",
       "  margin-right: 10px;\n",
       "}\n",
       "\n",
       ".xr-obj-type {\n",
       "  color: var(--xr-font-color2);\n",
       "}\n",
       "\n",
       ".xr-sections {\n",
       "  padding-left: 0 !important;\n",
       "  display: grid;\n",
       "  grid-template-columns: 150px auto auto 1fr 20px 20px;\n",
       "}\n",
       "\n",
       ".xr-section-item {\n",
       "  display: contents;\n",
       "}\n",
       "\n",
       ".xr-section-item input {\n",
       "  display: none;\n",
       "}\n",
       "\n",
       ".xr-section-item input + label {\n",
       "  color: var(--xr-disabled-color);\n",
       "}\n",
       "\n",
       ".xr-section-item input:enabled + label {\n",
       "  cursor: pointer;\n",
       "  color: var(--xr-font-color2);\n",
       "}\n",
       "\n",
       ".xr-section-item input:enabled + label:hover {\n",
       "  color: var(--xr-font-color0);\n",
       "}\n",
       "\n",
       ".xr-section-summary {\n",
       "  grid-column: 1;\n",
       "  color: var(--xr-font-color2);\n",
       "  font-weight: 500;\n",
       "}\n",
       "\n",
       ".xr-section-summary > span {\n",
       "  display: inline-block;\n",
       "  padding-left: 0.5em;\n",
       "}\n",
       "\n",
       ".xr-section-summary-in:disabled + label {\n",
       "  color: var(--xr-font-color2);\n",
       "}\n",
       "\n",
       ".xr-section-summary-in + label:before {\n",
       "  display: inline-block;\n",
       "  content: '►';\n",
       "  font-size: 11px;\n",
       "  width: 15px;\n",
       "  text-align: center;\n",
       "}\n",
       "\n",
       ".xr-section-summary-in:disabled + label:before {\n",
       "  color: var(--xr-disabled-color);\n",
       "}\n",
       "\n",
       ".xr-section-summary-in:checked + label:before {\n",
       "  content: '▼';\n",
       "}\n",
       "\n",
       ".xr-section-summary-in:checked + label > span {\n",
       "  display: none;\n",
       "}\n",
       "\n",
       ".xr-section-summary,\n",
       ".xr-section-inline-details {\n",
       "  padding-top: 4px;\n",
       "  padding-bottom: 4px;\n",
       "}\n",
       "\n",
       ".xr-section-inline-details {\n",
       "  grid-column: 2 / -1;\n",
       "}\n",
       "\n",
       ".xr-section-details {\n",
       "  display: none;\n",
       "  grid-column: 1 / -1;\n",
       "  margin-bottom: 5px;\n",
       "}\n",
       "\n",
       ".xr-section-summary-in:checked ~ .xr-section-details {\n",
       "  display: contents;\n",
       "}\n",
       "\n",
       ".xr-array-wrap {\n",
       "  grid-column: 1 / -1;\n",
       "  display: grid;\n",
       "  grid-template-columns: 20px auto;\n",
       "}\n",
       "\n",
       ".xr-array-wrap > label {\n",
       "  grid-column: 1;\n",
       "  vertical-align: top;\n",
       "}\n",
       "\n",
       ".xr-preview {\n",
       "  color: var(--xr-font-color3);\n",
       "}\n",
       "\n",
       ".xr-array-preview,\n",
       ".xr-array-data {\n",
       "  padding: 0 5px !important;\n",
       "  grid-column: 2;\n",
       "}\n",
       "\n",
       ".xr-array-data,\n",
       ".xr-array-in:checked ~ .xr-array-preview {\n",
       "  display: none;\n",
       "}\n",
       "\n",
       ".xr-array-in:checked ~ .xr-array-data,\n",
       ".xr-array-preview {\n",
       "  display: inline-block;\n",
       "}\n",
       "\n",
       ".xr-dim-list {\n",
       "  display: inline-block !important;\n",
       "  list-style: none;\n",
       "  padding: 0 !important;\n",
       "  margin: 0;\n",
       "}\n",
       "\n",
       ".xr-dim-list li {\n",
       "  display: inline-block;\n",
       "  padding: 0;\n",
       "  margin: 0;\n",
       "}\n",
       "\n",
       ".xr-dim-list:before {\n",
       "  content: '(';\n",
       "}\n",
       "\n",
       ".xr-dim-list:after {\n",
       "  content: ')';\n",
       "}\n",
       "\n",
       ".xr-dim-list li:not(:last-child):after {\n",
       "  content: ',';\n",
       "  padding-right: 5px;\n",
       "}\n",
       "\n",
       ".xr-has-index {\n",
       "  font-weight: bold;\n",
       "}\n",
       "\n",
       ".xr-var-list,\n",
       ".xr-var-item {\n",
       "  display: contents;\n",
       "}\n",
       "\n",
       ".xr-var-item > div,\n",
       ".xr-var-item label,\n",
       ".xr-var-item > .xr-var-name span {\n",
       "  background-color: var(--xr-background-color-row-even);\n",
       "  margin-bottom: 0;\n",
       "}\n",
       "\n",
       ".xr-var-item > .xr-var-name:hover span {\n",
       "  padding-right: 5px;\n",
       "}\n",
       "\n",
       ".xr-var-list > li:nth-child(odd) > div,\n",
       ".xr-var-list > li:nth-child(odd) > label,\n",
       ".xr-var-list > li:nth-child(odd) > .xr-var-name span {\n",
       "  background-color: var(--xr-background-color-row-odd);\n",
       "}\n",
       "\n",
       ".xr-var-name {\n",
       "  grid-column: 1;\n",
       "}\n",
       "\n",
       ".xr-var-dims {\n",
       "  grid-column: 2;\n",
       "}\n",
       "\n",
       ".xr-var-dtype {\n",
       "  grid-column: 3;\n",
       "  text-align: right;\n",
       "  color: var(--xr-font-color2);\n",
       "}\n",
       "\n",
       ".xr-var-preview {\n",
       "  grid-column: 4;\n",
       "}\n",
       "\n",
       ".xr-var-name,\n",
       ".xr-var-dims,\n",
       ".xr-var-dtype,\n",
       ".xr-preview,\n",
       ".xr-attrs dt {\n",
       "  white-space: nowrap;\n",
       "  overflow: hidden;\n",
       "  text-overflow: ellipsis;\n",
       "  padding-right: 10px;\n",
       "}\n",
       "\n",
       ".xr-var-name:hover,\n",
       ".xr-var-dims:hover,\n",
       ".xr-var-dtype:hover,\n",
       ".xr-attrs dt:hover {\n",
       "  overflow: visible;\n",
       "  width: auto;\n",
       "  z-index: 1;\n",
       "}\n",
       "\n",
       ".xr-var-attrs,\n",
       ".xr-var-data {\n",
       "  display: none;\n",
       "  background-color: var(--xr-background-color) !important;\n",
       "  padding-bottom: 5px !important;\n",
       "}\n",
       "\n",
       ".xr-var-attrs-in:checked ~ .xr-var-attrs,\n",
       ".xr-var-data-in:checked ~ .xr-var-data {\n",
       "  display: block;\n",
       "}\n",
       "\n",
       ".xr-var-data > table {\n",
       "  float: right;\n",
       "}\n",
       "\n",
       ".xr-var-name span,\n",
       ".xr-var-data,\n",
       ".xr-attrs {\n",
       "  padding-left: 25px !important;\n",
       "}\n",
       "\n",
       ".xr-attrs,\n",
       ".xr-var-attrs,\n",
       ".xr-var-data {\n",
       "  grid-column: 1 / -1;\n",
       "}\n",
       "\n",
       "dl.xr-attrs {\n",
       "  padding: 0;\n",
       "  margin: 0;\n",
       "  display: grid;\n",
       "  grid-template-columns: 125px auto;\n",
       "}\n",
       "\n",
       ".xr-attrs dt, dd {\n",
       "  padding: 0;\n",
       "  margin: 0;\n",
       "  float: left;\n",
       "  padding-right: 10px;\n",
       "  width: auto;\n",
       "}\n",
       "\n",
       ".xr-attrs dt {\n",
       "  font-weight: normal;\n",
       "  grid-column: 1;\n",
       "}\n",
       "\n",
       ".xr-attrs dt:hover span {\n",
       "  display: inline-block;\n",
       "  background: var(--xr-background-color);\n",
       "  padding-right: 10px;\n",
       "}\n",
       "\n",
       ".xr-attrs dd {\n",
       "  grid-column: 2;\n",
       "  white-space: pre-wrap;\n",
       "  word-break: break-all;\n",
       "}\n",
       "\n",
       ".xr-icon-database,\n",
       ".xr-icon-file-text2 {\n",
       "  display: inline-block;\n",
       "  vertical-align: middle;\n",
       "  width: 1em;\n",
       "  height: 1.5em !important;\n",
       "  stroke-width: 0;\n",
       "  stroke: currentColor;\n",
       "  fill: currentColor;\n",
       "}\n",
       "</style><pre class='xr-text-repr-fallback'>&lt;xarray.DataArray (y: 6564, x: 2144)&gt;\n",
       "array([[nan, nan, nan, ..., nan, nan, nan],\n",
       "       [nan, nan, nan, ..., nan, nan, nan],\n",
       "       [nan, nan, nan, ..., nan, nan, nan],\n",
       "       ...,\n",
       "       [nan, nan, nan, ..., nan, nan, nan],\n",
       "       [nan, nan, nan, ..., nan, nan, nan],\n",
       "       [nan, nan, nan, ..., nan, nan, nan]])\n",
       "Coordinates:\n",
       "    band     int64 1\n",
       "  * y        (y) float64 -3.383e+06 -3.383e+06 ... -3.547e+06 -3.547e+06\n",
       "  * x        (x) float64 1.438e+06 1.438e+06 1.438e+06 ... 1.492e+06 1.492e+06\n",
       "Attributes:\n",
       "    transform:      (25.0, 0.0, 1438421.0013571545, 0.0, -25.0, -3382788.8746...\n",
       "    crs:            +init=epsg:3577\n",
       "    res:            (25.0, 25.0)\n",
       "    is_tiled:       0\n",
       "    nodatavals:     (0.0,)\n",
       "    scales:         (1.0,)\n",
       "    offsets:        (0.0,)\n",
       "    AREA_OR_POINT:  Area</pre><div class='xr-wrap' hidden><div class='xr-header'><div class='xr-obj-type'>xarray.DataArray</div><div class='xr-array-name'></div><ul class='xr-dim-list'><li><span class='xr-has-index'>y</span>: 6564</li><li><span class='xr-has-index'>x</span>: 2144</li></ul></div><ul class='xr-sections'><li class='xr-section-item'><div class='xr-array-wrap'><input id='section-10a8b7bb-12c1-4e11-8bdd-a3bc91059523' class='xr-array-in' type='checkbox' checked><label for='section-10a8b7bb-12c1-4e11-8bdd-a3bc91059523' title='Show/hide data repr'><svg class='icon xr-icon-database'><use xlink:href='#icon-database'></use></svg></label><div class='xr-array-preview xr-preview'><span>nan nan nan nan nan nan nan nan ... nan nan nan nan nan nan nan nan</span></div><div class='xr-array-data'><pre>array([[nan, nan, nan, ..., nan, nan, nan],\n",
       "       [nan, nan, nan, ..., nan, nan, nan],\n",
       "       [nan, nan, nan, ..., nan, nan, nan],\n",
       "       ...,\n",
       "       [nan, nan, nan, ..., nan, nan, nan],\n",
       "       [nan, nan, nan, ..., nan, nan, nan],\n",
       "       [nan, nan, nan, ..., nan, nan, nan]])</pre></div></div></li><li class='xr-section-item'><input id='section-ddd08bb9-4d02-4e9f-960e-26e77ed97d67' class='xr-section-summary-in' type='checkbox'  checked><label for='section-ddd08bb9-4d02-4e9f-960e-26e77ed97d67' class='xr-section-summary' >Coordinates: <span>(3)</span></label><div class='xr-section-inline-details'></div><div class='xr-section-details'><ul class='xr-var-list'><li class='xr-var-item'><div class='xr-var-name'><span>band</span></div><div class='xr-var-dims'>()</div><div class='xr-var-dtype'>int64</div><div class='xr-var-preview xr-preview'>1</div><input id='attrs-a051cede-fb73-4095-9139-0783665965a0' class='xr-var-attrs-in' type='checkbox' disabled><label for='attrs-a051cede-fb73-4095-9139-0783665965a0' title='Show/Hide attributes'><svg class='icon xr-icon-file-text2'><use xlink:href='#icon-file-text2'></use></svg></label><input id='data-d52f1657-dd07-44c7-954e-f428d76790c4' class='xr-var-data-in' type='checkbox'><label for='data-d52f1657-dd07-44c7-954e-f428d76790c4' title='Show/Hide data repr'><svg class='icon xr-icon-database'><use xlink:href='#icon-database'></use></svg></label><div class='xr-var-attrs'><dl class='xr-attrs'></dl></div><div class='xr-var-data'><pre>array(1)</pre></div></li><li class='xr-var-item'><div class='xr-var-name'><span class='xr-has-index'>y</span></div><div class='xr-var-dims'>(y)</div><div class='xr-var-dtype'>float64</div><div class='xr-var-preview xr-preview'>-3.383e+06 ... -3.547e+06</div><input id='attrs-ecd6f8ef-b61c-4984-b005-3d38515f1884' class='xr-var-attrs-in' type='checkbox' disabled><label for='attrs-ecd6f8ef-b61c-4984-b005-3d38515f1884' title='Show/Hide attributes'><svg class='icon xr-icon-file-text2'><use xlink:href='#icon-file-text2'></use></svg></label><input id='data-89a9b299-df84-45c6-8cbd-5d2964144157' class='xr-var-data-in' type='checkbox'><label for='data-89a9b299-df84-45c6-8cbd-5d2964144157' title='Show/Hide data repr'><svg class='icon xr-icon-database'><use xlink:href='#icon-database'></use></svg></label><div class='xr-var-attrs'><dl class='xr-attrs'></dl></div><div class='xr-var-data'><pre>array([-3382801.374624, -3382826.374624, -3382851.374624, ..., -3546826.374624,\n",
       "       -3546851.374624, -3546876.374624])</pre></div></li><li class='xr-var-item'><div class='xr-var-name'><span class='xr-has-index'>x</span></div><div class='xr-var-dims'>(x)</div><div class='xr-var-dtype'>float64</div><div class='xr-var-preview xr-preview'>1.438e+06 1.438e+06 ... 1.492e+06</div><input id='attrs-63d41725-19d0-418e-a070-749d318fe5c9' class='xr-var-attrs-in' type='checkbox' disabled><label for='attrs-63d41725-19d0-418e-a070-749d318fe5c9' title='Show/Hide attributes'><svg class='icon xr-icon-file-text2'><use xlink:href='#icon-file-text2'></use></svg></label><input id='data-59d6a575-6426-4d2d-8056-fca6e4ed6110' class='xr-var-data-in' type='checkbox'><label for='data-59d6a575-6426-4d2d-8056-fca6e4ed6110' title='Show/Hide data repr'><svg class='icon xr-icon-database'><use xlink:href='#icon-database'></use></svg></label><div class='xr-var-attrs'><dl class='xr-attrs'></dl></div><div class='xr-var-data'><pre>array([1438433.501357, 1438458.501357, 1438483.501357, ..., 1491958.501357,\n",
       "       1491983.501357, 1492008.501357])</pre></div></li></ul></div></li><li class='xr-section-item'><input id='section-e24009c6-a6fb-478e-bcc2-bc841b6e75e8' class='xr-section-summary-in' type='checkbox'  checked><label for='section-e24009c6-a6fb-478e-bcc2-bc841b6e75e8' class='xr-section-summary' >Attributes: <span>(8)</span></label><div class='xr-section-inline-details'></div><div class='xr-section-details'><dl class='xr-attrs'><dt><span>transform :</span></dt><dd>(25.0, 0.0, 1438421.0013571545, 0.0, -25.0, -3382788.8746242616)</dd><dt><span>crs :</span></dt><dd>+init=epsg:3577</dd><dt><span>res :</span></dt><dd>(25.0, 25.0)</dd><dt><span>is_tiled :</span></dt><dd>0</dd><dt><span>nodatavals :</span></dt><dd>(0.0,)</dd><dt><span>scales :</span></dt><dd>(1.0,)</dd><dt><span>offsets :</span></dt><dd>(0.0,)</dd><dt><span>AREA_OR_POINT :</span></dt><dd>Area</dd></dl></div></li></ul></div></div>"
      ],
      "text/plain": [
       "<xarray.DataArray (y: 6564, x: 2144)>\n",
       "array([[nan, nan, nan, ..., nan, nan, nan],\n",
       "       [nan, nan, nan, ..., nan, nan, nan],\n",
       "       [nan, nan, nan, ..., nan, nan, nan],\n",
       "       ...,\n",
       "       [nan, nan, nan, ..., nan, nan, nan],\n",
       "       [nan, nan, nan, ..., nan, nan, nan],\n",
       "       [nan, nan, nan, ..., nan, nan, nan]])\n",
       "Coordinates:\n",
       "    band     int64 1\n",
       "  * y        (y) float64 -3.383e+06 -3.383e+06 ... -3.547e+06 -3.547e+06\n",
       "  * x        (x) float64 1.438e+06 1.438e+06 1.438e+06 ... 1.492e+06 1.492e+06\n",
       "Attributes:\n",
       "    transform:      (25.0, 0.0, 1438421.0013571545, 0.0, -25.0, -3382788.8746...\n",
       "    crs:            +init=epsg:3577\n",
       "    res:            (25.0, 25.0)\n",
       "    is_tiled:       0\n",
       "    nodatavals:     (0.0,)\n",
       "    scales:         (1.0,)\n",
       "    offsets:        (0.0,)\n",
       "    AREA_OR_POINT:  Area"
      ]
     },
     "execution_count": 61,
     "metadata": {},
     "output_type": "execute_result"
    }
   ],
   "source": [
    "cewo_fix2"
   ]
  },
  {
   "cell_type": "code",
   "execution_count": 12,
   "metadata": {},
   "outputs": [],
   "source": [
    "#write this out as a cog\n",
    "#write_cog(cewo_fix2, fname='/g/data/r78/rjd547/CEWO_Project/Macquarie_Marsh/bexnessresults/thresholded_wetness/clipped/cewo_20160628_extents_2022b.tif')"
   ]
  },
  {
   "cell_type": "markdown",
   "metadata": {},
   "source": [
    "## Build the loop to load our rasters and calculate our %coverage"
   ]
  },
  {
   "cell_type": "markdown",
   "metadata": {},
   "source": [
    "thresholds are our chosen thresholds for the TCW; these need to match the filenames, and are not set here."
   ]
  },
  {
   "cell_type": "code",
   "execution_count": 13,
   "metadata": {
    "ExecuteTime": {
     "end_time": "2018-07-27T05:51:34.238909Z",
     "start_time": "2018-07-27T05:51:34.224451Z"
    }
   },
   "outputs": [],
   "source": [
    "thresholds = ['-0','-100','-200','-300','-400','-500','-600']"
   ]
  },
  {
   "cell_type": "markdown",
   "metadata": {},
   "source": [
    "make a dataframe to fill with our results"
   ]
  },
  {
   "cell_type": "code",
   "execution_count": 63,
   "metadata": {
    "ExecuteTime": {
     "end_time": "2018-07-27T05:51:34.252032Z",
     "start_time": "2018-07-27T05:51:34.241126Z"
    }
   },
   "outputs": [],
   "source": [
    "comparison_df_pixels = pd.DataFrame(columns=['TCW','notTCW','%ofwet','%ofdry'],index=thresholds)\n",
    "comparison_df_area = pd.DataFrame(columns=['TCW km^2','notTCW km^2','%ofwet km^2', '%ofdrykm^2'],index=thresholds)"
   ]
  },
  {
   "cell_type": "code",
   "execution_count": 65,
   "metadata": {},
   "outputs": [],
   "source": [
    "#comparison_df_area"
   ]
  },
  {
   "cell_type": "code",
   "execution_count": 16,
   "metadata": {},
   "outputs": [],
   "source": [
    "#Goes through and opens each thresholded tif file. calculates the area and adds it to a df."
   ]
  },
  {
   "cell_type": "code",
   "execution_count": 20,
   "metadata": {},
   "outputs": [
    {
     "name": "stdout",
     "output_type": "stream",
     "text": [
      "/g/data/r78/rjd547/CEWO_Project/Macquarie_Marsh/bexnessresults/thresholded_wetness/clipped/t-0_Mac_14_-35_20160627__20160629_clipped.tif\n",
      "/g/data/r78/rjd547/CEWO_Project/Macquarie_Marsh/bexnessresults/thresholded_wetness/clipped/t-100_Mac_14_-35_20160627__20160629_clipped.tif\n",
      "/g/data/r78/rjd547/CEWO_Project/Macquarie_Marsh/bexnessresults/thresholded_wetness/clipped/t-200_Mac_14_-35_20160627__20160629_clipped.tif\n",
      "/g/data/r78/rjd547/CEWO_Project/Macquarie_Marsh/bexnessresults/thresholded_wetness/clipped/t-300_Mac_14_-35_20160627__20160629_clipped.tif\n",
      "/g/data/r78/rjd547/CEWO_Project/Macquarie_Marsh/bexnessresults/thresholded_wetness/clipped/t-400_Mac_14_-35_20160627__20160629_clipped.tif\n",
      "/g/data/r78/rjd547/CEWO_Project/Macquarie_Marsh/bexnessresults/thresholded_wetness/clipped/t-500_Mac_14_-35_20160627__20160629_clipped.tif\n",
      "/g/data/r78/rjd547/CEWO_Project/Macquarie_Marsh/bexnessresults/thresholded_wetness/clipped/t-600_Mac_14_-35_20160627__20160629_clipped.tif\n"
     ]
    }
   ],
   "source": [
    "#make a list of the files thresholdFiles =[]\n",
    "for i in range(0, len(thresholds)):\n",
    "    thresholdFiles.append('/g/data/r78/rjd547/CEWO_Project/Macquarie_Marsh/bexnessresults/thresholded_wetness/clipped/t{0}_Mac_14_-35_20160627__20160629_clipped.tif'.format(thresholds[i]))\n",
    "    print (thresholdFiles[i])"
   ]
  },
  {
   "cell_type": "code",
   "execution_count": 38,
   "metadata": {},
   "outputs": [],
   "source": [
    "#test1 = xr.open_rasterio(thresholdFiles[i])"
   ]
  },
  {
   "cell_type": "code",
   "execution_count": 40,
   "metadata": {},
   "outputs": [],
   "source": [
    "#test2 = test1.to_dataset(name=thresholds[i])"
   ]
  },
  {
   "cell_type": "code",
   "execution_count": 43,
   "metadata": {},
   "outputs": [],
   "source": [
    "#test2[str(thresholds[i-1])]=xr.open_rasterio(thresholdFiles[i-1]) #add each additional thing to the dataset. "
   ]
  },
  {
   "cell_type": "code",
   "execution_count": 62,
   "metadata": {},
   "outputs": [],
   "source": [
    "#test2"
   ]
  },
  {
   "cell_type": "code",
   "execution_count": 67,
   "metadata": {},
   "outputs": [
    {
     "name": "stdout",
     "output_type": "stream",
     "text": [
      "/g/data/r78/rjd547/CEWO_Project/Macquarie_Marsh/bexnessresults/thresholded_wetness/clipped/t-0_Mac_14_-35_20160627__20160629_clipped.tif\n",
      "<xarray.DataArray ()>\n",
      "array(8795.76)\n",
      "/g/data/r78/rjd547/CEWO_Project/Macquarie_Marsh/bexnessresults/thresholded_wetness/clipped/t-100_Mac_14_-35_20160627__20160629_clipped.tif\n",
      "<xarray.DataArray ()>\n",
      "array(8795.76)\n",
      "/g/data/r78/rjd547/CEWO_Project/Macquarie_Marsh/bexnessresults/thresholded_wetness/clipped/t-200_Mac_14_-35_20160627__20160629_clipped.tif\n",
      "<xarray.DataArray ()>\n",
      "array(8795.76)\n",
      "/g/data/r78/rjd547/CEWO_Project/Macquarie_Marsh/bexnessresults/thresholded_wetness/clipped/t-300_Mac_14_-35_20160627__20160629_clipped.tif\n",
      "<xarray.DataArray ()>\n",
      "array(8795.76)\n",
      "/g/data/r78/rjd547/CEWO_Project/Macquarie_Marsh/bexnessresults/thresholded_wetness/clipped/t-400_Mac_14_-35_20160627__20160629_clipped.tif\n",
      "<xarray.DataArray ()>\n",
      "array(8795.76)\n",
      "/g/data/r78/rjd547/CEWO_Project/Macquarie_Marsh/bexnessresults/thresholded_wetness/clipped/t-500_Mac_14_-35_20160627__20160629_clipped.tif\n",
      "<xarray.DataArray ()>\n",
      "array(8795.76)\n",
      "/g/data/r78/rjd547/CEWO_Project/Macquarie_Marsh/bexnessresults/thresholded_wetness/clipped/t-600_Mac_14_-35_20160627__20160629_clipped.tif\n",
      "<xarray.DataArray ()>\n",
      "array(8795.76)\n"
     ]
    }
   ],
   "source": [
    "#make a list of the files corresponding to our set thresholds\n",
    "thresholdFiles =[]\n",
    "for i in range(0, len(thresholds)):\n",
    "    thresholdFiles.append('/g/data/r78/rjd547/CEWO_Project/Macquarie_Marsh/bexnessresults/thresholded_wetness/clipped/t{0}_Mac_14_-35_20160627__20160629_clipped.tif'.format(thresholds[i]))\n",
    "    print (thresholdFiles[i])\n",
    "    \n",
    "    ThresholdData = xr.open_rasterio(thresholdFiles[i]) #thresholded TCW\n",
    "    #count total pixels\n",
    "    totalcount = xr.open_rasterio(thresholdFiles[i]).count()\n",
    "    notarea = np.round((totalcount*25*25)/(1000*1000),2)\n",
    "    print(notarea)\n",
    "#     ThresholdData=ThresholdData.where(ThresholdData!=-3.4028234663852886e+38)\n",
    "#     ThresholdData=ThresholdData.where(ThresholdData!=0)\n",
    "#     ThresholdData=ThresholdData.where(cewo_fix.data!=2.0)\n",
    "#     thresholdCount=ThresholdData.where(ThresholdData==1.).count()\n",
    "#     #thresholdarea=numpy.round((thresholdCount*25*25)/(1000*1000),2)\n",
    "#     thresholdarea=np.round((thresholdCount*25*25)/(1000*1000),2)\n",
    "#     both = cewo_fix2.where(ThresholdData==1)\n",
    "#     bothCount = both.count()\n",
    "#     #botharea=numpy.round((thresholdCount*25*25)/(1000*1000),2)\n",
    "#     botharea=np.round((bothCount*25*25)/(1000*1000),2)\n",
    "#     comparison_df_pixels.loc[thresholds[i]]=[thresholdCount.data, cewoCount.data, bothCount.data, np.round(((bothCount/cewoCount)*100).data,decimals=2)]\n",
    "#     comparison_df_area.loc[thresholds[i]]=[thresholdarea.data, cewoarea.data, botharea.data, np.round(((botharea/cewoarea)*100).data,decimals=2)]\n",
    "#     print(botharea)\n",
    "#     plt.clf()\n",
    "#     cewo_fix2.plot(cmap='Greens', vmin=0,vmax=1)\n",
    "#     ThresholdData.plot(cmap='viridis',vmin=0,vmax=1)\n",
    "#     both.plot(cmap='Wistia',vmin=0,vmax=1)\n",
    "#     print('ready to save plots')\n",
    "    \n",
    "#     %matplotlib inline\n",
    "#     plt.clf()\n",
    "#     fig = plt.figure(figsize=(10,11))\n",
    "#     ax=plt.gca()\n",
    "#     cewo_fix2.plot(cmap='Greens', vmin=0,vmax=1, alpha=0.7,add_colorbar=False)\n",
    "#     ThresholdData.plot(cmap='Greens',vmin=0,vmax=3,alpha=0.7,add_colorbar=False)\n",
    "#     both.plot(cmap='winter',vmin=0,vmax=1, alpha=0.7,add_colorbar=False)\n",
    "#     plt.title(\"TCW threshold \"+thresholds[i])\n",
    "#     ax.set_ylim((-3500000, -3400000))\n",
    "#     print('ready to save plots')\n",
    "#     #plt.savefig('/g/data/r78/rjd547/Macquarie_Marsh/bexnessresults/plots2022/'+\"3TCW_threshold_\"+thresholds[i]+100321'.png')\n",
    "#     #plt.show()"
   ]
  },
  {
   "cell_type": "code",
   "execution_count": 17,
   "metadata": {
    "ExecuteTime": {
     "end_time": "2018-07-27T05:56:12.033774Z",
     "start_time": "2018-07-27T05:51:34.254733Z"
    }
   },
   "outputs": [
    {
     "name": "stdout",
     "output_type": "stream",
     "text": [
      "/g/data/r78/rjd547/CEWO_Project/Macquarie_Marsh/bexnessresults/thresholded_wetness/clipped/t-0_Mac_14_-35_20160627__20160629_clipped.tif\n",
      "<xarray.DataArray ()>\n",
      "array(24.3)\n",
      "ready to save plots\n",
      "ready to save plots\n",
      "/g/data/r78/rjd547/CEWO_Project/Macquarie_Marsh/bexnessresults/thresholded_wetness/clipped/t-100_Mac_14_-35_20160627__20160629_clipped.tif\n",
      "<xarray.DataArray ()>\n",
      "array(32.15)\n",
      "ready to save plots\n",
      "ready to save plots\n",
      "/g/data/r78/rjd547/CEWO_Project/Macquarie_Marsh/bexnessresults/thresholded_wetness/clipped/t-200_Mac_14_-35_20160627__20160629_clipped.tif\n",
      "<xarray.DataArray ()>\n",
      "array(41.26)\n",
      "ready to save plots\n",
      "ready to save plots\n",
      "/g/data/r78/rjd547/CEWO_Project/Macquarie_Marsh/bexnessresults/thresholded_wetness/clipped/t-300_Mac_14_-35_20160627__20160629_clipped.tif\n",
      "<xarray.DataArray ()>\n",
      "array(49.64)\n",
      "ready to save plots\n",
      "ready to save plots\n",
      "/g/data/r78/rjd547/CEWO_Project/Macquarie_Marsh/bexnessresults/thresholded_wetness/clipped/t-400_Mac_14_-35_20160627__20160629_clipped.tif\n",
      "<xarray.DataArray ()>\n",
      "array(56.98)\n",
      "ready to save plots\n",
      "ready to save plots\n",
      "/g/data/r78/rjd547/CEWO_Project/Macquarie_Marsh/bexnessresults/thresholded_wetness/clipped/t-500_Mac_14_-35_20160627__20160629_clipped.tif\n",
      "<xarray.DataArray ()>\n",
      "array(63.73)\n",
      "ready to save plots\n",
      "ready to save plots\n",
      "/g/data/r78/rjd547/CEWO_Project/Macquarie_Marsh/bexnessresults/thresholded_wetness/clipped/t-600_Mac_14_-35_20160627__20160629_clipped.tif\n",
      "<xarray.DataArray ()>\n",
      "array(69.79)\n",
      "ready to save plots\n",
      "ready to save plots\n"
     ]
    },
    {
     "data": {
      "text/plain": [
       "<Figure size 432x288 with 0 Axes>"
      ]
     },
     "metadata": {},
     "output_type": "display_data"
    },
    {
     "data": {
      "image/png": "[encoded data removed]",
      "text/plain": [
       "<Figure size 720x792 with 1 Axes>"
      ]
     },
     "metadata": {
      "needs_background": "light"
     },
     "output_type": "display_data"
    }
   ],
   "source": [
    "# #make a list of the files corresponding to our set thresholds\n",
    "# thresholdFiles =[]\n",
    "# for i in range(0, len(thresholds)):\n",
    "#     thresholdFiles.append('/g/data/r78/rjd547/CEWO_Project/Macquarie_Marsh/bexnessresults/thresholded_wetness/clipped/t{0}_Mac_14_-35_20160627__20160629_clipped.tif'.format(thresholds[i]))\n",
    "#     print (thresholdFiles[i])\n",
    "    \n",
    "#     ThresholdData = xr.open_rasterio(thresholdFiles[i]) #thresholded TCW\n",
    "#     ThresholdData=ThresholdData.where(ThresholdData!=-3.4028234663852886e+38)\n",
    "#     ThresholdData=ThresholdData.where(ThresholdData!=0)\n",
    "#     ThresholdData=ThresholdData.where(cewo_fix.data!=2.0)\n",
    "#     thresholdCount=ThresholdData.where(ThresholdData==1.).count()\n",
    "#     #thresholdarea=numpy.round((thresholdCount*25*25)/(1000*1000),2)\n",
    "#     thresholdarea=np.round((thresholdCount*25*25)/(1000*1000),2)\n",
    "#     both = cewo_fix2.where(ThresholdData==1)\n",
    "#     bothCount = both.count()\n",
    "#     #botharea=numpy.round((thresholdCount*25*25)/(1000*1000),2)\n",
    "#     botharea=np.round((bothCount*25*25)/(1000*1000),2)\n",
    "#     comparison_df_pixels.loc[thresholds[i]]=[thresholdCount.data, cewoCount.data, bothCount.data, np.round(((bothCount/cewoCount)*100).data,decimals=2)]\n",
    "#     comparison_df_area.loc[thresholds[i]]=[thresholdarea.data, cewoarea.data, botharea.data, np.round(((botharea/cewoarea)*100).data,decimals=2)]\n",
    "#     print(botharea)\n",
    "#     plt.clf()\n",
    "#     cewo_fix2.plot(cmap='Greens', vmin=0,vmax=1)\n",
    "#     ThresholdData.plot(cmap='viridis',vmin=0,vmax=1)\n",
    "#     both.plot(cmap='Wistia',vmin=0,vmax=1)\n",
    "#     print('ready to save plots')\n",
    "    \n",
    "#     %matplotlib inline\n",
    "#     plt.clf()\n",
    "#     fig = plt.figure(figsize=(10,11))\n",
    "#     ax=plt.gca()\n",
    "#     cewo_fix2.plot(cmap='Greens', vmin=0,vmax=1, alpha=0.7,add_colorbar=False)\n",
    "#     ThresholdData.plot(cmap='Greens',vmin=0,vmax=3,alpha=0.7,add_colorbar=False)\n",
    "#     both.plot(cmap='winter',vmin=0,vmax=1, alpha=0.7,add_colorbar=False)\n",
    "#     plt.title(\"TCW threshold \"+thresholds[i])\n",
    "#     ax.set_ylim((-3500000, -3400000))\n",
    "#     print('ready to save plots')\n",
    "#     #plt.savefig('/g/data/r78/rjd547/Macquarie_Marsh/bexnessresults/plots2022/'+\"3TCW_threshold_\"+thresholds[i]+100321'.png')\n",
    "#     #plt.show()"
   ]
  },
  {
   "cell_type": "code",
   "execution_count": 18,
   "metadata": {},
   "outputs": [
    {
     "data": {
      "text/html": [
       "<div>\n",
       "<style scoped>\n",
       "    .dataframe tbody tr th:only-of-type {\n",
       "        vertical-align: middle;\n",
       "    }\n",
       "\n",
       "    .dataframe tbody tr th {\n",
       "        vertical-align: top;\n",
       "    }\n",
       "\n",
       "    .dataframe thead th {\n",
       "        text-align: right;\n",
       "    }\n",
       "</style>\n",
       "<table border=\"1\" class=\"dataframe\">\n",
       "  <thead>\n",
       "    <tr style=\"text-align: right;\">\n",
       "      <th></th>\n",
       "      <th>TCW km^2</th>\n",
       "      <th>CEWO km^2</th>\n",
       "      <th>both km^2</th>\n",
       "      <th>%ofCEWO</th>\n",
       "    </tr>\n",
       "  </thead>\n",
       "  <tbody>\n",
       "    <tr>\n",
       "      <th>-0</th>\n",
       "      <td>27.98</td>\n",
       "      <td>99.27</td>\n",
       "      <td>24.3</td>\n",
       "      <td>24.48</td>\n",
       "    </tr>\n",
       "    <tr>\n",
       "      <th>-100</th>\n",
       "      <td>38.41</td>\n",
       "      <td>99.27</td>\n",
       "      <td>32.15</td>\n",
       "      <td>32.39</td>\n",
       "    </tr>\n",
       "    <tr>\n",
       "      <th>-200</th>\n",
       "      <td>53.51</td>\n",
       "      <td>99.27</td>\n",
       "      <td>41.26</td>\n",
       "      <td>41.56</td>\n",
       "    </tr>\n",
       "    <tr>\n",
       "      <th>-300</th>\n",
       "      <td>76.94</td>\n",
       "      <td>99.27</td>\n",
       "      <td>49.64</td>\n",
       "      <td>50.01</td>\n",
       "    </tr>\n",
       "    <tr>\n",
       "      <th>-400</th>\n",
       "      <td>120.51</td>\n",
       "      <td>99.27</td>\n",
       "      <td>56.98</td>\n",
       "      <td>57.4</td>\n",
       "    </tr>\n",
       "    <tr>\n",
       "      <th>-500</th>\n",
       "      <td>201.18</td>\n",
       "      <td>99.27</td>\n",
       "      <td>63.73</td>\n",
       "      <td>64.2</td>\n",
       "    </tr>\n",
       "    <tr>\n",
       "      <th>-600</th>\n",
       "      <td>360.96</td>\n",
       "      <td>99.27</td>\n",
       "      <td>69.79</td>\n",
       "      <td>70.3</td>\n",
       "    </tr>\n",
       "  </tbody>\n",
       "</table>\n",
       "</div>"
      ],
      "text/plain": [
       "     TCW km^2 CEWO km^2 both km^2 %ofCEWO\n",
       "-0      27.98     99.27      24.3   24.48\n",
       "-100    38.41     99.27     32.15   32.39\n",
       "-200    53.51     99.27     41.26   41.56\n",
       "-300    76.94     99.27     49.64   50.01\n",
       "-400   120.51     99.27     56.98    57.4\n",
       "-500   201.18     99.27     63.73    64.2\n",
       "-600   360.96     99.27     69.79    70.3"
      ]
     },
     "execution_count": 18,
     "metadata": {},
     "output_type": "execute_result"
    }
   ],
   "source": [
    "comparison_df_area"
   ]
  },
  {
   "cell_type": "code",
   "execution_count": 1,
   "metadata": {
    "ExecuteTime": {
     "end_time": "2018-07-27T03:43:40.688126Z",
     "start_time": "2018-07-27T03:43:39.881449Z"
    }
   },
   "outputs": [
    {
     "name": "stderr",
     "output_type": "stream",
     "text": [
      "Matplotlib is building the font cache using fc-list. This may take a moment.\n"
     ]
    },
    {
     "ename": "NameError",
     "evalue": "name 'plt' is not defined",
     "output_type": "error",
     "traceback": [
      "\u001b[0;31m---------------------------------------------------------------------------\u001b[0m",
      "\u001b[0;31mNameError\u001b[0m                                 Traceback (most recent call last)",
      "\u001b[0;32m<ipython-input-1-9fe81fc2f51a>\u001b[0m in \u001b[0;36m<module>\u001b[0;34m\u001b[0m\n\u001b[1;32m      1\u001b[0m \u001b[0mget_ipython\u001b[0m\u001b[0;34m(\u001b[0m\u001b[0;34m)\u001b[0m\u001b[0;34m.\u001b[0m\u001b[0mrun_line_magic\u001b[0m\u001b[0;34m(\u001b[0m\u001b[0;34m'matplotlib'\u001b[0m\u001b[0;34m,\u001b[0m \u001b[0;34m'inline'\u001b[0m\u001b[0;34m)\u001b[0m\u001b[0;34m\u001b[0m\u001b[0;34m\u001b[0m\u001b[0m\n\u001b[0;32m----> 2\u001b[0;31m \u001b[0mplt\u001b[0m\u001b[0;34m.\u001b[0m\u001b[0mclf\u001b[0m\u001b[0;34m(\u001b[0m\u001b[0;34m)\u001b[0m\u001b[0;34m\u001b[0m\u001b[0;34m\u001b[0m\u001b[0m\n\u001b[0m\u001b[1;32m      3\u001b[0m \u001b[0mfig\u001b[0m \u001b[0;34m=\u001b[0m \u001b[0mplt\u001b[0m\u001b[0;34m.\u001b[0m\u001b[0mfigure\u001b[0m\u001b[0;34m(\u001b[0m\u001b[0mfigsize\u001b[0m\u001b[0;34m=\u001b[0m\u001b[0;34m(\u001b[0m\u001b[0;36m10\u001b[0m\u001b[0;34m,\u001b[0m\u001b[0;36m11\u001b[0m\u001b[0;34m)\u001b[0m\u001b[0;34m)\u001b[0m\u001b[0;34m\u001b[0m\u001b[0;34m\u001b[0m\u001b[0m\n\u001b[1;32m      4\u001b[0m \u001b[0max\u001b[0m\u001b[0;34m=\u001b[0m\u001b[0mplt\u001b[0m\u001b[0;34m.\u001b[0m\u001b[0mgca\u001b[0m\u001b[0;34m(\u001b[0m\u001b[0;34m)\u001b[0m\u001b[0;34m\u001b[0m\u001b[0;34m\u001b[0m\u001b[0m\n\u001b[1;32m      5\u001b[0m \u001b[0;31m#ax.set_facecolor('xkcd:khaki')\u001b[0m\u001b[0;34m\u001b[0m\u001b[0;34m\u001b[0m\u001b[0;34m\u001b[0m\u001b[0m\n",
      "\u001b[0;31mNameError\u001b[0m: name 'plt' is not defined"
     ]
    }
   ],
   "source": [
    "%matplotlib inline\n",
    "plt.clf()\n",
    "fig = plt.figure(figsize=(10,11))\n",
    "ax=plt.gca()\n",
    "#ax.set_facecolor('xkcd:khaki')\n",
    "cewo_fix2.isel(x=range(0, len(cewo_fix2.x),10), y=range(0, len(cewo_fix2.y),10)).plot(cmap='Greens', vmin=0,vmax=1, alpha=0.5,add_colorbar=False)\n",
    "ThresholdData.isel(x=range(0, len(cewo_fix2.x),10), y=range(0, len(cewo_fix2.y),10)).plot(cmap='Greens',vmin=0,vmax=2,alpha=0.5,add_colorbar=False)\n",
    "both.isel(x=range(0, len(cewo_fix2.x),10), y=range(0, len(cewo_fix2.y),10)).plot(cmap='winter',vmin=0,vmax=1, alpha=0.5,add_colorbar=False)\n",
    "plt.title(\"TCW threshold \"+thresholds[i])\n",
    "ax.set_ylim((-3500000, -3400000))\n",
    "plt.show()"
   ]
  },
  {
   "cell_type": "code",
   "execution_count": null,
   "metadata": {},
   "outputs": [],
   "source": [
    "#write table to csv\n",
    "#plot."
   ]
  },
  {
   "cell_type": "code",
   "execution_count": null,
   "metadata": {
    "ExecuteTime": {
     "end_time": "2018-07-26T23:08:22.568829Z",
     "start_time": "2018-07-26T23:08:22.551398Z"
    }
   },
   "outputs": [],
   "source": [
    "#comparison_df_pixels.to_csv('/g/data/r78/rjd547/Macquarie_Marsh/bexnessresults/Pixel_Comparison_Table_2022.csv',)"
   ]
  },
  {
   "cell_type": "code",
   "execution_count": null,
   "metadata": {
    "ExecuteTime": {
     "end_time": "2018-07-26T08:07:01.026654Z",
     "start_time": "2018-07-26T08:07:01.017617Z"
    }
   },
   "outputs": [],
   "source": [
    "(91171/158833)*100"
   ]
  },
  {
   "cell_type": "code",
   "execution_count": 12,
   "metadata": {
    "ExecuteTime": {
     "end_time": "2018-07-27T06:27:32.287421Z",
     "start_time": "2018-07-27T06:27:32.159581Z"
    }
   },
   "outputs": [
    {
     "data": {
      "text/html": [
       "<div>\n",
       "<style scoped>\n",
       "    .dataframe tbody tr th:only-of-type {\n",
       "        vertical-align: middle;\n",
       "    }\n",
       "\n",
       "    .dataframe tbody tr th {\n",
       "        vertical-align: top;\n",
       "    }\n",
       "\n",
       "    .dataframe thead th {\n",
       "        text-align: right;\n",
       "    }\n",
       "</style>\n",
       "<table border=\"1\" class=\"dataframe\">\n",
       "  <thead>\n",
       "    <tr style=\"text-align: right;\">\n",
       "      <th></th>\n",
       "      <th>TCW km^2</th>\n",
       "      <th>CEWO km^2</th>\n",
       "      <th>both km^2</th>\n",
       "      <th>%ofCEWO</th>\n",
       "    </tr>\n",
       "  </thead>\n",
       "  <tbody>\n",
       "    <tr>\n",
       "      <th>-0</th>\n",
       "      <td>27.98</td>\n",
       "      <td>99.27</td>\n",
       "      <td>24.3</td>\n",
       "      <td>24.48</td>\n",
       "    </tr>\n",
       "    <tr>\n",
       "      <th>-100</th>\n",
       "      <td>38.41</td>\n",
       "      <td>99.27</td>\n",
       "      <td>32.15</td>\n",
       "      <td>32.39</td>\n",
       "    </tr>\n",
       "    <tr>\n",
       "      <th>-200</th>\n",
       "      <td>53.51</td>\n",
       "      <td>99.27</td>\n",
       "      <td>41.26</td>\n",
       "      <td>41.56</td>\n",
       "    </tr>\n",
       "    <tr>\n",
       "      <th>-300</th>\n",
       "      <td>76.94</td>\n",
       "      <td>99.27</td>\n",
       "      <td>49.64</td>\n",
       "      <td>50.01</td>\n",
       "    </tr>\n",
       "    <tr>\n",
       "      <th>-400</th>\n",
       "      <td>120.51</td>\n",
       "      <td>99.27</td>\n",
       "      <td>56.98</td>\n",
       "      <td>57.4</td>\n",
       "    </tr>\n",
       "    <tr>\n",
       "      <th>-500</th>\n",
       "      <td>201.18</td>\n",
       "      <td>99.27</td>\n",
       "      <td>63.73</td>\n",
       "      <td>64.2</td>\n",
       "    </tr>\n",
       "    <tr>\n",
       "      <th>-600</th>\n",
       "      <td>360.96</td>\n",
       "      <td>99.27</td>\n",
       "      <td>69.79</td>\n",
       "      <td>70.3</td>\n",
       "    </tr>\n",
       "  </tbody>\n",
       "</table>\n",
       "</div>"
      ],
      "text/plain": [
       "     TCW km^2 CEWO km^2 both km^2 %ofCEWO\n",
       "-0      27.98     99.27      24.3   24.48\n",
       "-100    38.41     99.27     32.15   32.39\n",
       "-200    53.51     99.27     41.26   41.56\n",
       "-300    76.94     99.27     49.64   50.01\n",
       "-400   120.51     99.27     56.98    57.4\n",
       "-500   201.18     99.27     63.73    64.2\n",
       "-600   360.96     99.27     69.79    70.3"
      ]
     },
     "execution_count": 12,
     "metadata": {},
     "output_type": "execute_result"
    }
   ],
   "source": [
    "comparison_df_area"
   ]
  },
  {
   "cell_type": "code",
   "execution_count": null,
   "metadata": {
    "ExecuteTime": {
     "end_time": "2018-07-26T23:08:07.674509Z",
     "start_time": "2018-07-26T23:08:07.647908Z"
    }
   },
   "outputs": [],
   "source": [
    "#comparison_df_area.to_csv('/g/data/r78/rjd547/Macquarie_Marsh/bexnessresults/Area_Comparison_Table_2022.csv',)"
   ]
  },
  {
   "cell_type": "code",
   "execution_count": null,
   "metadata": {},
   "outputs": [],
   "source": [
    "# ThresholdData = xr.open_rasterio(thresholdFiles[0]) #thresholded TCW\n",
    "#"
   ]
  },
  {
   "cell_type": "code",
   "execution_count": null,
   "metadata": {
    "ExecuteTime": {
     "end_time": "2018-07-26T07:37:15.732915Z",
     "start_time": "2018-07-26T07:37:02.227445Z"
    }
   },
   "outputs": [],
   "source": [
    "%matplotlib inline\n",
    "plt.clf()\n",
    "cewo_fix.plot(vmin=0, vmax=2, cmap='magma')\n",
    "plt.show()"
   ]
  },
  {
   "cell_type": "code",
   "execution_count": null,
   "metadata": {
    "ExecuteTime": {
     "end_time": "2018-07-26T06:13:35.659894Z",
     "start_time": "2018-07-26T06:13:35.384164Z"
    }
   },
   "outputs": [],
   "source": [
    "# cewo_fix2 =cewo_fix.where(cewo_fix!=65535.)\n",
    "# cewo_fix2=cewo_fix2.where(cewo_fix2!=-3.4028234663852886e+38)\n",
    "# cewo_fix2=cewo_fix2.where(cewo_fix2!=0)\n",
    "# cewo_fix2=cewo_fix2.where(cewo_fix2!=2)"
   ]
  },
  {
   "cell_type": "code",
   "execution_count": null,
   "metadata": {
    "ExecuteTime": {
     "end_time": "2018-07-26T06:08:54.584513Z",
     "start_time": "2018-07-26T06:08:54.021098Z"
    }
   },
   "outputs": [],
   "source": [
    "#cewo_fix2.isel(x=range(0, len(cewo_fix2.x),10), y=range(0, len(cewo_fix2.y),10)).plot()"
   ]
  },
  {
   "cell_type": "code",
   "execution_count": null,
   "metadata": {
    "ExecuteTime": {
     "end_time": "2018-07-26T07:18:20.596195Z",
     "start_time": "2018-07-26T07:18:20.560348Z"
    }
   },
   "outputs": [],
   "source": [
    "# cewoCount = cewo_fix2.count()"
   ]
  },
  {
   "cell_type": "code",
   "execution_count": null,
   "metadata": {
    "ExecuteTime": {
     "end_time": "2018-07-26T06:09:03.260795Z",
     "start_time": "2018-07-26T06:09:02.549125Z"
    }
   },
   "outputs": [],
   "source": [
    "both = cewo_fix2.where(ThresholdData==1)"
   ]
  },
  {
   "cell_type": "code",
   "execution_count": null,
   "metadata": {
    "ExecuteTime": {
     "end_time": "2018-07-26T07:20:09.330546Z",
     "start_time": "2018-07-26T07:20:09.221048Z"
    }
   },
   "outputs": [],
   "source": [
    "thresholdCount=ThresholdData.where(ThresholdData==1.).count()"
   ]
  },
  {
   "cell_type": "code",
   "execution_count": null,
   "metadata": {
    "ExecuteTime": {
     "end_time": "2018-07-26T07:20:14.511458Z",
     "start_time": "2018-07-26T07:20:14.496574Z"
    }
   },
   "outputs": [],
   "source": [
    "thresholdCount"
   ]
  },
  {
   "cell_type": "code",
   "execution_count": null,
   "metadata": {
    "ExecuteTime": {
     "end_time": "2018-07-26T07:18:28.005319Z",
     "start_time": "2018-07-26T07:18:27.970407Z"
    }
   },
   "outputs": [],
   "source": [
    "bothCount = both.count()"
   ]
  },
  {
   "cell_type": "code",
   "execution_count": null,
   "metadata": {
    "ExecuteTime": {
     "end_time": "2018-07-26T07:01:56.567446Z",
     "start_time": "2018-07-26T07:01:55.635985Z"
    }
   },
   "outputs": [],
   "source": [
    "plt.clf()\n",
    "cewo_fix2.isel(x=range(0, len(cewo_fix2.x),10), y=range(0, len(cewo_fix2.y),10)).plot()\n",
    "ThresholdData.isel(x=range(0, len(cewo_fix2.x),10), y=range(0, len(cewo_fix2.y),10)).plot(cmap='magma')\n",
    "both.isel(x=range(0, len(cewo_fix2.x),10), y=range(0, len(cewo_fix2.y),10)).plot(cmap='Wistia')\n",
    "plt.show()"
   ]
  },
  {
   "cell_type": "code",
   "execution_count": null,
   "metadata": {
    "ExecuteTime": {
     "end_time": "2018-07-26T07:05:24.174954Z",
     "start_time": "2018-07-26T07:05:24.164730Z"
    }
   },
   "outputs": [],
   "source": [
    "thresholds"
   ]
  },
  {
   "cell_type": "code",
   "execution_count": null,
   "metadata": {
    "ExecuteTime": {
     "end_time": "2018-07-26T07:24:21.552475Z",
     "start_time": "2018-07-26T07:24:21.543567Z"
    }
   },
   "outputs": [],
   "source": [
    "comparison_df = pd.DataFrame(columns=['TCW','CEWO','both','%ofCEWO'],index=thresholds)"
   ]
  },
  {
   "cell_type": "code",
   "execution_count": null,
   "metadata": {
    "ExecuteTime": {
     "end_time": "2018-07-26T07:24:22.832957Z",
     "start_time": "2018-07-26T07:24:22.823397Z"
    }
   },
   "outputs": [],
   "source": [
    "comparison_df.loc['-0']=[thresholdCount.data, cewoCount.data, bothCount.data, numpy.round(((bothCount/cewoCount)*100).data,decimals=2)]"
   ]
  },
  {
   "cell_type": "code",
   "execution_count": null,
   "metadata": {
    "ExecuteTime": {
     "end_time": "2018-07-26T07:24:23.264559Z",
     "start_time": "2018-07-26T07:24:23.246928Z"
    }
   },
   "outputs": [],
   "source": [
    "comparison_df"
   ]
  },
  {
   "cell_type": "code",
   "execution_count": null,
   "metadata": {
    "ExecuteTime": {
     "end_time": "2018-07-26T00:42:25.521837Z",
     "start_time": "2018-07-26T00:42:24.806981Z"
    }
   },
   "outputs": [],
   "source": [
    "## #filter out both sets of nodata values as defined by CEWO\n",
    "# cewoData = cewoData.where(cewoData!=-3.4028234663852886e+38) #remove no data vals\n",
    "# cewoData = cewoData.where(cewoData!=0) #remove no data vals\n",
    "# cewoData = cewoData.where(cewoData!=65535.) #remove no data vals\n",
    "# #cewoData = cewoData.where(cewoData!=2.) #remove off river storages"
   ]
  },
  {
   "cell_type": "code",
   "execution_count": null,
   "metadata": {
    "ExecuteTime": {
     "end_time": "2018-07-26T00:47:05.520430Z",
     "start_time": "2018-07-26T00:47:03.897965Z"
    }
   },
   "outputs": [],
   "source": [
    "plt.clf()\n",
    "cewoData.plot()\n",
    "plt.show()"
   ]
  },
  {
   "cell_type": "code",
   "execution_count": null,
   "metadata": {
    "ExecuteTime": {
     "end_time": "2018-07-26T04:09:13.002367Z",
     "start_time": "2018-07-26T04:09:12.979797Z"
    }
   },
   "outputs": [],
   "source": [
    "cewoData"
   ]
  },
  {
   "cell_type": "code",
   "execution_count": null,
   "metadata": {
    "ExecuteTime": {
     "end_time": "2018-07-26T04:09:15.278541Z",
     "start_time": "2018-07-26T04:09:15.267045Z"
    }
   },
   "outputs": [],
   "source": [
    "ThresholdData"
   ]
  },
  {
   "cell_type": "code",
   "execution_count": null,
   "metadata": {
    "ExecuteTime": {
     "end_time": "2018-07-26T04:11:31.729488Z",
     "start_time": "2018-07-26T04:11:30.545714Z"
    }
   },
   "outputs": [],
   "source": [
    "plt.clf()\n",
    "ThresholdData.plot()\n",
    "plt.show()"
   ]
  },
  {
   "cell_type": "code",
   "execution_count": null,
   "metadata": {
    "ExecuteTime": {
     "end_time": "2018-07-26T06:13:23.842644Z",
     "start_time": "2018-07-26T06:13:23.158735Z"
    }
   },
   "outputs": [],
   "source": [
    "# ThresholdData=ThresholdData.where(ThresholdData!=-3.4028234663852886e+38)\n",
    "# ThresholdData=ThresholdData.where(ThresholdData!=0)\n",
    "# ThresholdData=ThresholdData.where(cewoData.data!=2.0)"
   ]
  },
  {
   "cell_type": "code",
   "execution_count": null,
   "metadata": {
    "ExecuteTime": {
     "end_time": "2018-07-26T04:25:57.115055Z",
     "start_time": "2018-07-26T04:25:57.090948Z"
    }
   },
   "outputs": [],
   "source": [
    "ThresholdData"
   ]
  },
  {
   "cell_type": "code",
   "execution_count": null,
   "metadata": {
    "ExecuteTime": {
     "end_time": "2018-07-26T04:18:36.476194Z",
     "start_time": "2018-07-26T04:18:36.352520Z"
    }
   },
   "outputs": [],
   "source": [
    "#ThresholdData=ThresholdData.where(ThresholdData!=-3.4028234663852886e+38)\n",
    "#ThresholdData=ThresholdData.where(ThresholdData!=0)\n",
    "#ThresholdData=ThresholdData.where(cewoData.data!=2.0)"
   ]
  },
  {
   "cell_type": "code",
   "execution_count": null,
   "metadata": {
    "ExecuteTime": {
     "end_time": "2018-07-26T04:21:15.484600Z",
     "start_time": "2018-07-26T04:21:14.364610Z"
    }
   },
   "outputs": [],
   "source": [
    "plt.clf()\n",
    "ThresholdData.plot()\n",
    "plt.show()"
   ]
  },
  {
   "cell_type": "code",
   "execution_count": null,
   "metadata": {
    "ExecuteTime": {
     "end_time": "2018-07-26T04:26:45.311215Z",
     "start_time": "2018-07-26T04:26:44.967868Z"
    }
   },
   "outputs": [],
   "source": [
    "cewoData2=cewoData.where(cewoData!=65535.)\n",
    "cewoData2 = cewoData2.where(cewoData2!=-3.4028234663852886e+38) #remove no data vals\n",
    "cewoData2 = cewoData2.where(cewoData2!=0) #remove no data vals\n",
    "cewoData2 = cewoData2.where(cewoData2.data!=2.0) #remove storages"
   ]
  },
  {
   "cell_type": "code",
   "execution_count": null,
   "metadata": {
    "ExecuteTime": {
     "end_time": "2018-07-26T06:14:05.959784Z",
     "start_time": "2018-07-26T06:14:05.012833Z"
    }
   },
   "outputs": [],
   "source": [
    "cewo_comp = cewo_comp.where(cewo_comp!=-3.4028234663852886e+38)\n",
    "print(cewo_comp.count())\n",
    "cewo_comp = cewo_comp.where(cewo_comp!=0)\n",
    "print(cewo_comp.count())\n",
    "cewo_comp = cewo_comp.where(cewo_comp!=65535.)\n",
    "print(cewo_comp.count())\n",
    "cewo_comp = cewo_comp.where(cewo_comp!=2.0)\n",
    "print(cewo_comp.count())"
   ]
  },
  {
   "cell_type": "code",
   "execution_count": null,
   "metadata": {
    "ExecuteTime": {
     "end_time": "2018-07-26T04:26:46.086882Z",
     "start_time": "2018-07-26T04:26:46.040873Z"
    }
   },
   "outputs": [],
   "source": [
    "cewoData2.max()"
   ]
  },
  {
   "cell_type": "code",
   "execution_count": null,
   "metadata": {
    "ExecuteTime": {
     "end_time": "2018-07-26T04:29:44.300009Z",
     "start_time": "2018-07-26T04:29:44.289588Z"
    }
   },
   "outputs": [],
   "source": [
    "cewo_comp.size, ThresholdData.size"
   ]
  },
  {
   "cell_type": "code",
   "execution_count": null,
   "metadata": {
    "ExecuteTime": {
     "end_time": "2018-07-26T04:29:20.748349Z",
     "start_time": "2018-07-26T04:29:20.664450Z"
    }
   },
   "outputs": [],
   "source": [
    "print(cewo_comp.count(), ThresholdData.count())"
   ]
  },
  {
   "cell_type": "code",
   "execution_count": null,
   "metadata": {
    "ExecuteTime": {
     "end_time": "2018-07-26T04:26:49.829253Z",
     "start_time": "2018-07-26T04:26:48.720378Z"
    }
   },
   "outputs": [],
   "source": [
    "cewoData2.plot() \n",
    "plt.show()"
   ]
  },
  {
   "cell_type": "code",
   "execution_count": null,
   "metadata": {},
   "outputs": [],
   "source": [
    "cewo"
   ]
  },
  {
   "cell_type": "code",
   "execution_count": null,
   "metadata": {},
   "outputs": [],
   "source": []
  },
  {
   "cell_type": "markdown",
   "metadata": {},
   "source": [
    "Shouldn't have to do this again but here is the reproject to template function, with intro"
   ]
  },
  {
   "cell_type": "code",
   "execution_count": null,
   "metadata": {},
   "outputs": [],
   "source": [
    "# output = SpatialTools.reproject_to_template(cewo_compFile,thresholdFiles[0],'/g/data/r78/rjd547/Macquarie_Marsh/bexnessresults/thresholded_wetness/clipped/no_storages/cewo_20160628_test.tif')\n",
    "# output = None"
   ]
  }
 ],
 "metadata": {
  "kernelspec": {
   "display_name": "Python 3",
   "language": "python",
   "name": "python3"
  },
  "language_info": {
   "codemirror_mode": {
    "name": "ipython",
    "version": 3
   },
   "file_extension": ".py",
   "mimetype": "text/x-python",
   "name": "python",
   "nbconvert_exporter": "python",
   "pygments_lexer": "ipython3",
   "version": "3.6.10"
  },
  "toc": {
   "base_numbering": 1,
   "nav_menu": {},
   "number_sections": true,
   "sideBar": true,
   "skip_h1_title": false,
   "title_cell": "Table of Contents",
   "title_sidebar": "Contents",
   "toc_cell": false,
   "toc_position": {},
   "toc_section_display": true,
   "toc_window_display": false
  }
 },
 "nbformat": 4,
 "nbformat_minor": 4
}
