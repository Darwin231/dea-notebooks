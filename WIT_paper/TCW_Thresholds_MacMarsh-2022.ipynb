{
 "cells": [
  {
   "cell_type": "markdown",
   "metadata": {},
   "source": [
    "2022 calculate size of mac marsh threshold areas\n"
   ]
  },
  {
   "cell_type": "markdown",
   "metadata": {},
   "source": [
    "\n",
    "**Date** August 2022"
   ]
  },
  {
   "cell_type": "markdown",
   "metadata": {},
   "source": [
    "Import some useful modules"
   ]
  },
  {
   "cell_type": "code",
   "execution_count": 8,
   "metadata": {
    "ExecuteTime": {
     "end_time": "2018-07-27T05:51:32.914569Z",
     "start_time": "2018-07-27T05:51:23.509224Z"
    }
   },
   "outputs": [],
   "source": [
    "%matplotlib inline\n",
    "import xarray as xr\n",
    "import matplotlib.pyplot as plt\n",
    "#from datacube.storage import masking\n",
    "import os\n",
    "#sys.path.append('../Scripts/')\n",
    "#import dea_spatialtools\n",
    "import pandas as pd\n",
    "import numpy as np\n"
   ]
  },
  {
   "cell_type": "code",
   "execution_count": 9,
   "metadata": {},
   "outputs": [],
   "source": [
    "import sys\n",
    "sys.path.insert(1, '../Tools/')\n",
    "import dea_tools.datahandling\n",
    "from datacube.utils import masking\n",
    "import dea_tools.spatial #hopefully this replaces dea_spatialtools"
   ]
  },
  {
   "cell_type": "code",
   "execution_count": 10,
   "metadata": {},
   "outputs": [],
   "source": [
    "from datacube.utils.cog import write_cog"
   ]
  },
  {
   "cell_type": "markdown",
   "metadata": {},
   "source": [
    "## Load in the aerial raster"
   ]
  },
  {
   "cell_type": "code",
   "execution_count": 19,
   "metadata": {
    "ExecuteTime": {
     "end_time": "2018-07-27T05:51:32.935289Z",
     "start_time": "2018-07-27T05:51:32.928465Z"
    }
   },
   "outputs": [],
   "source": [
    "#open the aerial raster\n",
    "aerial = xr.open_rasterio('/g/data/r78/rjd547/CEWO_Project/Macquarie_Marsh/bexnessresults/thresholded_wetness/clipped/cewo_20160628_extents_again.tif')\n",
    "\n",
    "#drop the empty dimension\n",
    "aerial = aerial.squeeze()"
   ]
  },
  {
   "cell_type": "code",
   "execution_count": 20,
   "metadata": {},
   "outputs": [
    {
     "data": {
      "image/png": "[encoded data removed]",
      "text/plain": [
       "<Figure size 432x288 with 2 Axes>"
      ]
     },
     "metadata": {
      "needs_background": "light"
     },
     "output_type": "display_data"
    }
   ],
   "source": [
    "aerial.plot()\n",
    "plt.show()"
   ]
  },
  {
   "cell_type": "markdown",
   "metadata": {},
   "source": [
    "Notes: 0 is the nodata value, 1 is the wet value, and 2 is the storage value."
   ]
  },
  {
   "cell_type": "code",
   "execution_count": 24,
   "metadata": {
    "ExecuteTime": {
     "end_time": "2018-07-27T05:51:33.312379Z",
     "start_time": "2018-07-27T05:51:33.294996Z"
    }
   },
   "outputs": [],
   "source": [
    "#remove the top row of our aerial raster as it does not overlap the thresholded rasters\n",
    "aerial = aerial.where(aerial.y[0:6563])"
   ]
  },
  {
   "cell_type": "markdown",
   "metadata": {},
   "source": [
    "#fixme --- nodata values?"
   ]
  },
  {
   "cell_type": "code",
   "execution_count": null,
   "metadata": {
    "ExecuteTime": {
     "end_time": "2018-07-27T05:51:34.174497Z",
     "start_time": "2018-07-27T05:51:33.315983Z"
    }
   },
   "outputs": [],
   "source": [
    "# #nodata values\n",
    "# cewo_fix2 =cewo_fix.where(cewo_fix!=65535.)\n",
    "# cewo_fix2=cewo_fix2.where(cewo_fix2!=-3.4028234663852886e+38)\n",
    "# cewo_fix2=cewo_fix2.where(cewo_fix2!=0)\n",
    "# cewo_fix2=cewo_fix2.where(cewo_fix2!=2)"
   ]
  },
  {
   "cell_type": "code",
   "execution_count": null,
   "metadata": {
    "ExecuteTime": {
     "end_time": "2018-07-27T05:51:34.174497Z",
     "start_time": "2018-07-27T05:51:33.315983Z"
    }
   },
   "outputs": [],
   "source": [
    "#storages:    \n",
    "#storages=cewo_fix2.where(cewo_fix2==2)"
   ]
  },
  {
   "cell_type": "markdown",
   "metadata": {},
   "source": [
    "calculate the mapped area"
   ]
  },
  {
   "cell_type": "code",
   "execution_count": null,
   "metadata": {},
   "outputs": [],
   "source": [
    "# #calculate the total area\n",
    "# study_area = cewo_fix\n",
    "# total_area=np.round((study_area.count()*25*25)/(1000*1000),2)\n",
    "# print(total_area.values,'km^2')"
   ]
  },
  {
   "cell_type": "code",
   "execution_count": null,
   "metadata": {
    "ExecuteTime": {
     "end_time": "2018-07-27T05:51:34.174497Z",
     "start_time": "2018-07-27T05:51:33.315983Z"
    }
   },
   "outputs": [],
   "source": [
    "# cewoCount = cewo_fix2.count()\n",
    "# #cewoarea=numpy.round((cewoCount*25*25)/(1000*1000),2)\n",
    "# cewoarea=np.round((cewoCount*25*25)/(1000*1000),2)\n",
    "# print(cewoarea.values,'km^2')"
   ]
  },
  {
   "cell_type": "code",
   "execution_count": null,
   "metadata": {},
   "outputs": [],
   "source": [
    "# nonwet_area_c = total_area-cewoarea\n",
    "# print(nonwet_area_c .values,'km^2')"
   ]
  },
  {
   "cell_type": "code",
   "execution_count": null,
   "metadata": {},
   "outputs": [],
   "source": [
    "#write this out as a cog\n",
    "#write_cog(cewo_fix2, fname='/g/data/r78/rjd547/CEWO_Project/Macquarie_Marsh/bexnessresults/thresholded_wetness/clipped/cewo_20160628_extents_2022b.tif')"
   ]
  },
  {
   "cell_type": "markdown",
   "metadata": {},
   "source": [
    "----fixme"
   ]
  },
  {
   "cell_type": "markdown",
   "metadata": {},
   "source": [
    "## Build the loop to load our rasters and calculate our %coverage"
   ]
  },
  {
   "cell_type": "markdown",
   "metadata": {},
   "source": [
    "thresholds are our chosen thresholds for the TCW; these need to match the filenames, and are not set here."
   ]
  },
  {
   "cell_type": "code",
   "execution_count": 30,
   "metadata": {
    "ExecuteTime": {
     "end_time": "2018-07-27T05:51:34.238909Z",
     "start_time": "2018-07-27T05:51:34.224451Z"
    }
   },
   "outputs": [],
   "source": [
    "thresholds = ['-0','-100','-200','-300','-400','-500','-600']"
   ]
  },
  {
   "cell_type": "markdown",
   "metadata": {},
   "source": [
    "make a dataframe to fill with our results"
   ]
  },
  {
   "cell_type": "code",
   "execution_count": 31,
   "metadata": {
    "ExecuteTime": {
     "end_time": "2018-07-27T05:51:34.252032Z",
     "start_time": "2018-07-27T05:51:34.241126Z"
    }
   },
   "outputs": [],
   "source": [
    "comparison_df_pixels = pd.DataFrame(columns=['TCW','notTCW','%ofwet','%ofdry'],index=thresholds)\n",
    "comparison_df_area = pd.DataFrame(columns=['TCW km^2','notTCW km^2','%ofwet km^2', '%ofdrykm^2'],index=thresholds)"
   ]
  },
  {
   "cell_type": "code",
   "execution_count": 32,
   "metadata": {},
   "outputs": [
    {
     "data": {
      "text/plain": [
       "'0.16.0'"
      ]
     },
     "execution_count": 32,
     "metadata": {},
     "output_type": "execute_result"
    }
   ],
   "source": [
    "xr.__version__"
   ]
  },
  {
   "cell_type": "markdown",
   "metadata": {},
   "source": [
    "#testing here: note you have to run the next cell to get this to work.."
   ]
  },
  {
   "cell_type": "code",
   "execution_count": 36,
   "metadata": {},
   "outputs": [
    {
     "data": {
      "image/png": "[encoded data removed]",
      "text/plain": [
       "<Figure size 432x288 with 2 Axes>"
      ]
     },
     "metadata": {
      "needs_background": "light"
     },
     "output_type": "display_data"
    }
   ],
   "source": [
    "#open our thresholded TCW file    \n",
    "ThresholdData = xr.open_rasterio(thresholdFiles[i]) #thresholded TCW\n",
    "ThresholdData = ThresholdData.squeeze() #drop additional dimension of length 1\n",
    "ThresholdData=ThresholdData.where(ThresholdData!=-3.4028234663852886e+38)\n",
    "ThresholdData.plot()\n",
    "plt.show()"
   ]
  },
  {
   "cell_type": "markdown",
   "metadata": {},
   "source": [
    "--> here is where you count total area!"
   ]
  },
  {
   "cell_type": "code",
   "execution_count": 38,
   "metadata": {},
   "outputs": [
    {
     "name": "stdout",
     "output_type": "stream",
     "text": [
      "2750.8 km^2\n"
     ]
    }
   ],
   "source": [
    "thresholdCount=ThresholdData.count()\n",
    "thresholdarea=np.round((thresholdCount*25*25)/(1000*1000),2)\n",
    "print(thresholdarea.values,'km^2')"
   ]
  },
  {
   "cell_type": "code",
   "execution_count": 39,
   "metadata": {},
   "outputs": [],
   "source": [
    "wetData = ThresholdData.where(ThresholdData==1)"
   ]
  },
  {
   "cell_type": "code",
   "execution_count": 43,
   "metadata": {},
   "outputs": [
    {
     "data": {
      "image/png": "[encoded data removed]",
      "text/plain": [
       "<Figure size 432x288 with 2 Axes>"
      ]
     },
     "metadata": {
      "needs_background": "light"
     },
     "output_type": "display_data"
    }
   ],
   "source": [
    "wetData.plot()\n",
    "plt.show()"
   ]
  },
  {
   "cell_type": "code",
   "execution_count": null,
   "metadata": {},
   "outputs": [],
   "source": [
    "dryData = ThresholdData.where(ThresholdData==0)\n",
    "dryData.plot()\n",
    "plt.show()\n"
   ]
  },
  {
   "cell_type": "code",
   "execution_count": 42,
   "metadata": {},
   "outputs": [
    {
     "name": "stdout",
     "output_type": "stream",
     "text": [
      "/g/data/r78/rjd547/CEWO_Project/Macquarie_Marsh/bexnessresults/thresholded_wetness/2022/2022t-0_Mac_14_-35_20160627__20160629.tif\n",
      "2750.8 km^2\n",
      "/g/data/r78/rjd547/CEWO_Project/Macquarie_Marsh/bexnessresults/thresholded_wetness/2022/2022t-100_Mac_14_-35_20160627__20160629.tif\n",
      "2750.8 km^2\n",
      "/g/data/r78/rjd547/CEWO_Project/Macquarie_Marsh/bexnessresults/thresholded_wetness/2022/2022t-200_Mac_14_-35_20160627__20160629.tif\n",
      "2750.8 km^2\n",
      "/g/data/r78/rjd547/CEWO_Project/Macquarie_Marsh/bexnessresults/thresholded_wetness/2022/2022t-300_Mac_14_-35_20160627__20160629.tif\n",
      "2750.8 km^2\n",
      "/g/data/r78/rjd547/CEWO_Project/Macquarie_Marsh/bexnessresults/thresholded_wetness/2022/2022t-400_Mac_14_-35_20160627__20160629.tif\n",
      "2750.8 km^2\n",
      "/g/data/r78/rjd547/CEWO_Project/Macquarie_Marsh/bexnessresults/thresholded_wetness/2022/2022t-500_Mac_14_-35_20160627__20160629.tif\n",
      "2750.8 km^2\n",
      "/g/data/r78/rjd547/CEWO_Project/Macquarie_Marsh/bexnessresults/thresholded_wetness/2022/2022t-600_Mac_14_-35_20160627__20160629.tif\n",
      "2750.8 km^2\n"
     ]
    }
   ],
   "source": [
    "#make a list of the files corresponding to our set thresholds\n",
    "thresholdFiles =[]\n",
    "for i in range(0, len(thresholds)):\n",
    "    #thresholdFiles.append('/g/data/r78/rjd547/CEWO_Project/MacquaThresholdDatarsh/bexnessresults/thresholded_wetness/clipped/t{0}_Mac_14_-35_20160627__20160629_clipped.tif'.format(thresholds[i]))\n",
    "    thresholdFiles.append('/g/data/r78/rjd547/CEWO_Project/Macquarie_Marsh/bexnessresults/thresholded_wetness/2022/2022t{0}_Mac_14_-35_20160627__20160629.tif'.format(thresholds[i]))\n",
    "    print (thresholdFiles[i])\n",
    "    \n",
    "    #open our thresholded TCW file    \n",
    "    ThresholdData = xr.open_rasterio(thresholdFiles[i]) #thresholded TCW\n",
    "    ThresholdData = ThresholdData.squeeze() #drop additional dimension of length 1\n",
    "      \n",
    "    #remove nodata vals around outside of map \n",
    "    ThresholdData=ThresholdData.where(ThresholdData!=-3.4028234663852886e+38)\n",
    "    #count map area\n",
    "    mapCount=ThresholdData.count()\n",
    "    maparea=np.round((mapCount*25*25)/(1000*1000),2)\n",
    "    print(maparea.values,'km^2')\n",
    "      \n",
    "    #calculate wet and dry areas\n",
    "    wetData=ThresholdData.where(ThresholdData==1)\n",
    "    dryData=ThresholdData.where(ThresholdData==0)\n",
    "    \n",
    "#     #remove storages?\n",
    "#     ThresholdData=ThresholdData.where(cewo_fix.data!=2.0) #(not working at the moment?!)\n",
    "#     thresholdCount=ThresholdData.where(ThresholdData==1.).count()\n",
    "#     thresholdarea=np.round((thresholdCount*25*25)/(1000*1000),2)\n",
    "#     print(thresholdarea.values,'km^2')\n",
    "    \n",
    "# #     both = cewo_fix2.where(ThresholdData==1)\n",
    "# #     bothCount = both.count()\n",
    "#     #botharea=numpy.round((thresholdCount*25*25)/(1000*1000),2)\n",
    "#     botharea=np.round((bothCount*25*25)/(1000*1000),2)\n",
    "#     comparison_df_pixels.loc[thresholds[i]]=[thresholdCount.data, cewoCount.data, bothCount.data, np.round(((bothCount/cewoCount)*100).data,decimals=2)]\n",
    "#     comparison_df_area.loc[thresholds[i]]=[thresholdarea.data, cewoarea.data, botharea.data, np.round(((botharea/cewoarea)*100).data,decimals=2)]\n",
    "#     print(botharea)\n",
    "#     plt.clf()\n",
    "#     cewo_fix2.plot(cmap='Greens', vmin=0,vmax=1)\n",
    "#     ThresholdData.plot(cmap='viridis',vmin=0,vmax=1)\n",
    "    #both.plot(cmap='Wistia',vmin=0,vmax=1)\n",
    "    #plt.show()\n",
    "    #print('ready to save plots')\n",
    "    \n",
    "#     %matplotlib inline\n",
    "#     plt.clf()\n",
    "#     fig = plt.figure(figsize=(10,11))\n",
    "#     ax=plt.gca()\n",
    "#     cewo_fix2.plot(cmap='Greens', vmin=0,vmax=1, alpha=0.7,add_colorbar=False)\n",
    "#     ThresholdData.plot(cmap='Greens',vmin=0,vmax=3,alpha=0.7,add_colorbar=False)\n",
    "#     #both.plot(cmap='winter',vmin=0,vmax=1, alpha=0.7,add_colorbar=False)\n",
    "    \n",
    "#     #plt.title(\"TCW threshold \"+thresholds[i])\n",
    "#     ax.set_ylim((-3500000, -3400000))\n",
    "#     print('ready to save plots')\n",
    "#     #plt.savefig('/g/data/r78/rjd547/Macquarie_Marsh/bexnessresults/plots2022/'+\"2022TCW_threshold_\"+thresholds[i]+100321'.png')\n",
    "#     #plt.show()"
   ]
  },
  {
   "cell_type": "code",
   "execution_count": null,
   "metadata": {},
   "outputs": [],
   "source": [
    "# #make a list of the files corresponding to our set thresholds\n",
    "# thresholdFiles =[]\n",
    "# for i in range(0, len(thresholds)):\n",
    "#     thresholdFiles.append('/g/data/r78/rjd547/CEWO_Project/Macquarie_Marsh/bexnessresults/thresholded_wetness/clipped/t{0}_Mac_14_-35_20160627__20160629_clipped.tif'.format(thresholds[i]))\n",
    "#     print (thresholdFiles[i])\n",
    "    \n",
    "#     ThresholdData = xr.open_rasterio(thresholdFiles[i]) #thresholded TCW\n",
    "#     #count total pixels\n",
    "#     totalcount = xr.open_rasterio(thresholdFiles[i]).count()\n",
    "#     notarea = np.round((totalcount*25*25)/(1000*1000),2)\n",
    "#     print(notarea)\n",
    "#     ThresholdData=ThresholdData.where(ThresholdData!=-3.4028234663852886e+38)\n",
    "#     ThresholdData=ThresholdData.where(ThresholdData!=0)\n",
    "#     ThresholdData=ThresholdData.where(cewo_fix.data!=2.0)\n",
    "#     thresholdCount=ThresholdData.where(ThresholdData==1.).count()\n",
    "#     #thresholdarea=numpy.round((thresholdCount*25*25)/(1000*1000),2)\n",
    "#     thresholdarea=np.round((thresholdCount*25*25)/(1000*1000),2)\n",
    "#     both = cewo_fix2.where(ThresholdData==1)\n",
    "#     bothCount = both.count()\n",
    "#     #botharea=numpy.round((thresholdCount*25*25)/(1000*1000),2)\n",
    "#     botharea=np.round((bothCount*25*25)/(1000*1000),2)\n",
    "#     comparison_df_pixels.loc[thresholds[i]]=[thresholdCount.data, cewoCount.data, bothCount.data, np.round(((bothCount/cewoCount)*100).data,decimals=2)]\n",
    "#     comparison_df_area.loc[thresholds[i]]=[thresholdarea.data, cewoarea.data, botharea.data, np.round(((botharea/cewoarea)*100).data,decimals=2)]\n",
    "#     print(botharea)\n",
    "# #     plt.clf()\n",
    "# #     cewo_fix2.plot(cmap='Greens', vmin=0,vmax=1)\n",
    "# #     ThresholdData.plot(cmap='viridis',vmin=0,vmax=1)\n",
    "# #     both.plot(cmap='Wistia',vmin=0,vmax=1)\n",
    "# #     print('ready to save plots')\n",
    "    \n",
    "# #     %matplotlib inline\n",
    "# #     plt.clf()\n",
    "# #     fig = plt.figure(figsize=(10,11))\n",
    "# #     ax=plt.gca()\n",
    "# #     cewo_fix2.plot(cmap='Greens', vmin=0,vmax=1, alpha=0.7,add_colorbar=False)\n",
    "# #     ThresholdData.plot(cmap='Greens',vmin=0,vmax=3,alpha=0.7,add_colorbar=False)\n",
    "# #     both.plot(cmap='winter',vmin=0,vmax=1, alpha=0.7,add_colorbar=False)\n",
    "# #     plt.title(\"TCW threshold \"+thresholds[i])\n",
    "# #     ax.set_ylim((-3500000, -3400000))\n",
    "# #     print('ready to save plots')\n",
    "# #     #plt.savefig('/g/data/r78/rjd547/Macquarie_Marsh/bexnessresults/plots2022/'+\"3TCW_threshold_\"+thresholds[i]+100321'.png')\n",
    "# #     #plt.show()"
   ]
  },
  {
   "cell_type": "code",
   "execution_count": null,
   "metadata": {
    "ExecuteTime": {
     "end_time": "2018-07-27T05:56:12.033774Z",
     "start_time": "2018-07-27T05:51:34.254733Z"
    }
   },
   "outputs": [],
   "source": [
    "# #make a list of the files corresponding to our set thresholds\n",
    "# thresholdFiles =[]\n",
    "# for i in range(0, len(thresholds)):\n",
    "#     thresholdFiles.append('/g/data/r78/rjd547/CEWO_Project/Macquarie_Marsh/bexnessresults/thresholded_wetness/clipped/t{0}_Mac_14_-35_20160627__20160629_clipped.tif'.format(thresholds[i]))\n",
    "#     print (thresholdFiles[i])\n",
    "    \n",
    "#     ThresholdData = xr.open_rasterio(thresholdFiles[i]) #thresholded TCW\n",
    "#     ThresholdData=ThresholdData.where(ThresholdData!=-3.4028234663852886e+38)\n",
    "#     ThresholdData=ThresholdData.where(ThresholdData!=0)\n",
    "#     ThresholdData=ThresholdData.where(cewo_fix.data!=2.0)\n",
    "#     thresholdCount=ThresholdData.where(ThresholdData==1.).count()\n",
    "#     #thresholdarea=numpy.round((thresholdCount*25*25)/(1000*1000),2)\n",
    "#     thresholdarea=np.round((thresholdCount*25*25)/(1000*1000),2)\n",
    "#     both = cewo_fix2.where(ThresholdData==1)\n",
    "#     bothCount = both.count()\n",
    "#     #botharea=numpy.round((thresholdCount*25*25)/(1000*1000),2)\n",
    "#     botharea=np.round((bothCount*25*25)/(1000*1000),2)\n",
    "#     comparison_df_pixels.loc[thresholds[i]]=[thresholdCount.data, cewoCount.data, bothCount.data, np.round(((bothCount/cewoCount)*100).data,decimals=2)]\n",
    "#     comparison_df_area.loc[thresholds[i]]=[thresholdarea.data, cewoarea.data, botharea.data, np.round(((botharea/cewoarea)*100).data,decimals=2)]\n",
    "#     print(botharea)\n",
    "#     plt.clf()\n",
    "#     cewo_fix2.plot(cmap='Greens', vmin=0,vmax=1)\n",
    "#     ThresholdData.plot(cmap='viridis',vmin=0,vmax=1)\n",
    "#     both.plot(cmap='Wistia',vmin=0,vmax=1)\n",
    "#     print('ready to save plots')\n",
    "    \n",
    "#     %matplotlib inline\n",
    "#     plt.clf()\n",
    "#     fig = plt.figure(figsize=(10,11))\n",
    "#     ax=plt.gca()\n",
    "#     cewo_fix2.plot(cmap='Greens', vmin=0,vmax=1, alpha=0.7,add_colorbar=False)\n",
    "#     ThresholdData.plot(cmap='Greens',vmin=0,vmax=3,alpha=0.7,add_colorbar=False)\n",
    "#     both.plot(cmap='winter',vmin=0,vmax=1, alpha=0.7,add_colorbar=False)\n",
    "#     plt.title(\"TCW threshold \"+thresholds[i])\n",
    "#     ax.set_ylim((-3500000, -3400000))\n",
    "#     print('ready to save plots')\n",
    "#     #plt.savefig('/g/data/r78/rjd547/Macquarie_Marsh/bexnessresults/plots2022/'+\"3TCW_threshold_\"+thresholds[i]+100321'.png')\n",
    "#     #plt.show()"
   ]
  },
  {
   "cell_type": "code",
   "execution_count": null,
   "metadata": {},
   "outputs": [],
   "source": [
    "comparison_df_area"
   ]
  },
  {
   "cell_type": "code",
   "execution_count": null,
   "metadata": {
    "ExecuteTime": {
     "end_time": "2018-07-27T03:43:40.688126Z",
     "start_time": "2018-07-27T03:43:39.881449Z"
    }
   },
   "outputs": [],
   "source": [
    "%matplotlib inline\n",
    "plt.clf()\n",
    "fig = plt.figure(figsize=(10,11))\n",
    "ax=plt.gca()\n",
    "#ax.set_facecolor('xkcd:khaki')\n",
    "cewo_fix2.isel(x=range(0, len(cewo_fix2.x),10), y=range(0, len(cewo_fix2.y),10)).plot(cmap='Greens', vmin=0,vmax=1, alpha=0.5,add_colorbar=False)\n",
    "ThresholdData.isel(x=range(0, len(cewo_fix2.x),10), y=range(0, len(cewo_fix2.y),10)).plot(cmap='Greens',vmin=0,vmax=2,alpha=0.5,add_colorbar=False)\n",
    "both.isel(x=range(0, len(cewo_fix2.x),10), y=range(0, len(cewo_fix2.y),10)).plot(cmap='winter',vmin=0,vmax=1, alpha=0.5,add_colorbar=False)\n",
    "plt.title(\"TCW threshold \"+thresholds[i])\n",
    "ax.set_ylim((-3500000, -3400000))\n",
    "plt.show()"
   ]
  },
  {
   "cell_type": "code",
   "execution_count": null,
   "metadata": {},
   "outputs": [],
   "source": [
    "#write table to csv\n",
    "#plot."
   ]
  },
  {
   "cell_type": "code",
   "execution_count": null,
   "metadata": {
    "ExecuteTime": {
     "end_time": "2018-07-26T23:08:22.568829Z",
     "start_time": "2018-07-26T23:08:22.551398Z"
    }
   },
   "outputs": [],
   "source": [
    "#comparison_df_pixels.to_csv('/g/data/r78/rjd547/Macquarie_Marsh/bexnessresults/Pixel_Comparison_Table_2022.csv',)"
   ]
  },
  {
   "cell_type": "code",
   "execution_count": null,
   "metadata": {
    "ExecuteTime": {
     "end_time": "2018-07-26T08:07:01.026654Z",
     "start_time": "2018-07-26T08:07:01.017617Z"
    }
   },
   "outputs": [],
   "source": [
    "(91171/158833)*100"
   ]
  },
  {
   "cell_type": "code",
   "execution_count": null,
   "metadata": {
    "ExecuteTime": {
     "end_time": "2018-07-27T06:27:32.287421Z",
     "start_time": "2018-07-27T06:27:32.159581Z"
    }
   },
   "outputs": [],
   "source": [
    "comparison_df_area"
   ]
  },
  {
   "cell_type": "code",
   "execution_count": null,
   "metadata": {
    "ExecuteTime": {
     "end_time": "2018-07-26T23:08:07.674509Z",
     "start_time": "2018-07-26T23:08:07.647908Z"
    }
   },
   "outputs": [],
   "source": [
    "#comparison_df_area.to_csv('/g/data/r78/rjd547/Macquarie_Marsh/bexnessresults/Area_Comparison_Table_2022.csv',)"
   ]
  },
  {
   "cell_type": "code",
   "execution_count": null,
   "metadata": {},
   "outputs": [],
   "source": [
    "# ThresholdData = xr.open_rasterio(thresholdFiles[0]) #thresholded TCW\n",
    "#"
   ]
  },
  {
   "cell_type": "code",
   "execution_count": null,
   "metadata": {
    "ExecuteTime": {
     "end_time": "2018-07-26T07:37:15.732915Z",
     "start_time": "2018-07-26T07:37:02.227445Z"
    }
   },
   "outputs": [],
   "source": [
    "%matplotlib inline\n",
    "plt.clf()\n",
    "cewo_fix.plot(vmin=0, vmax=2, cmap='magma')\n",
    "plt.show()"
   ]
  },
  {
   "cell_type": "code",
   "execution_count": null,
   "metadata": {
    "ExecuteTime": {
     "end_time": "2018-07-26T06:13:35.659894Z",
     "start_time": "2018-07-26T06:13:35.384164Z"
    }
   },
   "outputs": [],
   "source": [
    "# cewo_fix2 =cewo_fix.where(cewo_fix!=65535.)\n",
    "# cewo_fix2=cewo_fix2.where(cewo_fix2!=-3.4028234663852886e+38)\n",
    "# cewo_fix2=cewo_fix2.where(cewo_fix2!=0)\n",
    "# cewo_fix2=cewo_fix2.where(cewo_fix2!=2)"
   ]
  },
  {
   "cell_type": "code",
   "execution_count": null,
   "metadata": {
    "ExecuteTime": {
     "end_time": "2018-07-26T06:08:54.584513Z",
     "start_time": "2018-07-26T06:08:54.021098Z"
    }
   },
   "outputs": [],
   "source": [
    "#cewo_fix2.isel(x=range(0, len(cewo_fix2.x),10), y=range(0, len(cewo_fix2.y),10)).plot()"
   ]
  },
  {
   "cell_type": "code",
   "execution_count": null,
   "metadata": {
    "ExecuteTime": {
     "end_time": "2018-07-26T07:18:20.596195Z",
     "start_time": "2018-07-26T07:18:20.560348Z"
    }
   },
   "outputs": [],
   "source": [
    "# cewoCount = cewo_fix2.count()"
   ]
  },
  {
   "cell_type": "code",
   "execution_count": null,
   "metadata": {
    "ExecuteTime": {
     "end_time": "2018-07-26T06:09:03.260795Z",
     "start_time": "2018-07-26T06:09:02.549125Z"
    }
   },
   "outputs": [],
   "source": [
    "both = cewo_fix2.where(ThresholdData==1)"
   ]
  },
  {
   "cell_type": "code",
   "execution_count": null,
   "metadata": {
    "ExecuteTime": {
     "end_time": "2018-07-26T07:20:09.330546Z",
     "start_time": "2018-07-26T07:20:09.221048Z"
    }
   },
   "outputs": [],
   "source": [
    "thresholdCount=ThresholdData.where(ThresholdData==1.).count()"
   ]
  },
  {
   "cell_type": "code",
   "execution_count": null,
   "metadata": {
    "ExecuteTime": {
     "end_time": "2018-07-26T07:20:14.511458Z",
     "start_time": "2018-07-26T07:20:14.496574Z"
    }
   },
   "outputs": [],
   "source": [
    "thresholdCount"
   ]
  },
  {
   "cell_type": "code",
   "execution_count": null,
   "metadata": {
    "ExecuteTime": {
     "end_time": "2018-07-26T07:18:28.005319Z",
     "start_time": "2018-07-26T07:18:27.970407Z"
    }
   },
   "outputs": [],
   "source": [
    "bothCount = both.count()"
   ]
  },
  {
   "cell_type": "code",
   "execution_count": null,
   "metadata": {
    "ExecuteTime": {
     "end_time": "2018-07-26T07:01:56.567446Z",
     "start_time": "2018-07-26T07:01:55.635985Z"
    }
   },
   "outputs": [],
   "source": [
    "plt.clf()\n",
    "cewo_fix2.isel(x=range(0, len(cewo_fix2.x),10), y=range(0, len(cewo_fix2.y),10)).plot()\n",
    "ThresholdData.isel(x=range(0, len(cewo_fix2.x),10), y=range(0, len(cewo_fix2.y),10)).plot(cmap='magma')\n",
    "both.isel(x=range(0, len(cewo_fix2.x),10), y=range(0, len(cewo_fix2.y),10)).plot(cmap='Wistia')\n",
    "plt.show()"
   ]
  },
  {
   "cell_type": "code",
   "execution_count": null,
   "metadata": {
    "ExecuteTime": {
     "end_time": "2018-07-26T07:05:24.174954Z",
     "start_time": "2018-07-26T07:05:24.164730Z"
    }
   },
   "outputs": [],
   "source": [
    "thresholds"
   ]
  },
  {
   "cell_type": "code",
   "execution_count": null,
   "metadata": {
    "ExecuteTime": {
     "end_time": "2018-07-26T07:24:21.552475Z",
     "start_time": "2018-07-26T07:24:21.543567Z"
    }
   },
   "outputs": [],
   "source": [
    "comparison_df = pd.DataFrame(columns=['TCW','CEWO','both','%ofCEWO'],index=thresholds)"
   ]
  },
  {
   "cell_type": "code",
   "execution_count": null,
   "metadata": {
    "ExecuteTime": {
     "end_time": "2018-07-26T07:24:22.832957Z",
     "start_time": "2018-07-26T07:24:22.823397Z"
    }
   },
   "outputs": [],
   "source": [
    "comparison_df.loc['-0']=[thresholdCount.data, cewoCount.data, bothCount.data, numpy.round(((bothCount/cewoCount)*100).data,decimals=2)]"
   ]
  },
  {
   "cell_type": "code",
   "execution_count": null,
   "metadata": {
    "ExecuteTime": {
     "end_time": "2018-07-26T07:24:23.264559Z",
     "start_time": "2018-07-26T07:24:23.246928Z"
    }
   },
   "outputs": [],
   "source": [
    "comparison_df"
   ]
  },
  {
   "cell_type": "code",
   "execution_count": null,
   "metadata": {
    "ExecuteTime": {
     "end_time": "2018-07-26T00:42:25.521837Z",
     "start_time": "2018-07-26T00:42:24.806981Z"
    }
   },
   "outputs": [],
   "source": [
    "## #filter out both sets of nodata values as defined by CEWO\n",
    "# cewoData = cewoData.where(cewoData!=-3.4028234663852886e+38) #remove no data vals\n",
    "# cewoData = cewoData.where(cewoData!=0) #remove no data vals\n",
    "# cewoData = cewoData.where(cewoData!=65535.) #remove no data vals\n",
    "# #cewoData = cewoData.where(cewoData!=2.) #remove off river storages"
   ]
  },
  {
   "cell_type": "code",
   "execution_count": null,
   "metadata": {
    "ExecuteTime": {
     "end_time": "2018-07-26T00:47:05.520430Z",
     "start_time": "2018-07-26T00:47:03.897965Z"
    }
   },
   "outputs": [],
   "source": [
    "plt.clf()\n",
    "cewoData.plot()\n",
    "plt.show()"
   ]
  },
  {
   "cell_type": "code",
   "execution_count": null,
   "metadata": {
    "ExecuteTime": {
     "end_time": "2018-07-26T04:09:13.002367Z",
     "start_time": "2018-07-26T04:09:12.979797Z"
    }
   },
   "outputs": [],
   "source": [
    "cewoData"
   ]
  },
  {
   "cell_type": "code",
   "execution_count": null,
   "metadata": {
    "ExecuteTime": {
     "end_time": "2018-07-26T04:09:15.278541Z",
     "start_time": "2018-07-26T04:09:15.267045Z"
    }
   },
   "outputs": [],
   "source": [
    "ThresholdData"
   ]
  },
  {
   "cell_type": "code",
   "execution_count": null,
   "metadata": {
    "ExecuteTime": {
     "end_time": "2018-07-26T04:11:31.729488Z",
     "start_time": "2018-07-26T04:11:30.545714Z"
    }
   },
   "outputs": [],
   "source": [
    "plt.clf()\n",
    "ThresholdData.plot()\n",
    "plt.show()"
   ]
  },
  {
   "cell_type": "code",
   "execution_count": null,
   "metadata": {
    "ExecuteTime": {
     "end_time": "2018-07-26T06:13:23.842644Z",
     "start_time": "2018-07-26T06:13:23.158735Z"
    }
   },
   "outputs": [],
   "source": [
    "# ThresholdData=ThresholdData.where(ThresholdData!=-3.4028234663852886e+38)\n",
    "# ThresholdData=ThresholdData.where(ThresholdData!=0)\n",
    "# ThresholdData=ThresholdData.where(cewoData.data!=2.0)"
   ]
  },
  {
   "cell_type": "code",
   "execution_count": null,
   "metadata": {
    "ExecuteTime": {
     "end_time": "2018-07-26T04:25:57.115055Z",
     "start_time": "2018-07-26T04:25:57.090948Z"
    }
   },
   "outputs": [],
   "source": [
    "ThresholdData"
   ]
  },
  {
   "cell_type": "code",
   "execution_count": null,
   "metadata": {
    "ExecuteTime": {
     "end_time": "2018-07-26T04:18:36.476194Z",
     "start_time": "2018-07-26T04:18:36.352520Z"
    }
   },
   "outputs": [],
   "source": [
    "#ThresholdData=ThresholdData.where(ThresholdData!=-3.4028234663852886e+38)\n",
    "#ThresholdData=ThresholdData.where(ThresholdData!=0)\n",
    "#ThresholdData=ThresholdData.where(cewoData.data!=2.0)"
   ]
  },
  {
   "cell_type": "code",
   "execution_count": null,
   "metadata": {
    "ExecuteTime": {
     "end_time": "2018-07-26T04:21:15.484600Z",
     "start_time": "2018-07-26T04:21:14.364610Z"
    }
   },
   "outputs": [],
   "source": [
    "plt.clf()\n",
    "ThresholdData.plot()\n",
    "plt.show()"
   ]
  },
  {
   "cell_type": "code",
   "execution_count": null,
   "metadata": {
    "ExecuteTime": {
     "end_time": "2018-07-26T04:26:45.311215Z",
     "start_time": "2018-07-26T04:26:44.967868Z"
    }
   },
   "outputs": [],
   "source": [
    "cewoData2=cewoData.where(cewoData!=65535.)\n",
    "cewoData2 = cewoData2.where(cewoData2!=-3.4028234663852886e+38) #remove no data vals\n",
    "cewoData2 = cewoData2.where(cewoData2!=0) #remove no data vals\n",
    "cewoData2 = cewoData2.where(cewoData2.data!=2.0) #remove storages"
   ]
  },
  {
   "cell_type": "code",
   "execution_count": null,
   "metadata": {
    "ExecuteTime": {
     "end_time": "2018-07-26T06:14:05.959784Z",
     "start_time": "2018-07-26T06:14:05.012833Z"
    }
   },
   "outputs": [],
   "source": [
    "cewo_comp = cewo_comp.where(cewo_comp!=-3.4028234663852886e+38)\n",
    "print(cewo_comp.count())\n",
    "cewo_comp = cewo_comp.where(cewo_comp!=0)\n",
    "print(cewo_comp.count())\n",
    "cewo_comp = cewo_comp.where(cewo_comp!=65535.)\n",
    "print(cewo_comp.count())\n",
    "cewo_comp = cewo_comp.where(cewo_comp!=2.0)\n",
    "print(cewo_comp.count())"
   ]
  },
  {
   "cell_type": "code",
   "execution_count": null,
   "metadata": {
    "ExecuteTime": {
     "end_time": "2018-07-26T04:26:46.086882Z",
     "start_time": "2018-07-26T04:26:46.040873Z"
    }
   },
   "outputs": [],
   "source": [
    "cewoData2.max()"
   ]
  },
  {
   "cell_type": "code",
   "execution_count": null,
   "metadata": {
    "ExecuteTime": {
     "end_time": "2018-07-26T04:29:44.300009Z",
     "start_time": "2018-07-26T04:29:44.289588Z"
    }
   },
   "outputs": [],
   "source": [
    "cewo_comp.size, ThresholdData.size"
   ]
  },
  {
   "cell_type": "code",
   "execution_count": null,
   "metadata": {
    "ExecuteTime": {
     "end_time": "2018-07-26T04:29:20.748349Z",
     "start_time": "2018-07-26T04:29:20.664450Z"
    }
   },
   "outputs": [],
   "source": [
    "print(cewo_comp.count(), ThresholdData.count())"
   ]
  },
  {
   "cell_type": "code",
   "execution_count": null,
   "metadata": {
    "ExecuteTime": {
     "end_time": "2018-07-26T04:26:49.829253Z",
     "start_time": "2018-07-26T04:26:48.720378Z"
    }
   },
   "outputs": [],
   "source": [
    "cewoData2.plot() \n",
    "plt.show()"
   ]
  },
  {
   "cell_type": "code",
   "execution_count": null,
   "metadata": {},
   "outputs": [],
   "source": [
    "cewo"
   ]
  },
  {
   "cell_type": "code",
   "execution_count": null,
   "metadata": {},
   "outputs": [],
   "source": []
  },
  {
   "cell_type": "markdown",
   "metadata": {},
   "source": [
    "Shouldn't have to do this again but here is the reproject to template function, with intro"
   ]
  },
  {
   "cell_type": "code",
   "execution_count": null,
   "metadata": {},
   "outputs": [],
   "source": [
    "# output = SpatialTools.reproject_to_template(cewo_compFile,thresholdFiles[0],'/g/data/r78/rjd547/Macquarie_Marsh/bexnessresults/thresholded_wetness/clipped/no_storages/cewo_20160628_test.tif')\n",
    "# output = None"
   ]
  }
 ],
 "metadata": {
  "kernelspec": {
   "display_name": "Python 3",
   "language": "python",
   "name": "python3"
  },
  "language_info": {
   "codemirror_mode": {
    "name": "ipython",
    "version": 3
   },
   "file_extension": ".py",
   "mimetype": "text/x-python",
   "name": "python",
   "nbconvert_exporter": "python",
   "pygments_lexer": "ipython3",
   "version": "3.6.10"
  },
  "toc": {
   "base_numbering": 1,
   "nav_menu": {},
   "number_sections": true,
   "sideBar": true,
   "skip_h1_title": false,
   "title_cell": "Table of Contents",
   "title_sidebar": "Contents",
   "toc_cell": false,
   "toc_position": {},
   "toc_section_display": true,
   "toc_window_display": false
  }
 },
 "nbformat": 4,
 "nbformat_minor": 4
}
