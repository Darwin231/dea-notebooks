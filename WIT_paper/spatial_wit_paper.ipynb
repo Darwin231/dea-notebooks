{
 "cells": [
  {
   "cell_type": "markdown",
   "metadata": {},
   "source": [
    "# Spatial display for Wetlands Insight Tool results <img align=\"right\" src=\"../Supplementary_data/dea_logo.jpg\">\n",
    "\n",
    "* **Compatibility:** Notebook currently compatible with only the `NCI VDI` environment\n",
    "\n",
    "\n",
    "* **Special requirements:** \n",
    "    * If running on the [NCI](https://nci.org.au/), ensure that `module load dea` is   run prior to launching this notebook\n",
    "    * Check you have the latest version of the `wit_tooling package` by \n",
    "      copying and pasting the following code into a cell below and running the cell\n",
    "    `!pip install --user git+git://github.com/GeoscienceAustralia/wit_tooling`\n",
    "      \n",
    "      \n",
    "* **Products used:** \n",
    "    * Collection 2 Landsat Surface Reflectance: \n",
    "    [ls5_nbart_albers](https://explorer.dea.ga.gov.au/ls5_nbart_albers),\n",
    "    [ls7_nbart_albers](https://explorer.dea.ga.gov.au/ls7_nbart_albers),\n",
    "    [ls8_nbart_albers](https://explorer.dea.ga.gov.au/ls8_nbart_albers)\n",
    "    * Collection 2 Landsat Fractional Cover, \n",
    "    generated using the Joint Remote Sensing Research Program algorithm: \n",
    "    [ls5_fc_albers](https://explorer.dea.ga.gov.au/ls5_fc_albers),\n",
    "    [ls7_fc_albers](https://explorer.dea.ga.gov.au/ls7_fc_albers),\n",
    "    [ls8_fc_albers](https://explorer.dea.ga.gov.au/ls8_fc_albers)\n",
    "    * Water Observations from Space, \n",
    "    generated using the Geoscience Australia Algorithm:\n",
    "    [wofs_albers](https://explorer.sandbox.dea.ga.gov.au/wofs_albers)\n",
    "\n"
   ]
  },
  {
   "cell_type": "markdown",
   "metadata": {},
   "source": [
    "## Background\n",
    "The Spatial Wetlands Insight Tool is a tool in development to display the coverage of water, \"wetness\" and vegetation fractional cover in a wetland spatially. It is generated off existing Wetlands Insight Tool temporal runs. "
   ]
  },
  {
   "cell_type": "markdown",
   "metadata": {},
   "source": [
    "## Description\n",
    "This notebook uses an existing Wetlands Insight Tool temporal plot, \n",
    "generated from an existing WIT run, to create a spatial plot of water, \"wetness\", green/photosynthetic vegetation, dry/non-photosynthetic vegetation, and bare soil for a chosen observation date. \n",
    "\n",
    "1. First we load the existing WIT data from either: \n",
    "    * a saved csv location\n",
    "    * a shapefile to retrieve the existing WIT data from the database of previous runs\n",
    "    * a csv from an Amazon s3 data bucket\n",
    "2. Then we choose a time of interest to plot Spatial WIT\n",
    "3. Finally we output Spatial WIT to a file for each cover type\n",
    "***"
   ]
  },
  {
   "cell_type": "markdown",
   "metadata": {},
   "source": [
    "Before running this notebook:\n",
    "-----------------------------\n",
    "* Follow the instructions under `Special Requirements` above to load `dea` and install `wit_tooling`"
   ]
  },
  {
   "cell_type": "markdown",
   "metadata": {},
   "source": [
    "## Load packages"
   ]
  },
  {
   "cell_type": "code",
   "execution_count": 1,
   "metadata": {},
   "outputs": [],
   "source": [
    "# import all the necessary packages in this cell\n",
    "import pandas as pd\n",
    "import numpy as np\n",
    "import fiona\n",
    "import geopandas as gpd\n",
    "\n",
    "\n",
    "from datacube.utils.cog import write_cog\n",
    "\n",
    "from bokeh.io import curdoc, output_notebook, show\n",
    "from bokeh.layouts import layout\n",
    "from bokeh.models import (CheckboxGroup, Select, ColumnDataSource, HoverTool, YearsTicker, Legend,\n",
    "                          CustomJS, LegendItem, field, Range1d, Circle, Button, RadioGroup, TextInput, WheelZoomTool,\n",
    "                          ResetTool, BoxZoomTool, SaveTool, LinearColorMapper, Label)\n",
    "from bokeh.models.formatters import DatetimeTickFormatter\n",
    "from bokeh.models.glyphs import Text\n",
    "from bokeh.colors import RGB\n",
    "from bokeh.plotting import figure\n",
    "import datetime\n",
    "\n",
    "from os import path\n",
    "import os, sys, logging\n",
    "import seaborn as sns\n",
    "import ssl\n",
    "\n",
    "from wit_tooling import load_wit_data, query_datasets, construct_product, load_wofs_fc, generate_raster, spatial_wit"
   ]
  },
  {
   "cell_type": "code",
   "execution_count": 2,
   "metadata": {},
   "outputs": [
    {
     "data": {
      "text/html": [
       "\n",
       "    <div class=\"bk-root\">\n",
       "        <a href=\"https://bokeh.org\" target=\"_blank\" class=\"bk-logo bk-logo-small bk-logo-notebook\"></a>\n",
       "        <span id=\"1001\">Loading BokehJS ...</span>\n",
       "    </div>"
      ]
     },
     "metadata": {},
     "output_type": "display_data"
    },
    {
     "data": {
      "application/javascript": [
       "\n",
       "(function(root) {\n",
       "  function now() {\n",
       "    return new Date();\n",
       "  }\n",
       "\n",
       "  var force = true;\n",
       "\n",
       "  if (typeof root._bokeh_onload_callbacks === \"undefined\" || force === true) {\n",
       "    root._bokeh_onload_callbacks = [];\n",
       "    root._bokeh_is_loading = undefined;\n",
       "  }\n",
       "\n",
       "  var JS_MIME_TYPE = 'application/javascript';\n",
       "  var HTML_MIME_TYPE = 'text/html';\n",
       "  var EXEC_MIME_TYPE = 'application/vnd.bokehjs_exec.v0+json';\n",
       "  var CLASS_NAME = 'output_bokeh rendered_html';\n",
       "\n",
       "  /**\n",
       "   * Render data to the DOM node\n",
       "   */\n",
       "  function render(props, node) {\n",
       "    var script = document.createElement(\"script\");\n",
       "    node.appendChild(script);\n",
       "  }\n",
       "\n",
       "  /**\n",
       "   * Handle when an output is cleared or removed\n",
       "   */\n",
       "  function handleClearOutput(event, handle) {\n",
       "    var cell = handle.cell;\n",
       "\n",
       "    var id = cell.output_area._bokeh_element_id;\n",
       "    var server_id = cell.output_area._bokeh_server_id;\n",
       "    // Clean up Bokeh references\n",
       "    if (id != null && id in Bokeh.index) {\n",
       "      Bokeh.index[id].model.document.clear();\n",
       "      delete Bokeh.index[id];\n",
       "    }\n",
       "\n",
       "    if (server_id !== undefined) {\n",
       "      // Clean up Bokeh references\n",
       "      var cmd = \"from bokeh.io.state import curstate; print(curstate().uuid_to_server['\" + server_id + \"'].get_sessions()[0].document.roots[0]._id)\";\n",
       "      cell.notebook.kernel.execute(cmd, {\n",
       "        iopub: {\n",
       "          output: function(msg) {\n",
       "            var id = msg.content.text.trim();\n",
       "            if (id in Bokeh.index) {\n",
       "              Bokeh.index[id].model.document.clear();\n",
       "              delete Bokeh.index[id];\n",
       "            }\n",
       "          }\n",
       "        }\n",
       "      });\n",
       "      // Destroy server and session\n",
       "      var cmd = \"import bokeh.io.notebook as ion; ion.destroy_server('\" + server_id + \"')\";\n",
       "      cell.notebook.kernel.execute(cmd);\n",
       "    }\n",
       "  }\n",
       "\n",
       "  /**\n",
       "   * Handle when a new output is added\n",
       "   */\n",
       "  function handleAddOutput(event, handle) {\n",
       "    var output_area = handle.output_area;\n",
       "    var output = handle.output;\n",
       "\n",
       "    // limit handleAddOutput to display_data with EXEC_MIME_TYPE content only\n",
       "    if ((output.output_type != \"display_data\") || (!output.data.hasOwnProperty(EXEC_MIME_TYPE))) {\n",
       "      return\n",
       "    }\n",
       "\n",
       "    var toinsert = output_area.element.find(\".\" + CLASS_NAME.split(' ')[0]);\n",
       "\n",
       "    if (output.metadata[EXEC_MIME_TYPE][\"id\"] !== undefined) {\n",
       "      toinsert[toinsert.length - 1].firstChild.textContent = output.data[JS_MIME_TYPE];\n",
       "      // store reference to embed id on output_area\n",
       "      output_area._bokeh_element_id = output.metadata[EXEC_MIME_TYPE][\"id\"];\n",
       "    }\n",
       "    if (output.metadata[EXEC_MIME_TYPE][\"server_id\"] !== undefined) {\n",
       "      var bk_div = document.createElement(\"div\");\n",
       "      bk_div.innerHTML = output.data[HTML_MIME_TYPE];\n",
       "      var script_attrs = bk_div.children[0].attributes;\n",
       "      for (var i = 0; i < script_attrs.length; i++) {\n",
       "        toinsert[toinsert.length - 1].firstChild.setAttribute(script_attrs[i].name, script_attrs[i].value);\n",
       "        toinsert[toinsert.length - 1].firstChild.textContent = bk_div.children[0].textContent\n",
       "      }\n",
       "      // store reference to server id on output_area\n",
       "      output_area._bokeh_server_id = output.metadata[EXEC_MIME_TYPE][\"server_id\"];\n",
       "    }\n",
       "  }\n",
       "\n",
       "  function register_renderer(events, OutputArea) {\n",
       "\n",
       "    function append_mime(data, metadata, element) {\n",
       "      // create a DOM node to render to\n",
       "      var toinsert = this.create_output_subarea(\n",
       "        metadata,\n",
       "        CLASS_NAME,\n",
       "        EXEC_MIME_TYPE\n",
       "      );\n",
       "      this.keyboard_manager.register_events(toinsert);\n",
       "      // Render to node\n",
       "      var props = {data: data, metadata: metadata[EXEC_MIME_TYPE]};\n",
       "      render(props, toinsert[toinsert.length - 1]);\n",
       "      element.append(toinsert);\n",
       "      return toinsert\n",
       "    }\n",
       "\n",
       "    /* Handle when an output is cleared or removed */\n",
       "    events.on('clear_output.CodeCell', handleClearOutput);\n",
       "    events.on('delete.Cell', handleClearOutput);\n",
       "\n",
       "    /* Handle when a new output is added */\n",
       "    events.on('output_added.OutputArea', handleAddOutput);\n",
       "\n",
       "    /**\n",
       "     * Register the mime type and append_mime function with output_area\n",
       "     */\n",
       "    OutputArea.prototype.register_mime_type(EXEC_MIME_TYPE, append_mime, {\n",
       "      /* Is output safe? */\n",
       "      safe: true,\n",
       "      /* Index of renderer in `output_area.display_order` */\n",
       "      index: 0\n",
       "    });\n",
       "  }\n",
       "\n",
       "  // register the mime type if in Jupyter Notebook environment and previously unregistered\n",
       "  if (root.Jupyter !== undefined) {\n",
       "    var events = require('base/js/events');\n",
       "    var OutputArea = require('notebook/js/outputarea').OutputArea;\n",
       "\n",
       "    if (OutputArea.prototype.mime_types().indexOf(EXEC_MIME_TYPE) == -1) {\n",
       "      register_renderer(events, OutputArea);\n",
       "    }\n",
       "  }\n",
       "\n",
       "  \n",
       "  if (typeof (root._bokeh_timeout) === \"undefined\" || force === true) {\n",
       "    root._bokeh_timeout = Date.now() + 5000;\n",
       "    root._bokeh_failed_load = false;\n",
       "  }\n",
       "\n",
       "  var NB_LOAD_WARNING = {'data': {'text/html':\n",
       "     \"<div style='background-color: #fdd'>\\n\"+\n",
       "     \"<p>\\n\"+\n",
       "     \"BokehJS does not appear to have successfully loaded. If loading BokehJS from CDN, this \\n\"+\n",
       "     \"may be due to a slow or bad network connection. Possible fixes:\\n\"+\n",
       "     \"</p>\\n\"+\n",
       "     \"<ul>\\n\"+\n",
       "     \"<li>re-rerun `output_notebook()` to attempt to load from CDN again, or</li>\\n\"+\n",
       "     \"<li>use INLINE resources instead, as so:</li>\\n\"+\n",
       "     \"</ul>\\n\"+\n",
       "     \"<code>\\n\"+\n",
       "     \"from bokeh.resources import INLINE\\n\"+\n",
       "     \"output_notebook(resources=INLINE)\\n\"+\n",
       "     \"</code>\\n\"+\n",
       "     \"</div>\"}};\n",
       "\n",
       "  function display_loaded() {\n",
       "    var el = document.getElementById(\"1001\");\n",
       "    if (el != null) {\n",
       "      el.textContent = \"BokehJS is loading...\";\n",
       "    }\n",
       "    if (root.Bokeh !== undefined) {\n",
       "      if (el != null) {\n",
       "        el.textContent = \"BokehJS \" + root.Bokeh.version + \" successfully loaded.\";\n",
       "      }\n",
       "    } else if (Date.now() < root._bokeh_timeout) {\n",
       "      setTimeout(display_loaded, 100)\n",
       "    }\n",
       "  }\n",
       "\n",
       "\n",
       "  function run_callbacks() {\n",
       "    try {\n",
       "      root._bokeh_onload_callbacks.forEach(function(callback) {\n",
       "        if (callback != null)\n",
       "          callback();\n",
       "      });\n",
       "    } finally {\n",
       "      delete root._bokeh_onload_callbacks\n",
       "    }\n",
       "    console.debug(\"Bokeh: all callbacks have finished\");\n",
       "  }\n",
       "\n",
       "  function load_libs(css_urls, js_urls, callback) {\n",
       "    if (css_urls == null) css_urls = [];\n",
       "    if (js_urls == null) js_urls = [];\n",
       "\n",
       "    root._bokeh_onload_callbacks.push(callback);\n",
       "    if (root._bokeh_is_loading > 0) {\n",
       "      console.debug(\"Bokeh: BokehJS is being loaded, scheduling callback at\", now());\n",
       "      return null;\n",
       "    }\n",
       "    if (js_urls == null || js_urls.length === 0) {\n",
       "      run_callbacks();\n",
       "      return null;\n",
       "    }\n",
       "    console.debug(\"Bokeh: BokehJS not loaded, scheduling load and callback at\", now());\n",
       "    root._bokeh_is_loading = css_urls.length + js_urls.length;\n",
       "\n",
       "    function on_load() {\n",
       "      root._bokeh_is_loading--;\n",
       "      if (root._bokeh_is_loading === 0) {\n",
       "        console.debug(\"Bokeh: all BokehJS libraries/stylesheets loaded\");\n",
       "        run_callbacks()\n",
       "      }\n",
       "    }\n",
       "\n",
       "    function on_error() {\n",
       "      console.error(\"failed to load \" + url);\n",
       "    }\n",
       "\n",
       "    for (var i = 0; i < css_urls.length; i++) {\n",
       "      var url = css_urls[i];\n",
       "      const element = document.createElement(\"link\");\n",
       "      element.onload = on_load;\n",
       "      element.onerror = on_error;\n",
       "      element.rel = \"stylesheet\";\n",
       "      element.type = \"text/css\";\n",
       "      element.href = url;\n",
       "      console.debug(\"Bokeh: injecting link tag for BokehJS stylesheet: \", url);\n",
       "      document.body.appendChild(element);\n",
       "    }\n",
       "\n",
       "    const hashes = {\"https://cdn.bokeh.org/bokeh/release/bokeh-2.1.1.min.js\": \"kLr4fYcqcSpbuI95brIH3vnnYCquzzSxHPU6XGQCIkQRGJwhg0StNbj1eegrHs12\", \"https://cdn.bokeh.org/bokeh/release/bokeh-widgets-2.1.1.min.js\": \"xIGPmVtaOm+z0BqfSOMn4lOR6ciex448GIKG4eE61LsAvmGj48XcMQZtKcE/UXZe\", \"https://cdn.bokeh.org/bokeh/release/bokeh-tables-2.1.1.min.js\": \"Dc9u1wF/0zApGIWoBbH77iWEHtdmkuYWG839Uzmv8y8yBLXebjO9ZnERsde5Ln/P\", \"https://cdn.bokeh.org/bokeh/release/bokeh-gl-2.1.1.min.js\": \"cT9JaBz7GiRXdENrJLZNSC6eMNF3nh3fa5fTF51Svp+ukxPdwcU5kGXGPBgDCa2j\"};\n",
       "\n",
       "    for (var i = 0; i < js_urls.length; i++) {\n",
       "      var url = js_urls[i];\n",
       "      var element = document.createElement('script');\n",
       "      element.onload = on_load;\n",
       "      element.onerror = on_error;\n",
       "      element.async = false;\n",
       "      element.src = url;\n",
       "      if (url in hashes) {\n",
       "        element.crossOrigin = \"anonymous\";\n",
       "        element.integrity = \"sha384-\" + hashes[url];\n",
       "      }\n",
       "      console.debug(\"Bokeh: injecting script tag for BokehJS library: \", url);\n",
       "      document.head.appendChild(element);\n",
       "    }\n",
       "  };\n",
       "\n",
       "  function inject_raw_css(css) {\n",
       "    const element = document.createElement(\"style\");\n",
       "    element.appendChild(document.createTextNode(css));\n",
       "    document.body.appendChild(element);\n",
       "  }\n",
       "\n",
       "  \n",
       "  var js_urls = [\"https://cdn.bokeh.org/bokeh/release/bokeh-2.1.1.min.js\", \"https://cdn.bokeh.org/bokeh/release/bokeh-widgets-2.1.1.min.js\", \"https://cdn.bokeh.org/bokeh/release/bokeh-tables-2.1.1.min.js\", \"https://cdn.bokeh.org/bokeh/release/bokeh-gl-2.1.1.min.js\"];\n",
       "  var css_urls = [];\n",
       "  \n",
       "\n",
       "  var inline_js = [\n",
       "    function(Bokeh) {\n",
       "      Bokeh.set_log_level(\"info\");\n",
       "    },\n",
       "    function(Bokeh) {\n",
       "    \n",
       "    \n",
       "    }\n",
       "  ];\n",
       "\n",
       "  function run_inline_js() {\n",
       "    \n",
       "    if (root.Bokeh !== undefined || force === true) {\n",
       "      \n",
       "    for (var i = 0; i < inline_js.length; i++) {\n",
       "      inline_js[i].call(root, root.Bokeh);\n",
       "    }\n",
       "    if (force === true) {\n",
       "        display_loaded();\n",
       "      }} else if (Date.now() < root._bokeh_timeout) {\n",
       "      setTimeout(run_inline_js, 100);\n",
       "    } else if (!root._bokeh_failed_load) {\n",
       "      console.log(\"Bokeh: BokehJS failed to load within specified timeout.\");\n",
       "      root._bokeh_failed_load = true;\n",
       "    } else if (force !== true) {\n",
       "      var cell = $(document.getElementById(\"1001\")).parents('.cell').data().cell;\n",
       "      cell.output_area.append_execute_result(NB_LOAD_WARNING)\n",
       "    }\n",
       "\n",
       "  }\n",
       "\n",
       "  if (root._bokeh_is_loading === 0) {\n",
       "    console.debug(\"Bokeh: BokehJS loaded, going straight to plotting\");\n",
       "    run_inline_js();\n",
       "  } else {\n",
       "    load_libs(css_urls, js_urls, function() {\n",
       "      console.debug(\"Bokeh: BokehJS plotting callback run at\", now());\n",
       "      run_inline_js();\n",
       "    });\n",
       "  }\n",
       "}(window));"
      ],
      "application/vnd.bokehjs_load.v0+json": "\n(function(root) {\n  function now() {\n    return new Date();\n  }\n\n  var force = true;\n\n  if (typeof root._bokeh_onload_callbacks === \"undefined\" || force === true) {\n    root._bokeh_onload_callbacks = [];\n    root._bokeh_is_loading = undefined;\n  }\n\n  \n\n  \n  if (typeof (root._bokeh_timeout) === \"undefined\" || force === true) {\n    root._bokeh_timeout = Date.now() + 5000;\n    root._bokeh_failed_load = false;\n  }\n\n  var NB_LOAD_WARNING = {'data': {'text/html':\n     \"<div style='background-color: #fdd'>\\n\"+\n     \"<p>\\n\"+\n     \"BokehJS does not appear to have successfully loaded. If loading BokehJS from CDN, this \\n\"+\n     \"may be due to a slow or bad network connection. Possible fixes:\\n\"+\n     \"</p>\\n\"+\n     \"<ul>\\n\"+\n     \"<li>re-rerun `output_notebook()` to attempt to load from CDN again, or</li>\\n\"+\n     \"<li>use INLINE resources instead, as so:</li>\\n\"+\n     \"</ul>\\n\"+\n     \"<code>\\n\"+\n     \"from bokeh.resources import INLINE\\n\"+\n     \"output_notebook(resources=INLINE)\\n\"+\n     \"</code>\\n\"+\n     \"</div>\"}};\n\n  function display_loaded() {\n    var el = document.getElementById(\"1001\");\n    if (el != null) {\n      el.textContent = \"BokehJS is loading...\";\n    }\n    if (root.Bokeh !== undefined) {\n      if (el != null) {\n        el.textContent = \"BokehJS \" + root.Bokeh.version + \" successfully loaded.\";\n      }\n    } else if (Date.now() < root._bokeh_timeout) {\n      setTimeout(display_loaded, 100)\n    }\n  }\n\n\n  function run_callbacks() {\n    try {\n      root._bokeh_onload_callbacks.forEach(function(callback) {\n        if (callback != null)\n          callback();\n      });\n    } finally {\n      delete root._bokeh_onload_callbacks\n    }\n    console.debug(\"Bokeh: all callbacks have finished\");\n  }\n\n  function load_libs(css_urls, js_urls, callback) {\n    if (css_urls == null) css_urls = [];\n    if (js_urls == null) js_urls = [];\n\n    root._bokeh_onload_callbacks.push(callback);\n    if (root._bokeh_is_loading > 0) {\n      console.debug(\"Bokeh: BokehJS is being loaded, scheduling callback at\", now());\n      return null;\n    }\n    if (js_urls == null || js_urls.length === 0) {\n      run_callbacks();\n      return null;\n    }\n    console.debug(\"Bokeh: BokehJS not loaded, scheduling load and callback at\", now());\n    root._bokeh_is_loading = css_urls.length + js_urls.length;\n\n    function on_load() {\n      root._bokeh_is_loading--;\n      if (root._bokeh_is_loading === 0) {\n        console.debug(\"Bokeh: all BokehJS libraries/stylesheets loaded\");\n        run_callbacks()\n      }\n    }\n\n    function on_error() {\n      console.error(\"failed to load \" + url);\n    }\n\n    for (var i = 0; i < css_urls.length; i++) {\n      var url = css_urls[i];\n      const element = document.createElement(\"link\");\n      element.onload = on_load;\n      element.onerror = on_error;\n      element.rel = \"stylesheet\";\n      element.type = \"text/css\";\n      element.href = url;\n      console.debug(\"Bokeh: injecting link tag for BokehJS stylesheet: \", url);\n      document.body.appendChild(element);\n    }\n\n    const hashes = {\"https://cdn.bokeh.org/bokeh/release/bokeh-2.1.1.min.js\": \"kLr4fYcqcSpbuI95brIH3vnnYCquzzSxHPU6XGQCIkQRGJwhg0StNbj1eegrHs12\", \"https://cdn.bokeh.org/bokeh/release/bokeh-widgets-2.1.1.min.js\": \"xIGPmVtaOm+z0BqfSOMn4lOR6ciex448GIKG4eE61LsAvmGj48XcMQZtKcE/UXZe\", \"https://cdn.bokeh.org/bokeh/release/bokeh-tables-2.1.1.min.js\": \"Dc9u1wF/0zApGIWoBbH77iWEHtdmkuYWG839Uzmv8y8yBLXebjO9ZnERsde5Ln/P\", \"https://cdn.bokeh.org/bokeh/release/bokeh-gl-2.1.1.min.js\": \"cT9JaBz7GiRXdENrJLZNSC6eMNF3nh3fa5fTF51Svp+ukxPdwcU5kGXGPBgDCa2j\"};\n\n    for (var i = 0; i < js_urls.length; i++) {\n      var url = js_urls[i];\n      var element = document.createElement('script');\n      element.onload = on_load;\n      element.onerror = on_error;\n      element.async = false;\n      element.src = url;\n      if (url in hashes) {\n        element.crossOrigin = \"anonymous\";\n        element.integrity = \"sha384-\" + hashes[url];\n      }\n      console.debug(\"Bokeh: injecting script tag for BokehJS library: \", url);\n      document.head.appendChild(element);\n    }\n  };\n\n  function inject_raw_css(css) {\n    const element = document.createElement(\"style\");\n    element.appendChild(document.createTextNode(css));\n    document.body.appendChild(element);\n  }\n\n  \n  var js_urls = [\"https://cdn.bokeh.org/bokeh/release/bokeh-2.1.1.min.js\", \"https://cdn.bokeh.org/bokeh/release/bokeh-widgets-2.1.1.min.js\", \"https://cdn.bokeh.org/bokeh/release/bokeh-tables-2.1.1.min.js\", \"https://cdn.bokeh.org/bokeh/release/bokeh-gl-2.1.1.min.js\"];\n  var css_urls = [];\n  \n\n  var inline_js = [\n    function(Bokeh) {\n      Bokeh.set_log_level(\"info\");\n    },\n    function(Bokeh) {\n    \n    \n    }\n  ];\n\n  function run_inline_js() {\n    \n    if (root.Bokeh !== undefined || force === true) {\n      \n    for (var i = 0; i < inline_js.length; i++) {\n      inline_js[i].call(root, root.Bokeh);\n    }\n    if (force === true) {\n        display_loaded();\n      }} else if (Date.now() < root._bokeh_timeout) {\n      setTimeout(run_inline_js, 100);\n    } else if (!root._bokeh_failed_load) {\n      console.log(\"Bokeh: BokehJS failed to load within specified timeout.\");\n      root._bokeh_failed_load = true;\n    } else if (force !== true) {\n      var cell = $(document.getElementById(\"1001\")).parents('.cell').data().cell;\n      cell.output_area.append_execute_result(NB_LOAD_WARNING)\n    }\n\n  }\n\n  if (root._bokeh_is_loading === 0) {\n    console.debug(\"Bokeh: BokehJS loaded, going straight to plotting\");\n    run_inline_js();\n  } else {\n    load_libs(css_urls, js_urls, function() {\n      console.debug(\"Bokeh: BokehJS plotting callback run at\", now());\n      run_inline_js();\n    });\n  }\n}(window));"
     },
     "metadata": {},
     "output_type": "display_data"
    }
   ],
   "source": [
    "output_notebook()\n",
    "ssl._create_default_https_context = ssl._create_unverified_context\n",
    "\n",
    "_LOG = logging.getLogger(__name__)\n",
    "stdout_hdlr = logging.StreamHandler(sys.stdout)\n",
    "formatter = logging.Formatter('[%(asctime)s.%(msecs)03d - %(levelname)s] %(message)s')\n",
    "stdout_hdlr.setFormatter(formatter)\n",
    "_LOG.addHandler(stdout_hdlr)\n",
    "_LOG.setLevel(logging.DEBUG)"
   ]
  },
  {
   "cell_type": "markdown",
   "metadata": {},
   "source": [
    "### Global variables\n",
    "If you are using a shapefile, csv file, or Amazon s3 link to the existing WIT run, \n",
    "the path must be set in the cell below this cell:\n",
    "\n",
    "* `shapefile`: NCI path to shapefile \n",
    "(e.g. `'/g/data1a/r78/DEA_Wetlands/shapefiles/ramsar_wetlands_3577_20190403.shp'`). \n",
    "You must have permissions to the project directory,\n",
    "and the shapefile must be in [Australian Albers EPSG 3577 projection](https://spatialreference.org/ref/epsg/gda94-australian-albers/)\n",
    "* `csv_file`: NCI path to WIT results CSV (e.g. `'/g/data1a/u46/users/ea6141/dea-notebooks/Spatial_WIT/sample_data/Western Port_Western Port_VIC_19.csv'`)\n",
    "* `pd_yaml`: Yaml file necessary to generate WIT \n",
    "e.g. `'/g/data/u46/users/ea6141/wit_tooling/aux/fc_pd.yaml'`). \n",
    "Specifies input datasets.\n",
    "* `s3_url`: Amazon s3 url link to pre-generated WIT csvs folder \n",
    "(e.g. `'https://dea-public-data-dev.s3-ap-southeast-2.amazonaws.com/Wetlands_Insight_Tool/WIT_v3'`). \n"
   ]
  },
  {
   "cell_type": "code",
   "execution_count": 3,
   "metadata": {},
   "outputs": [],
   "source": [
    "# put global variables in this cell\n",
    "shapefile = '/g/data/r78/DEA_Wetlands/shapefiles/ramsar_wetlands_3577_20190403.shp'\n",
    "#csv_file = '/g/data1a/u46/users/ea6141/dea-notebooks/Spatial_WIT/sample_data/Western Port_Western Port_VIC_19.csv'\n",
    "pd_yaml = '/g/data/u46/users/ea6141/wit_tooling/aux/fc_pd.yaml'\n",
    "s3_url = 'https://dea-public-data-dev.s3-ap-southeast-2.amazonaws.com/Wetlands_Insight_Tool/WIT_v3/Kerang%20Wetlands_Hird%20Swamp_VIC_17.csv'"
   ]
  },
  {
   "cell_type": "code",
   "execution_count": 4,
   "metadata": {},
   "outputs": [],
   "source": [
    "def save_geotiff(spatial_wit_xr, filename, force=False):\n",
    "    \"\"\"\n",
    "        save spatial WIT result to geotiffs, each band will be output to individual tiff\n",
    "        input:\n",
    "            an xarray Dataset of spatial WIT\n",
    "            overwrite existing file if force=True, otherwise no output\n",
    "        output:\n",
    "            multiple cloud-optimized geotiffs (cogs) on disk\n",
    "    \"\"\"\n",
    "    for var in spatial_wit_xr.data_vars:       \n",
    "        #create file name per band\n",
    "        band_output = file_name + \"_\" + var + \".tif\"\n",
    "        if path.exists(band_output):\n",
    "            _LOG.warning(\"output geotif %s exists\", band_output)\n",
    "            if force:\n",
    "                _LOG.warning(\"existing geotif %s will be overwritten\", band_output)\n",
    "                os.remove(band_output)\n",
    "            else:\n",
    "                continue\n",
    "        spatial_wit_xr[var].attrs.update(spatial_wit_xr.attrs)\n",
    "        write_cog(spatial_wit_xr[var], band_output, blocksize=16)\n",
    "    return"
   ]
  },
  {
   "cell_type": "markdown",
   "metadata": {},
   "source": [
    "## Load WIT data using one of the methods in the cell below"
   ]
  },
  {
   "cell_type": "code",
   "execution_count": 5,
   "metadata": {},
   "outputs": [],
   "source": [
    "# A list we wanna explore\n",
    "#poly_candidates = {1: 1, 5: 5, 116: 116, 103: 103, 2: 2, 112: 112}\n",
    "poly_candidates = {42:42}"
   ]
  },
  {
   "cell_type": "code",
   "execution_count": 6,
   "metadata": {},
   "outputs": [],
   "source": [
    "# todo: iterate over all possible loading routes,\n",
    "# i.e., database and csv on s3 (not responsible for local csv, users supposed to know)\n",
    "# load wit data from database with a chosen shape\n",
    "with fiona.open(shapefile) as allshapes:\n",
    "    shape_crs = allshapes.crs_wkt\n",
    "    shape_list = iter(allshapes)\n",
    "    while True:\n",
    "        shape = next(shape_list)\n",
    "        if int(shape['id']) == poly_candidates[42]:\n",
    "            break\n",
    "    #polyName = shape['properties'].get('WetlandNam', '')\n",
    "    poly_outline = np.array(shape['geometry']['coordinates'][0])\n",
    "   # s3_filename = 'area_percent_' + shape['id'] + '_0.csv'\n",
    "    wit_data = load_wit_data(s3_url='https://dea-public-data-dev.s3-ap-southeast-2.amazonaws.com/Wetlands_Insight_Tool/WIT_v3/Kerang%20Wetlands_Hird%20Swamp_VIC_17.csv')"
   ]
  },
  {
   "cell_type": "markdown",
   "metadata": {},
   "source": [
    "### Check the shapefile to make sure we've got the correct polygon"
   ]
  },
  {
   "cell_type": "code",
   "execution_count": 7,
   "metadata": {},
   "outputs": [],
   "source": [
    "shape_df = gpd.read_file(shapefile)"
   ]
  },
  {
   "cell_type": "code",
   "execution_count": 8,
   "metadata": {},
   "outputs": [
    {
     "data": {
      "text/html": [
       "<div>\n",
       "<style scoped>\n",
       "    .dataframe tbody tr th:only-of-type {\n",
       "        vertical-align: middle;\n",
       "    }\n",
       "\n",
       "    .dataframe tbody tr th {\n",
       "        vertical-align: top;\n",
       "    }\n",
       "\n",
       "    .dataframe thead th {\n",
       "        text-align: right;\n",
       "    }\n",
       "</style>\n",
       "<table border=\"1\" class=\"dataframe\">\n",
       "  <thead>\n",
       "    <tr style=\"text-align: right;\">\n",
       "      <th></th>\n",
       "      <th>REFCODE</th>\n",
       "      <th>RAMSAR_NAM</th>\n",
       "      <th>WETLAND_NA</th>\n",
       "      <th>STATE</th>\n",
       "      <th>JURISDICTI</th>\n",
       "      <th>DESIGNATIO</th>\n",
       "      <th>TOTAL_SITE</th>\n",
       "      <th>GAZETTED_A</th>\n",
       "      <th>SOURCE</th>\n",
       "      <th>METADATA_U</th>\n",
       "      <th>WETLANDSDB</th>\n",
       "      <th>AREA_HA</th>\n",
       "      <th>geometry</th>\n",
       "    </tr>\n",
       "  </thead>\n",
       "  <tbody>\n",
       "    <tr>\n",
       "      <th>42</th>\n",
       "      <td>17</td>\n",
       "      <td>Kerang Wetlands</td>\n",
       "      <td>Hird Swamp</td>\n",
       "      <td>VIC</td>\n",
       "      <td>VIC</td>\n",
       "      <td>1982-12-15</td>\n",
       "      <td>0.0</td>\n",
       "      <td>9419.0</td>\n",
       "      <td>Department of Environment and Primary Industri...</td>\n",
       "      <td>http://services.land.vic.gov.au/SpatialDatamar...</td>\n",
       "      <td>http://www.environment.gov.au/cgi-bin/wetlands...</td>\n",
       "      <td>433.68127</td>\n",
       "      <td>POLYGON ((1090599.724 -3968110.105, 1090900.93...</td>\n",
       "    </tr>\n",
       "  </tbody>\n",
       "</table>\n",
       "</div>"
      ],
      "text/plain": [
       "    REFCODE       RAMSAR_NAM  WETLAND_NA STATE JURISDICTI  DESIGNATIO  \\\n",
       "42       17  Kerang Wetlands  Hird Swamp   VIC        VIC  1982-12-15   \n",
       "\n",
       "    TOTAL_SITE  GAZETTED_A                                             SOURCE  \\\n",
       "42         0.0      9419.0  Department of Environment and Primary Industri...   \n",
       "\n",
       "                                           METADATA_U  \\\n",
       "42  http://services.land.vic.gov.au/SpatialDatamar...   \n",
       "\n",
       "                                           WETLANDSDB    AREA_HA  \\\n",
       "42  http://www.environment.gov.au/cgi-bin/wetlands...  433.68127   \n",
       "\n",
       "                                             geometry  \n",
       "42  POLYGON ((1090599.724 -3968110.105, 1090900.93...  "
      ]
     },
     "execution_count": 8,
     "metadata": {},
     "output_type": "execute_result"
    }
   ],
   "source": [
    "shape_df[42:43]"
   ]
  },
  {
   "cell_type": "code",
   "execution_count": 9,
   "metadata": {},
   "outputs": [
    {
     "name": "stdout",
     "output_type": "stream",
     "text": [
      "Hird Swamp\n"
     ]
    },
    {
     "data": {
      "image/svg+xml": [
       "<svg xmlns=\"http://www.w3.org/2000/svg\" xmlns:xlink=\"http://www.w3.org/1999/xlink\" width=\"300\" height=\"300\" viewBox=\"1089371.2803667467 -3972048.6196333757 2122.4687955421396 4092.3167770886794\" preserveAspectRatio=\"xMinYMin meet\"><g transform=\"matrix(1,0,0,-1,0,-7940004.922489663)\"><path fill-rule=\"evenodd\" fill=\"#66cc99\" stroke=\"#555555\" stroke-width=\"27.282111847257863\" opacity=\"0.6\" d=\"M 1090599.724168323,-3968110.1047163606 L 1090900.9320229834,-3968337.2701842533 L 1090830.4133887487,-3968321.436239973 L 1091117.226937587,-3968543.3745370903 L 1091129.556547493,-3968620.1453495463 L 1091112.0189369598,-3968679.2758299974 L 1091238.917448304,-3968878.598910277 L 1091342.1818742484,-3969664.743454552 L 1091320.7537999535,-3970199.2057505017 L 1091235.7022914675,-3970538.65965196 L 1091233.2422425845,-3970548.4757472947 L 1091230.811291505,-3970558.174632316 L 1091146.329312126,-3970536.887344747 L 1090908.015540863,-3970708.9813822317 L 1091119.9070692877,-3970919.3748791586 L 1091091.6167777167,-3971034.3420862304 L 1091089.1995126784,-3971044.1694917367 L 1091086.8098064454,-3971053.8815489872 L 1091063.1209988648,-3971047.6042673625 L 1091033.2214625878,-3971131.626233405 L 1090906.0758770865,-3971303.8812576276 L 1090830.9218082605,-3971368.3891391666 L 1090738.1291267814,-3971306.023793601 L 1090704.6878897576,-3971337.763898293 L 1090818.4078712314,-3971537.6339240326 L 1090809.5593581193,-3971668.522312935 L 1090830.543955045,-3971684.971741548 L 1090959.344011961,-3971650.8372738045 L 1091062.701516835,-3971695.8469660287 L 1091020.7521080861,-3971870.8708248734 L 1090930.904795749,-3971897.0523453355 L 1090930.4942681962,-3971893.492861162 L 1090930.0728100238,-3971888.560830645 L 1090929.8821964748,-3971885.6364728124 L 1090929.72131845,-3971882.710257643 L 1090929.5825503613,-3971866.764344074 L 1090929.6336058648,-3971850.8169508763 L 1090929.8204993801,-3971845.3759920914 L 1090930.0493357452,-3971839.937345808 L 1090930.4325401094,-3971831.9209800404 L 1090930.856990581,-3971823.908532119 L 1090930.9137894637,-3971822.8890602835 L 1090930.972924757,-3971821.8698104396 L 1090931.7175794868,-3971809.0859980825 L 1090932.4655526103,-3971796.3016049876 L 1090932.9366271922,-3971788.0437181536 L 1090933.3861497713,-3971779.782666661 L 1090933.6452055401,-3971774.7101367884 L 1090933.8809881348,-3971769.637290149 L 1090934.1628013214,-3971762.657330492 L 1090934.3869998432,-3971755.676800574 L 1090934.4984841428,-3971750.6868000864 L 1090934.5526444144,-3971745.6960345535 L 1090934.5274769866,-3971739.8854818325 L 1090934.3948528208,-3971734.0778736873 L 1090934.2151065313,-3971730.1650104397 L 1090933.925162311,-3971726.258176639 L 1090933.445609551,-3971722.0241463026 L 1090932.7611210968,-3971717.8179158494 L 1090932.1711484217,-3971715.24683669 L 1090931.379645238,-3971712.7297483985 L 1090930.2930228198,-3971710.225758379 L 1090928.8924867334,-3971707.884938465 L 1090927.5968670733,-3971706.323634345 L 1090926.0492749405,-3971705.0122211673 L 1090924.2830877542,-3971703.988768994 L 1090922.3632201343,-3971703.295348158 L 1090919.7052525259,-3971702.784329012 L 1090917.0030019425,-3971702.634363743 L 1090914.3325763966,-3971702.7783165267 L 1090911.6841041741,-3971703.145452725 L 1090907.4710087904,-3971704.024528432 L 1090903.3093152957,-3971705.1203324464 L 1090899.9192922867,-3971706.157563915 L 1090896.5590663354,-3971707.2858210406 L 1090890.4870631131,-3971709.463692443 L 1090884.4469068488,-3971711.728214782 L 1090878.8453587613,-3971713.8923707255 L 1090873.2542109932,-3971716.0826038453 L 1090867.4096181872,-3971718.3731865436 L 1090861.5538151644,-3971720.6367280353 L 1090854.2870363516,-3971723.3803228717 L 1090846.9897917407,-3971726.046659063 L 1090841.5992400944,-3971727.939986084 L 1090836.1800004311,-3971729.753545778 L 1090828.9875492516,-3971732.008951992 L 1090821.744991283,-3971734.0922459145 L 1090815.8308310648,-3971735.6284383554 L 1090809.874213525,-3971736.9883383582 L 1090803.4255249945,-3971738.2488614013 L 1090796.9358602853,-3971739.286962657 L 1090790.549320557,-3971740.083330984 L 1090784.138611517,-3971740.6559755956 L 1090777.9601419417,-3971740.989788982 L 1090771.7749334376,-3971741.1063289754 L 1090766.021475372,-3971741.0056689824 L 1090760.2756392683,-3971740.6883192025 L 1090754.6773117858,-3971740.15642072 L 1090749.1042682077,-3971739.3965769038 L 1090744.2985401428,-3971738.5227708123 L 1090739.5390392924,-3971737.423900441 L 1090734.8605039234,-3971736.0855383347 L 1090730.2651068722,-3971734.4848112212 L 1090726.6665284943,-3971732.9685336123 L 1090723.1824040727,-3971731.202899977 L 1090720.024009284,-3971729.2861413746 L 1090717.030624179,-3971727.1175822928 L 1090714.3601627136,-3971724.8150245263 L 1090711.8953054727,-3971722.29340003 L 1090709.9027390787,-3971719.9066235772 L 1090708.0809696636,-3971717.3865582477 L 1090706.002879929,-3971714.0942274104 L 1090704.1102154874,-3971710.689286104 L 1090702.8702708464,-3971708.216247145 L 1090701.7033699495,-3971705.705437931 L 1090699.66020224,-3971701.0280794273 L 1090697.6919410208,-3971696.318144893 L 1090695.0526668702,-3971689.8905315846 L 1090692.3890768322,-3971683.473541644 L 1090691.5262403383,-3971681.619899188 L 1090684.953357464,-3971667.7218650156 L 1090678.2372648797,-3971653.8927335255 L 1090634.9342253166,-3971643.809422488 L 1090602.8442870365,-3971636.337251981 L 1090527.7808587453,-3971476.839090324 L 1090531.536289469,-3971446.8893388305 L 1090535.2908448144,-3971416.940261858 L 1090492.8233606392,-3971412.839532644 L 1090220.0324383157,-3971054.2354051312 L 1089998.7924639632,-3970763.3930190154 L 1089654.2637389058,-3970142.8074298548 L 1089672.9478193193,-3969954.8948019263 L 1089673.9624933081,-3969944.6969193574 L 1089684.4692022263,-3969839.0483152065 L 1089616.466597886,-3969805.8379890905 L 1089533.8392964005,-3969530.229276433 L 1089533.6263060453,-3969525.814170795 L 1089522.8476547871,-3969302.8606511317 L 1089627.376229091,-3968809.197513795 L 1089941.2706096377,-3968840.4436382074 L 1089944.507680442,-3968830.6552134315 L 1089947.7456662133,-3968820.8686574684 L 1089806.1691498905,-3968806.776643564 L 1089889.352758317,-3968512.1887825155 L 1090083.8745283072,-3968428.654931391 L 1090112.4341029688,-3968359.874155165 L 1090175.5177083572,-3968384.5284059173 L 1090277.1833476524,-3968424.261313999 L 1090321.4109167983,-3968308.5523220864 L 1090342.9565407662,-3968252.1842768434 L 1090307.053836483,-3968238.068417453 L 1090120.4791552895,-3968164.710809661 L 1090278.5664767057,-3968137.1113702236 L 1090409.4603747616,-3968114.2588176327 L 1090446.048198219,-3968107.870144327 L 1090452.2698842715,-3968138.026727897 L 1090463.2123376464,-3968135.95465693 L 1090599.724168323,-3968110.1047163606 z\" /></g></svg>"
      ],
      "text/plain": [
       "<shapely.geometry.polygon.Polygon at 0x7f4b4eb4f9e8>"
      ]
     },
     "execution_count": 9,
     "metadata": {},
     "output_type": "execute_result"
    }
   ],
   "source": [
    "#Check that #42 is Hird Swamp\n",
    "print(shape_df['WETLAND_NA'][42])\n",
    "polyName = shape_df['WETLAND_NA'][42]\n",
    "shape_df['geometry'][42]"
   ]
  },
  {
   "cell_type": "markdown",
   "metadata": {},
   "source": [
    "### Spatial wit for the chosen shape"
   ]
  },
  {
   "cell_type": "code",
   "execution_count": 10,
   "metadata": {},
   "outputs": [],
   "source": [
    "# it's helpful to get the location of data rather than load them\n",
    "# and it will save you time without querying database multiple times\n",
    "#time_range = (wit_data.utc_time.min(), wit_data.utc_time.max())\n",
    "time_range = (wit_data.utc_time.min(), wit_data.utc_time.max())"
   ]
  },
  {
   "cell_type": "code",
   "execution_count": 11,
   "metadata": {},
   "outputs": [
    {
     "name": "stdout",
     "output_type": "stream",
     "text": [
      "[2021-05-04 13:26:55,416.416 - DEBUG] Query datasets <VirtualDatasetBox of shape {'time': 1091, 'y': 152, 'x': 74}>\n"
     ]
    }
   ],
   "source": [
    "#build a product for our data using the yaml file to specify which datasets we need\n",
    "fc_product = construct_product(pd_yaml)\n",
    "datasets = query_datasets(fc_product, shape, shape_crs, time_range)\n",
    "_LOG.debug(\"Query datasets %s\", datasets)"
   ]
  },
  {
   "cell_type": "code",
   "execution_count": 12,
   "metadata": {},
   "outputs": [],
   "source": [
    "#datasets.box.time\n",
    "#datasets_time_source = ColumnDataSource(data=dict(time=pd.to_datetime(datasets.box.time.data).astype('str')))\n",
    "#datasets_time_source\n",
    "#wit_data.utc_time[0:20]"
   ]
  },
  {
   "cell_type": "code",
   "execution_count": 13,
   "metadata": {},
   "outputs": [
    {
     "name": "stdout",
     "output_type": "stream",
     "text": [
      "[2021-05-04 13:26:55,438.438 - DEBUG] load time slice 1987-09-30T23:42:36.500000\n"
     ]
    }
   ],
   "source": [
    "# take first time slice to init spatial wit plot\n",
    "time_slice = np.datetime64(wit_data.utc_time[1])\n",
    "_LOG.debug(\"load time slice %s\", time_slice)"
   ]
  },
  {
   "cell_type": "code",
   "execution_count": 14,
   "metadata": {},
   "outputs": [
    {
     "name": "stderr",
     "output_type": "stream",
     "text": [
      "/g/data/v10/public/modules/dea/20201217/lib/python3.6/site-packages/datacube/virtual/utils.py:13: UserWarning: select_unique may have failed: {'crs': 'EPSG:3577', 'grid_mapping': 'spatial_ref'} is not the same as {'crs': 'EPSG:3577'}\n",
      "  .format(first, other))\n"
     ]
    }
   ],
   "source": [
    "fc_wofs_data = load_wofs_fc(fc_product, datasets, time_slice)\n",
    "# mask by the geometry of given polygon\""
   ]
  },
  {
   "cell_type": "code",
   "execution_count": 15,
   "metadata": {},
   "outputs": [
    {
     "name": "stderr",
     "output_type": "stream",
     "text": [
      "/g/data/v10/public/modules/dea/20201217/lib/python3.6/site-packages/datacube/utils/geometry/_base.py:301: DeprecationWarning: Please use `str(crs)` instead of `crs.crs_str`\n",
      "  warnings.warn(\"Please use `str(crs)` instead of `crs.crs_str`\", category=DeprecationWarning)\n"
     ]
    }
   ],
   "source": [
    "# first parameter of generate_raster is a tuple of (shape geometry, [integer of shape id])\n",
    "\n",
    "mask = generate_raster([(shape['geometry'], int(shape['id']))], datasets.geobox)\n",
    "fc_wofs_perc = spatial_wit(fc_wofs_data, mask)"
   ]
  },
  {
   "cell_type": "code",
   "execution_count": 61,
   "metadata": {},
   "outputs": [],
   "source": [
    "#multiply our \n",
    "wit_data.iloc[:,1:] = wit_data[wit_data.columns[1:]].apply(lambda x: x * 100)"
   ]
  },
  {
   "cell_type": "markdown",
   "metadata": {},
   "source": [
    "Create a wit temporal plot with wit spatial wit plots above it"
   ]
  },
  {
   "cell_type": "code",
   "execution_count": 64,
   "metadata": {},
   "outputs": [],
   "source": [
    "def plot_doc(doc):\n",
    "    '''code to create the WIT temporal and spatial plots '''\n",
    "    #tell bokeh the data comes from a pandas dataframe\n",
    "    source = ColumnDataSource(data=wit_data)\n",
    "    \n",
    "    for i in range(10):\n",
    "        source.data['dummy'+str(i)] = np.ones(source.data['utc_time'].shape) * i * 10\n",
    "\n",
    "    #set up color palate for bokeh WIT plot\n",
    "    pal = [sns.xkcd_rgb[\"cobalt blue\"],\n",
    "           sns.xkcd_rgb[\"neon blue\"],\n",
    "           sns.xkcd_rgb[\"grass\"],\n",
    "           sns.xkcd_rgb[\"beige\"],\n",
    "           sns.xkcd_rgb[\"brown\"]]  \n",
    "\n",
    "    #lets put a title on the plot\n",
    "    title =f'Percentage of area dominated by WOfS, Wetness, Fractional Cover for {polyName}'    \n",
    "\n",
    "    #set up the x axis to recognise date and time. Note that you will only see the days when you zoom in.\n",
    "    wit_plot = figure(plot_width=1200, \n",
    "              plot_height = 400, \n",
    "              x_axis_type='datetime',\n",
    "             title=title, tools=[\"box_select\", ResetTool(), BoxZoomTool(dimensions=\"width\")])\n",
    "    \n",
    "    hovernames = []\n",
    "    nonselected_circle = Circle(fill_alpha=0, fill_color=None, line_color=None)\n",
    "    for i in range(10):\n",
    "        circle_group_name = 'circlegroup' + str(i)\n",
    "        renderer = wit_plot.circle(y=\"dummy\" + str(i), x= 'utc_time', size=20, fill_color=None, \n",
    "                        line_alpha=0, source = source, muted_color=\"white\", muted_alpha=0, name=circle_group_name)\n",
    "        renderer.nonselection_glyph = nonselected_circle\n",
    "        hovernames.append(circle_group_name)\n",
    "    wit_plot.varea_stack(['water', \n",
    "                  'wet',\n",
    "                  'green',\n",
    "                  'dry',\n",
    "                  'bare'], x= 'utc_time', name = \"stackplot\", color=pal, fill_alpha=0.7, source = source, \n",
    "                  legend_label=[\"water\",\"wet\",\"green\",\"dry\",\"bare\"], muted_color=\"grey\", muted_alpha=0.2)\n",
    "    wit_plot.sizing_mode = \"scale_width\"\n",
    "\n",
    "    #align the title in the centre\n",
    "    wit_plot.title.align= \"center\"\n",
    "    wit_plot.title.text_font_size=\"12pt\"\n",
    "\n",
    "    #label axes\n",
    "    wit_plot.yaxis.axis_label=(\"percentage of polygon classified as type\")\n",
    "    wit_plot.yaxis.axis_label_text_font_size=\"8pt\"\n",
    "\n",
    "    #we need screen units to put the attribution label under the plot. Don't ask why.\n",
    "    label_opts = dict(\n",
    "        x=0, \n",
    "        y=0,\n",
    "        x_units='screen', \n",
    "        y_units='screen',\n",
    "        text_font_style=\"italic\", \n",
    "        text_font_size=\"8.5pt\")\n",
    "\n",
    "    #underplot context\n",
    "    msg1 = 'The Fractional Cover algorithm developed by the Joint Remote Sensing Research Program\\n\\\n",
    "    and the Water Observations from Space algorithm developed by Geoscience Australia are used in the production of this data'\n",
    "    caption1 = Label(text=msg1, **label_opts)\n",
    "\n",
    "    wit_plot.add_layout(caption1, 'below')\n",
    "\n",
    "    wit_plot.xaxis.formatter=DatetimeTickFormatter()\n",
    "    wit_plot.xaxis.ticker = YearsTicker(interval=1)\n",
    "    wit_plot.xaxis.major_label_orientation = 45\n",
    "    \n",
    "    #set the new WIT graph ranges.\n",
    "    left, right, bottom, top = source.data['utc_time'][0], source.data['utc_time'][-1], 0, 100 #set \n",
    "    wit_plot.x_range=Range1d(left, right)\n",
    "    wit_plot.y_range=Range1d(bottom, top)\n",
    "    wit_plot.xaxis.bounds=(left,right)\n",
    "    wit_plot.yaxis.bounds=(bottom,top)\n",
    "\n",
    "    #now we want to overplot the data on the plot\n",
    "    #create rectangle borders for no-data times (SLC-off only)\n",
    "    LS5_8_gap_start = datetime.datetime(2011,11,1)\n",
    "    LS5_8_gap_end = datetime.datetime(2013,4,1)\n",
    "\n",
    "    #plot our dead satellite rectangle\n",
    "    wit_plot.hbar(y=50, \n",
    "           height=100,\n",
    "           left=LS5_8_gap_start, \n",
    "           right=LS5_8_gap_end, \n",
    "           name =\"LS7 SLC-OFF\",\n",
    "           color=\"white\", \n",
    "           alpha=0.5, \n",
    "           hatch_color=\"white\", \n",
    "           hatch_pattern='/',\n",
    "           hatch_alpha=0.6,\n",
    "           line_color=\"white\",\n",
    "           line_width =2,\n",
    "           line_alpha=0.6)\n",
    "\n",
    "    wit_plot.legend.location=\"bottom_left\"\n",
    "    wit_plot.legend.background_fill_alpha=0.5\n",
    "    wit_plot.legend.border_line_alpha=0.5\n",
    "    wit_plot.legend.label_text_font_size=\"9pt\" \n",
    "\n",
    "    #reverse the legend \n",
    "    wit_plot.legend[0].items.reverse()\n",
    "    \n",
    "    wit_hover = HoverTool(names = hovernames,\n",
    "                      tooltips = [\n",
    "        (\"observation\", \"$index\"),\n",
    "        (\"date\", \"@utc_time{%F}\"),\n",
    "        (\"bare\",\"@bare{0.0}%\"),\n",
    "        (\"dry\", \"@dry{0.0}%\"),\n",
    "        (\"green\",\"@green{0.0}%\"),\n",
    "        (\"wet\",\"@wet{0.0}%\"),\n",
    "        (\"water\",\"@water{0.0}%\")],     \n",
    "                    formatters=\n",
    "        {\"@utc_time\":\"datetime\"})\n",
    "\n",
    "    #trialling different ways of getting the tools to work. Both adding tools and including in the figure work.\n",
    "    wit_plot.add_tools(wit_hover, WheelZoomTool(), SaveTool())\n",
    "    \n",
    "    # down below is interactivity between plots\n",
    "    # WARNING: DON'T MODIFY UNLESS YOU ABSOLUTELY KNOW WHAT YOU'RE DOING\n",
    "    def sw_update(attrname, old, new):\n",
    "        time_slice = new\n",
    "        fc_wofs_data = load_wofs_fc(fc_product, datasets, np.datetime64(time_slice))\n",
    "        fc_wofs_perc = spatial_wit(fc_wofs_data, mask)\n",
    "        for var in fc_wofs_perc.data_vars:\n",
    "            sw_source.data[var] = [np.flip(fc_wofs_perc[var].data[0], axis=0)]\n",
    "        sw_plot.title.text = \"Spatial wit for time %s\" % time_slice\n",
    "\n",
    "    datasets_time_source = ColumnDataSource(data=dict(time=pd.to_datetime(datasets.box.time.data).astype('str')))\n",
    "    wit_time_source = ColumnDataSource(data=dict(time=wit_data.utc_time.astype('str')))\n",
    "    selected_time_slice = ColumnDataSource(data=dict(time=[]))\n",
    "    time_select = Select(title=\"time slice\", value='', options=list(wit_time_source.data['time']), \n",
    "                         height=50, width=200, sizing_mode=\"fixed\")\n",
    "    time_select.on_change('value', sw_update)\n",
    "    \n",
    "    def minmax_time_update(attrname, old, new):\n",
    "        if radio_group.active == 0:\n",
    "            time_source = wit_time_source.data['time']\n",
    "        elif radio_group.active == 1:\n",
    "            time_source = datasets_time_source.data['time']\n",
    "        if minmax_time_input.value != \"\":\n",
    "            min_time = minmax_time_input.value.split(\";\")[0]\n",
    "            max_time = minmax_time_input.value.split(\";\")[1]\n",
    "            time_source = time_source[(time_source >= min_time) & (time_source <= max_time)]\n",
    "        time_source = list(time_source)\n",
    "        time_select.options = time_source\n",
    "        time_select.value = time_source[0]\n",
    "        \n",
    "    minmax_time_input =  TextInput(value=\"\")\n",
    "    minmax_time_input.on_change('value', minmax_time_update)\n",
    "    \n",
    "    radio_group = RadioGroup(labels=[\"time slices from wit results\", \"time slices from available datasets\"], \n",
    "                             active=0, height=50, width=250, sizing_mode='fixed')\n",
    "    radio_group.on_change('active', minmax_time_update)\n",
    "    \n",
    "    js_code = \"\"\"\n",
    "        const inds=cb_obj.indices;\n",
    "        var min_index = inds[0];\n",
    "        var max_index = inds[0]\n",
    "        var data_s = source.data;\n",
    "        for (var i=0; i<inds.length; i++) {\n",
    "            max_index = Math.max(max_index, inds[i]);\n",
    "            min_index = Math.min(min_index, inds[i]);\n",
    "        }\n",
    "        target_minmax.value = data_s['time'][min_index] + \";\" + data_s['time'][max_index];\n",
    "    \"\"\"\n",
    "    js_callback = CustomJS(args={'source': wit_time_source, 'target_minmax': minmax_time_input}, \n",
    "                           code=js_code)\n",
    "    source.selected.js_on_change('indices', js_callback)\n",
    "    \n",
    "    def reset_time_selection(event):\n",
    "        if radio_group.active == 0:\n",
    "            options_input = wit_time_source.data['time']\n",
    "        elif radio_group.active == 1:\n",
    "            options_input = datasets_time_source.data['time']\n",
    "        time_select.options = list(options_input)\n",
    "        minmax_time_input.value = \"\"\n",
    "        \n",
    "    reset_button = Button(label='reset time selection', height=50, width=80, sizing_mode='fixed', button_type='success')\n",
    "    reset_button.on_click(reset_time_selection)\n",
    "    # above is interactivity between plots\n",
    "    \n",
    "    # down below is spatial wit plot\n",
    "    image_list = {}\n",
    "    color_map_dict = {}\n",
    "    # all below is to setup the pallete\n",
    "    transparent_white = RGB(255, 255, 255, 0)\n",
    "    colbat_blue = [RGB(3, 10, 167, 1)]\n",
    "    neon_blue = [RGB(4, 217, 255, 1)]\n",
    "    grass_green = [RGB(63, 155, 11, t) for t in np.arange(0.1, 1, 0.1)]\n",
    "    soil_brown = [RGB(96, 70, 15, t) for t in np.arange(0.1, 1, 0.1)]\n",
    "    dry_biege = [RGB(230, 218, 166, t) for t in np.arange(0.1, 1, 0.1) ]\n",
    "    var_colors = [soil_brown, grass_green, dry_biege, neon_blue, colbat_blue]\n",
    "    for var, cm in zip(fc_wofs_perc.data_vars, var_colors):\n",
    "        image_list[var] = [np.flip(fc_wofs_perc[var].data[0], axis=0)]\n",
    "        color_map_dict[var] = LinearColorMapper([transparent_white]+cm, low=0, high=100,\n",
    "                                   nan_color=transparent_white)\n",
    "    sw_source = ColumnDataSource(data=image_list)\n",
    "\n",
    "    # do the image plot\n",
    "    sw_plot = figure(plot_width=900, plot_height = 900,\n",
    "             tooltips = [\n",
    "        (\"x\", \"$x\"),\n",
    "        (\"y\", \"$y\"),\n",
    "        (\"bare\",\"@BS\"),\n",
    "        (\"dry\", \"@NPV\"),\n",
    "        (\"green\",\"@PV\"),\n",
    "        (\"wet\",\"@TCW\"),\n",
    "        (\"water\",\"@water\")])\n",
    "    \n",
    "\n",
    "    for var in fc_wofs_perc.data_vars:\n",
    "        sw_plot.image(image=var, source=sw_source, x=fc_wofs_data.x.data.min(), y=fc_wofs_data.y.data.min(),\n",
    "            dh=(fc_wofs_data.y.data.max() - fc_wofs_data.y.data.min()),\n",
    "            dw=(fc_wofs_data.x.data.max() - fc_wofs_data.x.data.min()),\n",
    "            color_mapper = color_map_dict[var])\n",
    "    sw_plot.line(poly_outline[:,0], poly_outline[:,1], line_width=3)\n",
    "    sw_plot.y_range.update(start=poly_outline[:,1].min(), end=poly_outline[:,1].max())\n",
    "    sw_plot.x_range.update(start=poly_outline[:,0].min(), end=poly_outline[:,0].max())\n",
    "    \n",
    "    sw_plot.title.text = \"Spatial wit at time %s\" % time_slice\n",
    "    sw_plot.title.text_font_size=\"12pt\"\n",
    "    # above is spatial wit plot\n",
    "    \n",
    "    layouts = layout([[radio_group, time_select, reset_button],\n",
    "        [wit_plot],[sw_plot]\n",
    "        ], sizing_mode='scale_both')\n",
    "    doc.add_root(layouts)"
   ]
  },
  {
   "cell_type": "code",
   "execution_count": 66,
   "metadata": {},
   "outputs": [
    {
     "data": {
      "application/vnd.bokehjs_exec.v0+json": "",
      "text/html": [
       "\n",
       "<script id=\"1983\">\n",
       "  var xhr = new XMLHttpRequest()\n",
       "  xhr.responseType = 'blob';\n",
       "  xhr.open('GET', \"http://localhost:39197/autoload.js?bokeh-autoload-element=1983&bokeh-absolute-url=http://localhost:39197&resources=none\", true);\n",
       "  \n",
       "  xhr.onload = function (event) {\n",
       "    var script = document.createElement('script'),\n",
       "    src = URL.createObjectURL(event.target.response);\n",
       "    script.src = src;\n",
       "    document.body.appendChild(script);\n",
       "  };\n",
       "xhr.send();\n",
       "</script>"
      ]
     },
     "metadata": {
      "application/vnd.bokehjs_exec.v0+json": {
       "server_id": "27f3a115847a49729ed813be7dd8da25"
      }
     },
     "output_type": "display_data"
    }
   ],
   "source": [
    "show(plot_doc, notebook_url=\"http://localhost:8889\")\n",
    "#notebook_url is the server address of jupyter notebook, change accordingly"
   ]
  },
  {
   "cell_type": "code",
   "execution_count": 19,
   "metadata": {},
   "outputs": [
    {
     "name": "stdout",
     "output_type": "stream",
     "text": [
      "[2021-05-04 13:26:56,406.406 - WARNING] output geotif test_1987-09-30T23:42:36.500000_BS.tif exists\n"
     ]
    },
    {
     "name": "stderr",
     "output_type": "stream",
     "text": [
      "WARNING:__main__:output geotif test_1987-09-30T23:42:36.500000_BS.tif exists\n"
     ]
    },
    {
     "name": "stdout",
     "output_type": "stream",
     "text": [
      "[2021-05-04 13:26:56,409.409 - WARNING] output geotif test_1987-09-30T23:42:36.500000_PV.tif exists\n"
     ]
    },
    {
     "name": "stderr",
     "output_type": "stream",
     "text": [
      "WARNING:__main__:output geotif test_1987-09-30T23:42:36.500000_PV.tif exists\n"
     ]
    },
    {
     "name": "stdout",
     "output_type": "stream",
     "text": [
      "[2021-05-04 13:26:56,412.412 - WARNING] output geotif test_1987-09-30T23:42:36.500000_NPV.tif exists\n"
     ]
    },
    {
     "name": "stderr",
     "output_type": "stream",
     "text": [
      "WARNING:__main__:output geotif test_1987-09-30T23:42:36.500000_NPV.tif exists\n"
     ]
    },
    {
     "name": "stdout",
     "output_type": "stream",
     "text": [
      "[2021-05-04 13:26:56,414.414 - WARNING] output geotif test_1987-09-30T23:42:36.500000_TCW.tif exists\n"
     ]
    },
    {
     "name": "stderr",
     "output_type": "stream",
     "text": [
      "WARNING:__main__:output geotif test_1987-09-30T23:42:36.500000_TCW.tif exists\n"
     ]
    },
    {
     "name": "stdout",
     "output_type": "stream",
     "text": [
      "[2021-05-04 13:26:56,419.419 - WARNING] output geotif test_1987-09-30T23:42:36.500000_water.tif exists\n"
     ]
    },
    {
     "name": "stderr",
     "output_type": "stream",
     "text": [
      "WARNING:__main__:output geotif test_1987-09-30T23:42:36.500000_water.tif exists\n"
     ]
    }
   ],
   "source": [
    "# save spatial WIT as geotiff\n",
    "# each variable will be output to individual COG\n",
    "# file_name works as prefix, the final output file name will be \"file_name_bandname\", e.g. \"test_BS.tif\"\n",
    "# by default force=False := not overwriting existing geotif\n",
    "file_name = \"test_\" + str(time_slice)\n",
    "save_geotiff(fc_wofs_perc, file_name, force=False)"
   ]
  },
  {
   "cell_type": "markdown",
   "metadata": {},
   "source": [
    "***\n",
    "\n",
    "## Additional information\n",
    "\n",
    "**License:** The code in this notebook is licensed under the [Apache License, Version 2.0](https://www.apache.org/licenses/LICENSE-2.0). \n",
    "Digital Earth Australia data is licensed under the [Creative Commons by Attribution 4.0](https://creativecommons.org/licenses/by/4.0/) license.\n",
    "\n",
    "**Contact:** If you need assistance, please post a question on the [Open Data Cube Slack channel](http://slack.opendatacube.org/) or on the [GIS Stack Exchange](https://gis.stackexchange.com/questions/ask?tags=open-data-cube) using the `open-data-cube` tag (you can view previously asked questions [here](https://gis.stackexchange.com/questions/tagged/open-data-cube)).\n",
    "If you would like to report an issue with this notebook, you can file one on [Github](https://github.com/GeoscienceAustralia/dea-notebooks).\n",
    "\n",
    "**Last modified:** June 16 2020"
   ]
  },
  {
   "cell_type": "markdown",
   "metadata": {},
   "source": [
    "## Tags\n",
    "Browse all available tags on the DEA User Guide's [Tags Index](https://docs.dea.ga.gov.au/genindex.html)"
   ]
  },
  {
   "cell_type": "markdown",
   "metadata": {},
   "source": [
    "**Tags**: :index:`no_testing`,:index:`NCI compatible`,:index:`landsat 5`, :index:`landsat 7`,  :index:`landsat 8`, :index:`dea_plotting`, :index:`time series`"
   ]
  }
 ],
 "metadata": {
  "kernelspec": {
   "display_name": "Python 3",
   "language": "python",
   "name": "python3"
  },
  "language_info": {
   "codemirror_mode": {
    "name": "ipython",
    "version": 3
   },
   "file_extension": ".py",
   "mimetype": "text/x-python",
   "name": "python",
   "nbconvert_exporter": "python",
   "pygments_lexer": "ipython3",
   "version": "3.6.10"
  },
  "widgets": {
   "application/vnd.jupyter.widget-state+json": {
    "state": {},
    "version_major": 2,
    "version_minor": 0
   }
  }
 },
 "nbformat": 4,
 "nbformat_minor": 4
}
