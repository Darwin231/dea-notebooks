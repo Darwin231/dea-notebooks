{
 "cells": [
  {
   "cell_type": "markdown",
   "metadata": {},
   "source": [
    "## This notebook makes the appendix graph for the TCW threshold for the WIT paper\n"
   ]
  },
  {
   "cell_type": "markdown",
   "metadata": {},
   "source": [
    "import some modules"
   ]
  },
  {
   "cell_type": "code",
   "execution_count": 1,
   "metadata": {},
   "outputs": [],
   "source": [
    "import pandas as pd\n",
    "import matplotlib.pyplot as plt\n",
    "import numpy as np"
   ]
  },
  {
   "cell_type": "markdown",
   "metadata": {},
   "source": [
    "Add data from paper"
   ]
  },
  {
   "cell_type": "code",
   "execution_count": 2,
   "metadata": {},
   "outputs": [],
   "source": [
    "data = {'TCW threshold':  [0,-50,-100,-150,-200,-250,-300,-350,-400,-450,-500,-550,-600],\n",
    "        'Thresholded TCW area (km$^2$)': [27.98,32.73,38.41,45.29,53.51,63.68,76.94,95.68,120.51,154.09,201.18,267.81,360.98]}"
   ]
  },
  {
   "cell_type": "markdown",
   "metadata": {},
   "source": [
    "make it a pd dataframe"
   ]
  },
  {
   "cell_type": "code",
   "execution_count": 3,
   "metadata": {},
   "outputs": [
    {
     "name": "stdout",
     "output_type": "stream",
     "text": [
      "    TCW threshold  Thresholded TCW area (km$^2$)\n",
      "0               0                          27.98\n",
      "1             -50                          32.73\n",
      "2            -100                          38.41\n",
      "3            -150                          45.29\n",
      "4            -200                          53.51\n",
      "5            -250                          63.68\n",
      "6            -300                          76.94\n",
      "7            -350                          95.68\n",
      "8            -400                         120.51\n",
      "9            -450                         154.09\n",
      "10           -500                         201.18\n",
      "11           -550                         267.81\n",
      "12           -600                         360.98\n"
     ]
    }
   ],
   "source": [
    "#turn this into a df\n",
    "df = pd.DataFrame(data)\n",
    "print (df)"
   ]
  },
  {
   "cell_type": "code",
   "execution_count": 7,
   "metadata": {},
   "outputs": [],
   "source": [
    "# df.plot.scatter('Thresholded TCW area (km$^2$)','TCW threshold')\n",
    "# plt.axvline(99.27, color='r')\n",
    "# plt.axhline(-350, color ='c')\n",
    "# plt.xticks(np.arange(0,440, 50.0))\n",
    "# plt.yticks(np.arange(-600,50, 50.0))\n",
    "# plt.show()"
   ]
  },
  {
   "cell_type": "code",
   "execution_count": 25,
   "metadata": {},
   "outputs": [
    {
     "data": {
      "image/png": "[encoded data removed]",
      "text/plain": [
       "<Figure size 432x288 with 1 Axes>"
      ]
     },
     "metadata": {
      "needs_background": "light"
     },
     "output_type": "display_data"
    }
   ],
   "source": [
    "df.plot.scatter('TCW threshold','Thresholded TCW area (km$^2$)')\n",
    "plt.axhline(96.27, color='r', linewidth=1) #reviewers were annoyed that the line at 99.27 \"looks like it's above 100\"\n",
    "plt.text(-624, 80.27, 'mapped area 99.27km$^2$', c='r', ha='left', va='center')\n",
    "plt.axvline(-348, color ='c')\n",
    "plt.text(-346, 20, '-350 threshold', c='c', ha='left', va='top')\n",
    "plt.yticks(np.arange(0,450, 50.0))\n",
    "plt.xticks(np.arange(-600,50, 50.0), rotation=45)\n",
    "plt.tight_layout()\n",
    "plt.savefig('threshold.svg')\n",
    "plt.savefig('threshold.png')\n",
    "plt.savefig('threshold.eps')\n",
    "plt.show()"
   ]
  },
  {
   "cell_type": "code",
   "execution_count": null,
   "metadata": {},
   "outputs": [],
   "source": []
  }
 ],
 "metadata": {
  "kernelspec": {
   "display_name": "Python 3",
   "language": "python",
   "name": "python3"
  },
  "language_info": {
   "codemirror_mode": {
    "name": "ipython",
    "version": 3
   },
   "file_extension": ".py",
   "mimetype": "text/x-python",
   "name": "python",
   "nbconvert_exporter": "python",
   "pygments_lexer": "ipython3",
   "version": "3.6.10"
  },
  "widgets": {
   "application/vnd.jupyter.widget-state+json": {
    "state": {},
    "version_major": 2,
    "version_minor": 0
   }
  }
 },
 "nbformat": 4,
 "nbformat_minor": 4
}
