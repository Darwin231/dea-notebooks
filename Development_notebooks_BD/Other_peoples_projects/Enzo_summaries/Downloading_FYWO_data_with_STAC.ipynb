{
 "cells": [
  {
   "cell_type": "markdown",
   "metadata": {
    "tags": []
   },
   "source": [
    "# Downloading and streaming data using STAC metadata <img align=\"right\" src=\"../Supplementary_data/dea_logo.jpg\">\n",
    "\n",
    "* [**Sign up to the DEA Sandbox**](https://docs.dea.ga.gov.au/setup/sandbox.html) to run this notebook interactively from a browser\n",
    "* **Compatability:** Notebook currently compatible with the `DEA Sandbox` environment\n",
    "* **Products used:** \n",
    "[ga_ls8c_ard_3](https://explorer.sandbox.dea.ga.gov.au/ga_ls8c_ard_3)\n"
   ]
  },
  {
   "cell_type": "markdown",
   "metadata": {},
   "source": [
    "## Background\n",
    "Digital Earth Australia (DEA) stores a range of data products on [Amazon Web Service's Simple Cloud Storage (S3)](https://docs.dea.ga.gov.au/setup/AWS/data_and_metadata.html) with free public access. These products can be browsed on the interactive [DEA Sandbox Explorer](https://explorer.sandbox.dea.ga.gov.au/products). To make it easier to find data in the DEA archive, the DEA Sandbox Explorer also provides a [SpatioTemporal Asset Catalog (STAC)](https://stacspec.org/) endpoint for listing or searching metadata (https://explorer.sandbox.dea.ga.gov.au/stac/).\n",
    "\n",
    "STAC is a recently developed specification that provides a common language to describe geospatial information so it can more easily be indexed and discovered. \n",
    "DEA's STAC metadata can be used to quickly identify all available data for a given product, location or time period. \n",
    "This information can then be used to efficiently download data from the cloud onto a local disk, or stream data directly into desktop GIS software like [QGIS](https://qgis.org/en/site/).\n",
    "\n",
    "\n",
    "\n"
   ]
  },
  {
   "cell_type": "markdown",
   "metadata": {},
   "source": [
    "## Description\n",
    "This notebook provides a brief introduction to accessing and using DEA's STAC metadata:\n",
    "\n",
    "1. How to construct a STAC metadata API call\n",
    "2. How to search for STAC metadata and load the results into Python\n",
    "3. How to inspect and plot the unique STAC Items contained in the metadata\n",
    "4. How to inspect assets contained within a STAC Item\n",
    "5. How to download data using STAC metadata\n",
    "6. How to stream data into Python and QGIS using STAC metadata (without downloading it first)\n",
    "\n",
    "***"
   ]
  },
  {
   "cell_type": "markdown",
   "metadata": {},
   "source": [
    "## Getting started\n",
    "\n",
    "To run this analysis, run all the cells in the notebook, starting with the \"Load packages\" cell. "
   ]
  },
  {
   "cell_type": "markdown",
   "metadata": {},
   "source": [
    "### Load packages\n",
    "Import Python packages that are used for the analysis."
   ]
  },
  {
   "cell_type": "code",
   "execution_count": 1,
   "metadata": {},
   "outputs": [],
   "source": [
    "import urllib.request, json\n",
    "import geopandas as gpd\n",
    "import xarray as xr\n",
    "import odc.aws\n",
    "from pprint import pprint\n",
    "from datacube.testutils.io import rio_slurp_xarray"
   ]
  },
  {
   "cell_type": "markdown",
   "metadata": {},
   "source": [
    "## Searching STAC metadata\n",
    "\n",
    "### Construct the STAC API call\n",
    "First we need to set up some analysis parameters that will be used to search for metadata. \n",
    "This includes `product`, which is the same product name used to load data directly using `dc.load` (see [Introduction to loading data](../Beginners_guide/04_Loading_data.ipynb)).\n",
    "\n",
    "> For a full list of available products, browse the [DEA Sandbox Explorer](https://explorer.sandbox.dea.ga.gov.au/products)."
   ]
  },
  {
   "cell_type": "code",
   "execution_count": 2,
   "metadata": {},
   "outputs": [
    {
     "data": {
      "text/plain": [
       "<AxesSubplot:>"
      ]
     },
     "execution_count": 2,
     "metadata": {},
     "output_type": "execute_result"
    },
    {
     "data": {
      "image/png": "[encoded data removed]",
      "text/plain": [
       "<Figure size 432x288 with 1 Axes>"
      ]
     },
     "metadata": {
      "needs_background": "light"
     },
     "output_type": "display_data"
    }
   ],
   "source": [
    "#load mdb boundary\n",
    "boundary = gpd.read_file('../Development_notebooks_BD/Other_peoples_projects/Enzo_summaries/mdb_boundary.geojson')\n",
    "boundary.plot()"
   ]
  },
  {
   "cell_type": "code",
   "execution_count": 3,
   "metadata": {},
   "outputs": [
    {
     "data": {
      "text/html": [
       "<div>\n",
       "<style scoped>\n",
       "    .dataframe tbody tr th:only-of-type {\n",
       "        vertical-align: middle;\n",
       "    }\n",
       "\n",
       "    .dataframe tbody tr th {\n",
       "        vertical-align: top;\n",
       "    }\n",
       "\n",
       "    .dataframe thead th {\n",
       "        text-align: right;\n",
       "    }\n",
       "</style>\n",
       "<table border=\"1\" class=\"dataframe\">\n",
       "  <thead>\n",
       "    <tr style=\"text-align: right;\">\n",
       "      <th></th>\n",
       "      <th>minx</th>\n",
       "      <th>miny</th>\n",
       "      <th>maxx</th>\n",
       "      <th>maxy</th>\n",
       "    </tr>\n",
       "  </thead>\n",
       "  <tbody>\n",
       "    <tr>\n",
       "      <th>0</th>\n",
       "      <td>138.568474</td>\n",
       "      <td>-37.682071</td>\n",
       "      <td>152.488552</td>\n",
       "      <td>-24.585605</td>\n",
       "    </tr>\n",
       "  </tbody>\n",
       "</table>\n",
       "</div>"
      ],
      "text/plain": [
       "         minx       miny        maxx       maxy\n",
       "0  138.568474 -37.682071  152.488552 -24.585605"
      ]
     },
     "execution_count": 3,
     "metadata": {},
     "output_type": "execute_result"
    }
   ],
   "source": [
    "#transform to wgs84 to get lat lon extents\n",
    "b_extents = boundary.to_crs(4326)\n",
    "#get extents\n",
    "b_extents.bounds"
   ]
  },
  {
   "cell_type": "code",
   "execution_count": 4,
   "metadata": {},
   "outputs": [
    {
     "data": {
      "text/plain": [
       "0    138.568474\n",
       "Name: minx, dtype: float64"
      ]
     },
     "execution_count": 4,
     "metadata": {},
     "output_type": "execute_result"
    }
   ],
   "source": [
    "b_extents.bounds.minx"
   ]
  },
  {
   "cell_type": "code",
   "execution_count": 5,
   "metadata": {},
   "outputs": [],
   "source": [
    "product = 'ga_ls_wo_fq_fyear_3'\n",
    "start_time = '2021-01-01'\n",
    "end_time = '2022-01-31'\n",
    "bbox = [138.56, -37.68, 152.48, -24.59]\n",
    "#bbox = [138, -32.3, 152.5, -32.2]"
   ]
  },
  {
   "cell_type": "markdown",
   "metadata": {},
   "source": [
    "We can now combine the parameters above to create a URL that will be used to query DEA's STAC metadata. \n",
    "This metadata can be previewed in another tab by clicking the URL.\n"
   ]
  },
  {
   "cell_type": "code",
   "execution_count": 6,
   "metadata": {},
   "outputs": [
    {
     "name": "stdout",
     "output_type": "stream",
     "text": [
      "https://explorer.dev.dea.ga.gov.au/stac/search?collection=ga_ls_wo_fq_fyear_3&time=2021-01-01/2022-01-31&bbox=[138.56,-37.68,152.48,-24.59]\n"
     ]
    }
   ],
   "source": [
    "root_url = 'https://explorer.dev.dea.ga.gov.au/stac'\n",
    "stac_url = f'{root_url}/search?collection={product}&time={start_time}/{end_time}&bbox={str(bbox).replace(\" \", \"\")}'\n",
    "print(stac_url)"
   ]
  },
  {
   "cell_type": "markdown",
   "metadata": {},
   "source": [
    "### Load STAC metadata\n",
    "We can now load metadata from the URL above into Python. STAC metadata is stored in JSON format, which we can read into nested Python dictionaries using the `json` Python module."
   ]
  },
  {
   "cell_type": "code",
   "execution_count": 7,
   "metadata": {},
   "outputs": [],
   "source": [
    "### this is only returning 20 requests, for some reason?"
   ]
  },
  {
   "cell_type": "code",
   "execution_count": 8,
   "metadata": {},
   "outputs": [
    {
     "name": "stdout",
     "output_type": "stream",
     "text": [
      "{'context': {...},\n",
      " 'features': [...],\n",
      " 'links': [...],\n",
      " 'numberMatched': 232,\n",
      " 'numberReturned': 20,\n",
      " 'type': 'FeatureCollection'}\n"
     ]
    }
   ],
   "source": [
    "with urllib.request.urlopen(stac_url) as url:\n",
    "    data = json.loads(url.read().decode())\n",
    "pprint(data, depth=1)"
   ]
  },
  {
   "cell_type": "markdown",
   "metadata": {},
   "source": [
    "## Inspecting STAC Items\n",
    "In the output above, the `numberReturned` value indicates our search returned six unique results. These results are known as [STAC Items](https://stacspec.org/core.html). These are an atomic collection of inseparable data and metadata, such as a unique satellite dataset. \n",
    "\n",
    "Data for each STAC Item is contained in the metadata's list of `features`:"
   ]
  },
  {
   "cell_type": "code",
   "execution_count": 9,
   "metadata": {},
   "outputs": [],
   "source": [
    "#pprint(data['features'], depth=2)"
   ]
  },
  {
   "cell_type": "markdown",
   "metadata": {},
   "source": [
    "STAC's `features` are stored as [GeoJSON](https://geojson.org/), a widely used file format for storing geospatial vector data.\n",
    "This means we can easily convert it to a spatial object using the `geopandas` Python module. \n",
    "This allows us to plot and inspect the spatial extents of our data:"
   ]
  },
  {
   "cell_type": "code",
   "execution_count": 10,
   "metadata": {},
   "outputs": [
    {
     "data": {
      "text/plain": [
       "<AxesSubplot:>"
      ]
     },
     "execution_count": 10,
     "metadata": {},
     "output_type": "execute_result"
    },
    {
     "data": {
      "image/png": "[encoded data removed]",
      "text/plain": [
       "<Figure size 432x288 with 1 Axes>"
      ]
     },
     "metadata": {
      "needs_background": "light"
     },
     "output_type": "display_data"
    }
   ],
   "source": [
    "# Convert features to a GeoDataFrame\n",
    "gdf = gpd.GeoDataFrame.from_features(data['features'])\n",
    "\n",
    "# Plot the footprints of each dataset\n",
    "gdf.plot(alpha=0.8, edgecolor='black')"
   ]
  },
  {
   "cell_type": "markdown",
   "metadata": {},
   "source": [
    "If we print the GeoDataFrame itself, we can see that it contains useful metadata fields that provide information about each dataset:"
   ]
  },
  {
   "cell_type": "code",
   "execution_count": 11,
   "metadata": {},
   "outputs": [
    {
     "data": {
      "text/html": [
       "<div>\n",
       "<style scoped>\n",
       "    .dataframe tbody tr th:only-of-type {\n",
       "        vertical-align: middle;\n",
       "    }\n",
       "\n",
       "    .dataframe tbody tr th {\n",
       "        vertical-align: top;\n",
       "    }\n",
       "\n",
       "    .dataframe thead th {\n",
       "        text-align: right;\n",
       "    }\n",
       "</style>\n",
       "<table border=\"1\" class=\"dataframe\">\n",
       "  <thead>\n",
       "    <tr style=\"text-align: right;\">\n",
       "      <th></th>\n",
       "      <th>geometry</th>\n",
       "      <th>title</th>\n",
       "      <th>gsd</th>\n",
       "      <th>platform</th>\n",
       "      <th>odc:product</th>\n",
       "      <th>odc:producer</th>\n",
       "      <th>instruments</th>\n",
       "      <th>odc:file_format</th>\n",
       "      <th>odc:region_code</th>\n",
       "      <th>end_datetime</th>\n",
       "      <th>...</th>\n",
       "      <th>odc:product_family</th>\n",
       "      <th>odc:dataset_version</th>\n",
       "      <th>dea:dataset_maturity</th>\n",
       "      <th>odc:collection_number</th>\n",
       "      <th>created</th>\n",
       "      <th>proj:epsg</th>\n",
       "      <th>proj:shape</th>\n",
       "      <th>proj:transform</th>\n",
       "      <th>cubedash:region_code</th>\n",
       "      <th>datetime</th>\n",
       "    </tr>\n",
       "  </thead>\n",
       "  <tbody>\n",
       "    <tr>\n",
       "      <th>0</th>\n",
       "      <td>POLYGON ((149.08052 -35.96341, 149.22358 -36.8...</td>\n",
       "      <td>ga_ls_wo_fq_fyear_3_x44y14_2021-07-01_final</td>\n",
       "      <td>30.0</td>\n",
       "      <td>landsat-7,landsat-8</td>\n",
       "      <td>ga_ls_wo_fq_fyear_3</td>\n",
       "      <td>ga.gov.au</td>\n",
       "      <td>[etm, oli, tirs]</td>\n",
       "      <td>GeoTIFF</td>\n",
       "      <td>x44y14</td>\n",
       "      <td>2022-06-30T23:59:59.999999Z</td>\n",
       "      <td>...</td>\n",
       "      <td>wo</td>\n",
       "      <td>1.6.0</td>\n",
       "      <td>final</td>\n",
       "      <td>3</td>\n",
       "      <td>2022-11-16T04:01:19.377246Z</td>\n",
       "      <td>3577</td>\n",
       "      <td>[3200, 3200]</td>\n",
       "      <td>[30.0, 0.0, 1536000.0, 0.0, -30.0, -4032000.0,...</td>\n",
       "      <td>x44y14</td>\n",
       "      <td>2021-07-01T00:00:00Z</td>\n",
       "    </tr>\n",
       "    <tr>\n",
       "      <th>1</th>\n",
       "      <td>POLYGON ((142.45184 -33.94591, 142.53786 -34.8...</td>\n",
       "      <td>ga_ls_wo_fq_fyear_3_x38y17_2021-07-01_final</td>\n",
       "      <td>30.0</td>\n",
       "      <td>landsat-8</td>\n",
       "      <td>ga_ls_wo_fq_fyear_3</td>\n",
       "      <td>ga.gov.au</td>\n",
       "      <td>[oli, tirs]</td>\n",
       "      <td>GeoTIFF</td>\n",
       "      <td>x38y17</td>\n",
       "      <td>2022-06-30T23:59:59.999999Z</td>\n",
       "      <td>...</td>\n",
       "      <td>wo</td>\n",
       "      <td>1.6.0</td>\n",
       "      <td>final</td>\n",
       "      <td>3</td>\n",
       "      <td>2022-10-05T07:48:07.643513Z</td>\n",
       "      <td>3577</td>\n",
       "      <td>[3200, 3200]</td>\n",
       "      <td>[30.0, 0.0, 960000.0, 0.0, -30.0, -3744000.0, ...</td>\n",
       "      <td>x38y17</td>\n",
       "      <td>2021-07-01T00:00:00Z</td>\n",
       "    </tr>\n",
       "    <tr>\n",
       "      <th>2</th>\n",
       "      <td>POLYGON ((150.27700 -30.61440, 150.42242 -31.4...</td>\n",
       "      <td>ga_ls_wo_fq_fyear_3_x46y20_2021-07-01_final</td>\n",
       "      <td>30.0</td>\n",
       "      <td>landsat-7,landsat-8</td>\n",
       "      <td>ga_ls_wo_fq_fyear_3</td>\n",
       "      <td>ga.gov.au</td>\n",
       "      <td>[etm, oli, tirs]</td>\n",
       "      <td>GeoTIFF</td>\n",
       "      <td>x46y20</td>\n",
       "      <td>2022-06-30T23:59:59.999999Z</td>\n",
       "      <td>...</td>\n",
       "      <td>wo</td>\n",
       "      <td>1.6.0</td>\n",
       "      <td>final</td>\n",
       "      <td>3</td>\n",
       "      <td>2022-11-16T04:03:07.770567Z</td>\n",
       "      <td>3577</td>\n",
       "      <td>[3200, 3200]</td>\n",
       "      <td>[30.0, 0.0, 1728000.0, 0.0, -30.0, -3456000.0,...</td>\n",
       "      <td>x46y20</td>\n",
       "      <td>2021-07-01T00:00:00Z</td>\n",
       "    </tr>\n",
       "    <tr>\n",
       "      <th>3</th>\n",
       "      <td>POLYGON ((148.02451 -36.07520, 148.15892 -36.9...</td>\n",
       "      <td>ga_ls_wo_fq_fyear_3_x43y14_2021-07-01_final</td>\n",
       "      <td>30.0</td>\n",
       "      <td>landsat-7,landsat-8</td>\n",
       "      <td>ga_ls_wo_fq_fyear_3</td>\n",
       "      <td>ga.gov.au</td>\n",
       "      <td>[etm, oli, tirs]</td>\n",
       "      <td>GeoTIFF</td>\n",
       "      <td>x43y14</td>\n",
       "      <td>2022-06-30T23:59:59.999999Z</td>\n",
       "      <td>...</td>\n",
       "      <td>wo</td>\n",
       "      <td>1.6.0</td>\n",
       "      <td>final</td>\n",
       "      <td>3</td>\n",
       "      <td>2022-11-16T04:00:01.720559Z</td>\n",
       "      <td>3577</td>\n",
       "      <td>[3200, 3200]</td>\n",
       "      <td>[30.0, 0.0, 1440000.0, 0.0, -30.0, -4032000.0,...</td>\n",
       "      <td>x43y14</td>\n",
       "      <td>2021-07-01T00:00:00Z</td>\n",
       "    </tr>\n",
       "    <tr>\n",
       "      <th>4</th>\n",
       "      <td>POLYGON ((147.38452 -31.80213, 147.50841 -32.6...</td>\n",
       "      <td>ga_ls_wo_fq_fyear_3_x43y19_2021-07-01_final</td>\n",
       "      <td>30.0</td>\n",
       "      <td>landsat-7,landsat-8</td>\n",
       "      <td>ga_ls_wo_fq_fyear_3</td>\n",
       "      <td>ga.gov.au</td>\n",
       "      <td>[etm, oli, tirs]</td>\n",
       "      <td>GeoTIFF</td>\n",
       "      <td>x43y19</td>\n",
       "      <td>2022-06-30T23:59:59.999999Z</td>\n",
       "      <td>...</td>\n",
       "      <td>wo</td>\n",
       "      <td>1.6.0</td>\n",
       "      <td>final</td>\n",
       "      <td>3</td>\n",
       "      <td>2022-11-16T04:00:01.955425Z</td>\n",
       "      <td>3577</td>\n",
       "      <td>[3200, 3200]</td>\n",
       "      <td>[30.0, 0.0, 1440000.0, 0.0, -30.0, -3552000.0,...</td>\n",
       "      <td>x43y19</td>\n",
       "      <td>2021-07-01T00:00:00Z</td>\n",
       "    </tr>\n",
       "  </tbody>\n",
       "</table>\n",
       "<p>5 rows × 21 columns</p>\n",
       "</div>"
      ],
      "text/plain": [
       "                                            geometry  \\\n",
       "0  POLYGON ((149.08052 -35.96341, 149.22358 -36.8...   \n",
       "1  POLYGON ((142.45184 -33.94591, 142.53786 -34.8...   \n",
       "2  POLYGON ((150.27700 -30.61440, 150.42242 -31.4...   \n",
       "3  POLYGON ((148.02451 -36.07520, 148.15892 -36.9...   \n",
       "4  POLYGON ((147.38452 -31.80213, 147.50841 -32.6...   \n",
       "\n",
       "                                         title   gsd             platform  \\\n",
       "0  ga_ls_wo_fq_fyear_3_x44y14_2021-07-01_final  30.0  landsat-7,landsat-8   \n",
       "1  ga_ls_wo_fq_fyear_3_x38y17_2021-07-01_final  30.0            landsat-8   \n",
       "2  ga_ls_wo_fq_fyear_3_x46y20_2021-07-01_final  30.0  landsat-7,landsat-8   \n",
       "3  ga_ls_wo_fq_fyear_3_x43y14_2021-07-01_final  30.0  landsat-7,landsat-8   \n",
       "4  ga_ls_wo_fq_fyear_3_x43y19_2021-07-01_final  30.0  landsat-7,landsat-8   \n",
       "\n",
       "           odc:product odc:producer       instruments odc:file_format  \\\n",
       "0  ga_ls_wo_fq_fyear_3    ga.gov.au  [etm, oli, tirs]         GeoTIFF   \n",
       "1  ga_ls_wo_fq_fyear_3    ga.gov.au       [oli, tirs]         GeoTIFF   \n",
       "2  ga_ls_wo_fq_fyear_3    ga.gov.au  [etm, oli, tirs]         GeoTIFF   \n",
       "3  ga_ls_wo_fq_fyear_3    ga.gov.au  [etm, oli, tirs]         GeoTIFF   \n",
       "4  ga_ls_wo_fq_fyear_3    ga.gov.au  [etm, oli, tirs]         GeoTIFF   \n",
       "\n",
       "  odc:region_code                 end_datetime  ... odc:product_family  \\\n",
       "0          x44y14  2022-06-30T23:59:59.999999Z  ...                 wo   \n",
       "1          x38y17  2022-06-30T23:59:59.999999Z  ...                 wo   \n",
       "2          x46y20  2022-06-30T23:59:59.999999Z  ...                 wo   \n",
       "3          x43y14  2022-06-30T23:59:59.999999Z  ...                 wo   \n",
       "4          x43y19  2022-06-30T23:59:59.999999Z  ...                 wo   \n",
       "\n",
       "  odc:dataset_version dea:dataset_maturity odc:collection_number  \\\n",
       "0               1.6.0                final                     3   \n",
       "1               1.6.0                final                     3   \n",
       "2               1.6.0                final                     3   \n",
       "3               1.6.0                final                     3   \n",
       "4               1.6.0                final                     3   \n",
       "\n",
       "                       created proj:epsg    proj:shape  \\\n",
       "0  2022-11-16T04:01:19.377246Z      3577  [3200, 3200]   \n",
       "1  2022-10-05T07:48:07.643513Z      3577  [3200, 3200]   \n",
       "2  2022-11-16T04:03:07.770567Z      3577  [3200, 3200]   \n",
       "3  2022-11-16T04:00:01.720559Z      3577  [3200, 3200]   \n",
       "4  2022-11-16T04:00:01.955425Z      3577  [3200, 3200]   \n",
       "\n",
       "                                      proj:transform cubedash:region_code  \\\n",
       "0  [30.0, 0.0, 1536000.0, 0.0, -30.0, -4032000.0,...               x44y14   \n",
       "1  [30.0, 0.0, 960000.0, 0.0, -30.0, -3744000.0, ...               x38y17   \n",
       "2  [30.0, 0.0, 1728000.0, 0.0, -30.0, -3456000.0,...               x46y20   \n",
       "3  [30.0, 0.0, 1440000.0, 0.0, -30.0, -4032000.0,...               x43y14   \n",
       "4  [30.0, 0.0, 1440000.0, 0.0, -30.0, -3552000.0,...               x43y19   \n",
       "\n",
       "               datetime  \n",
       "0  2021-07-01T00:00:00Z  \n",
       "1  2021-07-01T00:00:00Z  \n",
       "2  2021-07-01T00:00:00Z  \n",
       "3  2021-07-01T00:00:00Z  \n",
       "4  2021-07-01T00:00:00Z  \n",
       "\n",
       "[5 rows x 21 columns]"
      ]
     },
     "execution_count": 11,
     "metadata": {},
     "output_type": "execute_result"
    }
   ],
   "source": [
    "gdf.head()"
   ]
  },
  {
   "cell_type": "markdown",
   "metadata": {},
   "source": [
    "We can use this to learn more about our data. For example, we can plot our datasets using the `eo:cloud_cover` field to show what percent of each dataset was obscured by cloud (yellow = high cloud cover):"
   ]
  },
  {
   "cell_type": "code",
   "execution_count": 12,
   "metadata": {},
   "outputs": [
    {
     "data": {
      "text/plain": [
       "<AxesSubplot:>"
      ]
     },
     "execution_count": 12,
     "metadata": {},
     "output_type": "execute_result"
    },
    {
     "data": {
      "image/png": "[encoded data removed]",
      "text/plain": [
       "<Figure size 432x288 with 1 Axes>"
      ]
     },
     "metadata": {
      "needs_background": "light"
     },
     "output_type": "display_data"
    }
   ],
   "source": [
    "# Colour features by cloud cover\n",
    "gdf.plot(#column='eo:cloud_cover',\n",
    "         cmap='viridis',\n",
    "         alpha=0.8,\n",
    "         edgecolor='black',\n",
    "         legend=True)"
   ]
  },
  {
   "cell_type": "markdown",
   "metadata": {},
   "source": [
    "## Inspecting assets\n",
    "Each STAC Item listed in `features` can contain multiple `assets`. This assets represent unique data files or layers, for example individual remote sensing bands. For DEA's Landsat Surface Reflectance products, these can include `'nbart_blue', 'nbart_green', 'nbart_red', 'nbart_nir'` etc:"
   ]
  },
  {
   "cell_type": "code",
   "execution_count": 13,
   "metadata": {},
   "outputs": [
    {
     "name": "stdout",
     "output_type": "stream",
     "text": [
      "{'checksum:sha1': {...},\n",
      " 'count_clear': {...},\n",
      " 'count_wet': {...},\n",
      " 'frequency': {...},\n",
      " 'metadata:processor': {...},\n",
      " 'thumbnail': {...}}\n"
     ]
    }
   ],
   "source": [
    "stac_item = data['features'][0]\n",
    "pprint(stac_item['assets'], depth=1)"
   ]
  },
  {
   "cell_type": "markdown",
   "metadata": {},
   "source": [
    "Importantly, each asset (for example, `'nbart_blue'`) provides a unique URL (`href`) that can be used to access or download the data.\n",
    "In this case, the `s3://` prefix indicates our data is stored in the cloud on Amazon S3."
   ]
  },
  {
   "cell_type": "code",
   "execution_count": 14,
   "metadata": {},
   "outputs": [
    {
     "name": "stdout",
     "output_type": "stream",
     "text": [
      "{'eo:bands': [{'name': 'frequency'}],\n",
      " 'href': 's3://dea-public-data-dev/derivative/ga_ls_wo_fq_fyear_3/1-6-0/x44/y14/2021-07-01--P1Y/ga_ls_wo_fq_fyear_3_x44y14_2021-07-01--P1Y_final_frequency.tif',\n",
      " 'proj:epsg': 3577,\n",
      " 'proj:shape': [3200, 3200],\n",
      " 'proj:transform': [30.0,\n",
      "                    0.0,\n",
      "                    1536000.0,\n",
      "                    0.0,\n",
      "                    -30.0,\n",
      "                    -4032000.0,\n",
      "                    0.0,\n",
      "                    0.0,\n",
      "                    1.0],\n",
      " 'roles': ['data'],\n",
      " 'title': 'frequency',\n",
      " 'type': 'image/tiff; application=geotiff; profile=cloud-optimized'}\n"
     ]
    }
   ],
   "source": [
    "pprint(stac_item['assets']['frequency'])"
   ]
  },
  {
   "cell_type": "markdown",
   "metadata": {},
   "source": [
    "## Downloading files using STAC\n",
    "Now that we have a URL, we can use this to download data to our local disk. \n",
    "For example, we may want to download data for the `'nbart_blue'` satellite band in our STAC Item. \n",
    "We can do this using the `s3_download` function from `odc.aws`:"
   ]
  },
  {
   "cell_type": "code",
   "execution_count": 15,
   "metadata": {},
   "outputs": [
    {
     "data": {
      "text/plain": [
       "'ga_ls_wo_fq_fyear_3_x44y14_2021-07-01--P1Y_final_frequency.tif'"
      ]
     },
     "execution_count": 15,
     "metadata": {},
     "output_type": "execute_result"
    }
   ],
   "source": [
    "# Get URL then download\n",
    "url = stac_item['assets']['frequency']['href']\n",
    "odc.aws.s3_download(url)"
   ]
  },
  {
   "cell_type": "markdown",
   "metadata": {},
   "source": [
    "To verify that this file downloaded correctly, we can load it into our notebook as an `xarray.Dataset()` using `xr.open_rasterio`:"
   ]
  },
  {
   "cell_type": "code",
   "execution_count": 16,
   "metadata": {},
   "outputs": [
    {
     "name": "stderr",
     "output_type": "stream",
     "text": [
      "/tmp/ipykernel_148/1641896443.py:2: DeprecationWarning: open_rasterio is Deprecated in favor of rioxarray. For information about transitioning, see: https://corteva.github.io/rioxarray/stable/getting_started/getting_started.html\n",
      "  downloaded_ds = xr.open_rasterio('ga_ls_wo_fq_fyear_3_x49y20_2021-07-01--P1Y_final_frequency.tif')\n"
     ]
    },
    {
     "data": {
      "text/plain": [
       "<matplotlib.collections.QuadMesh at 0x7f1b49ffb580>"
      ]
     },
     "execution_count": 16,
     "metadata": {},
     "output_type": "execute_result"
    },
    {
     "data": {
      "image/png": "[encoded data removed]",
      "text/plain": [
       "<Figure size 432x288 with 2 Axes>"
      ]
     },
     "metadata": {
      "needs_background": "light"
     },
     "output_type": "display_data"
    }
   ],
   "source": [
    "# Load data as an xarray.Dataset()\n",
    "downloaded_ds = xr.open_rasterio('ga_ls_wo_fq_fyear_3_x49y20_2021-07-01--P1Y_final_frequency.tif')\n",
    "\n",
    "# Plot a small subset of the data\n",
    "downloaded_ds.isel(x=slice(2000, 3000), y=slice(2000, 3000)).plot(robust=True)"
   ]
  },
  {
   "cell_type": "markdown",
   "metadata": {},
   "source": [
    "> **Note**: If this notebook is being run on the DEA Sandbox, the saved file will appear in the `Frequently_used_code` directory in the JupyterLab File Browser. \n",
    "To save it to your local PC, right click on the file and click `Download`. "
   ]
  },
  {
   "cell_type": "markdown",
   "metadata": {},
   "source": [
    "### Downloading multiple files\n",
    "To download data from the `'nbart_blue'` band for each of the six STAC Items returned by our search:"
   ]
  },
  {
   "cell_type": "code",
   "execution_count": 17,
   "metadata": {},
   "outputs": [
    {
     "data": {
      "text/plain": [
       "['s3://dea-public-data-dev/derivative/ga_ls_wo_fq_fyear_3/1-6-0/x44/y14/2021-07-01--P1Y/ga_ls_wo_fq_fyear_3_x44y14_2021-07-01--P1Y_final_frequency.tif',\n",
       " 's3://dea-public-data-dev/derivative/ga_ls_wo_fq_fyear_3/1-6-0/x38/y17/2021-07-01--P1Y/ga_ls_wo_fq_fyear_3_x38y17_2021-07-01--P1Y_final_frequency.tif',\n",
       " 's3://dea-public-data-dev/derivative/ga_ls_wo_fq_fyear_3/1-6-0/x46/y20/2021-07-01--P1Y/ga_ls_wo_fq_fyear_3_x46y20_2021-07-01--P1Y_final_frequency.tif',\n",
       " 's3://dea-public-data-dev/derivative/ga_ls_wo_fq_fyear_3/1-6-0/x43/y14/2021-07-01--P1Y/ga_ls_wo_fq_fyear_3_x43y14_2021-07-01--P1Y_final_frequency.tif',\n",
       " 's3://dea-public-data-dev/derivative/ga_ls_wo_fq_fyear_3/1-6-0/x43/y19/2021-07-01--P1Y/ga_ls_wo_fq_fyear_3_x43y19_2021-07-01--P1Y_final_frequency.tif',\n",
       " 's3://dea-public-data-dev/derivative/ga_ls_wo_fq_fyear_3/1-6-0/x36/y22/2021-07-01--P1Y/ga_ls_wo_fq_fyear_3_x36y22_2021-07-01--P1Y_final_frequency.tif',\n",
       " 's3://dea-public-data-dev/derivative/ga_ls_wo_fq_fyear_3/1-6-0/x36/y21/2021-07-01--P1Y/ga_ls_wo_fq_fyear_3_x36y21_2021-07-01--P1Y_final_frequency.tif',\n",
       " 's3://dea-public-data-dev/derivative/ga_ls_wo_fq_fyear_3/1-6-0/x45/y22/2021-07-01--P1Y/ga_ls_wo_fq_fyear_3_x45y22_2021-07-01--P1Y_final_frequency.tif',\n",
       " 's3://dea-public-data-dev/derivative/ga_ls_wo_fq_fyear_3/1-6-0/x44/y21/2021-07-01--P1Y/ga_ls_wo_fq_fyear_3_x44y21_2021-07-01--P1Y_final_frequency.tif',\n",
       " 's3://dea-public-data-dev/derivative/ga_ls_wo_fq_fyear_3/1-6-0/x43/y17/2021-07-01--P1Y/ga_ls_wo_fq_fyear_3_x43y17_2021-07-01--P1Y_final_frequency.tif',\n",
       " 's3://dea-public-data-dev/derivative/ga_ls_wo_fq_fyear_3/1-6-0/x46/y22/2021-07-01--P1Y/ga_ls_wo_fq_fyear_3_x46y22_2021-07-01--P1Y_final_frequency.tif',\n",
       " 's3://dea-public-data-dev/derivative/ga_ls_wo_fq_fyear_3/1-6-0/x45/y24/2021-07-01--P1Y/ga_ls_wo_fq_fyear_3_x45y24_2021-07-01--P1Y_final_frequency.tif',\n",
       " 's3://dea-public-data-dev/derivative/ga_ls_wo_fq_fyear_3/1-6-0/x42/y28/2021-07-01--P1Y/ga_ls_wo_fq_fyear_3_x42y28_2021-07-01--P1Y_final_frequency.tif',\n",
       " 's3://dea-public-data-dev/derivative/ga_ls_wo_fq_fyear_3/1-6-0/x44/y16/2021-07-01--P1Y/ga_ls_wo_fq_fyear_3_x44y16_2021-07-01--P1Y_final_frequency.tif',\n",
       " 's3://dea-public-data-dev/derivative/ga_ls_wo_fq_fyear_3/1-6-0/x40/y23/2021-07-01--P1Y/ga_ls_wo_fq_fyear_3_x40y23_2021-07-01--P1Y_final_frequency.tif',\n",
       " 's3://dea-public-data-dev/derivative/ga_ls_wo_fq_fyear_3/1-6-0/x38/y24/2021-07-01--P1Y/ga_ls_wo_fq_fyear_3_x38y24_2021-07-01--P1Y_final_frequency.tif',\n",
       " 's3://dea-public-data-dev/derivative/ga_ls_wo_fq_fyear_3/1-6-0/x42/y19/2021-07-01--P1Y/ga_ls_wo_fq_fyear_3_x42y19_2021-07-01--P1Y_final_frequency.tif',\n",
       " 's3://dea-public-data-dev/derivative/ga_ls_wo_fq_fyear_3/1-6-0/x39/y25/2021-07-01--P1Y/ga_ls_wo_fq_fyear_3_x39y25_2021-07-01--P1Y_final_frequency.tif',\n",
       " 's3://dea-public-data-dev/derivative/ga_ls_wo_fq_fyear_3/1-6-0/x48/y25/2021-07-01--P1Y/ga_ls_wo_fq_fyear_3_x48y25_2021-07-01--P1Y_final_frequency.tif',\n",
       " 's3://dea-public-data-dev/derivative/ga_ls_wo_fq_fyear_3/1-6-0/x42/y16/2021-07-01--P1Y/ga_ls_wo_fq_fyear_3_x42y16_2021-07-01--P1Y_final_frequency.tif']"
      ]
     },
     "execution_count": 17,
     "metadata": {},
     "output_type": "execute_result"
    }
   ],
   "source": [
    "# Get list of all URLs for the 'nbart_blue' band\n",
    "asset = 'frequency'\n",
    "urls = [stac_item['assets'][asset]['href'] for stac_item in data['features']]\n",
    "urls"
   ]
  },
  {
   "cell_type": "markdown",
   "metadata": {},
   "source": [
    "# Download each URL\n",
    "for url in urls:\n",
    "    print(url)\n",
    "    odc.aws.s3_download(url)\n",
    "```\n",
    "\n",
    "To download all available bands (i.e. `assets`) for a single STAC Item:\n",
    "```\n",
    "# Get list of all URLs for all assets in the first STAC Item\n",
    "stac_item = data['features'][0]\n",
    "urls = [asset['href'] for asset in stac_item['assets'].values()]\n",
    "\n",
    "# Download each URL\n",
    "for url in urls:\n",
    "    print(url)\n",
    "    odc.aws.s3_download(url)\n",
    "```"
   ]
  },
  {
   "cell_type": "markdown",
   "metadata": {},
   "source": [
    "## Streaming data without downloading\n",
    "Due to the increasing size of satellite datasets, downloading data directly to your own local disk can be time-consuming and slow. \n",
    "Sometimes, it is better to stream data directly from the cloud without downloading it first. This can be particularly powerful for data that is stored in the [Cloud Optimised GeoTIFF (COG)](https://www.cogeo.org/) format which is optimised for efficiently streaming small chunks of an image at a time.\n",
    "\n",
    "This section demonstrates how data can be streamed directly from the cloud into both Python and the [QGIS GIS software (v3.14)](https://qgis.org/en/site/).\n",
    "As a first step, we need to convert our Amazon S3 URL (e.g. `s3://`) into HTTPS format (e.g. `https://`) so that it can be read more easily:"
   ]
  },
  {
   "cell_type": "code",
   "execution_count": 18,
   "metadata": {},
   "outputs": [
    {
     "data": {
      "text/plain": [
       "'https://dea-public-data.s3.ap-southeast-2.amazonaws.com/derivative/ga_ls_wo_fq_fyear_3/1-6-0/x44/y14/2021-07-01--P1Y/ga_ls_wo_fq_fyear_3_x44y14_2021-07-01--P1Y_final_frequency.tif'"
      ]
     },
     "execution_count": 18,
     "metadata": {},
     "output_type": "execute_result"
    }
   ],
   "source": [
    "# Get URL \n",
    "url = stac_item['assets']['frequency']['href']\n",
    "\n",
    "# Get https URL\n",
    "bucket, key = odc.aws.s3_url_parse(url)\n",
    "https_url = f'https://dea-public-data.s3.ap-southeast-2.amazonaws.com/{key}'\n",
    "https_url"
   ]
  },
  {
   "cell_type": "markdown",
   "metadata": {},
   "source": [
    "### Streaming data into Python\n",
    "To stream data directly from the cloud into an `xarray.Dataset()` format so it can be analysed in Python, we can supply the HTTPS URL above directly to the `xr.open_rasterio` function:"
   ]
  },
  {
   "cell_type": "code",
   "execution_count": 19,
   "metadata": {},
   "outputs": [
    {
     "name": "stderr",
     "output_type": "stream",
     "text": [
      "/tmp/ipykernel_148/3700255591.py:2: DeprecationWarning: open_rasterio is Deprecated in favor of rioxarray. For information about transitioning, see: https://corteva.github.io/rioxarray/stable/getting_started/getting_started.html\n",
      "  streamed_ds = xr.open_rasterio(https_url)\n"
     ]
    },
    {
     "ename": "RasterioIOError",
     "evalue": "HTTP response code: 404",
     "output_type": "error",
     "traceback": [
      "\u001b[0;31m---------------------------------------------------------------------------\u001b[0m",
      "\u001b[0;31mKeyError\u001b[0m                                  Traceback (most recent call last)",
      "\u001b[0;32m/env/lib/python3.8/site-packages/xarray/backends/file_manager.py\u001b[0m in \u001b[0;36m_acquire_with_cache_info\u001b[0;34m(self, needs_lock)\u001b[0m\n\u001b[1;32m    198\u001b[0m             \u001b[0;32mtry\u001b[0m\u001b[0;34m:\u001b[0m\u001b[0;34m\u001b[0m\u001b[0;34m\u001b[0m\u001b[0m\n\u001b[0;32m--> 199\u001b[0;31m                 \u001b[0mfile\u001b[0m \u001b[0;34m=\u001b[0m \u001b[0mself\u001b[0m\u001b[0;34m.\u001b[0m\u001b[0m_cache\u001b[0m\u001b[0;34m[\u001b[0m\u001b[0mself\u001b[0m\u001b[0;34m.\u001b[0m\u001b[0m_key\u001b[0m\u001b[0;34m]\u001b[0m\u001b[0;34m\u001b[0m\u001b[0;34m\u001b[0m\u001b[0m\n\u001b[0m\u001b[1;32m    200\u001b[0m             \u001b[0;32mexcept\u001b[0m \u001b[0mKeyError\u001b[0m\u001b[0;34m:\u001b[0m\u001b[0;34m\u001b[0m\u001b[0;34m\u001b[0m\u001b[0m\n",
      "\u001b[0;32m/env/lib/python3.8/site-packages/xarray/backends/lru_cache.py\u001b[0m in \u001b[0;36m__getitem__\u001b[0;34m(self, key)\u001b[0m\n\u001b[1;32m     52\u001b[0m         \u001b[0;32mwith\u001b[0m \u001b[0mself\u001b[0m\u001b[0;34m.\u001b[0m\u001b[0m_lock\u001b[0m\u001b[0;34m:\u001b[0m\u001b[0;34m\u001b[0m\u001b[0;34m\u001b[0m\u001b[0m\n\u001b[0;32m---> 53\u001b[0;31m             \u001b[0mvalue\u001b[0m \u001b[0;34m=\u001b[0m \u001b[0mself\u001b[0m\u001b[0;34m.\u001b[0m\u001b[0m_cache\u001b[0m\u001b[0;34m[\u001b[0m\u001b[0mkey\u001b[0m\u001b[0;34m]\u001b[0m\u001b[0;34m\u001b[0m\u001b[0;34m\u001b[0m\u001b[0m\n\u001b[0m\u001b[1;32m     54\u001b[0m             \u001b[0mself\u001b[0m\u001b[0;34m.\u001b[0m\u001b[0m_cache\u001b[0m\u001b[0;34m.\u001b[0m\u001b[0mmove_to_end\u001b[0m\u001b[0;34m(\u001b[0m\u001b[0mkey\u001b[0m\u001b[0;34m)\u001b[0m\u001b[0;34m\u001b[0m\u001b[0;34m\u001b[0m\u001b[0m\n",
      "\u001b[0;31mKeyError\u001b[0m: [<function open at 0x7f1b5039f940>, ('https://dea-public-data.s3.ap-southeast-2.amazonaws.com/derivative/ga_ls_wo_fq_fyear_3/1-6-0/x44/y14/2021-07-01--P1Y/ga_ls_wo_fq_fyear_3_x44y14_2021-07-01--P1Y_final_frequency.tif',), 'r', ()]",
      "\nDuring handling of the above exception, another exception occurred:\n",
      "\u001b[0;31mCPLE_HttpResponseError\u001b[0m                    Traceback (most recent call last)",
      "\u001b[0;32mrasterio/_base.pyx\u001b[0m in \u001b[0;36mrasterio._base.DatasetBase.__init__\u001b[0;34m()\u001b[0m\n",
      "\u001b[0;32mrasterio/_shim.pyx\u001b[0m in \u001b[0;36mrasterio._shim.open_dataset\u001b[0;34m()\u001b[0m\n",
      "\u001b[0;32mrasterio/_err.pyx\u001b[0m in \u001b[0;36mrasterio._err.exc_wrap_pointer\u001b[0;34m()\u001b[0m\n",
      "\u001b[0;31mCPLE_HttpResponseError\u001b[0m: HTTP response code: 404",
      "\nDuring handling of the above exception, another exception occurred:\n",
      "\u001b[0;31mRasterioIOError\u001b[0m                           Traceback (most recent call last)",
      "\u001b[0;32m/tmp/ipykernel_148/3700255591.py\u001b[0m in \u001b[0;36m<module>\u001b[0;34m\u001b[0m\n\u001b[1;32m      1\u001b[0m \u001b[0;31m# Load data as an xarray.Dataset()\u001b[0m\u001b[0;34m\u001b[0m\u001b[0;34m\u001b[0m\u001b[0;34m\u001b[0m\u001b[0m\n\u001b[0;32m----> 2\u001b[0;31m \u001b[0mstreamed_ds\u001b[0m \u001b[0;34m=\u001b[0m \u001b[0mxr\u001b[0m\u001b[0;34m.\u001b[0m\u001b[0mopen_rasterio\u001b[0m\u001b[0;34m(\u001b[0m\u001b[0mhttps_url\u001b[0m\u001b[0;34m)\u001b[0m\u001b[0;34m\u001b[0m\u001b[0;34m\u001b[0m\u001b[0m\n\u001b[0m\u001b[1;32m      3\u001b[0m \u001b[0;34m\u001b[0m\u001b[0m\n\u001b[1;32m      4\u001b[0m \u001b[0;31m# Plot a small subset of the data\u001b[0m\u001b[0;34m\u001b[0m\u001b[0;34m\u001b[0m\u001b[0;34m\u001b[0m\u001b[0m\n\u001b[1;32m      5\u001b[0m \u001b[0mstreamed_ds\u001b[0m\u001b[0;34m.\u001b[0m\u001b[0misel\u001b[0m\u001b[0;34m(\u001b[0m\u001b[0mx\u001b[0m\u001b[0;34m=\u001b[0m\u001b[0mslice\u001b[0m\u001b[0;34m(\u001b[0m\u001b[0;36m2000\u001b[0m\u001b[0;34m,\u001b[0m \u001b[0;36m3000\u001b[0m\u001b[0;34m)\u001b[0m\u001b[0;34m,\u001b[0m \u001b[0my\u001b[0m\u001b[0;34m=\u001b[0m\u001b[0mslice\u001b[0m\u001b[0;34m(\u001b[0m\u001b[0;36m2000\u001b[0m\u001b[0;34m,\u001b[0m \u001b[0;36m3000\u001b[0m\u001b[0;34m)\u001b[0m\u001b[0;34m)\u001b[0m\u001b[0;34m.\u001b[0m\u001b[0mplot\u001b[0m\u001b[0;34m(\u001b[0m\u001b[0mrobust\u001b[0m\u001b[0;34m=\u001b[0m\u001b[0;32mTrue\u001b[0m\u001b[0;34m)\u001b[0m\u001b[0;34m\u001b[0m\u001b[0;34m\u001b[0m\u001b[0m\n",
      "\u001b[0;32m/env/lib/python3.8/site-packages/xarray/backends/rasterio_.py\u001b[0m in \u001b[0;36mopen_rasterio\u001b[0;34m(filename, parse_coordinates, chunks, cache, lock, **kwargs)\u001b[0m\n\u001b[1;32m    300\u001b[0m         \u001b[0mkwargs\u001b[0m\u001b[0;34m=\u001b[0m\u001b[0mkwargs\u001b[0m\u001b[0;34m,\u001b[0m\u001b[0;34m\u001b[0m\u001b[0;34m\u001b[0m\u001b[0m\n\u001b[1;32m    301\u001b[0m     )\n\u001b[0;32m--> 302\u001b[0;31m     \u001b[0mriods\u001b[0m \u001b[0;34m=\u001b[0m \u001b[0mmanager\u001b[0m\u001b[0;34m.\u001b[0m\u001b[0macquire\u001b[0m\u001b[0;34m(\u001b[0m\u001b[0;34m)\u001b[0m\u001b[0;34m\u001b[0m\u001b[0;34m\u001b[0m\u001b[0m\n\u001b[0m\u001b[1;32m    303\u001b[0m     \u001b[0;32mif\u001b[0m \u001b[0mvrt_params\u001b[0m \u001b[0;32mis\u001b[0m \u001b[0;32mnot\u001b[0m \u001b[0;32mNone\u001b[0m\u001b[0;34m:\u001b[0m\u001b[0;34m\u001b[0m\u001b[0;34m\u001b[0m\u001b[0m\n\u001b[1;32m    304\u001b[0m         \u001b[0mriods\u001b[0m \u001b[0;34m=\u001b[0m \u001b[0mWarpedVRT\u001b[0m\u001b[0;34m(\u001b[0m\u001b[0mriods\u001b[0m\u001b[0;34m,\u001b[0m \u001b[0;34m**\u001b[0m\u001b[0mvrt_params\u001b[0m\u001b[0;34m)\u001b[0m\u001b[0;34m\u001b[0m\u001b[0;34m\u001b[0m\u001b[0m\n",
      "\u001b[0;32m/env/lib/python3.8/site-packages/xarray/backends/file_manager.py\u001b[0m in \u001b[0;36macquire\u001b[0;34m(self, needs_lock)\u001b[0m\n\u001b[1;32m    179\u001b[0m             \u001b[0mAn\u001b[0m \u001b[0mopen\u001b[0m \u001b[0mfile\u001b[0m \u001b[0mobject\u001b[0m\u001b[0;34m,\u001b[0m \u001b[0;32mas\u001b[0m \u001b[0mreturned\u001b[0m \u001b[0mby\u001b[0m\u001b[0;31m \u001b[0m\u001b[0;31m`\u001b[0m\u001b[0;31m`\u001b[0m\u001b[0mopener\u001b[0m\u001b[0;34m(\u001b[0m\u001b[0;34m*\u001b[0m\u001b[0margs\u001b[0m\u001b[0;34m,\u001b[0m \u001b[0;34m**\u001b[0m\u001b[0mkwargs\u001b[0m\u001b[0;34m)\u001b[0m\u001b[0;31m`\u001b[0m\u001b[0;31m`\u001b[0m\u001b[0;34m.\u001b[0m\u001b[0;34m\u001b[0m\u001b[0;34m\u001b[0m\u001b[0m\n\u001b[1;32m    180\u001b[0m         \"\"\"\n\u001b[0;32m--> 181\u001b[0;31m         \u001b[0mfile\u001b[0m\u001b[0;34m,\u001b[0m \u001b[0m_\u001b[0m \u001b[0;34m=\u001b[0m \u001b[0mself\u001b[0m\u001b[0;34m.\u001b[0m\u001b[0m_acquire_with_cache_info\u001b[0m\u001b[0;34m(\u001b[0m\u001b[0mneeds_lock\u001b[0m\u001b[0;34m)\u001b[0m\u001b[0;34m\u001b[0m\u001b[0;34m\u001b[0m\u001b[0m\n\u001b[0m\u001b[1;32m    182\u001b[0m         \u001b[0;32mreturn\u001b[0m \u001b[0mfile\u001b[0m\u001b[0;34m\u001b[0m\u001b[0;34m\u001b[0m\u001b[0m\n\u001b[1;32m    183\u001b[0m \u001b[0;34m\u001b[0m\u001b[0m\n",
      "\u001b[0;32m/env/lib/python3.8/site-packages/xarray/backends/file_manager.py\u001b[0m in \u001b[0;36m_acquire_with_cache_info\u001b[0;34m(self, needs_lock)\u001b[0m\n\u001b[1;32m    203\u001b[0m                     \u001b[0mkwargs\u001b[0m \u001b[0;34m=\u001b[0m \u001b[0mkwargs\u001b[0m\u001b[0;34m.\u001b[0m\u001b[0mcopy\u001b[0m\u001b[0;34m(\u001b[0m\u001b[0;34m)\u001b[0m\u001b[0;34m\u001b[0m\u001b[0;34m\u001b[0m\u001b[0m\n\u001b[1;32m    204\u001b[0m                     \u001b[0mkwargs\u001b[0m\u001b[0;34m[\u001b[0m\u001b[0;34m\"mode\"\u001b[0m\u001b[0;34m]\u001b[0m \u001b[0;34m=\u001b[0m \u001b[0mself\u001b[0m\u001b[0;34m.\u001b[0m\u001b[0m_mode\u001b[0m\u001b[0;34m\u001b[0m\u001b[0;34m\u001b[0m\u001b[0m\n\u001b[0;32m--> 205\u001b[0;31m                 \u001b[0mfile\u001b[0m \u001b[0;34m=\u001b[0m \u001b[0mself\u001b[0m\u001b[0;34m.\u001b[0m\u001b[0m_opener\u001b[0m\u001b[0;34m(\u001b[0m\u001b[0;34m*\u001b[0m\u001b[0mself\u001b[0m\u001b[0;34m.\u001b[0m\u001b[0m_args\u001b[0m\u001b[0;34m,\u001b[0m \u001b[0;34m**\u001b[0m\u001b[0mkwargs\u001b[0m\u001b[0;34m)\u001b[0m\u001b[0;34m\u001b[0m\u001b[0;34m\u001b[0m\u001b[0m\n\u001b[0m\u001b[1;32m    206\u001b[0m                 \u001b[0;32mif\u001b[0m \u001b[0mself\u001b[0m\u001b[0;34m.\u001b[0m\u001b[0m_mode\u001b[0m \u001b[0;34m==\u001b[0m \u001b[0;34m\"w\"\u001b[0m\u001b[0;34m:\u001b[0m\u001b[0;34m\u001b[0m\u001b[0;34m\u001b[0m\u001b[0m\n\u001b[1;32m    207\u001b[0m                     \u001b[0;31m# ensure file doesn't get overriden when opened again\u001b[0m\u001b[0;34m\u001b[0m\u001b[0;34m\u001b[0m\u001b[0;34m\u001b[0m\u001b[0m\n",
      "\u001b[0;32m/env/lib/python3.8/site-packages/rasterio/env.py\u001b[0m in \u001b[0;36mwrapper\u001b[0;34m(*args, **kwds)\u001b[0m\n\u001b[1;32m    435\u001b[0m \u001b[0;34m\u001b[0m\u001b[0m\n\u001b[1;32m    436\u001b[0m         \u001b[0;32mwith\u001b[0m \u001b[0menv_ctor\u001b[0m\u001b[0;34m(\u001b[0m\u001b[0msession\u001b[0m\u001b[0;34m=\u001b[0m\u001b[0msession\u001b[0m\u001b[0;34m)\u001b[0m\u001b[0;34m:\u001b[0m\u001b[0;34m\u001b[0m\u001b[0;34m\u001b[0m\u001b[0m\n\u001b[0;32m--> 437\u001b[0;31m             \u001b[0;32mreturn\u001b[0m \u001b[0mf\u001b[0m\u001b[0;34m(\u001b[0m\u001b[0;34m*\u001b[0m\u001b[0margs\u001b[0m\u001b[0;34m,\u001b[0m \u001b[0;34m**\u001b[0m\u001b[0mkwds\u001b[0m\u001b[0;34m)\u001b[0m\u001b[0;34m\u001b[0m\u001b[0;34m\u001b[0m\u001b[0m\n\u001b[0m\u001b[1;32m    438\u001b[0m \u001b[0;34m\u001b[0m\u001b[0m\n\u001b[1;32m    439\u001b[0m     \u001b[0;32mreturn\u001b[0m \u001b[0mwrapper\u001b[0m\u001b[0;34m\u001b[0m\u001b[0;34m\u001b[0m\u001b[0m\n",
      "\u001b[0;32m/env/lib/python3.8/site-packages/rasterio/__init__.py\u001b[0m in \u001b[0;36mopen\u001b[0;34m(fp, mode, driver, width, height, count, crs, transform, dtype, nodata, sharing, **kwargs)\u001b[0m\n\u001b[1;32m    218\u001b[0m         \u001b[0;31m# None.\u001b[0m\u001b[0;34m\u001b[0m\u001b[0;34m\u001b[0m\u001b[0;34m\u001b[0m\u001b[0m\n\u001b[1;32m    219\u001b[0m         \u001b[0;32mif\u001b[0m \u001b[0mmode\u001b[0m \u001b[0;34m==\u001b[0m \u001b[0;34m'r'\u001b[0m\u001b[0;34m:\u001b[0m\u001b[0;34m\u001b[0m\u001b[0;34m\u001b[0m\u001b[0m\n\u001b[0;32m--> 220\u001b[0;31m             \u001b[0ms\u001b[0m \u001b[0;34m=\u001b[0m \u001b[0mDatasetReader\u001b[0m\u001b[0;34m(\u001b[0m\u001b[0mpath\u001b[0m\u001b[0;34m,\u001b[0m \u001b[0mdriver\u001b[0m\u001b[0;34m=\u001b[0m\u001b[0mdriver\u001b[0m\u001b[0;34m,\u001b[0m \u001b[0msharing\u001b[0m\u001b[0;34m=\u001b[0m\u001b[0msharing\u001b[0m\u001b[0;34m,\u001b[0m \u001b[0;34m**\u001b[0m\u001b[0mkwargs\u001b[0m\u001b[0;34m)\u001b[0m\u001b[0;34m\u001b[0m\u001b[0;34m\u001b[0m\u001b[0m\n\u001b[0m\u001b[1;32m    221\u001b[0m         \u001b[0;32melif\u001b[0m \u001b[0mmode\u001b[0m \u001b[0;34m==\u001b[0m \u001b[0;34m\"r+\"\u001b[0m\u001b[0;34m:\u001b[0m\u001b[0;34m\u001b[0m\u001b[0;34m\u001b[0m\u001b[0m\n\u001b[1;32m    222\u001b[0m             s = get_writer_for_path(path, driver=driver)(\n",
      "\u001b[0;32mrasterio/_base.pyx\u001b[0m in \u001b[0;36mrasterio._base.DatasetBase.__init__\u001b[0;34m()\u001b[0m\n",
      "\u001b[0;31mRasterioIOError\u001b[0m: HTTP response code: 404"
     ]
    }
   ],
   "source": [
    "# Load data as an xarray.Dataset()\n",
    "streamed_ds = xr.open_rasterio(https_url)\n",
    "\n",
    "# Plot a small subset of the data\n",
    "streamed_ds.isel(x=slice(2000, 3000), y=slice(2000, 3000)).plot(robust=True)\n"
   ]
  },
  {
   "cell_type": "markdown",
   "metadata": {},
   "source": [
    "### Streaming and reprojecting data\n",
    "The code above will stream the entire dataset from the cloud into a `xarray.Dataset()`.\n",
    "Sometimes, however, we may only want to stream a portion of large dataset into a spatial grid (e.g. resolution and coordinate reference system) that exactly matches data we have already loaded using Datacube. \n",
    "\n",
    "For example, we may have already used `dc.load` to load example data from the datacube into the Australian Albers projection and a 5000 m pixel resolution:"
   ]
  },
  {
   "cell_type": "code",
   "execution_count": null,
   "metadata": {},
   "outputs": [],
   "source": [
    "import datacube\n",
    "\n",
    "# Connect to datacube\n",
    "dc = datacube.Datacube(app='Downloading_data_with_STAC')\n",
    "\n",
    "# Load data from datacube with a 300m cell size, Australian Albers CRS\n",
    "ds = dc.load(product='ga_ls8c_ard_3',\n",
    "             time=('2020-01-01', '2020-01-07'),\n",
    "             x=(148.5, 149.5),\n",
    "             y=(-31.0, -32.0),\n",
    "             resolution=(-5000, 5000),\n",
    "             output_crs='EPSG:3577',\n",
    "             dask_chunks={})\n",
    "ds"
   ]
  },
  {
   "cell_type": "markdown",
   "metadata": {},
   "source": [
    "We can now use the `rio_slurp_xarray` function to stream the data we identified using STAC into a format that is consistent with the `ds` data we loaded using the Datacube. \n",
    "Note that `gbox=ds.geobox` tells the function to load the data to match `ds`'s 5000 m Australian Albers spatial grid.\n",
    "The output should therefore appear far more pixelated than previous plots:"
   ]
  },
  {
   "cell_type": "code",
   "execution_count": null,
   "metadata": {},
   "outputs": [],
   "source": [
    "# Load data as an xarray.Dataset()\n",
    "streamed_ds = rio_slurp_xarray(https_url, gbox=ds.geobox)\n",
    "\n",
    "# Verify that data contains an Open Data Cube geobox\n",
    "streamed_ds.plot(robust=True)"
   ]
  },
  {
   "cell_type": "markdown",
   "metadata": {},
   "source": [
    "Verify that both datasets share the same spatial grid:"
   ]
  },
  {
   "cell_type": "code",
   "execution_count": null,
   "metadata": {},
   "outputs": [],
   "source": [
    "ds.geobox == streamed_ds.geobox"
   ]
  },
  {
   "cell_type": "markdown",
   "metadata": {},
   "source": [
    "> **Note:** For more about reprojecting data, see the [Reprojecting datacube and raster data](Reprojecting_data.ipynb) notebook."
   ]
  },
  {
   "cell_type": "markdown",
   "metadata": {},
   "source": [
    "### Streaming data into QGIS\n",
    "\n",
    "To stream data directly into a GIS software like QGIS without having to download it, first select and copy the HTTPS URL above (e.g. `'https://dea-public-data...`) to our clipboard, then open QGIS. In QGIS, click `Layer > Add Layer > Add Raster Layer`:\n",
    "\n",
    "![](../Supplementary_data/Downloading_data_with_STAC/qgis_stac_1.jpg)\n",
    "\n",
    "On the `Data Source Manager | Raster` dialogue, click `Protocol: HTTP(S), cloud, etc`. Ensure `Type` is set to `HTTP/HTTPS/FTP`, and paste the URL you copied into the `URI` box:\n",
    "\n",
    "![](../Supplementary_data/Downloading_data_with_STAC/qgis_stac_2.jpg)\n",
    "\n",
    "Click `Add`, then `Close`. After a few moments, the image we identified using STAC will appear on the map. This data is being streamed directly from the cloud - no downloading required!\n",
    "\n",
    "![](../Supplementary_data/Downloading_data_with_STAC/qgis_stac_3.jpg)"
   ]
  },
  {
   "cell_type": "markdown",
   "metadata": {},
   "source": [
    "***\n",
    "\n",
    "## Additional information\n",
    "\n",
    "**License:** The code in this notebook is licensed under the [Apache License, Version 2.0](https://www.apache.org/licenses/LICENSE-2.0). \n",
    "Digital Earth Australia data is licensed under the [Creative Commons by Attribution 4.0](https://creativecommons.org/licenses/by/4.0/) license.\n",
    "\n",
    "**Contact:** If you need assistance, please post a question on the [Open Data Cube Slack channel](http://slack.opendatacube.org/) or on the [GIS Stack Exchange](https://gis.stackexchange.com/questions/ask?tags=open-data-cube) using the `open-data-cube` tag (you can view previously asked questions [here](https://gis.stackexchange.com/questions/tagged/open-data-cube)).\n",
    "If you would like to report an issue with this notebook, you can file one on [Github](https://github.com/GeoscienceAustralia/dea-notebooks).\n",
    "\n",
    "**Last modified:** September 2021\n",
    "\n",
    "**Compatible datacube version:** "
   ]
  },
  {
   "cell_type": "code",
   "execution_count": null,
   "metadata": {},
   "outputs": [],
   "source": [
    "print(datacube.__version__)"
   ]
  },
  {
   "cell_type": "markdown",
   "metadata": {},
   "source": [
    "## Tags\n",
    "Browse all available tags on the DEA User Guide's [Tags Index](https://docs.dea.ga.gov.au/genindex.html)"
   ]
  },
  {
   "cell_type": "raw",
   "metadata": {
    "raw_mimetype": "text/restructuredtext"
   },
   "source": [
    "**Tags**: :index:`sandbox compatible`, :index:`STAC`, :index:`S3`, :index:`exporting data`, :index:`streaming data`, :index:`QGIS`, :index:`reprojecting data`, :index:`rio_slurp_xarray`, :index:`GeoBox`, :index:`xarray.open_rasterio`"
   ]
  }
 ],
 "metadata": {
  "kernelspec": {
   "display_name": "Python 3 (ipykernel)",
   "language": "python",
   "name": "python3"
  },
  "language_info": {
   "codemirror_mode": {
    "name": "ipython",
    "version": 3
   },
   "file_extension": ".py",
   "mimetype": "text/x-python",
   "name": "python",
   "nbconvert_exporter": "python",
   "pygments_lexer": "ipython3",
   "version": "3.8.10"
  },
  "widgets": {
   "application/vnd.jupyter.widget-state+json": {
    "state": {},
    "version_major": 2,
    "version_minor": 0
   }
  }
 },
 "nbformat": 4,
 "nbformat_minor": 4
}
