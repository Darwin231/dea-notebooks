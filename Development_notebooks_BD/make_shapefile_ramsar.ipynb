{
 "cells": [
  {
   "cell_type": "markdown",
   "id": "07a90798-519c-4919-9193-b1cebf226487",
   "metadata": {},
   "source": [
    "notebook for dawe site\n"
   ]
  },
  {
   "cell_type": "code",
   "execution_count": 1,
   "id": "1b5d1a43-688d-4517-92a2-a645e2783558",
   "metadata": {},
   "outputs": [],
   "source": [
    "import xarray as xr\n",
    "import geopandas as gpd\n",
    "import shapely\n",
    "import numpy as np\n",
    "import pandas as pd\n",
    "import fiona"
   ]
  },
  {
   "cell_type": "code",
   "execution_count": 2,
   "id": "c18351c8-566b-421b-92d0-b4a91b00489c",
   "metadata": {},
   "outputs": [],
   "source": [
    "csv_data = gpd.read_file('Carapundy.csv')"
   ]
  },
  {
   "cell_type": "code",
   "execution_count": 3,
   "id": "9360194b-6841-4fd8-9b40-ee5b4dcd776d",
   "metadata": {},
   "outputs": [],
   "source": [
    "csv_data.crs = 'epsg:4326' "
   ]
  },
  {
   "cell_type": "code",
   "execution_count": 4,
   "id": "5c0306e6-2e61-448f-bbb2-4eb263f14b13",
   "metadata": {},
   "outputs": [],
   "source": [
    "#try reading in the points\n",
    "lonlats = gpd.points_from_xy(csv_data.Longitude, csv_data.Latitude)"
   ]
  },
  {
   "cell_type": "code",
   "execution_count": 5,
   "id": "b2439d7c-94cc-4a50-9f1f-cb6ace10e3e4",
   "metadata": {},
   "outputs": [],
   "source": [
    "#try reading in the points\n",
    "#tests = gpd.polygon(csv_data.Longitude, csv_data.Latitude)"
   ]
  },
  {
   "cell_type": "code",
   "execution_count": 11,
   "id": "a4b92fbe-c05a-4932-a54b-752bd331278a",
   "metadata": {},
   "outputs": [],
   "source": [
    "crs = 'epsg:4326'"
   ]
  },
  {
   "cell_type": "code",
   "execution_count": 12,
   "id": "f899c59d-01e7-4e6d-bb8c-9ea53e1dfc0c",
   "metadata": {},
   "outputs": [],
   "source": [
    "polygon_geom = zip(list(csv_data.Longitude), list(csv_data.Latitude))"
   ]
  },
  {
   "cell_type": "code",
   "execution_count": 13,
   "id": "d43d6a89-113b-471c-91b2-8066df0091ec",
   "metadata": {},
   "outputs": [],
   "source": [
    "poly1 = gpd.GeoDataFrame(crs=crs, geometry=lonlats)"
   ]
  },
  {
   "cell_type": "code",
   "execution_count": 14,
   "id": "7c6d9548-cd29-4fe4-b2da-f609468ffdb9",
   "metadata": {},
   "outputs": [
    {
     "data": {
      "text/plain": [
       "<AxesSubplot:>"
      ]
     },
     "execution_count": 14,
     "metadata": {},
     "output_type": "execute_result"
    },
    {
     "data": {
      "image/png": "[encoded data removed]",
      "text/plain": [
       "<Figure size 432x288 with 1 Axes>"
      ]
     },
     "metadata": {
      "needs_background": "light"
     },
     "output_type": "display_data"
    }
   ],
   "source": [
    "poly1.plot() #poly 1 is everything is points"
   ]
  },
  {
   "cell_type": "code",
   "execution_count": 20,
   "id": "5c522582-b7a9-4aeb-a765-fd2d8b33b9d9",
   "metadata": {},
   "outputs": [],
   "source": [
    "poly1.to_file(driver='GeoJSON', filename='cara3.json')"
   ]
  },
  {
   "cell_type": "code",
   "execution_count": 21,
   "id": "e41f86d2-3ed7-4c03-885b-122d0c97f6f0",
   "metadata": {},
   "outputs": [],
   "source": [
    "poly1.to_file(driver='ESRI Shapefile', filename='cara3.shp')"
   ]
  }
 ],
 "metadata": {
  "kernelspec": {
   "display_name": "Python 3 (ipykernel)",
   "language": "python",
   "name": "python3"
  },
  "language_info": {
   "codemirror_mode": {
    "name": "ipython",
    "version": 3
   },
   "file_extension": ".py",
   "mimetype": "text/x-python",
   "name": "python",
   "nbconvert_exporter": "python",
   "pygments_lexer": "ipython3",
   "version": "3.8.10"
  },
  "widgets": {
   "application/vnd.jupyter.widget-state+json": {
    "state": {},
    "version_major": 2,
    "version_minor": 0
   }
  }
 },
 "nbformat": 4,
 "nbformat_minor": 5
}
