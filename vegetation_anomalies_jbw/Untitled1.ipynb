{
 "cells": [
  {
   "cell_type": "markdown",
   "id": "e75953de-5bd7-4d68-8e79-2b8ea3f6dbb5",
   "metadata": {},
   "source": [
    "# Seasonal Vegetation Anomalies\n",
    "\n"
   ]
  },
  {
   "cell_type": "markdown",
   "id": "b9c242c2-62b5-4a62-9201-67ceea635031",
   "metadata": {},
   "source": [
    "## Background\n",
    "\n",
    "Understanding how the vegetated landscape responds to longer-term environmental drivers such as the El Nino Southern Oscillation (ENSO) or climate change, requires the calculation of seasonal anomalies. Seasonal anomalies subtract the long-term seasonal mean from a time-series, thus removing seasonal variability and highlighting change related to longer-term drivers. "
   ]
  },
  {
   "cell_type": "markdown",
   "id": "ba67e913-0395-404a-a541-3343138865ab",
   "metadata": {
    "jp-MarkdownHeadingCollapsed": true,
    "tags": []
   },
   "source": [
    "## Description\n",
    "\n",
    "This notebook will calculate the seasonal anomaly for any given season and year. The long-term seasonal climatologies (both mean and standard deviation) for the vegetation index `NDVI` have been pre-calculated and are stored on disk. Given an AOI, season, and year, the script will calculate the seasonal mean for one of these indices and subtract the seasonal mean from the long-term climatology, resulting in a map of standardised vegetation anomalies for your AOI.  Optionally, the script will output a geotiff of the result. \n",
    "\n",
    "**IMPORTANT NOTES:** \n",
    "\n",
    "* It is a convention to establish climatologies based on a 30-year time range to account for inter-annual and inter-decadal modes of climate variability (often 1980-2010). As the landsat archive only goes back to 1987, the climatologies here have been calculated using the date-range `1988 - 2010` (inclusive).  While this is not ideal, a 22-year climatology should suffice to capture the bulk of inter-annual and inter-decadal variability, for example, both a major El Nino (1998) and a major La Nina (2010) are captured by this time-range.\n",
    "\n",
    "* Files & scripts for running datacube stats to calculate vegetation climatologies are located here: `'/g/data/r78/cb3058/dea-notebooks/vegetation_anomlies/dcstats'`. \n",
    "\n",
    "* The pre-computed climatologies are stored here: `/g/data/r78/jbw156/dea-notebooks/vegetation_anomalies_jbw/results/NSW_NDVI_climatologies_<mean>`.  The script below will use this string location to grab the data, so shifting the climatology mosaics to another location will require editing the `anomalies.py` script.\n",
    "\n",
    "* So far, NDVI climatolgies have been produced for the full extent of NSW only. "
   ]
  },
  {
   "cell_type": "markdown",
   "id": "44880ed3-9b21-4ac4-8d26-4c2bb3ab775d",
   "metadata": {},
   "source": [
    "## Technical details\n",
    "\n",
    "* **Products used:** 'ga_ls5t_ard_3', 'ga_ls7e_ard_3', 'ga_ls8c_ard_3'\n"
   ]
  },
  {
   "cell_type": "markdown",
   "id": "309e654b-28ae-4aac-b661-d22a081d56fc",
   "metadata": {},
   "source": [
    "## Getting Started\n",
    "\n",
    "To run this analysis, go to the `Analysis Parameters` section and enter the relevant details, then run all the cells in the notebook. If running the analysis multiple times, only run the `Set up dask cluster` and `import libraries` cells once."
   ]
  },
  {
   "cell_type": "markdown",
   "id": "0995b816-f317-4723-a80e-178eb7837efe",
   "metadata": {},
   "source": [
    "## Import libraries"
   ]
  },
  {
   "cell_type": "code",
   "execution_count": 1,
   "id": "6f3a1166-d0d0-462c-bab6-8c76966f9163",
   "metadata": {},
   "outputs": [
    {
     "name": "stdout",
     "output_type": "stream",
     "text": [
      "/g/data1a/r78/jbw156/dea-notebooks/vegetation_anomalies_jbw\n"
     ]
    }
   ],
   "source": [
    "cd /g/data/r78/jbw156/dea-notebooks/vegetation_anomalies_jbw/"
   ]
  },
  {
   "cell_type": "code",
   "execution_count": 2,
   "id": "5040e7dc-5b13-49a4-96f7-a110f3a597eb",
   "metadata": {},
   "outputs": [
    {
     "data": {
      "text/plain": [
       "'/g/data1a/r78/jbw156/dea-notebooks/vegetation_anomalies_jbw'"
      ]
     },
     "execution_count": 2,
     "metadata": {},
     "output_type": "execute_result"
    }
   ],
   "source": [
    "pwd"
   ]
  },
  {
   "cell_type": "code",
   "execution_count": 3,
   "id": "c0c0ce64-efd2-4c44-8d11-b25a41bcef56",
   "metadata": {},
   "outputs": [
    {
     "ename": "ModuleNotFoundError",
     "evalue": "No module named 'datacube'",
     "output_type": "error",
     "traceback": [
      "\u001b[0;31m---------------------------------------------------------------------------\u001b[0m",
      "\u001b[0;31mModuleNotFoundError\u001b[0m                       Traceback (most recent call last)",
      "\u001b[0;32m/local/r78/jbw156/tmp/ipykernel_2537031/783697192.py\u001b[0m in \u001b[0;36m<module>\u001b[0;34m\u001b[0m\n\u001b[1;32m      1\u001b[0m \u001b[0;32mimport\u001b[0m \u001b[0mxarray\u001b[0m \u001b[0;32mas\u001b[0m \u001b[0mxr\u001b[0m\u001b[0;34m\u001b[0m\u001b[0;34m\u001b[0m\u001b[0m\n\u001b[0;32m----> 2\u001b[0;31m \u001b[0;32mfrom\u001b[0m \u001b[0mdatacube\u001b[0m\u001b[0;34m.\u001b[0m\u001b[0mhelpers\u001b[0m \u001b[0;32mimport\u001b[0m \u001b[0mwrite_geotiff\u001b[0m\u001b[0;34m\u001b[0m\u001b[0;34m\u001b[0m\u001b[0m\n\u001b[0m\u001b[1;32m      3\u001b[0m \u001b[0;32mfrom\u001b[0m \u001b[0mdatacube\u001b[0m\u001b[0;34m.\u001b[0m\u001b[0mutils\u001b[0m\u001b[0;34m.\u001b[0m\u001b[0mcog\u001b[0m \u001b[0;32mimport\u001b[0m \u001b[0mwrite_cog\u001b[0m\u001b[0;34m\u001b[0m\u001b[0;34m\u001b[0m\u001b[0m\n\u001b[1;32m      4\u001b[0m \u001b[0;32mimport\u001b[0m \u001b[0mmatplotlib\u001b[0m\u001b[0;34m.\u001b[0m\u001b[0mpyplot\u001b[0m \u001b[0;32mas\u001b[0m \u001b[0mplt\u001b[0m\u001b[0;34m\u001b[0m\u001b[0;34m\u001b[0m\u001b[0m\n\u001b[1;32m      5\u001b[0m \u001b[0;32mimport\u001b[0m \u001b[0mgeopandas\u001b[0m \u001b[0;32mas\u001b[0m \u001b[0mgpd\u001b[0m\u001b[0;34m\u001b[0m\u001b[0;34m\u001b[0m\u001b[0m\n",
      "\u001b[0;31mModuleNotFoundError\u001b[0m: No module named 'datacube'"
     ]
    }
   ],
   "source": [
    "import xarray as xr\n",
    "from datacube.helpers import write_geotiff\n",
    "from datacube.utils.cog import write_cog\n",
    "import matplotlib.pyplot as plt\n",
    "import geopandas as gpd\n",
    "import sys\n",
    "import os\n",
    "import datacube\n",
    "\n",
    "\n",
    "sys.path.append('/g/data/r78/jbw156/dea-notebooks/Scripts/')\n",
    "from dea_plotting import display_map, map_shapefile\n",
    "from anomalies import calculate_anomalies\n",
    "# from dea_datahandling import load_ard\n",
    "from dea_dask import create_local_dask_cluster\n",
    "\n",
    "%load_ext autoreload\n",
    "%autoreload 2"
   ]
  },
  {
   "cell_type": "code",
   "execution_count": null,
   "id": "a9a41959-adc4-4baf-a41f-2e77356ea9e5",
   "metadata": {},
   "outputs": [],
   "source": [
    "# %autosave 0  #temporarily disable autosave"
   ]
  },
  {
   "cell_type": "markdown",
   "id": "eb9c8dcd-3153-4fb5-bc87-8709bd789e85",
   "metadata": {},
   "source": [
    "### Set up local dask cluster\n",
    "\n",
    "Dask will create a local cluster of cpus for running this analysis in parallel. If you'd like to see what the dask cluster is doing, click on the hyperlink that prints after you run the cell and you can watch the cluster run."
   ]
  },
  {
   "cell_type": "code",
   "execution_count": 4,
   "id": "e4be0fbd-fc99-444d-84db-d395343c703e",
   "metadata": {},
   "outputs": [
    {
     "data": {
      "text/html": [
       "<table style=\"border: 2px solid white;\">\n",
       "<tr>\n",
       "<td style=\"vertical-align: top; border: 0px solid white\">\n",
       "<h3 style=\"text-align: left;\">Client</h3>\n",
       "<ul style=\"text-align: left; list-style: none; margin: 0; padding: 0;\">\n",
       "  <li><b>Scheduler: </b>tcp://127.0.0.1:40537</li>\n",
       "  <li><b>Dashboard: </b><a href='/proxy/8787/status' target='_blank'>/proxy/8787/status</a></li>\n",
       "</ul>\n",
       "</td>\n",
       "<td style=\"vertical-align: top; border: 0px solid white\">\n",
       "<h3 style=\"text-align: left;\">Cluster</h3>\n",
       "<ul style=\"text-align: left; list-style:none; margin: 0; padding: 0;\">\n",
       "  <li><b>Workers: </b>1</li>\n",
       "  <li><b>Cores: </b>2</li>\n",
       "  <li><b>Memory: </b>6.03 GB</li>\n",
       "</ul>\n",
       "</td>\n",
       "</tr>\n",
       "</table>"
      ],
      "text/plain": [
       "<Client: 'tcp://127.0.0.1:40537' processes=1 threads=2, memory=6.03 GB>"
      ]
     },
     "metadata": {},
     "output_type": "display_data"
    }
   ],
   "source": [
    "create_local_dask_cluster()"
   ]
  },
  {
   "cell_type": "markdown",
   "id": "7ac17e6a-df6a-4bc0-aafc-fe3a5e871a1f",
   "metadata": {},
   "source": [
    "## Analysis Parameters\n",
    "\n",
    "The following cell sets the parameters, which define the area of interest and the season to conduct the analysis over. The parameters are:\n",
    "\n",
    "* `shp_fpath`: Provide a filepath to a shapefile that defines your AOI, if not using a shapefile then put `None` here.\n",
    "* `lat`, `lon`, `buffer`: If not using a shapefile to define the AOI, then use a latitide, longitude, and buffer to define a query 'box'.\n",
    "* `collection`: The landsat collection to load data from. either `'c3'` or `'c2'`\n",
    "* `year`: The year of interest, e.g. `'2018'`\n",
    "* `season`:  The season of interest, e.g `'DJF'`,`'JFM'`, `'FMA'` etc\n",
    "* `name` : A string value used to name the output geotiff, e.g 'NSW'\n",
    "* `dask_chunks` : dictionary of values to chunk the data using dask e.g. `{'x':3000, 'y':3000}`"
   ]
  },
  {
   "cell_type": "code",
   "execution_count": 5,
   "id": "cf4cf467-a825-4524-9de8-f3d00cacd9ee",
   "metadata": {},
   "outputs": [],
   "source": [
    "#shp_fpath = \"data/right_NSW_and_ACT.shp\" #testing for right side of NSW\n",
    "shp_fpath = \"data/left_NSW_and_ACT.shp\" #testing for left side of NSW, Esther revised here on 5 Apr 2021\n",
    "#shp_fpath = \"data/NSW_and_ACT.shp\"\n",
    "# shp_fpath=\"/home/156/jbw156/goFARM property boundaries for NSW DPI/goFARM property boundaries for NSW DPI/Petro Station.shp\"\n",
    "lat, lon, buff = -34.958, 149.281, 1\n",
    "collection =  'c2' #c2 loads slower than c3\n",
    "year = '2021'\n",
    "season = 'SON'\n",
    "name='NSW'\n",
    "dask_chunks = {'x':2000, 'y':2000}"
   ]
  },
  {
   "cell_type": "markdown",
   "id": "6755683d-d1cf-4b80-9ba5-f8f973d2d614",
   "metadata": {},
   "source": [
    "## Calculate the anomaly for the AOI\n",
    "\n",
    "For large queries (e.g > 10,000 x 10,000 pixels), the code will take several minutes to run.  Queries larger than ~25,000 x 25,000 pixels may start to fail due to memory limitations (several (42,000 x 35,000 x 52) runs covering all of NSW has been successfully run on the VDI). Check the x,y dimensions in the lazily loaded output to get idea of how big your result will be before you run  the `.compute()` cell."
   ]
  },
  {
   "cell_type": "code",
   "execution_count": 6,
   "id": "dabf8858-c88b-4346-8331-cab996b51759",
   "metadata": {},
   "outputs": [
    {
     "name": "stdout",
     "output_type": "stream",
     "text": [
      "extracting data based on shapefile extent\n",
      "loading Landsat C2\n",
      "loading Landsat C2 pq data\n",
      "making pq mask\n",
      "start: 2021-09-01T00:32:11.000000000, end: 2021-11-22T23:04:32.500000000, time dim length: 61\n",
      "calculating vegetation indice\n",
      "calculating anomalies\n",
      "<xarray.Dataset>\n",
      "Dimensions:        (x: 18815, y: 27669)\n",
      "Coordinates:\n",
      "  * x              (x) float64 8.263e+05 8.263e+05 ... 1.391e+06 1.391e+06\n",
      "  * y              (y) float64 -3.182e+06 -3.182e+06 ... -4.012e+06 -4.012e+06\n",
      "    spatial_ref    int32 3577\n",
      "    band           int64 1\n",
      "Data variables:\n",
      "    std_anomalies  (y, x) float32 dask.array<chunksize=(2000, 2000), meta=np.ndarray>\n",
      "Attributes:\n",
      "    crs:           epsg:3577\n",
      "    grid_mapping:  spatial_ref\n",
      "    units:         1\n",
      "CPU times: user 1min 38s, sys: 4.38 s, total: 1min 42s\n",
      "Wall time: 1min 43s\n"
     ]
    }
   ],
   "source": [
    "%%time\n",
    "#Lazily run calculations, this will check for errors before\n",
    "# we actually compute the results #5-10 min to run\n",
    "[anomalies,obs] = calculate_anomalies(shp_fpath=shp_fpath,\n",
    "                                query_box=(lat,lon,buff),\n",
    "                                collection=collection,\n",
    "                                year=year,\n",
    "                                season=season,\n",
    "                                dask_chunks=dask_chunks)\n",
    "\n",
    "print(anomalies)\n"
   ]
  },
  {
   "cell_type": "code",
   "execution_count": null,
   "id": "09389dfd-a752-40c7-87c6-d58d20385ea5",
   "metadata": {},
   "outputs": [
    {
     "name": "stderr",
     "output_type": "stream",
     "text": [
      "distributed.nanny - WARNING - Restarting worker\n",
      "distributed.nanny - WARNING - Restarting worker\n"
     ]
    }
   ],
   "source": [
    "%%time\n",
    "anomalies = anomalies.compute()\n",
    "# Write geotiff to a location"
   ]
  },
  {
   "cell_type": "code",
   "execution_count": null,
   "id": "f0dbccde-b490-4fc2-88f1-c53c266cbb4a",
   "metadata": {},
   "outputs": [],
   "source": [
    "# anomalies"
   ]
  },
  {
   "cell_type": "code",
   "execution_count": null,
   "id": "c9fb7b9f-38cc-4fc7-bf79-b5ca49c07600",
   "metadata": {},
   "outputs": [],
   "source": [
    "# write_geotiff('results/computed_anomalies/ndvi_' +year+season+'_'+name+'_standardised_anomalies.tif', anomalies)\n"
   ]
  },
  {
   "cell_type": "code",
   "execution_count": 8,
   "id": "b70e58ce-67bb-4672-9129-295d8de568f1",
   "metadata": {},
   "outputs": [],
   "source": [
    "# convert dataframe to dataset for saving\n",
    "anomalies=anomalies.to_array()"
   ]
  },
  {
   "cell_type": "code",
   "execution_count": 9,
   "id": "befa3429-00eb-4ce0-b21b-8bbbfc8434a7",
   "metadata": {},
   "outputs": [
    {
     "data": {
      "text/plain": [
       "PosixPath('results/computed_anomalies/ndvi_c2_2021ASO_NSW_standardised_anomalies_l.tif')"
      ]
     },
     "execution_count": 9,
     "metadata": {},
     "output_type": "execute_result"
    }
   ],
   "source": [
    "# if collection == 'c2':\n",
    "    #write_cog(geo_im=anomalies,fname='results/computed_anomalies/ndvi_c2_' +year+season+'_'+name+'_standardised_anomalies.tif', overwrite=True)\n",
    "    #write_cog(geo_im=anomalies,fname='results/computed_anomalies/ndvi_c2_' +year+season+'_'+name+'_standardised_anomalies_r.tif', overwrite=True)\n",
    "    write_cog(geo_im=anomalies,fname='results/computed_anomalies/ndvi_c2_' +year+season+'_'+name+'_standardised_anomalies_l.tif', overwrite=True)# save left half NDVI, Esther revised here on 5Apr2021\n",
    "\n",
    "# if collection == 'c3':\n",
    "#     write_cog(geo_im=anomaliesA,fname='results/computed_anomalies/ndvi_c3_' +year+season+'_'+name+'_standardised_anomalies.tif', overwrite=True)\n",
    "    \n",
    "    \n",
    "    "
   ]
  },
  {
   "cell_type": "code",
   "execution_count": null,
   "id": "d31b2953-e7fd-4dd0-a423-ea5ef87663a4",
   "metadata": {},
   "outputs": [],
   "source": []
  },
  {
   "cell_type": "markdown",
   "id": "77ee5ee2-7bad-4c33-b430-d79c81df514e",
   "metadata": {},
   "source": [
    "## Export geotiff and CSV"
   ]
  },
  {
   "cell_type": "code",
   "execution_count": null,
   "id": "14466579-57ac-4591-a02d-b550a807cb2e",
   "metadata": {},
   "outputs": [],
   "source": [
    "# # m2=pd.DataFrame(meta[1])\n",
    "# lastobs=obs.to_dataframe()\n",
    "# lastobs.to_csv('results/computed_anomalies/'+year+season+'_NDVIanom_timestamps.csv',index=False)"
   ]
  },
  {
   "cell_type": "markdown",
   "id": "93f23298-0312-49d3-94e1-1148d1bf631c",
   "metadata": {},
   "source": [
    "## Plot the result\n",
    "\n",
    "If your AOI is very large, plotting the result can crash the notebook. In that case, its better to export the geotiff and view it in QGIS or ArcGIS"
   ]
  },
  {
   "cell_type": "code",
   "execution_count": null,
   "id": "83875809-2744-46c8-890f-cbc28eb7f00a",
   "metadata": {},
   "outputs": [],
   "source": [
    "# anomalies.std_anomalies.plot(figsize=(10,10), vmin=-2.0, vmax=2.0, cmap='BrBG')\n",
    "\n",
    "# plt.title(season+ \", \" +year)\n",
    "# plt.show()"
   ]
  },
  {
   "cell_type": "code",
   "execution_count": null,
   "id": "6d613f63-42cf-4280-a1ff-e85425141ac4",
   "metadata": {},
   "outputs": [],
   "source": [
    "# !jupyter nbconvert --to script Seasonal_anomalies.ipynb"
   ]
  }
 ],
 "metadata": {
  "kernelspec": {
   "display_name": "Python 3 (ipykernel)",
   "language": "python",
   "name": "python3"
  },
  "language_info": {
   "codemirror_mode": {
    "name": "ipython",
    "version": 3
   },
   "file_extension": ".py",
   "mimetype": "text/x-python",
   "name": "python",
   "nbconvert_exporter": "python",
   "pygments_lexer": "ipython3",
   "version": "3.9.9"
  }
 },
 "nbformat": 4,
 "nbformat_minor": 5
}
