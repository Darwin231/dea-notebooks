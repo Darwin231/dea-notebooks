{
 "cells": [
  {
   "cell_type": "markdown",
   "metadata": {},
   "source": [
    "Split the modelling period by epoch"
   ]
  },
  {
   "cell_type": "code",
   "execution_count": 4,
   "metadata": {},
   "outputs": [],
   "source": [
    "import pandas as pd\n"
   ]
  },
  {
   "cell_type": "code",
   "execution_count": 5,
   "metadata": {},
   "outputs": [],
   "source": [
    "# ## Load previously modelled tides for given tidepost.\n",
    "## Southern Gladstone tideset:\n",
    "modelledtides = pd.read_pickle(\"tidepost_-24.0299_151.5934_modelledtides_20min.pkl\")"
   ]
  },
  {
   "cell_type": "code",
   "execution_count": 6,
   "metadata": {},
   "outputs": [
    {
     "data": {
      "text/html": [
       "<div>\n",
       "<style scoped>\n",
       "    .dataframe tbody tr th:only-of-type {\n",
       "        vertical-align: middle;\n",
       "    }\n",
       "\n",
       "    .dataframe tbody tr th {\n",
       "        vertical-align: top;\n",
       "    }\n",
       "\n",
       "    .dataframe thead th {\n",
       "        text-align: right;\n",
       "    }\n",
       "</style>\n",
       "<table border=\"1\" class=\"dataframe\">\n",
       "  <thead>\n",
       "    <tr style=\"text-align: right;\">\n",
       "      <th></th>\n",
       "      <th>timerange</th>\n",
       "      <th>tideheights</th>\n",
       "    </tr>\n",
       "  </thead>\n",
       "  <tbody>\n",
       "    <tr>\n",
       "      <th>1988-01-01 00:00:00</th>\n",
       "      <td>1988-01-01 00:00:00</td>\n",
       "      <td>0.360</td>\n",
       "    </tr>\n",
       "    <tr>\n",
       "      <th>1988-01-01 00:20:00</th>\n",
       "      <td>1988-01-01 00:20:00</td>\n",
       "      <td>0.165</td>\n",
       "    </tr>\n",
       "    <tr>\n",
       "      <th>1988-01-01 00:40:00</th>\n",
       "      <td>1988-01-01 00:40:00</td>\n",
       "      <td>-0.030</td>\n",
       "    </tr>\n",
       "    <tr>\n",
       "      <th>1988-01-01 01:00:00</th>\n",
       "      <td>1988-01-01 01:00:00</td>\n",
       "      <td>-0.218</td>\n",
       "    </tr>\n",
       "    <tr>\n",
       "      <th>1988-01-01 01:20:00</th>\n",
       "      <td>1988-01-01 01:20:00</td>\n",
       "      <td>-0.394</td>\n",
       "    </tr>\n",
       "    <tr>\n",
       "      <th>...</th>\n",
       "      <td>...</td>\n",
       "      <td>...</td>\n",
       "    </tr>\n",
       "    <tr>\n",
       "      <th>2018-12-31 22:40:00</th>\n",
       "      <td>2018-12-31 22:40:00</td>\n",
       "      <td>0.127</td>\n",
       "    </tr>\n",
       "    <tr>\n",
       "      <th>2018-12-31 23:00:00</th>\n",
       "      <td>2018-12-31 23:00:00</td>\n",
       "      <td>-0.045</td>\n",
       "    </tr>\n",
       "    <tr>\n",
       "      <th>2018-12-31 23:20:00</th>\n",
       "      <td>2018-12-31 23:20:00</td>\n",
       "      <td>-0.212</td>\n",
       "    </tr>\n",
       "    <tr>\n",
       "      <th>2018-12-31 23:40:00</th>\n",
       "      <td>2018-12-31 23:40:00</td>\n",
       "      <td>-0.370</td>\n",
       "    </tr>\n",
       "    <tr>\n",
       "      <th>2019-01-01 00:00:00</th>\n",
       "      <td>2019-01-01 00:00:00</td>\n",
       "      <td>-0.512</td>\n",
       "    </tr>\n",
       "  </tbody>\n",
       "</table>\n",
       "<p>815257 rows × 2 columns</p>\n",
       "</div>"
      ],
      "text/plain": [
       "                              timerange  tideheights\n",
       "1988-01-01 00:00:00 1988-01-01 00:00:00        0.360\n",
       "1988-01-01 00:20:00 1988-01-01 00:20:00        0.165\n",
       "1988-01-01 00:40:00 1988-01-01 00:40:00       -0.030\n",
       "1988-01-01 01:00:00 1988-01-01 01:00:00       -0.218\n",
       "1988-01-01 01:20:00 1988-01-01 01:20:00       -0.394\n",
       "...                                 ...          ...\n",
       "2018-12-31 22:40:00 2018-12-31 22:40:00        0.127\n",
       "2018-12-31 23:00:00 2018-12-31 23:00:00       -0.045\n",
       "2018-12-31 23:20:00 2018-12-31 23:20:00       -0.212\n",
       "2018-12-31 23:40:00 2018-12-31 23:40:00       -0.370\n",
       "2019-01-01 00:00:00 2019-01-01 00:00:00       -0.512\n",
       "\n",
       "[815257 rows x 2 columns]"
      ]
     },
     "execution_count": 6,
     "metadata": {},
     "output_type": "execute_result"
    }
   ],
   "source": [
    "modelledtides"
   ]
  },
  {
   "cell_type": "code",
   "execution_count": 7,
   "metadata": {},
   "outputs": [
    {
     "data": {
      "text/plain": [
       "pandas.core.indexes.datetimes.DatetimeIndex"
      ]
     },
     "execution_count": 7,
     "metadata": {},
     "output_type": "execute_result"
    }
   ],
   "source": [
    "type(modelledtides.index)"
   ]
  },
  {
   "cell_type": "code",
   "execution_count": 8,
   "metadata": {},
   "outputs": [
    {
     "data": {
      "text/plain": [
       "Int64Index([1, 1, 1, 1, 1, 1, 1, 1, 1, 1,\n",
       "            ...\n",
       "            4, 4, 4, 4, 4, 4, 4, 4, 4, 1],\n",
       "           dtype='int64', length=815257)"
      ]
     },
     "execution_count": 8,
     "metadata": {},
     "output_type": "execute_result"
    }
   ],
   "source": [
    "## Extract dates by season (1,2,3 or 4)\n",
    "modelledtides.index.quarter"
   ]
  },
  {
   "cell_type": "code",
   "execution_count": 9,
   "metadata": {},
   "outputs": [
    {
     "data": {
      "text/plain": [
       "Int64Index([ 0,  0,  0,  1,  1,  1,  2,  2,  2,  3,\n",
       "            ...\n",
       "            21, 21, 21, 22, 22, 22, 23, 23, 23,  0],\n",
       "           dtype='int64', length=815257)"
      ]
     },
     "execution_count": 9,
     "metadata": {},
     "output_type": "execute_result"
    }
   ],
   "source": [
    "## Extract times by hour\n",
    "modelledtides.index.hour"
   ]
  },
  {
   "cell_type": "code",
   "execution_count": 52,
   "metadata": {},
   "outputs": [],
   "source": [
    "import pytz\n",
    "\n",
    "\n",
    "## Convert tz-naive to tz-aware (set to UTC to match modelled timestamp input)\n",
    "test = modelledtides.index.tz_localize(tz=pytz.UTC)\n",
    "\n",
    "## Convert tz-aware index to local timezone\n",
    "test = test.tz_convert('Australia/Queensland')\n",
    "\n",
    "# ## For reference:\n",
    "# UTC + 8 =   'Australia/West'\n",
    "\n",
    "# UTC + 9.5 = 'Australia/North'\n",
    "#             'Australia/South'\n",
    "\n",
    "# UTC + 10 =  'Australia/Queensland'\n",
    "#             'Australia/NSW'\n",
    "#             'Australia/Victoria'\n",
    "#             'Australia/Tasmania'\n",
    "\n",
    "## Return night and day DatetimeIndex variables\n",
    "day = test.where((int(test[x].strftime('%H')) > 6) & (int(test[x].strftime('%H')) < 18) for x in range(0,len(test)))\n",
    "night = test.where((int(test[x].strftime('%H')) <= 6) & (int(test[x].strftime('%H')) >= 18) for x in range(0,len(test)))\n",
    "\n",
    "## Return wet season and dry season DatetimeIndex variables\n",
    "\n",
    "\n",
    "## Return DatetimeIndex variables for each season\n",
    "summer = test.drop(test[test.quarter != 1])\n",
    "autumn = test.drop(test[test.quarter != 2])\n",
    "winter = test.drop(test[test.quarter != 3])\n",
    "spring = test.drop(test[test.quarter != 4])"
   ]
  },
  {
   "cell_type": "code",
   "execution_count": 67,
   "metadata": {},
   "outputs": [],
   "source": [
    "## Return night and day DatetimeIndex variables\n",
    "\n",
    "day = test.where((int(test[x].strftime('%H')) > 6) & (int(test[x].strftime('%H')) < 18) \n",
    "                 for x in range(0,len(test)))\n",
    "night = test.where(((int(test[x].strftime('%H')) <= 6) & (int(test[x].strftime('%H')) >= 18) \n",
    "                   for x in range(0,len(test))), other = None)"
   ]
  },
  {
   "cell_type": "code",
   "execution_count": 55,
   "metadata": {},
   "outputs": [
    {
     "data": {
      "text/plain": [
       "DatetimeIndex(['1988-01-01 10:00:00+10:00', '1988-01-01 10:20:00+10:00',\n",
       "               '1988-01-01 10:40:00+10:00', '1988-01-01 11:00:00+10:00',\n",
       "               '1988-01-01 11:20:00+10:00', '1988-01-01 11:40:00+10:00',\n",
       "               '1988-01-01 12:00:00+10:00', '1988-01-01 12:20:00+10:00',\n",
       "               '1988-01-01 12:40:00+10:00', '1988-01-01 13:00:00+10:00',\n",
       "               ...\n",
       "               '2019-01-01 07:00:00+10:00', '2019-01-01 07:20:00+10:00',\n",
       "               '2019-01-01 07:40:00+10:00', '2019-01-01 08:00:00+10:00',\n",
       "               '2019-01-01 08:20:00+10:00', '2019-01-01 08:40:00+10:00',\n",
       "               '2019-01-01 09:00:00+10:00', '2019-01-01 09:20:00+10:00',\n",
       "               '2019-01-01 09:40:00+10:00', '2019-01-01 10:00:00+10:00'],\n",
       "              dtype='datetime64[ns, Australia/Queensland]', length=815257, freq='20T')"
      ]
     },
     "execution_count": 55,
     "metadata": {},
     "output_type": "execute_result"
    }
   ],
   "source": [
    "test"
   ]
  },
  {
   "cell_type": "code",
   "execution_count": 74,
   "metadata": {},
   "outputs": [
    {
     "ename": "SyntaxError",
     "evalue": "invalid syntax (<ipython-input-74-d3ee2027e045>, line 2)",
     "output_type": "error",
     "traceback": [
      "\u001b[0;36m  File \u001b[0;32m\"<ipython-input-74-d3ee2027e045>\"\u001b[0;36m, line \u001b[0;32m2\u001b[0m\n\u001b[0;31m    test[test[x] if ((int(test[x].strftime('%H') is in range(6,18))) for x in range(0,len(test)))]\u001b[0m\n\u001b[0m                                                     ^\u001b[0m\n\u001b[0;31mSyntaxError\u001b[0m\u001b[0;31m:\u001b[0m invalid syntax\n"
     ]
    }
   ],
   "source": [
    "night = test.drop(\n",
    "            test[test[x] if ((int(test[x].strftime('%H') is in range(6,18))) for x in range(0,len(test)))]\n",
    "                )\n",
    "night"
   ]
  },
  {
   "cell_type": "code",
   "execution_count": 3,
   "metadata": {},
   "outputs": [
    {
     "ename": "NameError",
     "evalue": "name 'day' is not defined",
     "output_type": "error",
     "traceback": [
      "\u001b[0;31m---------------------------------------------------------------------------\u001b[0m",
      "\u001b[0;31mNameError\u001b[0m                                 Traceback (most recent call last)",
      "\u001b[0;32m<ipython-input-3-b9d2a2915564>\u001b[0m in \u001b[0;36m<module>\u001b[0;34m\u001b[0m\n\u001b[1;32m      3\u001b[0m \u001b[0;31m#     print (x)\u001b[0m\u001b[0;34m\u001b[0m\u001b[0;34m\u001b[0m\u001b[0;34m\u001b[0m\u001b[0m\n\u001b[1;32m      4\u001b[0m \u001b[0;31m# range(0,len(test))\u001b[0m\u001b[0;34m\u001b[0m\u001b[0;34m\u001b[0m\u001b[0;34m\u001b[0m\u001b[0m\n\u001b[0;32m----> 5\u001b[0;31m \u001b[0mday1\u001b[0m \u001b[0;34m=\u001b[0m \u001b[0mpd\u001b[0m\u001b[0;34m.\u001b[0m\u001b[0mDatetimeIndex\u001b[0m\u001b[0;34m(\u001b[0m\u001b[0mday\u001b[0m\u001b[0;34m)\u001b[0m\u001b[0;34m\u001b[0m\u001b[0;34m\u001b[0m\u001b[0m\n\u001b[0m\u001b[1;32m      6\u001b[0m \u001b[0mday1\u001b[0m\u001b[0;34m\u001b[0m\u001b[0;34m\u001b[0m\u001b[0m\n",
      "\u001b[0;31mNameError\u001b[0m: name 'day' is not defined"
     ]
    }
   ],
   "source": [
    "# modelledtides.index[0]\n",
    "# for x in range(0,len(test)):\n",
    "#     print (x)\n",
    "# range(0,len(test))\n",
    "day1 = pd.DatetimeIndex(day)\n",
    "day1"
   ]
  },
  {
   "cell_type": "code",
   "execution_count": 70,
   "metadata": {},
   "outputs": [
    {
     "ename": "AttributeError",
     "evalue": "'DatetimeIndex' object has no attribute 'plot'",
     "output_type": "error",
     "traceback": [
      "\u001b[0;31m---------------------------------------------------------------------------\u001b[0m",
      "\u001b[0;31mAttributeError\u001b[0m                            Traceback (most recent call last)",
      "\u001b[0;32m<ipython-input-70-31255f462377>\u001b[0m in \u001b[0;36m<module>\u001b[0;34m\u001b[0m\n\u001b[0;32m----> 1\u001b[0;31m \u001b[0mtest\u001b[0m\u001b[0;34m.\u001b[0m\u001b[0mplot\u001b[0m\u001b[0;34m(\u001b[0m\u001b[0;34m)\u001b[0m\u001b[0;34m\u001b[0m\u001b[0;34m\u001b[0m\u001b[0m\n\u001b[0m",
      "\u001b[0;31mAttributeError\u001b[0m: 'DatetimeIndex' object has no attribute 'plot'"
     ]
    }
   ],
   "source": [
    "test"
   ]
  },
  {
   "cell_type": "markdown",
   "metadata": {},
   "source": [
    "### Return timezone, if any\n",
    "https://pandas.pydata.org/docs/reference/api/pandas.DatetimeIndex.tz.html\n",
    "\n",
    "### Localize tz-naive Datetime Array/Index to tz-aware Datetime Array/Index\n",
    "https://pandas.pydata.org/docs/reference/api/pandas.DatetimeIndex.tz_localize.html\n",
    "\n",
    "### Convert tz-aware Datetime Array/Index from one time zone to another\n",
    "https://pandas.pydata.org/docs/reference/api/pandas.DatetimeIndex.tz_convert.html"
   ]
  },
  {
   "cell_type": "code",
   "execution_count": 16,
   "metadata": {},
   "outputs": [
    {
     "data": {
      "text/plain": [
       "Int64Index([ 0,  0,  0,  1,  1,  1,  2,  2,  2,  3,\n",
       "            ...\n",
       "            21, 21, 21, 22, 22, 22, 23, 23, 23,  0],\n",
       "           dtype='int64', length=815257)"
      ]
     },
     "execution_count": 16,
     "metadata": {},
     "output_type": "execute_result"
    }
   ],
   "source": [
    "modelledtides.index.hour"
   ]
  },
  {
   "cell_type": "code",
   "execution_count": null,
   "metadata": {},
   "outputs": [],
   "source": []
  }
 ],
 "metadata": {
  "kernelspec": {
   "display_name": "Python 3",
   "language": "python",
   "name": "python3"
  },
  "language_info": {
   "codemirror_mode": {
    "name": "ipython",
    "version": 3
   },
   "file_extension": ".py",
   "mimetype": "text/x-python",
   "name": "python",
   "nbconvert_exporter": "python",
   "pygments_lexer": "ipython3",
   "version": "3.6.9"
  }
 },
 "nbformat": 4,
 "nbformat_minor": 4
}
