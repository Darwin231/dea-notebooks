{
 "cells": [
  {
   "cell_type": "markdown",
   "id": "1355fcab-4651-4dd2-bb4f-78c5467df388",
   "metadata": {},
   "source": [
    "# Validate C3 FC against field data"
   ]
  },
  {
   "cell_type": "markdown",
   "id": "34daa195-cff4-4f1f-be7e-eb88378d57ba",
   "metadata": {},
   "source": [
    "## Background"
   ]
  },
  {
   "cell_type": "markdown",
   "id": "3035ec81-3fb1-44c0-93d7-f3ce37d33931",
   "metadata": {},
   "source": [
    "Field measurements of ground cover are taken using the SLATS Star transect protocol https://www.researchgate.net/publication/236022381_Field_measurement_of_fractional_ground_cover and stored in the TERN SLATS database.  https://portal.tern.org.au/slats-star-transects-field-sites/23207 "
   ]
  },
  {
   "cell_type": "markdown",
   "id": "c138d5ef-cfb4-4092-8e06-6c4c496f1955",
   "metadata": {},
   "source": [
    "Pseudocode:\n",
    "- get field data\n",
    "- load FC for 50 m around field data points\n",
    "- compare"
   ]
  },
  {
   "cell_type": "code",
   "execution_count": null,
   "id": "836db7d7-4766-49da-a862-61b79a5a7d44",
   "metadata": {},
   "outputs": [],
   "source": [
    "import pandas as pd\n",
    "import geopandas as gpd"
   ]
  },
  {
   "cell_type": "code",
   "execution_count": 4,
   "id": "512f7247-9245-46eb-a00b-c755914dc748",
   "metadata": {},
   "outputs": [
    {
     "ename": "NameError",
     "evalue": "name 'pd' is not defined",
     "output_type": "error",
     "traceback": [
      "\u001b[0;31m---------------------------------------------------------------------------\u001b[0m",
      "\u001b[0;31mNameError\u001b[0m                                 Traceback (most recent call last)",
      "\u001b[0;32m/tmp/ipykernel_128/2064000576.py\u001b[0m in \u001b[0;36m<module>\u001b[0;34m\u001b[0m\n\u001b[1;32m      1\u001b[0m \u001b[0;31m# Load star_transects field data\u001b[0m\u001b[0;34m\u001b[0m\u001b[0;34m\u001b[0m\u001b[0;34m\u001b[0m\u001b[0m\n\u001b[0;32m----> 2\u001b[0;31m \u001b[0mfield_data\u001b[0m \u001b[0;34m=\u001b[0m \u001b[0mpd\u001b[0m\u001b[0;34m.\u001b[0m\u001b[0mread_csv\u001b[0m\u001b[0;34m(\u001b[0m\u001b[0;34m'star_transects.csv'\u001b[0m\u001b[0;34m)\u001b[0m\u001b[0;34m\u001b[0m\u001b[0;34m\u001b[0m\u001b[0m\n\u001b[0m",
      "\u001b[0;31mNameError\u001b[0m: name 'pd' is not defined"
     ]
    }
   ],
   "source": [
    "# Load star_transects field data \n",
    "field_data = gpd.read_file('star_transects.csv',"
   ]
  },
  {
   "cell_type": "code",
   "execution_count": null,
   "id": "ce5b94bc-4951-4cf4-aaa5-13a4d67af0be",
   "metadata": {},
   "outputs": [],
   "source": []
  }
 ],
 "metadata": {
  "kernelspec": {
   "display_name": "Python 3 (ipykernel)",
   "language": "python",
   "name": "python3"
  },
  "language_info": {
   "codemirror_mode": {
    "name": "ipython",
    "version": 3
   },
   "file_extension": ".py",
   "mimetype": "text/x-python",
   "name": "python",
   "nbconvert_exporter": "python",
   "pygments_lexer": "ipython3",
   "version": "3.8.10"
  }
 },
 "nbformat": 4,
 "nbformat_minor": 5
}
