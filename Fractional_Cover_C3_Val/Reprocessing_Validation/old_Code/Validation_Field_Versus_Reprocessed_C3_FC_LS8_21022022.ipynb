{
 "cells": [
  {
   "cell_type": "markdown",
   "metadata": {},
   "source": [
    "# Compare Fractional Cover to the reprocessed FC "
   ]
  },
  {
   "cell_type": "markdown",
   "metadata": {},
   "source": [
    "# Background"
   ]
  },
  {
   "cell_type": "markdown",
   "metadata": {},
   "source": [
    "2022 Update:\n",
    "We are running this notebook to check that the reprocessed FC in 02/2022 will improve the alignment of Landsat 8 FC with Landsat 5 and 7 FC. Discrepancies were observed after the first full DEA Collection 3 Landsat Vegetation Fractional Cover processing.\n",
    "\n",
    "\n",
    "- This requires us to recalculate the FC to demonstrate the fix\n",
    "\n",
    "- This notebook will ideally demonstrate that the reprocessed FC aligns better with the field data and with LS 5 and LS 7 FC than the original FC C3 data did. \n",
    "\n",
    "- For reprocessed FC, take coefficients from here: https://github.com/GeoscienceAustralia/dea-config/blob/master/prod/services/alchemist/ga_ls_fc_3/ga_ls_fc_3.alchemist.yaml \n",
    "\n",
    "- the updated FC coefficients are applied after the first FC calculation. The first FC calculation is performed using the existing FC module. band * scale + interception will be good enough, e.g. bs * 0.9499 + 2.45 \n",
    "\n",
    " See https://github.com/GeoscienceAustralia/fc/pull/48/files\n",
    "extra_coefficients:\n",
    " \n",
    " bs:\n",
    " - 2.45\n",
    "- 0.9499\n",
    "\n",
    "pv:\n",
    "- 2.77\n",
    "- 0.9481\n",
    "\n",
    "npv:\n",
    "- -0.73\n",
    "- 0.9578 "
   ]
  },
  {
   "cell_type": "markdown",
   "metadata": {},
   "source": [
    "# Description"
   ]
  },
  {
   "cell_type": "markdown",
   "metadata": {},
   "source": [
    "- Find field data; this field data is the Star transects from [the JRSRP geoserver wfs service](https://field-geoserver.jrsrp.com/geoserver/aus/wfs?service=wfs&version=1.1.0&request=GetFeature&typeNames=aus:star_transects&outputFormat=csv) which can be visualised through [the TERN Landscapes-JRSRP Field Data Portal](https://field.jrsrp.com/) and is available as a csv\n",
    "- Load corresponding surface reflectance from datacube or save file\n",
    "- Calculate FC and compare to field data using scikit-learn"
   ]
  },
  {
   "cell_type": "markdown",
   "metadata": {},
   "source": [
    "## Install additional packages before running this notebook the first time"
   ]
  },
  {
   "cell_type": "markdown",
   "metadata": {},
   "source": [
    "The FC repository is used in this notebook to calculate DEA Fractional Cover. \n",
    "- I cloned the fractional cover repository https://github.com/GeoscienceAustralia/fc into ~/dev/fc on 07/02/2022 before PR #48 implemented (Emma's fix of ls8 fc coefficients to deal with changes in the Collection Upgrade of DEA data from Collection 2 to Collection 3 Landsat data).\n",
    "- To install the fractional cover module, I ran `#!pip install --extra-index-url=https://packages.dea.ga.gov.au/ fc` on 07/02/2022 (prior to PR #48 being approved)\n",
    "- If you have not installed the fractional cover module, you will need to do so before running this notebook. This can be completed either by cloning the FC module as I did above or by running the command in the cell below, as I use in this notebook following instructions in the `~/dev/fc/README.rst` file"
   ]
  },
  {
   "cell_type": "code",
   "execution_count": 1,
   "metadata": {},
   "outputs": [],
   "source": [
    "#!pip install --extra-index-url=https://packages.dea.ga.gov.au/ fc"
   ]
  },
  {
   "cell_type": "code",
   "execution_count": 2,
   "metadata": {
    "tags": []
   },
   "outputs": [],
   "source": [
    "#!pip install dea-tools"
   ]
  },
  {
   "cell_type": "markdown",
   "metadata": {},
   "source": [
    "# Getting started\n",
    "\n",
    "\n",
    "To run this analysis, choose the satellite you are comparing to the field data in the next cell by uncommenting its name \n",
    "e.g. `sensor_name = 'Landsat 8'`\n",
    "Then run all the cells in the notebook, starting with the \"Define sensor name\" cell."
   ]
  },
  {
   "cell_type": "markdown",
   "metadata": {},
   "source": [
    "Choose which sensor we are comparing to the field data"
   ]
  },
  {
   "cell_type": "markdown",
   "metadata": {},
   "source": [
    "## Define sensor name\n",
    "Choose which satellite to compare to field data"
   ]
  },
  {
   "cell_type": "code",
   "execution_count": 3,
   "metadata": {},
   "outputs": [],
   "source": [
    "sensor_name = 'Landsat 8'"
   ]
  },
  {
   "cell_type": "code",
   "execution_count": 4,
   "metadata": {},
   "outputs": [],
   "source": [
    "sensor_config = {'Landsat 8':\n",
    "                 {'startdate':'2013-03-01', \n",
    "                  'product':'ga_ls8c_ard_3', \n",
    "                  'bands':['nbart_green','nbart_red','nbart_nir','nbart_swir_1','nbart_swir_2'],\n",
    "                  'resolution':(-30,30), \n",
    "                  'fc_coefficients': {'blue': [0.00041*1e4, 0.9747], \n",
    "                                      'green': [0.00289*1e4, 0.99779], \n",
    "                                      'red': [0.00274*1e4, 1.00446],\n",
    "                                      'nir': [4e-05*1e4, 0.98906], \n",
    "                                      'swir1': [0.00256*1e4, 0.99467], \n",
    "                                      'swir2': [-0.00327*1e4, 1.02551]}   \n",
    "                             }}"
   ]
  },
  {
   "cell_type": "markdown",
   "metadata": {},
   "source": [
    "## Load packages"
   ]
  },
  {
   "cell_type": "code",
   "execution_count": 5,
   "metadata": {},
   "outputs": [],
   "source": [
    "%matplotlib inline \n",
    "\n",
    "import datacube\n",
    "from fc.fractional_cover import compute_fractions\n",
    "\n",
    "import warnings; warnings.simplefilter('ignore')\n",
    "import sys\n",
    "\n",
    "#import dea-tools module - this should have been pip-installed earlier\n",
    "#sys.path.insert(1, '../../../Tools/') #this may need moving later\n",
    "from dea_tools.datahandling import load_ard\n",
    "\n",
    "import numpy as np\n",
    "import xarray as xr\n",
    "import pandas as pd\n",
    "import geopandas as gpd\n",
    "from matplotlib import pyplot as plt\n",
    "from matplotlib import gridspec \n",
    "from shapely import wkt\n",
    "\n",
    "from sklearn import linear_model\n",
    "from sklearn.metrics import mean_squared_error, r2_score\n",
    "from scipy.stats import pearsonr, spearmanr, kendalltau\n",
    "import warnings\n",
    "\n",
    "# instantiate a datacube\n",
    "dc = datacube.Datacube()"
   ]
  },
  {
   "cell_type": "markdown",
   "metadata": {},
   "source": [
    "### Define a function to compute the fractional covers as viewed by the satellite for the site\n"
   ]
  },
  {
   "cell_type": "code",
   "execution_count": 6,
   "metadata": {},
   "outputs": [],
   "source": [
    "# Function to compute the fractional covers as viewed by the satellite for the site\n",
    "# Required a site properties object\n",
    "\n",
    "def fractionalCoverSatView(siteProperties):\n",
    "    '''equations to calculate fractional cover from the csv data'''\n",
    "    nTotal = siteProperties['num_points']\n",
    "    \n",
    "    # Canopy Layer\n",
    "    nCanopyBranch = siteProperties['over_b'] * nTotal / 100.0\n",
    "    nCanopyDead = siteProperties['over_d'] * nTotal / 100.0\n",
    "    nCanopyGreen = siteProperties['over_g'] * nTotal / 100.0\n",
    "    \n",
    "    # Midstory Layer\n",
    "    nMidBranch = siteProperties['mid_b'] * nTotal / 100.0\n",
    "    nMidGreen = siteProperties['mid_g'] * nTotal / 100.0\n",
    "    nMidDead = siteProperties['mid_d'] * nTotal / 100.0\n",
    "    \n",
    "    # Ground Layer\n",
    "    nGroundDeadLitter = (siteProperties['dead'] + siteProperties['litter']) * nTotal / 100.0\n",
    "    nGroundCrustDistRock = (siteProperties['crust'] + siteProperties['dist'] + siteProperties['rock']) * nTotal / 100.0\n",
    "    nGroundGreen = siteProperties['green'] * nTotal / 100.0\n",
    "    nGroundCrypto = siteProperties['crypto'] * nTotal / 100.0\n",
    "    \n",
    "    # Work out the canopy elements as viewed from above\n",
    "    canopyFoliageProjectiveCover = nCanopyGreen / (nTotal - nCanopyBranch)\n",
    "    canopyDeadProjectiveCover = nCanopyDead / (nTotal - nCanopyBranch)\n",
    "    canopyBranchProjectiveCover = nCanopyBranch / nTotal * (1.0 - canopyFoliageProjectiveCover - canopyDeadProjectiveCover)\n",
    "    canopyPlantProjectiveCover = (nCanopyGreen+nCanopyDead + nCanopyBranch) / nTotal\n",
    "    \n",
    "    # Work out the midstorey fractions\n",
    "    midFoliageProjectiveCover = nMidGreen / nTotal\n",
    "    midDeadProjectiveCover = nMidDead / nTotal\n",
    "    midBranchProjectiveCover = nMidBranch / nTotal\n",
    "    midPlantProjectiveCover = (nMidGreen + nMidDead + nMidBranch) / nTotal\n",
    "    \n",
    "    # Work out the midstorey  elements as viewed by the satellite using a gap fraction method\n",
    "    satMidFoliageProjectiveCover = midFoliageProjectiveCover * (1 - canopyPlantProjectiveCover)\n",
    "    satMidDeadProjectiveCover = midDeadProjectiveCover * (1 - canopyPlantProjectiveCover)\n",
    "    satMidBranchProjectiveCover = midBranchProjectiveCover * (1 - canopyPlantProjectiveCover)\n",
    "    satMidPlantProjectiveCover = midPlantProjectiveCover * (1 - canopyPlantProjectiveCover)\n",
    "    \n",
    "    # Work out the groundcover fractions as seen by the observer\n",
    "    groundPVCover = nGroundGreen / nTotal\n",
    "    groundNPVCover = nGroundDeadLitter / nTotal\n",
    "    groundBareCover = nGroundCrustDistRock / nTotal\n",
    "    groundCryptoCover = nGroundCrypto / nTotal\n",
    "    groundTotalCover = (nGroundGreen + nGroundDeadLitter + nGroundCrustDistRock) / nTotal\n",
    "    \n",
    "    # Work out the ground cover proportions as seen by the satellite\n",
    "    satGroundPVCover = groundPVCover * (1 - midPlantProjectiveCover) * (1 - canopyPlantProjectiveCover)\n",
    "    satGroundNPVCover = groundNPVCover * ( 1- midPlantProjectiveCover) * (1 - canopyPlantProjectiveCover)\n",
    "    satGroundBareCover = groundBareCover * (1 - midPlantProjectiveCover) * (1 - canopyPlantProjectiveCover)\n",
    "    satGroundCryptoCover = groundCryptoCover * (1 - midPlantProjectiveCover) * (1 - canopyPlantProjectiveCover)\n",
    "    satGroundTotalCover = groundTotalCover * (1 - midPlantProjectiveCover) * (1 - canopyPlantProjectiveCover)\n",
    "    \n",
    "    # Final total covers calculated using gap probabilities through all layers\n",
    "    totalPVCover = canopyFoliageProjectiveCover + satMidFoliageProjectiveCover + satGroundPVCover\n",
    "    totalNPVCover = canopyDeadProjectiveCover + canopyBranchProjectiveCover + satMidDeadProjectiveCover + satMidBranchProjectiveCover + satGroundNPVCover\n",
    "    totalBareCover = satGroundBareCover\n",
    "    totalCryptoCover = satGroundCryptoCover\n",
    "    \n",
    "    return np.array([totalPVCover,totalNPVCover+totalCryptoCover,totalBareCover])"
   ]
  },
  {
   "cell_type": "markdown",
   "metadata": {},
   "source": [
    "### C3 Reprocessing coefficients for updated FC C3 computation for Landsat 8"
   ]
  },
  {
   "cell_type": "code",
   "execution_count": 7,
   "metadata": {},
   "outputs": [],
   "source": [
    "#extra fc coefficients updated as per https://github.com/GeoscienceAustralia/dea-config/blob/master/prod/services/alchemist/ga_ls_fc_3/ga_ls_fc_3.alchemist.yaml . Ran into a namespace issue, do not call these' fc_coefficients'\n",
    "extra_coefficients = {'bs':[2.45, 0.9499],\n",
    "                   'pv':[2.77, 0.9481],\n",
    "                   'npv':[-0.73, 0.9578]}                   "
   ]
  },
  {
   "cell_type": "code",
   "execution_count": 16,
   "metadata": {},
   "outputs": [],
   "source": [
    "# compute FC \n",
    "def compute_fc(input_ds, regression_coefficients):\n",
    "    '''takes input dataset and multiplies by regression coefficients to compute fractional cover.\n",
    "    returns an xarray DataArray with pv,npv,bs,ue bands'''\n",
    "    \n",
    "    input_data = input_ds.to_array().data\n",
    "    is_valid_array= (input_data >0).all(axis=0)\n",
    "    # Set nodata to 0                                                       \n",
    "    input_data[:, ~is_valid_array] = 0\n",
    "    # compute fractional_cover\n",
    "    output_data = compute_fractions(input_data, regression_coefficients)\n",
    "    output_data[:, ~is_valid_array] = -1\n",
    "    return xr.DataArray(output_data, dims=('band','y','x'),\n",
    "                        coords={'x':input_ds.x, 'y':input_ds.y, 'band':['pv', 'npv', 'bs', 'ue']})"
   ]
  },
  {
   "cell_type": "code",
   "execution_count": null,
   "metadata": {},
   "outputs": [],
   "source": [
    "#sensor_config_spec = sensor_config[sensor_name]"
   ]
  },
  {
   "cell_type": "code",
   "execution_count": null,
   "metadata": {},
   "outputs": [],
   "source": [
    "# #test values\n",
    "\n",
    "# plot_rad = 50\n",
    "# window_days = 15\n",
    "# #row =field.loc[15]"
   ]
  },
  {
   "cell_type": "code",
   "execution_count": null,
   "metadata": {},
   "outputs": [],
   "source": [
    "# # nodata default to return in case no data matches the chosen window around the field observation\n",
    "# fc_dict = {'fc_time': '', 'pv': -1, 'npv': -1, 'bs': -1, 'pv_std': -1, 'npv_std': -1, 'bs_std': -1 }\n",
    "\n",
    "# # define search - grab near observations in space and time\n",
    "# x = row.geometry.x - plot_rad, row.geometry.x + plot_rad\n",
    "# y = row.geometry.y - plot_rad, row.geometry.y + plot_rad\n",
    "# time = (str(np.datetime64(row.obs_time) - np.timedelta64(window_days,'D')),\n",
    "#         str(np.datetime64(row.obs_time) + np.timedelta64(window_days,'D'))\n",
    "#        )\n",
    "\n",
    "# #use a reusable query dictionary\n",
    "# query = {'measurements':sensor_config_spec['bands'],\n",
    "#          'group_by':'solar_day',\n",
    "#          'x' : x, \n",
    "#          'y' : y,  \n",
    "#          'time' : time, \n",
    "#          'crs' : 'EPSG:3577', #this defines the crs of the input query\n",
    "#          'resolution' : sensor_config_spec['resolution'],\n",
    "#          'output_crs' : 'EPSG:3577'}          \n",
    "\n",
    "# try: \n",
    "#     #need to test if load_ard will return data here, as the alternative is that the data is not returned\n",
    "#     nbart = load_ard(dc,\n",
    "#         products = [sensor_config_spec['product']], #need square brackets to deliver as a list\n",
    "#         min_gooddata=1, #need all valid pixels for the comparison\n",
    "#         fmask_categories=['valid'], #don't want snow or water in fractional cover comparison\n",
    "#         mask_pixel_quality=True, #this could give us some issues with dtype later on\n",
    "#         mask_contiguity='nbart_contiguity',\n",
    "#         ls7_slc_off=True,\n",
    "#         **query); #suppress output for this function to save printing space\n",
    "\n",
    "# except ValueError:\n",
    "#     print(f\"No data found at {x},{y},{time}\")\n",
    "#     #return fc_dict\n",
    "\n",
    "# # If there aren't any results, this function will return nodata values.\n",
    "# #if len(nbart.time) == 0: return fc_dict\n",
    "\n",
    "# ### choose the closest clear timestep to keep\n",
    "\n",
    "# # only keep closest time\n",
    "# nbart = nbart.isel(time=[np.abs(nbart.time-np.datetime64(row.obs_time)).argmin()])"
   ]
  },
  {
   "cell_type": "code",
   "execution_count": null,
   "metadata": {},
   "outputs": [],
   "source": [
    "# # compute FC\n",
    "# fc = nbart.groupby('time').apply(compute_fc,\n",
    "#                                  regression_coefficients = sensor_config_spec['fc_coefficients'],\n",
    "#                                 ).to_dataset(dim='band')"
   ]
  },
  {
   "cell_type": "code",
   "execution_count": null,
   "metadata": {},
   "outputs": [],
   "source": [
    "# fc"
   ]
  },
  {
   "cell_type": "code",
   "execution_count": null,
   "metadata": {},
   "outputs": [],
   "source": [
    "# extra_coefficients = {'bs':[2.45, 0.9499],\n",
    "#                    'pv':[2.77, 0.9481],\n",
    "#                    'npv':[-0.73, 0.9578]}   "
   ]
  },
  {
   "cell_type": "code",
   "execution_count": null,
   "metadata": {},
   "outputs": [],
   "source": [
    "# def fc_update_func(x, band):\n",
    "#     '''x is a numpy array as one of the bands from the original dataset, band is one of bs, npv, pv as a string.\n",
    "#     This function is applied as an xarray.ufunc'''\n",
    "#     if band is 'bs':\n",
    "#         x2 = (x*0.9499)+2.45\n",
    "#         print(f'calculating scaled FC for {band}')\n",
    "#     if band is 'pv':\n",
    "#         x2 = (x*0.9481)+2.77\n",
    "#         print(f'calculating scaled FC for {band}')\n",
    "#     if band is 'npv':\n",
    "#         x2 = (x*0.9578)-0.73\n",
    "#         print(f'calculating scaled FC for {band}')\n",
    "#     if band is 'ue':\n",
    "#         warnings.warn('this function doesn\\'t work on UE')\n",
    "#     return x2"
   ]
  },
  {
   "cell_type": "code",
   "execution_count": null,
   "metadata": {},
   "outputs": [],
   "source": [
    "# fc"
   ]
  },
  {
   "cell_type": "code",
   "execution_count": null,
   "metadata": {},
   "outputs": [],
   "source": [
    "# #This is not working, becuase it's applying the equation to all the bands not just one band \n",
    "# #change function to apply to a dataset not to a numpy array. THis is why the original example broke, we weren't using a good dataset to test on. \n",
    "\n",
    "# new2 = fc.groupby('time').apply(fc_update_func, band='bs')\n",
    "# new3 = new2.groupby('time').apply(fc_update_func, band='npv')\n",
    "# new4 = new3.groupby('time').apply(fc_update_func, band='pv')"
   ]
  },
  {
   "cell_type": "code",
   "execution_count": null,
   "metadata": {},
   "outputs": [],
   "source": [
    "# new3"
   ]
  },
  {
   "cell_type": "code",
   "execution_count": null,
   "metadata": {},
   "outputs": [],
   "source": [
    "# new = xr.apply_ufunc(fc_update_func, fc.npv, 'npv')\n",
    "# new   "
   ]
  },
  {
   "cell_type": "markdown",
   "metadata": {},
   "source": [
    "compute the updated FC"
   ]
  },
  {
   "cell_type": "code",
   "execution_count": null,
   "metadata": {},
   "outputs": [],
   "source": [
    "# fc.bs * 10\n"
   ]
  },
  {
   "cell_type": "code",
   "execution_count": null,
   "metadata": {},
   "outputs": [],
   "source": [
    "#     # take average and standard deviations\n",
    "# fc_mean = fc.where(fc>=0).groupby('time').mean(dim=['x','y'])\n",
    "# fc_std = fc.where(fc>=0).groupby('time').std(dim=['x','y'])"
   ]
  },
  {
   "cell_type": "code",
   "execution_count": null,
   "metadata": {},
   "outputs": [],
   "source": [
    "# # compute FC - update with new extra_coefficients\n",
    "# def compute_fc(input_ds, regression_coefficients):#, extra_coefficients):\n",
    "#     '''takes input dataset and multiplies by regression coefficients to compute fractional cover.\n",
    "#     returns an xarray DataArray with pv,npv,bs,ue bands'''\n",
    "    \n",
    "#     input_data = input_ds.to_array().data\n",
    "#     is_valid_array= (input_data >0).all(axis=0)\n",
    "#     # Set nodata to 0                                                       \n",
    "#     input_data[:, ~is_valid_array] = 0\n",
    "#     # compute fractional_cover\n",
    "#     output_data = compute_fractions(input_data, regression_coefficients)\n",
    "#     output_data[:, ~is_valid_array] = -1\n",
    "      \n",
    "#     xr_output = xr.Dataset(output_data, dims=('band','y','x'),\n",
    "#                         coords={'x':input_ds.x, 'y':input_ds.y, 'band':['pv', 'npv', 'bs', 'ue']})\n",
    "#     return xr_output"
   ]
  },
  {
   "cell_type": "code",
   "execution_count": 8,
   "metadata": {},
   "outputs": [],
   "source": [
    "# calculate fractional cover from surface reflectance\n",
    "def SatfractionalCover(row, sensor_config = sensor_config[sensor_name], plot_rad = 50, window_days = 15):\n",
    "    '''this finds data within 15 days of an observation and 50 ??? of an observation'''\n",
    "\n",
    "    # nodata default to return in case no data matches the chosen window around the field observation\n",
    "    fc_dict = {'fc_time': '', 'pv': -1, 'npv': -1, 'bs': -1, 'pv_std': -1, 'npv_std': -1, 'bs_std': -1 }\n",
    "\n",
    "    # define search - grab near observations in space and time\n",
    "    x = row.geometry.x - plot_rad, row.geometry.x + plot_rad\n",
    "    y = row.geometry.y - plot_rad, row.geometry.y + plot_rad\n",
    "    time = (str(np.datetime64(row.obs_time) - np.timedelta64(window_days,'D')),\n",
    "            str(np.datetime64(row.obs_time) + np.timedelta64(window_days,'D'))\n",
    "           )\n",
    "\n",
    "    #use a reusable query dictionary\n",
    "    query = {'measurements':sensor_config['bands'],\n",
    "             'group_by':'solar_day',\n",
    "             'x' : x, \n",
    "             'y' : y,  \n",
    "             'time' : time, \n",
    "             'crs' : 'EPSG:3577', #this defines the crs of the input query\n",
    "             'resolution' : sensor_config['resolution'],\n",
    "             'output_crs' : 'EPSG:3577'}          \n",
    "\n",
    "    try: \n",
    "        #need to test if load_ard will return data here, as the alternative is that the data is not returned\n",
    "        nbart = load_ard(dc,\n",
    "            products = [sensor_config['product']], #need square brackets to deliver as a list\n",
    "            min_gooddata=1, #need all valid pixels for the comparison\n",
    "            fmask_categories=['valid'], #don't want snow or water in fractional cover comparison\n",
    "            mask_pixel_quality=True, #this could give us some issues with dtype later on\n",
    "            mask_contiguity='nbart_contiguity',\n",
    "            ls7_slc_off=True,\n",
    "            **query); #suppress output for this function to save printing space\n",
    "        \n",
    "    except ValueError:\n",
    "        print(f\"No data found at {x},{y},{time}\")\n",
    "        return fc_dict\n",
    "    \n",
    "    # If there aren't any results, this function will return nodata values.\n",
    "    if len(nbart.time) == 0: return fc_dict\n",
    "\n",
    "    ### choose the closest clear timestep to keep\n",
    "\n",
    "    # only keep closest time\n",
    "    nbart = nbart.isel(time=[np.abs(nbart.time-np.datetime64(row.obs_time)).argmin()])\n",
    "\n",
    "    # compute FC\n",
    "    fc = nbart.groupby('time').apply(compute_fc,\n",
    "                                     regression_coefficients = sensor_config['fc_coefficients'],\n",
    "                                    ).to_dataset(dim='band')\n",
    "\n",
    "        # take average and standard deviations\n",
    "    fc_mean = fc.where(fc>=0).groupby('time').mean(dim=['x','y'])\n",
    "    fc_std = fc.where(fc>=0).groupby('time').std(dim=['x','y'])\n",
    "\n",
    "    fc_dict['fc_time'] = fc.time.values[0].astype(str)\n",
    "    for var_name in fc_mean.data_vars:\n",
    "        fc_dict[var_name.lower()] = fc_mean[var_name].values[0]\n",
    "        fc_dict[var_name.lower()+'_std'] = fc_std[var_name].values[0]\n",
    "        \n",
    "    return fc_dict"
   ]
  },
  {
   "cell_type": "code",
   "execution_count": 9,
   "metadata": {},
   "outputs": [],
   "source": [
    "# select good pixels using pixel quality\n",
    "def ls_good(pq):\n",
    "    return masking.make_mask(pq, cloud_acca = \"no_cloud\", cloud_fmask = \"no_cloud\",\n",
    "                             cloud_shadow_acca = \"no_cloud_shadow\",\n",
    "                             cloud_shadow_fmask = \"no_cloud_shadow\",\n",
    "                             contiguous = True)\n",
    "def s2_good(pq):\n",
    "    return pq == 1"
   ]
  },
  {
   "cell_type": "markdown",
   "metadata": {},
   "source": [
    "## Set up the query for each sensor "
   ]
  },
  {
   "cell_type": "markdown",
   "metadata": {},
   "source": [
    "### Load field data in from csv -modify here to get all rows of data when not testing"
   ]
  },
  {
   "cell_type": "code",
   "execution_count": null,
   "metadata": {},
   "outputs": [],
   "source": [
    "# Load star_transects field data \n",
    "#field = pd.read_csv('star_transects.csv')"
   ]
  },
  {
   "cell_type": "code",
   "execution_count": 10,
   "metadata": {},
   "outputs": [],
   "source": [
    "# read field data from file into 'field' dataframe and create a geopandas geodataframe of all the points\n",
    "field=pd.read_csv('star_transects.csv', nrows=200) #testing with 100 rows as 10 was too few to get valid observations\n",
    "field['geometry'] = field.geom.apply(wkt.loads)\n",
    "field = gpd.GeoDataFrame(field)"
   ]
  },
  {
   "cell_type": "code",
   "execution_count": 11,
   "metadata": {},
   "outputs": [],
   "source": [
    "#field data comes in in WGS84\n",
    "field.crs = {'init': 'EPSG:4326'}\n",
    "\n",
    "#transform to Australian Albers Equal Area \n",
    "field = field.to_crs({'init':'EPSG:3577'})"
   ]
  },
  {
   "cell_type": "code",
   "execution_count": 12,
   "metadata": {},
   "outputs": [],
   "source": [
    "# Filter data by date - get dates later than the first observation of the satellite\n",
    "field = field.loc[field['obs_time'] > sensor_config[sensor_name]['startdate']]"
   ]
  },
  {
   "cell_type": "markdown",
   "metadata": {},
   "source": [
    "### Calculate field measured fractions"
   ]
  },
  {
   "cell_type": "code",
   "execution_count": 13,
   "metadata": {},
   "outputs": [],
   "source": [
    "# Calculate field measured fractions\n",
    "field = field.merge(\n",
    "    field.apply(fractionalCoverSatView, axis=1, result_type= 'expand').rename(\n",
    "        columns = {0:'total_pv',1:'total_npv',2:'total_bs'}),\n",
    "    left_index=True, right_index=True)\n",
    "field = field[field.apply(lambda x: x['total_pv']+x['total_npv']+x['total_bs'], axis=1) >0.95]"
   ]
  },
  {
   "cell_type": "markdown",
   "metadata": {},
   "source": [
    "### Match to albers tiles to check distribution"
   ]
  },
  {
   "cell_type": "code",
   "execution_count": 14,
   "metadata": {},
   "outputs": [
    {
     "name": "stdout",
     "output_type": "stream",
     "text": [
      "Total number of data points is 14\n",
      "Largest number of data points in a tile is 4\n"
     ]
    }
   ],
   "source": [
    "# Match to albers tiles to check distribution\n",
    "albers_tiles = gpd.read_file('../Validation_against_field_data/Albers_Australia_Coast_and_Islands.shp')\n",
    "albers_tiles.crs = {'init':'EPSG:3577'}\n",
    "matched = gpd.sjoin(field, albers_tiles, how='inner', op = 'intersects')\n",
    "field_tiles = albers_tiles.merge(matched.groupby('label')['FID'].count().sort_values(ascending=False).to_frame('count').reset_index()\n",
    "    , on='label', how='right')\n",
    "print(\"Total number of data points is\",len(field))\n",
    "print(\"Largest number of data points in a tile is\", field_tiles.loc[field_tiles['count'].idxmax()]['count'])"
   ]
  },
  {
   "cell_type": "markdown",
   "metadata": {},
   "source": [
    "### Visual check of field data distribution"
   ]
  },
  {
   "cell_type": "code",
   "execution_count": 15,
   "metadata": {},
   "outputs": [
    {
     "data": {
      "image/png": "[encoded data removed]",
      "text/plain": [
       "<Figure size 720x216 with 3 Axes>"
      ]
     },
     "metadata": {
      "needs_background": "light"
     },
     "output_type": "display_data"
    }
   ],
   "source": [
    "# Visual check of field data distribution\n",
    "f, axes = plt.subplots(1, 2, figsize=(10,3))\n",
    "plt.suptitle('Density of field data (star transects per albers tile)', size =14)\n",
    "ax0 = field.plot(markersize=1, ax=axes[0])\n",
    "albers_tiles.plot(alpha=0.2, ax = ax0)\n",
    "levels = list(range(0,300,100))\n",
    "ax1 =field_tiles.plot(column='count', cmap = 'viridis', ax=axes[1], legend=True)\n",
    "albers_tiles.plot(alpha=0.2, ax = ax1)\n",
    "None"
   ]
  },
  {
   "cell_type": "markdown",
   "metadata": {},
   "source": [
    "### calculate fractional cover for satellite observations"
   ]
  },
  {
   "cell_type": "code",
   "execution_count": 17,
   "metadata": {},
   "outputs": [
    {
     "name": "stdout",
     "output_type": "stream",
     "text": [
      "Finding datasets\n",
      "    ga_ls8c_ard_3\n",
      "Counting good quality pixels for each time step\n"
     ]
    },
    {
     "name": "stderr",
     "output_type": "stream",
     "text": [
      "CPLReleaseMutex: Error = 1 (Operation not permitted)\n"
     ]
    },
    {
     "name": "stdout",
     "output_type": "stream",
     "text": [
      "Filtering to 2 out of 4 time steps with at least 100.0% good quality pixels\n",
      "Applying pixel quality/cloud mask\n",
      "Applying contiguity mask\n",
      "Loading 2 time steps\n",
      "Finding datasets\n",
      "    ga_ls8c_ard_3\n",
      "Counting good quality pixels for each time step\n",
      "Filtering to 0 out of 2 time steps with at least 100.0% good quality pixels\n",
      "Applying pixel quality/cloud mask\n",
      "Applying contiguity mask\n",
      "Loading 0 time steps\n",
      "Finding datasets\n",
      "    ga_ls8c_ard_3\n",
      "Counting good quality pixels for each time step\n",
      "Filtering to 4 out of 4 time steps with at least 100.0% good quality pixels\n",
      "Applying pixel quality/cloud mask\n",
      "Applying contiguity mask\n",
      "Loading 4 time steps\n",
      "Finding datasets\n",
      "    ga_ls8c_ard_3\n",
      "Counting good quality pixels for each time step\n",
      "Filtering to 2 out of 2 time steps with at least 100.0% good quality pixels\n",
      "Applying pixel quality/cloud mask\n",
      "Applying contiguity mask\n",
      "Loading 2 time steps\n",
      "Finding datasets\n",
      "    ga_ls8c_ard_3\n",
      "Counting good quality pixels for each time step\n",
      "Filtering to 1 out of 2 time steps with at least 100.0% good quality pixels\n",
      "Applying pixel quality/cloud mask\n",
      "Applying contiguity mask\n",
      "Loading 1 time steps\n",
      "Finding datasets\n",
      "    ga_ls8c_ard_3\n",
      "Counting good quality pixels for each time step\n",
      "Filtering to 2 out of 4 time steps with at least 100.0% good quality pixels\n",
      "Applying pixel quality/cloud mask\n",
      "Applying contiguity mask\n",
      "Loading 2 time steps\n",
      "Finding datasets\n",
      "    ga_ls8c_ard_3\n",
      "Counting good quality pixels for each time step\n",
      "Filtering to 2 out of 2 time steps with at least 100.0% good quality pixels\n",
      "Applying pixel quality/cloud mask\n",
      "Applying contiguity mask\n",
      "Loading 2 time steps\n",
      "Finding datasets\n",
      "    ga_ls8c_ard_3\n",
      "Counting good quality pixels for each time step\n",
      "Filtering to 0 out of 2 time steps with at least 100.0% good quality pixels\n",
      "Applying pixel quality/cloud mask\n",
      "Applying contiguity mask\n",
      "Loading 0 time steps\n",
      "Finding datasets\n",
      "    ga_ls8c_ard_3\n",
      "Counting good quality pixels for each time step\n",
      "Filtering to 2 out of 2 time steps with at least 100.0% good quality pixels\n",
      "Applying pixel quality/cloud mask\n",
      "Applying contiguity mask\n",
      "Loading 2 time steps\n",
      "Finding datasets\n",
      "    ga_ls8c_ard_3\n",
      "Counting good quality pixels for each time step\n",
      "Filtering to 1 out of 2 time steps with at least 100.0% good quality pixels\n",
      "Applying pixel quality/cloud mask\n",
      "Applying contiguity mask\n",
      "Loading 1 time steps\n",
      "Finding datasets\n",
      "    ga_ls8c_ard_3\n",
      "Counting good quality pixels for each time step\n",
      "Filtering to 3 out of 4 time steps with at least 100.0% good quality pixels\n",
      "Applying pixel quality/cloud mask\n",
      "Applying contiguity mask\n",
      "Loading 3 time steps\n",
      "Finding datasets\n",
      "    ga_ls8c_ard_3\n",
      "Counting good quality pixels for each time step\n",
      "Filtering to 2 out of 2 time steps with at least 100.0% good quality pixels\n",
      "Applying pixel quality/cloud mask\n",
      "Applying contiguity mask\n",
      "Loading 2 time steps\n",
      "Finding datasets\n",
      "    ga_ls8c_ard_3\n",
      "Counting good quality pixels for each time step\n",
      "Filtering to 2 out of 2 time steps with at least 100.0% good quality pixels\n",
      "Applying pixel quality/cloud mask\n",
      "Applying contiguity mask\n",
      "Loading 2 time steps\n",
      "Finding datasets\n",
      "    ga_ls8c_ard_3\n",
      "Counting good quality pixels for each time step\n",
      "Filtering to 1 out of 2 time steps with at least 100.0% good quality pixels\n",
      "Applying pixel quality/cloud mask\n",
      "Applying contiguity mask\n",
      "Loading 1 time steps\n",
      "CPU times: user 14.6 s, sys: 5.16 s, total: 19.7 s\n",
      "Wall time: 16.1 s\n"
     ]
    }
   ],
   "source": [
    "%%time\n",
    "# If there aren't any results, this function will return nodata values.\n",
    "fractions = field.apply(SatfractionalCover, axis=1, result_type = 'expand')"
   ]
  },
  {
   "cell_type": "markdown",
   "metadata": {},
   "source": [
    "### Compute Fractional Cover satellite data that matches the field site data"
   ]
  },
  {
   "cell_type": "code",
   "execution_count": 18,
   "metadata": {
    "tags": []
   },
   "outputs": [],
   "source": [
    "field = field.merge(fractions, how = 'inner', left_index=True, right_index=True)\n",
    "field = field[field['pv']>=0]"
   ]
  },
  {
   "cell_type": "code",
   "execution_count": 19,
   "metadata": {},
   "outputs": [
    {
     "data": {
      "text/html": [
       "<div>\n",
       "<style scoped>\n",
       "    .dataframe tbody tr th:only-of-type {\n",
       "        vertical-align: middle;\n",
       "    }\n",
       "\n",
       "    .dataframe tbody tr th {\n",
       "        vertical-align: top;\n",
       "    }\n",
       "\n",
       "    .dataframe thead th {\n",
       "        text-align: right;\n",
       "    }\n",
       "</style>\n",
       "<table border=\"1\" class=\"dataframe\">\n",
       "  <thead>\n",
       "    <tr style=\"text-align: right;\">\n",
       "      <th></th>\n",
       "      <th>FID</th>\n",
       "      <th>site</th>\n",
       "      <th>obs_time</th>\n",
       "      <th>longitude</th>\n",
       "      <th>latitude</th>\n",
       "      <th>live_basal_area</th>\n",
       "      <th>total_basal_area</th>\n",
       "      <th>persist</th>\n",
       "      <th>crust</th>\n",
       "      <th>dist</th>\n",
       "      <th>rock</th>\n",
       "      <th>green</th>\n",
       "      <th>dead</th>\n",
       "      <th>litter</th>\n",
       "      <th>crypto</th>\n",
       "      <th>mid_g</th>\n",
       "      <th>mid_d</th>\n",
       "      <th>mid_b</th>\n",
       "      <th>crn</th>\n",
       "      <th>over_g</th>\n",
       "      <th>over_d</th>\n",
       "      <th>over_b</th>\n",
       "      <th>num_points</th>\n",
       "      <th>unoccluded</th>\n",
       "      <th>obs_key</th>\n",
       "      <th>geom</th>\n",
       "      <th>geometry</th>\n",
       "      <th>total_pv</th>\n",
       "      <th>total_npv</th>\n",
       "      <th>total_bs</th>\n",
       "      <th>fc_time</th>\n",
       "      <th>pv</th>\n",
       "      <th>npv</th>\n",
       "      <th>bs</th>\n",
       "      <th>pv_std</th>\n",
       "      <th>npv_std</th>\n",
       "      <th>bs_std</th>\n",
       "      <th>ue</th>\n",
       "      <th>ue_std</th>\n",
       "    </tr>\n",
       "  </thead>\n",
       "  <tbody>\n",
       "    <tr>\n",
       "      <th>15</th>\n",
       "      <td>star_transects.fid--4082306b_169795d9ed3_-1019</td>\n",
       "      <td>vic153</td>\n",
       "      <td>2014-01-21</td>\n",
       "      <td>142.9430</td>\n",
       "      <td>-35.4865</td>\n",
       "      <td>0.0000</td>\n",
       "      <td>NaN</td>\n",
       "      <td>0.00</td>\n",
       "      <td>0.00</td>\n",
       "      <td>15.50</td>\n",
       "      <td>0.00</td>\n",
       "      <td>0.00</td>\n",
       "      <td>31.00</td>\n",
       "      <td>53.50</td>\n",
       "      <td>0.0</td>\n",
       "      <td>0.00</td>\n",
       "      <td>0.0</td>\n",
       "      <td>0.00</td>\n",
       "      <td>0.00</td>\n",
       "      <td>0.0</td>\n",
       "      <td>0.0</td>\n",
       "      <td>0.00</td>\n",
       "      <td>200</td>\n",
       "      <td>200</td>\n",
       "      <td>14294295_03548648_20140121_000000</td>\n",
       "      <td>POINT (142.943 -35.4865)</td>\n",
       "      <td>POINT (990332.387 -3918651.670)</td>\n",
       "      <td>0.000000</td>\n",
       "      <td>0.845000</td>\n",
       "      <td>0.155000</td>\n",
       "      <td>2014-01-28T00:16:31.184708000</td>\n",
       "      <td>0.0000</td>\n",
       "      <td>66.3125</td>\n",
       "      <td>32.7500</td>\n",
       "      <td>0.000000</td>\n",
       "      <td>2.053008</td>\n",
       "      <td>2.136001</td>\n",
       "      <td>7.00</td>\n",
       "      <td>0.000000</td>\n",
       "    </tr>\n",
       "    <tr>\n",
       "      <th>24</th>\n",
       "      <td>star_transects.fid--4082306b_169795d9ed3_-1010</td>\n",
       "      <td>vic161</td>\n",
       "      <td>2014-01-23</td>\n",
       "      <td>142.4283</td>\n",
       "      <td>-35.3406</td>\n",
       "      <td>0.0000</td>\n",
       "      <td>NaN</td>\n",
       "      <td>0.00</td>\n",
       "      <td>5.50</td>\n",
       "      <td>25.00</td>\n",
       "      <td>0.00</td>\n",
       "      <td>2.50</td>\n",
       "      <td>18.00</td>\n",
       "      <td>49.00</td>\n",
       "      <td>0.0</td>\n",
       "      <td>0.00</td>\n",
       "      <td>0.0</td>\n",
       "      <td>0.00</td>\n",
       "      <td>0.00</td>\n",
       "      <td>0.0</td>\n",
       "      <td>0.0</td>\n",
       "      <td>0.00</td>\n",
       "      <td>200</td>\n",
       "      <td>200</td>\n",
       "      <td>14242832_03534062_20140123_000000</td>\n",
       "      <td>POINT (142.4283 -35.3406)</td>\n",
       "      <td>POINT (945180.571 -3898594.785)</td>\n",
       "      <td>0.025000</td>\n",
       "      <td>0.670000</td>\n",
       "      <td>0.305000</td>\n",
       "      <td>2014-01-19T00:22:20.530079000</td>\n",
       "      <td>1.1875</td>\n",
       "      <td>48.5625</td>\n",
       "      <td>48.9375</td>\n",
       "      <td>0.526634</td>\n",
       "      <td>3.259002</td>\n",
       "      <td>3.071416</td>\n",
       "      <td>6.00</td>\n",
       "      <td>0.353553</td>\n",
       "    </tr>\n",
       "    <tr>\n",
       "      <th>47</th>\n",
       "      <td>star_transects.fid--4082306b_169795d9ed3_-ff9</td>\n",
       "      <td>wa_yalgoo02</td>\n",
       "      <td>2014-06-24</td>\n",
       "      <td>116.9180</td>\n",
       "      <td>-28.6649</td>\n",
       "      <td>0.0000</td>\n",
       "      <td>NaN</td>\n",
       "      <td>2.33</td>\n",
       "      <td>55.33</td>\n",
       "      <td>7.00</td>\n",
       "      <td>9.67</td>\n",
       "      <td>13.00</td>\n",
       "      <td>1.67</td>\n",
       "      <td>11.33</td>\n",
       "      <td>2.0</td>\n",
       "      <td>2.33</td>\n",
       "      <td>0.0</td>\n",
       "      <td>0.33</td>\n",
       "      <td>0.33</td>\n",
       "      <td>0.0</td>\n",
       "      <td>0.0</td>\n",
       "      <td>0.33</td>\n",
       "      <td>300</td>\n",
       "      <td>300</td>\n",
       "      <td>11691800_02866486_20140624_000000</td>\n",
       "      <td>POINT (116.918 -28.6649)</td>\n",
       "      <td>POINT (-1453229.075 -3199475.207)</td>\n",
       "      <td>0.149348</td>\n",
       "      <td>0.152117</td>\n",
       "      <td>0.698535</td>\n",
       "      <td>2014-06-19T02:04:22.873542000</td>\n",
       "      <td>4.5625</td>\n",
       "      <td>60.3125</td>\n",
       "      <td>34.1250</td>\n",
       "      <td>6.864481</td>\n",
       "      <td>7.727538</td>\n",
       "      <td>3.159806</td>\n",
       "      <td>7.25</td>\n",
       "      <td>0.559017</td>\n",
       "    </tr>\n",
       "    <tr>\n",
       "      <th>50</th>\n",
       "      <td>star_transects.fid--4082306b_169795d9ed3_-ff6</td>\n",
       "      <td>saal_e_34</td>\n",
       "      <td>2014-05-29</td>\n",
       "      <td>140.6580</td>\n",
       "      <td>-27.8978</td>\n",
       "      <td>0.7143</td>\n",
       "      <td>NaN</td>\n",
       "      <td>2.03</td>\n",
       "      <td>43.67</td>\n",
       "      <td>1.33</td>\n",
       "      <td>0.00</td>\n",
       "      <td>2.33</td>\n",
       "      <td>17.67</td>\n",
       "      <td>35.00</td>\n",
       "      <td>0.0</td>\n",
       "      <td>0.00</td>\n",
       "      <td>0.0</td>\n",
       "      <td>0.00</td>\n",
       "      <td>5.67</td>\n",
       "      <td>2.0</td>\n",
       "      <td>0.0</td>\n",
       "      <td>1.33</td>\n",
       "      <td>300</td>\n",
       "      <td>300</td>\n",
       "      <td>14065798_02789775_20140529_000000</td>\n",
       "      <td>POINT (140.658 -27.8978)</td>\n",
       "      <td>POINT (841370.506 -3056061.289)</td>\n",
       "      <td>0.042794</td>\n",
       "      <td>0.522191</td>\n",
       "      <td>0.435015</td>\n",
       "      <td>2014-05-25T00:31:04.534926000</td>\n",
       "      <td>3.2500</td>\n",
       "      <td>50.9375</td>\n",
       "      <td>44.7500</td>\n",
       "      <td>1.952562</td>\n",
       "      <td>3.848194</td>\n",
       "      <td>3.092329</td>\n",
       "      <td>5.50</td>\n",
       "      <td>0.707107</td>\n",
       "    </tr>\n",
       "    <tr>\n",
       "      <th>59</th>\n",
       "      <td>star_transects.fid--4082306b_169795d9ed3_-fed</td>\n",
       "      <td>vic190</td>\n",
       "      <td>2014-05-01</td>\n",
       "      <td>142.4806</td>\n",
       "      <td>-35.4627</td>\n",
       "      <td>0.0000</td>\n",
       "      <td>NaN</td>\n",
       "      <td>0.00</td>\n",
       "      <td>22.00</td>\n",
       "      <td>14.50</td>\n",
       "      <td>0.00</td>\n",
       "      <td>0.50</td>\n",
       "      <td>6.00</td>\n",
       "      <td>57.00</td>\n",
       "      <td>0.0</td>\n",
       "      <td>0.00</td>\n",
       "      <td>0.0</td>\n",
       "      <td>0.00</td>\n",
       "      <td>0.00</td>\n",
       "      <td>0.0</td>\n",
       "      <td>0.0</td>\n",
       "      <td>0.00</td>\n",
       "      <td>200</td>\n",
       "      <td>200</td>\n",
       "      <td>14248058_03546270_20140501_000000</td>\n",
       "      <td>POINT (142.4806 -35.4627)</td>\n",
       "      <td>POINT (948798.246 -3912507.102)</td>\n",
       "      <td>0.005000</td>\n",
       "      <td>0.630000</td>\n",
       "      <td>0.365000</td>\n",
       "      <td>2014-04-25T00:21:02.689482000</td>\n",
       "      <td>0.0000</td>\n",
       "      <td>47.1500</td>\n",
       "      <td>51.9500</td>\n",
       "      <td>0.000000</td>\n",
       "      <td>2.761793</td>\n",
       "      <td>2.747271</td>\n",
       "      <td>10.10</td>\n",
       "      <td>0.538516</td>\n",
       "    </tr>\n",
       "  </tbody>\n",
       "</table>\n",
       "</div>"
      ],
      "text/plain": [
       "                                               FID         site    obs_time  \\\n",
       "15  star_transects.fid--4082306b_169795d9ed3_-1019       vic153  2014-01-21   \n",
       "24  star_transects.fid--4082306b_169795d9ed3_-1010       vic161  2014-01-23   \n",
       "47   star_transects.fid--4082306b_169795d9ed3_-ff9  wa_yalgoo02  2014-06-24   \n",
       "50   star_transects.fid--4082306b_169795d9ed3_-ff6    saal_e_34  2014-05-29   \n",
       "59   star_transects.fid--4082306b_169795d9ed3_-fed       vic190  2014-05-01   \n",
       "\n",
       "    longitude  latitude  live_basal_area  total_basal_area  persist  crust  \\\n",
       "15   142.9430  -35.4865           0.0000               NaN     0.00   0.00   \n",
       "24   142.4283  -35.3406           0.0000               NaN     0.00   5.50   \n",
       "47   116.9180  -28.6649           0.0000               NaN     2.33  55.33   \n",
       "50   140.6580  -27.8978           0.7143               NaN     2.03  43.67   \n",
       "59   142.4806  -35.4627           0.0000               NaN     0.00  22.00   \n",
       "\n",
       "     dist  rock  green   dead  litter  crypto  mid_g  mid_d  mid_b   crn  \\\n",
       "15  15.50  0.00   0.00  31.00   53.50     0.0   0.00    0.0   0.00  0.00   \n",
       "24  25.00  0.00   2.50  18.00   49.00     0.0   0.00    0.0   0.00  0.00   \n",
       "47   7.00  9.67  13.00   1.67   11.33     2.0   2.33    0.0   0.33  0.33   \n",
       "50   1.33  0.00   2.33  17.67   35.00     0.0   0.00    0.0   0.00  5.67   \n",
       "59  14.50  0.00   0.50   6.00   57.00     0.0   0.00    0.0   0.00  0.00   \n",
       "\n",
       "    over_g  over_d  over_b  num_points  unoccluded  \\\n",
       "15     0.0     0.0    0.00         200         200   \n",
       "24     0.0     0.0    0.00         200         200   \n",
       "47     0.0     0.0    0.33         300         300   \n",
       "50     2.0     0.0    1.33         300         300   \n",
       "59     0.0     0.0    0.00         200         200   \n",
       "\n",
       "                              obs_key                       geom  \\\n",
       "15  14294295_03548648_20140121_000000   POINT (142.943 -35.4865)   \n",
       "24  14242832_03534062_20140123_000000  POINT (142.4283 -35.3406)   \n",
       "47  11691800_02866486_20140624_000000   POINT (116.918 -28.6649)   \n",
       "50  14065798_02789775_20140529_000000   POINT (140.658 -27.8978)   \n",
       "59  14248058_03546270_20140501_000000  POINT (142.4806 -35.4627)   \n",
       "\n",
       "                             geometry  total_pv  total_npv  total_bs  \\\n",
       "15    POINT (990332.387 -3918651.670)  0.000000   0.845000  0.155000   \n",
       "24    POINT (945180.571 -3898594.785)  0.025000   0.670000  0.305000   \n",
       "47  POINT (-1453229.075 -3199475.207)  0.149348   0.152117  0.698535   \n",
       "50    POINT (841370.506 -3056061.289)  0.042794   0.522191  0.435015   \n",
       "59    POINT (948798.246 -3912507.102)  0.005000   0.630000  0.365000   \n",
       "\n",
       "                          fc_time      pv      npv       bs    pv_std  \\\n",
       "15  2014-01-28T00:16:31.184708000  0.0000  66.3125  32.7500  0.000000   \n",
       "24  2014-01-19T00:22:20.530079000  1.1875  48.5625  48.9375  0.526634   \n",
       "47  2014-06-19T02:04:22.873542000  4.5625  60.3125  34.1250  6.864481   \n",
       "50  2014-05-25T00:31:04.534926000  3.2500  50.9375  44.7500  1.952562   \n",
       "59  2014-04-25T00:21:02.689482000  0.0000  47.1500  51.9500  0.000000   \n",
       "\n",
       "     npv_std    bs_std     ue    ue_std  \n",
       "15  2.053008  2.136001   7.00  0.000000  \n",
       "24  3.259002  3.071416   6.00  0.353553  \n",
       "47  7.727538  3.159806   7.25  0.559017  \n",
       "50  3.848194  3.092329   5.50  0.707107  \n",
       "59  2.761793  2.747271  10.10  0.538516  "
      ]
     },
     "execution_count": 19,
     "metadata": {},
     "output_type": "execute_result"
    }
   ],
   "source": [
    "pd.set_option('display.max_columns', None)\n",
    "field.head()"
   ]
  },
  {
   "cell_type": "code",
   "execution_count": null,
   "metadata": {},
   "outputs": [],
   "source": [
    "#field.to_file('field_full_with_fc_%s.shp'%''.join(sensor_name.split()))"
   ]
  },
  {
   "cell_type": "code",
   "execution_count": null,
   "metadata": {},
   "outputs": [],
   "source": [
    "#field = gpd.read_file('field_full_with_fc_%s.shp'%''.join(sensor_name.split()))"
   ]
  },
  {
   "cell_type": "markdown",
   "metadata": {
    "tags": []
   },
   "source": [
    "###  `field` is a massive geodataframe full of results which we can write to a shapefile to preserve our results\n",
    "Within this GeoDataFrame, the columns `bs, pv, npv, pv_std, npv_std, bs_std, ue, ue_std` are calculated from surface reflectance time- matching our field data observations. \n",
    "\n",
    "The columns `total_pv, total_npc, total_bs` are calculated from the field-measured fractions."
   ]
  },
  {
   "cell_type": "code",
   "execution_count": null,
   "metadata": {
    "tags": []
   },
   "outputs": [],
   "source": [
    "pd.set_option('display.max_columns', None)"
   ]
  },
  {
   "cell_type": "code",
   "execution_count": null,
   "metadata": {},
   "outputs": [],
   "source": [
    "field.head()"
   ]
  },
  {
   "cell_type": "code",
   "execution_count": null,
   "metadata": {},
   "outputs": [],
   "source": [
    "# def bs_fn(bs):\n",
    "#     '''takes bare soil result and scales and adds value. coefficients from: https://github.com/GeoscienceAustralia/fc/pull/48/files''' \n",
    "#     bs = (bs * 0.9499) + 2.45\n",
    "#     return bs\n",
    "\n",
    "# def pv_fn(pv):\n",
    "#     '''takes pv result and scales and adds value. coefficients from: https://github.com/GeoscienceAustralia/fc/pull/48/files''' \n",
    "#     pv = (pv * 0.9481) + 2.77\n",
    "#     return pv\n",
    "\n",
    "# def npv_fn(npv):\n",
    "#     '''takes npv result and scales and adds value. coefficients from: https://github.com/GeoscienceAustralia/fc/pull/48/files'''\n",
    "#     npv = (npv * 0.9578) - 0.73\n",
    "#     return npv"
   ]
  },
  {
   "cell_type": "code",
   "execution_count": null,
   "metadata": {},
   "outputs": [],
   "source": [
    "# #check with Emma that this is reasonable\n",
    "# bs_fn(0)"
   ]
  },
  {
   "cell_type": "code",
   "execution_count": null,
   "metadata": {},
   "outputs": [],
   "source": [
    "# #Create columns in the results 'field' table to calculate the transformed, new FC results\n",
    "\n",
    "# field['new_pv'] = field['pv'].apply(pv_fn)\n",
    "# field['new_npv'] = field['npv'].apply(npv_fn)\n",
    "# field['new_bs'] = field['bs'].apply(bs_fn)"
   ]
  },
  {
   "cell_type": "markdown",
   "metadata": {},
   "source": [
    "### Fix this section"
   ]
  },
  {
   "cell_type": "code",
   "execution_count": null,
   "metadata": {},
   "outputs": [],
   "source": [
    "# field.to_file('field_reprocessed_fc_%s.shp'%''.join(sensor_name.split()))\n",
    "# field = gpd.read_file('field_reprocessed_fc_%s.shp'%''.join(sensor_name.split()))"
   ]
  },
  {
   "cell_type": "code",
   "execution_count": null,
   "metadata": {},
   "outputs": [],
   "source": [
    "def validate(field_all, title=None):\n",
    "   # field = field_all[(field_all[['new_pv','new_npv','new_bs']]>=0.).all(axis=1)]\n",
    "    field = field_all[(field_all[['pv','npv','bs']]>=0.).all(axis=1)]\n",
    "    field = field[(field[['pv_std','npv_std','bs_std']]<=10.).all(axis=1)] #HAVENT CHANGED THIS YET #FIXME\n",
    "    field = field[field['ue'] <25]\n",
    "    print(\"# of validation points:\", len(field), '\\n')\n",
    "    \n",
    "    regr = linear_model.LinearRegression(fit_intercept=False)    \n",
    "\n",
    "    f = plt.figure(figsize=(12,12))\n",
    "    gs = gridspec.GridSpec(2,2)\n",
    "\n",
    "    xedges=yedges=list(np.arange(0,102,2))\n",
    "    X, Y = np.meshgrid(xedges, yedges)\n",
    "    cmname='YlGnBu'\n",
    "    if title: plt.suptitle(title)\n",
    "    \n",
    "    ax1 = plt.subplot(gs[0])\n",
    "    field.plot(markersize=1, ax= ax1, color='r')\n",
    "    ax1.set_xlabel('x')\n",
    "    ax1.set_ylabel('y')\n",
    "    ax1.set_title('Field Sites')\n",
    "    ax1.text(0.05, 0.05, \"%d points\"%len(field), transform=ax1.transAxes)\n",
    "    \n",
    "    rmses = []\n",
    "    for band_id, band in enumerate(['BS','PV','NPV']): #print results of regression fit\n",
    "        arr1 = field['total_%s'%band.lower()].values.ravel()*100.\n",
    "        arr2 = field[band.lower()].values.ravel()\n",
    "        regr.fit(arr1[:,np.newaxis], arr2[:,np.newaxis])\n",
    "        \n",
    "        print('Band:{0}, slope={1}, r2={2}'.format(band, regr.coef_[0][0],\n",
    "                                                regr.score(arr1[:,np.newaxis], arr2[:,np.newaxis])))\n",
    "        sr = spearmanr(arr1, arr2)[0]\n",
    "        print('Correlations:', 'pearsonr', pearsonr(arr1, arr2)[0], 'spearmanr', sr, 'kendalltau', kendalltau(arr1, arr2)[0])\n",
    "        rmse = np.sqrt(mean_squared_error(arr1, arr2))\n",
    "        print('RMSE:',rmse, '\\n',)\n",
    "        rmses.append(rmse)\n",
    "\n",
    "        ax1 = plt.subplot(gs[band_id+1])\n",
    "        ax1.scatter(arr1, arr2, s=3)\n",
    "        ax1.set_title(band)\n",
    "        \n",
    "        ax1.plot([0,100],[0,100])\n",
    "        ax1.plot(np.arange(0,100,10), regr.predict(np.arange(0,100,10)[:,np.newaxis]), ':')\n",
    "        ax1.text(5, 95, 'spearmanr = {0:.2f}'.format(sr))\n",
    "        ax1.text(5, 90, 'rmse = {0:.2f}'.format(rmse))\n",
    "        ax1.set_xlabel('Field Measured')\n",
    "        ax1.set_ylabel('%s FC'%sensor_name.upper())\n",
    "        ax1.set_xlim((0,100))\n",
    "        ax1.set_ylim((0,100))\n",
    "    \n",
    "    f.savefig('validate_reprocessed_%s.png'%''.join(sensor_name.split()))\n",
    "\n",
    "\n",
    "validate(field, title=sensor_name)\n"
   ]
  },
  {
   "cell_type": "code",
   "execution_count": null,
   "metadata": {},
   "outputs": [],
   "source": []
  }
 ],
 "metadata": {
  "kernelspec": {
   "display_name": "Python 3 (ipykernel)",
   "language": "python",
   "name": "python3"
  },
  "language_info": {
   "codemirror_mode": {
    "name": "ipython",
    "version": 3
   },
   "file_extension": ".py",
   "mimetype": "text/x-python",
   "name": "python",
   "nbconvert_exporter": "python",
   "pygments_lexer": "ipython3",
   "version": "3.8.10"
  },
  "widgets": {
   "application/vnd.jupyter.widget-state+json": {
    "state": {},
    "version_major": 2,
    "version_minor": 0
   }
  }
 },
 "nbformat": 4,
 "nbformat_minor": 4
}
