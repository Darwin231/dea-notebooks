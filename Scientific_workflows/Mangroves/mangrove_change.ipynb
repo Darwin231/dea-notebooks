{
 "cells": [
  {
   "cell_type": "code",
   "execution_count": 1,
   "id": "f0a87187-1eb8-4934-b008-3dea664b42b8",
   "metadata": {},
   "outputs": [],
   "source": [
    "import boto3\n",
    "import sys\n",
    "import numpy as np\n",
    "import time\n",
    "import os\n",
    "import subprocess\n",
    "import xarray as xr\n",
    "import rioxarray\n",
    "import dask.array as da\n",
    "from os import path\n",
    "import pandas as pd\n",
    "from datacube.utils.dask import start_local_dask\n",
    "from pathlib import Path\n",
    "from datacube.utils.cog import write_cog"
   ]
  },
  {
   "cell_type": "code",
   "execution_count": 2,
   "id": "d933909e-f1f7-437c-938a-d3f1d5fe2004",
   "metadata": {},
   "outputs": [],
   "source": [
    "def categorize_damage(bc_canopy, ac_canopy):\n",
    "    \"\"\"\n",
    "    The function to categorize the change\n",
    "    inputs:\n",
    "        bc_canopy: the canopy class of previous year\n",
    "        ac_canopy: the canopy class of current year\n",
    "    output:\n",
    "        an xarray of canopy change\n",
    "    \"\"\"\n",
    "    nodata = int(bc_canopy.attrs.get('_FillValue'))\n",
    "    reduction = bc_canopy.copy(deep=True, data=da.zeros(bc_canopy.data.shape, dtype='uint8'))\n",
    "    reduction.attrs.pop('_FillValue')\n",
    "    reduction.attrs['nodata'] = 0\n",
    "    reduction.data = da.where(bc_canopy.values == ac_canopy.values, 101, reduction.data)\n",
    "    reduction.data = da.where((bc_canopy.values >= 2) & (ac_canopy.values == nodata), 105, reduction.data)\n",
    "    reduction.data = da.where((bc_canopy.values == 1) & (ac_canopy.values == nodata), 104, reduction.data)\n",
    "    reduction.data = da.where((bc_canopy.values == 3) & (ac_canopy.values == 1), 103, reduction.data)\n",
    "    reduction.data = da.where((bc_canopy.values == 3) & (ac_canopy.values == 2), 102, reduction.data)\n",
    "    reduction.data = da.where((bc_canopy.values == 2) & (ac_canopy.values == 1), 102, reduction.data)\n",
    "    reduction.data = da.where((bc_canopy.values == nodata) & (ac_canopy.values >= 1), 201, reduction.data)\n",
    "    reduction.data = da.where((bc_canopy.values == 1) & (ac_canopy.values == 2), 202, reduction.data)\n",
    "    reduction.data = da.where((bc_canopy.values == 2) & (ac_canopy.values == 3), 202, reduction.data)\n",
    "    reduction.data = da.where((bc_canopy.values == 1) & (ac_canopy.values == 3), 203, reduction.data)\n",
    "    reduction.data = da.where((bc_canopy.values == nodata) & (ac_canopy.values == nodata), 0, reduction.data)\n",
    "    reduction.data = da.where((bc_canopy.values == 0) | (ac_canopy.values == 0), 0, reduction.data)\n",
    "\n",
    "    return reduction"
   ]
  },
  {
   "cell_type": "code",
   "execution_count": 3,
   "id": "805488a9-d58a-4d4d-8538-3d027beb7e04",
   "metadata": {},
   "outputs": [],
   "source": [
    "# bucket and prefix is where the C3 mangroves sit currently\n",
    "bucket = \"dea-public-data-dev\"\n",
    "prefix = \"derivative/ga_ls_mangrove_cover_cyear_3/2-0-2/\"\n",
    "# profile_name is the aws credential name, change it accordingly\n",
    "session = boto3.Session(profile_name='dev')\n",
    "s3_client = session.client(\"s3\")\n",
    "paginator = s3_client.get_paginator('list_objects')"
   ]
  },
  {
   "cell_type": "code",
   "execution_count": 4,
   "id": "dfa5dd6d-0166-440f-8626-feafcd27affd",
   "metadata": {},
   "outputs": [
    {
     "data": {
      "text/html": [
       "<table style=\"border: 2px solid white;\">\n",
       "<tr>\n",
       "<td style=\"vertical-align: top; border: 0px solid white\">\n",
       "<h3 style=\"text-align: left;\">Client</h3>\n",
       "<ul style=\"text-align: left; list-style: none; margin: 0; padding: 0;\">\n",
       "  <li><b>Scheduler: </b>tcp://127.0.0.1:34643</li>\n",
       "  <li><b>Dashboard: </b><a href='/user/emma.ai@ga.gov.au/proxy/8787/status' target='_blank'>/user/emma.ai@ga.gov.au/proxy/8787/status</a></li>\n",
       "</ul>\n",
       "</td>\n",
       "<td style=\"vertical-align: top; border: 0px solid white\">\n",
       "<h3 style=\"text-align: left;\">Cluster</h3>\n",
       "<ul style=\"text-align: left; list-style:none; margin: 0; padding: 0;\">\n",
       "  <li><b>Workers: </b>1</li>\n",
       "  <li><b>Cores: </b>8</li>\n",
       "  <li><b>Memory: </b>62.00 GB</li>\n",
       "</ul>\n",
       "</td>\n",
       "</tr>\n",
       "</table>"
      ],
      "text/plain": [
       "<Client: 'tcp://127.0.0.1:34643' processes=1 threads=8, memory=62.00 GB>"
      ]
     },
     "execution_count": 4,
     "metadata": {},
     "output_type": "execute_result"
    }
   ],
   "source": [
    "# spin up a dask cluster, change the thread and memory accordingly\n",
    "client = start_local_dask(n_workers=1, threads_per_worker=8, memory_limit='62GB')\n",
    "client"
   ]
  },
  {
   "cell_type": "code",
   "execution_count": null,
   "id": "393c5c82-5f09-4a3a-ace5-a034676b6ad2",
   "metadata": {
    "tags": []
   },
   "outputs": [],
   "source": [
    "# grid_list.csv contains a list of grids where the mangroves exist\n",
    "grid_list = pd.read_csv(\"grid_list.csv\", header=None, dtype=\"str\")\n",
    "for row in grid_list.iterrows():\n",
    "    # iterate over all the grids\n",
    "    print(row)\n",
    "    bc_canopy = None\n",
    "    for year in range(1987, 2022):\n",
    "        # iterate over all the years\n",
    "        print(year)\n",
    "        # make up the prefix/path of mangroves imagery sitting in s3\n",
    "        ac_prefix = prefix+\"/\".join([\"x\"+row[1][0], \"y\"+row[1][1], str(year)+\"--P1Y\"])\n",
    "        page_iterator = paginator.paginate(Bucket=bucket, Prefix=ac_prefix)\n",
    "        # filter the objects and get only .tif file (omit all the files of metadata)\n",
    "        filtered_iterator = page_iterator.search(\"Contents[?contains(Key, '.tif') == `true`].Key\")\n",
    "        for o in filtered_iterator:\n",
    "            print(o)\n",
    "            # read in the data as dask array\n",
    "            ac_canopy = rioxarray.open_rasterio(\"s3://\"+\"/\".join([bucket, o]), chunks={\"x\": -1, \"y\": -1})\n",
    "        if bc_canopy is not None:\n",
    "            # compute the change\n",
    "            canopy_change = categorize_damage(bc_canopy, ac_canopy)\n",
    "            # save the data locally as geotiff\n",
    "            file_name = \"ga_ls_mangrove_change_cyear_3_\" + \"_\".join([ \"x\" + row[1][0]+\"y\" + row[1][1], str(year-1), str(year)]) + \".tif\" \n",
    "            write_cog(canopy_change.compute(), file_name)\n",
    "            # upload the local file to s3 bucket\n",
    "            key = \"test/mangroves_change_0_2/\" + \"/\".join([\"x\" + row[1][0], \"y\" + row[1][1], file_name])\n",
    "            response = s3_client.upload_file(file_name, bucket, key)\n",
    "            print(file_name)\n",
    "            # remove the local file (too many files will use up the quota of sandbox)\n",
    "            os.remove(file_name)\n",
    "        bc_canopy = ac_canopy"
   ]
  }
 ],
 "metadata": {
  "kernelspec": {
   "display_name": "Python 3 (ipykernel)",
   "language": "python",
   "name": "python3"
  },
  "language_info": {
   "codemirror_mode": {
    "name": "ipython",
    "version": 3
   },
   "file_extension": ".py",
   "mimetype": "text/x-python",
   "name": "python",
   "nbconvert_exporter": "python",
   "pygments_lexer": "ipython3",
   "version": "3.8.10"
  }
 },
 "nbformat": 4,
 "nbformat_minor": 5
}
